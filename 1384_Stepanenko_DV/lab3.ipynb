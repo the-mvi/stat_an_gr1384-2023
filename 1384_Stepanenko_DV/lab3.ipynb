{
  "nbformat": 4,
  "nbformat_minor": 0,
  "metadata": {
    "colab": {
      "provenance": [],
      "toc_visible": true
    },
    "kernelspec": {
      "name": "python3",
      "display_name": "Python 3"
    },
    "language_info": {
      "name": "python"
    }
  },
  "cells": [
    {
      "cell_type": "markdown",
      "source": [
        "# Лабораторная работа №3: Регрессионный анализ\n",
        "Выполнил студент гр. 1384 Степаненко Денис. Вариант №16"
      ],
      "metadata": {
        "id": "GbPh8KDyxDfp"
      }
    },
    {
      "cell_type": "markdown",
      "source": [
        "## Цель работы\n",
        "Ознакомление с основными положениями метода наименьших квадратов (МНК), со статистическими свойствами МНК-оценок, с понятием функции регрессии и роли МНК в регрессионном анализе."
      ],
      "metadata": {
        "id": "-yT8gF4GxGVv"
      }
    },
    {
      "cell_type": "markdown",
      "source": [
        "## Основные теоретические положения\n",
        "\n",
        "**Наблюдение:** $(Y,Z)$\n",
        "\n",
        "**Регрессионная модель:**  $\\mathbb{E}(Y|Z)=f_\\theta(Z)$\n",
        "\n",
        "**Линейная регрессионная модель:** $\\mathbb{E}(Y|Z)=X(Z)^\\top\\beta$, где\n",
        "X - матрица регрессоров (предикторов)\n",
        "Y - отклик модели\n",
        "\n",
        "**Альтернативная форма записи:** $Y = X^\\intercal\\beta+\\epsilon,\\quad \\mathbb{E_\\theta}\\epsilon=0,\\quad Var_\\theta \\epsilon=\\sigma^2E$\n",
        "\n",
        "**МНК:** $RSS(\\beta)=\\left\\| Y-X^\\intercal\\beta \\right\\|^2=(Y-X^\\intercal\\beta)^\\intercal(Y-X^\\intercal\\beta)=\\sum_{i=1}^{n}\\epsilon_i^2\\longrightarrow min_\\beta$\n",
        "\n",
        "**Несмещенная оценка дисперсии $S^2$:** $$S^2=\\frac{SSe}{n-r}=\\frac{RSS(\\widehat{\\beta})}{n-r},$$\n",
        "\n",
        "где $n$ - это количесвто наблюдений, $r$ - размерность $X$.\n",
        "\n",
        "**ДНО функция:** $\\psi=C^\\intercal\\beta$\n",
        "\n",
        "**МНК-оценка:** $\\widehat{\\psi} = \\sum_{i=1}^{m}C_j\\widehat{\\beta}_j$\n",
        "\n",
        "**Элемент дисперсии оценки:** $b_\\psi=C^\\intercal(XX^\\intercal)^{-1}C=\\sum_{ij}^{}C_iC_jr_{ij}$\n",
        "\n",
        "**Распределение:** $ \\cfrac{\\widehat\\psi-\\psi}{s\\sqrt{b}}\\sim S_{n-r} $\n",
        "\n",
        "**Доверительный интервал уровня доверия $1-\\alpha$:** $$\\left[\\widehat\\psi-x_{\\alpha}S\\sqrt{b}; \\widehat\\psi+x_{\\alpha}S\\sqrt{b}\\right]\\ni\\psi,$$ где $x_\\alpha:S_{n-r}(x_\\alpha)=1-\\frac{\\alpha}{2}$\n",
        "\n",
        "**Доверительный эллипсоид доверия 1 - $\\alpha:$** $ A_\\alpha = \\{X:(X-\\widehat\\psi)^\\intercal B^{-1}(X-\\widehat\\psi)\\le qS^2x_\\alpha\\},$ где $ x_\\alpha = F_{q, n-r}(x_\\alpha) = 1 - \\alpha, B=\\frac{\\Gamma_{\\widehat{\\psi}}}{\\sigma^2}$\n",
        "\n",
        "**$\\mathbb{F}$-статистика:** $\\mathbb{F}=\\frac{SS_H/q}{SS_e/(n-r)},$ где $SS_H = RSS(\\widehat{\\beta}_n)$, $SS_e = RSS(\\widehat{\\beta})=S^2(n-r)$\n"
      ],
      "metadata": {
        "id": "yvxO0bIexIr5"
      }
    },
    {
      "cell_type": "markdown",
      "source": [
        "## Постановка задачи\n",
        "Результаты статистического эксперимента представлены в виде двух переменных. Требуется оценить характер (случайной) зависимости переменной Y\n",
        " от переменной X\n",
        ". Полученные результаты содержательно проинтерпретировать."
      ],
      "metadata": {
        "id": "nBsMx-rgxMGZ"
      }
    },
    {
      "cell_type": "markdown",
      "source": [
        "## Выполнение работы\n",
        "### Построим графические результаты эскперимента. Построим МНК оценки параметра сдвига $\\beta_1$ и масштаба $\\beta_2$. Построим полученную линию регессии. Оценим визально соответсвие полученных данны и построенной оценки.\n",
        "\n",
        "Таблица:\n",
        "\n",
        "|No| 1 | 2 | 3 | 4 | 5 | 6 | 7 | 8 | 9 | 10 | 11 | 12 | 13 | 14 | 15 | 16 | 17 |\n",
        "|--|:-:|:-:|:-:|:-:|:-:|:-:|:-:|:-:|:-:|:--:|:--:|:--:|:--:|:--:|:--:|:--:|:--:|\n",
        "|Y |1.22| 9.75| 18.27| 6.93| 15.00| 19.89| 7.29| 18.49| 19.20| 16.15| 12.97| 14.79| 4.47| 25.33| 14.28| 14.73| 5.29|\n",
        "|X| 0 | 1 | 3 | 1 | 0 | 2 | 2 | 3 | 2 | 3 | 2 | 1 | 1 | 2 | 1 | 0 | 2 |\n",
        "\n",
        "\n",
        "|No | 18 | 19 | 20 | 21 | 22 | 23 | 24 | 25 | 26 | 27 | 28 | 29 | 30 | 31 | 32 | 33 | 34 |\n",
        "|:--:|:--:|:--:|:--:|:--:|:--:|:--:|:--:|:--:|:--:|:--:|:--:|:--:|:--:|:--:|:--:|:--:|:--:|\n",
        "| Y |13.06| 15.85| 8.28| 16.46| 10.88| 4.11| 14.31| 12.09| 12.35| 10.11| 9.99| 9.82| 5.63| 13.68| 1.22| 15.96| 10.41|\n",
        "|X| 2| 3| 2| 3| 0| 2| 2| 0| 3| 0| 3| 0| 0| 2| 0| 3| 3|\n",
        "\n",
        "|No | 35 | 36 | 37 | 38 | 39 | 40 | 41 | 42 | 43 | 44 | 45 | 46 | 47 | 48 | 49 | 50 |\n",
        "|:--:|:--:|:--:|:--:|:--:|:--:|:--:|:--:|:--:|:--:|:--:|:--:|:--:|:--:|:--:|:--:|:--:|\n",
        "|Y| 18.49| 19.12| 14.18| 14.74| 9.66| 3.16| 15.76| 1.29| 7.00| 25.81| 18.08| 15.20| 9.86| 22.06| 23.44| 8.41|\n",
        "|X| 0| 1| 0| 2| 2| 3| 0| 2| 2| 3| 1| 2| 0| 3| 3| 1|\n",
        "\n",
        "\n",
        "  Сформулируем линейную регрессионную модель переменной Y по переменной X.\n",
        "\n",
        "$Y\\approx \\beta_0 + \\beta_1X$\n",
        "\n",
        "$X = \\begin{pmatrix}1 & X_1 \\\\ 1 & X_2 \\\\ ... & ... \\\\ 1 & X_n\\end{pmatrix}^\\intercal$\n",
        "\n",
        "$Y = \\begin{pmatrix}\\beta_0 + \\beta_1X_1 + \\epsilon_1 \\\\ \\beta_0 + \\beta_1X_2 + \\epsilon_2  \\\\ ... \\\\ \\beta_0 + \\beta_1X_n + \\epsilon_n \\end{pmatrix}$\n",
        "\n",
        "$XX^\\intercal \\beta=XY$\n",
        "\n",
        "$\\widehat\\beta=(XX^\\intercal)^{-1}XY$\n",
        "\n",
        "$\\widehat\\beta\\approx(10.202, 1.575)^\\intercal$"
      ],
      "metadata": {
        "id": "on33s-Q8xOhm"
      }
    },
    {
      "cell_type": "code",
      "source": [
        "#графическое представление результатов эксперимента\n",
        "import numpy as np\n",
        "import matplotlib.pyplot as plt\n",
        "\n",
        "latitudes = np.array([0, 1, 3, 1, 0, 2, 2, 3, 2, 3, 2, 1, 1, 2, 1, 0, 2, 2,\n",
        "                         3, 2, 3, 0, 2, 2, 0, 3, 0, 3, 0, 0, 2, 0, 3, 3, 0, 1,\n",
        "                         0, 2, 2, 3, 0, 2, 2, 3, 1, 2, 0, 3, 3, 1])\n",
        "\n",
        "longitudes = np.array([1.22, 9.75, 18.27, 6.93, 15.00, 19.89, 7.29, 18.49,\n",
        "                          19.20, 16.15, 12.97, 14.79, 4.47, 25.33, 14.28, 14.73,\n",
        "                          5.29, 13.06, 15.85, 8.28, 16.46, 10.88, 4.11, 14.31,\n",
        "                          12.09, 12.35, 10.11, 9.99, 9.82, 5.63, 13.68, 1.22,\n",
        "                          15.96, 10.41, 18.49, 19.12, 14.18, 14.74, 9.66, 3.16,\n",
        "                          15.76, 1.29, 7.00, 25.81, 18.08, 15.20, 9.86, 22.06,\n",
        "                          23.44, 8.41])\n",
        "\n",
        "# Plot the latitude and longitude data on a graph\n",
        "plt.plot(latitudes, longitudes, 'bo')\n",
        "plt.title('Графическое представление результатов эксперимента')\n",
        "plt.xlabel('X')\n",
        "plt.ylabel('Y')\n",
        "plt.grid(True)\n",
        "plt.show()"
      ],
      "metadata": {
        "colab": {
          "base_uri": "https://localhost:8080/",
          "height": 472
        },
        "id": "oLP70aTsw96e",
        "outputId": "ccb326ef-1bd1-4b6e-fe4a-553bb4c9843b"
      },
      "execution_count": null,
      "outputs": [
        {
          "output_type": "display_data",
          "data": {
            "text/plain": [
              "<Figure size 640x480 with 1 Axes>"
            ],
            "image/png": "[encoded data removed]"
          },
          "metadata": {}
        }
      ]
    },
    {
      "cell_type": "code",
      "source": [
        "from numpy.linalg import inv\n",
        "\n",
        "#нахождение оценки параметров бета\n",
        "\n",
        "# X = np.array([[1, 1, 1, 1, 1],\n",
        "#               [1, 2, 3, 5, 6]])\n",
        "# Y = np.array([-1.98, -0.03, 1.96, 5.99, 7.99])\n",
        "\n",
        "X = np.array([[1, 1, 1, 1, 1, 1, 1, 1, 1, 1,\n",
        "               1, 1, 1, 1, 1, 1, 1, 1, 1, 1,\n",
        "               1, 1, 1, 1, 1, 1, 1, 1, 1, 1,\n",
        "               1, 1, 1, 1, 1, 1, 1, 1, 1, 1,\n",
        "               1, 1, 1, 1, 1, 1, 1, 1, 1, 1],\n",
        "              [0, 1, 3, 1, 0, 2, 2, 3, 2, 3,\n",
        "               2, 1, 1, 2, 1, 0, 2, 2, 3, 2,\n",
        "               3, 0, 2, 2, 0, 3, 0, 3, 0, 0,\n",
        "               2, 0, 3, 3, 0, 1, 0, 2, 2, 3,\n",
        "               0, 2, 2, 3, 1, 2, 0, 3, 3, 1]])\n",
        "Y = np.array([1.22, 9.75, 18.27, 6.93, 15.00, 19.89, 7.29, 18.49,\n",
        "              19.20, 16.15, 12.97, 14.79, 4.47, 25.33, 14.28, 14.73,\n",
        "              5.29, 13.06, 15.85, 8.28, 16.46, 10.88, 4.11, 14.31,\n",
        "              12.09, 12.35, 10.11, 9.99, 9.82, 5.63, 13.68, 1.22,\n",
        "              15.96, 10.41, 18.49, 19.12, 14.18, 14.74, 9.66, 3.16,\n",
        "              15.76, 1.29, 7.00, 25.81, 18.08, 15.20, 9.86, 22.06,\n",
        "              23.44, 8.41])\n",
        "\n",
        "X_t = np.transpose(X)\n",
        "\n",
        "XX_t = np.dot(X, X_t)\n",
        "\n",
        "XX_t_inv = inv(XX_t)\n",
        "\n",
        "XX_t_invX = np.dot(XX_t_inv,X)\n",
        "\n",
        "B_hat = np.dot(XX_t_invX,Y)\n",
        "\n",
        "#нахождение несмещенной оценки дисперсии\n",
        "n = X.shape[1]\n",
        "r = B_hat.shape[0]\n",
        "RSS = np.sum((Y - (B_hat[0] + np.dot(B_hat[1], X[1])))**2)\n",
        "S_2 = RSS/(n-r)\n",
        "\n",
        "#вывод результатов\n",
        "# print(\"X_t: \", X_t)\n",
        "# print(\"XX_t: \", XX_t)\n",
        "# print(\"XX_t_inv: \", XX_t_inv)\n",
        "# print(\"XX_t_invX: \", XX_t_invX)\n",
        "print(\"B_hat: \", np.round(B_hat, decimals=3))\n",
        "\n",
        "# print(\"n: \", n)\n",
        "# print(\"r: \", r)\n",
        "# print(\"RSS: \", RSS)\n",
        "print(\"S^2: \", round(S_2,3))\n"
      ],
      "metadata": {
        "colab": {
          "base_uri": "https://localhost:8080/"
        },
        "id": "91L1AZ_vERn8",
        "outputId": "1de611bc-46d8-412b-ed2a-a8cd3a6bee6a"
      },
      "execution_count": null,
      "outputs": [
        {
          "output_type": "stream",
          "name": "stdout",
          "text": [
            "B_hat:  [10.202  1.575]\n",
            "S^2:  34.322\n"
          ]
        }
      ]
    },
    {
      "cell_type": "code",
      "source": [
        "#Потсроение линии регрессии\n",
        "import numpy as np\n",
        "import matplotlib.pyplot as plt\n",
        "\n",
        "latitudes1 = np.array([0, 1, 2, 3])\n",
        "\n",
        "longitudes1 = np.array(B_hat[0] + latitudes1*B_hat[1])\n",
        "\n",
        "# Plot the latitude and longitude data on a graph\n",
        "plt.plot(latitudes, longitudes, 'bo')\n",
        "plt.plot(latitudes1, longitudes1)\n",
        "plt.title('Линия регрессии')\n",
        "plt.xlabel('X')\n",
        "plt.ylabel('Y')\n",
        "plt.grid(True)\n",
        "plt.show()"
      ],
      "metadata": {
        "colab": {
          "base_uri": "https://localhost:8080/",
          "height": 472
        },
        "id": "wKf90wLbVSqv",
        "outputId": "41d1f457-26a6-466c-934e-110d8db055a7"
      },
      "execution_count": null,
      "outputs": [
        {
          "output_type": "display_data",
          "data": {
            "text/plain": [
              "<Figure size 640x480 with 1 Axes>"
            ],
            "image/png": "[encoded data removed]"
          },
          "metadata": {}
        }
      ]
    },
    {
      "cell_type": "markdown",
      "source": [
        "### **Пункт 2.**\n",
        "Построим и интерпретируем несмещенную оценку дисперсии:\n",
        "\n",
        "$S^2\\approx34.322$\n",
        "\n",
        "Получается, что максимальный разброс значений вокруг среднего значения выборки будет равен примерно 35.\n",
        "\n",
        "Найдем вектор невязок и построим по нему гистограмму с шагом $h=2.90$:"
      ],
      "metadata": {
        "id": "KYr_hKXpezZt"
      }
    },
    {
      "cell_type": "code",
      "source": [
        "#нахождение вектора невязок\n",
        "e = Y-np.dot(X_t, B_hat)\n",
        "print(\"Вектор невязок:\", e)\n",
        "\n",
        "\n",
        "# h = 2.9\n",
        "# interval =min(e)-h\n",
        "# while interval <= (max(e)+h):\n",
        "#   print(round(interval,3))\n",
        "#   interval += h\n",
        "\n",
        "\n",
        "#построение гистограммы\n",
        "h = 2.9\n",
        "intervals = np.arange(min(e)-h, max(e)+h, h)\n",
        "y, eges, _ = plt.hist(e, bins=intervals, edgecolor='black')\n",
        "plt.title('Гистограмма')\n",
        "plt.show()"
      ],
      "metadata": {
        "colab": {
          "base_uri": "https://localhost:8080/",
          "height": 635
        },
        "id": "njKrzVFffbrr",
        "outputId": "723bf675-fb49-46e1-8393-ad5b7e3f4101"
      },
      "execution_count": null,
      "outputs": [
        {
          "output_type": "stream",
          "name": "stdout",
          "text": [
            "Вектор невязок: [ -8.98177937  -2.02685572   3.34299159  -4.84685572   4.79822063\n",
            "   6.53806793  -6.06193207   3.56299159   5.84806793   1.22299159\n",
            "  -0.38193207   3.01314428  -7.30685572  11.97806793   2.50314428\n",
            "   4.52822063  -8.06193207  -0.29193207   0.92299159  -5.07193207\n",
            "   1.53299159   0.67822063  -9.24193207   0.95806793   1.88822063\n",
            "  -2.57700841  -0.09177937  -4.93700841  -0.38177937  -4.57177937\n",
            "   0.32806793  -8.98177937   1.03299159  -4.51700841   8.28822063\n",
            "   7.34314428   3.97822063   1.38806793  -3.69193207 -11.76700841\n",
            "   5.55822063 -12.06193207  -6.35193207  10.88299159   6.30314428\n",
            "   1.84806793  -0.34177937   7.13299159   8.51299159  -3.36685572]\n"
          ]
        },
        {
          "output_type": "display_data",
          "data": {
            "text/plain": [
              "<Figure size 640x480 with 1 Axes>"
            ],
            "image/png": "[encoded data removed]"
          },
          "metadata": {}
        }
      ]
    },
    {
      "cell_type": "markdown",
      "source": [
        "Теперь проверим гипотезу нормальности ошибок на уровне значимости $\\alpha=0.2$ по $\\chi^2$.\n",
        "\n",
        "Таблица частот\n",
        "\n",
        "|j                     | 0  | 1  |  2 |  3 |  4 |  5 |  6 |  7 |  8 |\n",
        "|----------------------|:--:|:--:|:--:|:--:|:--:|:--:|:--:|:--:|:--:|\n",
        "|$$\\nu_j (x =X_{(i)})$$|  3 |   5|   8| 2 |15   |   7|   6|   3|   1|\n",
        "\n",
        "Таблица интервалов\n",
        "\n",
        "|j        | 0    | 1   |  2  |  3  |  4  |  5  |  6  |  7  |  8  |$\\sum$|\n",
        "|:-------:|:----:|:---:|:---:|:---:|:---:|:---:|:---:|:---:|:---:|:----:|\n",
        "|$I_j$   |(-∞;-9.162]|(-9.162;-6.262]|(-6.262;-3.362]|(-3.362;-0.462]|(-0.462;2.438]|(2.438;5.338]|(5.338;8.238]|(8.238;11.138]|(11.138;+∞]|(-∞;+∞)|\n",
        "|$p_{i0}$ |0.055|0.082|0.141| 0.189|0.197|0.159 |0.101|0.049|0.026|  1    |\n",
        "|$np_{i0}$|2.75 |4.1  |7.05  |9.45  | 9.85| 7.95 | 5.05 | 2.45 | 1.3|  50   |\n",
        "\n",
        "$X^2=\\sum_{i=1}^{r}\\frac{(\\nu_i-np_{i0})^2}{np_{i0}} = 9.399$"
      ],
      "metadata": {
        "id": "D6_oE-WwidvE"
      }
    },
    {
      "cell_type": "code",
      "source": [
        "import numpy as np\n",
        "from scipy.stats import norm\n",
        "\n",
        "alpha = 0.2\n",
        "norm = norm(e.mean(), e.std())\n",
        "\n",
        "p_0 = round(norm.cdf(-9.162),3)\n",
        "p_1 = round(norm.cdf(-6.262) - norm.cdf(-9.162),3)\n",
        "p_2 = round(norm.cdf(-3.362) - norm.cdf(-6.262),3)\n",
        "p_3 = round(norm.cdf(-0.462) - norm.cdf(-3.362),3)\n",
        "p_4 = round(norm.cdf(2.438) - norm.cdf(-0.462),3)\n",
        "p_5 = round(norm.cdf(5.338) - norm.cdf(2.438),3)\n",
        "p_6 = round(norm.cdf(8.238) - norm.cdf(5.338),3)\n",
        "p_7 = round(norm.cdf(11.138) - norm.cdf(8.238),3)\n",
        "p_8 = round(1 - norm.cdf(11.138),3)\n",
        "\n",
        "probabilities = np.array([p_0, p_1, p_2, p_3, p_4, p_5, p_6, p_7, p_8])\n",
        "\n",
        "for i in range(len(probabilities)):\n",
        "  print(f\"веротяности попадания в {i} интервал: {probabilities[i]}\")\n",
        "\n",
        "#расчет теоретических частот\n",
        "print(\"\\nОжидаемые частоты: \")\n",
        "for i in range(len(probabilities)):\n",
        "    probabilities[i] *= len(e)\n",
        "    print(f\"np_{i}: \", np.round(probabilities[i], decimals=3))\n",
        "\n",
        "frequencies_arr = np.array([3, 5, 8, 2, 15, 7, 6, 3, 1])\n",
        "\n",
        "#расчет статистики\n",
        "X2 = np.round(((frequencies_arr - probabilities) ** 2 / probabilities).sum(), decimals=3)\n",
        "print(\"\\nX2 =\", X2)"
      ],
      "metadata": {
        "colab": {
          "base_uri": "https://localhost:8080/"
        },
        "id": "uA8CY8itA1JR",
        "outputId": "6d7da41f-70fa-42b7-90c6-eb69e4a2b3ae"
      },
      "execution_count": null,
      "outputs": [
        {
          "output_type": "stream",
          "name": "stdout",
          "text": [
            "веротяности попадания в 0 интервал: 0.055\n",
            "веротяности попадания в 1 интервал: 0.082\n",
            "веротяности попадания в 2 интервал: 0.141\n",
            "веротяности попадания в 3 интервал: 0.189\n",
            "веротяности попадания в 4 интервал: 0.197\n",
            "веротяности попадания в 5 интервал: 0.159\n",
            "веротяности попадания в 6 интервал: 0.101\n",
            "веротяности попадания в 7 интервал: 0.049\n",
            "веротяности попадания в 8 интервал: 0.026\n",
            "\n",
            "Ожидаемые частоты: \n",
            "np_0:  2.75\n",
            "np_1:  4.1\n",
            "np_2:  7.05\n",
            "np_3:  9.45\n",
            "np_4:  9.85\n",
            "np_5:  7.95\n",
            "np_6:  5.05\n",
            "np_7:  2.45\n",
            "np_8:  1.3\n",
            "\n",
            "X2 = 9.399\n"
          ]
        }
      ]
    },
    {
      "cell_type": "code",
      "source": [
        "from scipy.stats import chi2\n",
        "\n",
        "alpha_1 = 0.2\n",
        "x_a1 = chi2.ppf(1-alpha_1, df=len(probabilities)-1-1)\n",
        "print(\"Квантиль:\", np.round(x_a1, decimals=3))\n",
        "\n",
        "def criteria(x_a, X2):\n",
        "  if(x_a>=X2):\n",
        "    return 0\n",
        "  else:\n",
        "    return 1\n",
        "\n",
        "phi = criteria(x_a1, X2)\n",
        "print('Критерий:', phi)"
      ],
      "metadata": {
        "colab": {
          "base_uri": "https://localhost:8080/"
        },
        "id": "Hq5NrVtoae8-",
        "outputId": "76345809-88d7-4e24-ff6a-f90351288edd"
      },
      "execution_count": null,
      "outputs": [
        {
          "output_type": "stream",
          "name": "stdout",
          "text": [
            "Квантиль: 9.803\n",
            "Критерий: 0\n"
          ]
        }
      ]
    },
    {
      "cell_type": "markdown",
      "source": [
        "Основную гипотезу о принадлежности нормальному распределению принимаем.\n",
        "Оценим расстояние полученной оценки до класса нормальных распределений по Колмагорову."
      ],
      "metadata": {
        "id": "yDJIgWnceGV6"
      }
    },
    {
      "cell_type": "code",
      "source": [
        "# проверка тестом Колмогорова:\n",
        "from scipy.stats import kstest\n",
        "print(kstest(e, 'norm', args=(e.mean(), e.std())))\n",
        "\n",
        "es = np.sort(e)\n",
        "\n",
        "#по формулам:\n",
        "from scipy.stats import norm\n",
        "\n",
        "# выборочная функция распределения\n",
        "def F(x, sample):\n",
        "  sample = np.sort(sample)\n",
        "  sum = 0\n",
        "  for i in sample:\n",
        "      if i < x:\n",
        "        sum += 1\n",
        "  return sum / len(sample)\n",
        "\n",
        "# непрерывная функция распределения (массив)\n",
        "F_0 = norm.cdf(es, e.mean(), e.std())\n",
        "F_n = np.array([F(i, es) for i in es])\n",
        "diff = np.abs(F_n - F_0)\n",
        "# супремум разностей\n",
        "D_n = np.max(diff)\n",
        "print(\"Статистика D_n =\", np.round(D_n, decimals=3))\n"
      ],
      "metadata": {
        "colab": {
          "base_uri": "https://localhost:8080/"
        },
        "id": "1K6T51DfkbSI",
        "outputId": "7b3f435f-d7e2-4e11-80ba-c8ce867be39d"
      },
      "execution_count": null,
      "outputs": [
        {
          "output_type": "stream",
          "name": "stdout",
          "text": [
            "KstestResult(statistic=0.11347527668000351, pvalue=0.5043348663735244, statistic_location=-0.38193206606419317, statistic_sign=-1)\n",
            "Статистика D_n = 0.113\n"
          ]
        }
      ]
    },
    {
      "cell_type": "code",
      "source": [
        "# Найдем x_a2:\n",
        "from scipy.stats import kstwobign\n",
        "\n",
        "x_a2 = kstwobign.ppf(0.95)\n",
        "print(\"Квантиль x_a2:\", round(x_a2,3))\n",
        "\n",
        "def criteria(x_a, X2):\n",
        "  if(x_a>=X2):\n",
        "    return 0\n",
        "  else:\n",
        "    return 1\n",
        "\n",
        "phi = criteria(x_a2, D_n*np.sqrt(len(e)))\n",
        "print('Критерий:', phi)"
      ],
      "metadata": {
        "colab": {
          "base_uri": "https://localhost:8080/"
        },
        "id": "JkiCFzSso0ic",
        "outputId": "637968f4-7e29-4e87-9730-a68fb9b6ad57"
      },
      "execution_count": null,
      "outputs": [
        {
          "output_type": "stream",
          "name": "stdout",
          "text": [
            "Квантиль x_a2: 1.358\n",
            "Критерий: 0\n"
          ]
        }
      ]
    },
    {
      "cell_type": "markdown",
      "source": [
        "Так как значение критерия равно 0, то принимаем основную гипотезу."
      ],
      "metadata": {
        "id": "TjiTtwBJo1Ms"
      }
    },
    {
      "cell_type": "code",
      "source": [
        "print(\"Наибольшее значение уровня значимости a_2 для принятия основной гипотезы:\", 1 - kstwobign.cdf(np.sqrt(len(e)) * D_n))"
      ],
      "metadata": {
        "colab": {
          "base_uri": "https://localhost:8080/"
        },
        "id": "TW4yk44No3rr",
        "outputId": "59bf73c6-84e8-49c3-8781-58bef5cce7a0"
      },
      "execution_count": null,
      "outputs": [
        {
          "output_type": "stream",
          "name": "stdout",
          "text": [
            "Наибольшее значение уровня значимости a_2 для принятия основной гипотезы: 0.5402565445845446\n"
          ]
        }
      ]
    },
    {
      "cell_type": "markdown",
      "source": [
        "Визуально оценим соответсвие эмпирической выборочной функции нормальному распределению."
      ],
      "metadata": {
        "id": "_OJvn6P0pM4f"
      }
    },
    {
      "cell_type": "code",
      "source": [
        "plt.title('Графики выборочной и непрерывной функций распределения')\n",
        "plt.plot(es, F_0)\n",
        "# plt.plot(es, F_n)\n",
        "\n",
        "from statsmodels.distributions.empirical_distribution import ECDF\n",
        "ecdf = ECDF(es)\n",
        "plt.step(ecdf.x, ecdf.y)\n",
        "\n",
        "\n",
        "plt.show()"
      ],
      "metadata": {
        "colab": {
          "base_uri": "https://localhost:8080/",
          "height": 452
        },
        "id": "rVYK-GwFpgBK",
        "outputId": "b9de7c18-4d41-45d6-ef8c-22ee14223a27"
      },
      "execution_count": null,
      "outputs": [
        {
          "output_type": "display_data",
          "data": {
            "text/plain": [
              "<Figure size 640x480 with 1 Axes>"
            ],
            "image/png": "[encoded data removed]"
          },
          "metadata": {}
        }
      ]
    },
    {
      "cell_type": "markdown",
      "source": [
        "Визуально графики функция распределения ошибок близки друг другу."
      ],
      "metadata": {
        "id": "tiDf_8VvkX8F"
      }
    },
    {
      "cell_type": "markdown",
      "source": [
        "### **Пункт 3.**\n",
        "В предположении нормальности ошибок построим доверительные интервалы для параметров $\\beta_0$ и $\\beta_1$ уровня доверия $1-\\alpha=0.8$\n",
        "\n",
        "$\\psi_{\\beta_0}=\\binom{1}{0}^\\intercal\\binom{\\beta_0}{\\beta_1}$\n",
        "\n",
        "$\\psi_{\\beta_1}=\\binom{0}{1}^\\intercal\\binom{\\beta_0}{\\beta_1}$\n",
        "\n",
        "$b_{\\psi_{\\beta_0}} = \\binom{1}{0}^\\intercal\\left( XX^\\intercal \\right)^{-1}\\binom{1}{0}\\approx0.059$\n",
        "\n",
        "$b_{\\psi_{\\beta_1}} = \\binom{0}{1}^\\intercal\\left( XX^\\intercal \\right)^{-1}\\binom{0}{1}\\approx0.016$\n"
      ],
      "metadata": {
        "id": "WrMHRGb5asS5"
      }
    },
    {
      "cell_type": "code",
      "source": [
        "C_0 = np.array([[1],[0]])\n",
        "C_1 = np.array([[0],[1]])\n",
        "b_psi_B_0 = float(np.dot(np.dot(np.transpose(C_0),XX_t_inv),C_0))\n",
        "b_psi_B_1 = float(np.dot(np.dot(np.transpose(C_1),XX_t_inv),C_1))\n",
        "print(\"Элемент дисперсии оценки для Beta_0:\", np.round(b_psi_B_0, decimals=3))\n",
        "print(\"Элемент дисперсии оценки для Beta_1:\", np.round(b_psi_B_1, decimals=3))\n",
        "# C_0.shape"
      ],
      "metadata": {
        "colab": {
          "base_uri": "https://localhost:8080/"
        },
        "id": "-L8BGdWhsv3Y",
        "outputId": "a8f278b0-2dc6-4056-8964-af90ac538d56"
      },
      "execution_count": null,
      "outputs": [
        {
          "output_type": "stream",
          "name": "stdout",
          "text": [
            "Элемент дисперсии оценки для Beta_0: 0.059\n",
            "Элемент дисперсии оценки для Beta_1: 0.016\n"
          ]
        }
      ]
    },
    {
      "cell_type": "markdown",
      "source": [
        "$\\frac{\\widehat{\\psi}_{\\beta_0}-\\psi}{S\\sqrt{b_{\\psi_{\\beta_0}}}}\\sim S_{n-r}$\n",
        "\n",
        "$\\frac{\\widehat{\\psi}_{\\beta_1}-\\psi}{S\\sqrt{b_{\\psi_{\\beta_1}}}}\\sim S_{n-r}$\n",
        "\n",
        "$\\alpha=0.2$\n",
        "\n",
        "$x_\\alpha: S_{n-r}(x_\\alpha)=1-\\frac{\\alpha}{2} = 0.9$\n",
        "\n",
        "$x_\\alpha \\approx 1.299$\n",
        "\n",
        "$\\left[\\widehat\\psi-x_{\\alpha}S\\sqrt{b}; \\widehat\\psi+x_{\\alpha}S\\sqrt{b}\\right]\\ni\\psi$\n",
        "\n",
        "$[8.354, 12.049]\\ni\\psi$\n",
        "\n",
        "$[0.625, 2.525]\\ni\\psi$"
      ],
      "metadata": {
        "id": "YF0polOhu66E"
      }
    },
    {
      "cell_type": "code",
      "source": [
        "from scipy.stats import t\n",
        "import numpy as np\n",
        "\n",
        "#найдем квантиль; исп ФР Стьюдента\n",
        "fx = 0.9\n",
        "func = t(n - C_0.shape[0])\n",
        "x_a = func.ppf(fx)\n",
        "print(\"Квантиль x_a:\", np.round(x_a, decimals=3))\n",
        "\n",
        "#расчет границ интервала\n",
        "left_bound_0 = B_hat[0] - x_a*np.sqrt(S_2)*np.sqrt(b_psi_B_0)\n",
        "right_bound_0 = B_hat[0] + x_a*np.sqrt(S_2)*np.sqrt(b_psi_B_0)\n",
        "\n",
        "left_bound_1 = B_hat[1] - x_a*np.sqrt(S_2)*np.sqrt(b_psi_B_1)\n",
        "right_bound_1 = B_hat[1] + x_a*np.sqrt(S_2)*np.sqrt(b_psi_B_1)\n",
        "\n",
        "print(\"Интервал для Beta_0: [\", np.round(left_bound_0, decimals=3), \";\", np.round(right_bound_0, decimals=3), \"]\")\n",
        "print(\"Интервал для Beta_1: [\", np.round(left_bound_1, decimals=3), \";\", np.round(right_bound_1, decimals=3), \"]\")"
      ],
      "metadata": {
        "colab": {
          "base_uri": "https://localhost:8080/"
        },
        "id": "lKUSqknXww-y",
        "outputId": "ab1cb685-3da3-4b80-fd8e-6ac9197ce236"
      },
      "execution_count": null,
      "outputs": [
        {
          "output_type": "stream",
          "name": "stdout",
          "text": [
            "Квантиль x_a: 1.3\n",
            "Интервал для Beta_0: [ 8.155 ; 12.249 ]\n",
            "Интервал для Beta_1: [ -1.507 ; 4.657 ]\n"
          ]
        }
      ]
    },
    {
      "cell_type": "markdown",
      "source": [
        "Построим доверительный эллипсоид доверия 1 - $\\alpha$.\n",
        "\n",
        "$ A_\\alpha = \\{X:(X-\\widehat\\psi)^\\intercal (C^\\intercal (XX^\\intercal)^{-1}C)^{-1}(X-\\widehat\\psi)\\le qS^2x_\\alpha\\},$\n",
        "\n",
        "где $ x_\\alpha = F_{q, n-r}(x_\\alpha) = 1 - \\alpha = 0.8$\n",
        "\n",
        "неравенство для построение доверительного эллипсоида:\n",
        "$\\cfrac{\\lambda_0}{qS^2x_\\alpha}x^2 + \\cfrac{\\lambda_1}{qS^2x_\\alpha}y^2 \\le 1$,\n",
        "\n",
        "где $\\lambda_0$ и $\\lambda_1$ - собственные числа матрицы $XX^T$\n",
        "\n",
        "Отсюда:\n",
        "\n",
        "$a =  \\sqrt{\\frac{S^2 q x_\\alpha}{\\lambda_0}} \\approx  2.829$ - меньшая полуось\n",
        "\n",
        "$b =  \\sqrt{\\frac{S^2 q x_\\alpha}{\\lambda_1}} \\approx 0.713$ - большая полуось\n",
        "\n",
        "Итоговое уравнение эллипса:\n",
        "$\\begin{pmatrix}\n",
        "   x\\\\\n",
        "   y\n",
        "\\end{pmatrix} =\n",
        "\\begin{pmatrix}\n",
        "  -0.911 && -0.412\\\\\n",
        "  0.412 &&-0.911\n",
        "\\end{pmatrix}\n",
        "\\begin{pmatrix}\n",
        "  10.202   - \\beta_0\\\\\n",
        "  1.575 - \\beta_1\n",
        "\\end{pmatrix} =\n",
        "\\begin{pmatrix}\n",
        "  -9,943 + 0.911\\beta_0 + 0.412\\beta_1\\\\\n",
        "  2.768 - 0.412\\beta_0 + 0.911\\beta_1\n",
        "\\end{pmatrix} $\n"
      ],
      "metadata": {
        "id": "VKqeceST10qQ"
      }
    },
    {
      "cell_type": "code",
      "source": [
        "# Найдем x_a2:\n",
        "from scipy.stats import f\n",
        "from scipy.stats import ncf\n",
        "import numpy as np\n",
        "from numpy.linalg import matrix_rank\n",
        "\n",
        "aipha = 0.2\n",
        "q = 2\n",
        "n = 50\n",
        "r = matrix_rank(X)\n",
        "x_a = f.ppf(1-alpha, q, n-r)\n",
        "print(\"Квантиль x_a:\", round(x_a,3))\n",
        "\n",
        "eigenvalues, eigenvectors = np.linalg.eig(XX_t)\n",
        "print(\"Собственные числа:\", np.round(eigenvalues,decimals = 3))\n",
        "print(\"Матрица перехда:\", np.round(eigenvectors,decimals = 3))\n",
        "# print(\"B_hat:\", beta)\n",
        "\n",
        "a = np.round(np.sqrt((q * S_2 * x_a) / eigenvalues[0]),decimals = 3)\n",
        "b = np.round(np.sqrt((q * S_2 * x_a) / eigenvalues[1]),decimals = 3)\n",
        "\n",
        "if(a<=b):\n",
        "  print(\"Большая полуось:\", b)\n",
        "  print(\"Малая полуось:\", a)\n",
        "else:\n",
        "  print(\"Большая полуось:\", a)\n",
        "  print(\"Малая полуось:\", b)\n",
        "\n",
        "def build_ellipse(beta0, beta1):\n",
        "#   9(θ₁-3.0553)²+6179.929(θ₁-3.0553)(θ₂-0.0577)+ 1062510.5325 (θ₂+0.0577)²=1,9951\n",
        "#   return (9*beta0 - 3.0553)**2 + 6179.929*(beta0-3.0553)*(beta1-0.0577)+ 1062510.5325 (beta1+0.0577)**2 =1,9951\n",
        "    return (( eigenvectors[0][0] * (B_hat[0] - beta0) - eigenvectors[0][1] * (B_hat[1] - beta1))**2 /\n",
        "            a**2) + ((eigenvectors[1][0] * (B_hat[0] - beta0) + eigenvectors[1][1] * (B_hat[1] - beta1))**2 / b**2)\n",
        "\n",
        "beta0, beta1 = np.meshgrid(np.linspace(0, 17, 300), np.linspace(-3, 7, 300))\n",
        "z = build_ellipse(beta0, beta1)\n",
        "\n",
        "fig = plt.figure(figsize=(5,5))\n",
        "plt.contour(beta0, beta1, z, levels=[1])\n",
        "plt.title('Доверительный эллипсоид')\n",
        "plt.grid()\n",
        "plt.show()"
      ],
      "metadata": {
        "colab": {
          "base_uri": "https://localhost:8080/",
          "height": 578
        },
        "id": "zcF2BuR26P_L",
        "outputId": "b1a4bf1d-03cc-4c25-cead-7246a8ca2ec4"
      },
      "execution_count": null,
      "outputs": [
        {
          "output_type": "stream",
          "name": "stdout",
          "text": [
            "Квантиль x_a: 1.665\n",
            "Собственные числа: [ 14.28 224.72]\n",
            "Матрица перехда: [[-0.911 -0.412]\n",
            " [ 0.412 -0.911]]\n",
            "Большая полуось: 2.829\n",
            "Малая полуось: 0.713\n"
          ]
        },
        {
          "output_type": "display_data",
          "data": {
            "text/plain": [
              "<Figure size 500x500 with 1 Axes>"
            ],
            "image/png": "[encoded data removed]"
          },
          "metadata": {}
        }
      ]
    },
    {
      "cell_type": "markdown",
      "source": [
        "### **Пункт 4.**\n",
        "Сформулируем гипотезу независимости переменной Y от переменной X.\n",
        "\n",
        "Хотим проверить, что $Y\\approx\\beta_0+\\beta_1X$\n",
        "\n",
        "$H_0: С^\\intercal \\beta=0$\n",
        "\n",
        "$H_1: С^\\intercal \\beta \\ne 0$\n",
        "\n",
        "Проведем проверку значимости.\n",
        "\n",
        "ДНО функция: $\\psi = C^\\intercal\\beta$\n",
        "\n",
        "НРМД оценка: $\\widehat{\\psi}=C^\\intercal\\widehat\\beta$\n",
        "\n",
        "$C=\\binom{0}{1}$\n",
        "\n",
        "<!-- $\\mathbb{F}=\\frac{SSh/q}{SSe/(n-r)},$ где $SSh = RSS(\\widehat{\\beta}_n)$, $SSe = RSS(\\widehat{\\beta})=S^2(n-r)$ -->\n",
        "\n",
        "$\\mathbb{F}=\\frac{\\widehat{\\psi}^\\intercal B^{-1}\\widehat{\\psi}}{qS^2}\\sim F_{q,n-r}, $\n",
        "\n",
        "$B = C^\\intercal(XX^\\intercal)^{-1}C$\n",
        "\n",
        "где $|B|>0, $ q - размерность паратметра $\\psi$\n",
        "\n",
        "$x_\\alpha = F_{q,n-r}^{-1}(1-\\alpha) \\approx 1.689$\n",
        "\n",
        "$\\mathbb{F} = 1.327$\n",
        "\n",
        "Критерий:\n",
        "\n",
        "$\\phi(x)=\\begin{cases}\n",
        "      0, \\mathbb{F}\\le x_\\alpha,\\\\\n",
        "      1, \\mathbb{F}\\gt x_\\alpha     \n",
        "\\end{cases}$\n",
        "\n",
        "Критерий равен 0, следовательно, принимаем основную гипотезу о независисмости.\n"
      ],
      "metadata": {
        "id": "OKy8qdFZAwDB"
      }
    },
    {
      "cell_type": "code",
      "source": [
        "from scipy.stats import f\n",
        "import numpy as np\n",
        "from numpy.linalg import matrix_rank\n",
        "\n",
        "alpha = 0.2\n",
        "q = 1 # dim psi\n",
        "r = matrix_rank(X) # rank X\n",
        "\n",
        "f = f(q, len(latitudes) - r)\n",
        "\n",
        "x_a = f.ppf(1 - alpha)\n",
        "print(\"Квантиль x_alpha:\", round(x_a,3))\n",
        "\n",
        "\n",
        "C = np.array([0, 1])\n",
        "psi = B_hat[1]\n",
        "B_inv = np.dot(np.dot(C.T, XX_t_inv), C)\n",
        "F = np.dot(np.dot(psi, B_inv), psi) / q * S_2\n",
        "print(f\"F:{round(F,3)}\")\n",
        "\n",
        "\n",
        "def criteria(x_a, F):\n",
        "  if(x_a>=F):\n",
        "    return 0\n",
        "  else:\n",
        "    return 1\n",
        "\n",
        "\n",
        "phi = criteria(x_a, F)\n",
        "print('Критерий:', phi)\n",
        "\n",
        "print(\"Наибольшее значение уровня значимости a_2 для принятия основной гипотезы:\", 1 - f.cdf(F))"
      ],
      "metadata": {
        "id": "iT96HF9ELmFP",
        "colab": {
          "base_uri": "https://localhost:8080/"
        },
        "outputId": "07f377dd-c242-4ab6-d391-40aab8987280"
      },
      "execution_count": null,
      "outputs": [
        {
          "output_type": "stream",
          "name": "stdout",
          "text": [
            "Квантиль x_alpha: 1.689\n",
            "F:1.327\n",
            "Критерий: 0\n",
            "Наибольшее значение уровня значимости a_2 для принятия основной гипотезы: 0.255092846321181\n"
          ]
        }
      ]
    },
    {
      "cell_type": "markdown",
      "source": [
        "###**Пункт 5.**\n",
        "\n",
        "Сформулируем модель, включающую дополнительный член с $X^2$. Построим МНК оценки параметров $\\beta_0, \\beta_1, \\beta_2$ в данной модели. Изобразим графически полученную регрессионную модель.\n",
        "\n",
        "$Y\\approx \\beta_0 + \\beta_1X + \\beta_2X^2$\n",
        "\n",
        "$X = \\begin{pmatrix}1 & X_1 & X_1^2\\\\ 1 & X_2 & X_2^2 \\\\ ... & ... & ... \\\\ 1 & X_n & X_n^2\\end{pmatrix}^\\intercal$\n",
        "\n",
        "$Y = \\begin{pmatrix}\\beta_0 + \\beta_1X_1 + \\beta_2X_1^2 + \\epsilon_1 \\\\ \\beta_0 + \\beta_1X_2 + \\beta_2X_2^2 + \\epsilon_2  \\\\ ... \\\\ \\beta_0 + \\beta_1X_n + \\beta_2X_n^2 + \\epsilon_n \\end{pmatrix}$\n",
        "\n",
        "$XX^\\intercal \\beta=XY$\n",
        "\n",
        "$\\widehat\\beta=(XX^\\intercal)^{-1}XY$\n",
        "\n",
        "$\\widehat\\beta\\approx(10.654,  0.067,  0.516)^\\intercal$"
      ],
      "metadata": {
        "id": "SxNycLuzWWwO"
      }
    },
    {
      "cell_type": "code",
      "source": [
        "from numpy.linalg import inv\n",
        "import numpy as np\n",
        "\n",
        "#нахождение оценки параметров бета\n",
        "\n",
        "# X = np.array([[1, 1, 1, 1, 1],\n",
        "#               [1, 2, 3, 5, 6]])\n",
        "# Y = np.array([-1.98, -0.03, 1.96, 5.99, 7.99])\n",
        "\n",
        "X = np.array([[1, 1, 1, 1, 1, 1, 1, 1, 1, 1,\n",
        "               1, 1, 1, 1, 1, 1, 1, 1, 1, 1,\n",
        "               1, 1, 1, 1, 1, 1, 1, 1, 1, 1,\n",
        "               1, 1, 1, 1, 1, 1, 1, 1, 1, 1,\n",
        "               1, 1, 1, 1, 1, 1, 1, 1, 1, 1],\n",
        "              [0, 1, 3, 1, 0, 2, 2, 3, 2, 3,\n",
        "               2, 1, 1, 2, 1, 0, 2, 2, 3, 2,\n",
        "               3, 0, 2, 2, 0, 3, 0, 3, 0, 0,\n",
        "               2, 0, 3, 3, 0, 1, 0, 2, 2, 3,\n",
        "               0, 2, 2, 3, 1, 2, 0, 3, 3, 1],\n",
        "              [0, 1, 9, 1, 0, 4, 4, 9, 2, 9,\n",
        "               4, 1, 1, 4, 1, 0, 4, 4, 9, 4,\n",
        "               9, 0, 4, 4, 0, 9, 0, 9, 0, 0,\n",
        "               4, 0, 9, 9, 0, 1, 0, 4, 4, 9,\n",
        "               0, 4, 4, 9, 1, 4, 0, 9, 9, 1]])\n",
        "\n",
        "Y = np.array([1.22, 9.75, 18.27, 6.93, 15.00, 19.89, 7.29, 18.49,\n",
        "              19.20, 16.15, 12.97, 14.79, 4.47, 25.33, 14.28, 14.73,\n",
        "              5.29, 13.06, 15.85, 8.28, 16.46, 10.88, 4.11, 14.31,\n",
        "              12.09, 12.35, 10.11, 9.99, 9.82, 5.63, 13.68, 1.22,\n",
        "              15.96, 10.41, 18.49, 19.12, 14.18, 14.74, 9.66, 3.16,\n",
        "              15.76, 1.29, 7.00, 25.81, 18.08, 15.20, 9.86, 22.06,\n",
        "              23.44, 8.41])\n",
        "\n",
        "X_t = np.transpose(X)\n",
        "\n",
        "XX_t = np.dot(X, X_t)\n",
        "\n",
        "XX_t_inv = inv(XX_t)\n",
        "\n",
        "XX_t_invX = np.dot(XX_t_inv,X)\n",
        "\n",
        "B_hat = np.dot(XX_t_invX,Y)\n",
        "\n",
        "#нахождение несмещенной оценки дисперсии\n",
        "n = X.shape[1]\n",
        "r = B_hat.shape[0]\n",
        "RSS = np.sum((Y - (B_hat[0] + np.dot(B_hat[1], X[1])))**2)\n",
        "S_2 = RSS/(n-r)\n",
        "\n",
        "#вывод результатов\n",
        "# print(\"X_t: \", X_t)\n",
        "# print(\"XX_t: \", XX_t)\n",
        "# print(\"XX_t_inv: \", XX_t_inv)\n",
        "# print(\"XX_t_invX: \", XX_t_invX)\n",
        "print(\"B_hat: \", np.round(B_hat, decimals=3))\n",
        "\n",
        "# print(\"n: \", n)\n",
        "# print(\"r: \", r)\n",
        "# print(\"RSS: \", RSS)\n",
        "print(\"S^2: \", round(S_2,3))"
      ],
      "metadata": {
        "colab": {
          "base_uri": "https://localhost:8080/"
        },
        "id": "en_l_7JqZVdd",
        "outputId": "de9005e4-f821-407c-b1cb-cc8696d7bf55"
      },
      "execution_count": null,
      "outputs": [
        {
          "output_type": "stream",
          "name": "stdout",
          "text": [
            "B_hat:  [10.654  0.067  0.516]\n",
            "S^2:  42.123\n"
          ]
        }
      ]
    },
    {
      "cell_type": "code",
      "source": [
        "# Графическое представление регрессионной модели\n",
        "import numpy as np\n",
        "import matplotlib.pyplot as plt\n",
        "\n",
        "h=0.01\n",
        "latitudes1 = np.arange(0, 3+h, h)\n",
        "\n",
        "longitudes1 = np.array(B_hat[0] + latitudes1*B_hat[1] + latitudes1**2*B_hat[2])\n",
        "\n",
        "# Plot the latitude and longitude data on a graph\n",
        "plt.plot(latitudes, longitudes, 'bo')\n",
        "plt.plot(latitudes1, longitudes1)\n",
        "plt.title('Линия регрессии')\n",
        "plt.xlabel('X')\n",
        "plt.ylabel('Y')\n",
        "plt.grid(True)\n",
        "plt.show()"
      ],
      "metadata": {
        "colab": {
          "base_uri": "https://localhost:8080/",
          "height": 472
        },
        "id": "okAE8dQ8VeTs",
        "outputId": "13446017-e214-49bc-83c0-15b999863da3"
      },
      "execution_count": null,
      "outputs": [
        {
          "output_type": "display_data",
          "data": {
            "text/plain": [
              "<Figure size 640x480 with 1 Axes>"
            ],
            "image/png": "[encoded data removed]"
          },
          "metadata": {}
        }
      ]
    },
    {
      "cell_type": "markdown",
      "source": [
        "### **Пункт 6.**\n",
        "Построим и интерпретируем несмещенную оценку дисперсии:\n",
        "\n",
        "$S^2\\approx 42.123$\n",
        "\n",
        "Получается, что максимальный разброс значений вокруг среднего значения выборки будет равен примерно 42.\n"
      ],
      "metadata": {
        "id": "rGmlB8FtXV5f"
      }
    },
    {
      "cell_type": "code",
      "source": [
        "#нахождение вектора невязок\n",
        "e = Y-np.dot(X_t, B_hat)\n",
        "print(\"Вектор невязок:\", e)\n",
        "\n",
        "\n",
        "# h = 2.9\n",
        "# interval =min(e)-h\n",
        "# while interval <= (max(e)+h):\n",
        "#   print(round(interval,3))\n",
        "#   interval += h\n"
      ],
      "metadata": {
        "colab": {
          "base_uri": "https://localhost:8080/"
        },
        "id": "Nnyluox4YPKG",
        "outputId": "0a31cedc-2015-4d76-f339-092c32aba962"
      },
      "execution_count": null,
      "outputs": [
        {
          "output_type": "stream",
          "name": "stdout",
          "text": [
            "Вектор невязок: [ -9.4343918   -1.48738803   2.76974685  -4.30738803   4.3456082\n",
            "   7.03732485  -5.56267515   2.98974685   7.37961573   0.64974685\n",
            "   0.11732485   3.55261197  -6.76738803  12.47732485   3.04261197\n",
            "   4.0756082   -7.56267515   0.20732485   0.34974685  -4.57267515\n",
            "   0.95974685   0.2256082   -8.74267515   1.45732485   1.4356082\n",
            "  -3.15025315  -0.5443918   -5.51025315  -0.8343918   -5.0243918\n",
            "   0.82732485  -9.4343918    0.45974685  -5.09025315   7.8356082\n",
            "   7.88261197   3.5256082    1.88732485  -3.19267515 -12.34025315\n",
            "   5.1056082  -11.56267515  -5.85267515  10.30974685   6.84261197\n",
            "   2.34732485  -0.7943918    6.55974685   7.93974685  -2.82738803]\n"
          ]
        }
      ]
    },
    {
      "cell_type": "markdown",
      "source": [
        "Теперь проверим гипотезу нормальности ошибок на уровне значимости $\\alpha=0.2$ по $\\chi^2$.\n",
        "\n",
        "Таблица частот\n",
        "\n",
        "|j                     | 0  | 1  |  2 |  3 |  4 |  5 |  6 |  7 |  8 |\n",
        "|----------------------|:--:|:--:|:--:|:--:|:--:|:--:|:--:|:--:|:--:|\n",
        "|$$\\nu_j (x =X_{(i)})$$|  2 |   5|   7| 6  | 12 |   8|   8| 1  | 1  |\n",
        "\n",
        "Таблица интервалов\n",
        "\n",
        "|j        | 0    | 1   |  2  |  3  |  4  |  5  |  6  |  7  |  8  |$\\sum$|\n",
        "|:-------:|:----:|:---:|:---:|:---:|:---:|:---:|:---:|:---:|:---:|:----:|\n",
        "|$I_j$   |(-∞;-9.44]|-9.44;-6.54]|(-6.54;-3.64]|(-3.64;-0.74]|(-0.74;2.16]|(2.16;5.06]|(5.06;7.96]|(7.96;10.86]|(10.86;+∞]|(-∞;+∞)|\n",
        "|$p_{i0}$ |0.049|0.077|0.136| 0.186|0.199|0.165 |0.106|0.053|0.026|  1    |\n",
        "|$np_{i0}$|2.45 |3.85  |6.8  |9.3  | 9.95| 8.25 | 5.3 | 2.65 | 1.3|  50   |\n",
        "\n",
        "$X^2=\\sum_{i=1}^{r}\\frac{(\\nu_i-np_{i0})^2}{np_{i0}} = 4.505$"
      ],
      "metadata": {
        "id": "wnyjH3v1YrPV"
      }
    },
    {
      "cell_type": "code",
      "source": [
        "import numpy as np\n",
        "from scipy.stats import norm\n",
        "\n",
        "alpha = 0.2\n",
        "norm = norm(e.mean(), e.std())\n",
        "\n",
        "p_0 = round(norm.cdf(-9.44),3)\n",
        "p_1 = round(norm.cdf(-6.54) - norm.cdf(-9.44),3)\n",
        "p_2 = round(norm.cdf(-3.64) - norm.cdf(-6.54),3)\n",
        "p_3 = round(norm.cdf(-0.74) - norm.cdf(-3.64),3)\n",
        "p_4 = round(norm.cdf(2.16) - norm.cdf(-0.74),3)\n",
        "p_5 = round(norm.cdf(5.06) - norm.cdf(2.16),3)\n",
        "p_6 = round(norm.cdf(7.96) - norm.cdf(5.06),3)\n",
        "p_7 = round(norm.cdf(10.86) - norm.cdf(7.96),3)\n",
        "p_8 = round(1 - norm.cdf(11.138),3)\n",
        "\n",
        "probabilities = np.array([p_0, p_1, p_2, p_3, p_4, p_5, p_6, p_7, p_8])\n",
        "\n",
        "for i in range(len(probabilities)):\n",
        "  print(f\"веротяности попадания в {i} интервал: {probabilities[i]}\")\n",
        "\n",
        "#расчет теоретических частот\n",
        "print(\"\\nОжидаемые частоты: \")\n",
        "for i in range(len(probabilities)):\n",
        "    probabilities[i] *= len(e)\n",
        "    print(f\"np_{i}: \", np.round(probabilities[i], decimals=3))\n",
        "\n",
        "frequencies_arr = np.array([2, 5, 7, 6, 12, 8, 8, 1, 1])\n",
        "\n",
        "#расчет статистики\n",
        "X2 = np.round(((frequencies_arr - probabilities) ** 2 / probabilities).sum(), decimals=3)\n",
        "print(\"\\nX2 =\", X2)"
      ],
      "metadata": {
        "colab": {
          "base_uri": "https://localhost:8080/"
        },
        "id": "WRGhJ1rmYlEh",
        "outputId": "907eb15f-5163-4cb5-868f-67cfebb3a53b"
      },
      "execution_count": null,
      "outputs": [
        {
          "output_type": "stream",
          "name": "stdout",
          "text": [
            "веротяности попадания в 0 интервал: 0.049\n",
            "веротяности попадания в 1 интервал: 0.077\n",
            "веротяности попадания в 2 интервал: 0.136\n",
            "веротяности попадания в 3 интервал: 0.186\n",
            "веротяности попадания в 4 интервал: 0.199\n",
            "веротяности попадания в 5 интервал: 0.165\n",
            "веротяности попадания в 6 интервал: 0.106\n",
            "веротяности попадания в 7 интервал: 0.053\n",
            "веротяности попадания в 8 интервал: 0.026\n",
            "\n",
            "Ожидаемые частоты: \n",
            "np_0:  2.45\n",
            "np_1:  3.85\n",
            "np_2:  6.8\n",
            "np_3:  9.3\n",
            "np_4:  9.95\n",
            "np_5:  8.25\n",
            "np_6:  5.3\n",
            "np_7:  2.65\n",
            "np_8:  1.3\n",
            "\n",
            "X2 = 4.505\n"
          ]
        }
      ]
    },
    {
      "cell_type": "code",
      "source": [
        "from scipy.stats import chi2\n",
        "\n",
        "alpha_1 = 0.2\n",
        "x_a1 = chi2.ppf(1-alpha_1, df=len(probabilities)-1-1)\n",
        "print(\"Квантиль:\", np.round(x_a1, decimals=3))\n",
        "\n",
        "def criteria(x_a, X2):\n",
        "  if(x_a>=X2):\n",
        "    return 0\n",
        "  else:\n",
        "    return 1\n",
        "\n",
        "phi = criteria(x_a1, X2)\n",
        "print('Критерий:', phi)"
      ],
      "metadata": {
        "colab": {
          "base_uri": "https://localhost:8080/"
        },
        "id": "R_46E1oPYmEo",
        "outputId": "8e886a34-658c-4173-e9f2-9ef277185d64"
      },
      "execution_count": null,
      "outputs": [
        {
          "output_type": "stream",
          "name": "stdout",
          "text": [
            "Квантиль: 9.803\n",
            "Критерий: 0\n"
          ]
        }
      ]
    },
    {
      "cell_type": "markdown",
      "source": [
        "Критерий равен 0, принимаем основную гипотезу о нормальности распределения."
      ],
      "metadata": {
        "id": "A8H1lW25awFP"
      }
    },
    {
      "cell_type": "markdown",
      "source": [
        "###**Пункт 7.**\n",
        "\n",
        "В предположении нормальности ошибок построим доверительные интервалы для параметров $\\beta_0$, $\\beta_1$ и $\\beta_2$ уровня доверия $1-\\alpha=0.8$\n",
        "\n",
        "$\\psi_{\\beta_0}=\\begin{pmatrix}\n",
        " 1  \\\\\n",
        " 0  \\\\\n",
        " 0\n",
        "\\end{pmatrix}^\\intercal\n",
        "\\begin{pmatrix}\n",
        " \\beta_0  \\\\\n",
        " \\beta_1  \\\\\n",
        " \\beta_2\n",
        "\\end{pmatrix}$\n",
        "\n",
        "$\\psi_{\\beta_1}=\\begin{pmatrix}\n",
        " 0  \\\\\n",
        " 1  \\\\\n",
        " 0\n",
        "\\end{pmatrix}^\\intercal\\begin{pmatrix}\n",
        " \\beta_0  \\\\\n",
        " \\beta_1  \\\\\n",
        " \\beta_2\n",
        "\\end{pmatrix}$\n",
        "\n",
        "$\\psi_{\\beta_2}=\\begin{pmatrix}\n",
        " 0  \\\\\n",
        " 0  \\\\\n",
        " 1\n",
        "\\end{pmatrix}^\\intercal\\begin{pmatrix}\n",
        " \\beta_0  \\\\\n",
        " \\beta_1  \\\\\n",
        " \\beta_2\n",
        "\\end{pmatrix}$\n",
        "\n",
        "$b_{\\psi_{\\beta_0}} = \\begin{pmatrix}\n",
        " 1  \\\\\n",
        " 0  \\\\\n",
        " 0\n",
        "\\end{pmatrix}^\\intercal\\left( XX^\\intercal \\right)^{-1}\\begin{pmatrix}\n",
        " 1  \\\\\n",
        " 0  \\\\\n",
        " 0\n",
        "\\end{pmatrix}\\approx0.072$\n",
        "\n",
        "$b_{\\psi_{\\beta_1}} = \\begin{pmatrix}\n",
        " 0  \\\\\n",
        " 1  \\\\\n",
        " 0\n",
        "\\end{pmatrix}^\\intercal\\left( XX^\\intercal \\right)^{-1}\\begin{pmatrix}\n",
        " 0  \\\\\n",
        " 1  \\\\\n",
        " 0\n",
        "\\end{pmatrix}\\approx0.164$\n",
        "\n",
        "$b_{\\psi_{\\beta_2}} = \\begin{pmatrix}\n",
        " 0  \\\\\n",
        " 0  \\\\\n",
        " 1\n",
        "\\end{pmatrix}^\\intercal\\left( XX^\\intercal \\right)^{-1}\\begin{pmatrix}\n",
        " 0  \\\\\n",
        " 0  \\\\\n",
        " 1\n",
        "\\end{pmatrix}\\approx0.017$"
      ],
      "metadata": {
        "id": "fC366iyAazJZ"
      }
    },
    {
      "cell_type": "code",
      "source": [
        "C_0 = np.array([[1],[0], [0]])\n",
        "C_1 = np.array([[0],[1], [0]])\n",
        "C_2 = np.array([[0],[0], [1]])\n",
        "b_psi_B_0 = float(np.dot(np.dot(np.transpose(C_0),XX_t_inv),C_0))\n",
        "b_psi_B_1 = float(np.dot(np.dot(np.transpose(C_1),XX_t_inv),C_1))\n",
        "b_psi_B_2 = float(np.dot(np.dot(np.transpose(C_2),XX_t_inv),C_2))\n",
        "print(\"Элемент дисперсии оценки для Beta_0:\", np.round(b_psi_B_0, decimals=3))\n",
        "print(\"Элемент дисперсии оценки для Beta_1:\", np.round(b_psi_B_1, decimals=3))\n",
        "print(\"Элемент дисперсии оценки для Beta_2:\", np.round(b_psi_B_2, decimals=3))\n",
        "# C_0.shape"
      ],
      "metadata": {
        "colab": {
          "base_uri": "https://localhost:8080/"
        },
        "id": "zJtur7QwbECU",
        "outputId": "259a93f8-d1f6-43b9-962c-a8d56ab82b25"
      },
      "execution_count": null,
      "outputs": [
        {
          "output_type": "stream",
          "name": "stdout",
          "text": [
            "Элемент дисперсии оценки для Beta_0: 0.072\n",
            "Элемент дисперсии оценки для Beta_1: 0.164\n",
            "Элемент дисперсии оценки для Beta_2: 0.017\n"
          ]
        }
      ]
    },
    {
      "cell_type": "markdown",
      "source": [
        "$\\frac{\\widehat{\\psi}_{\\beta_0}-\\psi}{S\\sqrt{b_{\\psi_{\\beta_0}}}}\\sim S_{n-r}$\n",
        "\n",
        "$\\frac{\\widehat{\\psi}_{\\beta_1}-\\psi}{S\\sqrt{b_{\\psi_{\\beta_1}}}}\\sim S_{n-r}$\n",
        "\n",
        "$\\alpha=0.2$\n",
        "\n",
        "$x_\\alpha: S_{n-r}(x_\\alpha)=1-\\frac{\\alpha}{2} = 0.9$\n",
        "\n",
        "$x_\\alpha \\approx 1.3$\n",
        "\n",
        "$\\left[\\widehat\\psi-x_{\\alpha}S\\sqrt{b}; \\widehat\\psi+x_{\\alpha}S\\sqrt{b}\\right]\\ni\\psi$\n",
        "\n",
        "$[8.387, 12.922]\\ni\\psi_{\\beta_0}$\n",
        "\n",
        "$[-3.347, 3.481]\\ni\\psi_{\\beta_1}$\n",
        "\n",
        "$[ -0.595, 1.628]\\ni\\psi_{\\beta_2}$"
      ],
      "metadata": {
        "id": "BG3SzmqpbHOT"
      }
    },
    {
      "cell_type": "code",
      "source": [
        "from scipy.stats import t\n",
        "import numpy as np\n",
        "\n",
        "#найдем квантиль; исп ФР Стьюдента\n",
        "fx = 0.9\n",
        "func = t(n - C_0.shape[0])\n",
        "x_a = func.ppf(fx)\n",
        "print(\"Квантиль x_a:\", np.round(x_a, decimals=3))\n",
        "\n",
        "#расчет границ интервала\n",
        "left_bound_0 = B_hat[0] - x_a*np.sqrt(S_2)*np.sqrt(b_psi_B_0)\n",
        "right_bound_0 = B_hat[0] + x_a*np.sqrt(S_2)*np.sqrt(b_psi_B_0)\n",
        "\n",
        "left_bound_1 = B_hat[1] - x_a*np.sqrt(S_2)*np.sqrt(b_psi_B_1)\n",
        "right_bound_1 = B_hat[1] + x_a*np.sqrt(S_2)*np.sqrt(b_psi_B_1)\n",
        "\n",
        "left_bound_2 = B_hat[2] - x_a*np.sqrt(S_2)*np.sqrt(b_psi_B_2)\n",
        "right_bound_2 = B_hat[2] + x_a*np.sqrt(S_2)*np.sqrt(b_psi_B_2)\n",
        "\n",
        "print(\"Интервал для Beta_0: [\", np.round(left_bound_0, decimals=3), \";\", np.round(right_bound_0, decimals=3), \"]\")\n",
        "print(\"Интервал для Beta_1: [\", np.round(left_bound_1, decimals=3), \";\", np.round(right_bound_1, decimals=3), \"]\")\n",
        "print(\"Интервал для Beta_1: [\", np.round(left_bound_2, decimals=3), \";\", np.round(right_bound_2, decimals=3), \"]\")"
      ],
      "metadata": {
        "colab": {
          "base_uri": "https://localhost:8080/"
        },
        "id": "2sW4O0aqbFy1",
        "outputId": "7cdc7d48-6ad1-47e2-998b-1a490eabd7ca"
      },
      "execution_count": null,
      "outputs": [
        {
          "output_type": "stream",
          "name": "stdout",
          "text": [
            "Квантиль x_a: 1.3\n",
            "Интервал для Beta_0: [ 8.387 ; 12.922 ]\n",
            "Интервал для Beta_1: [ -3.347 ; 3.481 ]\n",
            "Интервал для Beta_1: [ -0.595 ; 1.628 ]\n"
          ]
        }
      ]
    },
    {
      "cell_type": "code",
      "source": [
        "# проверка тестом Колмогорова:\n",
        "from scipy.stats import kstest\n",
        "print(kstest(e, 'norm', args=(e.mean(), e.std())))\n",
        "\n",
        "es = np.sort(e)\n",
        "\n",
        "#по формулам:\n",
        "from scipy.stats import norm\n",
        "\n",
        "# выборочная функция распределения\n",
        "def F(x, sample):\n",
        "  sample = np.sort(sample)\n",
        "  sum = 0\n",
        "  for i in sample:\n",
        "      if i < x:\n",
        "        sum += 1\n",
        "  return sum / len(sample)\n",
        "\n",
        "# непрерывная функция распределения (массив)\n",
        "F_0 = norm.cdf(es, e.mean(), e.std())\n",
        "F_n = np.array([F(i, es) for i in es])\n",
        "diff = np.abs(F_n - F_0)\n",
        "\n",
        "# супремум разностей\n",
        "D_n = np.max(diff)\n",
        "print(\"Статистика D_n =\", np.round(D_n, decimals=3))# Найдем x_a2:\n",
        "from scipy.stats import kstwobign\n",
        "\n",
        "x_a2 = kstwobign.ppf(0.95)\n",
        "print(\"Квантиль x_a2:\", round(x_a2,3))\n",
        "\n",
        "def criteria(x_a, X2):\n",
        "  if(x_a>=X2):\n",
        "    return 0\n",
        "  else:\n",
        "    return 1\n",
        "\n",
        "phi = criteria(x_a2, D_n*np.sqrt(len(e)))\n",
        "print('Критерий:', phi)\n",
        "\n",
        "print(\"Наибольшее значение уровня значимости a_2 для принятия основной гипотезы:\", 1 - kstwobign.cdf(np.sqrt(len(e)) * D_n))\n",
        "\n",
        "plt.title('Графики выборочной и непрерывной функций распределения')\n",
        "plt.plot(es, F_0)\n",
        "# plt.plot(es, F_n)\n",
        "\n",
        "from statsmodels.distributions.empirical_distribution import ECDF\n",
        "ecdf = ECDF(es)\n",
        "plt.step(ecdf.x, ecdf.y)\n",
        "\n",
        "\n",
        "plt.show()"
      ],
      "metadata": {
        "colab": {
          "base_uri": "https://localhost:8080/",
          "height": 543
        },
        "id": "sOErpByKm6mR",
        "outputId": "83e934e1-bb7f-418d-86ae-4ab43cc66f5e"
      },
      "execution_count": null,
      "outputs": [
        {
          "output_type": "stream",
          "name": "stdout",
          "text": [
            "KstestResult(statistic=0.08819175569431542, pvalue=0.7992224996703724, statistic_location=0.1173248517894141, statistic_sign=-1)\n",
            "Статистика D_n = 0.088\n",
            "Квантиль x_a2: 1.358\n",
            "Критерий: 0\n",
            "Наибольшее значение уровня значимости a_2 для принятия основной гипотезы: 0.8315642249263581\n"
          ]
        },
        {
          "output_type": "display_data",
          "data": {
            "text/plain": [
              "<Figure size 640x480 with 1 Axes>"
            ],
            "image/png": "[encoded data removed]"
          },
          "metadata": {}
        }
      ]
    },
    {
      "cell_type": "markdown",
      "source": [
        "Напишем уравнение доверительного эллипсоида для терех параметров.\n",
        "\n",
        "$ A_\\alpha = \\{X:(X-\\widehat\\psi)^\\intercal (C^\\intercal (XX^\\intercal)^{-1}C)^{-1}(X-\\widehat\\psi)\\le qS^2x_\\alpha\\},$\n",
        "\n",
        "где $ x_\\alpha = F_{q, n-r}(x_\\alpha) = 1 - \\alpha = 0.8$\n",
        "\n",
        "Пусть $ \\begin{pmatrix}\n",
        "    x\\\\\n",
        "    y\\\\\n",
        "    z\n",
        "\\end{pmatrix}  = \\begin{pmatrix}\n",
        "    \\lambda_0\\\\\n",
        "    \\lambda_1 \\\\\n",
        "    \\lambda_2\n",
        "\\end{pmatrix}(\\widehat \\psi - \\psi)$\n",
        "\n",
        "Тогда неравнство доверительного эллипсоида выглядит таким образом:\n",
        "\n",
        "$(X-\\widehat\\psi)^\\intercal (C^\\intercal (XX^\\intercal)^{-1}C)^{-1}(X-\\widehat\\psi) = \\lambda_1 x^2 + \\lambda_2 y^2 + \\lambda_3 z^2 \\le qs^2x_\\alpha$,\n",
        "\n",
        "где $\\lambda_0$, $\\lambda_1$, $\\lambda_2$ - собственные числа матрицы $XX^\\intercal$\n",
        "\n",
        "$\\cfrac{\\lambda_0}{qS^2x_\\alpha}x^2 + \\cfrac{\\lambda_1}{qS^2x_\\alpha}y^2 + \\cfrac{\\lambda_2}{qS^2x_\\alpha}z^2 \\le 1$\n",
        "\n",
        "Итоговое уравнение эллипсоида:\n",
        "$\\begin{pmatrix}\n",
        "   x\\\\\n",
        "   y\\\\\n",
        "   z\n",
        "\\end{pmatrix} =\n",
        "\\begin{pmatrix}\n",
        "  -0.137 && -0.885 && 0.444\\\\\n",
        "  -0.347 && -0.377 && -0.859\\\\\n",
        "  -0.928 && 0.272 && 0.255\n",
        "\\end{pmatrix}\n",
        "\\begin{pmatrix}\n",
        "  10.654   - \\beta_0\\\\\n",
        "  0.067 - \\beta_1 \\\\\n",
        "  0.516 - \\beta_2\n",
        "\\end{pmatrix} =\n",
        "\\begin{pmatrix}\n",
        "  -1.289 + 0.137\\beta_0 + 0.885\\beta_1 + 0.444\\beta_2\\\\\n",
        "  -4.165 - 0.347\\beta_0 + 0.377\\beta_1 + 0,895\\beta_2\\\\\n",
        "  -9,737 + 0.928\\beta_0 + 0.272\\beta_1 + 0.255\\beta_2\n",
        "\\end{pmatrix} $\n",
        "\n"
      ],
      "metadata": {
        "id": "HqprtPhHSZaG"
      }
    },
    {
      "cell_type": "code",
      "source": [
        "# Найдем x_a2:\n",
        "from scipy.stats import f\n",
        "from scipy.stats import ncf\n",
        "import numpy as np\n",
        "from numpy.linalg import matrix_rank\n",
        "\n",
        "aipha = 0.2\n",
        "q = 3\n",
        "n = 50\n",
        "r = matrix_rank(X)\n",
        "x_a = f.ppf(1-alpha, q, n-r)\n",
        "print(\"Квантиль x_a:\", round(x_a,3))\n",
        "\n",
        "eigenvalues, eigenvectors = np.linalg.eig(XX_t)\n",
        "print(\"Собственные числа:\", np.round(eigenvalues,decimals = 3))\n",
        "print(\"Матрица перехда:\", np.round(eigenvectors,decimals = 3))\n",
        "# print(\"B_hat:\", beta)\n",
        "\n",
        "a = np.round(np.sqrt((q * S_2 * x_a) / eigenvalues[0]),decimals = 3)\n",
        "b = np.round(np.sqrt((q * S_2 * x_a) / eigenvalues[1]),decimals = 3)\n",
        "z = np.round(np.sqrt((q * S_2 * x_a) / eigenvalues[2]),decimals = 3)\n",
        "\n",
        "print(\"Полуось а:\", a)\n",
        "print(\"Полуось b:\", b)\n",
        "print(\"Полуось z:\", z)"
      ],
      "metadata": {
        "colab": {
          "base_uri": "https://localhost:8080/"
        },
        "id": "Xsa-jTYKTyXA",
        "outputId": "8877d7f4-8193-4d93-e604-54663f0e75a2"
      },
      "execution_count": null,
      "outputs": [
        {
          "output_type": "stream",
          "name": "stdout",
          "text": [
            "Квантиль x_a: 1.609\n",
            "Собственные числа: [1513.121   26.219    4.66 ]\n",
            "Матрица перехда: [[-0.137 -0.885  0.444]\n",
            " [-0.347 -0.377 -0.859]\n",
            " [-0.928  0.272  0.255]]\n",
            "Полуось а: 0.367\n",
            "Полуось b: 2.784\n",
            "Полуось z: 6.605\n"
          ]
        }
      ]
    },
    {
      "cell_type": "markdown",
      "source": [
        "### **Пункт 8.**\n",
        "Сформулируем гипотезу зависимости переменной Y от переменной X.\n",
        "\n",
        "<!-- !!!ghtlcnfdbv C^tBtnf в виде суммы != 0 -->\n",
        "\n",
        "Хотим проверить, что $Y\\approx\\beta_0+\\beta_1X+\\beta_2X^2$\n",
        "\n",
        "$H_0: C^\\intercal \\beta \\ne 0$\n",
        "\n",
        "$H_1: C^\\intercal \\beta=0$\n",
        "\n",
        "Проведем проверку значимости.\n",
        "\n",
        "ДНО функция: $\\psi = C^\\intercal\\beta$\n",
        "\n",
        "МНК оценка: $\\widehat{\\psi}=C^\\intercal\\widehat\\beta$\n",
        "\n",
        "$C=\\begin{pmatrix}\n",
        " 0 & 0 & 0\\\\\n",
        " 1 & 0 & 1\\\\\n",
        " 0 & 1 & 1\n",
        "\\end{pmatrix}$\n",
        "\n",
        "<!-- $\\mathbb{F}=\\frac{SSh/q}{SSe/(n-r)},$ где $SSh = RSS(\\widehat{\\beta}_n)$, $SSe = RSS(\\widehat{\\beta})=S^2(n-r)$ -->\n",
        "\n",
        "$\\mathbb{F}=\\frac{\\widehat{\\psi}^\\intercal B^{-1}\\widehat{\\psi}}{qS^2}\\sim F_{q,n-r, nc}, $\n",
        "\n",
        "$nc = \\psi_0^\\intercal B^{-1} \\psi_0$ - параметр нецентральности\n",
        "\n",
        "$B = C^\\intercal(XX^\\intercal)^{-1}C$\n",
        "\n",
        "где $|B|>0, $ q - размерность паратметра $\\psi$\n",
        "\n",
        "$x_\\alpha = F_{q,n-rб nc}^{-1}(1-\\alpha) \\approx 1.689$\n",
        "\n",
        "$\\mathbb{F} = $\n",
        "\n",
        "Критерий:\n",
        "\n",
        "$\\phi(x)=\\begin{cases}\n",
        "      0, \\mathbb{F}\\le x_\\alpha,\\\\\n",
        "      1, \\mathbb{F}\\gt x_\\alpha     \n",
        "\\end{cases}$\n",
        "\n",
        "Критерий равен 0, следовательно, принимаем основную гипотезу о независисмости."
      ],
      "metadata": {
        "id": "VHdeSCzqjkLQ"
      }
    },
    {
      "cell_type": "code",
      "source": [
        "from scipy.stats import ncf\n",
        "import numpy as np\n",
        "from numpy.linalg import matrix_rank\n",
        "\n",
        "alpha = 0.2\n",
        "q = 3 # dim psi\n",
        "r = matrix_rank(X) # rank X\n",
        "\n",
        "# psi_0 = B_hat[0]\n",
        "# nc = psi_0\n",
        "nc = 0\n",
        "\n",
        "ncf = ncf(q, len(latitudes) - r, nc)\n",
        "x_a = ncf.ppf(1 - alpha)\n",
        "print(\"Квантиль x_alpha:\", round(x_a,3))\n",
        "\n",
        "C = np.array([[0, 0, 0],\n",
        "              [0, 1, 1],\n",
        "              [1, 0, 1]])\n",
        "\n",
        "C_t = np.transpose(C)\n",
        "psi = np.dot(C_t, B_hat)\n",
        "B_inv = np.dot(np.dot(C_t, XX_t_inv), C)\n",
        "F = np.dot(np.dot(psi, B_inv), psi) / q * S_2\n",
        "print(f\"F:{round(F,3)}\")\n",
        "\n",
        "def criteria(x_a, F):\n",
        "  if(x_a>=F):\n",
        "    return 0\n",
        "  else:\n",
        "    return 1\n",
        "\n",
        "phi = criteria(x_a, F)\n",
        "print('Критерий:', phi)\n",
        "\n",
        "print(\"Наибольшее значение уровня значимости a_2 для принятия основной гипотезы:\", 1 - ncf.cdf(F))"
      ],
      "metadata": {
        "colab": {
          "base_uri": "https://localhost:8080/"
        },
        "id": "IN9U9GNBjtYF",
        "outputId": "49a21cd3-bf7e-40d9-c200-1b573e9614c2"
      },
      "execution_count": null,
      "outputs": [
        {
          "output_type": "stream",
          "name": "stdout",
          "text": [
            "Квантиль x_alpha: 1.609\n",
            "F:0.248\n",
            "Критерий: 0\n",
            "Наибольшее значение уровня значимости a_2 для принятия основной гипотезы: 0.8621458426785662\n"
          ]
        }
      ]
    },
    {
      "cell_type": "markdown",
      "source": [
        "## Выводы\n",
        "В ходе выполнения лабораторной работы была изучена линейная регрессия: построение модели, нахождение параметров и невязок. Также по полученным данным были построены 2 модели (с двумя и тремя параметрами). Были найдены доверительные интервалы для каждого параметра, построены уравнения доверительных эллипсоидов. Ошибки каждой модели были проверены на соответсвие нормальному распределению. Также было был проведен анализ зависимости или независимости переменных наблюдений."
      ],
      "metadata": {
        "id": "reIQcwxmcrT2"
      }
    }
  ]
}