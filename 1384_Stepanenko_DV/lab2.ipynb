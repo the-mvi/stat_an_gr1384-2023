{
  "cells": [
    {
      "cell_type": "markdown",
      "id": "c31sbB1ZD8xY",
      "metadata": {
        "id": "c31sbB1ZD8xY"
      },
      "source": [
        "# Лабораторная работа №2: Классические методы математической статистики\n",
        "Выполнил студент гр. 1384 Степаненко Денис. Вариант №16"
      ]
    },
    {
      "cell_type": "markdown",
      "id": "Zsra3NclEfiH",
      "metadata": {
        "id": "Zsra3NclEfiH"
      },
      "source": [
        "## Цель работы\n",
        "Научится применять методы математической статистики для визуализации и анализа полученных данных; сформировать навыки реализации методов с помощью прикладных программных пакетов."
      ]
    },
    {
      "cell_type": "markdown",
      "id": "3mDB_L09EqyP",
      "metadata": {
        "id": "3mDB_L09EqyP"
      },
      "source": [
        "## Основные теоретические положения\n",
        "\n",
        "**Вариационный ряд** - упорядоченный набор наблюдений $ X_{1} \\leq ... \\leq X_{n} $ : $ X_{(1)} \\leq ... \\leq X_{(n)}$, элементами которого являтся порядковые статистики.\n",
        "\n",
        "**Эмпирическая (выборочная) функция распределения:**\n",
        "$$\n",
        "F_n(X)=\\frac{1}{n}\\sum_{i=1}^{n}\\mathbb{1}_{\\left\\{ X_i < x \\right\\}}\n",
        "$$\n",
        "\n",
        "**Гистограмма частот**\n",
        "$\\mathscr{H}: \\mathbb{R}\\to \\mathbb{R}_+$\n",
        "$$\\mathscr{H} (x)=\\frac{\\nu_j}{nh}, x\\in I_j, j \\in \\mathbb{N},$$\n",
        "где $$\\nu_i = \\# \\left\\{ x_i|x_j\\in I_i \\right\\}$$\n",
        "\n",
        "*   Площадь подграфика $\\mathscr{H}(x,h)=1$\n",
        "*   Если плотность непрерывная, то $\\mathscr{H}(x,h), x\\in I$ - оценка некоторого среднего значения плотности на интервале $I_j$\n",
        "*   $\\frac{\\nu_i}{n} \\longrightarrow \\mathbb{P}(X_i\\in I_i)$\n",
        "\n",
        "\n",
        "**Полигон частот** - кусочно-линейная непрерывная функция, совпадающая с гистограммой в середине каждого интервала.\n",
        "\n",
        "\n",
        "*   Площадь под графиком полигона равна 1\n",
        "*   Предпочтителен для оценки плотности распределения абсолютно непрерывной случайной величины.\n",
        "\n",
        "---\n",
        "\n",
        "**Выборочное среднее:**\n",
        "$$\n",
        "\\overline{X} = \\frac{1}{n}\\sum_{i=1}^{n}X_i\n",
        "$$\n",
        "\n",
        "**Выборочная дисперсия:**\n",
        "$$\n",
        "S^2= \\frac{1}{n}\\sum_{i=1}^{n}(X_i-\\overline{X})^2\n",
        "$$\n",
        "\n",
        "**Выборочное СКО:**\n",
        "$$\n",
        "\\sigma=\\sqrt{S^2}=\\sqrt{\\frac{1}{n}\\sum_{i=1}^{n}(X_i-\\overline{X})^2}\n",
        "$$\n",
        "\n",
        "**Выборочная медиана:**\n",
        "$$\n",
        "Me = X_{[(n+1)/2]}\n",
        "$$\n",
        "\n",
        "**Выборочная асимметрия:**\n",
        "$$\n",
        "\\widehat{ASI}=\\frac{\\frac{1}{n}\\sum_{i=1}^{n}(X_i-\\overline{X})^3}{S^3}\n",
        "$$\n",
        "\n",
        "\n",
        "**Выборочный эксцесс:**\n",
        "$$\n",
        "\\widehat{EXC}=\\frac{\\frac{1}{n}\\sum_{i=1}^{n}(X_i-\\overline{X})^4}{S^4}-3\n",
        "$$\n",
        "\n",
        "**Выборочный аналог P(X ∈ [a, b]):**\n",
        "\n",
        "\n",
        "---\n",
        "\n",
        "\n",
        "**Функция правдоподобия L:**\n",
        "$$\n",
        "\\mathfrak{X}\\times \\Theta \\longrightarrow (0;+\\infty):  L(X,\\theta)=p_{\\theta}(x), x\\in \\mathfrak{X}, \\theta \\in \\Theta\n",
        "$$\n",
        "\n",
        "Оценка $\\widehat{\\theta}(x)$ максимизирующая функцию правдоподобия $L(X,θ)$ по $θ$ при каждом фиксированном X:\n",
        "\n",
        "$$\n",
        "L(X,\\widehat{\\theta}(x)))\\ge L(X,\\widetilde{\\theta}(x)), \\forall X\\in\\mathfrak{X}, \\forall \\widetilde{\\theta}(x)\n",
        "$$\n",
        "Называется оценкой максимального правдоподобия (ОМП).\n",
        "\n",
        "Если $X_1,...,X_n$ - выборка из распределения с плотностью распределения $p_θ, \\theta \\in \\Theta$, то\n",
        "*   функция правдоподобия распадается в произведение:\n",
        "$$L(X,\\theta) = \\prod_{i=1}^{n}p_\\theta(X_i)$$\n",
        "*   логарифм функции правдоподобя представляется в виде суммы:\n",
        "$$LL(X, \\theta) = lnL(X,\\theta) = \\sum_{i=1}^{n}lnp_\\theta(X_i)$$\n",
        "\n",
        "**Нахождение ОМП:**\n",
        "В силу монотонности логарифма задача максимизации функции правдоподобия сводится к задаче максимизации ее логарифма по всем $\\theta \\in \\Theta$:\n",
        "$$lnL(X,\\theta) = \\sum_{i=1}^{n}lnp_\\theta(X_i)$$\n",
        "\n",
        "Если $\\theta = (\\theta_1,...,\\theta_d) - d$-мерный парметр и $p_\\theta$ дифференцируема по $\\theta$, то для нахождения максимума надо найти решения ситемы уравнений:\n",
        "$$U(X,\\theta)=\\frac{\\partial lnL(X,\\theta))}{\\partial \\theta_i}=0, i\\in[1:d]$$\n",
        "\n",
        "\n",
        "Если функция правдоподобия не дифференцируема по параметру, то переход от функции правдоподобия к ее логарифму не имеет смысла\n",
        "\n",
        "**Метод моментов:**\n",
        "\n",
        "Пусть $X_1,...,X_n$ - выборка из распределения $P_\\theta, \\theta = (\\theta_1,...,\\theta_d)$, и существует $\\mu_k(\\theta)=\\mathbb{E}_\\theta X_1^k, k=1,...n$.\n",
        "\n",
        "Если существует единствнное решение $\\widetilde{\\theta}(X)$ системы уравнений\n",
        "$$\\widehat{\\mu}_k(\\widetilde{\\theta})=\\mu_k(\\widetilde{\\theta}), k=1,...,d.$$ где\n",
        "$\\widehat{\\mu}_k(\\widetilde{\\theta})=\\frac{1}{n}\\sum_{i=1}^{n}X_i^k$ -  выборочный момент k-ого порядка, то $\\widetilde{\\theta}(X)$ называется оценкой по методу моментов (ОММ).\n",
        "\n",
        "**Смещение оценки** - это величина: $$b_g(\\theta)=\\mathbb{E}\\delta(X)-\\theta,$$ где $\\delta(X)$ - оценка параметра $\\theta$\n",
        "\n",
        "\n",
        "---\n",
        "\n",
        "\n",
        "**Асимптотический доверительным интервалом** уровня доверия $1-\\alpha$ называется статистика $\\widehat{\\theta_n}:\\mathfrak{X}\\to \\mathbb{R}^2$ вида\n",
        "$\\widehat{\\theta_n}=[T_{1n}(\\overrightarrow{X}),T_{2n}(\\overrightarrow{X})]$ при $\\forall n\\in \\mathbb{N}: \\lim_{n \\to \\infty } \\mathbb{P}_n([T_{1n}(\\overrightarrow{X}),T_{2n}(\\overrightarrow{X})\\ni \\Theta)\\ge 1-\\alpha, \\forall \\theta \\in \\Theta$\n",
        "\n",
        "**Информация Фишера** вычисляется по формуле: $$\\mathbb{I}(\\theta) = -\\mathbb{E}\\frac{\\partial^2 LL(\\overrightarrow{X},\\theta)}{\\partial \\theta^2}$$\n",
        "\n",
        "**Метод построение на базе асимптотической нормальной оценки параметра $\\widehat{\\theta}$:**\n",
        "\n",
        "*   Асимтотическая нормальность\n",
        "$$\\sqrt{n}\\left( \\widehat{\\theta}(X)-\\theta \\right)\\Rightarrow \\mathcal{N}(0,\\sigma^2(\\theta))$$\n",
        "*   Если исходная оследовательность распределений непрерывно маняется по $\\theta$, то из состоятельности оценки $\\widehat{\\theta}(X)\\longrightarrow \\theta$ по вероятности при n стремится к бесконечности следует, что $\\sigma(\\widehat{\\theta}(X))\\longrightarrow \\sigma(\\theta)$\n",
        "\n",
        "*  Тогда $$\\frac{\\sqrt{n} (\\widehat{\\theta}(X)-\\theta)}{\\sigma(\\widehat{\\theta}(X))}\\Rightarrow \\mathcal{N}(0,1).$$\n",
        "*  Выбираем $x_{\\frac{\\alpha}{2}}$ из условия $1-\\Phi(-x_{\\frac{\\alpha}{2}})=\\frac{\\alpha}{2}$\n",
        "*  В силу симметричности стандартного нормального распредления $$\\Phi(x_{\\frac{\\alpha}{2}})-\\Phi(-x_{\\frac{\\alpha}{2}})=1-\\alpha$$\n",
        "*  Получаем асимптотический доверительный интервал (последовательность интервалов)\n",
        "\n",
        "$$\\left[ \\widehat{\\theta}(X)-\\frac{x_{\\alpha/2}\\sigma(\\widehat{\\theta}(X))}{\\sqrt{n}}, \\widehat{\\theta}(X)+\\frac{x_{\\alpha/2}\\sigma(\\widehat{\\theta}(X))}{\\sqrt{n}} \\right]$$\n",
        "\n",
        "**Метод построения асимптотических доверительных интервалов на базе ОМП**\n",
        "\n",
        "\n",
        "\n",
        "*   Пусть $\\widehat{\\theta}(X)$ - ОМП\n",
        "*   При выполнения определенных условий регулярности:\n",
        "$$\\sqrt{n}(\\widehat{\\theta}(X)-\\theta)\\Rightarrow \\mathcal{N}\\left( 0,\\frac{1}{I(\\theta)} \\right)$$\n",
        "\n",
        "  $I(\\theta)=\\lim_{n \\to \\infty } \\frac{\\mathbb{I}_n(\\theta)}{n},$ где\n",
        "$\\mathbb{I}_n(\\theta)$ - информация Фишера\n",
        "\n",
        "*  Тогда $$\\sqrt{nI(\\widehat{\\theta})}(\\widehat{\\theta}(X)-\\theta)\\Rightarrow \\mathcal{N(0,1)}.$$\n",
        "*  Выбираем $x_{\\frac{\\alpha}{2}}$ из условия $1-\\Phi(-x_{\\frac{\\alpha}{2}})=\\frac{\\alpha}{2}$\n",
        "*  В силу симметричности стандартного нормального распредления $$\\Phi(x_{\\frac{\\alpha}{2}})-\\Phi(-x_{\\frac{\\alpha}{2}})=1-\\alpha$$\n",
        "*   Получаем асимптотический доверительный интервал\n",
        "$$\\left[ \\widehat{\\theta}(X)-\\frac{x_{\\alpha/2}}{\\sqrt{nI(\\widehat{\\theta})}}, \\widehat{\\theta}(X)+\\frac{x_{\\alpha/2}}{\\sqrt{nI(\\widehat{\\theta})}} \\right]$$\n",
        "\n",
        "---"
      ]
    },
    {
      "cell_type": "markdown",
      "id": "P-FnCsH3upxC",
      "metadata": {
        "id": "P-FnCsH3upxC"
      },
      "source": [
        "**Статистика критерия $\\chi^2$ Пирсона:**\n",
        "$X^2=\\sum_{i=1}^{r}\\frac{(\\nu_i-np_{i0})^2}{np_{i0}}\\Rightarrow \\chi_{r-1}^2$,\n",
        "\n",
        "где $X_1...X_n $ - выборка из дискретного распредления $supp(X_1)=\\left\\{  1;...;r \\right\\}$\n",
        "\n",
        "$p_i=\\mathbb{P}(X_1=i)$ для $i=1...r$\n",
        "\n",
        "$\\Theta = \\left\\{ p_1,...,p_2: p_i>0, \\sum_{i=1}^{r}=1 \\right\\}$\n",
        "\n",
        "$\\nu_i = \\sum_{j=1}^{n}\\mathbb{1}_\\left\\{ x_j=i \\right\\}$ - абсолютные частоты\n",
        "$\\left( \\sum_{i=1}^{r}\\nu_i=n \\right)$\n",
        "\n",
        "---\n",
        "\n",
        "**Алгоритм проверки простой гипотезы согласия для заданного распределения F:**\n",
        "\n",
        "$] X_1, ... , X_n$  - выбока из распределения функции распределения F\n",
        "\n",
        "1. Определяем гипотезы\n",
        "\n",
        "  $H_0\\equiv F$ - основная гипотеза согласия\n",
        "\n",
        "  $H_А: F(x)\\ne F(x)$ для некторого x - альтернатива\n",
        "\n",
        "2. Группируем данные по интервалам $\\left\\{ I_j \\right\\}_{j=1}^r$\n",
        "\n",
        "  $I_j$ - интервалы при  $j=1,...,r$\n",
        "\n",
        "  $I_j \\cap I_{j'}=\\emptyset; $\n",
        "\n",
        "  $\\cup_{j=1}^{r}i_j=\\mathbb{R}$\n",
        "\n",
        "  $I=(a_j, b] - интервал \\Rightarrow F(I) = F(b) - F(a)$\n",
        "\n",
        "  Оптимальный выбор интервалов соответсвует равным значениям $F(I_j)$\n",
        "\n",
        "3. Рассчитываем статистику критерия\n",
        "\n",
        "  $X^2=\\sum_{i=1}^{r}\\frac{(\\nu_i-np_{i0})^2}{np_{i0}}$\n",
        "\n",
        "  $p_{j0}=F_0(I_j), j=1,...,r$ - гипотетические вероятности попадания в интервал\n",
        "  \n",
        "  $np_{i0}$ - ожидаемые частоты\n",
        "\n",
        "  $\\nu_{i}$ - эмпирические частоты\n",
        "\n",
        "\n",
        "4. Находим значения критерия и принимаем/отвергаем гипотезу $H_0$\n",
        "\n",
        "  $x_\\alpha: K_{r-1}(x_\\alpha)= 1-\\alpha$ - функция распределения $\\chi_{r-1}^2$ уровня значимости $\\alpha$\n",
        "\n",
        "  $\\phi(X) = \\begin{cases}\n",
        "  0, X^2 \\le x_\\alpha\\\\\n",
        "  1, X^2 \\gt x_\\alpha\n",
        "  \\end{cases}$\n",
        "\n",
        "  Если 1, то основная гипотеза отвергается в пользу альтернативной и наоборот.\n",
        "\n",
        "---\n",
        "\n",
        "**Алгоритм проверки сложной гипотезы согласия для заданного распределения F:**\n",
        "\n",
        "$] X_1, ... , X_n$  - выбока из распределения функции распределения F\n",
        "\n",
        "1. Определяем гипотезы\n",
        "\n",
        "  $H_0: F \\in \\left\\{ F_\\theta: \\theta\\in\\Theta_0 \\right\\}$ - основная гипотеза согласия\n",
        "\n",
        "  $H_А: F \\notin \\left\\{ F_\\theta: \\theta\\in\\Theta_0 \\right\\}$ для некторого x - альтернатива\n",
        "\n",
        "  $ dim(\\Theta)=k$\n",
        "\n",
        "2. Группируем данные по интервалам $\\left\\{ I_j \\right\\}_{j=1}^r$\n",
        "\n",
        "3. Выбираем и рассчитываем статистику критерия:\n",
        "\n",
        "  $X^2(\\theta)=\\sum_{i=1}^{r}\\frac{(\\nu_i-np_{i0}(\\theta))^2}{np_{i0}(\\theta)}$\n",
        "\n",
        "  $\\widehat{\\theta}$ - ОМП для $\\theta \\Rightarrow X^2(\\widehat{\\theta})\\Rightarrow \\chi^2_{r-k-1}$\n",
        "\n",
        "  $\\widetilde{\\theta} = {argmin}_{\\theta\\in\\Theta} X^2(\\theta) \\Rightarrow X^2(\\widetilde{\\theta})\\Rightarrow \\chi^2_{r-k-1}$\n",
        "\n",
        "4. Находим значения критерия и принимаем/отвергаем гипотезу $H_0$\n",
        "\n",
        "  $x_\\alpha: K_{r-k-1}(x_\\alpha)= 1-\\alpha$ - функция распределения $\\chi_{r-1}^2$ уровня значимости $\\alpha$\n",
        "\n",
        "  $\\phi(X) = \\begin{cases}\n",
        "  0, \\widehat{X}^2 \\le x_\\alpha\\\\\n",
        "  1, \\widehat{X}^2 \\gt x_\\alpha\n",
        "  \\end{cases}$\n",
        "\n",
        "  $\\phi(X) = \\begin{cases}\n",
        "  0, \\widetilde{X}^2 \\le x_\\alpha\\\\\n",
        "  1, \\widetilde{X}^2 \\gt x_\\alpha\n",
        "  \\end{cases}$\n",
        "\n",
        "  Если 1, то основная гипотеза отвергается в пользу альтернативной и наоборот.\n",
        "\n",
        "---\n",
        "\n",
        "**Проверка простой гипотезы и простой альтернативы:**\n",
        "  \n",
        "\n",
        "*   $] (\\mathfrak{X}, \\mathcal{F}, \\mathcal{P}), \\mathcal{P}: \\left\\{ \\mathbb{P}_\\theta: \\theta\\in \\Theta \\right\\}$ - сататистический эксперимент\n",
        "\n",
        "  $H_0: \\theta=\\theta_0$ - простая основная гипотеза\n",
        "\n",
        "  $H_A: \\theta \\in \\theta_1$ - простая альтернатива\n",
        "\n",
        "  $\\mathbb{P} = \\left\\{ \\mathbb{P}_{\\theta_0}; \\mathbb{P}_{\\theta_1};\\right\\}$\n",
        "\n",
        "*   Статстика отношения правдоподобия:\n",
        "  $$LR(\\overrightarrow{X},\\theta_1, \\theta_0)=\\frac{L(\\overrightarrow{X}, \\theta_1)}{L(\\overrightarrow{X}, \\theta_0)},$$\n",
        "  \n",
        "  где $L(\\overrightarrow{X}, \\theta_1)$ - функция правдоподобия при верной альтернативной гипотезы, $L(\\overrightarrow{X}, \\theta_1)$ - основной.\n",
        "\n",
        "*   Фундментальная лемма Неймана-Пирсона\n",
        "\n",
        "  1. Существует наиболее значимы критерий уровня значимости $\\alpha$\n",
        "\n",
        "  2. $$\\varphi(X)=\\begin{cases}\n",
        "      1, & LR(X)> C\\\\\n",
        "      p, & LR(X)= C\\\\\n",
        "      0, & LR(X)< C\\\\\n",
        "  \\end{cases}$$\n",
        "  Если константа C и веротяность $p\\in[0,1]$ определяются из уравнения:\n",
        "  $\\mathbb{E}_{\\theta_0}\\varphi(X)=\\mathbb{P}_{\\theta_0}(LR(X)>C)+p\\cdot \\mathbb{P}_{\\theta_0}(LR(X)=C)=\\alpha$, то критерий считается наиболее мощным\n",
        "\n",
        "  3. В обласи $LR(X)\\ne C$ наиболее мощный критерий $\\phi$ определен однозначно."
      ]
    },
    {
      "cell_type": "markdown",
      "id": "8RaTUiLqFzSr",
      "metadata": {
        "id": "8RaTUiLqFzSr"
      },
      "source": [
        "---\n",
        "\n",
        "**Критерий Колмогорова-Смирнова:**\n",
        "\n",
        "* $X_1, ... , X_n$ - выборка из распределения функции распрделения F.\n",
        "\n",
        "  $H_0: F \\equiv F_0$ - простая гипотеза согласия, $F_0$- непрерывная функция распределения\n",
        "\n",
        "  $H_А: F(x) \\ne F_0(x)$ - альтернатива, при некотором $x\\in \\mathbb{R}$\n",
        "\n",
        "* Сатитистика критерия Колмогорова: $D_n=\\sup_x|F_n(x)-F_0(x)|$, где $F_n(x)=\\frac{1}{n}\\sum_{i=1}^{n}\\mathbb{1}_{X_i\\lt x}$\n",
        "\n",
        "* Теорема Колмогорова:\n",
        "  $\\sqrt{n}D_n\\Rightarrow \\mathcal{K}$ при основной гипотезе,\n",
        "  или $\\mathbb{P}_{F_0}(\\sqrt{n} D_n\\lt x)\\to K(x), x\\in\\mathbb{R}$\n",
        "\n",
        "  $\\mathcal{K}$ - распределение Колмогорова\n",
        "\n",
        "  $K(x)$ - функция распределения Колмогорова\n",
        "  $K_n(x)$ - функция точного распределения статистики $\\mathbb{D}_n$\n",
        "\n",
        "* Критерий:\n",
        "\n",
        "  $\\widetilde{\\phi}(x) =\n",
        "  \\begin{cases}\n",
        "    0, \\widehat{D}_n \\le x_\\alpha;\\\\\n",
        "    1, \\widehat{D}_n \\gt x_\\alpha,\n",
        "  \\end{cases}$\n",
        "\n",
        "  $x_\\alpha: K(x_\\alpha/\\sqrt{n})=1-\\alpha$ - для асимптотического критерия\n",
        "\n",
        "  $x_\\alpha: K(x_\\alpha)=1-\\alpha$ - для точного критерия\n",
        "\n",
        "\n",
        "---\n",
        "\n",
        "**CDF (cumulative distribution function)** — функция распределения, которая показывает вероятность того, что переменная принимает значение, меньшее или равное значению x.\n",
        "\n",
        "**PPF (percent point function)** — обратная функция распределения, которая вычисляет вероятность того, что переменная принимает значение, меньшее или равное определенному значению для заданного x.\n",
        "\n",
        "**PDF (percent point function)** —"
      ]
    },
    {
      "cell_type": "markdown",
      "id": "u4i_ZLASEu8-",
      "metadata": {
        "id": "u4i_ZLASEu8-"
      },
      "source": [
        "## Постановка задачи\n",
        "Для полученных в результате эксперимента наборов данных выполнить статистическую обработку. Полученные результаты содержательно проинтерпретировать."
      ]
    },
    {
      "cell_type": "markdown",
      "id": "osjf07kxEzus",
      "metadata": {
        "id": "osjf07kxEzus"
      },
      "source": [
        "## Выполнение работы\n",
        "Каждый пункт работы (*по возможности*) выполняется с помощью кода.\n",
        "### Часть 1.\n",
        "####**a) Построение эмпиричекого вариационного ряда, эмпирической функции распределения и гистограммы чатот.**\n",
        "\n",
        "Вариационный ряд: (0  1,  1,  1,  2,  2,  2,  2,  2,  2,  2,  2,  2,  3,  3,  3,  3, 3,  3,  3,  3,  3,  3,  4,  4,  4,  4,  4,  4,  4,  4,  4,  5,  5, 5,  5,  5,  5,  5,  6,  6,  6,  6,  6,  6,  7,  7,  8,  8, 10)\n",
        "\n",
        "\n",
        "|Значение      | 0  | 1  |  2 |  3 |  4 |  5 |  6 |  7 |  8 | 10 |$\\sum$|\n",
        "|---           |----|----|----|----|----|----|----|----|----|----|------|\n",
        "|Вероятность   |0.02|0.06|0.18|0.2 |0.18|0.14|0.12|0.04|0.04|0.02|   1  |\n",
        "\n",
        "\n",
        "$F_n(x) = \\begin{cases}\n",
        "      0, & \\text{if}\\ x\\leqslant 0 \\\\\n",
        "      0.02, & \\text{if}\\ x\\in (0;1] \\\\\n",
        "      0.08, & \\text{if}\\ x\\in (1;2] \\\\\n",
        "      0.26, & \\text{if}\\ x\\in (2;3] \\\\\n",
        "      0.46, & \\text{if}\\ x\\in (3;4] \\\\\n",
        "      0.64, & \\text{if}\\ x\\in (4;5] \\\\\n",
        "      0.78, & \\text{if}\\ x\\in (5;6] \\\\\n",
        "      0.90, & \\text{if}\\ x\\in (6;7] \\\\\n",
        "      0.94, & \\text{if}\\ x\\in (7;8] \\\\\n",
        "      0.98, & \\text{if}\\ x\\in (8;10] \\\\\n",
        "      1, & \\text{if}\\ x\\in (10;∞) \\\\\n",
        "    \\end{cases}\n",
        "$"
      ]
    },
    {
      "cell_type": "code",
      "execution_count": 3,
      "id": "d3a8e48c-64d3-46ad-beab-a7dfaa6e629d",
      "metadata": {
        "id": "d3a8e48c-64d3-46ad-beab-a7dfaa6e629d",
        "tags": []
      },
      "outputs": [],
      "source": [
        "import numpy as np\n",
        "import matplotlib.pyplot as plt\n",
        "from scipy import stats as sp"
      ]
    },
    {
      "cell_type": "code",
      "execution_count": 10,
      "id": "b7d74aa1-0da4-4cb9-8142-7659c3a79590",
      "metadata": {
        "colab": {
          "base_uri": "https://localhost:8080/"
        },
        "id": "b7d74aa1-0da4-4cb9-8142-7659c3a79590",
        "outputId": "c12da861-72c7-406a-b353-413b34b253ca",
        "tags": []
      },
      "outputs": [
        {
          "data": {
            "text/plain": [
              "array([ 0,  1,  1,  1,  2,  2,  2,  2,  2,  2,  2,  2,  2,  3,  3,  3,  3,\n",
              "        3,  3,  3,  3,  3,  3,  4,  4,  4,  4,  4,  4,  4,  4,  4,  5,  5,\n",
              "        5,  5,  5,  5,  5,  6,  6,  6,  6,  6,  6,  7,  7,  8,  8, 10])"
            ]
          },
          "execution_count": 10,
          "metadata": {},
          "output_type": "execute_result"
        }
      ],
      "source": [
        "#выборка\n",
        "sample = np.array([5, 3, 1, 6, 4, 1, 2, 4,\n",
        "                7, 4, 5, 2, 2, 4, 3, 5,\n",
        "                4, 2, 2, 5, 5, 5, 6, 3,\n",
        "                6, 2, 1, 3, 3, 3, 6, 4,\n",
        "                8, 2, 4, 8, 2, 3, 6, 10,\n",
        "                7, 5, 3, 4, 4, 3, 6, 0, 2, 3])\n",
        "\n",
        "# получаем вариационный ряд\n",
        "var_series = np.sort(sample)\n",
        "var_series"
      ]
    },
    {
      "cell_type": "code",
      "execution_count": 12,
      "id": "Oxpwx6qm3Y8i",
      "metadata": {
        "colab": {
          "base_uri": "https://localhost:8080/",
          "height": 472
        },
        "id": "Oxpwx6qm3Y8i",
        "outputId": "95c57e3c-4771-497e-96e0-479bb4bcc57e"
      },
      "outputs": [
        {
          "data": {
            "image/png": "[encoded data removed]",
            "text/plain": [
              "<Figure size 640x480 with 1 Axes>"
            ]
          },
          "metadata": {},
          "output_type": "display_data"
        }
      ],
      "source": [
        "#строим эмпирическую функцию распределения\n",
        "# from statsmodels.distributions.empirical_distribution import ECDF\n",
        "# ecdf = ECDF(sample)\n",
        "# plt.step(ecdf.x, ecdf.y,  linestyle= 'dashed')\n",
        "# plt.ylabel('$F(x)$', fontsize=20)\n",
        "# plt.xlabel('$x$', fontsize=20)\n",
        "\n",
        "intervals = [(-2, 0), (0, 1), (1, 2), (2, 3), (3, 4), (4,5), (5,6), (6,7), (7,8), (8,10), (10, 12)]\n",
        "p = [0, 0.02, 0.08, 0.26, 0.46, 0.64, 0.78, 0.9, 0.94, 0.98, 1]\n",
        "for i in range(len(p)):\n",
        "  plt.hlines(p[i], intervals[i][0]+0.1, intervals[i][1], colors='b')\n",
        "  if(i!=0):\n",
        "    plt.scatter(intervals[i][0], p[i], s=20, facecolors='none', linewidths = 1,  edgecolors='b')\n",
        "  if(i!=len(p)-1):\n",
        "    plt.scatter(intervals[i][1], p[i], s=20, c =\"blue\", linewidths = 1,  edgecolors='b')\n",
        "\n",
        "plt.title('Эмпирическая функция распределения')\n",
        "plt.ylabel('$F(x)$')\n",
        "plt.xlabel('$x$')\n",
        "plt.show()\n"
      ]
    },
    {
      "cell_type": "code",
      "execution_count": null,
      "id": "tUniOlzY3Zv6",
      "metadata": {
        "colab": {
          "base_uri": "https://localhost:8080/",
          "height": 521
        },
        "id": "tUniOlzY3Zv6",
        "outputId": "c413c700-28f8-4250-9d82-f6c666b383a4"
      },
      "outputs": [
        {
          "data": {
            "text/plain": [
              "(array([ 1.,  3.,  9., 10.,  9.,  7.,  6.,  2.,  2.,  0.,  1.]),\n",
              " array([ 0.        ,  0.90909091,  1.81818182,  2.72727273,  3.63636364,\n",
              "         4.54545455,  5.45454545,  6.36363636,  7.27272727,  8.18181818,\n",
              "         9.09090909, 10.        ]),\n",
              " <BarContainer object of 11 artists>)"
            ]
          },
          "execution_count": 9,
          "metadata": {},
          "output_type": "execute_result"
        },
        {
          "data": {
            "image/png": "[encoded data removed]",
            "text/plain": [
              "<Figure size 640x480 with 1 Axes>"
            ]
          },
          "metadata": {},
          "output_type": "display_data"
        }
      ],
      "source": [
        "# строим гистограмму частот\n",
        "plt.hist(sample, bins=11, edgecolor='black')"
      ]
    },
    {
      "cell_type": "markdown",
      "id": "t1076OQrzbjE",
      "metadata": {
        "id": "t1076OQrzbjE"
      },
      "source": [
        "####**b) Нахождение значений выборочных числовых характеристик.**\n",
        "\n",
        "$\n",
        "\\overline{X}  = 3.96\n",
        "$\n",
        "\n",
        "$\n",
        "S^2= 4.1184\n",
        "$\n",
        "\n",
        "$\n",
        "\\sigma\\approx 2.029\n",
        "$\n",
        "\n",
        "$\n",
        "Me = 4\n",
        "$\n",
        "\n",
        "$\n",
        "\\widehat{ASI}\\approx0.619\n",
        "$\n",
        "\n",
        "$\n",
        "\\widehat{EXC}\\approx0.418\n",
        "$\n",
        "\n",
        "$\n",
        "\\mathbb{P}(X\\in\\left[ a,b \\right]) =  0.18\n",
        "$\n"
      ]
    },
    {
      "cell_type": "code",
      "execution_count": null,
      "id": "5BpeMDo-fAG3",
      "metadata": {
        "colab": {
          "base_uri": "https://localhost:8080/"
        },
        "id": "5BpeMDo-fAG3",
        "outputId": "d7d4d368-1c53-484b-c5f1-2443b18d4398"
      },
      "outputs": [
        {
          "name": "stdout",
          "output_type": "stream",
          "text": [
            "Выборочное среднее: -1.01426\n",
            "Выборочная дисперсия : 0.041\n",
            "Выборочное СКО: 0.203\n",
            "Выборочная медиана: -1.007\n",
            "Асимметрия: -0.455\n",
            "Эксцесс: 0.43\n",
            "Вероятность: 0.0\n"
          ]
        }
      ],
      "source": [
        "# нахождение выборочного среднего\n",
        "X_mean = np.mean(sample)\n",
        "print(\"Выборочное среднее:\", X_mean)\n",
        "\n",
        "# нахождение выборочной дисперсии\n",
        "print(\"Выборочная дисперсия :\", np.round(np.var(sample), decimals=3))\n",
        "\n",
        "# выборочное СКО\n",
        "print(\"Выборочное СКО:\", np.round(np.std(sample), decimals=3))\n",
        "\n",
        "# выборочная медиана\n",
        "print(\"Выборочная медиана:\", np.median(sample))\n",
        "\n",
        "# коэффициент асимметрии\n",
        "SKE = np.round(sp.skew(sample, bias= False),decimals=3)\n",
        "print(\"Асимметрия:\", SKE)\n",
        "\n",
        "# коэффициент эксцесса\n",
        "KUR = np.round(sp.kurtosis(sample, bias= False), decimals=3)\n",
        "print(\"Эксцесс:\", KUR)\n",
        "\n",
        "# вероятность\n",
        "a = 3.20\n",
        "b = 4.40\n",
        "P = len([x for x in sample if a <= x <= b]) / len(sample)\n",
        "print(\"Вероятность:\", P)"
      ]
    },
    {
      "cell_type": "markdown",
      "id": "PzPXbpzizjkb",
      "metadata": {
        "id": "PzPXbpzizjkb"
      },
      "source": [
        "####**c) Построение ОМП параметра $\\theta = \\lambda$ , а также оценки $\\lambda$ по методу моментов. Нахождение смещения оценок.**\n",
        "\n",
        "Учитем, что исходные наблюдения являются выборкой из распределения Пуассона.\n",
        "\n",
        "Найдем точечную оценку методом максимального правдоподобия:\n",
        "\n",
        "$P(X_i=x)=\\frac{\\lambda^x}{x!}e^{-\\lambda} $\n",
        "\n",
        "$L(\\overrightarrow{X}, \\theta) = \\prod_{i=1}^{n}\\frac{\\lambda^{x_i}}{x_i!}e^{-\\lambda} = \\frac{\\lambda^{-\\sum_{i=1}^{n}x_i}\n",
        "}{\\prod_{i=1}^{n}x_i!}e^{-n\\lambda}$\n",
        "\n",
        "$LL(\\overrightarrow{X}, \\theta) = \\sum_{i=1}^{n}x_i \\cdot ln\\lambda - ln\\left( \\prod_{i=1}^{n}x_i! \\right)-n\\lambda$\n",
        "\n",
        "$\\frac{\\partial LL(\\overrightarrow{X}, \\theta)}{\\partial \\lambda} = \\frac{\\sum_{i=1}^{n}x_i }{\\lambda}-n$\n",
        "\n",
        "$\\frac{\\sum_{i=1}^{n}x_i }{\\lambda}-n = 0$\n",
        "\n",
        "$\\lambda = \\frac{\\sum_{i=1}^{n}x_i}{n}$\n",
        "\n",
        "$\\widehat{\\lambda} = \\overline{X} = 3.96$\n",
        "\n",
        "Найдем точечную оценку методом моментов:\n",
        "\n",
        "$\\mathbb{E}X_1=\\lambda;$  $\\mu_1=\\overline{X};$\n",
        "\n",
        "$\\widehat{\\lambda} = \\overline{X} = 3.96$\n",
        "\n",
        "Найдем смещение оценки:\n",
        "\n",
        "$\\mathbb{E}_\\theta\\widehat{\\theta}=\\mathbb{E}_\\theta\\widehat{\\lambda}=\\mathbb{E}_\\theta\\overline{X}=\n",
        "\\mathbb{E}\\frac{\\sum_{i=1}^{n}}{n}=\\frac{\\sum_{i=1}^{n}\\mathbb{E_\\theta}X}{n}=\\frac{\\sum_{i=1}^{n}\\lambda}{n}=\\frac{n\\lambda}{n}=\\lambda$\n",
        "\n",
        "Следовательно оценка несмещенная, смещение равно 0.\n",
        "\n",
        "####**d) Построение асимптотического доверительного интервала уровня значимости $\\alpha$ для парметра $\\lambda$ на базе оценки максимального правдоподобия.**\n",
        "\n",
        "  $\\mathbb{I}_n(a)=-\\mathbb{E}\\frac{\\partial^2 LL(\\overrightarrow{X},\\theta)}{\\partial \\lambda^2}=-\\frac{n}{\\lambda}$\n",
        "\n",
        "  $\\frac{\\partial LL(\\overrightarrow{X},\\theta))}{\\partial \\lambda} = \\frac{\\sum_{i=1}^{n}x_i}{\\lambda}-n$\n",
        "\n",
        "  $\\frac{\\partial^2 LL(\\overrightarrow{X},\\theta)}{\\partial  \\lambda^2}=-\\frac{\\sum_{i=1}^{n}x_i}{\\lambda^2}$\n",
        "\n",
        "  $\\mathbb{E}\\frac{\\partial^2 LL(\\overrightarrow{X},\\theta)}{\\partial a^2}=\\mathbb{E}\\left( -\\frac{\\sum_{i=1}^{n}x_i}{\\lambda^2} \\right)=-\\frac{n\\lambda}{\\lambda^2}=-\\frac{n}{\\lambda}$\n",
        "\n",
        "\n",
        "  $\\mathbb{I}_n(\\lambda)=-\\mathbb{E}\\frac{\\partial^2 LL(\\overrightarrow{X},\\theta)}{\\partial \\sigma^2}=\\frac{n}{\\lambda}$\n",
        "\n",
        "  $I(\\lambda)=\\frac{1}{\\lambda}$\n",
        "\n",
        "  $\\sqrt{n}(\\overline{X}-\\lambda)\\Rightarrow \\mathcal{N}(0,\\overline{X})$  \n",
        "\n",
        "  $\\sqrt\\frac{n}{\\overline{X}}(\\overline{X}-\\lambda)\\Rightarrow \\mathcal{N}(0,1)$\n",
        "\n",
        "  $\\alpha_1= 0.01$\n",
        "\n",
        "  $x_{\\alpha_1}: \\Phi(x_{\\alpha_1})=1-\\frac{{\\alpha_1}}{2}=0,995$\n",
        "\n",
        "  $\\left[ \\overline{X}-\\frac{x_{\\alpha_1}\\sqrt{\\overline{X}}}{\\sqrt{n}};  \\overline{X}+\\frac{x_{\\alpha_1}\\sqrt{\\overline{X}}}{\\sqrt{n}}\\right] \\ni \\lambda$\n",
        "\n",
        "  $x_{\\alpha_1}\\approx 2.576$\n",
        "\n",
        "  $\\left[ 3.235 ; 4.685 \\right] \\ni \\lambda$"
      ]
    },
    {
      "cell_type": "code",
      "execution_count": null,
      "id": "-sbTULjP8PSN",
      "metadata": {
        "colab": {
          "base_uri": "https://localhost:8080/"
        },
        "id": "-sbTULjP8PSN",
        "outputId": "f6ca9a7e-8c0f-4fe1-e4e5-b359c8833015"
      },
      "outputs": [
        {
          "name": "stdout",
          "output_type": "stream",
          "text": [
            "Квантиль: 2.576\n",
            "Интервал: [ 3.235 ; 4.685 ]\n"
          ]
        }
      ],
      "source": [
        "from scipy.stats import norm\n",
        "import numpy as np\n",
        "fx = 0.995\n",
        "x_a1 = norm.ppf(fx)\n",
        "print(\"Квантиль:\", np.round(x_a1, decimals=3))\n",
        "\n",
        "left_bound = 3.96 - x_a1*np.sqrt(X_mean)/np.sqrt(50)\n",
        "right_bound = 3.96 + x_a1*np.sqrt(X_mean)/np.sqrt(50)\n",
        "\n",
        "print(\"Интервал: [\", np.round(left_bound, decimals=3), \";\", np.round(right_bound, decimals=3), \"]\")\n"
      ]
    },
    {
      "cell_type": "markdown",
      "id": "S5QYgQJ39k8v",
      "metadata": {
        "id": "S5QYgQJ39k8v"
      },
      "source": [
        "####**e) Построение критерия $\\chi^2$ проверки простой гипотезы согласия с распределением Пуассона и параметром $\\lambda_0=5.00$.**\n",
        "\n",
        "Таблица частот\n",
        "\n",
        "|j                     | 0  | 1  |  2 |  3 |  4 |  5 |  6 |  7 |  8 | 9 |\n",
        "|----------------------|:--:|:--:|:--:|:--:|:--:|:--:|:--:|:--:|:--:|:--:|\n",
        "|$$\\nu_j (x =X_{(i)})$$|  1 |   3|   9| 10 |9   |   7|   6|   2|   2|   1|\n",
        "\n",
        "Таблица интервалов\n",
        "\n",
        "|j        | 0    | 1   |  2  |  3  |  4  |  5  |  6  |  7  |  8  |   9  |$\\sum$|\n",
        "|:-------:|:----:|:---:|:---:|:---:|:---:|:---:|:---:|:---:|:---:|:----:|:----:|\n",
        "|$I_j$   |(-∞;0]|(0;1]|(1;2]|(2;3]|(3;4]|(4;5]|(5;6]|(6;7]|(7;8]|(8;+∞)|(-∞;+∞)|\n",
        "|$p_{i0}$ |0.007|0.034|0.084| 0.14|0.175|0.175 |0.146|0.104|0.065|0.068|  1    |\n",
        "|$np_{i0}$|0.35 |1.7  |4.2  |7.0  | 8.75| 8.75 | 7.3 | 5.2 | 3.25| 3.4 |  50   |\n",
        "\n",
        "\n",
        "$X^2=\\sum_{i=1}^{r}\\frac{(\\nu_i-np_{i0})^2}{np_{i0}} = 13.705$\n"
      ]
    },
    {
      "cell_type": "code",
      "execution_count": null,
      "id": "hmkXIOirbVe4",
      "metadata": {
        "colab": {
          "base_uri": "https://localhost:8080/"
        },
        "id": "hmkXIOirbVe4",
        "outputId": "c31d75b6-eeee-4522-87c9-c5a7210c9bc3"
      },
      "outputs": [
        {
          "name": "stdout",
          "output_type": "stream",
          "text": [
            "Эмпирические частоты:  {0: 1, 1: 3, 2: 9, 3: 10, 4: 9, 5: 7, 6: 6, 7: 2, 8: 2, 10: 1} \n",
            "\n",
            "Вероятности попадания в интервал: \n",
            "p_0:  0.007\n",
            "p_1:  0.034\n",
            "p_2:  0.084\n",
            "p_3:  0.14\n",
            "p_4:  0.175\n",
            "p_5:  0.175\n",
            "p_6:  0.146\n",
            "p_7:  0.104\n",
            "p_8:  0.065\n",
            "p_9:  0.068\n",
            "\n",
            "Ожидаемые частоты: \n",
            "np_0:  0.35\n",
            "np_1:  1.7\n",
            "np_2:  4.2\n",
            "np_3:  7.0\n",
            "np_4:  8.75\n",
            "np_5:  8.75\n",
            "np_6:  7.3\n",
            "np_7:  5.2\n",
            "np_8:  3.25\n",
            "np_9:  3.4\n",
            "\n",
            "X2 = 13.705\n"
          ]
        }
      ],
      "source": [
        "import numpy as np\n",
        "from scipy.stats import poisson\n",
        "\n",
        "lambda0 = 5.00\n",
        "poisson_lambda0 = poisson(lambda0)\n",
        "\n",
        "def find_count(data):\n",
        "    counts = {}\n",
        "    for num in data:\n",
        "        if num in counts:\n",
        "            counts[num] += 1\n",
        "        else:\n",
        "            counts[num] = 1\n",
        "    return counts\n",
        "\n",
        "frequencies = find_count(sample)\n",
        "sorted_frequencies = dict(sorted(frequencies.items()))\n",
        "print(\"Эмпирические частоты: \", sorted_frequencies, \"\\n\")\n",
        "sorted_frequencies_arr = list(sorted_frequencies.values())\n",
        "\n",
        "def calculate_probability(intervals):\n",
        "    sum = 0\n",
        "    probabilities = np.zeros(len(intervals))\n",
        "\n",
        "    probabilities[0] = np.round(poisson_lambda0.cdf(intervals[0]), decimals=3)\n",
        "    sum += probabilities[0]\n",
        "\n",
        "    for i in range(1,len(intervals)):\n",
        "      probabilities[i] =  np.round(poisson_lambda0.cdf(intervals[i]) - poisson_lambda0.cdf(intervals[i-1]), decimals=3)\n",
        "      sum += probabilities[i]\n",
        "\n",
        "    probabilities[len(intervals)-1] += np.round(1-poisson_lambda0.cdf(intervals[len(intervals)-1]), decimals=3)\n",
        "    sum +=  1-poisson_lambda0.cdf(intervals[len(intervals)-1])\n",
        "    # print(sum, \"\\n\")\n",
        "    return probabilities\n",
        "\n",
        "intervals = list(sorted_frequencies.keys())\n",
        "probabilities = calculate_probability(intervals)\n",
        "\n",
        "#расчет вероятностей попадания в интервал\n",
        "print(\"Вероятности попадания в интервал: \")\n",
        "for i in range(len(probabilities)): print(f\"p_{i}: \", probabilities[i])\n",
        "\n",
        "#расчт теоретических частот\n",
        "print(\"\\nОжидаемые частоты: \")\n",
        "for i in range(len(probabilities)):\n",
        "    probabilities[i] *= len(sample)\n",
        "    print(f\"np_{i}: \", np.round(probabilities[i], decimals=3))\n",
        "\n",
        "#расчет статистики\n",
        "X2 = np.round(((sorted_frequencies_arr - probabilities) ** 2 / probabilities).sum(), decimals=3)\n",
        "print(\"\\nX2 =\", X2)"
      ]
    },
    {
      "cell_type": "markdown",
      "id": "rHOiK1al_wDX",
      "metadata": {
        "id": "rHOiK1al_wDX"
      },
      "source": [
        "$x_{\\alpha_1}: K_{r-1}(x_{\\alpha_1}) = 1-\\alpha_1 = 1-0.01 = 0.99$\n",
        "\n",
        "$x_{\\alpha_1}\\approx 21.666$\n",
        "\n",
        "$\\phi(x)=0$, значит основую гипотезу принимаем"
      ]
    },
    {
      "cell_type": "code",
      "execution_count": null,
      "id": "U5fJpc4A_nvI",
      "metadata": {
        "colab": {
          "base_uri": "https://localhost:8080/"
        },
        "id": "U5fJpc4A_nvI",
        "outputId": "eee48fab-bc6a-4ff5-cd2f-e51d5ac8ff89"
      },
      "outputs": [
        {
          "name": "stdout",
          "output_type": "stream",
          "text": [
            "Квантиль: 21.666\n",
            "Критерий: 0\n"
          ]
        }
      ],
      "source": [
        "from scipy.stats import chi2\n",
        "\n",
        "alpha_1 = 0.01\n",
        "fx = 0.99\n",
        "x_a1 = chi2.ppf(fx, df= len(probabilities)-1) #использут уровень значимости\n",
        "print(\"Квантиль:\", np.round(x_a1, decimals=3))\n",
        "\n",
        "def criteria(x_a, X2):\n",
        "  if(x_a>=X2):\n",
        "    return 0\n",
        "  else:\n",
        "    return 1\n",
        "\n",
        "phi = criteria(x_a1, X2)\n",
        "print('Критерий:', phi)"
      ]
    },
    {
      "cell_type": "markdown",
      "id": "_A-sRHhUQp5a",
      "metadata": {
        "id": "_A-sRHhUQp5a"
      },
      "source": [
        "Вычислим наибольшее значение уровня значимости, на котором нет оснований отвергнуть гипотезу.\n",
        "Так как максимальное значение уровня значимости будет при $x_\\alpha=X^2$, то рассчитаем $\\alpha = 1 - K_{r-1}(X^2) \\approx 0.133$"
      ]
    },
    {
      "cell_type": "code",
      "execution_count": null,
      "id": "DHSkZFLAH5O-",
      "metadata": {
        "colab": {
          "base_uri": "https://localhost:8080/"
        },
        "id": "DHSkZFLAH5O-",
        "outputId": "824e3120-4b6e-4484-9202-804cb1dce88c"
      },
      "outputs": [
        {
          "name": "stdout",
          "output_type": "stream",
          "text": [
            "Наибольшее значение уровня значимости для принятия нулевой гипотезы: 0.1332126933585991\n"
          ]
        }
      ],
      "source": [
        "a_max = 1 - chi2.cdf(X2, len(probabilities)-1)#использует значение квантили\n",
        "print(\"Наибольшее значение уровня значимости для принятия нулевой гипотезы:\", a_max)"
      ]
    },
    {
      "cell_type": "markdown",
      "id": "WLAybNT8LsM7",
      "metadata": {
        "id": "WLAybNT8LsM7"
      },
      "source": [
        "####**f) Построение критерия значимости $\\chi^2$ проверки сложной гипотезы с распределением Пуассона.**\n",
        "Интервалы используем из предыдущего пункта, статистику критерия находим по первому варианту, т.к. ОМП была надена ранее: $\\widehat{\\lambda} = 3.96$."
      ]
    },
    {
      "cell_type": "code",
      "execution_count": null,
      "id": "OjxwZB1py-RT",
      "metadata": {
        "colab": {
          "base_uri": "https://localhost:8080/"
        },
        "id": "OjxwZB1py-RT",
        "outputId": "61297e2c-4d24-4667-fd26-a5e976e3b516"
      },
      "outputs": [
        {
          "name": "stdout",
          "output_type": "stream",
          "text": [
            "Вероятности попадания в интервал: \n",
            "p_0:  0.019\n",
            "p_1:  0.075\n",
            "p_2:  0.149\n",
            "p_3:  0.197\n",
            "p_4:  0.195\n",
            "p_5:  0.155\n",
            "p_6:  0.102\n",
            "p_7:  0.058\n",
            "p_8:  0.029\n",
            "p_9:  0.021\n",
            "\n",
            "Ожидаемые частоты: \n",
            "np_0:  0.95\n",
            "np_1:  3.75\n",
            "np_2:  7.45\n",
            "np_3:  9.85\n",
            "np_4:  9.75\n",
            "np_5:  7.75\n",
            "np_6:  5.1\n",
            "np_7:  2.9\n",
            "np_8:  1.45\n",
            "np_9:  1.05\n",
            "\n",
            "X2 = 1.257\n"
          ]
        }
      ],
      "source": [
        "import numpy as np\n",
        "from scipy.stats import poisson\n",
        "\n",
        "lambda_hat = 3.96\n",
        "poisson_lambda_hat = poisson(lambda_hat)\n",
        "\n",
        "\n",
        "def calculate_probability(intervals):\n",
        "    sum = 0\n",
        "    probabilities = np.zeros(len(intervals))\n",
        "\n",
        "    probabilities[0] = np.round(poisson_lambda_hat.cdf(intervals[0]), decimals=3)\n",
        "    sum += probabilities[0]\n",
        "\n",
        "    for i in range(1,len(intervals)):\n",
        "      probabilities[i] =  np.round(poisson_lambda_hat.cdf(intervals[i]) - poisson_lambda_hat.cdf(intervals[i-1]), decimals=3)\n",
        "      sum += probabilities[i]\n",
        "\n",
        "    probabilities[len(intervals)-1] += 1-poisson_lambda_hat.cdf(intervals[len(intervals)-1])\n",
        "    probabilities[len(intervals)-1]  =  round(probabilities[len(intervals)-1],3)\n",
        "    sum +=  1-poisson_lambda_hat.cdf(intervals[len(intervals)-1])\n",
        "    # print(sum, \"\\n\")\n",
        "    return probabilities\n",
        "\n",
        "intervals = list(sorted_frequencies.keys())\n",
        "probabilities = calculate_probability(intervals)\n",
        "\n",
        "#расчет вероятностей попадания в интервал\n",
        "print(\"Вероятности попадания в интервал: \")\n",
        "for i in range(len(probabilities)): print(f\"p_{i}: \", probabilities[i])\n",
        "\n",
        "#расчт теоретических частот\n",
        "print(\"\\nОжидаемые частоты: \")\n",
        "for i in range(len(probabilities)):\n",
        "    probabilities[i] *= len(sample)\n",
        "    print(f\"np_{i}: \", np.round(probabilities[i], decimals=3))\n",
        "\n",
        "#расчет статистики\n",
        "X2 = np.round(((sorted_frequencies_arr - probabilities) ** 2 / probabilities).sum(), decimals=3)\n",
        "print(\"\\nX2 =\", X2)"
      ]
    },
    {
      "cell_type": "code",
      "execution_count": null,
      "id": "I9-2BJnHXbOy",
      "metadata": {
        "colab": {
          "base_uri": "https://localhost:8080/"
        },
        "id": "I9-2BJnHXbOy",
        "outputId": "1645687d-23f5-4a3b-ecdc-398ba1759f9c"
      },
      "outputs": [
        {
          "name": "stdout",
          "output_type": "stream",
          "text": [
            "Квантиль: 20.09\n",
            "Критерий: 0\n"
          ]
        }
      ],
      "source": [
        "from scipy.stats import chi2\n",
        "\n",
        "alpha_1 = 0.01\n",
        "x_a1 = chi2.ppf(1-alpha_1, df=len(probabilities)-1-1)\n",
        "print(\"Квантиль:\", np.round(x_a1, decimals=3))\n",
        "\n",
        "def criteria(x_a, X2):\n",
        "  if(x_a>=X2):\n",
        "    return 0\n",
        "  else:\n",
        "    return 1\n",
        "\n",
        "phi = criteria(x_a1, X2)\n",
        "print('Критерий:', phi)"
      ]
    },
    {
      "cell_type": "code",
      "execution_count": null,
      "id": "JT5XQyCikbLT",
      "metadata": {
        "colab": {
          "base_uri": "https://localhost:8080/"
        },
        "id": "JT5XQyCikbLT",
        "outputId": "6aa05dd6-4b33-43e9-de6e-94b4bff89be7"
      },
      "outputs": [
        {
          "name": "stdout",
          "output_type": "stream",
          "text": [
            "Наибольшее значение уровня значимости для принятия нулевой гипотезы: 0.9960461749554811\n"
          ]
        }
      ],
      "source": [
        "a_max = 1 - chi2.cdf(X2, len(probabilities)-1-1)#использует значение квантили\n",
        "print(\"Наибольшее значение уровня значимости для принятия нулевой гипотезы:\", a_max)"
      ]
    },
    {
      "cell_type": "markdown",
      "id": "i3g3WEBUZrTR",
      "metadata": {
        "id": "i3g3WEBUZrTR"
      },
      "source": [
        "####**g) Построение наиболее мощного критерия проверки простой гипотезы пуассоновости с параматром $\\lambda = \\lambda_0 =5.00$ при альтернативе пуассоновости с параметром $\\lambda = \\lambda_1 = 4.00$, при уровне значимости $\\alpha_1=0.01$.**\n",
        "\n",
        "Гипотезы:\n",
        "\n",
        "$H_0: F(X)\\in Pois(\\lambda_0)$\n",
        "\n",
        "$H_A: F(X)\\in Pois(\\lambda_1)$\n",
        "\n",
        "Критерий:\n",
        "\n",
        "$\\phi(\\overrightarrow X) = \\begin{cases}\n",
        "  1, LR(\\overrightarrow X, \\lambda_0, \\lambda_1) > C \\\\\n",
        "  p, LR(\\overrightarrow X, \\lambda_0, \\lambda_1) = C \\\\\n",
        "  0, LR(\\overrightarrow X, \\lambda_0, \\lambda_1) < C\n",
        "\\end{cases},$\n",
        "\n",
        "где $LR(\\overrightarrow{X},\\lambda_1,\\lambda_0) =\\frac{L(X,\\lambda_1)}{L(X,\\lambda_0)}=\\frac{\\lambda_1^{\\sum_{i=1}^{n}x_i} \\cdot e^{-n\\lambda_1}}{\\lambda_0^{\\sum_{i=1}^{n}x_i} \\cdot e^{-n\\lambda_0}}=0,8^{n \\bar X}\\cdot e^{n}$\n",
        "\n",
        "построим критерий, эквивалентный критерию отношения правдоподобия, путем преобразования неравенств:\n",
        "\n",
        "$\\phi(\\overrightarrow X) = \\begin{cases}\n",
        "  1, \\sum_{i=1}^{n}x_i \\gt \\frac{\\ln(C)-n}{\\ln0.8} \\\\\n",
        "  p, \\sum_{i=1}^{n}x_i = \\frac{\\ln(C)-n}{\\ln0.8} \\\\\n",
        "  0, \\sum_{i=1}^{n}x_i \\lt \\frac{\\ln(C)-n}{\\ln0.8}\n",
        "\\end{cases},$\n",
        "\n",
        "Запишем в термирнах $\\overline{X}$, произведем замену $\\frac{(\\ln(C)-n)}{n \\cdot \\ln0.8}=C^*$ :\n",
        "\n",
        "$\\phi(\\overrightarrow X) = \\begin{cases}\n",
        "  1, \\overline{X} \\gt C^* \\\\\n",
        "  p, \\overline{X} = C^* \\\\\n",
        "  0, \\overline{X} \\lt C^*\n",
        "\\end{cases},$\n",
        "\n",
        "Статистика $T(X)=\\overline{X}$ при верной гипотезе $H_0$ распределена по закону Пуассона $Pois(n\\lambda_0)$. Для наиболее мощного критерия найдем константу $C^*$:\n",
        "\n",
        "$\\mathbb{E}_{\\lambda_0} \\phi(X)=\\mathbb{P}_{\\lambda_0}(\\overline{X} \\gt C^*)+p\\cdot \\mathbb{P}_{\\lambda_0}(\\overline{X}=C^*)=\\alpha_1$\n",
        "\n",
        "$\\mathbb{P}_{\\lambda_0}(\\overline{X} \\gt C^*)=1-\\mathbb{P}_{\\lambda_0}(n\\overline{X} \\le nC^*)=1 - \\sum_{i=0}^{[nC^*]}\\frac{(n\\lambda_0)^i\\cdot e^{-n\\lambda_0}}{i!}$\n",
        "\n",
        "При $LR(\\overrightarrow X, \\lambda_0, \\lambda_1) \\neq C$ наиболее мощный критерий $\\phi$ опреден однозначно. Тогда:\n",
        "\n",
        "$1 - \\sum_{i=0}^{[nC^*]}\\frac{(n\\lambda_0)^i\\cdot e^{-n\\lambda_0}}{i!} = \\alpha_1$\n",
        "\n",
        "$\\sum_{i=0}^{[50C^*]}\\frac{(200)^i\\cdot e^{-200}}{i!} = 0.99$\n",
        "\n",
        "$nC^* = Pois^{-1}(1-\\alpha_1) = Pois^{-1}(0.99)$\n",
        "\n",
        "\n"
      ]
    },
    {
      "cell_type": "code",
      "execution_count": null,
      "id": "NIH1OLvNkpJ1",
      "metadata": {
        "colab": {
          "base_uri": "https://localhost:8080/"
        },
        "id": "NIH1OLvNkpJ1",
        "outputId": "16250a6d-105b-49fb-8bd1-e8abe545710d"
      },
      "outputs": [
        {
          "name": "stdout",
          "output_type": "stream",
          "text": [
            "C* = 4.68\n",
            "Критерий: 0\n"
          ]
        }
      ],
      "source": [
        "from scipy.stats import poisson\n",
        "\n",
        "C = poisson.ppf(0.99, 200)/50\n",
        "print(\"C* =\", C)\n",
        "\n",
        "def criteria(C, X):\n",
        "  if(X>C):\n",
        "    return 1\n",
        "  else:\n",
        "    return 0\n",
        "\n",
        "phi = criteria(C, X_mean)\n",
        "print('Критерий:', phi)"
      ]
    },
    {
      "cell_type": "markdown",
      "id": "Sr3jAp4VdTnN",
      "metadata": {
        "id": "Sr3jAp4VdTnN"
      },
      "source": [
        "Так как притерий равен 0, то принимаем основную гипотезу $H_0$.\n",
        "\n",
        "Если поменять гипотезы местами, то, повторя предыдущие преобразования критерия и вычисления, критерий все равно будет равняться 0. Следовательно, ничего не изменится - принимаем альтернативную гипотезу $H_0$."
      ]
    },
    {
      "cell_type": "code",
      "execution_count": null,
      "id": "kGOy5Xf_dkp-",
      "metadata": {
        "colab": {
          "base_uri": "https://localhost:8080/"
        },
        "id": "kGOy5Xf_dkp-",
        "outputId": "2132c35c-a1f7-4341-98ff-43765d613012"
      },
      "outputs": [
        {
          "name": "stdout",
          "output_type": "stream",
          "text": [
            "C* = 5.76\n",
            "Критерий: 0\n"
          ]
        }
      ],
      "source": [
        "from scipy.stats import poisson\n",
        "\n",
        "C = poisson.ppf(0.99, 200)/50\n",
        "print(\"C* =\", C)\n",
        "\n",
        "def criteria(C, X):\n",
        "  if(X>C):\n",
        "    return 1\n",
        "  else:\n",
        "    return 0\n",
        "\n",
        "phi = criteria(C, X_mean)\n",
        "print('Критерий:', phi)"
      ]
    },
    {
      "cell_type": "markdown",
      "id": "QkxhsZVkf5jV",
      "metadata": {
        "id": "QkxhsZVkf5jV"
      },
      "source": [
        "####**h-c) Будем использовать семейство геометрических распределений:** $$\\mathbb{P}_\\lambda(X=k)=\\frac{\\lambda^k}{(\\lambda+1)^{k+1}}, k\\in\\mathbb{Z}_+$$\n",
        "Построим оценки максимального правдоподобия, по методу моменту и найдем их смещение.\n",
        "\n",
        "1. ОМП:\n",
        "\n",
        "  $L(\\overrightarrow{X}, \\lambda)=\\prod_{i=1}^{n}\\frac{\\lambda^{x_i}}{(\\lambda^{x_i}+1)^{x_1+1}}=\\frac{\\lambda^{\\sum_{i=1}^{n}x_i}}{(\\lambda+1)^{n+\\sum_{i=1}^{n}x_i}}$\n",
        "\n",
        "  $LL(\\overrightarrow{X}, \\lambda)=\\sum_{i=1}^{n}x_i\\ln \\lambda-(n+\\sum_{i=1}^{n}x_i)\\ln(\\lambda+1)\\\\\n",
        "  \\frac{\\partial LL(\\overrightarrow{X}, \\lambda)}{\\partial \\lambda}=\\frac{\\sum_{i=1}^{n}x_i}{\\lambda}-\\frac{n+\\sum_{i=1}^{n}x_i}{\\lambda+1}\\\\\n",
        "  \\sum_{i=1}^{n}x_i(\\lambda+1)-\\lambda\\sum_{i=1}^{n}x_i-n\\lambda=0\\\\\n",
        "  \\sum_{i=1}^{n}x_i=n\\lambda\\\\\n",
        "  \\widehat{\\lambda}=\\frac{\\sum_{i=1}^{n}x_i}{n}=\\overline{X}$\n",
        "\n",
        "2. Оценка методом моментов:\n",
        "\n",
        "  $\\mathbb{E}X_1=\\sum_{i=1}^{n}\\lambda\\frac{\\lambda^x}{(\\lambda+1)^{x+1}}=\\lambda\\sum_{i=1}^{n}\\frac{\\lambda^x}{(\\lambda+1)^{x+1}}=\\lambda\\\\\n",
        "  M_1 = \\overline{X}\\\\\n",
        "  \\widehat{\\lambda} = \\overline{X}$\n",
        "\n",
        "3. Смещение оценки:\n",
        "\n",
        "  $\\mathbb{E}\\widehat{\\lambda} = \\mathbb{E}\\overline{X} = \\frac{\\sum_{i=1}^{n}\\mathbb{E}x_i}{n}=\\frac{n\\lambda}{n}=\\lambda$\n",
        "\n",
        "  Следовательно оценка несмещенная, смещение равно 0.\n",
        "\n"
      ]
    },
    {
      "cell_type": "markdown",
      "id": "2LYFFcF89B1n",
      "metadata": {
        "id": "2LYFFcF89B1n"
      },
      "source": [
        "####**h-d) Построение асимптотического доверительного интервала уровня значимости $\\alpha$ для парметра $\\lambda$ на базе оценки максимального правдоподобия.**\n",
        "\n",
        "  $\\mathbb{I}_n(a)=-\\mathbb{E}\\frac{\\partial^2 LL(\\overrightarrow{X},\\lambda)}{\\partial \\lambda^2}=-\\frac{n}{\\lambda}$\n",
        "\n",
        "  $\\frac{\\partial LL(\\overrightarrow{X}, \\lambda)}{\\partial \\lambda}=\\frac{\\sum_{i=1}^{n}x_i}{\\lambda}-\\frac{n+\\sum_{i=1}^{n}x_i}{\\lambda+1}$\n",
        "\n",
        "  $\\frac{\\partial^2 LL(\\overrightarrow{X},\\theta)}{\\partial  \\lambda^2}=-\\frac{\\sum_{i=1}^{n}x_i}{\\lambda^2}+\\frac{n+\\sum_{i=1}^{n}x_i}{(\\lambda+1)^2}$\n",
        "\n",
        "  $\\mathbb{E}\\frac{\\partial^2 LL(\\overrightarrow{X},\\theta)}{\\partial \\lambda^2}=\\mathbb{E}\\left( -\\frac{\\sum_{i=1}^{n}x_i}{\\lambda^2}+\\frac{n+\\sum_{i=1}^{n}x_i}{(\\lambda+1)^2} \\right) = -\\frac{n\\lambda}{\\lambda^2}+\\frac{n+n\\lambda}{(\\lambda+1)^2}$\n",
        "\n",
        "  $\\mathbb{I}_n(\\lambda)=-\\mathbb{E}\\frac{\\partial^2 LL(\\overrightarrow{X},\\theta)}{\\partial \\sigma^2}=\\frac{n}{\\lambda}-\\frac{n}{\\lambda+1}=\\frac{n}{\\lambda(\\lambda+1)}$\n",
        "\n",
        "  $I(\\lambda)=\\frac{1}{\\lambda(\\lambda+1)}$\n",
        "\n",
        "  $\\sqrt{n}(\\overline{X}-\\lambda)\\Rightarrow \\mathcal{N}(0,{\\overline{X}(\\overline{X}+1)})$  \n",
        "\n",
        "  $\\sqrt\\frac{n}{\\overline{X}(\\overline{X}+1)}(\\overline{X}-\\lambda)\\Rightarrow \\mathcal{N}(0,1)$\n",
        "\n",
        "  $\\alpha_1= 0.01$\n",
        "\n",
        "  $x_{\\alpha_1}: \\Phi(x_{\\alpha_1})=1-\\frac{{\\alpha_1}}{2}=0,995$\n",
        "\n",
        "  $\\left[ \\overline{X}-\\frac{x_{\\alpha_1}\\sqrt{\\overline{X}(\\overline{X}+1)}}{\\sqrt{n}};  \\overline{X}+\\frac{x_{\\alpha_1}\\sqrt{\\overline{X}(\\overline{X}+1)}}{\\sqrt{n}}\\right] \\ni \\lambda$\n",
        "\n",
        "  $x_{\\alpha_1}\\approx 2.576$\n",
        "\n",
        "  $\\left[ 2.346 ; 5.574 \\right] \\ni \\lambda$"
      ]
    },
    {
      "cell_type": "code",
      "execution_count": null,
      "id": "vtSsau_CLuvr",
      "metadata": {
        "colab": {
          "base_uri": "https://localhost:8080/"
        },
        "id": "vtSsau_CLuvr",
        "outputId": "11a30972-4d36-4416-d777-023df37b4b67"
      },
      "outputs": [
        {
          "name": "stdout",
          "output_type": "stream",
          "text": [
            "Квантиль: 2.576\n",
            "Интервал: [ 2.346 ; 5.574 ]\n"
          ]
        }
      ],
      "source": [
        "from scipy.stats import norm\n",
        "import numpy as np\n",
        "fx = 0.995\n",
        "x_a1 = norm.ppf(fx)\n",
        "print(\"Квантиль:\", np.round(x_a1, decimals=3))\n",
        "\n",
        "left_bound = 3.96 - x_a1*np.sqrt(X_mean*(X_mean+1))/np.sqrt(50)\n",
        "right_bound = 3.96 + x_a1*np.sqrt(X_mean*(X_mean+1))/np.sqrt(50)\n",
        "\n",
        "print(\"Интервал: [\", np.round(left_bound, decimals=3), \";\", np.round(right_bound, decimals=3), \"]\")"
      ]
    },
    {
      "cell_type": "markdown",
      "id": "w_OOxaAYNTJb",
      "metadata": {
        "id": "w_OOxaAYNTJb"
      },
      "source": [
        "####**h-e) Построение критерия $\\chi^2$ проверки простой гипотезы согласия с семейством геометричских распределений и параметром $\\lambda_0=5.00$.**\n",
        "\n",
        "Таблица частот\n",
        "\n",
        "|j                     | 0  | 1  |  2 |  3 |  4 |  5 |  6 |  7 |  8 | 10 |\n",
        "|----------------------|:--:|:--:|:--:|:--:|:--:|:--:|:--:|:--:|:--:|:--:|\n",
        "|$$\\nu_j (x =X_{(i)})$$|  1 |   3|   9| 10 |9   |   7|   6|   2|   2|   1|\n",
        "\n",
        "Таблица интервалов\n",
        "\n",
        "|j        | 0    | 1   |  2  |  3  |  4  |  5  |  6  |  7  |  8  |   9  |$\\sum$|\n",
        "|:-------:|:----:|:---:|:---:|:---:|:---:|:---:|:---:|:---:|:---:|:----:|:----:|\n",
        "|$I_j$   |(-∞;0]|(0;1]|(1;2]|(2;3]|(3;4]|(4;5]|(5;6]|(6;7]|(7;8]|(8;+∞)|(-∞;+∞)|\n",
        "|$p_{i0}$ |0.167|0.139|0.116|0.096|0.08|0.067|0.056|0.047|0.039|0.194|1|\n",
        "|$np_{i0}$|8.35 |6.95  |5.8  |4.8  | 4.0| 3.35 | 2.8 | 2.35 | 1.95| 9.7 | 50   |\n",
        "\n",
        "\n",
        "$X^2=\\sum_{i=1}^{r}\\frac{(\\nu_i-np_{i0})^2}{np_{i0}} = 37.854$"
      ]
    },
    {
      "cell_type": "code",
      "execution_count": null,
      "id": "08LOehymPOwA",
      "metadata": {
        "colab": {
          "base_uri": "https://localhost:8080/"
        },
        "id": "08LOehymPOwA",
        "outputId": "f626d12d-d46b-4caf-a8a3-7a20b5f675ea"
      },
      "outputs": [
        {
          "name": "stdout",
          "output_type": "stream",
          "text": [
            "Эмпирические частоты:  {0: 1, 1: 3, 2: 9, 3: 10, 4: 9, 5: 7, 6: 6, 7: 2, 8: 2, 10: 1} \n",
            "\n",
            "Вероятности попадания в интервал: \n",
            "p_0:  0.167\n",
            "p_1:  0.139\n",
            "p_2:  0.116\n",
            "p_3:  0.096\n",
            "p_4:  0.08\n",
            "p_5:  0.067\n",
            "p_6:  0.056\n",
            "p_7:  0.047\n",
            "p_8:  0.039\n",
            "p_9:  0.194\n",
            "\n",
            "Ожидаемые частоты: \n",
            "np_0:  8.35\n",
            "np_1:  6.95\n",
            "np_2:  5.8\n",
            "np_3:  4.8\n",
            "np_4:  4.0\n",
            "np_5:  3.35\n",
            "np_6:  2.8\n",
            "np_7:  2.35\n",
            "np_8:  1.95\n",
            "np_9:  9.7\n",
            "\n",
            "X2 = 37.854\n"
          ]
        }
      ],
      "source": [
        "import numpy as np\n",
        "\n",
        "lambda0 = 5.00\n",
        "poisson_lambda0 = poisson(lambda0)\n",
        "\n",
        "def find_count(data):\n",
        "    counts = {}\n",
        "    for num in data:\n",
        "        if num in counts:\n",
        "            counts[num] += 1\n",
        "        else:\n",
        "            counts[num] = 1\n",
        "    return counts\n",
        "\n",
        "frequencies = find_count(sample)\n",
        "sorted_frequencies = dict(sorted(frequencies.items()))\n",
        "print(\"Эмпирические частоты: \", sorted_frequencies, \"\\n\")\n",
        "sorted_frequencies_arr = list(sorted_frequencies.values())\n",
        "\n",
        "def geometric_cdf(x, lamba=5.00):\n",
        "    res=0\n",
        "    for i in range(x+1):\n",
        "      res += (lamba ** i) / (lamba + 1) ** (i + 1)\n",
        "    return res\n",
        "\n",
        "def calculate_probability(intervals):\n",
        "    sum = 0\n",
        "    probabilities = np.zeros(len(intervals))\n",
        "\n",
        "    probabilities[0] = np.round(geometric_cdf(intervals[0]), decimals=3)\n",
        "    sum += probabilities[0]\n",
        "\n",
        "    for i in range(1,len(intervals)):\n",
        "      probabilities[i] =  np.round(geometric_cdf(intervals[i]) - geometric_cdf(intervals[i-1]), decimals=3)\n",
        "      sum += probabilities[i]\n",
        "\n",
        "    probabilities[len(intervals)-1] += np.round(1-geometric_cdf(intervals[len(intervals)-1]), decimals=3)\n",
        "    sum +=  1-geometric_cdf(intervals[len(intervals)-1])\n",
        "    # print(sum, \"\\n\")\n",
        "    return probabilities\n",
        "\n",
        "intervals = list(sorted_frequencies.keys())\n",
        "probabilities = calculate_probability(intervals)\n",
        "\n",
        "#расчет вероятностей попадания в интервал\n",
        "print(\"Вероятности попадания в интервал: \")\n",
        "for i in range(len(probabilities)): print(f\"p_{i}: \", probabilities[i])\n",
        "\n",
        "#расчт теоретических частот\n",
        "print(\"\\nОжидаемые частоты: \")\n",
        "for i in range(len(probabilities)):\n",
        "    probabilities[i] *= len(sample)\n",
        "    print(f\"np_{i}: \", np.round(probabilities[i], decimals=3))\n",
        "\n",
        "#расчет статистики\n",
        "X2 = np.round(((sorted_frequencies_arr - probabilities) ** 2 / probabilities).sum(), decimals=3)\n",
        "print(\"\\nX2 =\", X2)"
      ]
    },
    {
      "cell_type": "markdown",
      "id": "t4BHWRzhPP7X",
      "metadata": {
        "id": "t4BHWRzhPP7X"
      },
      "source": [
        "$x_{\\alpha_1}: K_{r-1}(x_{\\alpha_1}) = 1-\\alpha_1 = 1-0.01 = 0.99$\n",
        "\n",
        "$x_{\\alpha_1}\\approx 21.666$\n",
        "\n",
        "$\\phi(x)=1$, значит основую гипотезу $H_0$ отвергаем, принимаем альтернативу $H_A$"
      ]
    },
    {
      "cell_type": "code",
      "execution_count": null,
      "id": "OXWp_W9oPQfE",
      "metadata": {
        "colab": {
          "base_uri": "https://localhost:8080/"
        },
        "id": "OXWp_W9oPQfE",
        "outputId": "9c6f1061-28e3-4cef-dc6b-181241f86d2f"
      },
      "outputs": [
        {
          "name": "stdout",
          "output_type": "stream",
          "text": [
            "Квантиль: 21.666\n",
            "Критерий: 1\n"
          ]
        }
      ],
      "source": [
        "from scipy.stats import chi2\n",
        "\n",
        "alpha_1 = 0.01\n",
        "fx = 0.99\n",
        "x_a1 = chi2.ppf(fx, df= len(probabilities)-1) #использут уровень значимости\n",
        "print(\"Квантиль:\", np.round(x_a1, decimals=3))\n",
        "\n",
        "def criteria(x_a, X2):\n",
        "  if(x_a>=X2):\n",
        "    return 0\n",
        "  else:\n",
        "    return 1\n",
        "\n",
        "phi = criteria(x_a1, X2)\n",
        "print('Критерий:', phi)"
      ]
    },
    {
      "cell_type": "markdown",
      "id": "C10dDQg6R7D9",
      "metadata": {
        "id": "C10dDQg6R7D9"
      },
      "source": [
        "Вычислим наибольшее значение уровня значимости, на котором нет оснований отвергнуть гипотезу. Так как максимальное значение уровня значимости будет при $x_\\alpha=X^2$, то рассчитаем $\\alpha = 1 - K_{r-1}(X^2) \\approx 0.000019$"
      ]
    },
    {
      "cell_type": "code",
      "execution_count": null,
      "id": "XmOJqdW4R8Qn",
      "metadata": {
        "colab": {
          "base_uri": "https://localhost:8080/"
        },
        "id": "XmOJqdW4R8Qn",
        "outputId": "0a8d8b0a-833c-471b-9467-0d23df188ea8"
      },
      "outputs": [
        {
          "name": "stdout",
          "output_type": "stream",
          "text": [
            "Наибольшее значение уровня значимости для принятия нулевой гипотезы: 1.851456854184974e-05\n"
          ]
        }
      ],
      "source": [
        "a_max = 1 - chi2.cdf(X2, len(probabilities)-1)#использует значение квантили\n",
        "print(\"Наибольшее значение уровня значимости a_1 для принятия нулевой гипотезы :\", a_max)"
      ]
    },
    {
      "cell_type": "markdown",
      "id": "IgpWnJecTslx",
      "metadata": {
        "id": "IgpWnJecTslx"
      },
      "source": [
        "####**h-f) Построение критерия значимости $\\chi^2$ проверки сложной гипотезы с семейством геометрических распределений.**\n",
        "Интервалы используем из предыдущего пункта, статистику критерия находим по первому варианту, т.к. ОМП была надена ранее: $\\widehat{\\lambda} = 3.96$."
      ]
    },
    {
      "cell_type": "code",
      "execution_count": null,
      "id": "wwqcSsTSYV12",
      "metadata": {
        "colab": {
          "base_uri": "https://localhost:8080/"
        },
        "id": "wwqcSsTSYV12",
        "outputId": "490f6892-e533-4168-ee27-5b60833d3a09"
      },
      "outputs": [
        {
          "name": "stdout",
          "output_type": "stream",
          "text": [
            "Вероятности попадания в интервал: \n",
            "p_0:  0.202\n",
            "p_1:  0.161\n",
            "p_2:  0.129\n",
            "p_3:  0.103\n",
            "p_4:  0.082\n",
            "p_5:  0.065\n",
            "p_6:  0.052\n",
            "p_7:  0.042\n",
            "p_8:  0.033\n",
            "p_9:  0.132\n",
            "\n",
            "Ожидаемые частоты: \n",
            "np_0:  10.1\n",
            "np_1:  8.05\n",
            "np_2:  6.45\n",
            "np_3:  5.15\n",
            "np_4:  4.1\n",
            "np_5:  3.25\n",
            "np_6:  2.6\n",
            "np_7:  2.1\n",
            "np_8:  1.65\n",
            "np_9:  6.6\n",
            "\n",
            "X2 = 36.402\n"
          ]
        }
      ],
      "source": [
        "import numpy as np\n",
        "\n",
        "lambda_hat = 3.96\n",
        "def geometric_cdf(x, lamba=lambda_hat):\n",
        "    res=0\n",
        "    for i in range(x+1):\n",
        "      res += (lamba ** i) / (lamba + 1) ** (i + 1)\n",
        "    return res\n",
        "\n",
        "def calculate_probability(intervals):\n",
        "    sum = 0\n",
        "    probabilities = np.zeros(len(intervals))\n",
        "\n",
        "    probabilities[0] = np.round(geometric_cdf(intervals[0]), decimals=3)\n",
        "    sum += probabilities[0]\n",
        "\n",
        "    for i in range(1,len(intervals)):\n",
        "      probabilities[i] =  np.round(geometric_cdf(intervals[i]) - geometric_cdf(intervals[i-1]), decimals=3)\n",
        "      sum += probabilities[i]\n",
        "\n",
        "    probabilities[len(intervals)-1] += 1-geometric_cdf(intervals[len(intervals)-1])\n",
        "    probabilities[len(intervals)-1]  =  round(probabilities[len(intervals)-1],3)\n",
        "    sum +=  1-geometric_cdf(intervals[len(intervals)-1])\n",
        "    # print(sum, \"\\n\")\n",
        "    return probabilities\n",
        "\n",
        "intervals = list(sorted_frequencies.keys())\n",
        "probabilities = calculate_probability(intervals)\n",
        "\n",
        "#расчет вероятностей попадания в интервал\n",
        "print(\"Вероятности попадания в интервал: \")\n",
        "for i in range(len(probabilities)): print(f\"p_{i}: \", probabilities[i])\n",
        "\n",
        "#расчт теоретических частот\n",
        "print(\"\\nОжидаемые частоты: \")\n",
        "for i in range(len(probabilities)):\n",
        "    probabilities[i] *= len(sample)\n",
        "    print(f\"np_{i}: \", np.round(probabilities[i], decimals=3))\n",
        "\n",
        "#расчет статистики\n",
        "X2 = np.round(((sorted_frequencies_arr - probabilities) ** 2 / probabilities).sum(), decimals=3)\n",
        "print(\"\\nX2 =\", X2)"
      ]
    },
    {
      "cell_type": "code",
      "execution_count": null,
      "id": "_13FoszPYXN9",
      "metadata": {
        "colab": {
          "base_uri": "https://localhost:8080/"
        },
        "id": "_13FoszPYXN9",
        "outputId": "569676be-c4a5-4348-bdb4-331698488328"
      },
      "outputs": [
        {
          "name": "stdout",
          "output_type": "stream",
          "text": [
            "Квантиль: 20.09\n",
            "Критерий: 1\n"
          ]
        }
      ],
      "source": [
        "from scipy.stats import chi2\n",
        "\n",
        "alpha_1 = 0.01\n",
        "x_a1 = chi2.ppf(1-alpha_1, df=len(probabilities)-1-1)\n",
        "print(\"Квантиль x_a1:\", np.round(x_a1, decimals=3))\n",
        "\n",
        "def criteria(x_a, X2):\n",
        "  if(x_a>=X2):\n",
        "    return 0\n",
        "  else:\n",
        "    return 1\n",
        "\n",
        "phi = criteria(x_a1, X2)\n",
        "print('Критерий:', phi)"
      ]
    },
    {
      "cell_type": "code",
      "execution_count": null,
      "id": "jz6ftY1_YY8h",
      "metadata": {
        "colab": {
          "base_uri": "https://localhost:8080/"
        },
        "id": "jz6ftY1_YY8h",
        "outputId": "ec9cdf16-7916-4625-8487-8d31a93ba6a0"
      },
      "outputs": [
        {
          "name": "stdout",
          "output_type": "stream",
          "text": [
            "Наибольшее значение уровня значимости для принятия нулевой гипотезы: 1.4820666961790074e-05\n"
          ]
        }
      ],
      "source": [
        "#использует значение квантили\n",
        "a_max = 1 - chi2.cdf(X2, len(probabilities)-1-1)\n",
        "print(\"Наибольшее значение уровня значимости a_1 для принятия нулевой гипотезы:\", a_max)"
      ]
    },
    {
      "cell_type": "markdown",
      "id": "U7XkLBPczIRM",
      "metadata": {
        "id": "U7XkLBPczIRM"
      },
      "source": [
        "### **Часть 2.**\n",
        "####**a) Построение эмпиричекого вариационного ряда, эмпирической функции распределения и гистограммы чатот.**"
      ]
    },
    {
      "cell_type": "code",
      "execution_count": null,
      "id": "4stAgJNQSAJZ",
      "metadata": {
        "id": "4stAgJNQSAJZ"
      },
      "outputs": [],
      "source": [
        "import numpy as np\n",
        "import matplotlib.pyplot as plt\n",
        "from scipy import stats as sp"
      ]
    },
    {
      "cell_type": "code",
      "execution_count": null,
      "id": "1bs2VLI5SCXZ",
      "metadata": {
        "colab": {
          "base_uri": "https://localhost:8080/"
        },
        "id": "1bs2VLI5SCXZ",
        "outputId": "3586ef4c-7be5-4adf-8692-a38ba957a5bb"
      },
      "outputs": [
        {
          "data": {
            "text/plain": [
              "array([-1.598, -1.459, -1.372, -1.363, -1.305, -1.211, -1.2  , -1.197,\n",
              "       -1.194, -1.176, -1.166, -1.151, -1.129, -1.12 , -1.109, -1.102,\n",
              "       -1.101, -1.084, -1.083, -1.075, -1.047, -1.043, -1.035, -1.019,\n",
              "       -1.009, -1.005, -0.995, -0.979, -0.973, -0.972, -0.963, -0.942,\n",
              "       -0.914, -0.898, -0.897, -0.888, -0.886, -0.884, -0.868, -0.866,\n",
              "       -0.859, -0.812, -0.8  , -0.765, -0.746, -0.739, -0.713, -0.706,\n",
              "       -0.699, -0.596])"
            ]
          },
          "execution_count": 5,
          "metadata": {},
          "output_type": "execute_result"
        }
      ],
      "source": [
        "#выборка\n",
        "sample = np.array([-1.120, -1.176, -0.898, -0.973, -1.084, -1.200,\n",
        "                   -0.866, -0.746, -0.699, -0.765, -0.963, -0.868,\n",
        "                   -0.706, -1.129, -1.101, -1.109, -1.102, -1.075,\n",
        "                   -1.047, -0.713, -0.859, -0.995, -1.459, -1.151,\n",
        "                   -1.363, -0.800, -0.884, -0.979, -1.035, -0.972,\n",
        "                   -0.596, -1.194, -1.197, -1.166, -0.812, -1.305,\n",
        "                   -1.005, -0.888, -1.019, -1.372, -0.942, -0.739,\n",
        "                   -0.886, -0.914, -1.009, -1.211, -0.897, -1.598,\n",
        "                   -1.043, -1.083])\n",
        "n = len(sample)\n",
        "\n",
        "# получаем вариационный ряд\n",
        "var_series = np.sort(sample)\n",
        "var_series"
      ]
    },
    {
      "cell_type": "code",
      "execution_count": null,
      "id": "4pIMp9BiSExl",
      "metadata": {
        "colab": {
          "base_uri": "https://localhost:8080/",
          "height": 472
        },
        "id": "4pIMp9BiSExl",
        "outputId": "0a920f7f-4652-4333-9ba7-48706717f424"
      },
      "outputs": [
        {
          "data": {
            "image/png": "[encoded data removed]",
            "text/plain": [
              "<Figure size 640x480 with 1 Axes>"
            ]
          },
          "metadata": {},
          "output_type": "display_data"
        }
      ],
      "source": [
        "#строим эмпирическую функцию распределения\n",
        "# from statsmodels.distributions.empirical_distribution import ECDF\n",
        "# ecdf = ECDF(sample)\n",
        "# plt.step(ecdf.x, ecdf.y)\n",
        "# plt.ylabel('$F(x)$', fontsize=20)\n",
        "# plt.xlabel('$x$', fontsize=20)\n",
        "\n",
        "p=0\n",
        "for i in range(len(var_series)-1):\n",
        "  plt.scatter(var_series[i], p, s=10, c =\"blue\", linewidths = 1,  edgecolors='b')\n",
        "  if(i==0):\n",
        "    plt.hlines(p, var_series[i]-0.05, var_series[i], colors='b')\n",
        "  elif(i==50):\n",
        "    plt.hlines(1, var_series[i], var_series[i]+0.05, colors='b')\n",
        "  p += 0.02\n",
        "  plt.hlines(p, var_series[i]+0.005, var_series[i+1], colors='b')\n",
        "  plt.scatter(var_series[i], p, s= 10, facecolors='none', linewidths = 1,  edgecolors='b')\n",
        "\n",
        "\n",
        "  # if(i!=len(var_series)-1):\n",
        "  #\n",
        "\n",
        "plt.title('Эмпирическая функция распределения')\n",
        "plt.ylabel('$F(x)$')\n",
        "plt.xlabel('$x$')\n",
        "plt.show()"
      ]
    },
    {
      "cell_type": "code",
      "execution_count": null,
      "id": "xBZC4pY5SHjM",
      "metadata": {
        "colab": {
          "base_uri": "https://localhost:8080/",
          "height": 448
        },
        "id": "xBZC4pY5SHjM",
        "outputId": "f7e67a35-cae2-4318-9850-4aaaed22b022"
      },
      "outputs": [
        {
          "data": {
            "text/plain": [
              "[<matplotlib.lines.Line2D at 0x789a27579c60>]"
            ]
          },
          "execution_count": 7,
          "metadata": {},
          "output_type": "execute_result"
        },
        {
          "data": {
            "image/png": "[encoded data removed]",
            "text/plain": [
              "<Figure size 640x480 with 1 Axes>"
            ]
          },
          "metadata": {},
          "output_type": "display_data"
        }
      ],
      "source": [
        "# строим гистограмму и полигон частот\n",
        "h = 0.05 #шаг\n",
        "intervals = np.arange(-1.65, -0.45, h)\n",
        "y, eges, _ = plt.hist(sample, bins=intervals, edgecolor='black')\n",
        "\n",
        "midpoints = 0.5 * (eges[1:] + eges[:-1]) # Находим середины интервалов\n",
        "plt.plot(midpoints, y, 'r-*')"
      ]
    },
    {
      "cell_type": "markdown",
      "id": "xyt1JsT9avtT",
      "metadata": {
        "id": "xyt1JsT9avtT"
      },
      "source": [
        "####**b) Нахождение значений выборочных числовых характеристик.**\n",
        "\n",
        "$\n",
        "\\overline{X} \\approx -1.014\n",
        "$\n",
        "\n",
        "$\n",
        "S^2 \\approx  0.041\n",
        "$\n",
        "\n",
        "$\n",
        "\\sigma\\approx 0.203\n",
        "$\n",
        "\n",
        "$\n",
        "Me = -1.007\n",
        "$\n",
        "\n",
        "$\n",
        "\\widehat{ASI}\\approx -0.455\n",
        "$\n",
        "\n",
        "$\n",
        "\\widehat{EXC}\\approx 0.430\n",
        "$\n",
        "\n",
        "$\n",
        "\\mathbb{P}(X\\in\\left[ c,d \\right]) =  0.48\n",
        "$\n",
        "\n"
      ]
    },
    {
      "cell_type": "code",
      "execution_count": null,
      "id": "NRq8yQXla7lX",
      "metadata": {
        "colab": {
          "base_uri": "https://localhost:8080/"
        },
        "id": "NRq8yQXla7lX",
        "outputId": "ea8f5da1-f38b-4a39-cd98-21a2761e5b7c"
      },
      "outputs": [
        {
          "name": "stdout",
          "output_type": "stream",
          "text": [
            "Выборочное среднее: -1.014\n",
            "Выборочная дисперсия: 0.041\n",
            "Выборочное СКО: 0.203\n",
            "Выборочная медиана: -1.007\n",
            "Асимметрия: -0.455\n",
            "Эксцесс: 0.43\n",
            "Вероятность: 0.48\n"
          ]
        }
      ],
      "source": [
        "# нахождение выборочного среднего\n",
        "X_mean =  np.mean(sample)\n",
        "print(\"Выборочное среднее:\", np.round(X_mean, decimals=3))\n",
        "\n",
        "# нахождение выборочной дисперсии\n",
        "S2 = np.var(sample)\n",
        "print(\"Выборочная дисперсия:\", np.round(S2, decimals=3))\n",
        "\n",
        "# выборочное СКО\n",
        "sigma = np.std(sample)\n",
        "print(\"Выборочное СКО:\", np.round(sigma, decimals=3))\n",
        "\n",
        "# выборочная медиана\n",
        "print(\"Выборочная медиана:\", np.median(sample))\n",
        "\n",
        "# коэффициент асимметрии\n",
        "SKE = np.round(sp.skew(sample, bias= False),decimals=3)\n",
        "print(\"Асимметрия:\", SKE)\n",
        "\n",
        "# коэффициент эксцесса\n",
        "KUR = np.round(sp.kurtosis(sample, bias= False), decimals=3)\n",
        "print(\"Эксцесс:\", KUR)\n",
        "\n",
        "# вероятность\n",
        "c = -1.08\n",
        "d = -0.8\n",
        "P = len([x for x in sample if c <= x <= d]) / len(sample)\n",
        "print(\"Вероятность:\", P)"
      ]
    },
    {
      "cell_type": "markdown",
      "id": "gtdogDhLjrGU",
      "metadata": {
        "id": "gtdogDhLjrGU"
      },
      "source": [
        "####**c) Построение ОМП параметра $\\theta = (a,\\sigma^2)$ , соотвествующие оценки по методу моментов. Нахождение смещения оценок.**\n",
        "\n",
        "Учитем, что исходные наблюдения являются выборкой из нормального распределения.\n",
        "\n",
        "* Найдем точечную оценку методом максимального правдоподобия:\n",
        "\n",
        "  $p_\\theta(X)=\\frac{1}{\\sqrt{2\\pi}\\sigma}exp\\left( -\\frac{(x-a)^2}{2\\sigma^2}) \\right) $\n",
        "\n",
        "  $L(\\overrightarrow{X}, \\theta) = \\prod_{i=1}^{n}p_\\theta(X)=\\frac{1}{\\sqrt{2\\pi}\\sigma}exp\\left( -\\frac{(x-a)^2}{2\\sigma^2} \\right) = (2\\pi)^{-\\frac{n}{2}}\\cdot \\sigma^{-n}\\cdot exp\\left( -\\frac{1}{2\\sigma^2}\\sum_{i=1}^{n}(x_i-a)^2 \\right)$\n",
        "\n",
        "  $LL(\\overrightarrow{X}, \\theta) = -\\frac{n}{2}ln(2\\pi) - n \\cdot ln(\\sigma) - \\frac{1}{2\\sigma^2}\\sum_{i=1}^{n}(x_i-a)^2$\n",
        "\n",
        "\n",
        "  1.   $\\frac{\\partial LL(\\overrightarrow{X}, \\theta)}{\\partial a} = -\\frac{1}  {\\sigma^2}\\left( \\sum_{i=1}^{n}(x_i-na) \\right)$\n",
        "\n",
        "    $-\\frac{1}{\\sigma^2}\\left( \\sum_{i=1}^{n}x_i-na \\right) = 0$\n",
        "\n",
        "    $\\sum_{i=1}^{n}x_i=na$\n",
        "\n",
        "    $\\widehat{a}=\\overline{X} \\approx -1.014$\n",
        "\n",
        "  2.   $\\frac{\\partial LL(\\overrightarrow{X}, \\theta)}{\\partial \\sigma} = -\\frac{n}{\\sigma}+\\frac{1}{\\sigma^3}\\sum_{i=1}^{n}(x_i-a)^2$\n",
        "  \n",
        "    $-n\\sigma^2 + \\sum_{i=1}^{n}(x_i-a)^2 = 0$\n",
        "\n",
        "    $\\sigma^2=\\frac{1}{n}\\sum_{i=1}^{n}(x_i-a)^2$\n",
        "\n",
        "    $\\widehat{\\sigma}^2=\\frac{1}{n}\\sum_{i=1}^{n}(x_i-\\overline{X})^2=S^2 \\approx 0.041$\n",
        "\n",
        "  $\\widehat{\\theta}=(\\widehat{a},\\widehat{\\sigma}^2)=(\\overline{X},S^2) = (-1.014,0.041)$\n",
        "\n",
        "\n",
        "\n",
        "*  Найдем точечную оценку методом моментов:\n",
        "\n",
        "  $\\mathbb{E}X_1=a;$   $\\mu_1=\\overline{X};$\n",
        "\n",
        "  $\\mathbb{E}X_1^2=\\sigma^2+a^2;$   $\\mu_2=\\frac{1}{n}\\sum_{i=1}^{n}x_i^2=\\overline{X^2};$\n",
        "\n",
        "  $\\begin{cases}\n",
        "        a = \\overline{X}  \\\\\n",
        "        a^2+\\sigma^2=\\overline{X^2 }\\\\\n",
        "  \\end{cases}$\n",
        "\n",
        "  $\\begin{cases}\n",
        "        \\widetilde{a} = \\overline{X} \\\\\n",
        "        \\overline{X}^2+\\widetilde{\\sigma^2}=\\overline{X^2}\\\\\n",
        "  \\end{cases}$\n",
        "\n",
        "  $\\begin{cases}\n",
        "        \\widetilde{a} = \\overline{X} \\\\\n",
        "        \\widetilde{\\sigma^2}=S^2\\\\\n",
        "  \\end{cases}$\n",
        "\n",
        "  Получается, что ОММ: $\\widetilde{\\theta}=(\\overline{X},S^2)$\n",
        "\n",
        "*  Найдем смещение оценки:\n",
        "\n",
        "  1. по параметру а\n",
        "\n",
        "  $\\mathbb{E}_\\theta\\lambda=\\mathbb{E}_a\\overline{X}=\\frac{\\sum_{i=1}^{n}\\mathbb{E}_ax_i}{n}=a$\n",
        "\n",
        "  $b(a)=\\mathbb{E}_a\\overline{X}-\\overline{X}=a-\\overline{X}=0$\n",
        "\n",
        "  2. по параметру $\\sigma^2$\n",
        "\n",
        "  $\\mathbb{E}_\\theta\\widehat{\\sigma}^2=\\mathbb{E}_{\\sigma^2}\\left( \\frac{1}{n}\\sum_{i=1}^{n}(X_i-\\overline{X})^2 \\right)=\\frac{1}{n}\\sum_{i=1}^{n}\\mathbb{E}_{\\sigma^2}(X_i-\\overline{X})^2=\\frac{\\sum_{i=1}^{n}}{n}\\left(\\mathbb{E}_{\\sigma^2}x_i-\\mathbb{E}_{\\sigma^2}\\overline{X}  \\right)=\\frac{\\sum_{i=1}^{n}}{n}(a-a)=0$\n",
        "\n",
        "  $b(\\sigma^2)=\\mathbb{E}_{\\sigma^2} - S^2=-S^2 \\approx -0.0017$\n",
        "\n"
      ]
    },
    {
      "cell_type": "markdown",
      "id": "ErUvcnX8hBey",
      "metadata": {
        "id": "ErUvcnX8hBey"
      },
      "source": [
        "####**d) Построение доверительного интервала уровня значимости $\\alpha_2= 0.05$ для парметров $(a, \\sigma^2)$**\n",
        "<!-- Будем строить по методу на базе ОМП.\n",
        "\n",
        "*  Для параметра a:\n",
        "\n",
        "  $\\mathbb{I}_n(a)=-\\mathbb{E}\\frac{\\partial^2 LL(\\overrightarrow{X},\\theta)}{\\partial a^2}=-\\frac{n}{\\sigma^2}$\n",
        "\n",
        "  $\\frac{\\partial LL(\\overrightarrow{X},\\theta))}{\\partial a} = \\frac{1}{\\sigma}\\sum_{i=1}^{n}(x_i-a)=\\frac{\\sum_{i=1}^{n}x_i}{\\sigma^2}-\\frac{na}{\\sigma^2}$\n",
        "\n",
        "  $\\frac{\\partial^2 LL(\\overrightarrow{X},\\theta)}{\\partial a^2}=-\\frac{n}{\\sigma^2}$\n",
        "\n",
        "  $\\mathbb{E}\\frac{\\partial^2 LL(\\overrightarrow{X},\\theta)}{\\partial a^2}=\\frac{n}{\\sigma^2}$\n",
        "\n",
        "  $x_{\\alpha_2}: \\Phi(x_{\\alpha_2})=1-\\frac{{\\alpha_2}}{2} = 0,975$\n",
        "\n",
        "  $x_{\\alpha_2}=1.96$\n",
        "\n",
        "  $\\left[ \\overline{X}-\\frac{Sx_{\\alpha_2}}{\\sqrt{n}};  \\overline{X}+\\frac{Sx_{\\alpha_2}}{\\sqrt{n}}\\right] \\ni a$\n",
        "\n",
        "  $\\left[ -1.07; -0.958\\right] \\ni a$\n",
        "\n",
        "  *  Для параметра $\\sigma^2$\\:\n",
        "\n",
        "  $\\mathbb{I}_n(\\sigma^2)=-\\mathbb{E}\\frac{\\partial^2 LL(\\overrightarrow{X},\\theta)}{\\partial \\sigma^2}=\\frac{1}{2\\sigma^4}$\n",
        "\n",
        "  $\\frac{\\partial LL(\\overrightarrow{X},\\theta))}{\\partial \\sigma} = -\\frac{n}{\\sigma}+\\frac{1}{\\sigma^3}\\sum_{i=1}^{n}(x_i-a)^2 $\n",
        "\n",
        "  $\\frac{\\partial^2 LL(\\overrightarrow{X},\\theta)}{\\partial \\sigma^2}=\\frac{2n}{\\sigma^2}-\\frac{1}{3\\sigma^4}\\sum_{i=1}^{n}(x_i-a)^2=\\frac{2n}{\\sigma^2}-\\frac{nS^2}{3\\sigma^4}$\n",
        "\n",
        "  $\\mathbb{E}\\frac{\\partial^2 LL(\\overrightarrow{X},\\theta)}{\\partial \\sigma^2}=-\\frac{1}{2\\sigma^4}$\n",
        "\n",
        "  $\\frac{\\sqrt{n/2}(S^2-\\sigma^2)}{s^2}\\Rightarrow \\mathcal{N}(0,1)$\n",
        "\n",
        "  $x_{\\alpha_2}: \\Phi(x_{\\alpha_2})=1-\\frac{{\\alpha_2}}{2}$\n",
        "\n",
        "  $x_{\\alpha_2}=1.96$\n",
        "\n",
        "  $\\left[ S^2\\left( 1-\\frac{\\sqrt{2}x_{\\alpha_2}}{\\sqrt{n}} \\right);S^2\\left( 1+\\frac{\\sqrt{2}x_{\\alpha_2}}{\\sqrt{n}} \\right) \\right] \\ni \\sigma^2$\n",
        "\n",
        "  $\\left[ 0.025; 0.043 \\right] \\ni \\sigma^2$ -->\n",
        "\n",
        "*  Для параметра a:\n",
        "\n",
        "  $G(\\overrightarrow{X}, a)=\\sqrt{n-1} \\frac{\\overline{X}-a}{S} \\sim S_{n-1}\\text{ по четвертому пункту леммы Фишера}\\\\\n",
        "  \\mathbb{P}_a \\left( \\sqrt{n - 1} \\frac{\\overline{X}-a}{S}\\in [-x_{\\alpha_2}, x_{\\alpha_2}] \\right)=S_{n-1}(x_{\\alpha_2})-S_{n-1}(x_{\\alpha_2})=1-\\alpha_2 \\\\\n",
        "  x_\\alpha: S_{n-1}(x_\\alpha) = 1-\\frac{0.5}{2}=0.975\\\\\n",
        "  x_\\alpha = 2.01$\n",
        "\n",
        "  $\\left[ \\overline{X}-\\frac{x_\\alpha S}{\\sqrt{n-1}}; \\overline{X} + \\frac{x_\\alpha S}{\\sqrt{n-1}} \\right]\\ni a\\\\\n",
        "  [-1.073; -0.956] \\ni a$\n",
        "\n",
        "* Для параметра $\\sigma^2$:\n",
        "\n",
        "  $G(\\overrightarrow{X}, \\sigma^2)=\\frac{nS^2}{\\sigma^2}\\sim \\chi^2_{n-1}\n",
        "  \\text{ по третьему пункту леммы Фишера}\\\\\n",
        "  x_{1\\alpha_2}: \\mathcal{K}_{n-1}(x_{1\\alpha_2})= \\frac{\\alpha_2}{2} =  0.025\\\\\n",
        "  x_{2\\alpha_2}: \\mathcal{K}_{n-1}(x_{2\\alpha_2})= 1-\\frac{\\alpha_2}{2} = 0.975\\\\\n",
        "  x_{1\\alpha1} = 31.555\\\\\n",
        "  x_{2\\alpha2} = 70.222\\\\\n",
        "  \\mathbb{P}_{\\sigma^2} \\left(x_{1_{\\alpha_2}} \\le \\frac{nS^2}{\\sigma^2} \\le x_{2_{\\alpha_2}} \\right) = 1 - \\alpha_2\\\\\n",
        "  \\mathbb{P}_{\\sigma^2} \\left(\\frac{1}{x_{2_{\\alpha_2}}} \\le \\frac{\\sigma^2}{nS^2} \\le \\frac{1}{x_{1_{\\alpha_2}}}  \\right) = 1 - \\alpha_2\\\\\n",
        "  \\left[  \\frac{n S^2}{x_{2\\alpha}}; \\frac{n S^2}{x_{1\\alpha}} \\right]  \\ni \\sigma^2 \\\\\n",
        "  \\left[0.029; 0.066 \\right] \\ni \\sigma^2$\n"
      ]
    },
    {
      "cell_type": "code",
      "execution_count": null,
      "id": "ukA3Qpjq_oR3",
      "metadata": {
        "colab": {
          "base_uri": "https://localhost:8080/"
        },
        "id": "ukA3Qpjq_oR3",
        "outputId": "52c6dc1b-679b-4378-b754-cdade6c96873"
      },
      "outputs": [
        {
          "name": "stdout",
          "output_type": "stream",
          "text": [
            "Квантиль 1: = 2.01\n",
            "Интервал: [-1.073; -0.956]\n",
            "Квантиль 1: = 31.555\n",
            "Квантиль 2: = 70.222\n",
            "Интервал: [0.029; 0.066]\n"
          ]
        }
      ],
      "source": [
        "\n",
        "# Построение доверительного интервала\n",
        "from scipy.stats import t\n",
        "from scipy.stats import chi2\n",
        "import numpy as np\n",
        "\n",
        "fx_1 = 0.025\n",
        "fx_2 = 0.975\n",
        "student = t(50-1)\n",
        "x_a2 = student.ppf(fx_2)\n",
        "print(\"Квантиль 1: =\", round(x_a2,3))\n",
        "\n",
        "left_bound = X_mean - x_a2*np.sqrt(S2)/np.sqrt(50-1)\n",
        "right_bound = X_mean + x_a2*np.sqrt(S2)/np.sqrt(50-1)\n",
        "print(f\"Интервал: [{np.round(left_bound, decimals=3)}; {np.round(right_bound, decimals=3)}]\")\n",
        "\n",
        "chi2 = chi2(50-1)\n",
        "x_1_a2 = chi2.ppf(fx_1)\n",
        "x_2_a2 = chi2.ppf(fx_2)\n",
        "print(\"Квантиль 1: =\", round(x_1_a2, 3))\n",
        "print(\"Квантиль 2: =\", round(x_2_a2, 3))\n",
        "\n",
        "left_bound = 50 * S2 / x_2_a2\n",
        "right_bound = 50 * S2 / x_1_a2\n",
        "print(f\"Интервал: [{np.round(left_bound, decimals=3)}; {np.round(right_bound, decimals=3)}]\")\n",
        "\n",
        "\n",
        "# Асимптотический ДИ:\n",
        "# from scipy.stats import norm\n",
        "# import numpy as np\n",
        "# fx = 0.975\n",
        "# x_a2 = norm.ppf(fx)\n",
        "# print(\"Квантиль:\", np.round(x_a2, decimals=3))\n",
        "\n",
        "# left_bound = -1.014 - np.sqrt(0.041)*x_a2/np.sqrt(50)\n",
        "# right_bound = -1.014 + np.sqrt(0.041)*x_a2/np.sqrt(50)\n",
        "\n",
        "# print(\"Интервал: [\", np.round(left_bound, decimals=3), \";\", np.round(right_bound, decimals=3), \"]\")\n",
        "\n",
        "# from scipy.stats import norm\n",
        "# import numpy as np\n",
        "# fx = 0.975\n",
        "# x_a2 = norm.ppf(fx)\n",
        "# print(\"Квантиль:\", np.round(x_a2, decimals=3))\n",
        "\n",
        "# left_bound = 0.041*(1 - np.sqrt(2)*x_a2/np.sqrt(50))\n",
        "# right_bound = 0.041*(1 + np.sqrt(0.041)*x_a2/np.sqrt(50))\n",
        "\n",
        "# print(\"Интервал: [\", np.round(left_bound, decimals=3), \";\", np.round(right_bound, decimals=3), \"]\""
      ]
    },
    {
      "cell_type": "markdown",
      "id": "xyiVUIupMdZn",
      "metadata": {
        "id": "xyiVUIupMdZn"
      },
      "source": [
        "####**e) С использованием теоремы Колмогорова построим притерий значимости проверки простой гипотезы согласия с нормальным распределением с параметрами $(\\alpha_0, \\sigma_0^2)=(-1, 0.04)$ на уровне значимости $\\alpha_2 = 0.05$. Вычислим наибольшего значения уровня значимости, на котором ещё нет оснований отвергнуть гипотезу.**\n",
        "$H_0: F \\sim \\mathcal{N}(\\alpha_0, \\sigma_0^2)$\n",
        "\n",
        "$H_A: F(x) \\ne F_0(x)$, при $x \\in \\mathbb{R}$\n",
        "\n",
        "$D_n=\\max|F_n(x)-F_0(x)|$\n",
        "\n",
        "$F_n(x)=\\frac{1}{n}\\sum_{i=1}^{n}\\mathbb{1}_{X_i\\lt x}$\n",
        "\n",
        "$\\widetilde{\\phi}(x) =\n",
        "\\begin{cases}\n",
        "  0, \\sqrt{n}\\widehat{D}_n \\le x_\\alpha;\\\\\n",
        "  1, \\sqrt{n}\\widehat{D}_n \\gt x_\\alpha,\n",
        "\\end{cases}$\n",
        "\n",
        "$x_\\alpha: K(x_\\alpha)=1-\\alpha=1-0.05=0.95\\\\\n",
        "x_\\alpha=1.358$\n"
      ]
    },
    {
      "cell_type": "code",
      "execution_count": null,
      "id": "Nk7KQcXEN6Tl",
      "metadata": {
        "colab": {
          "base_uri": "https://localhost:8080/"
        },
        "id": "Nk7KQcXEN6Tl",
        "outputId": "9ad33764-44d3-4edc-f433-f6dd4ccd3b67"
      },
      "outputs": [
        {
          "name": "stdout",
          "output_type": "stream",
          "text": [
            "KstestResult(statistic=0.06040511808156446, pvalue=0.9880773418333774, statistic_location=-0.859, statistic_sign=1)\n",
            "Статистика D_n = 0.046\n"
          ]
        }
      ],
      "source": [
        "# проверка тестом Колмогорова:\n",
        "from scipy.stats import kstest\n",
        "print(kstest(sample, 'norm', args=(-1,0.2)))\n",
        "\n",
        "#по формулам:\n",
        "from scipy.stats import norm\n",
        "\n",
        "# выборочная функция распределения\n",
        "def F(x, sample):\n",
        "  sample = np.sort(sample)\n",
        "  sum = 0\n",
        "  for i in sample:\n",
        "      if i < x:\n",
        "        sum += 1\n",
        "  return sum / len(sample)\n",
        "\n",
        "# непрерывная функция распределения (массив)\n",
        "F_0 = norm.cdf(sample, -1, 0.2)\n",
        "F_n = np.array([F(i, sample) for i in sample])\n",
        "diff = np.abs(F_n - F_0)\n",
        "# супремум разностей\n",
        "D_n = np.max(diff)\n",
        "print(\"Статистика D_n =\", np.round(D_n, decimals=3))\n",
        "\n"
      ]
    },
    {
      "cell_type": "code",
      "execution_count": null,
      "id": "-eqUZGxHfjAr",
      "metadata": {
        "colab": {
          "base_uri": "https://localhost:8080/"
        },
        "id": "-eqUZGxHfjAr",
        "outputId": "ea3b6422-ba09-4738-952b-dc4d1a7d7c31"
      },
      "outputs": [
        {
          "name": "stdout",
          "output_type": "stream",
          "text": [
            "Квантиль x_a2: 1.358\n",
            "Критерий: 0\n"
          ]
        }
      ],
      "source": [
        "# Найдем x_a2:\n",
        "from scipy.stats import kstwobign\n",
        "\n",
        "x_a2 = kstwobign.ppf(0.95)\n",
        "print(\"Квантиль x_a2:\", round(x_a2,3))\n",
        "\n",
        "def criteria(x_a, X2):\n",
        "  if(x_a>=X2):\n",
        "    return 0\n",
        "  else:\n",
        "    return 1\n",
        "\n",
        "phi = criteria(x_a2, D_n*np.sqrt(len(sample)))\n",
        "print('Критерий:', phi)"
      ]
    },
    {
      "cell_type": "markdown",
      "id": "dZlz4bVHhKRI",
      "metadata": {
        "id": "dZlz4bVHhKRI"
      },
      "source": [
        "Так как значение критерия равно 0, то принимаем основную гипотезу."
      ]
    },
    {
      "cell_type": "code",
      "execution_count": null,
      "id": "k1vawt5Bh6F7",
      "metadata": {
        "colab": {
          "base_uri": "https://localhost:8080/"
        },
        "id": "k1vawt5Bh6F7",
        "outputId": "eb0740e0-6100-4a14-bceb-fa7c18cdc591"
      },
      "outputs": [
        {
          "name": "stdout",
          "output_type": "stream",
          "text": [
            "Наибольшее значение уровня значимости a_2 для принятия основной гипотезы: 0.9999422525524048\n"
          ]
        }
      ],
      "source": [
        "print(\"Наибольшее значение уровня значимости a_2 для принятия основной гипотезы:\", 1 - kstwobign.cdf(np.sqrt(len(sample)) * D_n))"
      ]
    },
    {
      "cell_type": "markdown",
      "id": "a55KTsklhIBC",
      "metadata": {
        "id": "a55KTsklhIBC"
      },
      "source": [
        "####**f) Используя гистрограмму частот, построиим критерий значимости $\\chi^2$ проверки простой гипотезы согласия с нормальным распределением с параметрами $(\\alpha_0,\\sigma_0^2) = (-1, 0.04)$. Проверим при уровне значимости $\\alpha_2$.**\n",
        "\n",
        "\n",
        "Таблица частот\n",
        "\n",
        "|j                     | 0  | 1  |  2 |  3 |  4 |  5 |  6 |\n",
        "|----------------------|:--:|:--:|:--:|:--:|:--:|:--:|:--:|\n",
        "|$$\\nu_j (x =X_{(i)})$$|  2 |   3|  12| 15 |12  |   5|   1|\n",
        "\n",
        "Таблица интервалов\n",
        "\n",
        "|j        | 0    | 1    |  2  |  3  |  4  |  5  |  6  |$\\sum$|\n",
        "|:-------:|:----:|:----:|:---:|:---:|:---:|:---:|:---:|:----:|\n",
        "|$I_j$    |(-∞;-1.4]|(-1.4;-1.25] |(-1.25;-1.1]|(-1.1;-0.95]|(-0,95;-0.8]|(-0.8;-0.65]|(0.65;+∞]|(-∞;+∞)|\n",
        "|$p_{i0}$ |0.029 |0.094 |0.213|0.287|0.23 |0.109|0.037|1     |\n",
        "|$np_{i0}$|1.45  |4.7  |10.65  |14.35  | 11.5 | 5.45| 1.85 | 50   |\n",
        "\n",
        "\n",
        "$X^2=\\sum_{i=1}^{r}\\frac{(\\nu_i-np_{i0})^2}{np_{i0}} = 1.474$"
      ]
    },
    {
      "cell_type": "code",
      "execution_count": null,
      "id": "Z3TNIPlkiHC0",
      "metadata": {
        "colab": {
          "base_uri": "https://localhost:8080/"
        },
        "id": "Z3TNIPlkiHC0",
        "outputId": "9b7b670e-0f25-4142-8e9f-21ac7411ef13"
      },
      "outputs": [
        {
          "name": "stdout",
          "output_type": "stream",
          "text": [
            "веротяности попадания в 0 интервал: 0.023\n",
            "веротяности попадания в 1 интервал: 0.083\n",
            "веротяности попадания в 2 интервал: 0.203\n",
            "веротяности попадания в 3 интервал: 0.29\n",
            "веротяности попадания в 4 интервал: 0.243\n",
            "веротяности попадания в 5 интервал: 0.119\n",
            "веротяности попадания в 6 интервал: 0.04\n",
            "\n",
            "Ожидаемые частоты: \n",
            "np_0:  1.15\n",
            "np_1:  4.15\n",
            "np_2:  10.15\n",
            "np_3:  14.5\n",
            "np_4:  12.15\n",
            "np_5:  5.95\n",
            "np_6:  2.0\n",
            "\n",
            "X2 = 1.955\n"
          ]
        }
      ],
      "source": [
        "import numpy as np\n",
        "import math\n",
        "from scipy.stats import norm\n",
        "\n",
        "p_0 = round(norm.cdf(-1.4, -1, 0.2),3)\n",
        "p_1 = round(norm.cdf(-1.25, -1, 0.2) - norm.cdf(-1.4, -1, 0.2),3)\n",
        "p_2 = round(norm.cdf(-1.1, -1, 0.2) - norm.cdf(-1.25, -1, 0.2),3)\n",
        "p_3 = round(norm.cdf(-0.95, -1, 0.2) - norm.cdf(-1.1, -1, 0.2),3)\n",
        "p_4 = round(norm.cdf(-0.8, -1, 0.2) - norm.cdf(-0.95, -1, 0.2),3)\n",
        "p_5 = round(norm.cdf(-0.65, -1, 0.2) - norm.cdf(-0.8, -1, 0.2),3)\n",
        "p_6 = round(1 - norm.cdf(-0.65, -1, 0.2),3)\n",
        "\n",
        "probabilities = np.array([p_0, p_1, p_2, p_3, p_4, p_5, p_6])\n",
        "\n",
        "for i in range(len(probabilities)):\n",
        "  print(f\"веротяности попадания в {i} интервал: {probabilities[i]}\")\n",
        "\n",
        "#расчет теоретических частот\n",
        "print(\"\\nОжидаемые частоты: \")\n",
        "for i in range(len(probabilities)):\n",
        "    probabilities[i] *= len(sample)\n",
        "    print(f\"np_{i}: \", np.round(probabilities[i], decimals=3))\n",
        "\n",
        "frequencies_arr = np.array([2, 3, 12, 15, 12, 5, 1])\n",
        "\n",
        "#расчет статистики\n",
        "X2 = np.round(((frequencies_arr - probabilities) ** 2 / probabilities).sum(), decimals=3)\n",
        "print(\"\\nX2 =\", X2)\n"
      ]
    },
    {
      "cell_type": "markdown",
      "id": "_R-byfJpMCt9",
      "metadata": {
        "id": "_R-byfJpMCt9"
      },
      "source": [
        "$x_{\\alpha_2}: K_{r-1}(x_{\\alpha_2}) = 1-\\alpha_2 = 1-0.05 = 0.95$\n",
        "\n",
        "$x_{\\alpha_2}\\approx 1.96$\n",
        "\n",
        "$\\phi(x)=1$, значит основую гипотезу $H_0$ отклоняем, принимаем альтернативу."
      ]
    },
    {
      "cell_type": "code",
      "execution_count": null,
      "id": "X5yo7PhoMEPG",
      "metadata": {
        "colab": {
          "base_uri": "https://localhost:8080/"
        },
        "id": "X5yo7PhoMEPG",
        "outputId": "65679a07-ba21-4362-b755-55b630b24936"
      },
      "outputs": [
        {
          "name": "stdout",
          "output_type": "stream",
          "text": [
            "Квантиль: 1.358\n",
            "Критерий: 1\n"
          ]
        }
      ],
      "source": [
        "from scipy.stats import chi2\n",
        "\n",
        "alpha_2 = 0.05\n",
        "fx = 0.95\n",
        "x_a1 = chi2.ppf(fx, df= len(probabilities)-1) #использут уровень значимости\n",
        "print(\"Квантиль:\", np.round(x_a2, decimals=3))\n",
        "\n",
        "def criteria(x_a, X2):\n",
        "  if(x_a>=X2):\n",
        "    return 0\n",
        "  else:\n",
        "    return 1\n",
        "\n",
        "phi = criteria(x_a2, X2)\n",
        "print('Критерий:', phi)"
      ]
    },
    {
      "cell_type": "markdown",
      "id": "DaTZEJv3Mkmu",
      "metadata": {
        "id": "DaTZEJv3Mkmu"
      },
      "source": [
        "Вычислим наибольшее значение уровня значимости, на котором нет оснований отвергнуть основную гипотезу. Так как максимальное значение уровня значимости будет при $x_\\alpha=X^2$, то рассчитаем $\\alpha = 1 - K_{r-1}(X^2) \\approx 0.924$"
      ]
    },
    {
      "cell_type": "code",
      "execution_count": null,
      "id": "dl8ucIdFMmh_",
      "metadata": {
        "colab": {
          "base_uri": "https://localhost:8080/"
        },
        "id": "dl8ucIdFMmh_",
        "outputId": "75419b28-5d82-49c9-ff96-3dbc240975dd"
      },
      "outputs": [
        {
          "name": "stdout",
          "output_type": "stream",
          "text": [
            "Наибольшее значение уровня значимости a_1 для принятия нулевой гипотезы : 0.9237903397107491\n"
          ]
        }
      ],
      "source": [
        "a_max = 1 - chi2.cdf(X2, len(probabilities)-1)#использует значение квантили\n",
        "print(\"Наибольшее значение уровня значимости a_1 для принятия нулевой гипотезы :\", a_max)"
      ]
    },
    {
      "cell_type": "markdown",
      "id": "xCxegceaVhkt",
      "metadata": {
        "id": "xCxegceaVhkt"
      },
      "source": [
        "####**g) Построение критерия значимости $\\chi^2$ проверки сложной гипотезы с нормальным распределением. Гипотезу вычислим на уровне значисмости $\\alpha_2=-1.014$.**\n",
        "Интервалы используем из предыдущего пункта, статистику критерия находим по первому варианту, т.к. ОМП была надена ранее: $(\\widehat{a}, \\widehat{\\sigma}^2) = (-1.014, 0.226^2)$."
      ]
    },
    {
      "cell_type": "code",
      "execution_count": null,
      "id": "qTzBmAWSWX3b",
      "metadata": {
        "colab": {
          "base_uri": "https://localhost:8080/"
        },
        "id": "qTzBmAWSWX3b",
        "outputId": "4c934b43-c364-4103-b6ad-7be4b36f4134"
      },
      "outputs": [
        {
          "name": "stdout",
          "output_type": "stream",
          "text": [
            "веротяности попадания в 0 интервал: 0.029\n",
            "веротяности попадания в 1 интервал: 0.094\n",
            "веротяности попадания в 2 интервал: 0.213\n",
            "веротяности попадания в 3 интервал: 0.287\n",
            "веротяности попадания в 4 интервал: 0.23\n",
            "веротяности попадания в 5 интервал: 0.109\n",
            "веротяности попадания в 6 интервал: 0.037\n",
            "\n",
            "Ожидаемые частоты: \n",
            "np_0:  1.45\n",
            "np_1:  4.7\n",
            "np_2:  10.65\n",
            "np_3:  14.35\n",
            "np_4:  11.5\n",
            "np_5:  5.45\n",
            "np_6:  1.85\n",
            "\n",
            "X2 = 1.474\n"
          ]
        }
      ],
      "source": [
        "import numpy as np\n",
        "from scipy.stats import poisson\n",
        "\n",
        "p_0 = round(norm.cdf(-1.4, X_mean, sigma),3)\n",
        "p_1 = round(norm.cdf(-1.25, X_mean, sigma) - norm.cdf(-1.4, X_mean, sigma),3)\n",
        "p_2 = round(norm.cdf(-1.1, X_mean, sigma) - norm.cdf(-1.25, X_mean, sigma),3)\n",
        "p_3 = round(norm.cdf(-0.95, X_mean, sigma) - norm.cdf(-1.1, X_mean, sigma),3)\n",
        "p_4 = round(norm.cdf(-0.8, X_mean, sigma) - norm.cdf(-0.95, X_mean, sigma),3)\n",
        "p_5 = round(norm.cdf(-0.65, X_mean, sigma) - norm.cdf(-0.8, X_mean, sigma),3)\n",
        "p_6 = round(1 - norm.cdf(-0.65, X_mean, sigma),3)\n",
        "\n",
        "probabilities = np.array([p_0, p_1, p_2, p_3, p_4, p_5, p_6])\n",
        "\n",
        "for i in range(len(probabilities)):\n",
        "  print(f\"веротяности попадания в {i} интервал: {probabilities[i]}\")\n",
        "\n",
        "#расчет теоретических частот\n",
        "print(\"\\nОжидаемые частоты: \")\n",
        "for i in range(len(probabilities)):\n",
        "    probabilities[i] *= len(sample)\n",
        "    print(f\"np_{i}: \", np.round(probabilities[i], decimals=3))\n",
        "\n",
        "frequencies_arr = np.array([2, 3, 12, 15, 12, 5, 1])\n",
        "\n",
        "#расчет статистики\n",
        "X2 = np.round(((frequencies_arr - probabilities) ** 2 / probabilities).sum(), decimals=3)\n",
        "print(\"\\nX2 =\", X2)"
      ]
    },
    {
      "cell_type": "code",
      "execution_count": null,
      "id": "Pzldw-A8WZNo",
      "metadata": {
        "colab": {
          "base_uri": "https://localhost:8080/"
        },
        "id": "Pzldw-A8WZNo",
        "outputId": "ba9c0dfd-b1d5-41f4-e2f6-ab83717c822c"
      },
      "outputs": [
        {
          "name": "stdout",
          "output_type": "stream",
          "text": [
            "Квантиль: 11.07\n",
            "Критерий: 0\n"
          ]
        }
      ],
      "source": [
        "from scipy.stats import chi2\n",
        "\n",
        "alpha_1 = 0.05\n",
        "x_a1 = chi2.ppf(1-alpha_1, df=len(probabilities)-1-1)\n",
        "print(\"Квантиль:\", np.round(x_a1, decimals=3))\n",
        "\n",
        "def criteria(x_a, X2):\n",
        "  if(x_a>=X2):\n",
        "    return 0\n",
        "  else:\n",
        "    return 1\n",
        "\n",
        "phi = criteria(x_a1, X2)\n",
        "print('Критерий:', phi)"
      ]
    },
    {
      "cell_type": "markdown",
      "id": "LDs7aj9HlRlP",
      "metadata": {
        "id": "LDs7aj9HlRlP"
      },
      "source": [
        "Критерий равен 0, принимаем основную гипотезу о нормальном распределении."
      ]
    },
    {
      "cell_type": "code",
      "execution_count": null,
      "id": "MUACrdFFlIsK",
      "metadata": {
        "colab": {
          "base_uri": "https://localhost:8080/"
        },
        "id": "MUACrdFFlIsK",
        "outputId": "5d7a36ea-1aa7-46d2-96aa-65d8619fcf4a"
      },
      "outputs": [
        {
          "name": "stdout",
          "output_type": "stream",
          "text": [
            "Наибольшее значение уровня значимости a_1 для принятия нулевой гипотезы: 0.9160505644049385\n"
          ]
        }
      ],
      "source": [
        "a_max = 1 - chi2.cdf(X2, len(probabilities)-1-1)\n",
        "print(\"Наибольшее значение уровня значимости a_1 для принятия нулевой гипотезы:\", a_max)"
      ]
    },
    {
      "cell_type": "markdown",
      "id": "cRoirJDPliH6",
      "metadata": {
        "id": "cRoirJDPliH6"
      },
      "source": [
        "####**h) Построение наиболее мощного критерия проверки простой гипотезы о нормальности с параметрами $(\\alpha, \\sigma^2)=(\\alpha_0, \\sigma_0^2)=(-1, 0.2)$ при альтернативе нормальности с параметрами $(\\alpha, \\sigma^2)=(\\alpha_1, \\sigma_1^2)=(-1.6, 0.2)$. Проверим гипотезу при уровне значимости $\\alpha_2=0.05$.**\n",
        "\n",
        "\n",
        "Гипотезы:\n",
        "\n",
        "$H_0: F(X)\\in \\mathcal{N}(\\alpha_0, \\sigma_0^2)$\n",
        "\n",
        "$H_A: F(X)\\in \\mathcal{N}(\\alpha_1, \\sigma_1^2)$\n",
        "\n",
        "Критерий:\n",
        "\n",
        "$\\phi(\\overrightarrow X) = \\begin{cases}\n",
        "  1, LR(\\overrightarrow X, \\alpha_0, \\sigma_0^2, \\alpha_1, \\sigma_1^2) \\gt C \\\\\n",
        "  p, LR(\\overrightarrow X, \\alpha_0, \\sigma_0^2, \\alpha_1, \\sigma_1^2) = C \\\\\n",
        "  0, LR(\\overrightarrow X, \\alpha_0, \\sigma_0^2, \\alpha_1, \\sigma_1^2) \\lt C\n",
        "\\end{cases},$\n",
        "\n",
        "где $LR(\\overrightarrow{X},\\alpha_0, \\sigma_0^2, \\alpha_1, \\sigma_1^2) =\\frac{L (\\overrightarrow X,\\alpha_1, \\sigma_1^2)}{L(\\overrightarrow X,\\alpha_0, \\sigma_0^2)}=\\frac{\\sigma_0}{\\sigma_1}\\exp\\left( \\frac{\\sum_{i=1}^{n}(x_i-a_0)^2}{2\\sigma_0^2}- \\frac{\\sum_{i=1}^{n}(x_i-a_1)^2}{2\\sigma_1^2}\\right)=[\\sigma_0 = \\sigma_1 = \\sigma] = \\exp\\left( \\frac{\\sum_{i=1}^{n}(x_i-a_0)^2 -\\sum_{i=1}^{n}(x_i-a_1)^2 }{2\\sigma^2}\\right) = \\exp\\left( \\frac{\\sum_{i=1}^{n}(x_i-a_0)^2 -\\sum_{i=1}^{n}(x_i-a_1)^2 }{2\\sigma^2}\\right)=\\exp\\left( \\frac{(a_1-a_0)\\sum_{i=1}^{n}x_i+(a_0^2-a_1^2)n}{2\\sigma^2} \\right)=\\exp\\left( -7,5\\sum_{i=1}^{n}x_i +975 \\right)$\n",
        "\n",
        "построим критерий, эквивалентный критерию отношения правдоподобия, путем преобразования неравенств:\n",
        "\n",
        "$\\phi(\\overrightarrow X) = \\begin{cases}\n",
        "  1, \\sum_{i=1}^{n}x_i \\gt \\frac{2\\sigma^2\\ln(C)-n(a_0^2-a_1^2)}{a_1-a_0} \\\\\n",
        "  p, \\sum_{i=1}^{n}x_i = \\frac{2\\sigma^2\\ln(C)-n(a_0^2-a_1^2)}{a_1-a_0} \\\\\n",
        "  0, \\sum_{i=1}^{n}x_i \\lt \\frac{2\\sigma^2\\ln(C)-n(a_0^2-a_1^2)}{a_1-a_0}\n",
        "\\end{cases},$\n",
        "\n",
        "Запишем в термирнах $\\overline{X}$, произведем замену $\\frac{2\\sigma^2\\ln(C)-n(a_0^2-a_1^2)}{(a_1-a_0)n}=C^*$ :\n",
        "\n",
        "$\\phi(\\overrightarrow X) = \\begin{cases}\n",
        "  1, \\overline{X} \\gt C^* \\\\\n",
        "  p, \\overline{X} = C^* \\\\\n",
        "  0, \\overline{X} \\lt C^*\n",
        "\\end{cases},$\n",
        "\n",
        "Статистика $T(X)=\\overline{X}$ при верной гипотезе $H_0$ распределена по закону номального распределения $\\mathcal{N}(\\alpha_0, \\sigma_0^2)$. Для наиболее мощного критерия найдем константу $C^*$:\n",
        "\n",
        "$\\mathbb{E}_{(\\alpha_0, \\sigma_0^2)} \\phi(\\overrightarrow{X})=\\mathbb{P}_{\\lambda_0}(\\overline{X} \\gt C^*)+p\\cdot \\mathbb{P}_{(\\alpha_0, \\sigma_0^2)}(\\overline{X}=C^*)=\\alpha_2$\n",
        "\n",
        "$\\mathbb{P}_{(\\alpha_0, \\sigma_0^2)}(\\overline{X} \\gt C^*)=1-\\mathbb{P}_{(\\alpha_0, \\sigma_0^2)}(n\\overline{X} \\le nC^*)=1-\\Phi_{(na_0, n\\sigma_0^2)}(nC^*)$\n",
        "\n",
        "При $LR(\\overrightarrow X, \\lambda_0, \\lambda_1) \\neq C$ наиболее мощный критерий $\\phi$ опреден однозначно. Тогда:\n",
        "\n",
        "$1-\\Phi_{(na_0, n\\sigma_0^2)}(nC^*) = \\alpha_2$\n",
        "\n",
        "$\\Phi_{(-50, 2)}(nC^*) = 0.95$\n",
        "\n",
        "$nC^* = \\Phi^{-1}(1-\\alpha_1) = \\Phi^{-1}(0.95)$\n"
      ]
    },
    {
      "cell_type": "code",
      "execution_count": null,
      "id": "fRNhyTO7jBQk",
      "metadata": {
        "colab": {
          "base_uri": "https://localhost:8080/"
        },
        "id": "fRNhyTO7jBQk",
        "outputId": "f4d49644-317c-4b49-c585-8149b5a6320c"
      },
      "outputs": [
        {
          "name": "stdout",
          "output_type": "stream",
          "text": [
            "C* = -0.6710292746097056\n",
            "Критерий: 0\n"
          ]
        }
      ],
      "source": [
        "from scipy.stats import norm\n",
        "\n",
        "C = norm.ppf(0.95, 50*(-1), 50*0.2)/50\n",
        "print(\"C* =\", C)\n",
        "\n",
        "def criteria(C, X):\n",
        "  if(X>C):\n",
        "    return 1\n",
        "  else:\n",
        "    return 0\n",
        "\n",
        "phi = criteria(C, X_mean)\n",
        "print('Критерий:', phi)"
      ]
    },
    {
      "cell_type": "markdown",
      "id": "bPTbTaZdl_fi",
      "metadata": {
        "id": "bPTbTaZdl_fi"
      },
      "source": [
        "Так как притерий равен 0, то принимаем основную гипотезу $H_0$.\n",
        "\n",
        "Если поменять гипотезы местами, то, повторяя предыдущие преобразования и вычисления, критерий становится равен 1. Следовательно, мы меняем принимаем другу гипотезу (для данного случая основуную) $H_A$."
      ]
    },
    {
      "cell_type": "code",
      "execution_count": null,
      "id": "oVd_rQLEmDIY",
      "metadata": {
        "colab": {
          "base_uri": "https://localhost:8080/"
        },
        "id": "oVd_rQLEmDIY",
        "outputId": "d904dd9f-5ed2-4545-d8eb-c7722332470b"
      },
      "outputs": [
        {
          "name": "stdout",
          "output_type": "stream",
          "text": [
            "C* = -1.2710292746097056\n",
            "Критерий: 1\n"
          ]
        }
      ],
      "source": [
        "from scipy.stats import norm\n",
        "\n",
        "C = norm.ppf(0.95, 50*(-1.6), 50*0.2)/50\n",
        "print(\"C* =\", C)\n",
        "\n",
        "def criteria(C, X):\n",
        "  if(X>C):\n",
        "    return 1\n",
        "  else:\n",
        "    return 0\n",
        "\n",
        "phi = criteria(C, X_mean)\n",
        "print('Критерий:', phi)"
      ]
    },
    {
      "cell_type": "markdown",
      "id": "XtAgDmaZoWGH",
      "metadata": {
        "id": "XtAgDmaZoWGH"
      },
      "source": [
        "####**i-c) Построение ОМП параметра $\\theta = (a,\\sigma^2)$ , соотвествующие оценки по методу моментов. Нахождение смещения оценок.**\n",
        "\n",
        "Учитем, что исходные наблюдения являются выборкой из семейства распределений Лапласа.\n",
        "\n",
        "* Найдем точечную оценку методом максимального правдоподобия:\n",
        "\n",
        "  $p_\\theta(X)=\\frac{1}{\\sqrt{2}\\sigma}\\exp\\left( -\\frac{\\sqrt{2}}{\\sigma} \\left| x-a \\right|\\right) $\n",
        "\n",
        "  $L(\\overrightarrow{X}, a, \\sigma)=\\prod_{i=1}^{n}\\frac{1}{\\sqrt{2}\\sigma}\\exp\\left(-\\frac{\\sqrt2}{\\sigma}|x_i-a|\\right)=\\frac{1}{\\sigma^n2^{n/2}}\\exp\\left( -\\frac{\\sqrt2}{\\sigma}\\sum_{i=1}^{n}|x_i-a| \\right)$\n",
        "\n",
        "  $LL(\\overrightarrow{X}, a, \\sigma)=-\\frac{\\sqrt{2}}{\\sigma}\\sum_{i=1}^{n}|x_i-a|-\\frac{n}{2}\\ln2-n\\ln\\sigma$\n",
        "\n",
        "\n",
        "  1.   $\\frac{\\partial LL(\\overrightarrow{X}, a,\\widehat{\\sigma})}{\\partial a}=-\\frac{2}{\\widehat{\\sigma}}\\sum_{i=1}^{n}sign(x_i-a)=0\\\\\n",
        "  \\widehat{a}=\\mathcal{Z}_{n,\\frac{1}{2}}\\\\\n",
        "  \\widehat{a}=\\frac{X_{(24)}+X_{(25)}}{2}\\approx -1.014 $\n",
        "\n",
        "\n",
        "  2.   $\\frac{\\partial LL(\\overrightarrow{X}, \\widehat{a},\\sigma)}{\\partial \\sigma}=-\\frac{n}{\\sigma}+\\frac{\\sqrt{2}}{\\sigma^2}\\sum_{i=1}^{n}|x_i-\\widehat{a}|=0\\\\\n",
        "\\widehat{\\sigma}=\\frac{\\sqrt2\\sum_{i=1}^{n}|x_i-\\widehat{a}|}{n}$\n",
        "\n",
        "    $\\widehat{\\sigma}^2=\\frac{2\\left( \\sum_{i=1}^{n}\\left| x_i-\\mathcal{Z}_{n,\\frac{1}{2}} \\right| \\right)^2}{n^2}\\approx 0.051$\n",
        "\n",
        "  $\\widehat{\\theta}=(\\widehat{a},\\widehat{\\sigma}^2) = (-1.014,0.051)$\n"
      ]
    },
    {
      "cell_type": "code",
      "execution_count": null,
      "id": "N-viPM-1Q4R1",
      "metadata": {
        "colab": {
          "base_uri": "https://localhost:8080/"
        },
        "id": "N-viPM-1Q4R1",
        "outputId": "e09ea2c3-622f-4c67-d0af-fcf533ebd031"
      },
      "outputs": [
        {
          "name": "stdout",
          "output_type": "stream",
          "text": [
            "-1.014\n",
            "0.051\n"
          ]
        }
      ],
      "source": [
        "Z=(var_series[23]+var_series[24])/2\n",
        "print(round(Z,3))\n",
        "\n",
        "sigma2= (2/n**2)*((abs(var_series-Z)).sum())**2\n",
        "print(round(sigma2,3))"
      ]
    },
    {
      "cell_type": "markdown",
      "id": "dFK7GRB3TE-F",
      "metadata": {
        "id": "dFK7GRB3TE-F"
      },
      "source": [
        "*  Найдем точечную оценку методом моментов:\n",
        "\n",
        "  $\\mathbb{E}X_1 = \\displaystyle \\frac{1}{\\sigma \\sqrt{2}} \\int_{- \\infty}^{\\infty} x \\exp\\left(-\\frac{\\sqrt{2}}{\\sigma} |x-a|\\right)dx = \\left[ t=x-a; dt=dx; x=t-a\\right] = \\frac{1}{\\sigma \\sqrt{2}} \\int_{-\\infty}^{\\infty} (t+a) \\exp\\left(-\\frac{\\sqrt{2}}{\\sigma} |t| \\right)dt =  \\frac{1}{\\sigma \\sqrt{2}} \\left({\\int_{-\\infty}^{\\infty}t\\exp\\left( -\\frac{\\sqrt{2}}{\\sigma} |t| \\right)dt} + \\int_{-\\infty}^{\\infty}a\\exp\\left( -\\frac{\\sqrt{2}}{\\sigma} |t| \\right)dt\\right)=\\left[ \\text{интеграл от нечетной фунции уничтожается:} {\\int_{-\\infty}^{\\infty}t\\exp\\left( -\\frac{\\sqrt{2}}{\\sigma} |t| \\right)dt=0};\\\\\n",
        "\\text{интеграл от четной функции удваивается на промежттуке от 0 до } \\infty:\\\\   \n",
        "\\int_{-\\infty}^{\\infty}a\\exp\\left( -\\frac{\\sqrt{2}}{\\sigma} |t| \\right)dt = 2\\int_{0}^{\\infty}a\\exp\\left( -\\frac{\\sqrt{2}}{\\sigma} |t| \\right)dt \\right] = \\frac{a\\sqrt{2}}{\\sigma}\\int_{0}^{\\infty}\\exp\\left( -\\frac{\\sqrt{2}}{\\sigma}t\\right)dt=  \\\\\n",
        "= \\frac{a\\sqrt{2}}{\\sigma} \\frac{\\sigma}{\\sqrt2} \\lim_{b \\to \\infty} \\exp\\left( -\\frac{\\sqrt{2}}{\\sigma}t \\right)\\displaystyle |_0^b=a;$\n",
        "\n",
        "  $\\mu_1=\\overline{X};$\n",
        "\n",
        "  $\\mathbb{E}X_1^2=  \\displaystyle \\frac{1}{\\sigma \\sqrt{2}} \\int_{- \\infty}^{\\infty} x^2 \\exp\\left(-\\frac{\\sqrt{2}}{\\sigma} |x-a|\\right)dx = \\left[ t=x-a; dt=dx; x=t-a\\right] = \\\\\n",
        "  =\\frac{1}{\\sigma \\sqrt{2}} \\int_{-\\infty}^{\\infty} (t+a)^2 \\exp\\left(-\\frac{\\sqrt{2}}{\\sigma} |t| \\right)dt=\n",
        "  \\\\=\\displaystyle \\frac{1}{\\sigma \\sqrt{2}} \\int_{-\\infty}^{\\infty} t^2 \\exp(-\\frac{\\sqrt{2}}{\\sigma} |t|) dt + \\frac{1}{\\sigma \\sqrt{2}} \\int_{- \\infty}^{\\infty} a^2 \\exp(-\\frac{\\sqrt{2}}{\\sigma} |t|) dt =\\\\= \\frac{ \\sqrt{2}}{\\sigma} \\int_{0}^{\\infty} t^2 \\exp(-\\frac{\\sqrt{2}}{\\sigma} t) dt + \\frac{\\sqrt{2}}{\\sigma } \\int_{0}^{\\infty} a^2 \\exp(-\\frac{\\sqrt{2}}{\\sigma} t) dt = \\sigma^2 + a^2;$\n",
        "  \n",
        "  $\\mu_2=\\frac{1}{n}\\sum_{i=1}^{n}x_i^2=\\overline{X^2};$\n",
        "\n",
        "  $\\begin{cases}\n",
        "        a = \\overline{X}  \\\\\n",
        "        a^2+\\sigma^2=\\overline{X^2 }\\\\\n",
        "  \\end{cases}$\n",
        "\n",
        "  $\\begin{cases}\n",
        "        \\widetilde{a} = \\overline{X} \\\\\n",
        "        \\overline{X}^2+\\widetilde{\\sigma^2}=\\overline{X^2}\\\\\n",
        "  \\end{cases}$\n",
        "\n",
        "  $\\begin{cases}\n",
        "        \\widetilde{a} = \\overline{X} \\\\\n",
        "        \\widetilde{\\sigma^2}=S^2\\\\\n",
        "  \\end{cases}$\n",
        "\n",
        "  Получается, что ОММ: $\\widetilde{\\theta}=(\\overline{X},S^2)$\n",
        "\n",
        "*  Найдем смещение оценки:\n",
        "\n",
        "  1. по параметру а\n",
        "\n",
        "  $\\mathbb{E}_\\theta\\lambda=\\mathbb{E}_a\\overline{X}=\\frac{\\sum_{i=1}^{n}\\mathbb{E}_ax_i}{n}=a$\n",
        "\n",
        "  $b(a)=\\mathbb{E}_a\\overline{X}-\\overline{X}=a-\\overline{X}=0$\n",
        "\n",
        "  2. по параметру $\\sigma^2$\n",
        "\n",
        "  $\\mathbb{E}_\\theta\\widehat{\\sigma}^2=\\mathbb{E}_{\\sigma^2}\\left( \\frac{1}{n}\\sum_{i=1}^{n}(X_i-\\overline{X})^2 \\right)=\\frac{1}{n}\\sum_{i=1}^{n}\\mathbb{E}_{\\sigma^2}(X_i-\\overline{X})^2=\\frac{\\sum_{i=1}^{n}}{n}\\left(\\mathbb{E}_{\\sigma^2}x_i-\\mathbb{E}_{\\sigma^2}\\overline{X}  \\right)=\\frac{\\sum_{i=1}^{n}}{n}(a-a)=0$\n",
        "\n",
        "  $b(\\sigma^2)=\\mathbb{E}_{\\sigma^2} - S^2=-S^2 \\approx -0.0017$"
      ]
    },
    {
      "cell_type": "markdown",
      "id": "XNVFf-P9EeQs",
      "metadata": {
        "id": "XNVFf-P9EeQs"
      },
      "source": [
        "####**i-d) Построение доверительного интервала уровня значимости $\\alpha_2= 0.05$ для парметров $(a, \\sigma^2)$**\n",
        "\n",
        "*  Для параметра a:\n",
        "\n",
        "  $G(\\overrightarrow{X}, a)=\\sqrt{n-1} \\frac{\\overline{X}-a}{S} \\sim S_{n-1}\\text{ по четвертому пункту леммы Фишера}\\\\\n",
        "  \\mathbb{P}_a \\left( \\sqrt{n - 1} \\frac{\\overline{X}-a}{S}\\in [-x_{\\alpha_2}, x_{\\alpha_2}] \\right)=S_{n-1}(x_{\\alpha_2})-S_{n-1}(x_{\\alpha_2})=1-\\alpha_2 \\\\\n",
        "  x_\\alpha: S_{n-1}(x_\\alpha) = 1-\\frac{0.5}{2}=0.975\\\\\n",
        "  x_\\alpha = 2.01$\n",
        "\n",
        "  $\\left[ \\overline{X}-\\frac{x_\\alpha S}{\\sqrt{n-1}}; \\overline{X} + \\frac{x_\\alpha S}{\\sqrt{n-1}} \\right]\\ni a\\\\\n",
        "  [-1.073; -0.956] \\ni a$\n",
        "\n",
        "* Для параметра $\\sigma^2$:\n",
        "\n",
        "  $G(\\overrightarrow{X}, \\sigma^2)=\\frac{nS^2}{\\sigma^2}\\sim \\chi^2_{n-1}\n",
        "  \\text{ по третьему пункту леммы Фишера}\\\\\n",
        "  x_{1\\alpha_2}: \\mathcal{K}_{n-1}(x_{1\\alpha_2})= \\frac{\\alpha_2}{2} =  0.025\\\\\n",
        "  x_{2\\alpha_2}: \\mathcal{K}_{n-1}(x_{2\\alpha_2})= 1-\\frac{\\alpha_2}{2} = 0.975\\\\\n",
        "  x_{1\\alpha1} = 31.555\\\\\n",
        "  x_{2\\alpha2} = 70.222\\\\\n",
        "  \\mathbb{P}_{\\sigma^2} \\left(x_{1_{\\alpha_2}} \\le \\frac{nS^2}{\\sigma^2} \\le x_{2_{\\alpha_2}} \\right) = 1 - \\alpha_2\\\\\n",
        "  \\mathbb{P}_{\\sigma^2} \\left(\\frac{1}{x_{2_{\\alpha_2}}} \\le \\frac{\\sigma^2}{nS^2} \\le \\frac{1}{x_{1_{\\alpha_2}}}  \\right) = 1 - \\alpha_2\\\\\n",
        "  \\left[  \\frac{n S^2}{x_{2\\alpha}}; \\frac{n S^2}{x_{1\\alpha}} \\right]  \\ni \\sigma^2 \\\\\n",
        "  \\left[0.029; 0.066 \\right] \\ni \\sigma^2$"
      ]
    },
    {
      "cell_type": "code",
      "execution_count": null,
      "id": "lLF7DXeII_M9",
      "metadata": {
        "colab": {
          "base_uri": "https://localhost:8080/"
        },
        "id": "lLF7DXeII_M9",
        "outputId": "436548b1-0ba0-4f5a-bbea-9cd44fcccf34"
      },
      "outputs": [
        {
          "name": "stdout",
          "output_type": "stream",
          "text": [
            "Квантиль 1: = 2.01\n",
            "Интервал: [-1.073; -0.956]\n",
            "Квантиль 1: = 31.555\n",
            "Квантиль 2: = 70.222\n",
            "Интервал: [0.029; 0.066]\n"
          ]
        }
      ],
      "source": [
        "from scipy.stats import t\n",
        "from scipy.stats import chi2\n",
        "import numpy as np\n",
        "\n",
        "fx_1 = 0.025\n",
        "fx_2 = 0.975\n",
        "student = t(50-1)\n",
        "x_a2 = student.ppf(fx_2)\n",
        "print(\"Квантиль 1: =\", round(x_a2,3))\n",
        "\n",
        "left_bound = X_mean - x_a2*np.sqrt(S2)/np.sqrt(50-1)\n",
        "right_bound = X_mean + x_a2*np.sqrt(S2)/np.sqrt(50-1)\n",
        "print(f\"Интервал: [{np.round(left_bound, decimals=3)}; {np.round(right_bound, decimals=3)}]\")\n",
        "\n",
        "chi2 = chi2(49)\n",
        "x_1_a2 = chi2.ppf(fx_1)\n",
        "x_2_a2 = chi2.ppf(fx_2)\n",
        "print(\"Квантиль 1: =\", round(x_1_a2, 3))\n",
        "print(\"Квантиль 2: =\", round(x_2_a2, 3))\n",
        "\n",
        "left_bound = 50 * S2 / x_2_a2\n",
        "right_bound = 50 * S2 / x_1_a2\n",
        "print(f\"Интервал: [{np.round(left_bound, decimals=3)}; {np.round(right_bound, decimals=3)}]\")"
      ]
    },
    {
      "cell_type": "markdown",
      "id": "y_J9cBADaT_h",
      "metadata": {
        "id": "y_J9cBADaT_h"
      },
      "source": [
        "####**i-e) С использованием теоремы Колмогорова построим критерий значимости проверки простой гипотезы согласия с семейством распределения Лапласа с параметрами $(\\alpha_0, \\sigma_0^2)=(-1, 0.04)$ на уровне значимости $\\alpha_2 = 0.05$. Вычисление наибольшего значения уровня значимости, на котором ещё нет оснований отвергнуть гипотезу.**\n",
        "$H_0: F \\sim \\mathcal{L}(\\alpha_0, \\sigma_0^2)$\n",
        "\n",
        "$H_A: F(x) \\ne F_0(x)$, при $x \\in \\mathbb{R}$\n",
        "\n",
        "$D_n=\\max|F_n(x)-F_0(x)|$\n",
        "\n",
        "$F_n(x)=\\frac{1}{n}\\sum_{i=1}^{n}\\mathbb{1}_{X_i\\lt x}$\n",
        "\n",
        "$\\widetilde{\\phi}(x) =\n",
        "\\begin{cases}\n",
        "  0, \\sqrt{n}\\widehat{D}_n \\le x_\\alpha;\\\\\n",
        "  1, \\sqrt{n}\\widehat{D}_n \\gt x_\\alpha,\n",
        "\\end{cases}$\n",
        "\n",
        "$x_\\alpha: K(x_\\alpha)=1-\\alpha=1-0.05=0.95\\\\\n",
        "x_\\alpha=1.358$\n"
      ]
    },
    {
      "cell_type": "code",
      "execution_count": null,
      "id": "Eylp51wqaVi1",
      "metadata": {
        "colab": {
          "base_uri": "https://localhost:8080/"
        },
        "id": "Eylp51wqaVi1",
        "outputId": "28904b3a-5da4-45ac-914a-2091b6ddbbc9"
      },
      "outputs": [
        {
          "name": "stdout",
          "output_type": "stream",
          "text": [
            "KstestResult(statistic=0.09100864691597466, pvalue=0.767912650868676, statistic_location=-0.699, statistic_sign=1)\n",
            "Статистика D_n = 0.074\n"
          ]
        }
      ],
      "source": [
        "# проверка тестом Колмогорова:\n",
        "from scipy.stats import kstest\n",
        "print(kstest(sample, 'laplace', args=(-1,0.2)))\n",
        "\n",
        "#по формулам:\n",
        "from scipy.stats import laplace\n",
        "\n",
        "# выборочная функция распределения\n",
        "def F(x, sample):\n",
        "  sample = np.sort(sample)\n",
        "  sum = 0\n",
        "  for i in sample:\n",
        "      if i < x:\n",
        "        sum += 1\n",
        "  return sum / len(sample)\n",
        "\n",
        "# непрерывная функция распределения (массив)\n",
        "F_0 = laplace.cdf(sample, -1, 0.2)\n",
        "F_n = np.array([F(i, sample) for i in sample])\n",
        "diff = np.abs(F_n - F_0)\n",
        "# супремум разностей\n",
        "D_n = np.max(diff)\n",
        "print(\"Статистика D_n =\", np.round(D_n, decimals=3))\n"
      ]
    },
    {
      "cell_type": "code",
      "execution_count": null,
      "id": "FVbPMmmPdhCf",
      "metadata": {
        "colab": {
          "base_uri": "https://localhost:8080/"
        },
        "id": "FVbPMmmPdhCf",
        "outputId": "0f5a894e-1a69-4684-ec59-f70bd107bb6c"
      },
      "outputs": [
        {
          "name": "stdout",
          "output_type": "stream",
          "text": [
            "Квантиль x_a2: 1.358\n",
            "Критерий: 0\n"
          ]
        }
      ],
      "source": [
        "# Найдем x_a2:\n",
        "from scipy.stats import kstwobign\n",
        "\n",
        "x_a2 = kstwobign.ppf(0.95)\n",
        "print(\"Квантиль x_a2:\", round(x_a2,3))\n",
        "\n",
        "def criteria(x_a, X2):\n",
        "  if(x_a>=X2):\n",
        "    return 0\n",
        "  else:\n",
        "    return 1\n",
        "\n",
        "phi = criteria(x_a2, D_n*np.sqrt(len(sample)))\n",
        "print('Критерий:', phi)"
      ]
    },
    {
      "cell_type": "markdown",
      "id": "0X9_8s1Pdj-Z",
      "metadata": {
        "id": "0X9_8s1Pdj-Z"
      },
      "source": [
        "Так как критерий равен 0, принимаем основную гипотезу."
      ]
    },
    {
      "cell_type": "code",
      "execution_count": null,
      "id": "TxMBqhPndif3",
      "metadata": {
        "colab": {
          "base_uri": "https://localhost:8080/"
        },
        "id": "TxMBqhPndif3",
        "outputId": "9a64afbc-fe80-4105-dc4d-f32e35b9baa0"
      },
      "outputs": [
        {
          "name": "stdout",
          "output_type": "stream",
          "text": [
            "Наибольшее значение уровня значимости a_2 для принятия основной гипотезы: 0.9465406520125279\n"
          ]
        }
      ],
      "source": [
        "print(\"Наибольшее значение уровня значимости a_2 для принятия основной гипотезы:\", 1 - kstwobign.cdf(np.sqrt(len(sample)) * D_n))"
      ]
    },
    {
      "cell_type": "markdown",
      "id": "aS0KdgBMd6Pg",
      "metadata": {
        "id": "aS0KdgBMd6Pg"
      },
      "source": [
        "####**i-f) Используя гистрограмму частот, построиим критерий значимости $\\chi^2$ проверки простой гипотезы согласия с семейством распределения пуассона с параметрами $(\\alpha_0,\\sigma_0^2) = (-1, 0.04)$. Проверим при уровне значимости $\\alpha_2$.**\n",
        "\n",
        "\n",
        "Таблица частот\n",
        "\n",
        "|j                     | 0  | 1  |  2 |  3 |  4 |  5 |  6 |\n",
        "|----------------------|:--:|:--:|:--:|:--:|:--:|:--:|:--:|\n",
        "|$$\\nu_j (x =X_{(i)})$$|  2 |   3|  12| 15 |12  |   5|   1|\n",
        "\n",
        "Таблица интервалов\n",
        "\n",
        "|j        | 0    | 1    |  2  |  3  |  4  |  5  |  6  |$\\sum$|\n",
        "|:-------:|:----:|:----:|:---:|:---:|:---:|:---:|:---:|:----:|\n",
        "|$I_j$    |(-∞;-1.4]|(-1.4;-1.25] |(-1.25;-1.1]|(-1.1;-0.95]|(-0,95;-0.8]|(-0.8;-0.65]|(0.65;+∞]|(-∞;+∞)|\n",
        "|$p_{i0}$ |0.068 |0.076 |0.16|0.307|0.205 |0.097|0.087|1     |\n",
        "|$np_{i0}$|3.4  |3.8  |8.0  |15.35  |10.25 | 4.85| 4.35 | 50   |\n",
        "\n",
        "\n",
        "$X^2=\\sum_{i=1}^{r}\\frac{(\\nu_i-np_{i0})^2}{np_{i0}} = 5.636$"
      ]
    },
    {
      "cell_type": "code",
      "execution_count": null,
      "id": "wnxza2M1eCbX",
      "metadata": {
        "colab": {
          "base_uri": "https://localhost:8080/"
        },
        "id": "wnxza2M1eCbX",
        "outputId": "f8efa59e-940d-47fa-cbb1-7453259c92b9"
      },
      "outputs": [
        {
          "name": "stdout",
          "output_type": "stream",
          "text": [
            "веротяности попадания в 0 интервал: 0.068\n",
            "веротяности попадания в 1 интервал: 0.076\n",
            "веротяности попадания в 2 интервал: 0.16\n",
            "веротяности попадания в 3 интервал: 0.307\n",
            "веротяности попадания в 4 интервал: 0.205\n",
            "веротяности попадания в 5 интервал: 0.097\n",
            "веротяности попадания в 6 интервал: 0.087\n",
            "\n",
            "Ожидаемые частоты: \n",
            "np_0:  3.4\n",
            "np_1:  3.8\n",
            "np_2:  8.0\n",
            "np_3:  15.35\n",
            "np_4:  10.25\n",
            "np_5:  4.85\n",
            "np_6:  4.35\n",
            "\n",
            "X2 = 5.636\n"
          ]
        }
      ],
      "source": [
        "import numpy as np\n",
        "import math\n",
        "from scipy.stats import laplace\n",
        "\n",
        "p_0 = round(laplace.cdf(-1.4, -1, 0.2),3)\n",
        "p_1 = round(laplace.cdf(-1.25, -1, 0.2) - laplace.cdf(-1.4, -1, 0.2),3)\n",
        "p_2 = round(laplace.cdf(-1.1, -1, 0.2) - laplace.cdf(-1.25, -1, 0.2),3)\n",
        "p_3 = round(laplace.cdf(-0.95, -1, 0.2) - laplace.cdf(-1.1, -1, 0.2),3)\n",
        "p_4 = round(laplace.cdf(-0.8, -1, 0.2) - laplace.cdf(-0.95, -1, 0.2),3)\n",
        "p_5 = round(laplace.cdf(-0.65, -1, 0.2) - laplace.cdf(-0.8, -1, 0.2),3)\n",
        "p_6 = round(1 - laplace.cdf(-0.65, -1, 0.2),3)\n",
        "\n",
        "probabilities = np.array([p_0, p_1, p_2, p_3, p_4, p_5, p_6])\n",
        "\n",
        "for i in range(len(probabilities)):\n",
        "  print(f\"веротяности попадания в {i} интервал: {probabilities[i]}\")\n",
        "\n",
        "#расчет теоретических частот\n",
        "print(\"\\nОжидаемые частоты: \")\n",
        "for i in range(len(probabilities)):\n",
        "    probabilities[i] *= len(sample)\n",
        "    print(f\"np_{i}: \", np.round(probabilities[i], decimals=3))\n",
        "\n",
        "frequencies_arr = np.array([2, 3, 12, 15, 12, 5, 1])\n",
        "\n",
        "#расчет статистики\n",
        "X2 = np.round(((frequencies_arr - probabilities) ** 2 / probabilities).sum(), decimals=3)\n",
        "print(\"\\nX2 =\", X2)"
      ]
    },
    {
      "cell_type": "markdown",
      "id": "yf5Lbrv-eyuI",
      "metadata": {
        "id": "yf5Lbrv-eyuI"
      },
      "source": [
        "$x_{\\alpha_2}: K_{r-1}(x_{\\alpha_2}) = 1-\\alpha_2 = 1-0.05 = 0.95$\n",
        "\n",
        "$x_{\\alpha_2}\\approx 1.358$\n",
        "\n",
        "$\\phi(x)=1$, значит основую гипотезу $H_0$ отклоняем, принимаем альтернативу $H_A$."
      ]
    },
    {
      "cell_type": "code",
      "execution_count": null,
      "id": "W6hW27d5e0WM",
      "metadata": {
        "colab": {
          "base_uri": "https://localhost:8080/"
        },
        "id": "W6hW27d5e0WM",
        "outputId": "263f6761-d846-4445-9e81-f807b70d6947"
      },
      "outputs": [
        {
          "name": "stdout",
          "output_type": "stream",
          "text": [
            "Квантиль: 1.358\n",
            "Критерий: 1\n"
          ]
        }
      ],
      "source": [
        "from scipy.stats import chi2\n",
        "\n",
        "alpha_2 = 0.05\n",
        "fx = 0.95\n",
        "x_a1 = chi2.ppf(fx, df= len(probabilities)-1) #использут уровень значимости\n",
        "print(\"Квантиль:\", np.round(x_a2, decimals=3))\n",
        "\n",
        "def criteria(x_a, X2):\n",
        "  if(x_a>=X2):\n",
        "    return 0\n",
        "  else:\n",
        "    return 1\n",
        "\n",
        "phi = criteria(x_a2, X2)\n",
        "print('Критерий:', phi)"
      ]
    },
    {
      "cell_type": "markdown",
      "id": "dpVBzowne1um",
      "metadata": {
        "id": "dpVBzowne1um"
      },
      "source": [
        "Вычислим наибольшее значение уровня значимости, на котором нет оснований отвергнуть основную гипотезу. Так как максимальное значение уровня значимости будет при $x_\\alpha=X^2$, то рассчитаем $\\alpha = 1 - K_{r-1}(X^2) \\approx 0.465$"
      ]
    },
    {
      "cell_type": "code",
      "execution_count": null,
      "id": "5IboHTs7e4hG",
      "metadata": {
        "colab": {
          "base_uri": "https://localhost:8080/"
        },
        "id": "5IboHTs7e4hG",
        "outputId": "33c4eeb7-26ef-4709-e097-a8eb192948ce"
      },
      "outputs": [
        {
          "name": "stdout",
          "output_type": "stream",
          "text": [
            "Наибольшее значение уровня значимости a_1 для принятия нулевой гипотезы : 0.46517399862619935\n"
          ]
        }
      ],
      "source": [
        "a_max = 1 - chi2.cdf(X2, len(probabilities)-1)#использует значение квантили\n",
        "print(\"Наибольшее значение уровня значимости a_1 для принятия нулевой гипотезы :\", a_max)"
      ]
    },
    {
      "cell_type": "markdown",
      "id": "ihuQUMeAfW0A",
      "metadata": {
        "id": "ihuQUMeAfW0A"
      },
      "source": [
        "####**i-g) Построение критерия значимости $\\chi^2$ проверки сложной гипотезы с нормальным распределением. Гипотезу вычислим на уровне значисмости $\\alpha_2=-1.014$.**\n",
        "Интервалы используем из предыдущего пункта, статистику критерия находим по первому варианту, т.к. ОМП была надена ранее: $(\\widehat{a}, \\widehat{\\sigma}^2) = -1.014, 0.226^2$."
      ]
    },
    {
      "cell_type": "code",
      "execution_count": null,
      "id": "7AhudrzsfZVV",
      "metadata": {
        "colab": {
          "base_uri": "https://localhost:8080/"
        },
        "id": "7AhudrzsfZVV",
        "outputId": "058092d0-4ecf-458a-861e-9495cba7ca13"
      },
      "outputs": [
        {
          "name": "stdout",
          "output_type": "stream",
          "text": [
            "веротяности попадания в 0 интервал: 0.091\n",
            "веротяности попадания в 1 интервал: 0.085\n",
            "веротяности попадания в 2 интервал: 0.166\n",
            "веротяности попадания в 3 интервал: 0.281\n",
            "веротяности попадания в 4 интервал: 0.183\n",
            "веротяности попадания в 5 интервал: 0.094\n",
            "веротяности попадания в 6 интервал: 0.1\n",
            "\n",
            "Ожидаемые частоты: \n",
            "np_0:  4.55\n",
            "np_1:  4.25\n",
            "np_2:  8.3\n",
            "np_3:  14.05\n",
            "np_4:  9.15\n",
            "np_5:  4.7\n",
            "np_6:  5.0\n",
            "\n",
            "X2 = 7.617\n"
          ]
        }
      ],
      "source": [
        "import numpy as np\n",
        "\n",
        "# ОМП: Z, sigma2\n",
        "sigma = np.sqrt(sigma2)\n",
        "\n",
        "p_0 = round(laplace.cdf(-1.4, Z, sigma),3)\n",
        "p_1 = round(laplace.cdf(-1.25, Z, sigma) - laplace.cdf(-1.4, Z, sigma),3)\n",
        "p_2 = round(laplace.cdf(-1.1, Z, sigma) - laplace.cdf(-1.25, Z, sigma),3)\n",
        "p_3 = round(laplace.cdf(-0.95, Z, sigma) - laplace.cdf(-1.1, Z, sigma),3)\n",
        "p_4 = round(laplace.cdf(-0.8, Z, sigma) - laplace.cdf(-0.95, Z, sigma),3)\n",
        "p_5 = round(laplace.cdf(-0.65, Z, sigma) - laplace.cdf(-0.8, Z, sigma),3)\n",
        "p_6 = round(1 - laplace.cdf(-0.65, Z, sigma),3)\n",
        "\n",
        "probabilities = np.array([p_0, p_1, p_2, p_3, p_4, p_5, p_6])\n",
        "\n",
        "for i in range(len(probabilities)):\n",
        "  print(f\"веротяности попадания в {i} интервал: {probabilities[i]}\")\n",
        "\n",
        "#расчет теоретических частот\n",
        "print(\"\\nОжидаемые частоты: \")\n",
        "for i in range(len(probabilities)):\n",
        "    probabilities[i] *= len(sample)\n",
        "    print(f\"np_{i}: \", np.round(probabilities[i], decimals=3))\n",
        "\n",
        "frequencies_arr = np.array([2, 3, 12, 15, 12, 5, 1])\n",
        "\n",
        "#расчет статистики\n",
        "X2 = np.round(((frequencies_arr - probabilities) ** 2 / probabilities).sum(), decimals=3)\n",
        "print(\"\\nX2 =\", X2)"
      ]
    },
    {
      "cell_type": "code",
      "execution_count": null,
      "id": "CEwL8TDJfay8",
      "metadata": {
        "colab": {
          "base_uri": "https://localhost:8080/"
        },
        "id": "CEwL8TDJfay8",
        "outputId": "52126634-17d5-4d5d-a613-f6479ba43b0c"
      },
      "outputs": [
        {
          "name": "stdout",
          "output_type": "stream",
          "text": [
            "Квантиль: 11.07\n",
            "Критерий: 0\n"
          ]
        }
      ],
      "source": [
        "from scipy.stats import chi2\n",
        "\n",
        "alpha_1 = 0.05\n",
        "x_a1 = chi2.ppf(1-alpha_1, df=len(probabilities)-1-1)\n",
        "print(\"Квантиль:\", np.round(x_a1, decimals=3))\n",
        "\n",
        "def criteria(x_a, X2):\n",
        "  if(x_a>=X2):\n",
        "    return 0\n",
        "  else:\n",
        "    return 1\n",
        "\n",
        "phi = criteria(x_a1, X2)\n",
        "print('Критерий:', phi)"
      ]
    },
    {
      "cell_type": "markdown",
      "id": "SLPqZKo1hfiz",
      "metadata": {
        "id": "SLPqZKo1hfiz"
      },
      "source": [
        "Критерий равен 0, следовательно, принимаем основную гипотезу."
      ]
    },
    {
      "cell_type": "code",
      "execution_count": null,
      "id": "vBiidCDofbyM",
      "metadata": {
        "colab": {
          "base_uri": "https://localhost:8080/"
        },
        "id": "vBiidCDofbyM",
        "outputId": "516fde84-8be7-4f52-fabe-2d76f99740bc"
      },
      "outputs": [
        {
          "name": "stdout",
          "output_type": "stream",
          "text": [
            "Наибольшее значение уровня значимости a_1 для принятия нулевой гипотезы: 0.17864506828794557\n"
          ]
        }
      ],
      "source": [
        "a_max = 1 - chi2.cdf(X2, len(probabilities)-1-1)\n",
        "print(\"Наибольшее значение уровня значимости a_1 для принятия нулевой гипотезы:\", a_max)"
      ]
    },
    {
      "cell_type": "markdown",
      "id": "lkLZV_LGE9rg",
      "metadata": {
        "id": "lkLZV_LGE9rg"
      },
      "source": [
        "## Выводы\n",
        "\n",
        "В ходе выполнения лабораторной работы были изучены основные методы, применящиеся в матемматической статистике: оценивание (точное, интервальное), принятие и опровержение гипотез, их анализ, визуализация данных. Были изучены основные прикладные функции библиотеки scipy.stats языка python, а также закреплены на практике способы построения графиков с использованием библиотеки matplotlib.\n",
        "\n",
        "Таким образом, были проанализорованы 2 выборки данных, а именно: визуализированы путем построеня графика частот и гистограммы, найдены их числовые выборочные характеристики, а также были проверены гипотезы принадлежности выборки двум распределениям с использованием различных критериев."
      ]
    }
  ],
  "metadata": {
    "colab": {
      "provenance": []
    },
    "kernelspec": {
      "display_name": "Python 3 (ipykernel)",
      "language": "python",
      "name": "python3"
    },
    "language_info": {
      "codemirror_mode": {
        "name": "ipython",
        "version": 3
      },
      "file_extension": ".py",
      "mimetype": "text/x-python",
      "name": "python",
      "nbconvert_exporter": "python",
      "pygments_lexer": "ipython3",
      "version": "3.11.5"
    }
  },
  "nbformat": 4,
  "nbformat_minor": 5
}
