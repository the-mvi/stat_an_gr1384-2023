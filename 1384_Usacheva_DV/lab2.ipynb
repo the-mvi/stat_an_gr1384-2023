{
 "cells": [
  {
   "cell_type": "markdown",
   "metadata": {},
   "source": [
    "# Лабораторная работа №2: Классические методы математической статистики\n",
    "\n",
    "Выполнила студентка гр. 1384 Усачева Дарья. Вариант №18\n",
    "\n"
   ]
  },
  {
   "cell_type": "markdown",
   "metadata": {},
   "source": [
    "## Цель работы\n",
    "\n",
    "Научится применять методы математической статистики для визуализации и анализа полученных данных; сформировать навыки реализации методов с помощью прикладных программных пакетов.\n"
   ]
  },
  {
   "cell_type": "markdown",
   "metadata": {},
   "source": [
    "## Основные теоретические положения\n",
    "1. Выборочные числовые характеристики:\n",
    "\n",
    "Мат.ожидание $\\overline{X}=\\frac{1}{n}\\sum_{i=1}^{n}X_{i}$\n",
    "\n",
    "Дисперсия $S^{2}=\\frac{1}{n}\\sum_{i=1}^{n}\\left( X_{i}-\\overline{X} \\right)^{2}=\\overline{X^{2}}-\\overline{X}^{2}$\n",
    "\n",
    "Коэф. асимметрии $\\widehat{S_{kew}}X=\\frac{\\left(\\frac{1}{n}\\sum_{i=1}^{n}\\left( X_{i}-\\overline{X} \\right)^{3} \\right)}{S^{3}}$\n",
    "\n",
    "Коэф. эксцесса $\\widehat{K_{urt}}X=\\frac{\\frac{1}{n}\\sum_{i=1}^{n}\\left( X_{i}-\\overline{X}^{4} \\right)}{S^{4}}-3$\n",
    "\n",
    "2. Оценка Максимального Правдоподобия (ОМП):\n",
    "\n",
    "Если $X_{1},...,X_{n}$-выборка из распределения с плотностью распределения $P_{\\theta}, \\theta\\in \\Theta$, то\n",
    "\n",
    "Функция правдоподобия $L(\\overrightarrow{X},\\theta)=\\prod_{i=1}^{n}P_{\\theta}(X_{i})$\n",
    "\n",
    "Логарифм функции правдоподобия представляется в виде суммы $LL(\\overrightarrow{X},\\theta)=\\ln L(\\overrightarrow{X},\\theta)=\\sum_{i=1}^{n}\\ln P_{\\theta}(X_{i})$\n",
    "\n",
    "В силу монотонности логарифма задача максимизации функции правдоподобия сводится к задаче максимизации ее логарифма по всем $\\theta\\in \\Theta$\n",
    "\n",
    "Если $\\theta$ - d-мерный параметр и $P_{\\theta}$ дифференцируема по $\\theta$, то для нахождения максимума надо найти решения системы уравнений: $\\frac{\\partial }{\\partial \\theta}LL(\\overrightarrow{X},\\theta)=0, i=\\overline{1,d}$\n",
    "\n",
    "3. Оценка метода моментов (ОММ)\n",
    "\n",
    "Пусть $X_{1},...,X_{n}$-выбока из распределения $P_{\\theta}, \\theta=(\\theta_{1},...,\\theta_{d})$\n",
    "\n",
    "$\\exists \\mu_{k}(\\theta)=\\mathbb{E}X^{k}_{1}, k=\\overline{1,d}$\n",
    "\n",
    "Если $\\exists$ ! решение $\\widetilde{\\theta}(X)$ системы уравнений: $\\widehat{\\mu^{k}}(\\widetilde{\\theta})=\\mu_{k}(\\theta), k=\\overline{1,d}$, где $\\widetilde{\\theta}(X)=\\frac{1}{n}\\sum_{i=1}^{n}X^{k}_{i}$-выборочный момент k-го порядка, то $\\widetilde{\\theta}(X)$ называется оценкой по методу моментов\n",
    "\n",
    "4. Асимптотический доверительный интервал\n",
    "\n",
    "На базе Асимптотической нормальности оценки $\\widehat{\\theta}$\n",
    "\n",
    "Асимптотическая нормальность $\\sqrt{n}\\left( \\widehat{\\theta}(\\overrightarrow{X})-\\theta)\\right)\\sim \\mathcal{N}\\left(0,\\sigma^{2}(\\theta)\\right)$\n",
    "\n",
    "Тогда $\\sqrt{n}\\frac{\\widehat{\\theta}(\\overrightarrow{X})-\\theta}{\\sigma\\left(\\widehat{\\theta}(\\overrightarrow{X})\\right)}$    \n",
    "\n",
    "Выбираем $X_{\\alpha}: \\Phi(X_{\\alpha})=1-\\frac{\\alpha}{2}$\n",
    "\n",
    "Асимптотический доверительный интервал  $\\left[ \\widehat{\\theta}(\\overrightarrow{X})-\\frac{X_{\\alpha}\\cdot \\sigma\\left( \\widehat{\\theta}(\\overrightarrow{X}) \\right)}{\\sqrt{n}}; \\widehat{\\theta}(\\overrightarrow{X})+\\frac{X_{\\alpha}\\cdot \\sigma\\left( \\widehat{\\theta}(\\overrightarrow{X}) \\right)}{\\sqrt{n}}\\right]$\n",
    "\n",
    "На базе ОМП. Пусть $\\widehat{\\theta}(\\overrightarrow{X})$-ОМП\n",
    "\n",
    "При выполнении опр.условий регулярности: $\\sqrt{n}\\left( \\widehat{\\theta}(\\overrightarrow{X})-\\theta)\\right)\\sim \\mathcal{N}\\left(0,\\frac{1}{I(\\theta)}\\right), I(\\theta)=-\\mathbb{E}\\left( \\frac{\\partial^{2} LL}{\\partial \\theta^{2}} \\right)$-информация Фишера\n",
    "\n",
    "Тогда $\\sqrt{n\\cdot I\\left( \\widehat{\\theta}(\\overrightarrow{X}) \\right)}\\cdot \\left( \\widehat{\\theta}(\\overrightarrow{X})-\\theta \\right)\\sim \\mathcal{N}(0,1)$\n",
    "\n",
    "Выбираем $X_{\\alpha}: \\Phi(X_{\\alpha})=1-\\frac{\\alpha}{2}$\n",
    "\n",
    "Асимптотический доверительный интервал  $\\left[ \\widehat{\\theta}(\\overrightarrow{X})-\\frac{X_{\\alpha}}{\\sqrt{n\\cdot I\\left( \\widehat{\\theta}(\\overrightarrow{X}) \\right)}};\\widehat{\\theta}(\\overrightarrow{X})+\\frac{X_{\\alpha}}{\\sqrt{n\\cdot I\\left( \\widehat{\\theta}(\\overrightarrow{X}) \\right)}} \\right]$\n",
    "\n",
    "5. Критерий $\\chi^2$ для проверки гипотез \n",
    "\n",
    "Основан на справнении теоритической плотности распределения и гистограммы, либо теоритической вероятностной меры и полигона частот.\n",
    "\n",
    "Разобъем множество значений сл. вел. X на $N$ интервалов $I_{1}, ..., I_{N}:$ $I_{i} = (a_{i-1}, a_i], i = \\overline {1,N}$. данные интервалы не пересекаются и покрывают всё множество возможных значений сл. вел. X.\n",
    "\n",
    "Обозначим через $p_{i}$ теоритическую вероятность попадания сл. вел. X в интервал $I_{i}$, при условии, что справедлива $H_{0}$.\n",
    "\n",
    "$p_{i} = P(X \\in I_{i}|H_{0})$\n",
    "\n",
    "Через $n_{i}$ обозначим число наблюдений нашей выборки, попавших в соответветствующий интервал $I_{i}$.\n",
    "\n",
    "$n_{i} = \\nu(x_{j} \\in I_{i})$\n",
    "\n",
    "Статистика критерия основана на сравнении относительной частоты и теоритической.\n",
    "\n",
    "$\\chi^{2} = \\sum \\limits_{i=1}^{N} \\frac{n}{p_{i}} \\bigg ( \\frac{n_{i}}{n} - p_{i} \\bigg )^{2} = \\sum \\limits_{i=1}^{N} \\frac{(n_{i} - p_{i} n)^{2}}{n p_{i}} \\sim \\chi^{2}_{N-1}$\n",
    "\n",
    "6. Наиболее мощный критерий простой гипотезы.\n",
    "\n",
    "Для основной гипотезы $H_{0}: \\theta=\\theta_{0}$ и альтернативной гипотезы $H_{1}: \\theta=\\theta_{1}$, где $\\theta_{0}$ и $\\theta_{1}$ - фиксированные параметры, мы можем построить статистику правдоподобия:\n",
    "\n",
    "$LR(\\overrightarrow{X},\\theta_{1},\\theta_{0})=\\frac{L(\\overrightarrow{X},\\theta_{1})}{L(\\overrightarrow{X},\\theta_{0})} $- статистика отношений правдоподобия\n",
    "\n",
    "где $L(\\overrightarrow{X},\\theta_{1})$ - функция правдоподобия для альтернативной гипотезы, а $L(\\overrightarrow{X}\\theta_{0})$ - функция правдоподобия для основной гипотезы.\n",
    "\n",
    "Наиболее мощный критерий:\n",
    "\n",
    "$\\phi(\\overrightarrow X) = \\begin{cases}\n",
    "  0, LR(\\overrightarrow{X},\\theta_{1},\\theta_{0}) < C \\\\\n",
    "  p, LR(\\overrightarrow{X},\\theta_{1},\\theta_{0}) = C \\\\\n",
    "  1, LR(\\overrightarrow{X},\\theta_{1},\\theta_{0}) > C\n",
    "\\end{cases} $\n"
   ]
  },
  {
   "cell_type": "markdown",
   "metadata": {},
   "source": [
    "## Постановка задачи\n",
    "\n",
    "Для полученных в результате эксперимента наборов данных выполнить статистическую обработку. Полученные результаты содержательно проинтерпретировать."
   ]
  },
  {
   "cell_type": "markdown",
   "metadata": {},
   "source": [
    "## Выполнение работы"
   ]
  },
  {
   "cell_type": "markdown",
   "metadata": {},
   "source": [
    "### 1. В результате эксперемента получены данные, приведенные в таблице 1\n",
    "\n",
    "\n",
    "$ \\alpha_1 = 0.02; \\quad a = 0.00; \\quad b = 1.37; \\quad \\lambda_0 = 2.10; \\quad \\lambda_1 = 0.70.$ \n",
    "\n",
    "Таблица 1:\n",
    "\n",
    "0 2 0 2 1 2 0 0 0 1 0 0 0 0 0 0 1 1 1 1 0 0 0 1 2 0 1 2 0 0 1 0 2 2 0 1 0 2 0 1 0 0 2 2 1 0"
   ]
  },
  {
   "cell_type": "code",
   "execution_count": 360,
   "metadata": {},
   "outputs": [],
   "source": [
    "import numpy as np\n",
    "import scipy\n",
    "import matplotlib.pyplot as plt\n",
    "from mpl_toolkits.mplot3d import Axes3D\n",
    "\n",
    "first_table = np.array([0, 2, 0, 2, 1, 2, 0, 0, 0, 1, 0, 0, 0, 0 ,0, 0, 1, 1, 1, 1, 0, 0, 0, 1, 2, 0, 1, 2, 0, 0, 1, 0, 2, 2, 0, 1, 0, 2, 0, 1, 0, 2, 0, 0, 2, 0, 1, 2, 1, 0])\n",
    "first_table_size = len(first_table)\n",
    "first_alpha = 0.02\n",
    "a = 0.00\n",
    "b = 1.37\n",
    "null_lambda = 2.10\n",
    "first_lambda = 0.70\n"
   ]
  },
  {
   "cell_type": "markdown",
   "metadata": {},
   "source": [
    "#### a) Построить вариационный ряд, эмпирическую функцию распределения и гистограмму частот."
   ]
  },
  {
   "cell_type": "code",
   "execution_count": 361,
   "metadata": {},
   "outputs": [
    {
     "name": "stdout",
     "output_type": "stream",
     "text": [
      "Вариационный ряд: [0 0 0 0 0 0 0 0 0 0 0 0 0 0 0 0 0 0 0 0 0 0 0 0 0 0 1 1 1 1 1 1 1 1 1 1 1\n",
      " 1 1 2 2 2 2 2 2 2 2 2 2 2]\n"
     ]
    }
   ],
   "source": [
    "variation_series = np.sort(first_table)\n",
    "print(\"Вариационный ряд:\", variation_series)"
   ]
  },
  {
   "cell_type": "code",
   "execution_count": 362,
   "metadata": {},
   "outputs": [
    {
     "data": {
      "image/png": "[encoded data removed]",
      "text/plain": [
       "<Figure size 640x480 with 1 Axes>"
      ]
     },
     "metadata": {},
     "output_type": "display_data"
    },
    {
     "name": "stdout",
     "output_type": "stream",
     "text": [
      "[0.   0.52 0.78 1.  ]\n"
     ]
    }
   ],
   "source": [
    "def empirical_distribution_function(variation_series, array_xi, size):\n",
    "    empirical_func = [0]\n",
    "    for xi in array_xi:\n",
    "        count = 0\n",
    "        for i in range(size):\n",
    "            if variation_series[i] <= xi:\n",
    "                count += 1\n",
    "        empirical_func.append(count / size)\n",
    "    empirical_func = np.round(empirical_func, decimals=2)\n",
    "    x = [array_xi[0] - 2, array_xi[0]]\n",
    "    for i in range(len(empirical_func)):\n",
    "        if i == len(array_xi) - 1:\n",
    "            x.append(array_xi[i] + 2)\n",
    "        elif i != len(array_xi):\n",
    "            x.append(array_xi[i + 1])\n",
    "        plt.hlines(empirical_func[i], x[i], x[i + 1], colors=\"pink\")\n",
    "    plt.xlabel(\"Значение\")\n",
    "    plt.ylabel(\"Вероятность\")\n",
    "    plt.title(\"Эмпирическая функция распределения\")\n",
    "    plt.show()\n",
    "    return empirical_func\n",
    "\n",
    "\n",
    "array_xi = np.unique(variation_series)\n",
    "empirical_func = empirical_distribution_function(\n",
    "    variation_series, array_xi, first_table_size\n",
    ")\n",
    "print(empirical_func)"
   ]
  },
  {
   "cell_type": "markdown",
   "metadata": {},
   "source": [
    "\\begin{equation*}\n",
    "F_n(x)=\n",
    "        \\begin{cases}\n",
    "                0.00 & x \\in (-\\infty, 0]\\\\\n",
    "                0.52 &  x \\in (0, 1]\\\\\n",
    "                0.78 &  x \\in (1, 2]\\\\\n",
    "                1.00 &  x \\in (2, +\\infty)\n",
    "\t\\end{cases}\n",
    "\\end{equation*}"
   ]
  },
  {
   "cell_type": "code",
   "execution_count": 363,
   "metadata": {},
   "outputs": [
    {
     "data": {
      "image/png": "[encoded data removed]",
      "text/plain": [
       "<Figure size 640x480 with 1 Axes>"
      ]
     },
     "metadata": {},
     "output_type": "display_data"
    }
   ],
   "source": [
    "def draw_gist(variation_series, array_xi, empirical_func):\n",
    "    bins = np.arange(min(array_xi), max(array_xi) + 2)\n",
    "    freq = []\n",
    "    freq.append(int(empirical_func[1] * first_table_size))\n",
    "    for i in range(2, len(empirical_func)):\n",
    "        freq.append(np.round((empirical_func[i] - empirical_func[i - 1]) * first_table_size))\n",
    "    plt.hist(variation_series, bins=bins, color=\"pink\", edgecolor=\"black\")\n",
    "    plt.ylabel(\"Частота\")\n",
    "    plt.xlabel(\"Значение\")\n",
    "    plt.title(\"Гистограмма частот\")\n",
    "    plt.show()\n",
    "    return freq\n",
    "\n",
    "\n",
    "\n",
    "freq = draw_gist(variation_series, array_xi, empirical_func)"
   ]
  },
  {
   "cell_type": "markdown",
   "metadata": {},
   "source": [
    "#### b) Вычислить выборочные аналоги следующих числовых характеристик:\n",
    "(i)математического ожидания; (ii) дисперсии; (iii) СКО; (iv) медианы; (v) асимметрии; (vi) эксцесса; (vіi) вероятности $ \\mathbb{P}\\left(X \\in [a, b]\\right)$."
   ]
  },
  {
   "cell_type": "markdown",
   "metadata": {},
   "source": [
    "Выборочные числовые характеристики:\n",
    "\n",
    "Мат.ожидание $\\overline{X}=\\frac{1}{n}\\sum_{i=1}^{n}X_{i}$\n",
    "\n",
    "Дисперсия $S^{2}=\\frac{1}{n}\\sum_{i=1}^{n}\\left( X_{i}-\\overline{X} \\right)^{2}=\\overline{X^{2}}-\\overline{X}^{2}$\n",
    "\n",
    "Коэф. асимметрии $\\widehat{S_{kew}}X=\\frac{\\left(\\frac{1}{n}\\sum_{i=1}^{n}\\left( X_{i}-\\overline{X} \\right)^{3} \\right)}{S^{3}}$\n",
    "\n",
    "Коэф. эксцесса $\\widehat{K_{urt}}X=\\frac{\\frac{1}{n}\\sum_{i=1}^{n}\\left( X_{i}-\\overline{X}^{4} \\right)}{S^{4}}-3$"
   ]
  },
  {
   "cell_type": "code",
   "execution_count": 364,
   "metadata": {},
   "outputs": [
    {
     "name": "stdout",
     "output_type": "stream",
     "text": [
      "Выборочное математическое ожидание:  0.7\n",
      "Выборочная дисперсия:  0.6499999999999999\n",
      "СКО:  0.8062257748298549\n",
      "Медиана:  0.0\n",
      "Коэффициент асимметрии:  0.5953667260282003\n",
      "Коэффициент эксцесса:  -1.2123076923076916\n",
      "Веротяность:  0.78\n"
     ]
    }
   ],
   "source": [
    "def find_selective_analogues(variation_series, a, b):\n",
    "    mean = sum(variation_series) / len(variation_series)\n",
    "    sq_variation_series = [x**2 for x in variation_series]\n",
    "    S_sq = sum(sq_variation_series) / len(sq_variation_series) - mean**2\n",
    "    std = np.sqrt(S_sq)\n",
    "    if len(variation_series) % 2 == 0:\n",
    "        median = (\n",
    "            variation_series[len(variation_series) // 2 - 1]\n",
    "            + variation_series[len(variation_series) // 2]\n",
    "        ) / 2\n",
    "    else:\n",
    "        median = variation_series[len(variation_series) // 2]\n",
    "    skew_data = [((x - mean) ** 3) for x in variation_series]\n",
    "    skew = sum(skew_data) / (len(skew_data) * (std**3))\n",
    "    kurt_data = [((x - mean) ** 4) for x in variation_series]\n",
    "    kurt = sum(kurt_data) / (len(kurt_data) * (std**4)) - 3\n",
    "    count = 0\n",
    "    for i in range(len(variation_series)):\n",
    "        if variation_series[i] >= a and variation_series[i] <= b:\n",
    "            count += 1\n",
    "\n",
    "    print(\"Выборочное математическое ожидание: \", mean)\n",
    "    print(\"Выборочная дисперсия: \", S_sq)\n",
    "    print(\"СКО: \", std)\n",
    "    print(\"Медиана: \", median)\n",
    "    print(\"Коэффициент асимметрии: \", skew)\n",
    "    print(\"Коэффициент эксцесса: \", kurt)\n",
    "    print(\"Веротяность: \", count / len(variation_series))\n",
    "    return mean, S_sq, std, median, skew, kurt, count / len(variation_series)\n",
    "\n",
    "\n",
    "mean, S_sq, std, median, skew, kurt, P_x = find_selective_analogues(variation_series, a, b)"
   ]
  },
  {
   "cell_type": "markdown",
   "metadata": {},
   "source": [
    "#### c) В предположении, что исходные наблюдения являются выборкой из распределения Пуассона, построить оценку максимального правдоподобия параметра $\\lambda$, а также оценку $\\lambda$ по методу моментов. Найти смещение оценок.\n"
   ]
  },
  {
   "cell_type": "markdown",
   "metadata": {},
   "source": [
    "ОМП: \n",
    "\n",
    "$p_{\\lambda}(x) = \\frac{\\lambda^{x}}{x !}e^{-\\lambda}$\n",
    "\n",
    "$L(\\vec{x}, \\lambda)= e^{-n\\lambda}\\cfrac{\\lambda^{\\sum_{i=1}^{n}x_i}}{\\prod_{i=1}^{n}x_i !} $\n",
    "\n",
    "$LL(\\vec{x}, \\lambda)=\\ln(\\lambda) \\cdot \\sum_{i=1}^{n}x_i + \\ln\\left(\\prod_{i=1}^{n} \\frac{1}{x_i!}\\right)  - n\\lambda$\n",
    "\n",
    "$\\frac{dLL}{d\\lambda} = \\cfrac{\\sum_{i=1}^{n}x_i}{\\lambda}-n$\n",
    "\n",
    "$\\cfrac{\\sum_{i=1}^{n}x_i}{\\lambda}-n = 0 $\n",
    "\n",
    "$\\cfrac{d^2LL}{d\\lambda^2}=-\\cfrac{\\sum_{i=1}^{n}x_i}{\\lambda^{2}} < 0 $\n",
    "\n",
    "$\\widehat \\lambda=\\bar X = 0.7$ - ОМП\n",
    "\n",
    "ОММ:\n",
    "\n",
    "Найдем оценку $\\lambda$ по методу моменту моментов\n",
    "\n",
    "$EX_1 = M_1= \\lambda$\n",
    "\n",
    "$\\widehat{\\lambda} = \\bar X = 0.7$\n",
    "\n",
    "НРМД:\n",
    "\n",
    "$E_{\\lambda}\\overline{X} = \\cfrac{1}{n} E_{\\lambda} \\sum_{i=1}^{n}x_i = \\cfrac{n E_{\\lambda}X_1 }{n} = \\lambda = 0.7 $ - несмещенная оценка"
   ]
  },
  {
   "cell_type": "markdown",
   "metadata": {},
   "source": [
    "#### d) Построить асимитотический доверительный интервал уровня значимости $\\alpha_1 $ для параметра $\\lambda$ на базе оценки максимального правдоподобия.\n"
   ]
  },
  {
   "cell_type": "markdown",
   "metadata": {},
   "source": [
    "Метод построения на базе ОМП.\n",
    "\n",
    "$\\widehat{\\theta}(\\overrightarrow X)$ - ОМП\n",
    "\n",
    "$\\sqrt{n} (\\widehat{\\theta}(\\overrightarrow X) - \\theta) \\sim \\mathcal{N}(0, \\frac{1}{I(\\widehat \\theta)})$\n",
    "\n",
    "$\\sqrt{n \\cdot I(\\widehat \\theta)} \\left(\\widehat{\\theta}(\\overrightarrow X) - \\theta \\right) \\sim \\mathcal{N}(0, 1)$\n",
    "\n",
    "Выберем $x_{\\alpha} : \\Phi(x_{\\alpha}) = 1 - \\frac{\\alpha}{2} $\n",
    "\n",
    "Асимптотический доверительный интервал : $ \\left[\\widehat{\\theta}(\\overrightarrow X) - \\cfrac{x_{\\alpha}}{\\sqrt{n \\cdot I(\\widehat \\theta)}}; \\widehat{\\theta}(\\overrightarrow X) + \\cfrac{x_{\\alpha}}{\\sqrt{n \\cdot I(\\widehat \\theta)}} \\right] $\n",
    "\n",
    "$I_n(\\lambda) = -E \\cfrac{d^2LL}{d\\lambda^2} = E \\cfrac{\\sum_{i=1}^{n}x_i}{\\lambda^{2}} = \\cfrac{n \\lambda}{\\lambda^{2}} = \\cfrac{n }{\\lambda}$\n",
    "\n",
    "$I(\\lambda) = \\cfrac{1 }{\\lambda}$\n",
    "\n",
    "$I(\\widehat \\theta) = \\cfrac{1 }{\\bar X}$"
   ]
  },
  {
   "cell_type": "markdown",
   "metadata": {},
   "source": [
    "Метод построения на базе асимтотической нормальной оценки.\n",
    "\n",
    "$\\sqrt{n}\\frac{ \\widehat{\\theta}(\\overrightarrow{X})-\\theta}{\\sigma(\\widehat{\\theta})}\\sim N(0,1)$\n",
    "\n",
    "Выберем $x_{\\alpha} : \\Phi(x_{\\alpha}) = 1 - \\frac{\\alpha}{2} $\n",
    "\n",
    "$-x_{\\alpha}\\le \\sqrt{n}\\cdot \\frac{\\widehat{\\lambda}-\\lambda}{\\sqrt{\\widehat{\\lambda}}}\\le x_{\\alpha}$\n",
    "\n",
    "$\\bar X - \\cfrac{x_{\\alpha} \\sqrt{\\bar X}}{\\sqrt{n}} \\le \\lambda \\le  \\bar X + \\cfrac{x_{\\alpha} \\sqrt{\\bar X}}{\\sqrt{n}} $"
   ]
  },
  {
   "cell_type": "code",
   "execution_count": 365,
   "metadata": {},
   "outputs": [
    {
     "name": "stdout",
     "output_type": "stream",
     "text": [
      "Асимптотический доверительный интервал на базе ОМП уровня доверия  0.98 :\n",
      "[ 0.42474280747860416 , 0.9752571925213958 ]\n",
      "Асимптотический доверительный интервал на базе асимптотической нормальной оценки уровня доверия  0.98 :\n",
      "[ 0.42474280747860416 , 0.9752571925213958 ]\n"
     ]
    }
   ],
   "source": [
    "def find_asymptotic_interval(theta, x_alpha, I, arg_sqrt):\n",
    "    print(\n",
    "        \"Асимптотический доверительный интервал на базе ОМП уровня доверия \",\n",
    "        1 - first_alpha,\n",
    "        \":\",\n",
    "    )\n",
    "    print(\n",
    "        \"[\",\n",
    "        theta - (x_alpha) / np.sqrt(first_table_size * (I)),\n",
    "        \",\",\n",
    "        theta + (x_alpha) / np.sqrt(first_table_size * (I)),\n",
    "        \"]\",\n",
    "    )\n",
    "    print(\n",
    "        \"Асимптотический доверительный интервал на базе асимптотической нормальной оценки уровня доверия \",\n",
    "        1 - first_alpha,\n",
    "        \":\",\n",
    "    )\n",
    "    print(\n",
    "        \"[\",\n",
    "        theta - (x_alpha * arg_sqrt) / np.sqrt(first_table_size),\n",
    "        \",\",\n",
    "        theta + (x_alpha * arg_sqrt) / np.sqrt(first_table_size),\n",
    "        \"]\",\n",
    "    )\n",
    "\n",
    "\n",
    "\n",
    "x_alpha = scipy.stats.norm.ppf(1 - first_alpha / 2)\n",
    "\n",
    "find_asymptotic_interval(mean, x_alpha, 1 / mean, np.sqrt(mean))"
   ]
  },
  {
   "cell_type": "markdown",
   "metadata": {},
   "source": [
    "#### e) Используя гистограмму частот, построить критерий значимости $\\mathcal{X^{2}}$ проверки простой гипотезы согласия с распределением Пуассона с параметром $\\lambda_{0}$. Проверить гипотезу на уровень значимости $\\alpha_{1}$. Вычислить наибольшее значение уровня значимости, на котором ещё нет оснований отвергнуть данную гипотезу."
   ]
  },
  {
   "cell_type": "markdown",
   "metadata": {},
   "source": [
    "$H_O : X \\sim Pois(\\lambda_0)$\n",
    "\n",
    "$H_A : X \\nsim Pois(\\lambda_0)$"
   ]
  },
  {
   "cell_type": "code",
   "execution_count": 366,
   "metadata": {},
   "outputs": [
    {
     "name": "stdout",
     "output_type": "stream",
     "text": [
      "X^2 = 77.45106520276951\n",
      "x_alpha = 7.824046010856292\n",
      "X^2 > x_alpha, отвергаем гипотизу H_0\n",
      "Гипотеза может быть принята, если уровень значимости не более: 0.0\n"
     ]
    }
   ],
   "source": [
    "I = np.array([0, 1])\n",
    "n = 2\n",
    "p = np.zeros(n + 1)\n",
    "p[0] = scipy.stats.poisson(null_lambda).cdf(I[0])\n",
    "for i in range(1, n):\n",
    "    p[i] = scipy.stats.poisson(null_lambda).cdf(I[i]) - scipy.stats.poisson(null_lambda).cdf(I[i - 1])\n",
    "\n",
    "p[n] = 1 - scipy.stats.poisson(null_lambda).cdf(I[1])\n",
    "\n",
    "v = np.array([26, 13, 11])\n",
    "chi_sq = np.sum(((v - 50 * p) ** 2) / (50 * p))\n",
    "print(\"X^2 =\", chi_sq)\n",
    "x_alpha = scipy.stats.chi2(2).ppf(1 - first_alpha)\n",
    "print(\"x_alpha =\", x_alpha)\n",
    "\n",
    "if chi_sq < x_alpha:\n",
    "    print(\"X^2 < x_alpha, принимаем гипотизу H_0\")\n",
    "else:\n",
    "    print(\"X^2 > x_alpha, отвергаем гипотизу H_0\")\n",
    "a_max = 1 - scipy.stats.chi2.cdf(chi_sq, 3-1)\n",
    "print(\"Гипотеза может быть принята, если уровень значимости не более:\", a_max)"
   ]
  },
  {
   "cell_type": "markdown",
   "metadata": {},
   "source": [
    "#### f)Построить критерий значимости  $\\mathcal{X^{2}}$ проверки сложной гипотезы согласия с распределением Пуассона. Проверить гипотезу по уровню значимости $\\alpha_{1}$.Вычислить наибольшее значение уровня значимости, на котором ещё нет оснований отвергнуть данную гипотезу."
   ]
  },
  {
   "cell_type": "code",
   "execution_count": 367,
   "metadata": {},
   "outputs": [
    {
     "name": "stdout",
     "output_type": "stream",
     "text": [
      "Параметр = 0.7708639444987251\n",
      "X^2 = 2.090182527033605\n",
      "x_alpha = 5.411894431054342\n",
      "X^2 < x_alpha, принимаем гипотизу H_0\n",
      "Гипотеза может быть принята, если уровень значимости не более: 0.14824835707000728\n"
     ]
    }
   ],
   "source": [
    "def sq_chi(par):\n",
    "    if par == 0:\n",
    "        return 1e9\n",
    "    v = np.array([26, 13, 11])\n",
    "    I_i = np.array([0, 1])\n",
    "    p = [scipy.stats.poisson(par).cdf(I_i[0])]\n",
    "    for i in range(1, len(I_i)):\n",
    "        p.append( scipy.stats.poisson(par).cdf(I_i[i]) -  scipy.stats.poisson(par).cdf(I_i[i-1]) )\n",
    "    p.append(1 - scipy.stats.poisson(par).cdf(I_i[-1]))\n",
    "    p = np.array(p)\n",
    "    sq_chi = np.sum(((v - 50 * p) ** 2) / (50 * p))\n",
    "    return sq_chi\n",
    "\n",
    "result = scipy.optimize.minimize_scalar(sq_chi)\n",
    "res_sq_chi = result.fun\n",
    "print(\"Параметр =\", result.x)\n",
    "print(\"X^2 =\", res_sq_chi)\n",
    "x_alpha = scipy.stats.chi2(1).ppf(1 - first_alpha)\n",
    "print(\"x_alpha =\", x_alpha)\n",
    "if res_sq_chi < x_alpha:\n",
    "    print(\"X^2 < x_alpha, принимаем гипотизу H_0\")\n",
    "else:\n",
    "    print(\"X^2 > x_alpha, отвергаем гипотизу H_0\")\n",
    "print(\"Гипотеза может быть принята, если уровень значимости не более:\", 1 - scipy.stats.chi2.cdf(res_sq_chi, 1))\n"
   ]
  },
  {
   "cell_type": "markdown",
   "metadata": {},
   "source": [
    "#### g)Построить наиболее мощный критерий проверки простой гипотезы пауссоновости с параметром $\\lambda=\\lambda_{0}$ при альтернативе пуассоновсти с параметром $\\lambda=\\lambda_{1}$. Проверить гипотезу на уровне значимости $\\alpha_{1}$. Что получится, если поменять местами основную и альтернативную гипотезы?"
   ]
  },
  {
   "cell_type": "markdown",
   "metadata": {},
   "source": [
    "$ H_O : X \\sim Pois(\\lambda_0)$\n",
    "\n",
    "$H_A : X \\sim Pois(\\lambda_1)$\n",
    "\n",
    "Согласно лемме Неймана-Пирсона, наиболее мощный критерий уровня значимости $\\alpha_{1}$ проверки гипотезы $H_O$ при альтернативе $H_A$ имеет вид:\n",
    "\n",
    "$\\phi(\\overrightarrow X) = \\begin{cases}\n",
    "  0, LR(\\overrightarrow X) < C \\\\\n",
    "  p, LR(\\overrightarrow X) = C \\\\\n",
    "  1, LR(\\overrightarrow X) > C\n",
    "\\end{cases} $\n",
    "\n",
    "$LR(\\overrightarrow{X},\\lambda_{1},\\lambda_{0}) = \\frac{L\\left( \\overrightarrow{X},\\lambda_{1} \\right)}{L\\left( \\overrightarrow{X},\\lambda_{0} \\right)}= \\frac{\\lambda_{1}^{\\sum_{i=1}^{n}X_{i}}\\cdot exp(-n\\cdot \\lambda_{1})}{\\lambda_{0}^{\\sum_{i=1}^{n}X_{i}}\\cdot exp(-n\\cdot \\lambda_{0})}$\n",
    "\n",
    "$LR(\\overrightarrow{X}, 2.1, 0.7) = \\frac{1}{3}^{\\sum_{i=1}^{n}X_{i}} \\cdot e ^{1.4n}\n",
    "= \\frac{1}{3}^{n \\bar X} \\cdot e ^{1.4n}$\n",
    "\n",
    "Наиболее мощный критерий:\n",
    "\n",
    "$\\phi(\\overrightarrow X) = \\begin{cases}\n",
    "  0, \\frac{1}{3}^{n \\bar X} \\cdot e ^{1.4n} < C \\\\\n",
    "  p, \\frac{1}{3}^{n \\bar X} \\cdot e ^{1.4n} = C \\\\\n",
    "  1, \\frac{1}{3}^{n \\bar X} \\cdot e ^{1.4n} > C\n",
    "\\end{cases} $\n",
    "\n",
    "В силу монотонности статистики $LR(\\overrightarrow X)$ относительно МДС $\\bar X$:\n",
    "\n",
    "$T = \\bar X - МДС $\n",
    "\n",
    "$ \\frac{1}{3} ^{n \\bar X} \\cdot e ^{1.4n} > C $\n",
    "\n",
    "$ n \\bar X \\cdot ln(\\frac{1}{3}) + 1.4n > ln(C) $\n",
    "\n",
    "$ Пусть \\; C^* = \\cfrac{ln(C) - 1.4n}{- n \\cdot ln(3)}$\n",
    "\n",
    "$ \\bar X < \\cfrac{ln(C) - 1.4n}{-n \\cdot ln(3)}$\n",
    "\n",
    "Критерий: \n",
    "\n",
    "$\\phi(\\overrightarrow X) = \\begin{cases}\n",
    "  0, \\bar X > C^* \\\\\n",
    "  p, \\bar X = C^* \\\\\n",
    "  1, \\bar X < C^*\n",
    "\\end{cases} $\n",
    "\n",
    "Найдём $C^*$ и p из уравнения:\n",
    "\n",
    "$P_{\\lambda_0}(\\bar X < C^*) + p P_{\\lambda_0}(\\bar X = C^*) = \\alpha_1$\n",
    "\n",
    "$ \\sum_{0}^{[nC^{*}] - 1} \\cfrac{{(n\\lambda_1)} ^i}{i!} e^{-n\\lambda_1} \\le \\alpha_1 < \\sum_{0}^{[nC^{*}]} \\cfrac{{(n\\lambda_1)} ^i}{i!} e^{-n\\lambda_1} $\n",
    "\n",
    "$p =\\cfrac{\\alpha_1 - P_{\\lambda_0}(\\bar X < C^*)}{P_{\\lambda_0}(\\bar X = C^*)}$\n",
    "\n",
    "$ P_{\\lambda_0}(\\bar X < C^*) = P_{n\\lambda_0}(n\\bar X \\le nC^*) = \\sum_{0}^{[nC^{*}]} \\cfrac{{(n \\lambda_0)} ^i}{i!} e^{-n\\lambda_0} $\n",
    "\n",
    "$ p = \\cfrac{\\alpha_1 - \\sum_{0}^{[nC^{*}] - 1} \\cfrac{{(n\\lambda_0)} ^i}{i!} e^{-n\\lambda_0}}{\\cfrac{(n\\lambda_0) ^{[nC^{*}]}}{[nC^{*}]!} e^{-n\\lambda_0}} $\n",
    "\n",
    "\n",
    "\n"
   ]
  },
  {
   "cell_type": "code",
   "execution_count": 368,
   "metadata": {},
   "outputs": [
    {
     "name": "stdout",
     "output_type": "stream",
     "text": [
      "p = 0.008816011050679164\n",
      "C*n = 85\n"
     ]
    }
   ],
   "source": [
    "c = 1\n",
    "while True:\n",
    "    if scipy.stats.poisson(50 * null_lambda).cdf(c - 1) <= first_alpha and first_alpha < scipy.stats.poisson(50 * null_lambda).cdf(c):\n",
    "        break\n",
    "    c += 1\n",
    "\n",
    "p = (first_alpha -  scipy.stats.poisson(50 * null_lambda).cdf(c-1)) / (\n",
    "    scipy.stats.poisson(50 * null_lambda).cdf(c)\n",
    "    - scipy.stats.poisson(50 * null_lambda).cdf(c - 1)\n",
    ")\n",
    "print(\"p =\", p)\n",
    "print(\"C*n =\", c)"
   ]
  },
  {
   "cell_type": "markdown",
   "metadata": {},
   "source": [
    "$\\sum_{i=1}^{n}X_{i} = 35 < C^* \\cdot n = 85$, значит отвергаем гипотезу $H_O$\n",
    "\n",
    "Критерий\n",
    " $\\phi(\\overrightarrow X) = \\begin{cases}\n",
    "  0, \\bar X > 1.7 \\\\\n",
    "  0.0088, \\bar X = 1.7 \\\\\n",
    "  1, \\bar X < 1.7\n",
    "\\end{cases} $"
   ]
  },
  {
   "cell_type": "markdown",
   "metadata": {},
   "source": [
    "Поменяем местами основную гипотезу и альтернативную\n",
    "\n",
    "$ H_О : X \\sim Pois(\\lambda_1)$\n",
    "\n",
    "$H_A : X \\sim Pois(\\lambda_0)$\n",
    "\n",
    "$LR(\\overrightarrow{X},\\lambda_{1},\\lambda_{0}) = \\frac{\\lambda_{0}^{\\sum_{i=1}^{n}X_{i}}\\cdot exp(-n\\cdot \\lambda_{0})}{\\lambda_{1}^{\\sum_{i=1}^{n}X_{i}}\\cdot exp(-n\\cdot \\lambda_{1})}$\n",
    "\n",
    "$LR(\\overrightarrow{X}, 0.7, 2.1) = 3 ^{\\sum_{i=1}^{n}X_{i}} \\cdot e ^{-1.4n} = 3^{n \\bar X} \\cdot e ^{-1.4n}$\n",
    "\n",
    "Наиболее мощный критерий:\n",
    "\n",
    "$\\phi(\\overrightarrow X) = \\begin{cases}\n",
    "  0, 3^{n \\bar X} \\cdot e ^{-1.4n} < C \\\\\n",
    "  p, 3^{n \\bar X} \\cdot e ^{-1.4n} = C \\\\\n",
    "  1, 3^{n \\bar X} \\cdot e ^{-1.4n} > C\n",
    "\\end{cases} $\n",
    "\n",
    "В силу монотонности статистики $LR(\\overrightarrow X)$ относительно МДС $\\bar X$:\n",
    "\n",
    "$T = \\bar X - МДС $\n",
    "\n",
    "$3 ^{n \\bar X} \\cdot e ^{-1.4n} > C $\n",
    "\n",
    "$ n \\bar X \\cdot ln(3)-1.4n > ln(C) $\n",
    "\n",
    "$ Пусть \\; C^* = \\cfrac{ln(C) + 1.4n}{n \\cdot ln(3)}$\n",
    "\n",
    "$ \\bar X > \\cfrac{ln(C) + 1.4n}{n \\cdot ln(3)}$\n",
    "\n",
    "Критерий: \n",
    "\n",
    "$\\phi(\\overrightarrow X) = \\begin{cases}\n",
    "  0, \\bar X < C^* \\\\\n",
    "  p, \\bar X = C^* \\\\\n",
    "  1, \\bar X > C^*\n",
    "\\end{cases} $\n",
    "\n",
    "Найдём $C^*$ и p из уравнения:\n",
    "\n",
    "$P_{\\lambda_1}(\\bar X > C^*) + p P_{\\lambda_1}(\\bar X = C^*) = \\alpha_1$\n",
    "\n",
    "$P_{\\lambda_1}(\\bar X > C^*) = 1 - P_{\\lambda_1}(\\bar X \\le C^*) =1 - P_{n\\lambda_1}(n \\bar X \\le n C^*) = 1 -\\sum_{0}^{[nC^{*}]} \\cfrac{{(n \\lambda_1)} ^i}{i!} e^{-n\\lambda_1}$\n",
    "\n",
    "$ \\sum_{0}^{[nC^{*}] - 1} \\cfrac{{(n\\lambda_1)} ^i}{i!} e^{-n\\lambda_1} < \\alpha_1 $\n",
    "\n",
    "$ p = \\cfrac{\\alpha_1 - 1 +\\sum_{0}^{[nC^{*}] - 1} \\cfrac{{(n\\lambda_1)} ^i}{i!} e^{-n\\lambda_1}}{\\cfrac{(n\\lambda_1) ^{[nC^{*}]}}{[nC^{*}]!} e^{-n\\lambda_1}} $\n",
    "\n",
    "\n",
    "\n"
   ]
  },
  {
   "cell_type": "code",
   "execution_count": 369,
   "metadata": {},
   "outputs": [
    {
     "name": "stdout",
     "output_type": "stream",
     "text": [
      "p = 0.8189466003207422\n",
      "C = 48\n"
     ]
    }
   ],
   "source": [
    "c = 1\n",
    "while True:\n",
    "    if 1 - scipy.stats.poisson(50 * first_lambda).cdf(c) < first_alpha:\n",
    "        break\n",
    "    c += 1\n",
    "p = (first_alpha - 1 + scipy.stats.poisson(50 * first_lambda).cdf(c)) / (\n",
    "    scipy.stats.poisson(50 * first_lambda).cdf(c)\n",
    "    - scipy.stats.poisson(50 * first_lambda).cdf(c - 1))\n",
    "print(\"p =\", p)\n",
    "print(\"C =\", c)"
   ]
  },
  {
   "cell_type": "markdown",
   "metadata": {},
   "source": [
    "$\\sum_{i=1}^{n}X_{i} = 35 < C^* \\cdot n = 48$, значит принимаем гипотезу $H_O$\n",
    "\n",
    "Критерий\n",
    " $\\phi(\\overrightarrow X) = \\begin{cases}\n",
    "  0, \\bar X < 0.96 \\\\\n",
    "  0.0088, \\bar X = 0.96 \\\\\n",
    "  1, \\bar X > 0.96\n",
    "\\end{cases} $"
   ]
  },
  {
   "cell_type": "markdown",
   "metadata": {},
   "source": [
    "#### h) В пунктах (c)-(f) заменить семейство распределение Пуассона на семейство геометрических распредленией: \n",
    "$\\mathbb{P}_{\\lambda}(X=k)=\\frac{\\lambda^{k}}{(\\lambda+1)^{k+1}}, k\\in \\mathbb{Z_{+}}$"
   ]
  },
  {
   "cell_type": "markdown",
   "metadata": {},
   "source": [
    "##### h.c) В предположении, что исходные наблюдения являются выборкой из геометрического распределения, построить ОМП и ОММ параметра $\\lambda$. Найти смещение оценки."
   ]
  },
  {
   "cell_type": "markdown",
   "metadata": {},
   "source": [
    "ОМП:\n",
    "\n",
    "$\\theta = \\lambda$\n",
    "\n",
    "$q_\\theta(k)=\\frac{\\lambda^{k}}{(\\lambda+1)^{k+1}}$\n",
    "\n",
    "$L(\\overrightarrow{X};\\theta)=\\prod_{i=1}^{n}\\frac{\\lambda^{X_{i}}}{(\\lambda+1)^{X_{i}}}$\n",
    "\n",
    "$ LL(\\overrightarrow{X};\\theta) = ln(\\lambda)\\sum_{i=1}^{n} X_i - ln(\\lambda+1) \\sum_{i=1}^{n} X_i - nln(\\lambda+1)$\n",
    "\n",
    "$\\cfrac{dLL(\\overrightarrow{X};\\theta)}{d\\lambda} = (\\cfrac{1}{\\lambda} - \\cfrac{1}{\\lambda+1}) \\sum_{i=1}^{n} X_i - \\cfrac{n}{\\lambda +1}$\n",
    "\n",
    "$(\\cfrac{1}{\\lambda} - \\cfrac{1}{\\lambda+1}) \\sum_{i=1}^{n} X_i - \\cfrac{n}{\\lambda +1} = 0$\n",
    "\n",
    "$\\widehat \\lambda = \\bar X = 0.7$\n",
    "\n",
    "ОММ:\n",
    "\n",
    "$ EX1 = \\sum_{k=0}^{\\infty} k \\cdot q_\\theta(k) = \\lambda$  \n",
    "\n",
    "$ \\widehat\\lambda = \\bar X = 0.7$\n",
    "\n",
    "\n",
    "НРМД:\n",
    "\n",
    "$E_{\\lambda}\\overline{X} = \\cfrac{1}{n} E_{\\lambda} \\sum_{i=1}^{n}x_i = \\cfrac{n E_{\\lambda}X_1 }{n} = \\lambda = 0.7$ - несмещенная оценка\n",
    "\n",
    "\n",
    "\n",
    "\n"
   ]
  },
  {
   "cell_type": "markdown",
   "metadata": {},
   "source": [
    "##### h.d) Построить асимптотический доверительный интервал уровня значимости $\\alpha_1$ для параметра $\\lambda$ на базе оценки максимального правдоподобия."
   ]
  },
  {
   "cell_type": "markdown",
   "metadata": {},
   "source": [
    "Метод построения на базе ОМП.\n",
    "\n",
    "$\\widehat{\\theta}(\\overrightarrow X)$ - ОМП\n",
    "\n",
    "$\\sqrt{n} (\\widehat{\\theta}(\\overrightarrow X) - \\theta) \\sim \\mathcal{N}(0, \\frac{1}{I(\\widehat \\theta)})$\n",
    "\n",
    "$\\sqrt{n \\cdot I(\\widehat \\theta)} \\left(\\widehat{\\theta}(\\overrightarrow X) - \\theta \\right) \\sim \\mathcal{N}(0, 1)$\n",
    "\n",
    "Выберем $x_{\\alpha} : \\Phi(x_{\\alpha}) = 1 - \\frac{\\alpha}{2} $\n",
    "\n",
    "Асимптотический доверительный интервал : $ \\left[\\widehat{\\theta}(\\overrightarrow X) - \\cfrac{x_{\\alpha}}{\\sqrt{n \\cdot I(\\widehat \\theta)}}; \\widehat{\\theta}(\\overrightarrow X) + \\cfrac{x_{\\alpha}}{\\sqrt{n \\cdot I(\\widehat \\theta)}} \\right] $\n",
    "\n",
    "$I_n(\\lambda) = -E \\cfrac{d^2LL}{d\\lambda^2} =  \\cfrac{n\\lambda}{\\lambda^2} - \\cfrac{n\\lambda}{(\\lambda+1)^2} - \\cfrac{n}{(\\lambda + 1)^2}  $\n",
    "\n",
    "$I(\\lambda) = \\cfrac{1 }{\\lambda} - \\cfrac{\\lambda}{(\\lambda+1)^2} - \\cfrac{1}{(\\lambda + 1)^2} $ \n",
    "\n",
    "$I(\\widehat \\theta) = \\cfrac{1 }{\\bar X} - \\cfrac{\\bar X}{(\\bar X+1)^2} - \\cfrac{1}{(\\bar X + 1)^2}$\n"
   ]
  },
  {
   "cell_type": "markdown",
   "metadata": {},
   "source": [
    "Метод построения на базе асимтотической нормальной оценки.\n",
    "\n",
    "$\\sqrt{n}\\frac{ \\widehat{\\theta}(\\overrightarrow{X})-\\theta}{\\sigma(\\widehat{\\theta})}\\sim N(0,1)$\n",
    "\n",
    "Выберем $x_{\\alpha} : \\Phi(x_{\\alpha}) = 1 - \\frac{\\alpha}{2} $\n",
    "\n",
    "$-x_{\\alpha}\\le \\sqrt{n}\\cdot \\frac{\\widehat{\\lambda}-\\lambda}{\\sqrt{\\widehat \\lambda (\\widehat\\lambda +1)}}\\le x_{\\alpha}$\n",
    "\n",
    "$\\bar X - \\cfrac{x_{\\alpha} \\sqrt{\\bar X \\cdot (\\bar X + 1)}}{\\sqrt{n}} \\le \\lambda \\le  \\bar X + \\cfrac{x_{\\alpha} \\sqrt{\\bar X \\cdot (\\bar X + 1)}}{\\sqrt{n}} $"
   ]
  },
  {
   "cell_type": "code",
   "execution_count": 370,
   "metadata": {},
   "outputs": [
    {
     "name": "stdout",
     "output_type": "stream",
     "text": [
      "Асимптотический доверительный интервал на базе ОМП уровня доверия  0.98 :\n",
      "[ 0.34110852969303757 , 1.0588914703069623 ]\n",
      "Асимптотический доверительный интервал на базе асимптотической нормальной оценки уровня доверия  0.98 :\n",
      "[ 0.3411085296930375 , 1.0588914703069623 ]\n"
     ]
    }
   ],
   "source": [
    "x_alpha = scipy.stats.norm.ppf(1 - first_alpha / 2)\n",
    "I = 1 / mean - (mean / (mean + 1) ** 2) - (1 / (mean + 1) ** 2)\n",
    "find_asymptotic_interval(mean, x_alpha, I, np.sqrt(mean * (mean + 1)))"
   ]
  },
  {
   "cell_type": "markdown",
   "metadata": {},
   "source": [
    "##### h.e) Используя гистограмму частот, построить критерий значимости $\\mathcal{X^{2}}$ проверки простой гипотезы согласия с распределением из семейства геометрических  с параметром $\\lambda_{0}$. Проверить гипотезу на уровень значимости $\\alpha_{1}$. Вычислить наибольшее значение уровня значимости, на котором ещё нет оснований отвергнуть данную гипотезу."
   ]
  },
  {
   "cell_type": "markdown",
   "metadata": {},
   "source": [
    "$H_O : X \\sim Geom(\\lambda_0)$\n",
    "\n",
    "$H_A : X \\nsim Geom(\\lambda_0)$"
   ]
  },
  {
   "cell_type": "code",
   "execution_count": 371,
   "metadata": {},
   "outputs": [
    {
     "name": "stdout",
     "output_type": "stream",
     "text": [
      "X^2 = 12.653038548752837\n",
      "x_alpha = 7.824046010856292\n",
      "X^2 > x_alpha, отвергаем гипотизу H_0\n",
      "Гипотеза может быть принята, если уровень значимости не более: 0.0017882473473107563\n"
     ]
    }
   ],
   "source": [
    "def geom_cdf(lambda_, x):\n",
    "    sm = 0 \n",
    "    for k in range(x + 1):\n",
    "        sm+=lambda_**k/((lambda_+1)**(k+1))\n",
    "    return sm\n",
    "\n",
    "I = np.array([0, 1])\n",
    "n = 2\n",
    "p = np.zeros(n + 1)\n",
    "\n",
    "p[0] = geom_cdf(null_lambda, I[0])\n",
    "for i in range(1, n):\n",
    "    p[i] = geom_cdf(null_lambda, I[i]) - geom_cdf(null_lambda, I[i-1])\n",
    "\n",
    "p[n] = 1 - geom_cdf(null_lambda, I[i])\n",
    "\n",
    "v = np.array([26, 13, 11])\n",
    "chi_sq = np.sum(((v - 50 * p) ** 2) / (50 * p))\n",
    "print(\"X^2 =\", chi_sq)\n",
    "x_alpha = scipy.stats.chi2(2).ppf(1 - first_alpha)\n",
    "print(\"x_alpha =\", x_alpha)\n",
    "\n",
    "if chi_sq < x_alpha:\n",
    "    print(\"X^2 < x_alpha, принимаем гипотизу H_0\")\n",
    "else:\n",
    "    print(\"X^2 > x_alpha, отвергаем гипотизу H_0\")\n",
    "a_max = 1 - scipy.stats.chi2.cdf(chi_sq, 3-1)\n",
    "print(\"Гипотеза может быть принята, если уровень значимости не более:\", a_max)"
   ]
  },
  {
   "cell_type": "markdown",
   "metadata": {},
   "source": [
    "##### h.f) Построить критерий значимости $\\chi^2$ проверки сложной гипотезы согласия с распределением из семейства геометрических. Проверить гипотезу на уровне значимости $\\alpha_1$. Вычислить наибольшее значение уровня значимости, на котором еще нет оснований отвергнуть данную гипотезу."
   ]
  },
  {
   "cell_type": "code",
   "execution_count": 372,
   "metadata": {},
   "outputs": [
    {
     "name": "stdout",
     "output_type": "stream",
     "text": [
      "Параметр = 0.8879741836219971\n",
      "X^2 = 0.4046482468015885\n",
      "x_alpha = 5.411894431054342\n",
      "X^2 < x_alpha, принимаем гипотизу H_0\n",
      "Гипотеза может быть принята, если уровень значимости не более: 0.5246984195255728\n"
     ]
    }
   ],
   "source": [
    "def sq_chi(par):\n",
    "    if par == 0:\n",
    "        return 1e9\n",
    "    v = np.array([26, 13, 11])\n",
    "    I_i = np.array([0, 1])\n",
    "    p = [geom_cdf(par, I[0])]\n",
    "    for i in range(1, len(I_i)):\n",
    "        p.append(geom_cdf(null_lambda, I[i]) - geom_cdf(null_lambda, I[i-1]))\n",
    "    p.append(1 - scipy.stats.poisson(par).cdf(I_i[-1]))\n",
    "    p = np.array(p)\n",
    "    sq_chi = np.sum(((v - 50 * p) ** 2) / (50 * p))\n",
    "    return sq_chi\n",
    "\n",
    "result = scipy.optimize.minimize_scalar(sq_chi)\n",
    "res_sq_chi = result.fun\n",
    "print(\"Параметр =\", result.x)\n",
    "print(\"X^2 =\", res_sq_chi)\n",
    "x_alpha = scipy.stats.chi2(1).ppf(1 - first_alpha)\n",
    "print(\"x_alpha =\", x_alpha)\n",
    "if res_sq_chi < x_alpha:\n",
    "    print(\"X^2 < x_alpha, принимаем гипотизу H_0\")\n",
    "else:\n",
    "    print(\"X^2 > x_alpha, отвергаем гипотизу H_0\")\n",
    "print(\"Гипотеза может быть принята, если уровень значимости не более:\", 1 - scipy.stats.chi2.cdf(res_sq_chi, 1))\n"
   ]
  },
  {
   "cell_type": "markdown",
   "metadata": {},
   "source": [
    "### 2. В результате эксперемента получены данные, приведенные в таблице 2\n",
    "$\\alpha_2 = 0.01; \\quad c = -0.20; \\quad d = 4.00; \\quad h = 1.20; \\quad \\alpha_0 = 1.00; \\quad \\sigma_0 = 1.00, \\quad \\alpha_1 = -2.00, \\quad \\sigma_1 = 3.00.$\n",
    "\n",
    "Таблица 2.  \n",
    "2.105 2.425 -2.902 2.852 2.661 1.572 0.978 -0.918 0.898 -1.485 1.280 -0.991 2.827 0.182 2.494 -3.792 -3.003 1.652 1.753 3.771 -0.620 2.131 5.584 0.566 -2.896 2.750 0.909 2.287 -2.870 -1.371 -0.297 2.663 -1.035 0.248 3.772 -6.606 -1.328 0.673 0.930 -5.552 4.029 -1.930 8.660 2.331 5.416 2.893 5.596 7.152 -1.014 3.005"
   ]
  },
  {
   "cell_type": "code",
   "execution_count": 373,
   "metadata": {},
   "outputs": [],
   "source": [
    "second_table = np.array([2.105, 2.425, -2.902, 2.852, 2.661, 1.572, 0.978, -0.918, 0.898, -1.485, 1.280, -0.991, 2.827, 0.182, 2.494, -3.792, -3.003, 1.652, 1.753, 3.771, -0.620, 2.131, 5.584, 0.566, -2.896, 2.750, 0.909, 2.287, -2.870, -1.371, -0.297, 2.663, -1.035, 0.248, 3.772, -6.606, -1.328, 0.673, 0.930, -5.552, 4.029, -1.930, 8.660, 2.331, 5.416, 2.893, 5.596, 7.152, -1.014, 3.005])\n",
    "second_table_size = len(second_table)\n",
    "null_a = 1.00\n",
    "first_a = -2.00\n",
    "second_alpha=0.01\n",
    "c = -0.20\n",
    "d = 4.00\n",
    "h = 1.20\n",
    "null_sigma = 3.00\n",
    "first_sigma = 3.00"
   ]
  },
  {
   "cell_type": "markdown",
   "metadata": {},
   "source": [
    "#### a) Построить вариационный ряд, эмпирическую функцию распределения, гистограмму и полигон частот с шагом һ."
   ]
  },
  {
   "cell_type": "code",
   "execution_count": 374,
   "metadata": {},
   "outputs": [
    {
     "name": "stdout",
     "output_type": "stream",
     "text": [
      "Вариационный ряд: [-6.606 -5.552 -3.792 -3.003 -2.902 -2.896 -2.87  -1.93  -1.485 -1.371\n",
      " -1.328 -1.035 -1.014 -0.991 -0.918 -0.62  -0.297  0.182  0.248  0.566\n",
      "  0.673  0.898  0.909  0.93   0.978  1.28   1.572  1.652  1.753  2.105\n",
      "  2.131  2.287  2.331  2.425  2.494  2.661  2.663  2.75   2.827  2.852\n",
      "  2.893  3.005  3.771  3.772  4.029  5.416  5.584  5.596  7.152  8.66 ]\n"
     ]
    },
    {
     "data": {
      "image/png": "[encoded data removed]",
      "text/plain": [
       "<Figure size 640x480 with 1 Axes>"
      ]
     },
     "metadata": {},
     "output_type": "display_data"
    },
    {
     "data": {
      "image/png": "[encoded data removed]",
      "text/plain": [
       "<Figure size 640x480 with 1 Axes>"
      ]
     },
     "metadata": {},
     "output_type": "display_data"
    }
   ],
   "source": [
    "second_variation_series = np.sort(second_table)\n",
    "print(\"Вариационный ряд:\", second_variation_series)\n",
    "\n",
    "second_array_xi = np.unique(second_variation_series)\n",
    "\n",
    "second_empirical_func = empirical_distribution_function(second_variation_series,second_array_xi,second_table_size)\n",
    "\n",
    "def draw_gist_and_frequency_range(freq,steps):\n",
    "    count_steps = int(\n",
    "        (max(second_variation_series) - min(second_variation_series) + h) // h\n",
    "    )\n",
    "    steps.append(-np.inf,)\n",
    "    steps.append( min(second_variation_series))\n",
    "    for j in range(1, count_steps + 2):\n",
    "        count = 0\n",
    "        for i in range(second_table_size):\n",
    "            if (\n",
    "                second_variation_series[i] > steps[j - 1]\n",
    "                and second_variation_series[i] <= steps[j]\n",
    "            ):\n",
    "                count += 1\n",
    "        freq.append(count)\n",
    "        steps.append(steps[j] + h)\n",
    "    if freq[0] > 0:\n",
    "        freq[1] += freq[0]\n",
    "        freq[0] = 0\n",
    "    x = []\n",
    "    for i in range(len(steps) - 2):\n",
    "        x.append((steps[i] + steps[i + 1]) / 2)\n",
    "    plt.plot(x, freq)\n",
    "    bins = np.arange(min(second_variation_series), max(second_variation_series) + h, h)\n",
    "    plt.hist(second_variation_series, bins=bins, color=\"pink\", edgecolor=\"black\")\n",
    "    plt.xlabel(\"Значение\")\n",
    "    plt.ylabel(\"Частота\")\n",
    "    plt.title(\"Гистограмма и полигон частот с шагом 1.2\")\n",
    "    plt.show()\n",
    "    freq.remove(freq[0])\n",
    "\n",
    "freq = []\n",
    "I = []\n",
    "draw_gist_and_frequency_range(freq,I)"
   ]
  },
  {
   "cell_type": "markdown",
   "metadata": {},
   "source": [
    "#### b)  Вычислить выборочные аналоги следующих числовых характеристик:\n",
    "(i)математического ожидания; (ii) дисперсии; (iii) СКО; (iv) медианы; (v) асимметрии; (vi) эксцесса; (vіi) вероятности $ \\mathbb{P}\\left(X \\in [c, d]\\right)$."
   ]
  },
  {
   "cell_type": "markdown",
   "metadata": {},
   "source": [
    "Выборочные числовые характеристики:\n",
    "\n",
    "Мат.ожидание $\\overline{X}=\\frac{1}{n}\\sum_{i=1}^{n}X_{i}$\n",
    "\n",
    "Дисперсия $S^{2}=\\frac{1}{n}\\sum_{i=1}^{n}\\left( X_{i}-\\overline{X} \\right)^{2}=\\overline{X^{2}}-\\overline{X}^{2}$\n",
    "\n",
    "Коэф. асимметрии $\\widehat{S_{kew}}X=\\frac{\\left(\\frac{1}{n}\\sum_{i=1}^{n}\\left( X_{i}-\\overline{X} \\right)^{3} \\right)}{S^{3}}$\n",
    "\n",
    "Коэф. эксцесса $\\widehat{K_{urt}}X=\\frac{\\frac{1}{n}\\sum_{i=1}^{n}\\left( X_{i}-\\overline{X}^{4} \\right)}{S^{4}}-3$"
   ]
  },
  {
   "cell_type": "code",
   "execution_count": 375,
   "metadata": {},
   "outputs": [
    {
     "name": "stdout",
     "output_type": "stream",
     "text": [
      "Выборочное математическое ожидание:  1.0087000000000002\n",
      "Выборочная дисперсия:  8.99781969\n",
      "СКО:  2.999636592989224\n",
      "Медиана:  1.129\n",
      "Коэффициент асимметрии:  -0.07468674120922973\n",
      "Коэффициент эксцесса:  0.29800547858252413\n",
      "Веротяность:  0.54\n"
     ]
    }
   ],
   "source": [
    "mean, S_sq, std, median, skew, kurt, P_x = find_selective_analogues(second_variation_series, c, d)"
   ]
  },
  {
   "cell_type": "markdown",
   "metadata": {},
   "source": [
    "#### с) В предположении, что исходные наблюдения являются выборкой из нормального распределения, построить оценку максимального правдоподобия параметров $(a, \\sigma^2)$ и соответствующие оценки по методу моментов. Найти смещение оценок."
   ]
  },
  {
   "cell_type": "markdown",
   "metadata": {},
   "source": [
    "ОМП:\n",
    "\n",
    "$p_\\theta(x) = \\cfrac{1}{\\sqrt{2\\pi} \\sigma} \\exp \\left( - \\cfrac{(x-a)^2}{2 \\sigma^2} \\right) $\n",
    "\n",
    "$ L \\left (\\overrightarrow X, \\theta \\right) = \\prod_{i=1}^{n}\\left ( \\cfrac{1}{\\sqrt{2\\pi} \\sigma} \\exp \\left( - \\cfrac{(X_i-a)^2}{2 \\sigma^2} \\right)  \\right)$\n",
    "\n",
    "$LL\\left (\\overrightarrow X, \\theta \\right) = - \\cfrac{n}{2} \\ln(2\\pi) - n\\ln(\\sigma) - \\cfrac{\\sum_{i=1}^{n}(X_i-a)^2}{2 \\sigma^2}$\n",
    "\n",
    "$ \\frac{dLL}{da} = \\cfrac{1}{\\sigma ^ 2} \\sum_{i=1}^{n}(X_i-na) $\n",
    "\n",
    "$ \\cfrac{1}{\\sigma ^ 2} \\sum_{i=1}^{n}(X_i-na) = 0 $\n",
    "\n",
    "$ \\widehat a = \\bar X = 1.0087 $\n",
    "\n",
    "$ \\frac{dLL}{d\\sigma} = \\cfrac{-n}{\\sigma} + \\cfrac{1}{\\sigma^3} \\sum_{i=1}^{n}(X_i-a)^2$\n",
    "\n",
    "$ \\cfrac{-n}{\\sigma} + \\cfrac{1}{\\sigma^3} \\sum_{i=1}^{n}(X_i-a)^2 = 0 $\n",
    "\n",
    "$ \\widehat {\\sigma^2} = S^2 = 8.997$\n",
    "\n",
    "$ \\widehat \\theta = (a, \\sigma^2) = (\\bar X, S^2) $\n",
    "\n",
    "ОММ:\n",
    "\n",
    "$ E X_1 = a, \\quad M_1 = \\bar X$\n",
    "\n",
    "$ E X_1^2 = \\sigma^2 + a^2, \\quad M_2 = \\overline {X^2} $\n",
    "\n",
    "$\n",
    "\\begin{cases}\n",
    "  a = \\bar X \\\\\n",
    "  \\sigma^2 = \\bar X^2 - a^2\n",
    "\\end{cases} $\n",
    "\n",
    "$\n",
    "\\begin{cases}\n",
    "  \\widehat a = \\bar X = 1.0087\\\\\n",
    "  \\widehat {\\sigma^2} = S^2 = 8.997\n",
    "\\end{cases} $\n",
    "\n",
    "НРМД:\n",
    "\n",
    "$E_\\theta \\bar X = \\cfrac{1}{n} E \\sum_{i=1}^{n} X_i = \\cfrac{1}{n}\\sum_{i=1}^{n} E X_i = a = 1.0087$\n",
    "\n",
    "$E_\\theta S^2 = \\cfrac{1}{n} E \\sum_{i=1}^{n} {(X_i - \\bar X)^2} = \\cfrac{n-1}{n} \\cdot \\sigma^2$ - cмещённая оценка\n",
    "\n",
    "Несмещённая оценка:\n",
    "\n",
    "$ (S')^2 = \\cfrac{n}{n-1} \\cdot S^2 = \\cfrac{50}{49} \\cdot 8.997 = 9.180 $ \n"
   ]
  },
  {
   "cell_type": "markdown",
   "metadata": {},
   "source": [
    "#### d) Построить доверительные интервалы уровня значимости $\\alpha_2$ для параметров $(a, \\sigma^2)$."
   ]
  },
  {
   "cell_type": "markdown",
   "metadata": {},
   "source": [
    "ДИ для $a$: \n",
    "\n",
    "$ G(\\vec{X}, a) = \\sqrt{n - 1} \\frac{\\bar{X} - a}{S} \\sim S_{n - 1} $\n",
    "\n",
    "$ \\mathbb{P}_a \\left( \\sqrt{n - 1} \\frac{\\bar{X} - a}{S} \\in [-x_{\\alpha_2}, x_{\\alpha_2}] \\right) = 1 - \\alpha_2 $\n",
    "\n",
    "$ x_{\\alpha_2} : S_{n - 1}(x_\\alpha) = 1 - \\frac{\\alpha_2}{2}$\n",
    "\n",
    "$ \\left[\\bar{X} - \\frac{x_\\alpha S}{\\sqrt{n - 1}}; \\bar{X} + \\frac{x_\\alpha S}{\\sqrt{n - 1}}\\right] \\ni a $\n",
    "\n",
    "\n",
    "ДИ для $\\sigma^2$\n",
    "\n",
    "$ G(\\vec{X}, \\sigma^2) = \\frac{nS^2}{\\sigma^2} \\sim \\chi^2_{n - 1}$\n",
    "\n",
    "$ \\mathbb{P}_{\\sigma^2} \\left( \\frac{nS^2}{\\sigma^2} \\in [x_{1_{\\alpha_2}}; x_{2_{\\alpha_2}}] \\right) = 1 - \\alpha_2 $\n",
    "\n",
    "$ x_{1\\alpha_2} : \\mathcal{K}_{n - 1}(x_{1\\alpha_2}) =\\frac{\\alpha_2}{2}$\n",
    "\n",
    "$ x_{2\\alpha_2} : \\mathcal{K}_{n - 1}(x_{2\\alpha_2}) = 1 - \\frac{\\alpha_2}{2}$\n",
    "\n",
    "$  \\left[  \\frac{n S^2}{x_{2\\alpha_2}}; \\frac{n S^2}{x_{1\\alpha_2}} \\right]  \\ni \\sigma^2 $\n",
    "\n"
   ]
  },
  {
   "cell_type": "code",
   "execution_count": 376,
   "metadata": {},
   "outputs": [
    {
     "name": "stdout",
     "output_type": "stream",
     "text": [
      "Доверительный интервал для a уровня доверия  0.99 :\n",
      "[ -0.1397117153655556 , 2.1571117153655557 ]\n",
      "Доверительный интервал для sigma уровня доверия  0.99 :\n",
      "[ 5.750823372344546 , 16.510155283026894 ]\n"
     ]
    }
   ],
   "source": [
    "def find_interval_a(mean, x_alpha, S_sq):\n",
    "    print(\"Доверительный интервал для a уровня доверия \", 1 - second_alpha, \":\")\n",
    "    print(\n",
    "        \"[\",\n",
    "        mean - (x_alpha * np.sqrt(S_sq)) / np.sqrt(second_table_size - 1),\n",
    "        \",\",\n",
    "        mean + (x_alpha * np.sqrt(S_sq)) / np.sqrt(second_table_size - 1),\n",
    "        \"]\",\n",
    "    )\n",
    "\n",
    "\n",
    "def find_interval_sigma(x_alpha1, x_alpha2, S_sq):\n",
    "    print(\"Доверительный интервал для sigma уровня доверия \", 1 - second_alpha, \":\")\n",
    "    print(\n",
    "        \"[\",\n",
    "        (second_table_size * S_sq) / x_alpha2,\n",
    "        \",\",\n",
    "        (second_table_size * S_sq) / x_alpha1,\n",
    "        \"]\",\n",
    "    )\n",
    "\n",
    "\n",
    "x_alpha = scipy.stats.t(50 - 1).ppf(1 - second_alpha/2)\n",
    "x_alpha1 = scipy.stats.chi2(50 - 1).ppf(second_alpha/2)\n",
    "x_alpha2 = scipy.stats.chi2(50 - 1).ppf(1 - second_alpha/2)\n",
    "find_interval_a(mean,x_alpha,S_sq)\n",
    "find_interval_sigma(x_alpha1,x_alpha2,S_sq)\n"
   ]
  },
  {
   "cell_type": "markdown",
   "metadata": {},
   "source": [
    "#### e) С использованием теоремы Колмогорова построить критерий значимости проверки простой гипотезы согласия с нормальным распределением с параметрами $(a_0, \\sigma_0 ^2)$. Проверить гипотезу на уровне значимости $\\alpha_2$. Вычислить наибольшее значения уровня значимости, на котором ещё нет оснований отвергнуть гипотезу."
   ]
  },
  {
   "cell_type": "markdown",
   "metadata": {},
   "source": [
    "$ H_О : (a, \\sigma^2) = (a_0, \\sigma_0^2)$\n",
    "$ H_А : (a, \\sigma^2) \\ne (a_0, \\sigma_0^2)$\n",
    "\n",
    "По теореме Колмогорова, при основной гипотезе\n",
    "\n",
    "$D_n = max|F_n(y) - F(y)| $\n",
    "\n",
    "$ P(\\sqrt{n} D_n < x_{\\alpha_2}) \\sim  K(x_{\\alpha_2})$\n",
    "\n",
    "$ K(x_{\\alpha_2}) = 1 - \\alpha_2$"
   ]
  },
  {
   "cell_type": "code",
   "execution_count": 377,
   "metadata": {},
   "outputs": [
    {
     "name": "stdout",
     "output_type": "stream",
     "text": [
      "x_alpha: 0.2106765432666897\n",
      "sqrt(n) * Dn = 0.45287759113055825\n",
      "Основная гипотеза отвергается.\n",
      "Гипотеза может быть принята, если уровень значимости не более: 0.9258251869202924\n"
     ]
    }
   ],
   "source": [
    "x_alpha = scipy.stats.ksone(50).ppf(1 - second_alpha)\n",
    "print(\"x_alpha:\", x_alpha)\n",
    "\n",
    "x = np.arange(1, second_table_size + 1) / second_table_size\n",
    "Fo = scipy.stats.norm.cdf(x, loc=null_a, scale=null_sigma)\n",
    "\n",
    "def F(array_xi, variation_series):\n",
    "    Fn = []\n",
    "    for x in array_xi:\n",
    "        count = 0\n",
    "        for xi in variation_series:\n",
    "            if xi < x:\n",
    "                count += 1\n",
    "        Fn.append(count / 50)\n",
    "    return np.array(Fn)\n",
    "\n",
    "Fn = F(x, second_variation_series)\n",
    "delta = max(np.abs( Fn - Fo))\n",
    "print(\"sqrt(n) * Dn =\",delta * np.sqrt(second_table_size))\n",
    "if delta * np.sqrt(second_table_size) < x_alpha:\n",
    "    print(\"Основная гипотеза принимается.\")\n",
    "else:\n",
    "    print(\"Основная гипотеза отвергается.\")\n",
    "\n",
    "a_max = 1 - scipy.stats.ksone(50).ppf(0.45)\n",
    "print(\"Гипотеза может быть принята, если уровень значимости не более:\", a_max)"
   ]
  },
  {
   "cell_type": "markdown",
   "metadata": {},
   "source": [
    "#### f) Используя гистограмму частот, построить критерий значимости $\\mathcal{X^{2}}$ проверки простой гипотезы согласия с нормальным распределением с параметрами $(a_0, \\sigma_0 ^2)$. Проверить гипотезу на уровень значимости $\\alpha_2$. Вычислить наибольшее значение уровня значимости, на котором ещё нет оснований отвергнуть данную гипотезу."
   ]
  },
  {
   "cell_type": "code",
   "execution_count": 378,
   "metadata": {},
   "outputs": [
    {
     "name": "stdout",
     "output_type": "stream",
     "text": [
      "I 0 = ( -inf -5.406 ] ; n 0 = 2\n",
      "I 1 = ( -5.406 -4.206 ] ; n 1 = 0\n",
      "I 2 = ( -4.206 -3.006 ] ; n 2 = 1\n",
      "I 3 = ( -3.006 -1.806 ] ; n 3 = 5\n",
      "I 4 = ( -1.806 -0.606 ] ; n 4 = 8\n",
      "I 5 = ( -0.606 0.594 ] ; n 5 = 4\n",
      "I 6 = ( 0.594 1.794 ] ; n 6 = 9\n",
      "I 7 = ( 1.794 2.994 ] ; n 7 = 12\n",
      "I 8 = ( 2.994 4.194 ] ; n 8 = 4\n",
      "I 9 = ( 4.194 5.394 ] ; n 9 = 0\n",
      "I 10 = ( 5.394 6.594 ] ; n 10 = 3\n",
      "I 11 = ( 6.594 7.794 ] ; n 11 = 1\n",
      "I 12 = ( 7.794 inf ) ; n 12 = 1\n"
     ]
    }
   ],
   "source": [
    "I.remove(I[1])\n",
    "I.remove(I[-1])\n",
    "I = np.round(I, 3)\n",
    "I[-1] = np.inf\n",
    "for i in range(len(freq) - 1):\n",
    "    print(\"I\", i, \"= (\", I[i], I[i + 1], \"] ; n\", i, \"=\", freq[i])\n",
    "print(\n",
    "    \"I\",len(freq) - 1,\"= (\",I[len(freq) - 1],I[len(freq)],\") ; n\",\n",
    "    len(freq) - 1,\"=\",freq[len(freq) - 1],)\n"
   ]
  },
  {
   "cell_type": "markdown",
   "metadata": {},
   "source": [
    "$H_0 : (a, \\sigma ^2) = (a_0, \\sigma_0 ^2)$\n",
    "\n",
    "$H_A : (a, \\sigma ^2) \\ne (a_0, \\sigma_0 ^2)$\n"
   ]
  },
  {
   "cell_type": "code",
   "execution_count": 379,
   "metadata": {},
   "outputs": [
    {
     "name": "stdout",
     "output_type": "stream",
     "text": [
      "X^2 = 14.486741158842047\n",
      "x_alpha = 24.724970311318277\n",
      "X^2 < x_alpha, принимаем гипотизу H_0\n",
      "Гипотеза может быть принята, если уровень значимости не более: 0.2072198661196074\n"
     ]
    }
   ],
   "source": [
    "Ii = np.array(I[1:-1])\n",
    "n = len (Ii)\n",
    "p = np.zeros(n + 1)\n",
    "\n",
    "p[0] = scipy.stats.norm.cdf(Ii[0],null_a,null_sigma)\n",
    "for i in range(1, n):\n",
    "    p[i] = scipy.stats.norm.cdf(Ii[i],null_a,null_sigma) - scipy.stats.norm.cdf(Ii[i - 1],null_a,null_sigma)\n",
    "\n",
    "p[n] = 1 - scipy.stats.norm.cdf(Ii[-1],null_a,null_sigma)\n",
    "\n",
    "v = np.array(freq)\n",
    "chi_sq = np.sum(((v - 50 * p) ** 2) / (50 * p))\n",
    "print(\"X^2 =\", chi_sq)\n",
    "x_alpha = scipy.stats.chi2(n-1).ppf(1 - second_alpha)\n",
    "print(\"x_alpha =\", x_alpha)\n",
    "\n",
    "if chi_sq < x_alpha:\n",
    "    print(\"X^2 < x_alpha, принимаем гипотизу H_0\")\n",
    "else:\n",
    "    print(\"X^2 > x_alpha, отвергаем гипотизу H_0\")\n",
    "a_max = 1 - scipy.stats.chi2.cdf(chi_sq, n-1)\n",
    "print(\"Гипотеза может быть принята, если уровень значимости не более:\", a_max)"
   ]
  },
  {
   "cell_type": "markdown",
   "metadata": {},
   "source": [
    "#### g) Построить критерий значимости $\\chi^2$ проверки сложной гипотезы согласия с нормальным распределением. Проверить гипотезу на уровне значимости $\\alpha_2$. Вычислить наибольшее значение уровня значимости, на котором еще нет оснований отвергнуть данную гипотезу."
   ]
  },
  {
   "cell_type": "markdown",
   "metadata": {},
   "source": [
    "Объединим интервалы, чтобы в каждом было не менее 5 элементов"
   ]
  },
  {
   "cell_type": "code",
   "execution_count": 380,
   "metadata": {},
   "outputs": [
    {
     "name": "stdout",
     "output_type": "stream",
     "text": [
      "I 0 = ( -inf -1.806 ] ; n 0 = 8\n",
      "I 1 = ( -1.806 -0.606 ] ; n 1 = 8\n",
      "I 2 = ( -0.606 1.794 ] ; n 2 = 13\n",
      "I 3 = ( 1.794 2.994 ] ; n 3 = 12\n",
      "I 4 = ( 2.994 inf ) ; n 4 = 9\n"
     ]
    }
   ],
   "source": [
    "new_I = [-np.inf, -1.806, -0.606, 1.794, 2.994, np.inf]\n",
    "new_freq = [8, 8, 13, 12, 9]\n",
    "for i in range(len(new_freq) - 1):\n",
    "    print(\"I\", i, \"= (\", new_I[i], new_I[i + 1], \"] ; n\", i, \"=\", new_freq[i])\n",
    "print(\n",
    "    \"I\",len(new_freq) - 1,\"= (\",new_I[len(new_freq) - 1],new_I[len(new_freq)],\") ; n\",\n",
    "    len(new_freq) - 1,\"=\",new_freq[len(new_freq) - 1],)"
   ]
  },
  {
   "cell_type": "code",
   "execution_count": 381,
   "metadata": {},
   "outputs": [
    {
     "name": "stdout",
     "output_type": "stream",
     "text": [
      "Параметр = [0.86427749 2.5479203 ]\n",
      "X^2 = 4.071960800935535\n",
      "x_alpha = 9.21034037197618\n",
      "X^2 < x_alpha, принимаем гипотизу H_0\n",
      "Гипотеза может быть принята, если уровень значимости не более: 0.1305524260813955\n"
     ]
    }
   ],
   "source": [
    "def sq_chi(par):\n",
    "    v = np.array(new_freq)\n",
    "    I_i = np.array(new_I[1:-1])\n",
    "    p = [scipy.stats.norm.cdf(I_i[0], par[0], par[1])]\n",
    "    for i in range(1, len(I_i)):\n",
    "        p.append(\n",
    "            scipy.stats.norm.cdf(I_i[i], par[0], par[1])\n",
    "            - scipy.stats.norm.cdf(I_i[i - 1], par[0], par[1])\n",
    "        )\n",
    "    p.append(1 - scipy.stats.norm.cdf(I_i[-1], par[0], par[1]))\n",
    "    p = np.array(p)\n",
    "    sq_chi = np.sum(((v - 50 * p) ** 2) / (50 * p))\n",
    "    return sq_chi\n",
    "\n",
    "result = scipy.optimize.minimize(sq_chi, (1, 3))\n",
    "res_sq_chi = result.fun\n",
    "print(\"Параметр =\", result.x)\n",
    "print(\"X^2 =\", res_sq_chi)\n",
    "x_alpha = scipy.stats.chi2(5 - 2 - 1).ppf(1 - second_alpha)\n",
    "print(\"x_alpha =\", x_alpha)\n",
    "if res_sq_chi < x_alpha:\n",
    "    print(\"X^2 < x_alpha, принимаем гипотизу H_0\")\n",
    "else:\n",
    "    print(\"X^2 > x_alpha, отвергаем гипотизу H_0\")\n",
    "print(\n",
    "    \"Гипотеза может быть принята, если уровень значимости не более:\",\n",
    "    1 - scipy.stats.chi2.cdf(res_sq_chi, 5 - 2 - 1),\n",
    ")"
   ]
  },
  {
   "cell_type": "markdown",
   "metadata": {},
   "source": [
    "#### h) Построить наиболее мощный критерий проверки простой гипотезы о нормальности с параметром $(a_0, \\sigma_0 ^2) $ при альтернативе нормальности с параметром $(a_1, \\sigma_1 ^2)$. Проверить гипотезу на уровне значимости $\\alpha_{2}$. Что получится, если поменять местами основную и альтернативную гипотезы? "
   ]
  },
  {
   "cell_type": "markdown",
   "metadata": {},
   "source": [
    "$ H_O : X \\sim  \\mathcal{N}(a_0, \\sigma_0^2), $\n",
    "\n",
    "$H_A : X \\sim  \\mathcal{N}(a_1, \\sigma_1^2)$\n",
    "\n",
    "Согласно лемме Неймана-Пирсона, наиболее мощный критерий уровня значимости $\\alpha_{1}$ проверки гипотезы $H_O$ при альтернативе $H_A$ имеет вид:\n",
    "\n",
    "$\\phi(\\overrightarrow X) = \\begin{cases}\n",
    "  0, LR(\\overrightarrow X) < C \\\\\n",
    "  p, LR(\\overrightarrow X) = C \\\\\n",
    "  1, LR(\\overrightarrow X) > C\n",
    "\\end{cases} $\n",
    "\n",
    "$LR(\\overrightarrow{X}, a_0, \\sigma_0^2, a_1 , \\sigma_1^2 ) = \\frac{L\\left( \\overrightarrow{X}, a_1 , \\sigma_1^2 \\right)}{L\\left( \\overrightarrow{X},a_0, \\sigma_0^2 \\right)} = \\frac{\\sigma_1^{-n} exp\\left(-\\sum_{i=1}^{n}\\frac{(x_i - a_1)^2}{2\\sigma_1^2}\\right)}{\\sigma_0^{-n} exp\\left(-\\sum_{i=1}^{n}\\frac{(x_i - a_0)^2}{2\\sigma_0^2}\\right)}$\n",
    "\n",
    "$ \\sigma_0^2 = \\sigma_1^2 = \\sigma^2 $\n",
    "\n",
    "$LR(\\overrightarrow{X},a_0, a_1 , \\sigma^2) = exp(\\frac{a_1 - a_0}{\\sigma^2} \\sum_{i=0}^{n}X_i + \\frac{n}{2 \\sigma^2 }(a_0^2 - a_1^2)) = exp(-\\frac{3}{9} \\sum_{i=0}^{n}X_i - \\frac{n}{18} \\cdot -3) $\n"
   ]
  },
  {
   "cell_type": "markdown",
   "metadata": {},
   "source": [
    "\n",
    "Наиболее мощный критерий:\n",
    "\n",
    "$\\phi(\\overrightarrow X) = \\begin{cases}\n",
    "  0, exp(-\\frac{1}{3} \\sum_{i=0}^{n}X_i + \\frac{n}{6}) < C \\\\\n",
    "  p, exp(-\\frac{1}{3} \\sum_{i=0}^{n}X_i + \\frac{n}{6})= C \\\\\n",
    "  1, exp(-\\frac{1}{3} \\sum_{i=0}^{n}X_i + \\frac{n}{6}) > C\n",
    "\\end{cases} $\n",
    "\n",
    "$T = \\sum_{i=0}^{n}X_i  - МДС $\n",
    "\n",
    "$ exp(-\\frac{1}{3} \\sum_{i=0}^{n}X_i + \\frac{n}{6}) > C $\n",
    "\n",
    "$ -\\frac{1}{3} \\sum_{i=0}^{n}X_i + \\frac{n}{6} > ln(C) $\n"
   ]
  },
  {
   "cell_type": "markdown",
   "metadata": {},
   "source": [
    "\n",
    "$ \\sum_{i=0}^{n}X_i < \\cfrac{ln(C) - \\frac{n}{6}}{-\\frac{1}{3}}$\n",
    "\n",
    "$ Пусть \\; C^* =  \\cfrac{ln(C) - \\frac{n}{6}}{-\\frac{1}{3}}$\n",
    "\n",
    "Критерий: \n",
    "\n",
    "$\\phi(\\overrightarrow X) = \\begin{cases}\n",
    "  0, \\sum_{i=0}^{n}X_i > C^* \\\\\n",
    "  p, \\sum_{i=0}^{n}X_i = C^* \\\\\n",
    "  1, \\sum_{i=0}^{n}X_i < C^*\n",
    "\\end{cases} $\n",
    "\n",
    "Найдём $C^*$ и p из уравнения:\n",
    "\n",
    "$P_{a_0, \\sigma_0^2}(\\sum_{i=0}^{n}X_i > C^*) + p P_{a_0, \\sigma_0^2}(\\sum_{i=0}^{n}X_i = C^*) = \\alpha_2$\n",
    "\n",
    "$ P_{a_0, \\sigma_0^2}(\\sum_{i=0}^{n}X_i < C^*) = P_{a_0, \\sigma_0^2}(\\sum_{i=0}^{n}X_i \\le C^*) =\\Phi_{na_0, n\\sigma_0^2} (x_\\alpha) > \\alpha_2$\n",
    "\n",
    "$ p = \\cfrac{\\alpha_2 - \\Phi_{na_0, n\\sigma_0^2} (x_\\alpha)}{\\Phi_{na_0, n\\sigma_0^2} (x_\\alpha) - \\Phi_{na_0, n\\sigma_0^2} (x_\\alpha - 1)}$"
   ]
  },
  {
   "cell_type": "code",
   "execution_count": 382,
   "metadata": {},
   "outputs": [
    {
     "name": "stdout",
     "output_type": "stream",
     "text": [
      "p = -58.489\n",
      "C = 196.747\n",
      "Sum = 50.435\n"
     ]
    }
   ],
   "source": [
    "c = -196.747\n",
    "n = second_table_size\n",
    "\n",
    "while True:\n",
    "    if scipy.stats.norm.cdf(c, n * null_a, n * null_sigma) > second_alpha:\n",
    "        break\n",
    "    c += 0.00001\n",
    "\n",
    "p = (second_alpha - scipy.stats.norm.cdf(c, n * null_a, n * null_sigma)) / (\n",
    "    scipy.stats.norm.cdf(c, n * null_a, n * null_sigma)\n",
    "    - scipy.stats.norm.cdf(c - 1, n * null_a, n * null_sigma)\n",
    ")\n",
    "print(\"p =\", np.round(p,3))\n",
    "print(\"C =\", -c)\n",
    "print(\"Sum =\",sum(second_variation_series))\n"
   ]
  },
  {
   "cell_type": "markdown",
   "metadata": {},
   "source": [
    "$\\sum_{i=1}^{n}X_{i} = 50.44 > C^* = -196.75$, значит отвергаем гипотезу $H_O$\n",
    "\n",
    "Критерий\n",
    " $\\phi(\\overrightarrow X) = \\begin{cases}\n",
    "  0, \\sum_{i=0}^{n}X_i <= -196.75\\\\\n",
    "  1, \\sum_{i=0}^{n}X_i > -196.75\n",
    "\\end{cases} $"
   ]
  },
  {
   "cell_type": "markdown",
   "metadata": {},
   "source": [
    "Поменяем местами основную гипотезу и альтернативную\n",
    "\n",
    "\n",
    "$ H_O : X \\sim  \\mathcal{N}(a_1, \\sigma_1^2), $\n",
    "\n",
    "$H_A : X \\sim  \\mathcal{N}(a_0, \\sigma_0^2)$\n",
    "\n",
    "Согласно лемме Неймана-Пирсона, наиболее мощный критерий уровня значимости $\\alpha_{1}$ проверки гипотезы $H_O$ при альтернативе $H_A$ имеет вид:\n",
    "\n",
    "$\\phi(\\overrightarrow X) = \\begin{cases}\n",
    "  0, LR(\\overrightarrow X) < C \\\\\n",
    "  p, LR(\\overrightarrow X) = C \\\\\n",
    "  1, LR(\\overrightarrow X) > C\n",
    "\\end{cases} $\n",
    "\n",
    "\n",
    "$LR(\\overrightarrow{X}, a_0, \\sigma_0^2, a_1 , \\sigma_1^2 ) = \\frac{L\\left( \\overrightarrow{X},a_0, \\sigma_0^2 \\right)}{L\\left( \\overrightarrow{X},a_1 , \\sigma_1^2 \\right)} = \\frac{\\sigma_0^{-n} exp\\left(-\\sum_{i=1}^{n}\\frac{(x_i - a_0)^2}{2\\sigma_0^2}\\right)}{\\sigma_1^{-n} exp\\left(-\\sum_{i=1}^{n}\\frac{(x_i - a_1)^2}{2\\sigma_1^2}\\right)}$\n",
    "\n",
    "$ \\sigma_0^2 = \\sigma_1^2 = \\sigma^2 $\n",
    "\n",
    "$LR(\\overrightarrow{X},a_0, a_1 , \\sigma^2) = exp(\\frac{a_0 - a_1}{\\sigma^2} \\sum_{i=0}^{n}X_i + \\frac{n}{2 \\sigma^2}(a_1^2 - a_0^2)) = exp(\\frac{3}{9} \\sum_{i=0}^{n}X_i - \\frac{n}{18} \\cdot 3) $\n",
    "\n"
   ]
  },
  {
   "cell_type": "markdown",
   "metadata": {},
   "source": [
    "\n",
    "Наиболее мощный критерий:\n",
    "\n",
    "$\\phi(\\overrightarrow X) = \\begin{cases}\n",
    "  0, exp(\\frac{1}{3} \\sum_{i=0}^{n}X_i - \\frac{n}{6}) < C \\\\\n",
    "  p, exp(\\frac{1}{3} \\sum_{i=0}^{n}X_i - \\frac{n}{6}) = C \\\\\n",
    "  1, exp(\\frac{1}{3} \\sum_{i=0}^{n}X_i - \\frac{n}{6}) > C\n",
    "\\end{cases} $\n",
    "\n",
    "$T = \\sum_{i=0}^{n}X_i - МДС $\n",
    "\n",
    "$exp(\\frac{1}{3} \\sum_{i=0}^{n}X_i - \\frac{n}{6}) > C $\n",
    "\n",
    "$ \\frac{1}{3} \\sum_{i=0}^{n}X_i - \\frac{n}{6}> ln(C) $\n",
    "\n",
    "$ \\sum_{i=0}^{n}X_i >  \\cfrac{ln(C) + \\frac{n}{6}}{\\frac{1}{3}}$\n",
    "\n",
    "$ Пусть \\; C^* = \\cfrac{ln(C) + \\frac{n}{6}}{\\frac{1}{3}}$\n",
    "\n",
    "\n",
    "Критерий: \n",
    "\n",
    "$\\phi(\\overrightarrow X) = \\begin{cases}\n",
    "  0, \\sum_{i=0}^{n}X_i < C^* \\\\\n",
    "  p, \\sum_{i=0}^{n}X_i = C^* \\\\\n",
    "  1, \\sum_{i=0}^{n}X_i > C^*\n",
    "\\end{cases} $\n",
    "\n",
    "Найдём $C^*$ и p из уравнения:\n",
    "\n",
    "$P_{ a_1, \\sigma_1^2}(\\sum_{i=0}^{n}X_i > C^*) + p P_{ a_1, \\sigma_1^2}(\\sum_{i=0}^{n}X_i = C^*) = \\alpha_2$\n",
    "\n",
    "$P_{ a_1, \\sigma_1^2}(\\sum_{i=0}^{n}X_i > C^*) = 1 - P_{ a_1, \\sigma_1^2}(\\sum_{i=0}^{n}X_i \\le C^*) = 1- \\Phi_{na_1, n\\sigma_1^2} (x_\\alpha) $\n",
    "\n",
    "$1 - \\Phi_{na_1, n\\sigma_1^2} (x_\\alpha) < \\alpha_2  $\n",
    "\n",
    "$ p = \\cfrac{\\alpha_2 - 1 + \\Phi_{na_1, n\\sigma_1^2} (x_\\alpha)}{\\Phi_{na_1, n\\sigma_1^2} (x_\\alpha) - \\Phi_{na_1, n\\sigma_1^2} (x_\\alpha - 1)}$"
   ]
  },
  {
   "cell_type": "code",
   "execution_count": 383,
   "metadata": {},
   "outputs": [
    {
     "name": "stdout",
     "output_type": "stream",
     "text": [
      "p =  0.047\n",
      "C = 248.9999999999999\n"
     ]
    }
   ],
   "source": [
    "c = 247\n",
    "n = second_table_size\n",
    "while True:\n",
    "    if 1 - scipy.stats.norm.cdf(c, n * first_a, n * first_sigma) < second_alpha:\n",
    "        break\n",
    "    c += 0.1\n",
    "\n",
    "p = (second_alpha - 1 + scipy.stats.norm.cdf(c, n * first_a, n * first_sigma)) / (\n",
    "    scipy.stats.norm.cdf(c, n * first_a, n * first_sigma)\n",
    "    - scipy.stats.norm.cdf(c - 1, n * first_a, n * first_sigma)\n",
    ")\n",
    "print(\"p = \", round(p, 3))\n",
    "print(\"C =\", c)"
   ]
  },
  {
   "cell_type": "markdown",
   "metadata": {},
   "source": [
    "$\\sum_{i=1}^{n}X_{i} = 50.435 < C^* = 249$, значит принимаем гипотезу $H_0$\n",
    "\n",
    "Критерий\n",
    " $\\phi(\\overrightarrow X) = \\begin{cases}\n",
    "  0, \\sum_{i=0}^{n}X_i < 249 \\\\\n",
    "  0.047, \\sum_{i=0}^{n}X_i = 249 \\\\\n",
    "  1, \\sum_{i=0}^{n}X_i > 249\n",
    "\\end{cases} $"
   ]
  },
  {
   "cell_type": "markdown",
   "metadata": {},
   "source": [
    "#### i) В пунктах (c)-(g) заменить семейство нормальных распределений на двухпараметрическое семейство распредленией Лапласа с плотностями $\\mathbb{p}_{a, \\sigma}=\\frac{1}{ \\sqrt{2}\\sigma} exp(-\\frac{\\sqrt{2}}{\\sigma} |x-a|) $"
   ]
  },
  {
   "cell_type": "code",
   "execution_count": 384,
   "metadata": {},
   "outputs": [],
   "source": [
    "null_sigma = null_sigma / np.sqrt(2)"
   ]
  },
  {
   "cell_type": "markdown",
   "metadata": {},
   "source": [
    "##### i.c)  В предположении, что исходные наблюдения являются выборкой из двухпараметрического семейства распределений Лапласа, построить ОМП и ОММ параметров $(a, \\sigma)$. Найти смещение оценок."
   ]
  },
  {
   "cell_type": "markdown",
   "metadata": {},
   "source": [
    "ОМП:\n",
    "\n",
    "$\\mathbb{p}_{a, \\sigma^2}=\\frac{1}{\\sigma \\sqrt{2}} exp(-\\frac{\\sqrt{2}}{\\sigma} |x-a|)$\n",
    "\n",
    "$L(\\overrightarrow{X}, a, \\sigma^2) = \\prod_{i=1}^{n} \\frac{1}{\\sigma \\sqrt{2}} exp(-\\frac{\\sqrt{2}}{\\sigma} |x-a|)$\n",
    "\n",
    "$LL(\\overrightarrow{X}, a, \\sigma^2) = -\\frac{n}{2}len(2) - nln(\\sigma) -\\frac{\\sqrt{2}}{\\sigma} \\sum_{i=1}^{n} |x_i-a|$\n",
    "\n",
    "$ \\cfrac{dLL(\\overrightarrow{X}, a, \\sigma^2)}{d\\sigma} = -\\cfrac{n}{\\sigma} + \\frac{\\sqrt{2}}{\\sigma^2} \\sum_{i=1}^{n} |x_i-a|$\n",
    "\n",
    "$-\\cfrac{n}{\\sigma} + \\frac{\\sqrt{2}}{\\sigma^2} \\sum_{i=1}^{n} |x_i-a| = 0$\n",
    "\n",
    "$\\widehat \\sigma = \\sqrt{2} \\cfrac{\\sum_{i=1}^{n} |x_i-a|}{n} $\n",
    "\n",
    "$ \\cfrac{dLL(\\overrightarrow{X}, a, \\sigma^2)}{da} = -\\frac{\\sqrt{2}}{\\sigma} \\sum_{i=1}^{n} sgn(X_{(i)} - a)$\n",
    "\n",
    "$-\\frac{\\sqrt{2}}{\\sigma} \\sum_{i=1}^{n} sgn(X_{(i)} - a) = 0$\n",
    "\n",
    "$ \\widehat{a} = Z_{n, 0.5} = 1.129$\n",
    "\n",
    "$\\widehat \\sigma = \\sqrt{2} \\cfrac{\\sum_{i=1}^{n} |x_i- Z_{n, 0.5}|}{n} = 13.775$\n"
   ]
  },
  {
   "cell_type": "markdown",
   "metadata": {},
   "source": [
    "ОММ:\n",
    "\n",
    "$ EX_1 = \\frac{1}{\\sigma \\sqrt{2}} \\int_{R} x \\exp(-\\frac{\\sqrt{2}}{\\sigma} |x-a|) dx = a, \\quad M_1 = \\bar X$ \n",
    "\n",
    "$ EX_1^2 = \\frac{1}{\\sigma \\sqrt{2}} \\int_{ R} x^2 \\exp(-\\frac{\\sqrt{2}}{\\sigma} |x-a|) dx = \\sigma^2 + a^2, \\quad M_1 = \\bar {X^2}$\n",
    "\n",
    "$\n",
    "\\begin{cases}\n",
    "  \\widehat a = \\bar X \\\\\n",
    "  \\widehat {\\sigma^2} = S^2\n",
    "\\end{cases} $\n",
    "\n",
    "$\n",
    "\\begin{cases}\n",
    "  \\widehat a = \\bar X \\\\\n",
    "  \\widehat {\\sigma} = S\n",
    "\\end{cases} $\n",
    "\n",
    "НРМД:\n",
    "\n",
    "$E_\\theta \\bar X = \\cfrac{1}{n} E \\sum_{i=1}^{n} X_i = \\cfrac{1}{n}\\sum_{i=1}^{n} E X_i = a = 1.0087$\n",
    "\n",
    "$E_\\theta S^2 = \\cfrac{1}{n} E \\sum_{i=1}^{n} {(X_i - \\bar X)^2} = \\cfrac{n-1}{n} \\cdot \\sigma^2$\n",
    "\n",
    "$E_\\theta S = \\sqrt{\\cfrac{n-1}{n}} \\cdot \\sigma $ - cмещённая оценка\n",
    "\n",
    "Несмещённая оценка:\n",
    "\n",
    "$ (S') = \\sqrt{\\cfrac{n}{n-1}} \\cdot S = 3.03 $ - несмещённая оценка\n",
    "\n"
   ]
  },
  {
   "cell_type": "code",
   "execution_count": 385,
   "metadata": {},
   "outputs": [
    {
     "name": "stdout",
     "output_type": "stream",
     "text": [
      "3.3060636133020798\n"
     ]
    }
   ],
   "source": [
    "res = (2 ** (0.5) * np.sum(np.abs(second_variation_series - median))) / (n)\n",
    "\n",
    "print(res)"
   ]
  },
  {
   "cell_type": "markdown",
   "metadata": {},
   "source": [
    "##### i.d) Построить доверительный интервал уровня значимости $\\alpha_2$ для параметров $(a, \\sigma)$."
   ]
  },
  {
   "cell_type": "markdown",
   "metadata": {},
   "source": [
    "ДИ для $a$: \n",
    "\n",
    "$ G(\\vec{X}, a) = \\sqrt{n - 1} \\frac{\\bar{X} - a}{S} \\sim S_{n - 1} $\n",
    "\n",
    "$ \\mathbb{P}_a \\left( \\sqrt{n - 1} \\frac{\\bar{X} - a}{S} \\in [-x_{\\alpha_2}, x_{\\alpha_2}] \\right) = 1 - \\alpha_2 $\n",
    "\n",
    "$ x_{\\alpha_2} : S_{n - 1}(x_\\alpha) = 1 - \\frac{\\alpha_2}{2}$\n",
    "\n",
    "$ \\left[\\bar{X} - \\frac{x_\\alpha S}{\\sqrt{n - 1}}; \\bar{X} + \\frac{x_\\alpha S}{\\sqrt{n - 1}}\\right] \\ni a $\n",
    "\n",
    "\n",
    "ДИ для $\\sigma$\n",
    "\n",
    "$ G(\\vec{X}, \\sigma^2) = \\frac{nS^2}{\\sigma^2} \\sim \\chi^2_{n - 1}$\n",
    "\n",
    "$ \\mathbb{P}_{\\sigma^2} \\left( \\frac{nS^2}{\\sigma^2} \\in [x_{1_{\\alpha_2}}; x_{2_{\\alpha_2}}] \\right) = 1 - \\alpha_2 $\n",
    "\n",
    "$ x_{1\\alpha_2} : \\mathcal{K}_{n - 1}(x_{1\\alpha_2}) =\\frac{\\alpha_2}{2}$\n",
    "\n",
    "$ x_{2\\alpha_2} : \\mathcal{K}_{n - 1}(x_{2\\alpha_2}) = 1 - \\frac{\\alpha_2}{2}$\n",
    "\n",
    "$  \\left[  \\frac{n S^2}{x_{2\\alpha_2}}; \\frac{n S^2}{x_{1\\alpha_2}} \\right]  \\ni \\sigma^2 $\n",
    "\n",
    "$  \\left[  \\sqrt{\\frac{n S^2}{x_{2\\alpha_2}}}; \\sqrt{\\frac{n S^2}{x_{1\\alpha_2}}} \\right]  \\ni \\sigma $\n",
    "\n"
   ]
  },
  {
   "cell_type": "code",
   "execution_count": 386,
   "metadata": {},
   "outputs": [
    {
     "name": "stdout",
     "output_type": "stream",
     "text": [
      "Доверительный интервал для a уровня доверия  0.99 :\n",
      "[ -0.1397117153655556 , 2.1571117153655557 ]\n",
      "Доверительный интервал для sigma уровня доверия  0.99 :\n",
      "[ 2.398087440512657 , 4.0632690389668875 ]\n"
     ]
    }
   ],
   "source": [
    "def find_interval_sigma_sqrt(x_alpha1, x_alpha2, S_sq):\n",
    "    print(\"Доверительный интервал для sigma уровня доверия \", 1 - second_alpha, \":\")\n",
    "    print(\n",
    "        \"[\",\n",
    "        np.sqrt((second_table_size * S_sq) / x_alpha2),\n",
    "        \",\",\n",
    "        np.sqrt((second_table_size * S_sq) / x_alpha1),\n",
    "        \"]\",\n",
    "    )\n",
    "    \n",
    "x_alpha = scipy.stats.t(50 - 1).ppf(1 - second_alpha/2)\n",
    "x_alpha1 = scipy.stats.chi2(50 - 1).ppf(second_alpha/2)\n",
    "x_alpha2 = scipy.stats.chi2(50 - 1).ppf(1 - second_alpha/2)\n",
    "find_interval_a(mean,x_alpha,S_sq)\n",
    "find_interval_sigma_sqrt(x_alpha1,x_alpha2,S_sq)"
   ]
  },
  {
   "cell_type": "markdown",
   "metadata": {},
   "source": [
    "##### i.e) С использованием теоремы Колмогорова построить критерий значимости проверки простой гипотезы согласия из двухпараметрического семейства распредлений Лапласа с параметрами $(a_0, \\sigma_0)$. Проверить гипотезу на уровне значимости $\\alpha_2$. Вычислить наибольшее значения уровня значимости, на котором ещё нет оснований отвергнуть гипотезу."
   ]
  },
  {
   "cell_type": "markdown",
   "metadata": {},
   "source": [
    "$ H_0 : (a, \\sigma) = (a_0, \\sigma_0)$\n",
    "\n",
    "$H_A : (a_, \\sigma) \\ne  (a_0, \\sigma_0 )$\n",
    "\n",
    "По теореме Колмогорова, при основной гипотезе$\n",
    "\n",
    "$D_n = max|F_n(y) - F(y)| $\n",
    "\n",
    "$ P(\\sqrt{n} D_n < x_{\\alpha_2}) \\sim  K(x_{\\alpha_2})$\n",
    "\n",
    "$ K(x_{\\alpha_2}) = 1 - \\alpha_2$"
   ]
  },
  {
   "cell_type": "code",
   "execution_count": 387,
   "metadata": {},
   "outputs": [
    {
     "name": "stdout",
     "output_type": "stream",
     "text": [
      "x_alpha: 0.2106765432666897\n",
      "sqrt(n) * Dn = 0.3712371041194787\n",
      "Основная гипотеза отвергается.\n",
      "Гипотеза может быть принята, если уровень значимости не более: 0.9285201069019325\n"
     ]
    }
   ],
   "source": [
    "\n",
    "x_alpha = scipy.stats.ksone(50).ppf(1 - second_alpha)\n",
    "print(\"x_alpha:\", x_alpha)\n",
    "\n",
    "x = np.arange(1, second_table_size + 1) / second_table_size\n",
    "Fo = scipy.stats.laplace.cdf(x, loc=null_a, scale=null_sigma)\n",
    "\n",
    "def F(array_xi, variation_series):\n",
    "    Fn = []\n",
    "    for x in array_xi:\n",
    "        count = 0\n",
    "        for xi in variation_series:\n",
    "            if xi < x:\n",
    "                count += 1\n",
    "        Fn.append(count / 50)\n",
    "    return np.array(Fn)\n",
    "\n",
    "Fn = F(x, second_variation_series)\n",
    "delta = max(np.abs( Fn - Fo))\n",
    "print(\"sqrt(n) * Dn =\",delta * np.sqrt(second_table_size))\n",
    "if (delta * np.sqrt(second_table_size)) < x_alpha:\n",
    "    print(\"Основная гипотеза принимается.\")\n",
    "else:\n",
    "    print(\"Основная гипотеза отвергается.\")\n",
    "\n",
    "a_max = 1 - scipy.stats.ksone(50).ppf(0.427)\n",
    "print(\"Гипотеза может быть принята, если уровень значимости не более:\", a_max)"
   ]
  },
  {
   "cell_type": "markdown",
   "metadata": {},
   "source": [
    "##### i.f) Используя гистограмму частот, построить критерий значимости $\\mathcal{X^{2}}$ проверки простой гипотезы согласия из двухпараметрического семейства распредлений Лапласа с параметрами $(a_0, \\sigma_0)$. Проверить гипотезу на уровень значимости $\\alpha_2$. Вычислить наибольшее значение уровня значимости, на котором ещё нет оснований отвергнуть данную гипотезу."
   ]
  },
  {
   "cell_type": "code",
   "execution_count": 388,
   "metadata": {},
   "outputs": [
    {
     "name": "stdout",
     "output_type": "stream",
     "text": [
      "I 0 = ( -inf -5.406 ] ; n 0 = 2\n",
      "I 1 = ( -5.406 -4.206 ] ; n 1 = 0\n",
      "I 2 = ( -4.206 -3.006 ] ; n 2 = 1\n",
      "I 3 = ( -3.006 -1.806 ] ; n 3 = 5\n",
      "I 4 = ( -1.806 -0.606 ] ; n 4 = 8\n",
      "I 5 = ( -0.606 0.594 ] ; n 5 = 4\n",
      "I 6 = ( 0.594 1.794 ] ; n 6 = 9\n",
      "I 7 = ( 1.794 2.994 ] ; n 7 = 12\n",
      "I 8 = ( 2.994 4.194 ] ; n 8 = 4\n",
      "I 9 = ( 4.194 5.394 ] ; n 9 = 0\n",
      "I 10 = ( 5.394 6.594 ] ; n 10 = 3\n",
      "I 11 = ( 6.594 7.794 ] ; n 11 = 1\n",
      "I 12 = ( 7.794 inf ) ; n 12 = 1\n"
     ]
    }
   ],
   "source": [
    "for i in range(len(freq) - 1):\n",
    "    print(\"I\", i, \"= (\", I[i], I[i + 1], \"] ; n\", i, \"=\", freq[i])\n",
    "print(\n",
    "    \"I\",len(freq) - 1,\"= (\",I[len(freq) - 1],I[len(freq)],\") ; n\",\n",
    "    len(freq) - 1,\"=\",freq[len(freq) - 1],)\n"
   ]
  },
  {
   "cell_type": "markdown",
   "metadata": {},
   "source": [
    "$H_0 : (a_, \\sigma) =  (a_0, \\sigma_0 )$\n",
    "\n",
    "$H_A : (a_, \\sigma) \\ne (a_0, \\sigma_0 )$\n"
   ]
  },
  {
   "cell_type": "code",
   "execution_count": 389,
   "metadata": {},
   "outputs": [
    {
     "name": "stdout",
     "output_type": "stream",
     "text": [
      "X^2 = 15.734051735777065\n",
      "x_alpha = 24.724970311318277\n",
      "X^2 < x_alpha, принимаем гипотизу H_0\n",
      "Гипотеза может быть принята, если уровень значимости не более: 0.1512948054733495\n"
     ]
    }
   ],
   "source": [
    "Ii = np.array(I[1:-1])\n",
    "n = len (Ii)\n",
    "p = np.zeros(n + 1)\n",
    "\n",
    "p[0] = scipy.stats.laplace.cdf(Ii[0],null_a,null_sigma)\n",
    "for i in range(1, n):\n",
    "    p[i] = scipy.stats.laplace.cdf(Ii[i],null_a,null_sigma) - scipy.stats.laplace.cdf(Ii[i - 1],null_a,null_sigma)\n",
    "\n",
    "p[n] = 1 - scipy.stats.laplace.cdf(Ii[-1],null_a,null_sigma)\n",
    "\n",
    "v = np.array(freq)\n",
    "chi_sq = np.sum(((v - 50 * p) ** 2) / (50 * p))\n",
    "print(\"X^2 =\", chi_sq)\n",
    "x_alpha = scipy.stats.chi2(n-1).ppf(1 - second_alpha)\n",
    "print(\"x_alpha =\", x_alpha)\n",
    "\n",
    "if chi_sq < x_alpha:\n",
    "    print(\"X^2 < x_alpha, принимаем гипотизу H_0\")\n",
    "else:\n",
    "    print(\"X^2 > x_alpha, отвергаем гипотизу H_0\")\n",
    "a_max = 1 - scipy.stats.chi2.cdf(chi_sq, n-1)\n",
    "print(\"Гипотеза может быть принята, если уровень значимости не более:\", a_max)"
   ]
  },
  {
   "cell_type": "markdown",
   "metadata": {},
   "source": [
    "##### i.g) Построить критерий значимости $\\chi^2$ проверки сложной гипотезы согласия из двухпараметрического семейства распредлений Лапласа. Проверить гипотезу на уровне значимости $\\alpha_2$. Вычислить наибольшее значение уровня значимости, на котором еще нет оснований отвергнуть данную гипотезу."
   ]
  },
  {
   "cell_type": "code",
   "execution_count": 390,
   "metadata": {},
   "outputs": [
    {
     "name": "stdout",
     "output_type": "stream",
     "text": [
      "I 0 = ( -inf -1.806 ] ; n 0 = 8\n",
      "I 1 = ( -1.806 -0.606 ] ; n 1 = 8\n",
      "I 2 = ( -0.606 1.794 ] ; n 2 = 13\n",
      "I 3 = ( 1.794 2.994 ] ; n 3 = 12\n",
      "I 4 = ( 2.994 inf ) ; n 4 = 9\n"
     ]
    }
   ],
   "source": [
    "new_I = [-np.inf, -1.806, -0.606, 1.794, 2.994, np.inf]\n",
    "new_freq = [8, 8, 13, 12, 9]\n",
    "for i in range(len(new_freq) - 1):\n",
    "    print(\"I\", i, \"= (\", new_I[i], new_I[i + 1], \"] ; n\", i, \"=\", new_freq[i])\n",
    "print(\n",
    "    \"I\",len(new_freq) - 1,\"= (\",new_I[len(new_freq) - 1],new_I[len(new_freq)],\") ; n\",\n",
    "    len(new_freq) - 1,\"=\",new_freq[len(new_freq) - 1],)"
   ]
  },
  {
   "cell_type": "code",
   "execution_count": 391,
   "metadata": {},
   "outputs": [
    {
     "name": "stdout",
     "output_type": "stream",
     "text": [
      "Параметр = [1.16361961 2.38122439]\n",
      "X^2 = 7.386036846543766\n",
      "x_alpha = 9.21034037197618\n",
      "X^2 < x_alpha, принимаем гипотизу H_0\n",
      "Гипотеза может быть принята, если уровень значимости не более: 0.02489673961424066\n"
     ]
    }
   ],
   "source": [
    "def sq_chi(par):\n",
    "    v = np.array(new_freq)\n",
    "    I_i = np.array(new_I[1:-1])\n",
    "    p = [scipy.stats.laplace.cdf(I_i[0], par[0], par[1])]\n",
    "    for i in range(1, len(I_i)):\n",
    "        p.append(\n",
    "            scipy.stats.laplace.cdf(I_i[i], par[0], par[1])\n",
    "            - scipy.stats.laplace.cdf(I_i[i - 1], par[0], par[1])\n",
    "        )\n",
    "    p.append(1 - scipy.stats.laplace.cdf(I_i[-1], par[0], par[1]))\n",
    "    p = np.array(p)\n",
    "    sq_chi = np.sum(((v - 50 * p) ** 2) / (50 * p))\n",
    "    return sq_chi\n",
    "\n",
    "result = scipy.optimize.minimize(sq_chi, (1, 3))\n",
    "res_sq_chi = result.fun\n",
    "print(\"Параметр =\", result.x)\n",
    "print(\"X^2 =\", res_sq_chi)\n",
    "x_alpha = scipy.stats.chi2(5 - 2 - 1).ppf(1 - second_alpha)\n",
    "print(\"x_alpha =\", x_alpha)\n",
    "if res_sq_chi < x_alpha:\n",
    "    print(\"X^2 < x_alpha, принимаем гипотизу H_0\")\n",
    "else:\n",
    "    print(\"X^2 > x_alpha, отвергаем гипотизу H_0\")\n",
    "print(\n",
    "    \"Гипотеза может быть принята, если уровень значимости не более:\",\n",
    "    1 - scipy.stats.chi2.cdf(res_sq_chi, 5 - 2 - 1),\n",
    ")"
   ]
  },
  {
   "cell_type": "markdown",
   "metadata": {},
   "source": [
    "## Выводы\n",
    "\n",
    "В ходе выполнения практических заданий были освоены и применены различные методы статистического анализа, оценки параметров распределений, а также способы проверки гипотез. Полученные навыки позволили проводить анализ данных и делать выводы о их соответствии определенным распределениям с использованием вычислительных инструментов.\n",
    "\n",
    "Изучено применение выборочных числовых характеристик, таких как математическое ожидание, дисперсия, коэффициент асимметрии и эксцесса. Получены навыки работы с оценкой максимального правдоподобия (ОМП) и оценкой метода моментов (ОММ).\n",
    "Также изучены асимптотические доверительные интервалы, основанные на асимптотической нормальности оценок и информации Фишера. \n",
    "\n",
    "Рассмотрены критерии Хи-квадрат для проверки гипотез о распределении данных. Ознакомление с теоремой Колмогорова предоставило возможность использования метода проверки гипотезы о совпадении эмпирической и теоретической функций распределения. \n",
    "\n",
    "В результате работы также усвоены принципы построения наиболее мощного критерия для простых гипотез на основе статистики отношения правдоподобия."
   ]
  }
 ],
 "metadata": {
  "kernelspec": {
   "display_name": "Python 3",
   "language": "python",
   "name": "python3"
  },
  "language_info": {
   "codemirror_mode": {
    "name": "ipython",
    "version": 3
   },
   "file_extension": ".py",
   "mimetype": "text/x-python",
   "name": "python",
   "nbconvert_exporter": "python",
   "pygments_lexer": "ipython3",
   "version": "3.9.13"
  }
 },
 "nbformat": 4,
 "nbformat_minor": 2
}
