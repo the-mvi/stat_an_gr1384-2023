{
  "cells": [
    {
      "cell_type": "markdown",
      "metadata": {
        "id": "aa8m607vPC1e"
      },
      "source": [
        "# Лабораторная работа №2: Классические методы математической статистики\n",
        "Выполнил студент гр. 1384 Прошичев Александр. Вариант №12"
      ]
    },
    {
      "cell_type": "markdown",
      "metadata": {
        "id": "m3Ent_AZPC1k"
      },
      "source": [
        "## Цель работы\n",
        "Цель:\\\n",
        "Научится применять методы математической статистики для визуализации и анализа полученных данных. Сформировать навыки реализации методов с помощью прикладных программных пакетов."
      ]
    },
    {
      "cell_type": "markdown",
      "metadata": {
        "id": "RV_LhBMRPC1m"
      },
      "source": [
        "## Основные теоретические положения\n",
        "\n",
        "\n",
        "\n",
        "---\n",
        "\n",
        "###Выборочные числовые характеристики:\n",
        "\n",
        "\n",
        "Математическое ожидание\\\n",
        " $\\bar{X}=\\frac{1}{n}\\sum_{i=1}^{n}X_{i}$\n",
        "\n",
        "Дисперсия\\\n",
        " $S^{2}=\\frac{1}{n}\\sum_{i=1}^{n}\\left( X_{i}-\\overline{X} \\right)^{2}=\\overline{X^{2}}-\\overline{X}^{2}$\n",
        "\n",
        "Коэффициент асимметрии\\\n",
        " $\\widehat{ASI}= \\displaystyle \\frac{\\left(\\frac{1}{n}\\sum_{i=1}^{n}\\left( X_{i}-\\overline{X} \\right)^{3} \\right)}{S^{3}}$\n",
        "\n",
        "Коэффициент эксцесса\\\n",
        " $\\widehat{EXC}= \\displaystyle \\frac{\\frac{1}{n}\\sum_{i=1}^{n}\\left( X_{i}-\\overline{X}^{4} \\right)}{S^{4}}-3$\n",
        "\n",
        "\n",
        "\n",
        "---\n",
        "\n",
        "\n",
        "\n",
        "###Оценка Максимального Правдоподобия (ОМП):\n",
        "\n",
        "Если $X_{1},...,X_{n}$-выборка из распределения с плотностью распределения $p_{\\theta}, \\theta\\in \\Theta$, то функция правдоподобия $L(\\vec{X},\\theta)= \\displaystyle \\prod_{i=1}^{n}p_{\\theta}(X_{i}).\\ $ Логарифм функции правдоподобия представляется в виде $LL(\\vec{X},\\theta)=\\ln L(\\vec{X},\\theta)$.\n",
        "В силу монотонности логарифма задача максимизации функции правдоподобия сводится к задаче максимизации ее логарифма по всем параметрам $\\theta\\in \\Theta$\n",
        "\n",
        "Если $\\theta$ - d-мерный параметр и $P_{\\theta}$ дифференцируема по $\\theta$, то для нахождения максимума надо найти решения системы уравнений: $\\frac{\\partial }{\\partial \\theta}LL(\\vec{X},\\theta)=0, i=1...d$\n",
        "\n",
        "\n",
        "---\n",
        "\n",
        "\n",
        "###Оценка метода моментов (ОММ)\n",
        "\n",
        "Пусть $X_{1}...X_{n}$-выбока из распределения $P_{\\theta}, \\theta=(\\theta_{1},...,\\theta_{d})$\n",
        "\n",
        "$\\exists \\mu_{k}(\\theta)=\\mathbb{E}X^{k}_{1}, k=1...d$\n",
        "\n",
        "Если существуется единственное решение $\\widetilde{\\theta}(X)$ системы уравнений: $\\widehat{\\mu^{k}}(\\widetilde{\\theta})=\\mu_{k}(\\theta), k=1...d$, где $\\widetilde{\\theta}(X)=\\frac{1}{n}\\sum_{i=1}^{n}X^{k}_{i}$-выборочный момент k-го порядка, то $\\widetilde{\\theta}(X)$ называется оценкой по методу моментов\n",
        "\n",
        "\n",
        "\n",
        "---\n",
        "\n",
        "\n",
        "###Асимптотический доверительный интервал\n",
        "\n",
        "На базе Асимптотической нормальности оценки $\\widehat{\\theta}$\n",
        "\n",
        "Асимптотическая нормальность $\\displaystyle \\sqrt{n}\\left( \\widehat{\\theta}(\\vec{X})-\\theta)\\right)\\sim \\mathcal{N}\\left(0,\\sigma^{2}(\\theta)\\right)$\n",
        "\n",
        "Тогда $\\displaystyle \\sqrt{n}\\frac{\\widehat{\\theta}(\\vec{X})-\\theta}{\\sigma\\left(\\widehat{\\theta}(\\vec{X})\\right)}$    \n",
        "\n",
        "Выбираем $\\displaystyle X_{\\alpha}: \\Phi(X_{\\alpha})=1-\\frac{\\alpha}{2}$\n",
        "\n",
        "Асимптотический доверительный интервал  $\\displaystyle \\left[ \\widehat{\\theta}(\\vec{X})-\\frac{X_{\\alpha}\\cdot \\sigma\\left( \\widehat{\\theta}(\\vec{X}) \\right)}{\\sqrt{n}}; \\widehat{\\theta}(\\vec{X})+\\frac{X_{\\alpha}\\cdot \\sigma\\left( \\widehat{\\theta}(\\vec{X}) \\right)}{\\sqrt{n}}\\right]$\n",
        "\n",
        "На базе ОМП. Пусть $\\widehat{\\theta}(\\vec{X})$-ОМП\n",
        "\n",
        "При выполнении опр.условий регулярности: $\\sqrt{n}\\left( \\widehat{\\theta}(\\vec{X})-\\theta)\\right)\\sim \\mathcal{N}\\left(0,\\frac{1}{I(\\theta)}\\right), I(\\theta)=-\\mathbb{E}\\left( \\frac{\\partial^{2} LL}{\\partial \\theta^{2}} \\right)$-информация Фишера\n",
        "\n",
        "Тогда $\\sqrt{n\\cdot I\\left( \\widehat{\\theta}(\\vec{X}) \\right)}\\cdot \\left( \\widehat{\\theta}(\\vec{X})-\\theta \\right)\\sim \\mathcal{N}(0,1)$\n",
        "\n",
        "Выбираем $X_{\\alpha}: \\Phi(X_{\\alpha})=1-\\frac{\\alpha}{2}$\n",
        "\n",
        "Асимптотический доверительный интервал  $\\left[ \\widehat{\\theta}(\\vec{X})-\\frac{X_{\\alpha}}{\\sqrt{n\\cdot I\\left( \\widehat{\\theta}(\\vec{X}) \\right)}};\\widehat{\\theta}(\\vec{X})+\\frac{X_{\\alpha}}{\\sqrt{n\\cdot I\\left( \\widehat{\\theta}(\\vec{X}) \\right)}} \\right]$\n",
        "\n",
        "\n",
        "\n",
        "---\n",
        "\n",
        "\n",
        "\n",
        "###Критерий $\\chi^2$ для проверки гипотез\n",
        "\n",
        "Основан на справнении теоритической плотности распределения и гистограммы, либо теоритической вероятностной меры и полигона частот.\n",
        "\n",
        "Разобъем множество значений сл. вел. X на $N$ интервалов $I_{1}...I_{N}:$ $I_{i} = (a_{i-1}, a_i], i = 1...N$. данные интервалы не пересекаются и покрывают всё множество возможных значений сл. вел. X.\n",
        "\n",
        "Обозначим через $p_{i}$ теоритическую вероятность попадания случайной величины X в интервал $I_{i}$, при условии, что справедлива $H_{0}$.\n",
        "\n",
        "$p_{i} = P(X \\in I_{i}|H_{0})$\n",
        "\n",
        "Через $n_{i}$ обозначим число наблюдений нашей выборки, попавших в соответветствующий интервал $I_{i}$.\n",
        "\n",
        "$n_{i} = \\nu(x_{j} \\in I_{i})$\n",
        "\n",
        "Статистика критерия основана на сравнении относительной частоты и теоритической.\n",
        "\n",
        "$\\chi^{2} = \\sum \\limits_{i=1}^{N} \\frac{n}{p_{i}} \\bigg ( \\frac{n_{i}}{n} - p_{i} \\bigg )^{2} = \\sum \\limits_{i=1}^{N} \\frac{(n_{i} - p_{i} n)^{2}}{n p_{i}} \\sim \\chi^{2}_{N-1}$\n",
        "\n",
        "6. Теорема Колмогорова\n",
        "\n",
        "$D_{n}(\\vec{X}) = \\overset{}{\\underset{X \\in \\mathbb R}{sup}} |F_{0}(X_{i}) - F_{n}(X_{i})|$\n",
        "\n",
        "Если гипотеза $H_{0}$ верна, и $F_{0}(X)$ - непрерывная ф-я на $\\mathbb R$, тогда имеет место сходимость\n",
        "\n",
        "$P(\\sqrt{n} D_{n}(\\vec{X}) < z) \\xrightarrow[n \\rightarrow \\infty]{} K(z)$, где\n",
        "\n",
        "$K(z)=1-\\alpha$ - ф-я распределения Колмогорова.\n",
        "\n",
        "Если $D_{n} \\lt z$, то гипотезу принимаем.\n",
        "\n",
        "Если $D_{n} \\gt z$, то гипотезу отвергаем.\n",
        "\n",
        "\n",
        "\n",
        "---\n",
        "\n",
        "\n",
        "\n",
        "###Наиболее мощный критерий простой гипотезы.\n",
        "\n",
        "Для основной гипотезы $H_{0}: \\theta=\\theta_{0}$ и альтернативной гипотезы $H_{1}: \\theta=\\theta_{1}$, где $\\theta_{0}$ и $\\theta_{1}$ - фиксированные параметры, мы можем построить статистику правдоподобия:\n",
        "\n",
        "$LR(\\vec{X},\\theta_{1},\\theta_{0})=\\frac{L(\\vec{X},\\theta_{1})}{L(\\vec{X},\\theta_{0})} $- статистика отношений правдоподобия\n",
        "\n",
        "где $L(\\vec{X},\\theta_{1})$ - функция правдоподобия для альтернативной гипотезы, а $L(\\vec{X}\\theta_{0})$ - функция правдоподобия для основной гипотезы.\n",
        "\n",
        "Наиболее мощный критерий:\n",
        "\n",
        "$\\phi(\\vec X) = \\begin{cases}\n",
        "  0, LR(\\vec{X},\\theta_{1},\\theta_{0}) < C \\\\\n",
        "  p, LR(\\vec{X},\\theta_{1},\\theta_{0}) = C \\\\\n",
        "  1, LR(\\vec{X},\\theta_{1},\\theta_{0}) > C\n",
        "\\end{cases} $\n",
        "\n",
        "\n",
        "\n",
        "---\n",
        "\n"
      ]
    },
    {
      "cell_type": "markdown",
      "metadata": {
        "id": "8kPDTpN6PC1n"
      },
      "source": [
        "## Постановка задачи\n"
      ]
    },
    {
      "cell_type": "markdown",
      "source": [],
      "metadata": {
        "id": "Bdf3z6cvqhtU"
      }
    },
    {
      "cell_type": "markdown",
      "metadata": {
        "id": "Gs1zeknwNwNX"
      },
      "source": [
        "Перед выполнение работы подключим необходимые библиотеки."
      ]
    },
    {
      "cell_type": "code",
      "execution_count": 2,
      "metadata": {
        "id": "sppwkj5RN5qp"
      },
      "outputs": [],
      "source": [
        "from mpl_toolkits import mplot3d\n",
        "import numpy as np\n",
        "import matplotlib.pyplot as plt\n",
        "import scipy.stats as sps\n",
        "import scipy.optimize as spo"
      ]
    },
    {
      "cell_type": "markdown",
      "metadata": {
        "id": "i2ZUEQrSPC1p"
      },
      "source": [
        "## Выполнение работы\n",
        "### **1 задание**.\n",
        "#### **Пункт А**. Построить вариационный ряд, эмпирическую функцию распределения и гистограмму частот.\n",
        "Первоначальная выборка:\n",
        "$ \\begin{array}{|c|c|} \\hline X_{i} & 8 & 3 & 6 & 5 & 3 & 1 & 2 & 4 & 2 & 8 & 2 & 4 & 1 & 3 & 2 & 1 & 13 & 2 & 4 & 2 & 3 & 9 & 2 & 4 & 6 & 1 & 9 & 2 & 4 & 1 & 3 & 6 & 5 & 3 & 5 & 3 & 4 & 6 & 4 & 6 & 2 & 2 & 4 & 8 & 5 & 2 & 3 & 1 & 3 & 6 \\\\ \\hline\n",
        "\\end{array} $\n",
        "\n",
        "Вариационный ряд:\n",
        "$ \\begin{array}{|c|c|} \\hline X_{i} & 1 & 1 & 1 & 1 & 1 & 1 & 2 & 2 & 2 & 2 & 2 & 2 & 2 & 2 & 2 & 2 & 2 & 3 & 3 & 3 & 3 & 3 & 3 & 3 & 3 & 3 & 4 & 4 & 4 & 4 & 4 & 4 & 4 & 4 & 5 & 5 & 5 & 5 & 6 & 6 & 6 & 6 & 6 & 6 & 8 & 8 & 8 & 9 & 9 & 13 \\\\ \\hline\n",
        "\\end{array} $\n",
        "\n",
        "Построим эмпирическую функию распределения $F_n(x) = \\frac{1}{n} \\displaystyle\\sum_{i=1}^{n} \\chi \\{ X_i < x \\}$ и гистограмму частот $ H(x) = \\frac{\\nu(x)}{nh} $ при $h = 1$.\n",
        "\n",
        "Для этого составим таблицу частот \\\n",
        "$ \\begin{array}{|c|c|} \\hline X_{(i)} & 1 & 2 & 3 & 4 & 5 & 6 & 8 & 9 & 13 \\\\ \\hline \\nu(x = X_{(i)})  & 6 & 11 & 9 & 8 & 4 & 6 & 3 & 2 & 1  \\\\ \\hline\n",
        "\\end{array} $"
      ]
    },
    {
      "cell_type": "code",
      "source": [
        "def VarRow(x):\n",
        "  cnts = [[1, 6], [2, 11], [3, 9], [4, 8], [5, 4], [6, 6], [8, 3], [9, 2], [13, 1]]\n",
        "\n",
        "  sm = 0\n",
        "  for pair in cnts:\n",
        "    if pair[0] >= x:\n",
        "      return sm\n",
        "    sm += pair[1]\n",
        "  return sm\n",
        "\n",
        "x = np.arange(0, 14, 0.01)\n",
        "y = [VarRow(elem) / 50 for elem in x]\n",
        "\n",
        "\n",
        "\n",
        "plt.title('График эмпирической функции распределения')\n",
        "plt.xlabel('x', fontsize=12)\n",
        "plt.ylabel('Fn(x)', fontsize=12)\n",
        "plt.plot(x, y, 'red')\n",
        "plt.show()"
      ],
      "metadata": {
        "colab": {
          "base_uri": "https://localhost:8080/",
          "height": 476
        },
        "id": "XMsixd6_gDK3",
        "outputId": "d03864e7-81d4-474f-b916-3ff479857a7d"
      },
      "execution_count": 3,
      "outputs": [
        {
          "output_type": "display_data",
          "data": {
            "text/plain": [
              "<Figure size 640x480 with 1 Axes>"
            ],
            "image/png": "[encoded data removed]"
          },
          "metadata": {}
        }
      ]
    },
    {
      "cell_type": "code",
      "source": [
        "def Hist(x):\n",
        "  cnts = [[1, 6], [2, 11], [3, 9], [4, 8], [5, 4], [6, 6], [8, 3], [9, 2], [13, 1]]\n",
        "\n",
        "  if x < cnts[0][0]:\n",
        "    return 0\n",
        "\n",
        "  for i in range(len(cnts)):\n",
        "    if x <= cnts[i][0] and (cnts[i][0] - x) < 1:\n",
        "      return cnts[i][1]\n",
        "  return 0\n",
        "\n",
        "x = np.arange(1, 14, 1)\n",
        "y = [Hist(elem) / 50 for elem in x]\n",
        "\n",
        "\n",
        "\n",
        "plt.title('Гистограмма частот')\n",
        "plt.xlabel('x', fontsize=12)\n",
        "plt.ylabel('H(x)', fontsize=12)\n",
        "plt.bar(x, y, width=1, align='edge', color='orange', edgecolor='black')\n",
        "plt.show()"
      ],
      "metadata": {
        "colab": {
          "base_uri": "https://localhost:8080/",
          "height": 476
        },
        "id": "6T9V6aIy81By",
        "outputId": "5eade317-57db-4a9d-c7e4-fa9d06387484"
      },
      "execution_count": 4,
      "outputs": [
        {
          "output_type": "display_data",
          "data": {
            "text/plain": [
              "<Figure size 640x480 with 1 Axes>"
            ],
            "image/png": "[encoded data removed]"
          },
          "metadata": {}
        }
      ]
    },
    {
      "cell_type": "markdown",
      "source": [
        "#### **Пункт B**. Вычислить выборочные аналоги следующих числовых характеристик:\n",
        "(i) математического ожидания; (ii) дисперсии; (iii) СКО; (iv) медианы; (v) асимметрии; (vi) эксцесса; (vii) вероятности $ \\mathbb{P}(X \\in [2.4, 5.6]) $\n",
        "\n",
        "i) $ \\bar{X} = \\frac{\\large{1}}{\\large{50}} \\displaystyle\\sum_{i=1}^{50}X_i $ - выборочное среднее\n",
        "\n",
        "ii) $ S^2  = \\frac{\\large{1}}{\\large{50}} \\displaystyle\\sum_{i=1}^{50} \\left(X_i^2 - \\left(\\bar{X}\\right)^2 \\right)$ - выборочная дисперсия\n",
        "\n",
        "iii) $ S $ - среднее квадратичное отклонение\n",
        "\n",
        "iv) $ z_{50, \\frac{1}{2}} = \\left[ X_{ \\left( 25 \\right)},  X_{ \\left( 26 \\right)} \\right)$ - выборочная медиана\n",
        "\n",
        "v) $ \\widehat{\\small ASI} = \\frac{ \\frac{\\Large{1}}{\\Large{50}} \\displaystyle\\sum^{50}_{i=1} \\left( X_i - \\bar{X} \\right)^3}{\\large{S^3}}$ - выборочная ассиметрия\n",
        "\n",
        "vi) $ \\widehat{\\small EXC} = \\frac{ \\frac{\\Large{1}}{\\Large{50}} \\displaystyle\\sum^{50}_{i=1} \\left( X_i - \\bar{X} \\right)^4}{\\large{S^4}} - 3$ - выборочный коэффициент эксцесса\n",
        "\n",
        "vii) $ \\mathbb{P}(X \\in [2.4, 5.6]) = F_n(5.6) - F_n(2.4) $"
      ],
      "metadata": {
        "id": "V69XwsIjHoY3"
      }
    },
    {
      "cell_type": "code",
      "source": [
        "arr = np.array([1, 1, 1, 1, 1, 1, 2, 2, 2, 2, 2, 2, 2, 2, 2, 2, 2, 3, 3, 3, 3, 3, 3, 3, 3, 3, 4, 4, 4, 4, 4, 4, 4, 4, 5, 5, 5, 5, 6, 6, 6, 6, 6, 6, 8, 8, 8, 9, 9, 13])\n",
        "\n",
        "X = np.mean(arr)\n",
        "S2 = np.var(arr)\n",
        "S = np.std(arr)\n",
        "z = np.median(arr)\n",
        "asi = np.sum((arr - X)**3) / (50 * S ** 3)\n",
        "exc = np.sum((arr - X)**4) / (50 * S ** 4) - 3\n",
        "\n",
        "print(\"Выборочное среднее =\", round(X, 3))\n",
        "print(\"Выборочная дисперсия =\", round(S2, 3))\n",
        "print(\"СКО =\", round(S, 3))\n",
        "print(\"Выборочная медиана равна =\", round(z, 3))\n",
        "print(\"Выборочная ассиметрия равна =\", round(asi, 3))\n",
        "print(\"Выборочный коэффициент эксцесса =\", round(exc, 3))\n",
        "print(\"Выборочная вероятность попадения в промежуток [2.4, 5.6] =\", (VarRow(5.6) - VarRow(2.4)) / 50)"
      ],
      "metadata": {
        "colab": {
          "base_uri": "https://localhost:8080/"
        },
        "id": "q1Kner6sKEbJ",
        "outputId": "57039584-f97b-4d3c-fb65-b5503830d8e1"
      },
      "execution_count": 5,
      "outputs": [
        {
          "output_type": "stream",
          "name": "stdout",
          "text": [
            "Выборочное среднее = 3.96\n",
            "Выборочная дисперсия = 6.278\n",
            "СКО = 2.506\n",
            "Выборочная медиана равна = 3.0\n",
            "Выборочная ассиметрия равна = 1.273\n",
            "Выборочный коэффициент эксцесса = 1.824\n",
            "Выборочная вероятность попадения в промежуток [2.4, 5.6] = 0.42\n"
          ]
        }
      ]
    },
    {
      "cell_type": "markdown",
      "source": [
        "#### **Пункт C.** В предположении, что исходные наблюдения являются выборкой из распределения Пуассона, построить оценку максимального правдоподобия параметра  , а также оценку   по методу моментов. Найти смещение оценок.\n",
        "\n",
        "Распределение Пуассона: $ \\xi \\sim Pois(\\lambda) \\implies P_{\\lambda}(\\xi = k) = \\frac{\\large{\\lambda^k}}{\\large{k!}} e^{-\\lambda} $ при $ \\lambda \\in (0, +\\infty)$ \\\n",
        "$ supp \\xi = \\mathbb{Z}; $ $ E_\\theta \\xi = D_\\theta \\xi = \\lambda $ \\\n",
        "\\\n",
        "\\\n",
        "Расчёт ОМП \\\n",
        "$ L(\\vec{X}, \\theta) = \\small \\displaystyle \\prod_{i = 1}^{n} \\frac{\\lambda^{X_i}}{X_i!} e^{- \\lambda} = \\frac{\\large \\lambda^{n \\bar{X}}}{\\displaystyle \\prod_{i = 1}^{n} \\left( X_i! \\right)} e^{- \\lambda n}$ \\\n",
        "$ LL(\\vec{X}, \\theta) = ln\\lambda \\displaystyle \\sum_{i=1}^{n} X_i - \\displaystyle \\sum_{i=1}^{n} ln \\left( X_i \\right) - \\lambda n$ \\\n",
        "$ \\frac{\\large \\partial LL(\\vec{X}, \\theta)}{\\large \\partial \\lambda} = \\frac{\\displaystyle \\sum_{i=1}^{n} X_i}{\\large \\lambda} - n = 0 \\implies \\hat{\\lambda} = \\frac{\\displaystyle \\sum_{i=1}^{n} X_i}{\\large n} = \\bar{X} = 3.96$ \\\n",
        "\\\n",
        "\\\n",
        "Расчёт ОММ \\\n",
        "$ EX_1 = \\lambda $\\\n",
        "$ M_1 = \\bar{X} $ \\\n",
        "$ \\hat{\\lambda} = \\bar{X} = 3.96$\\\n",
        "\\\n",
        "\\\n",
        "Оценки совпадают. Посчитаем смещещение оценок.\\\n",
        "$ E \\hat{\\lambda} = E \\bar{X} = \\frac{1}{n} E \\displaystyle \\sum_{i=1}^{n}{X_i} = \\frac{1}{n} \\displaystyle \\sum_{i=1}^{n} E {X_i} = \\frac{1}{n} \\displaystyle \\sum_{i=1}^{n} \\lambda  = \\frac{\\lambda n}{n} = \\lambda $\\\n",
        " Тогда полученные оценки являются несмещёнными."
      ],
      "metadata": {
        "id": "w6zbyoRFU6T7"
      }
    },
    {
      "cell_type": "markdown",
      "source": [
        "#### **Пункт D.** Построить асимптотический доверительный интервал уровня значимости $ \\alpha_1 $ для параметра $ \\lambda $ на базе оценки максимального правдоподобия.\n",
        "\n",
        "**1 способ.** На основе ОМП. \\\n",
        "$ I_n(\\lambda) = -E \\frac{\\large \\partial^2 LL(\\vec{X}, \\theta)}{\\large \\partial \\lambda^2}$ \\\n",
        "$ \\frac{\\large \\partial^2 LL(\\vec{X}, \\theta)}{\\large \\partial \\lambda^2} = - \\frac{\\displaystyle \\sum_{i=1}^{n} X_i}{\\large \\lambda^2} = - \\large \\frac{n \\bar{X}}{\\lambda^2}$ \\\n",
        "Тогда $ -E \\frac{\\large \\partial^2 LL(\\vec{X}, \\theta)}{\\large \\partial \\lambda^2} = E \\large \\frac{n \\bar{X}}{\\lambda^2} = \\frac{1}{\\lambda^2} E \\small \\displaystyle \\sum_{i=1}^{n} X_i = \\frac{1}{\\lambda^2} \\displaystyle \\sum_{i=1}^{n} E \\small X_i = \\frac{n \\lambda}{\\lambda^2} = \\frac{n}{\\lambda}$ \\\n",
        "$ I(\\lambda) = \\frac{1}{\\lambda}$\n",
        "\n",
        "$ x_{a} : Ф(x_a) = 1 - \\frac{\\large \\alpha_1}{\\large 2} = 1 - 0.01 = 0.99$"
      ],
      "metadata": {
        "id": "wkGitCr2gj8V"
      }
    },
    {
      "cell_type": "code",
      "source": [
        "fx = 0.99\n",
        "x_a = sps.norm.ppf(fx)\n",
        "\n",
        "print(\"Квантиль x_a =\", round(x_a, 3))\n",
        "print(\"Функция нормального распределения Ф(x_a) =\", sps.norm.cdf(x_a))"
      ],
      "metadata": {
        "colab": {
          "base_uri": "https://localhost:8080/"
        },
        "id": "O4sYFj_Arxyv",
        "outputId": "c15a2904-3817-40c8-921e-7028b4ad9f85"
      },
      "execution_count": 6,
      "outputs": [
        {
          "output_type": "stream",
          "name": "stdout",
          "text": [
            "Квантиль x_a = 2.326\n",
            "Функция нормального распределения Ф(x_a) = 0.99\n"
          ]
        }
      ]
    },
    {
      "cell_type": "markdown",
      "source": [
        "$ \\lambda \\in  \\left[ \\bar{X} - \\frac{\\large x_{\\alpha} \\sqrt{\\bar{X}}}{\\large \\sqrt{n}}; \\bar{X} + \\frac{\\large x_{\\alpha} \\sqrt{\\bar{X}}}{\\large \\sqrt{n}} \\right] = [3.305, 4.615]$ \\\n",
        "\\\n",
        "**2 способ.** На основе ЦПТ. \\\n",
        "$ \\sqrt{n} \\frac{\\large \\hat{\\lambda} - \\lambda}{\\large \\sqrt{\\lambda}} \\sim \\mathcal{N}(0, 1)$ \\\n",
        "$ x_{\\alpha} : Ф(x_a) = 1 - \\frac{\\large \\alpha_1}{\\large 2} = 1 - 0.01 = 0.99$ \\\n",
        "$ x_{\\alpha} = 2.326 $\\\n",
        "$ P_{\\lambda} \\left( \\sqrt{n} \\frac{\\large \\left| \\hat{\\lambda} - \\lambda \\right|}{\\sqrt{\\large \\lambda}} \\leq x_{\\alpha}\\right) = 1 - \\alpha_1 = 0.98 $ \\\n",
        "\\\n",
        "**2.1)** $ P_{\\lambda} \\left( \\sqrt{n} \\frac{\\large \\left| \\bar{X} - \\lambda \\right|}{\\sqrt{\\large \\lambda}} \\leq x_{\\alpha}\\right) = 0.98 $ \\\n",
        "$ \\left| \\bar{X} - \\lambda \\right| \\leq \\frac{\\large x_{\\alpha} \\sqrt{\\lambda}}{\\large \\sqrt{n}} \\implies \\left( \\bar{X} - \\lambda \\right) ^ 2 \\leq \\frac {\\large x_{\\alpha}^2 \\lambda}{\\large n} \\implies n \\left( \\bar{X} \\right)^2 - 2n \\lambda \\bar{X} + n \\lambda^2 - x_{\\alpha}^2 \\lambda \\leq 0 \\implies n \\lambda^2 - \\lambda \\left( 2n \\bar{X} + x_{\\alpha}^2 \\right) + n \\left( \\bar{X} \\right)^2 \\leq 0 $ \\\n",
        "$ D = \\left( 2n \\bar{X} + x_{\\alpha}^2 \\right) ^ 2 - 4 n^2 \\left( \\bar{X} \\right)^2 = 4315.509 $ \\\n",
        "$ \\lambda_1 = \\frac{\\large 2n \\bar{X} + x_{\\alpha}^2 - \\sqrt{D}}{\\large 2n} = 3.357 $ \\\n",
        "$ \\lambda_2 = \\frac{\\large 2n \\bar{X} + x_{\\alpha}^2 + \\sqrt{D}}{\\large 2n} = 4.671 $ \\\n",
        "$ \\lambda \\in \\left[ 3.357, 4.671 \\right] $ \\\n",
        "\\\n",
        "**2.2)** $ P_{\\lambda} \\left( \\sqrt{n} \\frac{\\large \\left| \\bar{X} - \\lambda \\right|}{\\sqrt{\\large \\bar{X}}} \\leq x_{\\alpha}\\right) = 0.98 $ \\\n",
        "$ -x_{\\alpha} \\leq \\sqrt{n} \\frac{\\large \\bar{X} - \\lambda}{\\sqrt{\\large \\bar{X}}} \\leq x_{\\alpha} \\implies \\bar{X} - \\frac{\\large x_{\\alpha} \\sqrt{\\bar{X}}}{\\large \\sqrt{n}} \\leq \\lambda \\leq \\bar{X} + \\frac{\\large x_{\\alpha} \\sqrt{\\bar{X}}}{\\large \\sqrt{n}}$ \\\n",
        "$ \\lambda \\in \\left[ 3.305, 4.615 \\right] $ \\\n",
        "\\\n",
        "**2.3)** $ P_{\\lambda} \\left( \\sqrt{n} \\frac{\\large \\left| \\bar{X} - \\lambda \\right|}{\\large S} \\leq x_{\\alpha}\\right) = 0.98 $ \\\n",
        "$ -x_{\\alpha} \\leq \\sqrt{n} \\frac{\\large \\bar{X} - \\lambda}{\\large S} \\leq x_{\\alpha} \\implies \\bar{X} - \\frac{\\large x_{\\alpha} S}{\\large \\sqrt{n}} \\leq \\lambda \\leq \\bar{X} + \\frac{\\large x_{\\alpha} S}{\\large \\sqrt{n}}$ \\\n",
        "$ \\lambda \\in \\left[ 3.136, 4.784 \\right] $\n"
      ],
      "metadata": {
        "id": "kfJlLZjtyLLw"
      }
    },
    {
      "cell_type": "markdown",
      "source": [
        "#### **Пункт E.** Используя гистограмму частот, построить критерий значимости $ \\chi^2 $ проверки простой гипотезы согласия с распределением Пуассона с параметром  $\\lambda_0= 5.00$. Проверить гипотезу на уровне значимости $\\alpha_1 = 0.02$. Вычислить наибольшее значение уровня значимости, на котором ещё нет оснований отвергнуть данную гипотезу.\n",
        "\n",
        "Таблица частот \\\n",
        "$ \\begin{array}{|c|c|} \\hline X_{(i)} & 1 & 2 & 3 & 4 & 5 & 6 & 8 & 9 & 13 \\\\ \\hline \\nu(x = X_{(i)})  & 6 & 11 & 9 & 8 & 4 & 6 & 3 & 2 & 1  \\\\ \\hline\n",
        "\\end{array} $\n",
        "\n",
        "Сгруппируем данные по интевалам.\\\n",
        "$ \\begin{array}{|c|c|} \\hline j & 1 & 2 & 3 & 4 & 5 & 6 & 7 & 8 & 9\\\\ \\hline I_j & (-\\infty, 1] & (1, 2] & (2, 3] & (3, 4] & (4, 5] & (5, 6] & (6, 8] & (8, 9] & (9, +\\infty) \\\\ \\hline \\nu_j  & 6 & 11 & 9 & 8 & 4 & 6 & 3 & 2 & 1  \\\\ \\hline\n",
        "\\end{array} $ \\\n",
        "\\\n",
        "$ \\measuredangle$ Основную гипотезу $H_0: P_{\\lambda}(\\xi \\in I_j) = P_{\\lambda_0}(\\xi \\in I_j)$ для всех $j = 1...9$ \\\n",
        "и альтернативную - $ H_А: {\\exists j}$ $P_{\\lambda}(I_j) \\neq P_{\\lambda_0}(I_j)$ при $j \\in 1...9$ \\\n",
        "Гипотеза $ H_0 $ является более слабой по отношению к предложенной в условии, поэтому опровержение $ H_0 $ влечёт за собой опровержение и заданной гипотезы. \\\n",
        "\\\n",
        "Вычислим результаты и структурируем их в таблице \\\n",
        "$ \\begin{array}{|c|c|} \\hline I_j & \\nu_j & p_{j0} & \\frac{\\large \\left( \\nu -np_{j0} \\right)^2}{\\large np_{j0}}\\\\ \\hline (-\\infty, 1] & 6 & 0.0404 & 7.842 \\\\ \\hline (1, 2] & 11 & 0.0842 &  10.951\\\\ \\hline (2, 3] & 9 & 0.1404 & 0.558\\\\ \\hline (3, 4] & 8 & 0.1755 & 0.068 \\\\ \\hline (4, 5] & 4 & 0.1755 & 2.598 \\\\ \\hline (5, 6] & 6 & 0.1462 & 0.235 \\\\ \\hline (6, 8] & 3 & 0.1697 & 3.546\\\\ \\hline (8, 9] & 2 & 0.0363 & 0.019 \\\\ \\hline (9, +\\infty) & 1 & 0.0318 & 0.219 \\\\ \\hline \\end{array} $ \\\n",
        "\\\n",
        "$ \\chi^2 = 26.036$\\\n",
        "\\\n",
        "Расчёты получены в результате следующей программы\n",
        "\n",
        "\n"
      ],
      "metadata": {
        "id": "Mnm6Pz8kL7Xc"
      }
    },
    {
      "cell_type": "code",
      "source": [
        "arr = [1, 2, 3, 4, 5, 6, 8, 9]\n",
        "res = [0] * (len(arr) + 1)\n",
        "\n",
        "#Вычисление p_j0\n",
        "res[0] = round(sps.poisson.cdf(1, 5),4)\n",
        "sm = res[0]\n",
        "\n",
        "for i in range(1, len(arr)):\n",
        "  res[i] = round(sps.poisson.cdf(arr[i], 5) - sps.poisson.cdf(arr[i - 1], 5), 4)\n",
        "  sm += res[i]\n",
        "res[len(arr)] = round(1 - sps.poisson.cdf(9, 5), 4)\n",
        "print(\"p_j0 =\", res)\n",
        "print(\"Проверка результата. Сумма p_j0 =\", sm + res[len(arr)])\n",
        "\n",
        "#Вычисление X^2\n",
        "v = [6, 11, 9, 8, 4, 6, 3, 2, 1]\n",
        "ans = [round((v[i] - 50 * res[i]) ** 2 / (50 * res[i]), 3) for i in range(len(v))]\n",
        "print(\"Последний столбец =\", ans)\n",
        "print(\"X^2 =\", round(sum(ans), 3))\n"
      ],
      "metadata": {
        "colab": {
          "base_uri": "https://localhost:8080/"
        },
        "id": "5sQ4bjJee-KP",
        "outputId": "c06fd8d3-21a6-488f-f4a0-2b823cb2c505"
      },
      "execution_count": 7,
      "outputs": [
        {
          "output_type": "stream",
          "name": "stdout",
          "text": [
            "p_j0 = [0.0404, 0.0842, 0.1404, 0.1755, 0.1755, 0.1462, 0.1697, 0.0363, 0.0318]\n",
            "Проверка результата. Сумма p_j0 = 1.0\n",
            "Последний столбец = [7.842, 10.951, 0.558, 0.068, 2.598, 0.235, 3.546, 0.019, 0.219]\n",
            "X^2 = 26.036\n"
          ]
        }
      ]
    },
    {
      "cell_type": "markdown",
      "source": [
        "$ x_{a} : \\mathcal{K}_{r-1}(x_a) = \\mathcal{K}_8(x_a) = 1 - \\alpha_1 = 1 - 0.02 = 0.98$"
      ],
      "metadata": {
        "id": "fOb4y5MBiP00"
      }
    },
    {
      "cell_type": "code",
      "source": [
        "func = sps.chi2(8)\n",
        "fx = 0.98\n",
        "x_a = func.ppf(fx)\n",
        "\n",
        "print(\"Квантиль x_a =\", round(x_a, 3))\n",
        "print(\"Функция распределения K_8(x_a) =\", func.cdf(x_a))"
      ],
      "metadata": {
        "colab": {
          "base_uri": "https://localhost:8080/"
        },
        "id": "7cvMdf96i7_v",
        "outputId": "f3af273a-e313-42b4-847d-714ea5001062"
      },
      "execution_count": 8,
      "outputs": [
        {
          "output_type": "stream",
          "name": "stdout",
          "text": [
            "Квантиль x_a = 18.168\n",
            "Функция распределения K_8(x_a) = 0.98\n"
          ]
        }
      ]
    },
    {
      "cell_type": "markdown",
      "source": [
        "Т.к. $\\chi^2 > x_\\alpha$ , то гипотеза отвергается\\\n",
        "Найдём наибольшее значение уровня значимости, на котором нет оснований отвергнуть гипотезу. Пусть $\\mathbb{P}(\\chi^2 \\leq x_\\alpha) = 0$\\\n",
        "Тогда $ \\chi^2 \\leq x_\\alpha \\implies \\chi^2 \\leq \\mathcal{K}_8^{-1}(1 - \\alpha_1) \\implies \\mathcal{K}_8(\\chi^2) \\leq 1 - \\alpha_1 \\implies \\alpha_1 \\leq 1 - \\mathcal{K}_8(\\chi^2)$\n"
      ],
      "metadata": {
        "id": "jDx4pYFrjzdm"
      }
    },
    {
      "cell_type": "code",
      "source": [
        "x2 = 26.036\n",
        "print(\"Наибольшее значение уровня значимости =\", round(1 - sps.chi2.cdf(x2, 8), 5))"
      ],
      "metadata": {
        "colab": {
          "base_uri": "https://localhost:8080/"
        },
        "id": "bUZpc_-YldRU",
        "outputId": "4cc0e949-f95e-4f46-ccfc-cc3833f26a4f"
      },
      "execution_count": 9,
      "outputs": [
        {
          "output_type": "stream",
          "name": "stdout",
          "text": [
            "Наибольшее значение уровня значимости = 0.00104\n"
          ]
        }
      ]
    },
    {
      "cell_type": "markdown",
      "source": [
        "####**Пункт F.** Построить критерий значимости $\\chi^2$ проверки сложной гипотезы согласия с распределением Пуассона. Проверить гипотезу на уровне значимости $\\alpha_1=0.02$. Вычислить наибольшее значение уровня значимости, на котором ещё нет оснований отвергнуть данную гипотезу.\n",
        "\n",
        "Проверим сложную гипотезу $ H_0 : X_1... X_n \\sim Pois(\\lambda) $ \\\n",
        "Альтернативой ей будет служить $ H_A : X_1 ...X_n$ не распределена, как $Pois(\\lambda)$\n",
        "\n",
        "Таблица интервалов\\\n",
        "$ \\begin{array}{|c|c|} \\hline j & 1 & 2 & 3 & 4 & 5 & 6 & 7 & 8 & 9\\\\ \\hline I_j & (-\\infty, 1] & (1, 2] & (2, 3] & (3, 4] & (4, 5] & (5, 6] & (6, 8] & (8, 9] & (9, +\\infty) \\\\ \\hline \\nu_j  & 6 & 11 & 9 & 8 & 4 & 6 & 3 & 2 & 1  \\\\ \\hline\n",
        "\\end{array} $ \\\n",
        "\n",
        "Т.к. гипотеза сложная, то статистикой критерия возьмём $ \\tilde{\\chi^2} = min_\\lambda \\chi^2(\\lambda) = min_\\lambda \\displaystyle \\sum_{j=1}^{9} \\frac{\\large \\left( \\nu_j -np_{j0}(\\lambda) \\right)^2}{\\large np_{j0}(\\lambda)} \\underset{n \\rightarrow \\infty}{\\implies} \\chi^2_{7}$. Размерность $\\chi^2$-распределения вычисляется по формуле $ r - d - 1 $, где $r$ - количество интервалов, а $d = dim(\\Theta_0)$"
      ],
      "metadata": {
        "id": "PQZOG0DtHmsP"
      }
    },
    {
      "cell_type": "code",
      "source": [
        "def CuclSum(h):\n",
        "  if h == 0:\n",
        "    return 10**6\n",
        "\n",
        "  arr = [1, 2, 3, 4, 5, 6, 8, 9]\n",
        "  res = [0] * (len(arr) + 1)\n",
        "\n",
        "  #Вычисление p_j0\n",
        "  res[0] = sps.poisson.cdf(1, h)\n",
        "  sm = res[0]\n",
        "\n",
        "  for i in range(1, len(arr)):\n",
        "    res[i] = sps.poisson.cdf(arr[i], h) - sps.poisson.cdf(arr[i - 1], h)\n",
        "  res[len(arr)] = 1 - sps.poisson.cdf(9, h)\n",
        "\n",
        "  #Вычисление X^2\n",
        "  v = [6, 11, 9, 8, 4, 6, 3, 2, 1]\n",
        "  ans = [(v[i] - 50 * res[i]) ** 2 / (50 * res[i]) for i in range(len(v))]\n",
        "  return sum(ans)\n",
        "\n",
        "result = spo.minimize_scalar(CuclSum)\n",
        "print(\"Значение X^2 =\", round(result.fun, 3), \"при значении параметра =\", round(result.x, 3))\n"
      ],
      "metadata": {
        "colab": {
          "base_uri": "https://localhost:8080/"
        },
        "id": "qT1znQpWWsRU",
        "outputId": "9b3608ce-e915-4351-952a-20b75c73df4f"
      },
      "execution_count": 10,
      "outputs": [
        {
          "output_type": "stream",
          "name": "stdout",
          "text": [
            "Значение X^2 = 8.697 при значении параметра = 4.014\n"
          ]
        }
      ]
    },
    {
      "cell_type": "markdown",
      "source": [
        "$ x_{a} : \\mathcal{K}_{r-d-1}(x_a) = \\mathcal{K}_7(x_a) = 1 - \\alpha_1 = 1 - 0.02 = 0.98$"
      ],
      "metadata": {
        "id": "aFmwPa-jlOIZ"
      }
    },
    {
      "cell_type": "code",
      "source": [
        "fx = 0.98\n",
        "x_a = sps.chi2.ppf(fx, 7)\n",
        "\n",
        "print(\"Квантиль x_a =\", round(x_a, 3))\n",
        "print(\"Функция распределения K_8(x_a) =\", sps.chi2.cdf(x_a, 7))"
      ],
      "metadata": {
        "colab": {
          "base_uri": "https://localhost:8080/"
        },
        "id": "5dd17NgQlpRO",
        "outputId": "09992f63-a30b-43d9-97b0-aa080687edbd"
      },
      "execution_count": 11,
      "outputs": [
        {
          "output_type": "stream",
          "name": "stdout",
          "text": [
            "Квантиль x_a = 16.622\n",
            "Функция распределения K_8(x_a) = 0.98\n"
          ]
        }
      ]
    },
    {
      "cell_type": "markdown",
      "source": [
        "Т.к. $\\chi^2 < x_\\alpha$ , то гипотеза принимается\\\n",
        "Найдём наибольшее значение уровня значимости, на котором нет оснований отвергнуть гипотезу. Пусть $\\mathbb{P}(\\chi^2 \\leq x_\\alpha) = 0$\\\n",
        "Тогда $ \\chi^2 \\leq x_\\alpha \\implies \\chi^2 \\leq \\mathcal{K}_7^{-1}(1 - \\alpha_1) \\implies \\mathcal{K}_7(\\chi^2) \\leq 1 - \\alpha_1 \\implies \\alpha_1 \\leq 1 - \\mathcal{K}_7(\\chi^2)$\n"
      ],
      "metadata": {
        "id": "Cw_yO2V0lurh"
      }
    },
    {
      "cell_type": "code",
      "source": [
        "x_a = 8.697\n",
        "print(\"Наибольшее значение уровня значимости =\", round(1 - sps.chi2.cdf(x_a, 7), 3))"
      ],
      "metadata": {
        "colab": {
          "base_uri": "https://localhost:8080/"
        },
        "id": "4BHohIAymY_v",
        "outputId": "3027e9a4-3f02-426a-9a3c-591fbf103248"
      },
      "execution_count": 12,
      "outputs": [
        {
          "output_type": "stream",
          "name": "stdout",
          "text": [
            "Наибольшее значение уровня значимости = 0.275\n"
          ]
        }
      ]
    },
    {
      "cell_type": "markdown",
      "source": [
        "#### **Пункт G.** Построить наиболее мощный критерий проверки простой гипотезы пуассоновости с параметром $ \\lambda_0 = 5.00 $ при альтернативе пуассоновости с параметром $ \\lambda_1 = 4.00 $. Проверить гипотезу на уровне значимости $\\alpha_1 = 0.02$. Что получится, если поменять местами основную и альтернативную гипотезы?\n",
        "\n",
        "Рассмотрим две гипотезы. \\\n",
        "Основная гипотеза $H_0 : X_1...X_n \\sim Pois(\\lambda_0)$\\\n",
        "Альтернативная гипотеза $H_А : X_1...X_n \\sim Pois(\\lambda_1)$\\\n",
        "\\\n",
        "По лемме Неймана-Пирса\\\n",
        "$\\varphi \\left( \\vec{X} \\right) = \\begin{cases} 0, \\quad LR \\left( \\vec{X}, \\lambda_1, \\lambda_0 \\right) < x_\\alpha \\\\ p, \\quad LR \\left( \\vec{X}, \\lambda_1, \\lambda_0 \\right) = x_\\alpha \\\\ 1, \\quad LR \\left( \\vec{X}, \\lambda_1, \\lambda_0 \\right) > x_\\alpha \\end{cases}$, где $LR \\left( \\vec{X}, \\lambda_1, \\lambda_0 \\right) = \\frac{\\large L \\left( \\vec{X}, \\lambda_1 \\right)}{\\large L \\left( \\vec{X}, \\lambda_0 \\right)}$\n",
        "\n",
        "Из пункта C\\\n",
        "$ L(\\vec{X}, \\lambda_1) = \\frac{\\LARGE \\lambda_1^{n \\bar{X}}}{\\small \\displaystyle \\prod_{i = 1}^{n} \\left( X_i! \\right)} e^{\\Large - \\lambda_1 n} = \\frac{\\Large 4^{\\LARGE n \\bar{X}}}{\\small \\displaystyle \\prod_{i = 1}^{n} \\left( X_i! \\right)} e^{\\Large - 200}$\\\n",
        "$ L(\\vec{X}, \\lambda_0) = \\frac{\\LARGE \\lambda_0^{n \\bar{X}}}{\\small \\displaystyle \\prod_{i = 1}^{n} \\left( X_i! \\right)} e^{\\Large - \\lambda_0 n} = \\frac{\\Large 5^{\\LARGE n \\bar{X}}}{\\small \\displaystyle \\prod_{i = 1}^{n} \\left( X_i! \\right)} e^{\\Large - 250}$\\\n",
        "Тогда $\\frac{\\large L \\left( \\vec{X}, \\lambda_1 \\right)}{\\large L \\left( \\vec{X}, \\lambda_0 \\right)} = \\left( \\frac{\\Large 4}{\\Large 5} \\right) ^{\\Large n \\bar{X}} e^{50} $\\\n",
        "$T = \\bar{X}$ - МДС\\\n",
        "\\\n",
        "Пусть $ LR \\left( \\vec{X}, \\lambda_1, \\lambda_0 \\right) > x_\\alpha $ \\\n",
        "$ \\left( \\frac{\\Large 4}{\\Large 5} \\right) ^{\\Large n \\bar{X}} e^{50} > x_\\alpha $\\\n",
        "\\\n",
        "$  n \\bar{X} \\ ln\\left( \\frac{\\Large 4}{\\Large 5} \\right) + 50 > lnx_\\alpha $\\\n",
        "\\\n",
        "$ \\bar{X} \\  < x_a^* = (\\frac{\\large lnx_\\alpha}{50} - 1) \\frac{1}{ln\\left( \\frac{\\Large 4}{\\Large 5} \\right)} $\\\n",
        "\\\n",
        "$\\varphi \\left( \\vec{X} \\right) = \\begin{cases} 0, \\quad \\bar{X} >  x_\\alpha^* \\\\ p, \\quad \\bar{X} =  x_\\alpha^* \\\\ 1, \\quad \\bar{X} <  x_\\alpha^* \\end{cases}$\n",
        "\\\n",
        "\\\n",
        "Вычислим $ x_\\alpha^*$ и $ p $, учитывая, что выборка из Пуассоновского распределения. \\\n",
        "$ E_{\\lambda_0} \\varphi(\\vec{X}) = \\mathbb{P_{\\lambda_0}} \\left( \\bar{X} < x_a^* \\right) + p \\ \\mathbb{P_{\\lambda_0}} \\left( \\bar{X} = x_a^* \\right) = \\alpha_1$\\\n",
        "$ \\mathbb{P_{\\lambda_0}} \\left( \\bar{X} \\leq x_a^* \\right) = \\mathbb{P_{n\\lambda_0}} \\left( n\\bar{X} \\leq nx_a^* \\right) = \\small \\displaystyle \\sum_{i=0}^{\\large [nx_a^*]} P_{n\\lambda_0}(\\xi = i) = \\small \\displaystyle \\sum_{i=0}^{\\large [nx_a^*]} \\frac{\\large{(n\\lambda_0)^i}}{\\large{i!}} e^{-n\\lambda_0}$\\\n",
        "\\\n",
        "Подбираем $x_\\alpha$\\\n",
        "$ \\small \\displaystyle \\sum_{i=0}^{\\large [nx_a^*] - 1} \\frac{\\large{(n\\lambda_0)^i}}{\\large{i!}} e^{-n\\lambda_0} \\leq \\alpha_1 < \\small \\displaystyle \\sum_{i=0}^{\\large [nx_a^*]} \\frac{\\large{(n\\lambda_0)^i}}{\\large{i!}} e^{-n\\lambda_0}$\\. Тогда $ nx_\\alpha^* = 281 \\implies x_\\alpha^* = 4.36 $\\\n",
        "\\\n",
        "Считаем p\\\n",
        "$ p = \\frac{\\large \\alpha_1 - \\small \\displaystyle \\sum_{i=1}^{\\large [nx_a^*] - 1} \\frac{\\large{(n\\lambda_0)^i}}{\\large{i!}} e^{-n\\lambda_0}}{\\Large \\frac{{(n\\lambda_0)^{[nx_a^*]}}}{{[nx_a^*]!}} e^{-n\\lambda_0}} = 0.559$\\\n",
        "\\\n",
        "Расчёты были воспроизведены в программе ниже\n",
        "\n"
      ],
      "metadata": {
        "id": "aAvqoJWaoAuB"
      }
    },
    {
      "cell_type": "code",
      "source": [
        "func = sps.poisson(50 * 5)\n",
        "a = 0.02\n",
        "c = 1\n",
        "while True:\n",
        "  if sps.poisson.cdf(c - 1, 250) <= a and a < sps.poisson.cdf(c, 250):\n",
        "    break\n",
        "  c += 1\n",
        "\n",
        "p = (a - sps.poisson.cdf(c - 1, 250))/(sps.poisson.cdf(c, 250) - sps.poisson.cdf(c - 1, 250))\n",
        "\n",
        "print(\"Полученная константа\", c)\n",
        "print(\"Полученная вероятность\", round(p, 3))"
      ],
      "metadata": {
        "colab": {
          "base_uri": "https://localhost:8080/"
        },
        "id": "ZH6JSUwYXQik",
        "outputId": "e68642ce-cabf-43ef-f4f3-7b933194d2bc"
      },
      "execution_count": 13,
      "outputs": [
        {
          "output_type": "stream",
          "name": "stdout",
          "text": [
            "Полученная константа 218\n",
            "Полученная вероятность 0.559\n"
          ]
        }
      ]
    },
    {
      "cell_type": "markdown",
      "source": [
        "Получен наиболее мощный критерий\\\n",
        "$\\varphi \\left( \\vec{X} \\right) = \\begin{cases} 0, \\quad \\bar{X} >  4.36 \\\\ 0.559, \\quad \\bar{X} =  4.36* \\\\ 1, \\quad \\bar{X} <  4.36 \\end{cases}$\\\n",
        "\\\n",
        "Т.к. $ \\bar{X} = 3.96 < 4.36 \\implies H_0$ отвергаем.\\\n",
        "\\\n",
        "\\\n",
        "Поменяем гипотезы местами.\\\n",
        "Основная гипотеза $H_0 : X_1...X_n \\sim Pois(\\lambda_1)$\\\n",
        "Альтернативная гипотеза $H_А : X_1...X_n \\sim Pois(\\lambda_0)$\\\n",
        "\\\n",
        "По лемме Неймана-Пирса\\\n",
        "$\\varphi \\left( \\vec{X} \\right) = \\begin{cases} 0, \\quad LR \\left( \\vec{X}, \\lambda_0, \\lambda_1 \\right) < x_\\alpha \\\\ p, \\quad LR \\left( \\vec{X}, \\lambda_0, \\lambda_1 \\right) = x_\\alpha \\\\ 1, \\quad LR \\left( \\vec{X}, \\lambda_0, \\lambda_1 \\right) > x_\\alpha \\end{cases}$, где $LR \\left( \\vec{X}, \\lambda_0, \\lambda_1 \\right) = \\frac{\\large L \\left( \\vec{X}, \\lambda_0 \\right)}{\\large L \\left( \\vec{X}, \\lambda_1 \\right)}$\n",
        "\n",
        "Из пункта C\\\n",
        "$ L(\\vec{X}, \\lambda_1) = \\frac{\\LARGE \\lambda_1^{n \\bar{X}}}{\\small \\displaystyle \\prod_{i = 1}^{n} \\left( X_i! \\right)} e^{\\Large - \\lambda_1 n} = \\frac{\\Large 4^{\\LARGE n \\bar{X}}}{\\small \\displaystyle \\prod_{i = 1}^{n} \\left( X_i! \\right)} e^{\\Large - 200}$\\\n",
        "$ L(\\vec{X}, \\lambda_0) = \\frac{\\LARGE \\lambda_0^{n \\bar{X}}}{\\small \\displaystyle \\prod_{i = 1}^{n} \\left( X_i! \\right)} e^{\\Large - \\lambda_0 n} = \\frac{\\Large 5^{\\LARGE n \\bar{X}}}{\\small \\displaystyle \\prod_{i = 1}^{n} \\left( X_i! \\right)} e^{\\Large - 250}$\\\n",
        "Тогда $\\frac{\\large L \\left( \\vec{X}, \\lambda_0 \\right)}{\\large L \\left( \\vec{X}, \\lambda_1 \\right)} = \\left( \\frac{\\Large 5}{\\Large 4} \\right) ^{\\Large n \\bar{X}} e^{-50} $\\\n",
        "$T = \\bar{X}$ - МДС\\\n",
        "\\\n",
        "Пусть $ LR \\left( \\vec{X}, \\lambda_0, \\lambda_1 \\right) > x_\\alpha $ \\\n",
        "$ \\left( \\frac{\\Large 5}{\\Large 4} \\right) ^{\\Large n \\bar{X}} e^{-50} > x_\\alpha $\\\n",
        "\\\n",
        "$  n \\bar{X} \\ ln\\left( \\frac{\\Large 5}{\\Large 4} \\right) - 50 > lnx_\\alpha $\\\n",
        "\\\n",
        "$ \\bar{X} \\  > x_a^* = (\\frac{\\large lnx_\\alpha}{50} + 1) \\frac{1}{ln\\left( \\frac{\\Large 5}{\\Large 4} \\right)} $\\\n",
        "\\\n",
        "$\\varphi \\left( \\vec{X} \\right) = \\begin{cases} 0, \\quad \\bar{X} <  x_\\alpha^* \\\\ p, \\quad \\bar{X} =  x_\\alpha^* \\\\ 1, \\quad \\bar{X} >  x_\\alpha^* \\end{cases}$\n",
        "\\\n",
        "\\\n",
        "Вычислим $ x_\\alpha^*$ и $ p $, учитывая, что выборка из Пуассоновского распределения. \\\n",
        "$ E_{\\lambda_1} \\varphi(\\vec{X}) = \\mathbb{P_{\\lambda_1}} \\left( \\bar{X} > x_a^* \\right) + p \\ \\mathbb{P_{\\lambda_1}} \\left( \\bar{X} = x_a^* \\right) = \\alpha_1$\\\n",
        "\\\n",
        "Подбираем $x_\\alpha$\\\n",
        "$ \\mathbb{P_{\\lambda_1}} \\left( \\bar{X} > x_a^* \\right) = 1 - \\mathbb{P_{n\\lambda_1}} \\left( n\\bar{X} \\leq nx_a^* \\right) = 1 - \\small \\displaystyle \\sum_{i=0}^{\\large [nx_a^*]} P_{n\\lambda_1}(\\xi = i) = 1 - \\small \\displaystyle \\sum_{i=0}^{\\large [nx_a^*]} \\frac{\\large{(n\\lambda_1)^i}}{\\large{i!}} e^{-n\\lambda_1} < \\alpha_1$\\\n",
        "Тогда $ nx_\\alpha^* = 230 \\implies x_\\alpha^* = 4.6 $\\\n",
        "\\\n",
        "$ p = \\frac{\\large \\alpha_1 - 1 + \\small \\displaystyle \\sum_{i=0}^{\\large [nx_a^*]} \\frac{\\large{(n\\lambda_1)^i}}{\\large{i!}} e^{-n\\lambda_1}}{\\Large \\frac{{(n\\lambda_0)^{[nx_a^*]}}}{{[nx_a^*]!}} e^{-n\\lambda_0}} = 0.927 $\\\n",
        "\\\n",
        "Расчёты были воспроизведены в программе ниже\n",
        "\n"
      ],
      "metadata": {
        "id": "E1MUxHGUq-zY"
      }
    },
    {
      "cell_type": "code",
      "source": [
        "a = 0.02\n",
        "c = 1\n",
        "while True:\n",
        "  if 1 - sps.poisson.cdf(c, 200) < a:\n",
        "    break\n",
        "  c += 1\n",
        "\n",
        "p = (a - 1 + sps.poisson.cdf(c, 200))/(sps.poisson.cdf(c, 200) - sps.poisson.cdf(c - 1, 200))\n",
        "\n",
        "print(\"Полученная константа\", c)\n",
        "print(\"Полученная вероятность\", round(p, 3))"
      ],
      "metadata": {
        "colab": {
          "base_uri": "https://localhost:8080/"
        },
        "id": "yR5exq8Sxgxk",
        "outputId": "1ca5f95e-cc51-403b-a4fa-38ca988551cf"
      },
      "execution_count": 14,
      "outputs": [
        {
          "output_type": "stream",
          "name": "stdout",
          "text": [
            "Полученная константа 230\n",
            "Полученная вероятность 0.927\n"
          ]
        }
      ]
    },
    {
      "cell_type": "markdown",
      "source": [
        "Получен наиболее мощный критерий\\\n",
        "$\\varphi \\left( \\vec{X} \\right) = \\begin{cases} 0, \\quad \\bar{X} <  4.6 \\\\ 0.927, \\quad \\bar{X} =  4.6* \\\\ 1, \\quad \\bar{X} >  4.6 \\end{cases}$\\\n",
        "\\\n",
        "Т.к. $ \\bar{X} = 3.96 < 4.6 \\implies H_0$ принимаем."
      ],
      "metadata": {
        "id": "1CuRn2rLyo5k"
      }
    },
    {
      "cell_type": "markdown",
      "source": [
        "#### **Пункт H.** В пунктах C-F заменить семейство распределений Пуассона на семейство геометрических распределений: $ \\mathbb{P_\\lambda} \\left( X = k \\right) = \\frac{\\large \\lambda^k}{(\\lambda + 1)^{k + 1}}, k \\in \\mathbb{Z_+}$\n",
        "\n",
        "**c)** $ supp\\xi = \\mathbb{Z}$\\\n",
        "$E_\\theta \\xi = \\displaystyle \\sum^{\\infty}_{k=0} k  \\frac{\\large \\lambda^k}{(\\lambda + 1)^{k + 1}} = \\lambda $\\\n",
        "$ D_\\theta \\xi = E_\\theta(\\xi^2) - ( E_\\theta(\\xi) )^2 = \\displaystyle \\sum^{\\infty}_{k=0} k^2  \\frac{\\large \\lambda^k}{(\\lambda + 1)^{k + 1}} - \\lambda^2 = \\lambda (\\lambda + 1)$ \\\n",
        "\\\n",
        "\\\n",
        "Расчёт ОМП \\\n",
        "$ L(\\vec{X}, \\theta) = \\small \\displaystyle \\prod_{i = 1}^{n} \\frac{\\large \\lambda^{X_i}}{(\\lambda + 1)^{X_i + 1}}  = \\frac{\\large \\lambda^{n \\bar{X}}}{(\\lambda + 1)^{n \\bar{X} + n}}$ \\\n",
        "$ LL(\\vec{X}, \\theta) = n \\bar{X} \\ ln \\lambda - \\left( n \\bar{X} + n \\right) ln (\\lambda + 1) $ \\\n",
        "$ \\frac{\\large \\partial LL(\\vec{X}, \\theta)}{\\large \\partial \\lambda} =  \\frac{\\large n \\bar{X}}{\\large \\lambda} - \\frac{\\large n \\bar{X} + n}{\\lambda + 1} = 0 \\implies \\hat{\\lambda} = \\bar{X} = 3.96$ \\\n",
        "\\\n",
        "\\\n",
        "Расчёт ОММ \\\n",
        "$ EX_1 = \\lambda $\\\n",
        "$ M_1 = \\bar{X} $ \\\n",
        "$ \\hat{\\lambda} = \\bar{X} = 3.96$\\\n",
        "\\\n",
        "\\\n",
        "Оценки совпадают. Посчитаем смещещение оценок.\\\n",
        "$ E \\hat{\\lambda} = E \\bar{X} = \\frac{1}{n} E \\displaystyle \\sum_{i=1}^{n}{X_i} = \\frac{1}{n} \\displaystyle \\sum_{i=1}^{n} E {X_i} = \\frac{1}{n} \\displaystyle \\sum_{i=1}^{n} \\lambda  = \\frac{\\lambda n}{n} = \\lambda $\\\n",
        " Тогда полученные оценки являются несмещёнными.\\\n",
        " \\\n",
        " **d)**\n",
        " **1 способ.** На основе ОМП. \\\n",
        "$ \\displaystyle I_n(\\lambda) = -E \\frac{\\partial^2 LL(\\vec{X}, \\theta)}{ \\partial \\lambda^2}$ \\\n",
        "$ \\displaystyle \\frac{ \\partial^2 LL(\\vec{X}, \\theta)}{\\partial \\lambda^2} = - \\frac{ n \\bar{X}}{ \\lambda^2} + \\frac{ n \\bar{X} + n}{(\\lambda + 1)^2}$ \\\n",
        "Тогда $ \\displaystyle -E \\frac{\\partial^2 LL(\\vec{X}, \\theta)}{ \\partial \\lambda^2} = E\\frac{n \\bar{X}}{\\lambda^2} - E\\frac{ n \\bar{X} + n}{(\\lambda + 1)^2} =  \\frac{n}{n\\lambda^2}  \\sum_{i=1}^{n}EX_i - \\frac{1}{(\\lambda + 1)^2} \\left(\\sum_{i=1}^{n}EX_i  + n\\right) = \\frac{n \\lambda}{\\lambda^2} - \\frac{n(\\lambda + 1)}{(\\lambda+1)^2} = \\frac{n}{\\lambda} - \\frac{n}{\\lambda + 1} = \\frac{n}{\\lambda (\\lambda + 1)}$\\\n",
        "$ \\displaystyle I(\\lambda) = \\frac{1}{\\lambda (\\lambda + 1)} $\n",
        "\n",
        "$ \\displaystyle x_{a} : Ф(x_a) = 1 - \\frac{\\large \\alpha_1}{\\large 2} = 1 - 0.01 = 0.99 \\implies x_\\alpha = 2.326$\\\n",
        "$ \\lambda \\in \\left[ \\bar{X} - \\frac{\\large x_{\\alpha} \\sqrt{\\bar{X} (\\bar{X} + 1)}}{\\large \\sqrt{n}}; \\bar{X} + \\frac{\\large x_{\\alpha} \\sqrt{\\bar{X} (\\bar{X} + 1)}}{\\large \\sqrt{n}} \\right] = [2.502, 5.418]$ \\\n",
        "\\\n",
        "**2 способ.** На основе ЦПТ. \\\n",
        "$ \\sqrt{n} \\frac{\\large \\hat{\\lambda} - \\lambda}{\\large \\sqrt{\\lambda}} \\sim \\mathcal{N}(0, 1)$ \\\n",
        "$ x_{\\alpha} : Ф(x_a) = 1 - \\frac{\\large \\alpha_1}{\\large 2} = 1 - 0.01 = 0.99$ \\\n",
        "$ x_{\\alpha} = 2.326 $\\\n",
        "$ P_{\\lambda} \\left( \\sqrt{n} \\frac{\\large \\left| \\hat{\\lambda} - \\lambda \\right|}{\\sqrt{\\large \\lambda (\\lambda + 1)}} \\leq x_{\\alpha}\\right) = 1 - \\alpha_1 = 0.98 $ \\\n",
        "\\\n",
        "**2.1)** $ P_{\\lambda} \\left( \\sqrt{n} \\frac{\\large \\left| \\bar{X} - \\lambda \\right|}{\\sqrt{\\large \\lambda (\\lambda + 1)}} \\leq x_{\\alpha}\\right) = 0.98 $ \\\n",
        "$ \\left| \\bar{X} - \\lambda \\right| \\leq \\frac{\\large x_{\\alpha} \\sqrt{\\lambda (\\lambda + 1)}}{\\large \\sqrt{n}} \\implies \\left( \\bar{X} - \\lambda \\right) ^ 2 \\leq \\frac {\\large x_{\\alpha}^2 \\lambda (\\lambda + 1)}{\\large n} \\implies n \\left( \\bar{X} \\right)^2 - 2n \\lambda \\bar{X} + n \\lambda^2 - x_{\\alpha}^2 \\lambda^2 - x_{\\alpha}^2 \\lambda \\leq 0$\\\n",
        "$\\lambda^2 (n - x_\\alpha^2) - \\lambda \\left( 2n \\bar{X} + x_{\\alpha}^2 \\right) + n \\left( \\bar{X} \\right)^2 \\leq 0 $ \\\n",
        "$ D = \\left( 2n \\bar{X} + x_{\\alpha}^2 \\right) ^ 2 - 4 n \\left( \\bar{X} \\right)^2 (n - x_\\alpha^2) = 21282.567 $ \\\n",
        "$ \\lambda_1 = \\frac{\\large 2n \\bar{X} + x_{\\alpha}^2 - \\sqrt{D}}{\\large 2(n - x_\\alpha^2)} = 3.357 $ \\\n",
        "$ \\lambda_2 = \\frac{\\large 2n \\bar{X} + x_{\\alpha}^2 + \\sqrt{D}}{\\large 2(n - x_\\alpha^2)} = 4.671 $ \\\n",
        "$ \\lambda \\in \\left[ 2.865, 6.137 \\right] $ \\\n",
        "\\\n",
        "**2.2)** $ P_{\\lambda} \\left( \\sqrt{n} \\frac{\\large \\left| \\bar{X} - \\lambda \\right|}{\\sqrt{\\large \\bar{X} (\\bar{X} + 1)}} \\leq x_{\\alpha}\\right) = 0.98 $ \\\n",
        "$ -x_{\\alpha} \\leq \\sqrt{n} \\frac{\\large \\bar{X} - \\lambda}{\\sqrt{\\large \\bar{X} (\\bar{X} + 1)}} \\leq x_{\\alpha} \\implies \\bar{X} - \\frac{\\large x_{\\alpha} \\sqrt{\\bar{X} (\\bar{X} + 1)}}{\\large \\sqrt{n}} \\leq \\lambda \\leq \\bar{X} + \\frac{\\large x_{\\alpha} \\sqrt{\\bar{X} (\\bar{X} + 1) }}{\\large \\sqrt{n}}$ \\\n",
        "$ \\lambda \\in \\left[ 2.502, 5.418 \\right] $ \\\n",
        "\\\n",
        "**2.3)** $ P_{\\lambda} \\left( \\sqrt{n} \\frac{\\large \\left| \\bar{X} - \\lambda \\right|}{\\large S} \\leq x_{\\alpha}\\right) = 0.98 $ \\\n",
        "$ -x_{\\alpha} \\leq \\sqrt{n} \\frac{\\large \\bar{X} - \\lambda}{\\large S} \\leq x_{\\alpha} \\implies \\bar{X} - \\frac{\\large x_{\\alpha} S}{\\large \\sqrt{n}} \\leq \\lambda \\leq \\bar{X} + \\frac{\\large x_{\\alpha} S}{\\large \\sqrt{n}}$ \\\n",
        "$ \\lambda \\in \\left[ 3.136, 4.784 \\right] $\n"
      ],
      "metadata": {
        "id": "MsFseKq_y_ts"
      }
    },
    {
      "cell_type": "markdown",
      "source": [
        "**e)** Таблица частот \\\n",
        "$ \\begin{array}{|c|c|} \\hline X_{(i)} & 1 & 2 & 3 & 4 & 5 & 6 & 8 & 9 & 13 \\\\ \\hline \\nu(x = X_{(i)})  & 6 & 11 & 9 & 8 & 4 & 6 & 3 & 2 & 1  \\\\ \\hline\n",
        "\\end{array} $\n",
        "\n",
        "Сгруппируем данные по интевалам.\\\n",
        "$ \\begin{array}{|c|c|} \\hline j & 1 & 2 & 3 & 4 & 5 & 6 & 7 & 8 & 9\\\\ \\hline I_j & (-\\infty, 1] & (1, 2] & (2, 3] & (3, 4] & (4, 5] & (5, 6] & (6, 8] & (8, 9] & (9, +\\infty) \\\\ \\hline \\nu_j  & 6 & 11 & 9 & 8 & 4 & 6 & 3 & 2 & 1  \\\\ \\hline\n",
        "\\end{array} $ \\\n",
        "\\\n",
        "$ \\measuredangle$ Основную гипотезу $H_0: P_{\\lambda}(\\xi \\in I_j) = P_{\\lambda_0}(\\xi \\in I_j)$ для всех $j = 1...9$ \\\n",
        "и альтернативную - $ H_А: {\\exists j}$ $P_{\\lambda}(I_j) \\neq P_{\\lambda_0}(I_j)$ при $j \\in 1...9$ \\\n",
        "Гипотеза $ H_0 $ является более слабой по отношению к предложенной в условии, поэтому опровержение $ H_0 $ влечёт за собой опровержение и заданной гипотезы. \\\n",
        "\\\n",
        "Вычислим результаты и структурируем их в таблице \\\n",
        "$ \\begin{array}{|c|c|} \\hline I_j & \\nu_j & p_{j0} & \\frac{\\large \\left( \\nu -np_{j0} \\right)^2}{\\large np_{j0}}\\\\ \\hline (-\\infty, 1] & 6 & 0.306 & 5.653 \\\\ \\hline (1, 2] & 11 & 0.116 &  4.662\\\\ \\hline (2, 3] & 9 & 0.096 & 3.675\\\\ \\hline (3, 4] & 8 & 0.08 & 4.0 \\\\ \\hline (4, 5] & 4 & 0.067 & 0.126 \\\\ \\hline (5, 6] & 6 & 0.056 & 3.657 \\\\ \\hline (6, 8] & 3 & 0.085 & 0.368\\\\ \\hline (8, 9] & 2 & 0.032 & 0.1 \\\\ \\hline (9, +\\infty) & 1 & 0.162 & 6.223 \\\\ \\hline \\end{array} $ \\\n",
        "\\\n",
        "$ \\chi^2 = 28.464$\\\n",
        "\\\n",
        "Расчёты получены в результате следующей программы"
      ],
      "metadata": {
        "id": "l070VrBwXmWh"
      }
    },
    {
      "cell_type": "code",
      "source": [
        "def Geom(h, x):\n",
        "  sm = 0\n",
        "\n",
        "  for i in range(x + 1):\n",
        "    sm += (h ** i) / (h + 1) ** (i + 1)\n",
        "  return sm\n",
        "\n",
        "def CuclSum(h):\n",
        "  if h == 0:\n",
        "    return 10**6\n",
        "\n",
        "  arr = [1, 2, 3, 4, 5, 6, 8, 9]\n",
        "  res = [0] * (len(arr) + 1)\n",
        "\n",
        "  #Вычисление p_j0\n",
        "  res[0] = Geom(h, 1)\n",
        "\n",
        "  for i in range(1, len(arr)):\n",
        "    res[i] = Geom(h, arr[i]) - Geom(h, arr[i - 1])\n",
        "  res[len(arr)] = 1 - Geom(h, 9)\n",
        "  res = [round(elem, 3) for elem in res]\n",
        "  print(\"p_j0 =\", res)\n",
        "  print(\"Проверка результата. Сумма p_j0 =\", sum(res))\n",
        "\n",
        "  #Вычисление X^2\n",
        "  v = [6, 11, 9, 8, 4, 6, 3, 2, 1]\n",
        "  ans = [(v[i] - 50 * res[i]) ** 2 / (50 * res[i]) for i in range(len(v))]\n",
        "  ans = [round(a, 3) for a in ans]\n",
        "  print(\"Последний столбец =\", ans)\n",
        "  print(\"X^2 =\", round(sum(ans), 3))\n",
        "  return sum(ans)\n",
        "\n",
        "\n",
        "CuclSum(5)"
      ],
      "metadata": {
        "colab": {
          "base_uri": "https://localhost:8080/"
        },
        "id": "wL1uBkd_X14U",
        "outputId": "08d2a111-9aef-40fd-b762-0d790519e766"
      },
      "execution_count": 15,
      "outputs": [
        {
          "output_type": "stream",
          "name": "stdout",
          "text": [
            "p_j0 = [0.306, 0.116, 0.096, 0.08, 0.067, 0.056, 0.085, 0.032, 0.162]\n",
            "Проверка результата. Сумма p_j0 = 1.0\n",
            "Последний столбец = [5.653, 4.662, 3.675, 4.0, 0.126, 3.657, 0.368, 0.1, 6.223]\n",
            "X^2 = 28.464\n"
          ]
        },
        {
          "output_type": "execute_result",
          "data": {
            "text/plain": [
              "28.464"
            ]
          },
          "metadata": {},
          "execution_count": 15
        }
      ]
    },
    {
      "cell_type": "markdown",
      "source": [
        "$ x_{a} : \\mathcal{K}_{r-1}(x_a) = \\mathcal{K}_8(x_a) = 1 - \\alpha_1 = 1 - 0.02 = 0.98 \\implies x_\\alpha = 18.168$\\\n",
        "Т.к. $\\chi^2 > x_\\alpha$ , то гипотеза отвергается\\\n",
        "Найдём наибольшее значение уровня значимости, на котором нет оснований отвергнуть гипотезу. Пусть $\\mathbb{P}(\\chi^2 \\leq x_\\alpha) = 0$\\\n",
        "Тогда $ \\chi^2 \\leq x_\\alpha \\implies \\chi^2 \\leq \\mathcal{K}_8^{-1}(1 - \\alpha_1) \\implies \\mathcal{K}_8(\\chi^2) \\leq 1 - \\alpha_1 \\implies \\alpha_1 \\leq 1 - \\mathcal{K}_8(\\chi^2)$\n"
      ],
      "metadata": {
        "id": "mn0P6R7QbxMk"
      }
    },
    {
      "cell_type": "code",
      "source": [
        "x_a = 28.464\n",
        "print(\"Наибольшее значение уровня значимости =\", round(1 - sps.chi2.cdf(x_a, 8), 5))"
      ],
      "metadata": {
        "colab": {
          "base_uri": "https://localhost:8080/"
        },
        "id": "Uc7DKelWcT4-",
        "outputId": "c98cefd2-8855-40f5-db18-96096957a290"
      },
      "execution_count": 16,
      "outputs": [
        {
          "output_type": "stream",
          "name": "stdout",
          "text": [
            "Наибольшее значение уровня значимости = 0.00039\n"
          ]
        }
      ]
    },
    {
      "cell_type": "markdown",
      "source": [
        "**f)**\n",
        "Проверим сложную гипотезу $ H_0 : X_1... X_n \\sim Pois(\\lambda) $ \\\n",
        "Альтернативой ей будет служить $ H_A : X_1 ...X_n$ не распределена, как $Pois(\\lambda)$\n",
        "\n",
        "Таблица интервалов\\\n",
        "$ \\begin{array}{|c|c|} \\hline j & 1 & 2 & 3 & 4 & 5 & 6 & 7 & 8 & 9\\\\ \\hline I_j & (-\\infty, 1] & (1, 2] & (2, 3] & (3, 4] & (4, 5] & (5, 6] & (6, 8] & (8, 9] & (9, +\\infty) \\\\ \\hline \\nu_j  & 6 & 11 & 9 & 8 & 4 & 6 & 3 & 2 & 1  \\\\ \\hline\n",
        "\\end{array} $ \\\n",
        "\n",
        "Т.к. гипотеза сложная, то статистикой критерия возьмём $ \\tilde{\\chi^2} = min_\\lambda \\chi^2(\\lambda) = min_\\lambda \\displaystyle \\sum_{j=1}^{9} \\frac{\\large \\left( \\nu_j -np_{j0}(\\lambda) \\right)^2}{\\large np_{j0}(\\lambda)} \\underset{n \\rightarrow \\infty}{\\implies} \\chi^2_{7}$. Размерность $\\chi^2$-распределения вычисляется по формуле $ r - d - 1 $, где $r$ - количество интервалов, а $d = dim(\\Theta_0)$"
      ],
      "metadata": {
        "id": "w5r36c6scoW6"
      }
    },
    {
      "cell_type": "code",
      "source": [
        "def Geom(h, x):\n",
        "  sm = 0\n",
        "\n",
        "  for i in range(x + 1):\n",
        "    sm += (h ** i) / (h + 1) ** (i + 1)\n",
        "  return sm\n",
        "\n",
        "def CuclSum(h):\n",
        "  if h == 0:\n",
        "    return 10**6\n",
        "\n",
        "  arr = [1, 2, 3, 4, 5, 6, 8, 9]\n",
        "  res = [0] * (len(arr) + 1)\n",
        "\n",
        "  #Вычисление p_j0\n",
        "  res[0] = Geom(h, 1)\n",
        "  sm = res[0]\n",
        "\n",
        "  for i in range(1, len(arr)):\n",
        "    res[i] = Geom(h, arr[i]) - Geom(h, arr[i - 1])\n",
        "  res[len(arr)] = 1 - Geom(h, 9)\n",
        "\n",
        "  #Вычисление X^2\n",
        "  v = [6, 11, 9, 8, 4, 6, 3, 2, 1]\n",
        "  ans = [(v[i] - 50 * res[i]) ** 2 / (50 * res[i]) for i in range(len(v))]\n",
        "  return sum(ans)\n",
        "\n",
        "result = spo.minimize_scalar(CuclSum)\n",
        "print(\"Значение X^2 =\", round(result.fun, 3), \"при значении параметра =\", round(result.x, 3))\n"
      ],
      "metadata": {
        "colab": {
          "base_uri": "https://localhost:8080/"
        },
        "id": "c09P057gcy2n",
        "outputId": "8ef625a2-dacb-493e-b59c-3e63958430b1"
      },
      "execution_count": 17,
      "outputs": [
        {
          "output_type": "stream",
          "name": "stdout",
          "text": [
            "Значение X^2 = 26.515 при значении параметра = 3.963\n"
          ]
        }
      ]
    },
    {
      "cell_type": "markdown",
      "source": [
        "$ x_{a} : \\mathcal{K}_{r-d-1}(x_a) = \\mathcal{K}_7(x_a) = 1 - \\alpha_1 = 1 - 0.02 = 0.98 \\implies x_\\alpha = 16.622$\\\n",
        "Т.к. $\\chi^2 > x_\\alpha$ , то гипотеза отвергается\\\n",
        "\\\n",
        "Найдём наибольшее значение уровня значимости, на котором нет оснований отвергнуть гипотезу. Пусть $\\mathbb{P}(\\chi^2 \\leq x_\\alpha) = 0$\\\n",
        "Тогда $ \\chi^2 \\leq x_\\alpha \\implies \\chi^2 \\leq \\mathcal{K}_7^{-1}(1 - \\alpha_1) \\implies \\mathcal{K}_7(\\chi^2) \\leq 1 - \\alpha_1 \\implies \\alpha_1 \\leq 1 - \\mathcal{K}_7(\\chi^2)$\n"
      ],
      "metadata": {
        "id": "2_23zoFXdXef"
      }
    },
    {
      "cell_type": "code",
      "source": [
        "x_a = 26.515\n",
        "print(\"Наибольшее значение уровня значимости =\", round(1 - sps.chi2.cdf(x_a, 7), 5))"
      ],
      "metadata": {
        "colab": {
          "base_uri": "https://localhost:8080/"
        },
        "id": "1-ZYJ80bdxFC",
        "outputId": "a3ca2dde-48fb-4576-cac8-4102dae5e666"
      },
      "execution_count": 18,
      "outputs": [
        {
          "output_type": "stream",
          "name": "stdout",
          "text": [
            "Наибольшее значение уровня значимости = 0.00041\n"
          ]
        }
      ]
    },
    {
      "cell_type": "markdown",
      "source": [
        "### **2 задание**.\n",
        "#### **Пункт А**. Построить вариационный ряд, эмпирическую функцию распределения, гистограмму и полигон частот с шагом $t = 0.05$.\n",
        "Первоначальная выборка:\n",
        "$ \\begin{array}{|c|c|} \\hline X_{i} & 0.0347 & 0.0253 & -0.0873 & 0.0323 & 0.019 & -0.0266 & 0.1116 & -0.1212 & 0.0725 & 0.0018 & -0.0959 & -0.1773 & -0.1928 & 0.1064 & -0.1606 & -0.2412 & -0.0053 & 0.0637 & 0.1666 & 0.1289 & -0.0745 & -0.0059 & 0.0907 & 0.1211 & 0.0213 & 0.1058 & 0.0129 & -0.1494 & 0.0066 & -0.1275 & 0.0381 & 0.1683 & -0.0047 & -0.0279 & 0.1033 & 0.1309 & -0.1205 & -0.0256 & 0.0276 & 0.0017 & 0.0262 & -0.0784 & -0.0192 & 0.0124 & -0.091 & 0.1777 & 0.0826 & -0.1139 & -0.0166 & -0.0961 \\\\ \\hline\n",
        "\\end{array} $\n",
        "\n",
        "Вариационный ряд:\n",
        "$ \\begin{array}{|c|c|} \\hline X_{i} & -0.2412 & -0.1928 & -0.1773 & -0.1606 & -0.1494 & -0.1275 & -0.1212 & -0.1205 & -0.1139 & -0.0961 & -0.0959 & -0.091 & -0.0873 & -0.0784 & -0.0745 & -0.0279 & -0.0266 & -0.0256 & -0.0192 & -0.0166 & -0.0059 & -0.0053 & -0.0047 & 0.0017 & 0.0018 & 0.0066 & 0.0124 & 0.0129 & 0.019 & 0.0213 & 0.0253 & 0.0262 & 0.0276 & 0.0323 & 0.0347 & 0.0381 & 0.0637 & 0.0725 & 0.0826 & 0.0907 & 0.1033 & 0.1058 & 0.1064 & 0.1116 & 0.1211 & 0.1289 & 0.1309 & 0.1666 & 0.1683 & 0.1777 \\\\ \\hline\n",
        "\\end{array} $\n",
        "\n",
        "Построим эмпирическую функию распределения $F_n(x) = \\frac{1}{n} \\displaystyle\\sum_{i=1}^{n} \\chi \\{ X_i < x \\}$ и гистограмму частот $ H(x) = \\frac{\\nu(x)}{nh} $ при $h = 1$.\n"
      ],
      "metadata": {
        "id": "OusJf-Eweo8X"
      }
    },
    {
      "cell_type": "code",
      "source": [
        "def VarRow(x):\n",
        "  arr = [-0.2412, -0.1928, -0.1773, -0.1606, -0.1494, -0.1275, -0.1212, -0.1205, -0.1139, -0.0961, -0.0959, -0.091, -0.0873, -0.0784, -0.0745, -0.0279, -0.0266, -0.0256, -0.0192, -0.0166, -0.0059, -0.0053, -0.0047, 0.0017, 0.0018, 0.0066, 0.0124, 0.0129, 0.019, 0.0213, 0.0253, 0.0262, 0.0276, 0.0323, 0.0347, 0.0381, 0.0637, 0.0725, 0.0826, 0.0907, 0.1033, 0.1058, 0.1064, 0.1116, 0.1211, 0.1289, 0.1309, 0.1666, 0.1683, 0.1777]\n",
        "  sm = 0\n",
        "  for pair in arr:\n",
        "    if pair >= x:\n",
        "      return sm\n",
        "    sm += 1\n",
        "  return sm\n",
        "\n",
        "x = np.arange(-0.5, 0.5, 0.00001)\n",
        "y = [VarRow(elem) / 50 for elem in x]\n",
        "\n",
        "\n",
        "\n",
        "\n",
        "plt.title('График эмпирической функции распределения')\n",
        "plt.xlabel('x', fontsize=12)\n",
        "plt.ylabel('Fn(x)', fontsize=12)\n",
        "plt.plot(x, y, 'red')\n",
        "plt.show()\n"
      ],
      "metadata": {
        "colab": {
          "base_uri": "https://localhost:8080/",
          "height": 476
        },
        "id": "VrwWhGFjevxe",
        "outputId": "78d095c9-9825-47d6-c2d0-dcdc6483002d"
      },
      "execution_count": 19,
      "outputs": [
        {
          "output_type": "display_data",
          "data": {
            "text/plain": [
              "<Figure size 640x480 with 1 Axes>"
            ],
            "image/png": "[encoded data removed]"
          },
          "metadata": {}
        }
      ]
    },
    {
      "cell_type": "code",
      "source": [
        "arr = [-0.2412, -0.1928, -0.1773, -0.1606, -0.1494, -0.1275, -0.1212, -0.1205, -0.1139, -0.0961, -0.0959, -0.091, -0.0873, -0.0784, -0.0745, -0.0279, -0.0266, -0.0256, -0.0192, -0.0166, -0.0059, -0.0053, -0.0047, 0.0017, 0.0018, 0.0066, 0.0124, 0.0129, 0.019, 0.0213, 0.0253, 0.0262, 0.0276, 0.0323, 0.0347, 0.0381, 0.0637, 0.0725, 0.0826, 0.0907, 0.1033, 0.1058, 0.1064, 0.1116, 0.1211, 0.1289, 0.1309, 0.1666, 0.1683, 0.1777]\n",
        "\n",
        "plt.title('Гистограмма частот')\n",
        "plt.xlabel('x', fontsize=12)\n",
        "plt.ylabel('H(x)', fontsize=12)\n",
        "counts, bins = np.histogram(arr, bins=[i / 100 for i in range(-25, 25, 5)])\n",
        "plt.hist(bins[:-1], edgecolor='black', weights=counts / len(arr), bins=bins, color='orange')\n",
        "plt.plot(bins[:-1] + 0.025, counts / len(arr), color='red')\n",
        "plt.show()"
      ],
      "metadata": {
        "colab": {
          "base_uri": "https://localhost:8080/",
          "height": 476
        },
        "id": "HbkZgWU-i-Ih",
        "outputId": "10b855a9-5e9c-4879-b186-b99c0090e514"
      },
      "execution_count": 20,
      "outputs": [
        {
          "output_type": "display_data",
          "data": {
            "text/plain": [
              "<Figure size 640x480 with 1 Axes>"
            ],
            "image/png": "[encoded data removed]"
          },
          "metadata": {}
        }
      ]
    },
    {
      "cell_type": "markdown",
      "source": [
        "#### **Пункт B**. Вычислить выборочные аналоги следующих числовых характеристик:\n",
        "(i) математического ожидания; (ii) дисперсии; (iii) СКО; (iv) медианы; (v) асимметрии; (vi) эксцесса; (vii) вероятности $ \\mathbb{P}(X \\in [-0.04, 0.02]) $."
      ],
      "metadata": {
        "id": "CFakI5V0pGqq"
      }
    },
    {
      "cell_type": "code",
      "source": [
        "arr = np.array([-0.2412, -0.1928, -0.1773, -0.1606, -0.1494, -0.1275, -0.1212, -0.1205, -0.1139, -0.0961, -0.0959, -0.091, -0.0873, -0.0784, -0.0745, -0.0279, -0.0266, -0.0256, -0.0192, -0.0166, -0.0059, -0.0053, -0.0047, 0.0017, 0.0018, 0.0066, 0.0124, 0.0129, 0.019, 0.0213, 0.0253, 0.0262, 0.0276, 0.0323, 0.0347, 0.0381, 0.0637, 0.0725, 0.0826, 0.0907, 0.1033, 0.1058, 0.1064, 0.1116, 0.1211, 0.1289, 0.1309, 0.1666, 0.1683, 0.1777])\n",
        "\n",
        "X = np.mean(arr)\n",
        "S2 = np.var(arr)\n",
        "S = np.std(arr)\n",
        "z = np.median(arr)\n",
        "asi = np.sum((arr - X)**3) / (50 * S ** 3)\n",
        "exc = np.sum((arr - X)**4) / (50 * S ** 4) - 3\n",
        "\n",
        "print(\"Выборочное среднее =\", round(X, 5))\n",
        "print(\"Выборочная дисперсия =\", round(S2, 5))\n",
        "print(\"СКО =\", round(S, 5))\n",
        "print(\"Выборочная медиана равна =\", round(z, 5))\n",
        "print(\"Выборочная ассиметрия равна =\", round(asi, 5))\n",
        "print(\"Выборочный коэффициент эксцесса =\", round(exc, 5))\n",
        "print(\"Выборочная вероятность попадения в промежуток [-0.04, 0.02] =\", (VarRow(0.02) - VarRow(-0.04)) / 50)"
      ],
      "metadata": {
        "colab": {
          "base_uri": "https://localhost:8080/"
        },
        "id": "WyOAwdHzpI1n",
        "outputId": "6bdcd4ac-190e-45cf-884a-b819d51c60f9"
      },
      "execution_count": 21,
      "outputs": [
        {
          "output_type": "stream",
          "name": "stdout",
          "text": [
            "Выборочное среднее = -0.00339\n",
            "Выборочная дисперсия = 0.00989\n",
            "СКО = 0.09947\n",
            "Выборочная медиана равна = 0.0042\n",
            "Выборочная ассиметрия равна = -0.24899\n",
            "Выборочный коэффициент эксцесса = -0.55134\n",
            "Выборочная вероятность попадения в промежуток [-0.04, 0.02] = 0.28\n"
          ]
        }
      ]
    },
    {
      "cell_type": "markdown",
      "source": [
        "#### **Пункт C.** В предположении, что исходные наблюдения являются выборкой из нормального распределения, построить оценку максимального правдоподобия параметров $(a, \\sigma^2)$ и соответствующие оценки по методу моментов. Найти смещение оценок.\n",
        "\n",
        "Нормальное распределение: $\\xi \\sim \\mathcal{N}(a, \\sigma^2) \\implies p_{(a, \\sigma^2)}(x) = \\frac{1}{\\sqrt{2 \\pi \\sigma^2}} e^{- \\frac{\\Large (x - a)^2}{\\Large 2  \\sigma^2}}$ \\\n",
        "$ supp \\xi = \\mathbb{R}; $ $ E_\\theta \\xi = a; \\ D_\\theta \\xi = \\sigma^2 $ \\\n",
        "\\\n",
        "\\\n",
        "Расчёт ОМП \\\n",
        "$ L(\\vec{X}, \\theta) = \\small \\displaystyle \\prod_{i = 1}^{n} \\frac{1}{\\sqrt{2 \\pi \\sigma^2}} e^{- \\frac{\\Large (X_i - a)^2}{\\Large 2  \\sigma^2}} = (2 \\pi)^{-\\frac{\\Large n}{\\Large 2}} (\\sigma)^{\\large -n} e^{- \\displaystyle \\sum_{i = 1}^{n} \\frac{(X_i - a)^2}{2 \\sigma^2} }$ \\\n",
        "$ LL(\\vec{X}, \\theta) = - \\frac{n}{2} ln(2 \\pi) - n ln \\sigma - \\displaystyle \\sum_{i = 1}^{n} \\frac{(X_i - a)^2}{2 \\sigma^2}$ \\\n",
        "$ \\frac{\\large \\partial LL(\\vec{X}, \\theta)}{\\large \\partial a} = - \\displaystyle \\sum_{i = 1}^{n} \\frac{2(X_i - a)}{2 \\sigma^2} (-1) = \\displaystyle \\sum_{i = 1}^{n} (X_i - a) = \\displaystyle \\sum_{i = 1}^{n} X_i - na = 0 $ \\\n",
        "$ \\hat{a} = \\bar{X} = -0.00339 $\\\n",
        "\\\n",
        "$ \\frac{\\large \\partial LL(\\vec{X}, \\theta)}{\\large \\partial \\sigma} = - \\frac{\\Large n}{\\Large \\sigma} + \\displaystyle \\sum_{i = 1}^{n} \\frac{(X_i - a)^2}{ \\sigma^3} = 0 $\\\n",
        "$ - \\sigma^2 n + \\displaystyle \\sum_{i = 1}^{n} (X_i - a)^2 = 0 $\\\n",
        "$ \\widehat{\\sigma^2} = \\frac{\\displaystyle \\sum_{i = 1}^{n} (X_i - a)^2}{\\Large n} = \\frac{\\displaystyle \\sum_{i = 1}^{n} (X_i - \\bar{X})^2}{\\Large n} = S^2 = 0.00989$\n",
        "\\\n",
        "\\\n",
        "Расчёт ОММ \\\n",
        "$ EX_1 = a; \\quad M_1 = \\bar{X} $ \\\n",
        "$ EX_1^2 = DX_1 + (EX_1)^2 = \\sigma^2 + a^2 ; \\quad M_1 = \\displaystyle \\frac{1}{n}  \\sum_{i = 1}^{n} X_i^2 = \\bar{X^2} $ \\\n",
        "$\\begin{cases} \\tilde{a} = \\bar{X} \\\\ a^2 + \\sigma^2 = \\bar{X^2} \\end{cases} \\quad \\begin{cases} \\tilde{a} = \\bar{X} \\\\ (\\bar{X})^2 + \\sigma^2 = \\bar{X^2} \\end{cases} \\quad \\begin{cases} \\tilde{a} = \\bar{X} = -0.00339 \\\\ \\tilde{\\sigma^2} = S^2 = 0.00989 \\end{cases} $\n",
        "\\\n",
        "\\\n",
        "Оценки совпадают. Посчитаем смещещение оценок.\\\n",
        "$ E \\hat{a} = E \\bar{X} = \\frac{1}{n} E \\displaystyle \\sum_{i=1}^{n}{X_i} = \\frac{1}{n} \\displaystyle \\sum_{i=1}^{n} E {X_i} = \\frac{1}{n} \\displaystyle \\sum_{i=1}^{n} a  = \\frac{a n}{n} = a $\\\n",
        "Несмещённая оценка \\\n",
        "\\\n",
        "$ E \\hat{\\sigma^2} = E S^2 = E \\displaystyle \\sum_{i = 1}^{n} (X_i - \\bar{X})^2 = [ X_i - E_\\theta X_i = Y_i ] = $ \\\n",
        " $[ E_\\theta Y_i = 0 \\quad D_\\theta Y_i = \\sigma^2 ]$ \\\n",
        "  $= \\frac{1}{n} E_\\theta \\sum_{i = 1}^{n} (Y_i - \\bar{Y}) = \\frac{1}{n} E_\\theta (\\bar{Y} - (\\bar{Y})^2) = E \\bar{Y^2} - E(\\bar{Y})^2 $\\\n",
        "$ \\displaystyle E(\\bar{Y^2}) = \\frac{1}{n} E \\sum_{i=1}^{n} Y_i^2  = \\frac{1}{n} \\sum_{i=1}^{n} EY_i^2 = \\sigma^2 $\\\n",
        "$ \\displaystyle E(\\bar{Y})^2 = \\frac{1}{n^2} E( \\sum_{i=1}^{n} Y_i )^2 = \\frac{1}{n} \\sum_{i=1}^{n} \\sum_{j=1}^{n}EY_i Y_j$\\\n",
        "$ EY_i Y_j = \\begin{cases} \\sigma^2 \\quad i=j \\\\ 0 \\quad i \\neq j \\end{cases} $\\\n",
        "$ \\displaystyle E_\\theta S^2 = \\sigma^2 - \\frac{\\sigma^2}{n} = \\frac{n - 1}{n} \\sigma^2$\\\n",
        "Смещённая оценка\\\n",
        "$ (S')^2 = \\frac{n}{n - 1} S^2 $\n"
      ],
      "metadata": {
        "id": "UjTFB7-FjmAa"
      }
    },
    {
      "cell_type": "markdown",
      "source": [
        "#### **Пункт D.** Построить доверительные интервалы уровня значимости $a_2 = 0.05$ для параметров $ (a, \\sigma^2) $\n",
        "\n",
        "Доверительный интервал для параметра $a$.\\\n",
        "По лемме Фишера выберем генератор $ G(\\vec{X}, a) = \\sqrt{n - 1} \\frac{\\bar{X} - a}{S} \\sim S_{n - 1} $\\\n",
        "$ \\mathbb{P}_a \\left( \\sqrt{n - 1} \\frac{\\bar{X} - a}{S} \\in [-x_\\alpha; x_\\alpha] \\right) = 1 - \\alpha_2 $\\\n",
        "$ x_\\alpha : S_{n - 1}(x_\\alpha) = S_{49}(x_\\alpha) = 1 - \\frac{\\alpha_2}{2} = 0.975  $"
      ],
      "metadata": {
        "id": "2DDER-uf2hKf"
      }
    },
    {
      "cell_type": "code",
      "source": [
        "fx = 0.975\n",
        "x_a = sps.t.ppf(fx, 49)\n",
        "\n",
        "print(\"Квантиль x_a =\", round(x_a, 3))\n",
        "print(\"Функция распределения S_49(x_a) =\", round(sps.t.cdf(x_a, 49), 3))"
      ],
      "metadata": {
        "colab": {
          "base_uri": "https://localhost:8080/"
        },
        "id": "o92b2wps5nOt",
        "outputId": "b3f870b4-66c5-4128-a4af-f1b6a222fb35"
      },
      "execution_count": 22,
      "outputs": [
        {
          "output_type": "stream",
          "name": "stdout",
          "text": [
            "Квантиль x_a = 2.01\n",
            "Функция распределения S_49(x_a) = 0.975\n"
          ]
        }
      ]
    },
    {
      "cell_type": "markdown",
      "source": [
        "$ \\displaystyle a \\in \\left[  \\bar{X} - \\frac{x_\\alpha S}{\\sqrt{n-  1}}; \\bar{X} + \\frac{x_\\alpha S}{\\sqrt{n-  1}} \\right] = [-0.03195; 0.02517]$\n",
        "\n",
        "\n",
        "---\n",
        "\n",
        "Доверительный интеврал для параметра $\\sigma^2$\n",
        "По лемме Фишера выберем генератор $ \\displaystyle G(\\vec{X}, \\sigma^2) = \\frac{nS^2}{\\sigma^2} \\sim \\chi^2_{n - 1}$\\\n",
        "$ \\mathbb{P}_{\\sigma^2} \\left( \\frac{nS^2}{\\sigma^2} \\in [-x_\\alpha; x_\\alpha] \\right) = 1 - \\alpha_2 $\\\n",
        "$ x_{1\\alpha} : \\mathcal{K}_{n - 1}(x_{1\\alpha}) = \\mathcal{K}_{49}(x_{1\\alpha}) = \\frac{\\alpha_2}{2} = 0.025  $\\\n",
        "$ x_{2\\alpha} : \\mathcal{K}_{n - 1}(x_{2\\alpha}) = \\mathcal{K}_{49}(x_{2\\alpha}) = 1 - \\frac{\\alpha_2}{2} = 0.975 $\n",
        "\n"
      ],
      "metadata": {
        "id": "HTkyyDYs6Myr"
      }
    },
    {
      "cell_type": "code",
      "source": [
        "x_1a = sps.chi2.ppf(0.025, 49)\n",
        "x_2a = sps.chi2.ppf(0.975, 49)\n",
        "\n",
        "print(\"Квантиль x_1a =\", round(x_1a, 3), \"Квантиль x_2a =\", round(x_2a, 3))\n",
        "print(\"Функция распределения K_8(x_1a) =\", round(sps.chi2.cdf(x_1a, 49), 3), \"K_8(x_2a) =\", round(sps.chi2.cdf(x_2a, 49), 3))"
      ],
      "metadata": {
        "colab": {
          "base_uri": "https://localhost:8080/"
        },
        "id": "hl7ytB9n88bx",
        "outputId": "d68f1d1e-92e2-4c94-b804-4526c888b1e8"
      },
      "execution_count": 23,
      "outputs": [
        {
          "output_type": "stream",
          "name": "stdout",
          "text": [
            "Квантиль x_1a = 31.555 Квантиль x_2a = 70.222\n",
            "Функция распределения K_8(x_1a) = 0.025 K_8(x_2a) = 0.975\n"
          ]
        }
      ]
    },
    {
      "cell_type": "markdown",
      "source": [
        "$ \\displaystyle \\sigma^2 \\in \\left[  \\frac{n S^2}{x_{2\\alpha}}; \\frac{n S^2}{x_{1\\alpha}} \\right] = [0.00704; 0.01567]$"
      ],
      "metadata": {
        "id": "ME-AaJiO9VeC"
      }
    },
    {
      "cell_type": "markdown",
      "source": [
        "#### **Пункт E** С использованием теоремы Колмогорова построить критерий значимости проверки простой гипотезы согласия с нормальным распределением с параметрами $ (\\alpha_0 = -0.11, \\sigma_0^2 = 0.01) $. Проверить гипотезу на уровне значимости $ a_2 = 0.05 $. Вычислить наибольшее значение уровня значимости, на котором ещё нет оснований отвергнуть данную гипотезу.\n",
        "\n",
        "Основаня гипотеза $ H_0 : X_1...X_n \\sim \\mathcal{N}(\\alpha_0, \\sigma_0^2) $\\\n",
        "Альтернативная гипотеза $ H_А : X_1...X_n$ не распределена, как $\\mathcal{N}(\\alpha_0, \\sigma_0^2) $\n",
        "\n",
        "Статистика критерия Колмогорова $ \\widehat{D_n} = max| F_n(x) - Ф_{(\\alpha_0, \\sigma_0^2)}(x) | $. Построим критерий Колмогорова.\\\n",
        "$\\widehat{\\varphi(\\vec{X})} = \\begin{cases} 0, \\quad \\widehat{D_n} \\leq x_\\alpha  \\\\ 1, \\quad \\widehat{D_n} > x_\\alpha \\end{cases}$, где $ x_\\alpha: \\mathcal{K_n}(x_\\alpha) = 1 - \\alpha_2 = 0.95 $\\\n",
        "\\\n",
        "Найдём $ x_a $  \n"
      ],
      "metadata": {
        "id": "caHHX0CUBvsf"
      }
    },
    {
      "cell_type": "code",
      "source": [
        "fx = 0.95\n",
        "x_a = sps.ksone.ppf(fx, 50)\n",
        "\n",
        "\n",
        "print(\"При квантиле x_a =\", round(x_a, 3))\n",
        "print(\"K_50(x) =\", round(sps.ksone.cdf(x_a, 50), 3))"
      ],
      "metadata": {
        "colab": {
          "base_uri": "https://localhost:8080/"
        },
        "id": "o1nXavB3N8HD",
        "outputId": "890b16d3-d632-48c9-bfba-547a597ddfef"
      },
      "execution_count": 24,
      "outputs": [
        {
          "output_type": "stream",
          "name": "stdout",
          "text": [
            "При квантиле x_a = 0.17\n",
            "K_50(x) = 0.95\n"
          ]
        }
      ]
    },
    {
      "cell_type": "markdown",
      "source": [
        "Критерий Колмогорова\\\n",
        "$\\widehat{\\varphi(\\vec{X})} = \\begin{cases} 0, \\quad \\widehat{D_n} \\leq 0.17  \\\\ 1, \\quad \\widehat{D_n} > 0.17 \\end{cases}$\n",
        "\n",
        "Найдём $D_n$"
      ],
      "metadata": {
        "id": "3cp2J7qEOl43"
      }
    },
    {
      "cell_type": "code",
      "source": [
        "def Fn(x):\n",
        "  arr = [-0.2412, -0.1928, -0.1773, -0.1606, -0.1494, -0.1275, -0.1212, -0.1205, -0.1139, -0.0961, -0.0959, -0.091, -0.0873, -0.0784, -0.0745, -0.0279, -0.0266, -0.0256, -0.0192, -0.0166, -0.0059, -0.0053, -0.0047, 0.0017, 0.0018, 0.0066, 0.0124, 0.0129, 0.019, 0.0213, 0.0253, 0.0262, 0.0276, 0.0323, 0.0347, 0.0381, 0.0637, 0.0725, 0.0826, 0.0907, 0.1033, 0.1058, 0.1064, 0.1116, 0.1211, 0.1289, 0.1309, 0.1666, 0.1683, 0.1777]\n",
        "  sm = 0\n",
        "  for pair in arr:\n",
        "    if pair >= x:\n",
        "      return sm / 50\n",
        "    sm += 1\n",
        "  return sm / 50\n",
        "\n",
        "x = np.arange(-1, 1, 0.001)\n",
        "y = [abs(Fn(elem) - sps.norm.cdf(elem, -0.11, 0.1)) for elem in x]\n",
        "\n",
        "\n",
        "print(\"Статистика Dn =\", round(max(y), 3))\n"
      ],
      "metadata": {
        "colab": {
          "base_uri": "https://localhost:8080/"
        },
        "id": "lPlym1A7OpJo",
        "outputId": "2299859b-4f70-4457-be75-ccba21f22928"
      },
      "execution_count": 25,
      "outputs": [
        {
          "output_type": "stream",
          "name": "stdout",
          "text": [
            "Статистика Dn = 0.494\n"
          ]
        }
      ]
    },
    {
      "cell_type": "markdown",
      "source": [
        "Т.к. $\\widehat{D_n} > x_\\alpha$, гипотеза $H_0$ отвергается.\\\n",
        "Вычислим наибольшее значение уровня значимости, на котором нет оснований отвергнуть гипотезу. Пусть $ P(\\widehat{D_n} \\leq x_\\alpha) = 0$.\\\n",
        "$ \\widehat{D_n} \\leq x_\\alpha \\implies \\widehat{D_n} \\leq \\mathcal{K_{50}^{-1}}(1 - \\alpha_2) \\implies \\mathcal{K_{50}}(\\widehat{D_n}) \\leq 1 - \\alpha_2 \\implies \\alpha_2 \\leq 1 - \\mathcal{K_{50}}(\\widehat{D_n})$"
      ],
      "metadata": {
        "id": "IgCmOKS1Rpom"
      }
    },
    {
      "cell_type": "code",
      "source": [
        "x_a = 0.494\n",
        "print(\"Наибольший уровень значимости a_2 =\", 1 - sps.ksone.cdf(x_a, 50))"
      ],
      "metadata": {
        "colab": {
          "base_uri": "https://localhost:8080/"
        },
        "id": "D5DYhqvLUSbr",
        "outputId": "0b15c295-3349-4670-aa01-3eae980e573c"
      },
      "execution_count": 26,
      "outputs": [
        {
          "output_type": "stream",
          "name": "stdout",
          "text": [
            "Наибольший уровень значимости a_2 = 4.336087044976011e-12\n"
          ]
        }
      ]
    },
    {
      "cell_type": "markdown",
      "source": [
        "#### **Пункт F** Используя гистограмму частот, построить критерий значимости $\\chi^2$ проверки простой гипотезы согласия с нормальным распределением с параметрами $ ( \\alpha_0 = -0.11, \\sigma^2 = 0.01 ) $. Проверить гипотезу на уровне значимости $\\alpha_2 = 0.05$. Вычислить наибольшее значение уровня значимости, на котором ещё нет оснований отвергнуть данную гипотезу.\n",
        "\n",
        "Таблица частот \\\n",
        "$ \\begin{array}{|c|c|} \\hline X_{(i)} & -0.2 & -0.15 & -0.1 & -0.05 & 0 & 0.05 & 0.1 & 0.15 & 0.2 \\\\ \\hline \\nu(x = X_{(i)})  & 1 & 3 & 5 & 6 & 8 & 13 & 4 & 7 & 3  \\\\ \\hline\n",
        "\\end{array} $\n",
        "\n",
        "Сгруппируем данные по интевалам.\\\n",
        "$ \\begin{array}{|c|c|} \\hline j & 1 & 2 & 3 & 4 & 5 & 6 & 7 & 8 & 9\\\\ \\hline I_j & (-\\infty, -0.2] & (-0.2, -0.15] & (-0.15, -0.1] & (-0.1, -0.05] & (-0.05, 0] & (0, 0.05] & (0.05, 0.1] & (0.1, 0.15] & (0.15, +\\infty) \\\\ \\hline \\nu_j  & 1 & 3 & 5 & 6 & 8 & 13 & 4 & 7 & 3  \\\\ \\hline\n",
        "\\end{array} $ \\\n",
        "\\\n",
        "$ \\measuredangle$ Основную гипотезу $H_0: Ф(I_j) = Ф_{(\\alpha_0, \\sigma_0^2)}(I_j)$ для всех $j=1...9$ \\\n",
        "и альтернативную - $ H_А: {\\exists j} \\ Ф(I_j) \\neq Ф_{(\\alpha_0, \\sigma_0^2)}(I_j)$, где $ j=1...9 $\\\n",
        "Гипотеза $ H_0 $ является более слабой по отношению к предложенной в условии, поэтому опровержение $ H_0 $ влечёт за собой опровержение и заданной гипотезы. \\\n",
        "\\\n",
        "Вычислим результаты и структурируем их в таблице \\\n",
        "$ \\begin{array}{|c|c|} \\hline I_j & \\nu_j & p_{j0} & \\frac{\\large \\left( \\nu -np_{j0} \\right)^2}{\\large np_{j0}}\\\\ \\hline (-\\infty, -0.2] & 1 & 0.18406 & 7.312 \\\\ \\hline (-0.2, -0.15] & 3 & 0.16052 &  3.147\\\\ \\hline (-0.15, -0.1] & 5 & 0.19525 & 2.323\\\\ \\hline (-0.1, -0.05] & 6 & 0.18592 & 1.169 \\\\ \\hline (-0.05, 0] & 8 & 0.13859 & 0.165 \\\\ \\hline (0, 0.05] & 13 & 0.08087 & 19.839 \\\\ \\hline (0.05, 0.1] & 4 & 0.03693 & 2.512\\\\ \\hline (0.1, 0.15] & 7 & 0.0132 & 60.902 \\\\ \\hline (0.15, +\\infty) & 3 & 0.00466 & 32.86 \\\\ \\hline \\end{array} $ \\\n",
        "\\\n",
        "$ \\chi^2 = 130.229$\\\n",
        "\\\n",
        "Расчёты получены в результате следующей программы\n"
      ],
      "metadata": {
        "id": "0TNtFKvpVCIl"
      }
    },
    {
      "cell_type": "code",
      "source": [
        "def CuclSum(a, g2):\n",
        "  arr = [-0.2, -0.15, -0.1, -0.05, 0, 0.05, 0.1, 0.15]\n",
        "  res = [0] * (len(arr) + 1)\n",
        "\n",
        "  #Вычисление p_j0\n",
        "  res[0] = sps.norm.cdf(-0.2, a, g2)\n",
        "\n",
        "  for i in range(1, len(arr)):\n",
        "    res[i] = sps.norm.cdf(arr[i], a, g2) - sps.norm.cdf(arr[i - 1], a, g2)\n",
        "  res[len(arr)] = 1 - sps.norm.cdf(0.15, a, g2)\n",
        "  res = [round(elem, 5) for elem in res]\n",
        "  print(\"p_j0 =\", res)\n",
        "  print(\"Проверка результата. Сумма p_j0 =\", sum(res))\n",
        "\n",
        "  #Вычисление X^2\n",
        "  v = [1, 3, 5, 6, 8, 13, 4, 7, 3]\n",
        "  ans = [(v[i] - 50 * res[i]) ** 2 / (50 * res[i]) for i in range(len(v))]\n",
        "  ans = [round(elem, 3) for elem in ans]\n",
        "  print(\"Последний столбец =\", ans)\n",
        "\n",
        "  return sum(ans)\n",
        "\n",
        "print(\"X^2 =\", round(CuclSum(-0.11, 0.1), 3))"
      ],
      "metadata": {
        "colab": {
          "base_uri": "https://localhost:8080/"
        },
        "id": "WusxT4U6rZGw",
        "outputId": "9a2e6612-70ba-4013-ccba-64e1e31dde9b"
      },
      "execution_count": 27,
      "outputs": [
        {
          "output_type": "stream",
          "name": "stdout",
          "text": [
            "p_j0 = [0.18406, 0.16052, 0.19525, 0.18592, 0.13859, 0.08087, 0.03693, 0.0132, 0.00466]\n",
            "Проверка результата. Сумма p_j0 = 1.0\n",
            "Последний столбец = [7.312, 3.147, 2.323, 1.169, 0.165, 19.839, 2.512, 60.902, 32.86]\n",
            "X^2 = 130.229\n"
          ]
        }
      ]
    },
    {
      "cell_type": "markdown",
      "source": [
        "$ x_{a} : \\mathcal{K}_{r-1}(x_a) = \\mathcal{K}_8(x_a) = 1 - \\alpha_2 = 1 - 0.02 = 0.98$"
      ],
      "metadata": {
        "id": "fIIT8DKtzOab"
      }
    },
    {
      "cell_type": "code",
      "source": [
        "fx = 0.95\n",
        "x_a = sps.chi2.ppf(fx, 8)\n",
        "\n",
        "print(\"Квантиль x_a =\", round(x_a, 3))\n",
        "print(\"Функция распределения K_8(x_a) =\", sps.chi2.cdf(x_a, 8))"
      ],
      "metadata": {
        "id": "dIfkwLdVy-Gr",
        "colab": {
          "base_uri": "https://localhost:8080/"
        },
        "outputId": "8819e20e-df9c-4318-ae0a-bd71bb60cdb7"
      },
      "execution_count": 28,
      "outputs": [
        {
          "output_type": "stream",
          "name": "stdout",
          "text": [
            "Квантиль x_a = 15.507\n",
            "Функция распределения K_8(x_a) = 0.95\n"
          ]
        }
      ]
    },
    {
      "cell_type": "markdown",
      "source": [
        "Т.к. $\\chi^2 > x_\\alpha$ , то гипотеза отвергается\\\n",
        "Найдём наибольшее значение уровня значимости, на котором нет оснований отвергнуть гипотезу. Пусть $\\mathbb{P}(\\chi^2 \\leq x_\\alpha) = 0$\\\n",
        "Тогда $ \\chi^2 \\leq x_\\alpha \\implies \\chi^2 \\leq \\mathcal{K}_8^{-1}(1 - \\alpha_1) \\implies \\mathcal{K}_8(\\chi^2) \\leq 1 - \\alpha_1 \\implies \\alpha_1 \\leq 1 - \\mathcal{K}_8(\\chi^2)$\n"
      ],
      "metadata": {
        "id": "k_zy77rDz6Ud"
      }
    },
    {
      "cell_type": "code",
      "source": [
        "x_a = 130.229\n",
        "print(\"Наибольшее значение уровня значимости =\", 1 - sps.chi2.cdf(x_a, 8))"
      ],
      "metadata": {
        "colab": {
          "base_uri": "https://localhost:8080/"
        },
        "id": "BZH1skRR0gBa",
        "outputId": "29f20ea7-43fd-4e4c-ee91-6c661c36d5e4"
      },
      "execution_count": 29,
      "outputs": [
        {
          "output_type": "stream",
          "name": "stdout",
          "text": [
            "Наибольшее значение уровня значимости = 0.0\n"
          ]
        }
      ]
    },
    {
      "cell_type": "markdown",
      "source": [
        "#### **Пункт G.** Построить критерий проверки значимости $\\chi^2$ сложной гипотезы согласия с нормальным распределением. Проверить гипотезу на уровне значимости $\\alpha_2$. Вычислить наибольшее значение уровня значимости, на котором ещё нет оснований отвергнуть данную гипотезу.\n",
        "\n",
        "Проверим сложную гипотезу $ H_0 : X_1... X_n \\sim \\mathcal{N}(a, \\sigma^2) $ \\\n",
        "Альтернативой ей будет служить $ H_A : X_1 ...X_n$ не распределена, как $\\mathcal{N}(a, \\sigma^2)$\n",
        "\n",
        "Таблица частот \\\n",
        "$ \\begin{array}{|c|c|} \\hline X_{(i)} & -0.2 & -0.15 & -0.1 & -0.05 & 0 & 0.05 & 0.1 & 0.15 & 0.2 \\\\ \\hline \\nu(x = X_{(i)})  & 1 & 3 & 5 & 6 & 8 & 13 & 4 & 7 & 3  \\\\ \\hline\n",
        "\\end{array} $\n",
        "\n",
        "Сгруппируем данные по интевалам (в каждом интервале не менее 5 элементов).\\\n",
        "$ \\begin{array}{|c|c|} \\hline j & 1 & 2 & 3 & 4 & 5\\\\ \\hline I_j & (-\\infty, -0.1] &  (-0.1, -0.05] & (-0.05, 0] & (0, 0.05] & (0.05, +\\infty) \\\\ \\hline \\nu_j  & 9 & 6 & 8 & 13 & 14  \\\\ \\hline\n",
        "\\end{array} $ \\\n",
        "\n",
        "Т.к. гипотеза сложная, то статистикой критерия возьмём $ \\tilde{\\chi^2} = min_\\lambda \\chi^2(\\lambda) = min_\\lambda \\displaystyle \\sum_{j=1}^{5} \\frac{\\large \\left( \\nu_j -np_{j0}(\\lambda) \\right)^2}{\\large np_{j0}(\\lambda)} \\underset{n \\rightarrow \\infty}{\\implies} \\chi^2_{2}$. Размерность $\\chi^2$-распределения вычисляется по формуле $ r - d - 1 $, где $r$ - количество интервалов, а $d = dim(\\Theta_0)$"
      ],
      "metadata": {
        "id": "6R3nSQRz1lmo"
      }
    },
    {
      "cell_type": "code",
      "source": [
        "def CuclSum(args):\n",
        "  arr = [-0.2, -0.15, -0.1, -0.05, 0, 0.05, 0.1, 0.15]\n",
        "  res = [0] * (len(arr) + 1)\n",
        "\n",
        "  #Вычисление p_j0\n",
        "  res[0] = sps.norm.cdf(-0.2, args[0], args[1])\n",
        "\n",
        "  for i in range(1, len(arr)):\n",
        "    res[i] = sps.norm.cdf(arr[i],args[0], args[1]) - sps.norm.cdf(arr[i - 1], args[0], args[1])\n",
        "  res[len(arr)] = 1 - sps.norm.cdf(0.15, args[0], args[1])\n",
        "\n",
        "  #Вычисление X^2\n",
        "  v = [1, 3, 5, 6, 8, 13, 4, 7, 3]\n",
        "  ans = [(v[i] - 50 * res[i]) ** 2 / (50 * res[i]) for i in range(len(v))]\n",
        "\n",
        "  return sum(ans)\n",
        "\n",
        "result = spo.minimize(CuclSum, (-0.11, 0.1))\n",
        "\n",
        "print(\"Значение X^2 =\", round(result.fun, 5), \"при значении параметров (\", round(result.x[0], 5), round(result.x[1], 5), \")\")\n"
      ],
      "metadata": {
        "colab": {
          "base_uri": "https://localhost:8080/"
        },
        "id": "Qg_m_HEk4fmV",
        "outputId": "a3848753-67c7-4822-ab67-85c7fe7b5faa"
      },
      "execution_count": 30,
      "outputs": [
        {
          "output_type": "stream",
          "name": "stdout",
          "text": [
            "Значение X^2 = 4.9747 при значении параметров ( 0.00317 0.10177 )\n"
          ]
        }
      ]
    },
    {
      "cell_type": "markdown",
      "source": [
        "$ x_{a} : \\mathcal{K}_{r-d-1}(x_a) = \\mathcal{K}_2(x_a) = 1 - \\alpha_2 = 1 - 0.05 = 0.95$"
      ],
      "metadata": {
        "id": "GNg-rqrP7pJz"
      }
    },
    {
      "cell_type": "code",
      "source": [
        "fx = 0.95\n",
        "x_a = sps.chi2.ppf(fx, 2)\n",
        "\n",
        "print(\"Квантиль x_a =\", round(x_a, 3))\n",
        "print(\"Функция распределения K_8(x_a) =\", sps.chi2.cdf(x_a, 2))"
      ],
      "metadata": {
        "colab": {
          "base_uri": "https://localhost:8080/"
        },
        "id": "vR5zedLy8BxL",
        "outputId": "0bb59984-a5b7-4611-91c9-5b42f6200106"
      },
      "execution_count": 31,
      "outputs": [
        {
          "output_type": "stream",
          "name": "stdout",
          "text": [
            "Квантиль x_a = 5.991\n",
            "Функция распределения K_8(x_a) = 0.95\n"
          ]
        }
      ]
    },
    {
      "cell_type": "markdown",
      "source": [
        "Т.к. $\\chi^2 < x_\\alpha$ , то гипотеза принимается\\\n",
        "Найдём наибольшее значение уровня значимости, на котором нет оснований отвергнуть гипотезу. Пусть $\\mathbb{P}(\\chi^2 \\leq x_\\alpha) = 0$\\\n",
        "Тогда $ \\chi^2 \\leq x_\\alpha \\implies \\chi^2 \\leq \\mathcal{K}_2^{-1}(1 - \\alpha_1) \\implies \\mathcal{K}_2(\\chi^2) \\leq 1 - \\alpha_1 \\implies \\alpha_1 \\leq 1 - \\mathcal{K}_2(\\chi^2)$\n"
      ],
      "metadata": {
        "id": "Z-5iWZE_8L5P"
      }
    },
    {
      "cell_type": "code",
      "source": [
        "x_a = 4.9747\n",
        "print(\"Наибольшее значение уровня значимости =\", round(1 - sps.chi2.cdf(x_a, 2), 3))"
      ],
      "metadata": {
        "colab": {
          "base_uri": "https://localhost:8080/"
        },
        "id": "6Z5XF7ju-A_Z",
        "outputId": "94ed78bf-9911-4b19-c879-0533b78e0bc1"
      },
      "execution_count": 32,
      "outputs": [
        {
          "output_type": "stream",
          "name": "stdout",
          "text": [
            "Наибольшее значение уровня значимости = 0.083\n"
          ]
        }
      ]
    },
    {
      "cell_type": "markdown",
      "source": [
        "#### **Пункт H** Построить наиболее мощный критерий проверки простой гипотезы о нормальности с параметром $ (a, \\sigma^2) = (a_0 = -0.11,\\ \\sigma^2_0 = 0.1^2) $ при альтернативе нормальности с параметром $ (a, \\sigma^2) = (a_1 = 0,\\ \\sigma^2_1 = 0.1^2) $. Проверить гипотезу на уровне значимости $\\alpha_2$. Что получится, если поменять местами основную и альтернативную гипотезы?\n",
        "\n",
        "Рассмотрим две гипотезы. \\\n",
        "Проверим сложную гипотезу $ H_0 : X_1... X_n \\sim \\mathcal{N}(a_0, \\sigma^2_0)$\\\n",
        "Альтернативную гипотезу $ H_А : X_1... X_n \\sim \\mathcal{N}(a_1, \\sigma^2_1)$\\\n",
        "\\\n",
        "По лемме Неймана-Пирса\\\n",
        "$\\varphi \\left( \\vec{X} \\right) = \\begin{cases} 0, \\quad LR \\left( \\vec{X}, (a_1, \\sigma^2_1), (a_0, \\sigma^2_0) \\right) < x_\\alpha \\\\ p, \\quad LR \\left( \\vec{X}, (a_1, \\sigma^2_1), (a_0, \\sigma^2_0) \\right) = x_\\alpha \\\\ 1, \\quad LR \\left( \\vec{X}, (a_1, \\sigma^2_1),(a_0, \\sigma^2_0) \\right) > x_\\alpha \\end{cases}$, где $LR \\left( \\vec{X}, (a_1, \\sigma^2_1), (a_0, \\sigma^2_0) \\right) = \\frac{\\large L \\left( \\vec{X}, (a_1, \\sigma^2_1) \\right)}{\\large L \\left( \\vec{X}, (a_0, \\sigma^2_0) \\right)}$\n",
        "\n",
        "Из пункта C\\\n",
        "$ L(\\vec{X}, (a_1, \\sigma^2_1)) = (2 \\pi)^{-\\frac{\\Large n}{\\Large 2}} (\\sigma_1)^{\\large -n} e^{- \\displaystyle \\sum_{i = 1}^{n} \\frac{(X_i - a_1)^2}{2 \\sigma^2_1} }= (2 \\pi)^{-\\frac{\\Large n}{\\Large 2}} (\\sigma_1)^{\\large -n} e^{- \\displaystyle \\sum_{i = 1}^{n} \\frac{(X^2_i - 2a_1X_i + a_1^2)}{2 \\sigma_1^2} }$\\\n",
        "$ L(\\vec{X}, (a_0, \\sigma^2_0)) = (2 \\pi)^{-\\frac{\\Large n}{\\Large 2}} (\\sigma_0)^{\\large -n} e^{- \\displaystyle \\sum_{i = 1}^{n} \\frac{(X_i - a_0)^2}{2 \\sigma^2_0} }= (2 \\pi)^{-\\frac{\\Large n}{\\Large 2}} (\\sigma_0)^{\\large -n} e^{- \\displaystyle \\sum_{i = 1}^{n} \\frac{(X^2_i - 2a_0X_i + a_0^2)}{2 \\sigma_0^2} }$\\\n",
        "Тогда $\\frac{\\large L \\left( \\vec{X}, (a_1, \\sigma^2_1) \\right)}{\\large L \\left( \\vec{X}, (a_0, \\sigma^2_0) \\right)} = \\displaystyle \\left( \\frac{\\sigma_0}{\\sigma_1} \\right)^n exp \\left( \\sum_{i=1}^{n}\\frac{X_i^2 - 2a_0X_i + a_0^2}{2 \\sigma^2_0} - \\sum_{i=1}^{n}\\frac{X_i^2 - 2a_1X_i + a_1^2}{2 \\sigma^2_1} \\right) = $\\\n",
        "Заметим, что $ \\sigma_1 = \\sigma_0 = \\sigma $\\\n",
        "$ = \\displaystyle exp \\left(  \\frac{a_1 - a_0}{\\sigma^2} \\sum_{i=1}^{n} X_i + \\frac{n(a_0^2 - a_1^2)}{2 \\sigma^2}  \\right) = exp \\left( 11 \\sum_{i=1}^{n} X_i + 30.25 \\right)$\\\n",
        "$T = \\displaystyle \\sum_{i = 1}^{n} X_i$ - МДС\\\n",
        "\\\n",
        "Пусть $ LR \\left( \\vec{X}, \\lambda_1, \\lambda_0 \\right) > x_\\alpha $ \\\n",
        "$ \\displaystyle exp \\left( 11 \\sum_{i=1}^{n} X_i + 30.25 \\right) > x_\\alpha $\\\n",
        "\\\n",
        "$  \\displaystyle \\left( 11 \\sum_{i=1}^{n} X_i + 30.25 \\right) > lnx_\\alpha $\\\n",
        "\\\n",
        "$ \\displaystyle \\sum_{i=1}^{n} X_i  \\  > x_a^* = \\left(\\frac{ln x_\\alpha - 30.25}{11} \\right) $\\\n",
        "\\\n",
        "$ \\displaystyle \\varphi \\left( \\vec{X} \\right) = \\begin{cases} 0, \\quad \\sum_{i=1}^{n} X_i <  x_\\alpha^* \\\\ p, \\quad \\sum_{i=1}^{n} X_i =  x_\\alpha^* \\\\ 1, \\quad \\sum_{i=1}^{n} X_i >  x_\\alpha^* \\end{cases}$\n",
        "\\\n",
        "\\\n",
        "Вычислим $ x_\\alpha^*$ и $ p $, учитывая, что выборка из нормального распределения. \\\n",
        "$ \\displaystyle E_{(a_0, \\sigma^2_0)} \\varphi(\\vec{X}) = \\mathbb{P_{(a_0, \\sigma^2_0)}} \\left( \\sum_{i=1}^{n} X_i > x_a^* \\right) + p \\ \\mathbb{P_{(a_0, \\sigma^2_0)}} \\left( \\sum_{i=1}^{n} X_i = x_a^* \\right) = \\alpha_2$\\\n",
        "$ \\displaystyle \\mathbb{P_{(a_0, \\sigma^2_0)}} \\left( \\sum_{i=1}^{n} X_i > x_a^* \\right) = 1 - \\mathbb{P_{(a_0, \\sigma^2_0)}} \\left( \\sum_{i=1}^{n} X_i \\leq x_a^* \\right) = 1 - Ф_{(na_0, n\\sigma^2_0)}(x_\\alpha)$\\\n",
        "\\\n",
        "Подбираем $x_\\alpha$\\\n",
        "$ 1 - Ф_{(na_0, n\\sigma^2_0)}(x_\\alpha) < \\alpha_2 $. Тогда $\\alpha_2 = 2.7243.$ \\\n",
        "\\\n",
        "Считаем p\\\n",
        "$ p = \\frac{\\large \\alpha_2 - 1 + Ф_{(na_0, n\\sigma^2_0)}(x_\\alpha)}{ Ф_{(na_0, n\\sigma^2_0)}(x_\\alpha) - Ф_{(na_0, n\\sigma^2_0)}(x_\\alpha - 1)} = 0$\\\n",
        "\\\n",
        "Расчёты были воспроизведены в программе ниже\n",
        "\n"
      ],
      "metadata": {
        "id": "LF7NlB9M_VZo"
      }
    },
    {
      "cell_type": "code",
      "source": [
        "a = 0.05\n",
        "c = -100\n",
        "while True:\n",
        "  if 1 - sps.norm.cdf(c, 50 * -0.11, 50 * 0.1) < a:\n",
        "    break\n",
        "  c += 0.001\n",
        "\n",
        "p = (a - 1 + sps.norm.cdf(c, -0.11 * 50, 50 * 0.1))/(sps.norm.cdf(c, -0.11 * 50, 0.1 * 50) - sps.norm.cdf(c - 1, -0.11 * 50, 0.1 * 50))\n",
        "\n",
        "print(\"Полученная константа\", round(c, 5))\n",
        "print(\"Полученная вероятность\", round(p, 3))"
      ],
      "metadata": {
        "colab": {
          "base_uri": "https://localhost:8080/"
        },
        "id": "fBqynnJhRlqJ",
        "outputId": "eea5961b-2cfa-4a3d-902d-721b741d1576"
      },
      "execution_count": 34,
      "outputs": [
        {
          "output_type": "stream",
          "name": "stdout",
          "text": [
            "Полученная константа 2.725\n",
            "Полученная вероятность 0.001\n"
          ]
        }
      ]
    },
    {
      "cell_type": "markdown",
      "source": [
        "Получен наиболее мощный критерий\\\n",
        "$\\varphi \\left( \\vec{X} \\right) = \\begin{cases} 0, \\quad \\sum_{i=1}^{n} X_i \\leq  2.7243 \\\\  1, \\quad \\sum_{i=1}^{n} X_i >  2.7243 \\end{cases}$\\\n",
        "\\\n",
        "Т.к. $ \\sum_{i=1}^{n} X_i = −0,1695 < 2.7243 \\implies H_0$ принимаем.\n",
        "\n"
      ],
      "metadata": {
        "id": "rO4sG1KMVHUY"
      }
    },
    {
      "cell_type": "markdown",
      "source": [
        "Поменяем гипотезы местами. \\\n",
        "Проверим сложную гипотезу $ H_0 : X_1... X_n \\sim \\mathcal{N}(a_1, \\sigma^2_1)$\\\n",
        "Альтернативную гипотезу $ H_А : X_1... X_n \\sim \\mathcal{N}(a_0, \\sigma^2_0)$\\\n",
        "\\\n",
        "По лемме Неймана-Пирса\\\n",
        "$\\varphi \\left( \\vec{X} \\right) = \\begin{cases} 0, \\quad LR \\left( \\vec{X}, (a_0, \\sigma^2_0), (a_1, \\sigma^2_1) \\right) < x_\\alpha \\\\ p, \\quad LR \\left( \\vec{X}, a_0, \\sigma^2_0), (a_1, \\sigma^2_1) \\right) = x_\\alpha \\\\ 1, \\quad LR \\left( \\vec{X}, a_0, \\sigma^2_0), (a_1, \\sigma^2_1) \\right) > x_\\alpha \\end{cases}$, где $LR \\left( \\vec{X}, (a_0, \\sigma^2_0), (a_1, \\sigma^2_1) \\right) = \\frac{\\large L \\left( \\vec{X}, (a_0, \\sigma^2_0) \\right)}{\\large L \\left( \\vec{X}, (a_1, \\sigma^2_1) \\right)}$\n",
        "\n",
        "Из пункта C\\\n",
        "$ L(\\vec{X}, (a_1, \\sigma^2_1)) = (2 \\pi)^{-\\frac{\\Large n}{\\Large 2}} (\\sigma_1)^{\\large -n} e^{- \\displaystyle \\sum_{i = 1}^{n} \\frac{(X_i - a_1)^2}{2 \\sigma^2_1} }= (2 \\pi)^{-\\frac{\\Large n}{\\Large 2}} (\\sigma_1)^{\\large -n} e^{- \\displaystyle \\sum_{i = 1}^{n} \\frac{(X^2_i - 2a_1X_i + a_1^2)}{2 \\sigma_1^2} }$\\\n",
        "$ L(\\vec{X}, (a_0, \\sigma^2_0)) = (2 \\pi)^{-\\frac{\\Large n}{\\Large 2}} (\\sigma_0)^{\\large -n} e^{- \\displaystyle \\sum_{i = 1}^{n} \\frac{(X_i - a_0)^2}{2 \\sigma^2_0} }= (2 \\pi)^{-\\frac{\\Large n}{\\Large 2}} (\\sigma_0)^{\\large -n} e^{- \\displaystyle \\sum_{i = 1}^{n} \\frac{(X^2_i - 2a_0X_i + a_0^2)}{2 \\sigma_0^2} }$\\\n",
        "Тогда $\\frac{\\large L \\left( \\vec{X}, (a_0, \\sigma^2_0) \\right)}{\\large L \\left( \\vec{X}, (a_1, \\sigma^2_1) \\right)} = \\displaystyle \\left( \\frac{\\sigma_1}{\\sigma_0} \\right)^n exp \\left( \\sum_{i=1}^{n}\\frac{X_i^2 - 2a_1X_i + a_1^2}{2 \\sigma^2_1} - \\sum_{i=1}^{n}\\frac{X_i^2 - 2a_0X_i + a_0^2}{2 \\sigma^2_0} \\right) = $\\\n",
        "Заметим, что $ \\sigma_1 = \\sigma_0 = \\sigma $\\\n",
        "$ = \\displaystyle exp \\left(  \\frac{a_0 - a_1}{\\sigma^2} \\sum_{i=1}^{n} X_i + \\frac{n(a_1^2 - a_0^2)}{2 \\sigma^2}  \\right) = exp \\left( -11 \\sum_{i=1}^{n} X_i - 30.25 \\right)$\\\n",
        "$T = \\displaystyle \\sum_{i = 1}^{n} X_i$ - МДС\\\n",
        "\\\n",
        "Пусть $ LR \\left( \\vec{X}, \\lambda_1, \\lambda_0 \\right) > x_\\alpha $ \\\n",
        "$ \\displaystyle exp \\left( -11 \\sum_{i=1}^{n} X_i - 30.25 \\right) > x_\\alpha $\\\n",
        "\\\n",
        "$  \\displaystyle \\left( -11 \\sum_{i=1}^{n} X_i - 30.25 \\right) > lnx_\\alpha $\\\n",
        "\\\n",
        "$ \\displaystyle \\sum_{i=1}^{n} X_i  \\  < x_a^* = -\\left(\\frac{ln x_\\alpha + 30.25}{11} \\right) $\\\n",
        "\\\n",
        "$ \\displaystyle \\varphi \\left( \\vec{X} \\right) = \\begin{cases} 0, \\quad \\sum_{i=1}^{n} X_i >  x_\\alpha^* \\\\ p, \\quad \\sum_{i=1}^{n} X_i =  x_\\alpha^* \\\\ 1, \\quad \\sum_{i=1}^{n} X_i <  x_\\alpha^* \\end{cases}$\n",
        "\\\n",
        "\\\n",
        "Вычислим $ x_\\alpha^*$ и $ p $, учитывая, что выборка из нормального распределения. \\\n",
        "$ \\displaystyle E_{(a_1, \\sigma^2_1)} \\varphi(\\vec{X}) = \\mathbb{P_{(a_1, \\sigma^2_1)}} \\left( \\sum_{i=1}^{n} X_i < x_a^* \\right) + p \\ \\mathbb{P_{(a_1, \\sigma^2_1)}} \\left( \\sum_{i=1}^{n} X_i = x_a^* \\right) = \\alpha_2$\\\n",
        "$ \\displaystyle \\mathbb{P_{(a_1, \\sigma^2_1)}} \\left( \\sum_{i=1}^{n} X_i \\leq x_a^* \\right) = Ф_{(na_1, n\\sigma^2_1)}(x_\\alpha)$\\\n",
        "\\\n",
        "Подбираем $x_\\alpha$\\\n",
        "$ Ф_{(na_1, n\\sigma^2_1)}(x_\\alpha) > \\alpha_2 $. Тогда $\\alpha_2 = -8.224.$ \\\n",
        "\\\n",
        "Считаем p\\\n",
        "$ p = \\frac{\\large \\alpha_2 - Ф_{(na_0, n\\sigma^2_0)}(x_\\alpha)}{ Ф_{(na_0, n\\sigma^2_0)}(x_\\alpha) - Ф_{(na_0, n\\sigma^2_0)}(x_\\alpha - 1)} = 0$\\\n",
        "\\\n",
        "Расчёты были воспроизведены в программе ниже\n"
      ],
      "metadata": {
        "id": "3lFW7RMjWcar"
      }
    },
    {
      "cell_type": "code",
      "source": [
        "a = 0.05\n",
        "c = -100\n",
        "\n",
        "while True:\n",
        "  if sps.norm.cdf(c, 0, 50 * 0.1) > a:\n",
        "    break\n",
        "  c += 0.001\n",
        "\n",
        "p = (a - sps.norm.cdf(c, 0, 50 * 0.1))/(sps.norm.cdf(c, 0, 0.1 * 50) - sps.norm.cdf(c - 1, 0, 0.1 * 50))\n",
        "\n",
        "print(\"Полученная константа\", round(c, 5))\n",
        "print(\"Полученная вероятность\", round(p, 3))"
      ],
      "metadata": {
        "colab": {
          "base_uri": "https://localhost:8080/"
        },
        "id": "I2o6RWYVZFXx",
        "outputId": "cb9dcfc5-faf3-412c-99b6-bdd10237f2af"
      },
      "execution_count": 35,
      "outputs": [
        {
          "output_type": "stream",
          "name": "stdout",
          "text": [
            "Полученная константа -8.224\n",
            "Полученная вероятность -0.0\n"
          ]
        }
      ]
    },
    {
      "cell_type": "markdown",
      "source": [
        "Получен наиболее мощный критерий\\\n",
        "$\\varphi \\left( \\vec{X} \\right) = \\begin{cases} 0, \\quad \\sum_{i=1}^{n} X_i \\geq  -8.224 \\\\  1, \\quad \\sum_{i=1}^{n} X_i <  -8.224 \\end{cases}$\\\n",
        "\\\n",
        "Т.к. $ \\sum_{i=1}^{n} X_i = −0,1695 > -8.224 \\implies H_0$ отвергается.\n",
        "\n"
      ],
      "metadata": {
        "id": "h2tQeiV9aZ4d"
      }
    },
    {
      "cell_type": "markdown",
      "source": [
        "#### **Пункт I** В пунктах C-G заменить семейство нормальных распределений на двухпараметрическое семейство распредленией Лапласа с плотностями $ \\displaystyle p_{a, \\sigma}(x)=\\frac{1}{\\sigma \\sqrt{2}} e^{\\left(-\\frac{\\sqrt{2}}{\\sigma} |x-a| \\right)} $\n",
        "\n",
        "**с)** $ E_\\theta \\xi = a; \\ D_\\theta \\xi = \\frac{\\sigma a }{\\sqrt{2}} $\\\n",
        "\\\n",
        "\\\n",
        "Расчёт ОМП\\\n",
        "$L(\\vec{X}, \\theta) = \\displaystyle \\prod_{i=1}^{n} \\frac{1}{\\sigma \\sqrt{2}} e^{(-\\frac{\\sqrt{2}}{\\sigma} |x-a|)} = (2 \\sigma^2)^{-\\frac{n}{2}} e^{(-\\frac{\\sqrt{2}}{\\sigma} \\displaystyle \\sum_{i=1}^{n} |x_i-a|)} $\n",
        "\n",
        "$LL(\\vec{X}, \\theta) = \\displaystyle -\\frac{n}{2} ln(2) - nln(\\sigma) -\\frac{\\sqrt{2}}{\\sigma} \\sum_{i=1}^{n} |x_i-a|$\n",
        "\n",
        "$ \\cfrac{\\partial LL(\\vec{X}, \\theta)}{\\partial a} = \\displaystyle  -\\frac{\\sqrt{2}}{\\sigma} \\sum_{i=1}^{n} sgn(X_{(i)} - a) = 0$\n",
        "\n",
        "$ \\widehat{a} = z_{n, 0.5} = 0.0042$\n",
        "\n",
        "$ \\cfrac{ \\partial LL(\\vec{X}, \\theta)}{ \\partial \\sigma} = -\\frac{n}{\\sigma} + \\frac{\\sqrt{2}}{\\sigma^2} \\displaystyle \\sum_{i=1}^{n} |x_i-a| = 0$\n",
        "\n",
        "$\\widehat \\sigma = \\sqrt{2} \\cfrac{\\sum_{i=1}^{n} |x_i- z_{n, 0.5}|}{n} = 0.112$\\\n",
        "\\\n",
        "\\\n",
        "Расчёт ОММ\n",
        "\n",
        "Первый момент\n",
        "$ EX_1 = \\displaystyle \\frac{1}{\\sigma \\sqrt{2}} \\int_{- \\infty}^{\\infty} x e^{(-\\frac{\\sqrt{2}}{\\sigma} |x-a|)} dx = [t = x - a] = \\frac{1}{\\sigma \\sqrt{2}} \\int_{-\\infty}^{\\infty} (t + a) e^{(-\\frac{\\sqrt{2}}{\\sigma} |t|)} dx = \\frac{a}{\\sigma} \\sqrt{2} \\int_{0}^{\\infty} e^{(-\\frac{\\sqrt{2}}{\\sigma} t)} dx = a, \\quad M1 = \\bar X$ \\\n",
        "\n",
        "\n",
        "\\\n",
        "Второй момент\n",
        "$ EX_1^2 = \\displaystyle \\frac{1}{\\sigma \\sqrt{2}} \\int_{- \\infty}^{\\infty} x^2 e^{(-\\frac{\\sqrt{2}}{\\sigma} |x-a|)} dx = [t = x - a] = \\frac{1}{\\sigma \\sqrt{2}} \\int_{- \\infty}^{\\infty} (t + a)^2 e^{(-\\frac{\\sqrt{2}}{\\sigma} |t|)} dx$\n",
        "\n",
        "Раскладываем $ (t + a)^2 = t^2 + 2at + a^2 $. В силу нечётности слагаемое 2at при разбиение интграла сократится.\n",
        "$\\displaystyle \\frac{1}{\\sigma \\sqrt{2}} \\int_{- \\infty}^{\\infty} t^2 \\exp(-\\frac{\\sqrt{2}}{\\sigma} |t|) dx + \\frac{1}{\\sigma \\sqrt{2}} \\int_{- \\infty}^{\\infty} a^2 \\exp(-\\frac{\\sqrt{2}}{\\sigma} |t|) dx = \\frac{ \\sqrt{2}}{\\sigma} \\int_{0}^{\\infty} t^2 \\exp(-\\frac{\\sqrt{2}}{\\sigma} t) dx + \\frac{\\sqrt{2}}{\\sigma } \\int_{0}^{\\infty} a^2 \\exp(-\\frac{\\sqrt{2}}{\\sigma} t) dx = \\sigma^2 + a^2, \\quad M1 = \\bar {X^2}$\n",
        "\n",
        "\n",
        "Составляем систему уравнений\\\n",
        "$\n",
        "\\begin{cases}\n",
        "  a = \\bar X \\\\\n",
        "  \\sigma^2 + a^2 = \\bar X^2\n",
        "\\end{cases} $\n",
        "\n",
        "$\n",
        "\\begin{cases}\n",
        "  \\widehat a = \\bar X \\\\\n",
        "  \\widehat {\\sigma^2} = S^2\n",
        "\\end{cases} $\n",
        "\n",
        "$\n",
        "\\begin{cases}\n",
        "  \\widehat a = \\bar X \\\\\n",
        "  \\widehat {\\sigma} = S\n",
        "\\end{cases} $\n",
        "\n",
        "$E_\\theta \\bar X = \\cfrac{1}{n} E \\sum_{i=1}^{n} X_i = a$ - несмещённая оценка\n",
        "\n",
        "$ E \\hat{\\sigma^2} = E S^2 = E \\displaystyle \\sum_{i = 1}^{n} (X_i - \\bar{X})^2 = [ X_i - E_\\theta X_i = Y_i ] = $ \\\n",
        "$[ E_\\theta Y_i = 0 \\quad D_\\theta Y_i = \\sigma^2 ]$ \\\n",
        "$\\displaystyle = \\frac{1}{n} E_\\theta \\sum_{i = 1}^{n} (Y_i - \\bar{Y}) = \\frac{1}{n} $\n",
        "$ E\\bar {Y^2} = \\cfrac{1}{n} E_\\theta \\sum_{i=1}^{n} {(Y_i)^2} = \\sigma^2 $\n",
        "\n",
        "\n",
        "$E_\\theta (\\bar{Y} - (\\bar{Y})^2) = E \\bar{Y^2} - E(\\bar{Y})^2 $\\\n",
        "$ \\displaystyle E(\\bar{Y^2}) = \\frac{1}{n} E \\sum_{i=1}^{n} Y_i^2  = \\frac{1}{n} \\sum_{i=1}^{n} EY_i^2 = \\sigma^2 $\\\n",
        "$ \\displaystyle E(\\bar{Y})^2 = \\frac{1}{n^2} E( \\sum_{i=1}^{n} Y_i )^2 = \\frac{1}{n} \\sum_{i=1}^{n} \\sum_{j=1}^{n}EY_i Y_j$\\\n",
        "$ EY_i Y_j = \\begin{cases} \\sigma^2 \\quad i=j \\\\ 0 \\quad i \\neq j \\end{cases} $\\\n",
        "$ \\displaystyle E_\\theta S^2 = \\sigma^2 - \\frac{\\sigma^2}{n} = \\frac{n - 1}{n} \\sigma^2$\\\n",
        "Смещённая оценка\\\n",
        "$ S' = \\sqrt{\\frac{n}{n - 1} S^2 }$\n",
        "\n",
        "\n"
      ],
      "metadata": {
        "id": "Alm4QeP4aq8N"
      }
    },
    {
      "cell_type": "markdown",
      "source": [
        "**d)**\n",
        "Доверительный интервал для параметра $a$.\\\n",
        "По лемме Фишера выберем генератор $ G(\\vec{X}, a) = \\sqrt{n - 1} \\frac{\\bar{X} - a}{S} \\sim S_{n - 1} $\\\n",
        "$ \\mathbb{P}_a \\left( \\sqrt{n - 1} \\frac{\\bar{X} - a}{S} \\in [-x_\\alpha; x_\\alpha] \\right) = 1 - \\alpha_2 $\\\n",
        "$ x_\\alpha : S_{n - 1}(x_\\alpha) = S_{49}(x_\\alpha) = 1 - \\frac{\\alpha_2}{2} = 0.975  $"
      ],
      "metadata": {
        "id": "RJn9O5Xn5lNi"
      }
    },
    {
      "cell_type": "code",
      "source": [
        "fx = 0.975\n",
        "x_a = sps.t.ppf(fx, 49)\n",
        "\n",
        "print(\"Квантиль x_a =\", round(x_a, 3))\n",
        "print(\"Функция распределения S_49(x_a) =\", round(sps.t.cdf(x_a, 49), 3))"
      ],
      "metadata": {
        "colab": {
          "base_uri": "https://localhost:8080/"
        },
        "id": "IzfSE3jG5x1h",
        "outputId": "99a3acea-b5e6-40a7-a7b9-47ebf6248c90"
      },
      "execution_count": 36,
      "outputs": [
        {
          "output_type": "stream",
          "name": "stdout",
          "text": [
            "Квантиль x_a = 2.01\n",
            "Функция распределения S_49(x_a) = 0.975\n"
          ]
        }
      ]
    },
    {
      "cell_type": "markdown",
      "source": [
        "$ \\displaystyle a \\in \\left[  \\bar{X} - \\frac{x_\\alpha S}{\\sqrt{n-  1}}; \\bar{X} + \\frac{x_\\alpha S}{\\sqrt{n-  1}} \\right] = [-0.03195; 0.02517]$\n",
        "\n",
        "\n",
        "---\n",
        "\n",
        "Доверительный интеврал для параметра $\\sigma^2$\n",
        "По лемме Фишера выберем генератор $ \\displaystyle G(\\vec{X}, \\sigma^2) = \\frac{nS^2}{\\sigma^2} \\sim \\chi^2_{n - 1}$\\\n",
        "$ \\mathbb{P}_{\\sigma^2} \\left( \\frac{nS^2}{\\sigma^2} \\in [-x_\\alpha; x_\\alpha] \\right) = 1 - \\alpha_2 $\\\n",
        "$ x_{1\\alpha} : \\mathcal{K}_{n - 1}(x_{1\\alpha}) = \\mathcal{K}_{49}(x_{1\\alpha}) = \\frac{\\alpha_2}{2} = 0.025  $\\\n",
        "$ x_{2\\alpha} : \\mathcal{K}_{n - 1}(x_{2\\alpha}) = \\mathcal{K}_{49}(x_{2\\alpha}) = 1 - \\frac{\\alpha_2}{2} = 0.975 $\n",
        "\n"
      ],
      "metadata": {
        "id": "CQnkJ2C95_Oz"
      }
    },
    {
      "cell_type": "code",
      "source": [
        "x_1a = sps.chi2.ppf(0.025, 49)\n",
        "x_2a = sps.chi2.ppf(0.975, 49)\n",
        "\n",
        "print(\"Квантиль x_1a =\", round(x_1a, 3), \"Квантиль x_2a =\", round(x_2a, 3))\n",
        "print(\"Функция распределения K_8(x_1a) =\", round(sps.chi2.cdf(x_1a, 49), 3), \"K_8(x_2a) =\", round(sps.chi2.cdf(x_2a, 49), 3))"
      ],
      "metadata": {
        "colab": {
          "base_uri": "https://localhost:8080/"
        },
        "id": "w8YZBnys6Mr7",
        "outputId": "db0e6b6d-255a-4afb-a83e-8d5b2bfa5790"
      },
      "execution_count": 37,
      "outputs": [
        {
          "output_type": "stream",
          "name": "stdout",
          "text": [
            "Квантиль x_1a = 31.555 Квантиль x_2a = 70.222\n",
            "Функция распределения K_8(x_1a) = 0.025 K_8(x_2a) = 0.975\n"
          ]
        }
      ]
    },
    {
      "cell_type": "markdown",
      "source": [
        "$ \\displaystyle \\sigma^2 \\in \\left[  \\frac{n S^2}{x_{2\\alpha}}; \\frac{n S^2}{x_{1\\alpha}} \\right] = [0.00704; 0.01567]$"
      ],
      "metadata": {
        "id": "NgiNdDS_6NiS"
      }
    },
    {
      "cell_type": "markdown",
      "source": [
        "**e)** Основаня гипотеза $ H_0 : X_1...X_n \\sim \\mathcal{N}(\\alpha_0, \\sigma_0^2) $\\\n",
        "Альтернативная гипотеза $ H_А : X_1...X_n$ не распределена, как $\\mathcal{N}(\\alpha_0, \\sigma_0^2) $\n",
        "\n",
        "Статистика критерия Колмогорова $ \\widehat{D_n} = max| F_n(x) - F_{(\\alpha_0, \\ \\sigma_0)}(x) | $. Построим критерий Колмогорова.\\\n",
        "$\\widehat{\\varphi(\\vec{X})} = \\begin{cases} 0, \\quad \\widehat{D_n} \\leq x_\\alpha  \\\\ 1, \\quad \\widehat{D_n} > x_\\alpha \\end{cases}$, где $ x_\\alpha: \\mathcal{K_n}(x_\\alpha) = 1 - \\alpha_2 = 0.95 $\\\n",
        "\\\n",
        "Найдём $ x_a $  \n"
      ],
      "metadata": {
        "id": "RRfl98GbiP8U"
      }
    },
    {
      "cell_type": "code",
      "source": [
        "fx = 0.95\n",
        "x_a = sps.ksone.ppf(fx, 50)\n",
        "\n",
        "\n",
        "print(\"При квантиле x_a =\", round(x_a, 3))\n",
        "print(\"K_50(x) =\", round(sps.ksone.cdf(x_a, 50), 3))"
      ],
      "metadata": {
        "id": "Mm4fYivjio7K"
      },
      "execution_count": null,
      "outputs": []
    },
    {
      "cell_type": "markdown",
      "source": [
        "Критерий Колмогорова\\\n",
        "$\\widehat{\\varphi(\\vec{X})} = \\begin{cases} 0, \\quad \\widehat{D_n} \\leq 0.17  \\\\ 1, \\quad \\widehat{D_n} > 0.17 \\end{cases}$\n",
        "\n",
        "Найдём $D_n$"
      ],
      "metadata": {
        "id": "YUQ6wk49jJah"
      }
    },
    {
      "cell_type": "code",
      "source": [
        "def Fn(x):\n",
        "  arr = [-0.2412, -0.1928, -0.1773, -0.1606, -0.1494, -0.1275, -0.1212, -0.1205, -0.1139, -0.0961, -0.0959, -0.091, -0.0873, -0.0784, -0.0745, -0.0279, -0.0266, -0.0256, -0.0192, -0.0166, -0.0059, -0.0053, -0.0047, 0.0017, 0.0018, 0.0066, 0.0124, 0.0129, 0.019, 0.0213, 0.0253, 0.0262, 0.0276, 0.0323, 0.0347, 0.0381, 0.0637, 0.0725, 0.0826, 0.0907, 0.1033, 0.1058, 0.1064, 0.1116, 0.1211, 0.1289, 0.1309, 0.1666, 0.1683, 0.1777]\n",
        "  sm = 0\n",
        "  for pair in arr:\n",
        "    if pair >= x:\n",
        "      return sm / 50\n",
        "    sm += 1\n",
        "  return sm / 50\n",
        "\n",
        "x = np.arange(-1, 1, 0.001)\n",
        "y = [abs(Fn(elem) - sps.laplace.cdf(elem, -0.11, 2 ** 0.5 / 0.1)) for elem in x]\n",
        "\n",
        "\n",
        "print(\"Статистика Dn =\", round(max(y), 3))"
      ],
      "metadata": {
        "id": "AelTTdWojZD7"
      },
      "execution_count": null,
      "outputs": []
    },
    {
      "cell_type": "markdown",
      "source": [
        "Т.к. $\\widehat{D_n} > x_\\alpha$, гипотеза $H_0$ отвергается.\\\n",
        "Вычислим наибольшее значение уровня значимости, на котором нет оснований отвергнуть гипотезу. Пусть $ P(\\widehat{D_n} \\leq x_\\alpha) = 0$.\\\n",
        "$ \\widehat{D_n} \\leq x_\\alpha \\implies \\widehat{D_n} \\leq \\mathcal{K_{50}^{-1}}(1 - \\alpha_2) \\implies \\mathcal{K_{50}}(\\widehat{D_n}) \\leq 1 - \\alpha_2 \\implies \\alpha_2 \\leq 1 - \\mathcal{K_{50}}(\\widehat{D_n})$"
      ],
      "metadata": {
        "id": "F2U2D3ggopVt"
      }
    },
    {
      "cell_type": "code",
      "source": [
        "x_a = 0.495\n",
        "print(\"Наибольший уровень значимости a_2 =\", 1 - sps.ksone.cdf(x_a, 50))"
      ],
      "metadata": {
        "id": "rRY5TF7in-2H"
      },
      "execution_count": null,
      "outputs": []
    },
    {
      "cell_type": "markdown",
      "source": [
        "**f)**\n",
        "Таблица частот \\\n",
        "$ \\begin{array}{|c|c|} \\hline X_{(i)} & -0.2 & -0.15 & -0.1 & -0.05 & 0 & 0.05 & 0.1 & 0.15 & 0.2 \\\\ \\hline \\nu(x = X_{(i)})  & 1 & 3 & 5 & 6 & 8 & 13 & 4 & 7 & 3  \\\\ \\hline\n",
        "\\end{array} $\n",
        "\n",
        "Сгруппируем данные по интевалам.\\\n",
        "$ \\begin{array}{|c|c|} \\hline j & 1 & 2 & 3 & 4 & 5 & 6 & 7 & 8 & 9\\\\ \\hline I_j & (-\\infty, -0.2] & (-0.2, -0.15] & (-0.15, -0.1] & (-0.1, -0.05] & (-0.05, 0] & (0, 0.05] & (0.05, 0.1] & (0.1, 0.15] & (0.15, +\\infty) \\\\ \\hline \\nu_j  & 1 & 3 & 5 & 6 & 8 & 13 & 4 & 7 & 3  \\\\ \\hline\n",
        "\\end{array} $ \\\n",
        "\\\n",
        "$ \\measuredangle$ Основную гипотезу $H_0: Ф(I_j) = F_{(\\alpha_0, \\sigma_0)}(I_j)$ для всех $j=1...9$ \\\n",
        "и альтернативную - $ H_А: {\\exists j} \\ Ф(I_j) \\neq F_{(\\alpha_0, \\sigma_0)}(I_j)$, где $ j=1...9 $\\\n",
        "Гипотеза $ H_0 $ является более слабой по отношению к предложенной в условии, поэтому опровержение $ H_0 $ влечёт за собой опровержение и заданной гипотезы. \\\n",
        "\\\n",
        "Вычислим результаты и структурируем их в таблице \\\n",
        "$ \\begin{array}{|c|c|} \\hline I_j & \\nu_j & p_{j0} & \\frac{\\large \\left( \\nu -np_{j0} \\right)^2}{\\large np_{j0}}\\\\ \\hline (-\\infty, -0.2] & 1 & 0.49683 & 22.882 \\\\ \\hline (-0.2, -0.15] & 3 & 0.00176 &  96.361\\\\ \\hline (-0.15, -0.1] & 5 & 0.00177 & 272.574\\\\ \\hline (-0.1, -0.05] & 6 & 0.00176 & 397.179 \\\\ \\hline (-0.05, 0] & 8 & 0.00176 & 711.361 \\\\ \\hline (0, 0.05] & 13 & 0.00175 & 1905.516 \\\\ \\hline (0.05, 0.1] & 4 & 0.00174 & 175.995\\\\ \\hline (0.1, 0.15] & 7 & 0.00174 & 549.305 \\\\ \\hline (0.15, +\\infty) & 3 & 0.49089 & 18.911 \\\\ \\hline \\end{array} $ \\\n",
        "\\\n",
        "$ \\chi^2 = 4150.084$\\\n",
        "\\\n",
        "Расчёты получены в результате следующей программы\n"
      ],
      "metadata": {
        "id": "MdcM_dtBo1DE"
      }
    },
    {
      "cell_type": "code",
      "source": [
        "def CuclSum(a, g2):\n",
        "  arr = [-0.2, -0.15, -0.1, -0.05, 0, 0.05, 0.1, 0.15]\n",
        "  res = [0] * (len(arr) + 1)\n",
        "\n",
        "  #Вычисление p_j0\n",
        "  res[0] = sps.laplace.cdf(-0.2, a, 2 ** 0.5 / g2)\n",
        "\n",
        "  for i in range(1, len(arr)):\n",
        "    res[i] = sps.laplace.cdf(arr[i], a, 2 ** 0.5 / g2) - sps.laplace.cdf(arr[i - 1], a, 2 ** 0.5 / g2)\n",
        "  res[len(arr)] = 1 - sps.laplace.cdf(0.15, a, 2 ** 0.5 / g2)\n",
        "  res = [round(elem, 5) for elem in res]\n",
        "  print(\"p_j0 =\", res)\n",
        "  print(\"Проверка результата. Сумма p_j0 =\", sum(res))\n",
        "\n",
        "  #Вычисление X^2\n",
        "  v = [1, 3, 5, 6, 8, 13, 4, 7, 3]\n",
        "  ans = [(v[i] - 50 * res[i]) ** 2 / (50 * res[i]) for i in range(len(v))]\n",
        "  ans = [round(elem, 3) for elem in ans]\n",
        "  print(\"Последний столбец =\", ans)\n",
        "\n",
        "  return sum(ans)\n",
        "\n",
        "print(\"X^2 =\", round(CuclSum(-0.11, 0.1), 3))"
      ],
      "metadata": {
        "id": "OdvufcM5qPZD"
      },
      "execution_count": null,
      "outputs": []
    },
    {
      "cell_type": "markdown",
      "source": [
        "$ x_{a} : \\mathcal{K}_{r-1}(x_a) = \\mathcal{K}_8(x_a) = 1 - \\alpha_2 = 1 - 0.02 = 0.98$"
      ],
      "metadata": {
        "id": "8nP5KXHVr27g"
      }
    },
    {
      "cell_type": "code",
      "source": [
        "fx = 0.95\n",
        "x_a = sps.chi2.ppf(fx, 8)\n",
        "\n",
        "print(\"Квантиль x_a =\", round(x_a, 3))\n",
        "print(\"Функция распределения K_8(x_a) =\", sps.chi2.cdf(x_a, 8))"
      ],
      "metadata": {
        "id": "XE1Xy80wr-jL"
      },
      "execution_count": null,
      "outputs": []
    },
    {
      "cell_type": "markdown",
      "source": [
        "Т.к. $\\chi^2 > x_\\alpha$ , то гипотеза отвергается\\\n",
        "Найдём наибольшее значение уровня значимости, на котором нет оснований отвергнуть гипотезу. Пусть $\\mathbb{P}(\\chi^2 \\leq x_\\alpha) = 0$\\\n",
        "Тогда $ \\chi^2 \\leq x_\\alpha \\implies \\chi^2 \\leq \\mathcal{K}_8^{-1}(1 - \\alpha_1) \\implies \\mathcal{K}_8(\\chi^2) \\leq 1 - \\alpha_1 \\implies \\alpha_1 \\leq 1 - \\mathcal{K}_8(\\chi^2)$\n"
      ],
      "metadata": {
        "id": "QfiRo6WcsClL"
      }
    },
    {
      "cell_type": "code",
      "source": [
        "x_a = 4150.084\n",
        "print(\"Наибольшее значение уровня значимости =\", round(1 - sps.chi2.cdf(x_a, 8), 3))"
      ],
      "metadata": {
        "id": "TZYcy_jMsKOk"
      },
      "execution_count": null,
      "outputs": []
    },
    {
      "cell_type": "markdown",
      "source": [
        "**g)** Проверим сложную гипотезу $ H_0 : X_1... X_n \\sim F(a, \\sigma^2) $ \\\n",
        "Альтернативой ей будет служить $ H_A : X_1 ...X_n$ не распределена, как $F(a, \\sigma^2)$\n",
        "\n",
        "Таблица частот \\\n",
        "$ \\begin{array}{|c|c|} \\hline X_{(i)} & -0.2 & -0.15 & -0.1 & -0.05 & 0 & 0.05 & 0.1 & 0.15 & 0.2 \\\\ \\hline \\nu(x = X_{(i)})  & 1 & 3 & 5 & 6 & 8 & 13 & 4 & 7 & 3  \\\\ \\hline\n",
        "\\end{array} $\n",
        "\n",
        "Сгруппируем данные по интевалам (в каждом интервале не менее 5 элементов).\\\n",
        "$ \\begin{array}{|c|c|} \\hline j & 1 & 2 & 3 & 4 & 5\\\\ \\hline I_j & (-\\infty, -0.1] &  (-0.1, -0.05] & (-0.05, 0] & (0, 0.05] & (0.05, +\\infty) \\\\ \\hline \\nu_j  & 9 & 6 & 8 & 13 & 14  \\\\ \\hline\n",
        "\\end{array} $ \\\n",
        "\n",
        "Т.к. гипотеза сложная, то статистикой критерия возьмём $ \\tilde{\\chi^2} = min_\\lambda \\chi^2(\\lambda) = min_\\lambda \\displaystyle \\sum_{j=1}^{5} \\frac{\\large \\left( \\nu_j -np_{j0}(\\lambda) \\right)^2}{\\large np_{j0}(\\lambda)} \\underset{n \\rightarrow \\infty}{\\implies} \\chi^2_{2}$. Размерность $\\chi^2$-распределения вычисляется по формуле $ r - d - 1 $, где $r$ - количество интервалов, а $d = dim(\\Theta_0)$"
      ],
      "metadata": {
        "id": "w7ES7xQlsQ4L"
      }
    },
    {
      "cell_type": "code",
      "source": [
        "def CuclSum(args):\n",
        "  arr = [-0.2, -0.15, -0.1, -0.05, 0, 0.05, 0.1, 0.15]\n",
        "  res = [0] * (len(arr) + 1)\n",
        "\n",
        "  #Вычисление p_j0\n",
        "  res[0] = sps.laplace.cdf(-0.2, args[0], 2 ** 0.5 / args[1])\n",
        "\n",
        "  for i in range(1, len(arr)):\n",
        "    res[i] = sps.laplace.cdf(arr[i], args[0], 2 ** 0.5 / args[1]) - sps.laplace.cdf(arr[i - 1], args[0], 2 ** 0.5 / args[1])\n",
        "  res[len(arr)] = 1 - sps.laplace.cdf(0.15, args[0], 2 ** 0.5 / args[1])\n",
        "\n",
        "  #Вычисление X^2\n",
        "  v = [1, 3, 5, 6, 8, 13, 4, 7, 3]\n",
        "  ans = [(v[i] - 50 * res[i]) ** 2 / (50 * res[i]) for i in range(len(v))]\n",
        "\n",
        "  return sum(ans)\n",
        "\n",
        "result = spo.minimize(CuclSum, (-0.11, 0.1))\n",
        "\n",
        "print(\"Значение X^2 =\", round(result.fun, 5), \"при значении параметров (\", round(result.x[0], 5), round(result.x[1], 5), \")\")\n"
      ],
      "metadata": {
        "id": "Tjtb2GmQtFyX"
      },
      "execution_count": null,
      "outputs": []
    },
    {
      "cell_type": "markdown",
      "source": [
        "$ x_{a} : \\mathcal{K}_{r-d-1}(x_a) = \\mathcal{K}_2(x_a) = 1 - \\alpha_2 = 1 - 0.05 = 0.95$"
      ],
      "metadata": {
        "id": "x8cFfh6Qtgse"
      }
    },
    {
      "cell_type": "code",
      "source": [
        "fx = 0.95\n",
        "x_a = sps.chi2.ppf(fx, 2)\n",
        "\n",
        "print(\"Квантиль x_a =\", round(x_a, 3))\n",
        "print(\"Функция распределения K_8(x_a) =\", sps.chi2.cdf(x_a, 2))"
      ],
      "metadata": {
        "id": "5Y_4l0Lttnpn"
      },
      "execution_count": null,
      "outputs": []
    },
    {
      "cell_type": "markdown",
      "source": [
        "Т.к. $\\chi^2 > x_\\alpha$ , то гипотеза отвергается\\\n",
        "Найдём наибольшее значение уровня значимости, на котором нет оснований отвергнуть гипотезу. Пусть $\\mathbb{P}(\\chi^2 \\leq x_\\alpha) = 0$\\\n",
        "Тогда $ \\chi^2 \\leq x_\\alpha \\implies \\chi^2 \\leq \\mathcal{K}_2^{-1}(1 - \\alpha_1) \\implies \\mathcal{K}_2(\\chi^2) \\leq 1 - \\alpha_1 \\implies \\alpha_1 \\leq 1 - \\mathcal{K}_2(\\chi^2)$\n"
      ],
      "metadata": {
        "id": "2wky_vCUtu9i"
      }
    },
    {
      "cell_type": "code",
      "source": [
        "x_a = 7.73221\n",
        "print(\"Наибольшее значение уровня значимости =\", round(1 - sps.chi2.cdf(x_a, 2), 3))"
      ],
      "metadata": {
        "id": "VDyTX_9SuHOZ"
      },
      "execution_count": null,
      "outputs": []
    },
    {
      "cell_type": "markdown",
      "metadata": {
        "id": "roLZnVfjPC1t"
      },
      "source": [
        "## Выводы\n",
        "\n",
        "В ходе данной лабораторной работы изучено применение выборочных числовых характеристик. Разобраны принципы и освоена работа с оценкой максимального правдоподобия (ОМП) и оценкой метода моментов (ОММ). Построены доверительные интервалы, основанные на построении генераторов по лемме Фишера, и асимптотические доверительные интервалы, основанные на асимптотической нормальности оценок и информации Фишера. Изучен критерий Колмогорова для проверки гипотезы о совпадении эмпирической и теоретической функций распределения. Рассмотрены критерии Хи-квадрат для проверки гипотез о распределении данных. В результате работы также усвоены принципы построения наиболее мощного критерия для простых гипотез на основе статистики отношения правдоподобия."
      ]
    }
  ],
  "metadata": {
    "colab": {
      "provenance": []
    },
    "kernelspec": {
      "display_name": "Python 3",
      "name": "python3"
    },
    "language_info": {
      "name": "python"
    }
  },
  "nbformat": 4,
  "nbformat_minor": 0
}