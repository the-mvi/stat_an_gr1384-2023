{
  "cells": [
    {
      "cell_type": "markdown",
      "metadata": {
        "id": "-0A32hU_MH8H"
      },
      "source": [
        "# Лабораторная работа №2: Классические методы математической статистики\n",
        "Выполнил студент гр. 1384 Соломин Данил"
      ]
    },
    {
      "cell_type": "markdown",
      "metadata": {
        "id": "IfM0jKB3NzjF"
      },
      "source": [
        "## Цель работы\n",
        "Научится применять методы математической статистики для визуализации и анализа полученных данных; сформировать навыки реализации методов с помощью прикладных программных пакетов."
      ]
    },
    {
      "cell_type": "markdown",
      "metadata": {
        "id": "NYdOHo8-OLOe"
      },
      "source": [
        "## Основные теоретические положения\n",
        "\n",
        "### Алгоритмы, которые использовались для написания кода.\n",
        "\n",
        "\n",
        "1. **Расчет теоретических частот:** Используя заданный параметры, мы вычисляем теоретические частоты для каждого значения, используя формулу распределения Пуассона.\n",
        "\n",
        "2. **Применение критерия $ \\chi^2 $:** Критерий $ \\chi^2 $ рассчитывается по формуле:\n",
        "\n",
        "    $ \\chi^2 = \\sum \\frac{(O_i - E_i)^2}{E_i} $\n",
        "\n",
        "   где $ O_i $ — наблюдаемая частота $i$-го значения, $E_i$ — ожидаемая (теоретическая) частота $i$-го значения.\n",
        "\n",
        "3. **Сравнение с критическим значением:** Рассчитанное значение $ \\chi^2 $ сравнивается с критическим значением из таблицы распределения хи-квадрат с соответствующим количеством степеней свободы. Степени свободы обычно равны $ k - 1 - m $, где $ k $ — количество различных значений в выборке, а $ m $ — количество оцениваемых параметров.\n",
        "\n",
        "4. **Оценка уровня значимости:** Если рассчитанное значение $ \\chi^2 $ больше критического, гипотеза о согласии с распределением Пуассона отвергается на уровне значимости $ \\alpha_1 $.\n",
        "\n",
        "5. **p-value** В данном случае мы вычисляем p-value для того, чтобы определить стоит ли отвернуть гипотезу. Это делается при помощи функции $sf = 1 - cdf = 1/(1 - ppf)$\n",
        "\n",
        "\n",
        "**Оценка гипотезы с использованием теоремы Калмогорова.**\n",
        "\n",
        "1. **Стандартизация данных**: Преобразуем выборочные данные так, чтобы они имели стандартное нормальное распределение.\n",
        "\n",
        "2. **Вычисление статистики Колмогорова**: Найдем максимальное абсолютное отклонение между эмпирической функцией распределения выборки и функцией распределения стандартного нормального распределения. $D_n = \\sup_x |F_n(x) - F(x; \\mu, \\sigma)|$\n",
        "\n",
        "3. **Сравнение со значением критической точки**: Сравним полученную статистику с критической точкой распределения Колмогорова для уровня значимости.\n",
        "\n",
        "8. **Принятие или отклонение нулевой гипотезы**:\n",
        "   - Если $ D_n > D_{\\alpha} $, то отклонить нулевую гипотезу $ H_0 $, что означает, что данные не подчиняются нормальному распределению.\n",
        "   - Если $ D_n \\leq D_{\\alpha} $, то не отклонять нулевую гипотезу.\n",
        "\n",
        "\n",
        "Выборочное среднее:\n",
        "\n",
        "$\\bar{x} = \\frac{1}{n}\\sum_{i=1}^{n} x_i$\n",
        "\n",
        "Выборочная дисперсия:\n",
        "\n",
        "$s^2 = \\frac{1}{n-1}\\sum_{i=1}^{n} (x_i - \\bar{x})^2$\n",
        "\n",
        "Выборочное стандартное отклонение:\n",
        "\n",
        "$s = \\sqrt{s^2}$\n",
        "\n",
        "Выборочная медиана:\n",
        "Сортируем выборку по возрастанию и выбираем середину (если $n$ нечетное) или среднее между двумя средними значениями (если $n$ четное).\n",
        "\n",
        "Выборочный квартиль $q_p$:\n",
        "Сортируем выборку по возрастанию и выбираем значение, которое делит данные на $p$ и $(1-p)$ доли. Формула для $q_p$ при $n$ элементах в выборке:\n",
        "$q_p = x_{(k)} + (np - k) \\cdot \\left(x_{(k+1)} - x_{(k)}\\right)$\n",
        "где $k = \\lfloor np \\rfloor$.\n",
        "\n",
        "Выборочный коэффициент асимметрии:\n",
        "$g_1 = \\frac{\\frac{1}{n}\\sum_{i=1}^{n}(x_i - \\bar{x})^3}{s^3}$\n",
        "\n",
        "Выборочный коэффициент эксцесса:\n",
        "$g_2 = \\frac{\\frac{1}{n}\\sum_{i=1}^{n}(x_i - \\bar{x})^4}{s^4} - 3$\n"
      ]
    },
    {
      "cell_type": "markdown",
      "metadata": {
        "id": "cc7dWtuVOReH"
      },
      "source": [
        "## Постановка задачи\n",
        "Для полученных в результате эксперимента наборов данных выполнить статистическую обработку. Полученные результаты содержательно проинтерпретировать."
      ]
    },
    {
      "cell_type": "markdown",
      "metadata": {
        "id": "jP6B9pMqOWVt"
      },
      "source": [
        "## Выполнение работы\n",
        "\n",
        "### Таблица 1\n",
        "\n",
        "a. Построить вариционный ряд, эмпирическую функцию распределения и гистограмму частот"
      ]
    },
    {
      "cell_type": "code",
      "execution_count": 979,
      "metadata": {
        "colab": {
          "base_uri": "https://localhost:8080/",
          "height": 676
        },
        "id": "fk3aMDFS00F_",
        "outputId": "d082019f-0a70-4d0a-a481-a4b8540ce99e"
      },
      "outputs": [
        {
          "name": "stdout",
          "output_type": "stream",
          "text": [
            "Вариационный ряд:  2, 2, 2, 2, 2, 2, 2, 3, 3, 3, 3, 3, 4, 4, 4, 4, 4, 4, 4, 5, 5, 5, 5, 5, 5, 5, 5, 5, 5, 5, 5, 6, 6, 6, 6, 6, 6, 6, 6, 6, 7, 7, 7, 7, 7, 8, 9, 9, 9, 10 \n",
            "\n",
            "\n",
            "\n"
          ]
        },
        {
          "data": {
            "image/png": "[encoded data removed]",
            "text/plain": [
              "<Figure size 1200x600 with 2 Axes>"
            ]
          },
          "metadata": {},
          "output_type": "display_data"
        }
      ],
      "source": [
        "import numpy as np\n",
        "import matplotlib.pyplot as plt\n",
        "from scipy import stats\n",
        "\n",
        "table1 = [4, 7, 2, 2, 5, 6, 9, 2, 4, 4, 3, 3, 7, 4, 2, 7, 5, 5, 5, 5, 5, 2, 5, 6, 6, 6, 4, 6, 8, 4, 5, 7, 7, 2, 4, 3, 6, 6, 2, 5, 5, 5, 9, 10, 3, 9, 5, 3, 6, 6]\n",
        "\n",
        "sorted = np.sort(table1);\n",
        "print(\"Вариационный ряд: \", \", \".join(map(str, sorted)), \"\\n\\n\\n\")\n",
        "\n",
        "# Эмпирическая функция распределения\n",
        "ecdf = np.arange(1, len(sorted) + 1) / len(sorted)\n",
        "\n",
        "plt.figure(figsize=(12, 6))\n",
        "\n",
        "# Вариационный ряд и ЭФР\n",
        "plt.subplot(2, 1, 1)\n",
        "plt.step(sorted, ecdf, where='post')\n",
        "plt.xlabel('Значения')\n",
        "plt.ylabel('Эмпирическая ФР')\n",
        "\n",
        "# Гистограмма\n",
        "plt.subplot(2, 1, 2)\n",
        "plt.hist(table1, bins=range(int(min(table1)), int(max(table1)) + 2), alpha=0.5, edgecolor=\"black\")\n",
        "plt.xlabel('Значения')\n",
        "plt.ylabel('Частота')\n",
        "\n",
        "plt.tight_layout()\n",
        "plt.show()\n"
      ]
    },
    {
      "cell_type": "markdown",
      "metadata": {
        "id": "5R8zLvCdV1za"
      },
      "source": [
        "b. Вычислить выборочные аналоги следующих числовых характеристик: (i) математического ожидания; (ii) дисперсии;  (iii) СКО; (iv) медианы; (v) асимметрии; (vi) эксцесса (vii) вероятности $\\mathrm{P}(X\\in \\left[ a,b \\right])$"
      ]
    },
    {
      "cell_type": "code",
      "execution_count": 980,
      "metadata": {
        "colab": {
          "base_uri": "https://localhost:8080/"
        },
        "id": "60sFoHjGXnDZ",
        "outputId": "b6f65351-00d0-4197-bd2f-543638b93794"
      },
      "outputs": [
        {
          "name": "stdout",
          "output_type": "stream",
          "text": [
            "Математическое ожидание =  5.02\n",
            "Дисперсия = 4.0196\n",
            "Стандартное отклонение= 2.0048940121612415\n",
            "Медиана = 5.0\n",
            "Асимметрия =  0.3597049326915149\n",
            "Эксцесс =  -0.2706600925442433\n",
            "Вероятность P(X in [3.21, 5.45]) =  0.38\n"
          ]
        }
      ],
      "source": [
        "var = np.var(table1)\n",
        "print(\"Математическое ожидание = \", np.mean(table1))\n",
        "print(\"Дисперсия =\", var)\n",
        "print(\"Стандартное отклонение=\", np.sqrt(var))\n",
        "print(\"Медиана =\", np.median(table1))\n",
        "print(\"Асимметрия = \", stats.skew(table1))\n",
        "print(\"Эксцесс = \",stats.kurtosis(table1))\n",
        "print(\"Вероятность P(X in [3.21, 5.45]) = \", len([x for x in table1 if 3.21 <= x <= 5.45]) / len(table1))"
      ]
    },
    {
      "cell_type": "markdown",
      "metadata": {
        "id": "F8ByeJzRZLZX"
      },
      "source": [
        "c. В предположении, что исходные наблюдения являются выборкой из распределения Пуассона, построить ОМП параметра $\\lambda$, а также оценку $\\lambda$ по методу моментов. Найти смещение оценок.\n",
        "\n",
        "**Найдем оценку максимального правдоподобия с помощью ФМП. Запишем распределение пуассона**\n",
        "\n",
        "\n",
        "$f(k) = \\frac{e^{-\\lambda} \\cdot \\lambda^{k}}{k!}$\n",
        "\n",
        "$\\theta = λ$\n",
        "\n",
        "Запишем ФМП.\n",
        "\n",
        "$L(\\vec{x}, \\theta) = \\prod_{i=1}^{n} \\left( \\frac{e^{-\\lambda} \\cdot \\lambda^{x_i}}{x_i!} \\right) = \\frac{e^{-nλ} \\cdot λ^{\\sum_{i=1}^{n}x_i}}{\\prod_{i=1}^{n} x_i!}$\n",
        "\n",
        "Находим минимум. Для этого логорифмируем\n",
        "\n",
        "$LL(\\vec{x}, \\theta) = -nλ + \\sum_{i=1}^{n}x_i ⋅ \\ln{λ} - \\ln(\\prod_{i=1}^{n} x_i!)$\n",
        "\n",
        "$\\frac{\\partial LL}{\\partial λ} = -n + \\frac{\\sum_{i=1}^{n}x_i}{λ} = 0$\n",
        "\n",
        "$\\hat{λ} = \\frac{\\sum_{i=1}^{n}x_i}{n} = \\overline{X_в}$\n",
        "\n",
        "**Оценка максимального правдоподобия по методу моментов**\n",
        "\n",
        "Заметим, что мат. Ожидание распределения пуассона = $λ$, тогда решением уравнения будет:\n",
        "\n",
        "$M(X) = \\overline{X_в} = \\hat{λ}$\n",
        "\n",
        "\n",
        "**Смещение оценок**\n",
        "\n",
        "Наши оценки несмещенные, так как:\n",
        "\n",
        "$M(\\hat{λ}) = M(\\frac{\\sum_{i=1}^{n} x_i}{n}) = \\frac{n λ}{n} = \\lambda = 5.02$"
      ]
    },
    {
      "cell_type": "markdown",
      "metadata": {
        "id": "QwoOG1_WKazr"
      },
      "source": [
        "d. Построить асимптотический доверительный интервал уровня значимости $\\alpha_1$ для параметра $\\lambda$. На базе оценки маскимального правдоподобия.\n",
        "\n",
        "Имеем\n",
        "\n",
        "$\\frac{\\partial LL}{\\partial λ} = -n + \\frac{\\sum_{i=1}^{n}x_i}{λ}$\n",
        "\n",
        "Тогда\n",
        "\n",
        "$I_n(λ) = - M(\\frac{\\partial^2 LL}{\\partial \\lambda^2}) = -M(-\\frac{\\sum_{i=1}^{n}x_i}{λ^2}) = \\frac{nλ}{λ^2} = \\frac{n}{λ}$\n",
        "\n",
        "$I_1(λ) = \\frac{1}{λ}$\n",
        "\n",
        "$x_{α}: Ф(x_{α}) = 1 - \\alpha/2$\n",
        "\n",
        "\n",
        "тогда\n",
        "\n",
        "$\\lambda \\in \\left[ \\hat{\\lambda} - x_{\\alpha} \\sqrt{\\frac{\\hat{\\lambda} }{n}}; \\hat{\\lambda} + x_{\\alpha} \\sqrt{\\frac{\\hat{\\lambda} }{n}} \\right] $\n",
        "\n",
        "\n",
        "Для уровня значимости $α_1 = 0.01$ и объема выборки = 50 получаем\n",
        "\n"
      ]
    },
    {
      "cell_type": "code",
      "execution_count": 981,
      "metadata": {
        "colab": {
          "base_uri": "https://localhost:8080/"
        },
        "id": "S9bK3WE_Qp6i",
        "outputId": "60cc3562-5760-42fb-cc08-0cbf2ea15316"
      },
      "outputs": [
        {
          "name": "stdout",
          "output_type": "stream",
          "text": [
            "Асимптотический доверительный интервал ( 99.0 %): [  4.20382378205284 ;  5.836176217947159  ]\n"
          ]
        }
      ],
      "source": [
        "from scipy.stats import norm\n",
        "import math\n",
        "\n",
        "# Данные\n",
        "alpha = 0.01\n",
        "n = 50\n",
        "lambda_hat = 5.02\n",
        "\n",
        "# Находим квантиль x_{α}\n",
        "z = norm.ppf(1 - alpha / 2)\n",
        "\n",
        "# Расчет стандартной ошибки\n",
        "SE = math.sqrt(lambda_hat / n)\n",
        "\n",
        "# Доверительный интервал\n",
        "lower_bound = lambda_hat - z * SE\n",
        "upper_bound = lambda_hat + z * SE\n",
        "\n",
        "print(\"Асимптотический доверительный интервал (\", (1 - alpha)*100 , \"%): [ \", lower_bound, \"; \", upper_bound, \" ]\")\n"
      ]
    },
    {
      "cell_type": "markdown",
      "metadata": {
        "id": "3c-fCUqbSLPn"
      },
      "source": [
        "e. Используя гистограмму частот, построить критерий значимости $𝒳^2$ проверки простой гипотезы согласия с распределением Пуассона с параметром $\\lambda_0 = 8.00$. Проверить гипотезу на уровне значимости $\\alpha_1 = 0.01$. Вычислить наибольшее значение уровня значимости, на котором еще нет оснований отвергнуть данную гипотезу.\n",
        "\n",
        "Так как p-value меньше уровня значимости $\\alpha_1$, отвергаем нулевую гипотезу о том, что данные подчиняются распределению Пуассона с $λ = 8.0$."
      ]
    },
    {
      "cell_type": "code",
      "execution_count": 982,
      "metadata": {
        "colab": {
          "base_uri": "https://localhost:8080/"
        },
        "id": "bSrAP86hUyHb",
        "outputId": "09e6be4c-ac33-4744-e8d6-dc108c0fcd74"
      },
      "outputs": [
        {
          "name": "stdout",
          "output_type": "stream",
          "text": [
            "Должно быть  6.106910772838602 значений, а из наблюдений  9\n",
            "Должно быть  6.979326597529832 значений, а из наблюдений  5\n",
            "Должно быть  6.979326597529832 значений, а из наблюдений  1\n",
            "Должно быть  6.20384586447096 значений, а из наблюдений  3\n",
            "Должно быть  14.3739216130019 значений, а из наблюдений  32\n"
          ]
        },
        {
          "data": {
            "text/plain": [
              "(30.32312109636919, 3, 1.1800970783266732e-06)"
            ]
          },
          "execution_count": 982,
          "metadata": {},
          "output_type": "execute_result"
        }
      ],
      "source": [
        "from collections import Counter\n",
        "from scipy.stats import poisson, chi2\n",
        "\n",
        "\n",
        "def chi_square_test(values, pmf, lambda_0, free = 1, percent = 0.1):\n",
        "  # Данные выборки\n",
        "  n = len(values)\n",
        "\n",
        "  # Расчет наблюдаемых частот\n",
        "  observed_frequencies = Counter(values)\n",
        "\n",
        "  # Расчет ожидаемых частот\n",
        "  expected_frequencies = {k: n * pmf(k, lambda_0) for k in observed_frequencies}\n",
        "\n",
        "\n",
        "  # Объединение редких значений\n",
        "  observed = []\n",
        "  expected = []\n",
        "  other_observed = 0\n",
        "  other_expected = 0\n",
        "  for k in range(0, max(sorted) + 1):\n",
        "      obs = observed_frequencies.get(k, 0)\n",
        "      exp = expected_frequencies.get(k, 0)\n",
        "      if exp < n * percent: # ожидаем не меньше {percent}% от выборки в это значение\n",
        "          other_observed += obs\n",
        "          other_expected += exp\n",
        "      else:\n",
        "          observed.append(obs)\n",
        "          expected.append(exp)\n",
        "\n",
        "  # Добавляем другие категории\n",
        "  if other_expected > 0:\n",
        "      observed.append(other_observed)\n",
        "      expected.append(other_expected)\n",
        "\n",
        "  for i in range(len(observed)):\n",
        "    print(\"Должно быть \", expected[i],\"значений, а из наблюдений \", observed[i])\n",
        "\n",
        "\n",
        "  # Расчет хи-квадрат статистики\n",
        "  chi_squared_stat = sum((o - e) ** 2 / e for o, e in zip(observed, expected))\n",
        "\n",
        "  # Степени свободы\n",
        "  df = len(observed) - 1 - free\n",
        "\n",
        "  # Расчет p-значения\n",
        "  p_value = chi2.sf(chi_squared_stat, df)\n",
        "\n",
        "  return (chi_squared_stat, df, p_value)\n",
        "\n",
        "chi_square_test(sorted, poisson.pmf, 8)"
      ]
    },
    {
      "cell_type": "markdown",
      "metadata": {
        "id": "oEgTT_vEYLom"
      },
      "source": [
        "f. Построить критерий значимости $𝒳^2$ проверки сложной гипотезы согласия с распределением Пуассона. Проверить гипотезу на уровне значимости $\\alpha_1 = 0.01$. Вычислить наибольшее значение уровня значимости, на котором еще нет оснований отвергнуть данную гипотезу.\n",
        "\n",
        "Так как p-значение значительно больше уровня значимости, не имеем оснований для отвержения $H_0$ о том, что данные подчиняются распределению Пуассона."
      ]
    },
    {
      "cell_type": "code",
      "execution_count": 983,
      "metadata": {
        "colab": {
          "base_uri": "https://localhost:8080/"
        },
        "id": "RBWJUrnChhE_",
        "outputId": "5de70b04-c121-4702-acdd-af8cb0fd949a"
      },
      "outputs": [
        {
          "name": "stdout",
          "output_type": "stream",
          "text": [
            "Должно быть  6.962602572706607 значений, а из наблюдений  5\n",
            "Должно быть  8.73806622874679 значений, а из наблюдений  7\n",
            "Должно быть  8.773018493661782 значений, а из наблюдений  12\n",
            "Должно быть  7.340092139697016 значений, а из наблюдений  9\n",
            "Должно быть  5.26389464875415 значений, а из наблюдений  5\n",
            "Должно быть  10.231285105355163 значений, а из наблюдений  12\n"
          ]
        },
        {
          "data": {
            "text/plain": [
              "(2.7802787698823264, 4, 0.5952417219014883)"
            ]
          },
          "execution_count": 983,
          "metadata": {},
          "output_type": "execute_result"
        }
      ],
      "source": [
        "chi_square_test(sorted, poisson.pmf, np.mean(sorted), 1)"
      ]
    },
    {
      "cell_type": "markdown",
      "metadata": {
        "id": "yWMQRIbgjhfP"
      },
      "source": [
        "g. Построить наиболее мощный критерий проверки простой гипотезы пуассоновости с параметром $λ = 8$ при альтернативе пуассоновости с параметром $λ = 5$. Проверить гипотезу на уровне значимости $a_1$. Что получится если поменять местами основную и альтернативную гипотезы.\n",
        "\n",
        "Для этого нужно построить критерий. Это делается по методу, который описан в теоретических положениях.\n",
        "\n",
        "Рассчитанное отношение правдоподобия =  $ 1.23 \\times 10^{-14}$.\n",
        "\n",
        "Это очень маленькое значение, что указывает на то, что данные гораздо более вероятны при альтернативной гипотезе $\\lambda = 5$ по сравнению с нулевой гипотезой $\\lambda = 8$. Следовательно, необходимо отвергнуть нулевую гипотезу в пользу альтернативной.\n",
        "\n",
        "Если поменять местами основную и альтернативную гипотезы, то тогда бы, высокое значение отношения правдоподобия указывало бы на большую вероятность данных при нулевой гипотезе, и следовательно, нулевая гипотеза была бы принята."
      ]
    },
    {
      "cell_type": "code",
      "execution_count": 984,
      "metadata": {
        "colab": {
          "base_uri": "https://localhost:8080/"
        },
        "id": "Q7VRJPMpxq4x",
        "outputId": "3c521016-bb2d-4eca-8539-b6b591c897f4"
      },
      "outputs": [
        {
          "name": "stdout",
          "output_type": "stream",
          "text": [
            "1.2301083348212811e-14\n",
            "81293652899708.8\n"
          ]
        }
      ],
      "source": [
        "from scipy.special import factorial\n",
        "\n",
        "def test_hard_distr(values, lambda_0, lambda_1, pmf=poisson.pmf):\n",
        "\n",
        "  # Расчет отношения правдоподобия\n",
        "  L0 = np.prod(pmf(values, lambda_0))\n",
        "  L1 = np.prod(pmf(values, lambda_1))\n",
        "\n",
        "  return L0 / L1\n",
        "\n",
        "print(test_hard_distr(sorted, 8, 5))\n",
        "print(test_hard_distr(sorted, 5, 8))"
      ]
    },
    {
      "cell_type": "markdown",
      "metadata": {
        "id": "QuYbUkLwzzkK"
      },
      "source": [
        "h. В пунктах (c)-(f) заменить семейство распределений пуассона на семейство геометрических распределений\n",
        "\n",
        "$P_{λ}(X = k) = \\frac{λ^k}{(λ + 1)^{k+1}}$\n",
        "\n",
        "с2. Построить ОМП м найти смещение\n",
        "\n",
        "$θ = λ$\n",
        "\n",
        "$L(\\vec{x}, θ) = ∏_{i = 1}^{n}\\left(\\frac{λ^{x_i}}{(λ + 1)^{x_i+1}}\\right) = \\frac{λ^{\\sum_{i = 1}^{n} x_i}}{(λ + 1)^{n + \\sum_{i = 1}^{n} x_i}}$\n",
        "\n",
        "$LL(\\vec{x}, θ) = \\ln{λ}\\sum_{i = 1}^{n} x_i - (n + \\sum_{i = 1}^{n} x_i)\\ln{(λ + 1)}$\n",
        "\n",
        "$\\frac{\\partial LL}{\\partialλ} = \\frac{\\sum_{i = 1}^{n} x_i}{λ} - \\frac{n + \\sum_{i = 1}^{n} x_i}{λ + 1} = 0$\n",
        "\n",
        "$ \\frac{\\sum_{i = 1}^{n} x_i}{λ} = \\frac{n + \\sum_{i = 1}^{n} x_i}{λ + 1} $\n",
        "\n",
        "$ λ \\sum_{i = 1}^{n} x_i + \\sum_{i = 1}^{n} x_i = λn + λ\\sum_{i = 1}^{n} x_i$\n",
        "\n",
        "$\\hat{λ} = \\sum_{i = 1}^{n}/n = \\overline{X_в} $\n",
        "\n",
        "\n",
        "**Метод моментов**\n",
        "\n",
        "Перепишем распределение в следующей форме\n",
        "\n",
        "$P_{λ}(X = k) = \\left(\\frac{λ}{1-λ}\\right)^k \\left(1 - \\frac{λ}{1-λ}\\right) = \\frac{λ^k}{(λ + 1)^{k+1}} $\n",
        "\n",
        "Тогда мат ожидание\n",
        "\n",
        "$M(X_i) = \\frac{\\frac{λ}{1-λ}}{ 1 - \\frac{λ}{1-λ} } = λ = \\overline{X_в}$\n",
        "\n",
        "Следовательно оценка параметра еще и не смещена.\n",
        "\n"
      ]
    },
    {
      "cell_type": "markdown",
      "metadata": {
        "id": "0v_D79fnLtdf"
      },
      "source": [
        "d2. Построить асимптотический доверительный интервал уровня значимости $\\alpha_1$ для параметра $\\lambda$. На базе оценки маскимального правдоподобия.\n",
        "\n",
        "Имеем\n",
        "\n",
        "$\\frac{\\partial LL}{\\partial λ} = \\frac{\\sum_{i = 1}^{n} x_i}{λ} - \\frac{n + \\sum_{i = 1}^{n} x_i}{λ + 1}$\n",
        "\n",
        "Тогда\n",
        "\n",
        "$I_n(λ) = - M(\\frac{\\partial^2 LL}{\\partial \\lambda^2}) = -M(-\\frac{\\sum_{i=1}^{n}x_i}{λ^2} + \\frac{n + \\sum_{i=1}^{n}x_i}{(λ+1)^2} ) =\\frac{n}{λ} - \\frac{n}{(λ+1)}$\n",
        "\n",
        "$I_1(λ) = \\frac{1}{λ} - \\frac{1}{(λ+1)}$\n",
        "\n",
        "$SE(\\hat{λ}) = \\sqrt{\\frac{1}{I_1(λ)}}$\n",
        "\n",
        "$x_{α}: Ф(x_{α}) = 1 - \\alpha/2$\n",
        "\n",
        "\n",
        "тогда\n",
        "\n",
        "$\\lambda \\in \\left[ \\hat{\\lambda} - x_{\\alpha} SE(\\hat{λ}); \\hat{\\lambda} + x_{\\alpha} SE(\\hat{λ}) \\right] $\n",
        "\n",
        "\n",
        "Для уровня значимости $α_1 = 0.01$ и объема выборки = 50 получаем"
      ]
    },
    {
      "cell_type": "code",
      "execution_count": 985,
      "metadata": {
        "colab": {
          "base_uri": "https://localhost:8080/"
        },
        "id": "aiEgVv1MOHek",
        "outputId": "8580ee74-10a0-4f05-a24b-27625ab95af0"
      },
      "outputs": [
        {
          "name": "stdout",
          "output_type": "stream",
          "text": [
            "Асимптотический доверительный интервал ( 99.0 %): [  -9.140128150603067 ;  19.180128150603068  ]\n"
          ]
        }
      ],
      "source": [
        "from scipy.stats import norm\n",
        "import math\n",
        "\n",
        "I_lambda = 1 / lambda_hat - 1 / (lambda_hat + 1)\n",
        "\n",
        "# Стандартная ошибка оценки\n",
        "SE = math.sqrt(1 / I_lambda)\n",
        "\n",
        "lower_bound = lambda_hat - z * SE\n",
        "upper_bound = lambda_hat + z * SE\n",
        "\n",
        "print(\"Асимптотический доверительный интервал (\", (1 - alpha)*100 , \"%): [ \", lower_bound, \"; \", upper_bound, \" ]\")"
      ]
    },
    {
      "cell_type": "markdown",
      "metadata": {
        "id": "C8uDxAzlPUsI"
      },
      "source": [
        "e2. Используя гистограмму частот, построить критерий значимости $𝒳^2$ проверки простой гипотезы согласия с распределением Пуассона с параметром $\\lambda_0 = 8.00$. Проверить гипотезу на уровне значимости $\\alpha_1 = 0.01$. Вычислить наибольшее значение уровня значимости, на котором еще нет оснований отвергнуть данную гипотезу.\n",
        "\n",
        "Так как p-value меньше уровня значимости $\\alpha_1$, отвергаем нулевую гипотезу о том, что данные подчиняются геометрическому распределению с $\\lambda = 8$."
      ]
    },
    {
      "cell_type": "code",
      "execution_count": 986,
      "metadata": {
        "colab": {
          "base_uri": "https://localhost:8080/"
        },
        "id": "f35TO43MPUiQ",
        "outputId": "a41e511e-df2e-427b-af98-5d0af7b6e566"
      },
      "outputs": [
        {
          "name": "stdout",
          "output_type": "stream",
          "text": [
            "Должно быть  4.38957475994513 значений, а из наблюдений  7\n",
            "Должно быть  3.901844231062337 значений, а из наблюдений  5\n",
            "Должно быть  3.468305983166522 значений, а из наблюдений  7\n",
            "Должно быть  3.0829386517035746 значений, а из наблюдений  12\n",
            "Должно быть  10.97701376218688 значений, а из наблюдений  19\n"
          ]
        },
        {
          "data": {
            "text/plain": [
              "(37.113236861581996, 3, 4.3544103639409845e-08)"
            ]
          },
          "execution_count": 986,
          "metadata": {},
          "output_type": "execute_result"
        }
      ],
      "source": [
        "from scipy.stats import geom\n",
        "\n",
        "def geom_pmf(k, lambda_param):\n",
        "    return geom.pmf(k + 1, 1 / (lambda_param + 1) )\n",
        "\n",
        "chi_square_test(sorted, geom_pmf, 8, percent=0.06)"
      ]
    },
    {
      "cell_type": "markdown",
      "metadata": {
        "id": "OiUj27CAWDVo"
      },
      "source": [
        "f2. Построить критерий значимости $𝒳^2$ проверки сложной гипотезы согласия с распределением Пуассона. Проверить гипотезу на уровне значимости $\\alpha_1 = 0.01$. Вычислить наибольшее значение уровня значимости, на котором еще нет оснований отвергнуть данную гипотезу.\n",
        "\n",
        "Так как p-value меньше уровня значимости $\\alpha_1$, отвергаем нулевую гипотезу о том, что данные подчиняются геометрическому распределению."
      ]
    },
    {
      "cell_type": "code",
      "execution_count": 987,
      "metadata": {
        "colab": {
          "base_uri": "https://localhost:8080/"
        },
        "id": "49HllUGJWin9",
        "outputId": "999c9b1b-94aa-44a2-cc9e-b22320e87431"
      },
      "outputs": [
        {
          "name": "stdout",
          "output_type": "stream",
          "text": [
            "Должно быть  5.672854217716761 значений, а из наблюдений  7\n",
            "Должно быть  4.757877730988251 значений, а из наблюдений  5\n",
            "Должно быть  3.9904780969578884 значений, а из наблюдений  7\n",
            "Должно быть  3.3468525974485512 значений, а из наблюдений  12\n",
            "Должно быть  10.180956401858245 значений, а из наблюдений  19\n"
          ]
        },
        {
          "data": {
            "text/plain": [
              "(32.60417661849605, 3, 3.903237668339142e-07)"
            ]
          },
          "execution_count": 987,
          "metadata": {},
          "output_type": "execute_result"
        }
      ],
      "source": [
        "chi_square_test(sorted, geom_pmf, 5.2, free=1, percent=0.06)"
      ]
    },
    {
      "cell_type": "markdown",
      "metadata": {
        "id": "5ELKZfU0Y7pa"
      },
      "source": [
        "### Таблица 2\n",
        "\n",
        "a. Построить вариционный ряд, эмпирическую функцию распределения, гистограмму и полигон частот с шагом h=0.1 для выборки"
      ]
    },
    {
      "cell_type": "code",
      "execution_count": 988,
      "metadata": {
        "colab": {
          "base_uri": "https://localhost:8080/",
          "height": 807
        },
        "id": "wEyuqLOOaMSf",
        "outputId": "311597fb-16b9-4803-802c-f3d3976d246f"
      },
      "outputs": [
        {
          "data": {
            "image/png": "[encoded data removed]",
            "text/plain": [
              "<Figure size 1200x800 with 3 Axes>"
            ]
          },
          "metadata": {},
          "output_type": "display_data"
        }
      ],
      "source": [
        "import numpy as np\n",
        "import matplotlib.pyplot as plt\n",
        "\n",
        "# Заданная выборка\n",
        "table2 = np.array([3.984, 3.869, 3.786, 4.173, 4.282, 4.172, 3.9, 4.619, 4.146, 4.193, 3.377, 3.956, 3.809, 4.081, 4.011, 3.905, 4.116, 4.148, 3.848, 4.092, 3.625, 4.15, 4.341, 3.366, 3.782, 3.859, 3.656, 3.989, 3.619, 3.907, 3.829, 4.564, 3.403, 4.51, 4.06, 4.101, 4.097, 4.015, 4.791, 4.077, 3.943, 3.914, 4.16, 4.284, 4.117, 4.361, 3.622, 4.309, 4.244, 3.448])\n",
        "# table2 = np.random.laplace(4, 0.3, 10000) # Проверки на заранее заготовленных данных\n",
        "# table2 = np.random.normal(4, 0.3, 10000)\n",
        "h = 0.1\n",
        "\n",
        "sorted2 = np.sort(table2)\n",
        "\n",
        "# Эмпирическая функция распределения\n",
        "ecdf = np.arange(1, len(sorted2) + 1) / len(sorted2)\n",
        "\n",
        "# Создание гистограммы и полигона частот\n",
        "bins = np.arange(min(table2), max(table2) + h, h)\n",
        "hist, bins = np.histogram(table2, bins=bins)\n",
        "bin_centers = 0.5 * (bins[1:] + bins[:-1])\n",
        "\n",
        "# Начало визуализации\n",
        "plt.figure(figsize=(12, 8))\n",
        "\n",
        "plt.subplot(3, 1, 1)\n",
        "plt.step(sorted2, ecdf, where=\"post\")\n",
        "plt.title(\"Эмпирическая функция распределения\")\n",
        "plt.xlabel(\"Значения\")\n",
        "plt.ylabel(\"Эмпирическая ФР\")\n",
        "\n",
        "plt.subplot(3, 1, 2)\n",
        "plt.bar(bin_centers, hist, width=h, alpha=0.5, edgecolor=\"black\")\n",
        "plt.title(\"Гистограмма\")\n",
        "plt.xlabel(\"Значения\")\n",
        "plt.ylabel(\"Частота\")\n",
        "\n",
        "plt.subplot(3, 1, 3)\n",
        "plt.plot(bin_centers, hist, marker='o')\n",
        "plt.title(\"Полигон частот\")\n",
        "plt.xlabel(\"Значения\")\n",
        "plt.ylabel(\"Частота\")\n",
        "\n",
        "plt.tight_layout()\n",
        "plt.show()"
      ]
    },
    {
      "cell_type": "markdown",
      "metadata": {
        "id": "LVCrX13LeH30"
      },
      "source": [
        "b. Вычислить выборочные аналоги следующих числовых характеристик: (i) математического ожидания; (ii) дисперсии;  (iii) СКО; (iv) медианы; (v) асимметрии; (vi) эксцесса (vii) вероятности $\\mathrm{P}(X\\in \\left[ c, d \\right])$"
      ]
    },
    {
      "cell_type": "code",
      "execution_count": 989,
      "metadata": {
        "colab": {
          "base_uri": "https://localhost:8080/"
        },
        "id": "jYSSg1HdeHlY",
        "outputId": "eccec082-cae9-412e-8256-2d229c67d6fd"
      },
      "outputs": [
        {
          "name": "stdout",
          "output_type": "stream",
          "text": [
            "Математическое ожидание =  4.0122\n",
            "Дисперсия = 0.09318312\n",
            "Стандартное отклонение= 0.30525910305836906\n",
            "Медиана = 4.0375\n",
            "Асимметрия =  -0.025787533579044338\n",
            "Эксцесс =  0.1835868903722253\n",
            "Вероятность P(X in [3.88, 4.06]) =  0.22\n"
          ]
        }
      ],
      "source": [
        "var = np.var(table2)\n",
        "print(\"Математическое ожидание = \", np.mean(table2))\n",
        "print(\"Дисперсия =\", var)\n",
        "print(\"Стандартное отклонение=\", np.sqrt(var))\n",
        "print(\"Медиана =\", np.median(table2))\n",
        "print(\"Асимметрия = \", stats.skew(table2))\n",
        "print(\"Эксцесс = \",stats.kurtosis(table2))\n",
        "print(\"Вероятность P(X in [3.88, 4.06]) = \", len([x for x in table2 if 3.88 <= x <= 4.06]) / len(table1))"
      ]
    },
    {
      "cell_type": "markdown",
      "metadata": {
        "id": "fpdYInqtDKBb"
      },
      "source": [
        "c. В предположении, что исходные наблюдения являются выборкой из нормального распределения, построить оценку максимального правдоподобия параметров $(α,\\sigma^2)$ и соответствующие оценки по методу моментов. Найти смещение оценок.\n",
        "\n",
        "Запишем оценку максимального правдоподобия для нормального распределения\n",
        "\n",
        "$P_{θ}(x) = \\frac{1}{\\sqrt{2\\pi}\\sigma} exp\\left( -\\frac{1}{2}\\frac{(x-a)^2}{\\sigma^2}\\right)$\n",
        "\n",
        "**Ф. Правдоподобия**\n",
        "\n",
        "$L(\\vec{x}; θ) = ∏_{i=1}^{n} \\left( \\frac{1}{\\sqrt{2\\pi}\\sigma} exp\\left( -\\frac{1}{2}\\frac{(x_i-a)^2}{\\sigma^2}\\right) \\right) $\n",
        "\n",
        "$LL(\\vec{x}, θ) = - \\frac{n}{2}\\ln(2\\pi) - n\\ln(\\sigma) - \\frac{1}{2\\sigma^2}\\sum_{i=1}^n (x_i - a)^2$\n",
        "\n",
        "**Находим оценку для параметра a**\n",
        "\n",
        "$\\frac{\\partial LL}{∂a} = \\sum_{i=1}^n (x_i) - na = 0$\n",
        "\n",
        "$\\hat{a} = \\overline{x} $\n",
        "\n",
        "**По аналогии находим оценку для $\\sigma$**\n",
        "\n",
        "\n",
        "$\\frac{\\partial LL}{∂\\sigma} = -\\frac{n}{\\sigma} + \\frac{1}{\\sigma^3}\\sum_{i=1}^n (x_i - a)^2 = 0$\n",
        "\n",
        "$\\hat{\\sigma^2} = s^2$\n",
        "\n",
        "**Найдет смещение оценов**\n",
        "\n",
        "$\\hat{a}$:\n",
        "\n",
        "$M(\\hat{a}) = \\frac{1}{n} \\sum_{i=1}^n M(X_i) = \\frac{n}{n} a = a $ (Оценка не смещена)\n",
        "\n",
        "\n",
        "$\\hat{\\sigma^2} = s^2$:\n",
        "\n",
        "$M\\left(\\hat{\\sigma^2}\\right) = M\\left(\\frac{1}{n} \\sum_{i=1}^n (X_i - \\overline{X})^2\\right) = M\\left(\\frac{1}{n} \\sum_{i=1}^n X_i^2 - \\left(\\frac{1}{n} \\sum_{i=1}^n X_i \\right)^2 \\right) =  \\frac{1}{n} M\\left( \\sum_{i=1}^n X_i^2 \\right) - \\frac{1}{n^2} M\\left( \\sum_{i=1}^n X_i\\right)^2 = \\frac{1}{n}\\cdot M(X_1^2 + X_2^2 + ... + X_n^2) - \\frac{1}{n^2}M\\left(X_1 + X_2 + ... + X_n \\right)^2 = \\frac{1}{n}\\cdot (MX_1^2 + MX_2^2 + ... + MX_n^2) - \\frac{1}{n^2} M\\left(X_1^2 + X_2^2 +...+X_n^2 + 2(X_1X_2 + X_1X_3 ... + X_{n_1}X_{n})\\right) = $\n",
        "\n",
        "$ = \\frac{n-1}{n^2} (MX_1^2 + MX_2^2 + ... + MX_n^2) - \\frac{2}{n^2}(MX_1 \\cdot MX_2 + MX_1 \\cdot MX_3 + ... + MX_{n-1} \\cdot MX_{n}) = \\frac{n-1}{n}(MX^2  \\cdot n) - \\frac{2}{n^2}\\left((MX)^2 \\cdot \\frac{n(n-1)}{2}\\right) = \\frac{n-1}{n}MX^2 - \\frac{n-1}{n}(MX)^2 = \\frac{n-1}{n}(MX^2 - (MX)^2) = \\frac{n-1}{n}DX $\n",
        "\n",
        "Тогда исправленая оцена $\\hat{\\sigma^2}$:\n",
        "\n",
        "$\\widetilde{\\sigma^2} = \\frac{n}{n-1}s^2$\n"
      ]
    },
    {
      "cell_type": "markdown",
      "metadata": {
        "id": "hrwHqdPzDxgx"
      },
      "source": [
        "d. Построить доверительные интервалы уровня значимости $α_2$ для параметров $(a, σ^2)$\n",
        "\n",
        "\n",
        "Построим доверительный интервал. Для параметра $\\theta_1 = a$\n",
        "\n",
        "Если записать коротко, то получаем следующее\n",
        "\n",
        "$\\sqrt{n}\\frac{\\overline{X} - a}{\\sigma} \\sim N(0, 1)$\n",
        "\n",
        "$\\frac{ns^2}{\\sigma^2} \\sim χ_{n-1}^2$\n",
        "\n",
        "Переходим к распределению Стьюдента\n",
        "\n",
        "$\\frac{\\sqrt{n}(\\overline{X} - a)⋅\\sqrt{n-1} \\cdot \\sigma}{\\sqrt{ns^2} \\cdot \\sigma} \\sim S_{n-1}$\n",
        "\n",
        "$\\frac{(\\overline{X} - a)⋅\\sqrt{n-1}}{s} \\sim S_{n-1}$\n",
        "\n",
        "$P_0 \\left( S_{n-1} \\in [-x_α; x_α] \\right) = 1 - α$\n",
        "\n",
        "$x_\\alpha$: $S(x_α) = 1 - \\alpha/2$\n",
        "\n",
        "$P_0 \\left( -x_{α} ≤ \\frac{(\\overline{X} - a)⋅\\sqrt{n-1}}{s} ≤ x_{α} \\right)$\n",
        "\n",
        "$P_0 \\left( \\overline{X}-\\frac{x_{α}s}{\\sqrt{n-1}} ≤ a ≤ \\overline{X} + \\frac{x_{α}s}{\\sqrt{n-1}}  \\right)$\n",
        "\n",
        "$a \\in [ \\overline{X}-\\frac{x_{α}s}{\\sqrt{n-1}};  \\overline{X}+\\frac{x_{α}s}{\\sqrt{n-1}}] $\n",
        "\n",
        "Построим доверительный интервал. Для параметра $\\theta_2 = \\sigma^2$\n",
        "\n",
        "Понимаем, что из распределения $χ^2$\n",
        "\n",
        "$\\frac{ns^2}{σ^2} \\sim \\chi^2_{n-1}$\n",
        "\n",
        "Тогда\n",
        "\n",
        "$P_0 \\left( \\chi^2_{n-1} \\in [x_{1α}; x_{2α}] \\right) = 1 - α$\n",
        "\n",
        "$x_{1\\alpha}$: $S(x_{1α}) = 1 - \\alpha/2$\n",
        "\n",
        "$x_{2\\alpha}$: $S(x_{2α}) = \\alpha/2$\n",
        "\n",
        "$P_0 \\left( x_{1α} ≤ \\frac{ns^2}{σ^2} ≤ x_{2α} \\right)$\n",
        "\n",
        "\n",
        "$P_0 \\left( \\frac{ns^2}{x_{1α}} ≤ σ^2 ≤ \\frac{ns^2}{x_{2α}} \\right)$\n",
        "\n",
        "$\\sigma^2 \\in \\left[\\frac{ns^2}{x_{1α}}; \\frac{ns^2}{x_{2α}}\\right]$"
      ]
    },
    {
      "cell_type": "code",
      "execution_count": 990,
      "metadata": {
        "colab": {
          "base_uri": "https://localhost:8080/"
        },
        "id": "xIuBo6FcppML",
        "outputId": "6d8ede00-456f-4860-f203-4c0423454a12"
      },
      "outputs": [
        {
          "data": {
            "text/plain": [
              "((3.907326414075867, 4.117073585924133),\n",
              " (0.06218885066940135, 0.16099004853883753))"
            ]
          },
          "execution_count": 990,
          "metadata": {},
          "output_type": "execute_result"
        }
      ],
      "source": [
        "from scipy.stats import nct, chi2\n",
        "\n",
        "mean = np.mean(table2)\n",
        "n_2 = len(table2)\n",
        "std = np.std(table2)\n",
        "\n",
        "alpha_2 = 0.02\n",
        "\n",
        "# Оценка a\n",
        "tollerance = nct.ppf(1 - alpha_2 / 2, n_2 - 1, 0)*std/(np.sqrt(n_2 - 1))\n",
        "\n",
        "level_x_1a = chi2.ppf(1 - alpha_2 / 2, n_2 - 1)\n",
        "level_x_2a = chi2.ppf(alpha_2 / 2, n_2 - 1)\n",
        "\n",
        "# оценка sigma^2\n",
        "a_estimate =  mean - tollerance, mean + tollerance\n",
        "s_estimate = (n_2)*std**2/level_x_1a, (n_2)*std**2/level_x_2a\n",
        "\n",
        "a_estimate, s_estimate\n"
      ]
    },
    {
      "cell_type": "markdown",
      "metadata": {
        "id": "vvrQTO1SEFsT"
      },
      "source": [
        "e. С использованием теоремы Колмогорова построить критерий значимости простой гипотезы согласия с нормальным распределением с параметрами $(\\alpha_0, \\sigma_0^2 )$ Проверить гипотезу на уровне значимости $α_2$. Вычислить наибольшее значение уровня значимости, на котором еще нет оснований отвергнуть данную гипотезу.\n",
        "\n",
        "Имеем $a_0 = 4, \\sigma_0 = 0.30$\n",
        "\n",
        "Для того, чтобы проверить простую гипотезу с использованием теоремы Колмогорова используем выкладки из теоретических положений (см Теоретические положения для подробного описания алгоритма), и напишем необходимый код.\n",
        "\n",
        "Видим, что p-value довольно большое, что позовляет судить о том, что у нас нет оснований отвергунть гипотезу о том, что наши данные принадлежат нормальному распределению с параметрами $(4, 0.3^2)$"
      ]
    },
    {
      "cell_type": "code",
      "execution_count": 991,
      "metadata": {
        "colab": {
          "base_uri": "https://localhost:8080/"
        },
        "id": "qIJgTT-O28rt",
        "outputId": "76d21289-7d8b-437a-f05a-d9e3e98ce1b7"
      },
      "outputs": [
        {
          "data": {
            "text/plain": [
              "KstestResult(statistic=0.0812819470942523, pvalue=0.8692147638253225, statistic_location=0.25666666666666654, statistic_sign=-1)"
            ]
          },
          "execution_count": 991,
          "metadata": {},
          "output_type": "execute_result"
        }
      ],
      "source": [
        "from scipy.stats import norm, kstest\n",
        "\n",
        "# Заданные параметры нормального распределения\n",
        "mu_0 = 4\n",
        "s_0 = 0.3\n",
        "\n",
        "# Стандартизация данных\n",
        "standardized_data = [(x - mu_0) / s_0 for x in table2]\n",
        "\n",
        "# Применение критерия Колмогорова-Смирнова\n",
        "kstest(standardized_data, 'norm')\n"
      ]
    },
    {
      "cell_type": "markdown",
      "metadata": {
        "id": "25kz4PoYFCfJ"
      },
      "source": [
        "f. Используя гистограмму частот, построить критерий значимости $𝒳^2$ проверки простой гипотезы согласия с нормальным распределением с параметрами $(α_0,\\sigma_0^2)$. Проверить гипотезу на уровне значимости $α_2$. Вычислить наибольшее значение уровня значимости, на котором еще нет оснований отвергнуть данную гипотезу.\n",
        "\n",
        "По аналогии с Таблицей 1 необходимо вычислить **теоретические** вероятности для нормального распределения и сравнить их с исходными. То, что теперь оцениваем 2 параметра повлияет на степени свободы распределения $\\chi^2$\n",
        "\n",
        "Значение p-value позволяет сделать аналогичный вывод о том, что у нас нет оснований отвергунть гипотезу о том, что наши данные принадлежат нормальному распределению с параметрами $(4, 0.3^2)$"
      ]
    },
    {
      "cell_type": "code",
      "execution_count": 992,
      "metadata": {
        "colab": {
          "base_uri": "https://localhost:8080/"
        },
        "id": "JLY_r340BdfW",
        "outputId": "e90c2fd1-4295-4f0d-8910-1bbc47891f9f"
      },
      "outputs": [
        {
          "data": {
            "text/plain": [
              "(6.135209482882143, 0.18927573138773524)"
            ]
          },
          "execution_count": 992,
          "metadata": {},
          "output_type": "execute_result"
        }
      ],
      "source": [
        "def chi_square_test_2(values, mu, sigma, cdf = norm.cdf):\n",
        "    # Вычисляем теоретические частоты\n",
        "    n = len(values)\n",
        "    bins = np.sqrt(n).astype(int)  # количество интервалов\n",
        "    observed, bin_edges = np.histogram(values, bins=bins)\n",
        "    expected = n * (cdf(bin_edges[1:], mu, sigma) - cdf(bin_edges[:-1], mu, sigma))\n",
        "\n",
        "    # Вычисляем значение критерия Хи-квадрат\n",
        "    chi_square_stat = sum((o - e) ** 2 / e for o, e in zip(observed, expected))\n",
        "    p_value = chi2.sf(chi_square_stat, bins - 1 - 2) # оцениваем 2 параметра, так что - 2\n",
        "\n",
        "\n",
        "    return chi_square_stat, p_value\n",
        "\n",
        "\n",
        "chi_square_test_2(table2, mu_0, s_0)"
      ]
    },
    {
      "cell_type": "markdown",
      "metadata": {
        "id": "0rRv2k2VUF9B"
      },
      "source": [
        "g. Построить критерий проверки значимости $𝒳^2$ сложной гипотезы согласия с нормальным распределением. Проверить гипотезу на уровне значимости $α_2$. Вычислить наибольщее значение ровня значимости, на котором еще нет оснований отвергнуть данную гипотезу.\n",
        "\n",
        "Значение p-value позволяет сделать аналогичный вывод о том, что у нас нет оснований отвергунть гипотезу о том, что наши данные принадлежат нормальному распределению."
      ]
    },
    {
      "cell_type": "code",
      "execution_count": 993,
      "metadata": {
        "colab": {
          "base_uri": "https://localhost:8080/"
        },
        "id": "4U54RdftOXmZ",
        "outputId": "aae6028f-f1e8-418b-e4fb-3ba22be116f8"
      },
      "outputs": [
        {
          "data": {
            "text/plain": [
              "(6.271244094398722, 0.17978667039862037)"
            ]
          },
          "execution_count": 993,
          "metadata": {},
          "output_type": "execute_result"
        }
      ],
      "source": [
        "chi_square_test_2(table2, np.mean(table2), n_2/(n_2 - 1) * np.std(table2)) # берем несмещенную оценку"
      ]
    },
    {
      "cell_type": "markdown",
      "metadata": {
        "id": "8lSYI-VsUtix"
      },
      "source": [
        "h. Построить наиболее мощный критерий проверки простой гипотезы о нормальности с параметром $(a_0, σ^2_0) = (a_0, σ^2_0)$ при альтернативе нормальности с параметром $(a_0, σ^2_0) = (a_1, σ^2_1)$. Проверить гипотезу на уровне значимости $α_2$. Что получится, если поменять местами основную и альтернативную гипотезы?\n",
        "\n",
        "\n",
        "Для этого нужно построить критерий. Это делается по методу, который описан в теоретических положениях.\n",
        "\n",
        "Рассчитанное отношение правдоподобия =  $ 1.06 \\times 10^{-10}$.\n",
        "\n",
        "Это очень маленькое значение, что указывает на то, что данные гораздо более вероятны при альтернативной гипотезе $\\alpha_0 = 4, \\sigma = 0.3$ по сравнению с нулевой гипотезой $\\alpha_0 = 4.3, \\sigma = 0.3$. Следовательно, необходимо отвергнуть нулевую гипотезу в пользу альтернативной.\n",
        "\n",
        "Если поменять местами основную и альтернативную гипотезы, то тогда бы, высокое значение отношения правдоподобия указывало бы на большую вероятность данных при нулевой гипотезе, и следовательно, нулевая гипотеза была бы принята."
      ]
    },
    {
      "cell_type": "code",
      "execution_count": 994,
      "metadata": {
        "colab": {
          "base_uri": "https://localhost:8080/"
        },
        "id": "92SnNtUtRG1z",
        "outputId": "6ebb3c73-18e5-4921-c6ce-c28f2f5ddb3a"
      },
      "outputs": [
        {
          "name": "stdout",
          "output_type": "stream",
          "text": [
            "9425330789.244263\n",
            "1.0609707206681301e-10\n"
          ]
        }
      ],
      "source": [
        "\n",
        "from scipy.stats import norm\n",
        "def likelihood_test_2(mu0, s0, mu1, s1, fn=norm.pdf):\n",
        "  L0 = np.prod(norm.pdf(sorted2, mu0, s0))\n",
        "  L1 = np.prod(norm.pdf(sorted2, mu1, s1))\n",
        "\n",
        "\n",
        "  return L0 / L1\n",
        "\n",
        "mu_1 = 4.3\n",
        "s_1 = 0.3\n",
        "\n",
        "print(likelihood_test_2(mu_0, s_0, mu_1, s_1))\n",
        "print(likelihood_test_2( mu_1, s_1, mu_0, s_0))"
      ]
    },
    {
      "cell_type": "markdown",
      "metadata": {
        "id": "NzEPp64pVVEb"
      },
      "source": [
        "i. В пунктах (c)-(g) заменить семейство нормальных распределений на двухпараметрическое семейство распределений Лапласа с плотностями\n",
        "\n",
        "$p_{α,σ}(x) = \\frac{1}{\\sqrt{2}σ} exp\\left(-\\frac{\\sqrt{2}}{σ}\\left|x - a\\right|\\right)$"
      ]
    },
    {
      "cell_type": "markdown",
      "metadata": {
        "id": "MT6SNopurBXd"
      },
      "source": [
        "i.c В предположении, что исходные наблюдения являются выборкой из нормального распределения, построить оценку максимального правдоподобия параметров $(α,\\sigma^2)$ и соответствующие оценки по методу моментов. Найти смещение оценок.\n",
        "\n",
        "**Построим оценку максимального правдоподобия по параметру $α$**\n",
        "\n",
        "$p_{α,σ}(x) = \\frac{1}{\\sqrt{2}σ} exp\\left(-\\frac{\\sqrt{2}}{σ}\\left|x - a\\right|\\right)$\n",
        "\n",
        "$L(\\vec{x}, \\theta) = \\prod_{i=1}^n \\frac{1}{\\sqrt{2}σ} exp\\left(-\\frac{\\sqrt{2}}{σ}\\left|x_i - a\\right|\\right) =  \\frac{1}{(\\sqrt{2}σ)^n} exp\\left(-\\frac{\\sqrt{2}}{σ} \\sum_{i=1}^n \\left|x_i - a\\right|\\right)$\n",
        "\n",
        "$LL(\\vec{x}, \\theta) = -n\\ln{(\\sqrt{2} \\sigma)} - \\frac{\\sqrt{2}}{σ} \\sum_{i=1}^n \\left|x_i - a\\right|$\n",
        "\n",
        "\n",
        "$\\frac{∂LL}{∂a} = - \\frac{\\sqrt{2}}{\\sigma} \\sum_{i=1}^n {\\frac{x_i - a}{|x_i - a|}} = 0$\n",
        "\n",
        "$\\frac{\\sum^n_{i = 1}{x_i}}{n} = \\hat{a}$\n",
        "\n",
        "$\\hat{a} = \\overline{X}$\n",
        "\n",
        "**Построим оценку максимального правдоподобия по параметру $\\sigma^2$**\n",
        "\n",
        "$LL(\\vec{x}, \\theta) = -n\\ln{(\\sqrt{2} \\sigma)} - \\frac{\\sqrt{2}}{σ} \\sum_{i=1}^n \\left|x_i - a\\right|$\n",
        "\n",
        "\n",
        "$\\frac{∂LL}{∂\\sigma} = -\\frac{n}{\\sigma} + \\frac{\\sqrt{2}}{\\sigma^2} \\sum_{i=1}^n \\left|x_i - a\\right| = 0$\n",
        "\n",
        "$n = \\frac{\\sqrt{2}}{\\sigma} \\sum_{i=1}^n \\left|x_i - a\\right|$\n",
        "\n",
        "$\\sigma = \\frac{\\sqrt{2}}{n} \\sum_{i=1}^n \\left|x_i - a\\right|$\n",
        "\n",
        "$\\hat{\\sigma^2} = \\frac{2}{n^2} \\left(\\sum_{i=1}^n \\left|x_i - \\overline{X}\\right|\\right)^2$\n",
        "\n",
        "**Находим отклонение оценок**\n",
        "\n",
        "$α:$\n",
        "\n",
        "$M(\\overline{X}) = \\frac{n}{n}a = a$\n",
        "\n",
        "$σ:$\n",
        "\n",
        "Если раскрыть скобки, то все что без квадрата, то = 0, а то, что с квадратом, то дисперсия $×$ n.\n",
        "\n",
        "$M\\left(\\frac{2}{n^2} \\left(\\sum_{i=1}^n \\left|x_i - \\overline{X}\\right|\\right)^2\\right) = \\frac{2}{n^2} M\\left(\\sum_{i=1}^n \\left|x_i - \\overline{X}\\right|\\right)^2 = \\frac{2}{n^2} n^2 \\sigma^2 = 2\\sigma^2$\n",
        "\n",
        "Наша оценка смещена в 2. Тогда несмещенная оценка\n",
        "\n",
        "$\\widetilde{σ^2} = \\frac{1}{n^2} \\left(\\sum_{i=1}^n \\left|x_i - \\overline{X}\\right|\\right)^2$"
      ]
    },
    {
      "cell_type": "markdown",
      "metadata": {
        "id": "1gmfUDFyWVGZ"
      },
      "source": [
        "i.d Построить доверительные интервалы уровня значимости $α_2$ для параметров $(α, σ^2)$\n",
        "\n",
        "d2. Построить асимптотический доверительный интервал уровня значимости $\\alpha_1$ для параметра $\\lambda$. На базе оценки маскимального правдоподобия.\n",
        "\n",
        "Имеем\n",
        "\n",
        "$\\frac{∂LL}{∂\\sigma} = -\\frac{n}{\\sigma} + \\frac{\\sqrt{2}}{\\sigma^2} \\sum_{i=1}^n \\left|x_i - \\overline{X}\\right| = 0$\n",
        "\n",
        "\n",
        "$\\frac{∂^2LL}{∂\\sigma^2} = \\frac{n}{\\sigma^2} - \\frac{2\\sqrt{2}}{\\sigma^3} \\sum_{i=1}^n \\left|x_i - \\overline{X}\\right|$\n",
        "\n",
        "\n",
        "Тогда\n",
        "\n",
        "$I_n(λ) = -M\\left( \\frac{n}{\\sigma^2} - \\frac{2\\sqrt{2}}{\\sigma^3} \\sum_{i=1}^n \\left|x_i - \\overline{X}\\right| \\right) = \\frac{n}{\\sigma^2}$\n",
        "\n",
        "$I_1(λ) = \\frac{1}{σ^2}$\n",
        "\n",
        "$SE(\\hat{λ}) = \\sqrt{\\frac{1}{I_1(λ)}}$\n",
        "\n",
        "$x_{α}: Ф(x_{α}) = 1 - \\alpha/2$\n",
        "\n",
        "\n",
        "тогда\n",
        "\n",
        "$\\lambda \\in \\left[ \\hat{\\lambda} - x_{\\alpha} SE(\\hat{λ}); \\hat{\\lambda} + x_{\\alpha} SE(\\hat{λ}) \\right] $\n",
        "\n",
        "\n",
        "Для уровня значимости $α_2 = 0.02$ и объема выборки = 50 получаем"
      ]
    },
    {
      "cell_type": "code",
      "execution_count": 995,
      "metadata": {
        "colab": {
          "base_uri": "https://localhost:8080/"
        },
        "id": "Iu4alY4Izrdi",
        "outputId": "29cbc24a-b63b-44a1-e1f6-a371825b3b71"
      },
      "outputs": [
        {
          "name": "stdout",
          "output_type": "stream",
          "text": [
            "Асимптотический доверительный интервал ( 98.0 %): [  -7.527712868795513 ;  7.714079108795513  ]\n"
          ]
        }
      ],
      "source": [
        "sigma2_hat = np.var(table2)\n",
        "\n",
        "I_lambda = 1 / sigma2_hat\n",
        "\n",
        "# Стандартная ошибка оценки\n",
        "SE = math.sqrt(1 / sigma2_hat)\n",
        "\n",
        "# Находим квантиль x_{α}\n",
        "z = norm.ppf(1 - alpha_2 / 2)\n",
        "\n",
        "lower_bound = sigma2_hat - z * SE\n",
        "upper_bound = sigma2_hat + z * SE\n",
        "\n",
        "print(\"Асимптотический доверительный интервал (\", (1 - alpha_2)*100 , \"%): [ \", lower_bound, \"; \", upper_bound, \" ]\")"
      ]
    },
    {
      "cell_type": "markdown",
      "metadata": {
        "id": "o81oOkcoWYu2"
      },
      "source": [
        "i.e С использованием теоремы Колмогорова построить критерий значимости простой гипотезы согласия с нормальным распределением с параметрами $(\\alpha_0, \\sigma_0^2 )$ Проверить гипотезу на уровне значимости $α_2$. Вычислить наибольшее знчение уровня значимости, на котором еще нет оснований отвергнуть данную гипотезу.\n",
        "\n",
        "Так как pvalue > уровня значимости, то у нас нет оснований отвергнуть нулевую гипотезу"
      ]
    },
    {
      "cell_type": "code",
      "execution_count": 996,
      "metadata": {
        "colab": {
          "base_uri": "https://localhost:8080/"
        },
        "id": "_sZDh5_IbeKW",
        "outputId": "1709834e-fbb8-4f08-bb64-528e782bd250"
      },
      "outputs": [
        {
          "data": {
            "text/plain": [
              "KstestResult(statistic=0.09318697693014366, pvalue=0.742936304005941, statistic_location=0.25666666666666654, statistic_sign=-1)"
            ]
          },
          "execution_count": 996,
          "metadata": {},
          "output_type": "execute_result"
        }
      ],
      "source": [
        "from scipy.stats import laplace\n",
        "\n",
        "# Стандартизация данных\n",
        "standardized_data = [(x - mu_0) / s_0 for x in table2]\n",
        "# Применение критерия Колмогорова-Смирнова\n",
        "kstest(standardized_data, 'laplace')"
      ]
    },
    {
      "cell_type": "markdown",
      "metadata": {
        "id": "wd6b8aPfWbuc"
      },
      "source": [
        "i.f Используя гистограмму частот, построить критерий значимости $𝒳^2$ проверки простой гипотезы согласия с нормальным распределением с параметрами $(α_0,\\sigma_0^2)$. Проверить гипотезу на уровне значимости $α_2$. Вычислить наибольшее значинеие уровня значимости, на котором еще нет оснований отвергнуть данную гипотезу.\n",
        "\n",
        "Так как pvalue > уровня значимости, то у нас нет оснований отвергнуть нулевую гипотезу"
      ]
    },
    {
      "cell_type": "code",
      "execution_count": 997,
      "metadata": {
        "colab": {
          "base_uri": "https://localhost:8080/"
        },
        "id": "MmyF3VJUbf0C",
        "outputId": "6723cb9e-0f8b-463f-9369-b8b142419c62"
      },
      "outputs": [
        {
          "data": {
            "text/plain": [
              "(3.58481296637628, 0.4651000569289523)"
            ]
          },
          "execution_count": 997,
          "metadata": {},
          "output_type": "execute_result"
        }
      ],
      "source": [
        "chi_square_test_2(table2, mu_0, s_0, cdf=laplace.cdf)"
      ]
    },
    {
      "cell_type": "markdown",
      "metadata": {
        "id": "zaalIeTbWezm"
      },
      "source": [
        "i.g Построить критерий проверки значимости $𝒳^2$ сложной гипотезы согласия с нормальным распределением. Проверить гипотезу на уровне значимости $α_2$. Вычислить наибольщее значение ровня значимости, на котором еще нет оснований отвергнуть данную гипотезу.\n",
        "\n",
        "Так как pvalue > уровня значимости, то у нас нет оснований отвергнуть нулевую гипотезу\n",
        "\n",
        "из-зв малого количества данных и \"похожести\" распределений, мы не можем точно сказать из какого именно распределения предоставленные данные. На более больших объемах результаты будут более однозначны."
      ]
    },
    {
      "cell_type": "code",
      "execution_count": 998,
      "metadata": {
        "colab": {
          "base_uri": "https://localhost:8080/"
        },
        "id": "Ge5yhL_WbgGG",
        "outputId": "9014e1b7-5934-4371-fa14-9465c3763b2f"
      },
      "outputs": [
        {
          "data": {
            "text/plain": [
              "(3.693003941915029, 0.4491442788412342)"
            ]
          },
          "execution_count": 998,
          "metadata": {},
          "output_type": "execute_result"
        }
      ],
      "source": [
        "chi_square_test_2(table2, np.mean(table2), np.std(table2), cdf=laplace.cdf)"
      ]
    },
    {
      "cell_type": "markdown",
      "metadata": {
        "id": "uphRSNCvWjUk"
      },
      "source": [
        "## Выводы\n",
        "\n",
        "В рамках проведенного исследования были выполнены следующие аналитические задачи:\n",
        "\n",
        "1. **Оценка Максимального Правдоподобия:**\n",
        "2. **Асимптотический Доверительный Интервал:**\n",
        "3. **Критерий Хи-Квадрат для Гипотезы Согласия:**\n",
        "4. **Критерий Отношения Правдоподобия:**\n",
        "5. **Работа с непрерывными распределениями**\n",
        "\n",
        "Исследование позволило глубже понять природу и свойства распределения Пуассона и геометрического распределения, а также научиться применять статистические методы для анализа данных. Было исследовано нормальное распределение и распределение Лапласа. Это позволило получить опыт работы с непрерывными распределениями.  Особое внимание было уделено гипотезам, что является очень важной частью статистического анализа."
      ]
    }
  ],
  "metadata": {
    "colab": {
      "provenance": []
    },
    "kernelspec": {
      "display_name": "Python 3",
      "name": "python3"
    },
    "language_info": {
      "name": "python"
    }
  },
  "nbformat": 4,
  "nbformat_minor": 0
}
