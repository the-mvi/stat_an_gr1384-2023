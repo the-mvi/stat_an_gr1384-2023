{
  "nbformat": 4,
  "nbformat_minor": 0,
  "metadata": {
    "colab": {
      "provenance": []
    },
    "kernelspec": {
      "name": "python3",
      "display_name": "Python 3"
    },
    "language_info": {
      "name": "python"
    }
  },
  "cells": [
    {
      "cell_type": "markdown",
      "source": [
        "# Лабораторная работа №2: Классические методы математической статистики\n",
        "Выполнил студент гр. 1384 Камынин Александр. Вариант №5"
      ],
      "metadata": {
        "id": "nwKb2PI7bgjQ"
      }
    },
    {
      "cell_type": "markdown",
      "source": [
        "## Цель работы\n",
        "Научится применять методы математической статистики для визуализации и анализа полученных данных; сформировать навыки реализации методов с помощью прикладных программных пакетов."
      ],
      "metadata": {
        "id": "O5yHFB8obg0Q"
      }
    },
    {
      "cell_type": "markdown",
      "source": [
        "## Основные теоретические положения\n",
        "\n",
        "1. Выборочные числовые характеристики:\n",
        "\n",
        "Мат.ожидание $\\overline{X}=\\frac{1}{n}\\sum_{i=1}^{n}X_{i}$\n",
        "\n",
        "Дисперсия $S^{2}=\\frac{1}{n}\\sum_{i=1}^{n}\\left( X_{i}-\\overline{X} \\right)^{2}=\\overline{X^{2}}-\\overline{X}^{2}$\n",
        "\n",
        "Коэф. асимметрии $\\widehat{S_{kew}}X=\\frac{\\left(\\frac{1}{n}\\sum_{i=1}^{n}\\left( X_{i}-\\overline{X} \\right)^{3} \\right)}{S^{3}}$\n",
        "\n",
        "Коэф. эксцесса $\\widehat{K_{urt}}X=\\frac{\\frac{1}{n}\\sum_{i=1}^{n}\\left( X_{i}-\\overline{X}^{4} \\right)}{S^{4}}-3$\n",
        "\n",
        "2. Оценка Максимального Правдоподобия (ОМП):\n",
        "\n",
        "Если $X_{1},...,X_{n}$-выборка из распределения с плотностью распределения $P_{\\theta}, \\theta\\in \\Theta$, то\n",
        "\n",
        "Функция правдоподобия $L(\\overrightarrow{X},\\theta)=\\prod_{i=1}^{n}P_{\\theta}(X_{i})$\n",
        "\n",
        "Логарифм функции правдоподобия представляется в виде $LL(\\overrightarrow{X},\\theta)=\\ln L(\\overrightarrow{X},\\theta)=\\sum_{i=1}^{n}\\ln P_{\\theta}(X_{i})$\n",
        "\n",
        "В силу монотонности логарифма задача максимизации функции правдоподобия сводится к задаче максимизации ее логарифма по всем $\\theta\\in \\Theta$\n",
        "\n",
        "Если $\\theta$ - d-мерный параметр и $P_{\\theta}$ дифференцируема по $\\theta$, то для нахождения максимума надо найти решения системы уравнений: $\\frac{\\partial }{\\partial \\theta}LL(\\overrightarrow{X},\\theta)=0, i=\\overline{1,d}$\n",
        "\n",
        "3. Оценка метода моментов (ОММ)\n",
        "\n",
        "Пусть $X_{1},...,X_{n}$-выбока из распределения $P_{\\theta}, \\theta=(\\theta_{1},...,\\theta_{d})$\n",
        "\n",
        "$\\exists \\mu_{k}(\\theta)=\\mathbb{E}X^{k}_{1}, k=\\overline{1,d}$\n",
        "\n",
        "Если $\\exists$ ! решение $\\widetilde{\\theta}(X)$ системы уравнений: $\\widehat{\\mu^{k}}(\\widetilde{\\theta})=\\mu_{k}(\\theta), k=\\overline{1,d}$, где $\\widetilde{\\theta}(X)=\\frac{1}{n}\\sum_{i=1}^{n}X^{k}_{i}$-выборочный момент k-го порядка, то $\\widetilde{\\theta}(X)$ называется оценкой по методу моментов\n",
        "\n",
        "4. Асимптотический доверительный интервал\n",
        "\n",
        "На базе Асимптотической нормальности оценки $\\widehat{\\theta}$\n",
        "\n",
        "Асимптотическая нормальность $\\sqrt{n}\\left( \\widehat{\\theta}(\\overrightarrow{X})-\\theta)\\right)\\sim \\mathcal{N}\\left(0,\\sigma^{2}(\\theta)\\right)$\n",
        "\n",
        "Тогда $\\sqrt{n}\\frac{\\widehat{\\theta}(\\overrightarrow{X})-\\theta}{\\sigma\\left(\\widehat{\\theta}(\\overrightarrow{X})\\right)}$    \n",
        "\n",
        "Выбираем $X_{\\alpha}: \\Phi(X_{\\alpha})=1-\\frac{\\alpha}{2}$\n",
        "\n",
        "Асимптотический доверительный интервал  $\\left[ \\widehat{\\theta}(\\overrightarrow{X})-\\frac{X_{\\alpha}\\cdot \\sigma\\left( \\widehat{\\theta}(\\overrightarrow{X}) \\right)}{\\sqrt{n}}; \\widehat{\\theta}(\\overrightarrow{X})+\\frac{X_{\\alpha}\\cdot \\sigma\\left( \\widehat{\\theta}(\\overrightarrow{X}) \\right)}{\\sqrt{n}}\\right]$\n",
        "\n",
        "На базе ОМП. Пусть $\\widehat{\\theta}(\\overrightarrow{X})$-ОМП\n",
        "\n",
        "При выполнении опр.условий регулярности: $\\sqrt{n}\\left( \\widehat{\\theta}(\\overrightarrow{X})-\\theta)\\right)\\sim \\mathcal{N}\\left(0,\\frac{1}{I(\\theta)}\\right), I(\\theta)=-\\mathbb{E}\\left( \\frac{\\partial^{2} LL}{\\partial \\theta^{2}} \\right)$-информация Фишера\n",
        "\n",
        "Тогда $\\sqrt{n\\cdot I\\left( \\widehat{\\theta}(\\overrightarrow{X}) \\right)}\\cdot \\left( \\widehat{\\theta}(\\overrightarrow{X})-\\theta \\right)\\sim \\mathcal{N}(0,1)$\n",
        "\n",
        "Выбираем $X_{\\alpha}: \\Phi(X_{\\alpha})=1-\\frac{\\alpha}{2}$\n",
        "\n",
        "Асимптотический доверительный интервал  $\\left[ \\widehat{\\theta}(\\overrightarrow{X})-\\frac{X_{\\alpha}}{\\sqrt{n\\cdot I\\left( \\widehat{\\theta}(\\overrightarrow{X}) \\right)}};\\widehat{\\theta}(\\overrightarrow{X})+\\frac{X_{\\alpha}}{\\sqrt{n\\cdot I\\left( \\widehat{\\theta}(\\overrightarrow{X}) \\right)}} \\right]$\n",
        "\n",
        "5. Критерий $\\chi^2$ для проверки гипотез\n",
        "\n",
        "Основан на справнении теоритической плотности распределения и гистограммы, либо теоритической вероятностной меры и полигона частот.\n",
        "\n",
        "Разобъем множество значений сл. вел. X на $N$ интервалов $I_{1}, ..., I_{N}:$ $I_{i} = (a_{i-1}, a_i], i = \\overline {1,N}$. данные интервалы не пересекаются и покрывают всё множество возможных значений сл. вел. X.\n",
        "\n",
        "Обозначим через $p_{i}$ теоритическую вероятность попадания сл. вел. X в интервал $I_{i}$, при условии, что справедлива $H_{0}$.\n",
        "\n",
        "$p_{i} = P(X \\in I_{i}|H_{0})$\n",
        "\n",
        "Через $n_{i}$ обозначим число наблюдений нашей выборки, попавших в соответветствующий интервал $I_{i}$.\n",
        "\n",
        "$n_{i} = \\nu(x_{j} \\in I_{i})$\n",
        "\n",
        "Статистика критерия основана на сравнении относительной частоты и теоритической.\n",
        "\n",
        "$\\chi^{2} = \\sum \\limits_{i=1}^{N} \\frac{n}{p_{i}} \\bigg ( \\frac{n_{i}}{n} - p_{i} \\bigg )^{2} = \\sum \\limits_{i=1}^{N} \\frac{(n_{i} - p_{i} n)^{2}}{n p_{i}} \\sim \\chi^{2}_{N-1}$\n",
        "\n",
        "6. Теорема Колмогорова\n",
        "\n",
        "$D_{n}(\\overrightarrow{X}) = \\overset{}{\\underset{X \\in \\mathbb R}{sup}} |F_{0}(X_{i}) - F_{n}(X_{i})|$\n",
        "\n",
        "Если гипотеза $H_{0}$ верна, и $F_{0}(X)$ - непрерывная ф-я на $\\mathbb R$, тогда имеет место сходимость\n",
        "\n",
        "$P(\\sqrt{n} D_{n}(\\overrightarrow{X}) < z) \\xrightarrow[n \\rightarrow \\infty]{} K(z)$, где\n",
        "\n",
        "$K(z)=1-\\alpha$ - ф-я распределения Колмогорова.\n",
        "\n",
        "Если $D_{n} \\lt z$, то гипотезу принимаем.\n",
        "\n",
        "Если $D_{n} \\gt z$, то гипотезу отвергаем.\n",
        "\n",
        "7. Наиболее мощный критерий простой гипотезы.\n",
        "\n",
        "Для основной гипотезы $H_{0}: \\theta=\\theta_{0}$ и альтернативной гипотезы $H_{1}: \\theta=\\theta_{1}$, где $\\theta_{0}$ и $\\theta_{1}$ - фиксированные параметры, мы можем построить статистику правдоподобия:\n",
        "\n",
        "$LR(\\overrightarrow{X},\\theta_{1},\\theta_{0})=\\frac{L(\\overrightarrow{X},\\theta_{1})}{L(\\overrightarrow{X},\\theta_{0})} $- статистика отношений правдоподобия\n",
        "\n",
        "где $L(\\overrightarrow{X},\\theta_{1})$ - функция правдоподобия для альтернативной гипотезы, а $L(\\overrightarrow{X}\\theta_{0})$ - функция правдоподобия для основной гипотезы.\n",
        "\n",
        "Наиболее мощный критерий:\n",
        "\n",
        "$\\phi(\\overrightarrow X) = \\begin{cases}\n",
        "  0, LR(\\overrightarrow{X},\\theta_{1},\\theta_{0}) < C \\\\\n",
        "  p, LR(\\overrightarrow{X},\\theta_{1},\\theta_{0}) = C \\\\\n",
        "  1, LR(\\overrightarrow{X},\\theta_{1},\\theta_{0}) > C\n",
        "\\end{cases} $\n"
      ],
      "metadata": {
        "id": "m_C6HSNnbhD4"
      }
    },
    {
      "cell_type": "markdown",
      "source": [
        "## Постановка задачи\n",
        "Для полученных в результате эксперимента наборов данных выполнить статистическую обработку. Полученные результаты содержательно проинтерпретировать."
      ],
      "metadata": {
        "id": "jBGyNl9xbhPw"
      }
    },
    {
      "cell_type": "markdown",
      "source": [
        "## Выполнение работы"
      ],
      "metadata": {
        "id": "tS6N5_V1cHeF"
      }
    },
    {
      "cell_type": "markdown",
      "source": [
        "### 1. В результате эксперимента получены данные, приведенные в таблице 1."
      ],
      "metadata": {
        "id": "FW-rJ2SNMiKP"
      }
    },
    {
      "cell_type": "markdown",
      "source": [
        "#### a) Построить вариационный ряд, эмпирическую функцию распределения и гистограмму частот."
      ],
      "metadata": {
        "id": "5BfDIAAgh6c_"
      }
    },
    {
      "cell_type": "code",
      "source": [
        "import numpy as np\n",
        "import matplotlib.pyplot as plt\n",
        "\n",
        "# исходные данные, полученные в результате эксперимента\n",
        "data = np.array([0, 2, 2, 0, 1, 1, 0, 3, 0, 2, 2, 3, 6, 0, 0, 1, 0, 0, 0, 0, 1,\n",
        "                 0, 0, 0, 2, 3, 0, 0, 4, 0, 1, 1, 0, 0, 2, 0, 3, 3, 3, 2, 0, 0,\n",
        "                 0, 0, 0, 0, 0, 1, 0, 1])\n",
        "data_size = len(data)\n",
        "\n",
        "# вариационный ряд\n",
        "variation_series = np.sort(data)\n",
        "print(f'Вариационный ряд: {variation_series}')"
      ],
      "metadata": {
        "id": "XXonC_cD1qTG",
        "colab": {
          "base_uri": "https://localhost:8080/"
        },
        "outputId": "a164141e-c091-4f45-94ae-d114d48a6841"
      },
      "execution_count": null,
      "outputs": [
        {
          "output_type": "stream",
          "name": "stdout",
          "text": [
            "Вариационный ряд: [0 0 0 0 0 0 0 0 0 0 0 0 0 0 0 0 0 0 0 0 0 0 0 0 0 0 0 1 1 1 1 1 1 1 1 2 2\n",
            " 2 2 2 2 2 3 3 3 3 3 3 4 6]\n"
          ]
        }
      ]
    },
    {
      "cell_type": "code",
      "source": [
        "# Построение эмпирической функции распределения\n",
        "fig = plt.figure(figsize=(6,4))\n",
        "\n",
        "# Эмпирическая функция распределения\n",
        "def empirical_df(x):\n",
        "    count = np.sum(variation_series <= x)\n",
        "    return count / data_size\n",
        "\n",
        "empirical_distribution = [empirical_df(x) for x in range(variation_series[0] - 1, variation_series[-1]+2)]\n",
        "\n",
        "plt.step(range(variation_series[0] - 1, variation_series[-1]+2),\n",
        "         empirical_distribution,\n",
        "         where='post')\n",
        "\n",
        "plt.xlabel('Значение')\n",
        "plt.ylabel('Вероятность')\n",
        "plt.title('Эмпирическая функция распределения')\n",
        "plt.show()"
      ],
      "metadata": {
        "colab": {
          "base_uri": "https://localhost:8080/",
          "height": 410
        },
        "id": "m9sX_b9RD0C5",
        "outputId": "58d1e7a7-df03-4c24-d77e-724a05bb3b75"
      },
      "execution_count": null,
      "outputs": [
        {
          "output_type": "display_data",
          "data": {
            "text/plain": [
              "<Figure size 600x400 with 1 Axes>"
            ],
            "image/png": "[encoded data removed]"
          },
          "metadata": {}
        }
      ]
    },
    {
      "cell_type": "code",
      "source": [
        "# Построение гистограммы частот\n",
        "fig = plt.figure(figsize=(6,4))\n",
        "plt.hist(variation_series, bins=range(variation_series[0],\n",
        "                                      variation_series[-1] + 1),\n",
        "         density=True)\n",
        "\n",
        "plt.title('Гистограмма частот')\n",
        "plt.xlabel('Значение')\n",
        "plt.ylabel('Частота')\n",
        "plt.grid()\n",
        "plt.show()"
      ],
      "metadata": {
        "colab": {
          "base_uri": "https://localhost:8080/",
          "height": 410
        },
        "id": "SeVeuZd8JXLk",
        "outputId": "869d3a86-5cf2-47bf-bb38-966e2fba6155"
      },
      "execution_count": null,
      "outputs": [
        {
          "output_type": "display_data",
          "data": {
            "text/plain": [
              "<Figure size 600x400 with 1 Axes>"
            ],
            "image/png": "[encoded data removed]"
          },
          "metadata": {}
        }
      ]
    },
    {
      "cell_type": "markdown",
      "source": [
        "#### b) Вычислить выборочные аналоги следующих числовых характеристик: (i) математического ожидания; (ii) дисперсии; (iii) СКО; (iv) медианы; (v) ассиметрии; (vi) эксцесса; (vii) вероятности $\\mathbb{P}(X \\in [a, b]) $"
      ],
      "metadata": {
        "id": "hjFvpxhy5NNY"
      }
    },
    {
      "cell_type": "code",
      "source": [
        "from scipy import stats\n",
        "\n",
        "a = 0.\n",
        "b = 1.85\n",
        "mean_value = data.mean()\n",
        "var_value = data.var()\n",
        "std_value = data.std()\n",
        "median = np.median(data)\n",
        "skewness = stats.skew(data)\n",
        "kurtosis =  stats.kurtosis(data)\n",
        "probability = len([x for x in data if a <= x <= b]) / data_size\n",
        "\n",
        "print(f'''\n",
        "  Математическое ожидание: {mean_value};\n",
        "  Дисперсия: {var_value};\n",
        "  СКО: {std_value:.3f};\n",
        "  Медиана: {median};\n",
        "  Ассиметрия: {skewness:.3f};\n",
        "  Эксцесс: {kurtosis:.3f};\n",
        "  Вероятность попадания в [{a}, {b}]: {probability};\n",
        " ''')\n"
      ],
      "metadata": {
        "colab": {
          "base_uri": "https://localhost:8080/"
        },
        "id": "jsKRoSv_OEHS",
        "outputId": "18c609f2-4118-4499-ed34-6b744ce5d5e5"
      },
      "execution_count": null,
      "outputs": [
        {
          "output_type": "stream",
          "name": "stdout",
          "text": [
            "\n",
            "  Математическое ожидание: 1.0;\n",
            "  Дисперсия: 1.84;\n",
            "  СКО: 1.356;\n",
            "  Медиана: 0.0;\n",
            "  Ассиметрия: 1.442;\n",
            "  Эксцесс: 1.939;\n",
            "  Вероятность попадания в [0.0, 1.85]: 0.7;\n",
            " \n"
          ]
        }
      ]
    },
    {
      "cell_type": "markdown",
      "source": [
        "#### c) В предположении, что исходные наблюдения являются выборкой из распределения Пуассона, построить оценку максимального правдоподобия параметра $\\lambda$, а также оценку $\\lambda$ по методу моментов. Найти смещение оценок."
      ],
      "metadata": {
        "id": "WxRxZlfGaB81"
      }
    },
    {
      "cell_type": "markdown",
      "source": [
        "Плотность распределения Пуассона: $\\mathcal{p}_\\lambda(k) = \\frac{\\lambda^k}{k!} \\exp(-\\lambda)$\n",
        "\n",
        "Построим ОМП: \\\n",
        "$ L(\\overrightarrow{k};\\theta) = \\prod_{i=1}^{n}(\\frac{\\lambda^k}{k!} exp(-\\lambda)) = \\frac{ \\lambda^{ \\sum_{i=1}^n k_i } }{ \\prod_{i=1}^{n}(k_i !) } \\exp(-\\lambda n) $\n",
        "\n",
        "$ LL(\\overrightarrow{k};\\theta) = \\sum_{i=1}^{n}(k_i) \\ln(\\lambda) - \\ln( \\prod_{i=1}^{n}k_i! ) - n\\lambda $\n",
        "\n",
        "$ \\frac{\\partial LL(\\overrightarrow{k};\\theta) }{\\partial \\lambda } = \\frac{ \\sum_{i=1}^{n}k_i}{\\lambda} - n = 0\n",
        "\\rightarrow \\hat{\\lambda} = \\frac{ \\sum_{i=1}^{n}k_i }{n} = \\overline{k} $\n",
        "\n",
        "$ \\hat{\\theta} = \\hat{\\lambda} $\n",
        "\n",
        "Таким образом, оценка параметра $\\lambda$ равна среднему значению выборки: $\\hat{\\lambda} = 1$\n",
        "\\\n",
        "\\\n",
        "\\\n",
        "Построим оценку по ОММ.\n",
        "Первый момент для распределения Пуассона $\\mathbb{E}k=\\lambda$. Приравняв к эмпирическому моменту выборки $M = \\overline{k}$ получим одно уравнение, из которого $\\hat{\\theta} = \\hat{\\lambda} = \\overline{k} = 1 $\n",
        "\\\n",
        "\\\n",
        "\\\n",
        "Найдем смещение оценки.\n",
        "$ \\mathbb{E}_{\\lambda}\\frac{\\sum_{i=1}^{n}ki}{n} = \\frac{1}{n} \\cdot \\mathbb{E}_{\\lambda}\\sum_{i=1}^{n}ki = \\frac{1}{n} \\cdot \\sum_{i=1}^{n}\\mathbb{E}_{\\lambda}k_i =  \\left[ \\text{т.к выборка из распределения Пуассона, то } \\mathbb{E}_{\\lambda}k_i = \\lambda \\right] = \\lambda $ - несмещенная оценка"
      ],
      "metadata": {
        "id": "-BaYYuqubjEf"
      }
    },
    {
      "cell_type": "markdown",
      "source": [
        "#### d) Построить асимптотический доверительный интервал уровня значимости $\\alpha_1$ для параметра $\\lambda$ на базе оценки максимального правдоподобия."
      ],
      "metadata": {
        "id": "2deIPLOgXi93"
      }
    },
    {
      "cell_type": "markdown",
      "source": [
        "При выполнении условий регулярности верно, что: $ \\sqrt{nI(\\hat{\\theta})}(\\hat{\\theta}(x) - \\theta) \\sim N(0,1) $\n",
        "\n",
        "Зная ОМП для параметра $\\lambda$, найдем информацию Фишера:\n",
        "$ I_n(\\lambda) = -\\mathbb{E}\\frac{ \\partial^2LL }{ \\partial \\lambda^2 } = \\mathbb{E}\\frac{ \\sum_{i=1}^{n}x_i }{\\lambda^2} = \\frac{1}{\\lambda^2} \\mathbb{E}\\sum_{i=1}^{n}x_i = \\frac{1}{\\lambda^2} \\cdot \\sum_{i=1}^{n}\\mathbb{E}x_i = \\frac{1}{\\lambda^2} \\cdot n\\lambda = \\frac{n}{\\lambda} $\n",
        "\\\n",
        "$ I(\\hat{\\theta}) = \\frac{1}{\\overline{X}} $\n",
        "\n",
        "Выберем $X_{\\alpha}: Ф(X_{\\alpha}) = 1 - \\frac{\\alpha_1}{2} = 1 - \\frac{0.02}{2} = 0.99 $\n",
        "\\\n",
        "$X_{\\alpha} = 2.326 $\n",
        "\\\n",
        "Тогда ассимптотический доверительный интервал: $ \\theta = \\lambda \\in \\left[ 1 - \\frac{2.326}{\\sqrt{50\\cdot\\frac{1}{1}}} ; 1 + \\frac{2.326}{\\sqrt{50\\cdot\\frac{1}{1}}} \\right] $\n",
        "\\\n",
        "Откуда $ \\lambda \\in [0.671;1.328] $"
      ],
      "metadata": {
        "id": "0zjZeKgfirM4"
      }
    },
    {
      "cell_type": "markdown",
      "source": [
        "#### e) Используя гистограмму частот, построить критерий значимости $\\chi^2$ проверки простой гипотезы согласия с распределением Пуассона с параметром $\\lambda_0$. Проверить гипотезу на уровне значимости $\\alpha_1$. Вычислить наибольшее значение уровня значимости, на котором еще нет оснований отвергнуть данную гипотезу."
      ],
      "metadata": {
        "id": "evZ26nmyjunf"
      }
    },
    {
      "cell_type": "markdown",
      "source": [
        "Построение критерия значимости $\\chi^2$ проверки простой гипотезы согласия с распределением Пуассона с параметром $\\lambda_0 = 1$:\n",
        "\n",
        "Интервалы $I_i$: [0,1], (1,2], (2,3], (3,4], (4,6]\n",
        "\n",
        "Абсолютные частоты $\\nu_i$:\n",
        "\n",
        "$\n",
        "  \\nu_1 = 27 + 8 = 35 \\\\\n",
        "  \\nu_2 = 7 \\\\\n",
        "  \\nu_3 = 6 \\\\\n",
        "  \\nu_4 = 1 \\\\\n",
        "  \\nu_5 = 1 \\\\\n",
        "$\n",
        "\n",
        "Вычислим гипотетические вероятности попадания в интервалы, а также ожидаемые частоты:\n",
        "\n",
        "$\n",
        "p_{10} = \\frac{1^0}{0!}\\exp(-1) + \\frac{1^1}{1!}\\exp(-1) = 0.736 \\\\\n",
        "p_{20} = \\frac{1^2}{2!}\\exp(-1) = 0.184 \\\\\n",
        "p_{30} = \\frac{1^3}{3!}\\exp(-1) = 0.061 \\\\\n",
        "p_{40} = \\frac{1^4}{4!}\\exp(-1) = 0.015 \\\\\n",
        "p_{50} = \\frac{1^5}{5!}\\exp(-1) + \\frac{1^6}{6!}exp(-1) = 0.0035 \\\\\n",
        "$\n",
        "\n",
        "$\n",
        " np_{10} = 50 \\cdot 0.736 = 36.8 \\\\\n",
        " np_{20} = 50 \\cdot 0.184 = 9.2 \\\\\n",
        " np_{30} = 50 \\cdot 0.061 = 3.05 \\\\\n",
        " np_{40} = 50 \\cdot 0.015 = 0.75 \\\\\n",
        " np_{50} = 50 \\cdot 0.0035 = 0.175 \\\\\n",
        "$\n",
        "\n",
        "Тогда статистика критерия $\\chi^2 = \\sum_{j=1}^{5}\\frac{ (\\nu_j - np_{j0})^2 }{np_{j0}} = \\frac{ (35-36.8)^2 }{36.8} + \\frac{ (7-9.2)^2 }{9.2} + \\frac{ (6-3.05)^2 }{3.05} + \\frac{ (1 - 0.75)^2 }{0.75} + \\frac{ (1 - 0.175)^2 }{0.175} = 7.44 $\n",
        "\\\n",
        "\\\n",
        "Проверим гипотезу на уровне значимости $\\alpha_1=0.02$.\n",
        "\n",
        "Выбираем $X_{\\alpha}: K_{5-1}(X_{\\alpha}) = 1 - \\alpha = 0.98$, где $K_{5-1} - \\text{функция распределения } \\chi_{4}^2$\n",
        "\\\n",
        "$X_{\\alpha} = 11.667$\n",
        "\n",
        "$ \\chi^2 \\leq X_{\\alpha} $, следовательно гипотеза принимается\n",
        "\n",
        "Наибольшее значение уровня значимости, на котором еще нет оснований отвергнуть данную гипотезу: $\\alpha = 0.114 $"
      ],
      "metadata": {
        "id": "wYo894OL4jTM"
      }
    },
    {
      "cell_type": "code",
      "source": [
        "# x_alpha = stats.chi2.ppf(0.98, 4)\n",
        "# print(x_alpha)\n",
        "\n",
        "# вычисляем наибольшее значение уровня значимости, при котором еще нет оснований\n",
        "# отвергнуть данную гипотезу\n",
        "max_alpha = alpha = 0.02\n",
        "current_x_alpha = 0\n",
        "while alpha >= 0:\n",
        "  current_x_alpha = stats.chi2.ppf(1 - alpha, 4)\n",
        "  if current_x_alpha >= 7.44:\n",
        "    max_alpha = alpha\n",
        "  else:\n",
        "    break\n",
        "  alpha += 0.001\n",
        "\n",
        "print(f'Наибольшее значение уровня значимости: {max_alpha}')\n",
        "print(f'При этом Xalpha = {stats.chi2.ppf(1 - max_alpha, 4)}')"
      ],
      "metadata": {
        "colab": {
          "base_uri": "https://localhost:8080/"
        },
        "id": "FwPa5OywJLIW",
        "outputId": "3b652215-2d1f-4b43-83c7-4a0fee938880"
      },
      "execution_count": null,
      "outputs": [
        {
          "output_type": "stream",
          "name": "stdout",
          "text": [
            "Наибольшее значение уровня значимости: 0.11400000000000007\n",
            "При этом Xalpha = 7.4485397012481265\n"
          ]
        }
      ]
    },
    {
      "cell_type": "markdown",
      "source": [
        "#### f) Построить критерий значимости $\\chi^2$ проверки сложной гипотезы согласия с распределением Пуассона. Проверить гипотезу на уровне значимости $\\alpha_1$. Вычислить наибольшее значение уровня значимости, на котором еще нет оснований отвергнуть данную гипотезу."
      ],
      "metadata": {
        "id": "dJLyW-CXbmEB"
      }
    },
    {
      "cell_type": "markdown",
      "source": [
        "Построение критерия значимости $\\chi^2$ проверки сложной гипотезы согласия с распределением Пуассона с параметром $\\lambda = \\overline{k} = 1$:\n",
        "\n",
        "Интервалы $I_i$: [0,1], (1,2], (2,3], (3,4], (4,6]\n",
        "\n",
        "Абсолютные частоты $\\nu_i$:\n",
        "\n",
        "$\n",
        "  \\nu_1 = 27 + 8 = 35 \\\\\n",
        "  \\nu_2 = 7 \\\\\n",
        "  \\nu_3 = 6 \\\\\n",
        "  \\nu_4 = 1 \\\\\n",
        "  \\nu_5 = 1 \\\\\n",
        "$\n",
        "\n",
        "Вычислим гипотетические вероятности попадания в интервалы, а также ожидаемые частоты:\n",
        "\n",
        "$\n",
        "\\hat{p_{10}} = \\frac{1^0}{0!}\\exp(-1) + \\frac{1^1}{1!}\\exp(-1) = 0.736 \\\\\n",
        "\\hat{p_{20}} = \\frac{1^2}{2!}\\exp(-1) = 0.184 \\\\\n",
        "\\hat{p_{30}} = \\frac{1^3}{3!}\\exp(-1) = 0.061 \\\\\n",
        "\\hat{p_{40}} = \\frac{1^4}{4!}\\exp(-1) = 0.015 \\\\\n",
        "\\hat{p_{50}} = \\frac{1^5}{5!}\\exp(-1) + \\frac{1^6}{6!}exp(-1) = 0.0035 \\\\\n",
        "$\n",
        "\n",
        "$\n",
        " n\\hat{p_{10}} = 50 \\cdot 0.736 = 36.8 \\\\\n",
        " n\\hat{p_{20}} = 50 \\cdot 0.184 = 9.2 \\\\\n",
        " n\\hat{p_{30}} = 50 \\cdot 0.061 = 3.05 \\\\\n",
        " n\\hat{p_{40}} = 50 \\cdot 0.015 = 0.75 \\\\\n",
        " n\\hat{p_{50}} = 50 \\cdot 0.0035 = 0.175 \\\\\n",
        "$\n",
        "\n",
        "В качестве статистики критерия возьмем $\\hat{\\chi}^2 = \\sum_{j=1}^{5}\\frac{ (\\nu_j - n \\hat{p_{j0}})^2 }{n \\hat{p_{j0}}} = \\frac{ (35-36.8)^2 }{36.8} + \\frac{ (7-9.2)^2 }{9.2} + \\frac{ (6-3.05)^2 }{3.05} + \\frac{ (1 - 0.75)^2 }{0.75} + \\frac{ (1 - 0.175)^2 }{0.175} = 7.44 $\n",
        "\\\n",
        "\\\n",
        "Проверим гипотезу на уровне значимости $\\alpha_1=0.02$.\n",
        "\n",
        "Выбираем $X_{\\alpha}: K_{5-1-1}(X_{\\alpha}) = 1 - \\alpha = 0.98$, где $K_{5-1-1} - \\text{функция распределения } \\chi_{3}^2$\n",
        "\\\n",
        "$X_{\\alpha} = 9.837$\n",
        "\n",
        "$ \\hat{\\chi}^2 \\leq X_{\\alpha} $, следовательно гипотеза принимается\n",
        "\n",
        "Наибольшее значение уровня значимости, на котором еще нет оснований отвергнуть данную гипотезу: $\\alpha = 0.059 $"
      ],
      "metadata": {
        "id": "_tc4zB_0g501"
      }
    },
    {
      "cell_type": "code",
      "source": [
        "# x_alpha = stats.chi2.ppf(0.98, 3)\n",
        "# print(x_alpha)\n",
        "\n",
        "# вычисляем наибольшее значение уровня значимости, при котором еще нет оснований\n",
        "# отвергнуть данную гипотезу\n",
        "max_alpha = alpha = 0.02\n",
        "current_x_alpha = 0\n",
        "while alpha >= 0:\n",
        "  current_x_alpha = stats.chi2.ppf(1 - alpha, 3)\n",
        "  if current_x_alpha >= 7.44:\n",
        "    max_alpha = alpha\n",
        "  else:\n",
        "    break\n",
        "  alpha += 0.001\n",
        "\n",
        "print(f'Наибольшее значение уровня значимости: {max_alpha}')\n",
        "print(f'При этом Xalpha = {stats.chi2.ppf(1 - max_alpha, 3)}')"
      ],
      "metadata": {
        "colab": {
          "base_uri": "https://localhost:8080/"
        },
        "id": "PmjDOiD1dbyD",
        "outputId": "8e1d6b79-c279-4a34-97de-cfca71f8b6f3"
      },
      "execution_count": 15,
      "outputs": [
        {
          "output_type": "stream",
          "name": "stdout",
          "text": [
            "Наибольшее значение уровня значимости: 0.05900000000000003\n",
            "При этом Xalpha = 7.444567023807346\n"
          ]
        }
      ]
    },
    {
      "cell_type": "markdown",
      "source": [
        "#### g) Построить наиболее мощный критерий проверки простой гипотезы пуассоновости с параметром $\\lambda = \\lambda_0$ при альтернативе пуассоновости с параметром $\\lambda = \\lambda_1$. Проверить гипотезу на уровне значимости $\\lambda_1$. Что получится, если поменять местами основную и альтернативную гипотезы?"
      ],
      "metadata": {
        "id": "QBy0yQOXeAGP"
      }
    },
    {
      "cell_type": "markdown",
      "source": [
        "Основная гипотеза: $ H_0 = \\lambda_0 $\n",
        "Альтернативная: $ H_A = \\lambda_1 $\n",
        "\n",
        "$ LR(\\overline{X}, \\lambda_1, \\lambda_0) = \\frac{L(\\overline{X}, \\lambda_1)}{L(\\overline{X}, \\lambda_0)} = \\frac{ \\lambda_1^{\\sum_{i=1}^{n}k_i} \\exp(-n\\lambda_1) }{ \\lambda_0^{\\sum_{i=1}^{n}k_i} \\exp(-n\\lambda_0) } > c $\n",
        "\n",
        "$ → \\ln(\\frac{\\lambda_1}{\\lambda_0}) \\sum_{i=1}^{n}k_i - n(\\lambda_1 - \\lambda_0) > \\ln c $\n",
        "\n",
        "$ → \\hat{x} > \\frac{\\ln c + n(\\lambda_1 - \\lambda_0)}{n\\ln\\frac{\\lambda_1}{\\lambda_0}} = c^* $\n",
        "\n",
        "$ P_{\\lambda_0}\\left(LR(X) > c^*\\right) + pP_{\\lambda_0}\\left(n LR(X) = c^*\\right) = \\alpha_1 $\n",
        "\n",
        "$ P_{\\lambda_0}\\left(n\\hat{x} > nc^*\\right) + pP_{\\lambda_0}\\left(n \\hat{x} = c^*\\right) = \\alpha_1 $\n",
        "\n",
        "При $LR(X) = c$ критерий не определен однозначно. Возьмем $LR(X) \\neq c$, тогда\n",
        "\n",
        "$ P_{\\lambda_0}\\left(n\\overline{x} > nc^*\\right) = 1 - F_{Pois(n\\lambda_0)}\\left(nc^*\\right) = \\alpha_1 $\n",
        "\n",
        "$F_{Pois(n\\lambda_0)}\\left(nc^*\\right) = 1 - \\alpha_1 = 0.98 $"
      ],
      "metadata": {
        "id": "rkZW7iojeiuS"
      }
    },
    {
      "cell_type": "code",
      "source": [
        "print(f'c* равно {stats.poisson.ppf(0.98, 50*1/50)}')"
      ],
      "metadata": {
        "colab": {
          "base_uri": "https://localhost:8080/"
        },
        "id": "0zgTBUvS9YSB",
        "outputId": "928d4807-320c-4b67-9ea6-4d3fe317913d"
      },
      "execution_count": 28,
      "outputs": [
        {
          "output_type": "stream",
          "name": "stdout",
          "text": [
            "c* равно 3.0\n"
          ]
        }
      ]
    },
    {
      "cell_type": "markdown",
      "source": [
        "$ c^{*} > \\overline{x} = 1 $, то есть гипотеза принимается H_0"
      ],
      "metadata": {
        "id": "PCerFia99u8s"
      }
    },
    {
      "cell_type": "markdown",
      "source": [
        "Поменяв местами гипотезы, получим:"
      ],
      "metadata": {
        "id": "l0-PIhg_-ma_"
      }
    },
    {
      "cell_type": "code",
      "source": [
        "print(f'c* равно {stats.poisson.ppf(0.98, 50*2/50)}')"
      ],
      "metadata": {
        "colab": {
          "base_uri": "https://localhost:8080/"
        },
        "id": "QTQQ1vzo-wmN",
        "outputId": "0a8e60e8-7296-4180-df44-c553625e1e19"
      },
      "execution_count": 29,
      "outputs": [
        {
          "output_type": "stream",
          "name": "stdout",
          "text": [
            "c* равно 5.0\n"
          ]
        }
      ]
    },
    {
      "cell_type": "markdown",
      "source": [
        "$ c^{*} > \\overline{x} = 1 $, то есть гипотеза H_A принимается"
      ],
      "metadata": {
        "id": "n9YOkdOj-6uN"
      }
    },
    {
      "cell_type": "markdown",
      "source": [
        "#### h) В пунктах (c)-(f) заменить семейство распределений Пуассона на семейство геометрических распределений: $ \\mathbb{P}_{\\lambda}(X = k) = \\frac{\\lambda^k}{(\\lambda+1)^{k+1}}, k \\in \\mathbb{Z}_+ $"
      ],
      "metadata": {
        "id": "nkr7NbtgkQ-F"
      }
    },
    {
      "cell_type": "markdown",
      "source": [
        "h.c. В предположении, что исходные наблюдения являются выборкой из геометрического распределения, построить оценку максимального правдоподобия параметра λ, а также оценку λ по методу моментов. Найти смещение оценок.\n",
        "\n",
        "Плотность геометрического распределения: $\\mathcal{p}_\\lambda(X=k) = \\frac{\\lambda^k}{ (\\lambda + 1)^{k+1} }$\n",
        "\n",
        "Построим ОМП: \\\n",
        "$ L(\\overrightarrow{X};\\theta) = \\prod_{i=1}^{n}(\\frac{\\lambda^{x_i}}{ (\\lambda + 1)^{x_i+1}}) = \\frac{ \\lambda^{ \\sum_{i=1}^{n}x_i } }{ (\\lambda+1)^{ \\sum_{i=1}^{n}x_i + n} } $\n",
        "\n",
        "$ LL(\\overrightarrow{X};\\theta) = \\sum_{i=1}^{n}(x_i) \\ln(\\lambda) - (\\sum_{i=1}^{n}x_i + n) \\ln(\\lambda + 1) =  \\sum_{i=1}^{n}(x_i) \\ln(\\lambda) -  \\sum_{i=1}^{n}(x_i) \\ln(\\lambda + 1) - n\\ln(\\lambda+1) $\n",
        "\n",
        "$ \\frac{\\partial LL(\\overrightarrow{X};\\theta) }{\\partial \\lambda } = \\frac{ \\sum_{i=1}^{n}x_i }{\\lambda} - \\frac{ \\sum_{i=1}^{n}x_i }{\\lambda + 1} - \\frac{n}{\\lambda+1} = \\frac{ \\sum_{i=1}^{n}x_i - n\\lambda}{\\lambda^2 + \\lambda}\n",
        "\\rightarrow \\hat{\\lambda} = \\frac{ \\sum_{i=1}^{n} x_i }{n} = \\overline{X} $\n",
        "\n",
        "$ \\hat{\\theta} = \\hat{\\lambda} $\n",
        "\n",
        "Таким образом, оценка параметра $\\lambda$ равна среднему значению выборки: $\\hat{\\lambda} = 1$\n",
        "\\\n",
        "\\\n",
        "\\\n",
        "Построим оценку по ОММ.\n",
        "Первый момент для геометрического распределения $\\mathbb{E}k=\\frac{q}{p} = \\frac{ \\frac{\\lambda}{\\lambda+1} }{ \\frac{1}{\\lambda+1} } = \\lambda $. Приравняв к эмпирическому моменту выборки $M = \\overline{X}$ получим одно уравнение, из которого $\\hat{\\theta} = \\hat{\\lambda} = \\overline{X} = 1 $\n",
        "\\\n",
        "\\\n",
        "\\\n",
        "Найдем смещение оценки.\n",
        "$ \\mathbb{E}_{\\lambda}\\frac{\\sum_{i=1}^{n}xi}{n} = \\frac{1}{n} \\cdot \\mathbb{E}_{\\lambda}\\sum_{i=1}^{n}x_i = \\frac{1}{n} \\cdot \\sum_{i=1}^{n}\\mathbb{E}_{\\lambda}x_i =  \\left[ \\text{т.к выборка из геометрического распределения, то } \\mathbb{E}_{\\lambda}x_i = \\frac{q}{p} = \\lambda \\right] = \\lambda $ - несмещенная оценка"
      ],
      "metadata": {
        "id": "I1LCyk-Qk2oI"
      }
    },
    {
      "cell_type": "markdown",
      "source": [
        "h.d) Построить асимптотический доверительный интервал уровня значимости $\\alpha_1$ для параметра $\\lambda$ на базе оценки максимального правдоподобия.\n",
        "\n",
        "При выполнении условий регулярности верно, что: $ \\sqrt{nI(\\hat{\\theta})}(\\hat{\\theta}(x) - \\theta) \\sim N(0,1) $\n",
        "\n",
        "Зная ОМП для параметра $\\lambda$, найдем информацию Фишера:\n",
        "$ I_n(\\lambda) = -\\mathbb{E}\\frac{ \\partial^2LL }{ \\partial \\lambda^2 } = \\mathbb{E}(-\\frac{\\sum_{i=1}^{n}x_i }{\\lambda^2} + \\frac{\\sum_{i=1}^{n}x_i }{(\\lambda+1)^2} + \\frac{n}{(\\lambda+1)^2}) = \\frac{n\\lambda}{\\lambda^2} - \\frac{n\\lambda}{(\\lambda+1)^2} - \\frac{n}{(\\lambda+1)^2} = \\frac{n}{\\lambda} - \\frac{n}{\\lambda+1} = \\frac{n}{\\lambda(\\lambda+1)} $\n",
        "\\\n",
        "$ I(\\hat{\\theta}) = \\frac{1}{\\overline{X}^2 + \\overline{X}} $\n",
        "\n",
        "Выберем $X_{\\alpha}: Ф(X_{\\alpha}) = 1 - \\frac{\\alpha_1}{2} = 1 - \\frac{0.02}{2} = 0.99 $\n",
        "\\\n",
        "$X_{\\alpha} = 2.326 $\n",
        "\\\n",
        "Тогда ассимптотический доверительный интервал: $ \\theta = \\lambda \\in \\left[ 1 - \\frac{2.326}{\\sqrt{50\\cdot\\frac{1}{1^2 + 1}}} ; 1 + \\frac{2.326}{\\sqrt{50\\cdot\\frac{1}{1^2 + 1}}} \\right] $\n",
        "\\\n",
        "Откуда $ \\lambda \\in [0.5348;1.4652] $"
      ],
      "metadata": {
        "id": "WCaP69_4sxFg"
      }
    },
    {
      "cell_type": "markdown",
      "source": [
        "h.e) Используя гистограмму частот, построить критерий значимости $\\chi^2$ проверки простой гипотезы согласия с геометрическим распределением с параметром $\\lambda_0$. Проверить гипотезу на уровне значимости $\\alpha_1$. Вычислить наибольшее значение уровня значимости, на котором еще нет оснований отвергнуть данную гипотезу.\n",
        "\n",
        "Построение критерия значимости $\\chi^2$ проверки простой гипотезы согласия с геометрическим распределением с параметром $\\lambda_0 = 1$:\n",
        "\n",
        "Интервалы $I_i$: [0,1], (1,2], (2,3], (3,4], (4,6]\n",
        "\n",
        "Абсолютные частоты $\\nu_i$:\n",
        "\n",
        "$\n",
        "  \\nu_1 = 27 + 8 = 35 \\\\\n",
        "  \\nu_2 = 7 \\\\\n",
        "  \\nu_3 = 6 \\\\\n",
        "  \\nu_4 = 1 \\\\\n",
        "  \\nu_5 = 1 \\\\\n",
        "$\n",
        "\n",
        "Вычислим гипотетические вероятности попадания в интервалы, а также ожидаемые частоты:\n",
        "\n",
        "$\n",
        "p_{10} = \\frac{1^0}{(1+1)^{0+1}} + \\frac{1^1}{(1+1)^{1+1}} = 0.75 \\\\\n",
        "p_{20} = \\frac{1^2}{(1+1)^{2+1}} = 0.125 \\\\\n",
        "p_{30} = \\frac{1^3}{(1+1)^{3+1}} = 0.0625 \\\\\n",
        "p_{40} = \\frac{1^4}{(1+1)^{4+1}} = 0.03125 \\\\\n",
        "p_{50} = \\frac{1^5}{(1+1)^{5+1}} + \\frac{1^6}{(1+1)^{6+1}} = 0.02343 \\\\\n",
        "$\n",
        "\n",
        "$\n",
        " np_{10} = 50 \\cdot 0.75 = 37.5 \\\\\n",
        " np_{20} = 50 \\cdot 0.125 = 6.25 \\\\\n",
        " np_{30} = 50 \\cdot 0.0625 = 3.125 \\\\\n",
        " np_{40} = 50 \\cdot 0.03125 = 1.5625 \\\\\n",
        " np_{50} = 50 \\cdot 0.02343 = 1.1715 \\\\\n",
        "$\n",
        "\n",
        "Тогда статистика критерия $\\chi^2 = \\sum_{j=1}^{5}\\frac{ (\\nu_j - np_{j0})^2 }{np_{j0}} = \\frac{ (35-37.5)^2 }{37.5} + \\frac{ (7-6.25)^2 }{6.25} + \\frac{ (6-3.125)^2 }{3.125} + \\frac{ (1-1.5625)^2 }{1.5625} + \\frac{ (1 - 1.1715)^2 }{1.1715} = 3.1292 $\n",
        "\\\n",
        "\\\n",
        "Проверим гипотезу на уровне значимости $\\alpha_1=0.02$.\n",
        "\n",
        "Выбираем $X_{\\alpha}: K_{5-1}(X_{\\alpha}) = 1 - \\alpha = 0.98$, где $K_{5-1} - \\text{функция распределения } \\chi_{4}^2$\n",
        "\\\n",
        "$X_{\\alpha} = 11.667$\n",
        "\n",
        "$ \\chi^2 \\leq X_{\\alpha} $, следовательно гипотеза принимается\n",
        "\n",
        "Наибольшее значение уровня значимости, на котором еще нет оснований отвергнуть данную гипотезу: $\\alpha = 0.536 $"
      ],
      "metadata": {
        "id": "mXYEKcO12Yl0"
      }
    },
    {
      "cell_type": "code",
      "source": [
        "# x_alpha = stats.chi2.ppf(0.98, 4)\n",
        "# print(x_alpha)\n",
        "\n",
        "# вычисляем наибольшее значение уровня значимости, при котором еще нет оснований\n",
        "# отвергнуть данную гипотезу\n",
        "max_alpha = alpha = 0.02\n",
        "current_x_alpha = 0\n",
        "while alpha >= 0:\n",
        "  current_x_alpha = stats.chi2.ppf(1 - alpha, 4)\n",
        "  if current_x_alpha >= 3.1292:\n",
        "    max_alpha = alpha\n",
        "  else:\n",
        "    break\n",
        "  alpha += 0.001\n",
        "\n",
        "print(f'Наибольшее значение уровня значимости: {max_alpha}')\n",
        "print(f'При этом Xalpha = {stats.chi2.ppf(1 - max_alpha, 4)}')"
      ],
      "metadata": {
        "colab": {
          "base_uri": "https://localhost:8080/"
        },
        "id": "XXFLy85w7Tke",
        "outputId": "42c5710d-8f53-4685-b1c1-f64d9bdf7901"
      },
      "execution_count": 16,
      "outputs": [
        {
          "output_type": "stream",
          "name": "stdout",
          "text": [
            "Наибольшее значение уровня значимости: 0.5360000000000004\n",
            "При этом Xalpha = 3.131899666823073\n"
          ]
        }
      ]
    },
    {
      "cell_type": "markdown",
      "source": [
        "h.f) Построить критерий значимости $\\chi^2$ проверки сложной гипотезы согласия с геометрическим распределением. Проверить гипотезу на уровне значимости $\\alpha_1$. Вычислить наибольшее значение уровня значимости, на котором еще нет оснований отвергнуть данную гипотезу.\n",
        "\n",
        "Построение критерия значимости $\\chi^2$ проверки сложной гипотезы согласия с распределением Пуассона с параметром $\\lambda = \\overline{X} = 1$:\n",
        "\n",
        "Интервалы $I_i$: [0,1], (1,2], (2,3], (3,4], (4,6]\n",
        "\n",
        "Абсолютные частоты $\\nu_i$:\n",
        "\n",
        "$\n",
        "  \\nu_1 = 27 + 8 = 35 \\\\\n",
        "  \\nu_2 = 7 \\\\\n",
        "  \\nu_3 = 6 \\\\\n",
        "  \\nu_4 = 1 \\\\\n",
        "  \\nu_5 = 1 \\\\\n",
        "$\n",
        "\n",
        "Вычислим гипотетические вероятности попадания в интервалы, а также ожидаемые частоты:\n",
        "\n",
        "$\n",
        "\\hat{p_{10}} = 0.75 \\\\\n",
        "\\hat{p_{20}} = 0.125 \\\\\n",
        "\\hat{p_{30}} = 0.0625 \\\\\n",
        "\\hat{p_{40}} = 0.03125 \\\\\n",
        "\\hat{p_{50}} = 0.02343 \\\\\n",
        "$\n",
        "\n",
        "$\n",
        " n\\hat{p_{10}} = 37.5 \\\\\n",
        " n\\hat{p_{20}} = 6.25 \\\\\n",
        " n\\hat{p_{30}} = 3.125 \\\\\n",
        " n\\hat{p_{40}} = 1.5625 \\\\\n",
        " n\\hat{p_{50}} = 1.1715 \\\\\n",
        "$\n",
        "\n",
        "В качестве статистики критерия возьмем $\\hat{\\chi}^2 = \\sum_{j=1}^{5}\\frac{ (\\nu_j - n \\hat{p_{j0}})^2 }{n \\hat{p_{j0}}} = 3.1292 $\n",
        "\\\n",
        "\\\n",
        "Проверим гипотезу на уровне значимости $\\alpha_1=0.02$.\n",
        "\n",
        "Выбираем $X_{\\alpha}: K_{5-1-1}(X_{\\alpha}) = 1 - \\alpha = 0.98$, где $K_{5-1-1} - \\text{функция распределения } \\chi_{3}^2$\n",
        "\\\n",
        "$X_{\\alpha} = 9.837$\n",
        "\n",
        "$ \\hat{\\chi}^2 \\leq X_{\\alpha} $, следовательно гипотеза принимается\n",
        "\n",
        "Наибольшее значение уровня значимости, на котором еще нет оснований отвергнуть данную гипотезу: $\\alpha = 0.372 $"
      ],
      "metadata": {
        "id": "LQBzfvd4jQis"
      }
    },
    {
      "cell_type": "code",
      "source": [
        "# x_alpha = stats.chi2.ppf(0.98, 3)\n",
        "# print(x_alpha)\n",
        "\n",
        "# вычисляем наибольшее значение уровня значимости, при котором еще нет оснований\n",
        "# отвергнуть данную гипотезу\n",
        "max_alpha = alpha = 0.02\n",
        "current_x_alpha = 0\n",
        "while alpha >= 0:\n",
        "  current_x_alpha = stats.chi2.ppf(1 - alpha, 3)\n",
        "  if current_x_alpha >= 3.1292:\n",
        "    max_alpha = alpha\n",
        "  else:\n",
        "    break\n",
        "  alpha += 0.001\n",
        "\n",
        "print(f'Наибольшее значение уровня значимости: {max_alpha}')\n",
        "print(f'При этом Xalpha = {stats.chi2.ppf(1 - max_alpha, 3)}')"
      ],
      "metadata": {
        "colab": {
          "base_uri": "https://localhost:8080/"
        },
        "id": "tGkI1LsdkHLE",
        "outputId": "27b9f206-5e4a-450d-e9f7-21d7baab64c8"
      },
      "execution_count": 17,
      "outputs": [
        {
          "output_type": "stream",
          "name": "stdout",
          "text": [
            "Наибольшее значение уровня значимости: 0.3720000000000003\n",
            "При этом Xalpha = 3.130086563345205\n"
          ]
        }
      ]
    },
    {
      "cell_type": "markdown",
      "source": [
        "### 2. В результате эксперимента получены данные, приведенные в таблице 2."
      ],
      "metadata": {
        "id": "YtVz-0aX8XF-"
      }
    },
    {
      "cell_type": "markdown",
      "source": [
        "#### a) Построить вариационный ряд, эмпирическую функцию распределения, гистограмму и полигон частот с шагом h"
      ],
      "metadata": {
        "id": "f34JKgcp8a3x"
      }
    },
    {
      "cell_type": "code",
      "source": [
        "import numpy as np\n",
        "import matplotlib.pyplot as plt\n",
        "\n",
        "# исходные данные, полученные в результате эксперимента\n",
        "data = np.array([1.571, 0.341, 1.215, 2.483, 1.241, 1.956, 1.133, 0.202, 0.865,\n",
        "                 0.546, 0.226, 0.407, 5.885, 4.516, 0.562, 1.537, 6.453, 4.773,\n",
        "                 1.415, 0.330, 0.241, 3.043, 0.239, 3.817, 0.929, 4.924, 0.367,\n",
        "                 7.334, 2.754, 0.417, 1.085, 0.502, 3.474, 0.308, 6.214, 0.500,\n",
        "                 4.326, 0.443, 0.254, 0.298, 0.706, 0.254, 2.048, 1.088, 1.507,\n",
        "                 2.258, 2.893, 1.347, 6.084, 0.478])\n",
        "data_size = len(data)\n",
        "\n",
        "# вариационный ряд\n",
        "variation_series = np.sort(data)\n",
        "print(f'Вариационный ряд: {variation_series}')"
      ],
      "metadata": {
        "colab": {
          "base_uri": "https://localhost:8080/"
        },
        "id": "-iPpdazS8f9X",
        "outputId": "90116433-101d-423e-e83f-c94886f2c904"
      },
      "execution_count": 2,
      "outputs": [
        {
          "output_type": "stream",
          "name": "stdout",
          "text": [
            "Вариационный ряд: [0.202 0.226 0.239 0.241 0.254 0.254 0.298 0.308 0.33  0.341 0.367 0.407\n",
            " 0.417 0.443 0.478 0.5   0.502 0.546 0.562 0.706 0.865 0.929 1.085 1.088\n",
            " 1.133 1.215 1.241 1.347 1.415 1.507 1.537 1.571 1.956 2.048 2.258 2.483\n",
            " 2.754 2.893 3.043 3.474 3.817 4.326 4.516 4.773 4.924 5.885 6.084 6.214\n",
            " 6.453 7.334]\n"
          ]
        }
      ]
    },
    {
      "cell_type": "code",
      "source": [
        "fig = plt.figure(figsize=(6,4))\n",
        "\n",
        "# Эмпирическая функция распределения\n",
        "def empirical_df(x):\n",
        "    count = np.sum(variation_series <= x)\n",
        "    return count / data_size\n",
        "\n",
        "\n",
        "empirical_distribution = [empirical_df(x) for x in variation_series]\n",
        "\n",
        "plt.step(variation_series, empirical_distribution, where='post')\n",
        "\n",
        "plt.xlabel('Значение')\n",
        "plt.ylabel('Вероятность')\n",
        "plt.title('Эмпирическая функция распределения')\n",
        "plt.show()"
      ],
      "metadata": {
        "colab": {
          "base_uri": "https://localhost:8080/",
          "height": 410
        },
        "id": "KzW9fEh4_Vp9",
        "outputId": "e4957826-4879-4550-aca4-ebc23c8d390b"
      },
      "execution_count": 3,
      "outputs": [
        {
          "output_type": "display_data",
          "data": {
            "text/plain": [
              "<Figure size 600x400 with 1 Axes>"
            ],
            "image/png": "[encoded data removed]"
          },
          "metadata": {}
        }
      ]
    },
    {
      "cell_type": "code",
      "source": [
        "# Построение гистограммы и полигона частот\n",
        "fig = plt.figure(figsize=(6,4))\n",
        "\n",
        "h = 0.8\n",
        "hist, bin_edges, _ = plt.hist(variation_series, bins=np.arange(variation_series[0],\n",
        "                                      variation_series[-1] + h, h),\n",
        "         density=True)\n",
        "\n",
        "bin_centers = (bin_edges[1:] + bin_edges[:-1]) / 2.0\n",
        "plt.plot(bin_centers, hist, linestyle='-', marker='o')\n",
        "\n",
        "plt.title('Гистограмма частот')\n",
        "plt.xlabel('Значение')\n",
        "plt.ylabel('Частота')\n",
        "plt.grid()\n",
        "plt.show()"
      ],
      "metadata": {
        "colab": {
          "base_uri": "https://localhost:8080/",
          "height": 410
        },
        "id": "vIt149DrEZvf",
        "outputId": "e8453f46-157f-4792-a36d-bfe70cc55d2d"
      },
      "execution_count": 4,
      "outputs": [
        {
          "output_type": "display_data",
          "data": {
            "text/plain": [
              "<Figure size 600x400 with 1 Axes>"
            ],
            "image/png": "[encoded data removed]"
          },
          "metadata": {}
        }
      ]
    },
    {
      "cell_type": "markdown",
      "source": [
        "#### b) Вычислить выборочные аналоги следующих числовых характеристик: (i) математического ожидания; (ii) дисперсии; (iii) СКО; (iv) медианы; (v) ассиметрии; (vi) эксцесса; (vii) вероятности $\\mathbb{P}(X \\in [a, b]) $"
      ],
      "metadata": {
        "id": "eat1npHYIrj0"
      }
    },
    {
      "cell_type": "code",
      "source": [
        "from scipy import stats\n",
        "\n",
        "c = 0.\n",
        "d = 2.4\n",
        "mean_value = data.mean()\n",
        "var_value = data.var()\n",
        "std_value = data.std()\n",
        "median = np.median(data)\n",
        "skewness = stats.skew(data)\n",
        "kurtosis =  stats.kurtosis(data)\n",
        "probability = len([x for x in data if c <= x <= d]) / data_size\n",
        "\n",
        "print(f'''\n",
        "  Математическое ожидание: {mean_value:.3f};\n",
        "  Дисперсия: {var_value:.3f};\n",
        "  СКО: {std_value:.3f};\n",
        "  Медиана: {median};\n",
        "  Ассиметрия: {skewness:.3f};\n",
        "  Эксцесс: {kurtosis:.3f};\n",
        "  Вероятность попадания в [{c}, {d}]: {probability};\n",
        " ''')\n"
      ],
      "metadata": {
        "colab": {
          "base_uri": "https://localhost:8080/"
        },
        "id": "u0J4O3ZPIlQD",
        "outputId": "6b0b8b40-c516-438f-cadc-24ac3f20eeb7"
      },
      "execution_count": 6,
      "outputs": [
        {
          "output_type": "stream",
          "name": "stdout",
          "text": [
            "\n",
            "  Математическое ожидание: 1.956;\n",
            "  Дисперсия: 3.883;\n",
            "  СКО: 1.971;\n",
            "  Медиана: 1.174;\n",
            "  Ассиметрия: 1.204;\n",
            "  Эксцесс: 0.278;\n",
            "  Вероятность попадания в [0.0, 2.4]: 0.7;\n",
            " \n"
          ]
        }
      ]
    },
    {
      "cell_type": "markdown",
      "source": [
        "#### c) В предположении, что исходные наблюдения являются выборкой из показательного распределения, построить оценку максимального правдоподобия параметра $\\lambda$ и соответствующую оценку по методу моментов. Найти смещение оценок."
      ],
      "metadata": {
        "id": "xnDAnuMoJQF6"
      }
    },
    {
      "cell_type": "markdown",
      "source": [
        "Плотность показательного распределения: $\\mathcal{p}_\\lambda(x) = \\lambda \\cdot \\exp(-\\lambda x)$, где $x \\geq 0$ для всей наблюденной выборки (поэтому индикатор опускаем)\n",
        "\n",
        "Построим ОМП: \\\n",
        "$ L(\\overrightarrow{X};\\theta) = \\prod_{i=1}^{n}\\lambda\\exp(-\\lambda x) = \\lambda^n \\exp(-\\lambda \\sum_{i=1}^{n}x_i ) $\n",
        "\n",
        "$ LL(\\overrightarrow{X};\\theta) = n \\ln(\\lambda) - \\lambda \\sum_{i=1}^{n}x_i $\n",
        "\n",
        "$ \\frac{\\partial LL(\\overrightarrow{X};\\theta) }{\\partial \\lambda } = \\frac{n}{\\lambda} - \\sum_{i=1}^{n}x_i = 0\n",
        "\\rightarrow \\hat{\\lambda} = \\frac{n}{\\sum_{i=1}^{n}x_i} = \\frac{1}{\\overline{X}} $\n",
        "\n",
        "$ \\hat{\\theta} = \\hat{\\lambda} $\n",
        "\n",
        "Таким образом, оценка параметра $\\lambda$ равна величине, обратной среднему значению выборки: $\\hat{\\lambda} = \\frac{1}{1.956} = 0.511 $\n",
        "\\\n",
        "\\\n",
        "\\\n",
        "Построим оценку по ОММ.\n",
        "Первый момент для показательного распределения $\\mathbb{E}k=\\frac{1}{\\lambda}$. Приравняв к эмпирическому моменту выборки $M = \\overline{X}$ получим одно уравнение, из которого $\\hat{\\theta} = \\hat{\\lambda} = \\frac{1}{\\overline{X}} = \\frac{1}{1.956} = 0.511 $\n",
        "\\\n",
        "\\\n",
        "\\\n",
        "Найдем смещение оценки.\n",
        "$ \\mathbb{E}_{\\lambda}\\frac{\\sum_{i=1}^{n}x_i}{n} = n \\mathbb{E}_{\\lambda}(\\sum_{i=1}^{n}x_i)^{-1} = \\left[ x_i \\sim \\exp(\\lambda) \\rightarrow x_i \\sim \\mathop{\\mathrm{Gamma}}\\nolimits(1, \\frac{1}{\\lambda}) \\rightarrow \\sum_{i=1}^{n}x_i \\sim \\mathop{\\mathrm{Gamma}}\\nolimits(n, \\frac{1}{\\lambda}) \\right] = \\left[ \\alpha = n, \\gamma = -1, \\beta = \\frac{1}{\\lambda} \\right] = n \\lambda \\frac{Г(n-1)}{Г(n)} = n\\lambda \\frac{Г(n-1)}{Г(n-1) \\cdot (n-1) } = \\lambda \\frac{n}{n-1} $ - оценка смещенная\n",
        "\n",
        "Тогда $\\tilde{\\lambda} = \\hat{\\lambda} \\frac{n-1}{n} $ - НРМД-оценка"
      ],
      "metadata": {
        "id": "CyGkjSm1JXBW"
      }
    },
    {
      "cell_type": "markdown",
      "source": [
        "#### d) Построить асимптотический доверительный интервал уровня значимости $\\alpha_2$ для параметра $\\lambda$ на базе оценки максимального правдоподобия."
      ],
      "metadata": {
        "id": "qWRq6stqCtcc"
      }
    },
    {
      "cell_type": "markdown",
      "source": [
        "При выполнении условий регулярности верно, что: $ \\sqrt{nI(\\hat{\\theta})}(\\hat{\\theta}(x) - \\theta) \\sim N(0,1) $\n",
        "\n",
        "Зная ОМП для параметра $\\lambda$, найдем информацию Фишера:\n",
        "$ I_n(\\lambda) = -\\mathbb{E}\\frac{ \\partial^2LL }{ \\partial \\lambda^2 } = - \\mathbb{E}\\frac{-n}{\\lambda^2} = \\frac{n}{\\lambda^2} $\n",
        "\\\n",
        "$ I(\\hat{\\theta}) = \\frac{1}{\\overline{X}^2} $\n",
        "\n",
        "Выберем $X_{\\alpha}: Ф(X_{\\alpha}) = 1 - \\frac{\\alpha_2}{2} = 1 - \\frac{0.2}{2} = 0.90 $\n",
        "\\\n",
        "$X_{\\alpha} = 1.282 $\n",
        "\\\n",
        "Тогда ассимптотический доверительный интервал: $ \\theta = \\lambda \\in \\left[ 0.511 - \\frac{2.326}{\\sqrt{50\\cdot \\frac{1}{1.956^2}}}; 0.511 + \\frac{2.326}{\\sqrt{50\\cdot \\frac{1}{1.956^2}}} \\right] $\n",
        "\\\n",
        "Откуда $ \\lambda \\in [-0.132;1.154] $"
      ],
      "metadata": {
        "id": "LDJ1DZlNC69F"
      }
    },
    {
      "cell_type": "markdown",
      "source": [
        "#### e) С использованием теоремы Колмогорова построить критерий значимости проверки простой гипотезы согласия с показательным распределением с параметром $\\lambda_0$. Проверить гипотезу на уровне $\\alpha_2$. Вычислить наибольшее значение уровня значимости, на котором еще нет оснований отвергнуть данную гипотезу."
      ],
      "metadata": {
        "id": "K3FIIOgiJbPR"
      }
    },
    {
      "cell_type": "code",
      "source": [],
      "metadata": {
        "id": "yLCCsxohASXD"
      },
      "execution_count": null,
      "outputs": []
    },
    {
      "cell_type": "markdown",
      "source": [
        "#### f) Используя гистограмму частот, построить критерий значимости $\\chi^2$ проверки простой гипотезы согласия с показательным распределением с параметром $\\lambda_0$. Проверить гипотезу на уровне значимости $\\alpha_2$. Вычислить наибольшее значение уровня значимости, на котором еще нет оснований отвергнуть данную гипотезу."
      ],
      "metadata": {
        "id": "WRJO1UGqLf8P"
      }
    },
    {
      "cell_type": "markdown",
      "source": [
        "Построение критерия значимости $\\chi^2$ проверки простой гипотезы согласия с  показательным распределением с параметром $\\lambda_0$:\n",
        "\n",
        "Интервалы $I_i$: [0,1], (1,2], (2,3], (3,4], (4,5], (5,6], (6,7], (7,7.334]\n",
        "\n",
        "Абсолютные частоты $\\nu_i$:\n",
        "\n",
        "$\n",
        "  \\nu_1 = 22 \\\\\n",
        "  \\nu_2 = 11 \\\\\n",
        "  \\nu_3 = 5 \\\\\n",
        "  \\nu_4 = 3 \\\\\n",
        "  \\nu_5 = 4 \\\\\n",
        "  \\nu_6 = 1 \\\\\n",
        "  \\nu_7 = 3 \\\\\n",
        "  \\nu_8 = 1 \\\\\n",
        "$\n",
        "\n",
        "Вычислим гипотетические вероятности попадания в интервалы, а также ожидаемые частоты:\n",
        "\n",
        "$\n",
        "p_{10} = \\lambda \\exp(-\\lambda \\cdot k_1) + \\lambda \\exp(-\\lambda \\cdot k_0) = 0.33 \\exp(-0.33 \\cdot 1) + 0.33 \\exp(-0.33 \\cdot 0) = 0.5673 \\\\\n",
        "p_{20} = 0.170 \\\\\n",
        "p_{30} = 0.122 \\\\\n",
        "p_{40} = 0.088 \\\\\n",
        "p_{50} = 0.063 \\\\\n",
        "p_{60} = 0.045 \\\\\n",
        "p_{70} = 0.032 \\\\\n",
        "p_{80} = 0.023 \\\\\n",
        "$\n",
        "\n",
        "$\n",
        " np_{10} = 28.365 \\\\\n",
        " np_{20} = 8.5 \\\\\n",
        " np_{30} = 6.1 \\\\\n",
        " np_{40} = 4.4 \\\\\n",
        " np_{50} = 3.15 \\\\\n",
        " np_{60} = 2.25 \\\\\n",
        " np_{70} = 1.6 \\\\\n",
        " np_{80} = 1.1 \\\\\n",
        "$\n",
        "\n",
        "Тогда статистика критерия $\\chi^2 = \\sum_{j=1}^{8}\\frac{ (\\nu_j - np_{j0})^2 }{np_{j0}} = 4.965 $\n",
        "\\\n",
        "\\\n",
        "Проверим гипотезу на уровне значимости $\\alpha_2=0.2$.\n",
        "\n",
        "Выбираем $X_{\\alpha}: K_{8-1}(X_{\\alpha}) = 1 - \\alpha = 0.8$, где $K_{8-1} - \\text{функция распределения } \\chi_{7}^2$\n",
        "\\\n",
        "$X_{\\alpha} = 9.803$\n",
        "\n",
        "$ \\chi^2 \\leq X_{\\alpha} $, следовательно гипотеза принимается\n",
        "\n",
        "Наибольшее значение уровня значимости, на котором еще нет оснований отвергнуть данную гипотезу: $\\alpha = 0.664 $"
      ],
      "metadata": {
        "id": "0h92zwoDMsWA"
      }
    },
    {
      "cell_type": "code",
      "source": [
        "# x_alpha = stats.chi2.ppf(0.8, 7)\n",
        "# print(x_alpha)\n",
        "\n",
        "# вычисляем наибольшее значение уровня значимости, при котором еще нет оснований\n",
        "# отвергнуть данную гипотезу\n",
        "max_alpha = alpha = 0.2\n",
        "current_x_alpha = 0\n",
        "while alpha >= 0:\n",
        "  current_x_alpha = stats.chi2.ppf(1 - alpha, 7)\n",
        "  if current_x_alpha >= 4.965:\n",
        "    max_alpha = alpha\n",
        "  else:\n",
        "    break\n",
        "  alpha += 0.001\n",
        "\n",
        "print(f'Наибольшее значение уровня значимости: {max_alpha}')\n",
        "print(f'При этом Xalpha = {stats.chi2.ppf(1 - max_alpha, 7)}')"
      ],
      "metadata": {
        "colab": {
          "base_uri": "https://localhost:8080/"
        },
        "id": "y7P-DoqHFX3o",
        "outputId": "906e2128-a9e6-44ae-b522-9cf0e0625f77"
      },
      "execution_count": 10,
      "outputs": [
        {
          "output_type": "stream",
          "name": "stdout",
          "text": [
            "Наибольшее значение уровня значимости: 0.6640000000000004\n",
            "При этом Xalpha = 4.966922371024427\n"
          ]
        }
      ]
    },
    {
      "cell_type": "markdown",
      "source": [
        "#### g) Построить критерий проверки значимости $\\chi^2$ сложной гипотезы согласия с показательным распределением с параметром $\\lambda_0$. Проверить гипотезу на уровне $\\alpha_2$. Вычислить наибольшее значение уровня значимости, на котором еще нет оснований отвергнуть данную гипотезу."
      ],
      "metadata": {
        "id": "sQ4laA-nmApa"
      }
    },
    {
      "cell_type": "markdown",
      "source": [
        "Построение критерия значимости $\\chi^2$ проверки сложной гипотезы согласия с распределением Пуассона с параметром $\\lambda = \\frac{1}{\\overline{X}} = 0.511 $:\n",
        "\n",
        "Интервалы $I_i$: [0,1], (1,2], (2,3], (3,4], (4,5], (5,6], (6,7], (7,7.334]\n",
        "\n",
        "Абсолютные частоты $\\nu_i$:\n",
        "\n",
        "$\n",
        "  \\nu_1 = 22 \\\\\n",
        "  \\nu_2 = 11 \\\\\n",
        "  \\nu_3 = 5 \\\\\n",
        "  \\nu_4 = 3 \\\\\n",
        "  \\nu_5 = 4 \\\\\n",
        "  \\nu_6 = 1 \\\\\n",
        "  \\nu_7 = 3 \\\\\n",
        "  \\nu_8 = 1 \\\\\n",
        "$\n",
        "\n",
        "Вычислим гипотетические вероятности попадания в интервалы, а также ожидаемые частоты:\n",
        "\n",
        "$\n",
        "\\hat{p_{10}} = \\frac{1}{\\overline{X}} \\exp(-\\frac{1}{\\overline{X}} \\cdot k_1) + \\lambda \\exp(-\\frac{1}{\\overline{X}} \\cdot k_0) = 0.817 \\\\\n",
        "\\hat{p_{20}} = 0.183 \\\\\n",
        "\\hat{p_{30}} = 0.110 \\\\\n",
        "\\hat{p_{40}} = 0.066 \\\\\n",
        "\\hat{p_{50}} = 0.039 \\\\\n",
        "\\hat{p_{60}} = 0.023 \\\\\n",
        "\\hat{p_{70}} = 0.014 \\\\\n",
        "\\hat{p_{80}} = 0.008 \\\\\n",
        "$\n",
        "\n",
        "$\n",
        " n\\hat{p_{10}} = 40.85 \\\\\n",
        " n\\hat{p_{20}} = 9.15 \\\\\n",
        " n\\hat{p_{30}} = 5.5 \\\\\n",
        " n\\hat{p_{40}} = 3.3 \\\\\n",
        " n\\hat{p_{50}} = 1.985 \\\\\n",
        " n\\hat{p_{60}} = 1.15 \\\\\n",
        " n\\hat{p_{70}} = 0.7 \\\\\n",
        " n\\hat{p_{80}} = 0.4 \\\\\n",
        "$\n",
        "\n",
        "В качестве статистики критерия возьмем $\\hat{\\chi}^2 = \\sum_{j=1}^{8}\\frac{ (\\nu_j - n \\hat{p_{j0}})^2 }{n \\hat{p_{j0}}} = 19.667 $\n",
        "\\\n",
        "\\\n",
        "Проверим гипотезу на уровне значимости $\\alpha_2=0.2$.\n",
        "\n",
        "Выбираем $X_{\\alpha}: K_{8-1-1}(X_{\\alpha}) = 1 - \\alpha = 0.8$, где $K_{8-1-1} - \\text{функция распределения } \\chi_{6}^2$\n",
        "\\\n",
        "$X_{\\alpha} = 8.55$\n",
        "\n",
        "$ \\hat{\\chi}^2 > X_{\\alpha} $, следовательно гипотеза отвергается\n",
        "\n",
        "Наибольшее значение уровня значимости, на котором еще нет оснований отвергнуть данную гипотезу: $\\alpha = 0.003 $"
      ],
      "metadata": {
        "id": "Kng0I-Q9mmEW"
      }
    },
    {
      "cell_type": "code",
      "source": [
        "# x_alpha = stats.chi2.ppf(0.8, 6)\n",
        "# print(x_alpha)\n",
        "\n",
        "# вычисляем наибольшее значение уровня значимости, при котором еще нет оснований\n",
        "# отвергнуть данную гипотезу\n",
        "max_alpha = alpha = 0\n",
        "current_x_alpha = 0\n",
        "while alpha >= 0:\n",
        "  current_x_alpha = stats.chi2.ppf(1 - alpha, 6)\n",
        "  if current_x_alpha >= 19.667:\n",
        "    max_alpha = alpha\n",
        "  else:\n",
        "    break\n",
        "  alpha += 0.001\n",
        "\n",
        "print(f'Наибольшее значение уровня значимости: {max_alpha}')\n",
        "print(f'При этом Xalpha = {stats.chi2.ppf(1 - max_alpha, 6)}')"
      ],
      "metadata": {
        "colab": {
          "base_uri": "https://localhost:8080/"
        },
        "id": "IWg5Md_mpUw9",
        "outputId": "e9ddc572-437c-4ea7-c85a-85b57c19924c"
      },
      "execution_count": 23,
      "outputs": [
        {
          "output_type": "stream",
          "name": "stdout",
          "text": [
            "Наибольшее значение уровня значимости: 0.003\n",
            "При этом Xalpha = 19.8046523588496\n"
          ]
        }
      ]
    },
    {
      "cell_type": "markdown",
      "source": [
        "#### i) В пунктах (c)-(h) заменить семейство распределений на семейство гамма-распределений распределений: $ \\mathcal{p_{\\lambda}}(x) = \\frac{ \\sqrt{\\lambda} \\exp(-\\lambda x / 2) }{\\sqrt{2\\pi x}} $"
      ],
      "metadata": {
        "id": "oFCkoBXzq_nF"
      }
    },
    {
      "cell_type": "markdown",
      "source": [
        "i.c) В предположении, что исходные наблюдения являются выборкой из гамма- распределения, построить оценку максимального правдоподобия параметра $\\lambda$ и соответствующую оценку по методу моментов. Найти смещение оценок.\n",
        "\n",
        "Плотность гамма-распределения распределения:  $ \\mathcal{p_{\\lambda}}(x) = \\frac{ \\sqrt{\\lambda} \\exp( \\frac{-\\lambda x}{2}) }{\\sqrt{2\\pi x}} $, где $x \\geq 0$ для всей наблюденной выборки (поэтому индикатор опускаем)\n",
        "\n",
        "Построим ОМП: \\\n",
        "$ L(\\overrightarrow{X};\\theta) = \\prod_{i=1}^{n} \\frac{ \\sqrt{\\lambda} \\exp( \\frac{-\\lambda x}{2}) }{\\sqrt{2\\pi x}} = \\frac{ \\lambda^{\\frac{n}{2}} \\exp( \\frac{\\lambda}{2} \\sum_{i=1}^{n}x_i ) }{ (2\\pi)^{\\frac{n}{2}} (\\prod_{i=1}^{n} x_i)^{\\frac{n}{2}} } $\n",
        "\n",
        "$ LL(\\overrightarrow{X};\\theta) = \\frac{n}{2} \\ln(\\lambda) - \\frac{\\lambda \\sum_{i=1}^{n}x_i}{2} - \\frac{n}{2} \\ln(2\\pi) - \\frac{n}{2} \\ln( \\prod_{i=1}^{n}x_i ) $\n",
        "\n",
        "$ \\frac{\\partial LL(\\overrightarrow{X};\\theta) }{\\partial \\lambda } = \\frac{n}{2 \\lambda} - \\frac{\\sum_{i=1}^{n}x_i}{2} = 0\n",
        "\\rightarrow \\hat{\\lambda} = \\frac{n}{\\sum_{i=1}^{n}x_i} = \\frac{1}{\\overline{X}} $\n",
        "\n",
        "$ \\hat{\\theta} = \\hat{\\lambda} $\n",
        "\n",
        "Таким образом, оценка параметра $\\lambda$ равна величине, обратной среднему значению выборки: $\\hat{\\lambda} = \\frac{1}{1.956} = 0.511 $\n",
        "\\\n",
        "\\\n",
        "\\\n",
        "Построим оценку по ОММ.\n",
        "Первый момент для показательного распределения $\\mathbb{E}k=a \\cdot b = \\frac{1}{2} \\cdot \\frac{2}{\\lambda} = \\frac{1}{\\lambda} $. Приравняв к эмпирическому моменту выборки $M = \\overline{X}$ получим одно уравнение, из которого $\\hat{\\theta} = \\hat{\\lambda} = \\frac{1}{\\overline{X}} = \\frac{1}{1.956} = 0.511 $\n",
        "\\\n",
        "\\\n",
        "\\\n",
        "Найдем смещение оценки.\n",
        "$ \\mathbb{E}_{\\lambda}\\frac{\\sum_{i=1}^{n}x_i}{n} = n \\mathbb{E}_{\\lambda}(\\sum_{i=1}^{n}x_i)^{-1} = \\left[ x_i \\sim \\exp(\\lambda) \\rightarrow x_i \\sim \\mathop{\\mathrm{Gamma}}\\nolimits(1, \\frac{1}{\\lambda}) \\rightarrow \\sum_{i=1}^{n}x_i \\sim \\mathop{\\mathrm{Gamma}}\\nolimits(n, \\frac{1}{\\lambda}) \\right] = \\left[ \\alpha = n, \\gamma = -1, \\beta = \\frac{1}{\\lambda} \\right] = n \\lambda \\frac{Г(n-1)}{Г(n)} = n\\lambda \\frac{Г(n-1)}{Г(n-1) \\cdot (n-1) } = \\lambda \\frac{n}{n-1} $ - оценка смещенная\n",
        "\n",
        "Тогда $\\tilde{\\lambda} = \\hat{\\lambda} \\frac{n-1}{n} $ - НРМД-оценка"
      ],
      "metadata": {
        "id": "a3QSogyzr8tf"
      }
    },
    {
      "cell_type": "markdown",
      "source": [
        "i.d) При выполнении условий регулярности верно, что: $ \\sqrt{nI(\\hat{\\theta})}(\\hat{\\theta}(x) - \\theta) \\sim N(0,1) $\n",
        "\n",
        "Зная ОМП для параметра $\\lambda$, найдем информацию Фишера:\n",
        "$ I_n(\\lambda) = -\\mathbb{E}\\frac{ \\partial^2LL }{ \\partial \\lambda^2 } = - \\mathbb{E}\\frac{-n}{2 \\lambda^2} = \\frac{n}{2 \\lambda^2} $\n",
        "\\\n",
        "$ I(\\hat{\\theta}) = \\frac{1}{2 \\overline{X}^2} $\n",
        "\n",
        "Выберем $X_{\\alpha}: Ф(X_{\\alpha}) = 1 - \\frac{\\alpha_2}{2} = 1 - \\frac{0.2}{2} = 0.90 $\n",
        "\\\n",
        "$X_{\\alpha} = 1.282 $\n",
        "\\\n",
        "Тогда ассимптотический доверительный интервал: $ \\theta = \\lambda \\in \\left[ 0.511 - \\frac{2.326}{\\sqrt{50\\cdot \\frac{1}{2 \\cdot 1.956^2}}}; 0.511 + \\frac{2.326}{\\sqrt{50\\cdot \\frac{1}{2 \\cdot 1.956^2}}} \\right] $\n",
        "\\\n",
        "Откуда $ \\lambda \\in [-0.398;1.42] $"
      ],
      "metadata": {
        "id": "pWCAaGWmv43X"
      }
    },
    {
      "cell_type": "markdown",
      "source": [
        "i.e) С использованием теоремы Колмогорова построить критерий значимости проверки простой гипотезы согласия с гамма-распределением с параметром $\\lambda_0$. Проверить гипотезу на уровне $\\alpha_2$. Вычислить наибольшее значение уровня значимости, на котором еще нет оснований отвергнуть данную гипотезу."
      ],
      "metadata": {
        "id": "7EkRtpJ9ykWD"
      }
    },
    {
      "cell_type": "markdown",
      "source": [
        "i.f) Используя гистограмму частот, построить критерий значимости $\\chi^2$ проверки простой гипотезы согласия с гамма-распределением с параметром $\\lambda_0$. Проверить гипотезу на уровне значимости $\\alpha_2$. Вычислить наибольшее значение уровня значимости, на котором еще нет оснований отвергнуть данную гипотезу.\n",
        "\n",
        "Построение критерия значимости $\\chi^2$ проверки простой гипотезы согласия с распределением Пуассона с параметром $\\lambda_0$:\n",
        "\n",
        "Интервалы $I_i$: [0.202,1], (1,2], (2,3], (3,4], (4,5], (5,6], (6,7], (7,7.334]\n",
        "\n",
        "Абсолютные частоты $\\nu_i$:\n",
        "\n",
        "$\n",
        "  \\nu_1 = 22 \\\\\n",
        "  \\nu_2 = 11 \\\\\n",
        "  \\nu_3 = 5 \\\\\n",
        "  \\nu_4 = 3 \\\\\n",
        "  \\nu_5 = 4 \\\\\n",
        "  \\nu_6 = 1 \\\\\n",
        "  \\nu_7 = 3 \\\\\n",
        "  \\nu_8 = 1 \\\\\n",
        "$\n",
        "\n",
        "Вычислим гипотетические вероятности попадания в интервалы, а также ожидаемые частоты:\n",
        "\n",
        "$\n",
        "p_{10} = \\frac{\\sqrt{\\lambda} \\exp( \\frac{-\\lambda x_0}{2} )}{\\sqrt{2\\pi x_0}} + \\frac{\\sqrt{\\lambda} \\exp( \\frac{-\\lambda x_1}{2} )}{\\sqrt{2\\pi x_1}} = 0.6874 \\\\\n",
        "p_{20} = 0.116 \\\\\n",
        "p_{30} = 0.081 \\\\\n",
        "p_{40} = 0.0592 \\\\\n",
        "p_{50} = 0.0449 \\\\\n",
        "p_{60} = 0.0347 \\\\\n",
        "p_{70} = 0.027 \\\\\n",
        "p_{80} = 0.0216 \\\\\n",
        "$\n",
        "\n",
        "$\n",
        " np_{10} = 15.122 \\\\\n",
        " np_{20} = 1.276 \\\\\n",
        " np_{30} = 0.405 \\\\\n",
        " np_{40} = 0.1776 \\\\\n",
        " np_{50} = 0.1796 \\\\\n",
        " np_{60} = 0.0347 \\\\\n",
        " np_{70} = 0.081 \\\\\n",
        " np_{80} = 0.0216 \\\\\n",
        "$\n",
        "\n",
        "Тогда статистика критерия $\\chi^2 = \\sum_{j=1}^{8}\\frac{ (\\nu_j - np_{j0})^2 }{np_{j0}} = 431.848 $\n",
        "\\\n",
        "\\\n",
        "Проверим гипотезу на уровне значимости $\\alpha_2=0.2$.\n",
        "\n",
        "Выбираем $X_{\\alpha}: K_{8-1}(X_{\\alpha}) = 1 - \\alpha = 0.8$, где $K_{8-1} - \\text{функция распределения } \\chi_{7}^2$\n",
        "\\\n",
        "$X_{\\alpha} = 9.803$\n",
        "\n",
        "$ \\chi^2 > X_{\\alpha} $, следовательно гипотеза отвергается\n",
        "\n",
        "Наибольшее значение уровня значимости, на котором еще нет оснований отвергнуть данную гипотезу: $\\alpha << 0.001 $"
      ],
      "metadata": {
        "id": "4VyGROlLy268"
      }
    },
    {
      "cell_type": "code",
      "source": [
        "# x_alpha = stats.chi2.ppf(0.8, 7)\n",
        "# print(x_alpha)\n",
        "\n",
        "# вычисляем наибольшее значение уровня значимости, при котором еще нет оснований\n",
        "# отвергнуть данную гипотезу\n",
        "max_alpha = alpha = 0\n",
        "current_x_alpha = 0\n",
        "while alpha >= 0:\n",
        "  current_x_alpha = stats.chi2.ppf(1 - alpha, 7)\n",
        "  if current_x_alpha >= 431.848:\n",
        "    max_alpha = alpha\n",
        "  else:\n",
        "    break\n",
        "  alpha += 0.00001\n",
        "\n",
        "print(f'Наибольшее значение уровня значимости: {max_alpha}')\n",
        "print(f'При этом Xalpha = {stats.chi2.ppf(1 - max_alpha, 7)}')"
      ],
      "metadata": {
        "colab": {
          "base_uri": "https://localhost:8080/"
        },
        "id": "WUIb4SPF2mEl",
        "outputId": "5df6e015-0694-4644-f7ad-ad910a352794"
      },
      "execution_count": 26,
      "outputs": [
        {
          "output_type": "stream",
          "name": "stdout",
          "text": [
            "Наибольшее значение уровня значимости: 0\n",
            "При этом Xalpha = inf\n"
          ]
        }
      ]
    },
    {
      "cell_type": "markdown",
      "source": [
        "i.g) Построить критерий проверки значимости $\\chi^2$ сложной гипотезы согласия с гамма-распределением с параметром $\\lambda_0$. Проверить гипотезу на уровне $\\alpha_2$. Вычислить наибольшее значение уровня значимости, на котором еще нет оснований отвергнуть данную гипотезу.\n",
        "\n",
        "Построение критерия значимости $\\chi^2$ проверки сложной гипотезы согласия с гамма-распределением с параметром $\\lambda = \\frac{1}{\\overline{X}} = 0.511 $:\n",
        "\n",
        "Интервалы $I_i$: [0.202,1], (1,2], (2,3], (3,4], (4,5], (5,6], (6,7], (7,7.334]\n",
        "\n",
        "Абсолютные частоты $\\nu_i$:\n",
        "\n",
        "$\n",
        "  \\nu_1 = 22 \\\\\n",
        "  \\nu_2 = 11 \\\\\n",
        "  \\nu_3 = 5 \\\\\n",
        "  \\nu_4 = 3 \\\\\n",
        "  \\nu_5 = 4 \\\\\n",
        "  \\nu_6 = 1 \\\\\n",
        "  \\nu_7 = 3 \\\\\n",
        "  \\nu_8 = 1 \\\\\n",
        "$\n",
        "\n",
        "Вычислим гипотетические вероятности попадания в интервалы, а также ожидаемые частоты:\n",
        "\n",
        "$\n",
        "\\hat{p_{10}} = 0.8228 \\\\\n",
        "\\hat{p_{20}} = 0.1209 \\\\\n",
        "\\hat{p_{30}} = 0.0765 \\\\\n",
        "\\hat{p_{40}} = 0.0513 \\\\\n",
        "\\hat{p_{50}} = 0.0355 \\\\\n",
        "\\hat{p_{60}} = 0.0251 \\\\\n",
        "\\hat{p_{70}} = 0.0180 \\\\\n",
        "\\hat{p_{80}} = 0.0130 \\\\\n",
        "$\n",
        "\n",
        "$\n",
        " n\\hat{p_{10}} = 18.1016 \\\\\n",
        " n\\hat{p_{20}} = 1.329 \\\\\n",
        " n\\hat{p_{30}} = 0.3825 \\\\\n",
        " n\\hat{p_{40}} = 0.1539 \\\\\n",
        " n\\hat{p_{50}} = 0.142 \\\\\n",
        " n\\hat{p_{60}} = 0.0251 \\\\\n",
        " n\\hat{p_{70}} = 0.0460 \\\\\n",
        " n\\hat{p_{80}} = 0.0130 \\\\\n",
        "$\n",
        "\n",
        "В качестве статистики критерия возьмем $\\hat{\\chi}^2 = \\sum_{j=1}^{8}\\frac{ (\\nu_j - n \\hat{p_{j0}})^2 }{n \\hat{p_{j0}}} = 586.9 $\n",
        "\\\n",
        "\\\n",
        "Проверим гипотезу на уровне значимости $\\alpha_2=0.2$.\n",
        "\n",
        "Выбираем $X_{\\alpha}: K_{8-1-1}(X_{\\alpha}) = 1 - \\alpha = 0.8$, где $K_{8-1-1} - \\text{функция распределения } \\chi_{6}^2$\n",
        "\\\n",
        "$X_{\\alpha} = 8.55$\n",
        "\n",
        "$ \\hat{\\chi}^2 > X_{\\alpha} $, следовательно гипотеза отвергается\n",
        "\n",
        "Наибольшее значение уровня значимости, на котором еще нет оснований отвергнуть данную гипотезу: $\\alpha << 0.0001 $"
      ],
      "metadata": {
        "id": "7eqQ1rFR3BRZ"
      }
    },
    {
      "cell_type": "markdown",
      "source": [
        "## Выводы\n",
        "\n",
        "В ходе практической работы были изучены и применены методы математической статистики для анализа данных. Освоена работа с программными пакетами, такими как NumPy, Scipy с пакетами stats, которые значительно упростили выполнение статистических задач и анализ данных."
      ],
      "metadata": {
        "id": "A7tvYD2ucPTa"
      }
    }
  ]
}