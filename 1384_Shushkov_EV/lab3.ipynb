{
  "cells": [
    {
      "cell_type": "markdown",
      "metadata": {
        "id": "GZuoTZzH8bwt"
      },
      "source": [
        "# Лабораторная работа №3: регрессионный анализ\n",
        "Выполнил студент гр. 1384 Шушков Егор Вариант №23"
      ]
    },
    {
      "cell_type": "markdown",
      "metadata": {
        "id": "sNPrQUle8bww"
      },
      "source": [
        "## Цель работы\n",
        "Исследовать метод наименьших квадратов для оценки параметров, изучить, что такое регрессия, в частности линейная регрессия, а также как МНК используется в регрессионном анализе. Узнать, как доказывать\\опровергать гипотезы."
      ]
    },
    {
      "cell_type": "markdown",
      "metadata": {
        "id": "9yX6i4h48bwx"
      },
      "source": [
        "## Основные теоретические положения\n",
        "**Определения**:\n",
        "\\\n",
        "\\-Линейная регрессия: зависимость $y$ от набора независимых переменных $\\vec{x} = (x_1, …, x_n)$, где n – это количество наблюдений. Эту зависимость можно описать как: $y =\\beta_0  + \\beta_1 x_1 + ⋯ + \\beta_n x_n + ϵ$ - уравнение регрессии. $\\beta_0, \\beta_1, …, \\beta_n$, и $ϵ$ – неустранимая ошибка.\n",
        "\\\n",
        "\\\n",
        "-Метод наименьших квадратов (МНК):\n",
        "\\\n",
        "Нормальные уравнения: $XX^{\\intercal}\\beta=XY$\\\n",
        "Решение системы нормальных уравнений в регулярном случае: $\\widehat{\\beta}=(XX^{\\intercal})^{-1}XY$\n",
        "\\\n",
        "$RSS(\\widehat{β}) = \\sum_{i=1}^{n}(Y_i-\\widehat{Y_i})^2$\n",
        "\\\n",
        "\\\n",
        "-Несмещённая оценка дисперсии $S^{2}$:\n",
        "\\\n",
        "$s^2 = \\frac{RSS(\\widehat{β})}{n-r}$, где $r = rankX$, n - количество измерений.\n",
        "\\\n",
        "\\\n",
        "-Доверительный интервал уровня доверия 1 - α:\n",
        "\\\n",
        "$Ψ \\in [\\widehat{Ψ_β} - x_αs\\sqrt{b}, \\widehat{Ψ_β} + x_αs\\sqrt{b}]$, где $x_α: S_{n-r}(x_α) = 1 - \\frac{α}{2}$\n",
        "\\\n",
        "\\\n",
        "-F-статистика:\n",
        "\\\n",
        "$F = \\frac{SS_Н/q}{SS_e/(n-r)}$, где $SS_Н = RSS(\\widehat{β_Н}) - RSS(\\widehat{β_Н})$, $\\widehat{β_Н}$ - МНК-оценка параметров при выполнении основной гипотезы, $SS_e = RSS(\\widehat{β})$\n",
        "\\\n",
        "\\\n",
        "-Доверительные эллипсоиды уровня доверия 1 - α для параметров:\n",
        "\\\n",
        "$A_α = \\{\\vec{x}: (\\vec{x} - \\widehat{Ψ})^T B^{-1} (\\vec{x} - \\widehat{Ψ}) \\le qs^2x_α \\}$, где $x_α: F_{q,n-r}(x_α) = 1 - α$, $\\space B = C^T(XX^T)^{-1}C$\n"
      ]
    },
    {
      "cell_type": "markdown",
      "metadata": {
        "id": "-ahJvsU28bwx"
      },
      "source": [
        "## Постановка задачи\n",
        "1. Построить графически результаты эксперимента. Сформулировать линейную регрессионную модель переменной $Y$ по переменной $X$. Построить МНК оценки параметров сдвига $\\beta_0$ и масштаба $\\beta_1$. Построить полученную линию регрессии. Оценить визуально соответствие полученных данных и построенной оценки.\n",
        "2. Построить и интерпретировать несмещённую оценку дисперсии. На базе ошибок построить гистограмму с шагом $h=2.10$. Проверить гипотезу нормальности ошибок на уровне значимости $\\alpha=0.20$ по $\\chi^2$. Оценить расстояние полученной оценки до класса нормальных распределений по Колмогорову. Визуально оценить данный факт.\n",
        "3. В предположении нормальности ошибок построить доверительные интервалы для параметров  $\\beta_0$ и  $\\beta_1$ уровня доверия $1 - \\alpha$. Построить доверительный эллипс уровня доверия $1 - \\alpha$ для ($\\beta_0$, $\\beta_1$) (вычислить его полуоси).\n",
        "4. Сформулировать гипотезу независимости переменной Y от переменной X. Провести проверку значимости.\n",
        "5. Сформулировать модель, включающую дополнительный член с $X^2$. Построить МНК оценки параметров  $\\beta_0$, $\\beta_1$, $\\beta_2$ в данной модели. Изобразить графически полученную регрессионную зависимость.\n",
        "6. Построить несмещённую оценку дисперсии. Провести исследование нормальности ошибок как в пункте 2.\n",
        "7. В предположении нормальности ошибок построить доверительные интервалы для параметров  $\\beta_0$, $\\beta_1$, $\\beta_2$ уровня доверия $1 - \\alpha$. Написать уравнение доверительного эллипсоида уровня доверия $1 - \\alpha$.\n",
        "8. Сформулировать гипотезу линейной регрессионной зависимости переменной Y от переменной X и проверить её значимость на уровне $\\alpha$."
      ]
    },
    {
      "cell_type": "markdown",
      "metadata": {
        "id": "5etEHwkY8bwx"
      },
      "source": [
        "## Выполнение работы\n",
        "### 1. Построить графические результаты эксперимента. Сформулировать линейную регрессионную модель перменной Y от переменной Х. Построить МНК оценки параметров сдвига $β_0$ и масштаба $β_1$. Построить полученную линию регрессии. Оценить визуально соответствие полученных данных и построенной оценки.\n",
        "\n",
        "Представим графически результаты эксперимента. Для этого воспользуемся визуализацией на языке R (см. график \"Результаты эксперимента\").\n",
        "\n",
        "\n",
        "\n",
        "\n",
        "\n",
        "\n"
      ]
    },
    {
      "cell_type": "code",
      "execution_count": 46,
      "metadata": {
        "colab": {
          "base_uri": "https://localhost:8080/",
          "height": 437
        },
        "id": "PW44GBwNGl4D",
        "outputId": "603ae2d8-ee86-47a5-ea2f-7a3d1c15a26e"
      },
      "outputs": [
        {
          "output_type": "display_data",
          "data": {
            "text/plain": [
              "Plot with title “Результаты эксперимента”"
            ],
            "image/png": "[encoded data removed]"
          },
          "metadata": {
            "image/png": {
              "width": 420,
              "height": 420
            }
          }
        }
      ],
      "source": [
        "Y <- c(4.47, 5.02, 1.82, 13.19, 13.50, 7.19, 1.76, 11.22, 12.82, 6.99, 11.99, 0.99, 10.20, 7.62, 15.90, 12.08, 6.13, 7.77, 7.12, 3.56, 9.69, 6.27, 2.26, 6.60, 6.56, 4.98, 4.21, 4.54, 4.35, 12.08, 3.99, 2.71, 1.03, 7.61, 10.68, 5.75, 4.28, 1.04, 3.27, 1.17, 13.41, 8.58, 5.96, 5.60, 7.90, 1.70, 1.67, 5.03, 2.31, 3.24)\n",
        "X <- c(0, 1, 5, 4, 6, 7, 2, 2, 5, 4, 0, 1, 3, 6, 7, 6, 7, 3, 6, 7, 1, 3, 2, 3, 5, 5, 3, 0, 0, 5, 5, 5, 1, 0, 5, 0, 4, 6, 4, 0, 6, 2, 3, 3, 2, 7, 2, 4, 0, 2)\n",
        "nums <- c(1, 2, 3, 4, 5, 6, 7, 8, 9, 10, 11, 12, 13, 14, 15, 16, 17, 18, 19, 20, 21, 22, 23, 24, 25, 26, 27, 28, 29, 30, 31, 32, 33, 34, 35, 36, 37, 38, 39, 40, 41, 42, 43, 44, 45, 46, 47, 48, 49, 50)\n",
        "vector_of_ones <- rep(1, 50)\n",
        "\n",
        "plot(X, Y, xlab = \"X\", ylab = \"Y\", main = \"Результаты эксперимента\")"
      ]
    },
    {
      "cell_type": "markdown",
      "metadata": {
        "id": "D1ijy77Vbqau"
      },
      "source": [
        "Линейную регрессионную модель можно представить в таком виде: $Y = X^Tβ+ϵ$, где в нашем случае:\n",
        "\\\n",
        "$ X =\n",
        "  \\left[ {\\begin{array}{cc}\n",
        "    1 & 1 & 1 & 1 & 1 & ... \\\\\n",
        "    0 & 1 & 5 & 4 & 6 & ... \\\\\n",
        "  \\end{array} } \\right]\n",
        "$, т.е. первая строка - единицы, вторая - значения Х из нашего эксперимента.\n",
        "\\\n",
        "$ β = \\left[ {\\begin{array}{cc}\n",
        "    β_0  \\\\\n",
        "    β_1 \\\\\n",
        "  \\end{array} } \\right] $, ϵ - неустранимая ошибка.\n",
        "\\\n",
        "\\\n",
        "Построим МНК-оценку для параметров (все вычисления воспроизводились с помощью языка R):\n",
        "\\\n",
        "1) $XX^T =\n",
        "  \\left[ {\\begin{array}{cc}\n",
        "    1 & 1 & 1 & 1 & 1 & ... \\\\\n",
        "    0 & 1 & 5 & 4 & 6 & ... \\\\\n",
        "  \\end{array} } \\right] ⋅\n",
        "  \\left[ {\\begin{array}{cc}\n",
        "    1 & 0 \\\\\n",
        "    1 & 1 \\\\\n",
        "    1 & 5 \\\\\n",
        "    1 & 4 \\\\\n",
        "    1 & 6 \\\\\n",
        "    ... & ...\n",
        "  \\end{array} } \\right] =\n",
        "  \\left[ {\\begin{array}{cc}\n",
        "    42925 & 4118 \\\\\n",
        "    4118 & 836 \\\\\n",
        "  \\end{array} } \\right] $\n",
        "\\\n",
        "2)$ (XX^T)^{-1} =\n",
        "\\left[ {\\begin{array}{cc}\n",
        "    4.417e-05 & -0.000218 \\\\\n",
        "    -0.000218 & 0.00227 \\\\\n",
        "\\end{array} } \\right] $\n",
        "\\\n",
        "3)$(XX^T)^{-1}XY =\n",
        "\\left[ {\\begin{array}{cc}\n",
        "    0.055 \\\\\n",
        "    1.174 \\\\\n",
        "\\end{array} } \\right] = \\widehat{β}$  \n",
        "\\\n",
        "$\\widehat{β}$ - это наша МНК оценка.\n",
        "\\\n",
        "\\\n",
        "Теперь построим на графике cполученную линию регрессии.\n"
      ]
    },
    {
      "cell_type": "code",
      "execution_count": 66,
      "metadata": {
        "colab": {
          "base_uri": "https://localhost:8080/",
          "height": 491
        },
        "id": "dJiBNf1QjvnR",
        "outputId": "0042d1f5-ec5f-40cf-e68f-1261d87629c4"
      },
      "outputs": [
        {
          "output_type": "stream",
          "name": "stdout",
          "text": [
            "                    [,1]\n",
            "vector_of_ones 4.7925860\n",
            "X              0.4716512\n"
          ]
        },
        {
          "output_type": "display_data",
          "data": {
            "text/plain": [
              "Plot with title “Результаты эксперимента”"
            ],
            "image/png": "[encoded data removed]"
          },
          "metadata": {
            "image/png": {
              "width": 420,
              "height": 420
            }
          }
        }
      ],
      "source": [
        "X_matrix <- rbind(vector_of_ones, X)\n",
        "\n",
        "beta <- solve(X_matrix %*% t(X_matrix)) %*% X_matrix %*% Y\n",
        "\n",
        "print(beta)\n",
        "\n",
        "f <- function(x) {\n",
        "  return(0.472 * x + 4.793)\n",
        "}\n",
        "\n",
        "y_reg <- f(X)\n",
        "\n",
        "plot(X, Y, xlab = \"X\", ylab = \"Y\", main = \"Результаты эксперимента\")\n",
        "lines(X, y_reg, col = \"blue\", lwd = 2)"
      ]
    },
    {
      "cell_type": "markdown",
      "metadata": {
        "id": "W6uJUZeScPZu"
      },
      "source": [
        "Если учитывать наличие неустранимой ошибки, с визуальной точки зрения полученная линия регрессии имеет схожесть с тем, как именно распределяются значения эксперимента. К тому же, ошибки находятся примерно в равной области с двух сторон от прямой."
      ]
    },
    {
      "cell_type": "markdown",
      "metadata": {
        "id": "siPm445jyvav"
      },
      "source": [
        "### 2) Построить и интерпретировать несмещённую оценку дисперсии. На базе ошибок построить гистограмму с шагом h. Проверить гипотезу нормальности ошибок на уровне значимости α по $χ^2$. Оценить расстояние полученной оценки класса нормальных распределений по Колмогорову. Визуально оценить данный факт.\n",
        "Воспользуемся формулой: $s^2 = \\frac{RSS(\\widehat{β})}{n-r}$, где\n",
        "\\\n",
        "$r = rankX$ = 2, n = 50,\n",
        "\\\n",
        "$RSS(\\widehat{β}) = \\sum_{i=1}^{n}(Y_i-\\widehat{Y_i})^2 = \\sum_{i=1}^{n}(Y_i - (\\widehat{β_0} + \\widehat{β_1}x_i)^2) = \\sum_{i=1}^{n}(Y_i - \\widehat{β_0} - \\widehat{β_1}x_i)^2 = 705.82$\n",
        "\\\n",
        "Подставив эти значения в формулу получим, что $s^2 = 14.7$\n",
        "\n",
        "\n",
        "\n"
      ]
    },
    {
      "cell_type": "code",
      "execution_count": 48,
      "metadata": {
        "colab": {
          "base_uri": "https://localhost:8080/"
        },
        "id": "A2E12-Ny34jR",
        "outputId": "d1fac26a-b668-48a8-874e-d51aa70e29bf"
      },
      "outputs": [
        {
          "output_type": "stream",
          "name": "stdout",
          "text": [
            "[1] 705.82\n"
          ]
        }
      ],
      "source": [
        "f_sum <- function(yC, xC) {\n",
        "  sum <- 0\n",
        "  for(i in 1:50){\n",
        "    sum <- sum + (yC[i] - 0.472 * xC[i] - 4.793)^2\n",
        "  }\n",
        "  return(sum)\n",
        "}\n",
        "\n",
        "rss <- f_sum(Y,X)\n",
        "\n",
        "print(rss)"
      ]
    },
    {
      "cell_type": "markdown",
      "metadata": {
        "id": "YLRIVfm0B5bN"
      },
      "source": [
        "Построим гистограмму с шагом h = 2.10 на базе ошибок. Для этого вычислим ошибку, основываясь на линии регресса и реальных значениях."
      ]
    },
    {
      "cell_type": "code",
      "execution_count": 67,
      "metadata": {
        "colab": {
          "base_uri": "https://localhost:8080/",
          "height": 437
        },
        "id": "SRITooBwNGtt",
        "outputId": "e985f6d4-b165-42fd-e030-4b0d9df93b17"
      },
      "outputs": [
        {
          "output_type": "display_data",
          "data": {
            "text/plain": [
              "Plot with title “Гистограмма”"
            ],
            "image/png": "[encoded data removed]"
          },
          "metadata": {
            "image/png": {
              "width": 420,
              "height": 420
            }
          }
        }
      ],
      "source": [
        "Y_errors <- Y - y_reg\n",
        "\n",
        "hist_obj <- hist(Y_errors, breaks = seq(min(Y_errors)-2.1, max(Y_errors)+2.1, by = 2.1), main = \"Гистограмма\", xlab = \"Значения ошибок\", ylab = \"Частота\")"
      ]
    },
    {
      "cell_type": "markdown",
      "metadata": {
        "id": "aYpP3E37LfCs"
      },
      "source": [
        "Теперь проверим теорию о нормальности ошибок на уровне значимости α по $χ^2$. Предпологая, что теория о нормальности ошибок означает \"Распределение ошибок - это нормальное распределение\", используем алгоритм для простой теории.\n",
        "\\\n",
        "$H_0: Φ ≡ F_0$ - основная теория, где $Φ$ - функция нормального распределения, а $F_0$ - функция распределения ошибок.\n",
        "\\\n",
        "$H_0: Φ(x) \\ne F_0(x)$ - альтернативная теория при некотором $x \\in ℝ$\n",
        "\\\n",
        "Сгруппируем данные в соответствие с гистограммой:\n",
        "\\\n",
        "\\begin{array}{|c|c|c|}\n",
        " \\hline\n",
        " j & I_j & ν_j \\\\\n",
        " \\hline\n",
        " 1 & (-8.685, -6.585] & 1  \\\\\n",
        " \\hline\n",
        " 2 & (-6.585, -4.485] & 3 \\\\  \n",
        " \\hline\n",
        " 3 & (-4.485, -2.385] & 12  \\\\\n",
        " \\hline\n",
        " 4 & (-2.385, -0.285] & 10 \\\\\n",
        " \\hline\n",
        " 5 & (-0.285, 1.815] & 9 \\\\\n",
        " \\hline\n",
        " 6 & (1.815, 3.915] & 4 \\\\\n",
        " \\hline\n",
        " 7 & (3.915, 6.015] & 8  \\\\  \n",
        " \\hline\n",
        " 8 & (6.015, 8.115] & 3  \\\\  \n",
        " \\hline\n",
        "\\end{array}\n",
        "\\\n",
        "Статистику критерия хи-квадрат можно вычислить по формуле: $χ^2 = \\sum_{j=1}^{r}\\frac{(ν_j-np_{j0})^2}{np_{j0}}$\n",
        "\\\n",
        "$p_{0j}$ - гипотетические вероятности попадания в интервалы, вычисляемые по формуле: $Φ(I_j) = Φ(b) - Φ(a)$, предполагается, что $e⁓𝒩(0, s^2E)$, где Е - это единичная матрица, а e - матрица неустранимых ошибок\n",
        "\\\n",
        "Составим таблицу, в которую занесём вычисленные значения для $p_{0j}$ и статистики (вычисления сделаны на языке R, см. ниже):\n",
        "\\\n",
        "\\begin{array}{|c|c|c|}\n",
        " \\hline\n",
        " j & p_{j0} & \\frac{(ν_j-np_{j0})^2}{np_{j0}} \\\\\n",
        " \\hline\n",
        " 1 & 0.03119433 & 0.201295842  \\\\\n",
        " \\hline\n",
        " 2 & 0.07810118 & 0.210035898 \\\\  \n",
        " \\hline\n",
        " 3 & 0.14590743 & 3.034362447  \\\\\n",
        " \\hline\n",
        " 4 & 0.20341998 & 0.002825541 \\\\\n",
        " \\hline\n",
        " 5 & 0.21165968 & 0.236313314 \\\\\n",
        " \\hline\n",
        " 6 & 0.16436707 & 2.164741633 \\\\\n",
        " \\hline\n",
        " 7 & 0.09525752 & 2.199221499  \\\\  \n",
        " \\hline\n",
        " 8 & 0.04119456 & 0.428351187  \\\\\n",
        " \\hline\n",
        "\\end{array}\n",
        "\\\n",
        "Отсюда следует, что $χ^2 = 8.477147$.\n",
        "\n",
        "\n",
        "\n",
        "\n",
        "\n"
      ]
    },
    {
      "cell_type": "code",
      "execution_count": 50,
      "metadata": {
        "colab": {
          "base_uri": "https://localhost:8080/"
        },
        "id": "jvrnXyzepf8O",
        "outputId": "5d821c89-4999-434a-b34b-c9cddd3e76e0"
      },
      "outputs": [
        {
          "output_type": "stream",
          "name": "stdout",
          "text": [
            "[1] 8.477147\n"
          ]
        }
      ],
      "source": [
        "leftInterval <- c(-8.685, -6.585, -4.485, -2.385, -0.285, 1.815, 3.915, 6.015)\n",
        "rightInterval <- c(-6.585, -4.485, -2.385, -0.285, 1.815, 3.915, 6.015, 8.115)\n",
        "freq <- c(1, 3, 12, 10, 9, 4, 8, 3)\n",
        "\n",
        "f_dnorm <- function(lI, rI){\n",
        "  result <- rep(NA, times = 8)\n",
        "  for(i in 1:8){\n",
        "    result[i] <- pnorm(rI[i], 0, 14.705^0.5) - pnorm(lI[i], 0, 14.705^0.5)\n",
        "  }\n",
        "  return(result)\n",
        "}\n",
        "\n",
        "p0j <- f_dnorm(leftInterval, rightInterval)\n",
        "\n",
        "stat_crit <- function(p0jc, freqc){\n",
        "  result <- rep(NA, times = 8)\n",
        "  for(i in 1:8){\n",
        "    result[i] <- ((freqc[i] - 50 * p0jc[i])^2)/(50 * p0jc[i])\n",
        "  }\n",
        "  return(result)\n",
        "}\n",
        "\n",
        "X2 <- sum(stat_crit(p0j, freq))\n",
        "print(X2)"
      ]
    },
    {
      "cell_type": "markdown",
      "source": [
        "$x_α: K_{r-1}(x_α) = 1 - α = 1 - 0.2 = 0.8$\n",
        "\\\n",
        "Таким образом, используя язык R, находим, что квантиль $x_α$ хи-квадрата в данном случае будет равен 9.80325.\n",
        "\\\n",
        "$x_α > χ^2 ⇒ $ гипотеза принимается, т.е. $e ∼ 𝒩(0, 14.7)$.\n"
      ],
      "metadata": {
        "id": "tTspk5LL9QXq"
      }
    },
    {
      "cell_type": "code",
      "source": [
        "x_a <- qchisq(0.8, 7)\n",
        "print(x_a)"
      ],
      "metadata": {
        "colab": {
          "base_uri": "https://localhost:8080/"
        },
        "id": "49cgEfN-__TA",
        "outputId": "6de28f55-40d8-4e89-b0ae-b7c81f9ac976"
      },
      "execution_count": 68,
      "outputs": [
        {
          "output_type": "stream",
          "name": "stdout",
          "text": [
            "[1] 9.80325\n"
          ]
        }
      ]
    },
    {
      "cell_type": "markdown",
      "source": [
        "Теперь оценим расстояние полученной оценки класса нормальных распределений по Колмогорову. Снова предмолагаем, что:\n",
        "\\\n",
        "$H_0: Φ ≡ F_0$ - основная теория, где $Φ$ - функция нормального распределения, а $F_0$ - функция распределения ошибок, причём $e ∼ 𝒩(0, 14.7)$.\n",
        "\\\n",
        "$H_0: Φ(x) \\ne F_0(x)$ - альтернативная теория при некотором $x \\in ℝ$\n",
        "\\\n",
        "Статистика критерия Колмагорова будет определяться как: $D_n = sup_{x \\in ℝ}|{e_x - Φ(x)}|$\n",
        "\\\n",
        "Сам же критерий Колмагорова уровня значимости α определяется как:\n",
        "\\\n",
        "$\\widetilde{ϕ} = \\left\\{\n",
        "\\begin{array}{lr}\n",
        "  0, \\space при \\space D_n \\le x_α \\\\\n",
        "  1, \\space при \\space D_n \\gt x_α\n",
        "\\end{array}\n",
        "\\right.$, в это случае $x_α$ будет определяться как: $K_n(x_α) = 1 - \\alpha = 0.8$\n",
        "\\\n",
        "Определим, чему будет равно $x_α$ и $D_n$ с помощью встроенной функции языка R. Эта функция возвращает нам значение p-value, которое обозначает минимальную уровень доверия, при котором наша теория отвергается."
      ],
      "metadata": {
        "id": "n0o7u70OETHy"
      }
    },
    {
      "cell_type": "code",
      "source": [
        "ks.test(Y_errors, \"pnorm\")"
      ],
      "metadata": {
        "colab": {
          "base_uri": "https://localhost:8080/",
          "height": 126
        },
        "id": "2NF4eujKgDKg",
        "outputId": "7f5ad982-d766-4847-81f6-1a6add4714f8"
      },
      "execution_count": 52,
      "outputs": [
        {
          "output_type": "display_data",
          "data": {
            "text/plain": [
              "\n",
              "\tExact one-sample Kolmogorov-Smirnov test\n",
              "\n",
              "data:  Y_errors\n",
              "D = 0.35541, p-value = 3.71e-06\n",
              "alternative hypothesis: two-sided\n"
            ]
          },
          "metadata": {}
        }
      ]
    },
    {
      "cell_type": "markdown",
      "source": [
        "Так как p-value < α, то наша теория будет опровергаться по Колмагорову. Теперь визуально оценим, полученный факт. Из графика, построенного ниже, видно, что в некоторых местах функция распределения ошибки достаточно сильно отклоняется от нормального распределения. Особенно это заметно в промежутке от нуля до восьми."
      ],
      "metadata": {
        "id": "riGcUor-XW4A"
      }
    },
    {
      "cell_type": "code",
      "source": [
        "Fn <- function(x) {\n",
        "  Ye <- c(-0.323, -0.245, -5.333, 6.509, 5.875, -0.907, -3.977, 5.483, 5.667, 0.309, 7.197, -4.275, 3.991, -0.005, 7.803, 4.455, -1.967, 1.561, -0.505, -4.537, 4.425, 0.061, -3.477, 0.391, -0.593, -2.173, -1.999, -0.253, -0.443, 4.927, -3.163, -4.443, -4.235, 2.817, 3.527, 0.957, -2.401, -6.585, -3.411, -3.623, 5.785, 2.843, -0.249, -0.609, 2.163, -6.397, -4.067, -1.651, -2.483, -2.497)\n",
        "\n",
        "  sm <- sum(Ye < x)\n",
        "  return(sm / 50)\n",
        "}\n",
        "\n",
        "x_val <- seq(-8, 10, 0.001)\n",
        "y_err <- sapply(x_val, Fn)\n",
        "y_norm <- pnorm(x_val, mean = 0, sd = sqrt(14.7))\n",
        "\n",
        "plot(x_val, y_err, type = 'l', col = 'blue', xlab = 'x', ylab = 'y', main = 'Функция распределения ошибки и нормального распределения')\n",
        "lines(x_val, y_norm, col = 'red', lty = 2)"
      ],
      "metadata": {
        "colab": {
          "base_uri": "https://localhost:8080/",
          "height": 437
        },
        "id": "cDByVzgMYLp1",
        "outputId": "7692e8a6-484a-460a-df8d-a3a7c168c8ba"
      },
      "execution_count": 53,
      "outputs": [
        {
          "output_type": "display_data",
          "data": {
            "text/plain": [
              "Plot with title “Функция распределения ошибки и нормального распределения”"
            ],
            "image/png": "[encoded data removed]"
          },
          "metadata": {
            "image/png": {
              "width": 420,
              "height": 420
            }
          }
        }
      ]
    },
    {
      "cell_type": "markdown",
      "source": [
        "###3) В предположении нормальности ошибок построить доверительные интервалы для праметров $β_0$ и $β_1$ уровня доверия 1 - α. Построить доверительный эллипс уровня доверия 1 - α для ($β_0$, $β_1$).\n",
        "Построим доверительный интервал (промежуточные вычисления представлены в коде ниже):\n",
        "\\\n",
        "$Ψ_{β0} =\n",
        "\\left[ {\\begin{array}{cc}\n",
        "    1  \\\\\n",
        "    0 \\\\\n",
        "\\end{array} } \\right]^T\n",
        "\\\n",
        "\\left[ {\\begin{array}{cc}\n",
        "  β_0  \\\\\n",
        "  β_1 \\\\\n",
        "\\end{array} } \\right]\n",
        "\\\n",
        "Ψ_{β1} =\n",
        "\\left[ {\\begin{array}{cc}\n",
        "    0  \\\\\n",
        "    1 \\\\\n",
        "\\end{array} } \\right]^T\n",
        "\\\n",
        "\\left[ {\\begin{array}{cc}\n",
        "  β_0  \\\\\n",
        "  β_1 \\\\\n",
        "\\end{array} } \\right]$\n",
        "\\\n",
        "\\\n",
        "$b_{Ψ} = C^T(XX^T)^{-1}C$\n",
        "\\\n",
        "$b_{Ψ_{β_0}} = 0.065$\n",
        "\\\n",
        "$b_{Ψ_{β_1}} = 0.004$\n",
        "\\\n",
        "\\\n",
        "$\\widehat{Ψ} = C^T\n",
        "\\\n",
        "\\left[ {\\begin{array}{cc}\n",
        "  \\widehat{β_0}  \\\\\n",
        "  \\widehat{β_1} \\\\\n",
        "\\end{array} } \\right]$\n",
        "\\\n",
        "$\\widehat{Ψ_{β_0}} = 4.793$\n",
        "\\\n",
        "$\\widehat{Ψ_{β_1}} = 0.472$\n",
        "\\\n",
        "\\\n",
        "Известно, что: $\\frac{\\widehat{Ψ} - Ψ}{s\\sqrt{b_Ψ}} \\sim S_{n-r}$. Таким образом, доверительный интервал будет равен:\n",
        "\\\n",
        "$Ψ \\in [\\widehat{Ψ_β} - x_αs\\sqrt{b}, \\widehat{Ψ_β} + x_αs\\sqrt{b}]$, где $x_α: S_{n-r}(x_α) = 1 - \\frac{α}{2} = 0.9$\n",
        "\\\n",
        "Используя язык R получаем, что $x_α = 1,299$, таким образом:\n",
        "\\\n",
        "\\\n",
        "Доверительный интервал $β_0$: от 3.524698 до 6.061302\n",
        "\\\n",
        "Доверительный интервал $β_1$: от 0.1618265 до 0.7821735"
      ],
      "metadata": {
        "id": "hOPg6Q54E6K3"
      }
    },
    {
      "cell_type": "code",
      "source": [
        "C0 <- c(1, 0)\n",
        "C1 <- c(0, 1)\n",
        "\n",
        "b0 <- t(C0) %*% solve(X_matrix %*% t(X_matrix)) %*% C0\n",
        "b1 <- t(C1) %*% solve(X_matrix %*% t(X_matrix)) %*% C1\n",
        "\n",
        "cat(\"b0:\",b0,\"\\n\")\n",
        "cat(\"b1:\",b1,\"\\n\")\n",
        "\n",
        "x_a <- qt(0.9, 48)\n",
        "\n",
        "cat(\"x_a:\",x_a,\"\\n\")\n",
        "cat(\"Доверительный интервал beta-0: от\", 4.793 - x_a * sqrt(14.7 * b0), \"до\", 4.793 + x_a * sqrt(14.7 * b0), \"\\n\")\n",
        "cat(\"Доверительный интервал beta-1: от\", 0.472 - x_a * sqrt(14.7 * b1), \"до\", 0.472 + x_a * sqrt(14.7 * b1), \"\\n\")"
      ],
      "metadata": {
        "colab": {
          "base_uri": "https://localhost:8080/"
        },
        "id": "CyPC1e8FH7eh",
        "outputId": "a600d06c-1138-4588-e52b-79f23ad8e05b"
      },
      "execution_count": 54,
      "outputs": [
        {
          "output_type": "stream",
          "name": "stdout",
          "text": [
            "b0: 0.0648062 \n",
            "b1: 0.003875969 \n",
            "x_a: 1.299439 \n",
            "Доверительный интервал beta-0: от 3.524698 до 6.061302 \n",
            "Доверительный интервал beta-1: от 0.1618265 до 0.7821735 \n"
          ]
        }
      ]
    },
    {
      "cell_type": "markdown",
      "source": [
        "Теперь построим доверительные эллипсоиды уровня доверия 1 - α для параметров.\n",
        "\\\n",
        "$A_α = \\{\\vec{x}: (\\vec{x} - \\widehat{Ψ})^T B^{-1} (\\vec{x} - \\widehat{Ψ}) \\le qs^2x_α \\}$, где $x_α: F_{q,n-r}(x_α) = 1 - α$, $\\space B = C^T(XX^T)^{-1}C$\n",
        "\\\n",
        "Чтобы построить эллипс для обоих параметров надо взять $C = E$, тогда после несложных преобразований получим, что $B = XX^T$.\n",
        "\\\n",
        "Найдём $x_α$, такой что $F_{2,48}(x_α)=0.8$. Используем для этого язык R.\n"
      ],
      "metadata": {
        "id": "URT9vEigWs3_"
      }
    },
    {
      "cell_type": "code",
      "source": [
        "x_a <- qf(0.8,2,48)\n",
        "x_a"
      ],
      "metadata": {
        "colab": {
          "base_uri": "https://localhost:8080/",
          "height": 34
        },
        "id": "5ZTS2fm3c_61",
        "outputId": "7b397566-a607-4e06-b0e6-49b8c3e858f9"
      },
      "execution_count": 55,
      "outputs": [
        {
          "output_type": "display_data",
          "data": {
            "text/html": [
              "1.66462907551485"
            ],
            "text/markdown": "1.66462907551485",
            "text/latex": "1.66462907551485",
            "text/plain": [
              "[1] 1.664629"
            ]
          },
          "metadata": {}
        }
      ]
    },
    {
      "cell_type": "markdown",
      "source": [
        "Построим уравнение эллипса:\n",
        "\\\n",
        "$\\left( \\left[ {\\begin{array}{cc}\n",
        "    x  \\\\\n",
        "    y \\\\\n",
        "\\end{array} } \\right]-\n",
        "\\left[ {\\begin{array}{cc}\n",
        "    4.793  \\\\\n",
        "    0.472 \\\\\n",
        "\\end{array} } \\right] \\right)^T\n",
        "\\left[ {\\begin{array}{cc}\n",
        "    50 & 170 \\\\\n",
        "    170 & 836 \\\\\n",
        "\\end{array} } \\right]\n",
        "\\left(\\left[ {\\begin{array}{cc}\n",
        "    x  \\\\\n",
        "    y \\\\\n",
        "\\end{array} } \\right]-\n",
        "\\left[ {\\begin{array}{cc}\n",
        "    4.793  \\\\\n",
        "    0.472 \\\\\n",
        "\\end{array} } \\right]\\right) \\le 2 ⋅ 14.7 ⋅ 1.665$. Отсюда следует:\n",
        "\\\n",
        "$50x^2 + 836y^2 + 340xy - 459.78x - 2418.804y +2104.073 \\le 48.951$\n",
        "\\\n",
        "\\\n",
        "Чтобы найти полуоси воспользуемся ортогональным преобразованием. Переведём коэффициенты квадратичной формы в виде матрицы и найдём собственные числа:\n",
        "\\\n",
        "$A = \\left| {\\begin{array}{cc}\n",
        "    50 - λ & 170 \\\\\n",
        "    170 & 836 - λ\\\\\n",
        "\\end{array} } \\right| = 0$\n",
        "\\\n",
        "$14.8x^2 + 871.193y^2 \\le 48.951$\n",
        "\\\n",
        "$0.302x^2 + 17.792y^2 \\le 1$\n",
        "\\\n",
        "Большая полуось: $a = \\frac{1}{\\sqrt{0.302}} = 1.768$\n",
        "\\\n",
        "Малая полуось: $b = \\frac{1}{\\sqrt{17.792}} = 0.237$\n",
        "\n"
      ],
      "metadata": {
        "id": "BxHrZ0V8gFiv"
      }
    },
    {
      "cell_type": "markdown",
      "source": [
        "###4) Сформулировать гипотезу независимости переменной Y от переменной X. Провести проверку значимости.\n",
        "F-статистика: $F = \\frac{SS_Н/q}{SS_e/(n-r)}$, где $SS_Н = RSS(\\widehat{β_Н}) - RSS(\\widehat{β_Н})$, $\\widehat{β_Н}$ - МНК-оценка параметров при выполнении основной гипотезы, $SS_e = RSS(\\widehat{β})$\n",
        "\\\n",
        "Найдём F-статистику и границу критической области $x_α$ с помощью R:\n",
        "\\\n",
        "$F = 6.32 \\quad x_α = 1.665$\n",
        "\\\n",
        "\\\n",
        "Т.к. $F > x_α$, отвергаем нулевую теорию"
      ],
      "metadata": {
        "id": "9QTzLtlkvjUG"
      }
    },
    {
      "cell_type": "code",
      "source": [
        "betaH <- beta\n",
        "betaH[2] <- 0\n",
        "\n",
        "rssH <- t(Y - t(X_matrix) %*% betaH) %*% (Y - t(X_matrix) %*% betaH)\n",
        "ssH <- rssH - rss\n",
        "\n",
        "fStat <- (ssH/2)/(rss/48)\n",
        "\n",
        "cat(\"F-статистика:\", fStat, \"\\n\")\n",
        "cat(\"x_a:\", qf(0.8, 2, 48), \"\\n\")"
      ],
      "metadata": {
        "colab": {
          "base_uri": "https://localhost:8080/"
        },
        "id": "f4mZdefK6uwI",
        "outputId": "696b86b2-9dd7-41c6-b518-3117f90ec472"
      },
      "execution_count": 56,
      "outputs": [
        {
          "output_type": "stream",
          "name": "stdout",
          "text": [
            "F-статистика: 6.323609 \n",
            "x_a: 1.664629 \n"
          ]
        }
      ]
    },
    {
      "cell_type": "markdown",
      "source": [
        "###5) Сформулировать модель, включающую дополнительный член с $X^2$. Построить МНК оценки параметров $β_{0},β_{1},β_{2}$ в данной модели. Изобразить графически полученную регрессионную зависимость.\n",
        "\n",
        "\n",
        "Теперь регрессионная модель будет выглядеть следующим образом: $Y = β_{2}X^2 + β_{1}X + β_{0} + ϵ$, а матрица X будет выглядеть следующим образом:\n",
        "\\\n",
        "$ X =\n",
        "  \\left[ {\\begin{array}{cc}\n",
        "    1 & 1 & 1 & 1 & 1 & ... \\\\\n",
        "    0 & 1 & 5 & 4 & 6 & ... \\\\\n",
        "    0 & 1 & 25 & 16 & 36 & ...\n",
        "  \\end{array} } \\right]\n",
        "$\n",
        "\\\n",
        "\\\n",
        "Нахождение МНК-оценки параметров будет аналогичным 1 пункту.\n",
        "\\\n",
        "$\\widehat{β} = \\left[ {\\begin{array}{cc}\n",
        "    4.748 \\\\\n",
        "    0.52 \\\\\n",
        "    -0.007\n",
        "\\end{array} } \\right] $"
      ],
      "metadata": {
        "id": "ExXIoy0x_lAu"
      }
    },
    {
      "cell_type": "code",
      "source": [
        "X_matrix <- rbind(vector_of_ones, X, X^2)\n",
        "\n",
        "beta <- solve(X_matrix %*% t(X_matrix)) %*% X_matrix %*% Y\n",
        "\n",
        "print(beta)\n",
        "\n",
        "f <- function(x) {\n",
        "  return(-0.007 * x^2 + 0.52 * x + 4.748)\n",
        "}\n",
        "\n",
        "y_reg <- f(X)\n",
        "\n",
        "plot(X, Y, xlab = \"X\", ylab = \"Y\", main = \"Результаты эксперимента\")\n",
        "lines(X, y_reg, col = \"blue\", lwd = 2)"
      ],
      "metadata": {
        "colab": {
          "base_uri": "https://localhost:8080/",
          "height": 510
        },
        "id": "TN9zkq6pBBBJ",
        "outputId": "decd7ebe-d592-437f-80f4-a4d68d189e7d"
      },
      "execution_count": 69,
      "outputs": [
        {
          "output_type": "stream",
          "name": "stdout",
          "text": [
            "                       [,1]\n",
            "vector_of_ones  4.748293379\n",
            "X               0.519931637\n",
            "               -0.007168717\n"
          ]
        },
        {
          "output_type": "display_data",
          "data": {
            "text/plain": [
              "Plot with title “Результаты эксперимента”"
            ],
            "image/png": "[encoded data removed]"
          },
          "metadata": {
            "image/png": {
              "width": 420,
              "height": 420
            }
          }
        }
      ]
    },
    {
      "cell_type": "markdown",
      "source": [
        "###6) Построить несмещённую оценку дисперсии. Провести исследование нормальности ошибок как в пункте 2.\n",
        "Теперь $r = rankX = 3$\n",
        "\\\n",
        "$RSS(\\widehat{β}) = \\sum_{i=1}^{n}(Y_i - \\widehat{β_0} - \\widehat{β_1}x_i - \\widehat{β_1}x_i^2)^2 = 648.37$\n",
        "\\\n",
        "$s^2 = \\frac{648.37}{47} = 13.79$"
      ],
      "metadata": {
        "id": "oKdPxoEgFlzG"
      }
    },
    {
      "cell_type": "code",
      "source": [
        "f_sum <- function(yC, xC) {\n",
        "  sum <- 0\n",
        "  for(i in 1:50){\n",
        "    sum <- sum + (yC[i] - 0.472 * -0.007 * xC[i]^2 + 0.52 * xC[i] + 4.748)\n",
        "  }\n",
        "  return(sum)\n",
        "}\n",
        "\n",
        "rss <- f_sum(Y,X)\n",
        "\n",
        "print(rss)"
      ],
      "metadata": {
        "colab": {
          "base_uri": "https://localhost:8080/"
        },
        "id": "RhmH6V7mF85y",
        "outputId": "eec3c443-8963-4398-c7b5-9dde1fb74bb4"
      },
      "execution_count": 58,
      "outputs": [
        {
          "output_type": "stream",
          "name": "stdout",
          "text": [
            "[1] 648.3721\n"
          ]
        }
      ]
    },
    {
      "cell_type": "markdown",
      "source": [
        "Построим гистограмму с шагом h = 2.10 на базе ошибок."
      ],
      "metadata": {
        "id": "phllyqIgHE9b"
      }
    },
    {
      "cell_type": "code",
      "source": [
        "Y_errors <- Y - y_reg\n",
        "\n",
        "hist_obj <- hist(Y_errors, breaks = seq(min(Y_errors)-2.1, max(Y_errors)+2.1, by = 2.1), main = \"Гистограмма\", xlab = \"Значения ошибок\", ylab = \"Частота\")"
      ],
      "metadata": {
        "colab": {
          "base_uri": "https://localhost:8080/",
          "height": 437
        },
        "id": "6lyfBrLYHHWZ",
        "outputId": "1e19adc3-f44e-4579-917d-a196cd253504"
      },
      "execution_count": 70,
      "outputs": [
        {
          "output_type": "display_data",
          "data": {
            "text/plain": [
              "Plot with title “Гистограмма”"
            ],
            "image/png": "[encoded data removed]"
          },
          "metadata": {
            "image/png": {
              "width": 420,
              "height": 420
            }
          }
        }
      ]
    },
    {
      "cell_type": "markdown",
      "source": [
        "$H_0: Φ ≡ F_0$ - основная теория, где $Φ$ - функция нормального распределения, а $F_0$ - функция распределения ошибок.\n",
        "\\\n",
        "$H_0: Φ(x) \\ne F_0(x)$ - альтернативная теория при некотором $x \\in ℝ$\n",
        "\\\n",
        "Сгруппируем данные в соответствие с гистограммой:\n",
        "\\\n",
        "\\begin{array}{|c|c|c|}\n",
        " \\hline\n",
        " j & I_j & ν_j \\\\\n",
        " \\hline\n",
        " 1 & (-8.676, -6.576] & 1  \\\\\n",
        " \\hline\n",
        " 2 & (-6.576, -4.476] & 3 \\\\  \n",
        " \\hline\n",
        " 3 & (-4.476, -2.376] & 12  \\\\\n",
        " \\hline\n",
        " 4 & (-2.376, -0.276] & 11 \\\\\n",
        " \\hline\n",
        " 5 & (-0.276, 1.824] & 8 \\\\\n",
        " \\hline\n",
        " 6 & (1.824, 3.924] & 4 \\\\\n",
        " \\hline\n",
        " 7 & (3.924, 6.024] & 8  \\\\  \n",
        " \\hline\n",
        " 8 & (6.024, 8.124] & 3  \\\\  \n",
        " \\hline\n",
        "\\end{array}\n",
        "\\\n",
        "Статистику критерия хи-квадрат можно вычислить по формуле: $χ^2 = \\sum_{j=1}^{r}\\frac{(ν_j-np_{j0})^2}{np_{j0}}$\n",
        "\\\n",
        "$p_{0j}$ - гипотетические вероятности попадания в интервалы, вычисляемые по формуле: $Φ(I_j) = Φ(b) - Φ(a)$, предполагается, что $e⁓𝒩(0, s^2E)$, где Е - это единичная матрица, а e - матрица неустранимых ошибок\n",
        "\\\n",
        "Отсюда следует, что $χ^2 = 9.316633$."
      ],
      "metadata": {
        "id": "p7ZFX3tIKMc8"
      }
    },
    {
      "cell_type": "code",
      "source": [
        "leftInterval <- c(-8.676, -6.576, -4.476, -2.376, -0.276, 1.824, 3.924, 6.024)\n",
        "rightInterval <- c(-6.576, -4.476, -2.376, -0.276, 1.824, 3.924, 6.024, 8.124)\n",
        "freq <- c(1, 3, 12, 11, 8, 4, 8, 3)\n",
        "\n",
        "f_dnorm <- function(lI, rI){\n",
        "  result <- rep(NA, times = 8)\n",
        "  for(i in 1:8){\n",
        "    result[i] <- pnorm(rI[i], 0, 13.79^0.5) - pnorm(lI[i], 0, 13.79^0.5)\n",
        "  }\n",
        "  return(result)\n",
        "}\n",
        "\n",
        "p0j <- f_dnorm(leftInterval, rightInterval)\n",
        "\n",
        "stat_crit <- function(p0jc, freqc){\n",
        "  result <- rep(NA, times = 8)\n",
        "  for(i in 1:8){\n",
        "    result[i] <- ((freqc[i] - 50 * p0jc[i])^2)/(50 * p0jc[i])\n",
        "  }\n",
        "  return(result)\n",
        "}\n",
        "\n",
        "X2 <- sum(stat_crit(p0j, freq))\n",
        "print(X2)"
      ],
      "metadata": {
        "colab": {
          "base_uri": "https://localhost:8080/"
        },
        "id": "fqEvyjc-KNex",
        "outputId": "2aba6948-f012-4ebd-bc31-969ad27cbe06"
      },
      "execution_count": 60,
      "outputs": [
        {
          "output_type": "stream",
          "name": "stdout",
          "text": [
            "[1] 9.316633\n"
          ]
        }
      ]
    },
    {
      "cell_type": "markdown",
      "source": [
        "$x_α: K_{r-1}(x_α) = 1 - α = 1 - 0.2 = 0.8$\n",
        "\\\n",
        "$x_α$ в данном случае также будет равен 9.80325.\n",
        "\\\n",
        "$x_α > χ^2 ⇒ $ гипотеза принимается, т.е. $e ∼ 𝒩(0, 13.79)$."
      ],
      "metadata": {
        "id": "0SfTgec8LVdN"
      }
    },
    {
      "cell_type": "markdown",
      "source": [
        "Теперь оценим расстояние полученной оценки класса нормальных распределений по Колмогорову."
      ],
      "metadata": {
        "id": "HofN3s2xMI0v"
      }
    },
    {
      "cell_type": "code",
      "source": [
        "ks.test(Y_errors, \"pnorm\")"
      ],
      "metadata": {
        "colab": {
          "base_uri": "https://localhost:8080/",
          "height": 126
        },
        "id": "3-wXLydcMfYJ",
        "outputId": "edcd568f-4739-402e-a4b1-d216c5081627"
      },
      "execution_count": 61,
      "outputs": [
        {
          "output_type": "display_data",
          "data": {
            "text/plain": [
              "\n",
              "\tExact one-sample Kolmogorov-Smirnov test\n",
              "\n",
              "data:  Y_errors\n",
              "D = 0.3541, p-value = 4.096e-06\n",
              "alternative hypothesis: two-sided\n"
            ]
          },
          "metadata": {}
        }
      ]
    },
    {
      "cell_type": "markdown",
      "source": [
        "Так как p-value < α, то наша теория будет опровергаться по Колмагорову. Визуализируем полученный результат."
      ],
      "metadata": {
        "id": "pvXVAV7LMlLb"
      }
    },
    {
      "cell_type": "code",
      "source": [
        "Fn <- function(x) {\n",
        "  Ye <- c(-0.278, -0.241, -5.353, 6.474, 5.884, -0.855, -4, 5.46, 5.647, 0.274, 7.242, -4.271, 3.955, 0.004, 7.855, 4.464, -1.915, 1.525, -0.496, -4.485, 4.429, 0.025, -3.5, 0.355, -0.613, -2.193, -2.035, -0.208, -0.398, 4.907, -3.183, -4.463, -4.231, 2.862, 3.507, 1.002, -2.436, -6.576, -3.446, -3.578, 5.794, 2.82, -0.285, -0.645, 2.14, -6.345, -4.09, -1.686, -2.438, -2.52)\n",
        "\n",
        "  sm <- sum(Ye < x)\n",
        "  return(sm / 50)\n",
        "}\n",
        "\n",
        "x_val <- seq(-8, 10, 0.001)\n",
        "y_err <- sapply(x_val, Fn)\n",
        "y_norm <- pnorm(x_val, mean = 0, sd = sqrt(13.79))\n",
        "\n",
        "plot(x_val, y_err, type = 'l', col = 'blue', xlab = 'x', ylab = 'y', main = 'Функция распределения ошибки и нормального распределения')\n",
        "lines(x_val, y_norm, col = 'red', lty = 2)"
      ],
      "metadata": {
        "colab": {
          "base_uri": "https://localhost:8080/",
          "height": 437
        },
        "id": "eKeSiW6-Mtv0",
        "outputId": "55165ff2-371b-4cd5-de3e-f1a4181d4f91"
      },
      "execution_count": 62,
      "outputs": [
        {
          "output_type": "display_data",
          "data": {
            "text/plain": [
              "Plot with title “Функция распределения ошибки и нормального распределения”"
            ],
            "image/png": "[encoded data removed]"
          },
          "metadata": {
            "image/png": {
              "width": 420,
              "height": 420
            }
          }
        }
      ]
    },
    {
      "cell_type": "markdown",
      "source": [
        "###7)В предположении нормальности ошибок построить доверительные интервалы для параметров $β_{0},β_{1},β_{2}$ уровня доверия 1 - α. Написать уравнение доверительного эллипсоида уровня доверия 1 - α.\n",
        "Построим доверительный интервал (промежуточные вычисления представлены в коде ниже):\n",
        "\\\n",
        "$Ψ_{β0} =\n",
        "\\left[ {\\begin{array}{cc}\n",
        "    1  \\\\\n",
        "    0 \\\\\n",
        "    0\n",
        "\\end{array} } \\right]^T\n",
        "\\\n",
        "\\left[ {\\begin{array}{cc}\n",
        "  β_0  \\\\\n",
        "  β_1 \\\\\n",
        "  β_2\n",
        "\\end{array} } \\right]\n",
        "\\\n",
        "Ψ_{β1} =\n",
        "\\left[ {\\begin{array}{cc}\n",
        "    0  \\\\\n",
        "    1 \\\\\n",
        "    0\n",
        "\\end{array} } \\right]^T\n",
        "\\\n",
        "\\left[ {\\begin{array}{cc}\n",
        "  β_0  \\\\\n",
        "  β_1 \\\\\n",
        "  β_2\n",
        "\\end{array} } \\right]\n",
        "\\\n",
        "Ψ_{β2} =\n",
        "\\left[ {\\begin{array}{cc}\n",
        "    0  \\\\\n",
        "    0 \\\\\n",
        "    1\n",
        "\\end{array} } \\right]^T\n",
        "\\\n",
        "\\left[ {\\begin{array}{cc}\n",
        "  β_0  \\\\\n",
        "  β_1 \\\\\n",
        "  β_2\n",
        "\\end{array} } \\right]$\n",
        "\\\n",
        "\\\n",
        "$b_{Ψ} = C^T(XX^T)^{-1}C$\n",
        "\\\n",
        "$b_{Ψ_{β_0}} = 0.101$\n",
        "\\\n",
        "$b_{Ψ_{β_1}} = 0.047$\n",
        "\\\n",
        "$b_{Ψ_{β_2}} = 0.00094$\n",
        "\\\n",
        "\\\n",
        "$\\widehat{Ψ} = C^T\n",
        "\\\n",
        "\\left[ {\\begin{array}{cc}\n",
        "  \\widehat{β_0}  \\\\\n",
        "  \\widehat{β_1} \\\\\n",
        "\\end{array} } \\right]$\n",
        "\\\n",
        "$\\widehat{Ψ_{β_0}} = 4.748$\n",
        "\\\n",
        "$\\widehat{Ψ_{β_1}} = 0.52$\n",
        "\\\n",
        "$\\widehat{Ψ_{β_2}} = -0.007$\n",
        "\\\n",
        "Известно, что: $\\frac{\\widehat{Ψ} - Ψ}{s\\sqrt{b_Ψ}} \\sim S_{n-r}$. Таким образом, доверительный интервал будет равен:\n",
        "\\\n",
        "$Ψ \\in [\\widehat{Ψ_β} - x_αs\\sqrt{b}, \\widehat{Ψ_β} + x_αs\\sqrt{b}]$, где $x_α: S_{n-r}(x_α) = 1 - \\frac{α}{2} = 0.9$\n",
        "\\\n",
        "Используя язык R получаем, что $x_α = 1,299$, таким образом:\n",
        "\\\n",
        "\\\n",
        "Доверительный интервал $β_0$: от 3.216268 до 6.279732\n",
        "\\\n",
        "Доверительный интервал $β_1$: от -0.5211368 до 1.561137\n",
        "\\\n",
        "Доверительный интервал $β_2$: от -1.048137 до 1.034137"
      ],
      "metadata": {
        "id": "N_i7I_WROgeo"
      }
    },
    {
      "cell_type": "code",
      "source": [
        "C0 <- c(1, 0, 0)\n",
        "C1 <- c(0, 1, 0)\n",
        "C2 <- c(0, 0, 1)\n",
        "\n",
        "b0 <- t(C0) %*% solve(X_matrix %*% t(X_matrix)) %*% C0\n",
        "b1 <- t(C1) %*% solve(X_matrix %*% t(X_matrix)) %*% C1\n",
        "b2 <- t(C2) %*% solve(X_matrix %*% t(X_matrix)) %*% C2\n",
        "\n",
        "cat(\"b0:\",b0,\"\\n\")\n",
        "cat(\"b1:\",b1,\"\\n\")\n",
        "cat(\"b2:\",b2,\"\\n\")\n",
        "\n",
        "x_a <- qt(0.9, 47)\n",
        "# 4.748 0.52 -0.007\n",
        "cat(\"x_a:\",x_a,\"\\n\")\n",
        "cat(\"Доверительный интервал beta-0: от\", 4.748 - x_a * sqrt(13.79 * b0), \"до\", 4.748 + x_a * sqrt(13.79 * b0), \"\\n\")\n",
        "cat(\"Доверительный интервал beta-1: от\", 0.52 - x_a * sqrt(13.79 * b1), \"до\", 0.52 + x_a * sqrt(13.79 * b1), \"\\n\")\n",
        "cat(\"Доверительный интервал beta-2: от\", -0.007 - x_a * sqrt(13.79 * b1), \"до\", -0.007 + x_a * sqrt(13.79 * b1), \"\\n\")"
      ],
      "metadata": {
        "colab": {
          "base_uri": "https://localhost:8080/"
        },
        "id": "Q10qo7QuPshu",
        "outputId": "8ee739c3-96d0-4594-b69c-0e91dde7fd7f"
      },
      "execution_count": 63,
      "outputs": [
        {
          "output_type": "stream",
          "name": "stdout",
          "text": [
            "b0: 0.1007004 \n",
            "b1: 0.04652448 \n",
            "b2: 0.0009402508 \n",
            "x_a: 1.299825 \n",
            "Доверительный интервал beta-0: от 3.216268 до 6.279732 \n",
            "Доверительный интервал beta-1: от -0.5211368 до 1.561137 \n",
            "Доверительный интервал beta-2: от -1.048137 до 1.034137 \n"
          ]
        }
      ]
    },
    {
      "cell_type": "code",
      "source": [
        "X_matrix %*% t(X_matrix)"
      ],
      "metadata": {
        "colab": {
          "base_uri": "https://localhost:8080/",
          "height": 161
        },
        "id": "g9W6G7f8TMuA",
        "outputId": "4c35e1d8-8abd-4724-9192-1a1e8a202418"
      },
      "execution_count": 64,
      "outputs": [
        {
          "output_type": "display_data",
          "data": {
            "text/html": [
              "<table class=\"dataframe\">\n",
              "<caption>A matrix: 3 × 3 of type dbl</caption>\n",
              "<thead>\n",
              "\t<tr><th></th><th scope=col>vector_of_ones</th><th scope=col>X</th><th scope=col></th></tr>\n",
              "</thead>\n",
              "<tbody>\n",
              "\t<tr><th scope=row>vector_of_ones</th><td> 50</td><td> 170</td><td>  836</td></tr>\n",
              "\t<tr><th scope=row>X</th><td>170</td><td> 836</td><td> 4580</td></tr>\n",
              "\t<tr><th scope=row></th><td>836</td><td>4580</td><td>26744</td></tr>\n",
              "</tbody>\n",
              "</table>\n"
            ],
            "text/markdown": "\nA matrix: 3 × 3 of type dbl\n\n| <!--/--> | vector_of_ones | X | <!----> |\n|---|---|---|---|\n| vector_of_ones |  50 |  170 |   836 |\n| X | 170 |  836 |  4580 |\n| <!----> | 836 | 4580 | 26744 |\n\n",
            "text/latex": "A matrix: 3 × 3 of type dbl\n\\begin{tabular}{r|lll}\n  & vector\\_of\\_ones & X & \\\\\n\\hline\n\tvector\\_of\\_ones &  50 &  170 &   836\\\\\n\tX & 170 &  836 &  4580\\\\\n\t & 836 & 4580 & 26744\\\\\n\\end{tabular}\n",
            "text/plain": [
              "               vector_of_ones X         \n",
              "vector_of_ones  50             170   836\n",
              "X              170             836  4580\n",
              "               836            4580 26744"
            ]
          },
          "metadata": {}
        }
      ]
    },
    {
      "cell_type": "markdown",
      "source": [
        "Теперь построим доверительные эллипсоиды уровня доверия 1 - α для параметров.\n",
        "\\\n",
        "$A_α = \\{\\vec{x}: (\\vec{x} - \\widehat{Ψ})^T B^{-1} (\\vec{x} - \\widehat{Ψ}) \\le qs^2x_α \\}$, где $x_α: F_{q,n-r}(x_α) = 1 - α$, $\\space B = C^T(XX^T)^{-1}C$\n",
        "\\\n",
        "Чтобы построить эллипс для обоих параметров надо взять $C = E$, тогда после несложных преобразований получим, что $B = XX^T$.\n",
        "\\\n",
        "$x_α = 1.665$\n",
        "\\\n",
        "Построим уравнение эллипса:\n",
        "\\\n",
        "\\\n",
        "$\\left( \\left[ {\\begin{array}{cc}\n",
        "    x  \\\\\n",
        "    y \\\\\n",
        "    z\n",
        "\\end{array} } \\right]-\n",
        "\\left[ {\\begin{array}{cc}\n",
        "    4.748 \\\\ 0.52 \\\\ -0.007\n",
        "\\end{array} } \\right] \\right)^T\n",
        "\\left[ {\\begin{array}{cc}\n",
        "    50 & 170 & 836 \\\\\n",
        "    170 & 836 & 4580\\\\\n",
        "    836 & 4580 & 26744\n",
        "\\end{array} } \\right]\n",
        "\\left(\\left[ {\\begin{array}{cc}\n",
        "    x  \\\\\n",
        "    y \\\\\n",
        "    z\n",
        "\\end{array} } \\right]-\n",
        "\\left[ {\\begin{array}{cc}\n",
        "    4.748 \\\\ 0.52 \\\\ -0.007\n",
        "\\end{array} } \\right]\\right) \\le 3 \\cdot 13.79 \\cdot 1.665$. Отсюда следует:\n",
        "\\\n",
        "$50x^2 + 836y^2 + 26744z^2 + 340xy + 1672xz + 9160yz - 639.896x -2419.64y-12327.44z + 2036.193 \\le 0$\n",
        "\n"
      ],
      "metadata": {
        "id": "cwf9tGn8O2Mp"
      }
    },
    {
      "cell_type": "markdown",
      "source": [
        "###8)Сформулировать гипотезу линейной регрессионной зависимости пременной Y от переменной X и проверить её значимость на уровне α.\n",
        "Нулевая гипотеза: Y не зависит от X. Эта гипотеза верна в том случае, если $β_1 = 0$ и $β_2 = 0$.\n",
        "\\\n",
        "F-статистика: $F = \\frac{SS_Н/q}{SS_e/(n-r)}$, где $SS_Н = RSS(\\widehat{β_Н}) - RSS(\\widehat{β_Н})$, $\\widehat{β_Н}$ - МНК-оценка параметров при выполнении основной гипотезы, $SS_e = RSS(\\widehat{β})$\n",
        "\\\n",
        "Найдём F-статистику и границу критической области $x_α$ с помощью R:\n",
        "\\\n",
        "$F = 6.056 \\quad x_α = 1.665$\n",
        "\\\n",
        "\\\n",
        "Т.к. $F > x_α$, отвергаем нулевую теорию"
      ],
      "metadata": {
        "id": "liP8xDhk29k1"
      }
    },
    {
      "cell_type": "code",
      "source": [
        "betaH <- beta\n",
        "betaH[2] <- 0\n",
        "betaH[3] <- 0\n",
        "\n",
        "rssH <- t(Y - t(X_matrix) %*% betaH) %*% (Y - t(X_matrix) %*% betaH)\n",
        "ssH <- rssH - rss\n",
        "\n",
        "fStat <- (ssH/3)/(rss/47)\n",
        "\n",
        "cat(\"F-статистика:\", fStat, \"\\n\")\n",
        "cat(\"x_a:\", qf(0.8, 2, 47), \"\\n\")"
      ],
      "metadata": {
        "colab": {
          "base_uri": "https://localhost:8080/"
        },
        "id": "YpSG7Fij3241",
        "outputId": "7a9e3d8b-eb7d-4377-bb48-abbb7258e1bb"
      },
      "execution_count": 65,
      "outputs": [
        {
          "output_type": "stream",
          "name": "stdout",
          "text": [
            "F-статистика: 6.055771 \n",
            "x_a: 1.66583 \n"
          ]
        }
      ]
    },
    {
      "cell_type": "markdown",
      "metadata": {
        "id": "-ByyzYLb8bwz"
      },
      "source": [
        "## Выводы\n",
        "\n",
        "В ходе данной лабораторной работы была исследована тема линейной регрессии. Был разобран метод наименьших квадратов, с помощью которого можно дать оценку для параметров. Был изучен алгоритм для построения доверительных интервалов, эллипсов и эллипсоидов. Также были исследованы разные методы для доказательства или опровержения гипотез. Например, для доказательства гипотез принадлежности выборки к нормальному распределению и линейной независимости Y от X.     "
      ]
    }
  ],
  "metadata": {
    "colab": {
      "provenance": []
    },
    "kernelspec": {
      "display_name": "R",
      "name": "ir"
    },
    "language_info": {
      "name": "R"
    }
  },
  "nbformat": 4,
  "nbformat_minor": 0
}