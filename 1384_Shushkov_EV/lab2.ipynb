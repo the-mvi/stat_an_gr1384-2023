{
  "cells": [
    {
      "cell_type": "markdown",
      "metadata": {
        "id": "GZuoTZzH8bwt"
      },
      "source": [
        "# Лабораторная работа №2: классические методы математической статистики\n",
        "Выполнил студент гр. 1384 Шушков Егор Вариант №23"
      ]
    },
    {
      "cell_type": "markdown",
      "metadata": {
        "id": "sNPrQUle8bww"
      },
      "source": [
        "## Цель работы\n",
        "Исследовать свойства математической статистики, а также методы используемые в статистическом анализе. Провести анализ различных распределений на одной выборке. Сравнить и проанализировать результаты."
      ]
    },
    {
      "cell_type": "markdown",
      "metadata": {
        "id": "9yX6i4h48bwx"
      },
      "source": [
        "## Основные теоретические положения\n",
        "* Эмпирическое распределение $F_n(x) = \\frac{1}{n}\\sum_{i=1}^n \\large𝟙_{\\{X_i < x\\}}$\n",
        "* Вариационный ряд: $X_{(1)} \\le ... \\le X_{(n)}$\n",
        "* Гистограмма $H(x)=\\frac{ν_i}{nh}$, где $ν_i -$число элементов из выборки, попавших в $I_i$ интервал.\n",
        "* Полигон частот - кусочно-линейно непрерывная функция, линии которой соединяют середины соседних столбцов.\n",
        "* Выборочное мат. ожидание: $E_F(x) = \\sum_{i=1}^{n}{x_i \\cdot p_i}$\n",
        "* Выборочная дисперсия: $s^2 = \\frac{1}{n} \\sum_{i=1}^n{(x_i - \\bar{x})^2}$\n",
        "* Среднеквадратичное отклонение - это корень из дисперсии.\n",
        "* Значение, которое делит вариационный ряд на равные по числу вариант части.\n",
        "* Ассиметрия: $\\sum_{i=1}^n{(x_i - E_F(x))^3}$\n",
        "* Эксцесс: $\\widehat{Kurt}X = \\frac{\\frac{1}{n} \\sum_{i=1}^n{(x_i - \\bar{x})^4}}{s^4} - 3$\n",
        "* Функция правдободобия: $L(X,θ) = p_θ(x), θ\\inΘ$\n",
        "* Логарифмическая функция правдободобия: $LL(X,θ) = lnL(X,θ) = \\sum_{i=1}^n lnp_θ(X_i)$\n",
        "* $H_0: F_n(λ_0) ≡ F_0$ - основная теория, где $F_n$ - функция предмолагаемого распределения, а $F_0$ - функция распределения наших исходных значений.\n",
        "\\\n",
        "$H_1: F_n(λ_1) ≡ F_0$ - альтернативная теория.\n",
        "\\\n",
        "По теореме Неймана-Пирса наиболее мощный критерий будет иметь следующий вид:\n",
        "\\\n",
        "$ϕ(x)=\\begin{cases}\n",
        "   1, \\space при \\space LR(x) > c \\\\\n",
        "   p, \\space при \\space LR(x) = c \\\\\n",
        "   0, \\space при \\space LR(x) < c \\\\     \n",
        "\\end{cases}$\n",
        "\n",
        "\n",
        "\n",
        "\n",
        "\n",
        "\n"
      ]
    },
    {
      "cell_type": "markdown",
      "metadata": {
        "id": "-ahJvsU28bwx"
      },
      "source": [
        "## Постановка задачи\n",
        "Для экспериментального набора данных выполнить статистическую обработку в соответствие с заданиями. Проанализировать полученные результаты и составить отчёт."
      ]
    },
    {
      "cell_type": "markdown",
      "metadata": {
        "id": "5etEHwkY8bwx"
      },
      "source": [
        "## Выполнение работы\n",
        "### 1 задание. В результате эксперимента получены данные, приведённые в таблице 1.\n",
        "#### a) Построить вариационный ряд, эмпирическую функцию распределения и гистрограмму\n",
        "\n",
        "Упорядочим данные, которые представлены в таблице 1:\n",
        "\\\n",
        "0 0 0 0 0 0 0 0 0 0 0 0 0 0 0 0 0 0 0 0 0 0 0 1 1 1 1 1 1 1 1 1 1 1 1 1 1 1 1 1 1 1 2 2 2 3 3 4 7 8\n",
        "\\\n",
        "Полученная последовательность и есть вариационный ряд. Для того, чтобы получить эмпирическую функцию, удобно будет представить ряд в виде таблицы:\n",
        "\\begin{array}{|c|c|c|}\n",
        " \\hline\n",
        " x_i & n_i \\\\\n",
        " \\hline\n",
        " 0 & 23  \\\\\n",
        " \\hline\n",
        " 1 & 19  \\\\  \n",
        " \\hline\n",
        " 2 & 3  \\\\\n",
        " \\hline\n",
        " 3 & 2 \\\\\n",
        " \\hline\n",
        " 4 & 1 \\\\\n",
        " \\hline\n",
        " 7 & 1 \\\\\n",
        " \\hline\n",
        " 8 & 1 \\\\   \n",
        " \\hline \\\\\n",
        " \\sum & 50 \\\\\n",
        " \\hline\n",
        "\\end{array}\n",
        "\\\n",
        "Эмпирическая функция высчитывает по формуле: $ F^*(x) = \\frac{n_x}{n}$, где $n_x$ - количество вариант строго меньших, чем x.\n",
        "\\\n",
        "Подсчитаем значения для каждого интервала между значениями, тогда функцию F*(x) можно представить так:\n",
        " \\begin{cases}\n",
        "   0, \\text{ $x \\le 0$} \\\\\n",
        "   \\frac{23}{50}, \\text{ $0 < x \\le 1$} \\\\\n",
        "   \\frac{42}{50}, \\text{ $1 < x \\le 2$} \\\\  \n",
        "   \\frac{45}{50}, \\text{ $2 < x \\le 3$} \\\\  \n",
        "   \\frac{47}{50}, \\text{ $3 < x \\le 4$} \\\\\n",
        "   \\frac{48}{50}, \\text{ $4 < x \\le 7$} \\\\\n",
        "   \\frac{49}{50}, \\text{ $7 < x \\le 8$} \\\\\n",
        "   1, \\text{ 8 < x} \\\\    \n",
        "\\end{cases}\n",
        "\\\n",
        "Построим график эмпирической функции:  \n",
        "\n",
        "\n",
        "\n",
        "\n",
        "\n"
      ]
    },
    {
      "cell_type": "code",
      "source": [
        "numbers <- c(0, 0, 0, 0, 0, 0, 0, 0, 0, 0, 0, 0, 0, 0, 0, 0, 0, 0, 0, 0, 0, 0, 0, 1, 1, 1, 1, 1, 1, 1, 1, 1, 1, 1, 1, 1, 1, 1, 1, 1, 1, 1, 2, 2, 2, 3, 3, 4, 7, 8)\n",
        "\n",
        "ecdf_object <- ecdf(numbers)\n",
        "\n",
        "plot(ecdf_object, col = \"blue\", main = \"Эмпирическая функция\", xlab = \"Значение\", ylab = \"Вероятность\")"
      ],
      "metadata": {
        "id": "PW44GBwNGl4D",
        "colab": {
          "base_uri": "https://localhost:8080/",
          "height": 437
        },
        "outputId": "5a76bca7-4b2b-400b-f59d-dda7f811a0d8"
      },
      "execution_count": 11,
      "outputs": [
        {
          "output_type": "display_data",
          "data": {
            "text/plain": [
              "Plot with title “Эмпирическая функция”"
            ],
            "image/png": "[encoded data removed]"
          },
          "metadata": {
            "image/png": {
              "width": 420,
              "height": 420
            }
          }
        }
      ]
    },
    {
      "cell_type": "markdown",
      "source": [
        "Теперь построим гистограмму для данного вариационного ряда. Гистограмма определяет с какой частотой значение вариационного ряда встречается в выборке. Таким образом, можно определить гистограмму, как график показывающий количество вхождений значения в выборку."
      ],
      "metadata": {
        "id": "W6uJUZeScPZu"
      }
    },
    {
      "cell_type": "code",
      "source": [
        "hist(numbers, main = \"Гистограмма\", xlab = \"Значение\", ylab = \"Частота\", col = \"lightblue\", border = \"black\", freq=FALSE)"
      ],
      "metadata": {
        "id": "SRITooBwNGtt",
        "colab": {
          "base_uri": "https://localhost:8080/",
          "height": 437
        },
        "outputId": "63bc0837-01b2-4faa-b48a-36681abce22a"
      },
      "execution_count": 12,
      "outputs": [
        {
          "output_type": "display_data",
          "data": {
            "text/plain": [
              "Plot with title “Гистограмма”"
            ],
            "image/png": "[encoded data removed]"
          },
          "metadata": {
            "image/png": {
              "width": 420,
              "height": 420
            }
          }
        }
      ]
    },
    {
      "cell_type": "markdown",
      "source": [
        "#### b) Вычислить выборочные аналоги следующих числовых характеристик:\n",
        "1) Математическое ожидание. Математическим ожидание в дискретном случае называют число, равное сумме произведений всех её значений на соответствующие им вероятности: $E_F(x) = \\sum_{i=1}^{n}{x_i \\cdot p_i}$\n",
        "\\\n",
        "Дополним вероятностью таблицу из пункта 1:\n",
        "\\begin{array}{|c|c|c|}\n",
        " \\hline\n",
        " x_i & n_i & p_i \\\\\n",
        " \\hline\n",
        " 0 & 23 & \\frac{23}{50} \\\\\n",
        " \\hline\n",
        " 1 & 19 & \\frac{19}{50} \\\\  \n",
        " \\hline\n",
        " 2 & 3 & \\frac{3}{50} \\\\\n",
        " \\hline\n",
        " 3 & 2 & \\frac{2}{50} \\\\\n",
        " \\hline\n",
        " 4 & 1 & \\frac{1}{50} \\\\\n",
        " \\hline\n",
        " 7 & 1 & \\frac{1}{50} \\\\\n",
        " \\hline\n",
        " 8 & 1 & \\frac{1}{50} \\\\   \n",
        " \\hline \\\\\n",
        " \\sum & 50 & 1 \\\\\n",
        " \\hline\n",
        "\\end{array}\n",
        "\\\n",
        "Теперь подсчитаем математическое ожидание: $E_F(x) = 0 \\cdot \\frac{23}{50} + 1 \\cdot \\frac{19}{50} + 2 \\cdot \\frac{3}{50} + 3 \\cdot \\frac{2}{50} + 4 \\cdot \\frac{1}{50} + 7 \\cdot \\frac{1}{50} + 8 \\cdot \\frac{1}{50} = 1 $\n",
        "\n",
        "2) Дисперсия. Дисперсия характеризует рассеяние значений признака относительно выборочной средней: $s^2 = \\frac{1}{n} \\sum_{i=1}^n{(x_i - \\bar{x})^2}$\n",
        "\\\n",
        "Воспользуемся встроенной функцией языка R для вычисления этого значения.\n",
        "\\\n",
        "3) СКО. Среднеквадратичное отклонение - это корень из дисперсии. Используем язык R для вычисления.\n",
        "\\\n",
        "4) Медиана. Значение, которое делит вариационный ряд на равные по числу вариант части.\n",
        "\\\n",
        "5) Ассиметрия. Это отношение центрального момента третьего порядка к кубу среднего квадрата отклонения. Центральный момент третьего порядка для дискретного случая: $\\sum_{i=1}^n{(x_i - E_F(x))^3}$\n",
        "\\\n",
        "6) Эксцесс. Формула для вычисления эксцесса: $\\widehat{Kurt}X = \\frac{\\frac{1}{n} \\sum_{i=1}^n{(x_i - \\bar{x})^4}}{s^4} - 3$\n",
        "\\\n",
        "7) $P(X\\in[0, 2.41]) = F_x(2.41) - F_x(0) = \\frac{45}{50}$"
      ],
      "metadata": {
        "id": "Orb2rIWdfl2K"
      }
    },
    {
      "cell_type": "code",
      "source": [
        "install.packages(\"e1071\")\n",
        "library(e1071)\n",
        "\n",
        "cat(\"Мат. ожидание:\", mean(numbers),\"\\n\")\n",
        "cat(\"Дисперсия:\", var(numbers), \"\\n\")\n",
        "cat(\"СКО:\", sqrt(var(numbers)), \"\\n\")\n",
        "cat(\"Медиана:\", median(numbers), \"\\n\")\n",
        "cat(\"Ассиметрия:\", skewness(numbers), \"\\n\")\n",
        "cat(\"Эксцесс:\", kurtosis(numbers), \"\\n\")"
      ],
      "metadata": {
        "id": "2EKshvnAoG-m",
        "colab": {
          "base_uri": "https://localhost:8080/"
        },
        "outputId": "df2e3dce-d5a8-4c94-a8d9-0612c9143344"
      },
      "execution_count": 13,
      "outputs": [
        {
          "output_type": "stream",
          "name": "stderr",
          "text": [
            "Installing package into ‘/usr/local/lib/R/site-library’\n",
            "(as ‘lib’ is unspecified)\n",
            "\n",
            "also installing the dependency ‘proxy’\n",
            "\n",
            "\n"
          ]
        },
        {
          "output_type": "stream",
          "name": "stdout",
          "text": [
            "Мат. ожидание: 1 \n",
            "Дисперсия: 2.612245 \n",
            "СКО: 1.616244 \n",
            "Медиана: 1 \n",
            "Ассиметрия: 2.756971 \n",
            "Эксцесс: 8.242964 \n"
          ]
        }
      ]
    },
    {
      "cell_type": "markdown",
      "source": [
        "#### с) В предположении, что исходные наблюдения являются выборкой из распределения Пуассона, построить оценку максимального правдоподобия λ, а также оценку λ по методу моментов. Найти смещение оценок.\n",
        "Плотность для распредления Пуассона: $p_θ(x) = \\frac{\\lambda^x}{x!}exp(-\\lambda)$\n",
        "\\\n",
        "Функция правдоподобия: $L(\\vec{X};θ) = \\frac{\\lambda^{\\sum_{i=1}^{n}}{x_i}}{\\prod_{i=1}^{n}x_i!}exp(-\\lambda \\cdot n)$\n",
        "\\\n",
        "$LL(\\vec{X};θ) = ln(λ)\\sum_{i=1}^{n}{x_i}  - ln(\\prod_{i=1}^{n}x_i!) - λn = 0$\n",
        "\\\n",
        "$\\frac{\\partial LL(\\vec{X};θ)}{\\partial λ} = \\frac{\\sum_{i=1}^{n}{x_i}}{λ} - n = 0$\n",
        "\\\n",
        "$\\widehat{λ} = \\frac{\\sum_{i=1}^{n}{x_i}}{n} = \\bar{x}$ - получившееся ОМП.\n",
        "\\\n",
        "\\\n",
        "Теперь найдём оценку λ методом моментов:\n",
        "\\\n",
        "Математическое ожидание случайной величины распределения Пуассона через параметр λ: $EX = λ$\n",
        "\\\n",
        "Эмпирическое математическое ожидание (выборочное) высчитывается по формуле: $EX = \\bar{x}$\n",
        "\\\n",
        "Отсюда следует, что $\\widetilde{λ} = \\bar{x}$ - получившееся ОММ\n",
        "\\\n",
        "Обе оценки не имеют смещения.\n",
        "\\\n",
        "\\\n",
        "Ответ: $\\widehat{λ} = 1$\n",
        "\n"
      ],
      "metadata": {
        "id": "EWJIlo2myd_W"
      }
    },
    {
      "cell_type": "markdown",
      "source": [
        "###d) Построить асимптотический доверительный интервал уровня значимости $α_1$ для параметра λ на базе оценки максимального правдоподобия.\n",
        "1 способ) $θ = λ \\quad \\widehat{θ} = \\bar{x}$\n",
        "\\\n",
        "$LL(\\vec{X};θ) = ln(λ)\\sum_{i=1}^{n}{x_i}  - ln(\\prod_{i=1}^{n}x_i!) - λn$\n",
        "\\\n",
        "$I_n(λ) = -E\\frac{\\partial^2 LL(\\vec{X};θ)}{\\partial λ^2} = \\frac{\\sum_{i=1}^{n}{x_i}}{λ^2}$\n",
        "\\\n",
        "$I(λ) = \\frac{\\bar{x}}{λ^2}$\n",
        "\\\n",
        "$x_α: Φ(x_α) = 1 - \\frac{α}{2} \\rightarrow x_α = Φ^{-1}(1 - \\frac{α}{2})$\n",
        "\\\n",
        "$λ \\in [\\bar{x} - \\frac{x_α}{\\sqrt{nI(\\bar{x})}}, \\bar{x} + \\frac{x_α}{\\sqrt{nI(\\bar{x})}}]$ - полученный асимптотический доверительный интервал\n",
        "\n",
        "\n"
      ],
      "metadata": {
        "id": "YlclE5KIBnRQ"
      }
    },
    {
      "cell_type": "code",
      "source": [
        "xa <- qnorm(0.95)\n",
        "xs <- mean(numbers)\n",
        "Ix <- 1/xs\n",
        "\n",
        "sprintf(\"λ ∈ [%f; %f]\", xs - (xa)/sqrt(50*Ix), xs + (xa)/sqrt(50*Ix))"
      ],
      "metadata": {
        "id": "uZy037aZVp8y",
        "colab": {
          "base_uri": "https://localhost:8080/",
          "height": 34
        },
        "outputId": "5d85563c-1541-44f7-d5d7-bb24fe31581d"
      },
      "execution_count": 14,
      "outputs": [
        {
          "output_type": "display_data",
          "data": {
            "text/html": [
              "'λ ∈ [0.767383; 1.232617]'"
            ],
            "text/markdown": "'λ ∈ [0.767383; 1.232617]'",
            "text/latex": "'λ ∈ {[}0.767383; 1.232617{]}'",
            "text/plain": [
              "[1] \"λ ∈ [0.767383; 1.232617]\""
            ]
          },
          "metadata": {}
        }
      ]
    },
    {
      "cell_type": "markdown",
      "source": [
        "#### e) Используя гистограмму частот, построить критерий значимости $χ^2$ проверки простой гипотезы согласия с распределением Пуассона с параметром $λ_0$ = 1. Проверить гипотезу на уровне значимости $α_1$=0,10. Вычислить наибольшее значение уровня значимости, на котором ещё нет оснований отвергнуть данную гипотезу.\n",
        "Дополним таблицу частот из задания \"a\" разрядами:\n",
        "\\begin{array}{|c|c|c|}\n",
        " \\hline\n",
        " x_i & ν_i & s\\\\\n",
        " \\hline\n",
        " 0 & 42 & [0,1]  \\\\\n",
        " \\hline\n",
        " 1 & 3 & (1,2] \\\\  \n",
        " \\hline\n",
        " 2 & 2 & (2,3] \\\\\n",
        " \\hline\n",
        " 3 & 1 & (3,4]\\\\\n",
        " \\hline\n",
        " 4 & 1 & (4,7]\\\\\n",
        " \\hline\n",
        " 7 & 1 & (7,8] \\\\\n",
        " \\hline\n",
        "\\end{array}\n",
        "\\\n",
        "$H_0: p_k ≡ F_0$ - основная теория, где $p_k$ - функция распределения Пуассона, а $F_0$ - функция распределения наших исходных значений.\n",
        "\\\n",
        "$H_0: p_k(x) \\ne F_0(x)$ - альтернативная теория при некотором $x \\in ℝ$\n",
        "\\\n",
        "\\\n",
        "$p_{i}$ - гипотетические вероятности, вычисляемые как $p_i = P(X = i)$.\n",
        "\\\n",
        "Составим таблицу, в которую занесём вычисленные значения для $p_{i}$ и статистики (вычисления сделаны на языке R, см. ниже):\n",
        "\\\n",
        "\\begin{array}{|c|c|c|}\n",
        " \\hline\n",
        " i & p_i & \\frac{(ν_j-np_{j0})^2}{np_{j0}} \\\\\n",
        " \\hline\n",
        " 0 & 0.367879441171442 & 0.0199668600464226 \\\\  \n",
        " \\hline\n",
        " 1 & 0.183939720585721 & 4.17556748753131  \\\\\n",
        " \\hline\n",
        " 2 & 0.0613132401952404 & 0.370437287422361 \\\\\n",
        " \\hline\n",
        " 3 & 0.00306566200976202 & 0.153283100488101 \\\\\n",
        " \\hline\n",
        " 4 & 0.0031014366879367 & 0.0255471834146835 \\\\\n",
        " \\hline\n",
        " 5 & 0.00051094366829367 & 0.0255471834146835 \\\\\n",
        " \\hline\n",
        " 6 & 0.00051094366829367 & 0.0255471834146835 \\\\\n",
        " \\hline\n",
        " 7 & 0.00299195261338114 & 0.0002125471834146835 \\\\\n",
        " \\hline\n",
        " 8 & 0.00012399407667268 & 0.00055471834146835 \\\\\n",
        " \\hline\n",
        "\\end{array}\n",
        "\\\n",
        "Отсюда следует, что $χ^2 = 5.969387$.\n"
      ],
      "metadata": {
        "id": "RaOF6ZcKcvPR"
      }
    },
    {
      "cell_type": "code",
      "source": [
        "freq <- c(23, 19, 3, 2, 1, 0, 0)\n",
        "pI <- c(0,1,2,3,4,5,6)\n",
        "\n",
        "for(i in 1:length(pI)){\n",
        "    pI[i] <- dpois(pI[i], 1)\n",
        "}\n",
        "sum(pI)\n",
        "\n",
        "X2 <- rep(NA, times = length(freq))\n",
        "for(i in 1:length(freq)){\n",
        "  X2[i] <- ((freq[i] - 50 * pI[i])^2)/(50 * pI[i])\n",
        "}\n",
        "\n",
        "print(sum(X2))"
      ],
      "metadata": {
        "id": "a9miNE2QzeKT",
        "colab": {
          "base_uri": "https://localhost:8080/",
          "height": 52
        },
        "outputId": "057de019-270d-467e-ff86-566a9ab142ff"
      },
      "execution_count": 15,
      "outputs": [
        {
          "output_type": "display_data",
          "data": {
            "text/html": [
              "0.999916758850712"
            ],
            "text/markdown": "0.999916758850712",
            "text/latex": "0.999916758850712",
            "text/plain": [
              "[1] 0.9999168"
            ]
          },
          "metadata": {}
        },
        {
          "output_type": "stream",
          "name": "stdout",
          "text": [
            "[1] 5.969387\n"
          ]
        }
      ]
    },
    {
      "cell_type": "markdown",
      "source": [
        "$x_α: K_{r-1}(x_α) = 1 - α = 1 - 0.1 = 0.9$\n",
        "\\\n",
        "Таким образом, используя язык R, находим, что квантиль $x_α$ хи-квадрата в данном случае будет равен 9.80325.\n",
        "\\\n",
        "$x_α > χ^2 ⇒ $ гипотеза $X ∼ p_k(1)$ принимается по простой теории."
      ],
      "metadata": {
        "id": "sQkxuYKR6i4e"
      }
    },
    {
      "cell_type": "code",
      "source": [
        "x_a <- qchisq(0.9, 7)\n",
        "print(x_a)"
      ],
      "metadata": {
        "id": "DZlnbFzr6zs2",
        "colab": {
          "base_uri": "https://localhost:8080/"
        },
        "outputId": "1905d8dd-8142-423b-a977-3dff937636c9"
      },
      "execution_count": 16,
      "outputs": [
        {
          "output_type": "stream",
          "name": "stdout",
          "text": [
            "[1] 12.01704\n"
          ]
        }
      ]
    },
    {
      "cell_type": "markdown",
      "source": [
        "###f) Построить критерий значимости $χ^2$ проверки сложной гипотезы согласия с распределением Пуассона. Проверить гипотезу на уровне значимости $α_1$. Вычислить наибольшее значение уровня значимости, на котором ещё нет оснований отвергнуть данную гипотезу.\n",
        "Начало построения сложной теории совпадает с построением простой теории:\n",
        "\\\n",
        "$H_0: p_k ≡ F_0$ - основная теория, где $p_k$ - функция распределения Пуассона, а $F_0$ - функция распределения наших исходных значений.\n",
        "\\\n",
        "$H_0: p_k(x) \\ne F_0(x)$ - альтернативная теория при некотором $x \\in ℝ$\n",
        "\\\n",
        "Значения $p_i$ и $χ^2$ высчитывается аналогичным образом. Но теперь наша задача минизировать функцию $χ^2$, подобрав определённое значение $λ$. Воспользуемся языком R.\n",
        "\\\n",
        "Получаем, что функция $χ^2$ будет минимальной при $λ=0.79684$. При этом $χ^2 = 3.576312$.\n"
      ],
      "metadata": {
        "id": "igCC_05M-pll"
      }
    },
    {
      "cell_type": "code",
      "source": [
        "freq <- c(23, 19, 3, 2, 1, 0, 0)\n",
        "pI <- c(0,1,2,3,4,5,6)\n",
        "\n",
        "f_main_pois <- function(lambda){\n",
        "  for(i in 1:length(pI)){\n",
        "    pI[i] <- dpois(pI[i], lambda)\n",
        "  }\n",
        "\n",
        "  X2 <- rep(NA, times = length(freq))\n",
        "  for(i in 1:length(freq)){\n",
        "    X2[i] <- ((freq[i] - 50 * pI[i])^2)/(50 * pI[i])\n",
        "  }\n",
        "\n",
        "  return(sum(X2))\n",
        "}\n",
        "\n",
        "optimize(f_main_pois, c(0,100))"
      ],
      "metadata": {
        "id": "4L7XypByCfKF",
        "colab": {
          "base_uri": "https://localhost:8080/",
          "height": 114
        },
        "outputId": "cfd1aacf-a0ed-49ad-9b91-d4d32cf7e350"
      },
      "execution_count": 17,
      "outputs": [
        {
          "output_type": "display_data",
          "data": {
            "text/html": [
              "<dl>\n",
              "\t<dt>$minimum</dt>\n",
              "\t\t<dd>0.796840006928536</dd>\n",
              "\t<dt>$objective</dt>\n",
              "\t\t<dd>3.57631263638404</dd>\n",
              "</dl>\n"
            ],
            "text/markdown": "$minimum\n:   0.796840006928536\n$objective\n:   3.57631263638404\n\n\n",
            "text/latex": "\\begin{description}\n\\item[\\$minimum] 0.796840006928536\n\\item[\\$objective] 3.57631263638404\n\\end{description}\n",
            "text/plain": [
              "$minimum\n",
              "[1] 0.79684\n",
              "\n",
              "$objective\n",
              "[1] 3.576313\n"
            ]
          },
          "metadata": {}
        }
      ]
    },
    {
      "cell_type": "markdown",
      "source": [
        "###g) Построить наиболее мощный критерий проверки простой гипотезы пуассоновости с параметром $λ = λ_0 = 1$ при альтернативе пуассоновости с параметром $λ = λ_1 = 2$. Проверить гипотезу на уровне значимости $α_1= 0,1$ . Что получится, если поменять местами основную и альтернативную гипотезы.\n",
        "$H_0: p_k(λ_0) ≡ F_0$ - основная теория, где $p_k$ - функция распределения Пуассона, а $F_0$ - функция распределения наших исходных значений.\n",
        "\\\n",
        "$H_1: p_k(λ_1) ≡ F_0$ - альтернативная теория.\n",
        "\\\n",
        "По теореме Неймана-Пирса наиболее мощный критерий будет иметь следующий вид:\n",
        "\\\n",
        "$ϕ(x)=\\begin{cases}\n",
        "   1, \\space при \\space LR(x) > c \\\\\n",
        "   p, \\space при \\space LR(x) = c \\\\\n",
        "   0, \\space при \\space LR(x) < c \\\\     \n",
        "\\end{cases}$, где LR - отношение функций правдободия от $λ_1$ и $λ_0$, а $p$ и $c$ определяются из уравнения: $E_{θ_0}φ(X) = P_{θ_0} (LR(X) > c) + pP_{θ_0} (LR(X) = c) = α$.\n",
        "\\\n",
        "\\\n",
        "Функция правдоподобия для распределения Пуассона имеет вид:\n",
        "\\\n",
        "$L(\\vec{X}; θ_0) = \\frac{\\lambda_{0}^{\\sum_{i=1}^{n}}{x_i}}{\\prod_{i=1}^{n}x_i!}exp(-\\lambda_0 \\cdot n)$\n",
        "\\\n",
        "$L(\\vec{X}; θ_1) = \\frac{\\lambda_{1}^{\\sum_{i=1}^{n}}{x_i}}{\\prod_{i=1}^{n}x_i!}exp(-\\lambda_1 \\cdot n)$\n",
        "\\\n",
        "Отсюда следует, что $LR(X) = \\frac{L(\\vec{X}; θ_1)}{L(\\vec{X}; θ_0)} = \\left(\\frac{λ_1}{λ_0}\\right)^{n\\bar{X}} exp((λ_0-λ_1)n) = 2^{n\\bar{X}} exp(-50)$, где $\\bar{X} -$ МДС. В силу монотонности статистики LR(X) относительно МДС $\\bar{X}$:\n",
        "\\\n",
        "$LR(X) > c ⇔ \\bar{X} > c^*$\n",
        "\\\n",
        "$LR(X) < c ⇔ \\bar{X} < c^*$\n",
        "\\\n",
        "Наиболее мощный критерий удобно записать в терминах $\\bar{X}:$\n",
        "\\\n",
        "$ϕ(x)=\\begin{cases}\n",
        "   1, \\space при \\space \\bar{X} > c^* \\\\\n",
        "   p, \\space при \\space \\bar{X} = c^* \\\\\n",
        "   0, \\space при \\space \\bar{X} < c^* \\\\     \n",
        "\\end{cases}$\n",
        "\\\n",
        "Для нахождения $c^*$ воспользуемся формулой Пуассона:\n",
        "\\\n",
        "$p_{λ_0}(\\bar{X} < c^*) = p_{nλ_0}(n\\bar{X} < nc^*) = \\sum_{i=0}^{[nc*]}\\frac{(n\\lambda_0)^i}{i!}exp(-n\\lambda_0)$, где $[nc^*]$ – наибольшее целое число, меньшее $nc$. Константа $c^*$ находится из соотношения:\n",
        "\\\n",
        "$\\sum_{i=0}^{n^*-1}\\frac{(n\\lambda_0)^i}{i!}exp(-n\\lambda_0) \\le α < \\sum_{i=0}^{n^*}\\frac{(n\\lambda_0)^i}{i!}exp(-n\\lambda_0)$, где $n^* = [nc^*]$. Подберём такое значение с помощью языка R: $nc^* = 41;\\space c^* = 0.82$\n",
        "\\\n",
        "$p = (α_1 - \\sum_{i=0}^{n^*-1}\\frac{(n\\lambda_0)^i}{i!}exp(-n\\lambda_0) / \\frac{(n\\lambda_0)^n*}{n*!}exp(-n\\lambda_0)) = 0.53$\n",
        "\\\n",
        "Таким образом: $ϕ(x)=\\begin{cases}\n",
        "   1, \\space при \\space \\bar{X} > c^* \\\\\n",
        "   0.53, \\space при \\space \\bar{X} = c^* \\\\\n",
        "   0, \\space при \\space \\bar{X} < c^* \\\\     \n",
        "\\end{cases}$\n",
        "\\\n",
        "Т.к. $\\bar{X} > c*$, гипотеза $H_0: p_k(λ_0) ≡ F_0 \\space -$ принимается.\n",
        "\\\n",
        "\\\n",
        "Теперь поменяем альтернативную теорию местами с основной:\n",
        "\\\n",
        "$H_0: p_k(λ_1) ≡ F_0$ - основная теория.\n",
        "\\\n",
        "$H_1: p_k(λ_0) ≡ F_0$ - альтернативная теория.\n",
        "\\\n",
        "$LR(X) = \\frac{L(\\vec{X}; θ_0)}{L(\\vec{X}; θ_1)} = \\left(\\frac{λ_0}{λ_1}\\right)^{n\\bar{X}} exp((λ_1-λ_0)n) = 0.5^{n\\bar{X}} exp(50)$\n",
        "\\\n",
        "Расмотрим $LR(X) > c$\n",
        "\\\n",
        "$\\left( \\frac{1}{2} \\right) ^{\\Large n \\bar{X}} e^{50} > с $\\\n",
        "\\\n",
        "$n\\bar{X} ln\\left( \\frac{1}{2} \\right) + 50 > ln(c) $\\\n",
        "\\\n",
        "$\\bar{X} < С^* = (\\frac{ln(с)}{50} - 1) \\frac{1}{ln\\left( \\frac{1}{2} \\right)}$\n",
        "\\\n",
        "Отсюда следует, что:\n",
        "\\\n",
        "ϕ(x) = $\\begin{cases}\n",
        "   1, \\space при \\space \\bar{X} < c^* \\\\\n",
        "   p, \\space при \\space \\bar{X} = c^* \\\\\n",
        "   0, \\space при \\space \\bar{X} > c^* \\\\     \n",
        "\\end{cases}$\n",
        "\\\n",
        "$p_{λ_1}(\\bar{X} < c^*) = p_{nλ_1}(n\\bar{X} < nc^*) = \\sum_{i=0}^{[nc*]}\\frac{(n\\lambda_1)^i}{i!}exp(-n\\lambda_1)$\n",
        "\\\n",
        "$\\sum_{i=0}^{n^*-1}\\frac{(n\\lambda_1)^i}{i!}exp(-n\\lambda_1) \\le α < \\sum_{i=0}^{n^*}\\frac{(n\\lambda_1)^i}{i!}exp(-n\\lambda_1)$, где $n^* = [nc^*]$. Подберём такое значение с помощью языка R: $nc^* = 87;\\space c^* = 1.74$\n",
        "\\\n",
        "$p = (α_1 - \\sum_{i=0}^{n^*-1}\\frac{(n\\lambda_1)^i}{i!}exp(-n\\lambda_1) / \\frac{(n\\lambda_1)^n*}{n*!}exp(-n\\lambda_1)) = 0.79$\n",
        "\\\n",
        "\\\n",
        "Т.к. $\\bar{X} < c^*$, то гипотеза тоже принимается.\n",
        "\n",
        "\n",
        "\n",
        "\n",
        "\n",
        "\n",
        "\n"
      ],
      "metadata": {
        "id": "cGYlWfqBGnm4"
      }
    },
    {
      "cell_type": "code",
      "source": [
        "c <- 1\n",
        "while(1){\n",
        "  if(ppois(c-1, 50) <= 0.1 & 0.1 < ppois(c, 50)){\n",
        "    break;\n",
        "  }\n",
        "  c <- c + 1\n",
        "}\n",
        "\n",
        "p <- (0.1 - ppois(c - 1, 50))/(ppois(c, 50) - ppois(c - 1, 50))\n",
        "\n",
        "sprintf(\"C* при λ0: %d\", c)\n",
        "sprintf(\"p при λ0: %f\", p)\n",
        "\n",
        "c <- 1\n",
        "while(1){\n",
        "  if(ppois(c-1, 100) <= 0.1 & 0.1 < ppois(c, 100)){\n",
        "    break;\n",
        "  }\n",
        "  c <- c + 1\n",
        "}\n",
        "\n",
        "p <- (0.1 - ppois(c - 1, 100))/(ppois(c, 100) - ppois(c - 1, 100))\n",
        "\n",
        "sprintf(\"C* при λ1: %d\", c)\n",
        "sprintf(\"p при λ1: %f\", p)\n"
      ],
      "metadata": {
        "colab": {
          "base_uri": "https://localhost:8080/",
          "height": 86
        },
        "id": "XZhYVT_ihcbP",
        "outputId": "24b22250-4cda-4baf-d58d-13fb327ff0b0"
      },
      "execution_count": 18,
      "outputs": [
        {
          "output_type": "display_data",
          "data": {
            "text/html": [
              "'C* при λ0: 41'"
            ],
            "text/markdown": "'C* при λ0: 41'",
            "text/latex": "'C* при λ0: 41'",
            "text/plain": [
              "[1] \"C* при λ0: 41\""
            ]
          },
          "metadata": {}
        },
        {
          "output_type": "display_data",
          "data": {
            "text/html": [
              "'p при λ0: 0.531293'"
            ],
            "text/markdown": "'p при λ0: 0.531293'",
            "text/latex": "'p при λ0: 0.531293'",
            "text/plain": [
              "[1] \"p при λ0: 0.531293\""
            ]
          },
          "metadata": {}
        },
        {
          "output_type": "display_data",
          "data": {
            "text/html": [
              "'C* при λ1: 87'"
            ],
            "text/markdown": "'C* при λ1: 87'",
            "text/latex": "'C* при λ1: 87'",
            "text/plain": [
              "[1] \"C* при λ1: 87\""
            ]
          },
          "metadata": {}
        },
        {
          "output_type": "display_data",
          "data": {
            "text/html": [
              "'p при λ1: 0.787249'"
            ],
            "text/markdown": "'p при λ1: 0.787249'",
            "text/latex": "'p при λ1: 0.787249'",
            "text/plain": [
              "[1] \"p при λ1: 0.787249\""
            ]
          },
          "metadata": {}
        }
      ]
    },
    {
      "cell_type": "markdown",
      "source": [
        "###h) В пунктах (c) - (f) заменить семейство распределений Пуассона на семейство геометрических распределений:\n",
        "$P_λ(X = k) = \\frac{λ^k}{(λ+1)^{k+1}}, k \\in ℤ_+$\n",
        "\\\n",
        "###h-c)\n",
        "Функция правдоподобия: $L(\\vec{X};θ) = \\frac{\\lambda^{\\sum_{i=1}^{n}{x_i}}}{(λ+1)^{\\sum_{i=1}^{n}{x_i}+n}}$\n",
        "\\\n",
        "$LL(\\vec{X};θ) = ln(λ)\\sum_{i=1}^{n}{x_i}  - ln(λ+1)(\\sum_{i=1}^{n}{x_i} + n)$\n",
        "\\\n",
        "$\\frac{\\partial LL(\\vec{X};θ)}{\\partial λ} = \\frac{\\sum_{i=1}^{n}{x_i}}{λ} - \\frac{\\sum_{i=1}^{n}{x_i}+n}{λ+1} = 0$\n",
        "\\\n",
        "$\\widehat{λ} = \\frac{\\sum_{i=1}^{n}{x_i}}{n} = \\bar{x}$ - получившееся ОМП.\n",
        "\\\n",
        "\\\n",
        "Теперь найдём оценку λ методом моментов:\n",
        "\\\n",
        "Математическое ожидание случайной величины геометрического распределения через параметр λ: $EX = λ$\n",
        "\\\n",
        "Эмпирическое математическое ожидание (выборочное) высчитывается по формуле: $EX = \\bar{x}$\n",
        "\\\n",
        "Отсюда следует, что $\\widetilde{λ} = \\bar{x}$ - получившееся ОММ\n",
        "\\\n",
        "Обе оценки не имеют смещения.\n",
        "\\\n",
        "\\\n",
        "Ответ: $\\widehat{λ} = 1$"
      ],
      "metadata": {
        "id": "m7lmkvmL9g22"
      }
    },
    {
      "cell_type": "markdown",
      "source": [
        "###h-d)\n",
        "1 способ) $θ = λ \\quad \\widehat{θ} = \\bar{x}$\n",
        "\\\n",
        "$LL(\\vec{X};θ) = ln(λ)\\sum_{i=1}^{n}{x_i}  - ln(λ+1)(\\sum_{i=1}^{n}{x_i} + n)$\n",
        "\\\n",
        "$I_n(λ) = -E\\frac{\\partial^2 LL(\\vec{X};θ)}{\\partial λ^2} = \\frac{\\partial LL(\\vec{X};θ)}{\\partial λ} = -E (\\frac{\\sum_{i=1}^{n}{x_i}+n}{(λ+1)^2} - \\frac{\\sum_{i=1}^{n}{x_i}}{λ^2}) = \\frac{1}{λ^2} E\\sum_{i=1}^{n}{x_i} - \\frac{1}{(λ+1)^2} (E\\sum_{i=1}^{n}{x_i}+n) = \\frac{nλ}{λ^2} - \\frac{nλ+n}{(λ+1)^2} = \\frac{n}{λ} - \\frac{n}{(λ+1)} = \\frac{n}{λ(λ+1)}$\n",
        "\\\n",
        "$I(λ) = \\frac{1}{λ(λ+1)}$\n",
        "\\\n",
        "$x_α: Φ(x_α) = 1 - \\frac{α}{2} \\rightarrow x_α = Φ^{-1}(1 - \\frac{α}{2})$\n",
        "\\\n",
        "$λ \\in [\\bar{x} - \\frac{x_α}{\\sqrt{nI(\\bar{x})}}, \\bar{x} + \\frac{x_α}{\\sqrt{nI(\\bar{x})}}]$ - полученный асимптотический доверительный интервал.\n",
        "\\\n",
        "$λ ∈ [0.671029; 1.328971]$"
      ],
      "metadata": {
        "id": "DYwknIMDBAhA"
      }
    },
    {
      "cell_type": "code",
      "source": [
        "xa <- qnorm(0.95)\n",
        "xs <- mean(numbers)\n",
        "Ix <- 1/(xs*(xs+1))\n",
        "\n",
        "sprintf(\"λ ∈ [%f; %f]\", xs - (xa)/sqrt(50*Ix), xs + (xa)/sqrt(50*Ix))"
      ],
      "metadata": {
        "colab": {
          "base_uri": "https://localhost:8080/",
          "height": 34
        },
        "id": "4ZsGjU03FKO2",
        "outputId": "9270768b-a77c-493b-907c-f10bf3c9a3b9"
      },
      "execution_count": 19,
      "outputs": [
        {
          "output_type": "display_data",
          "data": {
            "text/html": [
              "'λ ∈ [0.671029; 1.328971]'"
            ],
            "text/markdown": "'λ ∈ [0.671029; 1.328971]'",
            "text/latex": "'λ ∈ {[}0.671029; 1.328971{]}'",
            "text/plain": [
              "[1] \"λ ∈ [0.671029; 1.328971]\""
            ]
          },
          "metadata": {}
        }
      ]
    },
    {
      "cell_type": "markdown",
      "source": [
        "###h-e)\n",
        "$H_0: p_k ≡ F_0$ - основная теория, где $p_k$ - функция распределения Пуассона, а $F_0$ - функция распределения наших исходных значений.\n",
        "\\\n",
        "$H_0: p_k(x) \\ne F_0(x)$ - альтернативная теория при некотором $x \\in ℝ$\n",
        "\\\n",
        "Статистику критерия хи-квадрат можно вычислить по формуле: $χ^2 = \\sum_{j=1}^{r}\\frac{(ν_j-np_{j})^2}{np_{j}}$\n",
        "\\\n",
        "$p_{j}$ - гипотетические вероятности, вычисляемые как $p_j = P(X = j)$, $j \\in (0,...,r)$.\n",
        "\\\n",
        "Составим таблицу, в которую занесём вычисленные значения для $p_{i}$ и статистики (вычисления сделаны на языке R, см. ниже):\n",
        "\\\n",
        "\\begin{array}{|c|c|c|}\n",
        " \\hline\n",
        " i & p_i & \\frac{(ν_j-np_{j0})^2}{np_{j0}} \\\\\n",
        " \\hline\n",
        " 0 & 0.5 & 0.16 \\\\  \n",
        " \\hline\n",
        " 1 & 0.25 & 3.38  \\\\\n",
        " \\hline\n",
        " 2 & 0.125 & 1.69 \\\\\n",
        " \\hline\n",
        " 3 & 0.0625 & 0.405 \\\\\n",
        " \\hline\n",
        " 4 & 0.03125 & 0.2025 \\\\\n",
        " \\hline\n",
        " 5 & 0.015625 & 0.78125 \\\\\n",
        " \\hline\n",
        " 6 & 0.0078125 & 0.390625 \\\\\n",
        " \\hline\n",
        " 7 & 0.00390625 & 3.3153125 \\\\\n",
        " \\hline\n",
        " 8 & 0.001953125 & 8.33765625 \\\\\n",
        " \\hline\n",
        "\\end{array}\n",
        "\\\n",
        "Таким образом, получаем, что критерий $χ^2 = 18.66234$\n",
        "\\\n",
        "Т.к. $χ^2 > x_α$, то гипотеза отвергается.  "
      ],
      "metadata": {
        "id": "CE0qb810Fmo-"
      }
    },
    {
      "cell_type": "code",
      "source": [
        "freq <- c(23, 19, 3, 2, 1, 0, 0, 1, 1)\n",
        "pI <- c(0,1,2,3,4,5,6,7,8)\n",
        "\n",
        "dgeom <- function(x, lambda){\n",
        "  return((lambda)^x / (lambda + 1)^(x + 1));\n",
        "}\n",
        "\n",
        "for(i in 1:length(pI)){\n",
        "    pI[i] <- dgeom(pI[i], 1)\n",
        "}\n",
        "sum(pI)\n",
        "\n",
        "X2 <- rep(NA, times = length(freq))\n",
        "for(i in 1:length(freq)){\n",
        "  X2[i] <- ((freq[i] - 50 * pI[i])^2)/(50 * pI[i])\n",
        "}\n",
        "\n",
        "print(sum(X2))"
      ],
      "metadata": {
        "colab": {
          "base_uri": "https://localhost:8080/",
          "height": 52
        },
        "id": "hFnz_zASFzcS",
        "outputId": "243f03c6-1374-4fef-c900-88826a1a5a27"
      },
      "execution_count": 20,
      "outputs": [
        {
          "output_type": "display_data",
          "data": {
            "text/html": [
              "0.998046875"
            ],
            "text/markdown": "0.998046875",
            "text/latex": "0.998046875",
            "text/plain": [
              "[1] 0.9980469"
            ]
          },
          "metadata": {}
        },
        {
          "output_type": "stream",
          "name": "stdout",
          "text": [
            "[1] 18.66234\n"
          ]
        }
      ]
    },
    {
      "cell_type": "markdown",
      "source": [
        "###h-f)\n",
        "$H_0: p_k ≡ F_0$ - основная теория, где $p_k$ - функция геометрического распределения, а $F_0$ - функция распределения наших исходных значений.\n",
        "\\\n",
        "$H_0: p_k(x) \\ne F_0(x)$ - альтернативная теория при некотором $x \\in ℝ$\n",
        "\\\n",
        "Значения $p_i$ и $χ^2$ высчитывается аналогичным образом. Но теперь наша задача минизировать функцию $χ^2$, подобрав определённое значение $λ$. Воспользуемся языком R.\n",
        "\\\n",
        "Получаем, что функция $χ^2$ будет минимальной при $λ=1.363414$. При этом $χ^2 = 12.99711$.\n",
        "\\\n",
        "Значение λ не попадает в доверительный интервал, а также $χ^2 > x_α$, поэтому гипотеза отвергается.  "
      ],
      "metadata": {
        "id": "IxiwX8nYYAhI"
      }
    },
    {
      "cell_type": "code",
      "source": [
        "freq <- c(23, 19, 3, 2, 1, 0, 0, 1, 1)\n",
        "pI <- c(0,1,2,3,4,5,6,7,8)\n",
        "\n",
        "f_main_pois <- function(lambda){\n",
        "  for(i in 1:length(pI)){\n",
        "    pI[i] <- dgeom(pI[i], lambda)\n",
        "  }\n",
        "\n",
        "  X2 <- rep(NA, times = length(freq))\n",
        "  for(i in 1:length(freq)){\n",
        "    X2[i] <- ((freq[i] - 50 * pI[i])^2)/(50 * pI[i])\n",
        "  }\n",
        "\n",
        "  return(sum(X2))\n",
        "}\n",
        "\n",
        "optimize(f_main_pois, c(0,100))"
      ],
      "metadata": {
        "colab": {
          "base_uri": "https://localhost:8080/",
          "height": 114
        },
        "id": "ZdxxUUZfG_62",
        "outputId": "074bba2e-b369-4ef5-8c9b-278f6d30906e"
      },
      "execution_count": 21,
      "outputs": [
        {
          "output_type": "display_data",
          "data": {
            "text/html": [
              "<dl>\n",
              "\t<dt>$minimum</dt>\n",
              "\t\t<dd>1.36341414667764</dd>\n",
              "\t<dt>$objective</dt>\n",
              "\t\t<dd>12.9971132369566</dd>\n",
              "</dl>\n"
            ],
            "text/markdown": "$minimum\n:   1.36341414667764\n$objective\n:   12.9971132369566\n\n\n",
            "text/latex": "\\begin{description}\n\\item[\\$minimum] 1.36341414667764\n\\item[\\$objective] 12.9971132369566\n\\end{description}\n",
            "text/plain": [
              "$minimum\n",
              "[1] 1.363414\n",
              "\n",
              "$objective\n",
              "[1] 12.99711\n"
            ]
          },
          "metadata": {}
        }
      ]
    },
    {
      "cell_type": "markdown",
      "source": [
        "###2) В результате эксперимента получены данные, приведённые в таблице 2.\n",
        "###a) Построить вариационный ряд, эмпирическую функцию распределения, гистограмму и полигон частот с шагом h = 0,2.\n",
        "Вариационный ряд для чисел из второй таблицы: (0.000, 0.000, 0.002, 0.004, 0.004, 0.005, 0.005, 0.007, 0.010, 0.012, 0.013, 0.015, 0.020, 0.025, 0.029, 0.029, 0.047, 0.056, 0.058, 0.065, 0.098, 0.133, 0.154, 0.174, 0.217, 0.246, 0.248, 0.281, 0.306, 0.319, 0.373, 0.400, 0.402, 0.424, 0.428, 0.429, 0.429, 0.522, 0.616, 0.693, 0.720, 0.730, 0.911, 0.929, 1.033, 1.119, 1.301, 1.352, 1.371, 3.679)\n",
        "\\\n",
        "Эмпирическая функция распределения для непрерывной случайно величины будет иметь вид: $F_n(x) = \\frac{1}{n}\\sum_{i=1}^n \\large𝟙_{\\{X_i < x\\}}$"
      ],
      "metadata": {
        "id": "n9Qn9n1sY8sr"
      }
    },
    {
      "cell_type": "code",
      "source": [
        "numbers <- c(0.000, 0.000, 0.002, 0.004, 0.004, 0.005, 0.005, 0.007, 0.010, 0.012, 0.013, 0.015, 0.020, 0.025, 0.029, 0.029, 0.047, 0.056, 0.058, 0.065, 0.098, 0.133, 0.154, 0.174, 0.217, 0.246, 0.248, 0.281, 0.306, 0.319, 0.373, 0.400, 0.402, 0.424, 0.428, 0.429, 0.429, 0.522, 0.616, 0.693, 0.720, 0.730, 0.911, 0.929, 1.033, 1.119, 1.301, 1.352, 1.371, 3.679)\n",
        "\n",
        "ecdf_object <- ecdf(numbers)\n",
        "\n",
        "plot(ecdf_object, col = \"blue\", main = \"Эмпирическая функция\", xlab = \"Значение\", ylab = \"Вероятность\")"
      ],
      "metadata": {
        "colab": {
          "base_uri": "https://localhost:8080/",
          "height": 437
        },
        "id": "Mm1RPB7obZvy",
        "outputId": "ddcf99a8-3a06-4043-8e6f-e3382c60ac42"
      },
      "execution_count": 22,
      "outputs": [
        {
          "output_type": "display_data",
          "data": {
            "text/plain": [
              "Plot with title “Эмпирическая функция”"
            ],
            "image/png": "[encoded data removed]"
          },
          "metadata": {
            "image/png": {
              "width": 420,
              "height": 420
            }
          }
        }
      ]
    },
    {
      "cell_type": "code",
      "source": [
        "numbers <- c(0.000, 0.000, 0.002, 0.004, 0.004, 0.005, 0.005, 0.007, 0.010, 0.012, 0.013, 0.015, 0.020, 0.025, 0.029, 0.029, 0.047, 0.056, 0.058, 0.065, 0.098, 0.133, 0.154, 0.174, 0.217, 0.246, 0.248, 0.281, 0.306, 0.319, 0.373, 0.400, 0.402, 0.424, 0.428, 0.429, 0.429, 0.522, 0.616, 0.693, 0.720, 0.730, 0.911, 0.929, 1.033, 1.119, 1.301, 1.352, 1.371, 3.679)\n",
        "\n",
        "hist_obj <- hist(numbers, breaks = seq(min(numbers) - 0.2, max(numbers) + 0.2, by = 0.2), main = \"Гистограмма и полигон частот\", xlab = \"Значения\", ylab = \"Частота\", freq = FALSE)\n",
        "lines(hist_obj$mids, hist_obj$density, 'b', col=\"blue\", pch=21)"
      ],
      "metadata": {
        "colab": {
          "base_uri": "https://localhost:8080/",
          "height": 437
        },
        "id": "_n8MOIZndbke",
        "outputId": "c63e7ce1-4d63-4655-ed76-098e4b6a2650"
      },
      "execution_count": 19,
      "outputs": [
        {
          "output_type": "display_data",
          "data": {
            "text/plain": [
              "Plot with title “Гистограмма и полигон частот”"
            ],
            "image/png": "[encoded data removed]"
          },
          "metadata": {
            "image/png": {
              "width": 420,
              "height": 420
            }
          }
        }
      ]
    },
    {
      "cell_type": "markdown",
      "source": [
        "###b) Вычислить выборочные аналоги следующих числовых характеристик:\n",
        "1) Математическое ожидание.\n",
        "\\\n",
        "2) Дисперсия.\n",
        "\\\n",
        "3) СКО.\n",
        "\\\n",
        "4) Медиана.\n",
        "\\\n",
        "5) Ассиметрия.\n",
        "\\\n",
        "6) Эксцесс.\n",
        "\\\n",
        "7) $P(X\\in[0,1.07]) = F_x(1.07) - F_x(0) = 0.86$"
      ],
      "metadata": {
        "id": "-D5s6tQGk6Cq"
      }
    },
    {
      "cell_type": "code",
      "source": [
        "library(e1071)\n",
        "\n",
        "cat(\"Мат. ожидание:\", mean(numbers),\"\\n\")\n",
        "cat(\"Дисперсия:\", var(numbers), \"\\n\")\n",
        "cat(\"СКО:\", sqrt(var(numbers)), \"\\n\")\n",
        "cat(\"Медиана:\", median(numbers), \"\\n\")\n",
        "cat(\"Ассиметрия:\", skewness(numbers), \"\\n\")\n",
        "cat(\"Эксцесс:\", kurtosis(numbers), \"\\n\")\n",
        "cat(\"P(X ∈ [0,1.07]):\", ecdf_object(1.07) - ecdf_object(0), \"\\n\")"
      ],
      "metadata": {
        "colab": {
          "base_uri": "https://localhost:8080/"
        },
        "id": "ctqlrdTZmvi_",
        "outputId": "0cdce45f-3e83-4e4c-dec9-5a03b345954d"
      },
      "execution_count": 24,
      "outputs": [
        {
          "output_type": "stream",
          "name": "stdout",
          "text": [
            "Мат. ожидание: 0.40886 \n",
            "Дисперсия: 0.3776633 \n",
            "СКО: 0.6145432 \n",
            "Медиана: 0.2315 \n",
            "Ассиметрия: 3.196374 \n",
            "Эксцесс: 13.50419 \n",
            "P(X ∈ [0,1.07]): 0.86 \n"
          ]
        }
      ]
    },
    {
      "cell_type": "markdown",
      "source": [
        "###c) В предположении, что исходные наблюдения являются выборкой из показательного распределения, построить оценку максимального правдоподобия λ, а также оценку λ по методу моментов. Найти смещение оценок.\n",
        "Показательное распределение $X ∼ Exp(λ)$: $f_X(x) = λexp(-λx) \\space \\large𝟙_{\\{X\\ge0\\}}$.\n",
        "\\\n",
        "Функция правдоподобия: $L(\\vec{X};θ) = λ^n exp(-λ\\sum_{i=1}^{n}{x_i}) \\space \\large𝟙_{\\{X_i\\ge0\\}}$\n",
        "\\\n",
        "$LL(\\vec{X};θ) = ln(λ)n -λ\\sum_{i=1}^{n}{x_i}$\n",
        "\\\n",
        "$\\frac{\\partial LL(\\vec{X};θ)}{\\partial λ} = \\frac{n}{λ}-\\sum_{i=1}^{n}{x_i}= 0$\n",
        "\\\n",
        "$\\widehat{λ} = \\frac{n}{\\sum_{i=1}^{n}{x_i}} = \\frac{1}{\\bar{x}}$ - получившееся ОМП.\n",
        "\\\n",
        "\\\n",
        "Теперь найдём оценку λ методом моментов:\n",
        "\\\n",
        "Математическое ожидание случайной величины показательного распределения через параметр λ: $EX = \\frac1λ$\n",
        "\\\n",
        "Эмпирическое математическое ожидание (выборочное) высчитывается по формуле: $EX = \\bar{x}$\n",
        "\\\n",
        "Отсюда следует, что $\\widetilde{λ} = \\frac{1}{\\bar{x}}$ - получившееся ОММ\n",
        "\\\n",
        "\\\n",
        "Оценки одинаковые, проверим их смещение:\n",
        "\\\n",
        "$E\\widehat{λ} = nE(\\sum_{i=1}^{n}{x_i})^{-1}$\n",
        "\\\n",
        "$E(\\sum_{i=1}^{n}{x_i})^{-1} = \\frac{λ}{n-1}$ (т.к. $X ∼ Exp(λ) \\iff X ∼ Gamma(1; \\frac1λ) $)\n",
        "\\\n",
        "$E\\widehat{λ} = \\frac{nλ}{n-1} \\implies λ' = \\frac{n-1}{n}\\widehatλ \\space -$смещённая оценка.   \n",
        "\\\n",
        "Ответ: $λ' = (49/50) * 1/0.40886 = 2.3969$"
      ],
      "metadata": {
        "id": "lbAoUMlEoios"
      }
    },
    {
      "cell_type": "markdown",
      "source": [
        "#### d) Построить асимптотический доверительный интервал уровня значимости $α_2 = 0.01$ для параметра λ на базе оценки максимального правдоподобия.\n",
        "1 способ) $θ = λ \\quad \\widehat{θ} = \\frac{1}{\\bar{x}}$\n",
        "\\\n",
        "$LL(\\vec{X};θ) = ln(λ)n -λ\\sum_{i=1}^{n}{x_i}$\n",
        "\\\n",
        "$I_n(λ) = -E\\frac{\\partial^2 LL(\\vec{X};θ)}{\\partial λ^2} = \\frac{n}{λ^2}$\n",
        "\\\n",
        "$I(λ) = \\frac{1}{λ^2}$\n",
        "\\\n",
        "$x_α: Φ(x_α) = 1 - \\frac{α}{2} \\rightarrow x_α = Φ^{-1}(1 - \\frac{α}{2})$\n",
        "\\\n",
        "$λ \\in [\\bar{x} - \\frac{x_α}{\\sqrt{nI(\\bar{x})}}, \\bar{x} + \\frac{x_α}{\\sqrt{nI(\\bar{x})}}]$ - полученный асимптотический доверительный интервал.\n",
        "\\\n",
        "$λ ∈ [1.554867; 3.336783]$"
      ],
      "metadata": {
        "id": "fBV-ATF1xVzs"
      }
    },
    {
      "cell_type": "code",
      "source": [
        "xa <- qnorm(0.995)\n",
        "xs <- 1/mean(numbers)\n",
        "Ix <- 1/xs^2\n",
        "\n",
        "sprintf(\"λ ∈ [%f; %f]\", xs - (xa)/sqrt(50*Ix), xs + (xa)/sqrt(50*Ix))"
      ],
      "metadata": {
        "colab": {
          "base_uri": "https://localhost:8080/",
          "height": 34
        },
        "id": "857BUrp6yb2o",
        "outputId": "93a9fe1d-11c8-422e-9860-f2e7ced9ecf5"
      },
      "execution_count": 25,
      "outputs": [
        {
          "output_type": "display_data",
          "data": {
            "text/html": [
              "'λ ∈ [1.554867; 3.336783]'"
            ],
            "text/markdown": "'λ ∈ [1.554867; 3.336783]'",
            "text/latex": "'λ ∈ {[}1.554867; 3.336783{]}'",
            "text/plain": [
              "[1] \"λ ∈ [1.554867; 3.336783]\""
            ]
          },
          "metadata": {}
        }
      ]
    },
    {
      "cell_type": "markdown",
      "source": [
        "###e) С использованием теоремы Колмоговора построить критерий значимости проверки простой гипотезы согласия с показательным распределением с параметром $λ_0 = 1.43$. Проверить гипотезу на уровне значимости $α_2 = 0.01$. Вычислить наибольшее значение уровня значимости, на котором ещё нет оснований отвергнуть данную гипотезу.\n",
        "$H_0: F ≡ F_0$ - основная теория, где $F$ - функция показательного распределения, а $F_0$ - функция распределения значений, причём $X ∼ exp(1.43)$.\n",
        "\\\n",
        "$H_0: F(x) \\ne F_0(x)$ - альтернативная теория при некотором $x \\in ℝ$\n",
        "\\\n",
        "Статистика критерия Колмагорова будет определяться как: $D_n = sup_{x \\in ℝ}|{F_0(x) - F(x)}|$\n",
        "\\\n",
        "Сам же критерий Колмагорова уровня значимости α определяется как:\n",
        "\\\n",
        "$\\widetilde{ϕ} = \\left\\{\n",
        "\\begin{array}{lr}\n",
        "  0, \\space при \\space D_n \\le x_α \\\\\n",
        "  1, \\space при \\space D_n \\gt x_α\n",
        "\\end{array}\n",
        "\\right.$, в это случае $x_α$ будет определяться как: $K_n(x_α) = 1 - \\alpha = 0.0.99$\n",
        "\\\n",
        "Определим, чему будет равно $x_α$ и $D_n$ с помощью языка R:\n",
        "\\\n",
        "$D_n = 0.31$, в то время как $x_a = 0.211$ (взято из таблицы), отсюда следует, что $D_n > x_a \\implies$ гипотеза принимается по Колмогорову."
      ],
      "metadata": {
        "id": "UFrx3VmZ0vyF"
      }
    },
    {
      "cell_type": "code",
      "source": [
        "Dn <- function(x){\n",
        "  return(abs(ecdf_object(x) - pexp(x, 1.43)))\n",
        "}\n",
        "\n",
        "x <- seq(-10, 10, by=0.001)\n",
        "y <- sapply(x, Dn)\n",
        "\n",
        "max(y)"
      ],
      "metadata": {
        "colab": {
          "base_uri": "https://localhost:8080/",
          "height": 34
        },
        "id": "LNYnhN6B-K61",
        "outputId": "4f1b69de-9d9a-47fa-8d8c-d90df6c1dc60"
      },
      "execution_count": 42,
      "outputs": [
        {
          "output_type": "display_data",
          "data": {
            "text/html": [
              "0.309936920505206"
            ],
            "text/markdown": "0.309936920505206",
            "text/latex": "0.309936920505206",
            "text/plain": [
              "[1] 0.3099369"
            ]
          },
          "metadata": {}
        }
      ]
    },
    {
      "cell_type": "markdown",
      "source": [
        "###f) Используя гистограмму частот, построить критерий значимости $χ^2$ проверки простой гипотезы согласия с показательным распределением с параметром $λ_0 = 1.43$. Проверить гипотезу на уровне значимости $α_2=0.01$. Вычислить наибольшее значение уровня значимости, на котором ещё нет оснований отвергнуть данную\n",
        "\\begin{array}{|c|c|c|}\n",
        " \\hline\n",
        " x_i & ν_i & s\\\\\n",
        " \\hline\n",
        " 1 & 24 & (-Inf,0.2] \\\\  \n",
        " \\hline\n",
        " 2 & 8 & (0.2,0.4] \\\\\n",
        " \\hline\n",
        " 3 & 6 & (0.4,0.6]\\\\\n",
        " \\hline\n",
        " 4 & 4 & (0.6,0.8]\\\\\n",
        " \\hline\n",
        " 5 & 2 & (0.8,1] \\\\\n",
        " \\hline\n",
        " 6 & 2 & (1,1.02] \\\\\n",
        " \\hline\n",
        " 7 & 3 & (1.02,1.04] \\\\\n",
        " \\hline\n",
        " 8 & 1 & (1.04, +Inf) \\\\\n",
        " \\hline\n",
        "\\end{array}\n",
        "\\\n",
        "$H_0: F ≡ F_0$ - основная теория, где $F$ - функция показательного, а $F_0$ - функция распределения наших исходных значений.\n",
        "\\\n",
        "$H_0: F(x) \\ne F_0(x)$ - альтернативная теория при некотором $x \\in ℝ$\n",
        "\\\n",
        "\\\n",
        "$p_{i}$ - гипотетические вероятности, вычисляемые как $p_i = F(I) = F(b) - F(a)$.\n",
        "\\\n",
        "Составим таблицу, в которую занесём вычисленные значения для $p_{i}$ и статистики (вычисления сделаны на языке R, см. ниже):\n",
        "\\\n",
        "\\begin{array}{|c|c|c|}\n",
        " \\hline\n",
        " i & p_i & \\frac{(ν_j-np_{j0})^2}{np_{j0}} \\\\\n",
        " \\hline\n",
        " 0 & 0.367879441171442 & 0.0199668600464226 \\\\  \n",
        " \\hline\n",
        " 1 & 0.183939720585721 & 4.17556748753131  \\\\\n",
        " \\hline\n",
        " 2 & 0.0613132401952404 & 0.370437287422361 \\\\\n",
        " \\hline\n",
        " 3 & 0.00306566200976202 & 0.153283100488101 \\\\\n",
        " \\hline\n",
        " 4 & 0.0031014366879367 & 0.0255471834146835 \\\\\n",
        " \\hline\n",
        " 5 & 0.00051094366829367 & 0.0255471834146835 \\\\\n",
        " \\hline\n",
        " 6 & 0.00051094366829367 & 0.0255471834146835 \\\\\n",
        " \\hline\n",
        " 7 & 0.00299195261338114 & 0.0002125471834146835 \\\\\n",
        " \\hline\n",
        " 8 & 0.00012399407667268 & 0.00055471834146835 \\\\\n",
        " \\hline\n",
        "\\end{array}\n",
        "\\\n",
        "Отсюда следует, что $χ^2 = 51.73268$. $χ^2 > x_α \\implies$ простая гипотеза опровергается."
      ],
      "metadata": {
        "id": "pdSkszd7HyaS"
      }
    },
    {
      "cell_type": "code",
      "source": [
        "leftInterval <- c(0, 0.2, 0.4, 0.6, 0.8, 1, 1.02, 1.04)\n",
        "rightInterval <- c(0.2, 0.4, 0.6, 0.8, 1, 1.02, 1.04, Inf)\n",
        "freq <- c(24, 8, 6, 4, 2, 2, 3, 1)\n",
        "\n",
        "f_dexp <- function(lI, rI){\n",
        "  result <- rep(NA, times = length(freq))\n",
        "  for(i in 1:length(freq)){\n",
        "    result[i] <- pexp(rI[i], 1.43) - pexp(lI[i], 1.43)\n",
        "  }\n",
        "  return(result)\n",
        "}\n",
        "\n",
        "p0j <- f_dexp(leftInterval, rightInterval)\n",
        "sum(p0j)\n",
        "\n",
        "stat_crit <- function(p0jc, freqc){\n",
        "  result <- rep(NA, times = length(freq))\n",
        "  for(i in 1:length(freq)){\n",
        "    result[i] <- ((freqc[i] - 50 * p0jc[i])^2)/(50 * p0jc[i])\n",
        "  }\n",
        "  return(result)\n",
        "}\n",
        "\n",
        "X2 <- stat_crit(p0j, freq)\n",
        "print(sum(X2))"
      ],
      "metadata": {
        "colab": {
          "base_uri": "https://localhost:8080/",
          "height": 52
        },
        "id": "NWkzPBlEI-7D",
        "outputId": "db043f03-979b-407d-9fd7-b28b11ccf603"
      },
      "execution_count": 27,
      "outputs": [
        {
          "output_type": "display_data",
          "data": {
            "text/html": [
              "1"
            ],
            "text/markdown": "1",
            "text/latex": "1",
            "text/plain": [
              "[1] 1"
            ]
          },
          "metadata": {}
        },
        {
          "output_type": "stream",
          "name": "stdout",
          "text": [
            "[1] 51.73268\n"
          ]
        }
      ]
    },
    {
      "cell_type": "code",
      "source": [
        "x_a <- qchisq(0.99, 7)\n",
        "print(x_a)"
      ],
      "metadata": {
        "colab": {
          "base_uri": "https://localhost:8080/"
        },
        "id": "Si_jK6nVLXKG",
        "outputId": "d27319c6-714f-46d3-ac1a-f80bf8cbe38f"
      },
      "execution_count": 28,
      "outputs": [
        {
          "output_type": "stream",
          "name": "stdout",
          "text": [
            "[1] 18.47531\n"
          ]
        }
      ]
    },
    {
      "cell_type": "markdown",
      "source": [
        "###g) Построить критерий значимости  χ2  проверки сложной гипотезы согласия с показательным распределением. Проверить гипотезу на уровне значимости  α2 = 0.01 . Вычислить наибольшее значение уровня значимости, на котором ещё нет оснований отвергнуть данную гипотезу.\n",
        "Повторяя рассуждения из аналогичного задания, получим, что минимум $χ^2$ будет больше, чем $x_α$, поэтому гипотеза опровергается."
      ],
      "metadata": {
        "id": "QpGtVNYEhM4k"
      }
    },
    {
      "cell_type": "code",
      "source": [
        "lI <- c(0, 0.2, 0.4, 0.6, 0.8, 1, 1.02, 1.04)\n",
        "rI <- c(0.2, 0.4, 0.6, 0.8, 1, 1.02, 1.04, Inf)\n",
        "freq <- c(24, 8, 6, 4, 2, 2, 3, 1)\n",
        "\n",
        "f_main_exp <- function(lambda){\n",
        "  p0j <- rep(NA, times = length(freq))\n",
        "  for(i in 1:length(freq)){\n",
        "    p0j[i] <- pexp(rI[i], lambda) - pexp(lI[i], lambda)\n",
        "  }\n",
        "\n",
        "  X2 <- rep(NA, times = length(freq))\n",
        "  for(i in 1:length(freq)){\n",
        "    X2[i] <- ((freq[i] - 50 * p0j[i])^2)/(50 * p0j[i])\n",
        "  }\n",
        "\n",
        "  return(sum(X2))\n",
        "}\n",
        "\n",
        "optimize(f_main_exp, c(0.1,4))"
      ],
      "metadata": {
        "colab": {
          "base_uri": "https://localhost:8080/",
          "height": 114
        },
        "id": "w9ZttLZnLcfX",
        "outputId": "500c1857-0aef-4784-9d0e-da9253db3b06"
      },
      "execution_count": 29,
      "outputs": [
        {
          "output_type": "display_data",
          "data": {
            "text/html": [
              "<dl>\n",
              "\t<dt>$minimum</dt>\n",
              "\t\t<dd>1.7435114531651</dd>\n",
              "\t<dt>$objective</dt>\n",
              "\t\t<dd>48.9612698084092</dd>\n",
              "</dl>\n"
            ],
            "text/markdown": "$minimum\n:   1.7435114531651\n$objective\n:   48.9612698084092\n\n\n",
            "text/latex": "\\begin{description}\n\\item[\\$minimum] 1.7435114531651\n\\item[\\$objective] 48.9612698084092\n\\end{description}\n",
            "text/plain": [
              "$minimum\n",
              "[1] 1.743511\n",
              "\n",
              "$objective\n",
              "[1] 48.96127\n"
            ]
          },
          "metadata": {}
        }
      ]
    },
    {
      "cell_type": "markdown",
      "source": [
        "###h) Построить наиболее мощный критерий проверки простой гипотезы пуассоновости с параметром $λ = λ_0 = 1.43$ при альтернативе пуассоновости с параметром $λ = λ_1 = 0.36$. Проверить гипотезу на уровне значимости $α_1= 0.01$ . Что получится, если поменять местами основную и альтернативную гипотезы.\n",
        "$H_0: F(λ_0) ≡ F_0$ - основная теория, где $F$ - функция показательного распределения, а $F_0$ - функция распределения наших исходных значений.\n",
        "\\\n",
        "$H_1: F(λ_1) ≡ F_0$ - альтернативная теория.\n",
        "\\\n",
        "По теореме Неймана-Пирса наиболее мощный критерий будет иметь следующий вид:\n",
        "\\\n",
        "$ϕ(x)=\\begin{cases}\n",
        "   1, \\space при \\space LR(x) > c \\\\\n",
        "   p, \\space при \\space LR(x) = c \\\\\n",
        "   0, \\space при \\space LR(x) < c \\\\     \n",
        "\\end{cases}$, где LR - отношение функций правдободия от $λ_1$ и $λ_0$, а $p$ и $c$ определяются из уравнения: $E_{θ_0}φ(X) = P_{θ_0} (LR(X) > c) + pP_{θ_0} (LR(X) = c) = α$.\n",
        "\\\n",
        "\\\n",
        "Функция правдоподобия для показательного распределения имеет вид:\n",
        "\\\n",
        "$L(\\vec{X}; θ_0) = λ_0^n exp(-λ_0\\sum_{i=1}^{n}{x_i}) \\space \\large𝟙_{\\{X_i\\ge0\\}}$\n",
        "\\\n",
        "$L(\\vec{X}; θ_1) = λ_1^n exp(-λ_1\\sum_{i=1}^{n}{x_i}) \\space \\large𝟙_{\\{X_i\\ge0\\}}$\n",
        "\\\n",
        "Отсюда следует, что $LR(X) = \\frac{L(\\vec{X}; θ_0)}{L(\\vec{X}; θ_1)} = \\left(\\frac{λ_0}{λ_1}\\right)^n exp((λ_1-λ_0)n\\bar{X}) = 3.97^{n}exp(-53.5\\bar{X})$, где $\\bar{X} -$ МДС.\n",
        "\\\n",
        "\\\n",
        "Рассмотрим $LR(X) > c$ :\n",
        "\\\n",
        "$3.97^nexp(-53.5\\bar{X}) > c$\n",
        "\\\n",
        "$nln(3.97)-53.5\\bar{X} > ln(c)$\n",
        "\\\n",
        "$\\bar{X} < \\frac{ln(c) - nln(3.97)}{53.5} = c^*$\n",
        "\\\n",
        "Наиболее мощный критерий можно записать в терминах $\\bar{X}:$\n",
        "\\\n",
        "$ϕ(x)=\\begin{cases}\n",
        "   1, \\space при \\space \\bar{X} < c^* \\\\\n",
        "   p, \\space при \\space \\bar{X} = c^* \\\\\n",
        "   0, \\space при \\space \\bar{X} > c^* \\\\     \n",
        "\\end{cases}$\n",
        "\\\n",
        "\\\n",
        "Для нахождения $c^*$ воспользуемся формулой показательного распределения:\n",
        "\\\n",
        "$F_{λ_0} (LR(X) > c) + pF_{λ_0}(LR(X) = c) = α^2$\n",
        "\\\n",
        "$F_{λ_0}(n\\bar{X}>nc^*) = 1 - F_{expon(λ_0)}(nc^*) = α_2$\n",
        "\\\n",
        "$F_{expon(λ_0)}(nc^*) = 1 - α_2 = 0.99$\n",
        "\\\n",
        "Используя язык R получаем, что $c^*=0.064$\n",
        "\\\n",
        "Т.к. $\\bar{X} = 0.4 > c*$, гипотеза $H_0: F(λ_0) ≡ F_0 \\space -$ отвергается.\n",
        "\\\n",
        "\\\n",
        "Теперь поменяем альтернативную теорию местами с основной:\n",
        "\\\n",
        "$H_0: F(λ_1) ≡ F_0$ - основная теория.\n",
        "\\\n",
        "$H_1: F(λ_0) ≡ F_0$ - альтернативная теория.\n",
        "\\\n",
        "$LR(X) = \\frac{L(\\vec{X}; θ_1)}{L(\\vec{X}; θ_0)} = \\left(\\frac{λ_1}{λ_0}\\right)^n exp((λ_0-λ_1)n\\bar{X}) = 0.25^{n}exp(53.5\\bar{X})$, где $\\bar{X} -$ МДС.\n",
        "\\\n",
        "\\\n",
        "Рассмотрим $LR(X) > c$ :\n",
        "\\\n",
        "$0.25^nexp(53.5\\bar{X}) > c$\n",
        "\\\n",
        "$nln(0.25)+53.5\\bar{X} > ln(c)$\n",
        "\\\n",
        "$\\bar{X} > \\frac{nln(0.25)-ln(c)}{53.5} = c^*$\n",
        "\\\n",
        "Наиболее мощный критерий можно записать в терминах $\\bar{X}:$\n",
        "\\\n",
        "$ϕ(x)=\\begin{cases}\n",
        "   1, \\space при \\space \\bar{X} > c^* \\\\\n",
        "   p, \\space при \\space \\bar{X} = c^* \\\\\n",
        "   0, \\space при \\space \\bar{X} < c^* \\\\     \n",
        "\\end{cases}$\n",
        "\\\n",
        "\\\n",
        "Для нахождения $c^*$ воспользуемся формулой показательного распределения:\n",
        "\\\n",
        "$F_{λ_1} (LR(X) > c) + pF_{λ_1}(LR(X) = c) = α^2$\n",
        "\\\n",
        "$F_{λ_1}(n\\bar{X}>nc^*) = 1 - F_{expon(λ_1)}(nc^*) = α_2$\n",
        "\\\n",
        "$F_{expon(λ_1)}(nc^*) = 1 - α_2 = 0.99$\n",
        "\\\n",
        "Используя язык R получаем, что $c^*=0.26$\n",
        "\\\n",
        "Т.к. $\\bar{X} = 0.4 > c*$, гипотеза $H_0: F(λ_1) ≡ F_0 \\space -$ принимается.\n",
        "\n",
        "\n",
        "\n",
        "\n",
        "\n",
        "\n",
        "\n"
      ],
      "metadata": {
        "id": "RKVG87zCPTNo"
      }
    },
    {
      "cell_type": "code",
      "source": [
        "c <- qexp(0.99, 1.43)/50\n",
        "sprintf(\"C* при λ0: %f\", c)\n",
        "\n",
        "c <- qexp(0.99, 0.36)/50\n",
        "sprintf(\"C* при λ1: %f\", c)"
      ],
      "metadata": {
        "colab": {
          "base_uri": "https://localhost:8080/",
          "height": 52
        },
        "id": "FBjJynmgX-No",
        "outputId": "9aa2df5e-19fe-45c2-8c36-b4c4c81a9d80"
      },
      "execution_count": 5,
      "outputs": [
        {
          "output_type": "display_data",
          "data": {
            "text/html": [
              "'C* при λ0: 0.064408'"
            ],
            "text/markdown": "'C* при λ0: 0.064408'",
            "text/latex": "'C* при λ0: 0.064408'",
            "text/plain": [
              "[1] \"C* при λ0: 0.064408\""
            ]
          },
          "metadata": {}
        },
        {
          "output_type": "display_data",
          "data": {
            "text/html": [
              "'C* при λ1: 0.255843'"
            ],
            "text/markdown": "'C* при λ1: 0.255843'",
            "text/latex": "'C* при λ1: 0.255843'",
            "text/plain": [
              "[1] \"C* при λ1: 0.255843\""
            ]
          },
          "metadata": {}
        }
      ]
    },
    {
      "cell_type": "markdown",
      "source": [
        "###i) В пунктах (с)-(h) заменить семейство показательных распределений на семейство гамма-распределений с плотностями $p_λ(x)=\\frac{\\sqrt{λ}exp(-λx/2)}{\\sqrt{2πx}}$ (использовать таблицу распределений $χ^2_1$).\n",
        "###i-c)\n",
        "Функция правдоподобия: $L(\\vec{X};θ) = λ^{n/2}exp(\\frac{-λ}{2}\\sum_{i=1}^{n}{x_i}) (2π)^{-n/2}(\\prod_{i=1}^{n}x_i)^{-n/2}$\n",
        "\\\n",
        "$LL(\\vec{X};θ) = ln(λ)\\frac{n}{2} - \\frac{λ}{2}\\sum_{i=1}^{n}{x_i} - \\frac{n}{2}2π - \\frac{n}{2}\\prod_{i=1}^{n}x_i$\n",
        "\\\n",
        "$\\frac{\\partial LL(\\vec{X};θ)}{\\partial λ} = \\frac{n}{2λ} - \\frac{1}{2}\\sum_{i=1}^{n}{x_i} = 0$\n",
        "\\\n",
        "$\\widehat{λ} = \\frac{n}{\\sum_{i=1}^{n}{x_i}} = \\frac{1}{\\bar{x}}$ - получившееся ОМП.\n",
        "\\\n",
        "\\\n",
        "Теперь найдём оценку λ методом моментов:\n",
        "\\\n",
        "Моменты случайной величины показательного распределения: $\\left\\{\n",
        "\\begin{array}{lr}\n",
        "  E1 = EX  \\\\\n",
        "  E2 = EX^2 = DX + (EX)^2\n",
        "\\end{array}\n",
        "\\right.$\n",
        "\\\n",
        "Эмпирические моменты (выборочные) высчитываются по формуле: $\\left\\{\n",
        "\\begin{array}{lr}\n",
        "  M1 = \\bar{X}  \\\\\n",
        "  M2 = S^2 + \\bar{X}^2\n",
        "\\end{array}\n",
        "\\right.$\n",
        "\\\n",
        "\\\n",
        "Приравниваем эмпирические и теоретические значения:\n",
        "\\\n",
        "$\\left\\{\n",
        "\\begin{array}{lr}\n",
        "  kθ = \\bar{X}  \\\\\n",
        "  kθ^2 + (kθ)^2 = S^2 + \\bar{X}^2\n",
        "\\end{array}\n",
        "\\right.$\n",
        "\\\n",
        "$\\left\\{\n",
        "\\begin{array}{lr}\n",
        "  kθ = \\bar{X}  \\\\\n",
        "  kθ^2 = S^2  \n",
        "\\end{array}\n",
        "\\right.$\n",
        "\\\n",
        "Отсюда следует, что $\\widetilde{k} = \\frac{\\bar{X}^2}{S^2} \\quad \\widetilde{θ} = \\frac{S^2}{\\bar{X}}$ - исходя из формулы плотности распределения $θ = \\frac{2}{λ} \\implies \\widetilde{λ} = \\frac{2\\bar{X}}{S^2}$\n",
        "\\\n",
        "\\\n",
        "Оценки разные, проверим их смещение:\n",
        "\\\n",
        "$E\\widehat{λ} = nE(\\sum_{i=1}^{n}{x_i})^{-1}$\n",
        "\\\n",
        "$E(\\sum_{i=1}^{n}{x_i})^{-1} = \\frac{λ}{n-2}$ (т.к. $\\sum^n_{i=1} X_i ∼ Gamma(n/2; \\frac2λ) $)\n",
        "\\\n",
        "$E\\widehat{λ} = \\frac{nλ}{n-2} \\implies λ' = \\frac{n-2}{n}\\widehatλ \\space -$несмещённая оценка.   \n",
        "\\\n",
        "$E\\widetilde{λ} = \\frac{2n}{s^2}E\\sum_{i=1}^{n}{x_i}=\\frac{2n}{s^2} * nkλ = \\frac{n^2}{s^2}λ$\n",
        "\\\n",
        "$λ' = \\frac{s^2}{n^2}\\widetildeλ \\space -$ несмещённая оценка.   "
      ],
      "metadata": {
        "id": "su8kZXDOhu8O"
      }
    },
    {
      "cell_type": "markdown",
      "source": [
        "###i-d)\n",
        "1 способ) $θ = \\frac{2}{λ} \\quad \\widehat{θ} = \\frac{1}{\\bar{x}}$\n",
        "\\\n",
        "$LL(\\vec{X};θ) = ln(λ)\\frac{n}{2} - \\frac{λ}{2}\\sum_{i=1}^{n}{x_i} - \\frac{n}{2}2π - \\frac{n}{2}\\prod_{i=1}^{n}x_i $\n",
        "\\\n",
        "$I_n(λ) = -E\\frac{\\partial^2 LL(\\vec{X};θ)}{\\partial λ^2} = \\frac{n}{2λ^2}$\n",
        "\\\n",
        "$I(λ) = \\frac{1}{2λ^2}$\n",
        "\\\n",
        "$x_α: Φ(x_α) = 1 - \\frac{α}{2} \\rightarrow x_α = Φ^{-1}(1 - \\frac{α}{2})$\n",
        "\\\n",
        "$λ \\in [\\bar{x} - \\frac{x_α}{\\sqrt{nI(\\bar{x})}}, \\bar{x} + \\frac{x_α}{\\sqrt{nI(\\bar{x})}}]$ - полученный асимптотический доверительный интервал.\n",
        "\\\n",
        "$λ ∈ [1.185819; 3.705831]$\n"
      ],
      "metadata": {
        "id": "OoRasjIG_nng"
      }
    },
    {
      "cell_type": "code",
      "source": [
        "xa <- qnorm(0.995)\n",
        "xs <- 1/mean(numbers)\n",
        "Ix <- 1/(2*xs^2)\n",
        "\n",
        "sprintf(\"λ ∈ [%f; %f]\", xs - (xa)/sqrt(50*Ix), xs + (xa)/sqrt(50*Ix))"
      ],
      "metadata": {
        "colab": {
          "base_uri": "https://localhost:8080/",
          "height": 34
        },
        "id": "-SV2zc05Aq4f",
        "outputId": "ce8bae44-a21f-4edd-cb56-dfe946aa9582"
      },
      "execution_count": 31,
      "outputs": [
        {
          "output_type": "display_data",
          "data": {
            "text/html": [
              "'λ ∈ [1.185819; 3.705831]'"
            ],
            "text/markdown": "'λ ∈ [1.185819; 3.705831]'",
            "text/latex": "'λ ∈ {[}1.185819; 3.705831{]}'",
            "text/plain": [
              "[1] \"λ ∈ [1.185819; 3.705831]\""
            ]
          },
          "metadata": {}
        }
      ]
    },
    {
      "cell_type": "markdown",
      "source": [],
      "metadata": {
        "id": "rntWBxD-BHp3"
      }
    },
    {
      "cell_type": "markdown",
      "source": [
        "###i-e)\n",
        "$H_0: F ≡ F_0$ - основная теория, где $F$ - функция гамма распределения, а $F_0$ - функция распределения значений, причём $X ∼ exp(1.43)$.\n",
        "\\\n",
        "$H_0: F(x) \\ne F_0(x)$ - альтернативная теория при некотором $x \\in ℝ$\n",
        "\\\n",
        "Статистика критерия Колмагорова будет определяться как: $D_n = sup_{x \\in ℝ}|{F_0(x) - F(x)}|$\n",
        "\\\n",
        "Сам же критерий Колмагорова уровня значимости α определяется как:\n",
        "\\\n",
        "$\\widetilde{ϕ} = \\left\\{\n",
        "\\begin{array}{lr}\n",
        "  0, \\space при \\space D_n \\le x_α \\\\\n",
        "  1, \\space при \\space D_n \\gt x_α\n",
        "\\end{array}\n",
        "\\right.$, в это случае $x_α$ будет определяться как: $K_n(x_α) = 1 - \\alpha = 0.99$\n",
        "\\\n",
        "Определим, чему будет равно $x_α$ и $D_n$ с помощью языка R:\n",
        "\\\n",
        "$D_n = 0.098$, в то время как $x_a = 0.211$ (взято из таблицы), отсюда следует, что $D_n < x_a \\implies$ гипотеза отвергается по Колмогорову."
      ],
      "metadata": {
        "id": "PHPuCVnRBHu6"
      }
    },
    {
      "cell_type": "code",
      "source": [
        "ecdf_object <- ecdf(numbers)\n",
        "\n",
        "Dn <- function(x){\n",
        "  return(abs(ecdf_object(x) - pgamma(x, 0.5, 1.43)))\n",
        "}\n",
        "\n",
        "x <- seq(-10, 10, by=0.001)\n",
        "y <- sapply(x, Dn)\n",
        "\n",
        "max(y)"
      ],
      "metadata": {
        "colab": {
          "base_uri": "https://localhost:8080/",
          "height": 34
        },
        "id": "Bn7Za0PrBpD1",
        "outputId": "45b7aaba-1752-49e1-8231-c78110f1f795"
      },
      "execution_count": 41,
      "outputs": [
        {
          "output_type": "display_data",
          "data": {
            "text/html": [
              "0.0983260981592585"
            ],
            "text/markdown": "0.0983260981592585",
            "text/latex": "0.0983260981592585",
            "text/plain": [
              "[1] 0.0983261"
            ]
          },
          "metadata": {}
        }
      ]
    },
    {
      "cell_type": "markdown",
      "source": [
        "###i-f)\n",
        "Для выполнения задания достаточно поменять в алгоритме функцию распределения. Таким образом, $χ^2 = 78.22$. Это больше, чем $x_α \\implies$ гипотеза опровергается"
      ],
      "metadata": {
        "id": "OOR7KWbLDAbt"
      }
    },
    {
      "cell_type": "code",
      "source": [
        "leftInterval <- c(0, 0.2, 0.4, 0.6, 0.8, 1, 1.02, 1.04)\n",
        "rightInterval <- c(0.2, 0.4, 0.6, 0.8, 1, 1.02, 1.04, Inf)\n",
        "freq <- c(24, 8, 6, 4, 2, 2, 3, 1)\n",
        "\n",
        "f_dexp <- function(lI, rI){\n",
        "  result <- rep(NA, times = length(freq))\n",
        "  for(i in 1:length(freq)){\n",
        "    result[i] <- pgamma(rI[i], 0.5, 1.43) - pgamma(lI[i], 0.5, 1.43)\n",
        "  }\n",
        "  return(result)\n",
        "}\n",
        "\n",
        "p0j <- f_dexp(leftInterval, rightInterval)\n",
        "sum(p0j)\n",
        "\n",
        "stat_crit <- function(p0jc, freqc){\n",
        "  result <- rep(NA, times = length(freq))\n",
        "  for(i in 1:length(freq)){\n",
        "    result[i] <- ((freqc[i] - 50 * p0jc[i])^2)/(50 * p0jc[i])\n",
        "  }\n",
        "  return(result)\n",
        "}\n",
        "\n",
        "X2 <- stat_crit(p0j, freq)\n",
        "print(sum(X2))"
      ],
      "metadata": {
        "colab": {
          "base_uri": "https://localhost:8080/",
          "height": 52
        },
        "id": "4yof93MpDOJw",
        "outputId": "40a0ec7f-9919-4cac-8f8f-4458d6d11705"
      },
      "execution_count": 43,
      "outputs": [
        {
          "output_type": "display_data",
          "data": {
            "text/html": [
              "1"
            ],
            "text/markdown": "1",
            "text/latex": "1",
            "text/plain": [
              "[1] 1"
            ]
          },
          "metadata": {}
        },
        {
          "output_type": "stream",
          "name": "stdout",
          "text": [
            "[1] 78.22021\n"
          ]
        }
      ]
    },
    {
      "cell_type": "markdown",
      "source": [
        "###i-g)\n",
        "Аналогично, получаем, что минимальный $χ^2 = 58.2531$, что также больше, чем $x_α$, поэтому сложная гипотеза также опровергается."
      ],
      "metadata": {
        "id": "nTvy0ZSLESL0"
      }
    },
    {
      "cell_type": "code",
      "source": [
        "lI <- c(0, 0.2, 0.4, 0.6, 0.8, 1, 1.02, 1.04)\n",
        "rI <- c(0.2, 0.4, 0.6, 0.8, 1, 1.02, 1.04, Inf)\n",
        "freq <- c(24, 8, 6, 4, 2, 2, 3, 1)\n",
        "\n",
        "f_main_exp <- function(lambda){\n",
        "  p0j <- rep(NA, times = length(freq))\n",
        "  for(i in 1:length(freq)){\n",
        "    p0j[i] <- pgamma(rI[i], 0.5, lambda) - pgamma(lI[i], 0.5, lambda)\n",
        "  }\n",
        "\n",
        "  X2 <- rep(NA, times = length(freq))\n",
        "  for(i in 1:length(freq)){\n",
        "    X2[i] <- ((freq[i] - 50 * p0j[i])^2)/(50 * p0j[i])\n",
        "  }\n",
        "\n",
        "  return(sum(X2))\n",
        "}\n",
        "\n",
        "optimize(f_main_exp, c(0.1,4))"
      ],
      "metadata": {
        "colab": {
          "base_uri": "https://localhost:8080/",
          "height": 114
        },
        "id": "G1l9EJrjERdc",
        "outputId": "a2d7daab-6462-4e93-e94c-37823816cd32"
      },
      "execution_count": 44,
      "outputs": [
        {
          "output_type": "display_data",
          "data": {
            "text/html": [
              "<dl>\n",
              "\t<dt>$minimum</dt>\n",
              "\t\t<dd>0.749488984500207</dd>\n",
              "\t<dt>$objective</dt>\n",
              "\t\t<dd>58.2531304082425</dd>\n",
              "</dl>\n"
            ],
            "text/markdown": "$minimum\n:   0.749488984500207\n$objective\n:   58.2531304082425\n\n\n",
            "text/latex": "\\begin{description}\n\\item[\\$minimum] 0.749488984500207\n\\item[\\$objective] 58.2531304082425\n\\end{description}\n",
            "text/plain": [
              "$minimum\n",
              "[1] 0.749489\n",
              "\n",
              "$objective\n",
              "[1] 58.25313\n"
            ]
          },
          "metadata": {}
        }
      ]
    },
    {
      "cell_type": "markdown",
      "source": [
        "###i-h)\n",
        "$H_0: F(λ_0) ≡ F_0$ - основная теория, где $F$ - функция гамма распределения, а $F_0$ - функция распределения наших исходных значений.\n",
        "\\\n",
        "$H_1: F(λ_1) ≡ F_0$ - альтернативная теория.\n",
        "\\\n",
        "По теореме Неймана-Пирса наиболее мощный критерий будет иметь следующий вид:\n",
        "\\\n",
        "$ϕ(x)=\\begin{cases}\n",
        "   1, \\space при \\space LR(x) > c \\\\\n",
        "   p, \\space при \\space LR(x) = c \\\\\n",
        "   0, \\space при \\space LR(x) < c \\\\     \n",
        "\\end{cases}$, где LR - отношение функций правдободия от $λ_1$ и $λ_0$, а $p$ и $c$ определяются из уравнения: $E_{θ_0}φ(X) = P_{θ_0} (LR(X) > c) + pP_{θ_0} (LR(X) = c) = α$.\n",
        "\\\n",
        "\\\n",
        "Функция правдоподобия для гамма распределения имеет вид:\n",
        "\\\n",
        "$L(\\vec{X}; θ_0) = λ_0^{n/2}exp(\\frac{-λ_0}{2}\\sum_{i=1}^{n}{x_i}) (2π)^{-n/2}(\\prod_{i=1}^{n}x_i)^{-n/2}$\n",
        "\\\n",
        "$L(\\vec{X}; θ_1) =λ_1^{n/2}exp(\\frac{-λ_1}{2}\\sum_{i=1}^{n}{x_i}) (2π)^{-n/2}(\\prod_{i=1}^{n}x_i)^{-n/2}$\n",
        "\\\n",
        "Отсюда следует, что $LR(X) = \\frac{L(\\vec{X}; θ_0)}{L(\\vec{X}; θ_1)} = \\left(\\frac{λ_0}{λ_1}\\right)^{n/2} exp(\\frac{(λ_1-λ_0)n}{2} \\bar{X}) = 3.97^{n/2}exp(-26.75\\bar{X})$, где $\\bar{X} -$ МДС.\n",
        "\\\n",
        "\\\n",
        "Рассмотрим $LR(X) > c$ :\n",
        "\\\n",
        "$3.97^{n/2}exp(-26.75\\bar{X}) > c$\n",
        "\\\n",
        "$(n/2)ln(3.97)-26.75\\bar{X} > ln(c)$\n",
        "\\\n",
        "$\\bar{X} < \\frac{(n/2ln(3.97) - ln(c)}{26.75)} = c^*$\n",
        "\\\n",
        "Наиболее мощный критерий можно записать в терминах $\\bar{X}:$\n",
        "\\\n",
        "$ϕ(x)=\\begin{cases}\n",
        "   1, \\space при \\space \\bar{X} < c^* \\\\\n",
        "   p, \\space при \\space \\bar{X} = c^* \\\\\n",
        "   0, \\space при \\space \\bar{X} > c^* \\\\     \n",
        "\\end{cases}$\n",
        "\\\n",
        "\\\n",
        "Для нахождения $c^*$ воспользуемся формулой гамма распределения:\n",
        "\\\n",
        "$F_{λ_0} (LR(X) > c) + pF_{λ_0}(LR(X) = c) = α^2$\n",
        "\\\n",
        "$F_{λ_0}(n\\bar{X}>nc^*) = 1 - F_{Gamma(n/2, 2/λ_0)}(nc^*) = α_2$\n",
        "\\\n",
        "$F_{Gamma(n/2, 2/λ_0)}(nc^*) = 1 - α_2 = 0.99$\n",
        "\\\n",
        "Используя язык R получаем, что $c^*=1.06$\n",
        "\\\n",
        "Т.к. $\\bar{X} = 0.4 < c*$, гипотеза $H_0: F(λ_0) ≡ F_0 \\space -$ принимается.\n",
        "\\\n",
        "\\\n",
        "\\\n",
        "Теперь поменяем альтернативную теорию местами с основной:\n",
        "\\\n",
        "$H_0: F(λ_1) ≡ F_0$ - основная теория.\n",
        "\\\n",
        "$H_1: F(λ_0) ≡ F_0$ - альтернативная теория.\n",
        "\\\n",
        "$LR(X) = \\frac{L(\\vec{X}; θ_1)}{L(\\vec{X}; θ_0)} = \\left(\\frac{λ_1}{λ_0}\\right)^{n/2} exp(\\frac{(λ_0-λ_1)n}{2} \\bar{X}) = 0.24^{n/2}exp(26.75\\bar{X})$, где $\\bar{X} -$ МДС.\n",
        "\\\n",
        "\\\n",
        "Рассмотрим $LR(X) > c$ :\n",
        "\\\n",
        "$0.24^{n/2}exp(26.75\\bar{X}) > c$\n",
        "\\\n",
        "$(n/2)ln(0.24)+26.75\\bar{X} > ln(c)$\n",
        "\\\n",
        "$\\bar{X} > \\frac{(ln(c) - n/2ln(0.24)}{26.75)} = c^*$\n",
        "\\\n",
        "Наиболее мощный критерий можно записать в терминах $\\bar{X}:$\n",
        "\\\n",
        "$ϕ(x)=\\begin{cases}\n",
        "   1, \\space при \\space \\bar{X} > c^* \\\\\n",
        "   p, \\space при \\space \\bar{X} = c^* \\\\\n",
        "   0, \\space при \\space \\bar{X} < c^* \\\\     \n",
        "\\end{cases}$\n",
        "\\\n",
        "\\\n",
        "Для нахождения $c^*$ воспользуемся формулой гамма распределения:\n",
        "\\\n",
        "$F_{λ_1} (LR(X) > c) + pF_{λ_1}(LR(X) = c) = α^2$\n",
        "\\\n",
        "$F_{λ_1}(n\\bar{X}>nc^*) = 1 - F_{Gamma(n/2, 2/λ_1)}(nc^*) = α_2$\n",
        "\\\n",
        "$F_{Gamma(n/2, 2/λ_1)}(nc^*) = 1 - α_2 = 0.99$\n",
        "\\\n",
        "Используя язык R получаем, что $c^*=4.47$\n",
        "\\\n",
        "Т.к. $\\bar{X} = 0.4 < c*$, гипотеза $H_0: F(λ_1) ≡ F_0 \\space -$ отвергается."
      ],
      "metadata": {
        "id": "m2rHY8CJEw7o"
      }
    },
    {
      "cell_type": "code",
      "source": [
        "c <- qgamma(0.99, 50/2, 1.43/2)/50\n",
        "sprintf(\"C* при λ0: %f\", c)\n",
        "\n",
        "c <- qgamma(0.99, 50/2, 0.36/2)/50\n",
        "sprintf(\"C* при λ1: %f\", c)"
      ],
      "metadata": {
        "colab": {
          "base_uri": "https://localhost:8080/",
          "height": 52
        },
        "id": "Nxa2CKHFJP06",
        "outputId": "afcc39ba-3991-4f4b-ebe4-4abba6409303"
      },
      "execution_count": 4,
      "outputs": [
        {
          "output_type": "display_data",
          "data": {
            "text/html": [
              "'C* при λ0: 1.065089'"
            ],
            "text/markdown": "'C* при λ0: 1.065089'",
            "text/latex": "'C* при λ0: 1.065089'",
            "text/plain": [
              "[1] \"C* при λ0: 1.065089\""
            ]
          },
          "metadata": {}
        },
        {
          "output_type": "display_data",
          "data": {
            "text/html": [
              "'C* при λ1: 4.230772'"
            ],
            "text/markdown": "'C* при λ1: 4.230772'",
            "text/latex": "'C* при λ1: 4.230772'",
            "text/plain": [
              "[1] \"C* при λ1: 4.230772\""
            ]
          },
          "metadata": {}
        }
      ]
    },
    {
      "cell_type": "markdown",
      "metadata": {
        "id": "-ByyzYLb8bwz"
      },
      "source": [
        "## Выводы\n",
        "В ходе данной лабораторной работы:\n",
        "- Были исследованы методы математической статистики, в частности: вычисление выборочных характеристик выборок, нахождение НРМД оценки для распределения, доказательство простых и сложных гипотез и др.\n",
        "- Для выполнения работы изучена необходимая теоретическая база, которая включает в себя: теорему Колмагорова для доказательства простых теорий, теорема Неймана-Пирса для нахождения наиболее мощного критерия и др.\n",
        "- Реализованы программы, выполняющие вычисления для используемых алгоритмов, а также строящие необходимые графики. Весь код написан на языке R."
      ]
    }
  ],
  "metadata": {
    "kernelspec": {
      "display_name": "R",
      "name": "ir"
    },
    "language_info": {
      "name": "R"
    },
    "colab": {
      "provenance": []
    }
  },
  "nbformat": 4,
  "nbformat_minor": 0
}