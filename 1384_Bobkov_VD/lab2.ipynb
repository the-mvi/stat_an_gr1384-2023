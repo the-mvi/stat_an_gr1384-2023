{
 "cells": [
  {
   "cell_type": "markdown",
   "metadata": {},
   "source": [
    "# Лабораторная работа №2: Классические методы математической статистики\n",
    "Выполнил студент гр. 1384 Бобков Владислав. Вариант №3"
   ]
  },
  {
   "cell_type": "markdown",
   "metadata": {},
   "source": [
    "## Цель работы\n",
    "Научится применять методы математической статистики для решения задач статистического анализа;\n",
    "сформировать навыки реализации методов с помощью прикладных программных пакетов."
   ]
  },
  {
   "cell_type": "markdown",
   "metadata": {},
   "source": [
    "## Основные теоретические положения\n",
    "\n",
    "*Выборочный аналог математического ожидания - выборочное среднее:*\n",
    "$$\\overline{X} =\\frac{1}{n}\\sum_{i=1}^{n}x_i$$\n",
    "\n",
    "*Выборочная дисперсия и СКО:*\n",
    "$$S^2 =\\frac{1}{n}\\sum_{i=1}^{n}\\left(x_i-\\overline{X}\\right)$$\n",
    "\n",
    "$$S=\\sqrt{S^2}$$\n",
    "\n",
    "\n",
    "*Выборочный коэффициент асимметрии:*\n",
    "$$\\widehat{\\mathrm{Skew}}X=\\frac{1}{n}\\frac{\\sum \\limits_{i=1}^{n}\\left(x_i-\\overline{X}\\right)^3}{S^3}$$\n",
    "\n",
    "*Выборочный коэффициент эксцесса:*\n",
    "$$\\widehat{\\mathrm{Kurt}}X=\\frac{1}{n}\\frac{\\sum \\limits_{i=1}^{n}\\left(x_i-\\overline{X}\\right)^4}{S^4}-3$$\n",
    "\n",
    "*Метод максимального правдоподобия* - это метод оценивания неизвестного параметра путём максимизации функции правдоподобия\n",
    " $$L(\\overrightarrow{X},\\theta)=\\prod_{i=1}^{n}P_{\\theta}(X_{i})$$\n",
    "\n",
    "*Метод моментов* — метод оценки неизвестных параметров распределений, идея метода заключается в замене истинных соотношений выборочными аналогами.\n",
    "\n",
    "*Статистика критерия Колмогорова:*\n",
    "$$D_n = sup_{x \\in \\mathbb{R}}|F_n(x) - F_0(x)|$$\n",
    "\n",
    "*Критерий $\\chi^2$ для проверки гипотез*\n",
    "\n",
    "Основан на справнении теоритической плотности распределения и гистограммы, либо теоритической вероятностной меры и полигона частот.\n",
    "\n",
    "Разобъем множество значений сл. вел. X на $N$ интервалов $I_{1}, ..., I_{N}:$ $I_{i} = (a_{i-1}, a_i], i = \\overline {1,N}$. данные интервалы не пересекаются и покрывают всё множество возможных значений сл. вел. X.\n",
    "\n",
    "Обозначим через $p_{i}$ теоритическую вероятность попадания сл. вел. X в интервал $I_{i}$, при условии, что справедлива $H_{0}$.\n",
    "\n",
    "$p_{i} = P(X \\in I_{i}|H_{0})$\n",
    "\n",
    "Через $n_{i}$ обозначим число наблюдений нашей выборки, попавших в соответветствующий интервал $I_{i}$.\n",
    "\n",
    "$n_{i} = \\nu(x_{j} \\in I_{i})$\n",
    "\n",
    "Статистика критерия основана на сравнении относительной частоты и теоритической.\n",
    "\n",
    "$\\chi^{2} = \\sum \\limits_{i=1}^{N} \\frac{n}{p_{i}} \\bigg ( \\frac{n_{i}}{n} - p_{i} \\bigg )^{2} = \\sum \\limits_{i=1}^{N} \\frac{(n_{i} - p_{i} n)^{2}}{n p_{i}} \\sim \\chi^{2}_{N-1}$\n",
    "\n",
    "**Теорема Колмогорова:**\n",
    "\n",
    "$\\sqrt{n}D_n \\rightarrow K$, при основной гипотезе\n",
    "\n",
    "**Наиболее мощный критерий:**\n",
    "\n",
    "$$ \\phi(x) =\\left\\{\n",
    "  \\begin{array}{l}\n",
    "    1, LR(x) > с \\\\\n",
    "    p, LR(x) = с \\\\\n",
    "    0, LR(x) < с \\\\\n",
    "  \\end{array}\\right.$$\n",
    "\n",
    "\n"
   ]
  },
  {
   "cell_type": "markdown",
   "metadata": {},
   "source": [
    "## Постановка задачи\n",
    "Для полученных в результате эксперимента наборов данных выполнить статистическую обработку. Полученные результаты содержательно проинтерпретировать."
   ]
  },
  {
   "cell_type": "markdown",
   "metadata": {},
   "source": [
    "## Выполнение работы"
   ]
  },
  {
   "cell_type": "markdown",
   "metadata": {},
   "source": [
    "### 1.a Построить вариационный ряд, эмпирическую функцию распределения и гистограмму частот.\n"
   ]
  },
  {
   "cell_type": "code",
   "execution_count": 192,
   "metadata": {},
   "outputs": [
    {
     "name": "stdout",
     "output_type": "stream",
     "text": [
      "Вариационный ряд:\n",
      "[0, 0, 0, 0, 0, 0, 0, 0, 0, 0, 0, 0, 1, 1, 1, 1, 1, 1, 1, 1, 1, 1, 1, 1, 1, 1, 2, 2, 2, 2, 2, 2, 2, 2, 3, 3, 3, 3, 4, 4, 4, 4, 4, 5, 5, 5, 5, 6, 6, 7]\n"
     ]
    }
   ],
   "source": [
    "import numpy as np\n",
    "import seaborn as sns\n",
    "import matplotlib.pyplot as plt\n",
    "from mpl_toolkits.mplot3d import Axes3D\n",
    "from scipy import stats as sp\n",
    "import scipy\n",
    "import warnings\n",
    "from scipy.stats import poisson, kstwobign,gamma,chi2,expon\n",
    "\n",
    "warnings.filterwarnings(\"ignore\")\n",
    "table1 = [1, 5, 1, 5, 3, 0, 3, 0, 0, 0, 0, 5, 1, 5, 0, 2, 1, 7, 1, 6, 2, 2, 2, 2, 0, 1, 1, 2, 3, 1, 6, 0, 1, 2, 0, 1, 1, 2, 0, 4, 3, 1, 4, 0, 4, 1, 4, 1, 4, 0]\n",
    "table1_sorted = sorted(table1)\n",
    "print(\"Вариационный ряд:\")\n",
    "print(table1_sorted)\n",
    "\n",
    "\n",
    "\n",
    "\n",
    "\n"
   ]
  },
  {
   "cell_type": "code",
   "execution_count": 193,
   "metadata": {},
   "outputs": [
    {
     "name": "stdout",
     "output_type": "stream",
     "text": [
      "Функция распределения\n",
      "F(x) =  0.0  если -inf < x <= 0\n",
      "F(x) =  0.24  если 0 < x <= 1\n",
      "F(x) =  0.52  если 1 < x <= 2\n",
      "F(x) =  0.68  если 2 < x <= 3\n",
      "F(x) =  0.76  если 3 < x <= 4\n",
      "F(x) =  0.86  если 4 < x <= 5\n",
      "F(x) =  0.94  если 5 < x <= 6\n",
      "F(x) =  0.98  если 6 < x <= 7\n",
      "F(x) = 1, x >  7\n"
     ]
    }
   ],
   "source": [
    "def empirical_function(table):\n",
    "    func = []\n",
    "    for i in range(len(table)):\n",
    "        v_i = 0\n",
    "        for j in range(i):\n",
    "            if table[j] < table[i]:\n",
    "                v_i += 1\n",
    "        func.append(v_i / len(table))\n",
    "    return func\n",
    "\n",
    "func1 = empirical_function(table1_sorted)\n",
    "new_array1 = sorted(list(set(func1)))\n",
    "new_table1 = sorted(list(set(table1_sorted)))\n",
    "\n",
    "print(\"Функция распределения\")\n",
    "for i in range(len(new_array1)):\n",
    "    print(\"F(x) = \", new_array1[i], \" если\", end=\" \")\n",
    "    if i==0:\n",
    "        print(\"-inf < x <=\", new_table1[i])\n",
    "    else:\n",
    "        print(new_table1[i - 1],\"< x <=\", new_table1[i])\n",
    "print(\"F(x) = 1, x > \", new_table1[len(new_table1) - 1])"
   ]
  },
  {
   "cell_type": "code",
   "execution_count": 194,
   "metadata": {},
   "outputs": [
    {
     "data": {
      "image/png": "[encoded data removed]",
      "text/plain": [
       "<Figure size 640x480 with 1 Axes>"
      ]
     },
     "metadata": {},
     "output_type": "display_data"
    }
   ],
   "source": [
    "sns.ecdfplot(table1_sorted) #построение эмпирической функции распределения\n",
    "\n",
    "plt.title(\"график эмпирической функции распределения\")\n",
    "plt.xlabel(\"x\")\n",
    "plt.ylabel(\"F(x)\")\n",
    "plt.show()"
   ]
  },
  {
   "cell_type": "code",
   "execution_count": 195,
   "metadata": {},
   "outputs": [
    {
     "data": {
      "image/png": "[encoded data removed]",
      "text/plain": [
       "<Figure size 640x480 with 1 Axes>"
      ]
     },
     "metadata": {},
     "output_type": "display_data"
    }
   ],
   "source": [
    "hist, bins,_ = plt.hist(table1_sorted, bins=range(min(table1_sorted), max(table1_sorted) + 2), edgecolor='black')\n",
    "plt.title('Гистограмма частот')\n",
    "plt.show()"
   ]
  },
  {
   "cell_type": "markdown",
   "metadata": {},
   "source": [
    "### 1.b Вычислить выборочные аналоги следующих числовых характеристик:"
   ]
  },
  {
   "cell_type": "code",
   "execution_count": 196,
   "metadata": {},
   "outputs": [
    {
     "name": "stdout",
     "output_type": "stream",
     "text": [
      "Выборочное математическое ожидание:  2.02\n",
      "Выборочная дисперсия:  3.5796\n",
      "СКО:  1.891983086605163\n",
      "Коэффициент ассиметрии:  0.8394507481295517\n",
      "Выборочная медиана 0.5\n",
      "Коэффициент эксцесса -0.3031182736366498\n",
      "Вероятность того, что х принадлежит промежутку [ 0 , 4.45 ]: 0.86\n"
     ]
    }
   ],
   "source": [
    "def find_properties(array,a,b):\n",
    "    x_a = np.mean(array)\n",
    "    print(\"Выборочное математическое ожидание: \", x_a)\n",
    "    squared_list = [x**2 for x in array]\n",
    "    s_sq = sum(squared_list) / len(squared_list) - x_a ** 2\n",
    "    print(\"Выборочная дисперсия: \", s_sq)\n",
    "    SKO = np.sqrt(s_sq)\n",
    "    print(\"СКО: \",SKO)\n",
    "    new_data1 = [((x - x_a) ** 3) / (SKO ** 3) for x in array]\n",
    "    skew = sum(new_data1) / len(new_data1)\n",
    "    print(\"Коэффициент ассиметрии: \", skew)\n",
    "    median = 0\n",
    "    if len(array) % 2 == 0:\n",
    "        median = (array[len(array)//2 - 1] + array[len(array)//2]) / 2\n",
    "    else:\n",
    "        median = array[len(array)//2]\n",
    "    print(\"Выборочная медиана\", median)\n",
    "    new_data2 = [((x - x_a) ** 4 )/ (SKO ** 4) for x in array]\n",
    "    kurt = sum(new_data2)/len(new_data2) - 3\n",
    "    print(\"Коэффициент эксцесса\",kurt)\n",
    "    count = 0\n",
    "    for i in range(len(array)):\n",
    "        if array[i] >= a and array[i] <=b: \n",
    "            count+=1\n",
    "    print(\"Вероятность того, что х принадлежит промежутку [\",a,\",\",b,\"]:\", count/len(array))\n",
    "    return x_a, s_sq, SKO, median, skew, kurt\n",
    "\n",
    "x_a1, s_sq1, SKO1, median1, skew1, kurt1 = find_properties(table1,0,4.45)    "
   ]
  },
  {
   "cell_type": "markdown",
   "metadata": {},
   "source": [
    "$\\overline{X} =\\frac{1}{n}\\sum_{i=1}^{n}x_i= 2.02$\n",
    "\n",
    "$S^2 =\\frac{1}{n}\\sum_{i=1}^{n}\\left(x_i-\\overline{X}\\right)=3.5796$\n",
    "\n",
    "$S=\\sqrt{S^2}=1.891983086605163$\n",
    "\n",
    "$z_{50,\\frac{1}{2}} = 1$\n",
    "\n",
    "$\\widehat{\\mathrm{Skew}}X=\\frac{1}{n}\\frac{\\sum \\limits_{i=1}^{n}\\left(x_i-\\overline{X}\\right)^3}{S^3} = 0.8394507481295514$\n",
    "\n",
    "$\\widehat{\\mathrm{Kurt}}X=\\frac{1}{n}\\frac{\\sum \\limits_{i=1}^{n}\\left(x_i-\\overline{X}\\right)^4}{S^4}-3 = -0.30311827363665067$\n",
    "\n",
    "$\\mathbb{P}\\left(x \\in \\left[a, b\\right]\\right)$, a = 0.00, b = 4.45:\n",
    "\n",
    "$\\mathbb{P}\\left(x \\in \\left[a, b\\right]\\right) = 0.86$ \n"
   ]
  },
  {
   "cell_type": "markdown",
   "metadata": {},
   "source": [
    "### 1.c В предположении, что исходные наблюдения являются выборкой из распределения Пуассона, построить оценку максимального правдоподобия параметра $\\lambda$, а также оценку $\\lambda$ по методу моментов. Найти смещение оценок."
   ]
  },
  {
   "cell_type": "markdown",
   "metadata": {},
   "source": [
    "*Плотность распределения пуассона*:\n",
    "$q_{\\theta} = \\frac{\\lambda^x}{x!}e^{-\\lambda}$\n",
    "\n",
    "*Оценка максимального правдоподобия:*\n",
    "\n",
    "$ L\\left(\\vec{X}, \\theta \\right) =\\prod\\limits_{i = 1}^nq_{\\theta}\\left(x_i\\right)=\\prod\\limits_{i = 1}^n\\frac{\\lambda^x_i}{x_i!}e^{-\\lambda} =  \\lambda^{\\sum \\limits_{i=1}^{n}x_i} \\cdot e^{-n\\lambda} \\cdot \\prod\\limits_{i = 1}^n\\frac{1}{x_i!}$\n",
    "\n",
    "$LL\\left(\\vec{X}, \\theta \\right) = \\sum \\limits_{i=1}^{n}x_i \\cdot \\ln{\\lambda} - n\\lambda + \\ln{\\prod\\limits_{i = 1}^n\\frac{1}{\\large x_i!}}$\n",
    "\n",
    "$ \\frac{\\partial LL\\left(\\vec{X}, \\theta \\right)}{\\partial \\lambda} = \\frac{\\sum \\limits_{i=1}^{n}x_i}{\\lambda} - n = 0 \\Rightarrow \\widehat{\\theta} = \\widehat{\\lambda} = \\overline{X}$ - ОМП\n",
    "\n",
    "*Оценка методом моментов:*\n",
    "\n",
    "$\\mathbb{E}X_1 = \\lambda$ - математическое ожидание (теоретическая величина)\n",
    "\n",
    "$\\mathrm{M_1} = \\overline{X}$ - выборочное среднее (выборочная величина),\n",
    "Следовательно, $\\widehat{\\theta} = \\widehat{\\lambda} = \\overline{X}$\n",
    "\n",
    "Так как оценки получились одинаковыми, проверку на смещение можно провести 1 раз:\n",
    "\n",
    "$\\mathbb{E}_{\\theta}\\widehat{\\theta} = \\mathbb{E}_{\\theta}\\overline{X} = \\mathbb{E}_{\\theta}\\frac{1}{n}\\sum \\limits_{i=1}^{n}x_i = \\frac{1}{n} \\cdot n \\cdot \\lambda = \\lambda \\Rightarrow$ несмещённая оценка."
   ]
  },
  {
   "cell_type": "markdown",
   "metadata": {},
   "source": [
    "### 1.d Построить асимптотичексий доверительный интервал уровня значимости $\\alpha_1$ для параметра $\\lambda$ на базе оценки максимального правдоподобия."
   ]
  },
  {
   "cell_type": "markdown",
   "metadata": {},
   "source": [
    "$\\alpha_1 = 0.20$\n",
    "\n",
    "*Плотность распределения Пуассона*:\n",
    "\n",
    "$ q_{\\theta} = \\frac{\\lambda^x}{x!}e^{-\\lambda}$\n",
    "\n",
    "$\\widehat{\\theta} = \\widehat{\\lambda} = \\overline{X}$\n",
    "\n",
    "\n",
    "Так как распределение симметричное:\n",
    "\n",
    "$x_{\\alpha} : \\mathrm{\\Phi}(x_{\\alpha}) = 1 - \\frac{\\alpha}{2} = 1 - \\frac{0.20}{2} = 0.9$, где $\\alpha = \\alpha_1 = 0.20$\n",
    "\n",
    "$\\mathrm{\\Phi}(x_{\\alpha}) = 0.90 \\Rightarrow x_{\\alpha} = 1.65 $ из таблицы значений функции Лапласа\n",
    "\n",
    "*Асимптотический доверительный интервал:(3 способ)*\n",
    "\n",
    "$\\left[\\overline{X} - \\sqrt{\\frac{S}{n}} \\cdot x_{\\alpha} , \\overline{X} + \\sqrt{\\frac{S}{n}} \\cdot x_{\\alpha}\\right] \\ni \\lambda$\n",
    "\n",
    "Таким образом, АДИ уровня значимости $\\alpha_1$ для параметра $\\lambda$:\n",
    "$\\left[1.5785147567585074,  2.4614852432414924\\right] \\ni \\lambda$"
   ]
  },
  {
   "cell_type": "code",
   "execution_count": 197,
   "metadata": {},
   "outputs": [
    {
     "name": "stdout",
     "output_type": "stream",
     "text": [
      "АДИ уровня доверия  0.8 :\n",
      "[ 1.5785147567585074 , 2.4614852432414924 ]\n"
     ]
    }
   ],
   "source": [
    "x_alpha1 = 1.65\n",
    "alpha1 = 0.2\n",
    "\n",
    "def find_interval(array,x_a,sko,x_alpha,alpha):\n",
    "    print(\"АДИ уровня доверия \",1 - alpha,\":\")\n",
    "    print(\"[\",x_a - (x_alpha * sko)/ np.sqrt(len(array)) ,\",\", x_a + (x_alpha * sko)/ np.sqrt(len(array)),\"]\")\n",
    "find_interval(table1,x_a1,SKO1,x_alpha1,alpha1)\n",
    "    "
   ]
  },
  {
   "cell_type": "markdown",
   "metadata": {},
   "source": [
    "### 1.е Используя гистограмму частот, построить критерий значимости $\\chi^2$ проверки простой гипотезы согласия с распределением Пуассона с параметром $\\lambda_0 = 4$. Проверить гипотезу на уровне значимости $\\alpha_1 = 0.20$. Вычислить наибольшее значение уровня значимости, на котором ещё нет оснований отвергнуть данную гипотезу."
   ]
  },
  {
   "cell_type": "markdown",
   "metadata": {},
   "source": [
    "\n",
    "Значения дл $P_i$ нужно взять согласно гистограмме частот.\n",
    "\n",
    "Из таблицы: $\\chi_{k-1, \\alpha_1}^2 = \\chi_{7, 0.2}^2 = 9.80$\n",
    "\n",
    "Получили: $\\chi^2 = 176.79$\n",
    "\n",
    "Так как $\\chi^2 > \\chi_{6, 0.2}^2$, то гипотезу отвергаем\n",
    "\n",
    "Наибольшее значение уровня значимости, при котором ещё нет оснований отвергнуть данную гипотезу слишком мало, исходя из значений таблицы $\\chi^2$"
   ]
  },
  {
   "cell_type": "code",
   "execution_count": 198,
   "metadata": {},
   "outputs": [
    {
     "name": "stdout",
     "output_type": "stream",
     "text": [
      "Ожидаемые частоты:  [12, 14, 8, 4, 5, 4, 2, 1]\n",
      "[0.0183, 0.0733, 0.1465, 0.1954, 0.1954, 0.1563, 0.1042, 0.1107]\n",
      "Значение критерия Хи-квадрат:  176.79039217074813\n",
      "Критическое значение: 9.803249900240838\n",
      "p-value =  0.19999999999999996\n",
      "Наибольшее значение уровня значимости, на котором ещё нет оснований отвергнуть данную гипотезу: 0.0\n"
     ]
    }
   ],
   "source": [
    "import math\n",
    "lambda0 = 4\n",
    "hist = [12, 14,  8,  4,  5,  4,  2,  1] \n",
    "bins = [0, 1, 2, 3, 4, 5, 6]\n",
    "#print(hist,bins)\n",
    "def get_chi2(lambda0, freq , bins,table,alpha,free):\n",
    "    n = len(table)\n",
    "    poisson_dist = poisson(lambda0)\n",
    "    print(\"Ожидаемые частоты: \",freq)\n",
    "    pi = [0] * (len(bins) + 1)\n",
    "    pi[0] = round(poisson_dist.cdf(bins[0]),4)\n",
    "    for i in range(1,len(bins)):\n",
    "        pi[i] = round(poisson_dist.cdf(bins[i]) - poisson_dist.cdf(bins[i - 1]),4)\n",
    "    pi[len(bins)] = round(1 - poisson_dist.cdf(bins[-1]),4)\n",
    "    print(pi)\n",
    "    chi_sq = [0] * len(freq)\n",
    "    for i in range(len(freq)):\n",
    "        chi_sq[i] = ((freq[i] - n * pi[i]) ** 2 ) / (n * pi[i])\n",
    "    chi = sum(chi_sq)\n",
    "    #вычисление критерия хи квадрат\n",
    "    print(\"Значение критерия Хи-квадрат: \",chi)\n",
    "    print(\"Критическое значение:\", chi2.ppf(1 - alpha, df = free))\n",
    "    print('p-value = ', 1 - chi2.cdf(chi2.ppf(1 - alpha, df = free), free))\n",
    "    print(\"Наибольшее значение уровня значимости, на котором ещё нет оснований отвергнуть данную гипотезу:\", 1 - chi2.cdf(chi, df = free))\n",
    "\n",
    "get_chi2(lambda0,hist,bins,table1,0.2,7)"
   ]
  },
  {
   "cell_type": "markdown",
   "metadata": {},
   "source": [
    "### 1.f Построить критерий значимости $\\chi^2$ проверки сложной гипотезы согласия с распределением Пуассона. Проверить гипотезу на уровне значимости $\\alpha_1 = 0.2$. Вычислить наибольшее значение значение уровня значимости, на котором ещё нет оснований отвергнуть данную гипотезу."
   ]
  },
  {
   "cell_type": "markdown",
   "metadata": {},
   "source": [
    "Для проверки гипотезы нужно минимизировать значение критерия ХИ-квадрат, подбирая значение $\\lambda$\n",
    "   \n",
    "Получили: $\\chi^2 = 16.774$\n",
    "\n",
    "Из таблицы: $\\chi_{k-2, \\alpha_1}^2 = \\chi_{6, 0.2}^2 = 8.55$\n",
    "\n",
    "Так как $\\chi^2 < \\chi_{6, 0.2}^2$ , то гипотезу нельзя принять \n",
    "\n",
    "Наибольшее значение уровня значимости, при котором ещё нет оснований отвергнуть данную гипотезу равно 0.01, исходя из таблицы значений $\\chi^2$."
   ]
  },
  {
   "cell_type": "code",
   "execution_count": 199,
   "metadata": {},
   "outputs": [
    {
     "name": "stdout",
     "output_type": "stream",
     "text": [
      "Значение критерия Хи-квадрат:  16.774398807662124\n",
      "Значение лямбда:  2.1242555836502377\n",
      "Критическое значение: 8.558059720250668\n",
      "p-value =  0.19999999999999996\n",
      "Наибольшее значение уровня значимости, на котором ещё нет оснований отвергнуть данную гипотезу: 0.010149120000339296\n"
     ]
    }
   ],
   "source": [
    "def chi2_min(lmbd):\n",
    "    n = len(table1)\n",
    "    poisson_dist = poisson(lmbd)\n",
    "    freq = np.array(hist)\n",
    "    pi = np.zeros(len(bins) + 1)\n",
    "    pi[0] = round(poisson_dist.cdf(bins[0]),10)\n",
    "    for i in range(1,len(bins)):\n",
    "        pi[i] = round(poisson_dist.cdf(bins[i]) - poisson_dist.cdf(bins[i - 1]),10)\n",
    "    pi[len(bins)] = round(1 - poisson_dist.cdf(bins[-1]),10)\n",
    "    chi_sq = np.zeros(len(freq))\n",
    "    chi_sq = ((freq - n * pi) ** 2 ) / (n * pi)\n",
    "    chi = np.sum(chi_sq)\n",
    "    return chi\n",
    "\n",
    "result = scipy.optimize.minimize_scalar(chi2_min)\n",
    "    #вычисление критерия хи квадрат\n",
    "print(\"Значение критерия Хи-квадрат: \",result.fun)\n",
    "print(\"Значение лямбда: \", result.x)\n",
    "print(\"Критическое значение:\", sp.chi2.ppf(1 - 0.2, df = 6))\n",
    "print('p-value = ', 1 - sp.chi2.cdf(sp.chi2.ppf(1 - 0.2, df = 6), 6))\n",
    "print(\"Наибольшее значение уровня значимости, на котором ещё нет оснований отвергнуть данную гипотезу:\", 1 - sp.chi2.cdf(result.fun, df = 6))"
   ]
  },
  {
   "cell_type": "markdown",
   "metadata": {},
   "source": [
    "### 1.g Построить наиболее мощный критерий проверки простой гипотезы пуассоновости с параметром $\\lambda = \\lambda_0 = 4$ при альтернативе пуассоновости с параметром $\\lambda = \\lambda_1 = 2$. Проверить гипотезу на уровне значимости $\\alpha_1 = 0.2$. Что получится, если поменять местами основную и альтернативную гипотезы?"
   ]
  },
  {
   "cell_type": "markdown",
   "metadata": {},
   "source": [
    "$\\lambda_0 = 4, \\; \\lambda_1 = 2, \\; \\alpha_1 = 0.2$\n",
    "\n",
    "$ H_0 : X \\sim Pois(\\lambda_0), \\\\\n",
    "H_A : X \\sim Pois(\\lambda_1)$\n",
    "\n",
    "Согласно лемме Неймана-Пирсона, наиболее мощный критерий проверки гипотезы $H_0$ при альтернативе $H_A$ имеет вид:\n",
    "\n",
    "$\\phi(\\overrightarrow X) = \\begin{cases}\n",
    "  0, LR(\\overrightarrow X, \\lambda_0, \\lambda_1) < C \\\\\n",
    "  p, LR(\\overrightarrow X, \\lambda_0, \\lambda_1) = C \\\\\n",
    "  1, LR(\\overrightarrow X, \\lambda_0, \\lambda_1) > C\n",
    "\\end{cases} $\n",
    "\n",
    "$LR(\\overrightarrow{X},\\lambda_{1},\\lambda_{0}) = \\frac{L\\left( \\overrightarrow{X},\\lambda_{1} \\right)}{L\\left( \\overrightarrow{X},\\lambda_{0} \\right)}= \\frac{\\lambda_{1}^{\\sum_{i=1}^{n}X_{i}}\\cdot exp(-n\\cdot \\lambda_{1})}{\\lambda_{0}^{\\sum_{i=1}^{n}X_{i}}\\cdot exp(-n\\cdot \\lambda_{0})}$\n",
    "\n",
    "$LR(\\overrightarrow{X}, 2, 4) = 0.5 ^{\\sum_{i=1}^{n}X_{i}} \\cdot e ^{2n}\n",
    "= 0.5 ^{n \\bar X} \\cdot e ^{2n}$\n",
    "\n",
    "Наиболее мощный критерий:\n",
    "\n",
    "$\\phi(\\overrightarrow X) = \\begin{cases}\n",
    "  0, 0.5 ^{n \\bar X} \\cdot e ^{2n} < C \\\\\n",
    "  p, 0.5 ^{n \\bar X} \\cdot e ^{2n} = C \\\\\n",
    "  1, 0.5 ^{n \\bar X} \\cdot e ^{2n} > C\n",
    "\\end{cases} $\n",
    "\n",
    "$T = \\bar X - МДС $\n",
    "\n",
    "$ 0.5 ^{n \\bar X} \\cdot e ^{2n} > C $\n",
    "\n",
    "$ n \\bar X \\cdot ln(0.5) + 2n > ln(C) $\n",
    "\n",
    "$ \\bar X <  \\cfrac{ln(C) - 2n}{n \\cdot ln(0.5)}$\n",
    "\n",
    "$ Пусть \\; C^* = \\cfrac{ln(C) - 2n}{n \\cdot ln(0.5)}$\n",
    "\n",
    "Критерий: \n",
    "\n",
    "$\\phi(\\overrightarrow X) = \\begin{cases}\n",
    "  0, \\bar X > C^* \\\\\n",
    "  p, \\bar X = C^* \\\\\n",
    "  1, \\bar X < C^*\n",
    "\\end{cases} $\n",
    "\n",
    "Можно найти $C^*$ и p из уравнения:\n",
    "\n",
    "$P_{\\lambda_0}(\\bar X > C^*) + p P_{\\lambda_0}(\\bar X = C^*) = \\alpha_1$\n",
    "\n",
    "$ P_{\\lambda_0}(\\bar X > C^*) = 1 - P_{n\\lambda_0}(n\\bar X \\le nC^*) = 1 - \\sum_{0}^{[nC^{*}]} \\cfrac{{(n \\lambda_0)} ^i}{i!} e^{-n\\lambda_0} < \\alpha_1$\n",
    "\n",
    "$ p = \\cfrac{\\alpha_1 - 1 + \\sum_{0}^{[nC^{*}] - 1} \\cfrac{{(n\\lambda_0)} ^i}{i!} e^{-n\\lambda_0}}{\\cfrac{(n\\lambda_0) ^{[nC^{*}]}}{[nC^{*}]!} e^{-n\\lambda_0}} $\n",
    "\n"
   ]
  },
  {
   "cell_type": "code",
   "execution_count": 200,
   "metadata": {},
   "outputs": [
    {
     "name": "stdout",
     "output_type": "stream",
     "text": [
      "Значение p:  0.6416795208031579\n",
      "Значение C*50: 212\n",
      "Сумма всех элементов выборки:  101\n"
     ]
    }
   ],
   "source": [
    "pois = sp.poisson(50 * 4)\n",
    "a = 0.2\n",
    "c = 1\n",
    "while True:\n",
    "    if 1 - pois.cdf(c) < a:\n",
    "        break\n",
    "    c += 1\n",
    "\n",
    "p = (a - 1 + pois.cdf(c))/(pois.cdf(c) - pois.cdf(c - 1))\n",
    "\n",
    "\n",
    "print(\"Значение p: \",p)\n",
    "print(\"Значение C*50:\",c)\n",
    "print(\"Сумма всех элементов выборки: \",sum(table1))"
   ]
  },
  {
   "cell_type": "markdown",
   "metadata": {},
   "source": [
    "$\\sum_{i=1}^{n}X_{i} = 101 < C^* \\cdot n = 212$, значит гипотеза $H_0$ отвергается, тогда нужно перейти к следующему этаппу задания.\n",
    "\n",
    "В случае альтернативной гипотезы наиболее мощный критерий будет иметь вид\n",
    "$\\phi(\\overrightarrow X) = \\begin{cases}\n",
    "  0, 2 ^{n \\bar X} \\cdot e ^{-2n} < C \\\\\n",
    "  p, 2 ^{n \\bar X} \\cdot e ^{-2n} = C \\\\\n",
    "  1, 2 ^{n \\bar X} \\cdot e ^{-2n} > C\n",
    "\\end{cases} $\n",
    "\n",
    "$T = \\bar X - МДС $\n",
    "\n",
    "\n",
    "$ Пусть \\; C^* = \\cfrac{ln(C) + 2n}{n \\cdot ln(2)}$\n",
    "\n",
    "Критерий: \n",
    "\n",
    "$\\phi(\\overrightarrow X) = \\begin{cases}\n",
    "  0, \\bar X < C^* \\\\\n",
    "  p, \\bar X = C^* \\\\\n",
    "  1, \\bar X > C^*\n",
    "\\end{cases} $\n",
    "\n",
    "Найдём $C^*$ и p из уравнения:\n",
    "\n",
    "$P_{\\lambda_1}(\\bar X < C^*) + p P_{\\lambda_1}(\\bar X = C^*) = \\alpha_1$\n",
    "\n",
    "$ P_{\\lambda_1}(\\bar X \\le C^*) = P_{n\\lambda_1}(n \\bar X \\le n C^*) = \n",
    "\\sum_{0}^{[nC^{*}]} \\cfrac{{(n \\lambda_1)} ^i}{i!} e^{-n\\lambda_1}$\n",
    "\n",
    "$ \\sum_{0}^{[nC^{*}] - 1} \\cfrac{{(n\\lambda_1)} ^i}{i!} e^{-n\\lambda_1} \\le \\alpha_1 < \\sum_{0}^{[nC^{*}]} \\cfrac{{(n\\lambda_1)} ^i}{i!} e^{-n\\lambda_1} $\n",
    "\n",
    "$ p = \\cfrac{\\alpha_1 - \\sum_{0}^{[nC^{*}] - 1} \\cfrac{{(n\\lambda_1)} ^i}{i!} e^{-n\\lambda_1}}{\\cfrac{(n\\lambda_1) ^{[nC^{*}]}}{[nC^{*}]!} e^{-n\\lambda_1}} $"
   ]
  },
  {
   "cell_type": "code",
   "execution_count": 201,
   "metadata": {},
   "outputs": [
    {
     "name": "stdout",
     "output_type": "stream",
     "text": [
      "Значение C*n = 92\n",
      "Значение p= 0.03676469054483969\n",
      "Значение суммы элементов выборки  : 101\n"
     ]
    }
   ],
   "source": [
    "pois = sp.poisson(50 * 2)\n",
    "a = 0.2\n",
    "C = 1\n",
    "while True:\n",
    "  if pois.cdf(C - 1) <= a and a < pois.cdf(C):\n",
    "    break\n",
    "  C += 1\n",
    "\n",
    "p = (a - pois.cdf(C - 1))/(pois.cdf(C) - pois.cdf(C - 1))\n",
    "print(\"Значение C*n =\", C)\n",
    "print(\"Значение p=\", p)\n",
    "print(\"Значение суммы элементов выборки  :\", np.sum(table1))"
   ]
  },
  {
   "cell_type": "markdown",
   "metadata": {},
   "source": [
    "$\\sum_{i=1}^{n}X_{i} =101 > C^* \\cdot n = 92$, значит гипотеза $H_A$ отвергается"
   ]
  },
  {
   "cell_type": "markdown",
   "metadata": {},
   "source": [
    "### 1.h В пунктах (c) - (f) заменить семейство распределений Пуассона на семейство геометрических распределений\n",
    "\n",
    "$\\mathbb{P}_{\\lambda}(X=k)=\\frac{\\lambda^{k}}{(\\lambda+1)^{k+1}}, k\\in \\mathbb{Z_{+}}$"
   ]
  },
  {
   "cell_type": "markdown",
   "metadata": {},
   "source": [
    "#### c) В предположении, что исходные наблюдения являются выборкой из геометрического распределения, построить ОМП и ОММ параметра $\\lambda$. Найти смещение оценки."
   ]
  },
  {
   "cell_type": "markdown",
   "metadata": {},
   "source": [
    "$\\theta = \\lambda$\n",
    "\n",
    "$q_\\theta(k)=\\frac{\\lambda^{k}}{(\\lambda+1)^{k+1}}$\n",
    "\n",
    "$L(\\overrightarrow{X};\\theta)=\\prod_{i=1}^{n}\\frac{\\lambda^{X_{i}}}{(\\lambda+1)^{X_{i}}}=\\frac{\\lambda^{\\sum_{i=1}^{n}X_i}}{(\\lambda+1)^{\\sum_{i=1}^{n}X_i+n}}$\n",
    "\n",
    "$ LL(\\overrightarrow{X};\\theta) = ln(\\lambda)\\sum_{i=1}^{n} X_i - ln(\\lambda+1) \\sum_{i=1}^{n} X_i - nln(\\lambda+1)$\n",
    "\n",
    "$\\cfrac{dLL(\\overrightarrow{X};\\theta)}{d\\lambda} = (\\cfrac{1}{\\lambda} - \\cfrac{1}{\\lambda+1}) \\sum_{i=1}^{n} X_i - \\cfrac{n}{\\lambda +1} = 0$\n",
    "\n",
    "$\\widehat \\lambda = \\bar X = 2.02$\n",
    "\n",
    "Метод моментов:\n",
    "\n",
    "$ EX = \\sum_{k=0}^{\\infty} k \\cdot q_\\theta(k) = \\lambda$  \n",
    "\n",
    "$ \\widehat\\lambda = \\bar X = 2.02$\n",
    "\n",
    "\n",
    "Найдём смещение оценки\n",
    "\n",
    "$E_{\\lambda}\\overline{X} = \\cfrac{1}{n} E_{\\lambda} \\sum_{i=1}^{n}x_i = \\cfrac{n E_{\\lambda}X_1 }{n} = \\lambda = 2.02 $ - полученная оценка является несмещенной."
   ]
  },
  {
   "cell_type": "markdown",
   "metadata": {},
   "source": [
    "#### d) Построить асимптотический доверительный интервал уровня значимости $\\alpha_1$ для параметра $\\lambda$ на базе оценки максимального правдоподобия."
   ]
  },
  {
   "cell_type": "markdown",
   "metadata": {},
   "source": [
    "$\\alpha_1 = 0.20$\n",
    "\n",
    "$\\sqrt{n} (\\widehat{\\theta}(\\overrightarrow X) - \\theta) \\sim \\mathcal{N}(0, \\frac{1}{I(\\widehat \\theta)})$\n",
    "\n",
    "$\\sqrt{n \\cdot I(\\widehat \\theta)} \\left(\\widehat{\\theta}(\\overrightarrow X) - \\theta \\right) \\sim \\mathcal{N}(0, 1)$\n",
    "\n",
    "Выберем $x_{\\alpha} : \\Phi(x_{\\alpha}) = 1 - \\frac{\\alpha}{2} = 1 - \\frac{0.2}{2} = 0.9$\n",
    "\n",
    "$x_{\\alpha} = 1.65$\n",
    "\n",
    "$ \\cfrac{d^2LL}{d\\lambda^2} = -\\cfrac{\\sum_{i=1}^{n} X_i}{\\lambda^2} + \\cfrac{\\sum_{i=1}^{n} X_i}{(\\lambda + 1)^2} + \\cfrac{n}{(\\lambda + 1)^2} $\n",
    "\n",
    "$I_n(\\lambda) = -E \\cfrac{d^2LL}{d\\lambda^2} = E\\cfrac{\\sum_{i=1}^{n} X_i}{\\lambda^2} - \\cfrac{\\sum_{i=1}^{n} X_i}{(\\lambda + 1)^2} - \\cfrac{n}{(\\lambda + 1)^2} = \\cfrac{n\\lambda}{\\lambda^2} - \\cfrac{n\\lambda}{(\\lambda+1)^2} - \\cfrac{n}{(\\lambda + 1)^2}  $\n",
    "\n",
    "$I(\\widehat \\theta) = \\cfrac{1 }{\\bar X} - \\cfrac{\\bar X}{(\\bar X+1)^2} - \\cfrac{1}{(\\bar X + 1)^2}  = 0.164$\n",
    "\n",
    "Асимптотический доверительный интервал : $ \\left[\\widehat{\\theta}(\\overrightarrow X) - \\cfrac{x_{\\alpha}}{\\sqrt{n \\cdot I(\\widehat \\theta)}}; \\widehat{\\theta}(\\overrightarrow X) + \\cfrac{x_{\\alpha}}{\\sqrt{n \\cdot I(\\widehat \\theta)}} \\right] $\n",
    "\n",
    "Таким образом, $[1.444; 2.596 ]\\ni \\lambda$\n",
    "\n"
   ]
  },
  {
   "cell_type": "markdown",
   "metadata": {},
   "source": [
    "#### e) Используя гистограмму частот, построить критерий значимости $\\mathcal{X^{2}}$ проверки простой гипотезы согласия с распределением из семейства геометрических  с параметром $\\lambda_{0}$. Проверить гипотезу на уровень значимости $\\alpha_{1}$. Вычислить наибольшее значение уровня значимости, на котором ещё нет оснований отвергнуть данную гипотезу."
   ]
  },
  {
   "cell_type": "code",
   "execution_count": 202,
   "metadata": {},
   "outputs": [
    {
     "name": "stdout",
     "output_type": "stream",
     "text": [
      "[12, 14, 8, 4, 5, 4, 2, 1] [0, 1, 2, 3, 4, 5, 6]\n",
      "Ожидаемые частоты:  [12, 14, 8, 4, 5, 4, 2, 1]\n",
      "[0.2, 0.16, 0.128, 0.1024, 0.0819, 0.0655, 0.0524, 0.2097]\n",
      "\n",
      "Значение критерия Хи-квадрат:  14.632594189765502\n",
      "Критическое значение: 9.803249900240838\n",
      "p-value =  0.19999999999999996\n",
      "Наибольшее значение уровня значимости, на котором ещё нет оснований отвергнуть данную гипотезу: 0.04100823330731085\n"
     ]
    }
   ],
   "source": [
    "hist0 = [12, 14,  8,  4,  5,  4,  2,  1] \n",
    "bins0 = [0, 1, 2, 3, 4, 5, 6]\n",
    "print(hist0,bins0)\n",
    "\n",
    "def geom_dist(x):\n",
    "    return sum(lambda0 ** i / (lambda0 + 1) ** (i + 1) for i in range(x+1))\n",
    "\n",
    "def get_chi2_geom(lambda0, freq , bins,table,alpha,free):\n",
    "    n = len(table)\n",
    "    print(\"Ожидаемые частоты: \",freq)\n",
    "    pi = [0] * (len(bins) + 1)\n",
    "    pi[0] = round(geom_dist(bins[0]),4)\n",
    "    for i in range(1,len(bins)):\n",
    "        pi[i] = round(geom_dist(bins[i]) - geom_dist(bins[i - 1]),4)\n",
    "    pi[len(bins)] = round(1 - geom_dist(bins[-1]),4)\n",
    "    print(pi)\n",
    "    chi_sq = [0] * len(freq)\n",
    "    for i in range(len(freq)):\n",
    "        chi_sq[i] = ((freq[i] - n * pi[i]) ** 2 ) / (n * pi[i])\n",
    "    chi = sum(chi_sq)\n",
    "    #вычисление критерия хи квадрат\n",
    "    print()\n",
    "    print(\"Значение критерия Хи-квадрат: \",chi)\n",
    "    print(\"Критическое значение:\", chi2.ppf(1 - alpha, df = free))\n",
    "    print('p-value = ', 1 - chi2.cdf(chi2.ppf(1 - alpha, df = free), free))\n",
    "    print(\"Наибольшее значение уровня значимости, на котором ещё нет оснований отвергнуть данную гипотезу:\", 1 - chi2.cdf(chi, df = free))\n",
    "\n",
    "get_chi2_geom(lambda0,hist0,bins0,table1,0.2,7)"
   ]
  },
  {
   "cell_type": "markdown",
   "metadata": {},
   "source": [
    "$\\mathcal{X}^2 > x_\\alpha \\Rightarrow$ отвергается $H_0$ \n",
    "\n",
    "Наибольшее значение уровня значимости, на котором ещё нет оснований отвергнуть данную гипотезу, слишком мало."
   ]
  },
  {
   "cell_type": "markdown",
   "metadata": {},
   "source": [
    "#### f) Построить критерий значимости $\\chi^2$ проверки сложной гипотезы согласия с распределением из семейства геометрических. Проверить гипотезу на уровне значимости $\\alpha_1 = 0.2$. Вычислить наибольшее значение уровня значимости, на котором еще нет оснований отвергнуть данную гипотезу."
   ]
  },
  {
   "cell_type": "code",
   "execution_count": 203,
   "metadata": {},
   "outputs": [
    {
     "name": "stdout",
     "output_type": "stream",
     "text": [
      "Значение критерия Хи-квадрат:  5.805237705581781\n",
      "Значение лямбда:  2.2431354338789027\n",
      "Критическое значение: 8.558059720250668\n",
      "p-value =  0.19999999999999996\n",
      "Наибольшее значение уровня значимости, на котором ещё нет оснований отвергнуть данную гипотезу: 0.44535751400452195\n"
     ]
    }
   ],
   "source": [
    "def geom_dist(x,lmbd):\n",
    "    return sum(lmbd ** i / (lmbd + 1) ** (i + 1) for i in range(x+1))\n",
    "def chi2_geom(lmbd):\n",
    "    n = len(table1)\n",
    "    freq = np.array(hist0)\n",
    "    #print(\"Ожидаемые частоты: \",freq)\n",
    "    pi = np.zeros(len(bins0) + 1)\n",
    "    pi[0] = round(geom_dist(bins0[0],lmbd),4)\n",
    "    for i in range(1,len(bins0)):\n",
    "        pi[i] = round(geom_dist(bins0[i],lmbd) - geom_dist(bins0[i - 1],lmbd),4)\n",
    "    pi[len(bins0)] = round(1 - geom_dist(bins0[-1],lmbd),4)\n",
    "    #print(pi)\n",
    "    chi_sq = [0] * len(freq)\n",
    "    for i in range(len(freq)):\n",
    "        chi_sq[i] = ((freq[i] - n * pi[i]) ** 2 ) / (n * pi[i])\n",
    "    chi = sum(chi_sq)\n",
    "    return chi\n",
    "\n",
    "result = scipy.optimize.minimize_scalar(chi2_geom)\n",
    "    #вычисление критерия хи квадрат\n",
    "print(\"Значение критерия Хи-квадрат: \",result.fun)\n",
    "print(\"Значение лямбда: \", result.x)\n",
    "print(\"Критическое значение:\", chi2.ppf(1 - 0.2, df = 6))\n",
    "print('p-value = ', 1 - chi2.cdf(chi2.ppf(1 - 0.2, df = 6), 6))\n",
    "print(\"Наибольшее значение уровня значимости, на котором ещё нет оснований отвергнуть данную гипотезу:\", 1 - chi2.cdf(result.fun, df = 6))\n"
   ]
  },
  {
   "cell_type": "markdown",
   "metadata": {},
   "source": [
    "Получили значение критерия  $\\mathcal{X}^2 $ = 5.805 при критическом значении 8.55. Следовательно, гипотезу можно принять.\n",
    "\n",
    "Наибольшее значение уровня значимости, на котором ещё нет оснований отвергнуть данную гипотезу, равно 0.445"
   ]
  },
  {
   "cell_type": "markdown",
   "metadata": {},
   "source": [
    "### 2.а Построить вариационный ряд, эмпирическую функцию распределения, гистограмму и полигон частот.\n"
   ]
  },
  {
   "cell_type": "code",
   "execution_count": 204,
   "metadata": {},
   "outputs": [
    {
     "name": "stdout",
     "output_type": "stream",
     "text": [
      "Вариационный ряд:\n",
      "[0.0, 0.0, 0.0, 0.0, 0.01, 0.01, 0.04, 0.06, 0.08, 0.14, 0.14, 0.16, 0.17, 0.23, 0.25, 0.3, 0.35, 0.36, 0.4, 0.49, 0.5, 0.76, 0.8, 0.92, 0.96, 1.01, 1.02, 1.17, 1.55, 1.57, 1.74, 1.99, 2.16, 2.21, 2.27, 2.4, 2.7, 2.79, 2.9, 3.24, 4.4, 4.52, 4.81, 6.17, 6.24, 6.82, 8.45, 10.54, 10.76, 15.94]\n"
     ]
    }
   ],
   "source": [
    "table2 = [8.45, 0.92, 0.30, 2.16, 1.02, 6.24, 2.79, 6.82, 1.57, 15.94, 0.96, 1.74, 0.00, 0.35, 0.16, 0.50, 0.04, 1.17, 4.81, 3.24, 10.76, 0.01, 0.40, 2.90, 0.76,0.49, 1.99, 4.52, 0.14, 0.00, 0.23, 2.27, 2.40, 0.17, 0.25, 0.06, 0.08, 4.40, 2.70, 0.80, 2.21, 1.55, 0.00, 0.14, 0.36, 0.00, 10.54, 6.17, 0.01, 1.01]\n",
    "table2_sorted = sorted(table2)\n",
    "print(\"Вариационный ряд:\")\n",
    "print(table2_sorted)\n"
   ]
  },
  {
   "cell_type": "code",
   "execution_count": 205,
   "metadata": {},
   "outputs": [
    {
     "name": "stdout",
     "output_type": "stream",
     "text": [
      "Функция распределения\n",
      "F(x) =  0.0  если -inf < x <= 0.0\n",
      "F(x) =  0.08  если 0.0 < x <= 0.01\n",
      "F(x) =  0.12  если 0.01 < x <= 0.04\n",
      "F(x) =  0.14  если 0.04 < x <= 0.06\n",
      "F(x) =  0.16  если 0.06 < x <= 0.08\n",
      "F(x) =  0.18  если 0.08 < x <= 0.14\n",
      "F(x) =  0.22  если 0.14 < x <= 0.16\n",
      "F(x) =  0.24  если 0.16 < x <= 0.17\n",
      "F(x) =  0.26  если 0.17 < x <= 0.23\n",
      "F(x) =  0.28  если 0.23 < x <= 0.25\n",
      "F(x) =  0.3  если 0.25 < x <= 0.3\n",
      "F(x) =  0.32  если 0.3 < x <= 0.35\n",
      "F(x) =  0.34  если 0.35 < x <= 0.36\n",
      "F(x) =  0.36  если 0.36 < x <= 0.4\n",
      "F(x) =  0.38  если 0.4 < x <= 0.49\n",
      "F(x) =  0.4  если 0.49 < x <= 0.5\n",
      "F(x) =  0.42  если 0.5 < x <= 0.76\n",
      "F(x) =  0.44  если 0.76 < x <= 0.8\n",
      "F(x) =  0.46  если 0.8 < x <= 0.92\n",
      "F(x) =  0.48  если 0.92 < x <= 0.96\n",
      "F(x) =  0.5  если 0.96 < x <= 1.01\n",
      "F(x) =  0.52  если 1.01 < x <= 1.02\n",
      "F(x) =  0.54  если 1.02 < x <= 1.17\n",
      "F(x) =  0.56  если 1.17 < x <= 1.55\n",
      "F(x) =  0.58  если 1.55 < x <= 1.57\n",
      "F(x) =  0.6  если 1.57 < x <= 1.74\n",
      "F(x) =  0.62  если 1.74 < x <= 1.99\n",
      "F(x) =  0.64  если 1.99 < x <= 2.16\n",
      "F(x) =  0.66  если 2.16 < x <= 2.21\n",
      "F(x) =  0.68  если 2.21 < x <= 2.27\n",
      "F(x) =  0.7  если 2.27 < x <= 2.4\n",
      "F(x) =  0.72  если 2.4 < x <= 2.7\n",
      "F(x) =  0.74  если 2.7 < x <= 2.79\n",
      "F(x) =  0.76  если 2.79 < x <= 2.9\n",
      "F(x) =  0.78  если 2.9 < x <= 3.24\n",
      "F(x) =  0.8  если 3.24 < x <= 4.4\n",
      "F(x) =  0.82  если 4.4 < x <= 4.52\n",
      "F(x) =  0.84  если 4.52 < x <= 4.81\n",
      "F(x) =  0.86  если 4.81 < x <= 6.17\n",
      "F(x) =  0.88  если 6.17 < x <= 6.24\n",
      "F(x) =  0.9  если 6.24 < x <= 6.82\n",
      "F(x) =  0.92  если 6.82 < x <= 8.45\n",
      "F(x) =  0.94  если 8.45 < x <= 10.54\n",
      "F(x) =  0.96  если 10.54 < x <= 10.76\n",
      "F(x) =  0.98  если 10.76 < x <= 15.94\n",
      "F(x) = 1, x >  15.94\n"
     ]
    }
   ],
   "source": [
    "\n",
    "func2 = empirical_function(table2_sorted)\n",
    "new_array2 = sorted(list(set(func2)))\n",
    "new_table2 = sorted(list(set(table2_sorted)))\n",
    "\n",
    "print(\"Функция распределения\")\n",
    "for i in range(len(new_array2)):\n",
    "    print(\"F(x) = \", new_array2[i], \" если\", end=\" \")\n",
    "    if i==0:\n",
    "        print(\"-inf < x <=\", new_table2[i])\n",
    "    else:\n",
    "        print(new_table2[i - 1],\"< x <=\", new_table2[i])\n",
    "print(\"F(x) = 1, x > \", new_table2[len(new_table2) - 1])"
   ]
  },
  {
   "cell_type": "code",
   "execution_count": 206,
   "metadata": {},
   "outputs": [
    {
     "data": {
      "image/png": "[encoded data removed]",
      "text/plain": [
       "<Figure size 640x480 with 1 Axes>"
      ]
     },
     "metadata": {},
     "output_type": "display_data"
    }
   ],
   "source": [
    "sns.ecdfplot(table2_sorted) #построение эмпирической функции распределения\n",
    "\n",
    "plt.title(\"график эмпирической функции распределения\")\n",
    "plt.xlabel(\"x\")\n",
    "plt.ylabel(\"F(x)\")\n",
    "plt.show()"
   ]
  },
  {
   "cell_type": "code",
   "execution_count": 207,
   "metadata": {},
   "outputs": [
    {
     "name": "stdout",
     "output_type": "stream",
     "text": [
      "15.94\n",
      "[ 0.   1.4  2.8  4.2  5.6  7.   8.4  9.8 11.2 12.6 14.  15.4 16.8]\n",
      "[23 10  2  3  3  0  1  2  0  0  0  1] [ 0.   1.4  2.8  4.2  5.6  7.   8.4  9.8 11.2 12.6 14.  15.4 16.8]\n"
     ]
    },
    {
     "data": {
      "image/png": "[encoded data removed]",
      "text/plain": [
       "<Figure size 640x480 with 1 Axes>"
      ]
     },
     "metadata": {},
     "output_type": "display_data"
    }
   ],
   "source": [
    "sns.histplot(x=new_table2,binwidth=1.4)\n",
    "print(max(new_table2))\n",
    "bins = np.arange(min(new_table2), max(new_table2) + 1.4, 1.4)\n",
    "print(bins)\n",
    "hist, _ = np.histogram(new_table2, bins=bins)\n",
    "bin_centers = 0.5 * (bins[1:] + bins[:-1])\n",
    "plt.plot(bin_centers, hist,'-r', marker='.')\n",
    "\n",
    "plt.title(\"Гистограмма и полигон частот с шагом h = 0.8\")\n",
    "plt.xlabel(\"x\")\n",
    "plt.ylabel(\"Частота\");\n",
    "print(hist,_)"
   ]
  },
  {
   "cell_type": "markdown",
   "metadata": {},
   "source": [
    "### 2.b Вычислить выборочные аналоги следующих числовых характеристик:\n"
   ]
  },
  {
   "cell_type": "code",
   "execution_count": 208,
   "metadata": {},
   "outputs": [
    {
     "name": "stdout",
     "output_type": "stream",
     "text": [
      "Выборочное математическое ожидание:  2.33\n",
      "Выборочная дисперсия:  10.825663999999994\n",
      "СКО:  3.2902376813841268\n",
      "Коэффициент ассиметрии:  2.196397387520135\n",
      "Выборочная медиана 0.985\n",
      "Коэффициент эксцесса 4.97648062578535\n",
      "Вероятность того, что х принадлежит промежутку [ 0 , 3.91 ]: 0.8\n"
     ]
    }
   ],
   "source": [
    "x_a2, s_sq2, SKO2, median2, skew2, kurt2 = find_properties(table2_sorted,0,3.91)\n",
    "    "
   ]
  },
  {
   "cell_type": "markdown",
   "metadata": {},
   "source": [
    "$\\overline{X} =\\frac{1}{n}\\sum_{i=1}^{n}x_i= 2.33$\n",
    "\n",
    "$S^2 =\\frac{1}{n}\\sum_{i=1}^{n}\\left(x_i-\\overline{X}\\right)=10.825663999999994$\n",
    "\n",
    "$S=\\sqrt{S^2}=3.2902376813841268$\n",
    "\n",
    "$z_{n,\\frac{1}{2}} = 0.985$\n",
    "\n",
    "$\\widehat{\\mathrm{Skew}}X=\\frac{1}{n}\\frac{\\sum \\limits_{i=1}^{n}\\left(x_i-\\overline{X}\\right)^3}{S^3} = 2.196397387520135$\n",
    "\n",
    "$\\widehat{\\mathrm{Kurt}}X=\\frac{1}{n}\\frac{\\sum \\limits_{i=1}^{n}\\left(x_i-\\overline{X}\\right)^4}{S^4}-3 = 4.97648062578535$\n",
    "\n",
    "$\\mathbb{P}\\left(x \\in \\left[c, d\\right]\\right)$, a = 0.00, b = 3.91:\n",
    "\n",
    "$\\mathbb{P}\\left(x \\in \\left[c, d\\right]\\right) = 0.8$ "
   ]
  },
  {
   "cell_type": "markdown",
   "metadata": {},
   "source": [
    "### 2.c В предположении, что исходные наблюдения являются выборкой из показательного распределения, построить оценку максимального правдоподобия параметра $\\lambda$ и соответствующую ему оценку по методу моментов. Найти смещения оценок"
   ]
  },
  {
   "cell_type": "markdown",
   "metadata": {},
   "source": [
    "*Плотность показательного распределения*:\n",
    "$q_{\\theta} = \\lambda \\cdot e^{-\\lambda \\cdot x}$, x > 0\n",
    "\n",
    "*Оценка максимального правдоподобия:*\n",
    "\n",
    "$ L\\left(\\vec{X}, \\theta \\right) =\\prod\\limits_{i = 1}^n q_{\\theta}\\left( x_i\\right)=\\prod\\limits_{i = 1}^n \\lambda \\cdot e^{-\\lambda \\cdot x_i}  =  \\lambda^{n} \\cdot e^{-\\lambda \\cdot \\sum \\limits_{i=1}^{n}x_i} $\n",
    "\n",
    "$LL\\left(\\vec{X}, \\theta \\right) = n \\cdot \\ln{\\lambda} - \\lambda \\cdot \\sum \\limits_{i=1}^{n}x_i $\n",
    "\n",
    "$ \\frac{\\partial LL}{\\partial \\lambda} = \\frac{n}{\\lambda} - \\sum \\limits_{i=1}^{n}x_i = 0 \\Rightarrow \\widehat{\\theta} = \\widehat{\\lambda} = \\frac{1}{\\overline{X}}$ - ОМП\n",
    "\n",
    "$ \\mathbb{E}_{\\theta}\\widehat{\\theta} = \\mathbb{E}_{\\theta}\\overline{X} = \\mathbb{E}_{\\theta} n\\cdot \\sum \\limits_{i=1}^{n}\\frac{1}{x_i} =  n \\cdot\\frac{1}{n-1}   \\cdot \\lambda = \\frac{n\\cdot\\lambda}{n+1} \\Rightarrow$ смещённая оценка.\n",
    "\n",
    "МДС:\n",
    "\n",
    "$T=\\sum_{i=1}^{n}X_{i}$.\n",
    "\n",
    "т.к. $q_{\\theta}$ принадлежит семейству экспоненциальных распределений $\\Rightarrow$ МДС =  ПДС.\n",
    "$\\mathbb{E}\\widetilde{\\theta} = \\mathbb{E} \\widehat{\\theta} \\cdot \\frac{n-1}{n} = \\frac{n\\cdot\\lambda}{n+1}\\cdot \\frac{n-1}{n} = \\lambda$\n",
    "\n",
    "$ \\widetilde{\\theta} = \\widehat{\\theta} \\cdot \\frac{n-1}{n} - несмещенная \\, оценка$\n",
    "\n",
    "*Оценка методом моментов:*\n",
    "\n",
    "$\\mathbb{E}X = \\frac{1}{\\lambda}$ - теоретическое математическое ожидание\n",
    "\n",
    "$\\mathrm{M} = \\overline{X}$ - выборочное среднее \n",
    "\n",
    "Следовательно, $\\widetilde{\\theta} = \\widetilde{\\lambda} = \\frac{1}{\\overline{X}}$ — несмещенная оценка"
   ]
  },
  {
   "cell_type": "markdown",
   "metadata": {},
   "source": [
    "### 2.d Построить асимптотичексий доверительный интервал уровня значимости $\\alpha_1$ для параметра $\\lambda$ на базе оценки максимального правдоподобия."
   ]
  },
  {
   "cell_type": "markdown",
   "metadata": {},
   "source": [
    "$\\alpha_2 = 0.20$\n",
    "\n",
    "*Плотность распределения Пуассона*:\n",
    "\n",
    "$q_{\\theta} = \\lambda \\cdot e^{-\\lambda \\cdot x}$, x > 0\n",
    "\n",
    "$\\widehat{\\theta} = \\widehat{\\lambda} = \\frac{1}{\\overline{X}}$\n",
    "\n",
    "\n",
    "Так как распределение симметричное:\n",
    "\n",
    "$x_{\\alpha} : \\mathrm{\\Phi}(x_{\\alpha}) = 1 - \\frac{\\alpha}{2} = 1 - \\frac{0.20}{2} = 0.9$, где $\\alpha = \\alpha_2 = 0.20$\n",
    "\n",
    "$\\mathrm{\\Phi}(x_{\\alpha}) = 0.90 \\Rightarrow x_{\\alpha} = 1.65 $ из таблицы значений функции Лапласа\n",
    "\n",
    "*Асимптотический доверительный интервал:(3 способ)*\n",
    "\n",
    "$\\left[\\overline{X} - \\sqrt{\\frac{S}{n}} \\cdot x_{\\alpha} , \\overline{X} + \\sqrt{\\frac{S}{n}} \\cdot x_{\\alpha}\\right] \\ni \\lambda$\n",
    "\n",
    "Таким образом, АДИ уровня значимости $\\alpha_2$ для параметра $\\lambda$:\n",
    "$\\left[1.5622387058466678 ,  3.097761294153332 \\right] \\ni \\lambda$"
   ]
  },
  {
   "cell_type": "code",
   "execution_count": 209,
   "metadata": {},
   "outputs": [
    {
     "name": "stdout",
     "output_type": "stream",
     "text": [
      "АДИ уровня доверия  0.8 :\n",
      "[ 1.5622387058466678 , 3.097761294153332 ]\n"
     ]
    }
   ],
   "source": [
    "x_alpha2 = 1.65\n",
    "alpha2 = 0.2\n",
    "find_interval(table2,x_a2,SKO2,x_alpha2,alpha2)\n"
   ]
  },
  {
   "cell_type": "markdown",
   "metadata": {},
   "source": [
    "### 2.e C использованием теоремы Колмогорова построить критерий значимости проверки простой гипотезы согласия с показательным распределением с параметром $λ_{0}=0.33$. Проверить гипотезу на уровне значимости $\\alpha_2 = 0,2$. Вычислить наибольшее значения уровня значимости, на котором ещё нет оснований отвергнуть гипотезу."
   ]
  },
  {
   "cell_type": "markdown",
   "metadata": {},
   "source": [
    "Пусть данная выборка $X_1, X_2, \\dots, X_n$ - выборка из распределения с функцией распределения F.\n",
    "\n",
    "Основная гипотеза: $H_0 : F \\equiv Exp(\\lambda_0)$\n",
    "\n",
    "Альтернативная гипотеза: $H_A : \\exists x : F(x) \\neq F_{Exp(\\lambda_0)}(x)$\n",
    "\n",
    "Составим критерий уровня значимости $\\alpha_2$:\n",
    "\n",
    "$\\phi(x) = 0$, при $D_n \\le x_{\\alpha_2}$\n",
    "\n",
    "$\\phi(x) = 1$, при $D_n > x_{\\alpha_2}$\n",
    "\n",
    "где $x_{\\alpha_2} : K(x_{\\alpha_2} / \\sqrt{n}) = 1 - \\alpha_2$\n",
    "\n",
    "Статистика критерия Колмагорова: $D_n = sup_{x \\in \\mathbb{R}}|F_n(x) - F_0(x)|$\n",
    "\n",
    "Теорема Колмагорова: $\\sqrt{n}D_n \\rightarrow K, при \\, основной \\, гипотезе$\n",
    "\n",
    "$D_n = 0.32 $\n",
    "\n",
    "Критическое значение: C =  0.151\n",
    "\n",
    "Т.к. $D_n > c $ , то гипотезу отвергаем.\n",
    "Как можно увидеть, наибольшее значение уровня значимости будет очень маленьким: 7.09192255673452e-05"
   ]
  },
  {
   "cell_type": "code",
   "execution_count": 210,
   "metadata": {},
   "outputs": [
    {
     "name": "stdout",
     "output_type": "stream",
     "text": [
      "Статистика критерия Колмогорова Dn: 0.32011117095758485\n",
      "x_alpha_2: 0.1517096432224198\n",
      "Наибольшее значение уровня значимости, на котором ещё нет оснований отвергнуть данную гипотезу: 7.09192255673452e-05\n"
     ]
    }
   ],
   "source": [
    "values, edges = np.histogram(table2, bins=len(table2))\n",
    "Y = values.cumsum() / len(table2)\n",
    "\n",
    "lambda0 = 0.33\n",
    "\n",
    "def F_n(x, Y, edges):\n",
    "  for i in range(len(Y)):\n",
    "    if (x > edges[i] and x <= edges[i+1]):\n",
    "      return Y[i]\n",
    "    elif (x > edges[-1]):\n",
    "      return 1\n",
    "    elif (x <= edges[0]):\n",
    "      return 0\n",
    "\n",
    "def F_0(x):\n",
    "  return 1 - np.exp(-x*lambda0)\n",
    "\n",
    "D = 0\n",
    "x = 0\n",
    "while (x <= 5):\n",
    "  if (D < np.abs(F_n(x, Y, edges) - F_0(x))):\n",
    "    D = np.abs(F_n(x, Y, edges) - F_0(x))\n",
    "  x += 0.0001\n",
    "\n",
    "print(\"Статистика критерия Колмогорова Dn:\", D)\n",
    "print(\"x_alpha_2:\", kstwobign.ppf(1 - alpha2) / np.sqrt(len(table2)))\n",
    "print(\"Наибольшее значение уровня значимости, на котором ещё нет оснований отвергнуть данную гипотезу:\", 1 - kstwobign.cdf(D*np.sqrt(len(table2))))"
   ]
  },
  {
   "cell_type": "markdown",
   "metadata": {},
   "source": [
    "### 2.f Используя гистограмму частот, построить критерий значимости $\\chi^2$ проверки простой гипотезы согласия с показательным распределением с параметром $\\lambda_0 = 0.33$. Проверить гипотезу на уровне значимости $\\alpha_2 = 0.2$. Вычислить наибольшее значение уровня значимости, на котором ещё нет оснований отвергнуть данную гипотезу."
   ]
  },
  {
   "cell_type": "markdown",
   "metadata": {},
   "source": [
    "Рассмотрим $\\mathbb{P}_{k} = \\mathbb{P}_{\\theta}\\left(x_i \\in G_k\\right) = \\sum \\limits_{x \\in G_k} q_{\\theta}(x)$\n",
    "\n",
    "Также разобью все множество на интервалы, число элементов выборки в каждом из них больше или равно 5.\n",
    "\n",
    "Из таблицы: $\\chi_{k-1, \\alpha_1}^2 = \\chi_{3, 0.2}^2 = 4.64$\n",
    "\n",
    "Получили: $\\chi^2 = 180.66$\n",
    "\n",
    "Так как $\\chi^2 <> \\chi_{12, 0.2}^2$ , то гипотезу отвергаем\n",
    "\n",
    "Наибольшее значение уровня значимости, при котором ещё нет оснований отвергнуть данную гипотезу, слишком мало, исходя из таблицы значений $\\chi^2$."
   ]
  },
  {
   "cell_type": "code",
   "execution_count": 211,
   "metadata": {},
   "outputs": [
    {
     "name": "stdout",
     "output_type": "stream",
     "text": [
      "[1.4, 2.8, 5.6]\n",
      "Ожидаемые частоты:  [23, 10, 5, 7]\n",
      "[0.65699148 0.25842366 0.07944125 0.00514361]\n",
      "\n",
      "Значение критерия Хи-квадрат:  180.66454172195446\n",
      "Критическое значение: 4.64162767608745\n",
      "p-value =  0.20000000000000007\n",
      "Наибольшее значение уровня значимости, на котором ещё нет оснований отвергнуть данную гипотезу: 0.0\n"
     ]
    }
   ],
   "source": [
    "hist = list(hist)\n",
    "hist1 = [23,10,5,7]\n",
    "bins1 = [1.4,2.8,5.6]\n",
    "def get_chi2_2(lambda0, table,freq,new_table,alpha,free,bins):\n",
    "    n = len(table)\n",
    "    expon_dist = expon(lambda0)\n",
    "    print(bins)\n",
    "    print(\"Ожидаемые частоты: \",freq)\n",
    "    pi = np.zeros(len(bins) + 1)\n",
    "    freq = np.array(freq)\n",
    "    pi[0] = expon_dist.cdf(bins[0])\n",
    "    for i in range(1,len(bins)):\n",
    "        pi[i] = expon_dist.cdf(bins[i]) - expon_dist.cdf(bins[i - 1])\n",
    "    pi[len(bins)] = 1.0 - expon_dist.cdf(bins[-1])\n",
    "    print(pi)\n",
    "    chi_square = ((freq - n * pi) ** 2) / (n * pi)\n",
    "    print()\n",
    "    print(\"Значение критерия Хи-квадрат: \",np.sum(chi_square))\n",
    "    print(\"Критическое значение:\", chi2.ppf(1 - alpha, df = free))\n",
    "    print('p-value = ', 1 - chi2.cdf(chi2.ppf(1 - alpha, df = free), free))\n",
    "    print(\"Наибольшее значение уровня значимости, на котором ещё нет оснований отвергнуть данную гипотезу:\", 1 - chi2.cdf(np.sum(chi_square), df = free))\n",
    "\n",
    "\n",
    "get_chi2_2(0.33,table2,hist1,new_table2,0.2,3,bins1)"
   ]
  },
  {
   "cell_type": "markdown",
   "metadata": {},
   "source": [
    "### 2.g Построить критерий значимости $\\chi^2$ проверки сложной гипотезы согласия с показательным распределением. Проверить гипотезу на уровне значимости $\\alpha_1 = 0.2$. Вычислить наибольшее значение уровня значимости, на котором ещё нет оснований отвергнуть данную гипотезу."
   ]
  },
  {
   "cell_type": "markdown",
   "metadata": {},
   "source": [
    "Рассмотрим:\n",
    "\n",
    "$\\mathbb{P}_{k} = \\mathbb{P}_{\\theta}\\left(x_i \\in G_k\\right) = \\sum \\limits_{x \\in G_k} q_{\\theta}(x)$\n",
    "\n",
    "Нужно минимизировать значение критерия, чтоб проверить гипотезу.\n",
    "\n",
    "Из таблицы: $\\chi_{k-1-1, \\alpha_1}^2 = \\chi_{2, 0.2}^2 = 3.22$\n",
    "\n",
    "Получty: $\\chi^2 =  95.2$\n",
    "\n",
    "Так как $\\chi^2 > \\chi_{2, 0.2}^2$ , то гипотезу отвергаем"
   ]
  },
  {
   "cell_type": "code",
   "execution_count": 212,
   "metadata": {},
   "outputs": [
    {
     "name": "stdout",
     "output_type": "stream",
     "text": [
      "\n",
      "Значение критерия Хи-квадрат:  95.23858138864436\n",
      "Критическое значение: 3.218875824868201\n",
      "p-value =  0.19999999999999996\n",
      "Наибольшее значение уровня значимости, на котором ещё нет оснований отвергнуть данную гипотезу: 0.0\n"
     ]
    }
   ],
   "source": [
    "def get_chi2_2_min(lmbd):\n",
    "    n = len(table2)\n",
    "    expon_dist = expon(lmbd)\n",
    "    pi = np.zeros(len(bins1) + 1)\n",
    "    freq = np.array(hist1)\n",
    "    pi[0] = expon_dist.cdf(bins1[0])\n",
    "    for i in range(1,len(bins1)):\n",
    "        pi[i] = expon_dist.cdf(bins1[i]) - expon_dist.cdf(bins1[i - 1])\n",
    "    pi[len(bins1)] = 1.0 - expon_dist.cdf(bins1[-1])\n",
    "    chi_square = ((freq - n * pi) ** 2) / (n * pi)\n",
    "    return np.sum(chi_square)\n",
    "\n",
    "result = scipy.optimize.minimize_scalar(get_chi2_2_min)\n",
    "\n",
    "print()\n",
    "print(\"Значение критерия Хи-квадрат: \",result.fun)\n",
    "print(\"Критическое значение:\", chi2.ppf(1 - 0.2, df = 2))\n",
    "print('p-value = ', 1 - chi2.cdf(chi2.ppf(1 - 0.2, df = 2), 2))\n",
    "print(\"Наибольшее значение уровня значимости, на котором ещё нет оснований отвергнуть данную гипотезу:\", 1 - chi2.cdf(np.sum(result.fun), df = 2))\n"
   ]
  },
  {
   "cell_type": "markdown",
   "metadata": {},
   "source": [
    "### 2.h Построение наиболее мощного критерия проверки простой гипотезы показательности с параметром $\\lambda_0$ при альтернативе показательности с параметром $\\lambda_1$. Проверка гипотезы на уровне значимости $\\alpha_2$"
   ]
  },
  {
   "cell_type": "markdown",
   "metadata": {},
   "source": [
    "Основная гипотеза: $ H_0 = \\lambda_0 $\n",
    "Альтернативная: $ H_A = \\lambda_1 $\n",
    "\n",
    "$ LR(\\overline{X}, \\lambda_0, \\lambda_1) = \\frac{L(\\overline{X}, \\lambda_1)}{L(\\overline{X}, \\lambda_0)} = \\frac{ \\lambda_1^{n} \\exp( -\\lambda_1 \\sum_{i=1}^{n}x_i) }{ \\lambda_0^{n} \\exp(-\\lambda_0 \\sum_{i=1}^{n}x_i) } > c $\n",
    "\n",
    "$\\ln(\\frac{\\lambda_1}{\\lambda_0}) + \\sum_{i=1}^{n}x_i (\\lambda_0 - \\lambda_1) > \\ln c $\n",
    "\n",
    "$-0.8575 + \\sum_{i=1}^{n}x_i \\cdot (0.19) > \\ln c $\n",
    "\n",
    "$ \\sum_{i=1}^{n}x_i > \\frac{ \\ln c + 0.8575 }{ 0.19 } = c^* $\n",
    "\n",
    "Найдем $c^*$ и p:\n",
    "$ P_{\\lambda_1}(\\sum_{i=1}^{n}x_i > c^* ) + pP_{\\lambda_1}( \\sum_{i=1}^{n}x_i = c^* ) = \\alpha_2 $\n",
    "\n",
    "$ P_{\\lambda_1}(\\sum_{i=1}^{n}x_i > c^* ) = 1 - P_{\\lambda_1}(\\sum_{i=1}^{n}x_i \\leq c^*) = 1 - F_{n, \\frac{1}{\\lambda}}(x_{\\alpha}) < \\alpha_2 $\n",
    "\n",
    "$ P_{\\lambda_1}(\\sum_{i=1}^{n}x_i = c^* ) = F_{n, \\frac{1}{\\lambda}}(x_{\\alpha}) - F_{n, \\frac{1}{\\lambda}}(x_{\\alpha} - 1) $\n",
    "\n",
    "$ p = \\frac{ \\alpha_2 - 1 + F_{n, \\frac{1}{\\lambda}}(x_{\\alpha}) }{ F_{n, \\frac{1}{\\lambda}}(x_{\\alpha}) - F_{n, \\frac{1}{\\lambda}}(x_{\\alpha} - 1) } = 0.00 $\n",
    "\n"
   ]
  },
  {
   "cell_type": "code",
   "execution_count": 236,
   "metadata": {},
   "outputs": [
    {
     "name": "stdout",
     "output_type": "stream",
     "text": [
      "0.0\n",
      "c*n равно 169.19200000000637\n",
      "∑xi равна 116.50000000000001\n"
     ]
    }
   ],
   "source": [
    "alpha = 0.2\n",
    "C = 169\n",
    "lambda0 = 0.33\n",
    "while 1 - sp.gamma.cdf(C, a=len(table2), scale=1.0/lambda0) >= alpha:\n",
    "    C += 0.0001\n",
    "\n",
    "denominator = sp.gamma.cdf(C, a=len(table2), scale=1.0/lambda0) - sp.gamma.cdf((C - 1), a=len(table2), scale=1.0/lambda0)\n",
    "\n",
    "p = (alpha - 1 + sp.gamma.cdf(C, a=len(table2), scale=1.0/lambda0)) /denominator\n",
    "\n",
    "p = round(p, 3)\n",
    "print(p)\n",
    "\n",
    "print(\"c*n равно\", C)\n",
    "print(\"∑xi равна\",np.sum(table2))"
   ]
  },
  {
   "cell_type": "markdown",
   "metadata": {},
   "source": [
    "$ c^{*} = 133.25 > \\sum_{i=1}^{n}x_i = 116.5 $, то есть гипотеза $H_0$ отвергается.\n",
    "\n",
    "Теперь нужно поменять местами основную и альтернативную гипотезы.\n",
    "\n",
    "Поменяем основную гипотезу на альтернативную. Тогда\n",
    "\n",
    "$ LR(\\overline{X}, \\lambda_0, \\lambda_1) = \\frac{L(\\overline{X}, \\lambda_0)}{L(\\overline{X}, \\lambda_1)} = \\frac{ \\lambda_0^{n} \\exp(-\\lambda_0 \\sum_{i=1}^{n}x_i) }{ \\lambda_1^{n} \\exp(-\\lambda_1 \\sum_{i=1}^{n}x_i) } > c $\n",
    "\n",
    "$ \\ln(\\frac{\\lambda_0}{\\lambda_1}) + \\sum_{i=1}^{n}(\\lambda_1 - \\lambda_0) > \\ln c $\n",
    "\n",
    "$ 0.8575 + \\sum_{i=1}^{n}x_i \\cdot -0.19 > \\ln c $\n",
    "\n",
    "$ \\sum_{i=1}^{n}x_i < \\frac{ \\ln c - 0.8575 }{ 0.19 } = c^* $\n",
    "\n",
    "$ P_{\\lambda_0}(\\sum_{i=1}^{n}x_i < c^* ) + pP_{\\lambda_0}( \\sum_{i=1}^{n}x_i = c^* ) = \\alpha_2 $\n",
    "\n",
    "$ P_{\\lambda_0}(\\sum_{i=1}^{n}x_i \\leq c^* ) = F_{n, \\frac{1}{\\lambda}}(x_{\\alpha}) > \\alpha_2 $\n",
    "\n",
    "$ P_{\\lambda_0}(\\sum_{i=1}^{n}x_i = c^* ) = F_{n, \\frac{1}{\\lambda}}(x_{\\alpha}) - F_{n, \\frac{1}{\\lambda}}(x_{\\alpha} - 1) $\n",
    "\n",
    "$ p = \\frac{ \\alpha_2 - F_{n, \\frac{1}{\\lambda}}(x_{\\alpha}) }{ F_{n, \\frac{1}{\\lambda}}(x_{\\alpha}) - F_{n, \\frac{1}{\\lambda}}(x_{\\alpha} - 1) } = 0 $"
   ]
  },
  {
   "cell_type": "code",
   "execution_count": 237,
   "metadata": {},
   "outputs": [
    {
     "name": "stdout",
     "output_type": "stream",
     "text": [
      "-0.0\n",
      "2.33\n",
      "c*n равно 314.0904999999773\n",
      "∑xi равна 116.50000000000001\n"
     ]
    }
   ],
   "source": [
    "alpha = 0.2\n",
    "C = 314\n",
    "lambda1 = 0.14\n",
    "while sp.gamma.cdf(C, a=len(table2), scale=1.0/lambda1) <= alpha:\n",
    "    C += 0.0001\n",
    "\n",
    "p = (alpha -  sp.gamma.cdf(C, a=len(table2), scale=1.0/lambda1)) / (sp.gamma.cdf(C, a=len(table2), scale=1.0/lambda1) - sp.gamma.cdf(C - 2, a=len(table2), scale=1.0/lambda1))\n",
    "p = round(p, 3)\n",
    "print(p)\n",
    "print(x_a2)\n",
    "print(\"c*n равно\", C)\n",
    "print(\"∑xi равна\",np.sum(table2))"
   ]
  },
  {
   "cell_type": "markdown",
   "metadata": {},
   "source": [
    "$ c^{*} = 314.09 > \\sum_{i=1}^{n}x_i = 116.5 $, то есть гипотеза $H_1$ принимается."
   ]
  },
  {
   "cell_type": "markdown",
   "metadata": {},
   "source": [
    "### 2.i В пунктах (c)-(h) заменить семейство распределений на семейство гамма-распределений распределений: $ \\mathcal{p_{\\lambda}}(x) = \\frac{ \\sqrt{\\lambda} \\exp(-\\lambda x / 2) }{\\sqrt{2\\pi x}} $"
   ]
  },
  {
   "cell_type": "markdown",
   "metadata": {},
   "source": [
    "#### c) В предположении, что исходные наблюдения являются выборкой из гамма- распределения, построить оценку максимального правдоподобия параметра $\\lambda$ и соответствующую оценку по методу моментов. Найти смещение оценок.\n",
    "\n",
    "Плотность гамма-распределения распределения:  $ \\mathcal{p_{\\lambda}}(x) = \\frac{ \\sqrt{\\lambda} \\exp( \\frac{-\\lambda x}{2}) }{\\sqrt{2\\pi x}} $, где $x \\geq 0$ для всей наблюденной выборки (поэтому индикатор опускаем)\n",
    "\n",
    "Построим ОМП: \\\n",
    "$ L(\\overrightarrow{X};\\theta) = \\prod_{i=1}^{n} \\frac{ \\sqrt{\\lambda} \\exp( \\frac{-\\lambda x}{2}) }{\\sqrt{2\\pi x}} = \\frac{ \\lambda^{\\frac{n}{2}} \\exp( -\\frac{\\lambda}{2} \\sum_{i=1}^{n}x_i ) }{ (2\\pi)^{\\frac{n}{2}} (\\prod_{i=1}^{n} x_i)^{\\frac{n}{2}} } $\n",
    "\n",
    "$ LL(\\overrightarrow{X};\\theta) = \\frac{n}{2} \\ln(\\lambda) - \\frac{\\lambda \\sum_{i=1}^{n}x_i}{2} - \\frac{n}{2} \\ln(2\\pi) - \\frac{n}{2} \\ln( \\prod_{i=1}^{n}x_i ) $\n",
    "\n",
    "$ \\frac{\\partial LL(\\overrightarrow{X};\\theta) }{\\partial \\lambda } = \\frac{n}{2 \\lambda} - \\frac{\\sum_{i=1}^{n}x_i}{2} = 0\n",
    "\\rightarrow \\hat{\\lambda} = \\frac{n}{\\sum_{i=1}^{n}x_i} = \\frac{1}{\\overline{X}} $\n",
    "\n",
    "$ \\hat{\\theta} = \\hat{\\lambda} $\n",
    "\n",
    "Таким образом, оценка параметра $\\lambda$ равна величине, обратной среднему значению выборки: 0.43 \n",
    "\n",
    "Построим оценку по ОММ.\n",
    "\n",
    "$\\mathbb{E}k=a \\cdot b = \\frac{1}{2} \\cdot \\frac{2}{\\lambda} = \\frac{1}{\\lambda} $\n",
    "\n",
    "$\\hat{\\theta} = \\hat{\\lambda} = \\frac{1}{\\overline{X}} = \\frac{1}{2.33} = 0.43 $\n",
    "\n",
    "Теперь нужно найти смещение оценки\n",
    "\n",
    "$ \\mathbb{E}_{\\lambda}\\frac{\\sum_{i=1}^{n}x_i}{n} = n \\mathbb{E}_{\\lambda}(\\sum_{i=1}^{n}x_i)^{-1} = \\left[ x_i \\sim \\exp(\\lambda) \\rightarrow x_i \\sim \\mathop{\\mathrm{Gamma}}\\nolimits(1, \\frac{1}{\\lambda}) \\rightarrow \\sum_{i=1}^{n}x_i \\sim \\mathop{\\mathrm{Gamma}}\\nolimits(n, \\frac{1}{\\lambda}) \\right] = \\left[ \\alpha = n, \\gamma = -1, \\beta = \\frac{1}{\\lambda} \\right] = n \\lambda \\frac{Г(n-1)}{Г(n)} = n\\lambda \\frac{Г(n-1)}{Г(n-1) \\cdot (n-1) } = \\lambda \\frac{n}{n-1} $ - оценка смещенная\n",
    "\n",
    "$\\tilde{\\lambda} = \\hat{\\lambda} \\frac{n-1}{n} $ - НРМД-оценка"
   ]
  },
  {
   "cell_type": "markdown",
   "metadata": {},
   "source": [
    "#### d) Построить асимптотический доверительный интервал уровня значимости $\\alpha_2$ для параметра $\\lambda$ на базе ОМП"
   ]
  },
  {
   "cell_type": "markdown",
   "metadata": {},
   "source": [
    "$ \\sqrt{nI(\\hat{\\theta})}(\\hat{\\theta}(x) - \\theta) \\sim N(0,1) $\n",
    "\n",
    "$ I_n(\\lambda) = -\\mathbb{E}\\frac{ \\partial^2LL }{ \\partial \\lambda^2 } = - \\mathbb{E}\\frac{-n}{2 \\lambda^2} = \\frac{n}{2 \\lambda^2} $\n",
    "\n",
    "$ I(\\hat{\\theta}) = \\frac{1}{2 \\overline{X}^2} $\n",
    "\n",
    "$X_{\\alpha}: Ф(X_{\\alpha}) = 1 - \\frac{\\alpha_2}{2} = 1 - \\frac{0.2}{2} = 0.90 $\n",
    "\n",
    "$X_{\\alpha} = 1.65 $\n",
    "\n",
    "Тогда ассимптотический доверительный интервал: $ \\theta = \\lambda \\in [1.5611;3.0989] $"
   ]
  },
  {
   "cell_type": "markdown",
   "metadata": {},
   "source": [
    "#### e) С использованием теоремы Колмогорова построить критерий значимости проверки простой гипотезы согласия с гамма-распределением с параметром $\\lambda_0$. Проверить гипотезу на уровне $\\alpha_2$. Вычислить наибольшее значение уровня значимости, на котором еще нет оснований отвергнуть данную гипотезу."
   ]
  },
  {
   "cell_type": "code",
   "execution_count": 239,
   "metadata": {},
   "outputs": [
    {
     "name": "stdout",
     "output_type": "stream",
     "text": [
      "Квантиль x_alpha = 0.12362978909230184\n",
      "Критерий Dn равен 0.2678937040879154\n",
      "Наибольшее значение уровня значимости, при котором еще нет оснований отвергнуть данную гипотезу, равно  0.0005844996782942147\n"
     ]
    }
   ],
   "source": [
    "x_alpha = sp.ksone.ppf(0.8, len(table2))\n",
    "\n",
    "print(\"Квантиль x_alpha =\",x_alpha)\n",
    "\n",
    "# поиск Dn\n",
    "lambda0 = 0.33\n",
    "# выборочная функция распределения:\n",
    "X = np.arange(-1, 17.5, 0.01)\n",
    "Fn = np.array([np.sum(table2_sorted < x)/len(table2) for x in X])\n",
    "F0 = np.array([sp.gamma.cdf(x, a=1, scale=1/lambda0) for x in X])\n",
    "\n",
    "difference = abs(Fn - F0)\n",
    "Dn = max(difference)\n",
    "print(\"Критерий Dn равен\", Dn)\n",
    "print(\"Наибольшее значение уровня значимости, при котором еще нет оснований отвергнуть данную гипотезу, равно \", 1 - sp.ksone.cdf(Dn, len(table2)))"
   ]
  },
  {
   "cell_type": "markdown",
   "metadata": {},
   "source": [
    "Как видно, значение критерия больше, чем $x_\\alpha$, значит гипотезу нельзя принять.\n",
    "\n",
    "Наибольшее значение уровня значимости, при котором еще нет оснований отвергнуть данную гипотезу, равно  0.0006"
   ]
  },
  {
   "cell_type": "markdown",
   "metadata": {},
   "source": [
    "#### f) Используя гистограмму частот, построить критерий значимости $\\chi^2$ проверки простой гипотезы согласия с показательным распределением с параметром $\\lambda_0$. Проверить гипотезу на уровне значимости $\\alpha_2$. Вычислить наибольшее значение уровня значимости, на котором еще нет оснований отвергнуть данную гипотезу."
   ]
  },
  {
   "cell_type": "code",
   "execution_count": 242,
   "metadata": {},
   "outputs": [
    {
     "name": "stdout",
     "output_type": "stream",
     "text": [
      "[1.4, 2.8, 5.6]\n",
      "Ожидаемые частоты:  [23, 10, 5, 7]\n",
      "[0.         0.         0.92344126 0.07655874]\n",
      "\n",
      "Значение критерия Хи-квадрат:  inf\n",
      "Критическое значение: 4.64162767608745\n",
      "p-value =  0.20000000000000007\n",
      "Наибольшее значение уровня значимости, на котором ещё нет оснований отвергнуть данную гипотезу: 0.0\n"
     ]
    }
   ],
   "source": [
    "\n",
    "lambda0 = 0.33\n",
    "def get_chi2_2(lambda0, table,freq,new_table,alpha,free,bins):\n",
    "    n = len(table)\n",
    "    print(bins)\n",
    "    print(\"Ожидаемые частоты: \",freq)\n",
    "    pi = np.zeros(len(bins) + 1)\n",
    "    freq = np.array(freq)\n",
    "    pi[0] = sp.gamma.cdf(bins[0], 1, 1.0/lambda0)\n",
    "    for i in range(1,len(bins)):\n",
    "        pi[i] = sp.gamma.cdf(bins[i], 1, 1.0/lambda0) - sp.gamma.cdf(bins[i-1], 1, 1.0/lambda0)\n",
    "    pi[len(bins)] = 1.0 - sp.gamma.cdf(bins[-1], 1, 1.0/lambda0)\n",
    "    print(pi)\n",
    "    chi_square = ((freq - n * pi) ** 2) / (n * pi)\n",
    "    print()\n",
    "    print(\"Значение критерия Хи-квадрат: \",np.sum(chi_square))\n",
    "    print(\"Критическое значение:\", chi2.ppf(1 - alpha, df = free))\n",
    "    print('p-value = ', 1 - chi2.cdf(chi2.ppf(1 - alpha, df = free), free))\n",
    "    print(\"Наибольшее значение уровня значимости, на котором ещё нет оснований отвергнуть данную гипотезу:\", 1 - chi2.cdf(np.sum(chi_square), df = free))\n",
    "\n",
    "\n",
    "get_chi2_2(lambda0,table2,hist1,new_table2,0.2,3,bins1)"
   ]
  },
  {
   "cell_type": "markdown",
   "metadata": {},
   "source": [
    "Как видно, данная выборка никак не может быть выборкой из гамма-распределения."
   ]
  },
  {
   "cell_type": "markdown",
   "metadata": {},
   "source": [
    "#### g) Построить критерий проверки значимости $\\chi^2$ сложной гипотезы согласия с гамма-распределением. Проверить гипотезу на уровне $\\alpha_2$. Вычислить наибольшее значение уровня значимости, на котором еще нет оснований отвергнуть данную гипотезу."
   ]
  },
  {
   "cell_type": "code",
   "execution_count": 247,
   "metadata": {},
   "outputs": [
    {
     "name": "stdout",
     "output_type": "stream",
     "text": [
      "\n",
      "Значение критерия Хи-квадрат:  95.23858138864462\n",
      "Критическое значение: 3.218875824868201\n",
      "p-value =  0.19999999999999996\n",
      "Наибольшее значение уровня значимости, на котором ещё нет оснований отвергнуть данную гипотезу: 0.0\n"
     ]
    }
   ],
   "source": [
    "def get_chi2_2_min(lmbd):\n",
    "    n = len(table2)\n",
    "    expon_dist = expon(lmbd)\n",
    "    pi = np.zeros(len(bins1) + 1)\n",
    "    freq = np.array(hist1)\n",
    "    pi[0] = sp.gamma.cdf(bins1[0], 1, 1.0/lmbd)\n",
    "    for i in range(1,len(bins1)):\n",
    "        pi[i] = sp.gamma.cdf(bins1[i], 1, 1.0/lmbd) - sp.gamma.cdf(bins1[i-1], 1, 1.0/lmbd)\n",
    "    pi[len(bins1)] = 1.0 - sp.gamma.cdf(bins1[-1], 1, 1.0/lmbd)\n",
    "    chi_square = ((freq - n * pi) ** 2) / (n * pi)\n",
    "    return np.sum(chi_square)\n",
    "\n",
    "result = scipy.optimize.minimize_scalar(get_chi2_2_min)\n",
    "\n",
    "print()\n",
    "print(\"Значение критерия Хи-квадрат: \",result.fun)\n",
    "print(\"Критическое значение:\", chi2.ppf(1 - 0.2, df = 2))\n",
    "print('p-value = ', 1 - chi2.cdf(chi2.ppf(1 - 0.2, df = 2), 2))\n",
    "print(\"Наибольшее значение уровня значимости, на котором ещё нет оснований отвергнуть данную гипотезу:\", 1 - chi2.cdf(np.sum(result.fun), df = 2))"
   ]
  },
  {
   "cell_type": "markdown",
   "metadata": {},
   "source": [
    "Гипотезу нужно отвергнуть, данная выборка не похожа на выборку из гамма-распределения и наибольшее значение уровня значимости слишком мало."
   ]
  },
  {
   "cell_type": "markdown",
   "metadata": {},
   "source": [
    "#### h) Построить наиболее мощный критерий проверки простой гипотезы согласия с гамма-распределением с параметром $\\lambda=\\lambda_0$ при альтернативе показательности с параметром $\\lambda=\\lambda_1$. Проверить гипотезу на уровне значимости $\\alpha_2$. Что получится, если поменять местами основную и альтернативную гипотезы?"
   ]
  },
  {
   "cell_type": "markdown",
   "metadata": {},
   "source": [
    "Основная гипотеза: $ H_0 = \\lambda_0 $\n",
    "Альтернативная гипотеза: $ H_A = \\lambda_1 $\n",
    "\n",
    "$ LR(\\overline{X}, \\lambda_0, \\lambda_1) = \\frac{L(\\overline{X}, \\lambda_1)}{L(\\overline{X}, \\lambda_0)} = \\frac{ \\lambda_1^{\\frac{n}{2}} \\exp( -\\frac{\\lambda_1}{2} \\sum_{i=1}^{n}x_i) }{ \\lambda_0^{\\frac{n}{2}} \\exp(-\\frac{\\lambda_0}{2} \\sum_{i=1}^{n}x_i) } > c $\n",
    "\n",
    "$\\frac{n}{2} \\ln(\\frac{\\lambda_1}{\\lambda_0}) + \\sum_{i=1}^{n}x_i \\cdot \\frac{(\\lambda_0 - \\lambda_1)}{2} > \\ln c $\n",
    "\n",
    "$ -42.87 + \\sum_{i=1}^{n}x_i \\cdot (0.095) > \\ln c $\n",
    "\n",
    "$ \\sum_{i=1}^{n}x_i > \\frac{ \\ln c + 42.87}{ 0.095 } = c^* $\n",
    "\n",
    "$ P_{\\lambda_1}(\\sum_{i=1}^{n}x_i > c^* ) + pP_{\\lambda_1}( \\sum_{i=1}^{n}x_i = c^* ) = \\alpha_2 $\n",
    "\n",
    "$ P_{\\lambda_1}(\\sum_{i=1}^{n}x_i > c^* ) = 1 - P_{\\lambda_1}(\\sum_{i=1}^{n}x_i \\leq c^*) = 1 - F_{n, \\frac{1}{\\lambda}}(x_{\\alpha}) < \\alpha_2 $\n",
    "\n",
    "$ P_{\\lambda_1}(\\sum_{i=1}^{n}x_i = c^* ) = F_{n, \\frac{1}{\\lambda}}(x_{\\alpha}) - F_{n, \\frac{1}{\\lambda}}(x_{\\alpha} - 1) $\n",
    "\n",
    "$ p = \\frac{ \\alpha_2 - 1 + F_{n, \\frac{1}{\\lambda}}(x_{\\alpha}) }{ F_{n, \\frac{1}{\\lambda}}(x_{\\alpha}) - F_{n, \\frac{1}{\\lambda}}(x_{\\alpha} - 1) } = 0.106 $\n"
   ]
  },
  {
   "cell_type": "code",
   "execution_count": 250,
   "metadata": {},
   "outputs": [
    {
     "name": "stdout",
     "output_type": "stream",
     "text": [
      "0.106\n",
      "c*n равно 5\n",
      "∑xi равна 116.50000000000001\n"
     ]
    }
   ],
   "source": [
    "alpha = 0.2\n",
    "C = 0\n",
    "lambda0 = 0.33\n",
    "while 1 - sp.gamma.cdf(C, a=1, scale=1.0/lambda0) >= alpha:\n",
    "    C += 1\n",
    "\n",
    "denominator = sp.gamma.cdf(C, a=1, scale=1.0/lambda0) - sp.gamma.cdf((C - 1), a=1, scale=1.0/lambda0)\n",
    "\n",
    "p = (alpha - 1 + sp.gamma.cdf(C, a=1, scale=1.0/lambda0)) /denominator\n",
    "\n",
    "p = round(p, 3)\n",
    "print(p)\n",
    "\n",
    "print(\"c*n равно\", C)\n",
    "print(\"∑xi равна\",np.sum(table2))"
   ]
  },
  {
   "cell_type": "markdown",
   "metadata": {},
   "source": [
    "$ c^{*} = 5 < \\sum_{i=1}^{n}x_i = 116.5 $, то есть гипотеза  $H_0$ принимается, теперь нужно поменять основную и альтернативную гипотезу местами\n",
    "\n",
    "$ LR(\\overline{X}, \\lambda_1, \\lambda_0) = \\frac{L(\\overline{X}, \\lambda_0)}{L(\\overline{X}, \\lambda_1)} = \\frac{ \\lambda_0^{\\frac{n}{2}} \\exp( -\\frac{\\lambda_0}{2} \\sum_{i=1}^{n}x_i) }{ \\lambda_1^{\\frac{n}{2}} \\exp(-\\frac{\\lambda_1}{2} \\sum_{i=1}^{n}x_i) } > c $\n",
    "\n",
    "$ \\frac{n}{2} \\ln(\\frac{\\lambda_0}{\\lambda_1}) + \\sum_{i=1}^{n}x_i \\cdot \\frac{(\\lambda_1 - \\lambda_0)}{2} > \\ln c $\n",
    "\n",
    "$ 42.87 + \\sum_{i=1}^{n}x_i \\cdot (-0.095) > \\ln c $\n",
    "\n",
    "$ \\sum_{i=1}^{n}x_i < \\frac{ \\ln c - 42.87 }{ 0.095 } = c^* $\n",
    "\n",
    "Найдем $c^*$ и p:\n",
    "$ P_{\\lambda_0}(\\sum_{i=1}^{n}x_i < c^* ) + pP_{\\lambda_0}( \\sum_{i=1}^{n}x_i = c^* ) = \\alpha_2 $\n",
    "\n",
    "$ P_{\\lambda_0}(\\sum_{i=1}^{n}x_i \\leq c^* ) = F_{n, \\frac{1}{\\lambda}}(x_{\\alpha}) > \\alpha_2 $\n",
    "\n",
    "$ P_{\\lambda_0}(\\sum_{i=1}^{n}x_i = c^* ) = F_{n, \\frac{1}{\\lambda}}(x_{\\alpha}) - F_{n, \\frac{1}{\\lambda}}(x_{\\alpha} - 1) $\n",
    "\n",
    "$ p = \\frac{ \\alpha_2 - F_{n, \\frac{1}{\\lambda}}(x_{\\alpha}) }{ F_{n, \\frac{1}{\\lambda}}(x_{\\alpha}) - F_{n, \\frac{1}{\\lambda}}(x_{\\alpha} - 1) } = 0 $"
   ]
  },
  {
   "cell_type": "code",
   "execution_count": 254,
   "metadata": {},
   "outputs": [
    {
     "name": "stdout",
     "output_type": "stream",
     "text": [
      "-0.0\n",
      "c*n равно 1.5938999999999346\n",
      "∑xi равна 116.50000000000001\n"
     ]
    }
   ],
   "source": [
    "alpha = 0.2\n",
    "C = 1\n",
    "lambda1 = 0.14\n",
    "while sp.gamma.cdf(C, a=1, scale=1.0/lambda1) <= alpha:\n",
    "    C += 0.0001\n",
    "\n",
    "denominator = sp.gamma.cdf(C, a=1, scale=1.0/lambda1) - sp.gamma.cdf((C - 1), a=1, scale=1.0/lambda1)\n",
    "\n",
    "p = (alpha - sp.gamma.cdf(C, a=1, scale=1.0/lambda1)) /denominator\n",
    "\n",
    "p = round(p, 3)\n",
    "print(p)\n",
    "\n",
    "print(\"c*n равно\", C)\n",
    "print(\"∑xi равна\",np.sum(table2))"
   ]
  },
  {
   "cell_type": "markdown",
   "metadata": {},
   "source": [
    "$ c^{*} =  1.59 < \\sum_{i=1}^{n}x_i = 116.5 $, то есть гипотеза  $H_A$ отвергается,"
   ]
  },
  {
   "cell_type": "markdown",
   "metadata": {},
   "source": [
    "## Выводы\n",
    "\n",
    "В ходе данной лабораторной работы были освоены основные теоретические положения статистического анализа данных. Изучено применение выборочных числовых характеристик, таких как математическое ожидание, дисперсия, коэффициент асимметрии и эксцесса. Получены навыки работы с оценкой максимального правдоподобия (ОМП) и оценкой метода моментов (ОММ).\n",
    "Также изучены асимптотические доверительные интервалы, основанные на асимптотической нормальности оценок и информации Фишера. Рассмотрены критерии Хи-квадрат для проверки гипотез о распределении данных. Ознакомление с теоремой Колмогорова предоставило возможность использования метода проверки гипотезы о совпадении эмпирической и теоретической функций распределения. В результате работы также усвоены принципы построения наиболее мощного критерия для простых гипотез на основе статистики отношения правдоподобия. Получены навыки реализации методов с использованием прикладных программных пакетов."
   ]
  }
 ],
 "metadata": {
  "kernelspec": {
   "display_name": "Python 3 (ipykernel)",
   "language": "python",
   "name": "python3"
  },
  "language_info": {
   "codemirror_mode": {
    "name": "ipython",
    "version": 3
   },
   "file_extension": ".py",
   "mimetype": "text/x-python",
   "name": "python",
   "nbconvert_exporter": "python",
   "pygments_lexer": "ipython3",
   "version": "3.11.5"
  }
 },
 "nbformat": 4,
 "nbformat_minor": 2
}
