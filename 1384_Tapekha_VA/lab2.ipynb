{
 "cells": [
  {
   "cell_type": "markdown",
   "metadata": {},
   "source": [
    "# Практическая работа №2: Классические методы математической статистики"
   ]
  },
  {
   "cell_type": "markdown",
   "metadata": {},
   "source": [
    "Выполнил студент гр. 1384 Тапеха Владимир. Вариант №17."
   ]
  },
  {
   "cell_type": "markdown",
   "metadata": {},
   "source": [
    "## Цель работы"
   ]
  },
  {
   "cell_type": "markdown",
   "metadata": {},
   "source": [
    "Научится применять методы математической статистики для визуализации и анализа полученных данных; сформировать навыки реализации методов с помощью прикладных программных пакетов."
   ]
  },
  {
   "cell_type": "markdown",
   "metadata": {},
   "source": [
    "## Основные теоретические положения"
   ]
  },
  {
   "cell_type": "markdown",
   "metadata": {},
   "source": [
    "**Выборочные числовые характеристики**:\n",
    "- Математическое ожидание: $$\\overline{X}=\\frac{1}{n} \\sum_{i=1}^{n}X_{i}$$\n",
    "- Дисперсия:$$S^{2}=\\frac{1}{n}\\sum_{i=1}^{n}\\left( X_{i}-\\overline{X} \\right)^{2}=\\overline{X^{2}}-\\overline{X}^{2}$$\n",
    "- Коэффициент асимметрии (скошенности): $$\\widehat{S_{\\text{kew}}}X=\\frac{\\left(\\frac{1}{n}\\sum_{i=1}^{n}\\left( X_{i}-\\overline{X} \\right)^{3} \\right)}{S^{3}}$$\n",
    "- Коэффициент эксцесса (островершинности): $$\\widehat{K_{\\text{urt}}}X=\\frac{\\frac{1}{n}\\sum_{i=1}^{n}\\left( X_{i}-\\overline{X}^{4} \\right)}{S^{4}}-3$$\n",
    "\n",
    "**Оценка Максимального Правдоподобия (ОМП)**:\n",
    "\n",
    "Если $X_{1},...,X_{n}$ - выборка из распределения с плотностью распределения $P_{\\theta}, \\theta\\in \\Theta$, то:\n",
    "\n",
    "1. Функция правдоподобия распадается в произведение: $$L(\\overrightarrow{X},\\theta)=\\prod_{i=1}^{n}P_{\\theta}(X_{i})$$\n",
    "2. Логарифм функции правдоподобия представляется в виде суммы: $$LL(\\overrightarrow{X},\\theta)=\\ln L(\\overrightarrow{X},\\theta)=\\sum_{i=1}^{n}\\ln P_{\\theta}(X_{i})$$\n",
    "3. В силу монотонности логарифма задача максимизации функции правдоподобия сводится к задаче максимизации ее логарифма по всем $\\theta\\in \\Theta$: $$LL(\\overrightarrow{X}),\\theta=\\sum_{i=1}^{n}\\ln P_{\\theta}(X_{i})$$\n",
    "4. Если $\\theta$ - d-мерный параметр и $P_{\\theta}$ дифференцируема по $\\theta$, то для нахождения максимума надо найти решения системы уравнений: $$\\frac{\\partial}{\\partial \\theta}LL(\\overrightarrow{X},\\theta)=0, i=\\overline{1,d}$$.\n",
    "\n",
    "**Оценка метода моментов (ОММ)**:\n",
    "\n",
    "Пусть $X_{1},...,X_{n}$ - выборка из распределения $P_{\\theta}, \\theta=(\\theta_{1},...,\\theta_{d})$.\n",
    "\n",
    "Если существуют моменты $\\mu_{k}(\\theta)=\\mathbb{E}X^{k}_{1}, k=\\overline{1,d}$, то если найдется решение $\\widetilde{\\theta}(X)$ системы уравнений $\\widehat{\\mu^{k}}(\\widetilde{\\theta})=\\mu_{k}(\\theta), k=\\overline{1,d}$, где $\\widetilde{\\theta}(X)=\\frac{1}{n}\\sum_{i=1}^{n}X^{k}_{i}$ - выборочный момент k-го порядка, то $\\widetilde{\\theta}(X)$ называется оценкой метода моментов.\n",
    "\n",
    "**Несмещенная оценка (НРМД-оценка)**:\n",
    "\n",
    "Оценка $\\widehat{\\theta}(X)$ параметра $\\theta$ называется несмещенной, если для любого значения параметра $\\theta\\in \\Theta$ выполняется $\\mathbb{E}\\widehat{\\theta}(X)=\\theta$.\n",
    "\n",
    "Смещением оценки называется величина: ${\\widehat{\\theta}}(\\theta)=\\mathbb{E}_{\\theta}\\widehat{\\theta}(X)-\\theta$.\n",
    "\n",
    "**Алгоритм несмещенного оценивания:**\n",
    "\n",
    "1. Найти оценку $\\widehat{\\theta}(T)$, являющуюся функцией от минимальной достаточной статистики T (например, ОМП).\n",
    "2. Доказать полноту МДС T.\n",
    "3. Скорректировать смещение: $\\widetilde{\\theta}(T)=f(\\widehat{\\theta}(T),T)$, где $\\mathbb{E}_{\\theta}\\widetilde{\\theta}(T)=\\theta, \\forall \\theta\\in \\Theta$.\n",
    "\n",
    "**Асимптотический доверительный интервал (АДИ)**\n",
    "\n",
    "5.1 На базе Асимптотической нормальности оценки $\\widehat{\\theta}$\n",
    "$$\n",
    "\\sqrt{n}\\left( \\widehat{\\theta}(\\overrightarrow{X})-\\theta\\right)\\sim \\mathcal{N}\\left(0,\\sigma^{2}(\\theta)\\right)\n",
    "$$\n",
    "\n",
    "Тогда\n",
    "$$\n",
    "\\sqrt{n}\\frac{\\widehat{\\theta}(\\overrightarrow{X})-\\theta}{\\sigma\\left(\\widehat{\\theta}(\\overrightarrow{X})\\right)}\n",
    "$$\n",
    "\n",
    "Выбираем $X_{\\alpha}: \\Phi(X_{\\alpha})=1-\\frac{alpha}{2}$\n",
    "\n",
    "АДИ\n",
    "$$\n",
    "\\left[ \\widehat{\\theta}(\\overrightarrow{X})-\\frac{X_{\\alpha}\\cdot \\sigma\\left( \\widehat{\\theta}(\\overrightarrow{X}) \\right)}{\\sqrt{n}}; \\widehat{\\theta}(\\overrightarrow{X})+\\frac{X_{\\alpha}\\cdot \\sigma\\left( \\widehat{\\theta}(\\overrightarrow{X}) \\right)}{\\sqrt{n}}\\right]\n",
    "$$\n",
    "\n",
    "На базе ОМП\n",
    "\n",
    "Пусть $\\widehat{\\theta}(\\overrightarrow{X})$-ОМП\n",
    "\n",
    "При выполнении определенных условий регулярности:\n",
    "$$\n",
    "\\sqrt{n}\\left(\\widehat{\\theta}(\\overrightarrow{X})-\\theta\\right)\\sim \\mathcal{N}\\left(0,\\frac{1}{I(\\theta)}\\right), I(\\theta)=-\\mathbb{E}\\left( \\frac{\\partial^{2} LL}{\\partial \\theta^{2}} \\right)\n",
    "$$\n",
    "где $LL$ обозначает логарифмическую функцию правдоподобия.\n",
    "\n",
    "Тогда\n",
    "$$\n",
    "\\sqrt{n} \\cdot \\left( \\widehat{\\theta}(\\overrightarrow{X}) - \\theta \\right) \\sim \\mathcal{N}(0,1)\n",
    "$$\n",
    "\n",
    "Выбираем $X_{\\alpha}: \\Phi(X_{\\alpha})=1-\\frac{\\alpha}{2}$\n",
    "\n",
    "АДИ\n",
    "$$\n",
    "\\left[\\widehat{\\theta}(\\overrightarrow{X}) - \\frac{X_{\\alpha}}{\\sqrt{n \\cdot I \\left(\\widehat{\\theta}(\\overrightarrow{X})\\right)}}, \\widehat{\\theta}(\\overrightarrow{X}) + \\frac{X_{\\alpha}}{\\sqrt{n \\cdot I \\left(\\widehat{\\theta}(\\overrightarrow{X})\\right)}} \\right]\n",
    "$$\n",
    "\n",
    "**Критерий $\\chi^2$ для проверки гипотез**\n",
    "\n",
    "Лснован на справнении теоритической плотности распределения и гистограммы, либо теоритической вероятностной меры и полигона частот.\n",
    "\n",
    "Разобъем множество значений сл. вел. X на $N$ интервалов $I_{1}, ..., I_{N}:$ $I_{i} = (a_{i-1}, a_i], i = \\overline {1,N}$. данные интервалы не пересекаются и покрывают всё множество возможных значений сл. вел. X.\n",
    "\n",
    "Обозначим через $p_{i}$ теоритическую вероятность попадания сл. вел. X в интервал $I_{i}$, при условии, что справедлива $H_{0}$.\n",
    "\n",
    "$$p_{i} = P(X \\in I_{i}|H_{0})$$\n",
    "\n",
    "Через $n_{i}$ обозначим число наблюдений нашей выборки, попавших в соответветствующий интервал $I_{i}$.\n",
    "\n",
    "$$n_{i} = num(x_{j} \\in I_{i})$$\n",
    "\n",
    "Статистика критерия основана на сравнении относительной частоты и теоритической.\n",
    "\n",
    "$$\\chi^{2}_{набл} = \\sum \\limits_{i=1}^{N} \\frac{n}{p_{i}} \\bigg ( \\frac{n_{i}}{n} - p_{i} \\bigg )^{2} = \\sum \\limits_{i=1}^{N} \\frac{(n_{i} - p_{i} n)^{2}}{n p_{i}} \\sim \\chi^{2}_{N-1}$$\n",
    "\n",
    "Если $\\mathcal{X}^{2}_{N-1,1-\\alpha_{1}} \\lt \\chi^2_{набл}$, то гипотезу отвергаем\n",
    "\n",
    "Если $\\mathcal{X}^{2}_{N-1,1-\\alpha_{1}} \\gt \\chi^2_{набл}$, то гипотезу принимаем\n",
    "\n",
    "**теорема Колмогорова**\n",
    "\n",
    "$$D_{n}(\\overrightarrow{X}) = \\overset{}{\\underset{X \\in \\mathbb R}{sup}} |F_{0}(X_{i}) - F_{n}(X_{i})|$$\n",
    "\n",
    "Если гипотеза $H_{0}$ верна, и $F_{0}(X)$ - непрерывная ф-я на $\\mathbb R$, тогда имеет место сходимость\n",
    "\n",
    "$P(\\sqrt{n} D_{n}(\\overrightarrow{X}) < z) \\xrightarrow[n \\rightarrow \\infty]{} K(z)$, где\n",
    "\n",
    "$K(z)=1-\\alpha$ - ф-я распределения Колмогорова.\n",
    "\n",
    "Если $D_{n} \\lt z$, то гипотезу принимаем\n",
    "\n",
    "Если $D_{n} \\gt z$, то гипотезу отвергаем\n",
    "\n",
    "**Наиболее мощный критерий простой гипотезы**\n",
    "\n",
    "Для основной гипотезы $H_{0}: \\theta=\\theta_{0}$ и альтернативной гипотезы $H_{1}: \\theta=\\theta_{1}$, где $\\theta_{0}$ и $\\theta_{1}$ - фиксированные параметры, мы можем построить статистику правдоподобия:\n",
    "\n",
    "$$LR(\\overrightarrow{X},\\theta_{1},\\theta_{0})=\\frac{L(\\overrightarrow{X},\\theta_{1})}{L(\\overrightarrow{X},\\theta_{0})}=\\frac{P_{\\theta_{1}}(X)}{P_{\\theta_{0}}(X)} - \\text{статистика отношений правдоподобия,}$$\n",
    "\n",
    "где $L(\\overrightarrow{X},\\theta_{1})$ - функция правдоподобия для альтернативной гипотезы, а $L(\\overrightarrow{X}\\theta_{0})$ - функция правдоподобия для основной гипотезы.\n",
    "\n",
    "Наиболее мощным критерием будет критическая область, в которой наблюдаемое значение статистики правдоподобия $LR(\\overrightarrow{X},\\theta_{1},\\theta_{0})$ будет отклоняться от значения 1 в сторону более высоких значений.\n",
    "\n",
    "Чтобы построить критическую область, мы должны задать уровень значимости $\\alpha$ - вероятность ошибки первого рода. Затем мы находим критическое значение $c$ такое, что $P\\left(LR(\\overrightarrow{X},\\theta_{1},\\theta_{0}) > c | H_{0} \\right) = \\alpha$, где $P\\left(LR(\\overrightarrow{X},\\theta_{1},\\theta_{0}) > c | H_{0}\\right)$ - вероятность получить наблюдаемое значение статистики правдоподобия, большее или равное $c$, при условии, что основная гипотеза верна.\n",
    "\n",
    "$LR(\\overrightarrow{X},\\theta_{1},\\theta_{0})\\gt c$, то принимаем основную гипотезу\n",
    "\n",
    "$LR(\\overrightarrow{X},\\theta_{1},\\theta_{0})\\lt c$, то отвергаем основную гипотезу"
   ]
  },
  {
   "cell_type": "markdown",
   "metadata": {},
   "source": [
    "## Постановка задачи"
   ]
  },
  {
   "cell_type": "markdown",
   "metadata": {},
   "source": [
    "1. В результате эксперимента получены данные, приведенные в таблице 1.\n",
    "    \n",
    "    a. Построить вариационный ряд, эмпирическую функцию распределения и гистограмму частот.\n",
    "    \n",
    "    b. Вычислить выборочные аналоги следующих числовых характеристик:\n",
    "    - математического ожидания; \n",
    "    - дисперсии; \n",
    "    - СКО; \n",
    "    - медианы; \n",
    "    - асимметрии; \n",
    "    - экцесса; \n",
    "    - вероятности $\\mathbb{P}(X \\in [a, b])$\n",
    "\n",
    "    c. В предположении, что исходные наблюдения являются выборкой из показательного распределения, построить оценку максимального правдоподобия параметра $\\lambda$, а также оценку $\\lambda$ по методу моментов. Найти смещение оценок.\n",
    "\n",
    "    d. Построить доверительные интервалы уровня значимости $\\alpha_{1}$ для параметра $\\lambda$ на базе оценки максимального правдоподобия. \n",
    "\n",
    "    e. Используя гистограмму частот, построить критерий значимости $\\chi^2$ проверки простой гипотезы согласия с распределением Пуассона с параметром $\\lambda_0$. Проверить гипотезу на уровне значимости $\\alpha_1$. Вычислить наибольшее значение уровня значимости, на котором еще нет оснований опровергнуть данную гипотезу.\n",
    "    \n",
    "    f. Построить критерий значимости $\\chi^2$ проверки сложной гипотезы согласия с распределением Пуассона. Проверить гипотезу по уровню значимости $\\alpha_1$. Вычислить наибольшее значение уровня значимости, на котором ещё нет оснований отвергнуть данную гипотезу.\n",
    "\n",
    "    g. Построить наиболее мощный критерий проверки простой гипотезы пуассоновости с парметром $\\lambda = \\lambda_0$ при альтернативе и пуассоновости с параметром $\\lambda = \\lambda_1$. Проверить гипотезу на уровне значимости $\\alpha_1$. Что получится, если поменять местами осовную и альтернативную гипотезы?\n",
    "\n",
    "    h. В пунктах (c)-(f) заменить семейство распределение Пуассона на семейство геометрических распредленией\n",
    "    $$\n",
    "    \\mathbb{P}_{\\lambda}(X = k) = \\frac{\\lambda^k}{(\\lambda + 1)^{k+1}}\n",
    "    $$\n",
    "\n",
    "**Таблица 1**\n",
    "\n",
    "$\\alpha_1 = 0.20; a = 0.00; b = 2.98; \\lambda_0 = 3.00; \\lambda_1 = 2.00.$\n",
    "\n",
    "1 1 3 0 0 0 1 1 3 5 2 1 2 0 0 1 11 2 0 4 1 0 5 0 1 3 1 8 0 1 2 6 1 0 0 0 0 0 0 9 2 0 12 2 0 0 2 1 4 1\n"
   ]
  },
  {
   "cell_type": "markdown",
   "metadata": {},
   "source": [
    "2. В результате эксперимента получены данные, приведенные в таблице 2.\n",
    "\n",
    "    a. Построить вариационный ряд, эмпирическую функцию распределения, гистограмму частот и полигон частот с шагом h.\n",
    "    \n",
    "    b. Вычислить выборочные аналоги следующих числовых характеристик:\n",
    "    - математического ожидания; \n",
    "    - дисперсии; \n",
    "    - СКО; \n",
    "    - медианы; \n",
    "    - асимметрии; \n",
    "    - экцесса; \n",
    "    - вероятности $\\mathbb{P}(X \\in [c, d])$\n",
    "\n",
    "    c. В предположении, что исходные наблюдения являются выборкой из показательного распределения, построить оценку максимального правдоподобия параметра $\\lambda$, а также оценку соответствующую по методу моментов. Найти смещение оценок.\n",
    "\n",
    "    d. Построить доверительные интервалы уровня значимости $\\alpha_2$ для параметра $\\lambda$.\n",
    "\n",
    "    e. С использованием теоремы Колмогорова построить критерий значимости проверки простой гипотезы согласия с нормальным распределением с параметром $\\lambda_0$. Проверить гипотезу на уровне значимости $\\alpha_2$. Вычислить наибольшее значение уровня значимости, на котором еще нет оснований отвергнуть данную гипотезу.\n",
    "    \n",
    "    f. Используя гистограмму частот, построить критерий значимости $\\chi^2$ проверки простой гипотезы согласия с нормальным распределением с параметром $\\lambda_0$. Проверить гипотезу на уровне значимости $\\alpha_2$. Вычислить наибольшее значение уровня значимости, на котором ещё нет оснований отвергнуть данную гипотезу.\n",
    "\n",
    "    g. Построить критерий значимости $\\chi^2 $проверки сложной гипотезы согласия с нормальным распределением. Проверить гипотезу по уровню значимости $\\alpha_2$. Вычислить наибольшее значение уровня значимости, на котором ещё нет оснований отвергнуть данную гипотезу.\n",
    "\n",
    "    h. Построить наиболее мощный критерий проверки простой гипотезы о нормальности с параметром $\\lambda = \\lambda_0$  при альтернативе нормальности с параметром $\\lambda = \\lambda_1$. Проверить гипотезу на уровне значимости $\\alpha_2$. Что получится, если поменять местами основную и альтернативную гипотезы?\n",
    "\n",
    "    i. В пукнтах (c)-(h) заменить семейство показательных распределений на семейство гамма-рапределений с плотностями $ p_{\\lambda} = \\frac{\\sqrt{\\lambda} \\exp{(-\\frac{\\lambda x}{2})}}{\\sqrt{2\\pi x}}$ (использовать таблицу распределений $\\chi^2_1$).\n",
    "\n",
    "**Таблица 2**\n",
    "\n",
    "$\\alpha_2 = 0.10; с = 0.00; в = 4.80; h = 1.20; \\lambda_0 = 0.33;\\lambda_1 = 0.25.$\n",
    "\n",
    "3.30 4.40 3.46 1.35 1.56 1.05 12.39 3.68 4.61 3.00 2.36 0.79 3.95 2.55 1.41 1.81 2.01 10.28 0.56 1.33 4.02 0.56 2.87 0.67 0.28 0.89 2.35 2.60 0.36 0.11 0.07 0.90 6.70 2.81 0.78 4.71 4.59 14.12 3.24 6.76 5.70 0.28 0.05 0.68 0.54 0.03 5.51 4.51 7.80 2.02"
   ]
  },
  {
   "cell_type": "markdown",
   "metadata": {},
   "source": [
    "Для полученных в результате эксперимента наборов данных выполнить статистическую обработку. Полученные результаты содержательно проинтерпретировать."
   ]
  },
  {
   "cell_type": "markdown",
   "metadata": {},
   "source": [
    "## Выполнение работы"
   ]
  },
  {
   "cell_type": "markdown",
   "metadata": {},
   "source": [
    "Импортируем библиотеки."
   ]
  },
  {
   "cell_type": "code",
   "execution_count": 3,
   "metadata": {},
   "outputs": [],
   "source": [
    "import numpy as np\n",
    "import pandas as pd\n",
    "import statsmodels.api as sm\n",
    "import matplotlib.pyplot as plt\n",
    "import scipy.stats as st\n",
    "from scipy.optimize import minimize\n",
    "from math import factorial\n",
    "\n",
    "from typing import NoReturn"
   ]
  },
  {
   "cell_type": "markdown",
   "metadata": {},
   "source": [
    "Напишем необходимые функции."
   ]
  },
  {
   "cell_type": "markdown",
   "metadata": {},
   "source": [
    "*Эмперическая функция распределния*"
   ]
  },
  {
   "cell_type": "code",
   "execution_count": 4,
   "metadata": {},
   "outputs": [],
   "source": [
    "def calculate_ecdf(variation_series: np.ndarray) -> NoReturn:\n",
    "    df = pd.DataFrame(variation_series, columns=['Values'])\n",
    "\n",
    "    ecdf = sm.distributions.ECDF(df['Values'])\n",
    "    x = np.unique(df['Values'])\n",
    "    y = ecdf(x)\n",
    "\n",
    "    plt.scatter(x, y, marker='o', label='dots')\n",
    "\n",
    "    for i in range(len(x) - 1):\n",
    "        plt.plot([x[i], x[i + 1]], [y[i], y[i]], color='k', linestyle='dashed')\n",
    "\n",
    "    plt.xlabel('Unique Values')\n",
    "    plt.ylabel('ECDF')\n",
    "    plt.title('Empirical Cumulative Distribution Function (ECDF) with Points')\n",
    "    plt.legend()\n",
    "    plt.grid(True)\n",
    "    plt.show()"
   ]
  },
  {
   "cell_type": "markdown",
   "metadata": {},
   "source": [
    "*Функция для нахождения вероятности в интервале*"
   ]
  },
  {
   "cell_type": "code",
   "execution_count": 5,
   "metadata": {},
   "outputs": [],
   "source": [
    "import numpy as np\n",
    "import pandas as pd\n",
    "\n",
    "def calculate_probability_in_range(variation_series: np.ndarray, begin: float, end: float) -> float:\n",
    "    return np.sum((begin <= variation_series) & (variation_series <= end)) / len(variation_series)\n"
   ]
  },
  {
   "cell_type": "markdown",
   "metadata": {},
   "source": [
    "*Проверка некоторой гипотезы $\\lambda = \\lambda_0$ при алтернативе с параметром $\\lambda = \\lambda_1$*"
   ]
  },
  {
   "cell_type": "markdown",
   "metadata": {},
   "source": [
    "### №1 В результате эксперимента получены данные, приведенные в таблице 1."
   ]
  },
  {
   "cell_type": "markdown",
   "metadata": {},
   "source": [
    "Запишем константы из условия первого задания:"
   ]
  },
  {
   "cell_type": "code",
   "execution_count": 6,
   "metadata": {},
   "outputs": [],
   "source": [
    "alpha_1 = 0.2\n",
    "a = 0.0\n",
    "b = 2.98\n",
    "lambda_0 = 3.00\n",
    "lambda_1 = 2.00"
   ]
  },
  {
   "cell_type": "markdown",
   "metadata": {},
   "source": [
    "##### a)Построить вариационный ряд, эмпирическую функцию распределения и гистограмму частот."
   ]
  },
  {
   "cell_type": "markdown",
   "metadata": {},
   "source": [
    "*Вариационный ряд*"
   ]
  },
  {
   "cell_type": "code",
   "execution_count": 7,
   "metadata": {},
   "outputs": [
    {
     "name": "stdout",
     "output_type": "stream",
     "text": [
      "0 0 0 0 0 0 0 0 0 0 0 0 0 0 0 0 0 0 1 1 1 1 1 1 1 1 1 1 1 1 1 2 2 2 2 2 2 2 3 3 3 4 4 5 5 6 8 9 11 12\n"
     ]
    }
   ],
   "source": [
    "series = '1 1 3 0 0 0 1 1 3 5 2 1 2 0 0 1 11 2 0 4 1 0 5 0 1 3 1 8 0 1 2 6 1 0 0 0 0 0 0 9 2 0 12 2 0 0 2 1 4 1'\n",
    "variation_series = np.sort(np.array(list(map(int, series.split()))))\n",
    "size = len(variation_series)\n",
    "\n",
    "print(*variation_series)"
   ]
  },
  {
   "cell_type": "markdown",
   "metadata": {},
   "source": [
    "*Эмперическая функция распределения*"
   ]
  },
  {
   "cell_type": "code",
   "execution_count": 8,
   "metadata": {},
   "outputs": [
    {
     "data": {
      "image/png": "[encoded data removed]",
      "text/plain": [
       "<Figure size 640x480 with 1 Axes>"
      ]
     },
     "metadata": {},
     "output_type": "display_data"
    }
   ],
   "source": [
    "calculate_ecdf(variation_series)"
   ]
  },
  {
   "cell_type": "markdown",
   "metadata": {},
   "source": [
    "*Гистограма*"
   ]
  },
  {
   "cell_type": "code",
   "execution_count": 9,
   "metadata": {},
   "outputs": [],
   "source": [
    "def calculate_hist(variation_series: np.ndarray) -> NoReturn:\n",
    "    min_value = np.min(variation_series)\n",
    "    max_value = np.max(variation_series)\n",
    "\n",
    "    num_bins = int(np.ceil(max_value - min_value))\n",
    "\n",
    "    plt.hist(\n",
    "        variation_series,\n",
    "        bins=num_bins,\n",
    "        edgecolor='black',\n",
    "        alpha=0.7,\n",
    "        label='Гистограмма'\n",
    "    )\n",
    "\n",
    "    plt.title('Гистограмма частот')\n",
    "    plt.xlabel('Значение')\n",
    "    plt.ylabel('Частота')\n",
    "\n",
    "    plt.show()"
   ]
  },
  {
   "cell_type": "code",
   "execution_count": 10,
   "metadata": {},
   "outputs": [
    {
     "data": {
      "image/png": "[encoded data removed]",
      "text/plain": [
       "<Figure size 640x480 with 1 Axes>"
      ]
     },
     "metadata": {},
     "output_type": "display_data"
    }
   ],
   "source": [
    "calculate_hist(variation_series)"
   ]
  },
  {
   "cell_type": "markdown",
   "metadata": {},
   "source": [
    "b) Вычислить выборочные аналоги числовых характеристик"
   ]
  },
  {
   "cell_type": "code",
   "execution_count": 11,
   "metadata": {},
   "outputs": [
    {
     "name": "stdout",
     "output_type": "stream",
     "text": [
      "Математическое ожидание: 2.0\n",
      "Дисперсия: 7.92\n",
      "Стандартное отклонение: 2.814249455894058\n",
      "Медиана: 1.0\n",
      "Асимметрия: 2.035097747030827\n",
      "Эксцесса: 3.6995714722987456\n",
      "Вероятность: 0.76\n"
     ]
    }
   ],
   "source": [
    "mean = np.mean(variation_series)\n",
    "print(f\"Математическое ожидание: {mean}\")\n",
    "\n",
    "var = np.var(variation_series)\n",
    "print(f\"Дисперсия: {var}\")\n",
    "\n",
    "std = np.std(variation_series)\n",
    "print(f\"Стандартное отклонение: {std}\")\n",
    "\n",
    "median = np.median(variation_series)\n",
    "print(f\"Медиана: {median}\")\n",
    "\n",
    "skew = st.skew(variation_series)\n",
    "print(f\"Асимметрия: {skew}\")\n",
    "\n",
    "kurtois = st.kurtosis(variation_series, fisher=True) \n",
    "print(f\"Эксцесса: {kurtois}\")\n",
    "\n",
    "probability = calculate_probability_in_range(variation_series, a, b)\n",
    "print(f\"Вероятность: {probability}\")"
   ]
  },
  {
   "cell_type": "code",
   "execution_count": 12,
   "metadata": {},
   "outputs": [
    {
     "data": {
      "text/plain": [
       "0.76"
      ]
     },
     "execution_count": 12,
     "metadata": {},
     "output_type": "execute_result"
    }
   ],
   "source": [
    "calculate_probability_in_range(variation_series, a, b)"
   ]
  },
  {
   "cell_type": "markdown",
   "metadata": {},
   "source": [
    "#### Закон распределения Пуассона"
   ]
  },
  {
   "cell_type": "markdown",
   "metadata": {},
   "source": [
    "$$\n",
    "    P_k(\\lambda) = \\frac{\\lambda^k}{k!}\\exp(-\\lambda), k = 1, \\ldots, n\n",
    "$$"
   ]
  },
  {
   "cell_type": "markdown",
   "metadata": {},
   "source": [
    "*ОМП*"
   ]
  },
  {
   "cell_type": "markdown",
   "metadata": {},
   "source": [
    "Найдем функцию правдоподобия для параметра $\\lambda$"
   ]
  },
  {
   "cell_type": "markdown",
   "metadata": {},
   "source": [
    "$$\n",
    "L(\\overline k, \\lambda) = \\prod_{i = 1}^n \\frac{\\lambda^{k_i}}{k_i!}\\exp(-\\lambda) = \\exp(-n\\lambda)\\lambda^{\\sum_{i = 1}^n k_i} \\prod_{i = 1}^n \\frac{1}{k_i!}\n",
    "$$"
   ]
  },
  {
   "cell_type": "markdown",
   "metadata": {},
   "source": [
    "Логарифм функции правдподобия"
   ]
  },
  {
   "cell_type": "markdown",
   "metadata": {},
   "source": [
    "$$\n",
    "LL(\\overline k, \\lambda) = -n\\lambda + \\sum_{i = 1}^n k_i \\ln(\\lambda) + \\sum_{i = 1}^n \\ln(\\frac{1}{k_i!})\n",
    "$$"
   ]
  },
  {
   "cell_type": "markdown",
   "metadata": {},
   "source": [
    "Найдем максимум от $LL(\\overline k, \\lambda)$:"
   ]
  },
  {
   "cell_type": "markdown",
   "metadata": {},
   "source": [
    "$$\\frac{\\partial LL(\\overline k, \\lambda)}{\\partial \\lambda} = -n + \\sum_{i=1}^n k_i \\frac{1}{\\lambda}$$\n",
    "\n",
    "$$\n",
    "-n + \\sum_{i=1}^n k_i \\frac{1}{\\lambda} = 0\n",
    "$$\n",
    "\n",
    "$$\n",
    "\\hat \\lambda = \\frac{1}{n} \\sum_{i=1}^n k_i = \\overline k\n",
    "$$"
   ]
  },
  {
   "cell_type": "markdown",
   "metadata": {},
   "source": [
    "Проверим оценку на несмещенность:"
   ]
  },
  {
   "cell_type": "markdown",
   "metadata": {},
   "source": [
    "$$\n",
    "\\mathbb{E} \\hat \\lambda = \\frac{1}{n} \\sum_{i=1}^{n} \\mathbb{E} k_i = \\frac{1}{n} \\sum_{i=1}^{n} \\lambda = \\frac{1}{n} \\cdot n \\lambda = \\lambda = 2. \n",
    "$$  "
   ]
  },
  {
   "cell_type": "markdown",
   "metadata": {},
   "source": [
    "Оценка является несмещенной, так как смещение равно 0."
   ]
  },
  {
   "cell_type": "code",
   "execution_count": 13,
   "metadata": {},
   "outputs": [
    {
     "name": "stdout",
     "output_type": "stream",
     "text": [
      "Оценка максимального правдоподобия для лямбды: 2.0\n"
     ]
    }
   ],
   "source": [
    "def log_func(parameters, data):\n",
    "    lam = parameters\n",
    "    log_likelihood_values = st.poisson.logpmf(data, mu=lam)\n",
    "    return -np.sum(log_likelihood_values)\n",
    "\n",
    "initial_lambda = mean\n",
    "omp = minimize(log_func, mean, args=(variation_series,))\n",
    "\n",
    "estimated_lambda = omp.x[0]\n",
    "\n",
    "print(f\"Оценка максимального правдоподобия для лямбды: {estimated_lambda}\")"
   ]
  },
  {
   "cell_type": "markdown",
   "metadata": {},
   "source": [
    "Построим оценку по методу моментов. Для этого приравняем момент первого порядка к математическому ожиданию для распределения Пуассона. "
   ]
  },
  {
   "cell_type": "markdown",
   "metadata": {},
   "source": [
    "$$\n",
    "\\hat \\lambda = \\hat \\lambda_{ML} = \\bar{k} = 2\n",
    "$$"
   ]
  },
  {
   "cell_type": "markdown",
   "metadata": {},
   "source": [
    "Оценка совпала с ОМП, поэтому она также несмещенная."
   ]
  },
  {
   "cell_type": "markdown",
   "metadata": {},
   "source": [
    "##### d. Построить доверительные интервалы уровня значимости $\\alpha_{1}$ для параметра $\\lambda$ на базе оценки максимального правдоподобия. "
   ]
  },
  {
   "cell_type": "markdown",
   "metadata": {},
   "source": [
    "На базе ОМП:"
   ]
  },
  {
   "cell_type": "markdown",
   "metadata": {},
   "source": [
    "$$\n",
    "\\frac{\\partial^2 LL}{\\partial^2 \\lambda} = -\\frac{\\sum_{i=1}^2 k_i}{\\lambda^2}\n",
    "$$\n",
    "\n",
    "$$\n",
    "I_n(\\lambda) = -\\mathbb{E}( -\\frac{\\sum_{i=1}^n k_i}{\\lambda^2}) = \\frac{1}{\\lambda^2} \\sum_{i=1}^n \\mathbb{E}k_i = \\frac{1}{\\lambda^2} \\cdot n\\lambda= \\frac{n}{\\lambda}\n",
    "$$"
   ]
  },
  {
   "cell_type": "markdown",
   "metadata": {},
   "source": [
    "Тогда:"
   ]
  },
  {
   "cell_type": "markdown",
   "metadata": {},
   "source": [
    "$$\n",
    "I(\\hat\\lambda) = \\frac{1}{\\overline {X}}\n",
    "$$"
   ]
  },
  {
   "cell_type": "markdown",
   "metadata": {},
   "source": [
    "Посчитаем квантили:"
   ]
  },
  {
   "cell_type": "markdown",
   "metadata": {},
   "source": [
    "$$\n",
    "X_{\\alpha}: \\text{Ф}(X_{\\alpha}) = 1 - \\frac{0.2}{2} = 0.9\n",
    "$$"
   ]
  },
  {
   "cell_type": "code",
   "execution_count": 14,
   "metadata": {},
   "outputs": [
    {
     "name": "stdout",
     "output_type": "stream",
     "text": [
      "x_alpha =  5.100000000000001\n"
     ]
    }
   ],
   "source": [
    "x_a = np.percentile(variation_series, 0.9 * 100)\n",
    "print('x_alpha = ', x_a)"
   ]
  },
  {
   "cell_type": "markdown",
   "metadata": {},
   "source": [
    "Ассимптотический доверительный интервал равен:\n",
    "$$\n",
    "\\lambda \\in \\left[\\overline X - \\frac{X_{\\alpha}}{\\sqrt{n \\cdot \\frac{1}{\\overline X}}}; \\overline X + \\frac{X_{\\alpha}}{\\sqrt{n \\cdot \\frac{1}{ \\overline X}}} \\right]\n",
    "$$"
   ]
  },
  {
   "cell_type": "code",
   "execution_count": 15,
   "metadata": {},
   "outputs": [
    {
     "name": "stdout",
     "output_type": "stream",
     "text": [
      "[0.9799999999999998; 3.0200000000000005]\n"
     ]
    }
   ],
   "source": [
    "left = mean - x_a / (size * (1 / mean))**0.5\n",
    "right = mean + x_a / (size * (1 / mean))**0.5\n",
    "\n",
    "print(f'[{left}; {right}]')"
   ]
  },
  {
   "cell_type": "markdown",
   "metadata": {},
   "source": [
    "##### e. Используя гистограмму частот, построить критерий значимости $\\chi^2$ проверки простой гипотезы согласия с распределением Пуассона с параметром $\\lambda_0$. Проверить гипотезу на уровне значимости $\\alpha_1$. Вычислить наибольшее значение уровня значимости, на котором еще нет оснований опровергнуть данную гипотезу. "
   ]
  },
  {
   "cell_type": "markdown",
   "metadata": {},
   "source": [
    "Сформулируем гипотезы:\n",
    "\n",
    "$$\n",
    "H_0: X \\sim \\text{Pois}(\\lambda_0)\n",
    "\\newline\n",
    "H_A: X \\not\\sim \\text{Pois}(\\lambda_0)\n",
    "$$\n"
   ]
  },
  {
   "cell_type": "markdown",
   "metadata": {},
   "source": [
    "Интервалы и количество чисел, попадающих в эти интервалы:"
   ]
  },
  {
   "cell_type": "code",
   "execution_count": 16,
   "metadata": {},
   "outputs": [
    {
     "name": "stdout",
     "output_type": "stream",
     "text": [
      "Интервал: (-1; 0], Количество: 18\n",
      "Интервал: (0; 1], Количество: 13\n",
      "Интервал: (1; 2], Количество: 7\n",
      "Интервал: (2; 5], Количество: 7\n",
      "Интервал: (5; 13), Количество: 5\n"
     ]
    }
   ],
   "source": [
    "bins = [min(variation_series) - 1, 0, 1, 2, 5, max(variation_series) + 1]\n",
    "\n",
    "hist, _ = np.histogram(variation_series, bins=bins)\n",
    "intervals = [(bins[i], bins[i + 1]) for i in range(len(bins) - 1)]\n",
    "\n",
    "\n",
    "obs = []\n",
    "for i, (interval, count) in enumerate(zip(intervals, hist)):\n",
    "    inclusive = i == len(intervals) - 1 \n",
    "    \n",
    "    if inclusive:\n",
    "        vs = variation_series[(variation_series > interval[0]) & (variation_series < interval[1])]\n",
    "        print(f\"Интервал: ({interval[0]}; {interval[1]}), Количество: {len(vs)}\")\n",
    "    else:\n",
    "        vs=variation_series[(variation_series > interval[0]) & (variation_series <= interval[1])]\n",
    "        print(f\"Интервал: ({interval[0]}; {interval[1]}], Количество: {len(vs)}\")\n",
    "    obs.append(len(vs))"
   ]
  },
  {
   "cell_type": "markdown",
   "metadata": {},
   "source": [
    "Посчитаем гипотетические вероятности попадения в интервали, а также ожидаемые частоты:"
   ]
  },
  {
   "cell_type": "code",
   "execution_count": 17,
   "metadata": {},
   "outputs": [
    {
     "name": "stdout",
     "output_type": "stream",
     "text": [
      "np_10 = 50 * 0.04978706836786395 = 2.489353418393198\n",
      "np_20 = 50 * 0.14936120510359185 = 7.4680602551795925\n",
      "np_30 = 50 * 0.22404180765538784 = 11.202090382769391\n",
      "np_40 = 50 * 0.49289197684185293 = 24.64459884209265\n",
      "np_50 = 50 * 0.0839145401166902 = 4.1957270058345095\n"
     ]
    }
   ],
   "source": [
    "formula = lambda k: st.poisson.cdf(k, lambda_0)\n",
    "\n",
    "\n",
    "probabilities = []\n",
    "for i in range(len(intervals)):\n",
    "    probabilities.append(formula(intervals[i][-1]) - formula(intervals[i][0]))\n",
    "\n",
    "expected = []\n",
    "for i in range(len(probabilities)):\n",
    "    expected.append(size * probabilities[i])\n",
    "    print(f'np_{i + 1}0 = {size} * {probabilities[i]} = {expected[i]}')"
   ]
  },
  {
   "cell_type": "markdown",
   "metadata": {},
   "source": [
    "Теперь рассчитаем статистику критерия $\\chi^2$:"
   ]
  },
  {
   "cell_type": "code",
   "execution_count": 18,
   "metadata": {},
   "outputs": [
    {
     "name": "stdout",
     "output_type": "stream",
     "text": [
      "obs[i] = 18 - obs[i] = 2.489353418393198\n",
      "obs[i] = 13 - obs[i] = 7.4680602551795925\n",
      "obs[i] = 7 - obs[i] = 11.202090382769391\n",
      "obs[i] = 7 - obs[i] = 24.64459884209265\n",
      "obs[i] = 5 - obs[i] = 4.1957270058345095\n",
      "Значение статистики критерия 115.10470591824037\n"
     ]
    }
   ],
   "source": [
    "chi2 = lambda i: (obs[i] - expected[i])**2 / expected[i]\n",
    "\n",
    "value = 0\n",
    "for i in range(len(expected)):\n",
    "    print(f'obs[i] = {obs[i]} - obs[i] = {expected[i]}')\n",
    "    value += chi2(i)\n",
    "\n",
    "print(\"Значение статистики критерия\", value)"
   ]
  },
  {
   "cell_type": "markdown",
   "metadata": {},
   "source": [
    "Проверим гипотезу на уровне значимости $\\alpha_1 = 0.2$\n",
    "\n",
    "\n",
    "Выбираем $X_{\\alpha}$: $K_{5 - 1}(X_{\\alpha}) = 1 - \\alpha = 0.8$\n",
    "\n",
    "Тогда:"
   ]
  },
  {
   "cell_type": "code",
   "execution_count": 19,
   "metadata": {},
   "outputs": [
    {
     "name": "stdout",
     "output_type": "stream",
     "text": [
      "Значение x_alpha:  5.9886166940042465\n",
      "Значение хи-квадрат с 4 степенями свободы: 0.061551935550105\n"
     ]
    }
   ],
   "source": [
    "x_a = st.chi2.ppf(1 - alpha_1, 4)\n",
    "print(\"Значение x_alpha: \", x_a)\n",
    "\n",
    "chi2 =  st.chi2.cdf(1 - alpha_1, 4)\n",
    "print(\"Значение хи-квадрат с 4 степенями свободы:\", chi2)"
   ]
  },
  {
   "cell_type": "markdown",
   "metadata": {},
   "source": [
    "$\\chi^2 < X_{\\alpha}$ - гипотеза принимается"
   ]
  },
  {
   "cell_type": "code",
   "execution_count": 20,
   "metadata": {},
   "outputs": [
    {
     "name": "stdout",
     "output_type": "stream",
     "text": [
      "Наибольшее значение уровня значимости: 2.5063221218788405e-165\n"
     ]
    }
   ],
   "source": [
    "max_alpha = st.chi2.cdf(chi2, value)\n",
    "print(f'Наибольшее значение уровня значимости: {max_alpha}')"
   ]
  },
  {
   "cell_type": "markdown",
   "metadata": {},
   "source": [
    "##### f. Построить критерий значимости $\\chi^2$ проверки сложной гипотезы согласия с распределением Пуассона. Проверить гипотезу по уровню значимости $\\alpha_1$. Вычислить наибольшее значение уровня значимости, на котором ещё нет оснований отвергнуть данную гипотезу."
   ]
  },
  {
   "cell_type": "markdown",
   "metadata": {},
   "source": [
    "Сформулируем гипотезы:\n",
    "\n",
    "$$\n",
    "H_0: X \\sim \\text{Pois}(\\lambda_0)\n",
    "\\newline\n",
    "H_A: X \\not\\sim \\text{Pois}(\\lambda_0)\n",
    "$$\n"
   ]
  },
  {
   "cell_type": "markdown",
   "metadata": {},
   "source": [
    "Интервалы и количество чисел, попадающих в эти интервалы:"
   ]
  },
  {
   "cell_type": "code",
   "execution_count": 21,
   "metadata": {},
   "outputs": [
    {
     "name": "stdout",
     "output_type": "stream",
     "text": [
      "Интервал: (-1; 0], Количество: 18\n",
      "Интервал: (0; 1], Количество: 13\n",
      "Интервал: (1; 2], Количество: 7\n",
      "Интервал: (2; 5], Количество: 7\n",
      "Интервал: (5; 13), Количество: 5\n"
     ]
    }
   ],
   "source": [
    "for i, (interval, count) in enumerate(zip(intervals, hist)):\n",
    "    inclusive = i == len(intervals) - 1 \n",
    "    \n",
    "    if inclusive:\n",
    "        vs = variation_series[(variation_series > interval[0]) & (variation_series < interval[1])]\n",
    "        print(f\"Интервал: ({interval[0]}; {interval[1]}), Количество: {len(vs)}\")\n",
    "    else:\n",
    "        vs=variation_series[(variation_series > interval[0]) & (variation_series <= interval[1])]\n",
    "        print(f\"Интервал: ({interval[0]}; {interval[1]}], Количество: {len(vs)}\")"
   ]
  },
  {
   "cell_type": "markdown",
   "metadata": {},
   "source": [
    "Для сложной гипотезы статистикой критерия будет:\n",
    "\n",
    "$$\n",
    "\\chi^2 = min \\chi^2(\\lambda) = min \\sum_{j = 1}^5\\frac{(\\nu_j - np_{j0}(\\lambda))^2}{np_{j0}(\\lambda)} \\xrightarrow{n \\to \\infty} \\chi^2_3\n",
    "$$ "
   ]
  },
  {
   "cell_type": "code",
   "execution_count": 22,
   "metadata": {},
   "outputs": [
    {
     "name": "stdout",
     "output_type": "stream",
     "text": [
      "Значение статистики критерия 115.10470591824037\n"
     ]
    }
   ],
   "source": [
    "print(\"Значение статистики критерия\", value)"
   ]
  },
  {
   "cell_type": "markdown",
   "metadata": {},
   "source": [
    "$X_{\\alpha}: K_{r - d - 1}(X_{\\alpha}) = 1 - \\alpha_1 = 1 - 0.2 = 0.8$, где r - количество интервалов, d - размерность "
   ]
  },
  {
   "cell_type": "code",
   "execution_count": 23,
   "metadata": {},
   "outputs": [
    {
     "name": "stdout",
     "output_type": "stream",
     "text": [
      "Значение x_alpha:  4.64162767608745\n",
      "Значение хи-квадрат с 3 степенями свободы: 0.15053296660817445\n"
     ]
    }
   ],
   "source": [
    "x_a = st.chi2.ppf(1 - alpha_1, 3)\n",
    "print(\"Значение x_alpha: \", x_a)\n",
    "chi2 =  st.chi2.cdf(1 - alpha_1, 3)\n",
    "print(\"Значение хи-квадрат с 3 степенями свободы:\", chi2)"
   ]
  },
  {
   "cell_type": "markdown",
   "metadata": {},
   "source": [
    "$\\chi^2 < X_{\\alpha}$ - гипотеза принимается"
   ]
  },
  {
   "cell_type": "markdown",
   "metadata": {},
   "source": [
    "Найдем наибольшее значение уровня значимости, на котором еще нет оснований отвергнуть данную гипотезу."
   ]
  },
  {
   "cell_type": "code",
   "execution_count": 24,
   "metadata": {},
   "outputs": [
    {
     "name": "stdout",
     "output_type": "stream",
     "text": [
      "Наибольшее значение уровня значимости: 5.405030623503787e-143\n"
     ]
    }
   ],
   "source": [
    "max_alpha = st.chi2.cdf(chi2, value)\n",
    "print(f'Наибольшее значение уровня значимости: {max_alpha}')"
   ]
  },
  {
   "cell_type": "markdown",
   "metadata": {},
   "source": [
    "##### g. Построить наиболее мощный критерий проверки простой гипотезы пуассоновости с парметром $\\lambda = \\lambda_0$ при альтернативе и пуассоновости с параметром $\\lambda = \\lambda_1$. Проверить гипотезу на уровне значимости $\\alpha_1$. Что получится, если поменять местами основную и альтернативную гипотезы?"
   ]
  },
  {
   "cell_type": "markdown",
   "metadata": {},
   "source": [
    "Сформулируем гипотезы:\n",
    "\n",
    "$$\n",
    "H_0: \\lambda = \\lambda_0\n",
    "\\newline\n",
    "H_A: \\lambda = \\lambda_1\n",
    "$$\n"
   ]
  },
  {
   "cell_type": "markdown",
   "metadata": {},
   "source": [
    "Используем статические отношения правдоподобия:\n",
    "$$\n",
    "LR(\\overline X, \\lambda_1, \\lambda_0) = \\frac{L(\\overline X, \\lambda_1)}{L(\\overline X, \\lambda_0)} = \\left(\\frac{\\lambda_1}{\\lambda_0}\\right)^{\\sum_{i=1}^n X_i}\\exp(-n\\lambda_1 + n\\lambda_0)\n",
    "$$"
   ]
  },
  {
   "cell_type": "markdown",
   "metadata": {},
   "source": [
    "$$\n",
    "LR(\\overline X, \\lambda_0, \\lambda_1) > c \\leftrightarrow \\overline X > c\n",
    "$$\n",
    "\n",
    "$$\n",
    "\\sqrt{n} \\frac{\\overline X - \\lambda_0}{\\sqrt{\\overline X}} \\sim \\mathcal{N}(0, 1)\n",
    "$$\n",
    "\n",
    "$$\n",
    "\\mathbb{P}(\\overline X, \\lambda_0, \\lambda_1) > \\sqrt{n} \\frac{\\overline X - \\lambda_0}{\\sqrt{\\overline X}} = 1 - \\text{Ф}(\\sqrt{n} \\frac{\\overline X - \\lambda_0}{\\sqrt{\\overline X}}) = \\alpha_1\n",
    "$$\n",
    "\n",
    "$$\n",
    "\\text{Ф}(\\sqrt{n} \\frac{\\overline X - \\lambda_0}{\\sqrt{\\overline X}}) = 1 - \\alpha_1 = 0.8\n",
    "$$"
   ]
  },
  {
   "cell_type": "markdown",
   "metadata": {},
   "source": [
    "$$\n",
    "\\sqrt{n}\\frac{\\overline X - \\lambda_0}{\\sqrt{\\overline X}} > \\sqrt{n}\\frac{c - \\lambda_0}{\\sqrt{\\overline X}} = 2.12 \n",
    "$$\n",
    "\n",
    "$$\n",
    "c = 1.65 < \\overline X - \\text{принимаем гипотезу}\n",
    "$$"
   ]
  },
  {
   "cell_type": "markdown",
   "metadata": {},
   "source": [
    "Поменяем основную гипотезу с альтернативной:\n",
    "\n",
    "$$\n",
    "H_0: \\lambda = \\lambda_0\n",
    "\\newline\n",
    "H_A: \\lambda = \\lambda_1\n",
    "$$\n"
   ]
  },
  {
   "cell_type": "markdown",
   "metadata": {},
   "source": [
    "$$\n",
    "LR(\\overline X, \\lambda_0, \\lambda_1) > c \\leftrightarrow \\overline X > c\n",
    "$$\n",
    "\n",
    "$$\n",
    "\\sqrt{n} \\frac{\\overline X - \\lambda_1}{\\sqrt{\\overline X}} \\sim \\mathcal{N}(0, 1)\n",
    "$$\n",
    "\n",
    "$$\n",
    "\\mathbb{P}(\\overline X, \\lambda_0, \\lambda_1) > \\sqrt{n} \\frac{\\overline X - \\lambda_1}{\\sqrt{\\overline X}} = 1 - \\text{Ф}(\\sqrt{n} \\frac{\\overline X - \\lambda_1}{\\sqrt{\\overline X}}) = \\alpha_1\n",
    "$$\n",
    "\n",
    "$$\n",
    "\\text{Ф}(\\sqrt{n} \\frac{\\overline X - \\lambda_1}{\\sqrt{\\overline X}}) = 1 - \\alpha_1 = 0.8\n",
    "$$"
   ]
  },
  {
   "cell_type": "markdown",
   "metadata": {},
   "source": [
    "$$\n",
    "\\sqrt{n}\\frac{\\overline X - \\lambda_0}{\\sqrt{\\overline X}} > \\sqrt{n}\\frac{c - \\lambda_0}{\\sqrt{\\overline X}} = 2.12 \n",
    "$$\n",
    "\n",
    "$$\n",
    "c = 3.51 > \\overline X - \\text{отвергаем гипотезу}\n",
    "$$"
   ]
  },
  {
   "cell_type": "markdown",
   "metadata": {},
   "source": [
    "##### h. В пунктах (c)-(f) заменить семейство распределение Пуассона на семейство геометрических распредленией"
   ]
  },
  {
   "cell_type": "markdown",
   "metadata": {},
   "source": [
    "$$\n",
    "\\mathbb{P}_{\\lambda}(X = k) = \\frac{\\lambda^k}{(\\lambda + 1)^{k+1}}\n",
    "$$"
   ]
  },
  {
   "cell_type": "markdown",
   "metadata": {},
   "source": [
    "**h.c. В предположении, что исходные наблюдения являются выборкой из геометрического распределения, построить ОМП и ОММ параметра $\\lambda$. Найти смещение оценки.**"
   ]
  },
  {
   "cell_type": "markdown",
   "metadata": {},
   "source": [
    "*ОМП*"
   ]
  },
  {
   "cell_type": "markdown",
   "metadata": {},
   "source": [
    "Найдем функцию правдоподобия для параметра $\\lambda$"
   ]
  },
  {
   "cell_type": "markdown",
   "metadata": {},
   "source": [
    "$$\n",
    "L(\\overline k, \\lambda) = \\prod_{i = 1}^n \\frac{\\lambda^{k_i}}{(\\lambda + 1)^{k_i+1}} = \\frac{\\lambda^{\\sum_{i=1}^n k_i}}{(\\lambda + 1)^{\\sum_{i=1}^n k_i + n}}\n",
    "    \n",
    "$$"
   ]
  },
  {
   "cell_type": "markdown",
   "metadata": {},
   "source": [
    "Логарифм функции правдподобия"
   ]
  },
  {
   "cell_type": "markdown",
   "metadata": {},
   "source": [
    "$$LL(\\overline k, \\lambda) = \\sum_{i=1}^n k_i \\cdot \\ln(\\lambda) - (\\sum_{i=1}^n k_i + n)\\ln(\\lambda + 1)$$"
   ]
  },
  {
   "cell_type": "markdown",
   "metadata": {},
   "source": [
    "Найдем максимум от $LL(\\overline k, \\lambda)$:"
   ]
  },
  {
   "cell_type": "markdown",
   "metadata": {},
   "source": [
    "$$\n",
    "\\frac{\\partial LL(\\overline k, \\lambda)}{\\partial \\lambda} = \\frac{\\sum_{i=1}^n k_i}{\\lambda} - \\frac{\\sum_{i=1}^n k_i + n}{\\lambda + 1} = 0\n",
    "$$\n",
    "\n",
    "$$\n",
    "\\frac{\\lambda}{\\sum_{i=1}^n k_i} = \\frac{\\lambda + 1}{\\sum_{i=1}^n k_i + n}\n",
    "$$\n",
    "\n",
    "$$\n",
    "\\lambda \\cdot \\sum_{i=1}^n k_i + \\lambda \\cdot n = \\lambda \\cdot \\sum_{i=1}^n k_i + \\sum_{i=1}^n k_i \n",
    "$$\n",
    "\n",
    "$$\n",
    "\\hat\\lambda = \\lambda = \\overline k = 2\n",
    "$$"
   ]
  },
  {
   "cell_type": "markdown",
   "metadata": {},
   "source": [
    "*ОММ*"
   ]
  },
  {
   "cell_type": "markdown",
   "metadata": {},
   "source": [
    "Первый момент равен:\n",
    "\n",
    "$$\n",
    "\\mathbb{E}X = \\lambda\n",
    "$$\n",
    "\n",
    "$$\n",
    "M = \\overline k\n",
    "$$"
   ]
  },
  {
   "cell_type": "markdown",
   "metadata": {},
   "source": [
    "Таким образом:"
   ]
  },
  {
   "cell_type": "markdown",
   "metadata": {},
   "source": [
    "$$\n",
    "\\hat \\lambda = \\overline k = 2 \n",
    "$$"
   ]
  },
  {
   "cell_type": "markdown",
   "metadata": {},
   "source": [
    "Проверим на несмещенность:"
   ]
  },
  {
   "cell_type": "markdown",
   "metadata": {},
   "source": [
    "$$\n",
    "\\mathbb{E} = \\mathbb{E}\\overline k = \\frac{1}{n}\\sum_{i=1}^n k_i = \\frac{1}{n} \\cdot n \\lambda = \\lambda \n",
    "$$"
   ]
  },
  {
   "cell_type": "markdown",
   "metadata": {},
   "source": [
    "**h.d. Построить доверительные интервалы уровня значимости $\\alpha_{1}$ для параметра $\\lambda$ на базе оценки максимального правдоподобия.**"
   ]
  },
  {
   "cell_type": "markdown",
   "metadata": {},
   "source": [
    "Построим доверильный интервал на базе ОМП:"
   ]
  },
  {
   "cell_type": "markdown",
   "metadata": {},
   "source": [
    "$$\n",
    "\\frac{\\partial^2 LL}{\\partial^2 \\lambda} = -\\frac{\\sum_{i=1}^n k_i}{\\lambda^2} + \\frac{\\sum_{i=1}^n k_i + n}{(\\lambda + 1)^2}\n",
    "$$\n",
    "\n",
    "$$\n",
    "I_n(\\lambda) = -\\mathbb{E}( -\\frac{\\sum_{i=1}^n k_i}{\\lambda^2} + \\frac{\\sum_{i=1}^n k_i + n}{(\\lambda + 1)^2}) = \\frac{1}{\\lambda^2} \\cdot n\\lambda - \\frac{n\\lambda + n}{(\\lambda + 1)^2} = \\frac{n}{\\lambda} - \\frac{n}{\\lambda + 1}\n",
    "$$"
   ]
  },
  {
   "cell_type": "markdown",
   "metadata": {},
   "source": [
    "Тогда:\n",
    "\n",
    "$$\n",
    "I(\\lambda) = \\frac{1}{\\lambda} - \\frac{1}{\\lambda + 1} \n",
    "$$"
   ]
  },
  {
   "cell_type": "markdown",
   "metadata": {},
   "source": [
    "Посчитаем квантили:"
   ]
  },
  {
   "cell_type": "markdown",
   "metadata": {},
   "source": [
    "$$\n",
    "X_{\\alpha}: \\text{Ф}(X_{\\alpha}) = 1 - \\frac{0.2}{2} = 0.9\n",
    "$$"
   ]
  },
  {
   "cell_type": "code",
   "execution_count": 25,
   "metadata": {},
   "outputs": [
    {
     "name": "stdout",
     "output_type": "stream",
     "text": [
      "x_alpha =  5.100000000000001\n"
     ]
    }
   ],
   "source": [
    "x_a = np.percentile(variation_series, 0.9 * 100)\n",
    "print('x_alpha = ', x_a)"
   ]
  },
  {
   "cell_type": "markdown",
   "metadata": {},
   "source": [
    "Асимптотический доверительный интервал равен:\n",
    "$$\n",
    "\\lambda \\in \\left[\\overline X - \\frac{X_{\\alpha}}{\\sqrt{n \\cdot (\\frac{1}{\\overline X} - \\frac{1}{\\overline X + 1})}}; \\overline X + \\frac{X_{\\alpha}}{\\sqrt{n \\cdot (\\frac{1}{ \\overline X} - \\frac{1}{\\overline X + 1})}} \\right]\n",
    "$$"
   ]
  },
  {
   "cell_type": "code",
   "execution_count": 26,
   "metadata": {},
   "outputs": [
    {
     "name": "stdout",
     "output_type": "stream",
     "text": [
      "Асимптотический интервал равен: [0.23330817627974487; 3.7666918237202553]\n"
     ]
    }
   ],
   "source": [
    "left = mean - x_a / (size * ((1 / mean) - (1 / (1 + mean))))**0.5\n",
    "right = mean + x_a / (size * ((1 / mean) - (1 / (1 + mean))))**0.5\n",
    "\n",
    "print(f'Асимптотический интервал равен: [{left}; {right}]')"
   ]
  },
  {
   "cell_type": "markdown",
   "metadata": {},
   "source": [
    "**h.e. Используя гистограмму частот, построить критерий значимости $\\chi^2$ проверки простой гипотезы согласия с геометрическим распределением с параметром $\\lambda_0$. Проверить гипотезу на уровне значимости $\\alpha_1$. Вычислить наибольшее значение уровня значимости, на котором еще нет оснований опровергнуть данную гипотезу.**"
   ]
  },
  {
   "cell_type": "markdown",
   "metadata": {},
   "source": [
    "Сформулируем гипотезы:\n",
    "\n",
    "$$\n",
    "H_0: X \\sim \\mathbb{P}_{\\lambda}(X = k)\n",
    "\\newline\n",
    "H_A: X \\not\\sim \\mathbb{P}_{\\lambda}(X = k)\n",
    "$$\n"
   ]
  },
  {
   "cell_type": "markdown",
   "metadata": {},
   "source": [
    "Интервалы и количества элементов выборки, входящих в них:"
   ]
  },
  {
   "cell_type": "code",
   "execution_count": 27,
   "metadata": {},
   "outputs": [
    {
     "name": "stdout",
     "output_type": "stream",
     "text": [
      "Интервал: (-1; 0], Количество: 18\n",
      "Интервал: (0; 1], Количество: 13\n",
      "Интервал: (1; 2], Количество: 7\n",
      "Интервал: (2; 5], Количество: 7\n",
      "Интервал: (5; 13), Количество: 5\n"
     ]
    }
   ],
   "source": [
    "for i, (interval, count) in enumerate(zip(intervals, hist)):\n",
    "    inclusive = i == len(intervals) - 1 \n",
    "    \n",
    "    if inclusive:\n",
    "        vs = variation_series[(variation_series > interval[0]) & (variation_series < interval[1])]\n",
    "        print(f\"Интервал: ({interval[0]}; {interval[1]}), Количество: {len(vs)}\")\n",
    "    else:\n",
    "        vs=variation_series[(variation_series > interval[0]) & (variation_series <= interval[1])]\n",
    "        print(f\"Интервал: ({interval[0]}; {interval[1]}], Количество: {len(vs)}\")"
   ]
  },
  {
   "cell_type": "markdown",
   "metadata": {},
   "source": [
    "Посчитаем гипотетические вероятности попадения в интервали, а также ожидаемые частоты:"
   ]
  },
  {
   "cell_type": "code",
   "execution_count": 28,
   "metadata": {},
   "outputs": [
    {
     "name": "stdout",
     "output_type": "stream",
     "text": [
      "np_10 = 50 * 0.25 = 12.5\n",
      "np_20 = 50 * 0.1875 = 9.375\n",
      "np_30 = 50 * 0.140625 = 7.03125\n",
      "np_40 = 50 * 0.243896484375 = 12.19482421875\n",
      "np_50 = 50 * 0.16016056761145592 = 8.008028380572796\n"
     ]
    }
   ],
   "source": [
    "geom = lambda k: (lambda_0 ** k) / ((lambda_0 + 1) ** (k + 1))\n",
    "formula = lambda k: sum([geom(int(i)) for i in range(k + 1)])\n",
    "\n",
    "probabilities = []\n",
    "for interval in intervals:\n",
    "    probabilities.append(formula(interval[-1]) - formula(interval[0]))\n",
    "\n",
    "expected = []\n",
    "for i in range(len(probabilities)):\n",
    "    expected.append(size * probabilities[i])\n",
    "    print(f'np_{i + 1}0 = {size} * {probabilities[i]} = {expected[i]}')\n"
   ]
  },
  {
   "cell_type": "markdown",
   "metadata": {},
   "source": [
    "Теперь высчитаем критерий $\\chi^2$:"
   ]
  },
  {
   "cell_type": "code",
   "execution_count": 29,
   "metadata": {},
   "outputs": [
    {
     "name": "stdout",
     "output_type": "stream",
     "text": [
      "Значение статистики критерия 7.164623310871642\n"
     ]
    }
   ],
   "source": [
    "chi2 = lambda i: (obs[i] - expected[i])**2 / expected[i]\n",
    "\n",
    "value = 0\n",
    "for i in range(len(expected)):\n",
    "    value += chi2(i)\n",
    "\n",
    "print(\"Значение статистики критерия\", value)"
   ]
  },
  {
   "cell_type": "markdown",
   "metadata": {},
   "source": [
    "Проверим гипотезу на уровне значимости $\\alpha_1 = 0.2$\n",
    "\n",
    "\n",
    "Выбираем $X_{\\alpha}$: $K_{5 - 1}(X_{\\alpha}) = 1 - \\alpha = 0.8$\n",
    "\n",
    "Тогда:"
   ]
  },
  {
   "cell_type": "code",
   "execution_count": 30,
   "metadata": {},
   "outputs": [
    {
     "name": "stdout",
     "output_type": "stream",
     "text": [
      "Значение x_alpha:  5.9886166940042465\n",
      "Значение хи-квадрат с 4 степенями свободы: 0.061551935550105\n"
     ]
    }
   ],
   "source": [
    "x_a = st.chi2.ppf(1 - alpha_1, 4)\n",
    "print(\"Значение x_alpha: \", x_a)\n",
    "\n",
    "chi2 =  st.chi2.cdf(1 - alpha_1, 4)\n",
    "print(\"Значение хи-квадрат с 4 степенями свободы:\", chi2)"
   ]
  },
  {
   "cell_type": "markdown",
   "metadata": {},
   "source": [
    "$\\chi^2 < X_{\\alpha}$ - гипотеза принимается"
   ]
  },
  {
   "cell_type": "code",
   "execution_count": 31,
   "metadata": {},
   "outputs": [
    {
     "name": "stdout",
     "output_type": "stream",
     "text": [
      "Наибольшее значение уровня значимости: 2.8721302601076225e-07\n"
     ]
    }
   ],
   "source": [
    "max_alpha = st.chi2.cdf(chi2, value)\n",
    "print(f'Наибольшее значение уровня значимости: {max_alpha}')"
   ]
  },
  {
   "cell_type": "markdown",
   "metadata": {},
   "source": [
    "**h.f. Построить критерий значимости $\\chi^2$ проверки сложной гипотезы согласия с геометрическим распределением. Проверить гипотезу по уровню значимости $\\alpha_1$. Вычислить наибольшее значение уровня значимости, на котором ещё нет оснований отвергнуть данную гипотезу.**"
   ]
  },
  {
   "cell_type": "markdown",
   "metadata": {},
   "source": [
    "Сформулируем гипотезы:\n",
    "\n",
    "$$\n",
    "H_0: X \\sim \\mathbb{P}_{\\lambda}(X = k)\n",
    "\\newline\n",
    "H_A: X \\not\\sim \\mathbb{P}_{\\lambda}(X = k)\n",
    "$$\n"
   ]
  },
  {
   "cell_type": "markdown",
   "metadata": {},
   "source": [
    "Интервалы и количества элементов выборки, входящих в них:"
   ]
  },
  {
   "cell_type": "code",
   "execution_count": 32,
   "metadata": {},
   "outputs": [
    {
     "name": "stdout",
     "output_type": "stream",
     "text": [
      "Интервал: (-1; 0], Количество: 18\n",
      "Интервал: (0; 1], Количество: 13\n",
      "Интервал: (1; 2], Количество: 7\n",
      "Интервал: (2; 5], Количество: 7\n",
      "Интервал: (5; 13), Количество: 5\n"
     ]
    }
   ],
   "source": [
    "for i, (interval, count) in enumerate(zip(intervals, hist)):\n",
    "    inclusive = i == len(intervals) - 1 \n",
    "    \n",
    "    if inclusive:\n",
    "        vs = variation_series[(variation_series > interval[0]) & (variation_series < interval[1])]\n",
    "        print(f\"Интервал: ({interval[0]}; {interval[1]}), Количество: {len(vs)}\")\n",
    "    else:\n",
    "        vs=variation_series[(variation_series > interval[0]) & (variation_series <= interval[1])]\n",
    "        print(f\"Интервал: ({interval[0]}; {interval[1]}], Количество: {len(vs)}\")"
   ]
  },
  {
   "cell_type": "markdown",
   "metadata": {},
   "source": [
    "Для сложной гипотезы статистикой критерия будет:\n",
    "\n",
    "$$\n",
    "\\chi^2 = min \\chi^2(\\lambda) = min \\sum_{j = 1}^5\\frac{(\\nu_j - np_{j0}(\\lambda))^2}{np_{j0}(\\lambda)} \\xrightarrow{n \\to \\infty} \\chi^2_3\n",
    "$$ "
   ]
  },
  {
   "cell_type": "code",
   "execution_count": 33,
   "metadata": {},
   "outputs": [
    {
     "name": "stdout",
     "output_type": "stream",
     "text": [
      "Значение статистики критерия 7.164623310871642\n"
     ]
    }
   ],
   "source": [
    "print(\"Значение статистики критерия\", value)"
   ]
  },
  {
   "cell_type": "markdown",
   "metadata": {},
   "source": [
    "$X_{\\alpha}: K_{r - d - 1}(X_{\\alpha}) = 1 - \\alpha_1 = 1 - 0.2 = 0.8$, где r - количество интервалов, d - размерность "
   ]
  },
  {
   "cell_type": "code",
   "execution_count": 34,
   "metadata": {},
   "outputs": [
    {
     "name": "stdout",
     "output_type": "stream",
     "text": [
      "Значение x_alpha:  4.64162767608745\n",
      "Значение хи-квадрат с 3 степенями свободы: 0.15053296660817445\n"
     ]
    }
   ],
   "source": [
    "x_a = st.chi2.ppf(1 - alpha_1, 3)\n",
    "print(\"Значение x_alpha: \", x_a)\n",
    "\n",
    "chi2 =  st.chi2.cdf(1 - alpha_1, 3)\n",
    "print(\"Значение хи-квадрат с 3 степенями свободы:\", chi2)"
   ]
  },
  {
   "cell_type": "markdown",
   "metadata": {},
   "source": [
    "$\\chi^2 < X_{\\alpha}$ - гипотеза принимается"
   ]
  },
  {
   "cell_type": "markdown",
   "metadata": {},
   "source": [
    "Найдем наибольшее значение уровня значимости, на котором еще нет оснований отвергнуть данную гипотезу."
   ]
  },
  {
   "cell_type": "code",
   "execution_count": 35,
   "metadata": {},
   "outputs": [
    {
     "name": "stdout",
     "output_type": "stream",
     "text": [
      "Наибольшее значение уровня значимости: 6.830680025690377e-06\n"
     ]
    }
   ],
   "source": [
    "max_alpha = st.chi2.cdf(chi2, value)\n",
    "print(f'Наибольшее значение уровня значимости: {max_alpha}')"
   ]
  },
  {
   "cell_type": "markdown",
   "metadata": {},
   "source": [
    "### №2 В результате эксперимента получены данные, приведенные в таблице 2."
   ]
  },
  {
   "cell_type": "code",
   "execution_count": 36,
   "metadata": {},
   "outputs": [],
   "source": [
    "alpha_2 = 0.10\n",
    "c = 0.00\n",
    "d = 4.80\n",
    "h = 1.20\n",
    "lambda_0 = 0.33\n",
    "lambda_1 = 0.25"
   ]
  },
  {
   "cell_type": "markdown",
   "metadata": {},
   "source": [
    "#### a) Построить вариационный ряд, эмпирическую функцию распределения, гистограмму частот и полигон частот с шагом h."
   ]
  },
  {
   "cell_type": "markdown",
   "metadata": {},
   "source": [
    "*Вариационный ряд*"
   ]
  },
  {
   "cell_type": "code",
   "execution_count": 37,
   "metadata": {},
   "outputs": [
    {
     "name": "stdout",
     "output_type": "stream",
     "text": [
      "0.03 0.05 0.07 0.11 0.28 0.28 0.36 0.54 0.56 0.56 0.67 0.68 0.78 0.79 0.89 0.9 1.05 1.33 1.35 1.41 1.56 1.81 2.01 2.02 2.35 2.36 2.55 2.6 2.81 2.87 3.0 3.24 3.3 3.46 3.68 3.95 4.02 4.4 4.51 4.59 4.61 4.71 5.51 5.7 6.7 6.76 7.8 10.28 12.39 14.12\n"
     ]
    }
   ],
   "source": [
    "series = '3.30 4.40 3.46 1.35 1.56 1.05 12.39 3.68 4.61 3.00 2.36 0.79 3.95 2.55 1.41 1.81 2.01 10.28 0.56 1.33 4.02 0.56 2.87 0.67 0.28 0.89 2.35 2.60 0.36 0.11 0.07 0.90 6.70 2.81 0.78 4.71 4.59 14.12 3.24 6.76 5.70 0.28 0.05 0.68 0.54 0.03 5.51 4.51 7.80 2.02'\n",
    "variation_series = np.sort(np.array(list(map(float, series.split()))))\n",
    "\n",
    "size = len(variation_series)\n",
    "\n",
    "print(*variation_series)"
   ]
  },
  {
   "cell_type": "markdown",
   "metadata": {},
   "source": [
    "*Эмперическая функция распределения*"
   ]
  },
  {
   "cell_type": "code",
   "execution_count": 38,
   "metadata": {},
   "outputs": [
    {
     "data": {
      "image/png": "[encoded data removed]",
      "text/plain": [
       "<Figure size 640x480 with 1 Axes>"
      ]
     },
     "metadata": {},
     "output_type": "display_data"
    }
   ],
   "source": [
    "calculate_ecdf(variation_series)"
   ]
  },
  {
   "cell_type": "markdown",
   "metadata": {},
   "source": [
    "*Гистограмма и полигон частот*"
   ]
  },
  {
   "cell_type": "code",
   "execution_count": 39,
   "metadata": {},
   "outputs": [],
   "source": [
    "def calculate_hist_and_poligon(variation_series: np.ndarray, h: float) -> NoReturn:\n",
    "    min_value = np.min(variation_series)\n",
    "    max_value = np.max(variation_series)\n",
    "\n",
    "    num_bins = int(np.ceil((max_value - min_value) / h))\n",
    "    bins = np.linspace(min_value, max_value, num_bins + 1)\n",
    "\n",
    "    frequencies, _ = np.histogram(variation_series, bins=bins)\n",
    "\n",
    "    plt.hist(\n",
    "        variation_series,\n",
    "        bins=bins,\n",
    "        edgecolor='black',\n",
    "        alpha=0.7,\n",
    "        label='Гистограмма'\n",
    "    )\n",
    "\n",
    "    mid_points = (bins[:-1] + bins[1:]) / 2\n",
    "    plt.plot(\n",
    "        mid_points,\n",
    "        frequencies, \n",
    "        marker='o', \n",
    "        linestyle='-', \n",
    "        color='red', \n",
    "        label='Полигон частот'\n",
    "    )\n",
    "\n",
    "    plt.title('Гистограмма и полигон частот')\n",
    "    plt.xlabel('Значение')\n",
    "    plt.ylabel('Частота')\n",
    "    plt.legend()\n",
    "\n",
    "    plt.show()"
   ]
  },
  {
   "cell_type": "code",
   "execution_count": 40,
   "metadata": {},
   "outputs": [
    {
     "data": {
      "image/png": "[encoded data removed]",
      "text/plain": [
       "<Figure size 640x480 with 1 Axes>"
      ]
     },
     "metadata": {},
     "output_type": "display_data"
    }
   ],
   "source": [
    "calculate_hist_and_poligon(variation_series, h)"
   ]
  },
  {
   "cell_type": "markdown",
   "metadata": {},
   "source": [
    "##### b) Вычислить выборочные аналоги числовых характеристик"
   ]
  },
  {
   "cell_type": "code",
   "execution_count": 41,
   "metadata": {},
   "outputs": [
    {
     "name": "stdout",
     "output_type": "stream",
     "text": [
      "Математическое ожидание: 3.0472\n",
      "Дисперсия: 9.328228159999998\n",
      "Стандартное отклонение: 3.0542148189019054\n",
      "Медиана: 2.355\n",
      "Асимметрия: 1.7530519820412538\n",
      "Эксцесса: 3.250065497240242\n",
      "Вероятность: 0.84\n"
     ]
    }
   ],
   "source": [
    "mean = np.mean(variation_series)\n",
    "print(f\"Математическое ожидание: {mean}\")\n",
    "\n",
    "var = np.var(variation_series)\n",
    "print(f\"Дисперсия: {var}\")\n",
    "\n",
    "std = np.std(variation_series)\n",
    "print(f\"Стандартное отклонение: {std}\")\n",
    "\n",
    "median = np.median(variation_series)\n",
    "print(f\"Медиана: {median}\")\n",
    "\n",
    "skew = st.skew(variation_series)\n",
    "print(f\"Асимметрия: {skew}\")\n",
    "\n",
    "kurtois = st.kurtosis(variation_series, fisher=True) \n",
    "print(f\"Эксцесса: {kurtois}\")\n",
    "\n",
    "probability = calculate_probability_in_range(variation_series, c, d)\n",
    "print(f\"Вероятность: {probability}\")"
   ]
  },
  {
   "cell_type": "markdown",
   "metadata": {},
   "source": [
    "##### 2.c В предположении, что исходные наблюдения являются выборкой из показательного распределения, построить оценку максимального правдоподобия параметра $\\lambda$, а также оценку $\\lambda$ по методу моментов. Найти смещение оценок."
   ]
  },
  {
   "cell_type": "markdown",
   "metadata": {},
   "source": [
    "*Показательное распределение:*\n",
    "\n",
    "$$\n",
    "q_{\\theta} = \\lambda \\cdot \\exp(-\\lambda x)\n",
    "$$"
   ]
  },
  {
   "cell_type": "markdown",
   "metadata": {},
   "source": [
    "*ОМП*"
   ]
  },
  {
   "cell_type": "markdown",
   "metadata": {},
   "source": [
    "$$\n",
    "L(\\overline X, \\theta) = \\prod_{i=1}^n \\lambda \\cdot \\exp(-\\lambda x_i) = \\lambda^n \\cdot \\exp(-\\lambda \\cdot \\sum_{i=1}^n x_i)\n",
    "$$"
   ]
  },
  {
   "cell_type": "markdown",
   "metadata": {},
   "source": [
    "Логарифм от функции правдоподобия:"
   ]
  },
  {
   "cell_type": "markdown",
   "metadata": {},
   "source": [
    "$$\n",
    "LL(\\overline X, \\theta) = n \\cdot \\ln\\lambda - \\lambda \\cdot \\sum_{i=1}^n x_i\n",
    "$$"
   ]
  },
  {
   "cell_type": "markdown",
   "metadata": {},
   "source": [
    "Найдем максимум от логарифма:"
   ]
  },
  {
   "cell_type": "markdown",
   "metadata": {},
   "source": [
    "$$\n",
    "\\frac{\\partial LL(\\overline X, \\theta)}{\\partial \\lambda} = \\frac{n}{\\lambda} - \\sum_{i=1}^n x_i\n",
    "$$"
   ]
  },
  {
   "cell_type": "markdown",
   "metadata": {},
   "source": [
    "$$\n",
    "\\frac{n}{\\lambda} - \\sum_{i=1}^n x_i = 0\n",
    "$$"
   ]
  },
  {
   "cell_type": "markdown",
   "metadata": {},
   "source": [
    "$$\n",
    "\\hat \\theta = \\hat \\lambda = \\frac{1}{\\overline X}\n",
    "$$"
   ]
  },
  {
   "cell_type": "markdown",
   "metadata": {},
   "source": [
    "*ОММ*"
   ]
  },
  {
   "cell_type": "markdown",
   "metadata": {},
   "source": [
    "Первый момент равен:\n",
    "\n",
    "$$\n",
    "    \\mathbb{E} X = \\frac{1}{\\lambda}\n",
    "$$\n",
    "\n",
    "$$\n",
    "    M_1 = \\overline{X}\n",
    "$$\n",
    "\n",
    "Тогда:\n",
    "\n",
    "$$\n",
    "    \\tilde\\theta = \\tilde\\lambda = \\frac{1}{\\overline X}\n",
    "$$"
   ]
  },
  {
   "cell_type": "markdown",
   "metadata": {},
   "source": [
    "Проверим на несмещенность:"
   ]
  },
  {
   "cell_type": "markdown",
   "metadata": {},
   "source": [
    "$$\n",
    "\\mathbb{E} \\hat \\theta = \\mathbb{E} \\frac{1}{\\overline X} = n \\cdot \\mathbb{E} \\frac{1}{\\sum_{i=1}^n x_i} = n \\cdot \\lambda \\frac{\\text{Г}(n - 1)}{\\text{Г}(n)} = n \\cdot \\lambda \\frac{\\text{Г}(n - 1)}{\\text{Г}(n - 1)\\cdot(n - 1)} = \\frac{n \\lambda}{n - 1} \n",
    "$$"
   ]
  },
  {
   "cell_type": "markdown",
   "metadata": {},
   "source": [
    "Оценка получилась смещенной, значит НРМД оценка равна:"
   ]
  },
  {
   "cell_type": "markdown",
   "metadata": {},
   "source": [
    "$$\n",
    "\\tilde{\\lambda} = \\hat\\lambda \\cdot \\frac{n - 1}{n} \n",
    "$$"
   ]
  },
  {
   "cell_type": "markdown",
   "metadata": {},
   "source": [
    "Проверка:"
   ]
  },
  {
   "cell_type": "markdown",
   "metadata": {},
   "source": [
    "$$\n",
    "\\mathbb{E}\\tilde\\lambda = \\frac{n - 1}{n}\\mathbb{E}\\hat\\lambda = \\frac{n - 1}{n} \\cdot \\frac{n\\lambda}{n - 1} = \\lambda \n",
    "$$"
   ]
  },
  {
   "cell_type": "markdown",
   "metadata": {},
   "source": [
    "##### 2.d Построить доверительные интервалы уровня значимости $\\alpha_{2}$ для параметра $\\lambda$ на базе оценки максимального правдоподобия."
   ]
  },
  {
   "cell_type": "markdown",
   "metadata": {},
   "source": [
    "Построим на базе ОМП:"
   ]
  },
  {
   "cell_type": "markdown",
   "metadata": {},
   "source": [
    "$$\n",
    "\\frac{\\partial^2 LL}{\\partial^2 \\lambda} = -\\frac{n}{\\lambda^2}\n",
    "$$\n",
    "\n",
    "$$\n",
    "I_n(\\lambda) = -\\mathbb{E}(\\frac{\\partial^2 LL}{\\partial^2 \\lambda}) = -\\mathbb{E}(-\\frac{n}{\\lambda^2})= \\frac{n}{\\lambda^2}\n",
    "$$"
   ]
  },
  {
   "cell_type": "markdown",
   "metadata": {},
   "source": [
    "Тогда:"
   ]
  },
  {
   "cell_type": "markdown",
   "metadata": {},
   "source": [
    "$$\n",
    "I(\\lambda) = \\frac{1}{n} \\cdot \\frac{n}{\\lambda^2} = \\frac{1}{\\lambda^2} = \\frac{1}{\\overline X ^ 2}\n",
    "$$"
   ]
  },
  {
   "cell_type": "markdown",
   "metadata": {},
   "source": [
    "Посчитаем квантили:"
   ]
  },
  {
   "cell_type": "markdown",
   "metadata": {},
   "source": [
    "$$\n",
    "X_{\\alpha}: \\text{Ф}(X_{\\alpha}) = 1 - \\frac{0.1}{2} = 0.95\n",
    "$$"
   ]
  },
  {
   "cell_type": "code",
   "execution_count": 42,
   "metadata": {},
   "outputs": [
    {
     "name": "stdout",
     "output_type": "stream",
     "text": [
      "x_alpha =  9.163999999999993\n"
     ]
    }
   ],
   "source": [
    "x_a = np.percentile(variation_series, 0.95 * 100)\n",
    "print('x_alpha = ', x_a)"
   ]
  },
  {
   "cell_type": "markdown",
   "metadata": {},
   "source": [
    "Асимптотический доверительный интервал равен:"
   ]
  },
  {
   "cell_type": "markdown",
   "metadata": {},
   "source": [
    "$$\n",
    "\\lambda \\in \\left[\\overline X - \\frac{X_{\\alpha}}{\\sqrt{n \\cdot \\frac{1}{\\overline X ^ 2}}}; \\overline X + \\frac{X_{\\alpha}}{\\sqrt{n \\cdot \\frac{1}{ \\overline X ^ 2}}} \\right]\n",
    "$$"
   ]
  },
  {
   "cell_type": "code",
   "execution_count": 43,
   "metadata": {},
   "outputs": [
    {
     "name": "stdout",
     "output_type": "stream",
     "text": [
      "Асимптотический интервал равен: [-0.9019264322400811; 6.996326432240082]\n"
     ]
    }
   ],
   "source": [
    "left = mean - x_a / (size * (1 / mean**2))**0.5\n",
    "right = mean + x_a / (size * (1 / mean**2))**0.5\n",
    "\n",
    "print(f'Асимптотический интервал равен: [{left}; {right}]')"
   ]
  },
  {
   "cell_type": "markdown",
   "metadata": {},
   "source": [
    "##### 2.e. Построение критерия значимости проверки простой гипотезы согласия с показательным распределением с параметром $\\lambda_0$ с использованием теоремы Колмогорова. Проверка гипотезы на уровне значимости $\\alpha_2$. Вычисление наименьшее значения уровня значимости, на котором ещё нет оснований отвергнуть гипотезу."
   ]
  },
  {
   "cell_type": "markdown",
   "metadata": {},
   "source": [
    "Критерий значимости $\\alpha$:\n",
    "\n",
    "$$\n",
    "F(x) =\n",
    "\\begin{cases}\n",
    "  1, & \\text{если } D_n > x_{\\alpha}, \\\\\n",
    "  0, & \\text{если } D_n \\leq x_{\\alpha}.\n",
    "\\end{cases}\n",
    "$$\n",
    "\n",
    "$x_{\\alpha}: K_{n}(x_{\\alpha}) = 1 - \\alpha_1 = 1 - 0.2 = 0.8$"
   ]
  },
  {
   "cell_type": "code",
   "execution_count": 44,
   "metadata": {},
   "outputs": [
    {
     "name": "stdout",
     "output_type": "stream",
     "text": [
      "Гипотеза отвергается.\n",
      "Вычисленная статистика Колмогорова: 49.0293\n",
      "Критическое значение статистики Колмогорова: 0.1921\n",
      "Наибольший уровень значимости без отвержения гипотезы: 0.1\n"
     ]
    }
   ],
   "source": [
    "D = np.max(np.abs(st.expon.cdf(variation_series, scale= 1 / 0.25) - np.arange(1, size + 1 / size)))\n",
    "\n",
    "val = st.kstwobign.ppf(1 - alpha_2/2) / np.sqrt(len(variation_series))\n",
    "\n",
    "if D <= val:\n",
    "    print(\"Гипотеза принимается.\")\n",
    "    print(f\"Наименьший уровень значимости без отвержения гипотезы: {alpha_2:.2f}\")\n",
    "else:\n",
    "    print(\"Гипотеза отвергается.\")\n",
    "\n",
    "print(f\"Вычисленная статистика Колмогорова: {D:.4f}\")\n",
    "print(f\"Критическое значение статистики Колмогорова: {val:.4f}\")\n",
    "\n",
    "max_alpha = 0.1\n",
    "while D <= st.kstwobign.ppf(1 - max_alpha/2) / np.sqrt(size):\n",
    "    max_alpha += 0.01\n",
    "\n",
    "print(f\"Наибольший уровень значимости без отвержения гипотезы: {max_alpha}\")"
   ]
  },
  {
   "cell_type": "markdown",
   "metadata": {},
   "source": [
    "##### 2.f. Используя гистограмму частот, построить критерий значимости $\\chi^2$ проверки простой гипотезы согласия с показательным распределением с параметром $\\lambda_0$. Проверить гипотезу на уровень значимости $\\alpha_2$. Вычислить наибольшее значение уровня значимости, на котором ещё нет оснований отвергнуть данную гипотезу."
   ]
  },
  {
   "cell_type": "markdown",
   "metadata": {},
   "source": [
    "Сформулируем гипотезы:\n",
    "\n",
    "$$\n",
    "H_0: X \\sim q_{\\theta}\n",
    "\\newline\n",
    "H_A: X \\not\\sim q_{\\theta}\n",
    "$$\n"
   ]
  },
  {
   "cell_type": "markdown",
   "metadata": {},
   "source": [
    "Интервалы и количества элементов выборки, входящих в них:"
   ]
  },
  {
   "cell_type": "code",
   "execution_count": 45,
   "metadata": {},
   "outputs": [
    {
     "name": "stdout",
     "output_type": "stream",
     "text": [
      "Интервал: (-0.97; 0.5], Количество: 7\n",
      "Интервал: (0.5; 1], Количество: 9\n",
      "Интервал: (1; 2], Количество: 6\n",
      "Интервал: (2; 3], Количество: 9\n",
      "Интервал: (3; 4], Количество: 5\n",
      "Интервал: (4; 5], Количество: 6\n",
      "Интервал: (5; 15.12), Количество: 8\n"
     ]
    }
   ],
   "source": [
    "bins = [min(variation_series) - 1, 0.5, 1, 2, 3, 4, 5, max(variation_series) + 1]\n",
    "\n",
    "hist, _ = np.histogram(variation_series, bins=bins)\n",
    "intervals = [(bins[i], bins[i + 1]) for i in range(len(bins) - 1)]\n",
    "\n",
    "\n",
    "obs = []\n",
    "for i, (interval, count) in enumerate(zip(intervals, hist)):\n",
    "    inclusive = i == len(intervals) - 1 \n",
    "    \n",
    "    if inclusive:\n",
    "        vs = variation_series[(variation_series > interval[0]) & (variation_series < interval[1])]\n",
    "        print(f\"Интервал: ({interval[0]}; {interval[1]}), Количество: {len(vs)}\")\n",
    "    else:\n",
    "        vs=variation_series[(variation_series > interval[0]) & (variation_series <= interval[1])]\n",
    "        print(f\"Интервал: ({interval[0]}; {interval[1]}], Количество: {len(vs)}\")\n",
    "    obs.append(len(vs))"
   ]
  },
  {
   "cell_type": "markdown",
   "metadata": {},
   "source": [
    "Посчитаем гипотетические вероятности попадения в интервали, а также ожидаемые частоты:"
   ]
  },
  {
   "cell_type": "code",
   "execution_count": 46,
   "metadata": {},
   "outputs": [
    {
     "name": "stdout",
     "output_type": "stream",
     "text": [
      "np_10 = 50 * 0.15633518340361632 = 7.816759170180816\n",
      "np_20 = 50 * 0.33195623880984115 = 16.597811940492058\n",
      "np_30 = 50 * 0.3234615121477957 = 16.173075607389787\n",
      "np_40 = 50 * 0.11899484032940089 = 5.9497420164700445\n",
      "np_50 = 50 * 0.04377575536266487 = 2.1887877681332437\n",
      "np_60 = 50 * 0.016104200419674974 = 0.8052100209837487\n",
      "np_70 = 50 * 0.009371892142024829 = 0.46859460710124146\n"
     ]
    }
   ],
   "source": [
    "formula = lambda x: st.expon.cdf(x, lambda_0)\n",
    "\n",
    "probabilities = []\n",
    "for interval in intervals:\n",
    "    probabilities.append(formula(interval[-1]) - formula(interval[0]))\n",
    "\n",
    "expected = []\n",
    "for i in range(len(probabilities)):\n",
    "    expected.append(size * probabilities[i])\n",
    "    print(f'np_{i + 1}0 = {size} * {probabilities[i]} = {expected[i]}')"
   ]
  },
  {
   "cell_type": "markdown",
   "metadata": {},
   "source": [
    "Теперь высчитаем критерий $\\chi^2$:"
   ]
  },
  {
   "cell_type": "code",
   "execution_count": 47,
   "metadata": {},
   "outputs": [
    {
     "name": "stdout",
     "output_type": "stream",
     "text": [
      "Значение статистики критерия 169.6979721763875\n"
     ]
    }
   ],
   "source": [
    "chi2 = lambda i: (obs[i] - expected[i])**2 / expected[i]\n",
    "\n",
    "value = 0\n",
    "for i in range(len(expected)):\n",
    "    value += chi2(i)\n",
    "\n",
    "print(\"Значение статистики критерия\", value)"
   ]
  },
  {
   "cell_type": "markdown",
   "metadata": {},
   "source": [
    "Проверим гипотезу на уровне значимости $\\alpha_2 = 0.1$\n",
    "\n",
    "\n",
    "Выбираем $X_{\\alpha}$: $K_{8 - 1}(X_{\\alpha}) = 1 - \\alpha = 0.9$\n",
    "\n",
    "Тогда:"
   ]
  },
  {
   "cell_type": "code",
   "execution_count": 48,
   "metadata": {},
   "outputs": [
    {
     "name": "stdout",
     "output_type": "stream",
     "text": [
      "Значение хи-квадрат с 6 степенями свободы: 10.644640675668422\n"
     ]
    }
   ],
   "source": [
    "print(\"Значение хи-квадрат с 6 степенями свободы:\", st.chi2.ppf(1 - alpha_2, 6))"
   ]
  },
  {
   "cell_type": "code",
   "execution_count": 49,
   "metadata": {},
   "outputs": [
    {
     "name": "stdout",
     "output_type": "stream",
     "text": [
      "Наибольщее значение уровня значимости: 0.1\n",
      "x_alpha = 12.017036623780532\n"
     ]
    }
   ],
   "source": [
    "def find_max_alpha(freedom_degrees: int) -> float:\n",
    "    cur_alpha = 0\n",
    "    max_alpha = alpha = alpha_2\n",
    "\n",
    "    while alpha >= 0:\n",
    "        cur_alpha = st.chi2.ppf(1 - max_alpha, freedom_degrees)\n",
    "        \n",
    "        if cur_alpha >= value:\n",
    "            max_alpha = alpha\n",
    "        else:\n",
    "            break\n",
    "        \n",
    "        alpha += 0.0001\n",
    "\n",
    "    return max_alpha\n",
    "\n",
    "\n",
    "max_alpha = find_max_alpha(6)\n",
    "print(f'Наибольщее значение уровня значимости: {max_alpha}')\n",
    "print(f\"x_alpha = {st.chi2.ppf(1 - max_alpha, 7)}\")"
   ]
  },
  {
   "cell_type": "markdown",
   "metadata": {},
   "source": [
    "##### 2.g. Построить критерий значимости $\\chi^2$ проверки сложной гипотезы согласия с показательным распределением. Проверить гипотезу по уровню значимости $\\alpha_2$. Вычислить наибольшее значение уровня значимости, на котором ещё нет оснований отвергнуть данную гипотезу."
   ]
  },
  {
   "cell_type": "markdown",
   "metadata": {},
   "source": [
    "Сформулируем гипотезы:\n",
    "\n",
    "$$\n",
    "H_0: X \\sim q_{\\theta}\n",
    "\\newline\n",
    "H_A: X \\not\\sim q_{\\theta}\n",
    "$$\n"
   ]
  },
  {
   "cell_type": "markdown",
   "metadata": {},
   "source": [
    "Интервалы и количества элементов выборки, входящих в них:"
   ]
  },
  {
   "cell_type": "code",
   "execution_count": 50,
   "metadata": {},
   "outputs": [
    {
     "name": "stdout",
     "output_type": "stream",
     "text": [
      "Интервал: (-0.97; 0.5], Количество: 7\n",
      "Интервал: (0.5; 1], Количество: 9\n",
      "Интервал: (1; 2], Количество: 6\n",
      "Интервал: (2; 3], Количество: 9\n",
      "Интервал: (3; 4], Количество: 5\n",
      "Интервал: (4; 5], Количество: 6\n",
      "Интервал: (5; 15.12), Количество: 8\n"
     ]
    }
   ],
   "source": [
    "bins = [min(variation_series) - 1, 0.5, 1, 2, 3, 4, 5, max(variation_series) + 1]\n",
    "\n",
    "hist, _ = np.histogram(variation_series, bins=bins)\n",
    "intervals = [(bins[i], bins[i + 1]) for i in range(len(bins) - 1)]\n",
    "\n",
    "\n",
    "obs = []\n",
    "for i, (interval, count) in enumerate(zip(intervals, hist)):\n",
    "    inclusive = i == len(intervals) - 1 \n",
    "    \n",
    "    if inclusive:\n",
    "        vs = variation_series[(variation_series > interval[0]) & (variation_series < interval[1])]\n",
    "        print(f\"Интервал: ({interval[0]}; {interval[1]}), Количество: {len(vs)}\")\n",
    "    else:\n",
    "        vs=variation_series[(variation_series > interval[0]) & (variation_series <= interval[1])]\n",
    "        print(f\"Интервал: ({interval[0]}; {interval[1]}], Количество: {len(vs)}\")\n",
    "    obs.append(len(vs))"
   ]
  },
  {
   "cell_type": "markdown",
   "metadata": {},
   "source": [
    "Для сложной гипотезы статистикой критерия будет:\n",
    "\n",
    "$$\n",
    "\\chi^2 = min \\chi^2(\\lambda) = min \\sum_{j = 1}^8\\frac{(\\nu_j - np_{j0}(\\lambda))^2}{np_{j0}(\\lambda)} \\xrightarrow{n \\to \\infty} \\chi^2_6\n",
    "$$ "
   ]
  },
  {
   "cell_type": "code",
   "execution_count": 51,
   "metadata": {},
   "outputs": [
    {
     "name": "stdout",
     "output_type": "stream",
     "text": [
      "Значение статистики критерия 169.6979721763875\n"
     ]
    }
   ],
   "source": [
    "print(\"Значение статистики критерия\", value)"
   ]
  },
  {
   "cell_type": "markdown",
   "metadata": {},
   "source": [
    "$X_{\\alpha}: K_{r - d - 1}(X_{\\alpha}) = 1 - \\alpha_2 = 1 - 0.1 = 0.9$, где r - количество интервалов, d - размерность "
   ]
  },
  {
   "cell_type": "code",
   "execution_count": 52,
   "metadata": {},
   "outputs": [
    {
     "name": "stdout",
     "output_type": "stream",
     "text": [
      "Значение хи-квадрат с 5 степенями свободы: 7.289276126648961\n"
     ]
    }
   ],
   "source": [
    "print(\"Значение хи-квадрат с 5 степенями свободы:\", st.chi2.ppf(1 - alpha_1, 5))"
   ]
  },
  {
   "cell_type": "markdown",
   "metadata": {},
   "source": [
    "Найдем наибольшее значение уровня значимости, на котором еще нет оснований отвергнуть данную гипотезу. "
   ]
  },
  {
   "cell_type": "code",
   "execution_count": 53,
   "metadata": {},
   "outputs": [
    {
     "name": "stdout",
     "output_type": "stream",
     "text": [
      "Наибольщее значение уровня значимости: 0.1\n",
      "x_alpha = 10.644640675668422\n"
     ]
    }
   ],
   "source": [
    "max_alpha = find_max_alpha(5)\n",
    "print(f'Наибольщее значение уровня значимости: {max_alpha}')\n",
    "print(f\"x_alpha = {st.chi2.ppf(1 - max_alpha, 6)}\")"
   ]
  },
  {
   "cell_type": "markdown",
   "metadata": {},
   "source": [
    "##### 2.h Построить наиболее мощный критерий проверки простой гипотезы о показательности с параметром $\\lambda = \\lambda_0$ при альтернативе показательности с параметром $\\lambda = \\lambda_1$. Проверить гипотезу на уровне значимости $\\alpha_2$. Что получится, если поменять местами основную и альтернативную гипотезы?"
   ]
  },
  {
   "cell_type": "markdown",
   "metadata": {},
   "source": [
    "Сформулируем гипотезы:\n",
    "\n",
    "$$\n",
    "H_0: \\lambda = \\lambda_0\n",
    "\\newline\n",
    "H_A: \\lambda = \\lambda_1\n",
    "$$\n"
   ]
  },
  {
   "cell_type": "markdown",
   "metadata": {},
   "source": [
    "Используем статические отношения правдоподобия:\n",
    "$$\n",
    "LR(\\overline X, \\lambda_1, \\lambda_0) = \\frac{L(\\overline X, \\lambda_1)}{L(\\overline X, \\lambda_0)} = \\frac{\\lambda_0^n \\cdot \\exp(-\\lambda_0 \\cdot \\sum_{i = 1}^n X_i)}{\\lambda_1^n \\cdot \\exp(-\\lambda_1 \\cdot \\sum_{i = 1}^n X_i)}\n",
    "$$"
   ]
  },
  {
   "cell_type": "markdown",
   "metadata": {},
   "source": [
    "$$LR(\\overline X, \\lambda_0, \\lambda_1) > c \\leftrightarrow \\overline X > c*$$\n",
    "\n",
    "$$LR(\\overline X, \\lambda_0, \\lambda_1) > c \\leftrightarrow \\overline X > c*$$\n",
    "\n",
    "$$\n",
    "\\exp(\\sum_{i=1}^{n} X_i \\cdot (-\\lambda_0 + \\lambda_1)) = (\\frac{\\lambda_1}{\\lambda_0})^n \\cdot c\n",
    "$$"
   ]
  },
  {
   "cell_type": "markdown",
   "metadata": {},
   "source": [
    "$$\n",
    "c* = \\sum_{i = 1}^n x_i = n \\cdot \\ln((\\frac{\\lambda_0}{\\lambda_1})c)\n",
    "$$\n",
    "\n",
    "$$\n",
    "\\sum_{i = 1}^n x_i \\sim \\text{Г}(n, \\frac{1}{\\lambda})\n",
    "$$\n",
    "\n",
    "$$\n",
    "1 - \\text{Ф}_{\\text{Г}(n, \\frac{1}{\\lambda})}(1 - \\alpha_2)\n",
    "$$\n",
    "\n",
    "$$\n",
    "c = \\text{Ф}^{-1}_{\\text{Г}(n, \\frac{1}{\\lambda})}(1 - \\alpha_2)\n",
    "$$\n",
    "\n",
    "$$\n",
    "c = 151.123\n",
    "$$"
   ]
  },
  {
   "cell_type": "markdown",
   "metadata": {},
   "source": [
    "Тогда c*:"
   ]
  },
  {
   "cell_type": "markdown",
   "metadata": {},
   "source": [
    "c* = 264.79"
   ]
  },
  {
   "cell_type": "markdown",
   "metadata": {},
   "source": [
    "$$\n",
    "LR(\\overline X, \\lambda_0, \\lambda_1) = (\\frac{0.33}{0.25})^{50} \\cdot \\exp((0.25 - 0.33)\\cdot 264.79) = 0.00067\n",
    "$$"
   ]
  },
  {
   "cell_type": "markdown",
   "metadata": {},
   "source": [
    "$$\n",
    "c > LR - \\text{отвергаем гипотезу}\n",
    "$$"
   ]
  },
  {
   "cell_type": "markdown",
   "metadata": {},
   "source": [
    "Поменяем гипотезы:\n",
    "\n",
    "$$\n",
    "H_0: \\lambda = \\lambda_1\n",
    "\\newline\n",
    "H_A: \\lambda = \\lambda_0\n",
    "$$"
   ]
  },
  {
   "cell_type": "markdown",
   "metadata": {},
   "source": [
    "Используем статические отношения правдоподобия:\n",
    "$$\n",
    "LR(\\overline X, \\lambda_0, \\lambda_1) = \\frac{L(\\overline X, \\lambda_0)}{L(\\overline X, \\lambda_1)} = \\frac{\\lambda_1^n \\cdot \\exp(-\\lambda_1 \\cdot \\sum_{i = 1}^n X_i)}{\\lambda_0^n \\cdot \\exp(-\\lambda_0 \\cdot \\sum_{i = 1}^n X_i)}\n",
    "$$"
   ]
  },
  {
   "cell_type": "markdown",
   "metadata": {},
   "source": [
    "$$LR(\\overline X, \\lambda_1, \\lambda_0) > c \\leftrightarrow \\overline X > c*$$\n",
    "\n",
    "$$LR(\\overline X, \\lambda_1, \\lambda_0) > c \\leftrightarrow \\overline X > c*$$\n",
    "\n",
    "$$\n",
    "\\exp(\\sum_{i=1}^{n} X_i \\cdot (-\\lambda_1 + \\lambda_0)) = (\\frac{\\lambda_0}{\\lambda_1})^n \\cdot c\n",
    "$$\n",
    "\n",
    "$$\n",
    "c = \\text{Ф}^{-1}_{\\text{Г}(n, \\frac{1}{\\lambda})}(1 - \\alpha_2)\n",
    "$$\n",
    "\n",
    "$$\n",
    "c = 151.123\n",
    "$$\n",
    "\n",
    "$$\n",
    "c* = 264.79\n",
    "$$"
   ]
  },
  {
   "cell_type": "markdown",
   "metadata": {},
   "source": [
    "$$\n",
    "LR(\\overline X, \\lambda_0, \\lambda_1) = (\\frac{0.25}{0.36})^{50} \\cdot \\exp((0.33 - 0.25)\\cdot 264.79) = 1492.54\n",
    "$$"
   ]
  },
  {
   "cell_type": "markdown",
   "metadata": {},
   "source": [
    "$$LR > c - \\text{принимаем гипотезу}$$"
   ]
  },
  {
   "cell_type": "markdown",
   "metadata": {},
   "source": [
    "##### i. В пукнтах (c)-(h) заменить семейство показательных распределений на семейство гамма-рапределений с плотностями $ P_{\\lambda} = \\frac{\\sqrt{\\lambda} \\exp{(-\\frac{\\lambda x}{2})}}{\\sqrt{2\\pi x}}$ (использовать таблицу распределений $\\chi^2_1$)."
   ]
  },
  {
   "cell_type": "markdown",
   "metadata": {},
   "source": [
    "**i.c. В предположении, что исходные наблюдения являются выборкой из показательного распределения, построить оценку максимального правдоподобия параметра $\\lambda$, а также оценку $\\lambda$ по методу моментов. Найти смещение оценок.**"
   ]
  },
  {
   "cell_type": "markdown",
   "metadata": {},
   "source": [
    "*ОМП*"
   ]
  },
  {
   "cell_type": "markdown",
   "metadata": {},
   "source": [
    "$$\n",
    "L(\\overline X, \\theta) = \\prod_{i=1}^n P_{\\lambda} = \\prod_{i=1}^n \\frac{\\sqrt{\\lambda} \\exp{(-\\frac{\\lambda X_i}{2})}}{\\sqrt{2\\pi X_i}} = \\lambda^{\\frac{n}{2}} \\cdot \\exp(\\frac{-\\lambda}{2} \\cdot \\sum_{i=1}^n X_i) \\cdot (2\\pi)^{-\\frac{n}{2}} \\cdot (\\prod_{i=2}^n X_i)^{-\\frac{n}{2}}\n",
    "$$"
   ]
  },
  {
   "cell_type": "markdown",
   "metadata": {},
   "source": [
    "$$\n",
    "LL(\\overline X, \\theta) = \\frac{\\pi}{2}\\ln(\\lambda) + \\frac{\\lambda \\cdot \\sum_{i=1}^n X_i}{2} - \\frac{n}{2}\\ln(2\\pi) - \\frac{n}{2}\\ln(\\prod_{i=1}^n X_i)\n",
    "$$"
   ]
  },
  {
   "cell_type": "markdown",
   "metadata": {},
   "source": [
    "Найдем максимум от логарифма:"
   ]
  },
  {
   "cell_type": "markdown",
   "metadata": {},
   "source": [
    "$$\n",
    "\\frac{\\partial LL(\\overline X, \\theta)}{\\partial \\lambda} = \\frac{n}{2\\lambda} - \\frac{\\sum_{i=1}^n X_i}{2\\lambda}\n",
    "$$\n",
    "\n",
    "$$\n",
    "\\frac{n}{2\\lambda} - \\frac{\\sum_{i=1}^n X_i}{2\\lambda} = 0\n",
    "$$\n",
    "\n",
    "$$\n",
    "\\frac{n}{2\\lambda} = \\frac{\\sum_{i=1}^n X_i}{2\\lambda}\n",
    "$$\n",
    "\n",
    "$$\n",
    "\\lambda = \\frac{1}{\\overline X} = \\frac{1}{3.047} = 0.328\n",
    "$$"
   ]
  },
  {
   "cell_type": "markdown",
   "metadata": {},
   "source": [
    "*ОММ*"
   ]
  },
  {
   "cell_type": "markdown",
   "metadata": {},
   "source": [
    "Первый момент для гамма-распределения:\n",
    "$$\n",
    "\\mathbb{E}X = a \\cdot b = \\frac{1}{\\lambda}\n",
    "$$\n",
    "Тогда, зная, что $M = \\overline X$:\n",
    "$$\n",
    "\\hat \\theta = \\hat \\lambda = \\frac{1}{\\overline X} = \\frac{1}{3.047} = 0.328\n",
    "$$"
   ]
  },
  {
   "cell_type": "markdown",
   "metadata": {},
   "source": [
    "Найдем смещение оценки:"
   ]
  },
  {
   "cell_type": "markdown",
   "metadata": {},
   "source": [
    "$\n",
    "\\mathbb{E} \\frac{1}{\\overline X} = \\mathbb{E} \\frac{n}{sum_{i=1}^n X_i} = n \\cdot \\mathbb{E} (\\sum_{i=1}^n X_i)^{-1} = \n",
    "$\n",
    "\n",
    "Отдельно посчитаем:\n",
    "\n",
    "$$\n",
    "X_i \\sim \\exp(\\lambda)\n",
    "$$\n",
    "\n",
    "$$\n",
    "X_i \\sim \\text{Г}(1, \\frac{1}{\\lambda})\n",
    "$$\n",
    "\n",
    "$$\n",
    "\\sum_{i=1}^n X_i \\sim \\text{Г}(1, \\frac{1}{\\lambda})\n",
    "$$\n",
    "\n",
    "$\n",
    "= n \\lambda \\cdot \\frac{\\text{Г}(n - 1)}{\\text{Г}(n)} = n \\lambda \\cdot \\frac{\\text{Г}(n - 1)}{(n - 1)\\text{Г}(n - 1)} = \\lambda \\cdot \\frac{n}{n - 1}\n",
    "$ - оценка смещенная"
   ]
  },
  {
   "cell_type": "markdown",
   "metadata": {},
   "source": [
    "Тогда: \n",
    "\n",
    "$$\n",
    "\\tilde{\\lambda} = \\hat{\\lambda}\\cdot\\frac{n - 1}{n} \\text{ - НРМД-оценка} \n",
    "$$"
   ]
  },
  {
   "cell_type": "markdown",
   "metadata": {},
   "source": [
    "**i.d Построить доверительные интервалы уровня значимости $\\alpha_{2}$ для параметра $\\lambda$ на базе оценки максимального правдоподобия.**"
   ]
  },
  {
   "cell_type": "markdown",
   "metadata": {},
   "source": [
    "Построим на базе ОМП:"
   ]
  },
  {
   "cell_type": "markdown",
   "metadata": {},
   "source": [
    "$$\n",
    "\\frac{\\partial^2 LL}{\\partial^2 \\lambda} = -\\frac{n}{2\\lambda^2}\n",
    "$$\n",
    "\n",
    "$$\n",
    "I_n(\\lambda) = -\\mathbb{E}(\\frac{\\partial^2 LL}{\\partial^2 \\lambda}) = -\\mathbb{E}(-\\frac{n}{2\\lambda^2})= \\frac{n}{2\\lambda^2}\n",
    "$$"
   ]
  },
  {
   "cell_type": "markdown",
   "metadata": {},
   "source": [
    "Тогда:"
   ]
  },
  {
   "cell_type": "markdown",
   "metadata": {},
   "source": [
    "$$\n",
    "I(\\lambda) = \\frac{1}{n} \\cdot \\frac{n}{2\\lambda^2} = \\frac{1}{2\\lambda^2} = \\frac{1}{2\\overline X ^ 2}\n",
    "$$"
   ]
  },
  {
   "cell_type": "markdown",
   "metadata": {},
   "source": [
    "Посчитаем квантили:"
   ]
  },
  {
   "cell_type": "markdown",
   "metadata": {},
   "source": [
    "$$\n",
    "X_{\\alpha}: \\text{Ф}(X_{\\alpha}) = 1 - \\frac{0.1}{2} = 0.95\n",
    "$$"
   ]
  },
  {
   "cell_type": "code",
   "execution_count": 54,
   "metadata": {},
   "outputs": [
    {
     "name": "stdout",
     "output_type": "stream",
     "text": [
      "x_alpha =  9.163999999999993\n"
     ]
    }
   ],
   "source": [
    "x_a = np.percentile(variation_series, 0.95 * 100)\n",
    "print('x_alpha = ', x_a)"
   ]
  },
  {
   "cell_type": "markdown",
   "metadata": {},
   "source": [
    "Асимптотический доверительный интервал равен:\n",
    "\n",
    "$$\n",
    "\\lambda \\in \\left[\\overline X - \\frac{X_{\\alpha}}{\\sqrt{n \\cdot \\frac{1}{2\\overline X ^ 2}}}; \\overline X + \\frac{X_{\\alpha}}{\\sqrt{n \\cdot \\frac{1}{ 2 \\overline X ^ 2}}} \\right]\n",
    "$$"
   ]
  },
  {
   "cell_type": "code",
   "execution_count": 55,
   "metadata": {},
   "outputs": [
    {
     "name": "stdout",
     "output_type": "stream",
     "text": [
      "Асимптотический интервал равен: [-2.5377081599999958; 8.632108159999996]\n"
     ]
    }
   ],
   "source": [
    "left = mean - x_a / (size * (1 / (2 * mean**2)))**0.5\n",
    "right = mean + x_a / (size * (1 / (2 * mean**2)))**0.5\n",
    "\n",
    "print(f'Асимптотический интервал равен: [{left}; {right}]')"
   ]
  },
  {
   "cell_type": "markdown",
   "metadata": {},
   "source": [
    "**i.e. Построение критерия значимости проверки простой гипотезы согласия с показательным распределением с параметром $\\lambda_0$ с использованием теоремы Колмогорова. Проверка гипотезы на уровне значимости $\\alpha_2$. Вычисление наименьшее значения уровня значимости, на котором ещё нет оснований отвергнуть гипотезу.**"
   ]
  },
  {
   "cell_type": "markdown",
   "metadata": {},
   "source": [
    "Критерий значимости $\\alpha$:\n",
    "\n",
    "$$\n",
    "F(x) =\n",
    "\\begin{cases}\n",
    "  1, & \\text{если } D_n > x_{\\alpha}, \\\\\n",
    "  0, & \\text{если } D_n \\leq x_{\\alpha}.\n",
    "\\end{cases}\n",
    "$$\n",
    "\n",
    "$x_{\\alpha}: K_{n}(x_{\\alpha}) = 1 - \\alpha_2 = 0.9$"
   ]
  },
  {
   "cell_type": "markdown",
   "metadata": {},
   "source": [
    "Посчитаем $x_{\\alpha}$:"
   ]
  },
  {
   "cell_type": "code",
   "execution_count": 56,
   "metadata": {},
   "outputs": [
    {
     "name": "stdout",
     "output_type": "stream",
     "text": [
      "x_alpha =  0.14839812573875721\n"
     ]
    }
   ],
   "source": [
    "x_alpha = st.ksone.ppf(1 - alpha_2, size)\n",
    "\n",
    "print(f'x_alpha = ', x_alpha)"
   ]
  },
  {
   "cell_type": "markdown",
   "metadata": {},
   "source": [
    "Посчитем пределельное значение $D_n$:"
   ]
  },
  {
   "cell_type": "code",
   "execution_count": 57,
   "metadata": {},
   "outputs": [
    {
     "name": "stdout",
     "output_type": "stream",
     "text": [
      "Dn:  0.05186567265190334\n"
     ]
    }
   ],
   "source": [
    "vec = np.arange(-1, 15, 0.1)\n",
    "\n",
    "s = lambda x: np.sum(variation_series < x) / size\n",
    "fn = np.array([s(x) for x in vec])\n",
    "\n",
    "gamma = lambda x: st.gamma.cdf(x, a=1, scale=1 / lambda_0)\n",
    "f0 = np.array([gamma(x) for x in vec])\n",
    "\n",
    "difference = abs(fn - f0)\n",
    "dn = max(difference)\n",
    "print(\"Dn: \", dn)"
   ]
  },
  {
   "cell_type": "markdown",
   "metadata": {},
   "source": [
    "$D_n < x_{\\alpha}$ - гипотеза принимается "
   ]
  },
  {
   "cell_type": "markdown",
   "metadata": {},
   "source": [
    "Найдем наибольшее значение уровня значимости, при котором еще нет оснований отвергнуть гипотезу:"
   ]
  },
  {
   "cell_type": "code",
   "execution_count": 58,
   "metadata": {},
   "outputs": [
    {
     "name": "stdout",
     "output_type": "stream",
     "text": [
      "Наибольший уровень значимости 0.7389692410530062\n"
     ]
    }
   ],
   "source": [
    "print('Наибольший уровень значимости', 1 - st.ksone.cdf(dn, size))"
   ]
  },
  {
   "cell_type": "markdown",
   "metadata": {},
   "source": [
    "**i.f. Используя гистограмму частот, построить критерий значимости $\\chi^2$ проверки простой гипотезы согласия с показательным распределением с параметром $\\lambda_0$. Проверить гипотезу на уровень значимости $\\alpha_2$. Вычислить наибольшее значение уровня значимости, на котором ещё нет оснований отвергнуть данную гипотезу.**"
   ]
  },
  {
   "cell_type": "markdown",
   "metadata": {},
   "source": [
    "Сформулируем гипотезы:\n",
    "\n",
    "$$\n",
    "H_0: X \\sim P_{\\lambda}\n",
    "\\newline\n",
    "H_A: X \\not\\sim P_{\\lambda}\n",
    "$$\n"
   ]
  },
  {
   "cell_type": "markdown",
   "metadata": {},
   "source": [
    "Интервалы и количество элементов выборки, которые входят в них"
   ]
  },
  {
   "cell_type": "code",
   "execution_count": 63,
   "metadata": {},
   "outputs": [
    {
     "name": "stdout",
     "output_type": "stream",
     "text": [
      "Интервал: (-0.97; 0.5], Количество: 7\n",
      "Интервал: (0.5; 1], Количество: 9\n",
      "Интервал: (1; 2], Количество: 6\n",
      "Интервал: (2; 3], Количество: 9\n",
      "Интервал: (3; 4], Количество: 5\n",
      "Интервал: (4; 5], Количество: 6\n",
      "Интервал: (5; 15.12), Количество: 8\n"
     ]
    }
   ],
   "source": [
    "obs = []\n",
    "for i, (interval, count) in enumerate(zip(intervals, hist)):\n",
    "    inclusive = i == len(intervals) - 1 \n",
    "    \n",
    "    if inclusive:\n",
    "        vs = variation_series[(variation_series > interval[0]) & (variation_series < interval[1])]\n",
    "        print(f\"Интервал: ({interval[0]}; {interval[1]}), Количество: {len(vs)}\")\n",
    "    else:\n",
    "        vs=variation_series[(variation_series > interval[0]) & (variation_series <= interval[1])]\n",
    "        print(f\"Интервал: ({interval[0]}; {interval[1]}], Количество: {len(vs)}\")\n",
    "    obs.append(len(vs))"
   ]
  },
  {
   "cell_type": "markdown",
   "metadata": {},
   "source": [
    "Посчитаем гипотетические вероятности попадения в интервали, а также ожидаемые частоты:"
   ]
  },
  {
   "cell_type": "code",
   "execution_count": 65,
   "metadata": {},
   "outputs": [
    {
     "name": "stdout",
     "output_type": "stream",
     "text": [
      "np_10 = 50 * 0.7940979165844471 = 39.70489582922235\n",
      "np_20 = 50 * 0.11134471153173175 = 5.5672355765865875\n",
      "np_30 = 50 * 0.06947307067706554 = 3.473653533853277\n",
      "np_40 = 50 * 0.017619966999433245 = 0.8809983499716623\n",
      "np_50 = 50 * 0.005121391371381345 = 0.25606956856906726\n",
      "np_60 = 50 * 0.0015840580600077203 = 0.07920290300038602\n",
      "np_70 = 50 * 0.0007588691853166463 = 0.03794345926583231\n"
     ]
    }
   ],
   "source": [
    "formula = lambda x: st.gamma.cdf(x, lambda_0)\n",
    "\n",
    "probabilities = []\n",
    "for interval in intervals:\n",
    "    probabilities.append(formula(interval[-1]) - formula(interval[0]))\n",
    "\n",
    "expected = []\n",
    "for i in range(len(probabilities)):\n",
    "    expected.append(size * probabilities[i])\n",
    "    print(f'np_{i + 1}0 = {size} * {probabilities[i]} = {expected[i]}')"
   ]
  },
  {
   "cell_type": "markdown",
   "metadata": {},
   "source": [
    "Теперь высчитаем критерий $\\chi^2$:"
   ]
  },
  {
   "cell_type": "code",
   "execution_count": 77,
   "metadata": {},
   "outputs": [
    {
     "name": "stdout",
     "output_type": "stream",
     "text": [
      "Значение статистики критерия 2306.967125643617\n"
     ]
    }
   ],
   "source": [
    "chi2 = lambda i: (obs[i] - expected[i])**2 / expected[i]\n",
    "\n",
    "print(\"Значение статистики критерия\", sum([chi2(i) for i in range(len(expected))]))"
   ]
  },
  {
   "cell_type": "markdown",
   "metadata": {},
   "source": [
    "Проверим гипотезу на уровне значимости $\\alpha_2 = 0.1$\n",
    "\n",
    "\n",
    "Выбираем $X_{\\alpha}$: $K_{7 - 1}(X_{\\alpha}) = 1 - \\alpha = 0.9$\n",
    "\n",
    "Тогда:"
   ]
  },
  {
   "cell_type": "code",
   "execution_count": 69,
   "metadata": {},
   "outputs": [
    {
     "name": "stdout",
     "output_type": "stream",
     "text": [
      "Значение x_alpha:  10.644640675668422\n",
      "Значение хи-квадрат с 6 степенями свободы: 0.010879329796724178\n"
     ]
    }
   ],
   "source": [
    "x_a = st.chi2.ppf(1 - alpha_2, 6)\n",
    "print(\"Значение x_alpha: \", x_a)\n",
    "\n",
    "chi2 =  st.chi2.cdf(1 - alpha_2, 6)\n",
    "print(\"Значение хи-квадрат с 6 степенями свободы:\", chi2)"
   ]
  },
  {
   "cell_type": "markdown",
   "metadata": {},
   "source": [
    "$\\chi^2 < X_{\\alpha}$ - гипотеза принимается"
   ]
  },
  {
   "cell_type": "code",
   "execution_count": 70,
   "metadata": {},
   "outputs": [
    {
     "name": "stdout",
     "output_type": "stream",
     "text": [
      "Наибольшее значение уровня значимости: 0.0\n"
     ]
    }
   ],
   "source": [
    "max_alpha = st.chi2.cdf(chi2, value)\n",
    "print(f'Наибольшее значение уровня значимости: {max_alpha}')"
   ]
  },
  {
   "cell_type": "markdown",
   "metadata": {},
   "source": [
    "Сформулируем гипотезы:\n",
    "\n",
    "$$\n",
    "H_0: X \\sim P_{\\lambda}\n",
    "\\newline\n",
    "H_A: X \\not\\sim P_{\\lambda}\n",
    "$$\n"
   ]
  },
  {
   "cell_type": "markdown",
   "metadata": {},
   "source": [
    "Интервалы и количество элементов выборки, которые входят в них:"
   ]
  },
  {
   "cell_type": "code",
   "execution_count": 71,
   "metadata": {},
   "outputs": [
    {
     "name": "stdout",
     "output_type": "stream",
     "text": [
      "Интервал: (-0.97; 0.5], Количество: 7\n",
      "Интервал: (0.5; 1], Количество: 9\n",
      "Интервал: (1; 2], Количество: 6\n",
      "Интервал: (2; 3], Количество: 9\n",
      "Интервал: (3; 4], Количество: 5\n",
      "Интервал: (4; 5], Количество: 6\n",
      "Интервал: (5; 15.12), Количество: 8\n"
     ]
    }
   ],
   "source": [
    "obs = []\n",
    "for i, (interval, count) in enumerate(zip(intervals, hist)):\n",
    "    inclusive = i == len(intervals) - 1 \n",
    "    \n",
    "    if inclusive:\n",
    "        vs = variation_series[(variation_series > interval[0]) & (variation_series < interval[1])]\n",
    "        print(f\"Интервал: ({interval[0]}; {interval[1]}), Количество: {len(vs)}\")\n",
    "    else:\n",
    "        vs=variation_series[(variation_series > interval[0]) & (variation_series <= interval[1])]\n",
    "        print(f\"Интервал: ({interval[0]}; {interval[1]}], Количество: {len(vs)}\")\n",
    "    obs.append(len(vs))"
   ]
  },
  {
   "cell_type": "markdown",
   "metadata": {},
   "source": [
    "Посчитаем гипотетические вероятности попадения в интервали, а также ожидаемые частоты:"
   ]
  },
  {
   "cell_type": "code",
   "execution_count": 72,
   "metadata": {},
   "outputs": [
    {
     "name": "stdout",
     "output_type": "stream",
     "text": [
      "np_10 = 50 * 0.7940979165844471 = 39.70489582922235\n",
      "np_20 = 50 * 0.11134471153173175 = 5.5672355765865875\n",
      "np_30 = 50 * 0.06947307067706554 = 3.473653533853277\n",
      "np_40 = 50 * 0.017619966999433245 = 0.8809983499716623\n",
      "np_50 = 50 * 0.005121391371381345 = 0.25606956856906726\n",
      "np_60 = 50 * 0.0015840580600077203 = 0.07920290300038602\n",
      "np_70 = 50 * 0.0007588691853166463 = 0.03794345926583231\n"
     ]
    }
   ],
   "source": [
    "formula = lambda x: st.gamma.cdf(x, lambda_0)\n",
    "\n",
    "probabilities = []\n",
    "for interval in intervals:\n",
    "    probabilities.append(formula(interval[-1]) - formula(interval[0]))\n",
    "\n",
    "expected = []\n",
    "for i in range(len(probabilities)):\n",
    "    expected.append(size * probabilities[i])\n",
    "    print(f'np_{i + 1}0 = {size} * {probabilities[i]} = {expected[i]}')"
   ]
  },
  {
   "cell_type": "markdown",
   "metadata": {},
   "source": [
    "Теперь высчитаем критерий $\\chi^2$:"
   ]
  },
  {
   "cell_type": "code",
   "execution_count": 81,
   "metadata": {},
   "outputs": [
    {
     "name": "stdout",
     "output_type": "stream",
     "text": [
      "Значение статистики критерия 2306.967125643617\n"
     ]
    }
   ],
   "source": [
    "print(\"Значение статистики критерия\", value)"
   ]
  },
  {
   "cell_type": "markdown",
   "metadata": {},
   "source": [
    "Проверим гипотезу на уровне значимости $\\alpha_2 = 0.1$\n",
    "\n",
    "\n",
    "Выбираем $X_{\\alpha}$: $K_{7 - 2}(X_{\\alpha}) = 1 - \\alpha = 0.9$\n",
    "\n",
    "Тогда:"
   ]
  },
  {
   "cell_type": "code",
   "execution_count": 84,
   "metadata": {},
   "outputs": [
    {
     "name": "stdout",
     "output_type": "stream",
     "text": [
      "Значение x_alpha:  9.236356899781123\n",
      "Значение хи-квадрат с 5 степенями свободы: 0.029778361590214426\n"
     ]
    }
   ],
   "source": [
    "x_a = st.chi2.ppf(1 - alpha_2, 5)\n",
    "print(\"Значение x_alpha: \", x_a)\n",
    "\n",
    "chi2 =  st.chi2.cdf(1 - alpha_2, 5)\n",
    "print(\"Значение хи-квадрат с 5 степенями свободы:\", chi2)"
   ]
  },
  {
   "cell_type": "markdown",
   "metadata": {},
   "source": [
    "$\\chi^2 < X_{\\alpha}$ - гипотеза принимается"
   ]
  },
  {
   "cell_type": "markdown",
   "metadata": {},
   "source": [
    "Найдем наибольшее значение уровня значимости, на котором еще нет оснований отвергнуть данную гипотезу."
   ]
  },
  {
   "cell_type": "code",
   "execution_count": 85,
   "metadata": {},
   "outputs": [
    {
     "name": "stdout",
     "output_type": "stream",
     "text": [
      "Наибольшее значение уровня значимости:  0.0\n"
     ]
    }
   ],
   "source": [
    "max_alpha = st.chi2.cdf(chi2, value)\n",
    "print('Наибольшее значение уровня значимости: ', max_alpha)"
   ]
  },
  {
   "cell_type": "markdown",
   "metadata": {},
   "source": [
    "**i.h Построить наиболее мощный критерий проверки простой гипотезы о показательности с параметром $\\lambda = \\lambda_0$ при альтернативе показательности с параметром $\\lambda = \\lambda_1$. Проверить гипотезу на уровне значимости $\\alpha_2$. Что получится, если поменять местами основную и альтернативную гипотезы?**"
   ]
  },
  {
   "cell_type": "markdown",
   "metadata": {},
   "source": [
    "Сформулируем гипотезы:\n",
    "\n",
    "$$\n",
    "H_0: \\lambda = \\lambda_0\n",
    "\\newline\n",
    "H_A: \\lambda = \\lambda_1\n",
    "$$\n"
   ]
  },
  {
   "cell_type": "markdown",
   "metadata": {},
   "source": [
    "Тогда:"
   ]
  },
  {
   "cell_type": "markdown",
   "metadata": {},
   "source": [
    "$$LR(\\overline X, \\lambda_0, \\lambda_1) = \\frac{L(\\overline X)}{L(\\overline X, \\lambda_0)} = \\frac{\\lambda_1^{\\frac{n}{2}} \\exp(-\\frac{\\lambda_1}{2}\\sum\\limits_{i=1}^n X_i)}{\\lambda_0^{\\frac{n}{2}} \\exp(-\\frac{\\lambda_0}{2}\\sum\\limits_{i=1}^n X_i)}$$\n",
    "\n",
    "$$LR(\\overline X, \\lambda_0, \\lambda_1) > c$$\n",
    "\n",
    "$$\n",
    "\\frac{n}{2}\\ln(\\frac{\\lambda_1}{\\lambda_0}) + \\sum_{i=1}^n X_i \\cdot \\frac{\\lambda_0 - \\lambda_1}{2} > \\ln(c)\n",
    "$$"
   ]
  },
  {
   "cell_type": "code",
   "execution_count": 93,
   "metadata": {},
   "outputs": [
    {
     "name": "stdout",
     "output_type": "stream",
     "text": [
      "n/2 * ln(lambda_1/lambda_0) =  -6.940793414956987\n",
      "(lambda_0 - lambda_1) / 2 =  0.04000000000000001\n"
     ]
    }
   ],
   "source": [
    "print('n/2 * ln(lambda_1/lambda_0) = ', size / 2 * np.log(lambda_1/lambda_0))\n",
    "print('(lambda_0 - lambda_1) / 2 = ', (lambda_0 - lambda_1) / 2) "
   ]
  },
  {
   "cell_type": "markdown",
   "metadata": {},
   "source": [
    "$$\n",
    "\\sum_{i=1}^n X_i < \\frac{\\ln(c) + 6.94}{0.04} = c*\n",
    "$$"
   ]
  },
  {
   "cell_type": "markdown",
   "metadata": {},
   "source": [
    "Тогда:"
   ]
  },
  {
   "cell_type": "markdown",
   "metadata": {},
   "source": [
    "$$\n",
    "P_{\\lambda_0}(\\sum\\limits_{i=1}^{n} X_i > c*) + p \\cdot P_{\\lambda_0}(\\sum\\limits_{i=1}^n X_i = c*) = \\alpha_2 \n",
    "$$\n",
    "\n",
    "$$\n",
    "P_{\\lambda_0}(\\sum\\limits_{i=1}^{n} X_i > c*) = 1 - F_{n, \\frac{1}{\\lambda}}(x_{\\alpha}) < \\alpha_2 \\Rightarrow\n",
    "$$\n",
    "\n",
    "$$\n",
    "P_{\\lambda_0}(\\sum\\limits_{i=1}^{n} X_i = c*) = F_{n, \\frac{1}{\\lambda}}(x_{\\alpha}) - F_{n, \\frac{1}{\\lambda}}(x_{\\alpha} - 1) > \\alpha_2\n",
    "$$"
   ]
  },
  {
   "cell_type": "markdown",
   "metadata": {},
   "source": [
    "Вычислим p по формуле:\n",
    "\n",
    "$$\n",
    "p = \\frac{\\alpha_2 - 1 + F_{n, \\frac{1}{\\lambda}}(x_{\\alpha})}{F_{n, \\frac{1}{\\lambda}}(x_{\\alpha}) - F_{n, \\frac{1}{\\lambda}}(x_{\\alpha} - 1)}\n",
    "$$"
   ]
  },
  {
   "cell_type": "code",
   "execution_count": 117,
   "metadata": {},
   "outputs": [
    {
     "name": "stdout",
     "output_type": "stream",
     "text": [
      "c* = 124.78510000002606\n"
     ]
    }
   ],
   "source": [
    "c_critical = 124\n",
    "gamma = lambda x: st.gamma.cdf(x, a=size, scale=1.0 / lambda_0)\n",
    "\n",
    "while gamma(c_critical) <= alpha_2:\n",
    "    c_critical += 1e-4\n",
    "\n",
    "print(\"c* =\", c_critical)\n"
   ]
  },
  {
   "cell_type": "code",
   "execution_count": 116,
   "metadata": {},
   "outputs": [
    {
     "name": "stdout",
     "output_type": "stream",
     "text": [
      "p = -88.53928590307655\n",
      "Сумма x_i = 152.36\n",
      "гипотеза отвергается\n"
     ]
    }
   ],
   "source": [
    "p = (alpha_2 - 1 + gamma(c_critical)) / (gamma(c_critical) - gamma(c_critical - 1))\n",
    "print(\"p =\", p)\n",
    "\n",
    "print(\"Сумма x_i =\", np.sum(variation_series))\n",
    "\n",
    "result = 'гипотеза принимается' if c_critical > np.sum(variation_series) else 'гипотеза отвергается'\n",
    "print(result)"
   ]
  },
  {
   "cell_type": "markdown",
   "metadata": {},
   "source": [
    "Поменяем местами гипотезы:\n",
    "\n",
    "$$\n",
    "H_0: \\lambda = \\lambda_1\n",
    "\\newline\n",
    "H_A: \\lambda = \\lambda_0\n",
    "$$"
   ]
  },
  {
   "cell_type": "markdown",
   "metadata": {},
   "source": [
    "Тогда:"
   ]
  },
  {
   "cell_type": "markdown",
   "metadata": {},
   "source": [
    "$$LR(\\overline X, \\lambda_1, \\lambda_0) = \\frac{L(\\overline X, \\lambda_0)}{L(\\overline X, \\lambda_0)} = \\frac{\\lambda_0^{\\frac{n}{2}} \\exp(-\\frac{\\lambda_0}{2}\\sum\\limits_{i=1}^n X_i)}{\\lambda_1^{\\frac{n}{2}} \\exp(-\\frac{\\lambda_1}{2}\\sum\\limits_{i=1}^n X_i)}$$\n",
    "\n",
    "$$LR(\\overline X, \\lambda_1, \\lambda_0) > c$$\n",
    "\n",
    "$$\n",
    "\\frac{n}{2}\\ln(\\frac{\\lambda_0}{\\lambda_1}) + \\sum_{i=1}^n X_i \\cdot \\frac{\\lambda_1 - \\lambda_0}{2} > \\ln(c)\n",
    "$$"
   ]
  },
  {
   "cell_type": "code",
   "execution_count": 115,
   "metadata": {},
   "outputs": [
    {
     "name": "stdout",
     "output_type": "stream",
     "text": [
      "n/2 * ln(lambda_0/lambda_1) =  6.940793414956989\n",
      "(lambda_1 - lambda_0) / 2 =  -0.04000000000000001\n"
     ]
    }
   ],
   "source": [
    "print('n/2 * ln(lambda_0/lambda_1) = ', size / 2 * np.log(lambda_0/lambda_1))\n",
    "print('(lambda_1 - lambda_0) / 2 = ', (lambda_1 - lambda_0) / 2) "
   ]
  },
  {
   "cell_type": "markdown",
   "metadata": {},
   "source": [
    "$$\n",
    "\\sum_{i=1}^n X_i < \\frac{\\ln(c) - 6.94}{-0.04} = c*\n",
    "$$"
   ]
  },
  {
   "cell_type": "markdown",
   "metadata": {},
   "source": [
    "Тогда:"
   ]
  },
  {
   "cell_type": "markdown",
   "metadata": {},
   "source": [
    "$$\n",
    "P_{\\lambda_1}(\\sum\\limits_{i=1}^{n} X_i > c*) + p \\cdot P_{\\lambda_1}(\\sum\\limits_{i=1}^n X_i = c*) = \\alpha_2 \n",
    "$$\n",
    "\n",
    "$$\n",
    "P_{\\lambda_1}(\\sum\\limits_{i=1}^{n} X_i \\leq c*) = F_{n, \\frac{1}{\\lambda}}(x_{\\alpha}) > \\alpha_2 \\Rightarrow\n",
    "$$\n",
    "\n",
    "$$\n",
    "P_{\\lambda_1}(\\sum\\limits_{i=1}^{n} X_i = c*) = F_{n, \\frac{1}{\\lambda}}(x_{\\alpha}) - F_{n, \\frac{1}{\\lambda}}(x_{\\alpha} - 1) > \\alpha_2\n",
    "$$"
   ]
  },
  {
   "cell_type": "markdown",
   "metadata": {},
   "source": [
    "Вычислим p по формуле:\n",
    "\n",
    "$$\n",
    "p = \\frac{\\alpha_2 - F_{n, \\frac{1}{\\lambda}}(x_{\\alpha})}{F_{n, \\frac{1}{\\lambda}}(x_{\\alpha}) - F_{n, \\frac{1}{\\lambda}}(x_{\\alpha} - 1)}\n",
    "$$"
   ]
  },
  {
   "cell_type": "code",
   "execution_count": 120,
   "metadata": {},
   "outputs": [
    {
     "name": "stdout",
     "output_type": "stream",
     "text": [
      "c* = 164.71630000002378\n"
     ]
    }
   ],
   "source": [
    "c_critical = 164\n",
    "gamma = lambda x: st.gamma.cdf(x, a=size, scale=1.0 / lambda_1)\n",
    "\n",
    "while gamma(c_critical) <= alpha_2:\n",
    "    c_critical += 1e-4\n",
    "\n",
    "print(\"c* =\", c_critical)"
   ]
  },
  {
   "cell_type": "code",
   "execution_count": 121,
   "metadata": {},
   "outputs": [
    {
     "name": "stdout",
     "output_type": "stream",
     "text": [
      "p = -2.906293558198712e-05\n",
      "Сумма x_i = 152.36\n",
      "гипотеза принимается\n"
     ]
    }
   ],
   "source": [
    "p = (alpha_2 - gamma(c_critical)) / (gamma(c_critical) - gamma(c_critical - 1))\n",
    "print(\"p =\", p)\n",
    "\n",
    "print(\"Сумма x_i =\", np.sum(variation_series))\n",
    "\n",
    "result = 'гипотеза принимается' if c_critical > np.sum(variation_series) else 'гипотеза отвергается'\n",
    "print(result)"
   ]
  },
  {
   "cell_type": "markdown",
   "metadata": {},
   "source": [
    "## Выводы"
   ]
  },
  {
   "cell_type": "markdown",
   "metadata": {},
   "source": [
    "В ходе выполнения практической работы были изучены и реализованы методов математической статистики для решения задач статистического анализа. После выполнения были изучены основные концепции и методы. Также были получены навыки проведения статистических тестов, анализа выборочных данных, построения доверительных интервалов, проверки гипотез. Для разных семейств распределений строили оценки, асимптотические интервалы, гипотезы."
   ]
  }
 ],
 "metadata": {
  "kernelspec": {
   "display_name": "base",
   "language": "python",
   "name": "python3"
  },
  "language_info": {
   "codemirror_mode": {
    "name": "ipython",
    "version": 3
   },
   "file_extension": ".py",
   "mimetype": "text/x-python",
   "name": "python",
   "nbconvert_exporter": "python",
   "pygments_lexer": "ipython3",
   "version": "3.10.13"
  },
  "orig_nbformat": 4
 },
 "nbformat": 4,
 "nbformat_minor": 2
}
