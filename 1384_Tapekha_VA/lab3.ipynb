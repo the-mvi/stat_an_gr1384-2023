{
 "cells": [
  {
   "cell_type": "markdown",
   "metadata": {},
   "source": [
    "# Практическая работа №3: Регрессионный анализ"
   ]
  },
  {
   "cell_type": "markdown",
   "metadata": {},
   "source": [
    "Выполнил студент гр. 1384 Тапеха Владимир. Вариант №17."
   ]
  },
  {
   "cell_type": "markdown",
   "metadata": {},
   "source": [
    "## Цель работы"
   ]
  },
  {
   "cell_type": "markdown",
   "metadata": {},
   "source": [
    "Ознакомление с основными положениями метода наименьших квадратов (МНК), со статистическими свойствами МНК-оценок, с понятием функции регрессии и роли МНК в регрессионном анализе."
   ]
  },
  {
   "cell_type": "markdown",
   "metadata": {},
   "source": [
    "## Основные теоретические положения"
   ]
  },
  {
   "cell_type": "markdown",
   "metadata": {},
   "source": [
    "*Линейная регрессия* некоторой зависимой переменной y на набор независимых переменных $x = (x_1, …, x_n)$, где n – это число наблюдений, предполагает, что линейное отношение между y и x: $y =\\beta_0  + \\beta_1 x_1 + ⋯ + \\beta_n x_n + \\varepsilon$ - уравнение регрессии. $\\beta_0, \\beta_1, …, \\beta_n$ – коэффициенты регрессии (параметры), и $\\varepsilon$ – случайная ошибка.\n",
    "\n",
    "*Метод Наименьших Квадратов*\n",
    "\n",
    "$$RSS(\\beta)=\\left\\| Y-X^{\\intercal}\\beta \\right\\|=(Y-X^{\\intercal}\\beta)^{\\intercal}\\cdot(Y-X^{\\intercal}\\beta)\\to min\\beta$$\n",
    "\n",
    "Нормальные уравнения: $$XX^{\\intercal}\\beta=XY$$\n",
    "\n",
    "Решение системы нормальных уравнений в регулярном случае: $$\\widehat{\\beta}=(XX^{\\intercal})^{-1}XY$$\n",
    "\n",
    "$$RSS(\\beta)=\\sum_{i=1}^{n}\\left( Y_{i}-\\sum_{j=1}^{m}x_{ji}\\beta_{j} \\right)^{2}$$\n",
    "\n",
    "$$\\frac{\\partial RSS}{\\partial \\beta_{k}} = -2\\sum_{i=1}^{n}x_{ki}\\left(Y_{i}- \\sum_{j=1}^{m}x_{ji}\\beta_{j}\\right)=0, k=\\overline{1,m}$$\n",
    "\n",
    "*Несмещённая оценка дисперсии $(S^{2})$*\n",
    "\n",
    "$$S^{2} = \\frac{SS_{e}}{n-r} = \\frac{RSS(\\widehat{\\beta})}{n-r}$$\n",
    "\n",
    "$SS_{e}=RSS(\\widehat{\\beta})$, а r-ранг матрицы X\n",
    "\n",
    "*ДНО функции:*\n",
    "$$\\psi=с^{\\intercal}\\beta$$\n",
    "\n",
    "*МНК-оценка:* $$\\widehat{\\psi}=с^{\\intercal}\\beta$$\n",
    "\n",
    "*Элемент дисперсии оценки:* $$b_{\\psi}=c^{\\intercal}(XX^{\\intercal})^{-1}c$$\n",
    "\n",
    "*Распределение* $$\\widehat{\\psi}\\sim \\mathcal{N}(\\psi,\\sigma^{2}b)$$\n",
    "\n",
    "$$\\frac{\\widehat{\\psi}-\\psi}{S\\sqrt{b}}\\sim \\mathcal{S}_{n-r}$$\n",
    "\n",
    "*Доверительный интервал уровня доверия $1-\\alpha*: \\left[ \\widehat{\\psi} - X_{\\alpha}S\\sqrt{b};\\widehat{\\psi} + X_{\\alpha}S\\sqrt{b} \\right], где X_{\\alpha}: \\mathcal{S}_{n-r}(X_{\\alpha})=1-\\frac{\\alpha}{2}$\n",
    "\n",
    "Уравнение $$A_{\\alpha}=\\left\\{ \\overrightarrow{X}:(\\overrightarrow{X}-\\widehat{\\psi})^{\\intercal}B^{-1}(\\overrightarrow{X}-\\widehat{\\psi})\\le qS^{2}X_{\\alpha} \\right\\}$$\n",
    " представляет собой уравнение доверительного эллипсоида. Здесь:\n",
    "\n",
    "- $\\widehat{\\psi}$ - вектор оценок параметров,\n",
    "- $B$ - матрица оценок ковариации,\n",
    "- $S^{2}$ - оценка дисперсии,\n",
    "- q - пороговая точка, связанная с распределением хи-квадрат с \\(n-r\\) степенями свободы,\n",
    "- $X_{\\alpha}$ - значение функции распределения хи-квадрат с (n-r) степенями свободы и уровнем доверия $1-\\alpha$.\n",
    "\n",
    "*Критерий $\\chi^2$* для проверки гипотез основан на справнении теоритической плотности распределения и гистограммы, либо теоритической вероятностной меры и полигона частот.\n",
    "\n",
    "Разобъем множество значений сл. вел. X на $N$ интервалов $I_{1}, ..., I_{N}:$ $I_{i} = (a_{i-1}, a_i], i = \\overline {1,N}$. данные интервалы не пересекаются и покрывают всё множество возможных значений сл. вел. X.\n",
    "\n",
    "Обозначим через $p_{i}$ теоритическую вероятность попадания сл. вел. X в интервал $I_{i}$, при условии, что справедлива $H_{0}$.\n",
    "\n",
    "$p_{i} = P(X \\in I_{i}|H_{0})$\n",
    "\n",
    "Через $n_{i}$ обозначим число наблюдений нашей выборки, попавших в соответветствующий интервал $I_{i}$.\n",
    "\n",
    "$$n_{i} = num(x_{j} \\in I_{i})$$\n",
    "\n",
    "Статистика критерия основана на сравнении относительной частоты и теоритической.\n",
    "\n",
    "$$\\chi^{2}_{набл} = \\sum \\limits_{i=1}^{N} \\frac{n}{p_{i}} \\bigg ( \\frac{n_{i}}{n} - p_{i} \\bigg )^{2} = \\sum \\limits_{i=1}^{N} \\frac{(n_{i} - p_{i} n)^{2}}{n p_{i}} \\sim \\chi^{2}_{N-1}$$\n",
    "\n",
    "*Теорема Колмогорова*\n",
    "\n",
    "$$D_{n}(\\overrightarrow{X}) = \\overset{}{\\underset{X \\in \\mathbb R}{sup}} |F_{0}(X_{i}) - F_{n}(X_{i})|$$\n",
    "\n",
    "$K(z)=1-\\alpha$ - ф-я распределения Колмогорова.\n",
    "\n",
    "$\\mathbb{F}$-критерий\n",
    "\n",
    "$\\mathbb{F}=\\frac{MSR}{MSE}$ - статистика распределения\n",
    "\n",
    "где $MSR=\\frac{SSR}{p}=\\frac{\\sum_{i=1}^{n}\\left(\\sum_{j=1}^{n}x_{ji} \\beta_j - \\overline{Y}\\right)^2}{p}$ - среднеквадратичное отклонение объясненных отклонений\n",
    "\n",
    "$MSE = \\frac{SS_e}{n-p}=\\frac{\\sum_{i=1}^{n}\\left( Y_{i}-\\sum_{j=1}^{m}x_{ji}\\beta_{j} \\right)^{2}}{n-p}$, где $SS_{e}=RSS(\\beta)$ - среднеквадратичное отклонение остатков\n"
   ]
  },
  {
   "cell_type": "markdown",
   "metadata": {},
   "source": [
    "## Постановка задачи"
   ]
  },
  {
   "cell_type": "markdown",
   "metadata": {},
   "source": [
    "Результаты статистического эксперимента представлены в виде двух переменных. Требуется оценить характер (случайной) зависимости переменной Y от переменной X. Полученные результаты содержательно проинтерпретировать.\n",
    "\n",
    "Результаты статистического эксперимента приведены в таблице 1. Требуется оценить характер (случайной) зависимости переменной У от переменной Х.\n",
    "\n",
    "1. Построить графически результаты эксперимента. Сформулировать линейную регрессионную модель переменной У по переменной Х. Построить МНК оценки параметров сдвига $\\beta_0$ и масштаба $\\beta_1$. Построить полученную линию регрессии. Оценить визуально соответствие полученных данных и построенной оценки.\n",
    "\n",
    "2. Построить и интерпретировать несмещённую оценку дисперсии. На базе ошибок построить гистограмму с шагом $h$. Проверить гипотезу нормальности ошибок на уровне значимости $\\alpha$ по $\\chi^2$. Оценить расстояние полученной оценки до класса нормальных распределений по Колмогорову. Визуально оценить данный факт.\n",
    "\n",
    "3. В предположении нормальности ошибок построить доверительные интервалы для параметров $\\beta_0$ и $\\beta_1$ уровня доверия $1 - \\alpha$. Построить доверительный эллипс уровня доверия $1 - \\alpha$ для $(\\beta_0, \\beta_1)$ (вычислить его полуоси).\n",
    "\n",
    "4. Сформулировать гипотезу независимости переменной У от переменной Х. Провести проверку значимости.\n",
    "\n",
    "5. Сформулировать модель, включающую дополнительный член с $X^2$. Построить МНК оценки параметров $\\beta_0$, $\\beta_1$, $\\beta_2$ в данной модели. Изобразить графически полученную регрессионную зависимость.\n",
    "\n",
    "6. Построить несмещённую оценку дисперсии. Провести исследование нормальности ошибок как в пункте 2.\n",
    "\n",
    "7. В предположении нормальности ошибок построить доверительные интервалы для параметров $\\beta_0, \\beta_1, \\beta_2$ уровня доверия $1 - \\alpha$. Написать уравнение доверительного эллипсоида уровня доверия $1 - \\alpha$.\n",
    "\n",
    "8. Сформулировать гипотезу линейной регрессионной зависимости переменной Y от переменной Х и проверить её значимость на уровне $\\alpha$.\n",
    "\n",
    "9. Интерпретировать полученные результаты. Написать отчёт.\n",
    "\n",
    "$\\alpha = 0.02$; $h = 1.20$"
   ]
  },
  {
   "cell_type": "markdown",
   "metadata": {},
   "source": [
    "## Выполнение работы"
   ]
  },
  {
   "cell_type": "markdown",
   "metadata": {},
   "source": [
    "Импортируем библиотеки."
   ]
  },
  {
   "cell_type": "code",
   "execution_count": 1,
   "metadata": {},
   "outputs": [],
   "source": [
    "import numpy as np\n",
    "import scipy.stats as stats\n",
    "import statsmodels.api as sm\n",
    "import matplotlib.pyplot as plt"
   ]
  },
  {
   "cell_type": "markdown",
   "metadata": {},
   "source": [
    "Добавим входные данные."
   ]
  },
  {
   "cell_type": "code",
   "execution_count": 2,
   "metadata": {},
   "outputs": [],
   "source": [
    "Y = '4.08 5.96 3.20 3.53 1.21 3.17 2.38 5.28 4.04 3.85 7.08 0.44 4.26 4.81 3.48 2.59 3.33 3.67 2.73 4.41 6.66 4.33 4.82 4.49 1.63 2.33 2.74 5.29 2.27 3.76 2.38 3.91 4.53 3.75 4.94 3.50 2.80 0.10 4.75 3.64 6.96 4.20 2.42 2.83 2.13 3.75 4.05 2.78 3.88 3.05'\n",
    "X = '4 1 2 6 4 3 3 4 3 2 3 5 4 2 1 3 4 3 1 3 1 2 2 4 3 5 4 3 1 4 4 5 3 4 4 4 4 6 3 5 2 2 6 5 5 2 3 5 2 4'\n",
    "alpha = 0.02\n",
    "h = 1.20\n",
    "\n",
    "Y = np.array(list(map(float, Y.split())))\n",
    "X = np.array(list(map(int, X.split())))\n",
    "size = len(Y)"
   ]
  },
  {
   "cell_type": "markdown",
   "metadata": {},
   "source": [
    "#### №1. Построить графически результаты эксперимента. Сформулировать линейную регрессионную модель переменной У по переменной Х. Построить МНК оценки параметров сдвига $\\beta_0$ и масштаба $\\beta_1$. Построить полученную линию регрессии. Оценить визуально соответствие полученных данных и построенной оценки."
   ]
  },
  {
   "cell_type": "markdown",
   "metadata": {},
   "source": [
    "Рассмотрим зависимость X от Y. Линейная регрессионая модель выглядит так:\n",
    "\n",
    "$$\n",
    "    Y = \\beta_0 + \\beta_1 X + \\mathbb \\varepsilon\n",
    "$$"
   ]
  },
  {
   "cell_type": "markdown",
   "metadata": {},
   "source": [
    "Построим график зависимости Y от X."
   ]
  },
  {
   "cell_type": "code",
   "execution_count": 3,
   "metadata": {},
   "outputs": [
    {
     "data": {
      "image/png": "[encoded data removed]",
      "text/plain": [
       "<Figure size 640x480 with 1 Axes>"
      ]
     },
     "metadata": {},
     "output_type": "display_data"
    }
   ],
   "source": [
    "plt.scatter(X, Y)\n",
    "\n",
    "plt.xlabel('X')\n",
    "plt.ylabel('Y')\n",
    "plt.title('График зависимости Y от X')\n",
    "\n",
    "plt.show()"
   ]
  },
  {
   "cell_type": "markdown",
   "metadata": {},
   "source": [
    "Для того, чтобы узнать параметры сдвига $\\beta_0$ и масштаба $\\beta_1$ используем МНК."
   ]
  },
  {
   "cell_type": "markdown",
   "metadata": {},
   "source": [
    "В модели вида:\n",
    "\n",
    "$$\n",
    "\\begin{cases}\n",
    "  Y_1 - \\beta_0 - \\beta_1 X_1 = 0 \\\\\n",
    "  Y_2 - \\beta_0 - \\beta_1 X_2 = 0 \\\\\n",
    "  \\dots  \\\\\n",
    "  Y_n - \\beta_0 - \\beta_1 X_n = 0\n",
    "\\end{cases}\n",
    "\\Leftrightarrow\n",
    "\\begin{pmatrix}\n",
    "  Y_1 \\\\\n",
    "  Y_2 \\\\\n",
    "  \\vdots \\\\\n",
    "  Y_n\n",
    "\\end{pmatrix}\n",
    "=\n",
    "X^\\intercal\n",
    "\\begin{pmatrix}\n",
    "\\beta_0 \\\\ \n",
    "\\beta_1 \n",
    "\\end{pmatrix}\n",
    "+\n",
    "\\begin{pmatrix}\n",
    "\\varepsilon_1 \\\\ \n",
    "\\varepsilon_2 \\\\ \n",
    "\\vdots \\\\\n",
    "\\varepsilon_n\n",
    "\\end{pmatrix}, \n",
    "$$\n",
    "где \n",
    "$\n",
    "X = \n",
    "\\begin{pmatrix}\n",
    "1 & 1 & \\dots & 1 \\\\\n",
    "X_1 & X_2 & \\dots & X_n\n",
    "\\end{pmatrix}\n",
    "$\n"
   ]
  },
  {
   "cell_type": "markdown",
   "metadata": {},
   "source": [
    "Оценка по МНК для параметров $\\beta_0$, $\\beta_1$:\n",
    "$$\n",
    "    \\hat\\beta = (XX^\\intercal)^{-1}XY\n",
    "$$\n",
    "\n",
    "$$\n",
    "\\hat\\beta = \n",
    "\\begin{pmatrix}\n",
    "    \\hat\\beta_0 \\\\\n",
    "    \\hat\\beta_1\n",
    "\\end{pmatrix}\n",
    "$$"
   ]
  },
  {
   "cell_type": "code",
   "execution_count": 4,
   "metadata": {},
   "outputs": [
    {
     "name": "stdout",
     "output_type": "stream",
     "text": [
      "Наклон равен -0.477941433566434,\n",
      "Сдвиг равен 5.249283216783217\n"
     ]
    },
    {
     "data": {
      "image/png": "[encoded data removed]",
      "text/plain": [
       "<Figure size 640x480 with 1 Axes>"
      ]
     },
     "metadata": {},
     "output_type": "display_data"
    }
   ],
   "source": [
    "plt.scatter(X, Y, color='blue', label='Точки')\n",
    "\n",
    "coefficients = np.polyfit(X, Y, 1)\n",
    "polinom = np.poly1d(coefficients)\n",
    "\n",
    "beta1, beta0 = coefficients\n",
    "\n",
    "print(f'Наклон равен {beta1},\\nСдвиг равен {beta0}')\n",
    "\n",
    "x_line = np.linspace(min(X), max(X), 100)\n",
    "y_line = polinom(x_line)\n",
    "\n",
    "plt.plot(x_line, y_line, color='red', label='Линейная регрессия')\n",
    "\n",
    "plt.xlabel('X')\n",
    "plt.ylabel('Y')\n",
    "plt.title('Линейная регрессия с использованием МНК')\n",
    "\n",
    "plt.legend()\n",
    "plt.show()"
   ]
  },
  {
   "cell_type": "markdown",
   "metadata": {},
   "source": [
    "#### 2. Построить и интерпретировать несмещённую оценку дисперсии. На базе ошибок построить гистограмму с шагом $h$. Проверить гипотезу нормальности ошибок на уровне значимости $\\alpha$ по $\\chi^2$. Оценить расстояние полученной оценки до класса нормальных распределений по Колмогорову. Визуально оценить данный факт."
   ]
  },
  {
   "cell_type": "markdown",
   "metadata": {},
   "source": [
    "Вектор ошибок вычисляется по формуле:\n",
    "\n",
    "$$\n",
    "    \\varepsilon = RSS(\\hat\\beta)= \\sum_{i=1}^n (Y_i - \\hat\\beta_0 - \\hat\\beta_1 X_i)^2\n",
    "$$"
   ]
  },
  {
   "cell_type": "markdown",
   "metadata": {},
   "source": [
    "Тогда несмещенная оценка дисперсии:\n",
    "\n",
    "$$\n",
    "\\hat\\sigma^2 = S^2 = \\frac{\\varepsilon}{n - r} = \\frac\n",
    "{\\sum_{i=1}^n (Y_i - \\hat\\beta_0 - \\hat\\beta_1 X_i)^2}{n - r}\n",
    "$$,\n",
    "где n -- размер выборки, r -- количество регрессоров"
   ]
  },
  {
   "cell_type": "code",
   "execution_count": 5,
   "metadata": {},
   "outputs": [
    {
     "name": "stdout",
     "output_type": "stream",
     "text": [
      "Несмещенная оценка дисперсии: 1.678678961793415\n"
     ]
    }
   ],
   "source": [
    "r = 2\n",
    "\n",
    "errors = Y - beta0 - beta1 * X\n",
    "rss = np.sum((errors)**2)\n",
    "sigma_sq = rss / (size - r)\n",
    "\n",
    "print('Несмещенная оценка дисперсии:', sigma_sq)"
   ]
  },
  {
   "cell_type": "markdown",
   "metadata": {},
   "source": [
    "Построим гистограмму с шагом h."
   ]
  },
  {
   "cell_type": "code",
   "execution_count": 6,
   "metadata": {},
   "outputs": [
    {
     "data": {
      "image/png": "[encoded data removed]",
      "text/plain": [
       "<Figure size 640x480 with 1 Axes>"
      ]
     },
     "metadata": {},
     "output_type": "display_data"
    }
   ],
   "source": [
    "bins = np.arange(min(errors), max(errors), h) \n",
    "\n",
    "plt.hist(errors, bins=bins, edgecolor='black')\n",
    "plt.title('Гистограмма с несмещенной оценкой дисперсии')\n",
    "plt.xlabel('Значения несмещенной оценки дисперсии')\n",
    "plt.ylabel('Частота')\n",
    "plt.show()"
   ]
  },
  {
   "cell_type": "markdown",
   "metadata": {},
   "source": [
    "Проверь гипотезу нормальности на уровне $\\alpha$"
   ]
  },
  {
   "cell_type": "code",
   "execution_count": 7,
   "metadata": {},
   "outputs": [
    {
     "name": "stdout",
     "output_type": "stream",
     "text": [
      "Значение статистики хи-квадрат: 9.520000000000005\n"
     ]
    }
   ],
   "source": [
    "observed, edges = np.histogram(errors, bins=bins)\n",
    "expected = size * np.diff(edges) / (max(bins) - min(bins))\n",
    "\n",
    "chi2_stat = lambda i: (observed[i] - expected[i])**2 / expected[i]\n",
    "chi2_stat_sum = np.sum([chi2_stat(i) for i in range(len(expected))])\n",
    "\n",
    "print(\"Значение статистики хи-квадрат:\", chi2_stat_sum)"
   ]
  },
  {
   "cell_type": "code",
   "execution_count": 8,
   "metadata": {},
   "outputs": [
    {
     "name": "stdout",
     "output_type": "stream",
     "text": [
      "Критическое значение хи-квадрат: 11.667843403834778\n"
     ]
    }
   ],
   "source": [
    "critical_value = stats.chi2.ppf(1 - alpha, df=len(edges) - 1)\n",
    "print('Критическое значение хи-квадрат:', critical_value)"
   ]
  },
  {
   "cell_type": "markdown",
   "metadata": {},
   "source": [
    "Так как критическое значение больше значения статистики $\\chi^2$, то ошибки могут иметь нормальное распределение."
   ]
  },
  {
   "cell_type": "markdown",
   "metadata": {},
   "source": [
    "Оценим расстояние полученной оценки до класса нормальных распределений по Колмогорову."
   ]
  },
  {
   "cell_type": "code",
   "execution_count": 9,
   "metadata": {},
   "outputs": [
    {
     "name": "stdout",
     "output_type": "stream",
     "text": [
      "Статистика Колмогорова: 0.09939156666684765\n",
      "P-value: 0.6695923278062822\n"
     ]
    }
   ],
   "source": [
    "ks_statistic, p_value = stats.kstest(errors, 'norm')\n",
    "\n",
    "print(f\"Статистика Колмогорова: {ks_statistic}\")\n",
    "print(f\"P-value: {p_value}\")"
   ]
  },
  {
   "cell_type": "markdown",
   "metadata": {},
   "source": [
    "$p-value > \\alpha$, следовательно оценка соответствует нормальному распределению."
   ]
  },
  {
   "cell_type": "markdown",
   "metadata": {},
   "source": [
    "Теперь визуально оценим данный факт"
   ]
  },
  {
   "cell_type": "code",
   "execution_count": 10,
   "metadata": {},
   "outputs": [
    {
     "data": {
      "image/png": "[encoded data removed]",
      "text/plain": [
       "<Figure size 640x480 with 1 Axes>"
      ]
     },
     "metadata": {},
     "output_type": "display_data"
    }
   ],
   "source": [
    "qqplot = sm.qqplot(errors, line='s') \n",
    "\n",
    "plt.title(\"График ошибок\")\n",
    "plt.xlabel(\"Квантили\")\n",
    "plt.ylabel(\"Ошибки\")\n",
    "\n",
    "plt.show()"
   ]
  },
  {
   "cell_type": "markdown",
   "metadata": {},
   "source": [
    "Точки на графике следуют примерно прямой линии из чего можно сделать вывод о нормальности распределения ошибок."
   ]
  },
  {
   "cell_type": "markdown",
   "metadata": {},
   "source": [
    "#### 3. В предположении нормальности ошибок построить доверительные интервалы для параметров $\\beta_0$ и $\\beta_1$ уровня доверия $1 - \\alpha$. Построить доверительный эллипс уровня доверия $1 - \\alpha$ для $(\\beta_0, \\beta_1)$ (вычислить его полуоси)."
   ]
  },
  {
   "cell_type": "markdown",
   "metadata": {},
   "source": [
    "Найдем доверительные интервалы для параметров $\\beta_0, \\beta_1$"
   ]
  },
  {
   "cell_type": "markdown",
   "metadata": {},
   "source": [
    "$$\n",
    "\\psi = C^\\intercal \\beta\n",
    "$$\n",
    "\n",
    "$$\n",
    "\\beta_\\psi = C^\\intercal (XX^\\intercal)^{-1} C\n",
    "$$\n",
    "\n",
    "$$\n",
    "\\frac{\\hat\\psi - \\psi}{x\\sqrt{b}} \\sim S_{n - r}\n",
    "$$\n",
    "\n",
    "$$\n",
    "x_{\\alpha} = S_{n - r}(x_{\\alpha}) = 1 - \\frac{\\alpha}{2}\n",
    "$$\n",
    "\n",
    "$$\n",
    "\\mathcal{P}_{\\theta}(-x_{\\alpha} \\leq \\frac{\\hat\\psi - \\psi}{x\\sqrt{b}} \\leq x_{\\alpha}) = 1 - \\alpha\n",
    "$$\n",
    "\n",
    "$$\n",
    "\\psi \\in [\\hat\\psi - x_{\\alpha}s\\sqrt{b}; \\hat\\psi + x_{\\alpha}s\\sqrt{b}]\n",
    "$$"
   ]
  },
  {
   "cell_type": "code",
   "execution_count": 11,
   "metadata": {},
   "outputs": [
    {
     "name": "stdout",
     "output_type": "stream",
     "text": [
      "Квантиль x_alpha = 2.4065812732756067\n"
     ]
    }
   ],
   "source": [
    "t = stats.t(size - 2)\n",
    "x_alpha = t.ppf(1 - alpha / 2)\n",
    "\n",
    "print(\"Квантиль x_alpha =\", x_alpha)"
   ]
  },
  {
   "cell_type": "code",
   "execution_count": 12,
   "metadata": {},
   "outputs": [],
   "source": [
    "x_matrix = np.array([[int(i) for i in range(size)], X])\n",
    "\n",
    "b_func = lambda C: C.T @ np.linalg.inv(x_matrix @ x_matrix.T) @ C"
   ]
  },
  {
   "cell_type": "markdown",
   "metadata": {},
   "source": [
    "Для $\\beta_0$:\n",
    "\n",
    "$$\n",
    "C = \n",
    "\\begin{pmatrix}\n",
    "1 \\\\ \n",
    "0\n",
    "\\end{pmatrix}\n",
    "$$"
   ]
  },
  {
   "cell_type": "code",
   "execution_count": 13,
   "metadata": {},
   "outputs": [
    {
     "name": "stdout",
     "output_type": "stream",
     "text": [
      "b = 8.461703567949544e-05\n"
     ]
    }
   ],
   "source": [
    "c = np.array([1, 0])\n",
    "b = b_func(c)\n",
    "\n",
    "print(\"b =\", b)"
   ]
  },
  {
   "cell_type": "markdown",
   "metadata": {},
   "source": [
    "Теперь посчитаем доверительный интервал"
   ]
  },
  {
   "cell_type": "code",
   "execution_count": 14,
   "metadata": {},
   "outputs": [
    {
     "name": "stdout",
     "output_type": "stream",
     "text": [
      "Доверительный интервал [5.220600963920132; 5.277965469646302] уровня 0.98\n"
     ]
    }
   ],
   "source": [
    "left = beta0 - x_alpha * np.sqrt(sigma_sq) * np.sqrt(b)\n",
    "right = beta0 + x_alpha * np.sqrt(sigma_sq) * np.sqrt(b)\n",
    "\n",
    "print(f'Доверительный интервал [{left}; {right}] уровня {1 - alpha}')"
   ]
  },
  {
   "cell_type": "markdown",
   "metadata": {},
   "source": [
    "Для $\\beta_1$:\n",
    "\n",
    "$$\n",
    "C = \n",
    "\\begin{pmatrix}\n",
    "0 \\\\ \n",
    "1\n",
    "\\end{pmatrix}\n",
    "$$"
   ]
  },
  {
   "cell_type": "code",
   "execution_count": 15,
   "metadata": {},
   "outputs": [
    {
     "name": "stdout",
     "output_type": "stream",
     "text": [
      "b = 0.005214395834365249\n"
     ]
    }
   ],
   "source": [
    "c = np.array([0, 1])\n",
    "b = b_func(c)\n",
    "\n",
    "print(\"b =\", b)"
   ]
  },
  {
   "cell_type": "markdown",
   "metadata": {},
   "source": [
    "Теперь посчитаем доверительный интервал"
   ]
  },
  {
   "cell_type": "code",
   "execution_count": 16,
   "metadata": {},
   "outputs": [
    {
     "name": "stdout",
     "output_type": "stream",
     "text": [
      "Доверительный интервал [-0.7030989008712666; -0.2527839662616014] уровня 0.98\n"
     ]
    }
   ],
   "source": [
    "left = beta1 - x_alpha * np.sqrt(sigma_sq) * np.sqrt(b)\n",
    "right = beta1 + x_alpha * np.sqrt(sigma_sq) * np.sqrt(b)\n",
    "\n",
    "print(f'Доверительный интервал [{left}; {right}] уровня {1 - alpha}')"
   ]
  },
  {
   "cell_type": "markdown",
   "metadata": {},
   "source": [
    "Теперь построим для параметров доверительный эллипсоид уровня 1 - $\\alpha$"
   ]
  },
  {
   "cell_type": "markdown",
   "metadata": {},
   "source": [
    "$$\n",
    "A_{\\alpha} = \\left\\{\\psi: \\frac{(x - \\hat\\psi)^\\intercal(C^\\intercal(XX^\\intercal)^{-1}\\cdot C)^{-1}(\\hat\\psi - \\psi)}{qS^2} = \\lambda_1 x^2 + \\lambda_2 y^2 \\leq x_{\\alpha} \\right\\}\n",
    "$$\n",
    "\n",
    "$$\n",
    "x_{\\alpha} = F_{q, n - r}(x_{\\alpha}) = 1 - \\alpha\n",
    "$$"
   ]
  },
  {
   "cell_type": "markdown",
   "metadata": {},
   "source": [
    "Тогда C для парамтеров $\\beta_0$, $\\beta_1$:\n",
    "$$\n",
    "C = \n",
    "\\begin{pmatrix}\n",
    "1 & 0 \\\\\n",
    "0 & 1 \n",
    "\\end{pmatrix}\n",
    "$$"
   ]
  },
  {
   "cell_type": "markdown",
   "metadata": {},
   "source": [
    "Уравнение доверительного эллипса выглядит тогда так:\n",
    "\n",
    "$$\n",
    "\\frac{\\lambda_1}{qS^2 x_{\\alpha}} x^2 + \\frac{\\lambda_2}{qS^2 x_{\\alpha}} y^2 \\leq 1\n",
    "$$"
   ]
  },
  {
   "cell_type": "code",
   "execution_count": 17,
   "metadata": {},
   "outputs": [
    {
     "name": "stdout",
     "output_type": "stream",
     "text": [
      "Собственные числа:\n",
      " [40891.41064916   189.58935084]\n",
      "Собственные векторы: \n",
      "[[ 0.99425389 -0.10704769]\n",
      " [ 0.10704769  0.99425389]]\n",
      "Большая полуось равна 0.00026925204869022404\n",
      "Малая полуось равна 0.05807338883857842 \n"
     ]
    }
   ],
   "source": [
    "xxt = x_matrix @ x_matrix.T\n",
    "\n",
    "values, vectors = np.linalg.eig(xxt)\n",
    "x_alpha = stats.f(2, size - 2).ppf(1 - alpha)\n",
    "\n",
    "large_ax = (2 * np.sqrt(sigma_sq) * x_alpha) / values[0]\n",
    "small_ax = (2 * np.sqrt(sigma_sq) * x_alpha) / values[1]\n",
    "\n",
    "print(f'Собственные числа:\\n {values}\\nСобственные векторы: \\n{vectors}')\n",
    "print(f'Большая полуось равна {large_ax}\\nМалая полуось равна {small_ax} ')"
   ]
  },
  {
   "cell_type": "markdown",
   "metadata": {},
   "source": [
    "$$\n",
    "\\begin{pmatrix}\n",
    "    x \\\\ \n",
    "    y\n",
    "\\end{pmatrix}\n",
    "= \n",
    "\\begin{pmatrix}\n",
    "    0.994 & 0.107 \\\\ \n",
    "    -0.107 & 0.994\n",
    "\\end{pmatrix}\n",
    "\\cdot \n",
    "\\begin{pmatrix}\n",
    "5.249 - \\beta_0 \\\\\n",
    "-0.478 - \\beta_1\n",
    "\\end{pmatrix}\n",
    "= \n",
    "\\begin{pmatrix}\n",
    "5.166 - 0.994 \\beta_0 - 0.107 \\beta_1 \\\\ \n",
    "-1.037 + 0.107 \\beta_0 - 0.994 \\beta_1\n",
    "\\end{pmatrix}\n",
    "$$"
   ]
  },
  {
   "cell_type": "code",
   "execution_count": 41,
   "metadata": {},
   "outputs": [
    {
     "data": {
      "image/png": "[encoded data removed]",
      "text/plain": [
       "<Figure size 500x500 with 1 Axes>"
      ]
     },
     "metadata": {},
     "output_type": "display_data"
    }
   ],
   "source": [
    "denominator = 2 * np.sqrt(sigma_sq) * x_alpha\n",
    "\n",
    "a1 = np.sqrt(values[0] / denominator)\n",
    "b1 = np.sqrt(values[1] / denominator)\n",
    "\n",
    "def first_ellipse_equation(x, y):\n",
    "    return x**2 * a1**2 + y**2 * b1**2\n",
    "\n",
    "def second_ellipse_equation(beta0, beta1):\n",
    "    return ((5.166 - 0.994 * beta0 - 0.107 * beta1) ** 2) * a1**2 + \\\n",
    "           ((-1.037 + 0.107 * beta0 - 0.994 * beta1) ** 2) * b1**2\n",
    "\n",
    "x_vals = np.linspace(-0.5, 0.5, 5000)\n",
    "y_vals = np.linspace(-1, 1, 5000)\n",
    "x, y = np.meshgrid(x_vals, y_vals)\n",
    "Z1 = first_ellipse_equation(x, y)\n",
    "Z2 = second_ellipse_equation(x, y)\n",
    "\n",
    "plt.figure(figsize=(5, 5))\n",
    "\n",
    "contour1 = plt.contour(x, y, Z1, levels=[1], colors='blue', linewidths=2)\n",
    "plt.plot([], [], color='blue', label='beta_0')\n",
    "\n",
    "contour2 = plt.contour(x, y, Z2, levels=[1], colors='red', linewidths=2)\n",
    "plt.plot([], [], color='red', label='beta_1')\n",
    "\n",
    "plt.legend()\n",
    "\n",
    "plt.title('Доверительные эллипсы')\n",
    "plt.xlabel('X')\n",
    "plt.ylabel('Y')\n",
    "plt.grid(True)\n",
    "plt.axhline(0, color='black', linewidth=0.5)\n",
    "plt.axvline(0, color='black', linewidth=0.5)\n",
    "plt.axis('equal')\n",
    "plt.show()"
   ]
  },
  {
   "cell_type": "markdown",
   "metadata": {},
   "source": [
    "#### 4. Сформулировать гипотезу независимости переменной Y от переменной X. Провести проверку значимости."
   ]
  },
  {
   "cell_type": "markdown",
   "metadata": {},
   "source": [
    "$$\n",
    "H_0: \\text{Существует значимая зависимость Y от X} \n",
    "$$\n",
    "\n",
    "$$\n",
    "H_A: \\text{Не существует значимая зависимость Y от X}\n",
    "$$"
   ]
  },
  {
   "cell_type": "markdown",
   "metadata": {},
   "source": [
    "Для того, чтобы вычислить общую сумму квадратов отклонений, необходимо вычислить сумму квадратов отклонений объясненную с помощью модели и сумму квадратов остатков:\n",
    "\n",
    "$$\n",
    "SSE = \\sum_{i=1}^{n} (Y_i - (\\beta_0 + \\beta_1 X_i)^2)\n",
    "$$\n",
    "\n",
    "$$\n",
    "SSR = \\sum_{i=1}^{n}(\\beta_0 + \\beta_1 X_i - \\overline{Y})^2\n",
    "$$"
   ]
  },
  {
   "cell_type": "code",
   "execution_count": 19,
   "metadata": {},
   "outputs": [
    {
     "name": "stdout",
     "output_type": "stream",
     "text": [
      "SSE = 80.57659016608392\n",
      "SSR = 20.90573183391613\n"
     ]
    }
   ],
   "source": [
    "sse = np.sum((Y - (beta0 + beta1 * X)) ** 2)\n",
    "ssr = np.sum((beta0 + beta1 * X - np.mean(Y)) ** 2)\n",
    "\n",
    "print(f'SSE = {sse}\\nSSR = {ssr}')"
   ]
  },
  {
   "cell_type": "markdown",
   "metadata": {},
   "source": [
    "Тогда общая сумма квадратов отклонений:\n",
    "\n",
    "$$\n",
    "SST = SSE + SSR\n",
    "$$"
   ]
  },
  {
   "cell_type": "code",
   "execution_count": 20,
   "metadata": {},
   "outputs": [
    {
     "name": "stdout",
     "output_type": "stream",
     "text": [
      "SST = 101.48232200000004\n"
     ]
    }
   ],
   "source": [
    "sst = sse + ssr\n",
    "\n",
    "print(f'SST = {sst}')"
   ]
  },
  {
   "cell_type": "markdown",
   "metadata": {},
   "source": [
    "Зная SST и число параметров в линей регрессии, можно вычислить средквадратичное отклонение остатков и среднеквадратичное отклонение объясненных отклонений:\n",
    "\n",
    "$$\n",
    "MSE = \\frac{SSE}{n - p}\n",
    "$$\n",
    "\n",
    "$$\n",
    "MSR = \\frac{SSR}{p}\n",
    "$$, \n",
    "где $p$ - число параметров в линейной регрессии"
   ]
  },
  {
   "cell_type": "code",
   "execution_count": 21,
   "metadata": {},
   "outputs": [
    {
     "name": "stdout",
     "output_type": "stream",
     "text": [
      "MSE = 1.678678961793415\n",
      "MSR = 10.452865916958064\n"
     ]
    }
   ],
   "source": [
    "params = 2\n",
    "mse = sse / (size - params)\n",
    "msr = ssr / params \n",
    "\n",
    "print(f'MSE = {mse}\\nMSR = {msr}')"
   ]
  },
  {
   "cell_type": "markdown",
   "metadata": {},
   "source": [
    "После все этого вычисляется F-критерий:\n",
    "\n",
    "$$\n",
    "F = \\frac{MSR}{MSE} \n",
    "$$"
   ]
  },
  {
   "cell_type": "code",
   "execution_count": 22,
   "metadata": {},
   "outputs": [
    {
     "name": "stdout",
     "output_type": "stream",
     "text": [
      "F-критерий = 6.226840363681425\n"
     ]
    }
   ],
   "source": [
    "f = msr / mse\n",
    "\n",
    "print(f'F-критерий = {f}')"
   ]
  },
  {
   "cell_type": "markdown",
   "metadata": {},
   "source": [
    "Теперь вычислим критическое значение F"
   ]
  },
  {
   "cell_type": "code",
   "execution_count": 23,
   "metadata": {},
   "outputs": [
    {
     "name": "stdout",
     "output_type": "stream",
     "text": [
      "Критическое значение F = 4.248907630769176\n"
     ]
    }
   ],
   "source": [
    "f_crit = stats.f.ppf(1 - alpha, params, size - params)\n",
    "\n",
    "print(f'Критическое значение F = {f_crit}')"
   ]
  },
  {
   "cell_type": "markdown",
   "metadata": {},
   "source": [
    "F-критерий больше критического значения F. Из этого следует, что суещствует значимая зависимости между Y и X и основная гипотеза принимается. "
   ]
  },
  {
   "cell_type": "markdown",
   "metadata": {},
   "source": [
    "#### 5. Сформулировать модель, включающую дополнительный член с $X^2$. Построить МНК оценки параметров $\\beta_0$, $\\beta_1$, $\\beta_2$ в данной модели. Изобразить графически полученную регрессионную зависимость."
   ]
  },
  {
   "cell_type": "markdown",
   "metadata": {},
   "source": [
    "С тремя параметрами модель будет выглядеть следующим образом:\n",
    "\n",
    "$$\n",
    "    Y = \\beta_0 + \\beta_1 X + \\beta_2 X^2 + \\mathbb \\varepsilon\n",
    "$$\n",
    "\n",
    "В модели вида:\n",
    "\n",
    "$$\n",
    "\\begin{cases}\n",
    "  Y_1 = \\beta_0 + \\beta_1 X_1 + \\beta_2 X_1^2 = 0 \\\\\n",
    "  Y_2 = \\beta_0 + \\beta_1 X_2 + \\beta_2 X_2^2 = 0 \\\\\n",
    "  \\dots  \\\\\n",
    "  Y_n = \\beta_0 + \\beta_1 X_n + \\beta_2 X_n^2 = 0\n",
    "\\end{cases}\n",
    "\\Leftrightarrow\n",
    "\\begin{pmatrix}\n",
    "  Y_1 \\\\\n",
    "  Y_2 \\\\\n",
    "  \\vdots \\\\\n",
    "  Y_n\n",
    "\\end{pmatrix}\n",
    "=\n",
    "X^\\intercal\n",
    "\\begin{pmatrix}\n",
    "\\beta_0 \\\\ \n",
    "\\beta_1 \\\\\n",
    "\\beta_2\n",
    "\\end{pmatrix}\n",
    "+\n",
    "\\begin{pmatrix}\n",
    "\\varepsilon_1 \\\\ \n",
    "\\varepsilon_2 \\\\ \n",
    "\\vdots \\\\\n",
    "\\varepsilon_n\n",
    "\\end{pmatrix}, \n",
    "$$\n",
    "где \n",
    "$\n",
    "X = \n",
    "\\begin{pmatrix}\n",
    "1 & 1 & \\dots & 1 \\\\\n",
    "X_1 & X_2 & \\dots & X_n \\\\\n",
    "X_1^2 & X_2^2 & \\dots & X_n^2 \n",
    "\\end{pmatrix}\n",
    "$\n"
   ]
  },
  {
   "cell_type": "markdown",
   "metadata": {},
   "source": [
    "Оценка по МНК для параметров $\\beta_0$, $\\beta_1$, $\\beta_2$:\n",
    "$$\n",
    "    \\hat\\beta = (XX^\\intercal)^{-1}XY\n",
    "$$\n",
    "\n",
    "$$\n",
    "\\hat\\beta = \n",
    "\\begin{pmatrix}\n",
    "    \\hat\\beta_0 \\\\\n",
    "    \\hat\\beta_1 \\\\ \n",
    "    \\hat\\beta_2 \n",
    "\\end{pmatrix}\n",
    "$$"
   ]
  },
  {
   "cell_type": "code",
   "execution_count": 24,
   "metadata": {},
   "outputs": [
    {
     "name": "stdout",
     "output_type": "stream",
     "text": [
      "Коэффициент при X^2 равен -0.11370112001544846,\n",
      "Коэффициент при X равен 0.28715578835570155,\n",
      "Свободный член равен 4.170315245727527\n"
     ]
    },
    {
     "data": {
      "image/png": "[encoded data removed]",
      "text/plain": [
       "<Figure size 640x480 with 1 Axes>"
      ]
     },
     "metadata": {},
     "output_type": "display_data"
    }
   ],
   "source": [
    "plt.scatter(X, Y, color='blue', label='Точки')\n",
    "\n",
    "coefficients = np.polyfit(X, Y, 2)\n",
    "polynomial = np.poly1d(coefficients)\n",
    "\n",
    "beta2, beta1, beta0 = coefficients\n",
    "\n",
    "print(f'Коэффициент при X^2 равен {beta2},\\nКоэффициент при X равен {beta1},\\nСвободный член равен {beta0}')\n",
    "\n",
    "x_line = np.linspace(min(X), max(X), 100)\n",
    "y_line = polynomial(x_line)\n",
    "\n",
    "plt.plot(x_line, y_line, color='red', label='Квадратичная регрессия')\n",
    "\n",
    "plt.xlabel('X')\n",
    "plt.ylabel('Y')\n",
    "plt.title('Квадратичная регрессия с использованием МНК')\n",
    "\n",
    "plt.legend()\n",
    "plt.show()"
   ]
  },
  {
   "cell_type": "markdown",
   "metadata": {},
   "source": [
    "#### 6. Построить несмещённую оценку дисперсии. Провести исследование нормальности ошибок как в пункте 2."
   ]
  },
  {
   "cell_type": "markdown",
   "metadata": {},
   "source": [
    "Вектор ошибок вычисляется по формуле:\n",
    "\n",
    "$$\n",
    "    \\varepsilon = RSS(\\hat\\beta)= \\sum_{i=1}^n (Y_i - \\hat\\beta_0 - \\hat\\beta_1 X_i - \\hat\\beta_2 X_i^2)^2\n",
    "$$"
   ]
  },
  {
   "cell_type": "markdown",
   "metadata": {},
   "source": [
    "Тогда несмещенная оценка дисперсии:\n",
    "\n",
    "$$\n",
    "\\hat\\sigma^2 = S^2 = \\frac{\\varepsilon}{n - r} = \\frac\n",
    "{\\sum_{i=1}^n (Y_i - \\hat\\beta_0 - \\hat\\beta_1 X_i - \\hat\\beta_2 X_i^2)^2}{n - r}\n",
    "$$,\n",
    "где n -- размер выборки, r -- количество регрессоров"
   ]
  },
  {
   "cell_type": "code",
   "execution_count": 25,
   "metadata": {},
   "outputs": [
    {
     "name": "stdout",
     "output_type": "stream",
     "text": [
      "Несмещенная оценка дисперсии: 1.6546299991371856\n"
     ]
    }
   ],
   "source": [
    "r = 3\n",
    "\n",
    "errors = Y - beta0 - beta1 * X - beta2 * X**2\n",
    "rss = np.sum((errors)**2)\n",
    "sigma_sq = rss / (size - r)\n",
    "\n",
    "print('Несмещенная оценка дисперсии:', sigma_sq)"
   ]
  },
  {
   "cell_type": "markdown",
   "metadata": {},
   "source": [
    "Построим гистограмму с шагом h"
   ]
  },
  {
   "cell_type": "code",
   "execution_count": 26,
   "metadata": {},
   "outputs": [
    {
     "data": {
      "image/png": "[encoded data removed]",
      "text/plain": [
       "<Figure size 640x480 with 1 Axes>"
      ]
     },
     "metadata": {},
     "output_type": "display_data"
    }
   ],
   "source": [
    "bins = np.arange(min(errors), max(errors), h) \n",
    "\n",
    "plt.hist(errors, bins=bins, edgecolor='black')\n",
    "plt.title('Гистограмма с несмещенной оценкой дисперсии')\n",
    "plt.xlabel('Значения несмещенной оценки дисперсии')\n",
    "plt.ylabel('Частота')\n",
    "plt.show()"
   ]
  },
  {
   "cell_type": "markdown",
   "metadata": {},
   "source": [
    "Проверь гипотезу нормальности на уровне $\\alpha$"
   ]
  },
  {
   "cell_type": "code",
   "execution_count": 27,
   "metadata": {},
   "outputs": [
    {
     "name": "stdout",
     "output_type": "stream",
     "text": [
      "Значение статистики хи-квадрат: 8.240000000000004\n"
     ]
    }
   ],
   "source": [
    "observed, edges = np.histogram(errors, bins=bins)\n",
    "expected = size * np.diff(edges) / (max(bins) - min(bins))\n",
    "\n",
    "chi2_stat = lambda i: (observed[i] - expected[i])**2 / expected[i]\n",
    "chi2_stat_sum = np.sum([chi2_stat(i) for i in range(len(expected))])\n",
    "\n",
    "print(\"Значение статистики хи-квадрат:\", chi2_stat_sum)"
   ]
  },
  {
   "cell_type": "code",
   "execution_count": 28,
   "metadata": {},
   "outputs": [
    {
     "name": "stdout",
     "output_type": "stream",
     "text": [
      "Критическое значение хи-квадрат: 11.667843403834778\n"
     ]
    }
   ],
   "source": [
    "critical_value = stats.chi2.ppf(1 - alpha, df=len(edges) - 1)\n",
    "print('Критическое значение хи-квадрат:', critical_value)"
   ]
  },
  {
   "cell_type": "markdown",
   "metadata": {},
   "source": [
    "Так как критическое значение больше значения статистики $\\chi^2$, то ошибки могут иметь нормальное распределение."
   ]
  },
  {
   "cell_type": "markdown",
   "metadata": {},
   "source": [
    "Оценим расстояние полученной оценки до класса нормальных распределений по Колмогорову."
   ]
  },
  {
   "cell_type": "code",
   "execution_count": 29,
   "metadata": {},
   "outputs": [
    {
     "name": "stdout",
     "output_type": "stream",
     "text": [
      "Статистика Колмогорова: 0.08671132866715743\n",
      "P-value: 0.8151232921550577\n"
     ]
    }
   ],
   "source": [
    "ks_statistic, p_value = stats.kstest(errors, 'norm')\n",
    "\n",
    "print(f\"Статистика Колмогорова: {ks_statistic}\")\n",
    "print(f\"P-value: {p_value}\")"
   ]
  },
  {
   "cell_type": "markdown",
   "metadata": {},
   "source": [
    "$p-value > \\alpha$, следовательно оценка соответствует нормальному распределению."
   ]
  },
  {
   "cell_type": "markdown",
   "metadata": {},
   "source": [
    "Теперь визуально оценим факт"
   ]
  },
  {
   "cell_type": "code",
   "execution_count": 30,
   "metadata": {},
   "outputs": [
    {
     "data": {
      "image/png": "[encoded data removed]",
      "text/plain": [
       "<Figure size 640x480 with 1 Axes>"
      ]
     },
     "metadata": {},
     "output_type": "display_data"
    }
   ],
   "source": [
    "qqplot = sm.qqplot(errors, line='s') \n",
    "\n",
    "plt.title(\"График ошибок\")\n",
    "plt.xlabel(\"Квантили\")\n",
    "plt.ylabel(\"Ошибки\")\n",
    "\n",
    "plt.show()"
   ]
  },
  {
   "cell_type": "markdown",
   "metadata": {},
   "source": [
    "#### 7. В предположении нормальности ошибок построить доверительные интервалы для параметров $\\beta_0, \\beta_1, \\beta_2$ уровня доверия $1 - \\alpha$. Написать уравнение доверительного эллипсоида уровня доверия $1 - \\alpha$."
   ]
  },
  {
   "cell_type": "markdown",
   "metadata": {},
   "source": [
    "Найдем доверительные интервалы для параметров $\\beta_0, \\beta_1$, $\\beta_2$"
   ]
  },
  {
   "cell_type": "markdown",
   "metadata": {},
   "source": [
    "$$\n",
    "\\psi = C^\\intercal \\beta\n",
    "$$\n",
    "\n",
    "$$\n",
    "\\beta_\\psi = C^\\intercal (XX^\\intercal)^{-1} C\n",
    "$$\n",
    "\n",
    "$$\n",
    "\\frac{\\hat\\psi - \\psi}{x\\sqrt{b}} \\sim S_{n - r}\n",
    "$$\n",
    "\n",
    "$$\n",
    "x_{\\alpha} = S_{n - r}(x_{\\alpha}) = 1 - \\frac{\\alpha}{2}\n",
    "$$\n",
    "\n",
    "$$\n",
    "\\mathcal{P}_{\\theta}(-x_{\\alpha} \\leq \\frac{\\hat\\psi - \\psi}{x\\sqrt{b}} \\leq x_{\\alpha}) = 1 - \\alpha\n",
    "$$\n",
    "\n",
    "$$\n",
    "\\psi \\in [\\hat\\psi - x_{\\alpha}s\\sqrt{b}; \\hat\\psi + x_{\\alpha}s\\sqrt{b}]\n",
    "$$"
   ]
  },
  {
   "cell_type": "code",
   "execution_count": 31,
   "metadata": {},
   "outputs": [
    {
     "name": "stdout",
     "output_type": "stream",
     "text": [
      "Квантиль x_alpha = 2.408345050443425\n"
     ]
    }
   ],
   "source": [
    "t = stats.t(size - 3)\n",
    "x_alpha = t.ppf(1 - alpha / 2)\n",
    "\n",
    "print(\"Квантиль x_alpha =\", x_alpha)"
   ]
  },
  {
   "cell_type": "code",
   "execution_count": 32,
   "metadata": {},
   "outputs": [],
   "source": [
    "x_matrix = np.array([[int(i) for i in range(size)], X, X**2])\n",
    "\n",
    "b_func = lambda C: C.T @ np.linalg.inv(x_matrix @ x_matrix.T) @ C"
   ]
  },
  {
   "cell_type": "markdown",
   "metadata": {},
   "source": [
    "Для $\\beta_0$:\n",
    "\n",
    "$$\n",
    "C = \n",
    "\\begin{pmatrix}\n",
    "1 \\\\ \n",
    "0 \\\\ \n",
    "0\n",
    "\\end{pmatrix}\n",
    "$$"
   ]
  },
  {
   "cell_type": "code",
   "execution_count": 33,
   "metadata": {},
   "outputs": [
    {
     "name": "stdout",
     "output_type": "stream",
     "text": [
      "b = 9.53002283953017e-05\n"
     ]
    }
   ],
   "source": [
    "c = np.array([1, 0, 0])\n",
    "b = b_func(c)\n",
    "\n",
    "print(\"b =\", b)"
   ]
  },
  {
   "cell_type": "markdown",
   "metadata": {},
   "source": [
    "Теперь посчитаем доверительный интервал уровня 1 - $\\alpha$"
   ]
  },
  {
   "cell_type": "code",
   "execution_count": 34,
   "metadata": {},
   "outputs": [
    {
     "name": "stdout",
     "output_type": "stream",
     "text": [
      "Доверительный интервал [4.140072854494269; 4.200557636960784] уровня 0.98\n"
     ]
    }
   ],
   "source": [
    "left = beta0 - x_alpha * np.sqrt(sigma_sq) * np.sqrt(b)\n",
    "right = beta0 + x_alpha * np.sqrt(sigma_sq) * np.sqrt(b)\n",
    "\n",
    "print(f'Доверительный интервал [{left}; {right}] уровня {1 - alpha}')"
   ]
  },
  {
   "cell_type": "markdown",
   "metadata": {},
   "source": [
    "Для $\\beta_1$:\n",
    "\n",
    "$$\n",
    "C = \n",
    "\\begin{pmatrix}\n",
    "0 \\\\ \n",
    "1 \\\\ \n",
    "0\n",
    "\\end{pmatrix}\n",
    "$$"
   ]
  },
  {
   "cell_type": "code",
   "execution_count": 35,
   "metadata": {},
   "outputs": [
    {
     "name": "stdout",
     "output_type": "stream",
     "text": [
      "b = 0.03707089393695479\n"
     ]
    }
   ],
   "source": [
    "c = np.array([0, 1, 0])\n",
    "b = b_func(c)\n",
    "\n",
    "print(\"b =\", b)"
   ]
  },
  {
   "cell_type": "markdown",
   "metadata": {},
   "source": [
    "Теперь посчитаем доверительный интервал уровня 1 - $\\alpha$"
   ]
  },
  {
   "cell_type": "code",
   "execution_count": 36,
   "metadata": {},
   "outputs": [
    {
     "name": "stdout",
     "output_type": "stream",
     "text": [
      "Доверительный интервал [-0.3093102022958587; 0.8836217790072618] уровня 0.98\n"
     ]
    }
   ],
   "source": [
    "left = beta1 - x_alpha * np.sqrt(sigma_sq) * np.sqrt(b)\n",
    "right = beta1 + x_alpha * np.sqrt(sigma_sq) * np.sqrt(b)\n",
    "\n",
    "print(f'Доверительный интервал [{left}; {right}] уровня {1 - alpha}')"
   ]
  },
  {
   "cell_type": "markdown",
   "metadata": {},
   "source": [
    "Для $\\beta_2$:\n",
    "\n",
    "$$\n",
    "C = \n",
    "\\begin{pmatrix}\n",
    "0 \\\\ \n",
    "0 \\\\ \n",
    "1\n",
    "\\end{pmatrix}\n",
    "$$"
   ]
  },
  {
   "cell_type": "code",
   "execution_count": 37,
   "metadata": {},
   "outputs": [
    {
     "name": "stdout",
     "output_type": "stream",
     "text": [
      "b = 0.0013321521929938519\n"
     ]
    }
   ],
   "source": [
    "c = np.array([0, 0, 1])\n",
    "b = b_func(c)\n",
    "\n",
    "print(\"b =\", b)"
   ]
  },
  {
   "cell_type": "code",
   "execution_count": 38,
   "metadata": {},
   "outputs": [
    {
     "name": "stdout",
     "output_type": "stream",
     "text": [
      "Доверительный интервал [-0.2267707780442889; -0.0006314619866080173] уровня 0.98\n"
     ]
    }
   ],
   "source": [
    "left = beta2 - x_alpha * np.sqrt(sigma_sq) * np.sqrt(b)\n",
    "right = beta2 + x_alpha * np.sqrt(sigma_sq) * np.sqrt(b)\n",
    "\n",
    "print(f'Доверительный интервал [{left}; {right}] уровня {1 - alpha}')"
   ]
  },
  {
   "cell_type": "markdown",
   "metadata": {},
   "source": [
    "Теперь построим для параметров доверительный эллипсоид уровня 1 - $\\alpha$"
   ]
  },
  {
   "cell_type": "markdown",
   "metadata": {},
   "source": [
    "$$\n",
    "A_{\\alpha} = \\left\\{\\psi: \\frac{(x - \\hat\\psi)^\\intercal(C^\\intercal(XX^\\intercal)^{-1}\\cdot C)^{-1}(\\hat\\psi - \\psi)}{qS^2} = \\lambda_1 x^2 + \\lambda_2 y^2 \\leq x_{\\alpha} \\right\\}\n",
    "$$\n",
    "\n",
    "$$\n",
    "x_{\\alpha} = F_{q, n - r}(x_{\\alpha}) = 1 - \\alpha\n",
    "$$"
   ]
  },
  {
   "cell_type": "markdown",
   "metadata": {},
   "source": [
    "Тогда C для парамтеров $\\beta_0$, $\\beta_1$, $\\beta_2$:\n",
    "$$\n",
    "C = \n",
    "\\begin{pmatrix}\n",
    "1 & 0 & 0 \\\\\n",
    "0 & 1 & 0 \\\\\n",
    "0 & 0 & 1\n",
    "\\end{pmatrix}\n",
    "$$"
   ]
  },
  {
   "cell_type": "markdown",
   "metadata": {},
   "source": [
    "Уравнение доверительного эллипса выглядит тогда так:\n",
    "\n",
    "$$\n",
    "\\frac{\\lambda_1}{qS^2 x_{\\alpha}} x^2 + \\frac{\\lambda_2}{qS^2 x_{\\alpha}} y^2 + \\frac{\\lambda_3}{qS^2 x_{\\alpha}} z^2 \\leq 1\n",
    "$$"
   ]
  },
  {
   "cell_type": "code",
   "execution_count": null,
   "metadata": {},
   "outputs": [],
   "source": []
  },
  {
   "cell_type": "markdown",
   "metadata": {},
   "source": [
    "#### 8. Сформулировать гипотезу линейной регрессионной зависимости переменной Y от переменной Х и проверить её значимость на уровне $\\alpha$."
   ]
  },
  {
   "cell_type": "markdown",
   "metadata": {},
   "source": [
    "$$\n",
    "H_0: \\text{Существует значимая зависимость Y от X} \n",
    "$$\n",
    "\n",
    "$$\n",
    "H_A: \\text{Не существует значимая зависимость Y от X}\n",
    "$$"
   ]
  },
  {
   "cell_type": "markdown",
   "metadata": {},
   "source": [
    "Для того, чтобы вычислить общую сумму квадратов отклонений, необходимо вычислить сумму квадратов отклонений объясненную с помощью модели и сумму квадратов остатков:\n",
    "\n",
    "$$\n",
    "SSE = \\sum_{i=1}^{n} (Y_i - (\\beta_0 + \\beta_1 X_i + \\beta_2 X_i^2)^2)\n",
    "$$\n",
    "\n",
    "$$\n",
    "SSR = \\sum_{i=1}^{n}(\\beta_0 + \\beta_1 X_i + \\beta_2 X_i^2 - \\overline{Y})^2\n",
    "$$"
   ]
  },
  {
   "cell_type": "markdown",
   "metadata": {},
   "source": [
    "Дальше делаем то же самое, что и в пункте 4"
   ]
  },
  {
   "cell_type": "code",
   "execution_count": 39,
   "metadata": {},
   "outputs": [
    {
     "name": "stdout",
     "output_type": "stream",
     "text": [
      "SSE = 77.76760995944771\n",
      "SSR = 23.71471204055226\n",
      "SST = 101.48232199999997\n",
      "MSE = 1.6546299991371853\n",
      "MSR = 7.90490401351742\n",
      "F-критерий = 4.7774451192347955\n",
      "Критическое значение F = 3.6061455215960643\n"
     ]
    }
   ],
   "source": [
    "sse = np.sum((Y - (beta0 + beta1 * X + beta2 * X**2)) ** 2)\n",
    "ssr = np.sum((beta0 + beta1 * X  + beta2 * X**2 - np.mean(Y)) ** 2)\n",
    "\n",
    "print(f'SSE = {sse}\\nSSR = {ssr}')\n",
    "\n",
    "sst = sse + ssr\n",
    "\n",
    "print(f'SST = {sst}')\n",
    "\n",
    "params = 3\n",
    "mse = sse / (size - params)\n",
    "msr = ssr / params \n",
    "\n",
    "print(f'MSE = {mse}\\nMSR = {msr}')\n",
    "\n",
    "f = msr / mse\n",
    "\n",
    "print(f'F-критерий = {f}')\n",
    "\n",
    "f_crit = stats.f.ppf(1 - alpha, params, size - params)\n",
    "\n",
    "print(f'Критическое значение F = {f_crit}')"
   ]
  },
  {
   "cell_type": "markdown",
   "metadata": {},
   "source": [
    "F-критерий больше критического значения F. Из этого следует, что суещствует значимая зависимости между Y и X и основная гипотеза принимается. "
   ]
  },
  {
   "cell_type": "markdown",
   "metadata": {},
   "source": [
    "## Выводы"
   ]
  },
  {
   "cell_type": "markdown",
   "metadata": {},
   "source": [
    "В рамках данной лабораторной работы освещены основные теоретические аспекты, связанные с линейной регрессией и методом наименьших квадратов (МНК). Метод наименьших квадратов применяется для вычисления коэффициентов регрессии, минимизируя сумму квадратов остатков.\n",
    "\n",
    "Проведен анализ регрессии, включая создание модели, оценку параметров и проверку их статистической значимости. Также выполнен анализ нормальности ошибок, построение доверительных интервалов и эллипсов. Кроме того, осуществлено измерение расстояния до нормального распределения с применением критерия Колмогорова, а также проверена гипотеза о независимости переменных Y и X.\n",
    "\n",
    "Рассмотрены также ключевые компоненты, такие как несмещенная оценка дисперсии и критерий для проверки гипотез, позволяющие делать статистически обоснованные выводы о параметрах модели и их статистической значимости."
   ]
  }
 ],
 "metadata": {
  "kernelspec": {
   "display_name": "base",
   "language": "python",
   "name": "python3"
  },
  "language_info": {
   "codemirror_mode": {
    "name": "ipython",
    "version": 3
   },
   "file_extension": ".py",
   "mimetype": "text/x-python",
   "name": "python",
   "nbconvert_exporter": "python",
   "pygments_lexer": "ipython3",
   "version": "3.10.13"
  },
  "orig_nbformat": 4
 },
 "nbformat": 4,
 "nbformat_minor": 2
}
