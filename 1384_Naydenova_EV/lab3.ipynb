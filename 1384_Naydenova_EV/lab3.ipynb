{
  "cells": [
    {
      "cell_type": "markdown",
      "metadata": {
        "id": "fK1RX6T2Rpq9"
      },
      "source": [
        "# Лабораторная работа №3: Регрессионный анализ\n",
        "Выполнила студентка гр. 1384 Найдёнова Елена. Вариант №10"
      ]
    },
    {
      "cell_type": "markdown",
      "metadata": {
        "id": "CQcjwwUmRprA"
      },
      "source": [
        "## Цель работы\n",
        "Ознакомление с основными положениями метода наименьших квадратов (МНК), со статистическими свойствами МНК-оценок, с понятием функции регрессии и роли МНК в регрессионном анализе."
      ]
    },
    {
      "cell_type": "markdown",
      "metadata": {
        "id": "en4qaFz_RprB"
      },
      "source": [
        "## Основные теоретические положения\n",
        "1. Линейная регрессионная модель\n",
        "\n",
        "Линейная регрессия некоторой зависимой переменной y на набор независимых переменных  x = (x_1, …, x_n), где n – это число наблюдений, предполагает, что линейное отношение между y и x: $y =\\beta_0  + \\beta_1 x_1 + ⋯ + \\beta_n x_n + \\varepsilon$ - уравнение регрессии. $\\beta_0, \\beta_1, …, \\beta_n$ – коэффициенты регрессии (параметры), и \\varepsilon – случайная ошибка.\n",
        "\n",
        "2. МНК (Метод Наименьших Квадратов)\n",
        "\n",
        "$RSS(\\beta)=\\left\\| Y-X^{\\intercal}\\beta \\right\\|=(Y-X^{\\intercal}\\beta)^{\\intercal}\\cdot(Y-X^{\\intercal}\\beta)\\to min\\beta$\n",
        "\n",
        "Нормальные уравнения: $XX^{\\intercal}\\beta=XY$\n",
        "\n",
        "Решение системы нормальных уравнений в регулярном случае: $\\widehat{\\beta}=(XX^{\\intercal})^{-1}XY$\n",
        "\n",
        "$RSS(\\beta)=\\sum_{i=1}^{n}\\left( Y_{i}-\\sum_{j=1}^{m}x_{ji}\\beta_{j} \\right)^{2}$\n",
        "\n",
        "$\\frac{\\partial RSS}{\\partial \\beta_{k}} = -2\\sum_{i=1}^{n}x_{ki}\\left(Y_{i}- \\sum_{j=1}^{m}x_{ji}\\beta_{j}\\right)=0, k=\\overline{1,m}$\n",
        "\n",
        "3. Несмещённая оценка дисперсии $(S^{2})$\n",
        "\n",
        "$S^{2} = \\frac{SS_{e}}{n-r} = \\frac{RSS(\\widehat{\\beta})}{n-r}$\n",
        "\n",
        "$SS_{e}=RSS(\\widehat{\\beta})$, а r-ранг матрицы X\n",
        "\n",
        "4. Доверительный интервал\n",
        "\n",
        "ДНО функции:$\\psi=с^{\\intercal}\\beta$\n",
        "\n",
        "МНК-оценка: $\\widehat{\\psi}=с^{\\intercal}\\beta$\n",
        "\n",
        "Элемент дисперсии оценки: $b_{\\psi}=c^{\\intercal}(XX^{\\intercal})^{-1}c$\n",
        "\n",
        "Распределение $\\widehat{\\psi}\\sim \\mathcal{N}(\\psi,\\sigma^{2}b)$\n",
        "\n",
        "$\\frac{\\widehat{\\psi}-\\psi}{S\\sqrt{b}}\\sim \\mathcal{S}_{n-r}$\n",
        "\n",
        "Д.И. уровня доверия $1-\\alpha: \\left[ \\widehat{\\psi} - X_{\\alpha}S\\sqrt{b};\\widehat{\\psi} + X_{\\alpha}S\\sqrt{b} \\right], где X_{\\alpha}: \\mathcal{S}_{n-r}(X_{\\alpha})=1-\\frac{\\alpha}{2}$\n",
        "\n",
        "5. Уравнение $A_{\\alpha}=\\left\\{ \\overrightarrow{X}:(\\overrightarrow{X}-\\widehat{\\psi})^{\\intercal}B^{-1}(\\overrightarrow{X}-\\widehat{\\psi})\\le qS^{2}X_{\\alpha} \\right\\}$ представляет собой уравнение доверительного эллипсоида. Здесь:\n",
        "\n",
        "- $\\widehat{\\psi}$ - вектор оценок параметров,\n",
        "- $B$ - матрица оценок ковариации,\n",
        "- $S^{2}$ - оценка дисперсии,\n",
        "- q - пороговая точка, связанная с распределением хи-квадрат с \\(n-r\\) степенями свободы,\n",
        "- $X_{\\alpha}$ - значение функции распределения хи-квадрат с (n-r) степенями свободы и уровнем доверия $1-\\alpha$.\n",
        "\n",
        "6. Критерий $\\chi^2$ для проверки гипотез\n",
        "\n",
        "основан на справнении теоритической плотности распределения и гистограммы, либо теоритической вероятностной меры и полигона частот.\n",
        "\n",
        "Разобъем множество значений сл. вел. X на $N$ интервалов $I_{1}, ..., I_{N}:$ $I_{i} = (a_{i-1}, a_i], i = \\overline {1,N}$. данные интервалы не пересекаются и покрывают всё множество возможных значений сл. вел. X.\n",
        "\n",
        "Обозначим через $p_{i}$ теоритическую вероятность попадания сл. вел. X в интервал $I_{i}$, при условии, что справедлива $H_{0}$.\n",
        "\n",
        "$p_{i} = P(X \\in I_{i}|H_{0})$\n",
        "\n",
        "Через $n_{i}$ обозначим число наблюдений нашей выборки, попавших в соответветствующий интервал $I_{i}$.\n",
        "\n",
        "$n_{i} = num(x_{j} \\in I_{i})$\n",
        "\n",
        "Статистика критерия основана на сравнении относительной частоты и теоритической.\n",
        "\n",
        "$\\chi^{2}_{набл} = \\sum \\limits_{i=1}^{N} \\frac{n}{p_{i}} \\bigg ( \\frac{n_{i}}{n} - p_{i} \\bigg )^{2} = \\sum \\limits_{i=1}^{N} \\frac{(n_{i} - p_{i} n)^{2}}{n p_{i}} \\sim \\chi^{2}_{N-1}$\n",
        "\n",
        "7. Теорема Колмогорова\n",
        "\n",
        "$D_{n}(\\overrightarrow{X}) = \\overset{}{\\underset{X \\in \\mathbb R}{sup}} |F_{0}(X_{i}) - F_{n}(X_{i})|$\n",
        "\n",
        "Если гипотеза $H_{0}$ верна, и $F_{0}(X)$ - непрерывная ф-я на $\\mathbb R$, тогда имеет место сходимость\n",
        "\n",
        "$P(\\sqrt{n} D_{n}(\\overrightarrow{X}) < z) \\xrightarrow[n \\rightarrow \\infty]{} K(z)$, где\n",
        "\n",
        "$K(z)=1-\\alpha$ - ф-я распределения Колмогорова.\n",
        "\n",
        "8. $\\mathbb{F}$-критерий\n",
        "\n",
        "$\\mathbb{F}=\\frac{MSR}{MSE}$ - статистика распределения\n",
        "\n",
        " где $MSR=\\frac{SSR}{p}=\\frac{\\sum_{i=1}^{n}\\left(\\sum_{j=1}^{n}x_{ji} \\beta_j - \\overline{Y}\\right)^2}{p}$ - среднеквадратичное отклонение объясненных отклонений\n",
        "\n",
        " $MSE = \\frac{SS_e}{n-p}=\\frac{\\sum_{i=1}^{n}\\left( Y_{i}-\\sum_{j=1}^{m}x_{ji}\\beta_{j} \\right)^{2}}{n-p}, где SS_{e}=RSS(\\beta)$ - среднеквадратичное отклонение остатков\n"
      ]
    },
    {
      "cell_type": "markdown",
      "metadata": {
        "id": "BW7MZ7CoRprC"
      },
      "source": [
        "## Постановка задачи\n",
        "Результаты статистического эксперимента представлены в виде двух переменных. Требуется оценить характер (случайной) зависимости переменной Y\n",
        " от переменной X. Полученные результаты содержательно проинтерпретировать."
      ]
    },
    {
      "cell_type": "markdown",
      "metadata": {
        "id": "ddjl_bNwRprD"
      },
      "source": [
        "## Выполнение работы\n"
      ]
    },
    {
      "cell_type": "code",
      "execution_count": 1,
      "metadata": {
        "id": "dwy63zrGRprE"
      },
      "outputs": [],
      "source": [
        "import numpy as np\n",
        "import scipy\n",
        "import scipy.stats as stats\n",
        "import matplotlib.pyplot as plt\n",
        "from scipy.stats import chi2\n",
        "alpha = 0.01\n",
        "h = 2.20\n",
        "X_0 = [0, 5, 5, 1, 2, 5, 5, 0, 1, 5, 3, 0, 1, 4, 2, 2, 5, 5, 5, 4, 1, 4, 2, 2, 5, 3, 5, 5, 5, 1, 2, 0, 0, 0, 1, 2, 1, 1, 4, 2, 3, 4, 5, 4, 0, 1, 0, 1, 2, 1]\n",
        "Y_0 = [12.19, 8.67, 13.77, 19.44, 3.87, 22.18, 8.18, 14.07, 20.60, 24.44, 11.81, 13.94, 18.22, 7.08, 18.04, 7.82, 18.35, 16.50, 5.10, 10.49, 21.34, 7.45, 21.16, 14.02, 13.53, 6.46, 16.33, 13.89, 12.07, 16.83, 15.07, 6.20, 8.33, 18.67, 8.00, 18.72, 13.08, 10.47, 3.07, 9.70, 16.86, 15.25, 15.25, 16.56, 22.22, 12.82, 15.60, 18.85, 26.12, 15.46]\n",
        "n = 50"
      ]
    },
    {
      "cell_type": "markdown",
      "metadata": {
        "id": "cG3QvESiRprG"
      },
      "source": [
        "#### Задание 1.\n",
        "Построить графически результаты эксперимента. Сформулировать линейную регрессионную модель переменной Y по переменной X. Построить МНК оценки параметром сдвига $\\beta_0$ и масштаба $\\beta_1$. Построить полученную линию регрессии. Оценить визуально соответствие полученных данных и построенной оценки."
      ]
    },
    {
      "cell_type": "markdown",
      "metadata": {
        "id": "51W0lPc4RprG"
      },
      "source": [
        "Построим графически результаты эксперимента"
      ]
    },
    {
      "cell_type": "code",
      "execution_count": 2,
      "metadata": {
        "id": "HZCTi2OoRprH",
        "outputId": "674732c6-9737-499f-e980-ad5a81859db3"
      },
      "outputs": [
        {
          "data": {
            "image/png": "[encoded data removed]",
            "text/plain": [
              "<Figure size 640x480 with 1 Axes>"
            ]
          },
          "metadata": {},
          "output_type": "display_data"
        }
      ],
      "source": [
        "plt.scatter(X_0, Y_0)\n",
        "plt.xlabel('X')\n",
        "plt.ylabel('Y')\n",
        "plt.title('Результаты эксперимента')\n",
        "plt.show()"
      ]
    },
    {
      "cell_type": "markdown",
      "metadata": {
        "id": "RnU1sE2eRprI"
      },
      "source": [
        "Линейная регрессионная модель:\n",
        "\n",
        "$ Y = X^T \\beta + \\varepsilon , \\quad  \\varepsilon $ - вектор ошибок\n",
        "\n",
        "$ E_\\theta \\varepsilon = 0 , \\quad Var_\\theta \\varepsilon = \\sigma^2 E $\n",
        "\n",
        "$ E(Y|X) = \\beta_0 + \\beta_1X, \\quad \\beta = (\\beta_0, \\beta_1) $\n",
        "\n",
        "МНК оценка:\n",
        "\n",
        "$ \\widehat \\beta = (XX^T)^{-1}XY $\n",
        "\n"
      ]
    },
    {
      "cell_type": "code",
      "execution_count": 3,
      "metadata": {
        "id": "TvgPaT1CRprI",
        "outputId": "8a5bf528-f5db-4dd2-899d-bc7d43532abf"
      },
      "outputs": [
        {
          "name": "stdout",
          "output_type": "stream",
          "text": [
            "[14.93833894 -0.33682635]\n"
          ]
        }
      ],
      "source": [
        "X = np.array([[1 for i in range(50)], X_0])\n",
        "Y = np.array(Y_0)\n",
        "XX_T = np.dot(X, X.T)\n",
        "XX_T_inv = np.linalg.inv(XX_T)\n",
        "beta = np.dot(np.dot(XX_T_inv, X), Y)\n",
        "print(beta)"
      ]
    },
    {
      "cell_type": "markdown",
      "metadata": {
        "id": "1dpgajbbRprJ"
      },
      "source": [
        "$\\beta_0 = 14.93833894$\n",
        "\n",
        "$\\beta_1 = -0.33682635$\n"
      ]
    },
    {
      "cell_type": "code",
      "execution_count": 4,
      "metadata": {
        "id": "bbYT7PQORprJ",
        "outputId": "db70a872-6efe-4394-f4ea-9becf840c1a3"
      },
      "outputs": [
        {
          "data": {
            "image/png": "[encoded data removed]",
            "text/plain": [
              "<Figure size 640x480 with 1 Axes>"
            ]
          },
          "metadata": {},
          "output_type": "display_data"
        }
      ],
      "source": [
        "beta_0 = 14.93833894\n",
        "beta_1 = -0.33682635\n",
        "plt.plot(X_0, Y_0, 'o', label='Data')\n",
        "\n",
        "# Строим линию\n",
        "model_line = np.dot(X.T, beta)\n",
        "plt.plot(X_0, model_line, 'o-', color='red', label='Model')\n",
        "plt.xlabel('X')\n",
        "plt.ylabel('Y')\n",
        "plt.show()"
      ]
    },
    {
      "cell_type": "markdown",
      "metadata": {
        "id": "2Hcm3utLRprJ"
      },
      "source": [
        "Оценка результатов:\n",
        "\n",
        "Модель проходит через диапазон результатов эксперимента, что может свидетельствовать о хорошем соответствии модели данным."
      ]
    },
    {
      "cell_type": "markdown",
      "metadata": {
        "id": "mJeUzd4IRprJ"
      },
      "source": [
        "#### Задача 2.\n",
        "Построить и интерпретировать несмещенную оценку дисперсии. На базе ошибок построить гистограмму с шагом $h = 2.20$. Проверить гипотезу нормальности ошибок на уровне значимости $\\alpha = 0.01$ по $\\chi^2$. Оценить расстояние полученной оценки до класса нормальных распределений по Колмогорову. Визуально оценить данный факт."
      ]
    },
    {
      "cell_type": "markdown",
      "metadata": {
        "id": "dHV9-dGmRprK"
      },
      "source": [
        "Построим несмещенную оценку дисперсии\n",
        "\n",
        "$ s^2 = \\frac{1}{n-r} \\cdot  (Y - X^T \\widehat \\beta)^T (Y - X^T \\widehat \\beta) $\n",
        "\n",
        "$ r = 2$ - ранг X\n",
        "\n"
      ]
    },
    {
      "cell_type": "code",
      "execution_count": 5,
      "metadata": {
        "id": "KTEDXh7tRprK",
        "outputId": "66b9e093-73c8-4abd-913a-a60b712c2cc5"
      },
      "outputs": [
        {
          "name": "stdout",
          "output_type": "stream",
          "text": [
            "30.183350320438464\n"
          ]
        }
      ],
      "source": [
        "\n",
        "res = np.dot((Y - np.dot(X.T, beta)).T, (Y - np.dot(X.T, beta)))\n",
        "s = res/(n-2)\n",
        "print(s)\n"
      ]
    },
    {
      "cell_type": "markdown",
      "metadata": {
        "id": "vpG9R68JRprK"
      },
      "source": [
        "$ s^2 = 30.18335032 $\n",
        "\n",
        "Вектор ошибок"
      ]
    },
    {
      "cell_type": "code",
      "execution_count": 6,
      "metadata": {
        "id": "RW6th0yARprK",
        "outputId": "f79fe3ae-f308-4d81-98de-a85ff85dbb08"
      },
      "outputs": [
        {
          "name": "stdout",
          "output_type": "stream",
          "text": [
            "[-10.52103352 -10.39468623  -8.73833894  -8.15420717  -7.46785988\n",
            "  -6.60833894  -6.60151259  -6.51103352  -6.44468623  -6.14103352\n",
            "  -5.07420717  -4.58420717  -4.56468623  -4.13151259  -3.10103352\n",
            "  -2.74833894  -2.11785988  -1.78151259  -1.52151259  -1.18420717\n",
            "  -0.99833894  -0.86833894  -0.24468623   0.27579283   0.51579283\n",
            "   0.63579283   0.66166106   0.80531377   0.85848741   1.65896648\n",
            "   1.99579283   2.22848741   2.93214012   2.96896648   3.07579283\n",
            "   3.24579283   3.61848741   3.73166106   3.77531377   4.24848741\n",
            "   4.45531377   4.83848741   5.09579283   5.99848741   6.73848741\n",
            "   6.89531377   7.28166106   8.92579283  11.18579283  11.85531377]\n"
          ]
        }
      ],
      "source": [
        "print(np.squeeze(sorted(Y - np.dot(X.T, beta))))"
      ]
    },
    {
      "cell_type": "markdown",
      "metadata": {
        "id": "72EeXjRdRprK"
      },
      "source": [
        "Построим гиитограмму с шагом h = 2.20"
      ]
    },
    {
      "cell_type": "code",
      "execution_count": 7,
      "metadata": {
        "id": "xzivk7MbRprK",
        "outputId": "a4a96143-119e-4699-fe77-a0064eaf5010"
      },
      "outputs": [
        {
          "name": "stdout",
          "output_type": "stream",
          "text": [
            "Интервал: (-10.521, -8.321), Количество чисел: 3.0\n",
            "Интервал: (-8.321, -6.121), Количество чисел: 7.0\n",
            "Интервал: (-6.121, -3.921), Количество чисел: 4.0\n",
            "Интервал: (-3.921, -1.721), Количество чисел: 4.0\n",
            "Интервал: (-1.721, 0.479), Количество чисел: 6.0\n",
            "Интервал: (0.479, 2.679), Количество чисел: 8.0\n",
            "Интервал: (2.679, 4.879), Количество чисел: 10.0\n",
            "Интервал: (4.879, 7.079), Количество чисел: 4.0\n",
            "Интервал: (7.079, 9.279), Количество чисел: 2.0\n",
            "Интервал: (9.279, 11.479), Количество чисел: 1.0\n",
            "Интервал: (11.479, 13.679), Количество чисел: 1.0\n"
          ]
        },
        {
          "data": {
            "image/png": "[encoded data removed]",
            "text/plain": [
              "<Figure size 640x480 with 1 Axes>"
            ]
          },
          "metadata": {},
          "output_type": "display_data"
        },
        {
          "name": "stdout",
          "output_type": "stream",
          "text": [
            "[ 3.  7.  4.  4.  6.  8. 10.  4.  2.  1.  1.]\n",
            "[-10.52103352  -8.32103352  -6.12103352  -3.92103352  -1.72103352\n",
            "   0.47896648   2.67896648   4.87896648   7.07896648   9.27896648\n",
            "  11.47896648  13.67896648]\n"
          ]
        }
      ],
      "source": [
        "data = np.squeeze(Y - np.dot(X.T, beta))\n",
        "hist, bins, _ = plt.hist(data, bins=np.arange(min(data), max(data) + h, h), edgecolor='black', color='green')\n",
        "for i in range(len(hist)):\n",
        "    print(f'Интервал: ({round(bins[i], 4)}, {round(bins[i+1], 4)}), Количество чисел: {hist[i]}')\n",
        "plt.title('Гистограмма')\n",
        "plt.show()\n",
        "\n",
        "print(hist)\n",
        "print(bins)"
      ]
    },
    {
      "cell_type": "markdown",
      "metadata": {
        "id": "emwYHGeARprL"
      },
      "source": [
        "Проверим гипотезу нормальности ошибок на уровне значимости $\\alpha = 0.01$ по $\\chi^2$\n",
        "\n",
        "$ H_0 : \\varepsilon_1, ..., \\varepsilon_n \\sim \\mathcal{N}(0, \\sigma^2)$\n",
        "\n",
        "Объединим интервалы, чтобы в каждом было не менее 5 элементов\n",
        "\n",
        "$I_1 = (-\\infty, -6.1], \\; n_1 = 10$\n",
        "\n",
        "$I_2 = (-6.1, -1.7], \\; n_2 = 8$\n",
        "\n",
        "$I_3 = (-1.7, -0.5], \\; n_3 = 6$\n",
        "\n",
        "$I_{4} = (-0.5, 2.7], \\; n_{4} = 8$\n",
        "\n",
        "$I_{5} = (2.7, 4.9], \\; n_{5} = 10$\n",
        "\n",
        "$I_{6} = (4.9, +\\infty), \\; n_{6} = 8$\n"
      ]
    },
    {
      "cell_type": "code",
      "execution_count": 73,
      "metadata": {
        "id": "BOnmG-twRprM",
        "outputId": "cce0aa6b-2756-4354-9e1a-16d0d3426414"
      },
      "outputs": [
        {
          "name": "stdout",
          "output_type": "stream",
          "text": [
            "Значение параметра = 5.969247656450089\n",
            "Значение X^2 = 6.731412447766335\n",
            "Квантиль x_a = 13.276704135987622\n",
            "True\n"
          ]
        }
      ],
      "source": [
        "def min_sum(s):\n",
        "    arr = np.array([-6.1, -1.7, -0.5, 2.7, 4.9])\n",
        "    res = np.zeros(len(arr) + 1)\n",
        "\n",
        "    res[0] = stats.norm.cdf(arr[0], 0, s)\n",
        "\n",
        "    for i in range(1, len(arr)):\n",
        "        res[i] = stats.norm.cdf(arr[i], 0, s) - stats.norm.cdf(arr[i-1], 0, s)\n",
        "\n",
        "    res[len(arr)] = 1 - stats.norm.cdf(arr[-1], 0, s)\n",
        "    v = np.array([10, 8, 6, 8, 10, 8])\n",
        "    ans = ((v - 50 * res) ** 2) / (50 * res)\n",
        "    return np.sum(ans)\n",
        "\n",
        "result = scipy.optimize.minimize_scalar(min_sum)\n",
        "\n",
        "print(\"Значение параметра =\", result.x)\n",
        "print(\"Значение X^2 =\", result.fun)\n",
        "\n",
        "func = stats.chi2(6 - 1 -1)\n",
        "fx = 1 - alpha\n",
        "x_a = func.ppf(fx)\n",
        "\n",
        "print(\"Квантиль x_a =\", x_a)\n",
        "\n",
        "print(result.fun <= x_a)"
      ]
    },
    {
      "cell_type": "markdown",
      "metadata": {
        "id": "N5VYLXTmRprM"
      },
      "source": [
        "$ \\chi^2 = 6.731412447766335 $\n",
        "\n",
        "$ x_{a} : \\mathcal{K}_{r-d-1}(x_a) = 1 - \\alpha_1 = 1 - 0.01 = 0.99$\n",
        "\n",
        "$\\mathcal{X}^2 < x_\\alpha \\Rightarrow$ принимаем $H_0$\n",
        "\n",
        "Найдём наибольшее значение уровня значимости, на котором нет оснований отвергнуть гипотезу."
      ]
    },
    {
      "cell_type": "code",
      "execution_count": 74,
      "metadata": {
        "id": "AJjSiO6gRprN",
        "outputId": "8b70407f-6bc4-4fc1-ee05-292aeecd6cd2"
      },
      "outputs": [
        {
          "name": "stdout",
          "output_type": "stream",
          "text": [
            "Гипотеза может быть принята, если уровень значимости не более: 0.15078108606216345\n"
          ]
        }
      ],
      "source": [
        "Xi2 = 6.731412447766335\n",
        "a_max = 1 - chi2.cdf(Xi2, 6-1-1)\n",
        "print(\"Гипотеза может быть принята, если уровень значимости не более:\", a_max)"
      ]
    },
    {
      "cell_type": "markdown",
      "metadata": {
        "id": "k4xrqVKKRprN"
      },
      "source": [
        "Оценим расстояние полученной оценки до класса нормальных распределений по Колмогорову.\n",
        "\n",
        "$ H_0 : \\varepsilon_1, ..., \\varepsilon_n \\sim \\mathcal{N}(0, \\widehat {\\sigma^2}) $\n",
        "\n",
        "$ \\sqrt{n} \\cdot max|F_n(y) - F(y)| \\sim K $, $K$ - распределение Колмогорова."
      ]
    },
    {
      "cell_type": "code",
      "execution_count": 75,
      "metadata": {
        "id": "NcPtz5HgRprN",
        "outputId": "c9dee003-dcea-40eb-91fc-44479b0360b0"
      },
      "outputs": [
        {
          "name": "stdout",
          "output_type": "stream",
          "text": [
            "x_alpha = 0.2106765432666897\n"
          ]
        }
      ],
      "source": [
        "lamb = stats.ksone.ppf(1 - alpha, 50)\n",
        "print(\"x_alpha =\", lamb)"
      ]
    },
    {
      "cell_type": "code",
      "execution_count": 76,
      "metadata": {
        "id": "X4oyjWgKRprO",
        "outputId": "b28474d8-d746-41e0-945d-b8f077e243bb"
      },
      "outputs": [
        {
          "name": "stdout",
          "output_type": "stream",
          "text": [
            "Dn = 0.45\n"
          ]
        }
      ],
      "source": [
        "def F(x, array):\n",
        "    s = 0\n",
        "    for i in array:\n",
        "        if i >= x:\n",
        "            return s / 50\n",
        "        s += 1\n",
        "    return s / 50\n",
        "\n",
        "a0 = 0.00\n",
        "n = 50\n",
        "sig0 = np.sqrt(30.18335032)\n",
        "\n",
        "sort_array = np.squeeze(sorted(Y - np.dot(X.T, beta)))\n",
        "\n",
        "x = np.arange(-5, 5, 0.001)\n",
        "#Fnorm = stats.norm.cdf(x, a0, sig0)\n",
        "\n",
        "F_norm = np.array([stats.norm.cdf(i, a0, sig0) for i in x])\n",
        "Fn = np.array([F(i, sort_array) for i in x])\n",
        "\n",
        "diff = np.abs( Fn - F_norm)\n",
        "\n",
        "# Максимальная разность\n",
        "D = np.max(diff)\n",
        "Dn = D * np.sqrt(n)\n",
        "\n",
        "print(\"Dn =\", round(Dn, 2))"
      ]
    },
    {
      "cell_type": "markdown",
      "metadata": {
        "id": "CB4x6INmRprO"
      },
      "source": [
        "$ D_n > x_\\alpha $, значит гипотеза $H_0$ отвергается.\n",
        "\n",
        "Найдём наибольшее значение уровня значимости, на котором нет оснований отвергнуть гипотезу.\n",
        "\n",
        "$\\alpha_2 \\le 1 - \\mathcal{K}(D_n)$"
      ]
    },
    {
      "cell_type": "code",
      "execution_count": 77,
      "metadata": {
        "id": "eFOW5SnARprO",
        "outputId": "495bda8b-16d8-434e-b4f1-739c97e29426"
      },
      "outputs": [
        {
          "name": "stdout",
          "output_type": "stream",
          "text": [
            "Гипотеза может быть принята, если уровень значимости не более: 4.6305936862722774e-10\n"
          ]
        }
      ],
      "source": [
        "func = stats.ksone(50)\n",
        "D = 0.45\n",
        "a_max = 1 - func.cdf(D)\n",
        "print(\"Гипотеза может быть принята, если уровень значимости не более:\", a_max)"
      ]
    },
    {
      "cell_type": "markdown",
      "metadata": {
        "id": "7bNZVH4FRprP"
      },
      "source": [
        "Построим графики"
      ]
    },
    {
      "cell_type": "code",
      "execution_count": 78,
      "metadata": {
        "id": "1gWUYYqRRprP",
        "outputId": "77cfd6f8-2525-4ad0-c9a6-127bf49ab746"
      },
      "outputs": [
        {
          "data": {
            "image/png": "[encoded data removed]",
            "text/plain": [
              "<Figure size 640x480 with 1 Axes>"
            ]
          },
          "metadata": {},
          "output_type": "display_data"
        }
      ],
      "source": [
        "plt.title('Выборочная функция распределения ошибки и функция нормального распределения')\n",
        "plt.xlabel('x')\n",
        "plt.ylabel('y')\n",
        "plt.plot(x, F_norm)\n",
        "plt.plot(x, Fn, '--r')\n",
        "plt.show()"
      ]
    },
    {
      "cell_type": "markdown",
      "metadata": {
        "id": "9eFpPnQ3RprP"
      },
      "source": [
        "#### Задание 3.\n",
        "В предположении нормальности ошибок построить доверительные интервалы для параметров $\\beta_0$ и $\\beta_1$ уровня доверия 1 − $\\alpha$. Построить доверительный эллипс уровня доверия 1 − $\\alpha$ для $(\\beta_0, \\beta_1)$. (вычислить его полуоси)"
      ]
    },
    {
      "cell_type": "markdown",
      "metadata": {
        "id": "uSW3wUzNRprP"
      },
      "source": [
        "$\\psi = C^T \\beta $\n",
        "\n",
        "$ b_\\psi = C^T (XX^T)^{-1}C$\n",
        "\n",
        "$ \\cfrac{\\widehat \\psi - \\psi}{s\\sqrt{b}} \\sim S_{n-r} $\n",
        "\n",
        "$ x_\\alpha : S_{n-r}(x_\\alpha) = 1 -\\frac{\\alpha}{2} $\n",
        "\n",
        "$ P_\\theta(-x_\\alpha \\le \\cfrac{\\widehat \\psi - \\psi}{s\\sqrt{b}} \\le x_\\alpha) = 1 -\\alpha $\n",
        "\n",
        "$ \\widehat \\psi -x_{\\alpha}s\\sqrt{b} \\le \\psi \\le \\widehat \\psi +x_{\\alpha}s\\sqrt{b} $ - доверительный интервал для $\\psi$\n",
        "\n",
        "Для $\\beta_0:$\n",
        "\n",
        "$ C = \\begin{pmatrix}\n",
        "    1 \\\\\n",
        "    0\n",
        "\\end{pmatrix} $, $\\widehat \\psi = \\widehat \\beta_0 $, $b$ - элемент в матрице $ (XX^T)^{-1}$ на позиции $(1,1) $"
      ]
    },
    {
      "cell_type": "code",
      "execution_count": 79,
      "metadata": {
        "id": "CpraK2S5RprP",
        "outputId": "5ca318a5-c1da-4c2f-af98-454ca535512f"
      },
      "outputs": [
        {
          "name": "stdout",
          "output_type": "stream",
          "text": [
            "Квантиль x_a = 2.6822040269502136\n",
            "[[ 0.05741793 -0.01473147]\n",
            " [-0.01473147  0.00579979]]\n",
            "b_0 = 0.057417932954413664\n",
            "b_1 = 0.005799791207516531\n"
          ]
        }
      ],
      "source": [
        "func = stats.t(n - 2)\n",
        "x_a = func.ppf(1 - alpha/2)\n",
        "print(\"Квантиль x_a =\", x_a)\n",
        "\n",
        "C_0 = np.array([1, 0])\n",
        "b_0 = np.dot(np.dot(C_0.T, np.linalg.inv(np.dot(X, X.T))), C_0)\n",
        "C_1 = np.array([0, 1])\n",
        "b_1 = np.dot(np.dot(C_1.T, np.linalg.inv(np.dot(X, X.T))), C_1)\n",
        "print(np.linalg.inv(np.dot(X, X.T)))\n",
        "print(\"b_0 =\", b_0)\n",
        "print(\"b_1 =\",b_1)\n"
      ]
    },
    {
      "cell_type": "code",
      "execution_count": 80,
      "metadata": {
        "id": "A7HNRjGGRprQ",
        "outputId": "9084cdd5-019f-4fc3-c289-f0d50aa5e63b"
      },
      "outputs": [
        {
          "name": "stdout",
          "output_type": "stream",
          "text": [
            "Доверительный интервал для betta_0 [11.407325998246513; 18.469351881349837] уровня доверия 0.99\n"
          ]
        }
      ],
      "source": [
        "x_a = 2.6822040269502136\n",
        "b = 0.057417932954413664\n",
        "\n",
        "left = beta[0] - x_a * np.sqrt(s) * np.sqrt(b)\n",
        "right = beta[0] + x_a * np.sqrt(s) * np.sqrt(b)\n",
        "print(\"Доверительный интервал для betta_0 [{}; {}] уровня доверия {}\".format(left, right, 1-alpha))"
      ]
    },
    {
      "cell_type": "markdown",
      "metadata": {
        "id": "IQ06TfRRRprQ"
      },
      "source": [
        "Для $\\beta_1:$\n",
        "\n",
        "$ C = \\begin{pmatrix}\n",
        "    0 \\\\\n",
        "    1\n",
        "\\end{pmatrix} $, $\\widehat \\psi = \\widehat \\beta_1 $, $b$ - элемент в матрице $ (XX^T)^{-1}$ на позиции $(2,2) $"
      ]
    },
    {
      "cell_type": "code",
      "execution_count": 81,
      "metadata": {
        "id": "7UMmBXFzRprQ",
        "outputId": "25ff906f-d0db-4262-88b1-5c7b63e042ed"
      },
      "outputs": [
        {
          "name": "stdout",
          "output_type": "stream",
          "text": [
            "Доверительный интервал для betta_1 [-1.4590559348884298; 0.7854032263859325] уровня доверия 0.99\n"
          ]
        }
      ],
      "source": [
        "x_a = 2.6822040269502136\n",
        "b = 0.005799791207516531\n",
        "\n",
        "left = beta[1] - x_a * np.sqrt(s) * np.sqrt(b)\n",
        "right = beta[1] + x_a * np.sqrt(s) * np.sqrt(b)\n",
        "print(\"Доверительный интервал для betta_1 [{}; {}] уровня доверия {}\".format(left, right, 1-alpha))"
      ]
    },
    {
      "cell_type": "markdown",
      "metadata": {
        "id": "9bRVwIezRprQ"
      },
      "source": [
        "Построим доверительный эллипс"
      ]
    },
    {
      "cell_type": "markdown",
      "metadata": {
        "id": "p7_pTvfMRprX"
      },
      "source": [
        "Доверительный эллипсоид уровня доверия 1 - $\\alpha$\n",
        "\n",
        "$ A_\\alpha = \\{x: (x - \\widehat \\psi)^T (C^T (XX^T)^{-1}C)^{-1}(x - \\widehat \\psi) \\le qs^2x_\\alpha\\}$, где\n",
        "\n",
        "$ x_\\alpha = F_{q, n-r}(x_\\alpha) = 1 - \\alpha$\n",
        "\n",
        "$ Для \\; (\\beta_0, \\beta_1)$\n",
        "\n",
        "$C = \\begin{pmatrix}\n",
        "    1 & 0\\\\\n",
        "    0 & 1\n",
        "\\end{pmatrix} $\n",
        "\n",
        "Пусть $ \\begin{pmatrix}\n",
        "    x\\\\\n",
        "    y\n",
        "\\end{pmatrix}  = P(\\widehat \\psi - \\psi)$, где P - матрица собственных векторов.\n",
        "\n",
        "Тогда уравнение доверительного эллипсоида выглядит таким образом:\n",
        "\n",
        "$(\\widehat \\psi -  \\psi)^T (C^T (XX^T)^{-1}C)^{-1}(\\widehat \\psi -  \\psi) = \\lambda_1 x^2 + \\lambda_2 y^2 \\le qs^2x_\\alpha$, где $\\lambda_1$ и $\\lambda_2$ - собственные числа матрицы $XX^T$\n",
        "\n",
        "$\\cfrac{\\lambda_1}{qs^2x_\\alpha}x^2 + \\cfrac{\\lambda_2}{qs^2x_\\alpha}y^2 \\le 1$\n",
        "\n"
      ]
    },
    {
      "cell_type": "code",
      "execution_count": 82,
      "metadata": {
        "id": "A7Tb53_ARprX",
        "outputId": "c7249da2-3d75-4914-eac0-6c99bd6cc778"
      },
      "outputs": [
        {
          "name": "stdout",
          "output_type": "stream",
          "text": [
            "Собственные числа:\n",
            "[ 16.30622568 528.69377432]\n",
            "\n",
            "Собственные векторы:\n",
            "[[-0.96656175  0.25643397]\n",
            " [-0.25643397 -0.96656175]]\n",
            "\n",
            "Матрица перехода:\n",
            "[[-0.96656175 -0.25643397]\n",
            " [ 0.25643397 -0.96656175]]\n",
            "\n",
            "Проверка\n",
            "[-15.76097407   4.18147011]\n",
            "[-15.76097407   4.18147011]\n",
            "\n",
            "beta\n",
            "14.938338939798175 -0.3368263542512486\n",
            "\n",
            "Квантиль x_a = 5.07666380708612\n",
            "\n",
            "Большая полуось:\n",
            "4.335218934148505\n",
            "Малая полуось:\n",
            "0.7613522946029091\n"
          ]
        }
      ],
      "source": [
        "eigenvalues, eigenvectors = np.linalg.eig(XX_T)\n",
        "print(\"Собственные числа:\")\n",
        "print(eigenvalues)\n",
        "print(\"\\nСобственные векторы:\")\n",
        "print(eigenvectors.T)\n",
        "print(\"\\nМатрица перехода:\")\n",
        "print(eigenvectors)\n",
        "print(\"\\nПроверка\")\n",
        "print(np.dot(XX_T, eigenvectors.T[0]))\n",
        "print(np.dot(16.30622568, eigenvectors.T[0]))\n",
        "print(\"\\nbeta\")\n",
        "print(beta[0], beta[1])\n",
        "\n",
        "func = stats.f(2, n - 2)\n",
        "x_a = func.ppf(1 - alpha)\n",
        "print(\"\\nКвантиль x_a =\", x_a)\n",
        "\n",
        "print(\"\\nБольшая полуось:\")\n",
        "print(np.sqrt(2 * 30.18335032 * 5.07666 / 16.30622568))\n",
        "\n",
        "print(\"Малая полуось:\")\n",
        "print(np.sqrt(2 * 30.18335032 * 5.07666 / 528.69377432))"
      ]
    },
    {
      "cell_type": "markdown",
      "metadata": {
        "id": "8f74lYUQRprY"
      },
      "source": [
        "$ \\begin{pmatrix} x\\\\ y \\end{pmatrix} =  \\begin{pmatrix} -0.96656175 && -0.25643397\\\\ 0.25643397 && -0.96656175 \\end{pmatrix} \\cdot \\begin{pmatrix} 14.938338939798175 - \\beta_0\\\\ -0.3368263542512486 - \\beta_1 \\end{pmatrix} = \\begin{pmatrix} -14.352453 + 0.96656175\\beta_0 + 0.25643397\\beta_1\\\\ 4.156261 - 0.25643397\\beta_0 + 0.96656175\\beta_1 \\end{pmatrix} $\n",
        "\n",
        "Уравнение эллипса:\n",
        "\n",
        "$\\cfrac{16.30622568}{2 \\cdot 30.18335032 \\cdot 5.07666} \\cdot x^2 + \\cfrac{528.69377432}{2 \\cdot 30.18335032 \\cdot 5.07666}\\cdot y^2 \\le 1 $\n",
        "\n",
        "$\\cfrac{16.30622568}{2 \\cdot 30.18335032 \\cdot 5.07666} \\cdot (-14.352453 + 0.96656175\\beta_0 + 0.25643397\\beta_1)^2 + \\cfrac{528.69377432}{2 \\cdot 30.18335032 \\cdot 5.07666}\\cdot (4.156261 - 0.25643397\\beta_0 + 0.96656175\\beta_1)^2 \\le 1 $\n",
        "\n",
        "Найдём полуоси эллипса:\n",
        "\n",
        "Большая полуось = $ \\cfrac{2 \\cdot 30.18335032 \\cdot 5.07666 }{16.30622568} = 18.7941$\n",
        "\n",
        "Малая полуось = $ \\cfrac{2 \\cdot 30.18335032 \\cdot 5.07666 }{528.69377432} = 0.57966 $\n",
        "\n"
      ]
    },
    {
      "cell_type": "code",
      "execution_count": 83,
      "metadata": {
        "id": "oFJtJu9bRprY",
        "outputId": "d65963b7-7727-47fe-ceb3-ac26bded3ac2"
      },
      "outputs": [
        {
          "data": {
            "image/png": "[encoded data removed]",
            "text/plain": [
              "<Figure size 500x500 with 1 Axes>"
            ]
          },
          "metadata": {},
          "output_type": "display_data"
        }
      ],
      "source": [
        "import matplotlib.pyplot as plt\n",
        "import numpy as np\n",
        "\n",
        "# Параметры первого эллипса\n",
        "a1 = np.sqrt(16.30622568 / (2 * 30.18335032 * 5.07666))\n",
        "b1 = np.sqrt(528.69377432 / (2 * 30.18335032 * 5.07666))\n",
        "\n",
        "# Уравнение первого эллипса\n",
        "def first_ellipse_equation(x, y):\n",
        "    return x**2 * a1**2 + y**2 * b1**2\n",
        "\n",
        "# Уравнение второго эллипса в терминах beta_0 и beta_1\n",
        "def second_ellipse_equation(beta0, beta1):\n",
        "    return ((-14.352453 + 0.96656175 * beta0 + 0.25643397 * beta1) ** 2) * a1**2 + \\\n",
        "           ((4.156261 - 0.25643397 * beta0 + 0.96656175 * beta1) ** 2) * b1**2\n",
        "\n",
        "# Генерация данных для построения графика\n",
        "x_vals = np.linspace(-5, 20, 400)\n",
        "y_vals = np.linspace(-3, 3, 200)\n",
        "x, y = np.meshgrid(x_vals, y_vals)\n",
        "Z1 = first_ellipse_equation(x, y)\n",
        "Z2 = second_ellipse_equation(x, y)\n",
        "\n",
        "# Построение графика\n",
        "plt.figure(figsize=(5, 5))\n",
        "\n",
        "# Первый эллипс\n",
        "contour1 = plt.contour(x, y, Z1, levels=[1], colors='blue', linewidths=2)\n",
        "plt.plot([], [], color='blue', label='Первый эллипс')\n",
        "\n",
        "# Второй эллипс\n",
        "contour2 = plt.contour(x, y, Z2, levels=[1], colors='red', linewidths=2)\n",
        "plt.plot([], [], color='red', label='Второй эллипс')\n",
        "\n",
        "# Добавление легенды\n",
        "plt.legend()\n",
        "\n",
        "plt.title('Два эллипса')\n",
        "plt.xlabel('X')\n",
        "plt.ylabel('Y')\n",
        "plt.grid(True)\n",
        "plt.axhline(0, color='black', linewidth=0.5)\n",
        "plt.axvline(0, color='black', linewidth=0.5)\n",
        "plt.axis('equal')\n",
        "plt.show()"
      ]
    },
    {
      "cell_type": "markdown",
      "metadata": {
        "id": "fWeyok7JRprY"
      },
      "source": [
        "#### Задание 4.\n",
        "Сформулировать гипотезу независимости переменной Y от переменной X. Провести проверку значимости."
      ]
    },
    {
      "cell_type": "markdown",
      "metadata": {
        "id": "S3G7gpEtRprY"
      },
      "source": [
        "$\\psi = C^T \\beta $\n",
        "\n",
        "$ H_0 : \\beta_1 = 0$\n",
        "\n",
        "$\\mathcal{F} = \\cfrac{\\widehat \\psi^T ((C^T (XX^T)^{-1}C)^{-1}) \\widehat \\psi}{qs^2} \\sim F_{q, n-r}$\n",
        "\n",
        "$x_\\alpha: F_{q, n-r}(x_\\alpha) = 1 - \\alpha $\n",
        "\n",
        "$ C = \\begin{pmatrix}\n",
        "    0 \\\\\n",
        "    1\n",
        "\\end{pmatrix} $, $\\widehat \\psi = \\widehat \\beta_1, q = 1 $\n",
        "\n",
        "$\\mathcal{F} = \\cfrac{{\\widehat \\beta_1} ^2}{bqs^2} $\n"
      ]
    },
    {
      "cell_type": "code",
      "execution_count": 84,
      "metadata": {
        "id": "Ok0kdoAZRprZ",
        "outputId": "84da007e-e331-46de-f713-ef1f9f4476bf"
      },
      "outputs": [
        {
          "name": "stdout",
          "output_type": "stream",
          "text": [
            "Квантиль x_a = 7.194218442187959\n",
            "[[ 0.05741793 -0.01473147]\n",
            " [-0.01473147  0.00579979]]\n",
            "b_1 = 0.005799791207516531\n"
          ]
        }
      ],
      "source": [
        "func = stats.f(1, n - 2)\n",
        "x_a = func.ppf(1 - alpha)\n",
        "print(\"Квантиль x_a =\", x_a)\n",
        "\n",
        "C_1 = np.array([0, 1])\n",
        "b_1 = np.dot(np.dot(C_1.T, np.linalg.inv(np.dot(X, X.T))), C_1)\n",
        "print(np.linalg.inv(np.dot(X, X.T)))\n",
        "print(\"b_1 =\",b_1)"
      ]
    },
    {
      "cell_type": "code",
      "execution_count": 85,
      "metadata": {
        "id": "3VaXJdK_RprZ",
        "outputId": "f2eb3de2-42f8-417d-e1c0-838fcffec284"
      },
      "outputs": [
        {
          "name": "stdout",
          "output_type": "stream",
          "text": [
            "0.6480855309726182\n"
          ]
        }
      ],
      "source": [
        "F = beta[1]**2 / (0.005799791207516531 * 1 * 30.183350320438464)\n",
        "print(F)"
      ]
    },
    {
      "cell_type": "markdown",
      "metadata": {
        "id": "morqFMkkRprZ"
      },
      "source": [
        "$\\mathcal{F} < x_\\alpha \\Rightarrow$ принимаем $H_0$\n",
        "\n",
        "Найдём наибольшее значение уровня значимости, на котором нет оснований отвергнуть гипотезу."
      ]
    },
    {
      "cell_type": "code",
      "execution_count": 86,
      "metadata": {
        "id": "l4CI98igRprZ",
        "outputId": "eaf5b7d8-9cf5-4c0f-a23b-2f44c5f72265"
      },
      "outputs": [
        {
          "name": "stdout",
          "output_type": "stream",
          "text": [
            "Гипотеза может быть принята, если уровень значимости не более: 0.424767820795271\n"
          ]
        }
      ],
      "source": [
        "F = 0.6480855309726182\n",
        "a_max = 1 - stats.f.cdf(F, 1, n - 2)\n",
        "print(\"Гипотеза может быть принята, если уровень значимости не более:\", a_max)"
      ]
    },
    {
      "cell_type": "markdown",
      "metadata": {
        "id": "5L7NcQquRpra"
      },
      "source": [
        "#### Задание 5\n",
        "Сформулировать модель, включающую дополнительный член $X^2$. Построить МНК оценки параметров $\\beta_0, \\beta_1, \\beta_2$ в данной модели. Изобразить полученную регрессионную зависимость."
      ]
    },
    {
      "cell_type": "markdown",
      "metadata": {
        "id": "kKmsL5ipRpra"
      },
      "source": [
        "Линейная регрессионная модель:\n",
        "\n",
        "$ Y = X^T \\beta + \\varepsilon , \\quad  \\varepsilon $ - вектор ошибок\n",
        "\n",
        "$ E_\\theta \\varepsilon = 0 , \\quad Var_\\theta \\varepsilon = \\sigma^2 E $\n",
        "\n",
        "$ E(Y|X) = \\beta_0 + \\beta_1X + \\beta_1X^2, \\quad \\beta = (\\beta_0, \\beta_1, \\beta_2) $\n",
        "\n",
        "МНК оценка:\n",
        "\n",
        "$ \\widehat \\beta = (XX^T)^{-1}XY $\n",
        "\n"
      ]
    },
    {
      "cell_type": "code",
      "execution_count": 87,
      "metadata": {
        "id": "Epfq0IlsRpra",
        "outputId": "09d7fdcc-2353-49ff-e5fc-8d3a3859bad6"
      },
      "outputs": [
        {
          "name": "stdout",
          "output_type": "stream",
          "text": [
            "[15.32370048 -0.90697364  0.10735481]\n"
          ]
        }
      ],
      "source": [
        "X_1 = np.array([[1 for i in range(50)], X_0, [i**2 for i in X_0]])\n",
        "Y_1 = np.array(Y_0)\n",
        "XX_T_1 = np.dot(X_1, X_1.T)\n",
        "XX_T_inv_1 = np.linalg.inv(XX_T_1)\n",
        "beta_1 = np.dot(np.dot(XX_T_inv_1, X_1), Y_1)\n",
        "print(beta_1)"
      ]
    },
    {
      "cell_type": "markdown",
      "metadata": {
        "id": "OzQnvPvaRpra"
      },
      "source": [
        "$\\beta_0 = 15.32370048$\n",
        "\n",
        "$\\beta_1 = -0.90697364$\n",
        "\n",
        "$\\beta_2 = 0.10735481$\n"
      ]
    },
    {
      "cell_type": "code",
      "execution_count": 88,
      "metadata": {
        "id": "lZAPYGswRpra",
        "outputId": "79df8e76-6335-4e77-950e-69463ca335d6"
      },
      "outputs": [
        {
          "data": {
            "image/png": "[encoded data removed]",
            "text/plain": [
              "<Figure size 640x480 with 1 Axes>"
            ]
          },
          "metadata": {},
          "output_type": "display_data"
        }
      ],
      "source": [
        "plt.plot(X_0, Y_0, 'o', label='Data')\n",
        "\n",
        "X_2 = np.array([[1 for i in range(50)], sorted(X_0), [i**2 for i in sorted(X_0)]])\n",
        "\n",
        "# Строим линию\n",
        "model_line_1 = np.dot(X_2.T, beta_1)\n",
        "plt.plot(sorted(X_0), model_line_1, 'o-', color='red')\n",
        "plt.xlabel('X')\n",
        "plt.ylabel('Y')\n",
        "plt.show()"
      ]
    },
    {
      "cell_type": "markdown",
      "metadata": {
        "id": "qtSWXAO_Rprb"
      },
      "source": [
        "#### Задание 6\n",
        "Построить несмещенную оценку дисперсии. Провести исследование нормальности ошибок как в пункте 2."
      ]
    },
    {
      "cell_type": "markdown",
      "metadata": {
        "id": "Ge2yCIBrRprb"
      },
      "source": [
        "Построим несмещенную оценку дисперсии\n",
        "\n",
        "$ s^2 = \\frac{1}{n-r} \\cdot  (Y - X^T \\widehat \\beta)^T (Y - X^T \\widehat \\beta) $\n",
        "\n",
        "$ r = 3$ - ранг X\n"
      ]
    },
    {
      "cell_type": "code",
      "execution_count": 89,
      "metadata": {
        "id": "XqT24naNRprb",
        "outputId": "d4a61e32-201f-43aa-9332-1972406bf010"
      },
      "outputs": [
        {
          "name": "stdout",
          "output_type": "stream",
          "text": [
            "30.75312841373129\n"
          ]
        }
      ],
      "source": [
        "\n",
        "res = np.dot((Y_1 - np.dot(X_1.T, beta_1)).T, (Y_1 - np.dot(X_1.T, beta_1)))\n",
        "s_1 = res/(n-3)\n",
        "print(s_1)\n"
      ]
    },
    {
      "cell_type": "markdown",
      "metadata": {
        "id": "vctuqmYJRprb"
      },
      "source": [
        "$ s^2 = 30.75312841373129 $\n",
        "\n",
        "Вектор ошибок"
      ]
    },
    {
      "cell_type": "code",
      "execution_count": 90,
      "metadata": {
        "id": "mkHkTuoARprc",
        "outputId": "f18c6889-9d83-4f30-f90a-d0e9bc9b2b90"
      },
      "outputs": [
        {
          "name": "stdout",
          "output_type": "stream",
          "text": [
            "[-10.3434828  -10.06917241  -9.12370048  -8.3727024   -7.1089728\n",
            "  -6.99370048  -6.52408164  -6.3334828   -6.11917241  -5.9634828\n",
            "  -5.2927024   -4.8027024   -4.23917241  -4.05408164  -3.13370048\n",
            "  -2.9234828   -1.7589728   -1.70408164  -1.44408164  -1.4027024\n",
            "  -1.38370048  -1.25370048   0.0572976    0.08082759   0.27629952\n",
            "   0.2972976    0.4172976    0.93591836   1.13082759   1.7772976\n",
            "   1.8365172    2.30591836   2.8572976    3.0272976    3.1465172\n",
            "   3.2910272    3.34629952   3.69591836   4.10082759   4.32591836\n",
            "   4.78082759   4.8772976    4.91591836   6.07591836   6.81591836\n",
            "   6.89629952   7.22082759   8.7072976   10.9672976   12.18082759]\n"
          ]
        }
      ],
      "source": [
        "print(np.squeeze(sorted(Y_1- np.dot(X_1.T, beta_1))))"
      ]
    },
    {
      "cell_type": "markdown",
      "metadata": {
        "id": "cFG7R_JhRprc"
      },
      "source": [
        "Построим гиитограмму с шагом h = 2.20"
      ]
    },
    {
      "cell_type": "code",
      "execution_count": 91,
      "metadata": {
        "id": "pHyr_xv2Rprc",
        "outputId": "727a7934-7e53-49da-86df-7c9d7babea2a"
      },
      "outputs": [
        {
          "ename": "ValueError",
          "evalue": "The truth value of an array with more than one element is ambiguous. Use a.any() or a.all()",
          "output_type": "error",
          "traceback": [
            "\u001b[1;31m---------------------------------------------------------------------------\u001b[0m",
            "\u001b[1;31mValueError\u001b[0m                                Traceback (most recent call last)",
            "Cell \u001b[1;32mIn[91], line 2\u001b[0m\n\u001b[0;32m      1\u001b[0m data_1 \u001b[38;5;241m=\u001b[39m np\u001b[38;5;241m.\u001b[39msqueeze(Y_1 \u001b[38;5;241m-\u001b[39m np\u001b[38;5;241m.\u001b[39mdot(X_1\u001b[38;5;241m.\u001b[39mT, beta_1))\n\u001b[1;32m----> 2\u001b[0m h, b, _ \u001b[38;5;241m=\u001b[39m plt\u001b[38;5;241m.\u001b[39mhist(data_1, bins\u001b[38;5;241m=\u001b[39m\u001b[43mnp\u001b[49m\u001b[38;5;241;43m.\u001b[39;49m\u001b[43marange\u001b[49m\u001b[43m(\u001b[49m\u001b[38;5;28;43mmin\u001b[39;49m\u001b[43m(\u001b[49m\u001b[43mdata_1\u001b[49m\u001b[43m)\u001b[49m\u001b[43m,\u001b[49m\u001b[43m \u001b[49m\u001b[38;5;28;43mmax\u001b[39;49m\u001b[43m(\u001b[49m\u001b[43mdata_1\u001b[49m\u001b[43m)\u001b[49m\u001b[43m \u001b[49m\u001b[38;5;241;43m+\u001b[39;49m\u001b[43m \u001b[49m\u001b[43mh\u001b[49m\u001b[43m,\u001b[49m\u001b[43m \u001b[49m\u001b[43mh\u001b[49m\u001b[43m)\u001b[49m, edgecolor\u001b[38;5;241m=\u001b[39m\u001b[38;5;124m'\u001b[39m\u001b[38;5;124mblack\u001b[39m\u001b[38;5;124m'\u001b[39m, color\u001b[38;5;241m=\u001b[39m\u001b[38;5;124m'\u001b[39m\u001b[38;5;124mgreen\u001b[39m\u001b[38;5;124m'\u001b[39m)\n\u001b[0;32m      3\u001b[0m \u001b[38;5;28;01mfor\u001b[39;00m i \u001b[38;5;129;01min\u001b[39;00m \u001b[38;5;28mrange\u001b[39m(\u001b[38;5;28mlen\u001b[39m(h)):\n\u001b[0;32m      4\u001b[0m     \u001b[38;5;28mprint\u001b[39m(\u001b[38;5;124mf\u001b[39m\u001b[38;5;124m'\u001b[39m\u001b[38;5;124mИнтервал: (\u001b[39m\u001b[38;5;132;01m{\u001b[39;00m\u001b[38;5;28mround\u001b[39m(b[i],\u001b[38;5;250m \u001b[39m\u001b[38;5;241m4\u001b[39m)\u001b[38;5;132;01m}\u001b[39;00m\u001b[38;5;124m, \u001b[39m\u001b[38;5;132;01m{\u001b[39;00m\u001b[38;5;28mround\u001b[39m(b[i\u001b[38;5;241m+\u001b[39m\u001b[38;5;241m1\u001b[39m],\u001b[38;5;250m \u001b[39m\u001b[38;5;241m4\u001b[39m)\u001b[38;5;132;01m}\u001b[39;00m\u001b[38;5;124m), Количество чисел: \u001b[39m\u001b[38;5;132;01m{\u001b[39;00mh[i]\u001b[38;5;132;01m}\u001b[39;00m\u001b[38;5;124m'\u001b[39m)\n",
            "\u001b[1;31mValueError\u001b[0m: The truth value of an array with more than one element is ambiguous. Use a.any() or a.all()"
          ]
        }
      ],
      "source": [
        "data_1 = np.squeeze(Y_1 - np.dot(X_1.T, beta_1))\n",
        "h, b, _ = plt.hist(data_1, bins=np.arange(min(data_1), max(data_1) + h, h), edgecolor='black', color='green')\n",
        "for i in range(len(h)):\n",
        "    print(f'Интервал: ({round(b[i], 4)}, {round(b[i+1], 4)}), Количество чисел: {h[i]}')\n",
        "plt.title('Гистограмма')\n",
        "plt.show()\n",
        "\n",
        "print(h)\n",
        "print(b)"
      ]
    },
    {
      "cell_type": "markdown",
      "metadata": {
        "id": "oohbeFn0Rprc"
      },
      "source": [
        "Проверим гипотезу нормальности ошибок на уровне значимости $\\alpha = 0.01$ по $\\chi^2$\n",
        "\n",
        "$ H_0 : \\varepsilon_1, ..., \\varepsilon_n \\sim \\mathcal{N}(0, \\sigma^2)$\n",
        "\n",
        "Объединим интервалы, чтобы в каждом было не менее 5 элементов\n",
        "\n",
        "$I_1 = (-\\infty, -5.9], \\; n_1 = 10$\n",
        "\n",
        "$I_2 = (-5.9, -1.5], \\; n_2 = 8$\n",
        "\n",
        "$I_3 = (-1.5, 0.7], \\; n_3 = 9$\n",
        "\n",
        "$I_{4} = (0.7, 2.9], \\; n_{4} = 5$\n",
        "\n",
        "$I_{5} = (2.9, 5.1], \\; n_{5} = 11$\n",
        "\n",
        "$I_{6} = (5.1, +\\infty), \\; n_{6} = 7$"
      ]
    },
    {
      "cell_type": "code",
      "execution_count": null,
      "metadata": {
        "id": "lajtopa5Rprd",
        "outputId": "7183cbaa-321c-4be0-f3e4-87a6eafff09c"
      },
      "outputs": [
        {
          "name": "stdout",
          "output_type": "stream",
          "text": [
            "Значение параметра = 5.767771152890447\n",
            "Значение X^2 = 7.99837420543996\n",
            "Квантиль x_a = 13.276704135987622\n",
            "True\n"
          ]
        }
      ],
      "source": [
        "def min_sum(s):\n",
        "    arr = np.array([-5.9, -1.5, 0.7, 2.9, 5.1])\n",
        "    res = np.zeros(len(arr) + 1)\n",
        "\n",
        "    res[0] = stats.norm.cdf(arr[0], 0, s)\n",
        "\n",
        "    for i in range(1, len(arr)):\n",
        "        res[i] = stats.norm.cdf(arr[i], 0, s) - stats.norm.cdf(arr[i-1], 0, s)\n",
        "\n",
        "    res[len(arr)] = 1 - stats.norm.cdf(arr[-1], 0, s)\n",
        "    v = np.array([10, 8, 9, 5, 11, 7])\n",
        "    ans = ((v - 50 * res) ** 2) / (50 * res)\n",
        "    return np.sum(ans)\n",
        "\n",
        "result = scipy.optimize.minimize_scalar(min_sum)\n",
        "\n",
        "print(\"Значение параметра =\", result.x)\n",
        "print(\"Значение X^2 =\", result.fun)\n",
        "\n",
        "func = stats.chi2(6 - 1 -1)\n",
        "fx = 1 - alpha\n",
        "x_a = func.ppf(fx)\n",
        "\n",
        "print(\"Квантиль x_a =\", x_a)\n",
        "\n",
        "print(result.fun <= x_a)"
      ]
    },
    {
      "cell_type": "markdown",
      "metadata": {
        "id": "UShDMSt8Rprd"
      },
      "source": [
        "$ \\chi^2 = 7.99837420543996 $\n",
        "\n",
        "$ x_{a} : \\mathcal{K}_{r-d-1}(x_a) = 1 - \\alpha_1 = 1 - 0.01 = 0.99$\n",
        "\n",
        "$\\mathcal{X}^2 < x_\\alpha \\Rightarrow$ принимаем $H_0$\n",
        "\n",
        "Найдём наибольшее значение уровня значимости, на котором нет оснований отвергнуть гипотезу."
      ]
    },
    {
      "cell_type": "code",
      "execution_count": null,
      "metadata": {
        "id": "pfoDm5DpRprd",
        "outputId": "d7b0cf8e-12fb-4fd7-e8dd-1b569cacae78"
      },
      "outputs": [
        {
          "name": "stdout",
          "output_type": "stream",
          "text": [
            "Гипотеза может быть принята, если уровень значимости не более: 0.09163776753360453\n"
          ]
        }
      ],
      "source": [
        "Xi2 = 7.99837420543996\n",
        "a_max = 1 - chi2.cdf(Xi2, 6-1-1)\n",
        "print(\"Гипотеза может быть принята, если уровень значимости не более:\", a_max)"
      ]
    },
    {
      "cell_type": "markdown",
      "metadata": {
        "id": "F66QJQBURprd"
      },
      "source": [
        "Оценим расстояние полученной оценки до класса нормальных распределений по Колмогорову.\n",
        "\n",
        "$ H_0 : \\varepsilon_1, ..., \\varepsilon_n \\sim \\mathcal{N}(0, \\widehat {\\sigma^2}) $\n",
        "\n",
        "$ \\sqrt{n} \\cdot max|F_n(y) - F(y)| \\sim K $, $K$ - распределение Колмогорова."
      ]
    },
    {
      "cell_type": "code",
      "execution_count": null,
      "metadata": {
        "id": "Wwfy1_VXRpre",
        "outputId": "5ae9a162-55b2-4d7a-ade1-113ea6ebb059"
      },
      "outputs": [
        {
          "name": "stdout",
          "output_type": "stream",
          "text": [
            "x_alpha = 0.2106765432666897\n"
          ]
        }
      ],
      "source": [
        "lamb = stats.ksone.ppf(1 - alpha, 50)\n",
        "print(\"x_alpha =\", lamb)"
      ]
    },
    {
      "cell_type": "code",
      "execution_count": null,
      "metadata": {
        "id": "upXz_ECaRpre",
        "outputId": "d42bee2a-cbe1-4896-89d9-dbc722104708"
      },
      "outputs": [
        {
          "name": "stdout",
          "output_type": "stream",
          "text": [
            "Dn = 0.45\n"
          ]
        }
      ],
      "source": [
        "def F(x, array):\n",
        "    s = 0\n",
        "    for i in array:\n",
        "        if i >= x:\n",
        "            return s / 50\n",
        "        s += 1\n",
        "    return s / 50\n",
        "\n",
        "a0 = 0.00\n",
        "n = 50\n",
        "sig0 = np.sqrt(30.75312841373129)\n",
        "\n",
        "sort_array = np.squeeze(sorted(Y_1 - np.dot(X_1.T, beta_1)))\n",
        "\n",
        "x = np.arange(-5, 5, 0.001)\n",
        "#Fnorm = stats.norm.cdf(x, a0, sig0)\n",
        "\n",
        "F_norm = np.array([stats.norm.cdf(i, a0, sig0) for i in x])\n",
        "Fn = np.array([F(i, sort_array) for i in x])\n",
        "\n",
        "diff = np.abs( Fn - F_norm)\n",
        "\n",
        "# Максимальная разность\n",
        "D = np.max(diff)\n",
        "Dn = D * np.sqrt(n)\n",
        "\n",
        "print(\"Dn =\", round(Dn, 2))"
      ]
    },
    {
      "cell_type": "markdown",
      "metadata": {
        "id": "GDQXEUtwRpre"
      },
      "source": [
        "$ D_n > x_\\alpha $, значит гипотеза $H_0$ отвергается.\n",
        "\n",
        "Найдём наибольшее значение уровня значимости, на котором нет оснований отвергнуть гипотезу.\n",
        "\n",
        "$\\alpha_2 \\le 1 - \\mathcal{K}(D_n)$"
      ]
    },
    {
      "cell_type": "code",
      "execution_count": null,
      "metadata": {
        "id": "8f6PgP-IRpre",
        "outputId": "d893c449-0b52-4a4c-c5da-6ac02bb9a50d"
      },
      "outputs": [
        {
          "name": "stdout",
          "output_type": "stream",
          "text": [
            "Гипотеза может быть принята, если уровень значимости не более: 4.6305936862722774e-10\n"
          ]
        }
      ],
      "source": [
        "func = stats.ksone(50)\n",
        "D = 0.45\n",
        "a_max = 1 - func.cdf(D)\n",
        "print(\"Гипотеза может быть принята, если уровень значимости не более:\", a_max)"
      ]
    },
    {
      "cell_type": "markdown",
      "metadata": {
        "id": "j9n1Ak-PRprf"
      },
      "source": [
        "Построим графики"
      ]
    },
    {
      "cell_type": "code",
      "execution_count": null,
      "metadata": {
        "id": "4y7TMtKPRprf",
        "outputId": "acb658a8-f86a-4d53-ff92-d56001aa98e6"
      },
      "outputs": [
        {
          "data": {
            "image/png": "[encoded data removed]",
            "text/plain": [
              "<Figure size 640x480 with 1 Axes>"
            ]
          },
          "metadata": {},
          "output_type": "display_data"
        }
      ],
      "source": [
        "plt.title('Выборочная функция распределения ошибки и функция нормального распределения')\n",
        "plt.xlabel('x')\n",
        "plt.ylabel('y')\n",
        "plt.plot(x, F_norm)\n",
        "plt.plot(x, Fn, '--r')\n",
        "plt.show()"
      ]
    },
    {
      "cell_type": "markdown",
      "metadata": {
        "id": "IPtE3ri7Rprf"
      },
      "source": [
        "#### Задание 7\n",
        "В предположении нормальности ошибок построить доверительные интервалы для параметров $\\beta_0$, $\\beta_1$, $\\beta_2$  уровня доверия 1 − $\\alpha$. Написать уравнение доверительного эллипсоида уровня доверия 1 − $\\alpha$.\n"
      ]
    },
    {
      "cell_type": "markdown",
      "metadata": {
        "id": "NWyaLKKDRprf"
      },
      "source": [
        "$\\psi = C^T \\beta $\n",
        "\n",
        "$ b_\\psi = C^T (XX^T)^{-1}C$\n",
        "\n",
        "$ \\cfrac{\\widehat \\psi - \\psi}{s\\sqrt{b}} \\sim S_{n-r} $\n",
        "\n",
        "$ x_\\alpha : S_{n-r}(x_\\alpha) = 1 -\\frac{\\alpha}{2} $\n",
        "\n",
        "$ P_\\theta(-x_\\alpha \\le \\cfrac{\\widehat \\psi - \\psi}{s\\sqrt{b}} \\le x_\\alpha) = 1 -\\alpha $\n",
        "\n",
        "$ \\widehat \\psi -x_{\\alpha}s\\sqrt{b} \\le \\psi \\le \\widehat \\psi +x_{\\alpha}s\\sqrt{b} $ - доверительный интервал для $\\psi$\n",
        "\n",
        "Для $\\beta_0:$\n",
        "\n",
        "$ C = \\begin{pmatrix}\n",
        "    1 \\\\\n",
        "    0 \\\\\n",
        "    0\n",
        "\\end{pmatrix} $, $\\widehat \\psi = \\widehat \\beta_0 $, $b$ - элемент в матрице $ (XX^T)^{-1}$ на позиции $(1,1) $"
      ]
    },
    {
      "cell_type": "code",
      "execution_count": null,
      "metadata": {
        "id": "YnNwQ3fQRprf",
        "outputId": "12781107-2568-48f6-e598-2454b43cc58b"
      },
      "outputs": [
        {
          "name": "stdout",
          "output_type": "stream",
          "text": [
            "Квантиль x_a = 2.6845556178665215\n",
            "[[ 0.10104693 -0.07928113  0.01215426]\n",
            " [-0.07928113  0.10130183 -0.01798238]\n",
            " [ 0.01215426 -0.01798238  0.00338596]]\n",
            "b_0 = 0.10104693288255284\n",
            "b_1 = 0.10130183213254403\n",
            "b_2 = 0.0033859575256941442\n"
          ]
        }
      ],
      "source": [
        "func = stats.t(n - 3)\n",
        "x_a = func.ppf(1 - alpha/2)\n",
        "print(\"Квантиль x_a =\", x_a)\n",
        "\n",
        "C_0 = np.array([1, 0, 0])\n",
        "b_0 = np.dot(np.dot(C_0.T, np.linalg.inv(np.dot(X_1, X_1.T))), C_0)\n",
        "C_1 = np.array([0, 1, 0])\n",
        "b_1 = np.dot(np.dot(C_1.T, np.linalg.inv(np.dot(X_1, X_1.T))), C_1)\n",
        "C_2 = np.array([0, 0, 1])\n",
        "b_2 = np.dot(np.dot(C_2.T, np.linalg.inv(np.dot(X_1, X_1.T))), C_2)\n",
        "print(np.linalg.inv(np.dot(X_1, X_1.T)))\n",
        "print(\"b_0 =\", b_0)\n",
        "print(\"b_1 =\",b_1)\n",
        "print(\"b_2 =\",b_2)"
      ]
    },
    {
      "cell_type": "code",
      "execution_count": null,
      "metadata": {
        "id": "OGb6WLfWRprg",
        "outputId": "29af85cc-0312-4230-844a-9c68a0cb4da7"
      },
      "outputs": [
        {
          "name": "stdout",
          "output_type": "stream",
          "text": [
            "Доверительный интервал для betta_0 [10.591331216779318; 20.056069737777115] уровня доверия 0.99\n"
          ]
        }
      ],
      "source": [
        "x_a = 2.6845556178665215\n",
        "b = 0.10104693288255284\n",
        "\n",
        "left = beta_1[0] - x_a * np.sqrt(s_1) * np.sqrt(b)\n",
        "right = beta_1[0] + x_a * np.sqrt(s_1) * np.sqrt(b)\n",
        "print(\"Доверительный интервал для betta_0 [{}; {}] уровня доверия {}\".format(left, right, 1-alpha))"
      ]
    },
    {
      "cell_type": "markdown",
      "metadata": {
        "id": "OPjV6Bz3Rprg"
      },
      "source": [
        "\n",
        "Для $\\beta_1:$\n",
        "\n",
        "$ C = \\begin{pmatrix}\n",
        "    0 \\\\\n",
        "    1 \\\\\n",
        "    0\n",
        "\\end{pmatrix} $, $\\widehat \\psi = \\widehat \\beta_1 $, $b$ - элемент в матрице $ (XX^T)^{-1}$ на позиции $(2,2) $"
      ]
    },
    {
      "cell_type": "code",
      "execution_count": null,
      "metadata": {
        "id": "nKLqUTMyRprg",
        "outputId": "2ef6c71c-feb4-4699-8614-b54ccfd0a8e2"
      },
      "outputs": [
        {
          "name": "stdout",
          "output_type": "stream",
          "text": [
            "Доверительный интервал для betta_1 [-5.645308040383418; 3.83136075464808] уровня доверия 0.99\n"
          ]
        }
      ],
      "source": [
        "x_a = 2.6845556178665215\n",
        "b = 0.10130183213254403\n",
        "\n",
        "left = beta_1[1] - x_a * np.sqrt(s_1) * np.sqrt(b)\n",
        "right = beta_1[1] + x_a * np.sqrt(s_1) * np.sqrt(b)\n",
        "print(\"Доверительный интервал для betta_1 [{}; {}] уровня доверия {}\".format(left, right, 1-alpha))"
      ]
    },
    {
      "cell_type": "markdown",
      "metadata": {
        "id": "DkliczSzRprg"
      },
      "source": [
        "\n",
        "Для $\\beta_2:$\n",
        "\n",
        "$ C = \\begin{pmatrix}\n",
        "    0 \\\\\n",
        "    0 \\\\\n",
        "    1\n",
        "\\end{pmatrix} $, $\\widehat \\psi = \\widehat \\beta_1 $, $b$ - элемент в матрице $ (XX^T)^{-1}$ на позиции $(3,3) $"
      ]
    },
    {
      "cell_type": "code",
      "execution_count": null,
      "metadata": {
        "id": "XBKRR7qfRprg",
        "outputId": "8f570b11-e02c-4b3c-90f3-0ded7aa95f29"
      },
      "outputs": [
        {
          "name": "stdout",
          "output_type": "stream",
          "text": [
            "Доверительный интервал для betta_2 [-0.7589242407728872; 0.9736338520063591] уровня доверия 0.99\n"
          ]
        }
      ],
      "source": [
        "x_a = 2.6845556178665215\n",
        "b = 0.0033859575256941442\n",
        "\n",
        "left = beta_1[2] - x_a * np.sqrt(s_1) * np.sqrt(b)\n",
        "right = beta_1[2] + x_a * np.sqrt(s_1) * np.sqrt(b)\n",
        "print(\"Доверительный интервал для betta_2 [{}; {}] уровня доверия {}\".format(left, right, 1-alpha))"
      ]
    },
    {
      "cell_type": "markdown",
      "metadata": {
        "id": "y_sIg7AeRprh"
      },
      "source": [
        "Доверительный эллипсоид уровня доверия 1 - $\\alpha$\n",
        "\n",
        "$ A_\\alpha = \\{x: (x - \\widehat \\psi)^T (C^T (XX^T)^{-1}C)^{-1}(x - \\widehat \\psi) \\le qs^2x_\\alpha\\}$, где\n",
        "\n",
        "$ x_\\alpha = F_{q, n-r}(x_\\alpha) = 1 - \\alpha$\n",
        "\n",
        "$ Для \\; (\\beta_0, \\beta_1)$\n",
        "\n",
        "$C = \\begin{pmatrix}\n",
        "    1 & 0 & 0\\\\\n",
        "    0 & 1 & 0\\\\\n",
        "    0 & 0 & 1\n",
        "\\end{pmatrix} $\n",
        "\n",
        "Пусть $ \\begin{pmatrix}\n",
        "    x\\\\\n",
        "    y\\\\\n",
        "    z\n",
        "\\end{pmatrix}  = P(\\widehat \\psi - \\psi)$, где P - матрица собственных векторов.\n",
        "\n",
        "Тогда уравнение доверительного эллипсоида выглядит таким образом:\n",
        "\n",
        "$(\\widehat \\psi -  \\psi)^T (C^T (XX^T)^{-1}C)^{-1}(\\widehat \\psi -  \\psi) = \\lambda_1 x^2 + \\lambda_2 y^2 + \\lambda_3 z^2 \\le qs^2x_\\alpha$, где $\\lambda_1$ и $\\lambda_2$ - собственные числа матрицы $XX^T$\n",
        "\n",
        "$\\cfrac{\\lambda_1}{qs^2x_\\alpha}x^2 + \\cfrac{\\lambda_2}{qs^2x_\\alpha}y^2 + \\cfrac{\\lambda_3}{qs^2x_\\alpha}z^2 \\le 1$"
      ]
    },
    {
      "cell_type": "code",
      "execution_count": null,
      "metadata": {
        "id": "v0xSF2gfRprh",
        "outputId": "b19b08ca-0717-404a-d8e2-9aade64c3af1"
      },
      "outputs": [
        {
          "name": "stdout",
          "output_type": "stream",
          "text": [
            "Собственные числа:\n",
            "[1.05543921e+04 4.41429661e+01 5.46488971e+00]\n",
            "10554.392144 44.142966 5.464890\n",
            "\n",
            "Собственные векторы:\n",
            "[[-0.04855729 -0.21148339 -0.97617466]\n",
            " [-0.71300003 -0.67708987  0.1821545 ]\n",
            " [ 0.69948062 -0.70485749  0.11791001]]\n",
            "\n",
            "Матрица перехода:\n",
            "[[-0.04855729 -0.71300003  0.69948062]\n",
            " [-0.21148339 -0.67708987 -0.70485749]\n",
            " [-0.97617466  0.1821545   0.11791001]]\n",
            "\n",
            "beta\n",
            "15.323700477278216 -0.9069736428676691 0.10735480561673594\n",
            "\n",
            "Квантиль x_a = 4.217957838127227\n"
          ]
        }
      ],
      "source": [
        "eigenvalues, eigenvectors = np.linalg.eig(XX_T_1)\n",
        "print(\"Собственные числа:\")\n",
        "print(eigenvalues)\n",
        "print(\"{:f}\".format(eigenvalues[0]), \"{:f}\".format(eigenvalues[1]), \"{:f}\".format(eigenvalues[2]))\n",
        "print(\"\\nСобственные векторы:\")\n",
        "print(eigenvectors.T)\n",
        "print(\"\\nМатрица перехода:\")\n",
        "print(eigenvectors)\n",
        "\n",
        "print(\"\\nbeta\")\n",
        "print(beta_1[0], beta_1[1], beta_1[2])\n",
        "\n",
        "func = stats.f(3, n - 2)\n",
        "x_a = func.ppf(1 - alpha)\n",
        "print(\"\\nКвантиль x_a =\", x_a)\n"
      ]
    },
    {
      "cell_type": "markdown",
      "metadata": {
        "id": "dL2HOQnrRprh"
      },
      "source": [
        "$ \\begin{pmatrix} x\\\\ y\\\\ z \\end{pmatrix} =  \\begin{pmatrix} -0.04855729 & -0.71300003 & 0.69948062\\\\ -0.21148339 & -0.67708987 & -0.70485749\\\\ -0.97617466 & 0.1821545 & 0.11791001 \\end{pmatrix} \\cdot \\begin{pmatrix} 15.323700477278216 - \\beta_0\\\\ -0.9069736428676691 - \\beta_1 \\\\ 0.10735480561673594 - \\beta_2  \\end{pmatrix} = \\begin{pmatrix} -0.022312527 + 0.04855729\\beta_0 + 0.71300003\\beta_1 - 0.69948062\\beta_2 \\\\ -2.7022752971 + 0.21148339\\beta_0 + 0.67708987\\beta_1 + 0.70485749 \\beta_2 \\\\ -15.11115922757 + 0.97617466\\beta_0 - 0.1821545\\beta_1 - 0.11791001 \\beta_2  \\end{pmatrix} $\n",
        "\n",
        "Уравнение эллипса:\n",
        "\n",
        "$\\cfrac{10554.392144}{3 \\cdot 30.75312841373129 \\cdot 4.21796} \\cdot x^2 + \\cfrac{44.142966}{3 \\cdot 30.75312841373129 \\cdot 4.21796}\\cdot y^2 + \\cfrac{5.464890}{3 \\cdot 30.75312841373129 \\cdot 4.21796}\\cdot z^2 \\le 1 $\n",
        "\n",
        "$\\cfrac{10554.392144}{3 \\cdot 30.75312841373129 \\cdot 4.21796} \\cdot (-0.022312527 + 0.04855729\\beta_0 + 0.71300003\\beta_1 - 0.69948062\\beta_2)^2 + \\cfrac{44.142966}{3 \\cdot 30.75312841373129 \\cdot 4.21796}\\cdot (-2.7022752971 + 0.21148339\\beta_0 + 0.67708987\\beta_1 + 0.70485749 \\beta_2)^2 + \\cfrac{5.464890}{3 \\cdot 30.75312841373129 \\cdot 4.21796}\\cdot (-15.11115922757 + 0.97617466\\beta_0 - 0.1821545\\beta_1 - 0.11791001 \\beta_2)^2 \\le 1$"
      ]
    },
    {
      "cell_type": "markdown",
      "metadata": {
        "id": "7onOzTh6Rprh"
      },
      "source": [
        "![Снимок экрана 2023-12-08 021738.png](data:image/png;base64,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)"
      ]
    },
    {
      "cell_type": "markdown",
      "metadata": {
        "id": "Flc5Rvg5Rpri"
      },
      "source": [
        "#### Задание 8.\n",
        "Сформулировать гипотезу линейной регрессинной зависимости переменной Y от переменной X и проверить её значимость на уровне $\\alpha$."
      ]
    },
    {
      "cell_type": "markdown",
      "metadata": {
        "id": "auV1UFy6Rpri"
      },
      "source": [
        "$\\psi = C^T \\beta $\n",
        "\n",
        "$ H_0 : \\beta_2 = 0$\n",
        "\n",
        "$\\mathcal{F} = \\cfrac{\\widehat \\psi^T ((C^T (XX^T)^{-1}C)^{-1}) \\widehat \\psi}{qs^2} \\sim F_{q, n-r}$\n",
        "\n",
        "$x_\\alpha: F_{q, n-r}(x_\\alpha) = 1 - \\alpha $\n",
        "\n",
        "$ C = \\begin{pmatrix}\n",
        "    0 \\\\\n",
        "    0 \\\\\n",
        "    1\n",
        "\\end{pmatrix} $, $\\widehat \\psi = \\widehat \\beta_2, q = 1 $\n",
        "\n",
        "$\\mathcal{F} = \\cfrac{{\\widehat \\beta_2} ^2}{bqs^2} $"
      ]
    },
    {
      "cell_type": "code",
      "execution_count": null,
      "metadata": {
        "id": "B0On-YOZRpri",
        "outputId": "9d206bea-91e7-445a-8c43-81e100f6d98c"
      },
      "outputs": [
        {
          "name": "stdout",
          "output_type": "stream",
          "text": [
            "Квантиль x_a = 7.2068388654187014\n",
            "[[ 0.10104693 -0.07928113  0.01215426]\n",
            " [-0.07928113  0.10130183 -0.01798238]\n",
            " [ 0.01215426 -0.01798238  0.00338596]]\n",
            "b_2 = 0.0033859575256941442\n"
          ]
        }
      ],
      "source": [
        "func = stats.f(1, n - 3)\n",
        "x_a = func.ppf(1 - alpha)\n",
        "print(\"Квантиль x_a =\", x_a)\n",
        "\n",
        "C_2 = np.array([0, 0, 1])\n",
        "b_2 = np.dot(np.dot(C_2.T, np.linalg.inv(np.dot(X_1, X_1.T))), C_2)\n",
        "print(np.linalg.inv(np.dot(X_1, X_1.T)))\n",
        "print(\"b_2 =\",b_2)"
      ]
    },
    {
      "cell_type": "code",
      "execution_count": null,
      "metadata": {
        "id": "t1-az9OXRpri",
        "outputId": "136a1542-ed79-499c-e43f-5e0e07d156e5"
      },
      "outputs": [
        {
          "name": "stdout",
          "output_type": "stream",
          "text": [
            "0.11068077009543202\n"
          ]
        }
      ],
      "source": [
        "F = beta_1[2]**2 / (0.0033859575256941442 * 1 * 30.75312841373129)\n",
        "print(F)"
      ]
    },
    {
      "cell_type": "markdown",
      "metadata": {
        "id": "vUm9eKQyRpri"
      },
      "source": [
        "$\\mathcal{F} < x_\\alpha \\Rightarrow$ принимаем $H_0$\n",
        "\n",
        "Найдём наибольшее значение уровня значимости, на котором нет оснований отвергнуть гипотезу."
      ]
    },
    {
      "cell_type": "code",
      "execution_count": null,
      "metadata": {
        "id": "Z08Eg04bRprj",
        "outputId": "f92c0c1e-118a-4f60-89fd-212264cb4449"
      },
      "outputs": [
        {
          "name": "stdout",
          "output_type": "stream",
          "text": [
            "Гипотеза может быть принята, если уровень значимости не более: 0.740849809131511\n"
          ]
        }
      ],
      "source": [
        "F = 0.11068077009543202\n",
        "a_max = 1 - stats.f.cdf(F, 1, n - 3)\n",
        "print(\"Гипотеза может быть принята, если уровень значимости не более:\", a_max)"
      ]
    },
    {
      "cell_type": "markdown",
      "metadata": {
        "id": "mAN4O7uDRprj"
      },
      "source": [
        "## Выводы\n",
        "\n",
        "В ходе данной лабораторной работы были изучены основные теоретические положения, связанные с линейной регрессией и методом наименьших квадратов (МНК). МНК используется для оценки коэффициентов регрессии, минимизируя сумму квадратов остатков.\n",
        "\n",
        "Был исследован регрессионный анализ, включая построение модели, оценку параметров и проверку их значимости. Также проведен анализ нормальности ошибок, построение доверительных интервалов и эллипсов. Кроме того, оценено расстояние до нормального распределения с использованием критерия Колмогорова и проверена гипотеза о независимости переменных Y и X.\n",
        "\n",
        "Также были рассмотрены ключевые элементы, такие как несмещённая оценка дисперсии $(S^{2})$ и критерий $\\chi^2$ для проверки гипотез. Все эти элементы позволяют проводить статистические выводы о параметрах модели и их значимости.\n"
      ]
    }
  ],
  "metadata": {
    "colab": {
      "provenance": []
    },
    "kernelspec": {
      "display_name": "Python 3",
      "language": "python",
      "name": "python3"
    },
    "language_info": {
      "codemirror_mode": {
        "name": "ipython",
        "version": 3
      },
      "file_extension": ".py",
      "mimetype": "text/x-python",
      "name": "python",
      "nbconvert_exporter": "python",
      "pygments_lexer": "ipython3",
      "version": "3.9.13"
    }
  },
  "nbformat": 4,
  "nbformat_minor": 0
}
