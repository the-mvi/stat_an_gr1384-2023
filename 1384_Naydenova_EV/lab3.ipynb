{
 "cells": [
  {
   "cell_type": "markdown",
   "metadata": {},
   "source": [
    "# Лабораторная работа №3: Регрессионный анализ\n",
    "Выполнила студентка гр. 1384 Найдёнова Елена. Вариант №10"
   ]
  },
  {
   "cell_type": "markdown",
   "metadata": {},
   "source": [
    "## Цель работы\n",
    "Ознакомление с основными положениями метода наименьших квадратов (МНК), со статистическими свойствами МНК-оценок, с понятием функции регрессии и роли МНК в регрессионном анализе."
   ]
  },
  {
   "cell_type": "markdown",
   "metadata": {},
   "source": [
    "## Основные теоретические положения\n",
    "1. Линейная регрессионная модель\n",
    "\n",
    "Линейная регрессия некоторой зависимой переменной y на набор независимых переменных  x = (x_1, …, x_n), где n – это число наблюдений, предполагает, что линейное отношение между y и x: $y =\\beta_0  + \\beta_1 x_1 + ⋯ + \\beta_n x_n + \\varepsilon$ - уравнение регрессии. $\\beta_0, \\beta_1, …, \\beta_n$ – коэффициенты регрессии (параметры), и \\varepsilon – случайная ошибка.\n",
    "\n",
    "2. МНК (Метод Наименьших Квадратов)\n",
    "\n",
    "$RSS(\\beta)=\\left\\| Y-X^{\\intercal}\\beta \\right\\|=(Y-X^{\\intercal}\\beta)^{\\intercal}\\cdot(Y-X^{\\intercal}\\beta)\\to min\\beta$\n",
    "\n",
    "Нормальные уравнения: $XX^{\\intercal}\\beta=XY$\n",
    "\n",
    "Решение системы нормальных уравнений в регулярном случае: $\\widehat{\\beta}=(XX^{\\intercal})^{-1}XY$\n",
    "\n",
    "$RSS(\\beta)=\\sum_{i=1}^{n}\\left( Y_{i}-\\sum_{j=1}^{m}x_{ji}\\beta_{j} \\right)^{2}$\n",
    "\n",
    "$\\frac{\\partial RSS}{\\partial \\beta_{k}} = -2\\sum_{i=1}^{n}x_{ki}\\left(Y_{i}- \\sum_{j=1}^{m}x_{ji}\\beta_{j}\\right)=0, k=\\overline{1,m}$\n",
    "\n",
    "3. Несмещённая оценка дисперсии $(S^{2})$\n",
    "\n",
    "$S^{2} = \\frac{SS_{e}}{n-r} = \\frac{RSS(\\widehat{\\beta})}{n-r}$\n",
    "\n",
    "$SS_{e}=RSS(\\widehat{\\beta})$, а r-ранг матрицы X\n",
    "\n",
    "4. Доверительный интервал\n",
    "\n",
    "ДНО функции:$\\psi=с^{\\intercal}\\beta$\n",
    "\n",
    "МНК-оценка: $\\widehat{\\psi}=с^{\\intercal}\\beta$\n",
    "\n",
    "Элемент дисперсии оценки: $b_{\\psi}=c^{\\intercal}(XX^{\\intercal})^{-1}c$\n",
    "\n",
    "Распределение $\\widehat{\\psi}\\sim \\mathcal{N}(\\psi,\\sigma^{2}b)$\n",
    "\n",
    "$\\frac{\\widehat{\\psi}-\\psi}{S\\sqrt{b}}\\sim \\mathcal{S}_{n-r}$\n",
    "\n",
    "Д.И. уровня доверия $1-\\alpha: \\left[ \\widehat{\\psi} - X_{\\alpha}S\\sqrt{b};\\widehat{\\psi} + X_{\\alpha}S\\sqrt{b} \\right], где X_{\\alpha}: \\mathcal{S}_{n-r}(X_{\\alpha})=1-\\frac{\\alpha}{2}$\n",
    "\n",
    "5. Уравнение $A_{\\alpha}=\\left\\{ \\overrightarrow{X}:(\\overrightarrow{X}-\\widehat{\\psi})^{\\intercal}B^{-1}(\\overrightarrow{X}-\\widehat{\\psi})\\le qS^{2}X_{\\alpha} \\right\\}$ представляет собой уравнение доверительного эллипсоида. Здесь:\n",
    "\n",
    "- $\\widehat{\\psi}$ - вектор оценок параметров,\n",
    "- $B$ - матрица оценок ковариации,\n",
    "- $S^{2}$ - оценка дисперсии,\n",
    "- q - пороговая точка, связанная с распределением хи-квадрат с \\(n-r\\) степенями свободы,\n",
    "- $X_{\\alpha}$ - значение функции распределения хи-квадрат с (n-r) степенями свободы и уровнем доверия $1-\\alpha$.\n",
    "\n",
    "6. Критерий $\\chi^2$ для проверки гипотез\n",
    "\n",
    "основан на справнении теоритической плотности распределения и гистограммы, либо теоритической вероятностной меры и полигона частот.\n",
    "\n",
    "Разобъем множество значений сл. вел. X на $N$ интервалов $I_{1}, ..., I_{N}:$ $I_{i} = (a_{i-1}, a_i], i = \\overline {1,N}$. данные интервалы не пересекаются и покрывают всё множество возможных значений сл. вел. X.\n",
    "\n",
    "Обозначим через $p_{i}$ теоритическую вероятность попадания сл. вел. X в интервал $I_{i}$, при условии, что справедлива $H_{0}$.\n",
    "\n",
    "$p_{i} = P(X \\in I_{i}|H_{0})$\n",
    "\n",
    "Через $n_{i}$ обозначим число наблюдений нашей выборки, попавших в соответветствующий интервал $I_{i}$.\n",
    "\n",
    "$n_{i} = num(x_{j} \\in I_{i})$\n",
    "\n",
    "Статистика критерия основана на сравнении относительной частоты и теоритической.\n",
    "\n",
    "$\\chi^{2}_{набл} = \\sum \\limits_{i=1}^{N} \\frac{n}{p_{i}} \\bigg ( \\frac{n_{i}}{n} - p_{i} \\bigg )^{2} = \\sum \\limits_{i=1}^{N} \\frac{(n_{i} - p_{i} n)^{2}}{n p_{i}} \\sim \\chi^{2}_{N-1}$\n",
    "\n",
    "7. Теорема Колмогорова\n",
    "\n",
    "$D_{n}(\\overrightarrow{X}) = \\overset{}{\\underset{X \\in \\mathbb R}{sup}} |F_{0}(X_{i}) - F_{n}(X_{i})|$\n",
    "\n",
    "Если гипотеза $H_{0}$ верна, и $F_{0}(X)$ - непрерывная ф-я на $\\mathbb R$, тогда имеет место сходимость\n",
    "\n",
    "$P(\\sqrt{n} D_{n}(\\overrightarrow{X}) < z) \\xrightarrow[n \\rightarrow \\infty]{} K(z)$, где\n",
    "\n",
    "$K(z)=1-\\alpha$ - ф-я распределения Колмогорова.\n",
    "\n",
    "8. $\\mathbb{F}$-критерий\n",
    "\n",
    "$\\mathbb{F}=\\frac{MSR}{MSE}$ - статистика распределения\n",
    "\n",
    " где $MSR=\\frac{SSR}{p}=\\frac{\\sum_{i=1}^{n}\\left(\\sum_{j=1}^{n}x_{ji} \\beta_j - \\overline{Y}\\right)^2}{p}$ - среднеквадратичное отклонение объясненных отклонений\n",
    "\n",
    " $MSE = \\frac{SS_e}{n-p}=\\frac{\\sum_{i=1}^{n}\\left( Y_{i}-\\sum_{j=1}^{m}x_{ji}\\beta_{j} \\right)^{2}}{n-p}, где SS_{e}=RSS(\\beta)$ - среднеквадратичное отклонение остатков\n"
   ]
  },
  {
   "cell_type": "markdown",
   "metadata": {},
   "source": [
    "## Постановка задачи\n",
    "Результаты статистического эксперимента представлены в виде двух переменных. Требуется оценить характер (случайной) зависимости переменной Y\n",
    " от переменной X. Полученные результаты содержательно проинтерпретировать."
   ]
  },
  {
   "cell_type": "markdown",
   "metadata": {},
   "source": [
    "## Выполнение работы\n"
   ]
  },
  {
   "cell_type": "code",
   "execution_count": 1390,
   "metadata": {},
   "outputs": [],
   "source": [
    "import numpy as np\n",
    "import scipy\n",
    "import scipy.stats as stats\n",
    "import matplotlib.pyplot as plt\n",
    "from scipy.stats import chi2\n",
    "alpha = 0.01\n",
    "h = 2.20\n",
    "X_0 = [0, 5, 5, 1, 2, 5, 5, 0, 1, 5, 3, 0, 1, 4, 2, 2, 5, 5, 5, 4, 1, 4, 2, 2, 5, 3, 5, 5, 5, 1, 2, 0, 0, 0, 1, 2, 1, 1, 4, 2, 3, 4, 5, 4, 0, 1, 0, 1, 2, 1]\n",
    "Y_0 = [12.19, 8.67, 13.77, 19.44, 3.87, 22.18, 8.18, 14.07, 20.60, 24.44, 11.81, 13.94, 18.22, 7.08, 18.04, 7.82, 18.35, 16.50, 5.10, 10.49, 21.34, 7.45, 21.16, 14.02, 13.53, 6.46, 16.33, 13.89, 12.07, 16.83, 15.07, 6.20, 8.33, 18.67, 8.00, 18.72, 13.08, 10.47, 3.07, 9.70, 16.86, 15.25, 15.25, 16.56, 22.22, 12.82, 15.60, 18.85, 26.12, 15.46]\n",
    "n = 50"
   ]
  },
  {
   "cell_type": "markdown",
   "metadata": {},
   "source": [
    "#### Задание 1. \n",
    "Построить графически результаты эксперимента. Сформулировать линейную регрессионную модель переменной Y по переменной X. Построить МНК оценки параметром сдвига $\\beta_0$ и масштаба $\\beta_1$. Построить полученную линию регрессии. Оценить визуально соответствие полученных данных и построенной оценки."
   ]
  },
  {
   "cell_type": "markdown",
   "metadata": {},
   "source": [
    "Построим графически результаты эксперимента"
   ]
  },
  {
   "cell_type": "code",
   "execution_count": 1391,
   "metadata": {},
   "outputs": [
    {
     "data": {
      "image/png": "[encoded data removed]",
      "text/plain": [
       "<Figure size 640x480 with 1 Axes>"
      ]
     },
     "metadata": {},
     "output_type": "display_data"
    }
   ],
   "source": [
    "plt.scatter(X_0, Y_0)\n",
    "plt.xlabel('X')\n",
    "plt.ylabel('Y')\n",
    "plt.title('Результаты эксперимента')\n",
    "plt.show()"
   ]
  },
  {
   "cell_type": "markdown",
   "metadata": {},
   "source": [
    "Линейная регрессионная модель:\n",
    "\n",
    "$ Y = X^T \\beta + \\varepsilon , \\quad  \\varepsilon $ - вектор ошибок \n",
    "\n",
    "$ E_\\theta \\varepsilon = 0 , \\quad Var_\\theta \\varepsilon = \\sigma^2 E $\n",
    "\n",
    "$ E(Y|X) = \\beta_0 + \\beta_1X, \\quad \\beta = (\\beta_0, \\beta_1) $\n",
    "\n",
    "МНК оценка:\n",
    "\n",
    "$ \\widehat \\beta = (XX^T)^{-1}XY $\n",
    "\n"
   ]
  },
  {
   "cell_type": "code",
   "execution_count": 1392,
   "metadata": {},
   "outputs": [
    {
     "name": "stdout",
     "output_type": "stream",
     "text": [
      "[14.93833894 -0.33682635]\n"
     ]
    }
   ],
   "source": [
    "X = np.array([[1 for i in range(50)], X_0])\n",
    "Y = np.array(Y_0)\n",
    "XX_T = np.dot(X, X.T)\n",
    "XX_T_inv = np.linalg.inv(XX_T)\n",
    "beta = np.dot(np.dot(XX_T_inv, X), Y)\n",
    "print(beta)"
   ]
  },
  {
   "cell_type": "markdown",
   "metadata": {},
   "source": [
    "$\\beta_0 = 14.93833894$\n",
    "\n",
    "$\\beta_1 = -0.33682635$\n"
   ]
  },
  {
   "cell_type": "code",
   "execution_count": 1393,
   "metadata": {},
   "outputs": [
    {
     "data": {
      "image/png": "[encoded data removed]",
      "text/plain": [
       "<Figure size 640x480 with 1 Axes>"
      ]
     },
     "metadata": {},
     "output_type": "display_data"
    }
   ],
   "source": [
    "beta_0 = 14.93833894\n",
    "beta_1 = -0.33682635\n",
    "plt.plot(X_0, Y_0, 'o', label='Data')\n",
    "\n",
    "# Строим линию\n",
    "model_line = np.dot(X.T, beta)\n",
    "plt.plot(X_0, model_line, 'o-', color='red', label='Model')\n",
    "plt.xlabel('X')\n",
    "plt.ylabel('Y')\n",
    "plt.show()"
   ]
  },
  {
   "cell_type": "markdown",
   "metadata": {},
   "source": [
    "Оценка результатов:\n",
    "\n",
    "Модель проходит через диапазон результатов эксперимента, что может свидетельствовать о хорошем соответствии модели данным."
   ]
  },
  {
   "cell_type": "markdown",
   "metadata": {},
   "source": [
    "#### Задача 2.\n",
    "Построить и интерпретировать несмещенную оценку дисперсии. На базе ошибок построить гистограмму с шагом $h = 2.20$. Проверить гипотезу нормальности ошибок на уровне значимости $\\alpha = 0.01$ по $\\chi^2$. Оценить расстояние полученной оценки до класса нормальных распределений по Колмогорову. Визуально оценить данный факт."
   ]
  },
  {
   "cell_type": "markdown",
   "metadata": {},
   "source": [
    "Построим несмещенную оценку дисперсии\n",
    "\n",
    "$ s^2 = \\frac{1}{n-r} \\cdot  (Y - X^T \\widehat \\beta)^T (Y - X^T \\widehat \\beta) $\n",
    "\n",
    "$ r = 2$ - ранг X\n",
    "\n"
   ]
  },
  {
   "cell_type": "code",
   "execution_count": 1394,
   "metadata": {},
   "outputs": [
    {
     "name": "stdout",
     "output_type": "stream",
     "text": [
      "30.183350320438464\n"
     ]
    }
   ],
   "source": [
    "\n",
    "res = np.dot((Y - np.dot(X.T, beta)).T, (Y - np.dot(X.T, beta)))\n",
    "s = res/(n-2)\n",
    "print(s)\n"
   ]
  },
  {
   "cell_type": "markdown",
   "metadata": {},
   "source": [
    "$ s^2 = 30.18335032 $\n",
    "\n",
    "Вектор ошибок"
   ]
  },
  {
   "cell_type": "code",
   "execution_count": 1395,
   "metadata": {},
   "outputs": [
    {
     "name": "stdout",
     "output_type": "stream",
     "text": [
      "[-10.52103352 -10.39468623  -8.73833894  -8.15420717  -7.46785988\n",
      "  -6.60833894  -6.60151259  -6.51103352  -6.44468623  -6.14103352\n",
      "  -5.07420717  -4.58420717  -4.56468623  -4.13151259  -3.10103352\n",
      "  -2.74833894  -2.11785988  -1.78151259  -1.52151259  -1.18420717\n",
      "  -0.99833894  -0.86833894  -0.24468623   0.27579283   0.51579283\n",
      "   0.63579283   0.66166106   0.80531377   0.85848741   1.65896648\n",
      "   1.99579283   2.22848741   2.93214012   2.96896648   3.07579283\n",
      "   3.24579283   3.61848741   3.73166106   3.77531377   4.24848741\n",
      "   4.45531377   4.83848741   5.09579283   5.99848741   6.73848741\n",
      "   6.89531377   7.28166106   8.92579283  11.18579283  11.85531377]\n"
     ]
    }
   ],
   "source": [
    "print(np.squeeze(sorted(Y - np.dot(X.T, beta))))"
   ]
  },
  {
   "cell_type": "markdown",
   "metadata": {},
   "source": [
    "Построим гиитограмму с шагом h = 2.20"
   ]
  },
  {
   "cell_type": "code",
   "execution_count": 1396,
   "metadata": {},
   "outputs": [
    {
     "name": "stdout",
     "output_type": "stream",
     "text": [
      "Интервал: (-10.521, -8.321), Количество чисел: 3.0\n",
      "Интервал: (-8.321, -6.121), Количество чисел: 7.0\n",
      "Интервал: (-6.121, -3.921), Количество чисел: 4.0\n",
      "Интервал: (-3.921, -1.721), Количество чисел: 4.0\n",
      "Интервал: (-1.721, 0.479), Количество чисел: 6.0\n",
      "Интервал: (0.479, 2.679), Количество чисел: 8.0\n",
      "Интервал: (2.679, 4.879), Количество чисел: 10.0\n",
      "Интервал: (4.879, 7.079), Количество чисел: 4.0\n",
      "Интервал: (7.079, 9.279), Количество чисел: 2.0\n",
      "Интервал: (9.279, 11.479), Количество чисел: 1.0\n",
      "Интервал: (11.479, 13.679), Количество чисел: 1.0\n"
     ]
    },
    {
     "data": {
      "image/png": "[encoded data removed]",
      "text/plain": [
       "<Figure size 640x480 with 1 Axes>"
      ]
     },
     "metadata": {},
     "output_type": "display_data"
    },
    {
     "name": "stdout",
     "output_type": "stream",
     "text": [
      "[ 3.  7.  4.  4.  6.  8. 10.  4.  2.  1.  1.]\n",
      "[-10.52103352  -8.32103352  -6.12103352  -3.92103352  -1.72103352\n",
      "   0.47896648   2.67896648   4.87896648   7.07896648   9.27896648\n",
      "  11.47896648  13.67896648]\n"
     ]
    }
   ],
   "source": [
    "data = np.squeeze(Y - np.dot(X.T, beta))\n",
    "hist, bins, _ = plt.hist(data, bins=np.arange(min(data), max(data) + h, h), edgecolor='black', color='green')\n",
    "for i in range(len(hist)):\n",
    "    print(f'Интервал: ({round(bins[i], 4)}, {round(bins[i+1], 4)}), Количество чисел: {hist[i]}')\n",
    "plt.title('Гистограмма')\n",
    "plt.show()\n",
    "\n",
    "print(hist)\n",
    "print(bins)"
   ]
  },
  {
   "cell_type": "markdown",
   "metadata": {},
   "source": [
    "Проверим гипотезу нормальности ошибок на уровне значимости $\\alpha = 0.01$ по $\\chi^2$\n",
    "\n",
    "$ H_0 : \\varepsilon_1, ..., \\varepsilon_n \\sim \\mathcal{N}(0, \\sigma^2)$\n",
    "\n",
    "Объединим интервалы, чтобы в каждом было не менее 5 элементов\n",
    "\n",
    "$I_1 = (-\\infty, -6.1], \\; n_1 = 10$\n",
    "\n",
    "$I_2 = (-6.1, -1.7], \\; n_2 = 8$\n",
    "\n",
    "$I_3 = (-1.7, -0.5], \\; n_3 = 6$\n",
    "\n",
    "$I_{4} = (-0.5, 2.7], \\; n_{4} = 8$\n",
    "\n",
    "$I_{5} = (2.7, 4.9], \\; n_{5} = 10$\n",
    "\n",
    "$I_{6} = (4.9, +\\infty), \\; n_{6} = 8$\n"
   ]
  },
  {
   "cell_type": "code",
   "execution_count": 1397,
   "metadata": {},
   "outputs": [
    {
     "name": "stdout",
     "output_type": "stream",
     "text": [
      "Значение параметра = 5.969247656450089\n",
      "Значение X^2 = 6.731412447766335\n",
      "Квантиль x_a = 13.276704135987622\n",
      "True\n"
     ]
    }
   ],
   "source": [
    "def min_sum(s):\n",
    "    arr = np.array([-6.1, -1.7, -0.5, 2.7, 4.9])\n",
    "    res = np.zeros(len(arr) + 1)\n",
    "\n",
    "    res[0] = stats.norm.cdf(arr[0], 0, s)\n",
    "    \n",
    "    for i in range(1, len(arr)):\n",
    "        res[i] = stats.norm.cdf(arr[i], 0, s) - stats.norm.cdf(arr[i-1], 0, s)\n",
    "        \n",
    "    res[len(arr)] = 1 - stats.norm.cdf(arr[-1], 0, s)\n",
    "    v = np.array([10, 8, 6, 8, 10, 8])\n",
    "    ans = ((v - 50 * res) ** 2) / (50 * res)\n",
    "    return np.sum(ans)\n",
    "\n",
    "result = scipy.optimize.minimize_scalar(min_sum)\n",
    "\n",
    "print(\"Значение параметра =\", result.x)\n",
    "print(\"Значение X^2 =\", result.fun)\n",
    "\n",
    "func = stats.chi2(6 - 1 -1)\n",
    "fx = 1 - alpha\n",
    "x_a = func.ppf(fx)\n",
    "\n",
    "print(\"Квантиль x_a =\", x_a)\n",
    "\n",
    "print(result.fun <= x_a)"
   ]
  },
  {
   "cell_type": "markdown",
   "metadata": {},
   "source": [
    "$ \\chi^2 = 6.731412447766335 $\n",
    "\n",
    "$ x_{a} : \\mathcal{K}_{r-d-1}(x_a) = 1 - \\alpha_1 = 1 - 0.01 = 0.99$\n",
    "\n",
    "$\\mathcal{X}^2 < x_\\alpha \\Rightarrow$ принимаем $H_0$ \n",
    "\n",
    "Найдём наибольшее значение уровня значимости, на котором нет оснований отвергнуть гипотезу."
   ]
  },
  {
   "cell_type": "code",
   "execution_count": 1398,
   "metadata": {},
   "outputs": [
    {
     "name": "stdout",
     "output_type": "stream",
     "text": [
      "Гипотеза может быть принята, если уровень значимости не более: 0.15078108606216345\n"
     ]
    }
   ],
   "source": [
    "Xi2 = 6.731412447766335\n",
    "a_max = 1 - chi2.cdf(Xi2, 6-1-1)\n",
    "print(\"Гипотеза может быть принята, если уровень значимости не более:\", a_max)"
   ]
  },
  {
   "cell_type": "markdown",
   "metadata": {},
   "source": [
    "Оценим расстояние полученной оценки до класса нормальных распределений по Колмогорову.\n",
    "\n",
    "$ H_0 : \\varepsilon_1, ..., \\varepsilon_n \\sim \\mathcal{N}(0, \\widehat {\\sigma^2}) $\n",
    "\n",
    "$ \\sqrt{n} \\cdot max|F_n(y) - F(y)| \\sim K $, $K$ - распределение Колмогорова. "
   ]
  },
  {
   "cell_type": "code",
   "execution_count": 1399,
   "metadata": {},
   "outputs": [
    {
     "name": "stdout",
     "output_type": "stream",
     "text": [
      "x_alpha = 0.2106765432666897\n"
     ]
    }
   ],
   "source": [
    "lamb = stats.ksone.ppf(1 - alpha, 50)\n",
    "print(\"x_alpha =\", lamb)"
   ]
  },
  {
   "cell_type": "code",
   "execution_count": 1400,
   "metadata": {},
   "outputs": [
    {
     "name": "stdout",
     "output_type": "stream",
     "text": [
      "Dn = 0.45\n"
     ]
    }
   ],
   "source": [
    "def F(x, array):\n",
    "    s = 0\n",
    "    for i in array:\n",
    "        if i >= x:\n",
    "            return s / 50\n",
    "        s += 1\n",
    "    return s / 50\n",
    "\n",
    "a0 = 0.00\n",
    "n = 50\n",
    "sig0 = np.sqrt(30.18335032)\n",
    "\n",
    "sort_array = np.squeeze(sorted(Y - np.dot(X.T, beta)))\n",
    "\n",
    "x = np.arange(-5, 5, 0.001)\n",
    "#Fnorm = stats.norm.cdf(x, a0, sig0)\n",
    "\n",
    "F_norm = np.array([stats.norm.cdf(i, a0, sig0) for i in x])\n",
    "Fn = np.array([F(i, sort_array) for i in x])\n",
    "\n",
    "diff = np.abs( Fn - F_norm)\n",
    "\n",
    "# Максимальная разность\n",
    "D = np.max(diff)\n",
    "Dn = D * np.sqrt(n)\n",
    "\n",
    "print(\"Dn =\", round(Dn, 2))"
   ]
  },
  {
   "cell_type": "markdown",
   "metadata": {},
   "source": [
    "$ D_n > x_\\alpha $, значит гипотеза $H_0$ отвергается. \n",
    "\n",
    "Найдём наибольшее значение уровня значимости, на котором нет оснований отвергнуть гипотезу.\n",
    "\n",
    "$\\alpha_2 \\le 1 - \\mathcal{K}(D_n)$"
   ]
  },
  {
   "cell_type": "code",
   "execution_count": 1401,
   "metadata": {},
   "outputs": [
    {
     "name": "stdout",
     "output_type": "stream",
     "text": [
      "Гипотеза может быть принята, если уровень значимости не более: 4.6305936862722774e-10\n"
     ]
    }
   ],
   "source": [
    "func = stats.ksone(50)\n",
    "D = 0.45\n",
    "a_max = 1 - func.cdf(D)\n",
    "print(\"Гипотеза может быть принята, если уровень значимости не более:\", a_max)"
   ]
  },
  {
   "cell_type": "markdown",
   "metadata": {},
   "source": [
    "Построим графики"
   ]
  },
  {
   "cell_type": "code",
   "execution_count": 1402,
   "metadata": {},
   "outputs": [
    {
     "data": {
      "image/png": "[encoded data removed]",
      "text/plain": [
       "<Figure size 640x480 with 1 Axes>"
      ]
     },
     "metadata": {},
     "output_type": "display_data"
    }
   ],
   "source": [
    "plt.title('Выборочная функция распределения ошибки и функция нормального распределения')\n",
    "plt.xlabel('x') \n",
    "plt.ylabel('y')\n",
    "plt.plot(x, F_norm)\n",
    "plt.plot(x, Fn, '--r')\n",
    "plt.show()"
   ]
  },
  {
   "cell_type": "markdown",
   "metadata": {},
   "source": [
    "#### Задание 3.\n",
    "В предположении нормальности ошибок построить доверительные интервалы для параметров $\\beta_0$ и $\\beta_1$ уровня доверия 1 − $\\alpha$. Построить доверительный эллипс уровня доверия 1 − $\\alpha$ для $(\\beta_0, \\beta_1)$. (вычислить его полуоси)"
   ]
  },
  {
   "cell_type": "markdown",
   "metadata": {},
   "source": [
    "$\\psi = C^T \\beta $\n",
    "\n",
    "$ b_\\psi = C^T (XX^T)^{-1}C$\n",
    "\n",
    "$ \\cfrac{\\widehat \\psi - \\psi}{s\\sqrt{b}} \\sim S_{n-r} $\n",
    "\n",
    "$ x_\\alpha : S_{n-r}(x_\\alpha) = 1 -\\frac{\\alpha}{2} $\n",
    "\n",
    "$ P_\\theta(-x_\\alpha \\le \\cfrac{\\widehat \\psi - \\psi}{s\\sqrt{b}} \\le x_\\alpha) = 1 -\\alpha $\n",
    "\n",
    "$ \\widehat \\psi -x_{\\alpha}s\\sqrt{b} \\le \\psi \\le \\widehat \\psi -x_{\\alpha}s\\sqrt{b} $ - доверительный интервал для $\\psi$\n",
    "\n",
    "Для $\\beta_0:$\n",
    "\n",
    "$ C = \\begin{pmatrix}\n",
    "    1 \\\\\n",
    "    0\n",
    "\\end{pmatrix} $, $\\widehat \\psi = \\widehat \\beta_0 $, $b$ - элемент в матрице $ (XX^T)^{-1}$ на позиции $(1,1) $ "
   ]
  },
  {
   "cell_type": "code",
   "execution_count": 1403,
   "metadata": {},
   "outputs": [
    {
     "name": "stdout",
     "output_type": "stream",
     "text": [
      "Квантиль x_a = 2.6822040269502136\n",
      "[[ 0.05741793 -0.01473147]\n",
      " [-0.01473147  0.00579979]]\n",
      "b_0 = 0.057417932954413664\n",
      "b_1 = 0.005799791207516531\n"
     ]
    }
   ],
   "source": [
    "func = stats.t(n - 2)\n",
    "x_a = func.ppf(1 - alpha/2)\n",
    "print(\"Квантиль x_a =\", x_a)\n",
    "\n",
    "C_0 = np.array([1, 0])\n",
    "b_0 = np.dot(np.dot(C_0.T, np.linalg.inv(np.dot(X, X.T))), C_0)\n",
    "C_1 = np.array([0, 1])\n",
    "b_1 = np.dot(np.dot(C_1.T, np.linalg.inv(np.dot(X, X.T))), C_1)\n",
    "print(np.linalg.inv(np.dot(X, X.T)))\n",
    "print(\"b_0 =\", b_0)\n",
    "print(\"b_1 =\",b_1)\n"
   ]
  },
  {
   "cell_type": "code",
   "execution_count": 1404,
   "metadata": {},
   "outputs": [
    {
     "name": "stdout",
     "output_type": "stream",
     "text": [
      "Доверительный интервал для betta_0 [11.407325998246513; 18.469351881349837] уровня доверия 0.99\n"
     ]
    }
   ],
   "source": [
    "x_a = 2.6822040269502136\n",
    "b = 0.057417932954413664\n",
    "\n",
    "left = beta[0] - x_a * np.sqrt(s) * np.sqrt(b)\n",
    "right = beta[0] + x_a * np.sqrt(s) * np.sqrt(b)\n",
    "print(\"Доверительный интервал для betta_0 [{}; {}] уровня доверия {}\".format(left, right, 1-alpha))"
   ]
  },
  {
   "cell_type": "markdown",
   "metadata": {},
   "source": [
    "Для $\\beta_0:$\n",
    "\n",
    "$ C = \\begin{pmatrix}\n",
    "    0 \\\\\n",
    "    1\n",
    "\\end{pmatrix} $, $\\widehat \\psi = \\widehat \\beta_1 $, $b$ - элемент в матрице $ (XX^T)^{-1}$ на позиции $(2,2) $ "
   ]
  },
  {
   "cell_type": "code",
   "execution_count": 1405,
   "metadata": {},
   "outputs": [
    {
     "name": "stdout",
     "output_type": "stream",
     "text": [
      "Доверительный интервал для betta_1 [-1.4590559348884298; 0.7854032263859325] уровня доверия 0.99\n"
     ]
    }
   ],
   "source": [
    "x_a = 2.6822040269502136\n",
    "b = 0.005799791207516531\n",
    "\n",
    "left = beta[1] - x_a * np.sqrt(s) * np.sqrt(b)\n",
    "right = beta[1] + x_a * np.sqrt(s) * np.sqrt(b)\n",
    "print(\"Доверительный интервал для betta_1 [{}; {}] уровня доверия {}\".format(left, right, 1-alpha))"
   ]
  },
  {
   "cell_type": "markdown",
   "metadata": {},
   "source": [
    "Построим доверительный эллипс"
   ]
  },
  {
   "cell_type": "markdown",
   "metadata": {},
   "source": [
    "Доверительный эллипсоид уровня доверия 1 - $\\alpha$\n",
    "\n",
    "$ A_\\alpha = \\{x: (x - \\widehat \\psi)^T (C^T (XX^T)^{-1}C)^{-1}(x - \\widehat \\psi) \\le qs^2x_\\alpha\\}$, где\n",
    "\n",
    "$ x_\\alpha = F_{q, n-r}(x_\\alpha) = 1 - \\alpha$\n",
    "\n",
    "$ Для \\; (\\beta_0, \\beta_1)$\n",
    "\n",
    "$C = \\begin{pmatrix}\n",
    "    1 & 0\\\\\n",
    "    0 & 1\n",
    "\\end{pmatrix} $\n",
    "\n",
    "Пусть $ \\begin{pmatrix}\n",
    "    x\\\\\n",
    "    y\n",
    "\\end{pmatrix}  = P(\\widehat \\psi - \\psi)$, где P - матрица собственных векторов.\n",
    "\n",
    "Тогда уравнение доверительного эллипсоида выглядит таким образом:\n",
    "\n",
    "$(\\widehat \\psi -  \\psi)^T (C^T (XX^T)^{-1}C)^{-1}(\\widehat \\psi -  \\psi) = \\lambda_1 x^2 + \\lambda_2 y^2 \\le qs^2x_\\alpha$, где $\\lambda_1$ и $\\lambda_2$ - собственные числа матрицы $XX^T$\n",
    "\n",
    "$\\cfrac{\\lambda_1}{qs^2x_\\alpha}x^2 + \\cfrac{\\lambda_2}{qs^2x_\\alpha}y^2 \\le 1$\n",
    "\n"
   ]
  },
  {
   "cell_type": "code",
   "execution_count": 1406,
   "metadata": {},
   "outputs": [
    {
     "name": "stdout",
     "output_type": "stream",
     "text": [
      "Собственные числа:\n",
      "[ 16.30622568 528.69377432]\n",
      "\n",
      "Собственные векторы:\n",
      "[[-0.96656175  0.25643397]\n",
      " [-0.25643397 -0.96656175]]\n",
      "\n",
      "Матрица перехода:\n",
      "[[-0.96656175 -0.25643397]\n",
      " [ 0.25643397 -0.96656175]]\n",
      "\n",
      "Проверка\n",
      "[-15.76097407   4.18147011]\n",
      "[-15.76097407   4.18147011]\n",
      "\n",
      "beta\n",
      "14.938338939798175 -0.3368263542512486\n",
      "\n",
      "Квантиль x_a = 5.07666380708612\n",
      "\n",
      "Большая полуось:\n",
      "18.794123206999696\n",
      "Малая полуось:\n",
      "0.5796573164971148\n"
     ]
    }
   ],
   "source": [
    "eigenvalues, eigenvectors = np.linalg.eig(XX_T)\n",
    "print(\"Собственные числа:\")\n",
    "print(eigenvalues)\n",
    "print(\"\\nСобственные векторы:\")\n",
    "print(eigenvectors.T)\n",
    "print(\"\\nМатрица перехода:\")\n",
    "print(eigenvectors)\n",
    "print(\"\\nПроверка\")\n",
    "print(np.dot(XX_T, eigenvectors.T[0]))\n",
    "print(np.dot(16.30622568, eigenvectors.T[0]))\n",
    "print(\"\\nbeta\")\n",
    "print(beta[0], beta[1])\n",
    "\n",
    "func = stats.f(2, n - 2)\n",
    "x_a = func.ppf(1 - alpha)\n",
    "print(\"\\nКвантиль x_a =\", x_a)\n",
    "\n",
    "print(\"\\nБольшая полуось:\")\n",
    "print(2 * 30.18335032 * 5.07666 / 16.30622568)\n",
    "\n",
    "print(\"Малая полуось:\")\n",
    "print(2 * 30.18335032 * 5.07666 / 528.69377432)"
   ]
  },
  {
   "cell_type": "markdown",
   "metadata": {},
   "source": [
    "$ \\begin{pmatrix} x\\\\ y \\end{pmatrix} =  \\begin{pmatrix} -0.96656175 && -0.25643397\\\\ 0.25643397 && -0.96656175 \\end{pmatrix} \\cdot \\begin{pmatrix} 14.938338939798175 - \\beta_0\\\\ -0.3368263542512486 - \\beta_1 \\end{pmatrix} = \\begin{pmatrix} -14.352453 + 0.96656175\\beta_0 + 0.25643397\\beta_1\\\\ 4.156261 - 0.25643397\\beta_0 + 0.96656175\\beta_1 \\end{pmatrix} $\n",
    "\n",
    "Уравнение эллипса:\n",
    "\n",
    "$\\cfrac{16.30622568}{2 \\cdot 30.18335032 \\cdot 5.07666} \\cdot x^2 + \\cfrac{528.69377432}{2 \\cdot 30.18335032 \\cdot 5.07666}\\cdot y^2 \\le 1 $\n",
    "\n",
    "$\\cfrac{16.30622568}{2 \\cdot 30.18335032 \\cdot 5.07666} \\cdot (-14.352453 + 0.96656175\\beta_0 + 0.25643397\\beta_1)^2 + \\cfrac{528.69377432}{2 \\cdot 30.18335032 \\cdot 5.07666}\\cdot (4.156261 - 0.25643397\\beta_0 + 0.96656175\\beta_1)^2 \\le 1 $\n",
    "\n",
    "Найдём полуоси эллипса:\n",
    "\n",
    "Большая полуось = $ \\cfrac{2 \\cdot 30.18335032 \\cdot 5.07666 }{16.30622568} = 18.7941$\n",
    "\n",
    "Малая полуось = $ \\cfrac{2 \\cdot 30.18335032 \\cdot 5.07666 }{528.69377432} = 0.57966 $\n",
    "\n"
   ]
  },
  {
   "cell_type": "code",
   "execution_count": 1407,
   "metadata": {},
   "outputs": [
    {
     "data": {
      "image/png": "[encoded data removed]",
      "text/plain": [
       "<Figure size 500x500 with 1 Axes>"
      ]
     },
     "metadata": {},
     "output_type": "display_data"
    }
   ],
   "source": [
    "import matplotlib.pyplot as plt\n",
    "import numpy as np\n",
    "\n",
    "# Параметры первого эллипса\n",
    "a1 = np.sqrt(16.30622568 / (2 * 30.18335032 * 5.07666))\n",
    "b1 = np.sqrt(528.69377432 / (2 * 30.18335032 * 5.07666))\n",
    "\n",
    "# Уравнение первого эллипса\n",
    "def first_ellipse_equation(x, y):\n",
    "    return x**2 * a1**2 + y**2 * b1**2\n",
    "\n",
    "# Уравнение второго эллипса в терминах beta_0 и beta_1\n",
    "def second_ellipse_equation(beta0, beta1):\n",
    "    return ((-14.352453 + 0.96656175 * beta0 + 0.25643397 * beta1) ** 2) * a1**2 + \\\n",
    "           ((4.156261 - 0.25643397 * beta0 + 0.96656175 * beta1) ** 2) * b1**2\n",
    "\n",
    "# Генерация данных для построения графика\n",
    "x_vals = np.linspace(-5, 20, 400)\n",
    "y_vals = np.linspace(-3, 3, 200)\n",
    "x, y = np.meshgrid(x_vals, y_vals)\n",
    "Z1 = first_ellipse_equation(x, y)\n",
    "Z2 = second_ellipse_equation(x, y)\n",
    "\n",
    "# Построение графика\n",
    "plt.figure(figsize=(5, 5))\n",
    "\n",
    "# Первый эллипс\n",
    "contour1 = plt.contour(x, y, Z1, levels=[1], colors='blue', linewidths=2)\n",
    "plt.plot([], [], color='blue', label='Первый эллипс')\n",
    "\n",
    "# Второй эллипс\n",
    "contour2 = plt.contour(x, y, Z2, levels=[1], colors='red', linewidths=2)\n",
    "plt.plot([], [], color='red', label='Второй эллипс')\n",
    "\n",
    "# Добавление легенды\n",
    "plt.legend()\n",
    "\n",
    "plt.title('Два эллипса')\n",
    "plt.xlabel('X')\n",
    "plt.ylabel('Y')\n",
    "plt.grid(True)\n",
    "plt.axhline(0, color='black', linewidth=0.5)\n",
    "plt.axvline(0, color='black', linewidth=0.5)\n",
    "plt.axis('equal') \n",
    "plt.show()"
   ]
  },
  {
   "cell_type": "markdown",
   "metadata": {},
   "source": [
    "#### Задание 4.\n",
    "Сформулировать гипотезу независимости переменной Y от переменной X. Провести проверку значимости."
   ]
  },
  {
   "cell_type": "markdown",
   "metadata": {},
   "source": [
    "$\\psi = C^T \\beta $\n",
    "\n",
    "$ H_0 : \\beta_1 = 0$\n",
    "\n",
    "$\\mathcal{F} = \\cfrac{\\widehat \\psi^T ((C^T (XX^T)^{-1}C)^{-1}) \\widehat \\psi}{qs^2} \\sim F_{q, n-r}$\n",
    "\n",
    "$x_\\alpha: F_{q, n-r}(x_\\alpha) = 1 - \\alpha $\n",
    "\n",
    "$ C = \\begin{pmatrix}\n",
    "    0 \\\\\n",
    "    1\n",
    "\\end{pmatrix} $, $\\widehat \\psi = \\widehat \\beta_1, q = 1 $\n",
    "\n",
    "$\\mathcal{F} = \\cfrac{{\\widehat \\beta_1} ^2}{bqs^2} $\n"
   ]
  },
  {
   "cell_type": "code",
   "execution_count": 1408,
   "metadata": {},
   "outputs": [
    {
     "name": "stdout",
     "output_type": "stream",
     "text": [
      "Квантиль x_a = 7.194218442187959\n",
      "[[ 0.05741793 -0.01473147]\n",
      " [-0.01473147  0.00579979]]\n",
      "b_1 = 0.005799791207516531\n"
     ]
    }
   ],
   "source": [
    "func = stats.f(1, n - 2)\n",
    "x_a = func.ppf(1 - alpha)\n",
    "print(\"Квантиль x_a =\", x_a)\n",
    "\n",
    "C_1 = np.array([0, 1])\n",
    "b_1 = np.dot(np.dot(C_1.T, np.linalg.inv(np.dot(X, X.T))), C_1)\n",
    "print(np.linalg.inv(np.dot(X, X.T)))\n",
    "print(\"b_1 =\",b_1)"
   ]
  },
  {
   "cell_type": "code",
   "execution_count": 1409,
   "metadata": {},
   "outputs": [
    {
     "name": "stdout",
     "output_type": "stream",
     "text": [
      "0.6480855309726182\n"
     ]
    }
   ],
   "source": [
    "F = beta[1]**2 / (0.005799791207516531 * 1 * 30.183350320438464)\n",
    "print(F)"
   ]
  },
  {
   "cell_type": "markdown",
   "metadata": {},
   "source": [
    "$\\mathcal{F} < x_\\alpha \\Rightarrow$ принимаем $H_0$ \n",
    "\n",
    "Найдём наибольшее значение уровня значимости, на котором нет оснований отвергнуть гипотезу."
   ]
  },
  {
   "cell_type": "code",
   "execution_count": 1410,
   "metadata": {},
   "outputs": [
    {
     "name": "stdout",
     "output_type": "stream",
     "text": [
      "Гипотеза может быть принята, если уровень значимости не более: 0.424767820795271\n"
     ]
    }
   ],
   "source": [
    "F = 0.6480855309726182\n",
    "a_max = 1 - stats.f.cdf(F, 1, n - 2)\n",
    "print(\"Гипотеза может быть принята, если уровень значимости не более:\", a_max)"
   ]
  },
  {
   "cell_type": "markdown",
   "metadata": {},
   "source": [
    "#### Задание 5\n",
    "Сформулировать модель, включающую дополнительный член $X^2$. Построить МНК оценки параметров $\\beta_0, \\beta_1, \\beta_2$ в данной модели. Изобразить полученную регрессионную зависимость."
   ]
  },
  {
   "cell_type": "markdown",
   "metadata": {},
   "source": [
    "Линейная регрессионная модель:\n",
    "\n",
    "$ Y = X^T \\beta + \\varepsilon , \\quad  \\varepsilon $ - вектор ошибок \n",
    "\n",
    "$ E_\\theta \\varepsilon = 0 , \\quad Var_\\theta \\varepsilon = \\sigma^2 E $\n",
    "\n",
    "$ E(Y|X) = \\beta_0 + \\beta_1X + \\beta_1X^2, \\quad \\beta = (\\beta_0, \\beta_1, \\beta_2) $\n",
    "\n",
    "МНК оценка:\n",
    "\n",
    "$ \\widehat \\beta = (XX^T)^{-1}XY $\n",
    "\n"
   ]
  },
  {
   "cell_type": "code",
   "execution_count": 1411,
   "metadata": {},
   "outputs": [
    {
     "name": "stdout",
     "output_type": "stream",
     "text": [
      "[15.32370048 -0.90697364  0.10735481]\n"
     ]
    }
   ],
   "source": [
    "X_1 = np.array([[1 for i in range(50)], X_0, [i**2 for i in X_0]])\n",
    "Y_1 = np.array(Y_0)\n",
    "XX_T_1 = np.dot(X_1, X_1.T)\n",
    "XX_T_inv_1 = np.linalg.inv(XX_T_1)\n",
    "beta_1 = np.dot(np.dot(XX_T_inv_1, X_1), Y_1)\n",
    "print(beta_1)"
   ]
  },
  {
   "cell_type": "markdown",
   "metadata": {},
   "source": [
    "$\\beta_0 = 15.32370048$\n",
    "\n",
    "$\\beta_1 = -0.90697364$\n",
    "\n",
    "$\\beta_2 = 0.10735481$\n"
   ]
  },
  {
   "cell_type": "code",
   "execution_count": 1412,
   "metadata": {},
   "outputs": [
    {
     "data": {
      "image/png": "[encoded data removed]",
      "text/plain": [
       "<Figure size 640x480 with 1 Axes>"
      ]
     },
     "metadata": {},
     "output_type": "display_data"
    }
   ],
   "source": [
    "plt.plot(X_0, Y_0, 'o', label='Data')\n",
    "\n",
    "X_2 = np.array([[1 for i in range(50)], sorted(X_0), [i**2 for i in sorted(X_0)]])\n",
    "\n",
    "# Строим линию\n",
    "model_line_1 = np.dot(X_2.T, beta_1)\n",
    "plt.plot(sorted(X_0), model_line_1, 'o-', color='red')\n",
    "plt.xlabel('X')\n",
    "plt.ylabel('Y')\n",
    "plt.show()"
   ]
  },
  {
   "cell_type": "markdown",
   "metadata": {},
   "source": [
    "#### Задание 6\n",
    "Построить несмещенную оценку дисперсии. Провести исследование нормальности ошибок как в пункте 2."
   ]
  },
  {
   "cell_type": "markdown",
   "metadata": {},
   "source": [
    "Построим несмещенную оценку дисперсии\n",
    "\n",
    "$ s^2 = \\frac{1}{n-r} \\cdot  (Y - X^T \\widehat \\beta)^T (Y - X^T \\widehat \\beta) $\n",
    "\n",
    "$ r = 3$ - ранг X\n"
   ]
  },
  {
   "cell_type": "code",
   "execution_count": 1413,
   "metadata": {},
   "outputs": [
    {
     "name": "stdout",
     "output_type": "stream",
     "text": [
      "30.75312841373129\n"
     ]
    }
   ],
   "source": [
    "\n",
    "res = np.dot((Y_1 - np.dot(X_1.T, beta_1)).T, (Y_1 - np.dot(X_1.T, beta_1)))\n",
    "s_1 = res/(n-3)\n",
    "print(s_1)\n"
   ]
  },
  {
   "cell_type": "markdown",
   "metadata": {},
   "source": [
    "$ s^2 = 30.75312841373129 $\n",
    "\n",
    "Вектор ошибок"
   ]
  },
  {
   "cell_type": "code",
   "execution_count": 1414,
   "metadata": {},
   "outputs": [
    {
     "name": "stdout",
     "output_type": "stream",
     "text": [
      "[-10.3434828  -10.06917241  -9.12370048  -8.3727024   -7.1089728\n",
      "  -6.99370048  -6.52408164  -6.3334828   -6.11917241  -5.9634828\n",
      "  -5.2927024   -4.8027024   -4.23917241  -4.05408164  -3.13370048\n",
      "  -2.9234828   -1.7589728   -1.70408164  -1.44408164  -1.4027024\n",
      "  -1.38370048  -1.25370048   0.0572976    0.08082759   0.27629952\n",
      "   0.2972976    0.4172976    0.93591836   1.13082759   1.7772976\n",
      "   1.8365172    2.30591836   2.8572976    3.0272976    3.1465172\n",
      "   3.2910272    3.34629952   3.69591836   4.10082759   4.32591836\n",
      "   4.78082759   4.8772976    4.91591836   6.07591836   6.81591836\n",
      "   6.89629952   7.22082759   8.7072976   10.9672976   12.18082759]\n"
     ]
    }
   ],
   "source": [
    "print(np.squeeze(sorted(Y_1- np.dot(X_1.T, beta_1))))"
   ]
  },
  {
   "cell_type": "markdown",
   "metadata": {},
   "source": [
    "Построим гиитограмму с шагом h = 2.20"
   ]
  },
  {
   "cell_type": "code",
   "execution_count": 1415,
   "metadata": {},
   "outputs": [
    {
     "name": "stdout",
     "output_type": "stream",
     "text": [
      "Интервал: (-10.3435, -8.1435), Количество чисел: 4.0\n",
      "Интервал: (-8.1435, -5.9435), Количество чисел: 6.0\n",
      "Интервал: (-5.9435, -3.7435), Количество чисел: 4.0\n",
      "Интервал: (-3.7435, -1.5435), Количество чисел: 4.0\n",
      "Интервал: (-1.5435, 0.6565), Количество чисел: 9.0\n",
      "Интервал: (0.6565, 2.8565), Количество чисел: 5.0\n",
      "Интервал: (2.8565, 5.0565), Количество чисел: 11.0\n",
      "Интервал: (5.0565, 7.2565), Количество чисел: 4.0\n",
      "Интервал: (7.2565, 9.4565), Количество чисел: 1.0\n",
      "Интервал: (9.4565, 11.6565), Количество чисел: 1.0\n",
      "Интервал: (11.6565, 13.8565), Количество чисел: 1.0\n"
     ]
    },
    {
     "data": {
      "image/png": "[encoded data removed]",
      "text/plain": [
       "<Figure size 640x480 with 1 Axes>"
      ]
     },
     "metadata": {},
     "output_type": "display_data"
    },
    {
     "name": "stdout",
     "output_type": "stream",
     "text": [
      "[ 4.  6.  4.  4.  9.  5. 11.  4.  1.  1.  1.]\n",
      "[-10.3434828  -8.1434828  -5.9434828  -3.7434828  -1.5434828   0.6565172\n",
      "   2.8565172   5.0565172   7.2565172   9.4565172  11.6565172  13.8565172]\n"
     ]
    }
   ],
   "source": [
    "data_1 = np.squeeze(Y_1 - np.dot(X_1.T, beta_1))\n",
    "h, b, _ = plt.hist(data_1, bins=np.arange(min(data_1), max(data_1) + h, h), edgecolor='black', color='green')\n",
    "for i in range(len(h)):\n",
    "    print(f'Интервал: ({round(b[i], 4)}, {round(b[i+1], 4)}), Количество чисел: {h[i]}')\n",
    "plt.title('Гистограмма')\n",
    "plt.show()\n",
    "\n",
    "print(h)\n",
    "print(b)"
   ]
  },
  {
   "cell_type": "markdown",
   "metadata": {},
   "source": [
    "Проверим гипотезу нормальности ошибок на уровне значимости $\\alpha = 0.01$ по $\\chi^2$\n",
    "\n",
    "$ H_0 : \\varepsilon_1, ..., \\varepsilon_n \\sim \\mathcal{N}(0, \\sigma^2)$\n",
    "\n",
    "Объединим интервалы, чтобы в каждом было не менее 5 элементов\n",
    "\n",
    "$I_1 = (-\\infty, -5.9], \\; n_1 = 10$\n",
    "\n",
    "$I_2 = (-5.9, -1.5], \\; n_2 = 8$\n",
    "\n",
    "$I_3 = (-1.5, 0.7], \\; n_3 = 9$\n",
    "\n",
    "$I_{4} = (0.7, 2.9], \\; n_{4} = 5$\n",
    "\n",
    "$I_{5} = (2.9, 5.1], \\; n_{5} = 11$\n",
    "\n",
    "$I_{6} = (5.1, +\\infty), \\; n_{6} = 7$"
   ]
  },
  {
   "cell_type": "code",
   "execution_count": 1416,
   "metadata": {},
   "outputs": [
    {
     "name": "stdout",
     "output_type": "stream",
     "text": [
      "Значение параметра = 5.767771152890447\n",
      "Значение X^2 = 7.99837420543996\n",
      "Квантиль x_a = 13.276704135987622\n",
      "True\n"
     ]
    }
   ],
   "source": [
    "def min_sum(s):\n",
    "    arr = np.array([-5.9, -1.5, 0.7, 2.9, 5.1])\n",
    "    res = np.zeros(len(arr) + 1)\n",
    "\n",
    "    res[0] = stats.norm.cdf(arr[0], 0, s)\n",
    "    \n",
    "    for i in range(1, len(arr)):\n",
    "        res[i] = stats.norm.cdf(arr[i], 0, s) - stats.norm.cdf(arr[i-1], 0, s)\n",
    "        \n",
    "    res[len(arr)] = 1 - stats.norm.cdf(arr[-1], 0, s)\n",
    "    v = np.array([10, 8, 9, 5, 11, 7])\n",
    "    ans = ((v - 50 * res) ** 2) / (50 * res)\n",
    "    return np.sum(ans)\n",
    "\n",
    "result = scipy.optimize.minimize_scalar(min_sum)\n",
    "\n",
    "print(\"Значение параметра =\", result.x)\n",
    "print(\"Значение X^2 =\", result.fun)\n",
    "\n",
    "func = stats.chi2(6 - 1 -1)\n",
    "fx = 1 - alpha\n",
    "x_a = func.ppf(fx)\n",
    "\n",
    "print(\"Квантиль x_a =\", x_a)\n",
    "\n",
    "print(result.fun <= x_a)"
   ]
  },
  {
   "cell_type": "markdown",
   "metadata": {},
   "source": [
    "$ \\chi^2 = 7.99837420543996 $\n",
    "\n",
    "$ x_{a} : \\mathcal{K}_{r-d-1}(x_a) = 1 - \\alpha_1 = 1 - 0.01 = 0.99$\n",
    "\n",
    "$\\mathcal{X}^2 < x_\\alpha \\Rightarrow$ принимаем $H_0$ \n",
    "\n",
    "Найдём наибольшее значение уровня значимости, на котором нет оснований отвергнуть гипотезу."
   ]
  },
  {
   "cell_type": "code",
   "execution_count": 1417,
   "metadata": {},
   "outputs": [
    {
     "name": "stdout",
     "output_type": "stream",
     "text": [
      "Гипотеза может быть принята, если уровень значимости не более: 0.09163776753360453\n"
     ]
    }
   ],
   "source": [
    "Xi2 = 7.99837420543996\n",
    "a_max = 1 - chi2.cdf(Xi2, 6-1-1)\n",
    "print(\"Гипотеза может быть принята, если уровень значимости не более:\", a_max)"
   ]
  },
  {
   "cell_type": "markdown",
   "metadata": {},
   "source": [
    "Оценим расстояние полученной оценки до класса нормальных распределений по Колмогорову.\n",
    "\n",
    "$ H_0 : \\varepsilon_1, ..., \\varepsilon_n \\sim \\mathcal{N}(0, \\widehat {\\sigma^2}) $\n",
    "\n",
    "$ \\sqrt{n} \\cdot max|F_n(y) - F(y)| \\sim K $, $K$ - распределение Колмогорова. "
   ]
  },
  {
   "cell_type": "code",
   "execution_count": 1418,
   "metadata": {},
   "outputs": [
    {
     "name": "stdout",
     "output_type": "stream",
     "text": [
      "x_alpha = 0.2106765432666897\n"
     ]
    }
   ],
   "source": [
    "lamb = stats.ksone.ppf(1 - alpha, 50)\n",
    "print(\"x_alpha =\", lamb)"
   ]
  },
  {
   "cell_type": "code",
   "execution_count": 1419,
   "metadata": {},
   "outputs": [
    {
     "name": "stdout",
     "output_type": "stream",
     "text": [
      "Dn = 0.45\n"
     ]
    }
   ],
   "source": [
    "def F(x, array):\n",
    "    s = 0\n",
    "    for i in array:\n",
    "        if i >= x:\n",
    "            return s / 50\n",
    "        s += 1\n",
    "    return s / 50\n",
    "\n",
    "a0 = 0.00\n",
    "n = 50\n",
    "sig0 = np.sqrt(30.75312841373129)\n",
    "\n",
    "sort_array = np.squeeze(sorted(Y_1 - np.dot(X_1.T, beta_1)))\n",
    "\n",
    "x = np.arange(-5, 5, 0.001)\n",
    "#Fnorm = stats.norm.cdf(x, a0, sig0)\n",
    "\n",
    "F_norm = np.array([stats.norm.cdf(i, a0, sig0) for i in x])\n",
    "Fn = np.array([F(i, sort_array) for i in x])\n",
    "\n",
    "diff = np.abs( Fn - F_norm)\n",
    "\n",
    "# Максимальная разность\n",
    "D = np.max(diff)\n",
    "Dn = D * np.sqrt(n)\n",
    "\n",
    "print(\"Dn =\", round(Dn, 2))"
   ]
  },
  {
   "cell_type": "markdown",
   "metadata": {},
   "source": [
    "$ D_n > x_\\alpha $, значит гипотеза $H_0$ отвергается. \n",
    "\n",
    "Найдём наибольшее значение уровня значимости, на котором нет оснований отвергнуть гипотезу.\n",
    "\n",
    "$\\alpha_2 \\le 1 - \\mathcal{K}(D_n)$"
   ]
  },
  {
   "cell_type": "code",
   "execution_count": 1420,
   "metadata": {},
   "outputs": [
    {
     "name": "stdout",
     "output_type": "stream",
     "text": [
      "Гипотеза может быть принята, если уровень значимости не более: 4.6305936862722774e-10\n"
     ]
    }
   ],
   "source": [
    "func = stats.ksone(50)\n",
    "D = 0.45\n",
    "a_max = 1 - func.cdf(D)\n",
    "print(\"Гипотеза может быть принята, если уровень значимости не более:\", a_max)"
   ]
  },
  {
   "cell_type": "markdown",
   "metadata": {},
   "source": [
    "Построим графики"
   ]
  },
  {
   "cell_type": "code",
   "execution_count": 1421,
   "metadata": {},
   "outputs": [
    {
     "data": {
      "image/png": "[encoded data removed]",
      "text/plain": [
       "<Figure size 640x480 with 1 Axes>"
      ]
     },
     "metadata": {},
     "output_type": "display_data"
    }
   ],
   "source": [
    "plt.title('Выборочная функция распределения ошибки и функция нормального распределения')\n",
    "plt.xlabel('x') \n",
    "plt.ylabel('y')\n",
    "plt.plot(x, F_norm)\n",
    "plt.plot(x, Fn, '--r')\n",
    "plt.show()"
   ]
  },
  {
   "cell_type": "markdown",
   "metadata": {},
   "source": [
    "#### Задание 7\n",
    "В предположении нормальности ошибок построить доверительные интервалы для параметров $\\beta_0$, $\\beta_1$, $\\beta_2$  уровня доверия 1 − $\\alpha$. Написать уравнение доверительного эллипсоида уровня доверия 1 − $\\alpha$.\n"
   ]
  },
  {
   "cell_type": "markdown",
   "metadata": {},
   "source": [
    "$\\psi = C^T \\beta $\n",
    "\n",
    "$ b_\\psi = C^T (XX^T)^{-1}C$\n",
    "\n",
    "$ \\cfrac{\\widehat \\psi - \\psi}{s\\sqrt{b}} \\sim S_{n-r} $\n",
    "\n",
    "$ x_\\alpha : S_{n-r}(x_\\alpha) = 1 -\\frac{\\alpha}{2} $\n",
    "\n",
    "$ P_\\theta(-x_\\alpha \\le \\cfrac{\\widehat \\psi - \\psi}{s\\sqrt{b}} \\le x_\\alpha) = 1 -\\alpha $\n",
    "\n",
    "$ \\widehat \\psi -x_{\\alpha}s\\sqrt{b} \\le \\psi \\le \\widehat \\psi -x_{\\alpha}s\\sqrt{b} $ - доверительный интервал для $\\psi$\n",
    "\n",
    "Для $\\beta_0:$\n",
    "\n",
    "$ C = \\begin{pmatrix}\n",
    "    1 \\\\\n",
    "    0 \\\\\n",
    "    0\n",
    "\\end{pmatrix} $, $\\widehat \\psi = \\widehat \\beta_0 $, $b$ - элемент в матрице $ (XX^T)^{-1}$ на позиции $(1,1) $ "
   ]
  },
  {
   "cell_type": "code",
   "execution_count": 1422,
   "metadata": {},
   "outputs": [
    {
     "name": "stdout",
     "output_type": "stream",
     "text": [
      "Квантиль x_a = 2.6845556178665215\n",
      "[[ 0.10104693 -0.07928113  0.01215426]\n",
      " [-0.07928113  0.10130183 -0.01798238]\n",
      " [ 0.01215426 -0.01798238  0.00338596]]\n",
      "b_0 = 0.10104693288255284\n",
      "b_1 = 0.10130183213254403\n",
      "b_2 = 0.10130183213254403\n"
     ]
    }
   ],
   "source": [
    "func = stats.t(n - 3)\n",
    "x_a = func.ppf(1 - alpha/2)\n",
    "print(\"Квантиль x_a =\", x_a)\n",
    "\n",
    "C_0 = np.array([1, 0, 0])\n",
    "b_0 = np.dot(np.dot(C_0.T, np.linalg.inv(np.dot(X_1, X_1.T))), C_0)\n",
    "C_1 = np.array([0, 1, 0])\n",
    "b_1 = np.dot(np.dot(C_1.T, np.linalg.inv(np.dot(X_1, X_1.T))), C_1)\n",
    "C_2 = np.array([0, 0, 1])\n",
    "b_2 = np.dot(np.dot(C_1.T, np.linalg.inv(np.dot(X_1, X_1.T))), C_1)\n",
    "print(np.linalg.inv(np.dot(X_1, X_1.T)))\n",
    "print(\"b_0 =\", b_0)\n",
    "print(\"b_1 =\",b_1)\n",
    "print(\"b_2 =\",b_2)"
   ]
  },
  {
   "cell_type": "code",
   "execution_count": 1423,
   "metadata": {},
   "outputs": [
    {
     "name": "stdout",
     "output_type": "stream",
     "text": [
      "Доверительный интервал для betta_0 [10.591331216779318; 20.056069737777115] уровня доверия 0.99\n"
     ]
    }
   ],
   "source": [
    "x_a = 2.6845556178665215\n",
    "b = 0.10104693288255284\n",
    "\n",
    "left = beta_1[0] - x_a * np.sqrt(s_1) * np.sqrt(b)\n",
    "right = beta_1[0] + x_a * np.sqrt(s_1) * np.sqrt(b)\n",
    "print(\"Доверительный интервал для betta_0 [{}; {}] уровня доверия {}\".format(left, right, 1-alpha))"
   ]
  },
  {
   "cell_type": "markdown",
   "metadata": {},
   "source": [
    "\n",
    "Для $\\beta_1:$\n",
    "\n",
    "$ C = \\begin{pmatrix}\n",
    "    0 \\\\\n",
    "    1 \\\\\n",
    "    0\n",
    "\\end{pmatrix} $, $\\widehat \\psi = \\widehat \\beta_1 $, $b$ - элемент в матрице $ (XX^T)^{-1}$ на позиции $(2,2) $ "
   ]
  },
  {
   "cell_type": "code",
   "execution_count": 1424,
   "metadata": {},
   "outputs": [
    {
     "name": "stdout",
     "output_type": "stream",
     "text": [
      "Доверительный интервал для betta_1 [-5.645308040383418; 3.83136075464808] уровня доверия 0.99\n"
     ]
    }
   ],
   "source": [
    "x_a = 2.6845556178665215\n",
    "b = 0.10130183213254403\n",
    "\n",
    "left = beta_1[1] - x_a * np.sqrt(s_1) * np.sqrt(b)\n",
    "right = beta_1[1] + x_a * np.sqrt(s_1) * np.sqrt(b)\n",
    "print(\"Доверительный интервал для betta_1 [{}; {}] уровня доверия {}\".format(left, right, 1-alpha))"
   ]
  },
  {
   "cell_type": "markdown",
   "metadata": {},
   "source": [
    "\n",
    "Для $\\beta_2:$\n",
    "\n",
    "$ C = \\begin{pmatrix}\n",
    "    0 \\\\\n",
    "    0 \\\\\n",
    "    1\n",
    "\\end{pmatrix} $, $\\widehat \\psi = \\widehat \\beta_1 $, $b$ - элемент в матрице $ (XX^T)^{-1}$ на позиции $(3,3) $ "
   ]
  },
  {
   "cell_type": "code",
   "execution_count": 1425,
   "metadata": {},
   "outputs": [
    {
     "name": "stdout",
     "output_type": "stream",
     "text": [
      "Доверительный интервал для betta_2 [-4.630979591899013; 4.845689203132485] уровня доверия 0.99\n"
     ]
    }
   ],
   "source": [
    "x_a = 2.6845556178665215\n",
    "b = 0.10130183213254403\n",
    "\n",
    "left = beta_1[2] - x_a * np.sqrt(s_1) * np.sqrt(b)\n",
    "right = beta_1[2] + x_a * np.sqrt(s_1) * np.sqrt(b)\n",
    "print(\"Доверительный интервал для betta_2 [{}; {}] уровня доверия {}\".format(left, right, 1-alpha))"
   ]
  },
  {
   "cell_type": "markdown",
   "metadata": {},
   "source": [
    "Доверительный эллипсоид уровня доверия 1 - $\\alpha$\n",
    "\n",
    "$ A_\\alpha = \\{x: (x - \\widehat \\psi)^T (C^T (XX^T)^{-1}C)^{-1}(x - \\widehat \\psi) \\le qs^2x_\\alpha\\}$, где\n",
    "\n",
    "$ x_\\alpha = F_{q, n-r}(x_\\alpha) = 1 - \\alpha$\n",
    "\n",
    "$ Для \\; (\\beta_0, \\beta_1)$\n",
    "\n",
    "$C = \\begin{pmatrix}\n",
    "    1 & 0 & 0\\\\\n",
    "    0 & 1 & 0\\\\\n",
    "    0 & 0 & 1\n",
    "\\end{pmatrix} $\n",
    "\n",
    "Пусть $ \\begin{pmatrix}\n",
    "    x\\\\\n",
    "    y\\\\\n",
    "    z\n",
    "\\end{pmatrix}  = P(\\widehat \\psi - \\psi)$, где P - матрица собственных векторов.\n",
    "\n",
    "Тогда уравнение доверительного эллипсоида выглядит таким образом:\n",
    "\n",
    "$(\\widehat \\psi -  \\psi)^T (C^T (XX^T)^{-1}C)^{-1}(\\widehat \\psi -  \\psi) = \\lambda_1 x^2 + \\lambda_2 y^2 + \\lambda_3 z^2 \\le qs^2x_\\alpha$, где $\\lambda_1$ и $\\lambda_2$ - собственные числа матрицы $XX^T$\n",
    "\n",
    "$\\cfrac{\\lambda_1}{qs^2x_\\alpha}x^2 + \\cfrac{\\lambda_2}{qs^2x_\\alpha}y^2 + \\cfrac{\\lambda_3}{qs^2x_\\alpha}z^2 \\le 1$"
   ]
  },
  {
   "cell_type": "code",
   "execution_count": 1426,
   "metadata": {},
   "outputs": [
    {
     "name": "stdout",
     "output_type": "stream",
     "text": [
      "Собственные числа:\n",
      "[1.05543921e+04 4.41429661e+01 5.46488971e+00]\n",
      "10554.392144 44.142966 5.464890\n",
      "\n",
      "Собственные векторы:\n",
      "[[-0.04855729 -0.21148339 -0.97617466]\n",
      " [-0.71300003 -0.67708987  0.1821545 ]\n",
      " [ 0.69948062 -0.70485749  0.11791001]]\n",
      "\n",
      "Матрица перехода:\n",
      "[[-0.04855729 -0.71300003  0.69948062]\n",
      " [-0.21148339 -0.67708987 -0.70485749]\n",
      " [-0.97617466  0.1821545   0.11791001]]\n",
      "\n",
      "beta\n",
      "15.323700477278216 -0.9069736428676691 0.10735480561673594\n",
      "\n",
      "Квантиль x_a = 4.217957838127227\n"
     ]
    }
   ],
   "source": [
    "eigenvalues, eigenvectors = np.linalg.eig(XX_T_1)\n",
    "print(\"Собственные числа:\")\n",
    "print(eigenvalues)\n",
    "print(\"{:f}\".format(eigenvalues[0]), \"{:f}\".format(eigenvalues[1]), \"{:f}\".format(eigenvalues[2]))\n",
    "print(\"\\nСобственные векторы:\")\n",
    "print(eigenvectors.T)\n",
    "print(\"\\nМатрица перехода:\")\n",
    "print(eigenvectors)\n",
    "\n",
    "print(\"\\nbeta\")\n",
    "print(beta_1[0], beta_1[1], beta_1[2])\n",
    "\n",
    "func = stats.f(3, n - 2)\n",
    "x_a = func.ppf(1 - alpha)\n",
    "print(\"\\nКвантиль x_a =\", x_a)\n"
   ]
  },
  {
   "cell_type": "markdown",
   "metadata": {},
   "source": [
    "$ \\begin{pmatrix} x\\\\ y\\\\ z \\end{pmatrix} =  \\begin{pmatrix} -0.04855729 & -0.71300003 & 0.69948062\\\\ -0.21148339 & -0.67708987 & -0.70485749\\\\ -0.97617466 & 0.1821545 & 0.11791001 \\end{pmatrix} \\cdot \\begin{pmatrix} 15.323700477278216 - \\beta_0\\\\ -0.9069736428676691 - \\beta_1 \\\\ 0.10735480561673594 - \\beta_2  \\end{pmatrix} = \\begin{pmatrix} -0.022312527 + 0.04855729\\beta_0 + 0.71300003\\beta_1 - 0.69948062\\beta_2 \\\\ -2.7022752971 + 0.21148339\\beta_0 + 0.67708987\\beta_1 + 0.70485749 \\beta_2 \\\\ -15.11115922757 + 0.97617466\\beta_0 - 0.1821545\\beta_1 - 0.11791001 \\beta_2  \\end{pmatrix} $\n",
    "\n",
    "Уравнение эллипса:\n",
    "\n",
    "$\\cfrac{10554.392144}{3 \\cdot 30.75312841373129 \\cdot 4.21796} \\cdot x^2 + \\cfrac{44.142966}{3 \\cdot 30.75312841373129 \\cdot 4.21796}\\cdot y^2 + \\cfrac{5.464890}{3 \\cdot 30.75312841373129 \\cdot 4.21796}\\cdot z^2 \\le 1 $\n",
    "\n",
    "$\\cfrac{10554.392144}{3 \\cdot 30.75312841373129 \\cdot 4.21796} \\cdot (-0.022312527 + 0.04855729\\beta_0 + 0.71300003\\beta_1 - 0.69948062\\beta_2)^2 + \\cfrac{44.142966}{3 \\cdot 30.75312841373129 \\cdot 4.21796}\\cdot (-2.7022752971 + 0.21148339\\beta_0 + 0.67708987\\beta_1 + 0.70485749 \\beta_2)^2 + \\cfrac{5.464890}{3 \\cdot 30.75312841373129 \\cdot 4.21796}\\cdot (-15.11115922757 + 0.97617466\\beta_0 - 0.1821545\\beta_1 - 0.11791001 \\beta_2)^2 \\le 1$"
   ]
  },
  {
   "cell_type": "markdown",
   "metadata": {},
   "source": [
    "<img src=\"./ellipse.png\" width=\"600\">"
   ]
  },
  {
   "cell_type": "markdown",
   "metadata": {},
   "source": [
    "#### Задание 8.\n",
    "Сформулировать гипотезу линейной регрессинной зависимости переменной Y от переменной X и проверить её значимость на уровне $\\alpha$."
   ]
  },
  {
   "cell_type": "markdown",
   "metadata": {},
   "source": [
    "$\\psi = C^T \\beta $\n",
    "\n",
    "$ H_0 : \\beta_2 = 0$\n",
    "\n",
    "$\\mathcal{F} = \\cfrac{\\widehat \\psi^T ((C^T (XX^T)^{-1}C)^{-1}) \\widehat \\psi}{qs^2} \\sim F_{q, n-r}$\n",
    "\n",
    "$x_\\alpha: F_{q, n-r}(x_\\alpha) = 1 - \\alpha $\n",
    "\n",
    "$ C = \\begin{pmatrix}\n",
    "    0 \\\\\n",
    "    0 \\\\\n",
    "    1\n",
    "\\end{pmatrix} $, $\\widehat \\psi = \\widehat \\beta_2, q = 1 $\n",
    "\n",
    "$\\mathcal{F} = \\cfrac{{\\widehat \\beta_2} ^2}{bqs^2} $"
   ]
  },
  {
   "cell_type": "code",
   "execution_count": 1427,
   "metadata": {},
   "outputs": [
    {
     "name": "stdout",
     "output_type": "stream",
     "text": [
      "Квантиль x_a = 7.2068388654187014\n",
      "[[ 0.10104693 -0.07928113  0.01215426]\n",
      " [-0.07928113  0.10130183 -0.01798238]\n",
      " [ 0.01215426 -0.01798238  0.00338596]]\n",
      "b_2 = 0.0033859575256941442\n"
     ]
    }
   ],
   "source": [
    "func = stats.f(1, n - 3)\n",
    "x_a = func.ppf(1 - alpha)\n",
    "print(\"Квантиль x_a =\", x_a)\n",
    "\n",
    "C_2 = np.array([0, 0, 1])\n",
    "b_2 = np.dot(np.dot(C_2.T, np.linalg.inv(np.dot(X_1, X_1.T))), C_2)\n",
    "print(np.linalg.inv(np.dot(X_1, X_1.T)))\n",
    "print(\"b_2 =\",b_2)"
   ]
  },
  {
   "cell_type": "code",
   "execution_count": 1428,
   "metadata": {},
   "outputs": [
    {
     "name": "stdout",
     "output_type": "stream",
     "text": [
      "0.11068077009543202\n"
     ]
    }
   ],
   "source": [
    "F = beta_1[2]**2 / (0.0033859575256941442 * 1 * 30.75312841373129)\n",
    "print(F)"
   ]
  },
  {
   "cell_type": "markdown",
   "metadata": {},
   "source": [
    "$\\mathcal{F} < x_\\alpha \\Rightarrow$ принимаем $H_0$ \n",
    "\n",
    "Найдём наибольшее значение уровня значимости, на котором нет оснований отвергнуть гипотезу."
   ]
  },
  {
   "cell_type": "code",
   "execution_count": 1429,
   "metadata": {},
   "outputs": [
    {
     "name": "stdout",
     "output_type": "stream",
     "text": [
      "Гипотеза может быть принята, если уровень значимости не более: 0.740849809131511\n"
     ]
    }
   ],
   "source": [
    "F = 0.11068077009543202\n",
    "a_max = 1 - stats.f.cdf(F, 1, n - 3)\n",
    "print(\"Гипотеза может быть принята, если уровень значимости не более:\", a_max)"
   ]
  },
  {
   "cell_type": "markdown",
   "metadata": {},
   "source": [
    "## Выводы\n",
    "\n",
    "В ходе данной лабораторной работы были изучены основные теоретические положения, связанные с линейной регрессией и методом наименьших квадратов (МНК). МНК используется для оценки коэффициентов регрессии, минимизируя сумму квадратов остатков. \n",
    "\n",
    "Был исследован регрессионный анализ, включая построение модели, оценку параметров и проверку их значимости. Также проведен анализ нормальности ошибок, построение доверительных интервалов и эллипсов. Кроме того, оценено расстояние до нормального распределения с использованием критерия Колмогорова и проверена гипотеза о независимости переменных Y и X. \n",
    "\n",
    "Также были рассмотрены ключевые элементы, такие как несмещённая оценка дисперсии $(S^{2})$ и критерий $\\chi^2$ для проверки гипотез. Все эти элементы позволяют проводить статистические выводы о параметрах модели и их значимости. \n"
   ]
  }
 ],
 "metadata": {
  "kernelspec": {
   "display_name": "Python 3",
   "language": "python",
   "name": "python3"
  },
  "language_info": {
   "codemirror_mode": {
    "name": "ipython",
    "version": 3
   },
   "file_extension": ".py",
   "mimetype": "text/x-python",
   "name": "python",
   "nbconvert_exporter": "python",
   "pygments_lexer": "ipython3",
   "version": "3.9.13"
  }
 },
 "nbformat": 4,
 "nbformat_minor": 4
}
