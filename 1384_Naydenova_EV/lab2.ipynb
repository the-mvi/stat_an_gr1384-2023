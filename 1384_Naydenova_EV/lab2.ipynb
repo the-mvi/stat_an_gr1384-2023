{
 "cells": [
  {
   "attachments": {},
   "cell_type": "markdown",
   "metadata": {},
   "source": [
    "# Лабораторная работа №2: Классические методы математической статистики\n",
    "Выполнилa студентка гр. 1384 Найдёнова Елена. Вариант №10"
   ]
  },
  {
   "attachments": {},
   "cell_type": "markdown",
   "metadata": {},
   "source": [
    "## Цель работы\n",
    "Научится применять методы математической статистики для визуализации и анализа полученных данных; сформировать навыки реализации методов с помощью прикладных программных пакетов."
   ]
  },
  {
   "attachments": {},
   "cell_type": "markdown",
   "metadata": {},
   "source": [
    "## Основные теоретические положения\n",
    "1. Выборочные числовые характеристики:\n",
    "\n",
    "Мат.ожидание $\\overline{X}=\\frac{1}{n}\\sum_{i=1}^{n}X_{i}$\n",
    "\n",
    "Дисперсия $S^{2}=\\frac{1}{n}\\sum_{i=1}^{n}\\left( X_{i}-\\overline{X} \\right)^{2}=\\overline{X^{2}}-\\overline{X}^{2}$\n",
    "\n",
    "Коэф. асимметрии $\\widehat{S_{kew}}X=\\frac{\\left(\\frac{1}{n}\\sum_{i=1}^{n}\\left( X_{i}-\\overline{X} \\right)^{3} \\right)}{S^{3}}$\n",
    "\n",
    "Коэф. эксцесса $\\widehat{K_{urt}}X=\\frac{\\frac{1}{n}\\sum_{i=1}^{n}\\left( X_{i}-\\overline{X}^{4} \\right)}{S^{4}}-3$\n",
    "\n",
    "2. Оценка Максимального Правдоподобия (ОМП):\n",
    "\n",
    "Если $X_{1},...,X_{n}$-выборка из распределения с плотностью распределения $P_{\\theta}, \\theta\\in \\Theta$, то\n",
    "\n",
    "Функция правдоподобия $L(\\overrightarrow{X},\\theta)=\\prod_{i=1}^{n}P_{\\theta}(X_{i})$\n",
    "\n",
    "Логарифм функции правдоподобия представляется в виде $LL(\\overrightarrow{X},\\theta)=\\ln L(\\overrightarrow{X},\\theta)=\\sum_{i=1}^{n}\\ln P_{\\theta}(X_{i})$\n",
    "\n",
    "В силу монотонности логарифма задача максимизации функции правдоподобия сводится к задаче максимизации ее логарифма по всем $\\theta\\in \\Theta$\n",
    "\n",
    "Если $\\theta$ - d-мерный параметр и $P_{\\theta}$ дифференцируема по $\\theta$, то для нахождения максимума надо найти решения системы уравнений: $\\frac{\\partial }{\\partial \\theta}LL(\\overrightarrow{X},\\theta)=0, i=\\overline{1,d}$\n",
    "\n",
    "3. Оценка метода моментов (ОММ)\n",
    "\n",
    "Пусть $X_{1},...,X_{n}$-выбока из распределения $P_{\\theta}, \\theta=(\\theta_{1},...,\\theta_{d})$\n",
    "\n",
    "$\\exists \\mu_{k}(\\theta)=\\mathbb{E}X^{k}_{1}, k=\\overline{1,d}$\n",
    "\n",
    "Если $\\exists$ ! решение $\\widetilde{\\theta}(X)$ системы уравнений: $\\widehat{\\mu^{k}}(\\widetilde{\\theta})=\\mu_{k}(\\theta), k=\\overline{1,d}$, где $\\widetilde{\\theta}(X)=\\frac{1}{n}\\sum_{i=1}^{n}X^{k}_{i}$-выборочный момент k-го порядка, то $\\widetilde{\\theta}(X)$ называется оценкой по методу моментов\n",
    "\n",
    "4. Асимптотический доверительный интервал\n",
    "\n",
    "На базе Асимптотической нормальности оценки $\\widehat{\\theta}$\n",
    "\n",
    "Асимптотическая нормальность $\\sqrt{n}\\left( \\widehat{\\theta}(\\overrightarrow{X})-\\theta)\\right)\\sim \\mathcal{N}\\left(0,\\sigma^{2}(\\theta)\\right)$\n",
    "\n",
    "Тогда $\\sqrt{n}\\frac{\\widehat{\\theta}(\\overrightarrow{X})-\\theta}{\\sigma\\left(\\widehat{\\theta}(\\overrightarrow{X})\\right)}$    \n",
    "\n",
    "Выбираем $X_{\\alpha}: \\Phi(X_{\\alpha})=1-\\frac{\\alpha}{2}$\n",
    "\n",
    "Асимптотический доверительный интервал  $\\left[ \\widehat{\\theta}(\\overrightarrow{X})-\\frac{X_{\\alpha}\\cdot \\sigma\\left( \\widehat{\\theta}(\\overrightarrow{X}) \\right)}{\\sqrt{n}}; \\widehat{\\theta}(\\overrightarrow{X})+\\frac{X_{\\alpha}\\cdot \\sigma\\left( \\widehat{\\theta}(\\overrightarrow{X}) \\right)}{\\sqrt{n}}\\right]$\n",
    "\n",
    "На базе ОМП. Пусть $\\widehat{\\theta}(\\overrightarrow{X})$-ОМП\n",
    "\n",
    "При выполнении опр.условий регулярности: $\\sqrt{n}\\left( \\widehat{\\theta}(\\overrightarrow{X})-\\theta)\\right)\\sim \\mathcal{N}\\left(0,\\frac{1}{I(\\theta)}\\right), I(\\theta)=-\\mathbb{E}\\left( \\frac{\\partial^{2} LL}{\\partial \\theta^{2}} \\right)$-информация Фишера\n",
    "\n",
    "Тогда $\\sqrt{n\\cdot I\\left( \\widehat{\\theta}(\\overrightarrow{X}) \\right)}\\cdot \\left( \\widehat{\\theta}(\\overrightarrow{X})-\\theta \\right)\\sim \\mathcal{N}(0,1)$\n",
    "\n",
    "Выбираем $X_{\\alpha}: \\Phi(X_{\\alpha})=1-\\frac{\\alpha}{2}$\n",
    "\n",
    "Асимптотический доверительный интервал  $\\left[ \\widehat{\\theta}(\\overrightarrow{X})-\\frac{X_{\\alpha}}{\\sqrt{n\\cdot I\\left( \\widehat{\\theta}(\\overrightarrow{X}) \\right)}};\\widehat{\\theta}(\\overrightarrow{X})+\\frac{X_{\\alpha}}{\\sqrt{n\\cdot I\\left( \\widehat{\\theta}(\\overrightarrow{X}) \\right)}} \\right]$\n",
    "\n",
    "5. Критерий $\\chi^2$ для проверки гипотез \n",
    "\n",
    "Основан на справнении теоритической плотности распределения и гистограммы, либо теоритической вероятностной меры и полигона частот.\n",
    "\n",
    "Разобъем множество значений сл. вел. X на $N$ интервалов $I_{1}, ..., I_{N}:$ $I_{i} = (a_{i-1}, a_i], i = \\overline {1,N}$. данные интервалы не пересекаются и покрывают всё множество возможных значений сл. вел. X.\n",
    "\n",
    "Обозначим через $p_{i}$ теоритическую вероятность попадания сл. вел. X в интервал $I_{i}$, при условии, что справедлива $H_{0}$.\n",
    "\n",
    "$p_{i} = P(X \\in I_{i}|H_{0})$\n",
    "\n",
    "Через $n_{i}$ обозначим число наблюдений нашей выборки, попавших в соответветствующий интервал $I_{i}$.\n",
    "\n",
    "$n_{i} = \\nu(x_{j} \\in I_{i})$\n",
    "\n",
    "Статистика критерия основана на сравнении относительной частоты и теоритической.\n",
    "\n",
    "$\\chi^{2} = \\sum \\limits_{i=1}^{N} \\frac{n}{p_{i}} \\bigg ( \\frac{n_{i}}{n} - p_{i} \\bigg )^{2} = \\sum \\limits_{i=1}^{N} \\frac{(n_{i} - p_{i} n)^{2}}{n p_{i}} \\sim \\chi^{2}_{N-1}$\n",
    "\n",
    "6. Теорема Колмогорова\n",
    "\n",
    "$D_{n}(\\overrightarrow{X}) = \\overset{}{\\underset{X \\in \\mathbb R}{sup}} |F_{0}(X_{i}) - F_{n}(X_{i})|$\n",
    "\n",
    "Если гипотеза $H_{0}$ верна, и $F_{0}(X)$ - непрерывная ф-я на $\\mathbb R$, тогда имеет место сходимость\n",
    "\n",
    "$P(\\sqrt{n} D_{n}(\\overrightarrow{X}) < z) \\xrightarrow[n \\rightarrow \\infty]{} K(z)$, где\n",
    "\n",
    "$K(z)=1-\\alpha$ - ф-я распределения Колмогорова.\n",
    "\n",
    "Если $D_{n} \\lt z$, то гипотезу принимаем.\n",
    "\n",
    "Если $D_{n} \\gt z$, то гипотезу отвергаем.\n",
    "\n",
    "7. Наиболее мощный критерий простой гипотезы.\n",
    "\n",
    "Для основной гипотезы $H_{0}: \\theta=\\theta_{0}$ и альтернативной гипотезы $H_{1}: \\theta=\\theta_{1}$, где $\\theta_{0}$ и $\\theta_{1}$ - фиксированные параметры, мы можем построить статистику правдоподобия:\n",
    "\n",
    "$LR(\\overrightarrow{X},\\theta_{1},\\theta_{0})=\\frac{L(\\overrightarrow{X},\\theta_{1})}{L(\\overrightarrow{X},\\theta_{0})} $- статистика отношений правдоподобия\n",
    "\n",
    "где $L(\\overrightarrow{X},\\theta_{1})$ - функция правдоподобия для альтернативной гипотезы, а $L(\\overrightarrow{X}\\theta_{0})$ - функция правдоподобия для основной гипотезы.\n",
    "\n",
    "Наиболее мощный критерий:\n",
    "\n",
    "$\\phi(\\overrightarrow X) = \\begin{cases}\n",
    "  0, LR(\\overrightarrow{X},\\theta_{1},\\theta_{0}) < C \\\\\n",
    "  p, LR(\\overrightarrow{X},\\theta_{1},\\theta_{0}) = C \\\\\n",
    "  1, LR(\\overrightarrow{X},\\theta_{1},\\theta_{0}) > C\n",
    "\\end{cases} $\n"
   ]
  },
  {
   "attachments": {},
   "cell_type": "markdown",
   "metadata": {},
   "source": [
    "## Постановка задачи\n",
    "Для полученных в результате эксперимента наборов данных выполнить статистическую обработку. Полученные результаты содержательно проинтерпретировать."
   ]
  },
  {
   "attachments": {},
   "cell_type": "markdown",
   "metadata": {},
   "source": [
    "## Выполнение работы\n",
    "#### 1. В результате эксперимента получены данные, приведенные в таблице 1.\n",
    "\n"
   ]
  },
  {
   "cell_type": "code",
   "execution_count": 1100,
   "metadata": {},
   "outputs": [],
   "source": [
    "from tabulate import tabulate\n",
    "from matplotlib import pyplot as plt\n",
    "from scipy.stats import chi2\n",
    "import scipy.stats as stats\n",
    "import numpy as np\n",
    "import scipy\n",
    "from scipy.stats import skew\n",
    "from scipy.stats import kurtosis\n",
    "\n",
    "data = [1, 1, 2, 1, 1, 0, 0, 0, 0, 0, 0, 3, 0, 0, 1, 0, 2, 0, 0, 1, 3, 0, 1, 1, 0, 1, 0, 0, 2, 0, 0, 2, 0, 0, 0, 0, 1, 0, 2, 1, 1, 2, 1, 0, 0, 1, 1, 2, 0, 0]"
   ]
  },
  {
   "attachments": {},
   "cell_type": "markdown",
   "metadata": {},
   "source": [
    "#### a) Построить вариационный ряд, эмпирическую функцию распределения и гистограмму частот.\n",
    "\n",
    "Построим вариационный ряд"
   ]
  },
  {
   "cell_type": "code",
   "execution_count": 1101,
   "metadata": {},
   "outputs": [
    {
     "name": "stdout",
     "output_type": "stream",
     "text": [
      "0  0  0  0  0  0  0  0  0  0  0  0  0  0  0  0  0  0  0  0  0  0  0  0  0  0  1  1  1  1  1  1  1  1  1  1  1  1  1  1  1  2  2  2  2  2  2  2  3  3\n"
     ]
    }
   ],
   "source": [
    "data.sort()\n",
    "print(*data, sep=\"  \")"
   ]
  },
  {
   "attachments": {},
   "cell_type": "markdown",
   "metadata": {},
   "source": [
    "Построим эмпирическую функцию распределения"
   ]
  },
  {
   "cell_type": "code",
   "execution_count": 1102,
   "metadata": {},
   "outputs": [
    {
     "name": "stdout",
     "output_type": "stream",
     "text": [
      "Всего элементов 50\n",
      "Количество 0 - 26, 0 - 0.52\n",
      "Количество 1 - 15, 1 - 0.3\n",
      "Количество 2 - 7, 2 - 0.14\n",
      "Количество 3 - 2, 3 - 0.04\n"
     ]
    }
   ],
   "source": [
    "print(f\"Всего элементов {len(data)}\")\n",
    "for i in range(0, 4):\n",
    "    print(f\"Количество {i} - {data.count(i)}, {i} - {data.count(i) / len(data)}\")\n"
   ]
  },
  {
   "attachments": {},
   "cell_type": "markdown",
   "metadata": {},
   "source": [
    "\\begin{equation*}\n",
    "F_n(x)=\\frac{1}{n} \\sum_{i=1}^{n}(\\textbf{1}_{\\{ x_i < x\\}})=\n",
    "        \\begin{cases}\n",
    "                0 & x \\in (-\\infty, 0]\\\\\n",
    "                0.52 &  x \\in (0, 1]\\\\\n",
    "                0.82 &  x \\in (1, 2]\\\\\n",
    "                0.96 &  x \\in (2, 3]\\\\\n",
    "                1 &  x \\in (3, +\\infty)\n",
    "\t\\end{cases}\n",
    "\\end{equation*}"
   ]
  },
  {
   "cell_type": "code",
   "execution_count": 1103,
   "metadata": {},
   "outputs": [
    {
     "data": {
      "image/png": "[encoded data removed]",
      "text/plain": [
       "<Figure size 640x480 with 1 Axes>"
      ]
     },
     "metadata": {},
     "output_type": "display_data"
    }
   ],
   "source": [
    "intervals = [(-10, 0), (0, 1), (1, 2), (2, 3), (3, 10)]\n",
    "res = [0, 0.52, 0.82, 0.96, 1]\n",
    "for i in range(len(res)):\n",
    "    plt.hlines(res[i], intervals[i][0], intervals[i][1], colors='b')\n",
    "plt.title('Эмпирическая функция')\n",
    "plt.ylabel('$F_n(x)$')\n",
    "plt.xlabel('$x$')\n",
    "plt.show()"
   ]
  },
  {
   "attachments": {},
   "cell_type": "markdown",
   "metadata": {},
   "source": [
    "Построим гистограмму частот"
   ]
  },
  {
   "cell_type": "code",
   "execution_count": 1104,
   "metadata": {},
   "outputs": [
    {
     "data": {
      "image/png": "[encoded data removed]",
      "text/plain": [
       "<Figure size 640x480 with 1 Axes>"
      ]
     },
     "metadata": {},
     "output_type": "display_data"
    }
   ],
   "source": [
    "plt.hist(data, bins=range(min(data), max(data) + 2), density=True, color=\"green\", edgecolor='black')\n",
    "plt.ylabel('$H(x)$')\n",
    "plt.xlabel('$x$')\n",
    "plt.title('Гистограмма')\n",
    "plt.show()"
   ]
  },
  {
   "attachments": {},
   "cell_type": "markdown",
   "metadata": {},
   "source": [
    "#### b) Вычислить выборочные аналоги следующих числовых характеристик: (i) математического ожидания; (ii) дисперсии; (iii) СКО; (iv) медианы; (v) асимметрии; (vi) эксцесса; (vii) вероятности P($X \\in [a, b]$). "
   ]
  },
  {
   "cell_type": "code",
   "execution_count": 1105,
   "metadata": {},
   "outputs": [
    {
     "name": "stdout",
     "output_type": "stream",
     "text": [
      "Сумма 35\n",
      "Выборочное мат. ожидание = 0.7\n",
      "Выборочная дисперсия: 0.73\n",
      "Проверка: S^2 = 0.73\n",
      "СКО = 0.8544003745317531\n",
      "Медиана = 0.0\n",
      "Коэффициент асимметрии = 1.0004613130189788\n",
      "Коэффициент эксцесса = 0.08969787952711572\n",
      "Вероятность = 0.82\n"
     ]
    }
   ],
   "source": [
    "math_expect_1 = np.mean(data)\n",
    "print(\"Сумма\", sum(data))\n",
    "print(f\"Выборочное мат. ожидание = {math_expect_1}\")\n",
    "\n",
    "sample_variance_1 = np.var(data, ddof=0)\n",
    "print(\"Выборочная дисперсия:\", sample_variance_1)\n",
    "s = 0\n",
    "for i in data:\n",
    "    s += (i - math_expect_1)**2\n",
    "\n",
    "d = s/len(data)\n",
    "\n",
    "print(\"Проверка: S^2 =\", d)\n",
    "\n",
    "sample_std_deviation_1 = np.std(data)\n",
    "print(\"СКО =\", sample_std_deviation_1)\n",
    "\n",
    "print(\"Медиана =\", np.median(data))\n",
    "\n",
    "skewness_1 = skew(data)\n",
    "print(\"Коэффициент асимметрии =\", skewness_1)\n",
    "\n",
    "excess_kurtosis_1 = kurtosis(data, fisher=True)\n",
    "print(\"Коэффициент эксцесса =\", excess_kurtosis_1)\n",
    "\n",
    "a = 0.0; b = 1.37\n",
    "\n",
    "probability = len([x for x in data if a <= x <= b]) / len(data)\n",
    "print(\"Вероятность =\", probability)\n",
    "\n"
   ]
  },
  {
   "attachments": {},
   "cell_type": "markdown",
   "metadata": {},
   "source": [
    "$\\bar X = \\frac{1}{n} \\sum_{i=1}^{n}(X_i)=0.7$\n",
    "\n",
    "$S^2 = \\frac{1}{n} \\sum_{i=1}^{n}(X_i - \\bar X)^2=0.73$\n",
    "\n",
    "$S = \\sqrt{0.73} = 0.8544003745317531$\n",
    "\n",
    "$Z_{n, 0.5} = 0$\n",
    "\n",
    "\n",
    "$S_{kew}X = \\frac{\\frac{1}{n} \\sum_{i=1}^{n} (X_i - \\bar X)^3 }{S^3} = 1.0004613130189788\\\\\n",
    "$\n",
    "\n",
    "\n",
    "$Kurt X = \\frac{\\frac{1}{n} \\sum_{i=1}^{n} (X_i - \\bar X)^4 }{S^4} - 3 = 0.08969787952711572\\\\\n",
    "$\n",
    "\n",
    "$P(X \\in [0, 1.37]) = 0.82 $\n"
   ]
  },
  {
   "attachments": {},
   "cell_type": "markdown",
   "metadata": {},
   "source": [
    "#### c) В предположении, что исходные наблюдения являются выборкой из распределения Пуассона, построить оценку максимального правдоподобия параметра $\\lambda$, а также оценку $\\lambda$ по методу моментов. Найти смещение оценок."
   ]
  },
  {
   "attachments": {},
   "cell_type": "markdown",
   "metadata": {},
   "source": [
    "$q_{\\lambda}(x) = \\frac{\\lambda^{x}}{x !}e^{-\\lambda}$\n",
    "\n",
    "Найдём функцию максимального правдоподобия\n",
    "\n",
    "$L(\\vec{x}, \\lambda)=\\prod_{i=1}^{n}\\frac{\\lambda^{x_i}}{x_i !}e^{-\\lambda} = e^{-n\\lambda}\\cfrac{\\lambda^{\\sum_{i=1}^{n}x_i}}{\\prod_{i=1}^{n}x_i !} $\n",
    "\n",
    "Прологарифмируем функцию\n",
    "\n",
    "$LL(\\vec{x}, \\lambda)=ln \\left( e^{-n\\lambda}\\cfrac{\\lambda^{\\sum_{i=1}^{n}x_i}}{\\prod_{i=1}^{n}x_i !} \\right) =\\ln(\\lambda) \\cdot \\sum_{i=1}^{n}x_i - \\sum_{i=1}^{n}\\ln(x_i!) - n\\lambda$\n",
    "\n",
    "Найдем точку масимума \n",
    "\n",
    "$\\frac{dLL}{d\\lambda} = \\cfrac{\\sum_{i=1}^{n}x_i}{\\lambda}-n = 0 $\n",
    "\n",
    "$\\widehat \\lambda=\\bar X = 0.7 $\n",
    "\n",
    "$\\cfrac{d^2LL}{d\\lambda^2}=-\\cfrac{\\sum_{i=1}^{n}x_i}{\\lambda^{2}} < 0 $\n",
    "\n",
    "Найдем оценку $\\lambda$ по методу моменту моментов\n",
    "\n",
    "$Ex_1 = \\sum_{k=0}^\\infty k \\cdot \\frac{\\lambda^{x_i}}{x_i !}e^{-\\lambda}= \\lambda$\n",
    "\n",
    "$\\widehat{\\lambda} = \\bar X = 0.7$\n",
    "\n",
    "Найдём смещение оценки\n",
    "\n",
    "$E_{\\lambda}\\overline{X} = \\cfrac{1}{n} E_{\\lambda} \\sum_{i=1}^{n}x_i = \\cfrac{n E_{\\lambda}X_1 }{n} = \\lambda = 0.7 $ - несмещенная оценка"
   ]
  },
  {
   "attachments": {},
   "cell_type": "markdown",
   "metadata": {},
   "source": [
    "#### d) Построить асимптотический доверительный интервал уровня значимости $\\alpha_1$ для параметра $\\lambda$ на базе оценки максимального правдоподобия."
   ]
  },
  {
   "attachments": {},
   "cell_type": "markdown",
   "metadata": {},
   "source": [
    "$\\alpha_1 = 0.20$\n",
    "\n",
    "Метод построения на базе ОМП.\n",
    "\n",
    "$\\sqrt{n} (\\widehat{\\theta}(\\overrightarrow X) - \\theta) \\sim \\mathcal{N}(0, \\frac{1}{I(\\widehat \\theta)})$\n",
    "\n",
    "$\\sqrt{n \\cdot I(\\widehat \\theta)} \\left(\\widehat{\\theta}(\\overrightarrow X) - \\theta \\right) \\sim \\mathcal{N}(0, 1)$\n",
    "\n",
    "Выберем $x_{\\alpha} : \\Phi(x_{\\alpha}) = 1 - \\frac{\\alpha}{2} = 1 - \\frac{0.2}{2} = 0.9$\n",
    "\n",
    "$x_{\\alpha} = 1.28$\n",
    "\n",
    "$I_n(\\lambda) = -E \\cfrac{d^2LL}{d\\lambda^2} = E \\cfrac{\\sum_{i=1}^{n}x_i}{\\lambda^{2}} = \\cfrac{n \\lambda}{\\lambda^{2}} = \\cfrac{n }{\\lambda}$\n",
    "\n",
    "$I(\\lambda) = \\cfrac{1 }{\\lambda}$\n",
    "\n",
    "$I(\\widehat \\theta) = \\cfrac{1 }{\\bar X}$\n",
    "\n",
    "Асимптотический доверительный интервал : $ \\left[\\widehat{\\theta}(\\overrightarrow X) - \\cfrac{x_{\\alpha}}{\\sqrt{n \\cdot I(\\widehat \\theta)}}; \\widehat{\\theta}(\\overrightarrow X) + \\cfrac{x_{\\alpha}}{\\sqrt{n \\cdot I(\\widehat \\theta)}} \\right] $\n",
    "\n",
    "$ \\left[\\bar X - \\cfrac{x_{\\alpha}}{\\sqrt{n \\cdot \\cfrac{1 }{\\bar X}}} ; \\bar X + \\cfrac{x_{\\alpha}}{\\sqrt{n \\cdot \\cfrac{1 }{\\bar X}}}\\right] \\ni \\lambda$\n",
    "\n",
    "$\\left[0.7 - \\cfrac{1.28}{\\sqrt{50 \\cdot \\cfrac{1}{0.7}}}; 0.7 + \\cfrac{1.28}{\\sqrt{50 \\cdot \\cfrac{1}{0.7}}}\\right] \\ni \\lambda$\n",
    "\n",
    "$[0.5485; 0.8515]\\ni \\lambda$\n",
    "\n",
    "Метод построения на базе асимтотической нормальной оценки.\n",
    "\n",
    "a) $\\sqrt{n}\\frac{ \\widehat{\\theta}(\\overrightarrow{X})-\\theta}{\\sigma(\\widehat{\\theta})}\\sim N(0,1)$\n",
    "\n",
    "Выберем $x_{\\alpha} : \\Phi(x_{\\alpha}) = 1 - \\frac{\\alpha}{2} = 1 - \\frac{0.2}{2} = 0.9$\n",
    "\n",
    "$x_{\\alpha} = 1.28$\n",
    "\n",
    "$-x_{\\alpha}\\le \\sqrt{n}\\cdot \\frac{\\widehat{\\lambda}-\\lambda}{\\sqrt{\\widehat{\\lambda}}}\\le x_{\\alpha}$\n",
    "\n",
    "$\\bar X - \\cfrac{x_{\\alpha} \\sqrt{\\bar X}}{\\sqrt{n}} \\le \\lambda \\le  \\bar X + \\cfrac{x_{\\alpha} \\sqrt{\\bar X}}{\\sqrt{n}} $\n",
    "\n",
    "$ 0.7 - \\cfrac{1.28 \\cdot \\sqrt{0.7} }{\\sqrt{ 50}} \\le \\lambda \\le 0.7 + \\cfrac{1.28 \\cdot \\sqrt{0.7} }{\\sqrt{ 50}} $\n",
    "\n",
    "$[0.5485; 0.8515]\\ni \\lambda$\n",
    "\n",
    "b) $-x_{\\alpha}\\le \\sqrt{n}\\cdot \\frac{\\widehat{\\lambda}-\\lambda}{S}\\le x_{\\alpha}$\n",
    "\n",
    "$ 0.7 - \\cfrac{1.28 \\cdot 0.8544 }{\\sqrt{ 50}} \\le \\lambda \\le 0.7 + \\cfrac{1.28 \\cdot 0.8544 }{\\sqrt{ 50}} $\n",
    "\n",
    "$[0.5453; 0.8547]\\ni \\lambda$\n",
    "\n",
    "с) $ \\left| \\bar{X} - \\lambda \\right| \\le \\frac{ x_{\\alpha} \\sqrt{\\lambda}}{\\sqrt{n}} $\n",
    "\n",
    "$ (\\bar{X} - \\lambda)^2 \\le \\frac{ (x_{\\alpha})^2 \\lambda}{ n} $\n",
    "\n",
    "$ n\\lambda^2 - \\lambda(2n \\bar X + x_\\alpha^2) + n (\\bar X)^2 \\le 0 $\n",
    "\n",
    "$ D = (2n \\bar X + x_\\alpha^2)^2 - 4n^2  (\\bar X)^2 = 232.06 $\n",
    "\n",
    "$ \\lambda_1 = \\cfrac{2n \\bar X + x_\\alpha^2 - \\sqrt{D}}{2n} = 0.564$\n",
    "\n",
    "$ \\lambda_1 = \\cfrac{2n \\bar X + x_\\alpha^2 + \\sqrt{D}}{2n} = 0.8687$\n",
    "\n",
    "$[0.564; 0.8687]\\ni \\lambda$\n"
   ]
  },
  {
   "cell_type": "code",
   "execution_count": 1106,
   "metadata": {},
   "outputs": [
    {
     "name": "stdout",
     "output_type": "stream",
     "text": [
      "Квантиль x_a = 1.2815515655446004\n"
     ]
    }
   ],
   "source": [
    "f = 0.9\n",
    "x_a = stats.norm.ppf(f)\n",
    "print(\"Квантиль x_a =\", x_a)"
   ]
  },
  {
   "attachments": {},
   "cell_type": "markdown",
   "metadata": {},
   "source": [
    "#### e) Используя гистограмму частот, построить критерий значимости $\\mathcal{X^{2}}$ проверки простой гипотезы согласия с распределением Пуассона с параметром $\\lambda_{0}$. Проверить гипотезу на урокень значимости $\\alpha_{1}$. Вычислить наибольшее значение уровня значимости, на котором ещё нет оснований отвергнуть данную гипотезу."
   ]
  },
  {
   "cell_type": "code",
   "execution_count": 1107,
   "metadata": {},
   "outputs": [
    {
     "name": "stdout",
     "output_type": "stream",
     "text": [
      "pi = [0.4966     0.3476     0.1217     0.03414158]\n",
      "Сумма p = 1.0\n",
      "50pi [24.83       17.38        6.085       1.70707921]\n",
      "[0.05513089 0.32591484 0.13758833 0.05026281]\n",
      "X^2 = 0.5688968729102158\n",
      "Квантиль x_a = 4.64162767608745\n"
     ]
    }
   ],
   "source": [
    "lmb = 0.7\n",
    "x = np.array([0, 1, 2])\n",
    "n = len(x)\n",
    "poisson_dist = stats.poisson(lmb)\n",
    "p = np.zeros(n+1)\n",
    "\n",
    "p[0] = round(poisson_dist.cdf(x[0]), 4)\n",
    "s = p[0]\n",
    "\n",
    "for i in range(1, n):\n",
    "    p[i] = round(poisson_dist.cdf(x[i]) - poisson_dist.cdf(x[i - 1]), 4)\n",
    "    s += p[i]\n",
    "\n",
    "p[n] = 1 - poisson_dist.cdf(2)\n",
    "print(\"pi =\", p)\n",
    "print(\"Сумма p =\",round(s + p[n], 4))\n",
    "\n",
    "# Вычисление X^2\n",
    "v = np.array([26, 15, 7, 2])\n",
    "print(\"50pi\", 50*p)\n",
    "chi_square = ((v - 50 * p) ** 2) / (50 * p)\n",
    "print(chi_square)\n",
    "print(\"X^2 =\", np.sum(chi_square))\n",
    "\n",
    "func = stats.chi2(3)\n",
    "fx = 0.8\n",
    "x_a = func.ppf(fx)\n",
    "\n",
    "print(\"Квантиль x_a =\", x_a)\n"
   ]
  },
  {
   "attachments": {},
   "cell_type": "markdown",
   "metadata": {},
   "source": [
    "Получим:\n",
    "\n",
    "\n",
    "$I_1 = (-\\infty, 0], \\; n_1=26 $\n",
    "\n",
    "$I_2 = (0, 1], \\; n_2=15$\n",
    "\n",
    "$I_3 = (1, 2], \\; n_3 = 7$\n",
    "\n",
    "$I_4 = (2, +\\infty), \\; n_4 = 2$\n",
    "\n",
    "Гипотезы: \n",
    "$H_0 : X \\sim Pois(\\lambda_0)$, где $\\lambda_0 = 0.70\\\\\n",
    "H_A : X \\nsim Pois(\\lambda_0)$\n",
    "\n",
    "$\\alpha_1 = 0.20$\n",
    "\n",
    "\\begin{array}{c|c|c|c|c|c}\n",
    "    i & I_i & n_i & p_i & np_i & \\frac{(n_i-np_i)^2}{np_i}\\\\ \\hline\n",
    "    1 & (-\\infty, 0] & 26 & 0.4966 & 24.83 & 0.055\\\\ \\hline\n",
    "    2 & (0, 1] & 15 & 0.3476 & 17.38 & 0.326\\\\ \\hline\n",
    "    3 & (1, 2] & 7 & 0.1217 & 6.085 & 0.138\\\\ \\hline\n",
    "    4 & (2, +\\infty) & 2 & 0.034 & 1.707 & 0.05\\\\ \\hline\n",
    "    \\sum & (-\\infty,+\\infty) & 50 & 1 & 50 & \\mathcal{X}^2 = 0.5689 \n",
    "\\end{array}\n",
    "\n",
    "Найдем $x_\\alpha\\\\\n",
    "df = 4 - 1 = 3\\\\\n",
    "\\mathcal{K}_3(x_\\alpha)=1-\\alpha_1 = 0.8\\\\\n",
    "x_\\alpha =  4.64\\\\\n",
    "\\mathcal{X}^2 < x_\\alpha \\Rightarrow$ принимаем $H_0$\n",
    "\n",
    "Для нахождения наибольшего значения уровня значимости, на котором ещё нет оснований отвергнуть данную гипотезу, вычисляем функцию распределения в точке $\\mathcal{X^2}$ и вычитаем полученное значение из единицы:\n",
    "\n",
    "$\\alpha_1 \\le 1 - \\mathcal{K}_3(\\mathcal{X}^2)$"
   ]
  },
  {
   "cell_type": "code",
   "execution_count": 1108,
   "metadata": {},
   "outputs": [
    {
     "name": "stdout",
     "output_type": "stream",
     "text": [
      "Гипотеза может быть принята, если уровень значимости не более: 0.9035143165578161\n"
     ]
    }
   ],
   "source": [
    "Xi2 = 0.5688968729102158\n",
    "r = 4\n",
    "a_max = 1 - chi2.cdf(Xi2, r - 1)\n",
    "print(\"Гипотеза может быть принята, если уровень значимости не более:\", a_max)"
   ]
  },
  {
   "attachments": {},
   "cell_type": "markdown",
   "metadata": {},
   "source": [
    "#### f) Построить критерий значимости $\\chi^2$ проверки сложной гипотезы согласия с распределением Пуассона. Проверить гипотезу на уровне значимости $\\alpha_1$. Вычислить наибольшее значение уровня значимости, на котором еще нет оснований отвергнуть данную гипотезу."
   ]
  },
  {
   "attachments": {},
   "cell_type": "markdown",
   "metadata": {},
   "source": [
    "$\\alpha_1 = 0.2$\n",
    "\n",
    "Необходимо минимизировать $\\mathcal{X}^2 $, подбирая параметр $\\lambda$\n",
    "\n",
    "$\\mathcal{X}^2 = \\sum_{i=0}^{r} \\cfrac{(n_k - np_k(\\lambda))^2}{np_k(\\lambda)} \\rightarrow \\mathcal{X}^2 _{r-d-1}, d = dim(\\lambda) = 1, r - $количество интервалов. \n"
   ]
  },
  {
   "cell_type": "code",
   "execution_count": 1109,
   "metadata": {},
   "outputs": [
    {
     "name": "stdout",
     "output_type": "stream",
     "text": [
      "Значение X^2 = 0.5613\n",
      "Значение параметра lambda = 0.7104\n",
      "Квантиль x_a = 3.218875824868201\n"
     ]
    }
   ],
   "source": [
    "\n",
    "def min_sum(h):\n",
    "    if h == 0:\n",
    "        return 1e6\n",
    "\n",
    "    func = scipy.stats.poisson(h)\n",
    "    arr = np.array([0, 1, 2])\n",
    "    res = np.zeros(len(arr) + 1)\n",
    "\n",
    "    res[0] = func.cdf(0)\n",
    "    for i in range(1, len(arr)):\n",
    "        res[i] = func.cdf(arr[i]) - func.cdf(arr[i - 1])\n",
    "    res[len(arr)] = 1 - func.cdf(2)\n",
    "\n",
    "    v = np.array([26, 15, 7, 2])\n",
    "    ans = ((v - 50 * res) ** 2) / (50 * res)\n",
    "    return np.sum(ans)\n",
    "\n",
    "result = scipy.optimize.minimize_scalar(min_sum)\n",
    "print(\"Значение X^2 =\", round(result.fun, 4))\n",
    "print(\"Значение параметра lambda =\", round(result.x, 4))\n",
    "\n",
    "func = stats.chi2(2)\n",
    "fx = 0.8\n",
    "x_a = func.ppf(fx)\n",
    "\n",
    "print(\"Квантиль x_a =\", x_a)\n"
   ]
  },
  {
   "cell_type": "markdown",
   "metadata": {},
   "source": [
    "$ x_{a} : \\mathcal{K}_{r-d-1}(x_a) = \\mathcal{K}_2(x_a) = 1 - \\alpha_1 = 1 - 0.2 = 0.8$\n",
    "\n",
    "$\\mathcal{X}^2 < x_\\alpha \\Rightarrow$ принимаем $H_0$ \n",
    "\n",
    "Найдём наибольшее значение уровня значимости, на котором нет оснований отвергнуть гипотезу."
   ]
  },
  {
   "cell_type": "code",
   "execution_count": 1110,
   "metadata": {},
   "outputs": [
    {
     "name": "stdout",
     "output_type": "stream",
     "text": [
      "Гипотеза может быть принята, если уровень значимости не более: 0.7552926416485074\n"
     ]
    }
   ],
   "source": [
    "Xi2 = 0.5613\n",
    "a_max = 1 - chi2.cdf(Xi2, 2)\n",
    "print(\"Гипотеза может быть принята, если уровень значимости не более:\", a_max)"
   ]
  },
  {
   "cell_type": "markdown",
   "metadata": {},
   "source": [
    "#### g) Построить наиболее мощный критерий проверки простой гипотезы пауссоновости с параметром $\\lambda=\\lambda_{0}$ при альтернативе пуассоновсти с параметром $\\lambda=\\lambda_{1}$. Проверить гипотезу на уровне значимости $\\alpha_{1}$. Что получится, если поменять местами основную и альтернативную гипотезы? "
   ]
  },
  {
   "cell_type": "markdown",
   "metadata": {},
   "source": [
    "$\\lambda_0 = 0.7, \\; \\lambda_1 = 1.4, \\; \\alpha_1 = 0.2$\n",
    "\n",
    "$ H_0 : X \\sim Pois(\\lambda_0), \\\\\n",
    "H_A : X \\sim Pois(\\lambda_1)$\n",
    "\n",
    "Согласно лемме Неймана-Пирсона, наиболее мощный критерий проверки гипотезы $H_0$ при альтернативе $H_A$ имеет вид:\n",
    "\n",
    "$\\phi(\\overrightarrow X) = \\begin{cases}\n",
    "  0, LR(\\overrightarrow X, \\lambda_0, \\lambda_1) < C \\\\\n",
    "  p, LR(\\overrightarrow X, \\lambda_0, \\lambda_1) = C \\\\\n",
    "  1, LR(\\overrightarrow X, \\lambda_0, \\lambda_1) > C\n",
    "\\end{cases} $\n",
    "\n",
    "$LR(\\overrightarrow{X},\\lambda_{1},\\lambda_{0}) = \\frac{L\\left( \\overrightarrow{X},\\lambda_{1} \\right)}{L\\left( \\overrightarrow{X},\\lambda_{0} \\right)}= \\frac{\\lambda_{1}^{\\sum_{i=1}^{n}X_{i}}\\cdot exp(-n\\cdot \\lambda_{1})}{\\lambda_{0}^{\\sum_{i=1}^{n}X_{i}}\\cdot exp(-n\\cdot \\lambda_{0})}$\n",
    "\n",
    "$LR(\\overrightarrow{X}, 1.4, 0.7) = 2 ^{\\sum_{i=1}^{n}X_{i}} \\cdot e ^{-0.7n}\n",
    "= 2 ^{n \\bar X} \\cdot e ^{-0.7n}$\n",
    "\n",
    "Наиболее мощный критерий:\n",
    "\n",
    "$\\phi(\\overrightarrow X) = \\begin{cases}\n",
    "  0, 2 ^{n \\bar X} \\cdot e ^{-0.7n} < C \\\\\n",
    "  p, 2 ^{n \\bar X} \\cdot e ^{-0.7n} = C \\\\\n",
    "  1, 2 ^{n \\bar X} \\cdot e ^{-0.7n} > C\n",
    "\\end{cases} $\n",
    "\n",
    "$T = \\bar X - МДС $\n",
    "\n",
    "$ 2 ^{n \\bar X} \\cdot e ^{-0.7n} > C $\n",
    "\n",
    "$ n \\bar X \\cdot ln(2) - 0.7n > ln(C) $\n",
    "\n",
    "$ \\bar X >  \\cfrac{ln(C) + 0.7n}{n \\cdot ln(2)}$\n",
    "\n",
    "$ Пусть \\; C^* = \\cfrac{ln(C) + 0.7n}{n \\cdot ln(2)}$\n",
    "\n",
    "Критерий: \n",
    "\n",
    "$\\phi(\\overrightarrow X) = \\begin{cases}\n",
    "  0, \\bar X < C^* \\\\\n",
    "  p, \\bar X = C^* \\\\\n",
    "  1, \\bar X > C^*\n",
    "\\end{cases} $\n",
    "\n",
    "Найдём $C^*$ и p из уравнения:\n",
    "\n",
    "$P_{\\lambda_0}(\\bar X > C^*) + p P_{\\lambda_0}(\\bar X = C^*) = \\alpha_1$\n",
    "\n",
    "$ P_{\\lambda_0}(\\bar X > C^*) = 1 - P_{n\\lambda_0}(n\\bar X \\le nC^*) = 1 - \\sum_{0}^{[nC^{*}]} \\cfrac{{(n \\lambda_0)} ^i}{i!} e^{-n\\lambda_0} < \\alpha_1$\n",
    "\n",
    "$ p = \\cfrac{\\alpha_1 - 1 + \\sum_{0}^{[nC^{*}] - 1} \\cfrac{{(n\\lambda_0)} ^i}{i!} e^{-n\\lambda_0}}{\\cfrac{(n\\lambda_0) ^{[nC^{*}]}}{[nC^{*}]!} e^{-n\\lambda_0}} $\n",
    "\n"
   ]
  },
  {
   "cell_type": "code",
   "execution_count": 1111,
   "metadata": {},
   "outputs": [
    {
     "name": "stdout",
     "output_type": "stream",
     "text": [
      "C* n = 40\n",
      "p = 0.5573047352353097\n",
      "Sum = 35\n"
     ]
    }
   ],
   "source": [
    "pois = stats.poisson(50 * 0.7)\n",
    "a = 0.2\n",
    "c = 1\n",
    "while True:\n",
    "    if 1 - pois.cdf(c) < a:\n",
    "        break\n",
    "    c += 1\n",
    "\n",
    "p = (a - 1 + pois.cdf(c))/(pois.cdf(c) - pois.cdf(c - 1))\n",
    "\n",
    "print(\"C* n =\", c)\n",
    "print(\"p =\", p)\n",
    "print(\"Sum =\", np.sum(data))\n"
   ]
  },
  {
   "cell_type": "markdown",
   "metadata": {},
   "source": [
    "$\\sum_{i=1}^{n}X_{i} = 35 < C^* \\cdot n = 40$, значит принимаю гипотезу $H_0$\n",
    "\n",
    "Критерий\n",
    " $\\phi(\\overrightarrow X) = \\begin{cases}\n",
    "  0, \\bar X < 0.8 \\\\\n",
    "  0.557, \\bar X = 0.8 \\\\\n",
    "  1, \\bar X > 0.8\n",
    "\\end{cases} $"
   ]
  },
  {
   "cell_type": "markdown",
   "metadata": {},
   "source": [
    "Далее меняем местами основную гипотезу и альтернативную\n",
    "\n",
    "$\\lambda_0 = 0.7, \\; \\lambda_1 = 1.4, \\; \\alpha_1 = 0.2$\n",
    "\n",
    "$ H_0 : X \\sim Pois(\\lambda_1), \\\\\n",
    "H_A : X \\sim Pois(\\lambda_0)$\n",
    "\n",
    "$LR(\\overrightarrow{X},\\lambda_{1},\\lambda_{0}) = \\frac{\\lambda_{0}^{\\sum_{i=1}^{n}X_{i}}\\cdot exp(-n\\cdot \\lambda_{0})}{\\lambda_{1}^{\\sum_{i=1}^{n}X_{i}}\\cdot exp(-n\\cdot \\lambda_{1})}$\n",
    "\n",
    "$LR(\\overrightarrow{X}, 1.4, 0.7) = 0.5 ^{\\sum_{i=1}^{n}X_{i}} \\cdot e ^{0.7n} = 0.5 ^{n \\bar X} \\cdot e ^{0.7n}$\n",
    "\n",
    "Наиболее мощный критерий:\n",
    "\n",
    "$\\phi(\\overrightarrow X) = \\begin{cases}\n",
    "  0, 0.5 ^{n \\bar X} \\cdot e ^{0.7n} < C \\\\\n",
    "  p, 0.5 ^{n \\bar X} \\cdot e ^{0.7n} = C \\\\\n",
    "  1, 0.5 ^{n \\bar X} \\cdot e ^{0.7n} > C\n",
    "\\end{cases} $\n",
    "\n",
    "$T = \\bar X - МДС $\n",
    "\n",
    "$ 0.5 ^{n \\bar X} \\cdot e ^{0.7n} > C $\n",
    "\n",
    "$ n \\bar X \\cdot ln(0.5) + 0.7n > ln(C) $\n",
    "\n",
    "$ \\bar X <  \\cfrac{ln(C) - 0.7n}{n \\cdot ln(0.5)}$\n",
    "\n",
    "$ Пусть \\; C^* = \\cfrac{ln(C) - 0.7n}{n \\cdot ln(0.5)}$\n",
    "\n",
    "Критерий: \n",
    "\n",
    "$\\phi(\\overrightarrow X) = \\begin{cases}\n",
    "  0, \\bar X > C^* \\\\\n",
    "  p, \\bar X = C^* \\\\\n",
    "  1, \\bar X < C^*\n",
    "\\end{cases} $\n",
    "\n",
    "Найдём $C^*$ и p из уравнения:\n",
    "\n",
    "$P_{\\lambda_1}(\\bar X < C^*) + p P_{\\lambda_1}(\\bar X = C^*) = \\alpha_1$\n",
    "\n",
    "$ P_{\\lambda_1}(\\bar X \\le C^*) = P_{n\\lambda_1}(n \\bar X \\le n C^*) = \n",
    "\\sum_{0}^{[nC^{*}]} \\cfrac{{(n \\lambda_1)} ^i}{i!} e^{-n\\lambda_1}$\n",
    "\n",
    "$ \\sum_{0}^{[nC^{*}] - 1} \\cfrac{{(n\\lambda_1)} ^i}{i!} e^{-n\\lambda_1} \\le \\alpha_1 < \\sum_{0}^{[nC^{*}]} \\cfrac{{(n\\lambda_1)} ^i}{i!} e^{-n\\lambda_1} $\n",
    "\n",
    "$ p = \\cfrac{\\alpha_1 - \\sum_{0}^{[nC^{*}] - 1} \\cfrac{{(n\\lambda_1)} ^i}{i!} e^{-n\\lambda_1}}{\\cfrac{(n\\lambda_1) ^{[nC^{*}]}}{[nC^{*}]!} e^{-n\\lambda_1}} $\n",
    "\n"
   ]
  },
  {
   "cell_type": "code",
   "execution_count": 1112,
   "metadata": {},
   "outputs": [
    {
     "name": "stdout",
     "output_type": "stream",
     "text": [
      "C* n = 63\n",
      "p = 0.40162664945622645\n",
      "Sum = 35\n"
     ]
    }
   ],
   "source": [
    "pois = stats.poisson(50 * 1.4)\n",
    "a = 0.2\n",
    "C = 1\n",
    "while True:\n",
    "  if pois.cdf(C - 1) <= a and a < pois.cdf(C):\n",
    "    break\n",
    "  C += 1\n",
    "\n",
    "p = (a - pois.cdf(C - 1))/(pois.cdf(C) - pois.cdf(C - 1))\n",
    "print(\"C* n =\", C)\n",
    "print(\"p =\", p)\n",
    "print(\"Sum =\", np.sum(data))\n"
   ]
  },
  {
   "cell_type": "markdown",
   "metadata": {},
   "source": [
    "$\\sum_{i=1}^{n}X_{i} = 35 < C^* \\cdot n = 63$, значит отвергаем гипотезу $H_A$\n",
    "\n",
    "Критерий\n",
    " $\\phi(\\overrightarrow X) = \\begin{cases}\n",
    "  0, \\bar X > 1.8 \\\\\n",
    "  0.402, \\bar X = 1.8 \\\\\n",
    "  1, \\bar X < 1.8\n",
    "\\end{cases} $"
   ]
  },
  {
   "cell_type": "markdown",
   "metadata": {},
   "source": [
    "#### h) В пунктах (c)-(f) заменить семейство распределение Пуассона на семейство геометрических распредленией $\\mathbb{P}_{\\lambda}(X=k)=\\frac{\\lambda^{k}}{(\\lambda+1)^{k+1}}, k\\in \\mathbb{Z_{+}}$"
   ]
  },
  {
   "cell_type": "markdown",
   "metadata": {},
   "source": [
    "#### c) В предположении, что исходные наблюдения являются выборкой из геометрического распределения, построить ОМП и ОММ параметра $\\lambda$. Найти смещение оценки."
   ]
  },
  {
   "cell_type": "markdown",
   "metadata": {},
   "source": [
    "Построим ОМП \n",
    "\n",
    "$\\theta = \\lambda$\n",
    "\n",
    "$q_\\theta(k)=\\frac{\\lambda^{k}}{(\\lambda+1)^{k+1}}$\n",
    "\n",
    "$L(\\overrightarrow{X};\\theta)=\\prod_{i=1}^{n}\\frac{\\lambda^{X_{i}}}{(\\lambda+1)^{X_{i}}}=\\frac{\\lambda^{\\sum_{i=1}^{n}X_i}}{(\\lambda+1)^{\\sum_{i=1}^{n}X_i+n}}$\n",
    "\n",
    "$ LL(\\overrightarrow{X};\\theta) = ln(\\lambda)\\sum_{i=1}^{n} X_i - ln(\\lambda+1) \\sum_{i=1}^{n} X_i - nln(\\lambda+1)$\n",
    "\n",
    "$\\cfrac{dLL(\\overrightarrow{X};\\theta)}{d\\lambda} = (\\cfrac{1}{\\lambda} - \\cfrac{1}{\\lambda+1}) \\sum_{i=1}^{n} X_i - \\cfrac{n}{\\lambda +1} = 0$\n",
    "\n",
    "$\\widehat \\lambda = \\bar X = 0.7$\n",
    "\n",
    "Метод моментов:\n",
    "\n",
    "$ EX1 = \\sum_{k=0}^{\\infty} k \\cdot q_\\theta(k) = \\lambda$  \n",
    "\n",
    "$ \\widehat\\lambda = \\bar X = 0.7$\n",
    "\n",
    "\n",
    "Найдём смещение оценки\n",
    "\n",
    "$E_{\\lambda}\\overline{X} = \\cfrac{1}{n} E_{\\lambda} \\sum_{i=1}^{n}x_i = \\cfrac{n E_{\\lambda}X_1 }{n} = \\lambda = 0.7 $ - несмещенная оценка\n",
    "\n",
    "\n",
    "\n",
    "\n"
   ]
  },
  {
   "cell_type": "markdown",
   "metadata": {},
   "source": [
    "#### d) Построить асимптотический доверительный интервал уровня значимости $\\alpha_1$ для параметра $\\lambda$ на базе оценки максимального правдоподобия."
   ]
  },
  {
   "cell_type": "markdown",
   "metadata": {},
   "source": [
    "$\\alpha_1 = 0.20$\n",
    "\n",
    "Метод построения на базе ОМП.\n",
    "\n",
    "$\\sqrt{n} (\\widehat{\\theta}(\\overrightarrow X) - \\theta) \\sim \\mathcal{N}(0, \\frac{1}{I(\\widehat \\theta)})$\n",
    "\n",
    "$\\sqrt{n \\cdot I(\\widehat \\theta)} \\left(\\widehat{\\theta}(\\overrightarrow X) - \\theta \\right) \\sim \\mathcal{N}(0, 1)$\n",
    "\n",
    "Выберем $x_{\\alpha} : \\Phi(x_{\\alpha}) = 1 - \\frac{\\alpha}{2} = 1 - \\frac{0.2}{2} = 0.9$\n",
    "\n",
    "$x_{\\alpha} = 1.28$\n",
    "\n",
    "$ \\cfrac{d^2LL}{d\\lambda^2} = -\\cfrac{\\sum_{i=1}^{n} X_i}{\\lambda^2} + \\cfrac{\\sum_{i=1}^{n} X_i}{(\\lambda + 1)^2} + \\cfrac{n}{(\\lambda + 1)^2} $\n",
    "\n",
    "$I_n(\\lambda) = -E \\cfrac{d^2LL}{d\\lambda^2} = E\\cfrac{\\sum_{i=1}^{n} X_i}{\\lambda^2} - \\cfrac{\\sum_{i=1}^{n} X_i}{(\\lambda + 1)^2} - \\cfrac{n}{(\\lambda + 1)^2} = \\cfrac{n\\lambda}{\\lambda^2} - \\cfrac{n\\lambda}{(\\lambda+1)^2} - \\cfrac{n}{(\\lambda + 1)^2}  $\n",
    "\n",
    "$I(\\lambda) = \\cfrac{1 }{\\lambda} - \\cfrac{\\lambda}{(\\lambda+1)^2} - \\cfrac{1}{(\\lambda + 1)^2} $ \n",
    "\n",
    "$I(\\widehat \\theta) = \\cfrac{1 }{\\bar X} - \\cfrac{\\bar X}{(\\bar X+1)^2} - \\cfrac{1}{(\\bar X + 1)^2}  = 0.84$\n",
    "\n",
    "Асимптотический доверительный интервал : $ \\left[\\widehat{\\theta}(\\overrightarrow X) - \\cfrac{x_{\\alpha}}{\\sqrt{n \\cdot I(\\widehat \\theta)}}; \\widehat{\\theta}(\\overrightarrow X) + \\cfrac{x_{\\alpha}}{\\sqrt{n \\cdot I(\\widehat \\theta)}} \\right] $\n",
    "\n",
    "$\\left[0.7 - \\cfrac{1.28}{\\sqrt{50 \\cdot \\cfrac{1}{0.84}}}; 0.7 + \\cfrac{1.28}{\\sqrt{50 \\cdot \\cfrac{1}{0.84}}}\\right] \\ni \\lambda$\n",
    "\n",
    "$[0.534; 0.866]\\ni \\lambda$\n",
    "\n",
    "Метод построения на базе асимтотической нормальной оценки.\n",
    "\n",
    "a) $\\sqrt{n}\\frac{ \\widehat{\\theta}(\\overrightarrow{X})-\\theta}{\\sigma(\\widehat{\\theta})}\\sim N(0,1)$\n",
    "\n",
    "Выберем $x_{\\alpha} : \\Phi(x_{\\alpha}) = 1 - \\frac{\\alpha}{2} = 1 - \\frac{0.2}{2} = 0.9$\n",
    "\n",
    "$x_{\\alpha} = 1.28$\n",
    "\n",
    "$ EX1^2 = \\sum_{k=0}^{\\infty} k^2 \\cdot q_\\theta(k) = \\lambda (2\\lambda+1)$  \n",
    "\n",
    "$DX1 = EX1^2 - (EX1)^2 = \\lambda (\\lambda +1) = 1.19 $\n",
    "\n",
    "$-x_{\\alpha}\\le \\sqrt{n}\\cdot \\frac{\\widehat{\\lambda}-\\lambda}{\\sqrt{\\widehat \\lambda (\\widehat\\lambda +1)}}\\le x_{\\alpha}$\n",
    "\n",
    "$\\bar X - \\cfrac{x_{\\alpha} \\sqrt{\\bar X \\cdot (\\bar X + 1)}}{\\sqrt{n}} \\le \\lambda \\le  \\bar X + \\cfrac{x_{\\alpha} \\sqrt{\\bar X \\cdot (\\bar X + 1)}}{\\sqrt{n}} $\n",
    "\n",
    "$ 0.7 - \\cfrac{1.28 \\cdot \\sqrt{1.19} }{\\sqrt{ 50}} \\le \\lambda \\le 0.7 + \\cfrac{1.28 \\cdot \\sqrt{1.19} }{\\sqrt{ 50}} $\n",
    "\n",
    "$[0.5025; 0.8974]\\ni \\lambda$\n",
    "\n",
    "b) $-x_{\\alpha}\\le \\sqrt{n}\\cdot \\frac{\\widehat{\\lambda}-\\lambda}{S}\\le x_{\\alpha}$\n",
    "\n",
    "$ 0.7 - \\cfrac{1.28 \\cdot 0.8544 }{\\sqrt{ 50}} \\le \\lambda \\le 0.7 + \\cfrac{1.28 \\cdot 0.8544 }{\\sqrt{ 50}} $\n",
    "\n",
    "$[0.5453; 0.8547]\\ni \\lambda$\n",
    "\n",
    "с) $ \\left| \\bar{X} - \\lambda \\right| \\le \\frac{ x_{\\alpha} \\sqrt{\\lambda \\cdot (\\lambda + 1)}}{\\sqrt{n}} $\n",
    "\n",
    "$ (\\bar{X} - \\lambda)^2 \\le \\frac{ (x_{\\alpha})^2 \\lambda \\cdot (\\lambda + 1)}{ n} $\n",
    "\n",
    "$ (n-x_\\alpha^2)\\lambda^2 - \\lambda(2n \\bar X + x_\\alpha^2) + n (\\bar X)^2 \\le 0 $\n",
    "\n",
    "$ D = (2n \\bar X + x_\\alpha^2)^2 - 4n(n-x_\\alpha^2)  (\\bar X)^2 = 392.62 $\n",
    "\n",
    "$ \\lambda_1 = \\cfrac{2n \\bar X + x_\\alpha^2 - \\sqrt{D}}{2(n-x_\\alpha^2)} = 0.536$\n",
    "\n",
    "$ \\lambda_1 = \\cfrac{2n \\bar X + x_\\alpha^2 + \\sqrt{D}}{2(n-x_\\alpha^2)} = 0.946$\n",
    "\n",
    "$[0.536; 0.946]\\ni \\lambda$\n"
   ]
  },
  {
   "cell_type": "markdown",
   "metadata": {},
   "source": [
    "#### e) Используя гистограмму частот, построить критерий значимости $\\mathcal{X^{2}}$ проверки простой гипотезы согласия с распределением из семейства геометрических  с параметром $\\lambda_{0}$. Проверить гипотезу на уровень значимости $\\alpha_{1}$. Вычислить наибольшее значение уровня значимости, на котором ещё нет оснований отвергнуть данную гипотезу."
   ]
  },
  {
   "cell_type": "code",
   "execution_count": 1113,
   "metadata": {},
   "outputs": [
    {
     "name": "stdout",
     "output_type": "stream",
     "text": [
      "pi = [0.5882     0.2422     0.0997     0.06981478]\n",
      "Сумма p = 1.0\n",
      "50pi [29.41       12.11        4.985       3.49073886]\n",
      "[0.39537912 0.68968621 0.81448847 0.63662807]\n",
      "X^2 = 2.536181866811626\n",
      "Квантиль x_a = 4.64162767608745\n"
     ]
    }
   ],
   "source": [
    "# Задаем геометрическое распределение\n",
    "def geometric_cdf(lmb, x):\n",
    "    return sum((lmb ** i) / (lmb + 1) ** (i + 1) for i in range(x + 1))\n",
    "\n",
    "lmb = 0.7\n",
    "x = np.array([0, 1, 2])\n",
    "n = len(x)\n",
    "p = np.zeros(n+1)\n",
    "\n",
    "p[0] = round(geometric_cdf(lmb, x[0]), 4)\n",
    "s = p[0]\n",
    "\n",
    "for i in range(1, n):\n",
    "    p[i] = round(geometric_cdf(lmb, x[i]) - geometric_cdf(lmb, x[i - 1]), 4)\n",
    "    s += p[i]\n",
    "\n",
    "p[n] = 1 - geometric_cdf(lmb, 2)\n",
    "print(\"pi =\", p)\n",
    "print(\"Сумма p =\",round(s + p[n], 3))\n",
    "\n",
    "# Вычисление X^2\n",
    "v = np.array([26, 15, 7, 2])\n",
    "print(\"50pi\", 50*p)\n",
    "chi_square = ((v - 50 * p) ** 2) / (50 * p)\n",
    "print(chi_square)\n",
    "print(\"X^2 =\", np.sum(chi_square))\n",
    "\n",
    "func = stats.chi2(3)\n",
    "fx = 0.8\n",
    "x_a = func.ppf(fx)\n",
    "\n",
    "print(\"Квантиль x_a =\", x_a)\n"
   ]
  },
  {
   "cell_type": "markdown",
   "metadata": {},
   "source": [
    "$\\mathcal{X}^2 < x_\\alpha \\Rightarrow$ принимаем $H_0$ \n",
    "\n",
    "Найдём наибольшее значение уровня значимости, на котором ещё нет оснований отвергнуть данную гипотезу."
   ]
  },
  {
   "cell_type": "code",
   "execution_count": 1114,
   "metadata": {},
   "outputs": [
    {
     "name": "stdout",
     "output_type": "stream",
     "text": [
      "Гипотеза может быть принята, если уровень значимости не более: 0.4687876824413576\n"
     ]
    }
   ],
   "source": [
    "Xi2 = 2.536181866811626\n",
    "r = 4\n",
    "a_max = 1 - chi2.cdf(Xi2, r - 1)\n",
    "print(\"Гипотеза может быть принята, если уровень значимости не более:\", a_max)"
   ]
  },
  {
   "cell_type": "markdown",
   "metadata": {},
   "source": [
    "#### f) Построить критерий значимости $\\chi^2$ проверки сложной гипотезы согласия с распределением из семейства геометрических. Проверить гипотезу на уровне значимости $\\alpha_1 = 0.2$. Вычислить наибольшее значение уровня значимости, на котором еще нет оснований отвергнуть данную гипотезу."
   ]
  },
  {
   "cell_type": "markdown",
   "metadata": {},
   "source": [
    "$\\alpha_1 = 0.2$\n",
    "\n",
    "Необходимо минимизировать $\\mathcal{X}^2 $, подбирая параметр $\\lambda$\n",
    "\n",
    "$\\mathcal{X}^2 = \\sum_{i=0}^{r} \\cfrac{(n_k - np_k(\\lambda))^2}{np_k(\\lambda)} \\rightarrow \\mathcal{X}^2 _{r-d-1}, d = dim(\\lambda) = 1, r - $количество интервалов. \n"
   ]
  },
  {
   "cell_type": "code",
   "execution_count": 1115,
   "metadata": {},
   "outputs": [
    {
     "name": "stdout",
     "output_type": "stream",
     "text": [
      "Значение X^2 = 2.5345\n",
      "Значение параметра lambda = 2.618\n",
      "Квантиль x_a = 3.218875824868201\n"
     ]
    }
   ],
   "source": [
    "# Задаем геометрическое распределение\n",
    "def geometric_cdf(lmb, x):\n",
    "    return sum((lmb ** i) / (lmb + 1) ** (i + 1) for i in range(x + 1))\n",
    "\n",
    "def min_sum(h):\n",
    "    if h == 0:\n",
    "        return 1e6\n",
    "    \n",
    "    lmb = 0.7\n",
    "\n",
    "    arr = np.array([0, 1, 2])\n",
    "    res = np.zeros(len(arr) + 1)\n",
    "\n",
    "    res[0] = geometric_cdf(lmb, 0)\n",
    "    \n",
    "    for i in range(1, len(arr)):\n",
    "        res[i] = geometric_cdf(lmb, arr[i]) - geometric_cdf(lmb, arr[i - 1])\n",
    "    res[len(arr)] = 1 - geometric_cdf(lmb, 2)\n",
    "\n",
    "    v = np.array([26, 15, 7, 2])\n",
    "    ans = ((v - 50 * res) ** 2) / (50 * res)\n",
    "    return np.sum(ans)\n",
    "\n",
    "result = scipy.optimize.minimize_scalar(min_sum)\n",
    "print(\"Значение X^2 =\", round(result.fun, 4))\n",
    "print(\"Значение параметра lambda =\", round(result.x, 4))\n",
    "\n",
    "func = stats.chi2(2)\n",
    "fx = 0.8\n",
    "x_a = func.ppf(fx)\n",
    "\n",
    "print(\"Квантиль x_a =\", x_a)\n"
   ]
  },
  {
   "cell_type": "markdown",
   "metadata": {},
   "source": [
    "$ x_{a} : \\mathcal{K}_{r-d-1}(x_a) = \\mathcal{K}_2(x_a) = 1 - \\alpha_1 = 1 - 0.2 = 0.8$\n",
    "\n",
    "$\\mathcal{X}^2 < x_\\alpha \\Rightarrow$ принимаем $H_0$ \n",
    "\n",
    "Найдём наибольшее значение уровня значимости, на котором нет оснований отвергнуть гипотезу."
   ]
  },
  {
   "cell_type": "code",
   "execution_count": 1116,
   "metadata": {},
   "outputs": [
    {
     "name": "stdout",
     "output_type": "stream",
     "text": [
      "Гипотеза может быть принята, если уровень значимости не более: 0.19999999999999996\n"
     ]
    }
   ],
   "source": [
    "Xi2 = 3.218875824868201\n",
    "a_max = 1 - chi2.cdf(Xi2, 2)\n",
    "print(\"Гипотеза может быть принята, если уровень значимости не более:\", a_max)"
   ]
  },
  {
   "attachments": {},
   "cell_type": "markdown",
   "metadata": {},
   "source": [
    "### 2. В результате эксперимента получены данные, приведенные в таблице 2."
   ]
  },
  {
   "cell_type": "code",
   "execution_count": 1144,
   "metadata": {},
   "outputs": [],
   "source": [
    "\n",
    "array = [3.74, -1.89, -2.61, 0.57, 4.63, -2.44, -11.48, -7.24, 2.73, -4.60, 4.97, -9.27, -7.32, 0.89, 3.17, 13.45, 1.75, 3.84, 9.13, -7.51, -1.46, 8.27, -2.65, -33.02, 11.82, -1.33, 10.72, 10.01, -4.34, -1.16, -18.38, -13.04, -7.79, -5.21, -1.57, 5.90, 0.74, 4.76, 5.75, -18.34, 14.61, 14.82, 17.11, 14.16, -21.54, 12.26, 6.70, 12.32, -6.91, -6.94]\n"
   ]
  },
  {
   "attachments": {},
   "cell_type": "markdown",
   "metadata": {},
   "source": [
    "#### a) Построить вариационный ряд, эмпирическую функцию распределения, гистограмму и полигон частот с шагом h.\n",
    "\n",
    "Построим вариационный ряд"
   ]
  },
  {
   "cell_type": "code",
   "execution_count": 1145,
   "metadata": {},
   "outputs": [
    {
     "name": "stdout",
     "output_type": "stream",
     "text": [
      "-33.02  -21.54  -18.38  -18.34  -13.04  -11.48  -9.27  -7.79  -7.51  -7.32  -7.24  -6.94  -6.91  -5.21  -4.6  -4.34  -2.65  -2.61  -2.44  -1.89  -1.57  -1.46  -1.33  -1.16  0.57  0.74  0.89  1.75  2.73  3.17  3.74  3.84  4.63  4.76  4.97  5.75  5.9  6.7  8.27  9.13  10.01  10.72  11.82  12.26  12.32  13.45  14.16  14.61  14.82  17.11\n"
     ]
    }
   ],
   "source": [
    "array.sort()\n",
    "print(*array, sep=\"  \")"
   ]
  },
  {
   "attachments": {},
   "cell_type": "markdown",
   "metadata": {},
   "source": [
    "Построим эмпирическую функцию"
   ]
  },
  {
   "cell_type": "code",
   "execution_count": 1146,
   "metadata": {},
   "outputs": [
    {
     "data": {
      "image/png": "[encoded data removed]",
      "text/plain": [
       "<Figure size 640x480 with 1 Axes>"
      ]
     },
     "metadata": {},
     "output_type": "display_data"
    }
   ],
   "source": [
    "sorted_array = np.sort(array)\n",
    "# Подсчитываем относительные частоты\n",
    "ecdf_values = np.arange(1, len(sorted_array) + 1) / len(sorted_array)\n",
    "\n",
    "# Построение графика\n",
    "plt.step(sorted_array, ecdf_values, where='post')\n",
    "\n",
    "plt.title('Эмпирическая функция')\n",
    "plt.ylabel('$F_n(x)$')\n",
    "plt.xlabel('$x$')\n",
    "plt.show()"
   ]
  },
  {
   "attachments": {},
   "cell_type": "markdown",
   "metadata": {},
   "source": [
    "Построим гистограмму и полигон частот"
   ]
  },
  {
   "cell_type": "code",
   "execution_count": 1147,
   "metadata": {},
   "outputs": [
    {
     "data": {
      "image/png": "[encoded data removed]",
      "text/plain": [
       "<Figure size 640x480 with 1 Axes>"
      ]
     },
     "metadata": {},
     "output_type": "display_data"
    }
   ],
   "source": [
    "# Построение гистограммы\n",
    "h = 4\n",
    "bins = np.arange(min(array), max(array) + h, h)\n",
    "plt.hist(array, bins=bins, edgecolor='black', alpha=0.5, color='green', label='Гистограмма')\n",
    "\n",
    "# Построение полигона частот\n",
    "hist, _ = np.histogram(array, bins=bins)\n",
    "bin_centers = 0.5 * (bins[1:] + bins[:-1])\n",
    "plt.plot(bin_centers, hist, color='blue', marker='o', linestyle='-', label='Полигон')\n",
    "\n",
    "plt.title(\"Гистограмма и полигон частот\")\n",
    "plt.xlabel('$x$')\n",
    "plt.ylabel(\"Частота\")\n",
    "plt.legend()\n",
    "plt.show()"
   ]
  },
  {
   "attachments": {},
   "cell_type": "markdown",
   "metadata": {},
   "source": [
    "#### b) Вычислить выборочные аналоги следующих числовых характеристик: (i) математического ожидания; (ii) дисперсии; (iii) СКО; (iv) медианы; (v) асимметрии; (vi) эксцесса; (vii) вероятности P($X \\in [a, b]$). "
   ]
  },
  {
   "cell_type": "code",
   "execution_count": 1148,
   "metadata": {},
   "outputs": [
    {
     "name": "stdout",
     "output_type": "stream",
     "text": [
      "Сумма 0.7800000000000011\n",
      "Количество 50\n",
      "Выборочное мат. ожидание: 0.015600000000000024\n",
      "Выборочное мат. ожидание = 0.015600000000000024\n",
      "Выборочная дисперсия: 103.63734064\n",
      "Проверка: S^2 = 103.63734064000003\n",
      "СКО = 10.180242661154988\n",
      "Медиана = 0.655\n",
      "-9.27 -11.48\n",
      "Коэффициент асимметрии = -0.7410163755073002\n",
      "Коэффициент эксцесса = 0.8454586929726098\n",
      "Вероятность = 0.38\n"
     ]
    }
   ],
   "source": [
    "math_expect_2 = np.mean(array)\n",
    "print(\"Сумма\", np.sum(array))\n",
    "print(\"Количество\", len(array))\n",
    "print(\"Выборочное мат. ожидание:\", np.sum(array) / len(array))\n",
    "print(f\"Выборочное мат. ожидание = {math_expect_2}\")\n",
    "\n",
    "sample_variance_2 = np.var(array, ddof=0)\n",
    "print(\"Выборочная дисперсия:\", sample_variance_2)\n",
    "s = 0\n",
    "for i in array:\n",
    "    s += (i - math_expect_2)**2\n",
    "\n",
    "d = s/len(array)\n",
    "\n",
    "print(\"Проверка: S^2 =\", d)\n",
    "\n",
    "sample_std_deviation_2 = np.std(array)\n",
    "print(\"СКО =\", sample_std_deviation_2)\n",
    "\n",
    "print(\"Медиана =\", np.median(array))\n",
    "\n",
    "print (array[n//2], array[n//2 -1])\n",
    "\n",
    "skewness_2 = skew(array)\n",
    "print(\"Коэффициент асимметрии =\", skewness_2)\n",
    "\n",
    "excess_kurtosis_2= kurtosis(array, fisher=True)\n",
    "print(\"Коэффициент эксцесса =\", excess_kurtosis_2)\n",
    "\n",
    "c = -6.0; d = 4.0\n",
    "\n",
    "probability_2 = len([x for x in array if c <= x <= d]) / len(array)\n",
    "print(\"Вероятность =\", probability_2)\n",
    "\n"
   ]
  },
  {
   "attachments": {},
   "cell_type": "markdown",
   "metadata": {},
   "source": [
    "$\\bar X = \\frac{1}{n} \\sum_{i=1}^{n}(X_i)=0.0156$\n",
    "\n",
    "$S^2 = \\frac{1}{n} \\sum_{i=1}^{n}(X_i - \\bar X)^2=103.63734064$\n",
    "\n",
    "$S = \\sqrt{0.73} = 10.1802$\n",
    "\n",
    "$Z_{n, 0.5} = 0.655$\n",
    "\n",
    "\n",
    "$S_{kew}X = \\frac{\\frac{1}{n} \\sum_{i=1}^{n} (X_i - \\bar X)^3 }{S^3} = -0.741\\\\\n",
    "$\n",
    "\n",
    "\n",
    "$Kurt X = \\frac{\\frac{1}{n} \\sum_{i=1}^{n} (X_i - \\bar X)^4 }{S^4} - 3 = 0.845\\\\\n",
    "$\n",
    "\n",
    "$P(X \\in [0, 1.37]) = 0.38 $\n"
   ]
  },
  {
   "attachments": {},
   "cell_type": "markdown",
   "metadata": {},
   "source": [
    "#### c)В предположении, что исходные наблюдения являются выборкой из нормального распределения, построить ОМП и ОММ параметров $(a, \\sigma^2)$. Найти смещение оценок."
   ]
  },
  {
   "attachments": {},
   "cell_type": "markdown",
   "metadata": {},
   "source": [
    "Найдем оценку $\\theta$ по методу максимального правдоподобия\n",
    "\n",
    "$p_\\theta(x) = \\cfrac{1}{\\sqrt{2\\pi} \\sigma} \\exp \\left( - \\cfrac{(x-a)^2}{2 \\sigma^2} \\right) $\n",
    "\n",
    "$ L \\left (\\overrightarrow X, \\theta \\right) = \\prod_{i=1}^{n}\\left ( \\cfrac{1}{\\sqrt{2\\pi} \\sigma} \\exp \\left( - \\cfrac{(X_i-a)^2}{2 \\sigma^2} \\right)  \\right)$\n",
    "\n",
    "$= (2\\pi)^{\\cfrac{-n}{2}} \\cdot \\sigma^{-n} \\exp \\left( - \\cfrac{\\sum_{i=1}^{n}(X_i-a)^2}{2 \\sigma^2} \\right) $\n",
    "\n",
    "$LL\\left (\\overrightarrow X, \\theta \\right) = - \\cfrac{n}{2} \\ln(2\\pi) - n\\ln(\\sigma) - \\cfrac{\\sum_{i=1}^{n}(X_i-a)^2}{2 \\sigma^2}$\n",
    "\n",
    "$ \\frac{dLL}{da} = \\cfrac{1}{\\sigma ^ 2} \\sum_{i=1}^{n}(X_i-na) = 0 $\n",
    "\n",
    "$ \\widehat a = \\bar X = 0.0156 $\n",
    "\n",
    "$ \\frac{dLL}{d\\sigma} = \\cfrac{-n}{\\sigma} + \\cfrac{1}{\\sigma^3} \\sum_{i=1}^{n}(X_i-a)^2 = 0 $\n",
    "\n",
    "$ \\widehat {\\sigma^2} = S^2 = 103.637$\n",
    "\n",
    "$ \\widehat \\theta = (a, \\sigma^2) = (\\bar X, S^2) $\n",
    "\n",
    "Найдем оценку $\\theta$ по методу моменту моментов\n",
    "\n",
    "$ E X_1 = a, \\quad M_1 = \\bar X$\n",
    "\n",
    "$ E X_1^2 = \\sigma^2 + a^2, \\quad M_2 = \\cfrac{1}{n} \\sum_{i=1}^{n} X_i^2 = \\overline {X^2} $\n",
    "\n",
    "$\n",
    "\\begin{cases}\n",
    "  a = \\bar X \\\\\n",
    "  \\sigma^2 + a^2 = \\bar X^2\n",
    "\\end{cases} $\n",
    "\n",
    "$\n",
    "\\begin{cases}\n",
    "  \\widehat a = \\bar X \\\\\n",
    "  \\widehat {\\sigma^2} = S^2\n",
    "\\end{cases} $\n",
    "\n",
    "$E_\\theta \\bar X = \\cfrac{1}{n} E \\sum_{i=1}^{n} X_i = a = 0.0156$\n",
    "\n",
    "$E_\\theta S^2 = \\cfrac{1}{n} E \\sum_{i=1}^{n} {(X_i - \\bar X)^2} = [X_i - E_\\theta X_i = Y_i, \\quad E_\\theta Y_i = 0, \\quad D_\\theta Y_i = \\sigma^2]  $\n",
    "\n",
    "$= \\cfrac{1}{n} E_\\theta \\sum_{i=1}^{n} {(Y_i - \\bar Y)^2} = E( \\bar {Y^2} - (\\bar Y)^2) = E\\bar {Y^2} - E\\left(\\bar Y \\right)^2  $\n",
    "\n",
    "$ E\\bar {Y^2} = \\cfrac{1}{n} E_\\theta \\sum_{i=1}^{n} {(Y_i)^2} = \\sigma^2 $\n",
    "\n",
    "$ E\\left(\\bar Y \\right)^2 = \\cfrac{1}{n^2} E_\\theta (\\sum_{i=1}^{n} Y_i)^2 = \\cfrac{1}{n^2} \\sum_{i=1}^{n} \\sum_{j=1}^{n} E_\\theta Y_i Y_j = \\cfrac{1}{n^2} \\sum_{i=1}^{n} E (Y_i)^2 = \\cfrac{\\sigma^2}{n} $\n",
    "\n",
    "$ E_\\theta Y_i Y_j = \\begin{cases}\n",
    "                        i = j \\rightarrow \\sigma^2 \\\\\n",
    "                        i \\ne j \\rightarrow 0\n",
    "                      \\end{cases} $\n",
    "\n",
    "$E_\\theta S^2 = \\sigma^2 - \\cfrac{\\sigma^2}{n} = \\cfrac{n-1}{n} \\cdot \\sigma^2$ - cмещённая оценка\n",
    "\n",
    "$ (S')^2 = \\cfrac{n}{n-1} \\cdot S^2 = \\cfrac{50}{49} \\cdot 103.63734 = 105.7524 $ - несмещённая оценка\n",
    "\n",
    "$ (S')^2 = \\cfrac{1}{n-1} \\sum_{i=1}^{n} {(X_i - \\bar X)^2}$"
   ]
  },
  {
   "attachments": {},
   "cell_type": "markdown",
   "metadata": {},
   "source": [
    "#### d) Построить доверительные интервалы уровня значимости $\\alpha_2$ для параметров $(a, \\sigma^2)$."
   ]
  },
  {
   "attachments": {},
   "cell_type": "markdown",
   "metadata": {},
   "source": [
    "$\\alpha_2 = 0.10$\n",
    "\n",
    "Построим доверительный интервал для $a$: \n",
    "\n",
    "Генератор:  $ G(\\vec{X}, a) = \\sqrt{n - 1} \\frac{\\bar{X} - a}{S} \\sim S_{n - 1} $\n",
    "\n",
    "$ \\mathbb{P}_a \\left( \\sqrt{n - 1} \\frac{\\bar{X} - a}{S} \\in [-x_{\\alpha_2}, x_{\\alpha_2}] \\right) = S_{n - 1}(x_{\\alpha_2}) - 1 + S_{n - 1}(x_{\\alpha_2}) = 1 - \\alpha_2 $\n",
    "\n",
    "$ x_\\alpha : S_{n - 1}(x_\\alpha) = S_{49}(x_\\alpha) = 1 - \\frac{\\alpha_2}{2} = 0.95  $\n",
    "\n",
    "$ x_\\alpha = 1.68$\n",
    "\n",
    "$ \\left[  \\bar{X} - \\frac{x_\\alpha S}{\\sqrt{n-  1}}; \\bar{X} + \\frac{x_\\alpha S}{\\sqrt{n-  1}} \\right] \\ni a $\n",
    "\n",
    "$ \\left[  0.0156 - \\frac{1.68 \\cdot 10.18}{\\sqrt{49}}; 0.0156 + \\frac{1.68 \\cdot 10.18}{\\sqrt{49}} \\right] \\ni a $\n",
    "\n",
    "$ [-2.4276; 2.4588] \\ni a $\n"
   ]
  },
  {
   "cell_type": "code",
   "execution_count": 1149,
   "metadata": {},
   "outputs": [
    {
     "name": "stdout",
     "output_type": "stream",
     "text": [
      "Квантиль x_a = 1.6765508919142629\n"
     ]
    }
   ],
   "source": [
    "func = stats.t(49)\n",
    "f = 0.95\n",
    "x_a = func.ppf(f)\n",
    "print(\"Квантиль x_a =\", x_a)"
   ]
  },
  {
   "cell_type": "markdown",
   "metadata": {},
   "source": [
    "Для параметра $\\sigma^2$\n",
    "\n",
    "Генератор $ G(\\vec{X}, \\sigma^2) = \\frac{nS^2}{\\sigma^2} \\sim \\chi^2_{n - 1}$\n",
    "\n",
    "$ \\mathbb{P}_{\\sigma^2} \\left( \\frac{nS^2}{\\sigma^2} \\in [-x_{1_{\\alpha_2}}; x_{2_{\\alpha_2}}] \\right) = 1 - \\alpha_2 $\n",
    "\n",
    "$ x_{1\\alpha_2} : \\mathcal{K}_{n - 1}(x_{1\\alpha_2}) = \\mathcal{K}_{49}(x_{1\\alpha_2}) = \\frac{\\alpha_2}{2} = 0.05  $\n",
    "\n",
    "$ x_{2\\alpha_2} : \\mathcal{K}_{n - 1}(x_{2\\alpha_2}) = \\mathcal{K}_{49}(x_{2\\alpha_2}) = 1 - \\frac{\\alpha_2}{2} = 0.95 $\n",
    "\n",
    "$  \\left[  \\frac{n S^2}{x_{2\\alpha}}; \\frac{n S^2}{x_{1\\alpha}} \\right]  \\ni \\sigma^2 $\n",
    "\n",
    "$  \\left[  \\frac{50 \\cdot 103.637}{66.34}; \\frac{50 \\cdot 103.637}{33.93} \\right]  \\ni \\sigma^2 $\n",
    "\n",
    "$ [78.11; 152.72] \\ni \\sigma^2$"
   ]
  },
  {
   "cell_type": "code",
   "execution_count": 1150,
   "metadata": {},
   "outputs": [
    {
     "name": "stdout",
     "output_type": "stream",
     "text": [
      "Квантиль x_1a = 33.93030561852783\n",
      "Квантиль x_2a = 66.3386488629688\n"
     ]
    }
   ],
   "source": [
    "func = stats.chi2(49)\n",
    "x_1a = func.ppf(0.05)\n",
    "x_2a = func.ppf(0.95)\n",
    "\n",
    "print(\"Квантиль x_1a =\", x_1a)\n",
    "print(\"Квантиль x_2a =\", x_2a)"
   ]
  },
  {
   "attachments": {},
   "cell_type": "markdown",
   "metadata": {},
   "source": [
    "#### e) С использованием теоремы Колмогорова построить критерий значимости проверки простой гипотезы согласия с нормальным распределением с параметрами $(a_0, \\sigma_0 ^2) = (0, 100)$. Проверить гипотезу на уровне значимости $\\alpha_2 = 0,1$. Вычислить наибольшее значения уровня значимости, на котором ещё нет оснований отвергнуть гипотезу."
   ]
  },
  {
   "cell_type": "markdown",
   "metadata": {},
   "source": [
    "$ H_0 : (a, \\sigma^2) = (a_0, \\sigma_0^2)$\n",
    "\n",
    "По т. Колмогорова, при справедливости гипотезы $H_0$\n",
    "\n",
    "$ \\sqrt{n} \\cdot max|F_n(y) - F(y)| \\sim K$, К - распр. Колмогорова.\n",
    "\n",
    "$D_n = \\sqrt{n} \\cdot max|F_n(y) - F(y)| $\n",
    "\n",
    "$ P(D_n < x_{\\alpha_2}) = 1 - \\alpha_2 = 0.9 $"
   ]
  },
  {
   "cell_type": "code",
   "execution_count": 1151,
   "metadata": {},
   "outputs": [
    {
     "name": "stdout",
     "output_type": "stream",
     "text": [
      "x_alpha2 = 0.14839812573875721\n",
      "0.14839812573875721\n"
     ]
    }
   ],
   "source": [
    "func = stats.ksone(50)\n",
    "lambda_alpha2 = func.ppf(0.9)\n",
    "\n",
    "lamb = stats.ksone.ppf(0.9, 50)\n",
    "print(\"x_alpha2 =\", lambda_alpha2)\n",
    "print(lamb)"
   ]
  },
  {
   "cell_type": "code",
   "execution_count": 1152,
   "metadata": {},
   "outputs": [
    {
     "name": "stdout",
     "output_type": "stream",
     "text": [
      "Dn = 0.3\n"
     ]
    }
   ],
   "source": [
    "def F(x, array):\n",
    "    s = 0\n",
    "    for i in array:\n",
    "        if i >= x:\n",
    "            return s / 50\n",
    "        s += 1\n",
    "    return s / 50\n",
    "\n",
    "a0 = 0.00\n",
    "n = 50\n",
    "sig0 = 10\n",
    "\n",
    "sort_array = np.sort(array)\n",
    "\n",
    "x = np.arange(1, n + 1) / n\n",
    "Fnorm = stats.norm.cdf(x, loc=a0, scale=sig0)\n",
    "\n",
    "Fn = np.array([F(i, sort_array) for i in x])\n",
    "\n",
    "diff = np.abs( Fn - Fnorm)\n",
    "\n",
    "# Максимальная разность\n",
    "D = np.max(diff)\n",
    "Dn = D * np.sqrt(n)\n",
    "\n",
    "print(\"Dn =\", round(Dn, 2))"
   ]
  },
  {
   "cell_type": "markdown",
   "metadata": {},
   "source": [
    "$ D_n > x_\\alpha $, значит гипотеза $H_0$ отвергается. \n",
    "\n",
    "Найдём наибольшее значение уровня значимости, на котором нет оснований отвергнуть гипотезу.\n",
    "\n",
    "$\\alpha_2 \\le 1 - \\mathcal{K}(D_n)$"
   ]
  },
  {
   "cell_type": "code",
   "execution_count": 1153,
   "metadata": {},
   "outputs": [
    {
     "name": "stdout",
     "output_type": "stream",
     "text": [
      "Гипотеза может быть принята, если уровень значимости не более: 0.9434179790640654\n"
     ]
    }
   ],
   "source": [
    "func = stats.ksone(50)\n",
    "D = 0.3\n",
    "a_max = 1 - func.ppf(D)\n",
    "print(\"Гипотеза может быть принята, если уровень значимости не более:\", a_max)"
   ]
  },
  {
   "cell_type": "markdown",
   "metadata": {},
   "source": [
    "#### f) Используя гистограмму частот, построить критерий значимости $\\mathcal{X^{2}}$ проверки простой гипотезы согласия с нормальным распределением с параметрами $(a_0, \\sigma_0 ^2) = (0, 100)$. Проверить гипотезу на уровень значимости $\\alpha_2 = 0,1$. Вычислить наибольшее значение уровня значимости, на котором ещё нет оснований отвергнуть данную гипотезу."
   ]
  },
  {
   "cell_type": "code",
   "execution_count": 1154,
   "metadata": {},
   "outputs": [
    {
     "name": "stdout",
     "output_type": "stream",
     "text": [
      "[-33. -29. -25. -21. -17. -13.  -9.  -5.  -1.   3.   7.  11.  15.  19.]\n",
      "[-33.02, -21.54, -18.38, -18.34, -13.04, -11.48, -9.27, -7.79, -7.51, -7.32, -7.24, -6.94, -6.91, -5.21, -4.6, -4.34, -2.65, -2.61, -2.44, -1.89, -1.57, -1.46, -1.33, -1.16, 0.57, 0.74, 0.89, 1.75, 2.73, 3.17, 3.74, 3.84, 4.63, 4.76, 4.97, 5.75, 5.9, 6.7, 8.27, 9.13, 10.01, 10.72, 11.82, 12.26, 12.32, 13.45, 14.16, 14.61, 14.82, 17.11]\n"
     ]
    }
   ],
   "source": [
    "h = 4\n",
    "bins = np.arange(min(array) + 0.02, max(array) + h, h)\n",
    "print(bins)\n",
    "print(array)\n"
   ]
  },
  {
   "cell_type": "markdown",
   "metadata": {},
   "source": [
    "Получим интервалы:\n",
    "\n",
    "$I_1 = (-\\infty, -33], \\; n_1=1 $\n",
    "\n",
    "$I_2 = (-33, -29], \\; n_2= 0 $\n",
    "\n",
    "$I_3 = (-29, -25], \\; n_3 = 0 $\n",
    "\n",
    "$I_4 = (-25, -21], \\; n_4 = 1 $\n",
    "\n",
    "$I_5 = (-21, -17], \\; n_5 = 2 $\n",
    "\n",
    "$I_6 = (-17, -13], \\; n_6 = 1 $\n",
    "\n",
    "$I_7 = (-13, -9], \\; n_7 = 2 $\n",
    "\n",
    "$I_8 = (-9, -5], \\; n_8 = 7 $\n",
    "\n",
    "$I_9 = (-5, -1], \\; n_9 = 10 $\n",
    "\n",
    "$I_{10} = (-1, 3], \\; n_{10} = 5 $\n",
    "\n",
    "$I_{11} = (3, 7], \\; n_{11} = 9 $\n",
    "\n",
    "$I_{12} = (7, 11], \\; n_{12} = 4 $\n",
    "\n",
    "$I_{13} = (11, 15], \\; n_{13} = 7 $\n",
    "\n",
    "$I_{14} = (15, +\\infty), \\; n_{14} = 1$\n",
    "\n",
    "Гипотезы: \n",
    "$H_0 : X \\sim \\mathcal{N}(a_0, \\sigma_0 ^2)$, где  $(a_0, \\sigma_0 ^2) = (0, 100)$\n",
    "\n",
    "$H_A : X \\nsim \\mathcal{N}(a_0, \\sigma_0 ^2)$\n",
    "\n",
    "$\\alpha_1 = 0.1$\n",
    "\n",
    "\n",
    "Найдем $x_\\alpha$\n",
    "\n",
    "$df = 14 - 1 = 13$\n",
    "\n",
    "$\\mathcal{K}_{13}(x_\\alpha)=1-\\alpha_1 = 0.9$\n",
    "\n",
    "$x_\\alpha = 19.81 $\n",
    "\n",
    "$\\mathcal{X}^2 > x_\\alpha \\Rightarrow$ отвергаем $H_0$\n",
    "\n"
   ]
  },
  {
   "cell_type": "code",
   "execution_count": 1155,
   "metadata": {},
   "outputs": [
    {
     "name": "stdout",
     "output_type": "stream",
     "text": [
      "pi = [0.0005     0.0013     0.0042     0.0114     0.0262     0.0515\n",
      " 0.0863     0.1236     0.1512     0.1579     0.1408     0.1072\n",
      " 0.0697     0.06811212]\n",
      "Сумма p = 1.0\n",
      "50pi [0.025     0.065     0.21      0.57      1.31      2.575     4.315\n",
      " 6.18      7.56      7.895     7.04      5.36      3.485     3.4056059]\n",
      "[38.025       0.065       0.21        0.32438596  0.36343511  0.96334951\n",
      "  1.24199884  0.10880259  0.78751323  1.06156111  0.54568182  0.34507463\n",
      "  3.54525825  1.6992394 ]\n",
      "X^2 = 49.2863004654003\n",
      "Квантиль x_a = 19.81192930712756\n"
     ]
    }
   ],
   "source": [
    "lmb = 0.7\n",
    "x = np.array([-33, -29, -25, -21, -17, -13,  -9,  -5,  -1,   3,   7,  11,  15])\n",
    "n = len(x)\n",
    "a0 = 0.00\n",
    "sig0 = 10\n",
    "p = np.zeros(n+1)\n",
    "\n",
    "p[0] = round(stats.norm.cdf(x[0], a, sig0), 4)\n",
    "s = p[0]\n",
    "\n",
    "for i in range(1, n):\n",
    "    p[i] = round(stats.norm.cdf(x[i], a, sig0) - stats.norm.cdf(x[i-1], a, sig0), 4)\n",
    "    s += p[i]\n",
    "\n",
    "p[n] = 1 - stats.norm.cdf(x[-1], a, sig0)\n",
    "print(\"pi =\", p)\n",
    "print(\"Сумма p =\",round(s + p[n], 3))\n",
    "\n",
    "# Вычисление X^2\n",
    "v = np.array([1, 0, 0, 1, 2, 1, 2, 7, 10, 5, 9, 4, 7, 1])\n",
    "print(\"50pi\", 50*p)\n",
    "chi_square = ((v - 50 * p) ** 2) / (50 * p)\n",
    "print(chi_square)\n",
    "print(\"X^2 =\", np.sum(chi_square))\n",
    "\n",
    "func = stats.chi2(13)\n",
    "fx = 0.9\n",
    "x_a = func.ppf(fx)\n",
    "\n",
    "print(\"Квантиль x_a =\", x_a)\n"
   ]
  },
  {
   "cell_type": "markdown",
   "metadata": {},
   "source": [
    "Для нахождения наибольшего значения уровня значимости, на котором ещё нет оснований отвергнуть данную гипотезу, вычисляем функцию распределения в точке $\\mathcal{X^2}$ и вычитаем полученное значение из единицы:\n",
    "\n",
    "$\\alpha_1 \\le 1 - \\mathcal{K}_{13}(\\mathcal{X}^2)$\n"
   ]
  },
  {
   "cell_type": "code",
   "execution_count": 1156,
   "metadata": {},
   "outputs": [
    {
     "name": "stdout",
     "output_type": "stream",
     "text": [
      "Гипотеза может быть принята, если уровень значимости не более: 4.021639746665251e-06\n"
     ]
    }
   ],
   "source": [
    "Xi2 = 49.2409377198315\n",
    "r = 14\n",
    "a_max = 1 - chi2.cdf(Xi2, r - 1)\n",
    "print(\"Гипотеза может быть принята, если уровень значимости не более:\", a_max)"
   ]
  },
  {
   "cell_type": "markdown",
   "metadata": {},
   "source": [
    "#### g) Построить критерий значимости $\\chi^2$ проверки сложной гипотезы согласия с нормальным распределением. Проверить гипотезу на уровне значимости $\\alpha_1 = 0.1$. Вычислить наибольшее значение уровня значимости, на котором еще нет оснований отвергнуть данную гипотезу."
   ]
  },
  {
   "cell_type": "markdown",
   "metadata": {},
   "source": [
    "$\\alpha_2 = 0.1$\n",
    "\n",
    "Необходимо минимизировать $\\mathcal{X}^2 $, подбирая параметры $(a, \\sigma ^2)$\n",
    "\n",
    "$\\mathcal{X}^2 = \\sum_{i=0}^{r} \\cfrac{(n_k - np_k)^2}{np_k} \\rightarrow \\mathcal{X}^2 _{r-d-1}, d = dim(a, \\sigma ^2) = 2, r = 14 - $количество интервалов. \n",
    "\n",
    "Объединим интервалы, чтобы в каждом было не менее 5 элементов\n",
    "\n",
    "$I_1 = (-\\infty, -13], \\; n_1 = 5$\n",
    "\n",
    "$I_2 = (-13, -5], \\; n_2 = 9$\n",
    "\n",
    "$I_3 = (-5, -1], \\; n_3 = 10$\n",
    "\n",
    "$I_{4} = (-1, 3], \\; n_{4} = 5$\n",
    "\n",
    "$I_{5} = (3, 11], \\; n_{5} = 13$\n",
    "\n",
    "$I_{6} = (11, +\\infty), \\; n_{6} = 8$\n",
    "\n"
   ]
  },
  {
   "cell_type": "code",
   "execution_count": 1157,
   "metadata": {},
   "outputs": [
    {
     "name": "stdout",
     "output_type": "stream",
     "text": [
      "Значение параметров = [ 0.50662941 10.35033318]\n",
      "Значение X^2 = 2.1239123794968395\n",
      "Квантиль x_a = 6.251388631170325\n"
     ]
    }
   ],
   "source": [
    "def min_sum(args):\n",
    "\n",
    "    arr = np.array([-13, -5,  -1,  3,  11])\n",
    "    res = np.zeros(len(arr) + 1)\n",
    "\n",
    "    res[0] = stats.norm.cdf(arr[0], args[0], args[1])\n",
    "    \n",
    "    for i in range(1, len(arr)):\n",
    "        res[i] = stats.norm.cdf(arr[i], args[0], args[1]) - stats.norm.cdf(arr[i-1], args[0], args[1])\n",
    "        \n",
    "    res[len(arr)] = 1 - stats.norm.cdf(arr[-1], args[0], args[1])\n",
    "\n",
    "    v = np.array([5, 9, 10, 5, 13, 8])\n",
    "    ans = ((v - 50 * res) ** 2) / (50 * res)\n",
    "    return np.sum(ans)\n",
    "\n",
    "result = scipy.optimize.minimize(min_sum, (0, 10))\n",
    "\n",
    "print(\"Значение параметров =\", result.x)\n",
    "print(\"Значение X^2 =\", result.fun)\n",
    "\n",
    "func = stats.chi2(3)\n",
    "fx = 0.9\n",
    "x_a = func.ppf(fx)\n",
    "\n",
    "print(\"Квантиль x_a =\", x_a)\n"
   ]
  },
  {
   "cell_type": "markdown",
   "metadata": {},
   "source": [
    "$ x_{a} : \\mathcal{K}_{r-d-1}(x_a) = \\mathcal{K}_{6}(x_a) = 1 - \\alpha_1 = 1 - 0.1 = 0.9$\n",
    "\n",
    "$\\mathcal{X}^2 < x_\\alpha \\Rightarrow$ принимаем $H_0$ \n",
    "\n",
    "Найдём наибольшее значение уровня значимости, на котором нет оснований отвергнуть гипотезу."
   ]
  },
  {
   "cell_type": "code",
   "execution_count": 1158,
   "metadata": {},
   "outputs": [
    {
     "name": "stdout",
     "output_type": "stream",
     "text": [
      "Гипотеза может быть принята, если уровень значимости не более: 0.5470902947199552\n"
     ]
    }
   ],
   "source": [
    "Xi2 = 2.1239123794968395\n",
    "r = 6\n",
    "a_max = 1 - chi2.cdf(Xi2, r - 2 - 1)\n",
    "print(\"Гипотеза может быть принята, если уровень значимости не более:\", a_max)"
   ]
  },
  {
   "cell_type": "markdown",
   "metadata": {},
   "source": [
    "#### h) Построить наиболее мощный критерий проверки простой гипотезы о нормальности с параметром $(a_0, \\sigma_0 ^2) = (0, 100)$ при альтернативе нормальности с параметром $(a_1, \\sigma_1 ^2) = (33, 100)$. Проверить гипотезу на уровне значимости $\\alpha_{1}$. Что получится, если поменять местами основную и альтернативную гипотезы? "
   ]
  },
  {
   "cell_type": "markdown",
   "metadata": {},
   "source": [
    "$ a_0 = 0, \\sigma_0 = 10, a1 = 33, \\sigma_1 = 10, \\; \\alpha_2 = 0.1$\n",
    "\n",
    "$ H_0 : X \\sim  \\mathcal{N}(a0, \\sigma_0^2), $\n",
    "\n",
    "$H_A : X \\sim  \\mathcal{N}(a1, \\sigma_1^2)$\n",
    "\n",
    "Согласно лемме Неймана-Пирсона, наиболее мощный критерий проверки гипотезы $H_0$ при альтернативе $H_A$ имеет вид:\n",
    "\n",
    "$\\phi(\\overrightarrow X) = \\begin{cases}\n",
    "  0, LR(\\overrightarrow X, a_0, \\sigma_0^2, a_1 , \\sigma_1^2) < C \\\\\n",
    "  p, LR(\\overrightarrow X, a_0, \\sigma_0^2, a_1 , \\sigma_1^2) = C \\\\\n",
    "  1, LR(\\overrightarrow X, a_0, \\sigma_0^2, a_1 , \\sigma_1^2) > C\n",
    "\\end{cases} $\n",
    "\n",
    "$LR(\\overrightarrow{X}, a_0, \\sigma_0^2, a_1 , \\sigma_1^2 ) = \\frac{L\\left( \\overrightarrow{X}, a_1 , \\sigma_1^2 \\right)}{L\\left( \\overrightarrow{X},a_0, \\sigma_0^2 \\right)} = \\frac{\\sigma_1^{-n} exp\\left(-\\sum_{i=1}^{n}\\frac{(x_i - a_1)^2}{2\\sigma_1^2}\\right)}{\\sigma_0^{-n} exp\\left(-\\sum_{i=1}^{n}\\frac{(x_i - a_0)^2}{2\\sigma_0^2}\\right)}$\n",
    "\n",
    "$ \\sigma_0^2 = \\sigma_1^2 = \\sigma^2 $\n",
    "\n",
    "$LR(\\overrightarrow{X},a_0, a_1 , \\sigma^2) = exp(\\frac{a_1 - a_0}{\\sigma^2} \\sum_{i=0}^{n}X_i + \\frac{n}{2 \\sigma^2 }(a_0^2 - a_1^2)) = exp(\\frac{33}{100} \\sum_{i=0}^{n}X_i - \\frac{n}{200} \\cdot 33^2) $\n",
    "\n",
    "Наиболее мощный критерий:\n",
    "\n",
    "$\\phi(\\overrightarrow X) = \\begin{cases}\n",
    "  0, exp(\\frac{33}{100} \\sum_{i=0}^{n}X_i - \\frac{n}{200} \\cdot 33^2) < C \\\\\n",
    "  p, exp(\\frac{33}{100} \\sum_{i=0}^{n}X_i - \\frac{n}{200} \\cdot 33^2) = C \\\\\n",
    "  1, exp(\\frac{33}{100} \\sum_{i=0}^{n}X_i - \\frac{n}{200} \\cdot 33^2) > C\n",
    "\\end{cases} $\n",
    "\n",
    "$T = \\sum_{i=0}^{n}X_i  - МДС $\n",
    "\n",
    "$ exp(\\frac{33}{100} \\sum_{i=0}^{n}X_i - \\frac{n}{200} \\cdot 33^2) > C $\n",
    "\n",
    "$ \\frac{33}{100} \\sum_{i=0}^{n}X_i - \\frac{n}{200} \\cdot 33^2 > ln(C) $\n",
    "\n",
    "$ \\sum_{i=0}^{n}X_i >  \\cfrac{ln(C) + \\frac{n}{200} \\cdot 33^2}{\\frac{33}{100} n}$\n",
    "\n",
    "$ Пусть \\; C^* = \\cfrac{ln(C) + \\frac{n}{200} \\cdot 33^2}{\\frac{33}{100}}$\n",
    "\n",
    "Критерий: \n",
    "\n",
    "$\\phi(\\overrightarrow X) = \\begin{cases}\n",
    "  0, \\sum_{i=0}^{n}X_i < C^* \\\\\n",
    "  p, \\sum_{i=0}^{n}X_i = C^* \\\\\n",
    "  1, \\sum_{i=0}^{n}X_i > C^*\n",
    "\\end{cases} $\n",
    "\n",
    "Найдём $C^*$ и p из уравнения:\n",
    "\n",
    "$P_{a_0, \\sigma_0^2}(\\sum_{i=0}^{n}X_i > C^*) + p P_{a_0, \\sigma_0^2}(\\sum_{i=0}^{n}X_i = C^*) = \\alpha_2$\n",
    "\n",
    "$ P_{a_0, \\sigma_0^2}(\\sum_{i=0}^{n}X_i > C^*) = 1 - P_{a_0, \\sigma_0^2}(\\sum_{i=0}^{n}X_i \\le C^*) = 1 - \\Phi_{na_0, n\\sigma_0^2} (x_\\alpha) < \\alpha_2$\n",
    "\n",
    "$ p = \\cfrac{\\alpha_2 - 1 + \\Phi_{na_0, n\\sigma_0^2} (x_\\alpha)}{\\Phi_{na_0, n\\sigma_0^2} (x_\\alpha) - \\Phi_{na_0, n\\sigma_0^2} (x_\\alpha - 1)} =  0.004$"
   ]
  },
  {
   "cell_type": "code",
   "execution_count": 1159,
   "metadata": {},
   "outputs": [
    {
     "name": "stdout",
     "output_type": "stream",
     "text": [
      "C =  640.7799999995626\n",
      "p =  0.004211850514486418\n",
      "0.7800000000000011\n"
     ]
    }
   ],
   "source": [
    "a = 0.1\n",
    "c = -20\n",
    "n = 50\n",
    "while True:\n",
    "  if 1 - stats.norm.cdf(c, n * 0, n * 10) < a:\n",
    "    break\n",
    "  c += 0.01\n",
    "\n",
    "p = (a - 1 + stats.norm.cdf(c, 0 * n, n * 10))/(stats.norm.cdf(c, 0 * n, n * 10) - stats.norm.cdf(c - 1, 0 *n, 10 * n))\n",
    "\n",
    "print(\"C = \", c)\n",
    "print(\"p = \", p)\n",
    "print(np.sum(array))"
   ]
  },
  {
   "cell_type": "markdown",
   "metadata": {},
   "source": [
    "$\\sum_{i=1}^{n}X_{i} = 0.78 < C^* = 640.8$, значит принимаем гипотезу $H_0$\n",
    "\n",
    "Критерий\n",
    " $\\phi(\\overrightarrow X) = \\begin{cases}\n",
    "  0, \\sum_{i=0}^{n}X_i < 640.8 \\\\\n",
    "  0.004, \\sum_{i=0}^{n}X_i = 640.8 \\\\\n",
    "  1, \\sum_{i=0}^{n}X_i > 640.8\n",
    "\\end{cases} $"
   ]
  },
  {
   "cell_type": "markdown",
   "metadata": {},
   "source": [
    "Далее меняем местами основную гипотезу и альтернативную\n",
    "\n",
    "$ a_0 = 0, \\sigma_0 = 10, a_1 = 33, \\sigma_1 = 10, \\; \\alpha_2 = 0.1$\n",
    "\n",
    "$ H_0 : X \\sim  \\mathcal{N}(a1, \\sigma_1^2), $\n",
    "\n",
    "$H_A : X \\sim  \\mathcal{N}(a0, \\sigma_0^2)$\n",
    "\n",
    "Согласно лемме Неймана-Пирсона, наиболее мощный критерий проверки гипотезы $H_0$ при альтернативе $H_A$ имеет вид:\n",
    "\n",
    "$\\phi(\\overrightarrow X) = \\begin{cases}\n",
    "  0, LR(\\overrightarrow X, a_0, \\sigma_0^2, a_1 , \\sigma_1^2) < C \\\\\n",
    "  p, LR(\\overrightarrow X, a_0, \\sigma_0^2, a_1 , \\sigma_1^2) = C \\\\\n",
    "  1, LR(\\overrightarrow X, a_0, \\sigma_0^2, a_1 , \\sigma_1^2) > C\n",
    "\\end{cases} $\n",
    "\n",
    "$LR(\\overrightarrow{X}, a_0, \\sigma_0^2, a_1 , \\sigma_1^2 ) = \\frac{L\\left( \\overrightarrow{X},a_0, \\sigma_0^2 \\right)}{L\\left( \\overrightarrow{X},a_1 , \\sigma_1^2 \\right)} = \\frac{\\sigma_0^{-n} exp\\left(-\\sum_{i=1}^{n}\\frac{(x_i - a_0)^2}{2\\sigma_0^2}\\right)}{\\sigma_1^{-n} exp\\left(-\\sum_{i=1}^{n}\\frac{(x_i - a_1)^2}{2\\sigma_1^2}\\right)}$\n",
    "\n",
    "$ \\sigma_0^2 = \\sigma_1^2 = \\sigma^2 $\n",
    "\n",
    "$LR(\\overrightarrow{X},a_0, a_1 , \\sigma^2) = exp(\\frac{a_0 - a_1}{\\sigma^2} \\sum_{i=0}^{n}X_i + \\frac{n}{2 \\sigma^2}(a_1^2 - a_0^2)) = exp(-\\frac{33}{100} \\sum_{i=0}^{n}X_i + \\frac{n}{200} \\cdot 33^2)$\n",
    "\n",
    "Наиболее мощный критерий:\n",
    "\n",
    "$\\phi(\\overrightarrow X) = \\begin{cases}\n",
    "  0, exp(-\\frac{33}{100} \\sum_{i=0}^{n}X_i + \\frac{n}{200} \\cdot 33^2) < C \\\\\n",
    "  p, exp(-\\frac{33}{100} \\sum_{i=0}^{n}X_i + \\frac{n}{200} \\cdot 33^2) = C \\\\\n",
    "  1, exp(-\\frac{33}{100} \\sum_{i=0}^{n}X_i + \\frac{n}{200} \\cdot 33^2) > C\n",
    "\\end{cases} $\n",
    "\n",
    "$T = \\sum_{i=0}^{n}X_i - МДС $\n",
    "\n",
    "$ exp(-\\frac{33}{100} \\sum_{i=0}^{n}X_i + \\frac{n}{200} \\cdot 33^2) > C $\n",
    "\n",
    "$ -\\frac{33}{100} \\sum_{i=0}^{n}X_i + \\frac{n}{200} \\cdot 33^2 > ln(C) $\n",
    "\n",
    "$ \\sum_{i=0}^{n}X_i <  \\cfrac{ln(C) - \\frac{n}{200} \\cdot 33^2}{-\\frac{33}{100} n}$\n",
    "\n",
    "$ Пусть \\; C^* = \\cfrac{ln(C) - \\frac{n}{200} \\cdot 33^2}{-\\frac{33}{100}}$\n",
    "\n",
    "Критерий: \n",
    "\n",
    "$\\phi(\\overrightarrow X) = \\begin{cases}\n",
    "  0, \\sum_{i=0}^{n}X_i > C^* \\\\\n",
    "  p, \\sum_{i=0}^{n}X_i = C^* \\\\\n",
    "  1, \\sum_{i=0}^{n}X_i < C^*\n",
    "\\end{cases} $\n",
    "\n",
    "Найдём $C^*$ и p из уравнения:\n",
    "\n",
    "$P_{ a_1, \\sigma_1^2}(\\sum_{i=0}^{n}X_i < C^*) + p P_{ a_1, \\sigma_1^2}(\\sum_{i=0}^{n}X_i = C^*) = \\alpha_2$\n",
    "\n",
    "$ P_{ a_1, \\sigma_1^2}(\\sum_{i=0}^{n}X_i \\le C^*) = \\Phi_{na_1, n\\sigma_1^2} (x_\\alpha) $\n",
    "\n",
    "$ \\Phi_{na_1, n\\sigma_1^2} (x_\\alpha) > \\alpha_2  $\n",
    "\n",
    "$ p = \\cfrac{\\alpha_2 - \\Phi_{na_1, n\\sigma_1^2} (x_\\alpha)}{\\Phi_{na_1, n\\sigma_1^2} (x_\\alpha) - \\Phi_{na_1, n\\sigma_1^2} (x_\\alpha - 1)} =  0.004$"
   ]
  },
  {
   "cell_type": "code",
   "execution_count": 1171,
   "metadata": {},
   "outputs": [
    {
     "name": "stdout",
     "output_type": "stream",
     "text": [
      "C =  1009.2242199994339\n",
      "p =  0.0\n"
     ]
    }
   ],
   "source": [
    "a = 0.1\n",
    "c = 1009\n",
    "\n",
    "while True:\n",
    "    if stats.norm.cdf(c, 33 * 50, 50 * 10) > a:\n",
    "        break\n",
    "    c += 0.00001\n",
    "\n",
    "p = (a -  stats.norm.cdf(c, 33 * 50, 50 * 10))/(stats.norm.cdf(c, 33* 50, 10 * 50) - stats.norm.cdf(c - 1, 33* 50, 10 * 50))\n",
    "\n",
    "print(\"C = \", c)\n",
    "print(\"p = \", round(p, 3))"
   ]
  },
  {
   "cell_type": "markdown",
   "metadata": {},
   "source": [
    "$\\sum_{i=1}^{n}X_{i} = 0.78 < C^* = 1009.2$, значит принимаем гипотезу $H_A$\n",
    "\n",
    "Критерий\n",
    " $\\phi(\\overrightarrow X) = \\begin{cases}\n",
    "  0, \\sum_{i=0}^{n}X_i <= 640.8 \\\\\n",
    "  1, \\sum_{i=0}^{n}X_i > 640.8\n",
    "\\end{cases} $"
   ]
  },
  {
   "cell_type": "markdown",
   "metadata": {},
   "source": [
    "#### i) В пунктах (c)-(g) заменить семейство нормальных распределений на двухпараметрическое семейство распредленией Лапласа с плотностями $\\mathbb{p}_{a, \\sigma}=\\frac{1}{\\sigma \\sqrt{2}} exp(-\\frac{\\sqrt{2}}{\\sigma} |x-a|) $"
   ]
  },
  {
   "cell_type": "markdown",
   "metadata": {},
   "source": [
    "#### c) В предположении, что исходные наблюдения являются выборкой из двухпараметрического семейства распределений Лапласа, построить ОМП и ОММ параметров $(a, \\sigma)$. Найти смещение оценок."
   ]
  },
  {
   "cell_type": "markdown",
   "metadata": {},
   "source": [
    "ОМП:\n",
    "\n",
    "$\\mathbb{p}_{a, \\sigma^2}=\\frac{1}{\\sigma \\sqrt{2}} exp(-\\frac{\\sqrt{2}}{\\sigma} |x-a|)$\n",
    "\n",
    "$L(\\overrightarrow{X}, a, \\sigma^2) = \\prod_{i=1}^{n} \\frac{1}{\\sigma \\sqrt{2}} exp(-\\frac{\\sqrt{2}}{\\sigma} |x-a|) = \\frac{1}{(2 \\sigma^2)^{\\frac{n}{2}}} exp(-\\frac{\\sqrt{2}}{\\sigma} \\sum_{i=1}^{n} |x_i-a|) $\n",
    "\n",
    "$LL(\\overrightarrow{X}, a, \\sigma^2) = -\\frac{n}{2}len(2) - nln(\\sigma) -\\frac{\\sqrt{2}}{\\sigma} \\sum_{i=1}^{n} |x_i-a|$\n",
    "\n",
    "$ \\cfrac{dLL(\\overrightarrow{X}, a, \\sigma^2)}{d\\sigma} = -\\cfrac{n}{\\sigma} + \\frac{\\sqrt{2}}{\\sigma^2} \\sum_{i=1}^{n} |x_i-a| = 0$\n",
    "\n",
    "$\\widehat \\sigma = \\sqrt{2} \\cfrac{\\sum_{i=1}^{n} |x_i-a|}{n} $\n",
    "\n",
    "$ \\cfrac{dLL(\\overrightarrow{X}, a, \\sigma^2)}{da} = -\\frac{\\sqrt{2}}{\\sigma} \\sum_{i=1}^{n} \\frac{d|x_i-a|}{da} = -\\frac{\\sqrt{2}}{\\sigma} \\sum_{i=1}^{n} sgn(X_{(i)} - a) = 0$\n",
    "\n",
    "$ \\widehat{a} = Z_{n, 0.5} = 0.655$\n",
    "\n",
    "$\\widehat \\sigma = \\sqrt{2} \\cfrac{\\sum_{i=1}^{n} |x_i- Z_{n, 0.5}|}{n} = 11.193$\n"
   ]
  },
  {
   "cell_type": "code",
   "execution_count": 1172,
   "metadata": {},
   "outputs": [
    {
     "name": "stdout",
     "output_type": "stream",
     "text": [
      "11.192651818045624\n"
     ]
    }
   ],
   "source": [
    "def calculate_expression(array):\n",
    "    array = np.array(array)\n",
    "    n = len(array)\n",
    "    Z_n_0_5 = 0.655\n",
    "    sum_term = np.sum(np.abs(array - Z_n_0_5))\n",
    "    result = 2**(0.5) * (sum_term) / (n)\n",
    "    return result\n",
    "\n",
    "print(calculate_expression(array))"
   ]
  },
  {
   "cell_type": "markdown",
   "metadata": {},
   "source": [
    "ОММ:\n",
    "\n",
    "$ EX1 = \\frac{1}{\\sigma \\sqrt{2}} \\int_{R} x \\exp(-\\frac{\\sqrt{2}}{\\sigma} |x-a|) dx = [t = x - a] = \\frac{1}{\\sigma \\sqrt{2}} \\int_{R} (t + a) \\exp(-\\frac{\\sqrt{2}}{\\sigma} |t|) dx = \\frac{a}{\\sigma} \\sqrt{2} \\int_{0}^{\\infty} \\exp(-\\frac{\\sqrt{2}}{\\sigma} t) dx = a, \\quad M1 = \\bar X$ \n",
    "\n",
    "$ EX1^2 = \\frac{1}{\\sigma \\sqrt{2}} \\int_{ R} x^2 \\exp(-\\frac{\\sqrt{2}}{\\sigma} |x-a|) dx = [t = x - a] = \\frac{1}{\\sigma \\sqrt{2}} \\int_{R} (t + a)^2 \\exp(-\\frac{\\sqrt{2}}{\\sigma} |t|) dx = \\frac{1}{\\sigma \\sqrt{2}} \\int_{R} t^2 \\exp(-\\frac{\\sqrt{2}}{\\sigma} |t|) dx + \\frac{1}{\\sigma \\sqrt{2}} \\int_{R} a^2 \\exp(-\\frac{\\sqrt{2}}{\\sigma} |t|) dx = \\frac{1}{\\sigma \\sqrt{2}} \\int_{R} t^2 \\exp(-\\frac{\\sqrt{2}}{\\sigma} |t|) dx + \\frac{1}{\\sigma \\sqrt{2}} \\int_{R} a^2 \\exp(-\\frac{\\sqrt{2}}{\\sigma} |t|) dx  = \\frac{ \\sqrt{2}}{\\sigma} \\int_{0}^{\\infty} t^2 \\exp(-\\frac{\\sqrt{2}}{\\sigma} t) dx + \\frac{\\sqrt{2}}{\\sigma } \\int_{0}^{\\infty} a^2 \\exp(-\\frac{\\sqrt{2}}{\\sigma} t) dx = \\sigma^2 + a^2, \\quad M1 = \\bar {X^2}$\n",
    "\n",
    "$\n",
    "\\begin{cases}\n",
    "  a = \\bar X \\\\\n",
    "  \\sigma^2 + a^2 = \\bar X^2\n",
    "\\end{cases} $\n",
    "\n",
    "$\n",
    "\\begin{cases}\n",
    "  \\widehat a = \\bar X \\\\\n",
    "  \\widehat {\\sigma^2} = S^2\n",
    "\\end{cases} $\n",
    "\n",
    "$\n",
    "\\begin{cases}\n",
    "  \\widehat a = \\bar X \\\\\n",
    "  \\widehat {\\sigma} = S\n",
    "\\end{cases} $\n",
    "\n",
    "$E_\\theta \\bar X = \\cfrac{1}{n} E \\sum_{i=1}^{n} X_i = a = 0.0156$\n",
    "\n",
    "$E_\\theta S^2 = \\cfrac{1}{n} E \\sum_{i=1}^{n} {(X_i - \\bar X)^2} = [X_i - E_\\theta X_i = Y_i, \\quad E_\\theta Y_i = 0, \\quad D_\\theta Y_i = \\sigma^2]  $\n",
    "\n",
    "$= \\cfrac{1}{n} E_\\theta \\sum_{i=1}^{n} {(Y_i - \\bar Y)^2} = E( \\bar {Y^2} - (\\bar Y)^2) = E\\bar {Y^2} - E\\left(\\bar Y \\right)^2  $\n",
    "\n",
    "$ E\\bar {Y^2} = \\cfrac{1}{n} E_\\theta \\sum_{i=1}^{n} {(Y_i)^2} = \\sigma^2 $\n",
    "\n",
    "$ E\\left(\\bar Y \\right)^2 = \\cfrac{1}{n^2} E_\\theta (\\sum_{i=1}^{n} Y_i)^2 = \\cfrac{1}{n^2} \\sum_{i=1}^{n} \\sum_{j=1}^{n} E_\\theta Y_i Y_j = \\cfrac{1}{n^2} \\sum_{i=1}^{n} E (Y_i)^2 = \\cfrac{\\sigma^2}{n} $\n",
    "\n",
    "$ E_\\theta Y_i Y_j = \\begin{cases}\n",
    "                        i = j \\rightarrow \\sigma^2 \\\\\n",
    "                        i \\ne j \\rightarrow 0\n",
    "                      \\end{cases} $\n",
    "\n",
    "$E_\\theta S^2 = \\sigma^2 - \\cfrac{\\sigma^2}{n} = \\cfrac{n-1}{n} \\cdot \\sigma^2$\n",
    "\n",
    "$E_\\theta S = \\sqrt{\\cfrac{n-1}{n}} \\cdot \\sigma $ - cмещённая оценка\n",
    "\n",
    "$ (S')^2 = \\cfrac{n}{n-1} \\cdot S^2 = \\cfrac{50}{49} \\cdot 103.63734 = 105.7524 $ \n",
    "\n",
    "$ (S') = \\sqrt{\\cfrac{n}{n-1}} \\cdot S = \\sqrt{\\cfrac{50}{49}} \\cdot 10.18 = 10.28 $ - несмещённая оценка\n",
    "\n",
    "$ (S')^2 = \\cfrac{1}{n-1} \\sum_{i=1}^{n} {(X_i - \\bar X)^2}$\n",
    "\n",
    "$ S' = \\sqrt{\\cfrac{1}{n-1} \\sum_{i=1}^{n} {(X_i - \\bar X)^2}}$\n"
   ]
  },
  {
   "cell_type": "markdown",
   "metadata": {},
   "source": [
    "#### d) Построить доверительный интервал уровня значимости $\\alpha_2$ для параметров $(a, \\sigma)$."
   ]
  },
  {
   "cell_type": "markdown",
   "metadata": {},
   "source": [
    "$\\alpha_2 = 0.10$\n",
    "\n",
    "Построим доверительный интервал для $a$: \n",
    "\n",
    "Генератор:  $ G(\\vec{X}, a) = \\sqrt{n - 1} \\frac{\\bar{X} - a}{S} \\sim S_{n - 1} $\n",
    "\n",
    "$ \\mathbb{P}_a \\left( \\sqrt{n - 1} \\frac{\\bar{X} - a}{S} \\in [-x_{\\alpha_2}, x_{\\alpha_2}] \\right) = S_{n - 1}(x_{\\alpha_2}) - 1 + S_{n - 1}(x_{\\alpha_2}) = 1 - \\alpha_2 $\n",
    "\n",
    "$ x_\\alpha : S_{n - 1}(x_\\alpha) = S_{49}(x_\\alpha) = 1 - \\frac{\\alpha_2}{2} = 0.95  $\n",
    "\n",
    "$ x_\\alpha = 1.68$\n",
    "\n",
    "$ \\left[  \\bar{X} - \\frac{x_\\alpha S}{\\sqrt{n-  1}}; \\bar{X} + \\frac{x_\\alpha S}{\\sqrt{n-  1}} \\right] \\ni a $\n",
    "\n",
    "$ \\left[  0.0156 - \\frac{1.68 \\cdot 10.18}{\\sqrt{49}}; 0.0156 + \\frac{1.68 \\cdot 10.18}{\\sqrt{49}} \\right] \\ni a $\n",
    "\n",
    "$ [-2.4276; 2.4588] \\ni a $"
   ]
  },
  {
   "cell_type": "code",
   "execution_count": 1173,
   "metadata": {},
   "outputs": [
    {
     "name": "stdout",
     "output_type": "stream",
     "text": [
      "Квантиль x_a = 1.6448536269514722\n"
     ]
    }
   ],
   "source": [
    "f = 0.95\n",
    "x_a = stats.norm.ppf(f)\n",
    "print(\"Квантиль x_a =\", x_a)"
   ]
  },
  {
   "cell_type": "markdown",
   "metadata": {},
   "source": [
    "Для параметра $\\sigma$\n",
    "\n",
    "Генератор $ G(\\vec{X}, \\sigma^2) = \\frac{nS^2}{\\sigma^2} \\sim \\chi^2_{n - 1}$\n",
    "\n",
    "$ \\mathbb{P}_{\\sigma^2} \\left( \\frac{nS^2}{\\sigma^2} \\in [x_{1_{\\alpha_2}}; x_{2_{\\alpha_2}}] \\right) = 1 - \\alpha_2 $\n",
    "\n",
    "$ x_{1\\alpha_2} : \\mathcal{K}_{n - 1}(x_{1\\alpha_2}) = \\mathcal{K}_{49}(x_{1\\alpha_2}) = \\frac{\\alpha_2}{2} = 0.05  $\n",
    "\n",
    "$ x_{2\\alpha_2} : \\mathcal{K}_{n - 1}(x_{2\\alpha_2}) = \\mathcal{K}_{49}(x_{2\\alpha_2}) = 1 - \\frac{\\alpha_2}{2} = 0.95 $\n",
    "\n",
    "$  \\left[  \\frac{n S^2}{x_{2\\alpha}}; \\frac{n S^2}{x_{1\\alpha}} \\right]  \\ni \\sigma^2 $\n",
    "\n",
    "$  \\left[  \\frac{50 \\cdot 103.637}{66.34}; \\frac{50 \\cdot 103.637}{33.93} \\right]  \\ni \\sigma^2 $\n",
    "\n",
    "$ [78.11; 152.72] \\ni \\sigma^2$\n",
    "\n",
    "$ [8.838; 12.36] \\ni \\sigma$"
   ]
  },
  {
   "cell_type": "code",
   "execution_count": 1174,
   "metadata": {},
   "outputs": [
    {
     "name": "stdout",
     "output_type": "stream",
     "text": [
      "Квантиль x_1a = 33.93030561852783\n",
      "Квантиль x_2a = 66.3386488629688\n"
     ]
    }
   ],
   "source": [
    "func = stats.chi2(49)\n",
    "x_1a = func.ppf(0.05)\n",
    "x_2a = func.ppf(0.95)\n",
    "\n",
    "print(\"Квантиль x_1a =\", x_1a)\n",
    "print(\"Квантиль x_2a =\", x_2a)"
   ]
  },
  {
   "cell_type": "markdown",
   "metadata": {},
   "source": [
    "#### e) С использованием теоремы Колмогорова построить критерий значимости проверки простой гипотезы согласия из двухпараметрического семейства распредлений Лапласа с параметрами $(a_0, \\sigma_0) = (0, 10)$. Проверить гипотезу на уровне значимости $\\alpha_2 = 0,1$. Вычислить наибольшее значения уровня значимости, на котором ещё нет оснований отвергнуть гипотезу."
   ]
  },
  {
   "cell_type": "markdown",
   "metadata": {},
   "source": [
    "$ H_0 : (a, \\sigma) = (a_0, \\sigma_0)$\n",
    "\n",
    "По т. Колмогорова, при справедливости гипотезы $H_0$\n",
    "\n",
    "$ \\sqrt{n} \\cdot max|F_n(y) - F(y)| \\sim K$, К - распр. Колмогорова.\n",
    "\n",
    "$D_n = \\sqrt{n} \\cdot max|F_n(y) - F(y)| $\n",
    "\n",
    "$ P(D_n < x_{\\alpha_2}) = 1 - \\alpha_2 = 0.9 $"
   ]
  },
  {
   "cell_type": "code",
   "execution_count": 1175,
   "metadata": {},
   "outputs": [
    {
     "name": "stdout",
     "output_type": "stream",
     "text": [
      "x_alpha2 = 0.14839812573875721\n",
      "0.14839812573875721\n"
     ]
    }
   ],
   "source": [
    "func = stats.ksone(50)\n",
    "lambda_alpha2 = func.ppf(0.9)\n",
    "\n",
    "lamb = stats.ksone.ppf(0.9, 50)\n",
    "print(\"x_alpha2 =\", lambda_alpha2)\n",
    "print(lamb)"
   ]
  },
  {
   "cell_type": "code",
   "execution_count": 1176,
   "metadata": {},
   "outputs": [
    {
     "name": "stdout",
     "output_type": "stream",
     "text": [
      "Dn = 0.33\n"
     ]
    }
   ],
   "source": [
    "def F(x, array):\n",
    "    s = 0\n",
    "    for i in array:\n",
    "        if i >= x:\n",
    "            return s / 50\n",
    "        s += 1\n",
    "    return s / 50\n",
    "\n",
    "a0 = 0.00\n",
    "n = 50\n",
    "sig0 = 10\n",
    "\n",
    "sort_array = np.sort(array)\n",
    "\n",
    "x = np.arange(1, n + 1) / n\n",
    "\n",
    "Flap = stats.laplace.cdf(x, a0, sig0)\n",
    "\n",
    "Fn = np.array([F(i, sort_array) for i in x])\n",
    "\n",
    "diff = np.abs( Fn - Flap)\n",
    "\n",
    "# Максимальная разность\n",
    "D = np.max(diff) * np.sqrt(n)\n",
    "\n",
    "print(\"Dn =\", round(D, 2))"
   ]
  },
  {
   "cell_type": "markdown",
   "metadata": {},
   "source": [
    "$ D_n > x_\\alpha $, значит гипотеза $H_0$ отвергается. \n",
    "\n",
    "Найдём наибольшее значение уровня значимости, на котором нет оснований отвергнуть гипотезу.\n",
    "\n",
    "$\\alpha_2 \\le 1 - \\mathcal{K}(D_n)$"
   ]
  },
  {
   "cell_type": "code",
   "execution_count": 1177,
   "metadata": {},
   "outputs": [
    {
     "name": "stdout",
     "output_type": "stream",
     "text": [
      "Гипотеза может быть принята, если уровень значимости не более: 0.9398530573798991\n"
     ]
    }
   ],
   "source": [
    "func = stats.ksone(50)\n",
    "D = 0.33\n",
    "a_max = 1 - func.ppf(D)\n",
    "print(\"Гипотеза может быть принята, если уровень значимости не более:\", a_max)"
   ]
  },
  {
   "cell_type": "markdown",
   "metadata": {},
   "source": [
    "#### f) Используя гистограмму частот, построить критерий значимости $\\mathcal{X^{2}}$ проверки простой гипотезы согласия из двухпараметрического семейства распредлений Лапласа с параметрами $(a_0, \\sigma_0)$. Проверить гипотезу на уровень значимости $\\alpha_2 = 0,1$. Вычислить наибольшее значение уровня значимости, на котором ещё нет оснований отвергнуть данную гипотезу."
   ]
  },
  {
   "cell_type": "markdown",
   "metadata": {},
   "source": [
    "Гипотезы: \n",
    "$H_0 : (a_, \\sigma) =   \\mathcal{N}(a_0, \\sigma_0 )$, где  $(a_0, \\sigma_0 ) = (0, 10)$\n",
    "\n",
    "$H_A : (a_, \\sigma) \\ne   \\mathcal{N}(a_0, \\sigma_0 )$\n",
    "\n",
    "$\\alpha_1 = 0.1$\n",
    "\n",
    "\n",
    "Найдем $x_\\alpha$\n",
    "\n",
    "$df = 14 - 1 = 13$\n",
    "\n",
    "$\\mathcal{K}_{13}(x_\\alpha)=1-\\alpha_1 = 0.9$\n",
    "\n",
    "$x_\\alpha = 19.81 $\n",
    "\n",
    "$\\mathcal{X}^2 < x_\\alpha \\Rightarrow$ принимаем $H_0$\n",
    "\n"
   ]
  },
  {
   "cell_type": "code",
   "execution_count": 1178,
   "metadata": {},
   "outputs": [
    {
     "name": "stdout",
     "output_type": "stream",
     "text": [
      "pi = [0.01844158 0.00907003 0.01353089 0.02018571 0.03011355 0.04492413\n",
      " 0.06701893 0.0999805  0.14915338 0.17717218 0.12211646 0.08185711\n",
      " 0.05487046 0.11156508]\n",
      "Сумма p = 1.0\n",
      "50pi [0.92207919 0.45350132 0.67654446 1.00928574 1.50567739 2.24620672\n",
      " 3.35094667 4.999025   7.45766896 8.85860903 6.10582292 4.0928555\n",
      " 2.74352309 5.578254  ]\n",
      "[6.58474186e-03 4.53501316e-01 6.76544464e-01 8.54316844e-05\n",
      " 1.62288973e-01 6.91401723e-01 5.44639196e-01 8.00936373e-01\n",
      " 8.66684639e-01 1.68072252e+00 1.37184800e+00 2.10663296e-03\n",
      " 6.60377008e+00 3.75752157e+00]\n",
      "X^2 = 17.618635656113376\n",
      "Квантиль x_a = 19.81192930712756\n"
     ]
    }
   ],
   "source": [
    "lmb = 0.7\n",
    "x = np.array([-33, -29, -25, -21, -17, -13,  -9,  -5,  -1,   3,   7,  11,  15])\n",
    "n = len(x)\n",
    "a0 = 0.00\n",
    "sig0 = 10\n",
    "p = np.zeros(n+1)\n",
    "\n",
    "p[0] = stats.laplace.cdf(x[0], a0, sig0)\n",
    "s = p[0]\n",
    "\n",
    "for i in range(1, n):\n",
    "    p[i] = stats.laplace.cdf(x[i], a0, sig0) - stats.laplace.cdf(x[i-1], a0, sig0)\n",
    "    s += p[i]\n",
    "\n",
    "p[n] = 1.0 - stats.laplace.cdf(x[-1], a0, sig0)\n",
    "print(\"pi =\", p)\n",
    "print(\"Сумма p =\",round(s + p[n], 3))\n",
    "\n",
    "# Вычисление X^2\n",
    "v = np.array([1, 0, 0, 1, 2, 1, 2, 7, 10, 5, 9, 4, 7, 1])\n",
    "print(\"50pi\", 50*p)\n",
    "chi_square = ((v - 50 * p) ** 2) / (50 * p)\n",
    "print(chi_square)\n",
    "print(\"X^2 =\", np.sum(chi_square))\n",
    "\n",
    "func = stats.chi2(13)\n",
    "fx = 0.9\n",
    "x_a = func.ppf(fx)\n",
    "\n",
    "print(\"Квантиль x_a =\", x_a)\n"
   ]
  },
  {
   "cell_type": "markdown",
   "metadata": {},
   "source": [
    "Для нахождения наибольшего значения уровня значимости, на котором ещё нет оснований отвергнуть данную гипотезу, вычисляем функцию распределения в точке $\\mathcal{X^2}$ и вычитаем полученное значение из единицы:\n",
    "\n",
    "$\\alpha_1 \\le 1 - \\mathcal{K}_{13}(\\mathcal{X}^2)$\n"
   ]
  },
  {
   "cell_type": "code",
   "execution_count": 1179,
   "metadata": {},
   "outputs": [
    {
     "name": "stdout",
     "output_type": "stream",
     "text": [
      "Гипотеза может быть принята, если уровень значимости не более: 0.172543685423574\n"
     ]
    }
   ],
   "source": [
    "Xi2 = 17.618635656113376\n",
    "r = 14\n",
    "a_max = 1 - chi2.cdf(Xi2, r - 1)\n",
    "print(\"Гипотеза может быть принята, если уровень значимости не более:\", a_max)"
   ]
  },
  {
   "cell_type": "markdown",
   "metadata": {},
   "source": [
    "#### g) Построить критерий значимости $\\chi^2$ проверки сложной гипотезы согласия из двухпараметрического семейства распредлений Лапласа. Проверить гипотезу на уровне значимости $\\alpha_1 = 0.1$. Вычислить наибольшее значение уровня значимости, на котором еще нет оснований отвергнуть данную гипотезу."
   ]
  },
  {
   "cell_type": "markdown",
   "metadata": {},
   "source": [
    "$\\alpha_2 = 0.1$\n",
    "\n",
    "Необходимо минимизировать $\\mathcal{X}^2 $, подбирая параметры $(a, \\sigma)$\n",
    "\n",
    "$\\mathcal{X}^2 = \\sum_{i=0}^{r} \\cfrac{(n_k - np_k)^2}{np_k} \\rightarrow \\mathcal{X}^2 _{r-d-1}, d = dim(a, \\sigma) = 2, r = 6 - $количество интервалов. \n",
    "\n",
    "Объединим интервалы, чтобы в каждом было не менее 5 элементов\n",
    "\n",
    "$I_1 = (-\\infty, -13], \\; n_1 = 5$\n",
    "\n",
    "$I_2 = (-13, -5], \\; n_2 = 9$\n",
    "\n",
    "$I_3 = (-5, -1], \\; n_3 = 10$\n",
    "\n",
    "$I_{4} = (-1, 3], \\; n_{4} = 5$\n",
    "\n",
    "$I_{5} = (3, 11], \\; n_{5} = 13$\n",
    "\n",
    "$I_{6} = (11, +\\infty), \\; n_{6} = 8$"
   ]
  },
  {
   "cell_type": "code",
   "execution_count": 1180,
   "metadata": {},
   "outputs": [
    {
     "name": "stdout",
     "output_type": "stream",
     "text": [
      "Значение параметров = [-0.07050694  9.10773805]\n",
      "Значение X^2 = 3.5646650079624846\n",
      "Квантиль x_a = 6.251388631170325\n"
     ]
    }
   ],
   "source": [
    "def min_sum(args):\n",
    "\n",
    "    arr = np.array([-13, -5,  -1,  3,  11])\n",
    "    res = np.zeros(len(arr) + 1)\n",
    "\n",
    "    res[0] = stats.laplace.cdf(arr[0], args[0], args[1])\n",
    "    \n",
    "    for i in range(1, len(arr)):\n",
    "        res[i] = stats.laplace.cdf(arr[i], args[0], args[1]) - stats.laplace.cdf(arr[i-1], args[0], args[1])\n",
    "        \n",
    "    res[len(arr)] = 1 - stats.laplace.cdf(arr[-1], args[0], args[1])\n",
    "\n",
    "    v = np.array([5, 9, 10, 5, 13, 8])\n",
    "    ans = ((v - 50 * res) ** 2) / (50 * res)\n",
    "    return np.sum(ans)\n",
    "\n",
    "result = scipy.optimize.minimize(min_sum, (0, 10))\n",
    "\n",
    "print(\"Значение параметров =\", result.x)\n",
    "print(\"Значение X^2 =\", result.fun)\n",
    "\n",
    "func = stats.chi2(3)\n",
    "fx = 0.9\n",
    "x_a = func.ppf(fx)\n",
    "\n",
    "print(\"Квантиль x_a =\", x_a)"
   ]
  },
  {
   "cell_type": "markdown",
   "metadata": {},
   "source": [
    "\n",
    "$ x_{a} : \\mathcal{K}_{r-d-1}(x_a) = \\mathcal{K}_{6}(x_a) = 1 - \\alpha_1 = 1 - 0.1 = 0.9$\n",
    "\n",
    "$\\mathcal{X}^2 < x_\\alpha \\Rightarrow$ принимаем $H_0$ \n",
    "\n",
    "Найдём наибольшее значение уровня значимости, на котором нет оснований отвергнуть гипотезу."
   ]
  },
  {
   "cell_type": "code",
   "execution_count": 1181,
   "metadata": {},
   "outputs": [
    {
     "name": "stdout",
     "output_type": "stream",
     "text": [
      "Гипотеза может быть принята, если уровень значимости не более: 0.3124716227364691\n"
     ]
    }
   ],
   "source": [
    "Xi2 = 3.5646650079624846\n",
    "r = 6\n",
    "a_max = 1 - chi2.cdf(Xi2, r - 2 - 1)\n",
    "print(\"Гипотеза может быть принята, если уровень значимости не более:\", a_max)"
   ]
  },
  {
   "attachments": {},
   "cell_type": "markdown",
   "metadata": {},
   "source": [
    "## Выводы\n",
    "\n",
    "В ходе данной лабораторной работы были освоены основные теоретические положения статистического анализа данных. Изучено применение выборочных числовых характеристик, таких как математическое ожидание, дисперсия, коэффициент асимметрии и эксцесса. Получены навыки работы с оценкой максимального правдоподобия (ОМП) и оценкой метода моментов (ОММ).\n",
    "Также изучены асимптотические доверительные интервалы, основанные на асимптотической нормальности оценок и информации Фишера. Рассмотрены критерии Хи-квадрат для проверки гипотез о распределении данных. Ознакомление с теоремой Колмогорова предоставило возможность использования метода проверки гипотезы о совпадении эмпирической и теоретической функций распределения. В результате работы также усвоены принципы построения наиболее мощного критерия для простых гипотез на основе статистики отношения правдоподобия. Получены навыки реализации методов с использованием прикладных программных пакетов."
   ]
  }
 ],
 "metadata": {
  "kernelspec": {
   "display_name": "Python 3",
   "language": "python",
   "name": "python3"
  },
  "language_info": {
   "codemirror_mode": {
    "name": "ipython",
    "version": 3
   },
   "file_extension": ".py",
   "mimetype": "text/x-python",
   "name": "python",
   "nbconvert_exporter": "python",
   "pygments_lexer": "ipython3",
   "version": "3.9.13"
  }
 },
 "nbformat": 4,
 "nbformat_minor": 4
}
