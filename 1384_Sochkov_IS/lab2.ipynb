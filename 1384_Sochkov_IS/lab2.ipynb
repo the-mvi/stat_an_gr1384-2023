{
 "cells": [
  {
   "cell_type": "markdown",
   "id": "08d04555-1ddc-4358-a6df-7e2c172f4f5b",
   "metadata": {},
   "source": [
    "# Лабораторная работа №2: Классические методы математической статистики\n",
    "Выполнил студент гр. 1384 Сочков Илья. Вариант №15"
   ]
  },
  {
   "cell_type": "markdown",
   "id": "fad4d2b1-7874-4400-9cb3-c3e438d40906",
   "metadata": {},
   "source": [
    "## Цель работы\n",
    "Научиться применять методы математической статистики для визуализации и анализа полученных данных; сформировать навыки реализации методов с помощью прикладных программных пакетов."
   ]
  },
  {
   "cell_type": "markdown",
   "id": "a6b03412-036e-45b7-b8c6-9257b3f0e9ee",
   "metadata": {},
   "source": [
    "## Основные теоретические положения\n",
    "\n",
    "**Выборочный аналог математического ожидания - выборочное среднее:**\n",
    "$$\\overline{X} =\\frac{1}{n}\\sum_{i=1}^{n}x_i$$\n",
    "\n",
    "**Выборочный аналог дисперсии и СКО - выборочную дисперсию и выборочное СКО:**\n",
    "$$S^2 =\\frac{1}{n}\\sum_{i=1}^{n}\\left(x_i-\\overline{X}\\right)$$\n",
    "\n",
    "$$S=\\sqrt{S^2}$$\n",
    "\n",
    "\n",
    "\n",
    "**Выборочный коэффициент асимметрии:**\n",
    "$$\\widehat{\\mathrm{Skew}}X=\\frac{1}{n}\\frac{\\sum \\limits_{i=1}^{n}\\left(x_i-\\overline{X}\\right)^3}{S^3}$$\n",
    "\n",
    "**Выборочный коэффициент эксцесса:**\n",
    "$$\\widehat{\\mathrm{Kurt}}X=\\frac{1}{n}\\frac{\\sum \\limits_{i=1}^{n}\\left(x_i-\\overline{X}\\right)^4}{S^4}-3$$\n",
    "\n",
    "**Метод максимального правдоподобия** - это метод оценивания неизвестного параметра путём максимизации функции правдоподобия\n",
    " $$L(\\overrightarrow{X},\\theta)=\\prod_{i=1}^{n}P_{\\theta}(X_{i})$$\n",
    "\n",
    "**Метод моментов** — метод оценки неизвестных параметров распределений, идея метода заключается в замене истинных соотношений выборочными аналогами.\n",
    "\n",
    "**Статистика критерия Колмагорова:**\n",
    "$$D_n = sup_{x \\in \\mathbb{R}}|F_n(x) - F_0(x)|$$\n",
    "\n",
    "**Теорема Колмагорова:**\n",
    "\n",
    "$\\sqrt{n}D_n \\rightarrow K$, при основной гипотезе\n",
    "\n",
    "**Наиболее мощный критерий:**\n",
    "\n",
    "$$ \\phi(x) =\\left\\{\n",
    "  \\begin{array}{l}\n",
    "    1, LR(x) > с \\\\\n",
    "    p, LR(x) = с \\\\\n",
    "    0, LR(x) < с \\\\\n",
    "  \\end{array}\\right.$$"
   ]
  },
  {
   "cell_type": "markdown",
   "id": "5c46c4b3-d5ac-4af7-8df6-5494560116bf",
   "metadata": {},
   "source": [
    "## Постановка задачи\n",
    "Для полученных в результате эксперимента наборов данных выполнить статистическую обработку. Полученные результаты содержательно проинтерпретировать.\n",
    "### 1 задание\n",
    "В результате эксперимента получены данные, приведенные в таблице 1. <br>\n",
    "a) Построить вариационный ряд, эмпирическую функцию распределения и гистограмму частот. <br>\n",
    "b) Вычислить выборочные аналоги следующих числовых характеристик: <br>\n",
    "    &emsp;(i) математического ожидания;\n",
    "    (ii) дисперсии;\n",
    "    (iii) СКО;\n",
    "    (iv) медианы;\n",
    "    (v) асимметрии;\n",
    "    (vi) эксцесса;\n",
    "    (vii) вероятности $\\mathbb{P}(X\\in[a,b])$.<br>\n",
    "c) В предположении, что исходные наблюдения являются выборкой из распределения Пуассона, построить оценку максимального правдоподобия параметра $\\lambda$, а также оценку $\\lambda$ по методу моментов. Найти смещение оценок.<br>\n",
    "d) Построить асимптотический доверительный интервал уровня значимости  $\\alpha_{1}$ для параметра $\\lambda$ на базе оценки максимального правдоподобия.<br>\n",
    "e) Используя гистограмму частот, построить критерий значимости $\\chi^2$ проверки пустой гипотезы согласия с распределением Пуассона с параметром $\\lambda_{0}$. Проверить гипотезу на уровне значимости $\\alpha_{1}$. Вычислить наибольшее значение уровня значимости, на котором ещё нет оснований отвергнуть данную гипотезу.<br>\n",
    "f) Построить критерий значимости $\\chi^2$ проверки сложной гипотезы согласия с распределением Пуассона. Проверить гипотезу на уровне значимости $\\alpha_{1}$. Вычислить наибольшее значение уровня значимости, на котором ещё нет оснований отвергнуть данную гипотезу.<br>\n",
    "g) Построить наиболее мощный критерий проверки простой гипотезы пуассоновсти с параметром  $\\lambda=\\lambda_{0}$ при альтернативе пуассоновости с параметром $\\lambda=\\lambda_{1}$. Проверить гипотезу на уровне значимости $\\alpha_{1}$. Что получится, если поменять местами основную и альтернативную гипотезы?<br>\n",
    "h) В пунктах (c)-(f) заменить семейтсво распределений Пуассона на семейство геометрических распределений:<br>\n",
    "$$\\mathbb{P}_{\\lambda}(X=k)=\\frac{\\lambda^k}{(\\lambda+1)^{k+1}}, k\\in\\mathbb{Z}_{+}$$\n",
    "#### Таблица 1.\n",
    "$\\alpha_{1}$ = 0.20; $a$ = 3.90; $b$ = 8.29; $\\lambda_{0}$ = 6.00; $\\lambda_{1}$ = 4.00 <br>\n",
    "$9$, $0$, $6$, $29$, $9$, $4$, $5$, $0$, $12$, $24$, $2$, $9$, $7$, $0$, $9$, $8$, $0$, $3$, $8$, $5$, $6$, $2$, $2$, $19$,\n",
    "$0$, $0$, $1$, $11$, $0$, $0$, $8$, $1$, $5$, $1$, $7$, $2$, $8$, $0$, $0$, $1$, $0$, $0$, $2$, $0$, $0$, $6$, $0$, $9$, $4$, $9$\n",
    "\n",
    "### 2 задание\n",
    "В результате эксперимента получены данные, приведенные в таблице 2. <br>\n",
    "a) Построить вариационный ряд, эмпирическую функцию распределения, гистограмму и полигон частот с шагом $h$. <br>\n",
    "b) Вычислить выборочные аналоги следующих числовых характеристик: <br>\n",
    "    &emsp;(i) математического ожидания;\n",
    "    (ii) дисперсии;\n",
    "    (iii) СКО;\n",
    "    (iv) медианы;\n",
    "    (v) асимметрии;\n",
    "    (vi) эксцесса;\n",
    "    (vii) вероятности $\\mathbb{P}(X\\in[c,d])$.<br>\n",
    "c) В предположении, что исходные наблюдения являются выборкой из показательного распределения, построить оценку максимального правдоподобия параметра $\\lambda$ и соответствующую оценку по методу моментов. Найти смещение оценок.<br>\n",
    "d) Построить асимптотический доверительный интервал уровня значимости  $\\alpha_{2}$ для параметра $\\lambda$ на базе оценки максимального правдоподобия.<br>\n",
    "e) С использованием теоремы Колмогорова построить критерий значимости проверки пустой гипотезы согласия с показательным распределением с параметром $\\lambda_{0}$. Проверить гипотезу на уровне значимости $\\alpha_{2}$. Вычислить наибольшее значение уровня значимости, на котором ещё нет оснований отвергнуть данную гипотезу.<br>\n",
    "f) Используя гистограмму частот, построить критерий значимости $\\chi^2$ проверки простой гипотезы согласия с показательным распределением с параметром $\\lambda_{0}$. Проверить гипотезу на уровне значимости $\\alpha_{2}$. Вычислить наибольшее значение уровня значимости, на котором ещё нет оснований отвергнуть данную гипотезу.<br>\n",
    "g) Построить критерий значимости $\\chi^2$ проверки сложной гипотезы согласия с показательным распределением. Проверить гипотезу на уровне значимости $\\alpha_{2}$. Вычислить наибольшее значение уровня значимости, на котором ещё нет оснований отвергнуть данную гипотезу.<br>\n",
    "h) Построить наиболее мощный критерий проверки простой гипотезы о показательности с параметром  $\\lambda=\\lambda_{0}$ при альтернативе показательности с параметром $\\lambda=\\lambda_{1}$. Проверить гипотезу на уровне значимости $\\alpha_{2}$. Что получится, если поменять местами основную и альтернативную гипотезы?<br>\n",
    "i) В пунктах (c)-(h) заменить семейтсво показательных распределений на семейство гамма-распределений с плотностями:\n",
    "$p_{\\lambda}(x)=\\frac{\\sqrt{\\lambda}exp(-\\lambda x/2)}{\\sqrt{2\\pi x}}$ (использовать таблицу распределений $\\chi^2_{1}$)<br>\n",
    "#### Таблица 2.\n",
    "$\\alpha_{2}$ = 0.10; $c$ = 0.00; $d$ = 8.45; $h$ = 1.90; $\\lambda_{0}$ = 0.13, $\\lambda_{1}$ = 0.25 <br>\n",
    "$0.00$, $3.32$, $1.63$, $4.37$, $0.41$, $2.84$, $0.00$, $8.97$, $0.12$, $0.80$, $0.08$, $4.80$, $3.65$, $0.82$, $1.09$, $0.56$, $3.87$, $4.57$, $14.78$, $0.06$, $1.85$, $1.45$, $1.45$, $0.04$,\n",
    "$0.53$, $26.07$, $2.19$, $8.53$, $18.77$, $9.69$, $0.01$, $7.05$, $5.50$, $7.22$, $0.95$, $0.12$, $15.05$, $3.65$, $6.55$, $1.68$, $0.01$, $4.20$, $0.40$, $9.53$, $1.69$, $0.94$, $0.80$, $1.58$, $0.89$, $0.12$"
   ]
  },
  {
   "cell_type": "markdown",
   "id": "2ea0a895-b8aa-461b-8135-5388bbb783f2",
   "metadata": {},
   "source": [
    "## Выполнение работы"
   ]
  },
  {
   "cell_type": "code",
   "execution_count": 21,
   "id": "f8ec9cc0-0dcd-4902-ae12-e66c2b7d9de5",
   "metadata": {},
   "outputs": [],
   "source": [
    "import numpy as np\n",
    "import matplotlib.pyplot as plt\n",
    "from scipy import stats\n",
    "import math"
   ]
  },
  {
   "cell_type": "markdown",
   "id": "27d85b3f-ef2f-4ef8-94b3-ecb3c9e8f742",
   "metadata": {},
   "source": [
    "### 1 задание"
   ]
  },
  {
   "cell_type": "markdown",
   "id": "fbff9142-71a6-4a0a-8914-2b73bf207b53",
   "metadata": {},
   "source": [
    "**a) Построить вариационный ряд, эмпирическую функцию распределения и гистограмму частот.**<br>\n",
    "**Вариационный ряд** будет выглядеть следующим образом:\n",
    "($0$, $0$, $0$, $0$, $0$, $0$, $0$, $0$, $0$, $0$, $0$, $0$, $0$, $0$, $0$, $1$, $1$, \n",
    "$1$, $1$, $2$, $2$, $2$, $2$, $2$, $3$, $4$, $4$, $5$, $5$, $5$, $6$, $6$, $6$, $7$, \n",
    "$7$, $8$, $8$, $8$, $8$, $9$, $9$, $9$, $9$, $9$, $9$, $11$, $12$, $19$, $24$, $29$)<br>\n",
    "**Эмпирическая функция распределения**\r",
    "| Значение    | 0               | 1              | 2              | 3              | 4              | 5              | 6              | 7              | 8              | 9              | 11             | 12             | 19             | 24             | 29             |\r\n",
    "|-------------|-----------------|----------------|----------------|----------------|----------------|----------------|----------------|----------------|----------------|----------------|----------------|----------------|----------------|----------------|----------------|\r\n",
    "| Вероятность | $\\frac{15}{50}$ | $\\frac{4}{50}$ | $\\frac{5}{50}$ | $\\frac{1}{50}$ | $\\frac{2}{50}$ | $\\frac{3}{50}$ | $\\frac{3}{50}$ | $\\frac{2}{50}$ | $\\frac{4}{50}$ | $\\frac{6}{50}$ | $\\frac{1}{50}$ | $\\frac{1}{50}$ | $\\frac{1}{50}$ | $\\frac{1}{50}$ | $\\frac{1}{50}$ | | | | |ость|"
   ]
  },
  {
   "cell_type": "markdown",
   "id": "2e01adca-9397-46f8-95b9-f50538e38843",
   "metadata": {},
   "source": [
    "$F_{n}(x) = \\begin{cases}\n",
    "  0, & \\text{ если } x \\leq 0 \\\\\n",
    "  \\frac{15}{50}, & \\text{ если } 0 < x \\leq 1 \\\\\n",
    "  \\frac{19}{50}, & \\text{ если } 1 < x \\leq 2 \\\\\n",
    "  \\frac{24}{50}, & \\text{ если } 2 < x \\leq 3 \\\\\n",
    "  \\frac{25}{50}, & \\text{ если } 3 < x \\leq 4 \\\\\n",
    "  \\frac{27}{50}, & \\text{ если } 4 < x \\leq 5 \\\\\n",
    "  \\frac{30}{50}, & \\text{ если } 5 < x \\leq 6 \\\\\n",
    "  \\frac{33}{50}, & \\text{ если } 6 < x \\leq 7 \\\\\n",
    "  \\frac{35}{50}, & \\text{ если } 7 < x \\leq 8 \\\\\n",
    "  \\frac{39}{50}, & \\text{ если } 8 < x \\leq 9 \\\\\n",
    "  \\frac{45}{50}, & \\text{ если } 9 < x \\leq 11 \\\\\n",
    "  \\frac{46}{50}, & \\text{ если } 11 < x \\leq 12 \\\\\n",
    "  \\frac{47}{50}, & \\text{ если } 12 < x \\leq 19 \\\\\n",
    "  \\frac{48}{50}, & \\text{ если } 19 < x \\leq 24 \\\\\n",
    "  \\frac{49}{50}, & \\text{ если } 24 < x \\leq 29 \\\\\n",
    "  1, & \\text{ если } x \\geq 29\n",
    "\\end{cases}$<br>"
   ]
  },
  {
   "cell_type": "code",
   "execution_count": 32,
   "id": "c8ebcbc2-9059-41c2-8cac-12f288fc0f11",
   "metadata": {},
   "outputs": [
    {
     "data": {
      "image/png": "[encoded data removed]",
      "text/plain": [
       "<Figure size 640x480 with 1 Axes>"
      ]
     },
     "metadata": {},
     "output_type": "display_data"
    }
   ],
   "source": [
    "data_1 = [9, 0, 6, 29, 9, 4, 5, 0, 12, 24, 2, 9, 7, 0, 9, 8, 0, 3, 8, 5, 6, 2, 2, 19, 0, 0, 1, 11, 0, 0, 8, 1, 5, 1, 7, 2, 8, 0, 0, 1, 0, 0, 2, 0, 0, 6, 0, 9, 4, 9]\n",
    "\n",
    "sort_data_1 = np.sort(data_1);\n",
    "plt.title('Вариационный ряд')\n",
    "plt.xlabel('Наблюдения')\n",
    "plt.ylabel('Величина')\n",
    "plt.plot(sort_data_1,  marker='o')\n",
    "plt.show()"
   ]
  },
  {
   "cell_type": "code",
   "execution_count": 34,
   "id": "17df46a9-e4bd-4af9-a64c-61c5d541b661",
   "metadata": {},
   "outputs": [
    {
     "data": {
      "image/png": "[encoded data removed]",
      "text/plain": [
       "<Figure size 640x480 with 1 Axes>"
      ]
     },
     "metadata": {},
     "output_type": "display_data"
    }
   ],
   "source": [
    "# Сортировка данных\n",
    "sorted_data = np.sort(data_1)\n",
    "\n",
    "# Вычисление эмпирической функции распределения\n",
    "ecdf = np.arange(1, len(sorted_data) + 1) / len(sorted_data)\n",
    "\n",
    "# Отрисовка графика\n",
    "plt.step(sorted_data, ecdf, where='post', label='Эмпирическая функция распределения')\n",
    "plt.xlabel('Значение')\n",
    "plt.ylabel('Вероятность')\n",
    "plt.title('Эмпирическая функция распределения')\n",
    "plt.legend()\n",
    "plt.show()"
   ]
  },
  {
   "cell_type": "code",
   "execution_count": 35,
   "id": "8a9c9351-3269-44d1-a9ff-7b893156bf1a",
   "metadata": {},
   "outputs": [
    {
     "name": "stdout",
     "output_type": "stream",
     "text": [
      "[9, 0, 6, 29, 9, 4, 5, 0, 12, 24, 2, 9, 7, 0, 9, 8, 0, 3, 8, 5, 6, 2, 2, 19, 0, 0, 1, 11, 0, 0, 8, 1, 5, 1, 7, 2, 8, 0, 0, 1, 0, 0, 2, 0, 0, 6, 0, 9, 4, 9]\n"
     ]
    },
    {
     "data": {
      "image/png": "[encoded data removed]",
      "text/plain": [
       "<Figure size 640x480 with 1 Axes>"
      ]
     },
     "metadata": {},
     "output_type": "display_data"
    }
   ],
   "source": [
    "bins = np.arange(min(data_1), max(data_1))\n",
    "plt.hist(data_1, bins=bins, edgecolor='black', label='Гистограмма')\n",
    "plt.title(\"Гистограмма и полигон частот\")\n",
    "plt.xlabel(\"Интервалы\")\n",
    "plt.ylabel(\"Частота\")\n",
    "\n",
    "hist, _ = np.histogram(data_1, bins=bins)\n",
    "bin_centers = 0.5 * (bins[1:] + bins[:-1])\n",
    "plt.plot(bin_centers, hist, color='red', marker='o', linestyle='-', label='Полигон')\n",
    "plt.legend()\n",
    "plt.show()"
   ]
  },
  {
   "cell_type": "markdown",
   "id": "39b61910-6edd-4955-a121-784b6cb7648d",
   "metadata": {},
   "source": [
    "**b) Вычислить выборочные аналоги следующих числовых характеристик:** <br>\n",
    "    (i) математическое ожидание: $\\overline X = \\frac{1}{n}\\sum\\limits_{i=1}^n x_i = \\frac{1}{50}(15 \\cdot 0 + 4 \\cdot 1 + 5 \\cdot 2 + 3 + 2 \\cdot 4 + 3 \\cdot 5 + 3 \\cdot 6 + 2 \\cdot 7 + 4 \\cdot 8 + 6 \\cdot 9 + 11 + 12 + 19 + 24 + 29) = 5.06$;<br>\n",
    "    (ii) дисперсия: $s^2 = \\frac{1}{n}\\sum\\limits_{i=1}^n (x_i - \\overline X)^2 = \\overline {X^2} - (\\bar X)^2 = \\frac{1}{50}(15 \\cdot 0^2 + 4 \\cdot 1^2 + 5 \\cdot 2^2 + 3^2 + 2 \\cdot 4^2 + 3 \\cdot 5^2 + 3 \\cdot 6^2 + 2 \\cdot 7^2 + 4 \\cdot 8^2 + 6 \\cdot 9^2 + 11^2 + 12^2 + 19^2 + 24^2 + 29^2) - 5.06^2 \\approx$<br>$ \\approx 37.016$;<br>\n",
    "    (iii) СКО $s = \\sqrt{s^2} = \\sqrt{37.016} \\approx 6.084$;<br>\n",
    "    (iv) медиана: так как $np \\in \\mathbb Z$, то $Z_{50,1/2} = [X_{50 \\cdot \\frac{1}{2}}, X_{50 \\cdot \\frac{1}{2}+1}) = [X_{25}, X_{26}) = \\frac{1}{2} (3 + 4) = 3.5$; <br>\n",
    "    (v) асимметрия: $\\widehat{Skew X} = \\frac{\\sum\\limits_{i=1}^n (x_i-\\overline X)^3}{n\\cdot s^3} = \\frac{1}{50 \\cdot 6.084^3}(15 \\cdot (0-5.06)^3 + 4 \\cdot (1-5.06)^3 + 5 \\cdot (2-5.06)^3 + (3-5.06)^3 + 2 \\cdot (4-5.06)^3 + 3 \\cdot (5-5.06)^3 + 3 \\cdot (6-5.06)^3 + 2 \\cdot (7-5.06)^3$<br>$+ 4 \\cdot (8-5.06)^3 + 6 \\cdot (9-5.06)^3 + (11-5.06)^3 + (12-5.06)^3 + (19-5.06)^3 + (24-5.06)^3 + (29-5.06)^3) \\approx 1.9438$;<br>\n",
    "    (vi) эксцесс $\\widehat{Kurt X} = \\frac{\\sum\\limits_{i=1}^n (x_i-\\overline X)^4}{n\\cdot s^4} = \\frac{1}{50 \\cdot 6.084^4}(15 \\cdot (0-5.06)^4 + 4 \\cdot (1-5.06)^4 + 5 \\cdot (2-5.06)^4 + (3-5.06)^4 + 2 \\cdot (4-5.06)^4 + 3 \\cdot (5-5.06)^4 + 3 \\cdot (6-5.06)^4 + 2 \\cdot (7-5.06)^4$<br>$+ 4 \\cdot (8-5.06)^4 + 6 \\cdot (9-5.06)^4 + (11-5.06)^4 + (12-5.06)^4 + (19-5.06)^4 + (24-5.06)^4 + (29-5.06)^4) \\approx 4.4679$;<br>\n",
    "    (vii) вероятность $\\mathbb{P}(X\\in[3.90,8.29])$: тогда вероятность будет равна 0.28.<br>\n",
    "    "
   ]
  },
  {
   "cell_type": "code",
   "execution_count": 38,
   "id": "abe8ec40-a55e-4227-9851-1007cce79223",
   "metadata": {},
   "outputs": [
    {
     "name": "stdout",
     "output_type": "stream",
     "text": [
      "Мат.ожидание= 5.06\n",
      "Дисперсия= 37.0164\n",
      "Выборочное стандартное отклонение= 6.084110452646303\n",
      "Медиана= 3.5\n",
      "Асимметрия= 1.943755626492117\n",
      "Эксцесс= 4.467942797051575\n",
      "Вероятность попадания в промежуток= 0.28\n"
     ]
    }
   ],
   "source": [
    "mean = np.mean(data_1) # математическое ожидание\n",
    "var = np.var(data_1) # дисперсия\n",
    "std = np.std(data_1) # выборочное стандартное отклонение\n",
    "median = np.median(data_1) # медиана\n",
    "skewness = stats.skew(data_1)  # Асимметрия\n",
    "kurtosis = stats.kurtosis(data_1)  # Эксцесса\n",
    "c=3.90\n",
    "d = 8.29\n",
    "countIn = 0\n",
    "for x in data_1:\n",
    "    if(c<=x<=d):\n",
    "        countIn+=1\n",
    "probability = countIn/len(data_1)\n",
    "print(\"Мат.ожидание=\",mean)\n",
    "print(\"Дисперсия=\",var)\n",
    "print(\"Выборочное стандартное отклонение=\",std)\n",
    "print(\"Медиана=\",median)\n",
    "print(\"Асимметрия=\",skewness)\n",
    "print(\"Эксцесс=\",kurtosis)\n",
    "print(\"Вероятность попадания в промежуток=\",probability)"
   ]
  },
  {
   "cell_type": "markdown",
   "id": "f0081f47-c55a-4576-8012-563becba7cea",
   "metadata": {},
   "source": [
    "**c) В предположении, что исходные наблюдения являются выборкой из распределения Пуассона, построить оценку максимального правдоподобия параметра $\\lambda$, а также оценку $\\lambda$ по методу моментов. Найти смещение оценок.**<br>\n",
    "Плотность распределения Пуассона: $p_{\\lambda}(x)=\\frac{\\lambda^x}{x!}\\exp(-\\lambda)$<br>\n",
    "Функция максимального правдоподобия: $L(\\vec X, \\theta) = \\prod\\limits_{i=1}^n \\frac{\\lambda^{x_i}}{x_i!}\\exp(-\\lambda) = \\left(\\prod\\limits_{i=1}^n (x_i!)\\right)^{-1} \\cdot \\lambda^{\\sum\\limits_{i=1}^n x_i} \\cdot \\exp\\left(-n\\lambda\\right)$<br>\n",
    "Логарифмируем функцию максимального правдоподобия: $LL(\\vec X, \\theta) = -\\ln\\left(\\prod\\limits_{i=1}^n (x_i!)\\right) + \\sum\\limits_{i=1}^n x_i \\ln(\\lambda) -n\\lambda$<br>\n",
    "Находим производную по $\\lambda$: $\\frac{\\partial LL(\\vec X, \\theta)}{\\partial \\lambda} = \\frac{1}{\\lambda}\\sum\\limits_{i=1}^n x_i - n = 0$;\n",
    "$\\lambda = \\frac{1}{n}\\sum\\limits_{i=1}^n x_i = \\overline X$<br>\n",
    "Оценка максимального правдоподобия $\\hat\\theta = \\hat\\lambda = \\overline X$. По методу моментов параметр $\\lambda=\\overline X$, так как $\\overline X$ - момент первого порядка.<br>\n",
    "Найдем смещение оценок. Рассмотрим функцию максимального правдоподобия: $L(\\vec X, \\theta) = \\left(\\prod\\limits_{i=1}^n (x_i!)\\right)^{-1} \\cdot \\lambda^{\\sum\\limits_{i=1}^n x_i} \\cdot \\exp\\left(-n\\lambda\\right)$<br>\n",
    "$g_{\\theta}(T)=\\lambda^{\\sum\\limits_{i=1}^n x_i} \\cdot \\exp\\left(-n\\lambda\\right); h(X)=\\left(\\prod\\limits_{i=1}^n (x_i!)\\right)^{-1}$;<br>\n",
    "Тогда $T=\\sum\\limits_{i=1}^n x_i$ - минимальная достаточная статистика. Так как плотность принадлежит экспоненциальному семейству, то $T=\\sum\\limits_{i=1}^n x_i$ - полная достаточная статистика.<br>\n",
    "$\\mathbb E_{\\theta} \\hat\\theta=\\frac{1}{n}\\mathbb E_{\\theta}\\left(\\sum\\limits_{i=1}^n (x_i)\\right) = \\frac{1}{n}\\sum\\limits_{i=1}^n \\left(\\mathbb E(x_i)\\right)=\\frac{1}{n}\\sum\\limits_{i=1}^n\\lambda = \\lambda$ - несмещенная оценка. Тогда $\\hat\\theta = \\lambda = \\overline X$ -НРМД оценка."
   ]
  },
  {
   "cell_type": "markdown",
   "id": "82cd5f44-7bbd-4920-8dab-291a0832c1dd",
   "metadata": {},
   "source": [
    "**d) Построить асимптотический доверительный интервал уровня значимости  $\\alpha_{1}$ для параметра $\\lambda$ на базе оценки максимального правдоподобия.**<br>\n",
    "$\\alpha_1 = 0.2$<br>\n",
    "Плотность распределения Пуассона: $ q_{\\theta} = \\frac{\\lambda^x}{x!}e^{-\\lambda}$<br>\n",
    "ОМП: $\\widehat{\\theta} = \\widehat{\\lambda} = \\overline{X}$<br>\n",
    "Из пункта предыдущего пункта:\n",
    "$ \\frac{\\partial LL}{\\partial \\lambda} = \\frac{\\sum \\limits_{i=1}^{n}x_i}{\\lambda} - n$<br>\n",
    "$\\frac{\\partial^2 LL}{\\partial \\lambda^2} =  - \\frac{\\sum \\limits_{i=1}^{n}x_i}{\\lambda^2}$<br>\n",
    "$\\mathrm{I}_n(\\lambda) = - \\mathbb{E}_{\\theta}\\frac{\\partial^2 LL}{\\partial \\lambda^2} = \\frac{n}{\\lambda}$<br>\n",
    "$\\mathrm{I}(\\lambda) = \\lim \\limits_{n \\to \\infty} \\frac{1}{\\lambda} = \\frac{1}{\\lambda}$<br>\n",
    "\n",
    "Так как распределение симметричное:\n",
    "$x_{\\alpha} : \\mathrm{\\Phi}(x_{\\alpha}) = 1 - \\frac{\\alpha}{2} = 1 - \\frac{0.2}{2} = 0.9$, где $\\alpha = \\alpha_1 = 0.2$\n",
    "\n",
    "$\\mathrm{\\Phi}(x_{\\alpha}) = 0.9 \\Rightarrow x_{\\alpha} = 1.28 $ из таблицы значений функции Лапласа\n",
    "\n",
    "$\\left[\\overline{X} - \\sqrt{\\frac{\\overline{X}}{n}} \\cdot x_{\\alpha} , \\overline{X} + \\sqrt{\\frac{\\overline{X}}{n}} \\cdot x_{\\alpha}\\right] \\ni \\lambda$\n",
    "\n",
    "Таким образом, АДИ уровня значимости $\\alpha_1$ для параметра $\\lambda$:\n",
    "$\\left[4.65, 5.47\\right] \\ni \\lambda$"
   ]
  },
  {
   "cell_type": "code",
   "execution_count": 81,
   "id": "592a1206-1c2b-4a7c-b7e5-418ed64c504a",
   "metadata": {},
   "outputs": [
    {
     "name": "stdout",
     "output_type": "stream",
     "text": [
      "Асимптотический доверительный интервал:  [4.65, 5.47]\n"
     ]
    }
   ],
   "source": [
    "x_alpha = stats.norm.ppf(0.9)\n",
    "xMean = np.mean(data_1)\n",
    "adi = []\n",
    "left = xMean - x_alpha * ((xMean) / n)**0.5 #подсчёт левой границы АДИ\n",
    "adi.append(round(left, 2))\n",
    "right = xMean + x_alpha * (xMean / n)**0.5 #подсчёт правой границы АДИ\n",
    "adi.append(round(right,2))\n",
    "print(\"Асимптотический доверительный интервал: \", adi)"
   ]
  },
  {
   "cell_type": "markdown",
   "id": "6bb8dbbc-53d1-4504-b60b-a1002e7b5a1c",
   "metadata": {},
   "source": [
    "**e) Используя гистограмму частот, построить критерий значимости $\\chi^2$ проверки пустой гипотезы согласия с распределением Пуассона с параметром $\\lambda_{0}=6$. Проверить гипотезу на уровне значимости $\\alpha_{1}=0.2$. Вычислить наибольшее значение уровня значимости, на котором ещё нет оснований отвергнуть данную гипотезу.**<br>\n",
    "Расммотрим $\\mathbb{P}_{k} = \\mathbb{P}_{\\theta}\\left(x_i \\in G_k\\right) = \\sum \\limits_{x \\in G_k} q_{\\theta}(x)$"
   ]
  },
  {
   "cell_type": "code",
   "execution_count": 87,
   "id": "c25e8795-5a6c-41a6-94b0-de38435e3070",
   "metadata": {},
   "outputs": [
    {
     "name": "stdout",
     "output_type": "stream",
     "text": [
      "Значения вероятностей: [0.0024787521766663585, 0.014872513059998151, 0.044617539179994455, 0.08923507835998891, 0.13385261753998337, 0.16062314104798003, 0.16062314104798003, 0.13767697804112575, 0.1032577335308443, 0.06883848902056287, 0.04130309341233772, 0.0225289600430933, 0.01126448002154665, 0.005198990779175377, 0.002228138905360876]\n",
      "1831.26\n",
      "x_alpha_1 равен: 18.150770562408503\n",
      "p-value =  0.19999999999999962\n"
     ]
    }
   ],
   "source": [
    "lambda_0 = 6\n",
    "# Преобразование в множество для удаления повторяющихся элементов\n",
    "unique_numbers_set = set(data_1)\n",
    "unique_numbers_list = list(unique_numbers_set)\n",
    "exp_lambda = math.exp(-lambda_0)\n",
    "\n",
    "count = []\n",
    "P_e = []\n",
    "\n",
    "# Высчитываем количество чисел и вероятностей\n",
    "for i in range (len(unique_numbers_list)):\n",
    "    count.append(data_1.count(unique_numbers_list[i]))\n",
    "    P_e.append((lambda_0**i / math.factorial(i)) * exp_lambda)\n",
    "\n",
    "print(\"Значения вероятностей:\", P_e)\n",
    "\n",
    "#вычисление критерия хи квадрат\n",
    "chi = 0\n",
    "for j in range(len(count)):\n",
    "    chi += ((count[j] - n*P_e[j])**2) / (n*P_e[j])\n",
    "print(round(chi, 2))\n",
    "print(\"x_alpha_1 равен:\", stats.chi2.ppf(1 - 0.2, df = 15-1))\n",
    "print('p-value = ', 1 - stats.chi2.cdf(stats.chi2.ppf(1 - 0.2, df = 15-1), 14))"
   ]
  },
  {
   "cell_type": "markdown",
   "id": "c0e2e18e-8097-49cc-b58a-624d4e0fe315",
   "metadata": {},
   "source": [
    "Из таблицы: $\\chi_{k-1, \\alpha_1}^2 = \\chi_{14, 0.2}^2 = 18.151$<br>\n",
    "Получили: $\\chi^2 = 1831.26$<br>\n",
    "Так как $\\chi^2 > \\chi_{14, 0.2}^2$, то гипотезу отвергаем"
   ]
  },
  {
   "cell_type": "code",
   "execution_count": 62,
   "id": "3d42b235-c968-4630-b2bb-39a4d0719ef9",
   "metadata": {},
   "outputs": [
    {
     "name": "stdout",
     "output_type": "stream",
     "text": [
      "0\n"
     ]
    }
   ],
   "source": [
    "xi_2 = 1937256502.45\n",
    "max_alpha = 0\n",
    "for i in range(1, 10000):\n",
    "    if (xi_2 <= stats.chi2.ppf(1 - i/10000, 14)):\n",
    "        max_alpha = i/10000\n",
    "print(max_alpha)"
   ]
  },
  {
   "cell_type": "markdown",
   "id": "98c215de-5aab-4d2f-9f9b-a4d06e2799ff",
   "metadata": {},
   "source": [
    "Наибольшее значение уровня значимости, при котором нет еще оснований отвергнуть стремится к нулю."
   ]
  },
  {
   "cell_type": "markdown",
   "id": "0607c12b-a040-454b-907f-9978e9c8d406",
   "metadata": {},
   "source": [
    "**f) Построить критерий значимости $\\chi^2$ проверки сложной гипотезы согласия с распределением Пуассона. Проверить гипотезу на уровне значимости $\\alpha_{1}$. Вычислить наибольшее значение уровня значимости, на котором ещё нет оснований отвергнуть данную гипотезу.**<br>\n"
   ]
  },
  {
   "cell_type": "code",
   "execution_count": 96,
   "id": "cd8565cf-2716-4489-8673-d68a4e2ee081",
   "metadata": {},
   "outputs": [
    {
     "name": "stdout",
     "output_type": "stream",
     "text": [
      "Значения вероятностей: [0.006345559512909116, 0.032108531135320126, 0.08123458377235991, 0.13701566462938036, 0.17332481575616615, 0.17540471354524012, 0.14792464175648584, 0.10692838389825975, 0.06763220281564929, 0.038024327360798374, 0.019240309644563976, 0.008850542436499428, 0.0037319787273905917, 0.0014526009508151073, 0.0005250114865088887]\n",
      "763.05\n",
      "x_alpha_1 равен: 16.984797018243096\n",
      "p-value =  0.19999999999999996\n"
     ]
    }
   ],
   "source": [
    "exp_mean = math.exp(-mean)\n",
    "\n",
    "# Высчитываем количество чисел и вероятностей\n",
    "for i in range (len(unique_numbers_list)):\n",
    "    P_e[i] = (mean**i / math.factorial(i)) * exp_mean\n",
    "\n",
    "print(\"Значения вероятностей:\", P_e)\n",
    "\n",
    "#вычисление критерия хи квадрат\n",
    "chi = 0\n",
    "for j in range(len(count)):\n",
    "    chi += ((count[j] - n*P_e[j])**2) / (n*P_e[j])\n",
    "print(round(chi, 2))\n",
    "print(\"x_alpha_1 равен:\", stats.chi2.ppf(1 - 0.2, df = 15-2))\n",
    "print('p-value = ', 1 - stats.chi2.cdf(stats.chi2.ppf(1 - 0.2, df = 15-2), 13))"
   ]
  },
  {
   "cell_type": "markdown",
   "id": "035d447d-4b07-4a3b-aed5-bb3cd44907c7",
   "metadata": {},
   "source": [
    "Из таблицы: $\\chi_{k-2, \\alpha_1}^2 = \\chi_{13, 0.2}^2 = 16.984$<br>\n",
    "Получили: $\\chi^2 = 763.05$<br>\n",
    "Так как $\\chi^2 > \\chi_{13, 0.2}^2$, то гипотезу отвергаем"
   ]
  },
  {
   "cell_type": "code",
   "execution_count": 93,
   "id": "3cf41d20-0cec-42b3-bd3d-c3d3ad6c0951",
   "metadata": {},
   "outputs": [
    {
     "name": "stdout",
     "output_type": "stream",
     "text": [
      "0\n"
     ]
    }
   ],
   "source": [
    "xi_2 = 763.05\n",
    "max_alpha = 0\n",
    "for i in range(1, 10000):\n",
    "    if (xi_2 <= stats.chi2.ppf(1 - i/10000, 13)):\n",
    "        max_alpha = i/10000\n",
    "print(max_alpha)"
   ]
  },
  {
   "cell_type": "markdown",
   "id": "497b4283-ea5c-45b4-bda2-38eb9efdbd61",
   "metadata": {},
   "source": [
    "Наибольшее значение уровня значимости, при котором нет еще оснований отвергнуть стремится к нулю."
   ]
  },
  {
   "cell_type": "markdown",
   "id": "bf7d76c7-dab5-4d57-9a72-b2354c1d68c4",
   "metadata": {},
   "source": [
    "**g) Построить наиболее мощный критерий проверки простой гипотезы пуассоновсти с параметром  $\\lambda=\\lambda_{0}$ при альтернативе пуассоновости с параметром $\\lambda=\\lambda_{1}$. Проверить гипотезу на уровне значимости $\\alpha_{1}$. Что получится, если поменять местами основную и альтернативную гипотезы?**<br>\n"
   ]
  },
  {
   "cell_type": "markdown",
   "id": "0a0f1ec3-da6c-4a3b-b0cd-cd0f4cc313d7",
   "metadata": {},
   "source": [
    "$\\alpha_1 = 0.2, \\lambda_0 = 6, \\lambda_1 = 4$<br>\n",
    "Основная гипотеза: $H_{0}=\\lambda_{0}$<br>\n",
    "Альтернативная гипотеза: $H_{A}=\\lambda_{1}$<br>\n",
    "Статистическа правдоподобия:<br>\n",
    "$LR({X},\\lambda_{1},\\lambda_{0}) = \\frac{L\\left({X},\\lambda_{1} \\right)}{L\\left({X},\\lambda_{0} \\right)}= \\frac{\\lambda_{1}^{\\sum_{i=1}^{50}X_{i}}\\cdot exp(-n\\cdot \\lambda_{1})}{\\lambda_{0}^{\\sum_{i=1}^{50}X_{i}}\\cdot exp(-n\\cdot \\lambda_{0})}$<br>\n",
    "В силу монотонности статистики $LR(\\overrightarrow{X})$ относительно МДС = $\\overline{X}$<br>\n",
    "Cтатистическое отношение правдоподобия:<br>\n",
    "$\\frac{\\lambda_{1}^{\\sum_{i=1}^{n}X_{i}}\\cdot exp(-n\\cdot \\lambda_{1})}{\\lambda_{0}^{\\sum_{i=1}^{n}X_{i}}\\cdot exp(-n\\cdot \\lambda_{0})}\\gt c\n",
    " \\Rightarrow \\exp(-n(\\lambda_1 - \\lambda_0))\\left(\\frac{\\lambda_1}{\\lambda_0}\\right)^{\\sum_{i=1}^{n}{x_i}} \\gt c\n",
    " \\Rightarrow  \\ln\\frac{\\lambda_1}{\\lambda_0}\\sum_{i=1}^{n}{x_i} -n(\\lambda_1 - \\lambda_0) > \\ln c\n",
    " \\Rightarrow \\bar{X}\\gt c^* = \\frac{\\ln c + n(\\lambda_1 - \\lambda_0)}{n\\ln\\frac{\\lambda_1}{\\lambda_0}}$<br>\n",
    "$P_{\\lambda_0}\\left(LR(\\overrightarrow{X}) > c^*\\right) + pP_{\\lambda_0}\\left(n LR(\\overrightarrow{X}) = c^*\\right) = \\alpha_1$<br>\n",
    "$P_{\\lambda_0}\\left(n\\bar{X} > nc^*\\right) + pP_{\\lambda_0}\\left(n \\bar{X} = c^*\\right) = \\alpha_1$<br>\n",
    "Критерий не определен однозначно при $LR(\\overrightarrow{X}) = c$<br>\n",
    "Пусть $LR(\\overrightarrow{X}) \\neq c$<br>\n",
    "Тогда $P_{\\lambda_0}\\left(n\\bar{X} > nc^*\\right) = 1 - F_{Pois(n\\lambda_0)}\\left(nc^*\\right) = \\alpha_1 \\Rightarrow $ $F_{Pois(n\\lambda_0)}\\left(nc^*\\right) = 1 - \\alpha_1 = 1 - 0.2 = 0.8$<br>"
   ]
  },
  {
   "cell_type": "code",
   "execution_count": 102,
   "id": "d1d46176-fa2f-4d35-8ee9-c852e73efc1f",
   "metadata": {},
   "outputs": [
    {
     "name": "stdout",
     "output_type": "stream",
     "text": [
      "6.3\n"
     ]
    }
   ],
   "source": [
    "lambda_0 = 6\n",
    "n = len(data_1)\n",
    "print(stats.poisson.ppf(0.8, n*lambda_0) / n)"
   ]
  },
  {
   "cell_type": "markdown",
   "id": "e5f5d884-5f19-4e51-9eba-d05298a3db56",
   "metadata": {},
   "source": [
    "$c^* = 6.3$\n",
    "\n",
    "$c^* > \\bar{X} = 5.06 \\Rightarrow $ принимается $H_{0}$ гипотеза\n",
    "\n",
    "Меняем местами основную и альтернативную гипотезу:\n",
    "\n",
    "$H_{0}=\\lambda_{1}$, $H_{A}=\\lambda_{0}$\n",
    "\n",
    " $L(\\overrightarrow{X};\\lambda)=\\lambda^{\\sum_{i=1}^{n}X_{i}} \\cdot \\prod_{i=1}^{n}(X_{i}!)^{-1} \\cdot exp(-n\\cdot \\lambda)$ <br>\n",
    "\n",
    " Тогда статистика отношения правдоподобия: $LR(\\overrightarrow{X},\\lambda_{0},\\lambda_{1}) = \\frac{L\\left( \\overrightarrow{X},\\lambda_{0} \\right)}{L\\left( \\overrightarrow{X},\\lambda_{1} \\right)}= \\frac{\\lambda_{0}^{\\sum_{i=1}^{n}X_{i}}\\cdot exp(-n\\cdot \\lambda_{0})}{\\lambda_{1}^{\\sum_{i=1}^{n}X_{i}}\\cdot exp(-n\\cdot \\lambda_{1})}$\n",
    "\n",
    "В силу монотонности статистики $LR(\\overrightarrow{X})$ относительно МДС $\\bar{X}$:\n",
    "\n",
    " $\\frac{\\lambda_{0}^{\\sum_{i=1}^{n}X_{i}}\\cdot exp(-n\\cdot \\lambda_{0})}{\\lambda_{1}^{\\sum_{i=1}^{n}X_{i}}\\cdot exp(-n\\cdot \\lambda_{1})}\\gt c\n",
    " \\Rightarrow \\exp(-n(\\lambda_0 - \\lambda_1))\\left(\\frac{\\lambda_0}{\\lambda_1}\\right)^{\\sum_{i=1}^{n}{x_i}} \\gt c\n",
    " \\Rightarrow  \\ln\\frac{\\lambda_0}{\\lambda_1}\\sum_{i=1}^{n}{x_i} -n(\\lambda_0 - \\lambda_1) > \\ln c\n",
    " \\Rightarrow \\bar{X}\\gt c^* = \\frac{\\ln c + n(\\lambda_0 - \\lambda_1)}{n\\ln\\frac{\\lambda_0}{\\lambda_1}}$\n",
    "\n",
    "$P_{\\lambda_1}\\left(LR(\\overrightarrow{X}) > c^*\\right) + pP_{\\lambda_1}\\left(n LR(\\overrightarrow{X}) = c^*\\right) = \\alpha_1$\n",
    "\n",
    "$P_{\\lambda_1}\\left(n\\bar{X} > nc^*\\right) + pP_{\\lambda_1}\\left(n \\bar{X} = c^*\\right) = \\alpha_1$\n",
    "\n",
    "Пусть $LR(\\overrightarrow{X}) \\neq c$\n",
    "\n",
    "Тогда $P_{\\lambda_1}\\left(n\\bar{X} > nc^*\\right) = 1 - F_{Pois(n\\lambda_1)}\\left(nc^*\\right) = \\alpha_1 \\Rightarrow $ \n",
    "$F_{Pois(n\\lambda_1)}\\left(nc^*\\right) = 1 - \\alpha_1 = 1 - 0.2 = 0.8$"
   ]
  },
  {
   "cell_type": "code",
   "execution_count": 103,
   "id": "ea47eb32-80c1-426b-877c-d307a2d38631",
   "metadata": {},
   "outputs": [
    {
     "name": "stdout",
     "output_type": "stream",
     "text": [
      "4.24\n"
     ]
    }
   ],
   "source": [
    "lambda_1 = 4\n",
    "n = len(data_1)\n",
    "print(stats.poisson.ppf(0.8, n*lambda_1) / n)"
   ]
  },
  {
   "cell_type": "markdown",
   "id": "1a144c36-bad3-4b1a-8e7a-3546a861e216",
   "metadata": {},
   "source": [
    "$c^* = 4.24$\n",
    "$c^* < \\bar{X} = 5.06 \\Rightarrow $ отвергается $H_{1}$"
   ]
  },
  {
   "cell_type": "markdown",
   "id": "b5787508-eb86-4920-9f58-d5d03e068b6d",
   "metadata": {},
   "source": [
    "**h) В пунктах (c)-(f) заменить семейтсво распределений Пуассона на семейство геометрических распределений:**<br>\n",
    "$$\\mathbb{P}_{\\lambda}(X=k)=\\frac{\\lambda^k}{(\\lambda+1)^{k+1}}, k\\in\\mathbb{Z}_{+}$$\n",
    "\n",
    "**h.c) Построить оценку максимального правдоподобия параметра $\\lambda$, а также оценку $\\lambda$ по методу моментов. Найти смещение оценок.**<br>\n",
    "Плотность геометрического распределения: $p_{\\lambda}(x)=\\frac{\\lambda^x}{(\\lambda+1)^{x+1}}=q(1-q)^x$, где $q = \\frac{1}{\\lambda+1}$<br>\n",
    "Функция максимального правдоподобия: $L(\\vec X, \\theta) = \\prod\\limits_{i=1}^n \\frac{\\lambda^x}{(\\lambda+1)^{x+1}} = \\lambda^{\\sum\\limits_{i=1}^n x_i} \\cdot (\\lambda+1)^{-\\sum\\limits_{i=1}^n (x_i+1)}$<br>\n",
    "Логарифмируем функцию максимального правдоподобия: $LL(\\vec X, \\theta) = \\sum\\limits_{i=1}^n x_i \\ln(\\lambda)-\\sum\\limits_{i=1}^n (x_i+1) \\ln(\\lambda+1)$<br>\n",
    "Находим производную по $\\lambda$: $\\frac{\\partial LL(\\vec X, \\lambda)}{\\partial \\lambda} = \\frac{1}{\\lambda}\\sum\\limits_{i=1}^n x_i - \\frac{1}{\\lambda+1}\\sum\\limits_{i=1}^n (x_i+1) = 0$;\n",
    "$\\lambda = \\frac{1}{n}\\sum\\limits_{i=1}^n x_i = \\bar X$<br>\n",
    "Оценка максимального правдоподобия $\\hat\\theta = \\hat\\lambda = \\bar X$.<br>\n",
    "Оценка методом моментов:<br>\n",
    "$\\mathbb{E}X_1 = \\lambda$ - математическое ожидание (теоретическая величина)<br>\n",
    "$\\mathrm{M_1} = \\overline{X}$ - выборочное среднее (выборочная величина)<br>\n",
    "Следовательно, $\\widetilde{\\theta} = \\widetilde{\\lambda} = \\overline{X}$ - ОММ<br>\n",
    "Найдем смещение оценок. Рассмотрим функцию максимального правдоподобия: $L(\\vec X, \\theta) = \\lambda^{\\sum\\limits_{i=1}^n x_i} \\cdot (\\lambda+1)^{-\\sum\\limits_{i=1}^n (x_i+1)} = \\lambda^{\\sum\\limits_{i=1}^n x_i} \\cdot (\\lambda+1)^{-\\sum\\limits_{i=1}^n x_i + n}=g_{\\theta}(T)$;<br>\n",
    "Тогда $T=\\sum\\limits_{i=1}^n x_i$ - минимальная достаточная статистика. ПДС не знаю как доказывается<br>\n",
    "$\\mathbb E_{\\theta} \\hat\\theta=\\frac{1}{n}\\mathbb E_{\\theta}\\left(\\sum\\limits_{i=1}^n (x_i)\\right) = \\frac{1}{n}\\sum\\limits_{i=1}^n \\left(\\mathbb E(x_i)\\right)=\\frac{1}{n}\\sum\\limits_{i=1}^n \\frac{1-q}{q} = \\frac{1}{n}\\sum\\limits_{i=1}^n \\lambda = \\lambda$ - несмещенная оценка. Тогда $\\hat\\theta = \\lambda = \\bar X$ -НРМД оценка."
   ]
  },
  {
   "cell_type": "markdown",
   "id": "9cc3de05-6782-4971-969d-bcb80c243fa9",
   "metadata": {},
   "source": [
    "**h.d) Построить асимптотический доверительный интервал уровня значимости  $\\alpha_{1}$ для параметра $\\lambda$ на базе оценки максимального правдоподобия.**<br>\n",
    "Из предыдущего пункта: $\\widehat{\\lambda} = \\overline{X}$<br>\n",
    "$ \\frac{\\partial LL}{\\partial \\lambda} = \\frac{\\sum \\limits_{i = 1}^n x_i}{\\lambda} - \\frac{\\sum \\limits_{i = 1}^n x_i + n}{\\lambda + 1}$<br>\n",
    "$ \\frac{\\partial^2 LL}{\\partial \\lambda^2} = - \\frac{\\sum \\limits_{i = 1}^n x_i}{\\lambda^2} + \\frac{\\sum \\limits_{i = 1}^n x_i + n}{(\\lambda + 1)^2}$\n",
    "\n",
    " $\\mathrm{I}_n(\\lambda) = - \\mathbb{E}_{\\theta}\\frac{\\partial^2 LL}{\\partial \\lambda^2} = \\mathbb{E}_{\\theta}\\left(\\frac{\\sum \\limits_{i = 1}^n x_i}{\\lambda^2} - \\frac{\\sum \\limits_{i = 1}^n x_i + n}{(\\lambda + 1)^2}\\right) =  \\frac{n}{\\lambda} - \\frac{n(\\lambda - 1)}{(\\lambda + 1)^2}$\n",
    "\n",
    " $\\mathrm{I}(\\lambda) = \\lim \\limits_{n \\to \\infty}\\left(\\frac{1}{\\lambda} - \\frac{\\lambda - 1}{(\\lambda + 1)^2}\\right) = \\frac{3\\lambda + 1}{\\lambda(\\lambda + 1)^2}$\n",
    "\n",
    "Так как распределение симметричное:<br>\n",
    "$x_{\\alpha} : \\mathrm{\\Phi}(x_{\\alpha}) = 1 - \\frac{\\alpha}{2} = 1 - \\frac{0.2}{2} = 0.9$, где $\\alpha = \\alpha_1 = 0.2$<br>\n",
    "$\\mathrm{\\Phi}(x_{\\alpha}) = 0.9 \\Rightarrow x_{\\alpha} = 1.28$ из таблицы значений функции Лапласа.<br>\n",
    "\n",
    "Асимптотический доверительный интервал:\n",
    "$\\left[\\overline{X} - \\sqrt{\\frac{\\overline{X}}{n\\left(3\\overline{X}+1\\right)}} \\cdot x_{\\alpha} , \\overline{X} + \\sqrt{\\frac{\\overline{X}}{n\\left(3\\overline{X}+1\\right)}} \\cdot x_{\\alpha}\\right] \\ni \\lambda$\n",
    "\n",
    "Таким образом, АДИ уровня значимости $\\alpha_1$ для параметра $\\lambda$:\n",
    "$\\left[4.96,5.16\\right] \\ni \\lambda$"
   ]
  },
  {
   "cell_type": "code",
   "execution_count": 57,
   "id": "97b1696c-6d27-46ff-9630-22ab02f5f6dd",
   "metadata": {},
   "outputs": [
    {
     "name": "stdout",
     "output_type": "stream",
     "text": [
      "Асимптотический доверительный интервал:  [4.96, 5.16]\n"
     ]
    }
   ],
   "source": [
    "adi_2 = []\n",
    "\n",
    "left_2 = xMean - x_alpha * (xMean / (n*(3*xMean+1)))**0.5 #подсчёт левой границы АДИ\n",
    "adi_2.append(round(left_2, 2))\n",
    "\n",
    "right_2 = xMean + x_alpha * (xMean / (n*(3*xMean+1)))**0.5 #подсчёт правой границы АДИ\n",
    "adi_2.append(round(right_2, 2))\n",
    "\n",
    "print(\"Асимптотический доверительный интервал: \", adi_2)"
   ]
  },
  {
   "cell_type": "markdown",
   "id": "8e63b23b-a918-4f75-962b-4c356fb8c658",
   "metadata": {},
   "source": [
    "**h.e) Используя гистограмму частот, построить критерий значимости $\\chi^2$ проверки пустой гипотезы согласия с распределением Пуассона с параметром $\\lambda_{0}$. Проверить гипотезу на уровне значимости $\\alpha_{1}$. Вычислить наибольшее значение уровня значимости, на котором ещё нет оснований отвергнуть данную гипотезу.**<br>"
   ]
  },
  {
   "cell_type": "code",
   "execution_count": 60,
   "id": "749c8ffb-f0fc-4911-87c9-a056589e6cc9",
   "metadata": {},
   "outputs": [
    {
     "name": "stdout",
     "output_type": "stream",
     "text": [
      "Значения вероятностей: [0.14285714285714285, 0.12244897959183673, 0.10495626822157435, 0.08996251561849229, 0.0771107276729934, 0.06609490943399433, 0.05665277951485229, 0.048559525298444824, 0.041622450255809844, 0.0356763859335513, 0.026211222318527485, 0.02246676198730927, 0.007636827079678181, 0.0035332877593608337, 0.0016347263412143658]\n",
      "40.09\n",
      "x_alpha_1 равен: 18.150770562408503\n",
      "p-value =  0.19999999999999962\n"
     ]
    }
   ],
   "source": [
    "# Высчитываем количество чисел и вероятностей\n",
    "for i in range(len(count)):\n",
    "    P_e[i] = (lambda_0 ** unique_numbers_list[i]) / ((lambda_0 + 1)**(unique_numbers_list[i] + 1))\n",
    "    #P_e[i] = (lambda_0**unique_numbers_list[i] / math.factorial(unique_numbers_list[i])) * exp_lambda\n",
    "\n",
    "print(\"Значения вероятностей:\", P_e)\n",
    "\n",
    "#вычисление критерия хи квадрат\n",
    "chi = 0\n",
    "for j in range(len(count)):\n",
    "    chi += ((count[j] - n*P_e[j])**2) / (len(data_1)*P_e[j])\n",
    "print(round(chi, 2))\n",
    "print(\"x_alpha_1 равен:\", stats.chi2.ppf(1 - 0.2, df = 15-1))\n",
    "print('p-value = ', 1 - stats.chi2.cdf(stats.chi2.ppf(1 - 0.2, df = 15-1), 14))"
   ]
  },
  {
   "cell_type": "markdown",
   "id": "cd82285d-fad0-4541-8983-d1efef173fe2",
   "metadata": {},
   "source": [
    "Из таблицы: $\\chi_{k-1, \\alpha_1}^2 = \\chi_{14, 0.2}^2 = 18.151$\n",
    "\n",
    "Получили: $\\chi^2 = 40.09$\n",
    "\n",
    "Так как $\\chi^2 > \\chi_{14, 0.2}^2$, то гипотезу отвергаем"
   ]
  },
  {
   "cell_type": "code",
   "execution_count": 63,
   "id": "e62b23bd-2a29-450f-a926-384576e28c73",
   "metadata": {},
   "outputs": [
    {
     "name": "stdout",
     "output_type": "stream",
     "text": [
      "0.0002\n"
     ]
    }
   ],
   "source": [
    "xi_2 = 40.09\n",
    "max_alpha = 0\n",
    "for i in range(1, 10000):\n",
    "    if (xi_2 <= stats.chi2.ppf(1 - i/10000, 14)):\n",
    "        max_alpha = i/10000\n",
    "print(max_alpha)"
   ]
  },
  {
   "cell_type": "markdown",
   "id": "7e15f3a8-caef-4aff-81a1-e463e48c2787",
   "metadata": {},
   "source": [
    "Наибольшее значение уровня значимости, при котором нет еще оснований отвергнуть данную гипотезу $\\approx$ 0.0002"
   ]
  },
  {
   "cell_type": "markdown",
   "id": "e3a6be50-0ab1-496b-b4e2-b0f8a4dceef5",
   "metadata": {},
   "source": [
    "**h.f) Построить критерий значимости $\\chi^2$ проверки сложной гипотезы согласия с распределением Пуассона. Проверить гипотезу на уровне значимости $\\alpha_{1}$. Вычислить наибольшее значение уровня значимости, на котором ещё нет оснований отвергнуть данную гипотезу.**<br>\n"
   ]
  },
  {
   "cell_type": "code",
   "execution_count": 97,
   "id": "d4a3c5d5-97f0-4e6c-9f57-7abd35f16a87",
   "metadata": {},
   "outputs": [
    {
     "name": "stdout",
     "output_type": "stream",
     "text": [
      "Значения вероятностей: [0.16501650165016502, 0.1377860558333061, 0.11504908292351963, 0.09606408574142067, 0.08021192637814993, 0.06697563489660703, 0.055923549930170235, 0.046695241360835214, 0.03898975598776009, 0.03255580285446635, 0.022697822489206248, 0.018952307226960993, 0.0053629943154643285, 0.002176691092304214, 0.0008834587233580347]\n",
      "54.85\n",
      "x_alpha_1 равен: 16.984797018243096\n",
      "p-value =  0.19999999999999996\n"
     ]
    }
   ],
   "source": [
    "# Высчитываем количество чисел и вероятностей\n",
    "for i in range (len(unique_numbers_list)):\n",
    "    P_e[i] = (mean ** unique_numbers_list[i]) / ((mean + 1)**(unique_numbers_list[i] + 1))\n",
    "\n",
    "print(\"Значения вероятностей:\", P_e)\n",
    "\n",
    "#вычисление критерия хи квадрат\n",
    "chi = 0\n",
    "for j in range(len(count)):\n",
    "    chi += ((count[j] - n*P_e[j])**2) / (n*P_e[j])\n",
    "print(round(chi, 2))\n",
    "print(\"x_alpha_1 равен:\", stats.chi2.ppf(1 - 0.2, df = 15-2))\n",
    "print('p-value = ', 1 - stats.chi2.cdf(stats.chi2.ppf(1 - 0.2, df = 15-2), 13))"
   ]
  },
  {
   "cell_type": "markdown",
   "id": "28280073-5388-4b1d-8a69-4c3f623c5205",
   "metadata": {},
   "source": [
    "Из таблицы: $\\chi_{k-2, \\alpha_1}^2 = \\chi_{13, 0.2}^2 = 16.984$<br>\n",
    "Получили: $\\chi^2 = 54.85$<br>\n",
    "Так как $\\chi^2 > \\chi_{13, 0.2}^2$, то гипотезу отвергаем"
   ]
  },
  {
   "cell_type": "code",
   "execution_count": 98,
   "id": "010ba1b6-096e-4924-82c5-c94a316eecbe",
   "metadata": {},
   "outputs": [
    {
     "name": "stdout",
     "output_type": "stream",
     "text": [
      "0\n"
     ]
    }
   ],
   "source": [
    "xi_2 = 54.85\n",
    "max_alpha = 0\n",
    "for i in range(1, 10000):\n",
    "    if (xi_2 <= stats.chi2.ppf(1 - i/10000, 13)):\n",
    "        max_alpha = i/10000\n",
    "print(max_alpha)"
   ]
  },
  {
   "cell_type": "markdown",
   "id": "64606570-6219-46d6-8400-891adbde2feb",
   "metadata": {},
   "source": [
    "Наибольшее значение уровня значимости, при котором нет еще оснований отвергнуть данную гипотезу сходится к нулю."
   ]
  },
  {
   "cell_type": "markdown",
   "id": "8dc3d004-9ede-4a6f-a09a-d0b8f6eb1953",
   "metadata": {},
   "source": [
    "### 2 задание"
   ]
  },
  {
   "cell_type": "markdown",
   "id": "d5d7fd0c-bc8d-4ec5-909e-a4743edba97f",
   "metadata": {},
   "source": [
    "**a) Построить вариационный ряд, эмпирическую функцию распределения и гистограмму частот с шагом $h$.**<br>\n",
    "**Вариационный ряд** будет выглядеть следующим образом:\n",
    "($0.00$, $0.00$, $0.01$, $0.01$, $0.04$, $0.06$, $0.08$, $0.12$, $0.12$, $0.12$, $0.40$, $0.41$, $0.53$, $0.56$, $0.80$, $0.80$, $0.82$, $0.89$, $0.94$, $0.95$, $1.09$, $1.45$, $1.45$, $1.58$, $1.63$, $1.68$, $1.69$, $2.19$, $2.84$, $3.32$, $3.65$, $3.65$, $3.87$, $4.20$, $4.37$, $4.57$, $4.80$, $5.50$, $6.55$, $7.05$, $7.22$, $8.53$, $8.97$, $9.53$, $9.69$, $14.78$, $15.05$, $18.77$,$26.07$)<br>\n",
    "**Эмпирическая функция распределения**"
   ]
  },
  {
   "cell_type": "code",
   "execution_count": 64,
   "id": "11bbf023-796b-4946-a172-c50840eda798",
   "metadata": {},
   "outputs": [
    {
     "name": "stdout",
     "output_type": "stream",
     "text": [
      "+-------+-------------+\n",
      "| Число | Вероятность |\n",
      "+-------+-------------+\n",
      "|  0.0  |     0.04    |\n",
      "|  0.01 |     0.04    |\n",
      "|  0.04 |     0.02    |\n",
      "|  0.06 |     0.02    |\n",
      "|  0.08 |     0.02    |\n",
      "|  0.12 |     0.06    |\n",
      "|  0.4  |     0.02    |\n",
      "|  0.41 |     0.02    |\n",
      "|  0.53 |     0.02    |\n",
      "|  0.56 |     0.02    |\n",
      "|  0.8  |     0.04    |\n",
      "|  0.82 |     0.02    |\n",
      "|  0.89 |     0.02    |\n",
      "|  0.94 |     0.02    |\n",
      "|  0.95 |     0.02    |\n",
      "|  1.09 |     0.02    |\n",
      "|  1.45 |     0.04    |\n",
      "|  1.58 |     0.02    |\n",
      "|  1.63 |     0.02    |\n",
      "|  1.68 |     0.02    |\n",
      "|  1.69 |     0.02    |\n",
      "|  1.85 |     0.02    |\n",
      "|  2.19 |     0.02    |\n",
      "|  2.84 |     0.02    |\n",
      "|  3.32 |     0.02    |\n",
      "|  3.65 |     0.04    |\n",
      "|  3.87 |     0.02    |\n",
      "|  4.2  |     0.02    |\n",
      "|  4.37 |     0.02    |\n",
      "|  4.57 |     0.02    |\n",
      "|  4.8  |     0.02    |\n",
      "|  5.5  |     0.02    |\n",
      "|  6.55 |     0.02    |\n",
      "|  7.05 |     0.02    |\n",
      "|  7.22 |     0.02    |\n",
      "|  8.53 |     0.02    |\n",
      "|  8.97 |     0.02    |\n",
      "|  9.53 |     0.02    |\n",
      "|  9.69 |     0.02    |\n",
      "| 14.78 |     0.02    |\n",
      "| 15.05 |     0.02    |\n",
      "| 18.77 |     0.02    |\n",
      "| 26.07 |     0.02    |\n",
      "+-------+-------------+\n"
     ]
    }
   ],
   "source": [
    "from prettytable import PrettyTable\n",
    "from collections import Counter\n",
    "\n",
    "data_2 = [0.00, 3.32, 1.63, 4.37, 0.41, 2.84, 0.00, 8.97, 0.12, 0.80, 0.08, 4.80, 3.65, 0.82, 1.09, 0.56, 3.87, 4.57, 14.78, 0.06, 1.85, 1.45, 1.45,\n",
    "          0.04, 0.53, 26.07, 2.19, 8.53, 18.77, 9.69, 0.01, 7.05, 5.50, 7.22, 0.95, 0.12, 15.05, 3.65, 6.55, 1.68, 0.01, 4.20, 0.40, 9.53, 1.69, 0.94,\n",
    "          0.80, 1.58, 0.89, 0.12]\n",
    "# Вариационный ряд\n",
    "variation_series = np.sort(data_2)\n",
    "\n",
    "# Counter для подсчета вхождений каждого числа\n",
    "counts = Counter(variation_series)\n",
    "\n",
    "# Общее количество чисел в ряду\n",
    "total_numbers = len(variation_series)\n",
    "\n",
    "# Вычисление вероятности\n",
    "probabilities = {num: count / total_numbers for num, count in counts.items()}\n",
    "\n",
    "table = PrettyTable()\n",
    "table.field_names = [\"Число\", \"Вероятность\"]\n",
    "\n",
    "for num, prob in probabilities.items():\n",
    "    table.add_row([num, f\"{prob:.2f}\"])\n",
    "\n",
    "print(table)"
   ]
  },
  {
   "cell_type": "code",
   "execution_count": 65,
   "id": "1a65aa00-44e6-4e33-a2c4-9871702d0dba",
   "metadata": {},
   "outputs": [
    {
     "data": {
      "image/png": "[encoded data removed]",
      "text/plain": [
       "<Figure size 640x480 with 1 Axes>"
      ]
     },
     "metadata": {},
     "output_type": "display_data"
    }
   ],
   "source": [
    "plt.title('Вариационный ряд')\n",
    "plt.xlabel('Наблюдения')\n",
    "plt.ylabel('Величина')\n",
    "plt.plot(variation_series,  marker='o')\n",
    "plt.show()"
   ]
  },
  {
   "cell_type": "code",
   "execution_count": 66,
   "id": "d6bbad2d-4a65-468d-ae3e-3f64a99e2c7a",
   "metadata": {},
   "outputs": [
    {
     "data": {
      "image/png": "[encoded data removed]",
      "text/plain": [
       "<Figure size 640x480 with 1 Axes>"
      ]
     },
     "metadata": {},
     "output_type": "display_data"
    }
   ],
   "source": [
    "# Вычисление эмпирической функции распределения\n",
    "ecdf = np.arange(1, len(variation_series) + 1) / len(variation_series)\n",
    "\n",
    "# Отрисовка графика\n",
    "plt.step(variation_series, ecdf, where='post', label='Эмпирическая функция распределения')\n",
    "plt.xlabel('Значение')\n",
    "plt.ylabel('Вероятность')\n",
    "plt.title('Эмпирическая функция распределения')\n",
    "plt.legend()\n",
    "plt.show()"
   ]
  },
  {
   "cell_type": "code",
   "execution_count": 99,
   "id": "c30c8e42-84db-4bf4-a140-dde2046060c2",
   "metadata": {},
   "outputs": [
    {
     "data": {
      "image/png": "[encoded data removed]",
      "text/plain": [
       "<Figure size 640x480 with 1 Axes>"
      ]
     },
     "metadata": {},
     "output_type": "display_data"
    }
   ],
   "source": [
    "h = 1.9\n",
    "bins = np.arange(min(data_2), max(data_2) + h, h)\n",
    "plt.hist(data_2, bins=bins, edgecolor='black', label='Гистограмма')\n",
    "plt.title(\"Гистограмма и полигон частот\")\n",
    "plt.xlabel(\"Интервалы\")\n",
    "plt.ylabel(\"Частота\")\n",
    "\n",
    "hist, _ = np.histogram(data_2, bins=bins)\n",
    "bin_centers = 0.5 * (bins[1:] + bins[:-1])\n",
    "plt.plot(bin_centers, hist, color='red', marker='o', linestyle='-', label='Полигон')\n",
    "plt.legend()\n",
    "plt.show()"
   ]
  },
  {
   "cell_type": "markdown",
   "id": "447f7a87-5120-4748-8863-4634e4e78290",
   "metadata": {},
   "source": [
    "**b) Вычислить выборочные аналоги следующих числовых характеристик:** <br>\n",
    "    &emsp;(i) математического ожидания;\n",
    "    (ii) дисперсии;\n",
    "    (iii) СКО;\n",
    "    (iv) медианы;\n",
    "    (v) асимметрии;\n",
    "    (vi) эксцесса;\n",
    "    (vii) вероятности $\\mathbb{P}(X\\in[c,d])$.<br>"
   ]
  },
  {
   "cell_type": "code",
   "execution_count": 132,
   "id": "90f5c9dc-82f6-4354-8789-c5c2de7d6815",
   "metadata": {},
   "outputs": [
    {
     "name": "stdout",
     "output_type": "stream",
     "text": [
      "Мат.ожидание= 3.905\n",
      "Дисперсия= 27.974060999999995\n",
      "Выборочное стандартное отклонение= 5.289051049101341\n",
      "Медиана= 1.6549999999999998\n",
      "Асимметрия= 2.233406359580612\n",
      "Эксцесс= 5.348355188473127\n",
      "Вероятность попадания в промежуток= 0.84\n"
     ]
    }
   ],
   "source": [
    "mean = np.mean(data_2) # математическое ожидание\n",
    "var = np.var(data_2) # дисперсия\n",
    "std = np.std(data_2) # выборочное стандартное отклонение\n",
    "median = np.median(data_2) # медиана\n",
    "skewness = stats.skew(data_2)  # Асимметрия\n",
    "kurtosis = stats.kurtosis(data_2)  # Эксцесса\n",
    "c=0\n",
    "d = 8.45\n",
    "countIn = 0\n",
    "for x in data_2:\n",
    "    if(c<=x<=d):\n",
    "        countIn+=1\n",
    "probability = countIn/len(data_2)\n",
    "print(\"Мат.ожидание=\",mean)\n",
    "print(\"Дисперсия=\",var)\n",
    "print(\"Выборочное стандартное отклонение=\",std)\n",
    "print(\"Медиана=\",median)\n",
    "print(\"Асимметрия=\",skewness)\n",
    "print(\"Эксцесс=\",kurtosis)\n",
    "print(\"Вероятность попадания в промежуток=\",probability)"
   ]
  },
  {
   "cell_type": "markdown",
   "id": "d6a6252f-80b5-41cb-b837-a9d822dd092d",
   "metadata": {},
   "source": [
    "**c) В предположении, что исходные наблюдения являются выборкой из показательного распределения, построить оценку максимального правдоподобия параметра $\\lambda$ и соответствующую оценку по методу моментов. Найти смещение оценок.**<br>\n",
    "Плотность показательного распределения: $p(x) = \\lambda\\cdot exp(-\\lambda X)$, при условии что Х>0<br>\n",
    "Функция максимального правдоподобия: $L(\\vec X, \\theta) = \\prod\\limits_{i=1}^n \\lambda\\cdot exp(-\\lambda x_i) = \\lambda^n \\cdot exp\\left(\\sum\\limits_{i=1}^n (-\\lambda x_i)\\right)=\\lambda^n \\cdot exp\\left(-\\lambda \\sum\\limits_{i=1}^n x_i\\right)$<br>\n",
    "Логарифмируем функцию максимального правдоподобия: $LL(\\vec X, \\theta) = n \\ln(\\lambda) - \\lambda \\sum\\limits_{i=1}^n x_i$<br>\n",
    "Находим производную по $\\lambda$: $\\frac{\\partial LL(\\vec X, \\theta)}{\\partial \\lambda} = \\frac{n}{\\lambda}-\\sum\\limits_{i=1}^n x_i = 0$;\n",
    "$\\lambda = \\frac{n}{\\sum\\limits_{i=1}^n x_i} = \\frac{1}{\\overline X}$<br>\n",
    "Оценка максимального правдоподобия $\\hat\\theta = \\hat\\lambda = \\frac{1}{\\overline X}$.<br>\n",
    "Найдём ОММ. Первый момент $\\mathbb{E}X_{1}=\\frac{1}{\\lambda};M_{1}=\\overline{X}$ - из показательного распределения. Отсюда $\\widehat{\\theta}=\\widehat{\\lambda}=\\frac{1}{\\overline{X}}$.<br>\n",
    "Найдем смещение оценок. Рассмотрим функцию максимального правдоподобия: $L(\\vec X, \\theta) = \\lambda^n \\cdot exp\\left(-\\lambda \\sum\\limits_{i=1}^n x_i\\right)$<br>\n",
    "$g_{\\theta}(T)=exp\\left(-\\lambda \\sum\\limits_{i=1}^n x_i\\right); h(X)=\\lambda^n$;<br>\n",
    "Тогда $T=\\sum\\limits_{i=1}^n x_i$ - минимальная достаточная статистика. Так как плотность принадлежит экспоненциальному семейству, то $T=\\sum\\limits_{i=1}^n x_i$ - полная достаточная статистика.<br>\n",
    "Показательное распределение - частный случай гамма распредления: $\\sum_{i=1}^{n}X_{i}\\sim Gamma(n,\\frac{1}{\\lambda})$<br>\n",
    "$\\mathbb E_{\\theta} \\hat\\theta=\\frac{n}{\\mathbb E_{\\theta}\\left(\\sum\\limits_{i=1}^n (x_i)\\right)} = \\frac{n}{\\sum\\limits_{i=1}^n \\left(\\mathbb E(x_i)\\right)}=n\\cdot \\left(\\frac{1}{\\lambda}\\right)^{-1}\\frac{\\Gamma (-1+n)}{\\Gamma (n)}=n\\cdot \\lambda\\frac{\\Gamma (-1+n)}{\\Gamma(-1+n)\\cdot (n-1)}=\\frac{n\\cdot \\lambda}{n-1}$ - смещенная оценка."
   ]
  },
  {
   "cell_type": "markdown",
   "id": "dc0c270e-a22c-4bdd-baf5-7bad7fa7abad",
   "metadata": {},
   "source": [
    "**d) Построить асимптотический доверительный интервал уровня значимости  $\\alpha_{2}$ для параметра $\\lambda$ на базе оценки максимального правдоподобия.**<br>\n",
    " $\\alpha_2 = 0.20$<br>\n",
    "*Плотность показательного распределения:*:\n",
    "$ p_{\\theta} = \\lambda \\cdot e^{-\\lambda\\cdot x}$<br>\n",
    "ОМП: $\\widehat{\\theta} = \\widehat{\\lambda} = \\frac{1}{\\overline{X}}$<br>\n",
    "В предыдущем пункте:<br>\n",
    "$\\frac{\\partial LL(\\vec X, \\theta)}{\\partial \\lambda} = \\frac{n}{\\lambda}-\\sum\\limits_{i=1}^n x_i = 0$<br>\n",
    "$\\frac{\\partial^2 LL}{\\partial \\lambda^2} = -\\frac{n}{\\lambda^2}$<br>\n",
    "$\\mathrm{I}_n(\\lambda) = - \\mathbb{E}_{\\theta}\\frac{\\partial^2 LL}{\\partial \\lambda^2} = \\mathbb{E}_{\\theta} \\left(\\frac{n}{\\lambda^2}\\right) = \\frac{n}{\\lambda^2}$<br>\n",
    "$\\mathrm{I}(\\lambda) = \\lim \\limits_{n \\to \\infty} \\large \\frac{1}{\\lambda^2} = \\frac{1}{\\lambda^2}$<br>\n",
    "Так как распределение симметричное:\n",
    "$x_{\\alpha} : \\mathrm{\\Phi}(x_{\\alpha}) = 1 - \\frac{\\alpha}{2} = 1 - \\frac{0.2}{2} = 0.9$, где $\\alpha = \\alpha_2 = 0.2$\n",
    "$\\mathrm{\\Phi}(x_{\\alpha}) = 0.9 \\Rightarrow x_{\\alpha} = 1.28$\n",
    "\n",
    "*Асимптотический доверительный интервал:* $\\left[\\overline{X} - \\sqrt{\\frac{\\overline{X}}{n}} \\cdot x_{\\alpha} , \\overline{X} + \\sqrt{\\frac{\\overline{X}}{n}} \\cdot x_{\\alpha}\\right] \\ni \\lambda$\n",
    "\n",
    "Таким образом, АДИ уровня значимости $\\alpha_2$ для параметра $\\lambda$:$\\left[3.55, 4.26\\right] \\ni \\lambda$<br>"
   ]
  },
  {
   "cell_type": "code",
   "execution_count": 133,
   "id": "94fc19bb-c839-4851-9fcc-97dd851965aa",
   "metadata": {},
   "outputs": [
    {
     "name": "stdout",
     "output_type": "stream",
     "text": [
      "Асимптотический доверительный интервал:  [3.546852765160471, 4.263147234839528]\n"
     ]
    }
   ],
   "source": [
    "x_alpha = stats.norm.ppf(0.9)\n",
    "xMean = np.mean(data_2)\n",
    "adi = []\n",
    "left = xMean - x_alpha * ((xMean) / n)**0.5 #подсчёт левой границы АДИ\n",
    "adi.append(left)\n",
    "right = xMean + x_alpha * (xMean / n)**0.5 #подсчёт правой границы АДИ\n",
    "adi.append(right)\n",
    "print(\"Асимптотический доверительный интервал: \", adi)"
   ]
  },
  {
   "cell_type": "markdown",
   "id": "1ab4d1b9-568c-46c2-8643-0f55777887a0",
   "metadata": {},
   "source": [
    "**e) С использованием теоремы Колмогорова построить критерий значимости проверки пустой гипотезы согласия с показательным распределением с параметром $\\lambda_{0}$. Проверить гипотезу на уровне значимости $\\alpha_{2}$. Вычислить наибольшее значение уровня значимости, на котором ещё нет оснований отвергнуть данную гипотезу.**<br>\n",
    "Пусть данная выборка $X_1, X_2, \\dots, X_n$ - выборка из распределения с функцией распределения F.<br>\n",
    "Основная гипотеза: $H_0 : F \\equiv Exp(\\lambda_0)$<br>\n",
    "Альтернативная гипотеза: $H_A : \\exists x : F(x) \\neq F_{Exp(\\lambda_0)}(x)$<br>\n",
    "Составим критерий уровня значимости $\\alpha_2$:<br>\n",
    "$\\phi(x) = 0$, при $D_n \\le x_{\\alpha_2}$<br>\n",
    "$\\phi(x) = 1$, при $D_n > x_{\\alpha_2}$<br>\n",
    "где $x_{\\alpha_2} : K(x_{\\alpha_2} / \\sqrt{n}) = 1 - \\alpha_2$"
   ]
  },
  {
   "cell_type": "code",
   "execution_count": 134,
   "id": "989bfeb6-e205-43a5-9d9a-60d4aae2ad84",
   "metadata": {},
   "outputs": [
    {
     "name": "stdout",
     "output_type": "stream",
     "text": [
      "Статистика критерия Колмогорова Dn: 0.376\n",
      "x_alpha_2: 0.152\n"
     ]
    }
   ],
   "source": [
    "values, edges = np.histogram(data_2, bins=len(data_2))\n",
    "Y = values.cumsum() / len(data_2)\n",
    "\n",
    "def F_n(x, Y, edges):\n",
    "  for i in range(len(Y)):\n",
    "    if (x > edges[i] and x <= edges[i+1]):\n",
    "      return Y[i]\n",
    "    elif (x > edges[-1]):\n",
    "      return 1\n",
    "    elif (x <= edges[0]):\n",
    "      return 0\n",
    "\n",
    "def F_0(x):\n",
    "  return 1 - np.exp(-x*lambda_0)\n",
    "\n",
    "D = 0\n",
    "x = 0\n",
    "while (x <= 5):\n",
    "  if (D < np.abs(F_n(x, Y, edges) - F_0(x))):\n",
    "    D = np.abs(F_n(x, Y, edges) - F_0(x))\n",
    "  x += 0.0001\n",
    "\n",
    "print(\"Статистика критерия Колмогорова Dn:\", round(D,3))\n",
    "print(\"x_alpha_2:\", round(stats.kstwobign.ppf(1 - 0.2) / np.sqrt(len(data_2)),3))"
   ]
  },
  {
   "cell_type": "markdown",
   "id": "47aa9887-1131-44bc-82ca-f9916760088c",
   "metadata": {},
   "source": [
    "$D_n \\approx 0.376$<br>\n",
    "$x_{\\alpha_2} \\approx 0.152$<br>\n",
    "$D_n > x_{\\alpha_2}$ следовательно принимаем гипотезу $H_1$"
   ]
  },
  {
   "cell_type": "code",
   "execution_count": 75,
   "id": "32c15dcd-802a-4777-9e71-5e2861edb5da",
   "metadata": {},
   "outputs": [
    {
     "data": {
      "text/plain": [
       "0.0"
      ]
     },
     "execution_count": 75,
     "metadata": {},
     "output_type": "execute_result"
    }
   ],
   "source": [
    "1 - stats.kstwobign.cdf(D*np.sqrt(len(data_2)))"
   ]
  },
  {
   "cell_type": "markdown",
   "id": "3434c244-b74e-44fa-9de7-e6cabc11b647",
   "metadata": {},
   "source": [
    "Наибольшее значение уровня значимости, на котором ещё нет оснований отвергнуть данную гипотезу $\\approx$ 0.0"
   ]
  },
  {
   "cell_type": "markdown",
   "id": "09c4d18e-854e-4a9b-845e-acd7051b048f",
   "metadata": {},
   "source": [
    "**f) Используя гистограмму частот, построить критерий значимости $\\chi^2$ проверки простой гипотезы согласия с показательным распределением с параметром $\\lambda_{0}$. Проверить гипотезу на уровне значимости $\\alpha_{2}$. Вычислить наибольшее значение уровня значимости, на котором ещё нет оснований отвергнуть данную гипотезу.**<br>"
   ]
  },
  {
   "cell_type": "code",
   "execution_count": 135,
   "id": "b9cab1b0-297a-49d2-8a8e-24f6da0c9293",
   "metadata": {},
   "outputs": [
    {
     "name": "stdout",
     "output_type": "stream",
     "text": [
      "Значения вероятностей: [0.13, 0.11415240601967297, 0.10023670615446362, 0.08801739368476141, 0.07728767123612527, 0.06786595097893208, 0.05959278146967906, 0.052328149124372676, 0.04594910865464142]\n",
      "75.37\n",
      "x_alpha_1 равен: 11.030091430303113\n",
      "p-value =  0.19999999999999973\n"
     ]
    }
   ],
   "source": [
    "def count_numbers_in_range(data, min_val, max_val, step):\n",
    "    result = []\n",
    "    count = 0\n",
    "    current_val = min_val\n",
    "\n",
    "    while current_val <= max_val:\n",
    "        for num in data:\n",
    "            if current_val <= num < current_val + step:\n",
    "                count += 1\n",
    "        if count!= 0:\n",
    "            result.append(count)\n",
    "        count = 0\n",
    "        current_val += step\n",
    "\n",
    "    return result\n",
    "\n",
    "lambda_0 = 0.13\n",
    "exp_lambda = math.exp(-lambda_0)\n",
    "min_val = min(data_2)\n",
    "max_val = max(data_2)\n",
    "P_f = []\n",
    "\n",
    "result = count_numbers_in_range(data_2, min_val, max_val, h)\n",
    "for i in range(len(result)):\n",
    "    P_f.append(lambda_0 * math.exp(-lambda_0*i))\n",
    "\n",
    "print(\"Значения вероятностей:\", P_f)\n",
    "\n",
    "#вычисление критерия хи квадрат\n",
    "chi = 0\n",
    "for j in range(len(result)):\n",
    "    chi += ((result[j] - n*P_f[j])**2) / (n*P_f[j])\n",
    "print(round(chi, 2))\n",
    "print(\"x_alpha_1 равен:\", stats.chi2.ppf(1 - 0.2, df = 9-1))\n",
    "print('p-value = ', 1 - stats.chi2.cdf(stats.chi2.ppf(1 - 0.2, df = 9-1), 8))"
   ]
  },
  {
   "cell_type": "markdown",
   "id": "3cff0483-5933-4642-a038-63c7c87e41c3",
   "metadata": {},
   "source": [
    "Из таблицы: $\\chi_{k-1, \\alpha_1}^2 = \\chi_{8, 0.2}^2 = 11.031$<br>\n",
    "Получили: $\\chi^2 = 75.37$<br>\n",
    "Так как $\\chi^2 > \\chi_{8, 0.2}^2$, то гипотезу отвергаем"
   ]
  },
  {
   "cell_type": "code",
   "execution_count": 136,
   "id": "57b5c703-d93f-44b4-8418-398cbb691c21",
   "metadata": {},
   "outputs": [
    {
     "name": "stdout",
     "output_type": "stream",
     "text": [
      "0\n"
     ]
    }
   ],
   "source": [
    "xi_2 = 75.37\n",
    "max_alpha = 0\n",
    "for i in range(1, 10000):\n",
    "    if (xi_2 <= stats.chi2.ppf(1 - i/10000, 8)):\n",
    "        max_alpha = i/10000\n",
    "print(max_alpha)"
   ]
  },
  {
   "cell_type": "markdown",
   "id": "38e51d35-23e8-433e-b406-e872f71b300d",
   "metadata": {},
   "source": [
    "Наибольшее значение уровня значимости, при котором нет еще оснований отвергнуть стремится к нулю."
   ]
  },
  {
   "cell_type": "markdown",
   "id": "3fb7f990-3bcd-49c8-8e57-cdeb0f291b96",
   "metadata": {},
   "source": [
    "**g) Построить критерий значимости $\\chi^2$ проверки сложной гипотезы согласия с показательным распределением. Проверить гипотезу на уровне значимости $\\alpha_{2}$. Вычислить наибольшее значение уровня значимости, на котором ещё нет оснований отвергнуть данную гипотезу.<br>**\n"
   ]
  },
  {
   "cell_type": "code",
   "execution_count": 137,
   "id": "ef6a7406-5972-4487-a80c-8d3c34e60012",
   "metadata": {},
   "outputs": [
    {
     "name": "stdout",
     "output_type": "stream",
     "text": [
      "3.905\n",
      "Значения вероятностей: [3.905, 0.07865042728848183, 0.0015840946767377124, 3.190517879406672e-05, 6.426007541277229e-07, 1.2942592544954182e-08, 2.6067616744721245e-10, 5.250266825517834e-12, 1.0574538519987661e-13]\n",
      "193256085295.49\n",
      "x_alpha_1 равен: 9.803249900240838\n",
      "p-value =  0.19999999999999996\n"
     ]
    }
   ],
   "source": [
    "# Высчитываем количество чисел и вероятностей\n",
    "for i in range (len(result)):\n",
    "    P_f[i] = mean * math.exp(-mean*i)\n",
    "\n",
    "print(\"Значения вероятностей:\", P_f)\n",
    "\n",
    "#вычисление критерия хи квадрат\n",
    "chi = 0\n",
    "for j in range(len(result)):\n",
    "    chi += ((result[j] - n*P_f[j])**2) / (n*P_f[j])\n",
    "print(round(chi, 2))\n",
    "print(\"x_alpha_1 равен:\", stats.chi2.ppf(1 - 0.2, df = 9-2))\n",
    "print('p-value = ', 1 - stats.chi2.cdf(stats.chi2.ppf(1 - 0.2, df = 9-2), 7))"
   ]
  },
  {
   "cell_type": "markdown",
   "id": "8df583b6-951c-427c-afc2-ccbfbed866f8",
   "metadata": {},
   "source": [
    "Из таблицы: $\\chi_{k-1, \\alpha_1}^2 = \\chi_{7, 0.2}^2 = 9.803$<br>\n",
    "Получили: $\\chi^2 = 193256085295.49$<br>\n",
    "Так как $\\chi^2 > \\chi_{7, 0.2}^2$, то гипотезу отвергаем"
   ]
  },
  {
   "cell_type": "code",
   "execution_count": 116,
   "id": "9a73e0bb-1716-46a9-b2c3-f890bd86955c",
   "metadata": {},
   "outputs": [
    {
     "name": "stdout",
     "output_type": "stream",
     "text": [
      "0\n"
     ]
    }
   ],
   "source": [
    "xi_2 = 1513342356253767.8\n",
    "max_alpha = 0\n",
    "for i in range(1, 10000):\n",
    "    if (xi_2 <= stats.chi2.ppf(1 - i/10000, 7)):\n",
    "        max_alpha = i/10000\n",
    "print(max_alpha)"
   ]
  },
  {
   "cell_type": "markdown",
   "id": "4be62139-5ff2-4da8-86c6-59e0cec54728",
   "metadata": {},
   "source": [
    "Наибольшее значение уровня значимости, при котором нет еще оснований отвергнуть стремится к нулю."
   ]
  },
  {
   "cell_type": "markdown",
   "id": "c976f2a9-9df3-4cec-b6f1-b26a87b2274c",
   "metadata": {},
   "source": [
    "**h) Построить наиболее мощный критерий проверки простой гипотезы о показательности с параметром  $\\lambda=\\lambda_{0}$ при альтернативе показательности с параметром $\\lambda=\\lambda_{1}$. Проверить гипотезу на уровне значимости $\\alpha_{2}$. Что получится, если поменять местами основную и альтернативную гипотезы?**<br>"
   ]
  },
  {
   "cell_type": "markdown",
   "id": "e83dd501-bc40-426a-8d0a-e0496c1d0250",
   "metadata": {},
   "source": [
    "$\\alpha_2 = 0.2, \\lambda_0 = 0.13, \\lambda_1 = 0.25$<br>\n",
    "$ H_{0}:\\lambda=\\lambda_{0}$<br>\n",
    "$ H_{1}:\\lambda=\\lambda_{1}$<br>\n",
    "Cтатистическое отношение правдоподобия:<br>\n",
    "$LR(\\overrightarrow{X},\\lambda_{1},\\lambda_{0}) = \\left(\\frac{\\lambda_{1}}{\\lambda_{0}}\\right)^n \\cdot exp(-\\lambda_{1} \\cdot {\\sum_{i=1}^{n}X_{i}) + \\lambda_{0} \\cdot {\\sum_{i=1}^{n}X_{i}} }$<br>\n",
    "$LR(\\overrightarrow{X},\\lambda_{1},\\lambda_{0})>  c\\Leftrightarrow \\overline{X} < c^*$<br>\n",
    "$LR(\\overrightarrow{X},\\lambda_{1},\\lambda_{0})<  c\\Leftrightarrow \\overline{X} > c^*$<br>\n",
    "$exp\\left({\\sum_{i=1}^{n}X_{i}}\\cdot (-\\lambda_{1} + \\lambda_{0})\\right)=\\left(\\frac{\\lambda_{0}}{\\lambda_{1}}\\right)^n c$<br>\n",
    "Логарифмируем:<br>\n",
    "(1)    $c* = {\\sum_{i=1}^{n}X_{i}}=n \\cdot ln\\left(\\left(\\frac{\\lambda_{0}}{\\lambda_{1}}\\right) c\\right)$<br>\n",
    "$\\sum_{i=1}^{n}X_{i}\\sim \\Gamma \\left(n,\\frac{1}{\\lambda}\\right)$<br>\n",
    "$1-\\Phi_{\\Gamma \\left(n,\\frac{1}{\\lambda}\\right)}(c)=\\alpha_{2}$<br>\n",
    "$ c = \\Phi^{-1}_{\\Gamma \\left(n,\\frac{1}{\\lambda}\\right)}(1-\\alpha_{2})$<br>\n",
    "$ c = 455.76$<br>\n",
    "Найдем с* подставив значени в выражение (1):<br>\n",
    "$ с* = 273.402$<br>\n",
    "$LR(\\overrightarrow{X}, \\lambda_{0}, \\lambda_{1})  = 1.118$<br>\n",
    "$ \\phi(x) =\\left\\{\n",
    "  \\begin{array}{l}\n",
    "    1, LR(x) > 455.76 \\\\\n",
    "    p, LR(x) = 455.76 \\\\\n",
    "    0, LR(x) < 455.76 \\\\\n",
    "\\end{array}\\right.$<br>\n",
    "$c > LR  \\to$ отвергаем гипотезу"
   ]
  },
  {
   "cell_type": "code",
   "execution_count": 153,
   "id": "9862be22-4451-4229-8390-6c6642872b2d",
   "metadata": {},
   "outputs": [
    {
     "name": "stdout",
     "output_type": "stream",
     "text": [
      "c = 455.7615531194696\n",
      "c* =  273.40216477584875\n",
      "LR = 1.1184417285857997 \n",
      "\n"
     ]
    }
   ],
   "source": [
    "lambda_0 = 0.13\n",
    "lambda_1 = 0.25\n",
    "c1 = stats.gamma.ppf(0.9, a =50, scale = 1/lambda_0)\n",
    "print('c =', c1)\n",
    "cSt1 = 50*np.log(lambda_0/lambda_1*c1)\n",
    "print('c* = ',cSt1)\n",
    "LR1 = ((lambda_0/lambda_1)**50)*np.exp(lambda_1*cSt1 - lambda_0*cSt1)\n",
    "print('LR =', LR1,'\\n')"
   ]
  },
  {
   "cell_type": "markdown",
   "id": "d24a5be1-7288-4c6a-afc9-ea5af48e600e",
   "metadata": {},
   "source": [
    "Меняем местами основную и альтернативную гипотезу:<br>\n",
    "$H_{0}=\\lambda_{1}$<br>\n",
    "$H_{1}=\\lambda_{0}$<br>\n",
    "Cтатистическое отношение правдоподобия:<br>\n",
    "$LR(\\overrightarrow{X},\\lambda_{0},\\lambda_{1}) = \\left(\\frac{\\lambda_{0}}{\\lambda_{1}}\\right)^n \\cdot exp(-\\lambda_{0} \\cdot {\\sum_{i=1}^{n}X_{i}} + \\lambda_{1} \\cdot {\\sum_{i=1}^{n}X_{i}} )$<br>\n",
    "$LR(\\overrightarrow{X},\\lambda_{0},\\lambda_{1})>  c\\Leftrightarrow \\overline{X} < c^*$<br>\n",
    "$LR(\\overrightarrow{X},\\lambda_{0},\\lambda_{1})<  c\\Leftrightarrow \\overline{X} > c^*$<br>\n",
    "${exp}({\\sum_{i=1}^{n}X_{i}}\\cdot (-\\lambda_{0} + \\lambda_{1}))=\\left(\\frac{\\lambda_{1}}{\\lambda_{0}}\\right)^n c$<br>\n",
    "$ c = \\Phi^{-1}_{\\Gamma \\left(n,\\frac{1}{\\lambda}\\right)}(1-\\alpha_{2})$<br>\n",
    "$ c = 236.996$<br>\n",
    "$ с* = 240.705$<br>\n",
    "$LR(\\overrightarrow{X}, \\lambda_{0}, \\lambda_{1}) = 45.223$<br>\n",
    "$ \\phi(x) =\\left\\{\n",
    "  \\begin{array}{l}\n",
    "    1, LR(x) > 236.996 \\\\\n",
    "    p, LR(x) = 236.996 \\\\\n",
    "    0, LR(x) < 236.996 \\\\\n",
    "  \\end{array}\\right.$<br>\n",
    "$ c > LR \\to $ отвергаем гипотезу"
   ]
  },
  {
   "cell_type": "code",
   "execution_count": 154,
   "id": "7ff45d1e-c737-4b54-b364-7505eb4e94d6",
   "metadata": {},
   "outputs": [
    {
     "name": "stdout",
     "output_type": "stream",
     "text": [
      "c = 236.99600762212424\n",
      "c* =  240.70584140551557\n",
      "LR = 45.2237504681485\n"
     ]
    }
   ],
   "source": [
    "c2 = stats.gamma.ppf(0.9, a =50, scale=1/lambda_1)\n",
    "print('c =', c2)\n",
    "cSt2 = 50*np.log(lambda_0/lambda_1*c2)\n",
    "print('c* = ',cSt2)\n",
    "LR2 = ((lambda_1/lambda_0)**50)*np.exp(lambda_0*cSt2 - lambda_1*cSt2)\n",
    "print('LR =', LR2)"
   ]
  },
  {
   "cell_type": "markdown",
   "id": "deaebec2-5285-4367-ae1b-a987261269a7",
   "metadata": {},
   "source": [
    "**i) В пунктах (c)-(h) заменить семейтсво показательных распределений на семейство гамма-распределений с плотностями:\n",
    "$p_{\\lambda}(x)=\\frac{\\sqrt{\\lambda}exp(-\\lambda x/2)}{\\sqrt{2\\pi x}}$ (использовать таблицу распределений $\\chi^2_{1}$)**<br>\n",
    "**i.c) Построить оценку максимального правдоподобия параметра $\\lambda$ и соответствующую оценку по методу моментов. Найти смещение оценок.<br>\n",
    "Плотность гамма распределения: $p_{\\lambda}(x)=\\frac{\\sqrt{\\lambda}exp(-\\lambda x/2)}{\\sqrt{2\\pi x}}$.**<br>\n",
    "Функция максимального правдоподобия: $L(\\vec X, \\theta) = \\prod\\limits_{i=1}^n \\frac{\\sqrt{\\lambda}exp(-\\lambda x/2)}{\\sqrt{2\\pi x}} = \\left(\\frac{\\sqrt{\\lambda}}{\\sqrt{2\\pi x}}\\right)^n \\cdot exp\\left(\\sum\\limits_{i=1}^n \\left(-\\frac{\\lambda x_i}{2}\\right)\\right) = \\left(\\frac{\\sqrt{\\lambda}}{\\sqrt{2\\pi x}}\\right)^n \\cdot exp\\left(-\\frac{\\lambda}{2}\\sum\\limits_{i=1}^n x_i\\right)=\\lambda^{\\frac{n}{2}}\\cdot exp\\left( \\frac{-\\lambda}{2} \\cdot \\sum_{i=1}^{n}x_{i}\\right) \\cdot (2\\pi)^{-\\frac{n}{2}}\\cdot (\\prod_{i=1}^{n}x_{i})^{-\\frac{n}{2}}$<br>\n",
    "\n",
    "Логарифмируем функцию максимального правдоподобия: $LL(\\vec X, \\theta) = \\frac{n}{2} \\ln\\left(\\lambda\\right) - \\frac{\\lambda}{2} \\sum\\limits_{i=1}^n x_i - \\frac{n}{2} \\ln\\left(2\\pi\\right) - \\frac{n}{2}(\\prod_{i=1}^{n}x_{i})$<br>\n",
    "Находим производную по $\\lambda$: $\\frac{\\partial LL(\\vec X, \\theta)}{\\partial \\lambda} = \\frac{n}{2\\lambda}-\\frac{1}{2}\\sum\\limits_{i=1}^n x_i = 0$;\n",
    "$\\lambda = \\frac{n}{\\sum\\limits_{i=1}^n x_i} = \\frac{1}{\\overline X}$<br>\n",
    "Оценка максимального правдоподобия $\\hat\\theta = \\hat\\lambda = \\frac{1}{\\overline X}$.<br>\n",
    "$\\mathbb{E}_{\\theta}\\widehat{\\theta} = \\mathbb{E}_{\\theta}\\overline{X} = \\mathbb{E}_{\\theta} n\\cdot \\sum \\limits_{i=1}^{n}\\frac{1}{x_i} = \\normalsize n \\cdot\\frac{1}{n-1}   \\cdot \\lambda = \\frac{n\\cdot\\lambda}{n+1}$ - смещённая оценка.<br>\n",
    "МДС: $T=\\sum_{i=1}^{n}X_{i}$. Т.к. данное распределение из семейства экспоненциальных распределений, то $T=\\sum_{i=1}^{n}X_{i}$ - ПДС.<br>\n",
    "$\\mathbb{E}\\widetilde{\\theta} = \\mathbb{E} \\widehat{\\theta} \\cdot \\frac{n-1}{n} = \\frac{n\\cdot\\lambda}{n+1}\\cdot \\frac{n-1}{n} = \\lambda$<br>\n",
    "$ \\widetilde{\\theta} = \\widehat{\\theta} \\cdot \\frac{n-1}{n}$ - несмещенная оценка<br>\n",
    "**Оценка методом моментов:**  \n",
    "$\\mathbb{E}X = \\frac{1}{\\lambda}$ - математическое ожидани<br> \n",
    "$\\mathrm{M} = \\overline{X}$ - выборочное среднее<br>\n",
    "Тогда, $\\widetilde{\\theta} = \\widetilde{\\lambda} = \\frac{1}{\\overline{X}}$<br><br>"
   ]
  },
  {
   "cell_type": "markdown",
   "id": "3f5a5f3a-7120-4fb4-a8e2-701889a1a325",
   "metadata": {},
   "source": [
    "**i.d) Построить асимптотический доверительный интервал уровня значимости  $\\alpha_{2}$ для параметра $\\lambda$ на базе оценки максимального правдоподобия.**<br>\n",
    "$\\alpha_2 = 0.20$\n",
    "\n",
    "$\\widehat{\\theta} = \\widehat{\\lambda} = \\frac{1}{\\overline{X}}$\n",
    "\n",
    "Из предыдущего пункта:\n",
    "\n",
    "$\\frac{\\partial LL}{\\partial \\lambda} = \\frac{n}{2\\lambda}-\\frac{\\sum_{i=1}^{n}X_{i}}{2}$\n",
    "\n",
    "$\\frac{\\partial^2 LL}{\\partial \\lambda^2} = -\\frac{n}{2 \\cdot \\lambda^2}$\n",
    "\n",
    "$\\mathrm{I}_n(\\lambda) = - \\large \\mathbb{E}_{\\theta}\\frac{\\partial^2 LL}{\\partial \\lambda^2} = \\mathbb{E}_{\\theta} \\left(\\frac{n}{2 \\cdot \\lambda^2}\\right) = \\frac{n}{2\\cdot\\lambda^2}$\n",
    "\n",
    "$x_{\\alpha} : \\mathrm{\\Phi}(x_{\\alpha}) = 1 - \\frac{\\alpha}{2} = 1 - \\frac{0.2}{2} = 0.9$, где $\\alpha = \\alpha_2 = 0.2$\n",
    "$\\mathrm{\\Phi}(x_{\\alpha}) = 0.9 \\Rightarrow x_{\\alpha} = 1.28\n",
    "$\n",
    "\n",
    "*Асимптотический доверительный интервал:*\n",
    "$\\left[\\frac{1}{\\overline{X}} - \\frac{x_{\\alpha}}{\\sqrt{n\\cdot \\frac{n}{2\\cdot\\lambda^2}}} , \\frac{1}{\\overline{X}} + \\frac{x_{\\alpha}}{\\sqrt{n\\cdot \\frac{n}{2\\cdot\\lambda^2}}} \\right] \\ni \\lambda$\n",
    "\n",
    "Таким образом, АДИ уровня значимости $\\alpha_1$ для параметра $\\lambda$:\n",
    "\n",
    "$$\\left[0.184, 4.263\\right] \\ni \\lambda$$"
   ]
  },
  {
   "cell_type": "code",
   "execution_count": 138,
   "id": "6d1b3577-4b41-4f78-8677-f7862c5dd129",
   "metadata": {},
   "outputs": [
    {
     "name": "stdout",
     "output_type": "stream",
     "text": [
      "Асимптотический доверительный интервал:  [0.184, 4.263]\n"
     ]
    }
   ],
   "source": [
    "x_alpha = stats.norm.ppf(0.9)\n",
    "xMean = np.mean(data_2)\n",
    "adi = []\n",
    "left = 1/xMean - x_alpha *xMean/(n * n / 2 * xMean)**0.5 #подсчёт левой границы АДИ\n",
    "adi.append(round(left,3))\n",
    "left = 1/xMean + x_alpha *xMean/(n * n / 2 * xMean)**0.5 #подсчёт правой границы АДИ\n",
    "adi.append(round(right,3))\n",
    "print(\"Асимптотический доверительный интервал: \", adi)"
   ]
  },
  {
   "cell_type": "markdown",
   "id": "c067bb98-9589-4d44-b66d-a7a083af7a80",
   "metadata": {},
   "source": [
    "**i.e) С использованием теоремы Колмогорова построить критерий значимости проверки пустой гипотезы согласия с гамма распределением с параметром $\\lambda_{0}$. Проверить гипотезу на уровне значимости $\\alpha_{2}$. Вычислить наибольшее значение уровня значимости, на котором ещё нет оснований отвергнуть данную гипотезу.**<br>\n",
    "Пусть данная выборка $X_1, X_2, \\dots, X_n$ - выборка из распределения с функцией распределения F.<br>\n",
    "Основная гипотеза: $H_0 : F \\equiv F_{\\lambda_0}$<br>\n",
    "Альтернативная гипотеза: $H_A : \\exists x : F(x) \\neq F_{\\lambda_0}(x)$<br>\n",
    "Составим критерий уровня значимости $\\alpha_2$:<br>\n",
    "$\\phi(x) = 0$, при $D_n \\le x_{\\alpha_2}$\n",
    "\n",
    "$\\phi(x) = 1$, при $D_n > x_{\\alpha_2}$<br>\n",
    "где $x_{\\alpha_2} : K(x_{\\alpha_2} / \\sqrt{n}) = 1 - \\alpha_2$"
   ]
  },
  {
   "cell_type": "code",
   "execution_count": 139,
   "id": "c184164a-dc46-457e-b8d4-bff044e4c870",
   "metadata": {},
   "outputs": [
    {
     "name": "stdout",
     "output_type": "stream",
     "text": [
      "Статистика критерия Колмогорова Dn: 0.7599376786116976\n",
      "x_alpha_2: 0.14413448539461915\n"
     ]
    }
   ],
   "source": [
    "values, edges = np.histogram(data_2, bins=len(data_2))\n",
    "Y = values.cumsum() / len(data_2)\n",
    "alpha_2 = 0.25\n",
    "\n",
    "def F_n(x, Y, edges):\n",
    "  for i in range(len(Y)):\n",
    "    if (x > edges[i] and x <= edges[i+1]):\n",
    "      return Y[i]\n",
    "    elif (x > edges[-1]):\n",
    "      return 1\n",
    "    elif (x <= edges[0]):\n",
    "      return 0\n",
    "\n",
    "def F_0(x, lbd):\n",
    "  return stats.gamma.cdf(x, a = 1/2, scale = lbd/2)\n",
    "\n",
    "D = 0\n",
    "x = 0\n",
    "while (x <= 5):\n",
    "  if (D < np.abs(F_n(x, Y, edges) - F_0(x, lambda_0))):\n",
    "    D = np.abs(F_n(x, Y, edges) - F_0(x, lambda_0))\n",
    "  x += 0.001\n",
    "\n",
    "print(\"Статистика критерия Колмогорова Dn:\", D)\n",
    "print(\"x_alpha_2:\", stats.kstwobign.ppf(1 - alpha_2) / np.sqrt(len(data_2)))"
   ]
  },
  {
   "cell_type": "markdown",
   "id": "3579e265-dc45-400d-b78e-768c264ae52e",
   "metadata": {},
   "source": [
    "$D_n \\approx 0.760$<br>\n",
    "$x_{\\alpha_2} \\approx 0.144$<br>\n",
    "$D_n > x_{\\alpha_2}$ следовательно отвергаем гипотезу $H_0$"
   ]
  },
  {
   "cell_type": "code",
   "execution_count": 124,
   "id": "801c1a7d-99c3-48f5-a14c-5d5de4ffbf1b",
   "metadata": {},
   "outputs": [
    {
     "data": {
      "text/plain": [
       "0.0"
      ]
     },
     "execution_count": 124,
     "metadata": {},
     "output_type": "execute_result"
    }
   ],
   "source": [
    "1 - stats.kstwobign.cdf(D*np.sqrt(len(data_2)))"
   ]
  },
  {
   "cell_type": "markdown",
   "id": "df091e6c-ff95-4fae-9e51-6eed7f8c21f8",
   "metadata": {},
   "source": [
    "Наибольшее значение уровня значимости, на котором ещё нет оснований отвергнуть данную гипотезу стремится к нулю"
   ]
  },
  {
   "cell_type": "markdown",
   "id": "52ef022e-bf9d-4d45-be85-e12556b691a1",
   "metadata": {},
   "source": [
    "**i.f) Используя гистограмму частот, построить критерий значимости $\\chi^2$ проверки простой гипотезы согласия с показательным распределением с параметром $\\lambda_{0}$. Проверить гипотезу на уровне значимости $\\alpha_{2}$. Вычислить наибольшее значение уровня значимости, на котором ещё нет оснований отвергнуть данную гипотезу.**<br>"
   ]
  },
  {
   "cell_type": "code",
   "execution_count": 140,
   "id": "0a375170-02f6-4731-983b-7a48e4abdad6",
   "metadata": {},
   "outputs": [
    {
     "name": "stdout",
     "output_type": "stream",
     "text": [
      "Значения вероятностей: [14.384068479378982, 0.13478168671431823, 0.08930948898423513, 0.06833236507879074, 0.055453600890982405, 0.04647792066394187, 0.039758285659232236, 0.03449257605881804, 0.03023436860872957]\n",
      "666.06\n",
      "x_alpha_1 равен: 11.030091430303113\n",
      "p-value =  0.19999999999999973\n"
     ]
    }
   ],
   "source": [
    "# Высчитываем количество чисел и вероятностей\n",
    "for i in range (len(result)):\n",
    "    P_f[i] = np.sqrt(lambda_0) * np.exp(-lambda_0 * i / 2) / (sqrt(2 * pi * (i+0.0001)))\n",
    "print(\"Значения вероятностей:\", P_f)\n",
    "\n",
    "#вычисление критерия хи квадрат\n",
    "chi = 0\n",
    "for j in range(len(result)):\n",
    "    chi += ((result[j] - n*P_f[j])**2) / (n*P_f[j])\n",
    "print(round(chi, 2))\n",
    "print(\"x_alpha_1 равен:\", stats.chi2.ppf(1 - 0.2, df = 9-1))\n",
    "print('p-value = ', 1 - stats.chi2.cdf(stats.chi2.ppf(1 - 0.2, df = 9-1), 8))"
   ]
  },
  {
   "cell_type": "markdown",
   "id": "a54a8475-736b-4049-98d5-00af9db0d2a3",
   "metadata": {},
   "source": [
    "Из таблицы: $\\chi_{k-1, \\alpha_1}^2 = \\chi_{8, 0.2}^2 = 11.03$<br>\n",
    "Получили: $\\chi^2 = 666.06$<br>\n",
    "Так как $\\chi^2 > \\chi_{8, 0.2}^2$, то гипотезу отвергаем"
   ]
  },
  {
   "cell_type": "code",
   "execution_count": 130,
   "id": "26d516e9-f9d1-4c27-9f62-0a6e2aeec853",
   "metadata": {},
   "outputs": [
    {
     "name": "stdout",
     "output_type": "stream",
     "text": [
      "0\n"
     ]
    }
   ],
   "source": [
    "xi_2 = 666.06\n",
    "max_alpha = 0\n",
    "for i in range(1, 10000):\n",
    "    if (xi_2 <= stats.chi2.ppf(1 - i/10000, 8)):\n",
    "        max_alpha = i/10000\n",
    "print(max_alpha)"
   ]
  },
  {
   "cell_type": "markdown",
   "id": "d11a7f1e-7d1c-4493-9142-236b56389ace",
   "metadata": {},
   "source": [
    "Наибольшее значение уровня значимости, при котором нет еще оснований отвергнуть стремится к нулю."
   ]
  },
  {
   "cell_type": "markdown",
   "id": "8113365b-d0bb-4a62-b7ec-cae64068ad49",
   "metadata": {},
   "source": [
    "g) Построить критерий значимости $\\chi^2$ проверки сложной гипотезы согласия с показательным распределением. Проверить гипотезу на уровне значимости $\\alpha_{2}$. Вычислить наибольшее значение уровня значимости, на котором ещё нет оснований отвергнуть данную гипотезу.<br>"
   ]
  },
  {
   "cell_type": "code",
   "execution_count": 141,
   "id": "50e15d3f-757a-4a9f-b407-bf4d901abc69",
   "metadata": {},
   "outputs": [
    {
     "name": "stdout",
     "output_type": "stream",
     "text": [
      "3.905\n",
      "Значения вероятностей: [78.83527464110537, 0.11187650621997083, 0.011227285801424097, 0.0013009865050181227, 0.00015989881932863397, 2.029697703218934e-05, 2.62955031459718e-06, 3.4550046118962166e-07, 4.586623266710899e-08]\n",
      "532858.07\n",
      "x_alpha_1 равен: 9.803249900240838\n",
      "p-value =  0.19999999999999996\n"
     ]
    }
   ],
   "source": [
    "# Высчитываем количество чисел и вероятностей\n",
    "print(mean)\n",
    "for i in range (len(result)):\n",
    "    P_f[i] = np.sqrt(mean) * np.exp(-mean * i / 2) / (sqrt(2 * pi * (i+0.0001)))\n",
    "print(\"Значения вероятностей:\", P_f)\n",
    "\n",
    "#вычисление критерия хи квадрат\n",
    "chi = 0\n",
    "for j in range(len(result)):\n",
    "    chi += ((result[j] - n*P_f[j])**2) / (n*P_f[j])\n",
    "print(round(chi, 2))\n",
    "print(\"x_alpha_1 равен:\", stats.chi2.ppf(1 - 0.2, df = 9-2))\n",
    "print('p-value = ', 1 - stats.chi2.cdf(stats.chi2.ppf(1 - 0.2, df = 9-2), 7))"
   ]
  },
  {
   "cell_type": "markdown",
   "id": "d7fdb845-a37b-48d8-abf1-88fa348165a7",
   "metadata": {},
   "source": [
    "Из таблицы: $\\chi_{k-1, \\alpha_1}^2 = \\chi_{7, 0.2}^2 = 9.803$<br>\n",
    "Получили: $\\chi^2 = 532858.07$<br>\n",
    "Так как $\\chi^2 > \\chi_{7, 0.2}^2$, то гипотезу отвергаем"
   ]
  },
  {
   "cell_type": "code",
   "execution_count": 142,
   "id": "aa85641b-2dc7-484f-8f14-aa81de3efa08",
   "metadata": {},
   "outputs": [
    {
     "name": "stdout",
     "output_type": "stream",
     "text": [
      "0\n"
     ]
    }
   ],
   "source": [
    "xi_2 = 532858.07\n",
    "max_alpha = 0\n",
    "for i in range(1, 10000):\n",
    "    if (xi_2 <= stats.chi2.ppf(1 - i/10000, 7)):\n",
    "        max_alpha = i/10000\n",
    "print(max_alpha)"
   ]
  },
  {
   "cell_type": "markdown",
   "id": "f78f90f8-9c3c-436f-afc2-ff379d8de7e6",
   "metadata": {},
   "source": [
    "Наибольшее значение уровня значимости, на котором ещё нет оснований отвергнуть данную гипотезу близко стремится к нулю"
   ]
  },
  {
   "cell_type": "markdown",
   "id": "69bd65a7-390d-48c5-b844-504e587a7a85",
   "metadata": {},
   "source": [
    "**i.h) Построить наиболее мощный критерий проверки простой гипотезы о показательности с параметром  $\\lambda=\\lambda_{0}$ при альтернативе показательности с параметром $\\lambda=\\lambda_{1}$. Проверить гипотезу на уровне значимости $\\alpha_{2}$. Что получится, если поменять местами основную и альтернативную гипотезы?**<br>"
   ]
  },
  {
   "cell_type": "markdown",
   "id": "3417c33e-ed13-437a-9e7d-52195c31bd96",
   "metadata": {},
   "source": [
    "$ H_{0}:\\lambda=\\lambda_{0}$<br>\n",
    "$ H_{1}:\\lambda=\\lambda_{1}$<br>\n",
    "Cтатистическое отношение правдоподобия:<br>\n",
    "$LR(\\overrightarrow{X},\\lambda_{1},\\lambda_{0})=\\left(\\frac{\\lambda_{0}}{\\lambda_{1}}\\right)^{\\frac{n}{2}}\\cdot exp \\left((\\lambda_{1}-\\lambda_{0})\\cdot \\sum_{i=1}^{n}X_{i} \\right)$<br>\n",
    "$LR(\\overrightarrow{X},\\lambda_{1},\\lambda_{0})>  c\\Leftrightarrow \\overline{X} < c^*$<br>\n",
    "$LR(\\overrightarrow{X},\\lambda_{1},\\lambda_{0})<  c\\Leftrightarrow \\overline{X} > c^*$<br>\n",
    "$exp({\\sum_{i=1}^{n}X_{i}}\\cdot (-\\lambda_{1} + \\lambda_{0}))=\\left(\\frac{\\lambda_{0}}{\\lambda_{1}}\\right)^n c$<br>\n",
    "Логарифмируем:<br>\n",
    "(1) $c* = {\\sum_{i=1}^{n}X_{i}}=n \\cdot ln\\left(\\left(\\frac{\\lambda_{0}}{\\lambda_{1}}\\right) c\\right)$<br>\n",
    "$\\sum_{i=1}^{n}X_{i}\\sim \\Gamma \\left(n,\\frac{1}{\\lambda}\\right)$<br>\n",
    "$1-\\Phi_{\\Gamma \\left(n,\\frac{1}{\\lambda}\\right)}(c)=\\alpha_{2}$<br>\n",
    "$ c = \\Phi^{-1}_{\\Gamma \\left(n,\\frac{1}{\\lambda}\\right)}(1-\\alpha_{2})$<br>\n",
    "$ c = 455.762$<br>\n",
    "Найдем с* подставив значени в выражение (1):<br>\n",
    "$ с* = 273.402$<br>\n",
    "$LR(\\overrightarrow{X}, \\lambda_{0}, \\lambda_{1}) = 1005356.56$<br>\n",
    "$ \\phi(x) =\\left\\{\n",
    "  \\begin{array}{l}\n",
    "    1, LR(x) > 455.762 \\\\\n",
    "    p, LR(x) = 455.762\\\\\n",
    "    0, LR(x) < 455.762\\\\\n",
    "  \\end{array}\\right.$<br>\n",
    "$c < LR  \\to$ принимаем гипотезу"
   ]
  },
  {
   "cell_type": "code",
   "execution_count": 146,
   "id": "e5c51e82-fa2c-403d-ad33-c98ea5177415",
   "metadata": {},
   "outputs": [
    {
     "name": "stdout",
     "output_type": "stream",
     "text": [
      "c = 455.7615531194696\n",
      "c* =  273.40216477584875\n",
      "LR = 14077637.28197645 \n",
      "\n"
     ]
    }
   ],
   "source": [
    "lambda_0 = 0.13\n",
    "lambda_1 = 0.25\n",
    "c1 = stats.gamma.ppf(0.9, a =50, scale = 1/lambda_0)\n",
    "print('c =', c1)\n",
    "cSt1 = 50*np.log(lambda_0/lambda_1*c1)\n",
    "print('c* = ',cSt1)\n",
    "LR1 = ((lambda_0/lambda_1)**25)*np.exp(lambda_1*cSt1 - lambda_0*cSt1)\n",
    "print('LR =', LR1,'\\n')"
   ]
  },
  {
   "cell_type": "markdown",
   "id": "8cb936ea-f1ff-43c5-8732-ec1965eef389",
   "metadata": {},
   "source": [
    "**Меняем местами основную и альтернативную гипотезу:**<br>\n",
    "$H_{0}=\\lambda_{1}$<br>\n",
    "$H_{1}=\\lambda_{0}$<br>\n",
    "Cтатистическое отношение правдоподобия:<br>\n",
    "$LR(\\overrightarrow{X},\\lambda_{0},\\lambda_{1}) = \\left(\\frac{\\lambda_{0}}{\\lambda_{1}}\\right)^n \\cdot exp(-\\lambda_{0} \\cdot {\\sum_{i=1}^{n}X_{i}) + \\lambda_{1} \\cdot {\\sum_{i=1}^{n}X_{i}} }$<br>\n",
    "$LR(\\overrightarrow{X},\\lambda_{0},\\lambda_{1})>  c\\Leftrightarrow \\overline{X} < c^*$<br>\n",
    "$LR(\\overrightarrow{X},\\lambda_{0},\\lambda_{1})<  c\\Leftrightarrow \\overline{X} > c^*$<br>\n",
    "$exp({\\sum_{i=1}^{n}X_{i})\\cdot (-\\lambda_{0} + \\lambda_{1})}=\\left(\\frac{\\lambda_{1}}{\\lambda_{0}}\\right)^n c$<br>\n",
    "$ c = \\Phi^{-1}_{\\Gamma \\left(n,\\frac{1}{\\lambda}\\right)}(1-\\alpha_{2})$<br>\n",
    "$ c = 236.996$<br>\n",
    "$ с* = 240.705$<br>\n",
    "$LR(\\overrightarrow{X}, \\lambda_{0}, \\lambda_{1})  = 0.00000359$<br>\n",
    "$ \\phi(x) =\\left\\{\n",
    "  \\begin{array}{l}\n",
    "    1, LR(x) > 236.996 \\\\\n",
    "    p, LR(x) = 236.996\\\\\n",
    "    0, LR(x) < 236.996\\\\\n",
    "  \\end{array}\\right.$<br>\n",
    "\n",
    "$ c > LR \\to$ принимаем гипотезу"
   ]
  },
  {
   "cell_type": "code",
   "execution_count": 148,
   "id": "8fe8f812-afde-45af-8fb7-a65c8ae2b349",
   "metadata": {},
   "outputs": [
    {
     "name": "stdout",
     "output_type": "stream",
     "text": [
      "c = 236.99600762212424\n",
      "c* =  240.70584140551557\n",
      "LR = 3.592941672924512e-06\n"
     ]
    }
   ],
   "source": [
    "c2 = stats.gamma.ppf(0.9, a =50, scale=1/lambda_1)\n",
    "print('c =', c2)\n",
    "cSt2 = 50*np.log(lambda_0/lambda_1*c2)\n",
    "print('c* = ',cSt2)\n",
    "LR2 = ((lambda_1/lambda_0)**25)*np.exp(lambda_0*cSt2 - lambda_1*cSt2)\n",
    "print('LR =', LR2)"
   ]
  },
  {
   "cell_type": "markdown",
   "id": "a6b29007-fe67-41a4-8124-a696cf84f4a4",
   "metadata": {},
   "source": [
    "## Выводы\n",
    "В ходе исследования были освоены и успешно применены методы математической статистики для решения разнообразных задач статистического анализа. Полученные навыки включают в себя использование прикладных программных пакетов для эффективной реализации этих методов. Изучив основные концепции и методы, мы приобрели опыт в проведении статистических тестов, анализе выборочных данных, построении доверительных интервалов, проверке гипотез и других аспектах статистического анализа.\n",
    "\n",
    "В ходе работы над проектом мы успешно применяли различные программные инструменты, такие как Python с библиотеками NumPy и Scipy (с использованием пакетов stats, expon и других). Эти инструменты стали неотъемлемой частью нашей работы, обеспечивая возможность проводить анализ данных, вычислять статистические характеристики выборок, а также создавать и тестировать статистические модели.\n",
    "\n",
    "В процессе исследования применялись различные статистические критерии, включая критерий хи-квадрат, который применяется для проверки гипотезы о соответствии выборки определенному распределению. Данный критерий позволил нам оценить степень соответствия выборочных данных ожидаемым значениям из предполагаемого теоретического распределения.\n",
    "\n",
    "Особое внимание было уделено работе с различными семействами распределений. Мы осуществляли построение оценок параметров, асимптотических интервалов и проверку гипотез о соответствии данных этим распределениям. Это позволило нам глубже понять особенности данных и выбрать наиболее подходящие статистические модели для проведения анализа."
   ]
  }
 ],
 "metadata": {
  "kernelspec": {
   "display_name": "Python 3 (ipykernel)",
   "language": "python",
   "name": "python3"
  },
  "language_info": {
   "codemirror_mode": {
    "name": "ipython",
    "version": 3
   },
   "file_extension": ".py",
   "mimetype": "text/x-python",
   "name": "python",
   "nbconvert_exporter": "python",
   "pygments_lexer": "ipython3",
   "version": "3.11.3"
  }
 },
 "nbformat": 4,
 "nbformat_minor": 5
}
