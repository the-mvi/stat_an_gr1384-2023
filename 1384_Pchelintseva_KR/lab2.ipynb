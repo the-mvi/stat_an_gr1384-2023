{
 "cells": [
  {
   "cell_type": "markdown",
   "metadata": {},
   "source": [
    "# Лабораторная работа №2: Классические методы математической статистики\n",
    "Выполнила студентка гр.1384 Пчелинцева Кристина. Вариант 13"
   ]
  },
  {
   "cell_type": "markdown",
   "metadata": {},
   "source": [
    "## Цель работы\n",
    "Научится применять методы математической статистики для решения задач статистического анализа; сформировать навыки реализации методов с помощью прикладных программных пакетов."
   ]
  },
  {
   "cell_type": "markdown",
   "metadata": {},
   "source": [
    "## Постановка задачи\n",
    "Для полученных в результате эксперимента наборов данных выполнить статистическую обработку. Полученные результаты содержательно проинтерпретировать."
   ]
  },
  {
   "cell_type": "markdown",
   "metadata": {},
   "source": [
    "## Основные теоретические положения\n",
    "\n",
    "1. Выборочные числовые характеристики:\n",
    "Мат.ожидание $\\overline{X}=\\frac{1}{n}\\sum_{i=1}^{n}X_{i}$\n",
    "\n",
    "Дисперсия $S^{2}=\\frac{1}{n}\\sum_{i=1}^{n}\\left( X_{i}-\\overline{X} \\right)^{2}=\\overline{X^{2}}-\\overline{X}^{2}$\n",
    "\n",
    "Коэф.асимметрии (скошености) $\\widehat{S_{kew}}X=\\frac{\\left(\\frac{1}{n}\\sum_{i=1}^{n}\\left( X_{i}-\\overline{X} \\right)^{3} \\right)}{S^{3}}$\n",
    "\n",
    "Коэф.эксцесса (островершинности) $\\widehat{K_{urt}}X=\\frac{\\frac{1}{n}\\sum_{i=1}^{n}\\left( X_{i}-\\overline{X}^{4} \\right)}{S^{4}}-3$\n",
    "\n",
    "2. Оценка Максимального Правдоподобия (ОМП):\n",
    "\n",
    "Если $X_{1},...,X_{n}$-выборка из распределения с плотностью распределения $P_{\\theta}, \\theta\\in \\Theta$, то\n",
    "\n",
    "Функция правдоподобия распадается в произведения $L(\\overrightarrow{X},\\theta)=\\prod_{i=1}^{n}P_{\\theta}(X_{i})$\n",
    "\n",
    "Логарифм функции правдоподобия представляется в виде суммы $LL(\\overrightarrow{X},\\theta)=\\ln L(\\overrightarrow{X},\\theta)=\\sum_{i=1}^{n}\\ln P_{\\theta}(X_{i})$\n",
    "\n",
    "В силу монотонности логарифма задача максимизации функции правдоподобия сводится к задаче максимизации ее логарифма по всем $\\theta\\in \\Theta  LL(\\overrightarrow{X}),\\theta=\\sum_{i=1}^{n}\\ln P_{\\theta}(X_{i})$\n",
    "\n",
    "Если $\\theta$ - d-мерный параметр и $P_{\\theta}$ дифференцируема по $\\theta$, то для нахождения максимума надо найти решения системы уравнений: \n",
    "$(\\overrightarrow{X},\\theta)=\\frac{\\partial }{\\partial \\theta}LL(\\overrightarrow{X},\\theta)=0, i=\\overline{1,d}$\n",
    "\n",
    "3. Оценка метода моментов (ОММ)\n",
    "\n",
    "Пусть $X_{1},...,X_{n}$-выбока из распределения $P_{\\theta}, \\theta=(\\theta_{1},...,\\theta_{d})$\n",
    "\n",
    "$\\exists \\mu_{k}(\\theta)=\\mathbb{E}X^{k}_{1}, k=\\overline{1,d}$\n",
    "\n",
    "Если $\\exists$ ! решение $\\widetilde{\\theta}(X)$ системы уравнений: $\\widehat{\\mu^{k}}(\\widetilde{\\theta})=\\mu_{k}(\\theta), k=\\overline{1,d}$, где $\\widetilde{\\theta}(X)=\\frac{1}{n}\\sum_{i=1}^{n}X^{k}_{i}$-выборочный момент k-го порядка, то $\\widetilde{\\theta}(X)$ называется оценкой по методу моментов\n",
    "\n",
    "4. НРМД-оценки (несмещенная оценка)\n",
    "\n",
    "Оценка $\\widehat{\\theta}(X)$ параметра $\\theta$ называется несмещенной, если при любом значении параметра $\\theta\\in \\Theta: \\mathbb{E}\\widehat{\\theta}(X)=\\theta$\n",
    "\n",
    "Смещением оценки называется величина: $bias_{\\widehat{\\theta}}(\\theta)=\\mathbb{E}_{\\theta}\\widehat{\\theta}(X)-\\theta$\n",
    "\n",
    "Алгоритм несмещенного оценивания:\n",
    "\n",
    "4.1. Найти оценку $\\widehat{\\theta}(T)$, являющуюся функцией от минимальной достаточной статистики T(e.g.ОМП)\n",
    "\n",
    "4.2. Доказать полноту МДС T\n",
    "\n",
    "4.3. Скорректировать смещение:$\\widetilde{\\theta}(T)=f(\\widehat{\\theta}(T),T): \\mathbb{E}_{\\theta}\\widetilde{\\theta}(T)=\\theta,\\forall \\theta\\in \\Theta$\n",
    "\n",
    "5. Асимптотический доверительный интервал (АДИ)\n",
    "\n",
    "5.1. На базе Асимптотической нормальности оценки $\\widehat{\\theta}$\n",
    "\n",
    "Асимптотическая нормальность $\\sqrt{n}\\left( \\widehat{\\theta}(\\overrightarrow{X})-\\theta)\\right)\\sim \\mathcal{N}\\left(0,\\sigma^{2}(\\theta)\\right)$\n",
    "\n",
    "Тогда $\\sqrt{n}\\frac{\\widehat{\\theta}(\\overrightarrow{X})-\\theta}{\\sigma\\left(\\widehat{\\theta}(\\overrightarrow{X})\\right)}$    \n",
    "\n",
    "Выбираем $X_{\\alpha}: \\Phi(X_{\\alpha})=1-\\frac{\\alpha}{2}$\n",
    "\n",
    "А.Д.И. $\\left[ \\widehat{\\theta}(\\overrightarrow{X})-\\frac{X_{\\alpha}\\cdot \\sigma\\left( \\widehat{\\theta}(\\overrightarrow{X}) \\right)}{\\sqrt{n}}; \\widehat{\\theta}(\\overrightarrow{X})+\\frac{X_{\\alpha}\\cdot \\sigma\\left( \\widehat{\\theta}(\\overrightarrow{X}) \\right)}{\\sqrt{n}}\\right]$\n",
    "\n",
    "5.2 на базе ОМП\n",
    "\n",
    "Пусть $\\widehat{\\theta}(\\overrightarrow{X})$-ОМП\n",
    "\n",
    "При выполнении опр.условий регулярности: $\\sqrt{n}\\left( \\widehat{\\theta}(\\overrightarrow{X})-\\theta)\\right)\\sim \\mathcal{N}\\left(0,\\frac{1}{I(\\theta)}\\right), I(\\theta)=-\\mathbb{E}\\left( \\frac{\\partial^{2} LL}{\\partial \\theta^{2}} \\right)$-информация Фишера\n",
    "\n",
    "Тогда $\\sqrt{n\\cdot I\\left( \\widehat{\\theta}(\\overrightarrow{X}) \\right)}\\cdot \\left( \\widehat{\\theta}(\\overrightarrow{X})-\\theta \\right)\\sim \\mathcal{N}(0,1)$\n",
    "\n",
    "Выбираем $X_{\\alpha}: \\Phi(X_{\\alpha})=1-\\frac{\\alpha}{2}$\n",
    "\n",
    "А.Д.И $\\left[ \\widehat{\\theta}(\\overrightarrow{X})-\\frac{X_{\\alpha}}{\\sqrt{n\\cdot I\\left( \\widehat{\\theta}(\\overrightarrow{X}) \\right)}};\\widehat{\\theta}(\\overrightarrow{X})+\\frac{X_{\\alpha}}{\\sqrt{n\\cdot I\\left( \\widehat{\\theta}(\\overrightarrow{X}) \\right)}} \\right]$\n",
    "\n",
    "6. Критерий $\\chi^2$ для проверки гипотез основан на справнении теоритической плотности распределения и гистограммы, либо теоритической вероятностной меры и полигона частот.\n",
    "\n",
    "Разобъем множество значений сл. вел. X на $N$ интервалов $I_{1}, ..., I_{N}:$ $I_{i} = (a_{i-1}, a_i], i = \\overline {1,N}$. данные интервалы не пересекаются и покрывают всё множество возможных значений сл. вел. X.\n",
    "\n",
    "Обозначим через $p_{i}$ теоритическую вероятность попадания сл. вел. X в интервал $I_{i}$, при условии, что справедлива $H_{0}$.\n",
    "\n",
    "$p_{i} = P(X \\in I_{i}|H_{0})$\n",
    "\n",
    "Через $n_{i}$ обозначим число наблюдений нашей выборки, попавших в соответветствующий интервал $I_{i}$.\n",
    "\n",
    "$n_{i} = num(x_{j} \\in I_{i})$\n",
    "\n",
    "Статистика критерия основана на сравнении относительной частоты и теоритической.\n",
    "\n",
    "$\\chi^{2}_{набл} = \\sum \\limits_{i=1}^{N} \\frac{n}{p_{i}} \\bigg ( \\frac{n_{i}}{n} - p_{i} \\bigg )^{2} = \\sum \\limits_{i=1}^{N} \\frac{(n_{i} - p_{i} n)^{2}}{n p_{i}} \\sim \\chi^{2}_{N-1}$\n",
    "\n",
    "Если $\\mathcal{X}^{2}_{N-1,1-\\alpha_{1}} \\lt \\chi^2_{набл}$, то гипотезу отвергаем\n",
    "\n",
    "Если $\\mathcal{X}^{2}_{N-1,1-\\alpha_{1}} \\gt \\chi^2_{набл}$, то гипотезу принимаем\n",
    "\n",
    "7. теорема Колмогорова\n",
    "\n",
    "$D_{n}(\\overrightarrow{X}) = \\overset{}{\\underset{X \\in \\mathbb R}{sup}} |F_{0}(X_{i}) - F_{n}(X_{i})|$\n",
    "\n",
    "Если гипотеза $H_{0}$ верна, и $F_{0}(X)$ - непрерывная ф-я на $\\mathbb R$, тогда имеет место сходимость\n",
    "\n",
    "$P(\\sqrt{n} D_{n}(\\overrightarrow{X}) < z) \\xrightarrow[n \\rightarrow \\infty]{} K(z)$, где\n",
    "\n",
    "$K(z)=1-\\alpha$ - ф-я распределения Колмогорова.\n",
    "\n",
    "Если $D_{n} \\lt z$, то гипотезу принимаем\n",
    "\n",
    "Если $D_{n} \\gt z$, то гипотезу отвергаем\n",
    "\n",
    "8. Наиболее мощный критерий простой гипотезы\n",
    "\n",
    "Для основной гипотезы $H_{0}: \\theta=\\theta_{0}$ и альтернативной гипотезы $H_{1}: \\theta=\\theta_{1}$, где $\\theta_{0}$ и $\\theta_{1}$ - фиксированные параметры, мы можем построить статистику правдоподобия:\n",
    "\n",
    "$LR(\\overrightarrow{X},\\theta_{1},\\theta_{0})=\\frac{L(\\overrightarrow{X},\\theta_{1})}{L(\\overrightarrow{X},\\theta_{0})}=\\frac{P_{\\theta_{1}}(X)}{P_{\\theta_{0}}(X)}$ - статистика отношений правдоподобия\n",
    "\n",
    "где $L(\\overrightarrow{X},\\theta_{1})$ - функция правдоподобия для альтернативной гипотезы, а $L(\\overrightarrow{X}\\theta_{0})$ - функция правдоподобия для основной гипотезы.\n",
    "\n",
    "Наиболее мощным критерием будет критическая область, в которой наблюдаемое значение статистики правдоподобия $LR(\\overrightarrow{X},\\theta_{1},\\theta_{0})$ будет отклоняться от значения 1 в сторону более высоких значений.\n",
    "\n",
    "Чтобы построить критическую область, мы должны задать уровень значимости $\\alpha$ - вероятность ошибки первого рода. Затем мы находим критическое значение $c$ такое, что $P\\left(LR(\\overrightarrow{X},\\theta_{1},\\theta_{0}) > c | H_{0} \\right) = \\alpha$, где $P\\left(LR(\\overrightarrow{X},\\theta_{1},\\theta_{0}) > c | H_{0}\\right)$ - вероятность получить наблюдаемое значение статистики правдоподобия, большее или равное $c$, при условии, что основная гипотеза верна.\n",
    "\n",
    "$LR(\\overrightarrow{X},\\theta_{1},\\theta_{0})\\gt c$, то принимаем основную гипотезу\n",
    "\n",
    "$LR(\\overrightarrow{X},\\theta_{1},\\theta_{0})\\lt c$, то отвергаем основную гипотезу"
   ]
  },
  {
   "cell_type": "markdown",
   "metadata": {},
   "source": [
    "## Выполнение работы"
   ]
  },
  {
   "cell_type": "code",
   "execution_count": 2,
   "metadata": {},
   "outputs": [],
   "source": [
    "import numpy as np\n",
    "import matplotlib.pyplot as plt\n",
    "from scipy import stats\n",
    "data = [2, 0, 1, 1, 0, 0, 0, 0, 0, 0, 0, 4, 2, 0, 1, 0, 0, 0, 0, 0, 0, 0, 1, 1, 0, 0, 1, 0, 1, 0, 0, 1, 2, 12, 4, 0, 0, 3, 0, 4, 1, 0, 3, 1, 2, 1, 0,\n",
    "0, 0, 2]"
   ]
  },
  {
   "cell_type": "markdown",
   "metadata": {},
   "source": [
    "## Задание 1\n",
    "### a)Построить вариционный ряд, эмпирическую функцию распределения и гистограмму частот"
   ]
  },
  {
   "cell_type": "code",
   "execution_count": 3,
   "metadata": {},
   "outputs": [
    {
     "name": "stdout",
     "output_type": "stream",
     "text": [
      "Вариационный ряд:\n",
      " [ 0  0  0  0  0  0  0  0  0  0  0  0  0  0  0  0  0  0  0  0  0  0  0  0\n",
      "  0  0  0  0  1  1  1  1  1  1  1  1  1  1  1  2  2  2  2  2  3  3  4  4\n",
      "  4 12]\n"
     ]
    },
    {
     "data": {
      "image/png": "[encoded data removed]",
      "text/plain": [
       "<Figure size 640x480 with 1 Axes>"
      ]
     },
     "metadata": {},
     "output_type": "display_data"
    }
   ],
   "source": [
    "sorted_data = np.sort(data)\n",
    "n = len(data)\n",
    "variation_range = np.unique(sorted_data)\n",
    "empirical_function = np.cumsum(np.bincount(sorted_data)) / n\n",
    "var = [int(x) for x in range(13)]\n",
    "print('Вариационный ряд:\\n',sorted_data)\n",
    "# Нанесение на график вариационного ряда\n",
    "plt.subplot(311)\n",
    "plt.plot(range(len(sorted_data)), sorted_data, marker='o', color='g')\n",
    "plt.xlabel('Наблюдения')\n",
    "plt.ylabel('Значения')\n",
    "plt.title('Вариационный ряд')\n",
    "plt.show()"
   ]
  },
  {
   "cell_type": "code",
   "execution_count": 22,
   "metadata": {},
   "outputs": [
    {
     "data": {
      "image/png": "[encoded data removed]",
      "text/plain": [
       "<Figure size 640x480 with 1 Axes>"
      ]
     },
     "metadata": {},
     "output_type": "display_data"
    }
   ],
   "source": [
    "plt.subplot(312)\n",
    "plt.step(var, empirical_function, color='r')\n",
    "plt.xlabel('Значения')\n",
    "plt.ylabel('Вероятность')\n",
    "plt.title('Эмпирическая функция')\n",
    "plt.show()"
   ]
  },
  {
   "cell_type": "code",
   "execution_count": 32,
   "metadata": {},
   "outputs": [
    {
     "data": {
      "image/png": "[encoded data removed]",
      "text/plain": [
       "<Figure size 640x480 with 1 Axes>"
      ]
     },
     "metadata": {},
     "output_type": "display_data"
    }
   ],
   "source": [
    "plt.subplot(313)\n",
    "plt.hist(sorted_data, bins=range(min(sorted_data), max(sorted_data) + 1),density=True, edgecolor='black')\n",
    "plt.xlabel('Значение')\n",
    "plt.ylabel('Относительная частота')\n",
    "plt.title('Гистограмма частот')\n",
    "plt.show()"
   ]
  },
  {
   "cell_type": "markdown",
   "metadata": {},
   "source": [
    "### b) Вычислить выборочные аналоги следующих числовых характеристик: (i)математическое ожидание, (ii)дисперсия, (iii)СКО, (iv)медианы, (v)ассиметрии,  (vi) эксцесса, (vii) вероятности $\\mathbb{P} (X\\in [a, b] )$"
   ]
  },
  {
   "cell_type": "code",
   "execution_count": 67,
   "metadata": {},
   "outputs": [
    {
     "name": "stdout",
     "output_type": "stream",
     "text": [
      "Мат.ожидание= 1.02\n",
      "Дисперсия= 3.7796000000000003\n",
      "Выборочное стандартное отклонение= 1.94411933790084\n",
      "Медиана= 0.0\n",
      "Асимметрия= 3.7933098595484998\n",
      "Эксцесс= 17.77236666339208\n",
      "Вероятность попадания в промежуток= 0.78\n"
     ]
    }
   ],
   "source": [
    "a = 0.00\n",
    "b = 1.57\n",
    "mean = np.mean(data)  # Выборочное математическое ожидание\n",
    "variance = np.var(data)  # Дисперсия\n",
    "deviation=np.std(data) #СКО\n",
    "median = np.median(data)  # Медиана\n",
    "skewness = stats.skew(data)  # Асимметрия\n",
    "kurtosis = stats.kurtosis(data)  # Эксцесс\n",
    "probability = len([x for x in data if a <= x <= b]) / len(data)  # Вероятность\n",
    "print(\"Мат.ожидание=\",mean)\n",
    "print(\"Дисперсия=\",variance)\n",
    "print(\"Выборочное стандартное отклонение=\",deviation)\n",
    "print(\"Медиана=\",median)\n",
    "print(\"Асимметрия=\",skewness)\n",
    "print(\"Эксцесс=\",kurtosis)\n",
    "print(\"Вероятность попадания в промежуток=\",probability)\n",
    "     "
   ]
  },
  {
   "cell_type": "markdown",
   "metadata": {},
   "source": [
    "### c) В предположении, что исходные наблюдения являются выборкой из распределения Пуассона, построить ОМП и ОММ параметра $\\lambda$.Найти смещение оценки.\n",
    "\n",
    "$\\textbf{Плотность распределения Пуассона:}$\n",
    "\n",
    "$P_{\\lambda}(X=k)=\\frac{\\lambda^{k}}{k!}\\cdot \\exp(-\\lambda)$\n",
    "\n",
    "$\\textbf{Построим ОМП.}$\n",
    "\n",
    "$L(\\overrightarrow{X};\\theta)=\\prod_{i=1}^{n}P_{\\lambda}(x_{i})=\\prod_{i=1}^{n}\\frac{\\lambda^{x_{i}}}{x_{i}!}\\cdot exp(-\\lambda)=\\frac{\\lambda^{\\sum_{i=1}^{n}x_{i}}}{\\prod_{i=1}^{n}(x_{i}!)}\\cdot \\exp(-n\\cdot \\lambda)$\n",
    "\n",
    "\n",
    "$LL(\\overrightarrow{X};\\theta)= \\sum_{i=1}^{n}x_{i}\\cdot \\ln(\\lambda)-\\ln(\\prod_{i=1}^{n}x_{i}!)-n\\cdot \\lambda$\n",
    "\n",
    "Найдем частную производную по параметру $\\lambda$ и приравняем производную к нулю и тем самым найдем наш параметр:\n",
    "\n",
    "$\\frac{\\partial LL(\\overrightarrow{X};\\theta)}{\\partial \\lambda} = \\frac{\\sum_{i=1}^{n}x_{i}}{\\lambda}-n=0\\implies$\n",
    "\n",
    "$\\frac{\\sum_{i=1}^{n}X_{i}}{\\lambda}=n\\implies  \\lambda=\\frac{1}{n}\\cdot \\sum_{i=1}^{n}x_{i}\\to \\widehat{\\theta}=\\widehat{\\lambda}=\\overline{X} = 1.02$ - ОМП.\n",
    "\n",
    "\n",
    "$\\textbf{Построим по ОММ.}$\n",
    "\n",
    "Теоретический момент первого порядка в распределении Пуассона: $\\mathbb{E}X_{1}=\\lambda$\n",
    "\n",
    "Эмпирический момент первого порядка: $M_{1}=\\overline{X}$\n",
    "\n",
    "Тогда $\\widetilde{\\theta}=\\widetilde{\\lambda}=\\overline{X}=1.02$\n",
    "\n",
    "Достаточная минимальная статистика: $T=\\sum_{i=1}^{n}X_{i}=50$ - МДС и ПДС, так как распределение Пуассона относится к экспоненциальному семейству.\n",
    "\n",
    "$g\\left(T(\\overrightarrow{X})\\right)=\\lambda^{\\sum_{i=1}^{n}X_{i}}\\cdot exp(-n\\cdot \\lambda)$\n",
    "\n",
    "$h(\\overrightarrow{X})=\\frac{1}{\\prod_{i=1}^{n}X_{i}!}$\n",
    "\n",
    "\n",
    "$\\mathbb{E}_{\\lambda}\\overline{X}=\\mathbb{E}_{\\lambda}\\frac{1}{n}\\cdot \\sum_{i=1}^{n}x_{i}=\\frac{1}{n}\\cdot \\mathbb{E_{\\lambda}}\\sum_{i=1}^{n}x_{i}=\\frac{1}{n}\\cdot \\sum_{i=1}^{n}\\mathbb{E_{\\lambda}}X_{1}=\\frac{1}{n}\\cdot n\\cdot \\mathbb{E}_{\\lambda}X_{1}=\\lambda=1.02$ - НРМД-оценка"
   ]
  },
  {
   "cell_type": "markdown",
   "metadata": {},
   "source": [
    "### d) Построить асимптотический доверительный интервал уровня значимости для параметра на базе оценки максимального правдоподобия"
   ]
  },
  {
   "cell_type": "markdown",
   "metadata": {},
   "source": [
    "$\\textbf{Плотность распределения Пуассона:}$\n",
    "\n",
    "$P_{\\lambda}(X=k)=\\frac{\\lambda^{k}}{k!}\\cdot \\exp(-\\lambda)$\n",
    "\n",
    "$\\alpha_1 = 0.10$ \n",
    "\n",
    "\n",
    "$\\sqrt{n}\\left( \\widehat{\\theta}(\\overrightarrow{X})-\\theta \\right)\\sim N\\left( 0, \\frac{1}{I(\\theta)} \\right)$\n",
    "\n",
    "ОМП $\\widehat{\\theta}=\\widehat{\\lambda}=\\overline{X}$\n",
    "\n",
    "Найдем информацию Фишера: \n",
    "\n",
    "$I(\\theta)=-\\mathbb{E}\\left( \\frac{\\partial^{2} LL}{\\partial \\lambda^{2}} \\right)=-\\mathbb{E}\\left( -\\frac{\\sum_{i=1}^{n}X_{i}}{\\lambda^{2}} \\right)=\\frac{n}{\\lambda^{2}}$\n",
    "\n",
    "Тогда $\\sqrt{n\\cdot I\\left(  \\widehat{\\theta}(\\overrightarrow{X})\\right)}\\left( \\widehat{\\theta}(\\overrightarrow{X})-\\theta \\right)\\sim N(0,1)$\n",
    "\n",
    "\n",
    "$X_{\\alpha}: \\mathrm{Ф}(X_{\\alpha})=1-\\frac{\\alpha_{1}}{2}=1-\\frac{0.10}{2}=0.95$\n",
    "\n",
    "$\\mathrm{Ф}(x_{\\alpha})= 0.95 \\to x_{\\alpha} = 1.65$\n",
    "\n",
    "*Асимптотический доверительный интервал:* \n",
    "$\\left[\\overline{X} - \\sqrt{\\frac{\\overline{X}}{n}} \\cdot x_{\\alpha} , \\overline{X} + \\sqrt{\\frac{\\overline{X}}{n}} \\cdot x_{\\alpha}\\right] \\ni \\lambda$\n"
   ]
  },
  {
   "cell_type": "code",
   "execution_count": 68,
   "metadata": {},
   "outputs": [
    {
     "name": "stdout",
     "output_type": "stream",
     "text": [
      "Асимптотический доверительный интервал:  [0.7843328618580859, 1.255667138141914]\n"
     ]
    }
   ],
   "source": [
    "x_alpha = 1.65\n",
    "adi = []\n",
    "\n",
    "left = mean - x_alpha * ((mean) / n)**0.5 #подсчёт левой границы АДИ\n",
    "adi.append(left)\n",
    "\n",
    "right = mean + x_alpha * (mean / n)**0.5 #подсчёт правой границы АДИ\n",
    "adi.append(right)\n",
    "\n",
    "print(\"Асимптотический доверительный интервал: \", adi)"
   ]
  },
  {
   "cell_type": "markdown",
   "metadata": {},
   "source": [
    "Таким образом, АДИ уровня значимости $\\alpha_{1}$ для параметра $\\lambda$:\n",
    "\n",
    "$\\lambda\\in $ [0.784, 1.255] "
   ]
  },
  {
   "cell_type": "markdown",
   "metadata": {},
   "source": [
    "### e)Используя гистограмму частот, построить критерий значимости $\\chi^2$ проверки простой гипотезы согласия с распределением Пуассона с параметром $\\lambda_{0}$. Проверить гипотезу на урокень значимости $\\alpha_{1}$. Вычислить наибольшее значение уровня значимости, на котором ещё нет оснований отвергнуть данную гипотезу."
   ]
  },
  {
   "cell_type": "markdown",
   "metadata": {},
   "source": [
    "$\\lambda_{0} = 2.00, \\alpha_{1} = 0.10, n = 50$\n",
    "\n",
    "$P_{i}=P_{H_{0}}=(X\\in I_{i})=\\sum_{k\\in I_{i}}^{}\\frac{\\lambda_{0}^{k}}{k!}exp(-\\lambda_{0})$"
   ]
  },
  {
   "cell_type": "markdown",
   "metadata": {},
   "source": [
    "$I_{1}=\\left[0 \\right], n_{2}=28$\n",
    "\n",
    "$P_{1}=\\frac{2^{0}}{0!}exp(-2)=0.135\\to nP_{1}=6.76$\n",
    "\n",
    "$I_{2}=\\left[1 \\right], n_{2}=11$\n",
    "\n",
    "$P_{2}=\\frac{2^{1}}{1!}exp(-2)=0.2707\\to nP_{2}=13.53$\n",
    "\n",
    "$I_{3}=\\left[2,12 \\right], n_{3}=11$\n",
    "\n",
    "$P_{3}=(\\frac{2^{2}}{2!} + \\frac{2^{3}}{3!} + \\frac{2^{4}}{4!}+\\frac{2^{12}}{12!})exp(-2)=0.5413\\to nP_{3}=27.06$\n",
    "\n",
    "\n",
    "\n",
    "Критерий: $\\mathcal{X}^{2}: \\mathcal{X}^{2}_{набл}=\\sum_{i=1}^{3}\\frac{(n_{i}-np_{i})^{2}}{np_{i}} =76.74$\n",
    "\n",
    "$\\mathcal{X}^{2}_{N-1,1-\\alpha_{1}}=\\mathcal{X}^{2}_{2,0.9}\\simeq 0.21$\n",
    "\n",
    "$\\mathcal{X}^{2}\\gt \\mathcal{X}^{2}_{2,0.9}\\to$ по критерию Пирсона мы отвергаем гипотезу"
   ]
  },
  {
   "cell_type": "markdown",
   "metadata": {},
   "source": [
    "### f)Построить критерий значимости $\\chi^2$ проверки сложной гипотезы согласия с распределением Пуассона. Проверить гипотезу по уровню значимости $\\alpha_{1}$.Вычислить наибольшее значение уровня значимости, на котором ещё нет оснований отвергнуть данную гипотезу."
   ]
  },
  {
   "cell_type": "markdown",
   "metadata": {},
   "source": [
    "$\\lambda=\\overline{X}, \\alpha_{1} = 0.10, n = 50$\n",
    "\n",
    "$P_{i}=P_{H_{0}}=(X\\in I_{i})=\\sum_{k\\in I_{i}}^{}\\frac{\\overline{X}^{k}}{k!}exp(-\\overline{X})$\n",
    "\n",
    "\n",
    "$I_{2}=\\left[0 \\right], n_{2}=28$\n",
    "\n",
    "$P_{1}=\\frac{1.02^{0}}{0!}exp(-1.02)=0.36\\to nP_{1}=18.029$\n",
    "\n",
    "$I_{2}=\\left[1 \\right], n_{2}=11$\n",
    "\n",
    "$P_{2}=\\frac{1.02^{1}}{1!}exp(1.02)=0.3678\\to nP_{2}=18.39$\n",
    "\n",
    "$I_{3}=\\left[2,12 \\right], n_{3}=11$\n",
    "\n",
    "$P_{3}=(\\frac{1.02^{2}}{2!} + \\frac{1.02^{3}}{3!} + \\frac{1.02^{4}}{4!}+\\frac{1.02^{12}}{12!})exp(1.02)=0.2676\\to nP_{3}=13.38$\n",
    "\n",
    "\n",
    "\n",
    "\n",
    "Критерий: $\\mathcal{X}^{2}: \\mathcal{X}^{2}_{набл}=\\sum_{i=1}^{3}\\frac{(n_{i}-np_{i})^{2}}{np_{i}} =8.907$\n",
    "\n",
    "$\\mathcal{X}^{2}_{N-1,1-\\alpha_{1}}=\\mathcal{X}^{2}_{2,0.9}\\simeq 0.21$\n",
    "\n",
    "$\\mathcal{X}^{2}\\gt \\mathcal{X}^{2}_{2,0.9}\\to$ по критерию Пирсона мы отвергаем гипотезу"
   ]
  },
  {
   "cell_type": "markdown",
   "metadata": {},
   "source": [
    "### g)Построить наиболее мощный критерий проверки простой гипотезы пауссоновости с параметром $\\lambda=\\lambda_{0}$ при альтернативе пуассоновсти с параметром $\\lambda=\\lambda_{1}$. Проверить гипотезу на уровне значимости \\alpha_{1}. Что получится, если поменять местами основную и альтернативную гипотезы?"
   ]
  },
  {
   "cell_type": "markdown",
   "metadata": {},
   "source": [
    "Основная гипотеза: $H_{0} : \\lambda=\\lambda_{0} = 2$\n",
    "\n",
    "Альтернативная гипотеза: $H_{A}: \\lambda =\\lambda_{1} = 1$\n",
    "\n",
    "\n",
    "$L(\\overrightarrow{X};\\lambda)=\\prod_{i=1}^{n}\\frac{\\lambda^{X_{i}}}{X_{i}!}\\cdot exp(-\\lambda)=\\frac{\\lambda^{\\sum_{i=1}^{n}X_{i}}}{\\prod_{i=1}^{n}(X_{i}!)}\\cdot exp(-n\\cdot \\lambda)$\n",
    "\n",
    "Статистика  отношения правдоподобия:\n",
    "\n",
    "$LR(\\overrightarrow{X},\\lambda_{1},\\lambda_{0}) = \\frac{L\\left( \\overrightarrow{X},\\lambda_{1} \\right)}{L\\left( \\overrightarrow{X},\\lambda_{0} \\right)}= \\frac{\\lambda_{1}^{\\sum_{i=1}^{50}X_{i}}\\cdot exp(-n\\cdot \\lambda_{1})}{\\lambda_{0}^{\\sum_{i=1}^{50}X_{i}}\\cdot exp(-n\\cdot \\lambda_{0})}$\n",
    "\n",
    "В силу монотонности статистики $LR(\\overrightarrow{X})$ относительно МДС $T(\\overrightarrow{X})=\\sum_{i=1}^{50}X_{i}$\n",
    " \n",
    "$LR(\\overrightarrow{X},\\lambda_{0},\\lambda_{1})\\gt c\\Rightarrow \\exp(-n(\\lambda_1 - \\lambda_0))\\left(\\frac{\\lambda_1}{\\lambda_0}\\right)^{\\sum_{i=1}^{n}{x_i}} \\gt c $\n",
    "\n",
    "$\\Rightarrow  \\ln\\frac{\\lambda_1}{\\lambda_0}\\sum_{i=1}^{n}{x_i} -n(\\lambda_1 - \\lambda_0) > \\ln c\n",
    " \\Rightarrow \\bar{X}\\gt c^* = \\frac{\\ln c + n(\\lambda_1 - \\lambda_0)}{n\\ln\\frac{\\lambda_1}{\\lambda_0}}$\n",
    "\n",
    "$P_{\\lambda_0}\\left(LR(\\overrightarrow{X}) > c^*\\right) + pP_{\\lambda_0}\\left(n LR(\\overrightarrow{X}) = c^*\\right) = \\alpha_1$\n",
    "\n",
    "$P_{\\lambda_0}\\left(n\\bar{X} > nc^*\\right) + pP_{\\lambda_0}\\left(n \\bar{X} = c^*\\right) = \\alpha_1$\n",
    "\n",
    "Критерий не определен однозначно при $LR(\\overrightarrow{X}) = c$\n",
    "\n",
    "Пусть $LR(\\overrightarrow{X}) \\neq c$\n",
    "\n",
    "Тогда $P_{\\lambda_0}\\left(n\\bar{X} > nc^*\\right) = 1 - F_{Pois(n\\lambda_{0})}\\left(nc^*\\right) = \\alpha_{1} \\Rightarrow $ \n",
    "$F_{Pois(n\\lambda_{0})}\\left(nc^*\\right) = 1 - \\alpha_{1} = 1 - 0.1 = 0.9$"
   ]
  },
  {
   "cell_type": "code",
   "execution_count": 47,
   "metadata": {},
   "outputs": [
    {
     "name": "stdout",
     "output_type": "stream",
     "text": [
      "2.26\n"
     ]
    }
   ],
   "source": [
    "# Найдем c*\n",
    "lambda_0 = 2\n",
    "n = len(data)\n",
    "print(stats.poisson.ppf(0.9, n*lambda_0) / n)"
   ]
  },
  {
   "cell_type": "markdown",
   "metadata": {},
   "source": [
    "$c^* = 2.26$\n",
    "\n",
    "$c^* > \\bar{X} = 1.02 \\Rightarrow $ принимается $H_{0}$\n",
    "\n",
    "Поменяем местами основную и альтернативную гипотезы:\n",
    "\n",
    "$H_{0}=\\lambda_{1}$, $H_{A}=\\lambda_{0}$\n",
    "\n",
    " $L(\\overrightarrow{X};\\lambda)=\\lambda^{\\sum_{i=1}^{n}X_{i}} \\cdot \\prod_{i=1}^{n}(X_{i}!)^{-1} \\cdot exp(-n\\cdot \\lambda)$ <br>\n",
    "\n",
    " Тогда статистика отношения правдоподобия: \n",
    " \n",
    " $LR(\\overrightarrow{X},\\lambda_{0},\\lambda_{1}) = \\frac{L\\left( \\overrightarrow{X},\\lambda_{0} \\right)}{L\\left( \\overrightarrow{X},\\lambda_{1} \\right)}= \\frac{\\lambda_{0}^{\\sum_{i=1}^{n}X_{i}}\\cdot exp(-n\\cdot \\lambda_{0})}{\\lambda_{1}^{\\sum_{i=1}^{n}X_{i}}\\cdot exp(-n\\cdot \\lambda_{1})}$\n",
    "\n",
    "В силу монотонности статистики $LR(\\overrightarrow{X})$ относительно МДС $\\bar{X}$:\n",
    "\n",
    " $\\frac{\\lambda_{0}^{\\sum_{i=1}^{n}X_{i}}\\cdot exp(-n\\cdot \\lambda_{0})}{\\lambda_{1}^{\\sum_{i=1}^{n}X_{i}}\\cdot exp(-n\\cdot \\lambda_{1})}\\gt c\n",
    " \\Rightarrow \\exp(-n(\\lambda_0 - \\lambda_1))\\left(\\frac{\\lambda_0}{\\lambda_1}\\right)^{\\sum_{i=1}^{n}{x_i}} \\gt c$\n",
    "\n",
    " $\\Rightarrow  \\ln\\frac{\\lambda_0}{\\lambda_1}\\sum_{i=1}^{n}{x_i} -n(\\lambda_0 - \\lambda_1) > \\ln c\n",
    " \\Rightarrow \\bar{X}\\gt c^* = \\frac{\\ln c + n(\\lambda_0 - \\lambda_1)}{n\\ln\\frac{\\lambda_0}{\\lambda_1}}$\n",
    "\n",
    "$P_{\\lambda_1}\\left(LR(\\overrightarrow{X}) > c^*\\right) + pP_{\\lambda_1}\\left(n LR(\\overrightarrow{X}) = c^*\\right) = \\alpha_1$\n",
    "\n",
    "$P_{\\lambda_1}\\left(n\\bar{X} > nc^*\\right) + pP_{\\lambda_1}\\left(n \\bar{X} = c^*\\right) = \\alpha_1$\n",
    "\n",
    "Пусть $LR(\\overrightarrow{X}) \\neq c$\n",
    "\n",
    "Тогда $P_{\\lambda_1}\\left(n\\bar{X} > nc^*\\right) = 1 - F_{Pois(n\\lambda_1)}\\left(nc^*\\right) = \\alpha_1 \\Rightarrow $ \n",
    "$F_{Pois(n\\lambda_1)}\\left(nc^*\\right) = 1 - \\alpha_1 = 1 - 0.1 = 0.9$\n"
   ]
  },
  {
   "cell_type": "code",
   "execution_count": 48,
   "metadata": {},
   "outputs": [
    {
     "name": "stdout",
     "output_type": "stream",
     "text": [
      "1.18\n"
     ]
    }
   ],
   "source": [
    "# Найдем c*\n",
    "lambda_1 = 1\n",
    "n = len(data)\n",
    "print(stats.poisson.ppf(0.9, n*lambda_1) / n)"
   ]
  },
  {
   "cell_type": "markdown",
   "metadata": {},
   "source": [
    "$c^* = 1.18$\n",
    "\n",
    "$c^* > \\bar{X} = 1.02 \\Rightarrow $ принимается $H_{1}$"
   ]
  },
  {
   "cell_type": "markdown",
   "metadata": {},
   "source": [
    "### h) В пунктах (c)-(f) заменить семейство распределение Пуассона на семейство геометрических распредленией $\\mathbb{P}_{\\lambda}(X=k)=\\frac{\\lambda^{k}}{(\\lambda+1)^{k+1}}, k\\in \\mathbb{Z_{+}}$"
   ]
  },
  {
   "cell_type": "markdown",
   "metadata": {},
   "source": [
    "h.c) В предположении, что исходные наблюдения\n",
    "являются выборкой из геометрического распределения, построить ОМП и ОММ параметра $\\lambda$. Найти смещение оценки.\n",
    "\n",
    "ОМП:\n",
    "\n",
    "$P_{\\lambda}(X=k)=\\frac{c^{k}}{(\\lambda+1)^{k+1}}$\n",
    "\n",
    "$L(\\overrightarrow{X};\\theta)=\\prod_{i=1}^{n}P_{\\lambda}(X_{i})=\\prod_{i=1}^{n}\\frac{\\lambda^{X_{i}}}{(\\lambda+1)^{X_{i}}}=\\frac{\\lambda^{\\sum_{i=1}^{n}X_{i}}}{(\\lambda+1)^{\\sum_{i=1}^{n}X_{i}+n}}$\n",
    "\n",
    "$LL(\\overrightarrow{X};\\theta)= \\sum_{i=1}^{n}X_{i} \\ln(\\lambda)-(\\sum_{i=1}^{n}X_{i}+n)\\ln(\\lambda+1)$\n",
    "\n",
    "$\\frac{\\partial LL(\\overrightarrow{X};\\theta)}{\\partial \\lambda} = \\frac{\\sum_{i=1}^{n}X_{i}}{\\lambda}-\\frac{\\sum_{i=1}^{n}X_{i}+n}{\\lambda+1} $\n",
    "\n",
    " $\\frac{\\sum_{i=1}^{n}X_{i}}{\\lambda}-\\frac{\\sum_{i=1}^{n}X_{i}+n}{\\lambda+1} =0 $\n",
    "\n",
    " $\\frac{\\lambda}{\\sum_{i=1}^{n}X_{i}}=\\frac{\\lambda+1}{\\sum_{i=1}^{n}X_{i}+n} $\n",
    " \n",
    " $\\lambda \\sum_{i=1}^{n}X_{i}+\\lambda  n = \\lambda \\sum_{i=1}^{n}X_{i}+\\sum_{i=1}^{n}X_{i}\\to \\lambda=\\overline{X}\\to \\widehat{\\theta}=\\widehat{\\lambda}=\\overline{X}=1.02$\n",
    "\n",
    "ОММ:\n",
    "\n",
    "$\\hat{\\theta}=\\hat{\\lambda}= \\bar{X}$\n",
    "\n",
    "$\\mathbb{E} X_1=\\frac{1}{\\lambda} \\quad M_1={\\bar{X}} $\n",
    "\n",
    "$\\frac{1}{\\lambda} \\approx {\\bar{X}} \\quad \\tilde\\lambda=\\bar{X} \\rightarrow \\tilde\\theta =  \\tilde{\\lambda}=\\frac{1}{\\bar{X}} = 0.98 $\n",
    "\n",
    "\n",
    "НРМД:\n",
    "$g\\left(T(\\overrightarrow{X})\\right)=\\frac{\\lambda^{\\sum_{i=1}^{n}X_{i}}}{(\\lambda+1)^{\\sum_{i=1}^{n}X_{i}+n}}$\n",
    "\n",
    "$h(\\overrightarrow{X})=1 $\n",
    "\n",
    "$T=\\sum_{i=1}^{n}x_{i}=50  - \\text{МДС}$\n",
    "\n",
    "Геометрическое распределение принадлежит exp семейству распределения, следовательно, МДС будет являться ПДС\n",
    "\n",
    "$\\mathbb{E}_{\\lambda}\\overline{X}=\\mathbb{E}_{\\lambda}\\frac{1}{n} \\sum_{i=1}^{n}x_{i}=\\frac{1}{n} \\mathbb{E_{\\lambda}}\\sum_{i=1}^{n}x_{i}=\\frac{1}{n}\\sum_{i=1}^{n}\\mathbb{E_{\\lambda}}X_{1}=\\frac{1}{n} n \\mathbb{E}_{\\lambda}X_{1}=\\lambda=1.02$ - НРМД-оценка"
   ]
  },
  {
   "cell_type": "markdown",
   "metadata": {},
   "source": [
    "h.d)Построить асимитотический доверительный интервал уровня значимости $\\alpha_{1}$ для параметра $\\lambda$ на базе оценки максимального правдоподобия.\n",
    "\n",
    "- Метод построения на базе ОМП\n",
    "\n",
    "$\\sqrt{n}\\left( \\widehat{\\theta}(\\overrightarrow{X})-\\theta \\right)\\sim N\\left( 0, \\frac{1}{I(\\theta)} \\right)$\n",
    "\n",
    "$\\widehat{\\theta}=\\widehat{\\lambda}=\\frac{1}{\\overline{X}}$\n",
    "\n",
    "$I(\\theta)=-\\mathbb{E}\\left( \\frac{\\partial^{2} LL}{\\partial \\lambda^{2}} \\right)=-\\mathbb{E}\\left( -\\frac{\\sum_{i=1}^{n}X_{i}}{\\lambda^{2}}+\\frac{\\sum_{i=1}^{n}X_{i}+n}{(\\lambda +1)^{2}} \\right)=\\frac{n}{\\lambda^{2}}-\\mathbb{E}\\left( \\frac{\\sum_{i=1}^{n}X_{i}+n}{(\\lambda+1)^{2}} \\right) = \\frac{n}{\\lambda^{2}}-\\mathbb{E}\\left( \\frac{\\sum_{i=1}^{n}X_{i}}{(\\lambda+1)^{2}} \\right)-\\mathbb{E}\\left( \\frac{n}{(\\lambda+1)^{2}} \\right)=\\frac{n}{\\lambda^{2}}-\\frac{n}{(\\lambda+1)^{2}}-\\frac{n}{(\\lambda+1)^{2}}=\\frac{n(\\lambda^{2}+1)}{(\\lambda+1)^{2}\\cdot \\lambda^{2}}$\n",
    "\n",
    "$\\sqrt{n I\\left(  \\widehat{\\theta}(\\overrightarrow{X})\\right)}\\left( \\widehat{\\theta}(\\overrightarrow{X})-\\theta \\right)\\sim N(0,1)$\n",
    "\n",
    "$X_{\\alpha}$: $\\mathrm{Ф}(X_{\\alpha})=1-\\frac{\\alpha_{1}}{2}=1-\\frac{0.1}{2}=0.95 \\to X_{0.95}=1.64$\n",
    "\n",
    "$А.Д.И. \\left[ \\frac{1}{\\overline{X}}-\\frac{X_{0.95}}{\\sqrt{n\\cdot \\frac{n(\\widehat{\\lambda^{2}}+1)}{(\\widehat{\\lambda}+1)^{2}\\cdot \\widehat{\\lambda^{2}}}}};\\frac{1}{\\overline{X}}+\\frac{X_{0.95}}{\\sqrt{n\\cdot \\frac{n(\\widehat{\\lambda^{2}}+1)}{(\\widehat{\\lambda}+1)^{2}\\cdot \\widehat{\\lambda^{2}}}}} \\right]\\to 0.934\\le \\lambda\\le 1.025$\n",
    "\n",
    "\n",
    "\n",
    "- Метод построения АДИ на базе АНО $\\hat\\theta$\n",
    "\n",
    "$\\sqrt{n}\\left( \\widehat{\\theta}(\\overrightarrow{X})-\\theta \\right)\\sim N(0,\\sigma^{2}(\\theta))$\n",
    "\n",
    "$\\sqrt{n}\\frac{ \\widehat{\\theta}(\\overrightarrow{X})-\\theta}{\\sigma(\\widehat{\\theta})}\\sim N(0,1)$\n",
    "\n",
    "$X_{\\alpha}: \\mathrm{Ф(X_{\\alpha})}=0.95\\to X_{0.95}=1.64$\n",
    "\n",
    "$-X_{0.95}\\le \\sqrt{n}\\cdot \\frac{\\widehat{\\lambda}-\\lambda}{\\sqrt{\\widehat{\\lambda}(\\widehat{\\lambda}+1)}}\\le X_{0.95}$\n",
    "\n",
    "\n",
    "$0.687\\le \\lambda\\le 1.335$ - А.Д.И. параметра $\\lambda$"
   ]
  },
  {
   "cell_type": "markdown",
   "metadata": {},
   "source": [
    "h.e)Используя гистограмму частот, построить критерий значимости $\\chi^2$ проверки простой гипотезы согласия с геометрическим распределением с параметром $\\lambda_{0}$. Проверить гипотезу на урокень значимости $\\alpha_{1}$. Вычислить наибольшее значение уровня значимости, на котором ещё нет оснований отвергнуть данную гипотезу.\n",
    "\n",
    "$P_{i}=P_{H_{0}}=(X\\in I_{i})=\\sum_{k\\in I_{i}}^{}\\frac{\\lambda_{0}^{k}}{(\\lambda_{0}+1)^{k+1}}$\n",
    "\n",
    "$I_{1}=\\left[0 \\right], n_{2}=28$\n",
    "\n",
    "$P_{1}=\\frac{2^{0}}{(2+1)^{0+1}}=0.3\\to nP_{1}=16.6$\n",
    "\n",
    "$I_{2}=\\left[1 \\right], n_{2}=11$\n",
    "\n",
    "$P_{2}=\\frac{2^{1}}{(2+1)^{1+1}}=0.2\\to nP_{2}=11.1$\n",
    "\n",
    "$I_{3}=\\left[2,12 \\right], n_{3}=11$\n",
    "\n",
    "$P_{3}=\\frac{2^{2}}{(2+1)^{2+1}}+\\frac{2^{3}}{(2+1)^{3+1}}+\\frac{2^{4}}{(2+1)^{4+1}}+\\frac{2^{12}}{(2+1)^{12+1}}=0.21\\to nP_{3}=10.84$\n",
    "\n",
    "\n",
    "\n",
    "\n",
    "Критерий: $\\mathcal{X}^{2}: \\mathcal{X}^{2}_{набл}=\\sum_{i=1}^{3}\\frac{(n_{i}-np_{i})^{2}}{np_{i}} =7.83$\n",
    "\n",
    "$\\mathcal{X}^{2}_{N-1,\\alpha_{1}}=\\mathcal{X}^{2}_{2,0.1}\\simeq 4.6$\n",
    "\n",
    "\n",
    "$\\mathcal{X}^{2} \\gt \\mathcal{X}^{2}_{2,0.1}$ - по критерию Пирсона мы отвергаем гипотезу."
   ]
  },
  {
   "cell_type": "markdown",
   "metadata": {},
   "source": [
    "h.f)Построить критерий значимости $\\chi^2$ проверки сложной гипотезы согласия с геометрическим распределением. Проверить гипотезу по уровню значимости $\\alpha_{1}$.Вычислить наибольшее значение уровня значимости, на котором ещё нет оснований отвергнуть данную гипотезу.\n",
    "\n",
    "$P_{i}=P_{H_{0}}=(X\\in I_{i})=\\sum_{k\\in I_{i}}^{}\\frac{\\lambda_{0}^{k}}{(\\lambda_{0}+1)^{k+1}}$\n",
    "\n",
    "Проведём группировку, как в пункте 1.h.е. В качестев параметра $\\lambda$ возьмём его ОМП, то есть $\\lambda = \\overline{X}$:\n",
    "\n",
    "$I_{1}=\\left[0 \\right], n_{2}=28$\n",
    "\n",
    "$P_{1}=\\frac{1.02^{0}}{(1.02+1)^{0+1}}=0.49\\to nP_{1}=24.75$\n",
    "\n",
    "$I_{2}=\\left[1 \\right], n_{2}=11$\n",
    "\n",
    "$P_{2}=\\frac{1.02^{1}}{(1.02+1)^{1+1}}=0.24\\to nP_{2}=12.49$\n",
    "\n",
    "$I_{3}=\\left[2,12 \\right], n_{3}=11$\n",
    "\n",
    "$P_{3}=\\frac{1.02^{2}}{(1.02+1)^{2+1}}+\\frac{1.02^{3}}{(1.02+1)^{3+1}}+\\frac{1.02^{4}}{(1.02+1)^{4+1}}+\\frac{1.02^{12}}{(1.02+1)^{12+1}}=0.22\\to nP_{3}=11.11$\n",
    "\n",
    "\n",
    "\n",
    "\n",
    "Критерий: $\\mathcal{X}^{2}: \\mathcal{X}^{2}_{набл}=\\sum_{i=1}^{3}\\frac{(n_{i}-np_{i})^{2}}{np_{i}} =0.6$\n",
    "\n",
    "$\\mathcal{X}^{2}_{N-1,\\alpha_{1}}=\\mathcal{X}^{2}_{2,0.1}\\simeq 4.6$\n",
    "\n",
    "\n",
    "$\\mathcal{X}^{2} < \\mathcal{X}^{2}_{2,0.1}$ - гипотезу нельзя опровергнуть.\n",
    "\n",
    "$F^{-1}_{\\mathcal{X}^2_2}(1-\\alpha)=\\mathcal{X}^2$    \n",
    "$\\alpha=1-F_{\\mathcal{X}^2_2}(\\mathcal{X}^2)=0.35$"
   ]
  },
  {
   "cell_type": "code",
   "execution_count": 122,
   "metadata": {},
   "outputs": [
    {
     "name": "stdout",
     "output_type": "stream",
     "text": [
      "p-value =  0.3590941470974982\n"
     ]
    }
   ],
   "source": [
    "print('p-value = ', 1 - stats.chi2.cdf(stats.chi2.ppf(1 - 0.2, df = 3-1), 3))"
   ]
  },
  {
   "cell_type": "markdown",
   "metadata": {},
   "source": [
    "## Задание 2\n",
    "### a)Построить вариционный ряд, эмпирическую функцию распределения,гистограмму и полигон частот с шагом h."
   ]
  },
  {
   "cell_type": "code",
   "execution_count": 52,
   "metadata": {},
   "outputs": [
    {
     "name": "stdout",
     "output_type": "stream",
     "text": [
      "[0.003, 0.018, 0.034, 0.06, 0.062, 0.104, 0.11, 0.125, 0.171, 0.188, 0.25, 0.264, 0.311, 0.313, 0.37, 0.371, 0.395, 0.499, 0.503, 0.533, 0.553, 0.579, 0.605, 0.691, 0.709, 0.737, 0.783, 0.817, 0.846, 0.869, 0.907, 0.916, 0.937, 1.253, 1.367, 1.452, 1.621, 1.687, 1.722, 1.878, 1.901, 1.997, 2.026, 2.165, 2.174, 2.461, 2.628, 2.802, 2.92, 5.33]\n",
      "52.016999999999996\n"
     ]
    },
    {
     "data": {
      "image/png": "[encoded data removed]",
      "text/plain": [
       "<Figure size 640x480 with 1 Axes>"
      ]
     },
     "metadata": {},
     "output_type": "display_data"
    }
   ],
   "source": [
    "data_1 = [0.533, 0.125, 0.104, 0.171, 0.311, 2.461, 0.503, 0.869, 0.003, 0.313, 0.737, 1.901, 2.174, 0.062, 1.997, 0.110, 2.026, 0.916, 0.034, 2.165, 0.499, 5.330, 0.264, 1.687, 1.722, 0.846, 2.802, 1.621, 0.783, 1.367, 1.878, 0.817, 0.937, 0.691, 1.452, 2.628, 0.605, 0.395, 2.920, 0.370, 0.060, 0.371, 0.018, 0.188, 0.907, 1.253, 0.709, 0.579, 0.553, 0.25] #выборка\n",
    "sorted_data_1 = sorted(data_1)\n",
    "c = 0\n",
    "d = 1.8\n",
    "alpha_2=0.1\n",
    "lambda_0 = 1\n",
    "lambda_1 = 0.5\n",
    "\n",
    "summ=np.sum(data_1)\n",
    "variation_range_1 = np.unique(sorted_data_1)\n",
    "print(sorted_data_1)\n",
    "print(summ)\n",
    "# Нанесение на график вариационного ряда\n",
    "plt.subplot(311)\n",
    "plt.plot(range(len(sorted_data_1)), sorted_data_1, marker='o', linestyle='-', color='b')\n",
    "plt.xlabel('Наблюдения')\n",
    "plt.ylabel('Значения')\n",
    "plt.title('Вариационный ряд')\n",
    "plt.show()"
   ]
  },
  {
   "cell_type": "code",
   "execution_count": 60,
   "metadata": {},
   "outputs": [
    {
     "name": "stdout",
     "output_type": "stream",
     "text": [
      "[3.000e-03 3.000e-03 1.800e-02 3.400e-02 6.000e-02 6.200e-02 1.040e-01\n",
      " 1.100e-01 1.250e-01 1.710e-01 1.880e-01 2.500e-01 2.640e-01 3.110e-01\n",
      " 3.130e-01 3.700e-01 3.710e-01 3.950e-01 4.990e-01 5.030e-01 5.330e-01\n",
      " 5.530e-01 5.790e-01 6.050e-01 6.910e-01 7.090e-01 7.370e-01 7.830e-01\n",
      " 8.170e-01 8.460e-01 8.690e-01 9.070e-01 9.160e-01 9.370e-01 1.253e+00\n",
      " 1.367e+00 1.452e+00 1.621e+00 1.687e+00 1.722e+00 1.878e+00 1.901e+00\n",
      " 1.997e+00 2.026e+00 2.165e+00 2.174e+00 2.461e+00 2.628e+00 2.802e+00\n",
      " 2.920e+00 5.330e+00]\n",
      "[0.   0.02 0.04 0.06 0.08 0.1  0.12 0.14 0.16 0.18 0.2  0.22 0.24 0.26\n",
      " 0.28 0.3  0.32 0.34 0.36 0.38 0.4  0.42 0.44 0.46 0.48 0.5  0.52 0.54\n",
      " 0.56 0.58 0.6  0.62 0.64 0.66 0.68 0.7  0.72 0.74 0.76 0.78 0.8  0.82\n",
      " 0.84 0.86 0.88 0.9  0.92 0.94 0.96 0.98 1.  ]\n"
     ]
    },
    {
     "data": {
      "image/png": "[encoded data removed]",
      "text/plain": [
       "<Figure size 640x480 with 1 Axes>"
      ]
     },
     "metadata": {},
     "output_type": "display_data"
    }
   ],
   "source": [
    "empirical_function = np.arange(1, n + 1) / n\n",
    "plt.subplot(312)\n",
    "# Добавим нулевое значение в начало\n",
    "x = np.concatenate(([sorted_data_1[0]], sorted_data_1))\n",
    "y = np.concatenate(([0], empirical_function))\n",
    "\n",
    "# Построим эмпирическую функцию\n",
    "plt.step(x, y, where='post')\n",
    "plt.xlabel('Значение')\n",
    "plt.ylabel('Вероятность')\n",
    "plt.title('Эмпирическая функция')\n",
    "plt.show()"
   ]
  },
  {
   "cell_type": "code",
   "execution_count": 130,
   "metadata": {},
   "outputs": [
    {
     "data": {
      "image/png": "[encoded data removed]",
      "text/plain": [
       "<Figure size 640x480 with 1 Axes>"
      ]
     },
     "metadata": {},
     "output_type": "display_data"
    }
   ],
   "source": [
    "h=0.4\n",
    "bins = np.arange(min(data_1), max(data_1) + h, h)\n",
    "plt.hist(data_1, bins=bins, color='skyblue', edgecolor='black', alpha=0.7, label='Гистограмма')\n",
    "\n",
    "plt.title(\"Гистограмма и полигон частот\")\n",
    "plt.xlabel(\"Интервалы\")\n",
    "plt.ylabel(\"Частота\")\n",
    "\n",
    "hist, _ = np.histogram(data_1, bins=bins)\n",
    "bin_centers = 0.5 * (bins[1:] + bins[:-1])\n",
    "plt.plot(bin_centers, hist, color='red', marker='o', linestyle='-', label='Полигон')\n",
    "\n",
    "plt.legend()\n",
    "plt.show()"
   ]
  },
  {
   "cell_type": "markdown",
   "metadata": {},
   "source": [
    "### b) Вычислить выборочные аналоги следующих числовых характеристик: (i)математическое ожидание, (ii)дисперсия, (iii)СКО, (iv)медианы, (v)ассиметрии,  (vi) эксцесса, (vii) вероятности $\\mathbb{P} (X\\in [c, d] )$"
   ]
  },
  {
   "cell_type": "code",
   "execution_count": 73,
   "metadata": {},
   "outputs": [
    {
     "name": "stdout",
     "output_type": "stream",
     "text": [
      "Мат.ожидание= 1.0403399999999998\n",
      "Дисперсия= 1.0348791043999999\n",
      "Выборочное стандартное отклонение= 1.0172900787877566\n",
      "Медиана= 0.723\n",
      "Асимметрия= 1.7572226052278477\n",
      "Эксцесс= 4.255275544051285\n",
      "Вероятность попадания в промежуток= 0.78\n"
     ]
    }
   ],
   "source": [
    "c = 0\n",
    "d = 1.8\n",
    "mean2 = np.mean(data_1)  # Выборочное математическое ожидание\n",
    "variance = np.var(data_1)  # Дисперсия\n",
    "deviation=np.std(data_1) #СКО\n",
    "median = np.median(data_1)  # Медиана\n",
    "skewness = stats.skew(data_1)  # Асимметрия\n",
    "kurtosis = stats.kurtosis(data_1)  # Эксцесс\n",
    "probability = len([x for x in data_1 if c <= x <= d]) / len(data_1)  # Вероятность\n",
    "print(\"Мат.ожидание=\",mean2)\n",
    "print(\"Дисперсия=\",variance)\n",
    "print(\"Выборочное стандартное отклонение=\",deviation)\n",
    "print(\"Медиана=\",median)\n",
    "print(\"Асимметрия=\",skewness)\n",
    "print(\"Эксцесс=\",kurtosis)\n",
    "print(\"Вероятность попадания в промежуток=\",probability)"
   ]
  },
  {
   "cell_type": "markdown",
   "metadata": {},
   "source": [
    "### c) В предположении, что исходные наблюдения являются выборкой из показательного распределения, построить ОМП и ОММ параметра $\\lambda$.Найти смещение оценки.\n",
    "\n",
    "$\\textbf{Плотность показательного распределения:}$\n",
    "\n",
    "$P(X)=\\lambda\\cdot exp(-\\lambda X)$, при условии, что $X\\ge 0$ для данной выборки это событие достоверное и всегда выполняется, так что можем индикатор у плотности распределения не писать\n",
    "\n",
    "\n",
    "$\\textbf{Построим ОМП.}$\n",
    "\n",
    "$L(\\overrightarrow{X},\\theta)=\\prod_{i=1}^{n}\\lambda\\cdot exp(-\\lambda\\cdot X_{i})=\\lambda^{n}\\cdot exp(-\\lambda\\cdot \\sum_{i=1}^{n}X_{i})$\n",
    "\n",
    "$LL(\\overrightarrow{X},\\theta)=n\\ln(\\lambda)-\\lambda\\cdot \\sum_{i=1}^{n}X_{i}$\n",
    "\n",
    "$\\frac{\\partial LL}{\\partial \\lambda}=\\frac{n}{\\lambda}-\\sum_{i=1}^{n}X_{i}=0\\to \\lambda=\\frac{n}{\\sum_{i=1}^{n}X_{i}}=\\frac{1}{\\overline{X}}$.\n",
    "\n",
    "Выборка нам известна, и мы можем посчитать, чему равен параметр:\n",
    "\n",
    "$\\widehat{\\lambda}=\\frac{1}{\\overline{X}}=0.962$\n",
    "\n",
    "$\\textbf{Построим по ОММ}$\n",
    "\n",
    "Для показательного распределения $P(X)=\\lambda\\cdot exp(-\\lambda X)$\n",
    "\n",
    "$\\mathbb{E}X_{1}=\\frac{1}{\\lambda}$\n",
    "\n",
    "$M_{1}=\\overline{X}$\n",
    "равен нашему параметру, и поскольку у нас 1-но мерный параметр, то у нас будет система из одного уравнения.\n",
    "\n",
    "Тогда мы получим $\\widetilde{\\theta}=\\widetilde{\\lambda}=\\frac{1}{\\overline{X}}=0.961$\n",
    "\n",
    "\n",
    "$\\textbf{Ищем смещение оценки}$\n",
    "\n",
    "$g\\left(T(\\overrightarrow{X})\\right)=\\lambda\\cdot exp(-\\lambda X)$\n",
    "\n",
    "$h(\\overrightarrow{X})=1$\n",
    "\n",
    "Достаточная минимальная статистика: $T=\\sum_{i=1}^{n}X_{i}=52.0169$.\n",
    "\n",
    "Показательное распределение принадлежит экспоненциальному семейству распределения, следовательно, МДС будет являться ПДС.\n",
    "\n",
    "$\\mathbb{E}_{\\lambda}\\frac{1}{\\overline{X}}=\\mathbb{E}_{\\lambda}\\frac{n}{\\sum_{i=1}^{n}x_{i}}=n\\cdot \\mathbb{E_{\\lambda}}\\frac{1}{\\sum_{i=1}^{n}x_{i}}=n\\cdot \\mathbb{E}_{\\lambda}(\\sum_{i=1}^{n}X_{i})^{-1}=n\\cdot \\left(\\frac{1}{\\lambda}\\right)^{-1}\\frac{\\Gamma (-1+n)}{\\Gamma (n)}=n\\cdot \\lambda\\frac{\\Gamma (-1+n)}{\\Gamma(-1+n)\\cdot (n-1)}=\\frac{n\\cdot \\lambda}{n-1}\\to смещенная-оценка$\n",
    "\n",
    "$\\widetilde{\\lambda}=\\widehat{\\lambda}\\frac{n-1}{n}$\n",
    "\n",
    "$\\mathbb{E}_{\\lambda}\\widetilde{\\lambda}=\\mathbb{E}_{\\lambda}\\widehat{\\lambda}\\frac{n-1}{n}=\\frac{n-1}{n}\\mathbb{E}_{\\lambda}\\widehat{\\lambda}=\\frac{n-1}{n}\\cdot \\frac{n\\cdot \\lambda}{n-1}=\\lambda$-НРМД-оценка\n",
    "\n",
    "$X_{i}\\sim Exp(\\lambda) \\to X_{i}\\sim Gamma(1,\\frac{1}{\\lambda})\\Rightarrow \\sum_{i=1}^{n}X_{i}\\sim Gamma(n,\\frac{1}{\\lambda})$\n",
    "\n",
    "Если $X_{i}\\sim Gamma(\\alpha,\\beta)$, где $\\alpha\\gt 0$ и $\\beta\\gt 0$, $\\gamma\\gt -\\alpha$, то $\\mathbb{E}X_{i}^{\\gamma}=\\beta^{\\gamma}\\frac{Г(\\gamma+\\alpha)}{Г(\\alpha)}$"
   ]
  },
  {
   "cell_type": "markdown",
   "metadata": {},
   "source": [
    "### d)Построить А.Д.И. уровня значимости $\\alpha_2$ для параметра $\\lambda$ на базе ОМП\n",
    "\n",
    "$\\sqrt{n}\\left( \\widehat{\\theta}(\\overrightarrow{X})-\\theta \\right)\\sim N\\left( 0, \\frac{1}{I(\\theta)} \\right)$\n",
    "\n",
    "ОМП $\\widehat{\\theta}=\\widehat{\\lambda}=\\frac{1}{\\overline{X}}$\n",
    "\n",
    "Найдем информацию Фишера: $I(\\theta)=-\\mathbb{E}\\left( \\frac{\\partial^{2} LL}{\\partial \\lambda^{2}} \\right)=-\\mathbb{E}\\left( -\\frac{n}{\\lambda^{2}} \\right)=\\frac{n}{\\lambda^{2}}$\n",
    "\n",
    "Тогда $\\sqrt{n\\cdot I\\left(  \\widehat{\\theta}(\\overrightarrow{X})\\right)}\\left( \\widehat{\\theta}(\\overrightarrow{X})-\\theta \\right)\\sim N(0,1)$\n",
    "\n",
    "Выбираем $X_{\\alpha}$: $\\mathrm{Ф}(X_{\\alpha})=1-\\frac{\\alpha_{2}}{2}=1-\\frac{0.1}{2}=0.95 \\to X_{0.95}=1.65$\n",
    "\n",
    "$А.Д.И. \\left[ \\frac{1}{\\overline{X}}-\\frac{X_{0.995}}{\\sqrt{\\frac{50}{\\overline{X}^{2}}}}; \\frac{1}{\\overline{X}}+\\frac{X_{0.995}}{\\sqrt{\\frac{50}{\\overline{X}^{2}}}}\\right]$"
   ]
  },
  {
   "cell_type": "code",
   "execution_count": 49,
   "metadata": {},
   "outputs": [
    {
     "name": "stdout",
     "output_type": "stream",
     "text": [
      "Асимптотический доверительный интервал:  [0.7184658304763563, 1.2039825998445006]\n"
     ]
    }
   ],
   "source": [
    "x_alpha = 1.65\n",
    "xMean = np.mean(data_1)\n",
    "adi = []\n",
    "\n",
    "left = 1/xMean - x_alpha * xMean * (1 / n)**0.5 #подсчёт левой границы АДИ\n",
    "adi.append(left)\n",
    "\n",
    "right = 1/xMean + x_alpha * xMean * (1 / n)**0.5 #подсчёт правой границы АДИ\n",
    "adi.append(right)\n",
    "\n",
    "print(\"Асимптотический доверительный интервал: \", adi)"
   ]
  },
  {
   "cell_type": "markdown",
   "metadata": {},
   "source": [
    "Таким образом, АДИ уровня значимости $\\alpha_{1}$ для параметра $\\lambda$:\n",
    "\n",
    "$\\lambda\\in $ [0.71, 1.2039] "
   ]
  },
  {
   "cell_type": "markdown",
   "metadata": {},
   "source": [
    "### e)C использованием теоремы Колмогорова построить критерий значимости проверки простой гипотезы согласия с показательным распределением с параметром $\\lambda_{0} = 1.00$. Проверить гипотезу на уровне значимости $\\alpha_{2}=0.1$. Вычислить наименьшее значения уровня значимости, на котором ещё нет оснований отвергнуть гипотезу."
   ]
  },
  {
   "cell_type": "markdown",
   "metadata": {},
   "source": [
    "Статистика критерия Колмагорова: $D_n = sup_{x \\in \\mathbb{R}}|F_n(x) - F_0(x)|$\n",
    "\n",
    "Теорема Колмагорова: $\\sqrt{n}D_n \\rightarrow K, при \\, основной \\, гипотезе$\n",
    "\n",
    "$$D = 0.116 $$\n",
    "$$Критическое \\, значение: C =  0.117$$\n",
    "\n",
    "Так как $D > c $ , то гипотезу отвергаем"
   ]
  },
  {
   "cell_type": "code",
   "execution_count": 55,
   "metadata": {},
   "outputs": [
    {
     "name": "stdout",
     "output_type": "stream",
     "text": [
      "Статистика критерия Колмогорова Dn: 0.11690480003867898\n",
      "x_alpha_2: 0.17307822563424255\n",
      "Наибольшее значение уровня значимости, на котором ещё нет оснований отвергнуть данную гипотезу: 0.5014661848052431\n"
     ]
    }
   ],
   "source": [
    "from scipy.stats import expon, kstwobign\n",
    "values, edges = np.histogram(data_1, bins=len(data_1))\n",
    "Y = values.cumsum() / len(data_1)\n",
    "\n",
    "def F_n(x, Y, edges):\n",
    "  for i in range(len(Y)):\n",
    "    if (x > edges[i] and x <= edges[i+1]):\n",
    "      return Y[i]\n",
    "    elif (x > edges[-1]):\n",
    "      return 1\n",
    "    elif (x <= edges[0]):\n",
    "      return 0\n",
    "\n",
    "def F_0(x):\n",
    "  return 1 - np.exp(-x*lambda_0)\n",
    "\n",
    "D = 0\n",
    "x = 0\n",
    "while (x <= 5):\n",
    "  if (D < np.abs(F_n(x, Y, edges) - F_0(x))):\n",
    "    D = np.abs(F_n(x, Y, edges) - F_0(x))\n",
    "  x += 0.0001\n",
    "\n",
    "print(\"Статистика критерия Колмогорова Dn:\", D)\n",
    "print(\"x_alpha_2:\", kstwobign.ppf(1 - alpha_2) / np.sqrt(len(data_1)))\n",
    "print(\"Наибольшее значение уровня значимости, на котором ещё нет оснований отвергнуть данную гипотезу:\", 1 - kstwobign.cdf(D*np.sqrt(len(data_1))))\n"
   ]
  },
  {
   "cell_type": "markdown",
   "metadata": {},
   "source": [
    "### f Используя гистограмму частот, построить критерий значимости $\\chi^2$ проверки простой гипотезы согласия с показательным распределением с параметром $\\lambda_0 = 1.0$. Проверить гипотезу на уровне значимости $\\alpha_2 = 0.1$. Вычислить наибольшее значение уровня значимости, на котором ещё нет оснований отвергнуть данную гипотезу."
   ]
  },
  {
   "cell_type": "markdown",
   "metadata": {},
   "source": [
    "f Используя гистограмму частот, построить критерий значимости $\\chi^2$ проверки простой гипотезы согласия с показательным распределением с параметром $\\lambda_0 = 1.0$. Проверить гипотезу на уровне значимости $\\alpha_2 = 0.1$. Вычислить наибольшее значение уровня значимости, на котором ещё нет оснований отвергнуть данную гипотезу."
   ]
  },
  {
   "cell_type": "markdown",
   "metadata": {},
   "source": [
    "Расммотрим $\\mathbb{P}_{k} = \\mathbb{P}_{\\theta}\\left(x_i \\in G_k\\right) = \\sum \\limits_{x \\in G_k} q_{\\theta}(x)$ <br><br>\n",
    "\n"
   ]
  },
  {
   "cell_type": "code",
   "execution_count": 56,
   "metadata": {},
   "outputs": [
    {
     "data": {
      "text/plain": [
       "'[0.003, 0.018, 0.034, 0.06, 0.062, 0.104, 0.11, 0.125, 0.171, 0.188, 0.25, 0.264, 0.311, 0.313, 0.37, 0.371, 0.395, 0.499, 0.503, 0.533, 0.553, 0.579, 0.605, 0.691, 0.709, 0.737, 0.783, 0.817, 0.846, 0.869, 0.907, 0.916, 0.937, 1.253, 1.367, 1.452, 1.621, 1.687, 1.722, 1.878, 1.901, 1.997, 2.026, 2.165, 2.174, 2.461, 2.628, 2.802, 2.92, 5.33]'"
      ]
     },
     "execution_count": 56,
     "metadata": {},
     "output_type": "execute_result"
    }
   ],
   "source": [
    "str(sorted(data_1))"
   ]
  },
  {
   "cell_type": "code",
   "execution_count": 99,
   "metadata": {},
   "outputs": [
    {
     "name": "stdout",
     "output_type": "stream",
     "text": [
      "x\t\t Частота\t Гипотетическая частота\n",
      "[ 0.003 , 0.499 ]\t 17 \t 19.49335008822917\n",
      "[ 0.499 , 0.937 ]\t 15 \t 10.76680076448947\n",
      "[ 0.937 , 1.997 ]\t 9 \t 12.802978987221863\n",
      "[ 1.997 , +inf)\t\t 9 \t 6.7870949352281436\n",
      "Статистика хи-квадрат равна: 3.8344324244907675\n"
     ]
    }
   ],
   "source": [
    "cur_lambda = lambda_0\n",
    "intervals = [[0.003, 0.499], [0.499,0.937], [0.937, 1.997], [1.997, 5.34]]\n",
    "freq = [0] * len(intervals) #экспереметальные частоты\n",
    "freq_teor = [0] * len(intervals) #Гипотетические частоты\n",
    "print(\"x\\t\\t Частота\\t Гипотетическая частота\")\n",
    "for i in range(len(intervals)):\n",
    "  a = intervals[i][0]\n",
    "  b = intervals[i][-1]\n",
    "  freq[i] += len([x for x in data_1 if (x >= a and x < b)])\n",
    "  freq_teor[i] += len(data_1) * (stats.expon.cdf(b, scale = 1/cur_lambda) - stats.expon.cdf(a, scale = 1/cur_lambda))\n",
    "  if (i == len(intervals) - 1):\n",
    "    freq_teor[i] += len(data_1) * stats.expon.sf(b, scale = 1/cur_lambda)\n",
    "    print('[', a, \", +inf)\\t\\t\", freq[i], \"\\t\", freq_teor[i])\n",
    "  else:\n",
    "    print('[', a, ',', b, \"]\\t\", freq[i], \"\\t\", freq_teor[i])\n",
    "freq = np.array(freq)\n",
    "freq_teor = np.array(freq_teor)\n",
    "chi_square = np.sum((freq - freq_teor) ** 2 / freq_teor)\n",
    "print(\"Статистика хи-квадрат равна:\", chi_square)"
   ]
  },
  {
   "cell_type": "markdown",
   "metadata": {},
   "source": [
    "Для составления критерия уровня значимости $\\alpha_2$ необходимо найти $x_{\\alpha_2}$\n",
    "\n",
    "$x_{\\alpha_2} : K_{r-1}(x_{\\alpha_2}) = 1 - \\alpha_2$"
   ]
  },
  {
   "cell_type": "code",
   "execution_count": 62,
   "metadata": {},
   "outputs": [
    {
     "name": "stdout",
     "output_type": "stream",
     "text": [
      "x_alpha_2 равен: 6.251388631170325\n"
     ]
    }
   ],
   "source": [
    "print(\"x_alpha_2 равен:\", stats.chi2.ppf(1 - alpha_2, df = len(freq) - 1))"
   ]
  },
  {
   "cell_type": "markdown",
   "metadata": {},
   "source": [
    "$\\chi^2 \\approx 3.83$\n",
    "\n",
    "$x_{\\alpha_2} \\approx 6.25$\n",
    "\n",
    "$\\chi^2 < x_{\\alpha_2}$ следовательно гипотеза $H_0$ принимается"
   ]
  },
  {
   "cell_type": "code",
   "execution_count": 71,
   "metadata": {},
   "outputs": [
    {
     "name": "stdout",
     "output_type": "stream",
     "text": [
      "Наибольшее значение уровня значимости, на котором ещё нет оснований отвергнуть данную гипотезу: 0.34353321075697907\n",
      "В этом случае статистика хи-квадрат равна x_alpha\n"
     ]
    }
   ],
   "source": [
    "print(\"Наибольшее значение уровня значимости, на котором ещё нет оснований отвергнуть данную гипотезу:\", 1 - stats.chi2.cdf(chi_square, df = len(freq) - 1))\n",
    "print(\"В этом случае статистика хи-квадрат равна x_alpha\")"
   ]
  },
  {
   "cell_type": "markdown",
   "metadata": {},
   "source": [
    "### g) Построение критерия значимости $\\chi^2$ проверки сложной гипотезы согласия с показательным распределением. Проверка гипотезы на уровне значимости $\\alpha_2$. Вычисление наибольшего значения уровня значимости, на котором ещё нет оснований отвергнуть данную гипотезу"
   ]
  },
  {
   "cell_type": "markdown",
   "metadata": {},
   "source": [
    "Основная гипотеза: $H_0 : F \\in \\left\\{Exp(\\theta) : \\theta \\in \\Theta_0 \\right\\}$\n",
    "\n",
    "Альтернативная гипотеза: $H_A : F \\notin \\left\\{Exp(\\theta) : \\theta \\in \\Theta_0 \\right\\}$\n",
    "\n",
    "В качестве оценки неизвестного параметра $\\theta$ возьмем ОМП: $\\hat{\\theta} = \\frac{1}{\\bar{X}}$\n",
    "\n",
    "Вычисление статистики критерия $\\hat{\\chi}^2$ c перегруппировкой выборки:"
   ]
  },
  {
   "cell_type": "code",
   "execution_count": 100,
   "metadata": {},
   "outputs": [
    {
     "name": "stdout",
     "output_type": "stream",
     "text": [
      "x\t\t| Частота | Гипотетическая частота\n",
      "[ 0.003 , 0.499 ]\t 17 \t 18.906051202467555\n",
      "[ 0.499 , 0.937 ]\t 15 \t 10.635046265266368\n",
      "[ 0.937 , 1.997 ]\t 9 \t 12.981387310822107\n",
      "[ 1.997 , +inf)\t\t 9 \t 7.333539278683909\n",
      "Статистика хи-квадрат равна: 3.583448954890484\n"
     ]
    }
   ],
   "source": [
    "cur_lambda = 1 / mean2\n",
    "intervals = [[0.003, 0.499], [0.499,0.937], [0.937, 1.997], [1.997, 5.34]]\n",
    "freq = [0] * len(intervals) #экспереметальные частоты\n",
    "freq_teor = [0] * len(intervals) #Гипотетические частоты\n",
    "print(\"x\\t\\t| Частота | Гипотетическая частота\")\n",
    "for i in range(len(intervals)):\n",
    "  a = intervals[i][0]\n",
    "  b = intervals[i][-1]\n",
    "  freq[i] += len([x for x in data_1 if (x >= a and x < b)])\n",
    "  freq_teor[i] += len(data_1) * (stats.expon.cdf(b, scale = 1/cur_lambda) - stats.expon.cdf(a, scale = 1/cur_lambda))\n",
    "  if (i == len(intervals) - 1):\n",
    "    freq_teor[i] += len(data_1) * stats.expon.sf(b, scale = 1/cur_lambda)\n",
    "    print('[', a, \", +inf)\\t\\t\", freq[i], \"\\t\", freq_teor[i])\n",
    "  else:\n",
    "    print('[', a, ',', b, \"]\\t\", freq[i], \"\\t\", freq_teor[i])\n",
    "freq = np.array(freq)\n",
    "freq_teor = np.array(freq_teor)\n",
    "chi_square = np.sum((freq - freq_teor) ** 2 / freq_teor)\n",
    "print(\"Статистика хи-квадрат равна:\", chi_square)"
   ]
  },
  {
   "cell_type": "markdown",
   "metadata": {},
   "source": [
    "Для составления критерия уровня значимости $\\alpha_2$ необходимо найти $x_{\\alpha_2}$\n",
    "\n",
    "$x_{\\alpha_2} : K_{r-2}(x_{\\alpha_2}) = 1 - \\alpha_2$"
   ]
  },
  {
   "cell_type": "code",
   "execution_count": 79,
   "metadata": {},
   "outputs": [
    {
     "name": "stdout",
     "output_type": "stream",
     "text": [
      "x_alpha_2 равен: 4.605170185988092\n"
     ]
    }
   ],
   "source": [
    "print(\"x_alpha_2 равен:\", stats.chi2.ppf(1 - alpha_2, df = len(freq) - 2))"
   ]
  },
  {
   "cell_type": "markdown",
   "metadata": {},
   "source": [
    "$\\hat{\\chi}^2 \\approx 3.58$\n",
    "\n",
    "$x_{\\alpha_2} \\approx 4.60$\n",
    "\n",
    "$\\hat{\\chi}^2 < x_{\\alpha_2}$ следовательно гипотеза $H_0$ принимается"
   ]
  },
  {
   "cell_type": "code",
   "execution_count": 80,
   "metadata": {},
   "outputs": [
    {
     "name": "stdout",
     "output_type": "stream",
     "text": [
      "Наибольшее значение уровня значимости, на котором ещё нет оснований отвергнуть данную гипотезу: 0.19540789835535322\n",
      "В этом случае статистика хи-квадрат равна x_alpha\n"
     ]
    }
   ],
   "source": [
    "print(\"Наибольшее значение уровня значимости, на котором ещё нет оснований отвергнуть данную гипотезу:\", 1 - stats.chi2.cdf(chi_square, df = len(freq) - 2))\n",
    "print(\"В этом случае статистика хи-квадрат равна x_alpha\")"
   ]
  },
  {
   "cell_type": "markdown",
   "metadata": {},
   "source": [
    "### h) Построение наиболее мощного критерия проверки простой гипотезы показательности с параметром $\\lambda_0$ при альтернативе показательности с параметром $\\lambda_1$. Проверка гипотезы на уровне значимости $\\alpha_2$\n"
   ]
  },
  {
   "cell_type": "markdown",
   "metadata": {},
   "source": [
    "Основная гипотеза: $H_{0}=\\lambda_{0}=1.00$\n",
    "\n",
    "Альтернативная гипотеза: $H_{A}=\\lambda_{1}=0.50$\n",
    "\n",
    "Воспользуемся статистическим отношением правдоподобия:\n",
    "\n",
    "$LR(\\overrightarrow{X},\\lambda_{1},\\lambda_{0}) = \\frac{L\\left( \\overrightarrow{X},\\lambda_{1} \\right)}{L\\left( \\overrightarrow{X},\\lambda_{0} \\right)}= \\frac{\\lambda_{1}^{n}\\cdot exp(-\\lambda_{1}\\cdot \\sum_{i=1}^{50}X_{i})}{\\lambda_{0}^{n}\\cdot exp(-\\lambda_{0}\\cdot \\sum_{i=1}^{50}X_{i})}$.\n",
    "\n",
    "$\\left(\\frac{\\lambda_{1}}{\\lambda_{0}}\\right)^{n} \\cdot exp \\left((\\lambda_{0}-\\lambda_{1}) \\cdot \\sum_{i=1}^{50}X_{i} \\right) > c$\n",
    "\n",
    "$LR(\\overrightarrow{X},\\lambda_{0},\\lambda_{1})\\gt c\\Leftrightarrow \\overrightarrow{X}\\gt c$\n",
    "\n",
    "$exp\\left( (\\lambda_{0}-\\lambda_{1})\\sum_{i=1}^{50}X_{i} \\right)=\\left( \\frac{\\lambda_{0}}{\\lambda_{1}} \\right)^{n}\\cdot c$\n",
    "\n",
    "$\\sum_{i=1}^{50}X_{i}=n\\cdot \\ln\\left(\\left( \\frac{\\lambda_{0}}{\\lambda_{1}} \\right)c \\right)=c^{*}$\n",
    "\n",
    "$P\\left\\{ H_{1}|H_{0} \\right\\}=P\\left\\{ \\sum_{i=1}^{50}X_{i}\\gt c^{*}|\\lambda=\\lambda_{0} \\right\\}=\\alpha_{2}$\n",
    "\n",
    "$X_{i}\\sim Exp(\\lambda)\\to X_{i}\\sim \\Gamma \\left(1,\\frac{1}{\\lambda} \\right)\\to \\sum_{i=1}^{50}X_{i}\\sim \\Gamma \\left(n,\\frac{1}{\\lambda}\\right)$\n",
    "\n",
    "$\\alpha_{2}=1-F_{\\Gamma \\left(n,\\frac{1}{\\lambda} \\right)}(c)\\Rightarrow c=F_{\\Gamma \\left(n,\\frac{1}{\\lambda} \\right)}^{-1}(1-\\alpha_{2})$"
   ]
  },
  {
   "cell_type": "code",
   "execution_count": 82,
   "metadata": {},
   "outputs": [
    {
     "name": "stdout",
     "output_type": "stream",
     "text": [
      "c  = 59.24900190553106\n",
      "c* = 238.74480574785153\n",
      "∑xi равна 52.016999999999996\n"
     ]
    }
   ],
   "source": [
    "c = stats.gamma.ppf(0.9, a = 50, scale = 1/1.0)\n",
    "print('c  =', c)\n",
    "c_ = 50*np.log(1.0/0.5*c)\n",
    "print('c* =',c_)\n",
    "print(\"∑xi равна\",np.sum(data_1))"
   ]
  },
  {
   "cell_type": "markdown",
   "metadata": {},
   "source": [
    "$ c^{*} = 238.7 > \\sum_{i=1}^{n}x_i = 52.016 $, то есть гипотеза $H_0$ отвергается."
   ]
  },
  {
   "cell_type": "markdown",
   "metadata": {},
   "source": [
    "Поменяем теперь основную и альтернативную гипотезу местами:\n",
    "\n",
    "Основная гипотеза: $H_{0}=\\lambda_{1}$\n",
    "\n",
    "Альтернативная гипотеза: $H_{A}=\\lambda_{0}$\n",
    "\n",
    "Cтатистическое отношение правдоподобия:\n",
    "\n",
    "$$LR(\\overrightarrow{X},\\lambda_{0},\\lambda_{1}) = \\left(\\frac{\\lambda_{0}}{\\lambda_{1}}\\right)^n \\cdot exp^{-\\lambda_{0} \\cdot {\\sum_{i=1}^{50}X_{i}} + \\lambda_{1} \\cdot {\\sum_{i=1}^{50}X_{i}} }$$\n",
    "\n",
    "$LR(\\overrightarrow{X},\\lambda_{0},\\lambda_{1})>  c\\Leftrightarrow \\overline{X} < c^*$\n",
    "\n",
    "$LR(\\overrightarrow{X},\\lambda_{0},\\lambda_{1})<  c\\Leftrightarrow \\overline{X} > c^*$\n",
    "\n",
    "${exp}^{{\\sum_{i=1}^{50}X_{i}}\\cdot (-\\lambda_{0} + \\lambda_{1})}=\\left(\\frac{\\lambda_{1}}{\\lambda_{0}}\\right)^n c$\n",
    "\n",
    "$c=F_{\\Gamma \\left(n,\\frac{1}{\\lambda} \\right)}^{-1}(1-\\alpha_{2})$\n"
   ]
  },
  {
   "cell_type": "code",
   "execution_count": 84,
   "metadata": {},
   "outputs": [
    {
     "name": "stdout",
     "output_type": "stream",
     "text": [
      "c  = 118.49800381106212\n",
      "c* = 204.08744671985426\n"
     ]
    }
   ],
   "source": [
    "c = stats.gamma.ppf(0.9, a = 50, scale = 1/0.5)\n",
    "print('c  =', c)\n",
    "c_zv_1 = 50*np.log(0.5/1.0*c)\n",
    "print('c* =',c_zv_1)"
   ]
  },
  {
   "cell_type": "markdown",
   "metadata": {},
   "source": [
    "$ c^{*} = 204.08 > \\sum_{i=1}^{n}x_i = 52.01 $, то есть гипотеза $H_1$ принимается."
   ]
  },
  {
   "cell_type": "markdown",
   "metadata": {},
   "source": [
    "### 2.i В пунктах (c)-(h) заменить семейство распределений на семейство гамма-распределений распределений: $ \\mathcal{p_{\\lambda}}(x) = \\frac{ \\sqrt{\\lambda} \\exp(-\\lambda x / 2) }{\\sqrt{2\\pi x}} $"
   ]
  },
  {
   "cell_type": "markdown",
   "metadata": {},
   "source": [
    "#### i.c) В предположении, что исходные наблюдения являются выборкой из гамма-распределения, построить ОМП и ОММ параметра $\\lambda$.Найти смещение оценки.\n",
    "\n",
    "ОМП: \n",
    "\n",
    "$ \\theta=\\lambda $\n",
    "\n",
    "$p_\\lambda(x)=\\frac{\\sqrt{\\lambda} exp\\left( \\frac{-\\lambda X}{2} \\right)}{\\sqrt{2 \\pi X}}$\n",
    "\n",
    "$L\\left(\\overrightarrow{X}_i ; \\theta\\right)= \\prod_{i=1}^{n}\\frac{\\sqrt{\\lambda} exp\\left( \\frac{-\\lambda X}{2} \\right)}{\\sqrt{2 \\pi X}}=\\frac{\\lambda^{\\frac{n}{2}} exp\\left( \\frac{-\\lambda}{2}  \\sum_{i=1}^{n}X_{i}\\right)}{(2\\pi)^{\\frac{n}{2}} (\\prod_{i=1}^{n}X_{i})^{\\frac{n}{2}}} $\n",
    "\n",
    "$LL(\\overrightarrow{X}_i; \\theta)=\\frac{n}{2}\\ln(\\lambda)-\\frac{-\\lambda\\cdot \\sum_{i=1}^{n}X_{i}}{2}-\\frac{n}{2}\\ln(2\\pi)-\\frac{n}{2}\\ln(\\prod_{i=1}^{n}X_{i}) $\n",
    "\n",
    "$\\frac{\\partial LL}{\\partial \\lambda}=\\frac{n}{2\\lambda}-\\frac{\\sum_{i=1}^{n}X_{i}}{2} $\n",
    "\n",
    "$\\frac{n}{2\\lambda}-\\frac{\\sum_{i=1}^{n}X_{i}}{2}=0 $\n",
    "\n",
    "$\\frac{n}{2\\lambda}=\\frac{\\sum_{i=1}^{n}X_{i}}{2}$\n",
    "\n",
    "$\\frac{\\lambda}{n}=\\frac{1}{\\sum_{i=1}^{n}X_{i}} $\n",
    "\n",
    "$\\hat\\theta = \\hat\\lambda=\\frac{1}{\\overline{X}} = 0.96- ОМП $\n",
    "\n",
    "ОММ: \n",
    "\n",
    "$ \\hat{\\theta}=\\hat{\\lambda}=\\frac{n}{\\sum_{i=1}^n x_i} $\n",
    "\n",
    "$ \\mathbb{E} X_1= ab = \\frac{1}{\\lambda} \\quad M_1=\\bar{X} $\n",
    "\n",
    "$ P(X)=\\frac{1}{\\Gamma(a)\\cdot b^{a}}X^{a-1} \\cdot exp \\left(-\\frac{X}{b}\\right) \\to a = \\frac{1}{2}, b = \\frac{2}{\\lambda}$\n",
    "\n",
    "$ \\frac{1}{\\lambda} \\approx \\bar{X} \\quad \\frac{1}{\\tilde\\lambda}=\\bar{X} \\rightarrow \\tilde{\\lambda}=\\frac{1}{\\bar{X}} = 0.96 $\n",
    "\n",
    "\n",
    "НРМД: \n",
    "\n",
    "$ \\hat{\\theta}=\\hat{\\lambda}=\\frac{1}{\\bar{X}} $\n",
    "\n",
    "$ g\\left(T(\\overrightarrow{X})\\right)=\\frac{\\lambda^{\\frac{n}{2}} exp\\left( \\frac{-\\lambda}{2}  \\sum_{i=1}^{n}X_{i}\\right)}{(\\prod_{i=1}^{n}X_{i})^{\\frac{n}{2}}} $\n",
    "\n",
    "$ h(\\overrightarrow{X})=\\frac{1}{(2\\pi)^{\\frac{n}{2}}} $\n",
    "\n",
    "$ T=\\sum_{i=1}^{n}X_{i}=52.016 $\n",
    "\n",
    "$ \\mathbb{E}_{\\lambda}\\frac{1}{\\overline{X}}=\\mathbb{E}_{\\lambda}\\frac{n}{\\sum_{i=1}^{n}x_{i}}=n \\mathbb{E_{\\lambda}}\\frac{1}{\\sum_{i=1}^{n}x_{i}}=n \\mathbb{E}_{\\lambda}(\\sum_{i=1}^{n}X_{i})^{-1}=n \\left(\\frac{1}{\\lambda}\\right)^{-1}\\frac{\\Gamma (-1+n)}{\\Gamma (n)}=n \\lambda\\frac{\\Gamma (-1+n)}{\\Gamma(-1+n) (n-1)}=\\frac{n}{n-1} \\lambda - \\text{смещенная НРМД оценка} $\n",
    "\n",
    "$ \\tilde{\\theta}=\\frac{n-1}{n} \\hat{\\theta} = 0.94 - \\text{несмещенная НРМД оценка} $"
   ]
  },
  {
   "cell_type": "markdown",
   "metadata": {},
   "source": [
    "### i.d)Построить А.Д.И. уровня значимости $\\alpha_2$ для параметра $\\lambda$ на базе ОМП\n",
    "\n",
    "Метод построения на базе ОМП\n",
    "\n",
    "$\\sqrt{n}\\left( \\widehat{\\theta}(\\overrightarrow{X})-\\theta \\right)\\sim N\\left( 0, \\frac{1}{I(\\theta)} \\right)$\n",
    "\n",
    "$\\widehat{\\theta}=\\widehat{\\lambda}=\\frac{1}{\\overline{X}}$\n",
    "\n",
    "$I(\\theta)=-\\mathbb{E}\\left( \\frac{\\partial^{2} LL}{\\partial \\lambda^{2}} \\right)=-\\mathbb{E}\\left( -\\frac{n}{2 \\lambda^{2}} \\right)=\\frac{n}{2 \\lambda^{2}}$\n",
    "\n",
    "$\\sqrt{n I\\left(  \\widehat{\\theta}(\\overrightarrow{X})\\right)}\\left( \\widehat{\\theta}(\\overrightarrow{X})-\\theta \\right)\\sim N(0,1)$\n",
    "\n",
    "$X_{\\alpha}$: $\\mathrm{Ф}(X_{\\alpha})=1-\\frac{\\alpha_{2}}{2}=1-\\frac{0.1}{2}=0.95 \\to X_{0.95}=1.64$\n",
    "\n",
    "$А.Д.И. \\left[ \\frac{1}{\\overline{X}}-\\frac{X_{0.95}}{\\sqrt{50 \\frac{50}{2\\frac{1}{\\overline{X}^2}}}}; \\frac{1}{\\overline{X}}+\\frac{X_{0.95}}{\\sqrt{50 \\frac{50}{2\\frac{1}{\\overline{X}^2}}}}\\right]$\n",
    "\n",
    "$0.916\\le \\lambda\\le 1.006$ - Асимп. довер. интервал параметра $\\lambda$."
   ]
  },
  {
   "cell_type": "markdown",
   "metadata": {},
   "source": [
    "### i.e) Построить критерий значимости проверки простой гипотезы согласия с гамма-распределением с параметром λ0=1.0 с использованием теоремы Колмогорова. Проверить гипотезы на уровне значимости α2 = 0,1. Вычислить наибольшее значения уровня значимости, на котором ещё нет оснований отвергнуть гипотезу."
   ]
  },
  {
   "cell_type": "code",
   "execution_count": 88,
   "metadata": {},
   "outputs": [
    {
     "name": "stdout",
     "output_type": "stream",
     "text": [
      "Статистика критерия Колмогорова Dn: 0.4697912519321242\n",
      "x_alpha_2: 0.17307822563424255\n"
     ]
    }
   ],
   "source": [
    "values, edges = np.histogram(data_1, bins=len(data_1))\n",
    "Y = values.cumsum() / len(data_1)\n",
    "\n",
    "def F_n(x, Y, edges):\n",
    "  for i in range(len(Y)):\n",
    "    if (x > edges[i] and x <= edges[i+1]):\n",
    "      return Y[i]\n",
    "    elif (x > edges[-1]):\n",
    "      return 1\n",
    "    elif (x <= edges[0]):\n",
    "      return 0\n",
    "\n",
    "def F_0(x, lbd):\n",
    "  return stats.gamma.cdf(x, a = 1/2, scale = lbd/2)\n",
    "\n",
    "D = 0\n",
    "x = 0\n",
    "while (x <= 5):\n",
    "  if (D < np.abs(F_n(x, Y, edges) - F_0(x, lambda_0))):\n",
    "    D = np.abs(F_n(x, Y, edges) - F_0(x, lambda_0))\n",
    "  x += 0.001\n",
    "\n",
    "print(\"Статистика критерия Колмогорова Dn:\", D)\n",
    "print(\"x_alpha_2:\", stats.kstwobign.ppf(1 - alpha_2) / np.sqrt(len(data_1)))"
   ]
  },
  {
   "cell_type": "markdown",
   "metadata": {},
   "source": [
    "$D_n \\approx 0.469$\n",
    "\n",
    "$x_{\\alpha_2} \\approx 0.173$\n",
    "\n",
    "$D_n > x_{\\alpha_2}$ следовательно отвергаем гипотезу $H_0$"
   ]
  },
  {
   "cell_type": "code",
   "execution_count": 90,
   "metadata": {},
   "outputs": [
    {
     "name": "stdout",
     "output_type": "stream",
     "text": [
      "Наибольшее значение уровня значимости, на котором ещё нет оснований отвергнуть данную гипотезу: 5.199778385645004e-10\n"
     ]
    }
   ],
   "source": [
    "print(\"Наибольшее значение уровня значимости, на котором ещё нет оснований отвергнуть данную гипотезу:\", 1 - stats.kstwobign.cdf(D*np.sqrt(len(data_1))))"
   ]
  },
  {
   "cell_type": "markdown",
   "metadata": {},
   "source": [
    "### i.f) Используя гистограмму частот, построить критерий значимости $\\mathcal{X^{2}}$ проверки простой гипотезы согласия с гамма-распределением с параметром $\\lambda_{0}$. Проверить гипотезу на урокень значимости $\\alpha_{2}$. Вычислить наибольшее значение уровня значимости, на котором ещё нет оснований отвергнуть данную гипотезу."
   ]
  },
  {
   "cell_type": "code",
   "execution_count": 96,
   "metadata": {},
   "outputs": [
    {
     "name": "stdout",
     "output_type": "stream",
     "text": [
      "[0.533, 0.125, 0.104, 0.171, 0.311, 2.461, 0.503, 0.869, 0.003, 0.313, 0.737, 1.901, 2.174, 0.062, 1.997, 0.11, 2.026, 0.916, 0.034, 2.165, 0.499, 5.33, 0.264, 1.687, 1.722, 0.846, 2.802, 1.621, 0.783, 1.367, 1.878, 0.817, 0.937, 0.691, 1.452, 2.628, 0.605, 0.395, 2.92, 0.37, 0.06, 0.371, 0.018, 0.188, 0.907, 1.253, 0.709, 0.579, 0.553, 0.25]\n",
      "[0.003, 0.018, 0.034, 0.06, 0.062, 0.104, 0.11, 0.125, 0.171, 0.188, 0.25, 0.264, 0.311, 0.313, 0.37, 0.371, 0.395, 0.499, 0.503, 0.533, 0.553, 0.579, 0.605, 0.691, 0.709, 0.737, 0.783, 0.817, 0.846, 0.869, 0.907, 0.916, 0.937, 1.253, 1.367, 1.452, 1.621, 1.687, 1.722, 1.878, 1.901, 1.997, 2.026, 2.165, 2.174, 2.461, 2.628, 2.802, 2.92, 5.33]\n"
     ]
    }
   ],
   "source": [
    "print(data_1)\n",
    "print(sorted_data_1)"
   ]
  },
  {
   "cell_type": "code",
   "execution_count": 98,
   "metadata": {},
   "outputs": [
    {
     "name": "stdout",
     "output_type": "stream",
     "text": [
      "x\t\t| Частота | Гипотетическая частота\n",
      "[ 0.003 , 0.499 ]\t 17 \t 37.7527840562831\n",
      "[ 0.499 , 0.937 ]\t 15 \t 5.242210015659065\n",
      "[ 0.937 , 1.997 ]\t 9 \t 2.408094866518651\n",
      "[ 1.997 , +inf)\t\t 9 \t 0.23544201636729417\n",
      "Статистика хи-квадрат равна: 373.8847240498678\n",
      "x_alpha_2 равен: 6.251388631170325\n"
     ]
    }
   ],
   "source": [
    "cur_lambda = lambda_0\n",
    "intervals = [[0.003, 0.499], [0.499,0.937], [0.937, 1.997], [1.997, 5.34]]\n",
    "freq = [0] * len(intervals) #экспереметальные частоты\n",
    "freq_teor = [0] * len(intervals) #Гипотетические частоты\n",
    "print(\"x\\t\\t| Частота | Гипотетическая частота\")\n",
    "for i in range(len(intervals)):\n",
    "  a = intervals[i][0]\n",
    "  b = intervals[i][-1]\n",
    "  freq[i] += len([x for x in data_1 if (x >= a and x < b)])\n",
    "  freq_teor[i] += len(data_1) * (stats.gamma.cdf(b, a = 1/2, scale = cur_lambda/2) - stats.gamma.cdf(a, a = 1/2, scale = cur_lambda/2))\n",
    "  if (i == len(intervals) - 1):\n",
    "    freq_teor[i] += len(data_1) * stats.gamma.sf(b, a = 1/2, scale = cur_lambda/2)\n",
    "    print('[', a, \", +inf)\\t\\t\", freq[i], \"\\t\", freq_teor[i])\n",
    "  else:\n",
    "    print('[', a, ',', b, \"]\\t\", freq[i], \"\\t\", freq_teor[i])\n",
    "freq = np.array(freq)\n",
    "freq_teor = np.array(freq_teor)\n",
    "chi_square = np.sum((freq - freq_teor) ** 2 / freq_teor)\n",
    "print(\"Статистика хи-квадрат равна:\", chi_square)\n",
    "print(\"x_alpha_2 равен:\", stats.chi2.ppf(1 - alpha_2, df = len(freq) - 1))"
   ]
  },
  {
   "cell_type": "markdown",
   "metadata": {},
   "source": [
    "$x_{\\alpha_2} : K_{r-1}(x_{\\alpha_2}) = 1 - \\alpha_2$\n",
    "\n",
    "$\\chi^2 \\approx 373.88$\n",
    "\n",
    "$x_{\\alpha_2} \\approx 6.25$\n",
    "\n",
    "$\\chi^2 > x_{\\alpha_2}$ следовательно гипотеза $H_0$ отвергается"
   ]
  },
  {
   "cell_type": "code",
   "execution_count": 107,
   "metadata": {},
   "outputs": [
    {
     "data": {
      "text/plain": [
       "0.0"
      ]
     },
     "execution_count": 107,
     "metadata": {},
     "output_type": "execute_result"
    }
   ],
   "source": [
    "1 - stats.chi2.cdf(373.88, 3)"
   ]
  },
  {
   "cell_type": "markdown",
   "metadata": {},
   "source": [
    "Наибольшее значение уровня значимости, на котором ещё нет оснований отвергнуть данную гипотезу блико стремится к нулю"
   ]
  },
  {
   "cell_type": "markdown",
   "metadata": {},
   "source": [
    "### i.g) Построить критерий значимости  $\\mathcal{X^{2}}$ проверки сложной гипотезы согласия с показательным распределением. Проверить гипотезу по уровню значимости $\\alpha_{2}$.Вычислить наибольшее значение уровня значимости, на котором ещё нет оснований отвергнуть данную гипотезу."
   ]
  },
  {
   "cell_type": "code",
   "execution_count": 111,
   "metadata": {},
   "outputs": [
    {
     "name": "stdout",
     "output_type": "stream",
     "text": [
      "x\t\t| Частота | Гипотетическая частота\n",
      "[ 0.003 , 0.499 ]\t 17 \t 38.072738508990454\n",
      "[ 0.499 , 0.937 ]\t 15 \t 5.063586172268996\n",
      "[ 0.937 , 1.997 ]\t 9 \t 2.2183521323990876\n",
      "[ 1.997 , +inf)\t\t 9 \t 0.19711135132750973\n",
      "Статистика хи-квадрат равна: 445.0262597166739\n",
      "x_alpha_2 равен: 4.605170185988092\n"
     ]
    }
   ],
   "source": [
    "cur_lambda = 1 / mean2\n",
    "intervals = [[0.003, 0.499], [0.499,0.937], [0.937, 1.997], [1.997, 5.34]]\n",
    "freq = [0] * len(intervals) #экспереметальные частоты\n",
    "freq_teor = [0] * len(intervals) #Гипотетические частоты\n",
    "print(\"x\\t\\t| Частота | Гипотетическая частота\")\n",
    "for i in range(len(intervals)):\n",
    "  a = intervals[i][0]\n",
    "  b = intervals[i][-1]\n",
    "  freq[i] += len([x for x in data_1 if (x >= a and x < b)])\n",
    "  freq_teor[i] += len(data_1) * (stats.gamma.cdf(b, a = 1/2, scale = cur_lambda/2) - stats.gamma.cdf(a, a = 1/2, scale = cur_lambda/2))\n",
    "  if (i == len(intervals) - 1):\n",
    "    freq_teor[i] += len(data_1) * stats.gamma.sf(b, a = 1/2, scale = cur_lambda/2)\n",
    "    print('[', a, \", +inf)\\t\\t\", freq[i], \"\\t\", freq_teor[i])\n",
    "  else:\n",
    "    print('[', a, ',', b, \"]\\t\", freq[i], \"\\t\", freq_teor[i])\n",
    "freq = np.array(freq)\n",
    "freq_teor = np.array(freq_teor)\n",
    "chi_square = np.sum((freq - freq_teor) ** 2 / freq_teor)\n",
    "print(\"Статистика хи-квадрат равна:\", chi_square)\n",
    "print(\"x_alpha_2 равен:\", stats.chi2.ppf(1 - alpha_2, df = len(freq) - 2))"
   ]
  },
  {
   "cell_type": "markdown",
   "metadata": {},
   "source": [
    "$x_{\\alpha_2} : K_{r-2}(x_{\\alpha_2}) = 1 - \\alpha_2$\n",
    "\n",
    "$\\hat{\\chi}^2 \\approx 445.026$\n",
    "\n",
    "$x_{\\alpha_2} \\approx 4.605$\n",
    "\n",
    "$\\hat{\\chi}^2 > x_{\\alpha_2}$ следовательно гипотеза $H_0$ отвергается"
   ]
  },
  {
   "cell_type": "code",
   "execution_count": 112,
   "metadata": {},
   "outputs": [
    {
     "data": {
      "text/plain": [
       "0.0"
      ]
     },
     "execution_count": 112,
     "metadata": {},
     "output_type": "execute_result"
    }
   ],
   "source": [
    "1 - stats.chi2.cdf(445.02, 2)"
   ]
  },
  {
   "cell_type": "markdown",
   "metadata": {},
   "source": [
    "Наибольшее значение уровня значимости, на котором ещё нет оснований отвергнуть данную гипотезу блико стремится к нулю"
   ]
  },
  {
   "cell_type": "markdown",
   "metadata": {},
   "source": [
    "### i.h)Для гамма-распределения $\\mathcal{p_{\\lambda}}(x)=\\frac{\\sqrt{\\lambda}\\cdot exp\\left( \\frac{-\\lambda\\cdot X}{2} \\right)}{\\sqrt{2\\cdot \\pi\\cdot X}}$ построить наиболее мощный критерий проверки гипотезы о показательности с параметром $\\lambda=\\lambda_{0}$ при альтернативе показательности с параметром $\\lambda=\\lambda_{1}$. Проверка гипотезы на уровне значимости $\\alpha_2$\n"
   ]
  },
  {
   "cell_type": "markdown",
   "metadata": {},
   "source": [
    "Основная гипотеза: $H_0 : \\lambda = \\lambda_0$\n",
    "\n",
    "Альтернативная гипотеза: $H_A : \\lambda = \\lambda_1$\n",
    "\n",
    "Функция правдоподобия имеет вид:\n",
    "\n",
    "$L\\left(\\overrightarrow{X}, \\theta\\right) = \\left(\\frac{\\lambda}{2\\pi}\\right)^{n/2}\\exp\\left(-\\frac{\\lambda}{2}\\sum_{i=1}^{n}{x_i}\\right)\\prod_{i=1}^{n}\\frac{1}{\\sqrt{x_i}}$\n",
    "\n",
    "Тогда статистика отношения правдоподобия имеет вид:\n",
    "\n",
    "$LR\\left(\\overrightarrow{X}, \\lambda_0, \\lambda_1\\right) = \\frac{L\\left(\\overrightarrow{X}, \\lambda_1\\right)}{L\\left(\\overrightarrow{X}, \\lambda_0\\right)} = \\left(\\frac{\\lambda_1}{\\lambda_0}\\right)^{n/2}\\exp(-\\frac{1}{2}(\\lambda_1 - \\lambda_0) \\sum_{i=1}^{n}x_i)$\n",
    "\n",
    "Так как $LR\\left(\\overrightarrow{X}, \\lambda_0, \\lambda_1\\right)$ монотонна относительно МДС $\\bar{X}$\n",
    "\n",
    "$LR\\left(\\overrightarrow{X}\\right) = \\left(\\frac{\\lambda_1}{\\lambda_0}\\right)^{n/2}\\exp(-\\frac{1}{2}(\\lambda_1 - \\lambda_0) \\sum_{i=1}^{n}x_i) > c \\iff \\frac{n}{2}\\ln\\frac{\\lambda_1}{\\lambda_0} - \\frac{1}{2}(\\lambda_1 - \\lambda_0)\\sum_{i=1}^{n}{x_i} > \\ln c \\iff \\bar{X} > -\\frac{\\ln c - \\frac{n}{2}\\ln\\frac{\\lambda_1}{\\lambda_0}}{\\frac{1}{2}(\\lambda_1 - \\lambda_0)} = c^*$\n",
    "\n",
    "$LR\\left(\\overrightarrow{X}\\right) < c \\iff \\bar{X} < c^*$\n",
    "\n",
    "Решим уравнение: $P_{\\lambda_0}\\left(LR(\\overrightarrow{X}) > c\\right) + pP_{\\lambda_0}\\left(LR(\\overrightarrow{X}) = c\\right) = \\alpha_2$\n",
    "\n",
    "$P_{\\lambda_0}\\left(n\\bar{X} > nc^*\\right) + pP_{\\lambda_0}\\left(n\\bar{X} = nc^*\\right) = \\alpha_2$\n",
    "\n",
    "Критерий не определен однозначно при $LR(\\overrightarrow{X}) = c$\n",
    "\n",
    "Пусть $LR(\\overrightarrow{X}) \\neq c$\n",
    "\n",
    "Тогда $P_{\\lambda_0}\\left(n\\bar{X} > nc^*\\right) = 1 - F_{Gamma(n/2, 2/\\lambda_0)}\\left(nc^*\\right) = \\alpha_2$\n",
    "\n",
    "$F_{Gamma(n/2, 2/\\lambda_0)}\\left(nc^*\\right) = 1 - \\alpha_2 = 0.9$"
   ]
  },
  {
   "cell_type": "code",
   "execution_count": 120,
   "metadata": {},
   "outputs": [
    {
     "name": "stdout",
     "output_type": "stream",
     "text": [
      "c* =  0.31583560502863156\n"
     ]
    }
   ],
   "source": [
    "print(\"c* = \", stats.gamma.ppf(0.9, a = 50/2, scale = lambda_0/2) / 50)"
   ]
  },
  {
   "cell_type": "markdown",
   "metadata": {},
   "source": [
    "$c^* = 0.32$\n",
    "\n",
    "$\\bar{X} = 1.04$\n",
    "\n",
    "$c^* < \\bar{X}$ следовательно отвергаем гипотезу $H_0$"
   ]
  },
  {
   "cell_type": "markdown",
   "metadata": {},
   "source": [
    "Поменяем гипотезы местами\n",
    "\n",
    "Основная гипотеза: $H_0 : \\lambda = \\lambda_1$\n",
    "\n",
    "Альтернативная гипотеза: $H_A : \\lambda = \\lambda_0$\n",
    "\n",
    "Тогда статистика отношения правдоподобия имеет вид:\n",
    "\n",
    "$LR\\left(\\overrightarrow{X}, \\lambda_1, \\lambda_0\\right) = \\frac{L\\left(\\overrightarrow{X}, \\lambda_0\\right)}{L\\left(\\overrightarrow{X}, \\lambda_1\\right)} = \\left(\\frac{\\lambda_0}{\\lambda_1}\\right)^{n/2}\\exp(-\\frac{1}{2}(\\lambda_0 - \\lambda_1) \\sum_{i=1}^{n}x_i)$\n",
    "\n",
    "Так как $LR\\left(\\overrightarrow{X}, \\lambda_1, \\lambda_0\\right)$ монотонна относительно МДС $\\bar{X}$\n",
    "\n",
    "$LR\\left(\\overrightarrow{X}\\right) > c \\iff \\bar{X} > c^*$\n",
    "\n",
    "Решим уравнение: $P_{\\lambda_1}\\left(LR(\\overrightarrow{X}) > c\\right) + pP_{\\lambda_1}\\left(LR(\\overrightarrow{X}) = c\\right) = \\alpha_1$\n",
    "\n",
    "$P_{\\lambda_1}\\left(n\\bar{X} > nc^*\\right) + pP_{\\lambda_1}\\left(n\\bar{X} = nc^*\\right) = \\alpha_1$\n",
    "\n",
    "Критерий не определен однозначно при $LR(\\overrightarrow{X}) = c$\n",
    "\n",
    "Пусть $LR(\\overrightarrow{X}) \\neq c$\n",
    "\n",
    "Тогда $P_{\\lambda_1}\\left(n\\bar{X} > nc^*\\right) = 1 - F_{Gamma(n/2, 2/\\lambda_1)}\\left(nc^*\\right) = \\alpha_1$\n",
    "\n",
    "$F_{Gamma(n/2, 2/\\lambda_1)}\\left(nc^*\\right) = 1 - \\alpha_1 = 0.9$"
   ]
  },
  {
   "cell_type": "code",
   "execution_count": 121,
   "metadata": {},
   "outputs": [
    {
     "name": "stdout",
     "output_type": "stream",
     "text": [
      "c* =  0.15791780251431578\n"
     ]
    }
   ],
   "source": [
    "print(\"c* = \", stats.gamma.ppf(0.9, a = 50/2, scale = lambda_1/2) / 50)"
   ]
  },
  {
   "cell_type": "markdown",
   "metadata": {},
   "source": [
    "$c^* = 0.16$\n",
    "\n",
    "$\\bar{X} = 1.04$\n",
    "\n",
    "$c^* < \\bar{X}$ следовательно отвергаем гипотезу $H_1$"
   ]
  },
  {
   "cell_type": "markdown",
   "metadata": {},
   "source": [
    "## Выводы\n",
    "\n",
    "В ходе лаболаторной работы были освоены и применены методы математической статистики для решения различных задач статистического анализа. Изучив основные концепции и методы, я приобрела опыт в проведении статистических тестов, анализе выборочных данных, построении доверительных интервалов, проверке гипотез и других аспектах статистического анализа."
   ]
  }
 ],
 "metadata": {
  "kernelspec": {
   "display_name": "Python 3",
   "language": "python",
   "name": "python3"
  },
  "language_info": {
   "codemirror_mode": {
    "name": "ipython",
    "version": 3
   },
   "file_extension": ".py",
   "mimetype": "text/x-python",
   "name": "python",
   "nbconvert_exporter": "python",
   "pygments_lexer": "ipython3",
   "version": "3.9.1"
  }
 },
 "nbformat": 4,
 "nbformat_minor": 2
}
