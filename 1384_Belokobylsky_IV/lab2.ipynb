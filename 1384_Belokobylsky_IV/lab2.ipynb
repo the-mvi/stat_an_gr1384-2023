{
 "cells": [
  {
   "cell_type": "markdown",
   "source": [
    "# Лабораторная работа №2: \"Классические методы математической статистики\"\n",
    "Выполнил студент гр. 1384 Белокобыльский Илья. Вариант №2"
   ],
   "metadata": {
    "collapsed": false
   },
   "id": "a4675f269a5b6501"
  },
  {
   "cell_type": "markdown",
   "source": [
    "## Цель работы\n",
    "Научится применять методы математической статистики для визуализации и анализа полученных данных; сформировать навыки реализации методов с помощью прикладных программных пакетов."
   ],
   "metadata": {
    "collapsed": false
   },
   "id": "56d543e9d10c5403"
  },
  {
   "cell_type": "markdown",
   "source": [
    "## Основные теоретические положения\n",
    "\n",
    "Выборочные числовые характеристики:\n",
    "- Математическое ожидание: $\\bar{X}=\\frac{1}{n} \\sum_{i=1}^n x_i$\n",
    "- К-ый момент: $\\bar{x^k}=\\frac{1}{n} \\sum_{i=1}^n x_i^k$\n",
    "- Дисперсия: $s^2=\\frac{1}{n} \\frac{n}{2}\\left(x_i-\\bar{x}\\right)^2=\\bar{x^2}-(\\bar{x})^2$\n",
    "- Коэффцициент асимметри: $\\hat{S_{kew}}X=\\frac{\\left(\\frac{1}{n} \\sum_{i=1}^n\\left(x_i-\\bar{x}\\right)^3\\right)}{s^3}$\n",
    "- Коэффициент эксцесса: $Kurt_X=\\frac{1}{n} \\frac{\\sum_{i=1}^n\\left(x_i-\\bar{x}^4\\right)}{s^4}-3$\n",
    "  \n",
    "Вариационный ряд – упорядоченный по возрастанию ряд данных.\n",
    "\n",
    "Эмпирическая функция распределения - это функция, которая определяет для каждого значения x частоту событий X<x и предназначена для оценки теоретической функции распределения генеральной совокупности.\n",
    "\n",
    "Гистограмма частот – это фигура, состоящая из прямоугольников, ширина которых равна длинам частичных интервалов, а высота – соответствующим плотностям частот.\n",
    "\n",
    "Оценка Максимального Правдоподобия (ОМП):\n",
    "\n",
    "Если $X_{1},...,X_{n}$-выборка из распределения с плотностью распределения $P_{\\theta}, \\theta\\in \\Theta$, то\n",
    "\n",
    "1. Функция правдоподобия распадается в произведения $L(X, \\theta)=\\prod_{i=1}^{n}P_{\\theta}(x_i)$\n",
    "2. Логарифм функции правдоподобия представляется в виде суммы $LL(X, \\theta)=\\ln L(X, \\theta)=\\sum_{i=1}^{n}\\ln P_{\\theta}(x_i)$\n",
    "3. В силу монотонности логарифма задача максимизации функции правдоподобия сводится к задаче максимизации ее логарифма по всем $\\theta\\in \\Theta$\n",
    "4. Если $\\theta$ - d-мерный параметр и $P_{\\theta}$ дифференцируема по $\\theta$, то для нахождения максимума надо найти решения системы уравнений: U$(X, \\theta)=\\frac{\\partial }{\\partial \\theta}LL(X, \\theta)=0, i=1:d$\n",
    "\n",
    "Оценка метода моментов (ОММ)\n",
    "\n",
    "Пусть $X_{1}, ..., X_{n}$ - выборка из распределения $P_{\\theta}, \\theta=(\\theta_{1},...,\\theta_{d})$\n",
    "\n",
    "$\\exists \\mu_{k}(\\theta)=\\mathbb{E}X^{k}_{1}, k=1:d$\n",
    "\n",
    "Если $\\exists!$ решение $\\hat{\\theta}(X)$ системы уравнений: $\\hat{\\mu^{k}}(\\hat{\\theta})=\\mu_{k}(\\theta), k=1:d$, где $\\hat{\\theta}(X)=\\frac{1}{n}\\sum_{i=1}^{n}X^{k}_{i}$-выборочный момент k-го порядка, то $\\hat{\\theta}(X)$ называется оценкой по методу моментов\n",
    "\n",
    "Асимптотический доверительный интервал:\n",
    "\n",
    "$$\n",
    "\\left[ \\hat{\\theta}(X)-\\frac{X_{\\alpha}}{\\sqrt{n\\cdot I\\left( \\hat{\\theta}(X) \\right)}};\\hat{\\theta}(X)+\\frac{X_{\\alpha}}{\\sqrt{n\\cdot I\\left( \\hat{\\theta}(X) \\right)}} \\right]\n",
    "$$\n",
    "\n",
    "Статистика Хи-квадрат:  $\\chi^{2} = \\sum \\limits_{i=1}^{N} \\frac{(n_{i} - p_{i} n)^{2}}{n p_{i}} $\n",
    "\n",
    "Статистика критерия Колмагорова: $D_n = sup_{x \\in \\mathbb{R}}|F_n(x) - F_0(x)|$\n",
    "\n",
    "Теорема Колмагорова: $\\sqrt{n}D_n \\rightarrow K$"
   ],
   "metadata": {
    "collapsed": false
   },
   "id": "b8003cd8b1cbb97"
  },
  {
   "cell_type": "markdown",
   "source": [
    "## Постановка задачи\n",
    "Для полученных в результате эксперимента наборов данных выполнить статистическую обработку. Полученные результаты содержательно проинтерпретировать."
   ],
   "metadata": {
    "collapsed": false
   },
   "id": "7c26a37befa93ac8"
  },
  {
   "cell_type": "markdown",
   "source": [
    "## Выполнение работы"
   ],
   "metadata": {
    "collapsed": false
   },
   "id": "33a0d2c59925ac4d"
  },
  {
   "cell_type": "markdown",
   "source": [
    "### Задание 1\n",
    "\n",
    "Ниже приведены исходные данные"
   ],
   "metadata": {
    "collapsed": false
   },
   "id": "d577807d9302493f"
  },
  {
   "cell_type": "code",
   "execution_count": 153,
   "outputs": [],
   "source": [
    "import numpy as np\n",
    "import matplotlib.pyplot as plt\n",
    "import scipy\n",
    "\n",
    "X = np.array(\n",
    "    [0, 1, 2, 0, 1, 2, 2, 2, 0, 1, 1, 1, 1, 1, 1, 0, 0, 1, 1, 0, 0, 2, 1, 3, 0, 1, 2, 0, 1, 1, 1, 0, 1, 2, 1, 1, 3, 0,\n",
    "     0, 1, 1, 1, 1, 0, 2, 1, 0, 0, 3, 2])\n",
    "alpha1 = 0.1\n",
    "a = 0.0\n",
    "b = 1.8\n",
    "lambda0 = 1.0\n",
    "lambda1 = 4.0"
   ],
   "metadata": {
    "collapsed": false,
    "ExecuteTime": {
     "end_time": "2023-12-13T04:12:30.861217900Z",
     "start_time": "2023-12-13T04:12:30.494410400Z"
    }
   },
   "id": "90c189a1cbd24ee2"
  },
  {
   "cell_type": "markdown",
   "source": [
    "#### a) Построить вариационный ряд, эмпирическую функцию распределения и гистограмму частот"
   ],
   "metadata": {
    "collapsed": false
   },
   "id": "42f7204710e8b93c"
  },
  {
   "cell_type": "code",
   "execution_count": 154,
   "outputs": [
    {
     "name": "stdout",
     "output_type": "stream",
     "text": [
      "Вариационный ряд: [0 0 0 0 0 0 0 0 0 0 0 0 0 0 0 1 1 1 1 1 1 1 1 1 1 1 1 1 1 1 1 1 1 1 1 1 1\n",
      " 1 2 2 2 2 2 2 2 2 2 3 3 3]\n"
     ]
    }
   ],
   "source": [
    "X_var = np.sort(X)\n",
    "print('Вариационный ряд:', X_var)"
   ],
   "metadata": {
    "collapsed": false,
    "ExecuteTime": {
     "end_time": "2023-12-13T04:12:30.890740600Z",
     "start_time": "2023-12-13T04:12:30.866536900Z"
    }
   },
   "id": "367520f6a9e31399"
  },
  {
   "cell_type": "code",
   "execution_count": 155,
   "outputs": [
    {
     "data": {
      "text/plain": "<Figure size 640x480 with 1 Axes>",
      "image/png": "[encoded data removed]"
     },
     "metadata": {},
     "output_type": "display_data"
    }
   ],
   "source": [
    "import math\n",
    "\n",
    "\n",
    "def empirical(var):\n",
    "    res = []\n",
    "    for x in range(math.floor(var.min()), math.ceil(var.max()) + 2):\n",
    "        count = 0\n",
    "        for xi in var:\n",
    "            if x > xi:\n",
    "                count += 1\n",
    "        res.append(count)\n",
    "    return np.array(res) / len(var)\n",
    "\n",
    "\n",
    "def draw_empirical(var, Y):\n",
    "    r = range(math.floor(var[0]), math.ceil(var[-1]) + 2)\n",
    "    plt.plot([r[0] - 1, r[0]], [0, 0], c='black', zorder=-1)\n",
    "    for i in range(1, len(Y)):\n",
    "        plt.plot([r[i - 1], r[i]], [Y[i], Y[i]], c='black', zorder=-1)\n",
    "        plt.scatter(r[i - 1], Y[i], s=12, c='white', edgecolors='black', linewidths=1)\n",
    "    plt.xlabel('Значение')\n",
    "    plt.ylabel('Вероятность')\n",
    "    plt.title('Эмпирическая функция распределения')\n",
    "    plt.show()\n",
    "\n",
    "\n",
    "draw_empirical(X_var, empirical(X))"
   ],
   "metadata": {
    "collapsed": false,
    "ExecuteTime": {
     "end_time": "2023-12-13T04:12:31.053651400Z",
     "start_time": "2023-12-13T04:12:30.897070900Z"
    }
   },
   "id": "7062b354d76c7c56"
  },
  {
   "cell_type": "code",
   "execution_count": 156,
   "outputs": [
    {
     "data": {
      "text/plain": "<Figure size 640x480 with 1 Axes>",
      "image/png": "[encoded data removed]"
     },
     "metadata": {},
     "output_type": "display_data"
    }
   ],
   "source": [
    "plt.hist(X_var, bins=range(X_var[0], X_var[-1] + 1), density=True, edgecolor='white', color='black')\n",
    "plt.xlabel('$x_i$')\n",
    "plt.ylabel('$H(x_i)$')\n",
    "plt.title('Гистограмма частот')\n",
    "plt.show()"
   ],
   "metadata": {
    "collapsed": false,
    "ExecuteTime": {
     "end_time": "2023-12-13T04:12:31.273329700Z",
     "start_time": "2023-12-13T04:12:31.051403800Z"
    }
   },
   "id": "f9bcb95281cf19cb"
  },
  {
   "cell_type": "markdown",
   "source": [
    "#### b) Вычислить выборочные аналоги следующих числовых характеристик: (i) математического ожидания; (ii) дисперсии; (iii) СКО; (iv) медианы; (v) ассиметрии; (vi) эксцесса; (vii) вероятности $\\mathbb{P}(X \\in [a, b]) $"
   ],
   "metadata": {
    "collapsed": false
   },
   "id": "bc5b2649cf3b9a2d"
  },
  {
   "cell_type": "code",
   "execution_count": 157,
   "outputs": [
    {
     "name": "stdout",
     "output_type": "stream",
     "text": [
      "Математическое ожидание 1.0\n",
      "Дисперсия 0.72\n",
      "СКО 0.848528137423857\n",
      "Медиана 1.0\n",
      "Ассиметрия 0.5892556509887896\n",
      "Эксцесс -0.22222222222222232\n",
      "Вероятность попадания в [0.0, 1.8] 0.76\n"
     ]
    }
   ],
   "source": [
    "from scipy import stats\n",
    "\n",
    "\n",
    "def get_stats(data):\n",
    "    return {\n",
    "        'mean': np.mean(data),\n",
    "        'var': np.var(data),\n",
    "        'stddev': np.std(data),\n",
    "        'median': np.median(data),\n",
    "        'skew': stats.skew(data),\n",
    "        'kurtosis': stats.kurtosis(data)\n",
    "    }\n",
    "\n",
    "\n",
    "X_stats = get_stats(X)\n",
    "X_stats['probability'] = len([xi for xi in X if a <= xi <= b]) / len(X)\n",
    "print(\"Математическое ожидание\", X_stats['mean'])\n",
    "print(\"Дисперсия\", X_stats['var'])\n",
    "print(\"СКО\", X_stats['stddev'])\n",
    "print(\"Медиана\", X_stats['median'])\n",
    "print(\"Ассиметрия\", X_stats['skew'])\n",
    "print(\"Эксцесс\", X_stats['kurtosis'])\n",
    "print(f\"Вероятность попадания в [{a}, {b}]\", X_stats['probability'])"
   ],
   "metadata": {
    "collapsed": false,
    "ExecuteTime": {
     "end_time": "2023-12-13T04:12:31.290827Z",
     "start_time": "2023-12-13T04:12:31.227438800Z"
    }
   },
   "id": "2ed11ae95b4b0cc3"
  },
  {
   "cell_type": "markdown",
   "source": [
    "#### c) В предположении, что исходные наблюдения являются выборкой из распределения Пуассона, построить оценку максимального правдоподобия параметра $\\lambda$, а также оценку $\\lambda$ по методу моментов. Найти смещение оценок."
   ],
   "metadata": {
    "collapsed": false
   },
   "id": "3f9bfb1e151dbe"
  },
  {
   "cell_type": "markdown",
   "source": [
    "Плотность распределения Пуассона: \n",
    "$$\n",
    "\\mathcal{q}_\\lambda(k) = \\frac{\\lambda^k}{k!} \\exp(-\\lambda)\n",
    "$$"
   ],
   "metadata": {
    "collapsed": false
   },
   "id": "91d0d1fdc973dfb0"
  },
  {
   "cell_type": "markdown",
   "source": [
    "Найдем ОМП:\n",
    "$$\n",
    "L(X, \\lambda) = \\prod_{i=1}^{n}{q\\left(x_i\\right)} = \\lambda^{\\sum_{i=1}^n{x_i}} \\exp(-n\\lambda) \\prod_{i=1}^{n}{\\frac{1}{x_i!}}\n",
    "\\\\\n",
    "LL(X, \\lambda) = \\ln\\lambda \\sum_{i=1}^n{x_i} - n\\lambda + \\ln\\left(\\prod_{i=1}^{n}{\\frac{1}{x_i!}}\\right)\n",
    "\\\\\n",
    "\\frac{\\partial LL(X, \\lambda)}{\\partial \\lambda} = \\frac{ \\sum_{i=1}^{n}x_i}{\\lambda} - n = 0\n",
    "\\Rightarrow \\hat{\\lambda} = \\frac{ \\sum_{i=1}^{n}x_i }{n} = \\bar{x} = 1\n",
    "$$"
   ],
   "metadata": {
    "collapsed": false
   },
   "id": "28d43a918f70b751"
  },
  {
   "cell_type": "markdown",
   "source": [
    "Найдем ОММ:\n",
    "Первый момент для распределения Пуассона: \n",
    "$$\n",
    "\\mathbb{E}x_{1}=\\lambda\n",
    "\\\\\n",
    "M_1=\\bar{x}\n",
    "$$\n",
    "Параметр одномерный, следовательно\n",
    "$$\n",
    "\\hat{\\lambda} = \\bar{x} = 1\n",
    "$$"
   ],
   "metadata": {
    "collapsed": false
   },
   "id": "3b0cd588db0315fe"
  },
  {
   "cell_type": "markdown",
   "source": [
    "Получили, что оценки по методу моментов и методу максимального правдоподобия совпадают. Они несмещенные, так как $ \\mathbb{E}{\\bar{x}} = \\lambda $"
   ],
   "metadata": {
    "collapsed": false
   },
   "id": "9eaaac6e0bc2e343"
  },
  {
   "cell_type": "markdown",
   "source": [
    "#### d) Построить асимптотический доверительный интервал уровня значимости $\\alpha_1$ для параметра $\\lambda$ на базе оценки максимального правдоподобия."
   ],
   "metadata": {
    "collapsed": false
   },
   "id": "f61feada7e76a8d3"
  },
  {
   "cell_type": "markdown",
   "source": [
    "$$\n",
    "\\sqrt{nI\\left(\\hat{\\lambda}\\right)}\\left(\\hat{\\lambda}(x) - \\lambda\\right) \\sim \\mathcal{N}(0,1)\n",
    "\\\\\n",
    "I_n(\\lambda) = -\\mathbb{E}\\frac{ \\partial^2LL }{ \\partial \\lambda^2 } = \\mathbb{E}\\frac{ \\sum_{i=1}^{n}x_i }{\\lambda^2} = \\frac{n\\lambda}{\\lambda^2} = \\frac{n}{\\lambda}\n",
    "\\\\\n",
    "I(\\lambda) = \\frac{1}{\\lambda}\n",
    "\\\\\n",
    "I(\\hat{\\lambda}) = \\frac{1}{\\bar{x}}\n",
    "$$\n",
    "Выберем $x_{\\alpha_1}$:\n",
    "$$\n",
    "\\Phi(x_{\\alpha_1}) = 1 - \\frac{\\alpha_1}{2} = 1 - \\frac{0.1}{2} = 0.95\n",
    "$$"
   ],
   "metadata": {
    "collapsed": false
   },
   "id": "e5376b360a3fade9"
  },
  {
   "cell_type": "code",
   "execution_count": 158,
   "outputs": [
    {
     "name": "stdout",
     "output_type": "stream",
     "text": [
      "X_{\\alpha_1} 1.6448536269514722\n",
      "n 50\n"
     ]
    }
   ],
   "source": [
    "print(\"X_{\\\\alpha_1}\", stats.norm.ppf(0.95))\n",
    "print('n', len(X))"
   ],
   "metadata": {
    "collapsed": false,
    "ExecuteTime": {
     "end_time": "2023-12-13T04:12:31.402906700Z",
     "start_time": "2023-12-13T04:12:31.241632Z"
    }
   },
   "id": "2ad6c90515a2b190"
  },
  {
   "cell_type": "markdown",
   "source": [
    "$$\n",
    "x_{\\alpha_1} = 1.645\n",
    "$$\n",
    "Таким образом, получим АДИ для параметра $\\lambda$:\n",
    "$$\n",
    "\\left[ 1 - \\frac{1.645}{\\sqrt{50}} ; 1 + \\frac{1.645}{\\sqrt{50}} \\right]\n",
    "$$"
   ],
   "metadata": {
    "collapsed": false
   },
   "id": "ac4ab3d6b87dbceb"
  },
  {
   "cell_type": "markdown",
   "source": [
    "#### e) Используя гистограмму частот, построить критерий значимости $\\chi^2$ проверки простой гипотезы согласия с распределением Пуассона с параметром $\\lambda_0$. Проверить гипотезу на уровне значимости $\\alpha_1$. Вычислить наибольшее значение уровня значимости, на котором еще нет оснований отвергнуть данную гипотезу."
   ],
   "metadata": {
    "collapsed": false
   },
   "id": "843351d8a7fad95b"
  },
  {
   "cell_type": "code",
   "execution_count": 159,
   "outputs": [
    {
     "name": "stdout",
     "output_type": "stream",
     "text": [
      "Абсолютные частоты (nu) [15. 23.  9.  3.]\n",
      "Гипотетические вероятности попадания в интервалы [0.36787944 0.36787944 0.18393972 0.06131324]\n",
      "Ожидаемые частоты [18.39397206 18.39397206  9.19698603  3.06566201]\n"
     ]
    }
   ],
   "source": [
    "def factorial(x):\n",
    "    if 0 <= x <= 1:\n",
    "        return 1\n",
    "    return x * factorial(x - 1)\n",
    "\n",
    "\n",
    "def puas(theta, start, end):\n",
    "    return np.array([np.exp(-theta) * theta ** x / factorial(x) for x in range(start, end)])\n",
    "\n",
    "\n",
    "nu = []\n",
    "for i in range(X_var[0], X_var[-1] + 1):\n",
    "    count = 0\n",
    "    for x in X:\n",
    "        if x == i:\n",
    "            count += 1\n",
    "    nu.append(count)\n",
    "nu = np.array(nu, dtype=float)\n",
    "q0 = puas(lambda0, X_var[0], X_var[-1] + 1)\n",
    "print(\"Абсолютные частоты (nu)\", nu)\n",
    "print(\"Гипотетические вероятности попадания в интервалы\", q0)\n",
    "print(\"Ожидаемые частоты\", len(X) * q0)"
   ],
   "metadata": {
    "collapsed": false,
    "ExecuteTime": {
     "end_time": "2023-12-13T04:12:31.407078Z",
     "start_time": "2023-12-13T04:12:31.258453100Z"
    }
   },
   "id": "b3a76b4db5d3d0eb"
  },
  {
   "cell_type": "markdown",
   "source": [
    "Статистика выбора критерия задается формулой:\n",
    "$$\n",
    "x^2 = \\sum_{j=1}^r{\\frac{\\left(\\nu_j - np_{j0}\\right)^2}{np_{j0}}}\n",
    "$$\n",
    "где $np_{j0}$ - ожидаемые частоты\n",
    "Она сходится по распределению к $\\chi^2_{r-1}$, где $r=4$"
   ],
   "metadata": {
    "collapsed": false
   },
   "id": "fc9dff28b18aa92f"
  },
  {
   "cell_type": "code",
   "execution_count": 160,
   "outputs": [
    {
     "name": "stdout",
     "output_type": "stream",
     "text": [
      "x2 1.7852596282977868\n"
     ]
    }
   ],
   "source": [
    "x2 = ((nu - len(X) * q0) ** 2 / (len(X) * q0)).sum()\n",
    "print(\"x2\", x2)"
   ],
   "metadata": {
    "collapsed": false,
    "ExecuteTime": {
     "end_time": "2023-12-13T04:12:31.441466300Z",
     "start_time": "2023-12-13T04:12:31.271266Z"
    }
   },
   "id": "a2b49ef17fd930e3"
  },
  {
   "cell_type": "code",
   "execution_count": 161,
   "outputs": [
    {
     "name": "stdout",
     "output_type": "stream",
     "text": [
      "Критерий 0\n"
     ]
    }
   ],
   "source": [
    "from scipy.stats.distributions import chi2\n",
    "\n",
    "\n",
    "def criteria_chi2(alpha, df):\n",
    "    x_a = chi2.ppf(1 - alpha, df=df)\n",
    "\n",
    "    def criteria(x2):\n",
    "        return 0 if x2 <= x_a else 1\n",
    "\n",
    "    return criteria\n",
    "\n",
    "\n",
    "phi = criteria_chi2(alpha1, len(set(X)) - 1)\n",
    "print('Критерий', phi(x2))"
   ],
   "metadata": {
    "collapsed": false,
    "ExecuteTime": {
     "end_time": "2023-12-13T04:12:31.447947200Z",
     "start_time": "2023-12-13T04:12:31.289721700Z"
    }
   },
   "id": "3818f862c479afd2"
  },
  {
   "cell_type": "markdown",
   "source": [
    "Получили, что критерий равен нулю, следовательно, основная гипотеза принимается с вероятностью 1. Вычислим наибольшее значение уровня значимости гипотезы, при котором она так же принимается."
   ],
   "metadata": {
    "collapsed": false
   },
   "id": "59718f4b21d75686"
  },
  {
   "cell_type": "code",
   "execution_count": 162,
   "outputs": [
    {
     "name": "stdout",
     "output_type": "stream",
     "text": [
      "Наибольшее значение уровня значимости 0.6190000000000004\n"
     ]
    }
   ],
   "source": [
    "def max_significant(alpha1, x2):\n",
    "    alpha_max = alpha1\n",
    "    while criteria_chi2(alpha_max, len(set(X)) - 1)(x2) == 0:\n",
    "        alpha_max += 0.001\n",
    "    return alpha_max\n",
    "\n",
    "\n",
    "print(\"Наибольшее значение уровня значимости\", max_significant(alpha1, x2))"
   ],
   "metadata": {
    "collapsed": false,
    "ExecuteTime": {
     "end_time": "2023-12-13T04:12:31.548272Z",
     "start_time": "2023-12-13T04:12:31.304593600Z"
    }
   },
   "id": "64d096ab2c55b0b"
  },
  {
   "cell_type": "markdown",
   "source": [],
   "metadata": {
    "collapsed": false
   },
   "id": "d86a234e77760ff1"
  },
  {
   "cell_type": "markdown",
   "source": [
    "Гипотезы: $H_0$ - основная, $H_A$ - альтернативная: \n",
    "$$\n",
    "H_0: F \\in \\left\\{Pois(\\theta) : \\theta \\in \\Theta_0 \\right\\}\n",
    "\\\\\n",
    "H_A: F \\notin \\left\\{Pois(\\theta) : \\theta \\in \\Theta_0 \\right\\}\n",
    "$$\n",
    "Оценка $\\hat{\\lambda} = \\bar{x}$"
   ],
   "metadata": {
    "collapsed": false
   },
   "id": "73738d6569fa7458"
  },
  {
   "cell_type": "code",
   "execution_count": 163,
   "outputs": [
    {
     "name": "stdout",
     "output_type": "stream",
     "text": [
      "x2 1.7852596282977868\n",
      "Асимптотический критерий: {phi(x2)}\n",
      "Максимальное значение уровня значимости 0.6190000000000004\n"
     ]
    }
   ],
   "source": [
    "X_stats = get_stats(X)\n",
    "q = puas(X_stats['mean'], X_var[0], X_var[-1] + 1)\n",
    "x2 = ((nu - len(X) * q) ** 2 / (len(X) * q)).sum()\n",
    "print('x2', x2)\n",
    "phi = criteria_chi2(alpha1, len(set(X)) - 2)\n",
    "print('Асимптотический критерий: {phi(x2)}')\n",
    "print('Максимальное значение уровня значимости', max_significant(alpha1, x2))"
   ],
   "metadata": {
    "collapsed": false,
    "ExecuteTime": {
     "end_time": "2023-12-13T04:12:31.550593800Z",
     "start_time": "2023-12-13T04:12:31.349498700Z"
    }
   },
   "id": "cefc1441668d52ae"
  },
  {
   "cell_type": "markdown",
   "source": [
    "#### g) Построить наиболее мощный критерий проверки простой гипотезы пауссоновости с параметром $\\lambda=\\lambda_0$ при альтернативе пуассоновсти с параметром $\\lambda=\\lambda_1$. Проверить гипотезу на уровне значимости $\\alpha_1$. Что получится, если поменять местами основную и альтернативную гипотезы?"
   ],
   "metadata": {
    "collapsed": false
   },
   "id": "2c84460bd67e3bb0"
  },
  {
   "cell_type": "markdown",
   "source": [
    "Гипотезы:\n",
    "$$ \n",
    "H_0: \\lambda = \\lambda_0\n",
    "\\\\\n",
    "H_1: \\lambda = \\lambda_1\n",
    "$$\n",
    "\n",
    "Найдем статистику отношения правдоподобия:\n",
    "$$\n",
    "LR(X,\\lambda_1,\\lambda_0) = \\frac{L( X,\\lambda_1)}{L(X,\\lambda_0)} = \\frac{\\lambda_1^{\\sum_{i=1}^{n}x_i}exp(-n \\lambda_1)}{\\lambda_0^{\\sum_{i=1}^{n}x_i} exp(-n\\lambda_0)}\n",
    "$$\n",
    "В силу монотонности относительно МДС ($\\bar{x}$) получим:\n",
    "$$\n",
    "LR(X,\\lambda_1,\\lambda_0) > c \n",
    "\\\\\n",
    "\\frac{\\lambda_1^{\\sum_{i=1}^{n}x_i}\\cdot exp(-n\\cdot \\lambda_1)}{\\lambda_0^{\\sum_{i=1}^{n}x_i}\\cdot exp(-n\\cdot \\lambda_0)} > c\n",
    "\\\\\n",
    "\\Rightarrow \\ln\\frac{\\lambda_1}{\\lambda_0}\\sum_{i=1}^{n}{x_i} -n(\\lambda_1 - \\lambda_0) > \\ln c\n",
    "\\\\\n",
    "\\Rightarrow \\bar{x} > \\frac{\\ln c + n(\\lambda_1 - \\lambda_0)}{n\\ln\\frac{\\lambda_1}{\\lambda_0}} = c^*\n",
    "\\\\\n",
    "P_{\\lambda_0}\\left(LR(X) > c^*\\right) + pP_{\\lambda_0}\\left(n LR(X) = c^*\\right) = \\alpha_1\n",
    "\\\\\n",
    "P_{\\lambda_0}\\left(n\\bar{x} > nc^*\\right) + pP_{\\lambda_0}\\left(n \\bar{x} = c^*\\right) = \\alpha_1\n",
    "$$\n",
    "При $LR(X) = c$ критерий не определен однозначно. Возьмем $LR(X) \\neq c$, тогда\n",
    "$$\n",
    "P_{\\lambda_0}\\left(n\\bar{x} > nc^*\\right) = 1 - F_{Pois(n\\lambda_0)}\\left(nc^*\\right) = \\alpha_1\n",
    "\\\\\n",
    "F_{Pois(n\\lambda_0)}\\left(nc^*\\right) = 1 - \\alpha_1 = 0.9\n",
    "$$"
   ],
   "metadata": {
    "collapsed": false
   },
   "id": "9135b26c55b5ea6"
  },
  {
   "cell_type": "code",
   "execution_count": 164,
   "outputs": [
    {
     "name": "stdout",
     "output_type": "stream",
     "text": [
      "c* 1.18\n"
     ]
    }
   ],
   "source": [
    "print('c*', stats.poisson.ppf(0.9, len(X) * lambda0) / len(X))"
   ],
   "metadata": {
    "collapsed": false,
    "ExecuteTime": {
     "end_time": "2023-12-13T04:12:31.577995300Z",
     "start_time": "2023-12-13T04:12:31.398705700Z"
    }
   },
   "id": "bf25ca75338ef3a6"
  },
  {
   "cell_type": "markdown",
   "source": [
    "$c^* = 1.18 > \\bar{x} = 1 $, следовательно, принимается $H_{0}$.\n",
    "\n",
    "Поменяем гипотезы местами и аналогично получим:\n",
    "$$\n",
    "\\bar{x} > \\frac{\\ln c + n(\\lambda_0 - \\lambda_1)}{n\\ln\\frac{\\lambda_0}{\\lambda_1}} = c^*\n",
    "\\\\\n",
    "P_{\\lambda_1}\\left(n\\bar{x} > nc^*\\right) + pP_{\\lambda_1}\\left(n \\bar{x} = c^*\\right) = \\alpha_1$\n",
    "$$\n",
    "Также возьмем $LR(X) \\neq c$, тогда\n",
    "$$\n",
    "P_{\\lambda_1}\\left(n\\bar{x} > nc^*\\right) = 1 - F_{Pois(n\\lambda_1)}\\left(nc^*\\right) = \\alpha_1\n",
    "\\\\\n",
    "F_{Pois(n\\lambda_1)}\\left(nc^*\\right) = 1 - \\alpha_1 = 0.9\n",
    "$$\n"
   ],
   "metadata": {
    "collapsed": false
   },
   "id": "97fa603386b3bc6c"
  },
  {
   "cell_type": "code",
   "execution_count": 165,
   "outputs": [
    {
     "name": "stdout",
     "output_type": "stream",
     "text": [
      "c* 4.36\n"
     ]
    }
   ],
   "source": [
    "print('c*', stats.poisson.ppf(0.9, len(X) * lambda1) / len(X))"
   ],
   "metadata": {
    "collapsed": false,
    "ExecuteTime": {
     "end_time": "2023-12-13T04:12:31.592814900Z",
     "start_time": "2023-12-13T04:12:31.414786200Z"
    }
   },
   "id": "d282e5a574c91401"
  },
  {
   "cell_type": "markdown",
   "source": [
    "$c^* = 4.36 > \\bar{x} = 1 $, следовательно, принимается $H_{1}$."
   ],
   "metadata": {
    "collapsed": false
   },
   "id": "606917f8d36c31e2"
  },
  {
   "cell_type": "markdown",
   "source": [
    "#### h.c) В предположении, что исходные наблюдения являются выборкой из геометрического распределения, построить оценку максимального правдоподобия параметра $\\lambda$, а также оценку $\\lambda$ по методу моментов. Найти смещение оценок."
   ],
   "metadata": {
    "collapsed": false
   },
   "id": "968544136541c259"
  },
  {
   "cell_type": "markdown",
   "source": [
    "Плотность геометрического распределения:\n",
    "$$\n",
    "q_{\\lambda}(k)=\\frac{\\lambda^{k}}{(\\lambda + 1)^{k + 1}}, \\ k \\in \\mathbb{Z_{+}}\n",
    "$$"
   ],
   "metadata": {
    "collapsed": false
   },
   "id": "9a0c47ddbbe02f6e"
  },
  {
   "cell_type": "markdown",
   "source": [
    "Найдем ОМП:\n",
    "$$\n",
    "L(X, \\lambda) = \\lambda^{\\sum_{i=1}^n{x_i}} (\\lambda + 1)^{-\\sum_{i=1}^n{x_i}-n}\n",
    "\\\\\n",
    "LL(X, \\lambda) = \\ln(\\lambda)\\sum_{i=1}^{n}x_i - \\ln(\\lambda+1)\\left(\\sum_{i=1}^{n}x_i- n\\right)\n",
    "\\\\\n",
    "\\frac{\\partial LL(X, \\lambda)}{\\partial \\lambda} = \\frac{\\sum_{i=1}^{n}x_i}{\\lambda} - \\frac{\\sum_{i=1}^{n}x_i+n}{\\lambda+1}=0 \n",
    "\\\\ \n",
    "\\frac{\\sum_{i=1}^{n}x_i}{\\lambda} - \\frac{\\sum_{i=1}^{n}x_i}{\\lambda +1} - \\frac{\\lambda n}{\\lambda +1} = 0\n",
    "\\\\\n",
    "$\\lambda\\sum_{i=1}^{n}x_i + \\sum_{i=1}^{n}x_i - \\lambda\\sum_{i=1}^{n}x_i - \\lambda n = 0 \n",
    "\\\\ \n",
    "\\sum_{i=1}^{n}x_i = \\lambda n\n",
    "\\\\\n",
    "\\hat{\\lambda} = \\bar{x}\n",
    "$$"
   ],
   "metadata": {
    "collapsed": false
   },
   "id": "cf819537ff8d373f"
  },
  {
   "cell_type": "markdown",
   "source": [
    "Получили, что оценки по методу моментов и методу максимального правдоподобия совпадают. Они несмещенные, так как $ \\mathbb{E}{\\bar{x}} = \\lambda $"
   ],
   "metadata": {
    "collapsed": false
   },
   "id": "d104f7aa9c1a57de"
  },
  {
   "cell_type": "markdown",
   "source": [
    "#### h.d) Построить асимптотический доверительный интервал уровня значимости $\\alpha_1$ для параметра $\\lambda$ на базе оценки максимального правдоподобия"
   ],
   "metadata": {
    "collapsed": false
   },
   "id": "fcc5d00ff1abdab0"
  },
  {
   "cell_type": "markdown",
   "source": [
    "$$\n",
    "\\sqrt{nI\\left(\\hat{\\lambda}\\right)}\\left(\\hat{\\lambda}(x) - \\lambda\\right) \\sim \\mathcal{N}(0,1)\n",
    "\\\\\n",
    "I_n(\\lambda) = -\\mathbb{E}\\frac{ \\partial^2LL }{ \\partial \\lambda^2 }\n",
    "\\\\\n",
    "\\frac{\\partial^2 LL(X, \\lambda)}{{\\partial \\lambda}^2} = - \\frac{\\sum_{i=1}^{n}x_i}{\\lambda^2} + \\frac{\\sum_{i=1}^{n}x_i+n}{(\\lambda + 1)^2}\n",
    "\\\\\n",
    "I_n(\\lambda) = \\frac{n}{\\lambda^2}-\\mathbb{E}\\left( \\frac{\\sum_{i=1}^{n}x_i+n}{(\\lambda+1)^2} \\right)\n",
    "\\\\\n",
    "I_n(\\lambda) = \\frac{n\\left(\\lambda^2+1\\right)}{(\\lambda+1)^2\\lambda^2}\n",
    "\\\\\n",
    "I(\\lambda) = \\frac{\\left(\\lambda^2+1\\right)}{(\\lambda+1)^2\\lambda^2}\n",
    "\\\\\n",
    "I\\left(\\hat{\\lambda}\\right) = \\frac{\\left(\\bar{x}^2+1\\right)}{\\left(\\bar{x}+1\\right)^2\\cdot \\bar{x}^2}\n",
    "$$\n",
    "Выберем $x_{\\alpha_1}$:\n",
    "$$\n",
    "\\Phi(x_{\\alpha_1}) = 1 - \\frac{\\alpha_1}{2} = 1 - \\frac{0.1}{2} = 0.95\n",
    "$$"
   ],
   "metadata": {
    "collapsed": false
   },
   "id": "bbaa27248cf35a80"
  },
  {
   "cell_type": "code",
   "execution_count": 166,
   "outputs": [
    {
     "name": "stdout",
     "output_type": "stream",
     "text": [
      "X_{\\alpha_1} 1.6448536269514722\n",
      "I(\\hat{lambda}) 0.5\n",
      "n 50\n"
     ]
    }
   ],
   "source": [
    "print(\"X_{\\\\alpha_1}\", stats.norm.ppf(0.95))\n",
    "X_stats = get_stats(X)\n",
    "print(\"I(\\hat{lambda})\", (X_stats['mean'] ** 2 + 1) / ((X_stats['mean'] + 1) ** 2 * X_stats['mean'] ** 2))\n",
    "print('n', len(X))"
   ],
   "metadata": {
    "collapsed": false,
    "ExecuteTime": {
     "end_time": "2023-12-13T04:12:31.607861100Z",
     "start_time": "2023-12-13T04:12:31.432886800Z"
    }
   },
   "id": "7520f5bd589dc372"
  },
  {
   "cell_type": "markdown",
   "source": [
    "$$\n",
    "x_{\\alpha_1} = 1.645\n",
    "\\\\\n",
    "I\\left(\\hat{\\lambda}\\right) = 0.064\n",
    "$$\n",
    "Таким образом, получим АДИ для параметра $\\lambda$:\n",
    "$$\n",
    "\\left[ 1 - \\frac{1.645}{\\sqrt{50 \\cdot 0.064}} ; 1 + \\frac{1.645}{\\sqrt{50 \\cdot 0.064}} \\right]\n",
    "$$"
   ],
   "metadata": {
    "collapsed": false
   },
   "id": "601817200a9f7c9e"
  },
  {
   "cell_type": "markdown",
   "source": [
    "#### h.e) Используя гистограмму частот, построить критерий значимости $\\chi^2$ проверки простой гипотезы согласия с геометрическим распределением с параметром $\\lambda_0$. Проверить гипотезу на уровне значимости $\\alpha_1$. Вычислить наибольшее значение уровня значимости, на котором еще нет оснований отвергнуть данную гипотезу."
   ],
   "metadata": {
    "collapsed": false
   },
   "id": "245b9409979242fb"
  },
  {
   "cell_type": "code",
   "execution_count": 167,
   "outputs": [
    {
     "name": "stdout",
     "output_type": "stream",
     "text": [
      "Абсолютные частоты (nu) [15. 23.  9.  3.]\n",
      "Гипотетические вероятности попадания в интервалы [0.5    0.25   0.125  0.0625]\n",
      "Ожидаемые частоты [25.    12.5    6.25   3.125]\n"
     ]
    }
   ],
   "source": [
    "def geom(theta, start, end):\n",
    "    return np.array([theta ** k / (theta + 1) ** (k + 1) for k in range(start, end)])\n",
    "\n",
    "\n",
    "nu = []\n",
    "for i in range(X_var[0], X_var[-1] + 1):\n",
    "    count = 0\n",
    "    for x in X:\n",
    "        if x == i:\n",
    "            count += 1\n",
    "    nu.append(count)\n",
    "nu = np.array(nu, dtype=float)\n",
    "q0 = geom(lambda0, X_var[0], X_var[-1] + 1)\n",
    "print(\"Абсолютные частоты (nu)\", nu)\n",
    "print(\"Гипотетические вероятности попадания в интервалы\", q0)\n",
    "print(\"Ожидаемые частоты\", len(X) * q0)\n"
   ],
   "metadata": {
    "collapsed": false,
    "ExecuteTime": {
     "end_time": "2023-12-13T04:12:31.764502100Z",
     "start_time": "2023-12-13T04:12:31.604751900Z"
    }
   },
   "id": "d3699b0587c607e8"
  },
  {
   "cell_type": "code",
   "execution_count": 168,
   "outputs": [
    {
     "name": "stdout",
     "output_type": "stream",
     "text": [
      "x2 14.035000000000002\n"
     ]
    }
   ],
   "source": [
    "x2 = ((nu - len(X) * q0) ** 2 / (len(X) * q0)).sum()\n",
    "print(\"x2\", x2)"
   ],
   "metadata": {
    "collapsed": false,
    "ExecuteTime": {
     "end_time": "2023-12-13T04:12:31.833784500Z",
     "start_time": "2023-12-13T04:12:31.764502100Z"
    }
   },
   "id": "8769150595271bc"
  },
  {
   "cell_type": "code",
   "execution_count": 169,
   "outputs": [
    {
     "name": "stdout",
     "output_type": "stream",
     "text": [
      "Критерий 1\n"
     ]
    }
   ],
   "source": [
    "phi = criteria_chi2(alpha1, len(set(X)) - 1)\n",
    "print('Критерий', phi(x2))"
   ],
   "metadata": {
    "collapsed": false,
    "ExecuteTime": {
     "end_time": "2023-12-13T04:12:31.893338Z",
     "start_time": "2023-12-13T04:12:31.835867100Z"
    }
   },
   "id": "777a9370d083606e"
  },
  {
   "cell_type": "markdown",
   "source": [
    "Получили, что критерий равен нулю, следовательно, основная гипотеза принимается с вероятностью 1. Вычислим наибольшее значение уровня значимости гипотезы, при котором она так же принимается."
   ],
   "metadata": {
    "collapsed": false
   },
   "id": "dcdf7d4c5e4a61a5"
  },
  {
   "cell_type": "code",
   "execution_count": 170,
   "outputs": [
    {
     "name": "stdout",
     "output_type": "stream",
     "text": [
      "Наибольшее значение уровня значимости 0.1\n"
     ]
    }
   ],
   "source": [
    "print(\"Наибольшее значение уровня значимости\", max_significant(alpha1, x2))"
   ],
   "metadata": {
    "collapsed": false,
    "ExecuteTime": {
     "end_time": "2023-12-13T04:12:31.960202900Z",
     "start_time": "2023-12-13T04:12:31.885987600Z"
    }
   },
   "id": "f5342c79598c2842"
  },
  {
   "cell_type": "markdown",
   "source": [],
   "metadata": {
    "collapsed": false
   },
   "id": "8b3a4ba12fdb8660"
  },
  {
   "cell_type": "markdown",
   "source": [
    "Гипотезы: $H_0$ - основная, $H_A$ - альтернативная: \n",
    "$$\n",
    "H_0: F \\in \\left\\{Geom(\\theta) : \\theta \\in \\Theta_0 \\right\\}\n",
    "\\\\\n",
    "H_1: F \\notin \\left\\{Geom(\\theta) : \\theta \\in \\Theta_0 \\right\\}\n",
    "$$\n",
    "Оценка $\\hat{\\lambda} = \\bar{x}$"
   ],
   "metadata": {
    "collapsed": false
   },
   "id": "ab62327d7e5a127b"
  },
  {
   "cell_type": "code",
   "execution_count": 171,
   "outputs": [
    {
     "name": "stdout",
     "output_type": "stream",
     "text": [
      "x2 14.035000000000002\n",
      "Асимптотический критерий: {phi(x2)}\n",
      "Максимальное значение уровня значимости 0.1\n"
     ]
    }
   ],
   "source": [
    "X_stats = get_stats(X)\n",
    "q = geom(X_stats['mean'], X_var[0], X_var[-1] + 1)\n",
    "x2 = ((nu - len(X) * q) ** 2 / (len(X) * q)).sum()\n",
    "print('x2', x2)\n",
    "phi = criteria_chi2(alpha1, len(set(X)) - 2)\n",
    "print('Асимптотический критерий: {phi(x2)}')\n",
    "print('Максимальное значение уровня значимости', max_significant(alpha1, x2))"
   ],
   "metadata": {
    "collapsed": false,
    "ExecuteTime": {
     "end_time": "2023-12-13T04:12:31.989590700Z",
     "start_time": "2023-12-13T04:12:31.951759200Z"
    }
   },
   "id": "274f71eddcd3d870"
  },
  {
   "cell_type": "markdown",
   "source": [
    "### Задание 2"
   ],
   "metadata": {
    "collapsed": false
   },
   "id": "95aaeea3a05a9ca0"
  },
  {
   "cell_type": "code",
   "execution_count": 172,
   "outputs": [],
   "source": [
    "X = np.array(\n",
    "    [-5.041, -4.940, -5.084, -4.929, -5.184, -4.987, -5.095, -4.943, -5.007, -5.077, -4.923, -5.046, -5.137, -5.181,\n",
    "     -5.047, -5.081, -5.072, -5.225, -4.910, -5.016, -5.082, -5.136, -5.034, -4.903, -4.988, -4.906, -5.161, -4.989,\n",
    "     -5.117, -4.936, -5.030, -4.997, -4.857, -5.004, -5.196, -4.890, -4.816, -5.056, -5.112, -4.952, -5.208, -5.021,\n",
    "     -4.969, -4.988, -4.935, -5.069, -4.953, -4.839, -5.158, -4.967])\n",
    "alpha2 = 0.1\n",
    "c = -5.02\n",
    "d = -4.96\n",
    "h = 0.05\n",
    "a0 = -5.0\n",
    "sigma0 = 0.1\n",
    "a1 = -5.11\n",
    "sigma1 = 0.1"
   ],
   "metadata": {
    "collapsed": false,
    "ExecuteTime": {
     "end_time": "2023-12-13T04:12:32.057189100Z",
     "start_time": "2023-12-13T04:12:31.988542100Z"
    }
   },
   "id": "a04e258381f2f5ce"
  },
  {
   "cell_type": "markdown",
   "source": [
    "#### a) Построить вариационный ряд, эмпирическую функцию распределения, гистограмму частот и полигон с шагом h"
   ],
   "metadata": {
    "collapsed": false
   },
   "id": "1d145a96874a326e"
  },
  {
   "cell_type": "code",
   "execution_count": 173,
   "outputs": [
    {
     "name": "stdout",
     "output_type": "stream",
     "text": [
      "Вариационный ряд: [-5.225 -5.208 -5.196 -5.184 -5.181 -5.161 -5.158 -5.137 -5.136 -5.117\n",
      " -5.112 -5.095 -5.084 -5.082 -5.081 -5.077 -5.072 -5.069 -5.056 -5.047\n",
      " -5.046 -5.041 -5.034 -5.03  -5.021 -5.016 -5.007 -5.004 -4.997 -4.989\n",
      " -4.988 -4.988 -4.987 -4.969 -4.967 -4.953 -4.952 -4.943 -4.94  -4.936\n",
      " -4.935 -4.929 -4.923 -4.91  -4.906 -4.903 -4.89  -4.857 -4.839 -4.816]\n"
     ]
    }
   ],
   "source": [
    "X_var = np.sort(X)\n",
    "print('Вариационный ряд:', X_var)"
   ],
   "metadata": {
    "collapsed": false,
    "ExecuteTime": {
     "end_time": "2023-12-13T04:12:32.074068200Z",
     "start_time": "2023-12-13T04:12:32.035509600Z"
    }
   },
   "id": "4ee2a421be8cd1e5"
  },
  {
   "cell_type": "code",
   "execution_count": 174,
   "outputs": [
    {
     "data": {
      "text/plain": "<Figure size 640x480 with 1 Axes>",
      "image/png": "[encoded data removed]"
     },
     "metadata": {},
     "output_type": "display_data"
    }
   ],
   "source": [
    "from statsmodels.distributions.empirical_distribution import ECDF\n",
    "\n",
    "ecdf = ECDF(X)\n",
    "plt.step(ecdf.x, ecdf.y, c='black')\n",
    "plt.xlabel('Значение')\n",
    "plt.ylabel('Вероятность')\n",
    "plt.title('Эмпирическая функция')\n",
    "plt.show()"
   ],
   "metadata": {
    "collapsed": false,
    "ExecuteTime": {
     "end_time": "2023-12-13T04:12:32.283207700Z",
     "start_time": "2023-12-13T04:12:32.078460400Z"
    }
   },
   "id": "90e0e662c4f817c7"
  },
  {
   "cell_type": "code",
   "execution_count": 175,
   "outputs": [
    {
     "data": {
      "text/plain": "<Figure size 640x480 with 1 Axes>",
      "image/png": "[encoded data removed]"
     },
     "metadata": {},
     "output_type": "display_data"
    }
   ],
   "source": [
    "intervals = np.arange(X_var[0], X_var[-1] + h, h)\n",
    "plt.hist(X_var, bins=intervals, density=True, color='blue', edgecolor='black', label='Гистограмма')\n",
    "hist, _ = np.histogram(X_var, bins=intervals, density=True)\n",
    "mid_points = 0.5 * (intervals[1:] + intervals[:-1])\n",
    "plt.plot(mid_points, hist, color='green', marker='o', linestyle='-', label='Полигон')\n",
    "plt.title(f'Гистограмма и полигон частот c шагом h = {h}')\n",
    "plt.xlabel(\"Интервалы\")\n",
    "plt.ylabel(\"Частота\")\n",
    "plt.legend()\n",
    "plt.show()"
   ],
   "metadata": {
    "collapsed": false,
    "ExecuteTime": {
     "end_time": "2023-12-13T04:12:32.358048700Z",
     "start_time": "2023-12-13T04:12:32.206120300Z"
    }
   },
   "id": "6978abc4713d45bf"
  },
  {
   "cell_type": "markdown",
   "source": [
    "#### b) Вычислить выборочные аналоги следующих числовых характеристик: (i) математического ожидания; (ii) дисперсии; (iii) СКО; (iv) медианы; (v) ассиметрии; (vi) эксцесса; (vii) вероятности $\\mathbb{P}(X \\in [c, d]) $\n"
   ],
   "metadata": {
    "collapsed": false
   },
   "id": "a1ae5fe515b1ca4a"
  },
  {
   "cell_type": "markdown",
   "source": [],
   "metadata": {
    "collapsed": false
   },
   "id": "20961369417e89fe"
  },
  {
   "cell_type": "code",
   "execution_count": 176,
   "outputs": [
    {
     "name": "stdout",
     "output_type": "stream",
     "text": [
      "Математическое ожидание -5.02388\n",
      "Дисперсия 0.009879065599999997\n",
      "СКО 0.0993934887203382\n",
      "Медиана -5.0184999999999995\n",
      "Ассиметрия -0.10731475465122328\n",
      "Эксцесс -0.6783451901019579\n",
      "Вероятность попадания в [-5.02, -4.96] 0.2\n"
     ]
    }
   ],
   "source": [
    "X_stats = get_stats(X)\n",
    "X_stats['probability'] = len([xi for xi in X if c <= xi <= d]) / len(X)\n",
    "\n",
    "print(\"Математическое ожидание\", X_stats['mean'])\n",
    "print(\"Дисперсия\", X_stats['var'])\n",
    "print(\"СКО\", X_stats['stddev'])\n",
    "print(\"Медиана\", X_stats['median'])\n",
    "print(\"Ассиметрия\", X_stats['skew'])\n",
    "print(\"Эксцесс\", X_stats['kurtosis'])\n",
    "print(f\"Вероятность попадания в [{c}, {d}]\", X_stats['probability'])"
   ],
   "metadata": {
    "collapsed": false,
    "ExecuteTime": {
     "end_time": "2023-12-13T04:12:32.379532400Z",
     "start_time": "2023-12-13T04:12:32.344242600Z"
    }
   },
   "id": "1e1c2f31e44460b8"
  },
  {
   "cell_type": "markdown",
   "source": [
    "#### c) В предположении, что исходные наблюдения являются выборкой из нормального распределения, построить ОМП и ОММ параметров $(a, \\sigma^2)$. Найти смещение оценок"
   ],
   "metadata": {
    "collapsed": false
   },
   "id": "73d645bdf0ed0edf"
  },
  {
   "cell_type": "markdown",
   "source": [
    "Плотность нормального распределения:\n",
    "$$\n",
    "p_{\\theta}(x)=\\frac{1}{\\sqrt{2\\pi\\sigma^2}} exp\\left(-\\frac{(x-a)^2}{2\\sigma^2}\\right)\n",
    "$$"
   ],
   "metadata": {
    "collapsed": false
   },
   "id": "1c5685ab1daf013e"
  },
  {
   "cell_type": "markdown",
   "source": [
    "Найдем ОМП:\n",
    "$$\n",
    "L(X, \\theta) = \\sigma^{-n} \\cdot (2\\pi)^{-\\frac{n}{2}} \\cdot exp \\left(-\\frac{\\sum_{i=1}^{n}(x_i-a)^2}{2\\sigma^2}\\right)\n",
    "\\\\\n",
    "L(X, \\theta) = \\sigma^{-n} \\cdot (2\\pi)^{-\\frac{n}{2}} \\cdot exp \\left(-\\frac{1}{{2\\sigma^2}}\\sum_{i=1}^{n}(x_i-a)^2\\right)\n",
    "\\\\\n",
    "$LL(X;\\theta)= - \\frac{n}{2} \\ln(2\\pi) - n \\ln(\\sigma) - \\frac{1}{{2\\sigma^2}} \\sum_{i=1}^{n}(x_i-a)^2\n",
    "\\\\\n",
    "\\frac{\\partial LL(X;\\theta)}{\\partial a} = \\frac{1}{\\sigma^2} \\sum_{i=1}^{n}x_i -na = 0\n",
    "\\\\\n",
    "\\Rightarrow \\hat{a} = \\frac{1}{n} \\sum_{i=1}^{n}x_i = \\bar{x}\n",
    "\\\\\n",
    "\\frac{\\partial LL(X;\\theta)}{\\partial \\sigma} = -\\frac{n}{\\sigma} + \\frac{1}{\\sigma^{3}}\\sum_{i=1}^{n}(x_i-a)^2 = 0\n",
    "\\\\\n",
    "\\Rightarrow\n",
    "\\hat{\\sigma^2} =\\frac{1}{n}\\sum_{i=1}^{n}(x_i-\\bar{x})^2 = s^2\n",
    "$$"
   ],
   "metadata": {
    "collapsed": false
   },
   "id": "5291ab44c779c3f0"
  },
  {
   "cell_type": "markdown",
   "source": [
    "Найдем ОММ:\n",
    "$$\n",
    "\\mathbb{E}X_1=a;\\, M_1=\\bar{x}\n",
    "\\\\\n",
    "\\mathbb{E}X_1^2=\\sigma^2+a^2;\\, M_{2}=\\bar{x^2}\n",
    "\\\\\n",
    "\\begin{cases}\n",
    "    a = \\bar{x} \\\\\n",
    "    \\sigma^2+a^2 = \\bar{x^2}\n",
    "\\end{cases}\n",
    "\\\\\n",
    "\\bar{x}^2 + \\sigma^2 = \\bar{x^2}\n",
    "\\\\\n",
    "\\hat{\\theta} = (\\bar{x}, s^2)\n",
    "$$"
   ],
   "metadata": {
    "collapsed": false
   },
   "id": "cf9a127805da9598"
  },
  {
   "cell_type": "markdown",
   "source": [
    "Найдем смещение\n",
    "$$\n",
    "\\mathbb{E}\\hat{a} = \\frac{1}{n}\\sum_{i=1}^{n}\\mathbb{E}x_i = a\n",
    "\\\\\n",
    "\\mathbb{E}\\hat{\\sigma^{2}}=\\mathbb{E} s^2 = \\frac{1}{n} \\mathbb{E} \\sum_{i=1}^{n}(x_i - \\bar{x})^2 = \\left[ x_i - \\mathbb{E} x_i = y_i ; \\mathbb{E} y_i = 0; \\mathbb{D} y_i = \\sigma^2 \\right] = \\frac{1}{n}\\mathbb{E}\\sum_{i=1}^{n}\\left( y_i - \\bar{y} \\right)^2 = \\mathbb{E}\\bar{y^2} - \\mathbb{E}\\bar{y}^2\n",
    "\\\\\n",
    "\\mathbb{E}\\bar{y^2} = \\frac{1}{n} \\mathbb{E}\\sum_{i=1}^{n}y_i^2 = \\sigma^2\n",
    "\\\\\n",
    "\\mathbb{E}\\bar{y}^2 = \\frac{1}{n^2} \\mathbb{E}\\left(\\sum_{i=1}^{n}y_i^2 = \\sigma^2\\right)^2 = \\frac{1}{n^2} \\sum_{i=1}^{n}\\sum_{j=1}^{n}\\mathbb{E}y_i\\cdot y_j\n",
    "\\\\\n",
    "i \\neq j \\Rightarrow \\mathbb{E}y_i\\cdot y_j = \\mathbb{E}y_i \\cdot \\mathbb{E}y_j = 0\n",
    "\\\\\n",
    "i = j \\Rightarrow \\mathbb{E}y_i\\cdot y_j = \\mathbb{E}y_i^2 = \\frac{\\sigma^2}{n}\n",
    "\\\\\n",
    "\\mathbb{E}\\bar{y}^2 = \\frac{\\sigma^2}{n}\n",
    "\\\\\n",
    "\\mathbb{E}\\hat{\\sigma^{2}} = \\frac{n-1}{n} \\sigma^2\n",
    "$$\n",
    "По первому параметру оценка несмещенная, а по второму смещение есть."
   ],
   "metadata": {
    "collapsed": false
   },
   "id": "475a7e6ffa7edd14"
  },
  {
   "cell_type": "markdown",
   "source": [
    "#### d) Построить доверительные интервалы уровня значимости $\\alpha_2$ для параметров $(a, \\sigma^2)$"
   ],
   "metadata": {
    "collapsed": false
   },
   "id": "e0f7c25c1026ca39"
  },
  {
   "cell_type": "markdown",
   "source": [
    "Построим для первого параметра:\n",
    "$$\n",
    "\\sqrt{n-1}\\frac{\\bar{x}-a}{s} \\sim \\mathcal{S}_{n-1}\n",
    "$$\n",
    "Выберем $x_{\\alpha_2}$:\n",
    "$$\n",
    "\\mathcal{S}_{n-1}\\left(x{\\alpha_2}\\right) = 1 - \\frac{\\alpha_2}{2} = 1 - \\frac{0.1}{2} = 0.95 \n",
    "\\\\\n",
    "\\mathbb{P}\\left( -x_{\\alpha_2} \\le \\sqrt{n-1}\\frac{\\bar{x} - a}{s} \\le x_{\\alpha_2} \\right) = 1 - \\alpha_2\n",
    "\\\\\n",
    "\\mathbb{P}\\left( \\bar{x} - \\frac{x_{\\alpha_2}s}{\\sqrt{n-1}} \\le a \\le \\bar{x} + \\frac{x_{\\alpha_2}s}{\\sqrt{n-1}} \\right) = 1 - \\alpha_2\n",
    "$$"
   ],
   "metadata": {
    "collapsed": false
   },
   "id": "de71103a232b04ae"
  },
  {
   "cell_type": "code",
   "execution_count": 177,
   "outputs": [
    {
     "name": "stdout",
     "output_type": "stream",
     "text": [
      "[-5.047685463166365, -5.000074536833635]\n"
     ]
    }
   ],
   "source": [
    "x_alpha = stats.t.ppf(1 - alpha2 / 2, len(X) - 1)\n",
    "c = x_alpha * X_stats['stddev'] / (len(X) - 1) ** 0.5\n",
    "X_stats = get_stats(X)\n",
    "print([X_stats['mean'] - c, X_stats['mean'] + c])"
   ],
   "metadata": {
    "collapsed": false,
    "ExecuteTime": {
     "end_time": "2023-12-13T04:12:32.491453700Z",
     "start_time": "2023-12-13T04:12:32.363387100Z"
    }
   },
   "id": "4a0c135160a7072e"
  },
  {
   "cell_type": "markdown",
   "source": [
    "Построим для второго параметра:\n",
    "$$\n",
    "\\frac{ns^2}{\\sigma^2} \\sim \\chi_{n-1}^2\n",
    "$$\n",
    "Выберем $x_{1\\alpha_2}$, $x_{2\\alpha_2}$:\n",
    "$$\n",
    "K_{n-1}\\left( x_{1\\alpha_{2}} \\right) = \\frac{\\alpha_{2}}{2}\n",
    "\\\\\n",
    "K_{n-1}\\left( x_{2\\alpha_{2}} \\right) = 1 - \\frac{\\alpha_{2}}{2}\n",
    "\\\\\n",
    "\\mathbb{P}\\left( \\frac{ns^2}{x_{1\\alpha_{2}}} \\le \\sigma^2 \\le \\frac{ns^2}{x_{2\\alpha_{2}}} \\right) = 1 - \\alpha_{2}\n",
    "$$"
   ],
   "metadata": {
    "collapsed": false
   },
   "id": "c16312f9a9b9e17c"
  },
  {
   "cell_type": "code",
   "execution_count": 178,
   "outputs": [
    {
     "name": "stdout",
     "output_type": "stream",
     "text": [
      "[0.08479924545114599, 0.294624685944374]\n"
     ]
    }
   ],
   "source": [
    "x_1alpha = stats.chi.ppf(alpha2 / 2, len(X) - 1)\n",
    "x_2alpha = stats.t.ppf(1 - alpha2 / 2, len(X) - 1)\n",
    "X_stats = get_stats(X)\n",
    "print([len(X) * X_stats['var'] / x_1alpha, len(X) * X_stats['var'] / x_2alpha])"
   ],
   "metadata": {
    "collapsed": false,
    "ExecuteTime": {
     "end_time": "2023-12-13T04:12:32.511444900Z",
     "start_time": "2023-12-13T04:12:32.377424400Z"
    }
   },
   "id": "a5813e86dd91f1c8"
  },
  {
   "cell_type": "markdown",
   "source": [],
   "metadata": {
    "collapsed": false
   },
   "id": "c054e4542b0426cd"
  },
  {
   "cell_type": "markdown",
   "source": [
    "#### e) С использованием теоремы Колмогорова построить критерий значимости простой гипотезы согласия с нормальным распределением с параметрами $(a_0, \\sigma_0^2 )$ Проверить гипотезу на уровне значимости $\\alpha_2$. Вычислить наибольшее значение уровня значимости, на котором еще нет оснований отвергнуть данную гипотезу."
   ],
   "metadata": {
    "collapsed": false
   },
   "id": "ad3c509b510937c5"
  },
  {
   "cell_type": "markdown",
   "source": [
    "Основная гипотеза: $H_0: (a_0, \\sigma_0^2)$\n",
    "\n",
    "По т. Колмогорова при справедливости $H_0$\n",
    "\n",
    "$$ \n",
    "\\sqrt{n} \\max|F_n(y) - F(y)| \\sim \\mathcal{K}\n",
    "\\\\\n",
    "D_n = \\sqrt{n} \\max|F_n(y) - F(y)|\n",
    "\\\\\n",
    "\\mathbb{P}(D_n < x_{\\alpha_2}) = 1 - \\alpha_2 = 0.9\n",
    "$$\n"
   ],
   "metadata": {
    "collapsed": false
   },
   "id": "d809f14f2b35df71"
  },
  {
   "cell_type": "code",
   "execution_count": 179,
   "outputs": [
    {
     "name": "stdout",
     "output_type": "stream",
     "text": [
      "x_alpha2 0.14839812573875721\n",
      "Dn 0.7024046752468542\n"
     ]
    }
   ],
   "source": [
    "x_alpha2 = stats.ksone.ppf(1 - alpha2, len(X))\n",
    "print(\"x_alpha2\", x_alpha2)\n",
    "\n",
    "def calc_Dn(X, cdf, *args):\n",
    "    def Fn(x):\n",
    "        s = 0\n",
    "        for i in X:\n",
    "            if i >= x:\n",
    "                return s / len(X)\n",
    "            s += 1\n",
    "        return s / len(X)\n",
    "\n",
    "\n",
    "    x = np.arange(X_var[0], X_var[-1], 0.001)\n",
    "    y = [abs(Fn(i) - cdf(i, *args)) for i in x]\n",
    "    \n",
    "    return max(y)\n",
    "\n",
    "Dn = calc_Dn(X, stats.norm.cdf, a0, sigma0)\n",
    "print(\"Dn\", Dn)"
   ],
   "metadata": {
    "collapsed": false,
    "ExecuteTime": {
     "end_time": "2023-12-13T04:12:32.585643Z",
     "start_time": "2023-12-13T04:12:32.393220200Z"
    }
   },
   "id": "761384d24ec008d4"
  },
  {
   "cell_type": "markdown",
   "source": [
    "\n",
    "$D_n > x_\\alpha$, значит гипотеза $H_0$ отвергается. \n",
    "\n",
    "Найдём наибольшее значение уровня значимости, на котором нет оснований отвергнуть гипотезу."
   ],
   "metadata": {
    "collapsed": false
   },
   "id": "27cd44056e3fdfd6"
  },
  {
   "cell_type": "code",
   "execution_count": 180,
   "outputs": [
    {
     "name": "stdout",
     "output_type": "stream",
     "text": [
      "Наибольшее значение уровня значимости, на котором нет оснований отвергнуть гипотезу: 5.551999999999704e-17\n"
     ]
    }
   ],
   "source": [
    "alpha_max = 0\n",
    "while alpha_max < 1:\n",
    "    x_alpha_max = stats.ksone.ppf(1 - alpha_max, len(X))\n",
    "    if Dn > x_alpha_max:\n",
    "        break\n",
    "    alpha_max += 1e-20\n",
    "print(\"Наибольшее значение уровня значимости, на котором нет оснований отвергнуть гипотезу:\", alpha_max)"
   ],
   "metadata": {
    "collapsed": false,
    "ExecuteTime": {
     "end_time": "2023-12-13T04:12:32.742413500Z",
     "start_time": "2023-12-13T04:12:32.422974300Z"
    }
   },
   "id": "9291d8607c55183d"
  },
  {
   "cell_type": "markdown",
   "source": [
    "#### f) Используя гистограмму частот, построить критерий значимости $\\chi^2$ проверки простой гипотезы согласия с нормальным распределением с параметрами $(α_0,\\sigma_0^2)$. Проверить гипотезу на уровне значимости $\\alpha_2$. Вычислить наибольшее значение уровня значимости, на котором еще нет оснований отвергнуть данную гипотезу."
   ],
   "metadata": {
    "collapsed": false
   },
   "id": "85adcd048a12de7c"
  },
  {
   "cell_type": "code",
   "execution_count": 181,
   "outputs": [
    {
     "name": "stdout",
     "output_type": "stream",
     "text": [
      "x2 5.42968458056615\n",
      "Макс уровень значимости 0.06621539499485084\n"
     ]
    }
   ],
   "source": [
    "def calc_criteria(X, a, sigma, cdf):\n",
    "    intervals_count = 5\n",
    "    hist, edges = np.histogram(X, bins=intervals_count)\n",
    "    p = cdf(edges[1:], a, sigma) - cdf(edges[:-1], a, sigma)\n",
    "    x2 = np.array([(hist[i] - len(X) * p[i]) ** 2 / (len(X) * p[i]) for i in range(len(hist))]).sum()\n",
    "    print('x2', x2)\n",
    "    return chi2.sf(x2, intervals_count - 1 - 2)\n",
    "\n",
    "\n",
    "print('Макс уровень значимости', calc_criteria(X, a0, sigma0, scipy.stats.norm.cdf))"
   ],
   "metadata": {
    "collapsed": false,
    "ExecuteTime": {
     "end_time": "2023-12-13T04:12:32.744491700Z",
     "start_time": "2023-12-13T04:12:32.671982200Z"
    }
   },
   "id": "9c02a29e79dec934"
  },
  {
   "cell_type": "markdown",
   "source": [
    "Получили, что максимальное значение уровня значимости превосходит $\\alpha_2$, следовательно, гипотеза согласия с нормальным распределением с параметрами $(α_0,\\sigma_0^2)$ отвергается."
   ],
   "metadata": {
    "collapsed": false
   },
   "id": "672f3ae91dfd8fe2"
  },
  {
   "cell_type": "markdown",
   "source": [
    "#### g) Построить критерий проверки значимости $\\chi^2$ сложной гипотезы согласия с нормальным распределением. Проверить гипотезу на уровне значимости $\\alpha_2$. Вычислить наибольшее значение уровня значимости, на котором еще нет оснований отвергнуть данную гипотезу."
   ],
   "metadata": {
    "collapsed": false
   },
   "id": "56a9e410ccc1445b"
  },
  {
   "cell_type": "code",
   "execution_count": 182,
   "outputs": [
    {
     "name": "stdout",
     "output_type": "stream",
     "text": [
      "x2 1.554330486080588\n",
      "Макс уровень значимости 0.4597073245180563\n"
     ]
    }
   ],
   "source": [
    "X_stats = get_stats(X)\n",
    "print('Макс уровень значимости', calc_criteria(X, X_stats['mean'], X_stats['stddev'], scipy.stats.norm.cdf))"
   ],
   "metadata": {
    "collapsed": false,
    "ExecuteTime": {
     "end_time": "2023-12-13T04:12:32.809288400Z",
     "start_time": "2023-12-13T04:12:32.686909500Z"
    }
   },
   "id": "f36a30064659c671"
  },
  {
   "cell_type": "markdown",
   "source": [
    "Получили, что максимальное значение уровня значимости не превосходит $\\alpha_2$, следовательно, нет оснований отвергнуть гипотезу согласия с нормальным распределением."
   ],
   "metadata": {
    "collapsed": false
   },
   "id": "54df640c80ed6243"
  },
  {
   "cell_type": "markdown",
   "source": [
    "#### h) Построить наиболее мощный критерий проверки простой гипотезы о нормальности с параметром $(a, σ^2) = (a_0, σ^2_0)$ при альтернативе нормальности с параметром $(a, σ^2) = (a_1, σ^2_1)$. Проверить гипотезу на уровне значимости $\\alpha_2$. Что получится, если поменять местами основную и альтернативную гипотезы?"
   ],
   "metadata": {
    "collapsed": false
   },
   "id": "3e0510de638d7011"
  },
  {
   "cell_type": "markdown",
   "source": [
    "$$\n",
    "a_0 = -5, \\sigma_0 = 0.1 \\\\\n",
    "a_1 = -5.11, \\sigma_1 = 0.1, \\; \\alpha_2 = 0.1\n",
    "$$\n",
    "$ H_0 : X \\sim \\mathcal{N}\\left(a_0, \\sigma_0^2\\right)$ - основная гипотеза\n",
    "$ H_A : X \\sim \\mathcal{N}\\left(a_1, \\sigma_1^2\\right)$ - альтернативная гипотеза\n",
    "\n",
    "Согласно лемме Неймана-Пирсона наиболее мощный критерий проверки гипотезы $H_0$ при альтернативе $H_A$ имеет вид\n",
    "\n",
    "$$\n",
    "\\phi(X) = \\begin{cases}\n",
    "  0, LR(X, a_0, \\sigma_0^2, a_1 , \\sigma_1^2) < C \\\\\n",
    "  p, LR(X, a_0, \\sigma_0^2, a_1 , \\sigma_1^2) = C \\\\\n",
    "  1, LR(X, a_0, \\sigma_0^2, a_1 , \\sigma_1^2) > C\n",
    "\\end{cases}\n",
    "\\\\\n",
    "\\\\\n",
    "LR(X, a_0, \\sigma_0^2, a_1 , \\sigma_1^2 ) = \\frac{L\\left( X, a_1 , \\sigma_1^2 \\right)}{L\\left( X,a_0, \\sigma_0^2 \\right)} = \\frac{\\sigma_1^{-n} \\exp\\left(-\\sum_{i=1}^{n}\\frac{(x_i - a_1)^2}{2\\sigma_1^2}\\right)}{\\sigma_0^{-n} exp\\left(-\\sum_{i=1}^{n}\\frac{(x_i - a_0)^2}{2\\sigma_0^2}\\right)} \n",
    "\\\\\n",
    "\\sigma_0^2 = \\sigma_1^2 = \\sigma^2\n",
    "\\\\\n",
    "T = \\sum_{i=0}^{n}x_i  - МДС\n",
    "\\\\\n",
    "exp(\\frac{5}{0.01} \\sum_{i=0}^{n}x_i + \\frac{n}{0.02} \\cdot 0.121)) > C\n",
    "\\\\\n",
    "\\frac{5}{0.01} \\sum_{i=0}^{n}x_i + \\frac{n}{0.02} \\cdot 0.121 > ln(C)\n",
    "\\\\\n",
    "\\sum_{i=0}^{n}x_i >  \\cfrac{ln(C) + \\frac{n}{0.02} \\cdot 0.121}{\\frac{5}{0.01} n}\n",
    "C^* = \\cfrac{ln(C) + \\frac{n}{0.02} \\cdot 0.121}{\\frac{5}{0.01}}\n",
    "$$\n",
    "Критерий: \n",
    "\n",
    "$$\n",
    "\\phi(X) = \\begin{cases}\n",
    "  0, \\sum_{i=0}^{n}x_i < C^* \\\\\n",
    "  p, \\sum_{i=0}^{n}x_i = C^* \\\\\n",
    "  1, \\sum_{i=0}^{n}x_i > C^*\n",
    "\\end{cases} \n",
    "\\\\\n",
    "\\\\\n",
    "\\mathbb{E}_{(a_0, \\sigma^2_0)} \\varphi(X) = P_{a_0, \\sigma_0^2}(\\sum_{i=0}^{n}x_i > C^*) + p P_{a_0, \\sigma_0^2}(\\sum_{i=0}^{n}x_i = C^*) = \\alpha_2\n",
    "$$\n",
    "Найдем $x_\\alpha_2$: $1 - \\Phi_{(na_0, n\\sigma_0^2)}(x_\\alpha_2) < \\alpha_2 $\n",
    "\n",
    "И $ p = \\cfrac{\\alpha_2 - 1 + \\Phi_{na_0, n\\sigma_0^2} (x_\\alpha_2)}{\\Phi_{na_0, n\\sigma_0^2} (x_\\alpha_2) - \\Phi_{na_0, n\\sigma_0^2} (x_\\alpha_2 - 1)} $"
   ],
   "metadata": {
    "collapsed": false
   },
   "id": "22340a975ad93e7e"
  },
  {
   "cell_type": "code",
   "execution_count": 183,
   "outputs": [
    {
     "name": "stdout",
     "output_type": "stream",
     "text": [
      "x_alpha2 -243.5900000002332\n",
      "p 0.0019815387387184026\n",
      "Сумма выборки -251.194\n"
     ]
    }
   ],
   "source": [
    "x_alpha2 = -500\n",
    "while True:\n",
    "  if (1 - stats.norm.cdf(x_alpha2, len(X) * a0, len(X) * sigma0)) < alpha2:\n",
    "    break\n",
    "  x_alpha2 += 0.01\n",
    "\n",
    "print('x_alpha2', x_alpha2)\n",
    "Phi_x_alpha2 = stats.norm.cdf(x_alpha2, a0 * len(X), sigma0 * len(X))\n",
    "Phi_x_alpha21 = stats.norm.cdf(x_alpha2 - 1, a0 * len(X), sigma0 * len(X))\n",
    "\n",
    "p = (alpha2 - 1 + Phi_x_alpha2) / (Phi_x_alpha2 - Phi_x_alpha21)\n",
    "print('p', p)\n",
    "print('Сумма выборки', X.sum())"
   ],
   "metadata": {
    "collapsed": false,
    "ExecuteTime": {
     "end_time": "2023-12-13T04:12:33.924380500Z",
     "start_time": "2023-12-13T04:12:32.700984400Z"
    }
   },
   "id": "e5d2076c0c62f29b"
  },
  {
   "cell_type": "markdown",
   "source": [],
   "metadata": {
    "collapsed": false
   },
   "id": "67e544472ace7599"
  },
  {
   "cell_type": "markdown",
   "source": [
    "Получили наиболее мощный критерий:\n",
    "$$\n",
    "\\phi(X) = \\begin{cases}\n",
    "  0, -251.194 < -243.59 \\\\\n",
    "  0.00198, -251.194 = -243.59 \\\\\n",
    "  1, -251.194 > -243.59\n",
    "\\end{cases} \n",
    "$$\n",
    "Так как $-251.194 < -243.59$, гипотеза $H_0$ принимается."
   ],
   "metadata": {
    "collapsed": false
   },
   "id": "5c0cb4a1053e2663"
  },
  {
   "cell_type": "markdown",
   "source": [
    "Поменяем местами основную и альтернативную гипотезы:\n",
    "\n",
    "$ H_0 : X \\sim \\mathcal{N}\\left(a_1, \\sigma_1^2\\right)$ - основная гипотеза\n",
    "$ H_A : X \\sim \\mathcal{N}\\left(a_0, \\sigma_0^2\\right)$ - альтернативная гипотеза\n",
    "\n",
    "Согласно лемме Неймана-Пирсона наиболее мощный критерий проверки гипотезы $H_0$ при альтернативе $H_A$ имеет вид\n",
    "\n",
    "$$\n",
    "\\phi(X) = \\begin{cases}\n",
    "  0, LR(X, a_0, \\sigma_0^2, a_1 , \\sigma_1^2) < C \\\\\n",
    "  p, LR(X, a_0, \\sigma_0^2, a_1 , \\sigma_1^2) = C \\\\\n",
    "  1, LR(X, a_0, \\sigma_0^2, a_1 , \\sigma_1^2) > C\n",
    "\\end{cases}\n",
    "\\\\\n",
    "\\\\\n",
    "LR(X, a_0, \\sigma_0^2, a_1 , \\sigma_1^2 ) = \\frac{L\\left( X, a_0 , \\sigma_0^2 \\right)}{L\\left( X,a_1, \\sigma_1^2 \\right)} = \\frac{\\sigma_0^{-n} \\exp\\left(-\\sum_{i=1}^{n}\\frac{(x_i - a_0)^2}{2\\sigma_0^2}\\right)}{\\sigma_1^{-n} exp\\left(-\\sum_{i=1}^{n}\\frac{(x_i - a_1)^2}{2\\sigma_1^2}\\right)} \n",
    "\\\\\n",
    "\\sigma_1^2 = \\sigma_0^2 = \\sigma^2\n",
    "\\\\\n",
    "T = \\sum_{i=0}^{n}x_i  - МДС\n",
    "\\\\\n",
    "exp(-\\frac{5}{0.01} \\sum_{i=0}^{n}x_i - \\frac{n}{0.02} \\cdot 0.121)) > C\n",
    "\\\\\n",
    "-\\frac{5}{0.01} \\sum_{i=0}^{n}x_i - \\frac{n}{0.02} \\cdot 0.121 > ln(C)\n",
    "\\\\\n",
    "\\sum_{i=0}^{n}x_i < -\\cfrac{ln(C) + \\frac{n}{0.02} \\cdot 0.121}{\\frac{5}{0.01} n}\n",
    "C^* = -\\cfrac{ln(C) + \\frac{n}{0.02} \\cdot 0.121}{\\frac{5}{0.01}}\n",
    "$$\n",
    "Критерий: \n",
    "\n",
    "$$\n",
    "\\phi(X) = \\begin{cases}\n",
    "  0, \\sum_{i=0}^{n}x_i > C^* \\\\\n",
    "  p, \\sum_{i=0}^{n}x_i = C^* \\\\\n",
    "  1, \\sum_{i=0}^{n}x_i < C^*\n",
    "\\end{cases} \n",
    "\\\\\n",
    "\\\\\n",
    "\\mathbb{E}_{(a_1, \\sigma_1^2)} \\varphi(X) = P_{a_1, \\sigma_1^2}(\\sum_{i=0}^{n}x_i > C^*) + p P_{a_1, \\sigma_1^2}(\\sum_{i=0}^{n}x_i = C^*) = \\alpha_2\n",
    "$$\n",
    "Найдем $x_\\alpha_2$: $1 - \\Phi_{(na_1, n\\sigma_1^2)}(x_\\alpha_2) < \\alpha_2 $\n",
    "\n",
    "И $ p = \\cfrac{\\alpha_2 - 1 + \\Phi_{na_1, n\\sigma_1^2} (x_\\alpha_2)}{\\Phi_{na_1, n\\sigma_1^2} (x_\\alpha_2) - \\Phi_{na_1, n\\sigma_1^2} (x_\\alpha_2 - 1)} $"
   ],
   "metadata": {
    "collapsed": false
   },
   "id": "d37b094f7e7251b3"
  },
  {
   "cell_type": "code",
   "execution_count": 184,
   "outputs": [
    {
     "name": "stdout",
     "output_type": "stream",
     "text": [
      "x_alpha2 -249.0900000002282\n",
      "p 0.0019815387431666837\n",
      "Сумма выборки -251.194\n"
     ]
    }
   ],
   "source": [
    "x_alpha2 = -500\n",
    "while True:\n",
    "  if (1 - stats.norm.cdf(x_alpha2, len(X) * a1, len(X) * sigma1)) < alpha2:\n",
    "    break\n",
    "  x_alpha2 += 0.01\n",
    "\n",
    "print('x_alpha2', x_alpha2)\n",
    "Phi_x_alpha2 = stats.norm.cdf(x_alpha2, a1 * len(X), sigma1 * len(X))\n",
    "Phi_x_alpha21 = stats.norm.cdf(x_alpha2 - 1, a1 * len(X), sigma1 * len(X))\n",
    "\n",
    "p = (alpha2 - 1 + Phi_x_alpha2) / (Phi_x_alpha2 - Phi_x_alpha21)\n",
    "print('p', p)\n",
    "print('Сумма выборки', X.sum())"
   ],
   "metadata": {
    "collapsed": false,
    "ExecuteTime": {
     "end_time": "2023-12-13T04:12:35.108024100Z",
     "start_time": "2023-12-13T04:12:33.928819700Z"
    }
   },
   "id": "fcbf9c4bd790cd97"
  },
  {
   "cell_type": "markdown",
   "source": [
    "Получили наиболее мощный критерий:\n",
    "$$\n",
    "\\phi(X) = \\begin{cases}\n",
    "  0, -251.194 > -249.09 \\\\\n",
    "  0.00198, -251.194 = -249.09 \\\\\n",
    "  1, -251.194 < -249.09\n",
    "\\end{cases} \n",
    "$$\n",
    "$-251.194 < -249.09$, следовательно, гипотеза $H_0$ после замены основной и альтернативной гипотез отвергается"
   ],
   "metadata": {
    "collapsed": false
   },
   "id": "89ab90656430caaf"
  },
  {
   "cell_type": "markdown",
   "source": [
    "#### i.c) В предположении, что исходные наблюдения являются выборкой из распределения Лапласа, построить оценку максимального правдоподобия параметров $(a, \\sigma^2)$ и соответствующие оценки по методу моментов. Найти смещение оценок."
   ],
   "metadata": {
    "collapsed": false
   },
   "id": "8268ec6e59ac4d40"
  },
  {
   "cell_type": "markdown",
   "source": [
    "Плотность распределения Лапласа:\n",
    "$$\n",
    "p_{a,\\sigma}(x)=\\frac{1}{\\sigma \\sqrt{2}} \\exp\\left( -\\frac{\\sqrt{2}}{\\sigma} |x - a| \\right)\n",
    "$$\n",
    "Найдем ОМП:\n",
    "$$\n",
    "\\\\\n",
    "L(X, \\theta) = \\frac{1}{\\left(2\\sigma^2\\right)^\\frac{n}{2}} \\exp\\left( -\\frac{\\sqrt{2}}{\\sigma} \\sum_{i=1}^{n}|x_i - a| \\right)\n",
    "\\\\\n",
    "LL(X, \\theta)= -\\frac{n}{2}\\ln(2) - n\\ln(\\sigma) - \\frac{\\sqrt{2}}{\\sigma} \\sum_{i=1}^{n}|x_i - a|\n",
    "\\\\\n",
    "\\frac{\\partial LL(X, \\hat{a}, \\sigma)}{\\partial \\sigma} = -\\frac{n}{\\sigma} + \\frac{\\sqrt{2}}{\\sigma ^ 2} \\sum_{i=1}^{n}|x_i - \\hat{a}| = 0 \n",
    "\\\\\n",
    "\\hat{\\sigma} = \\frac{\\sqrt{2}}{n} \\sum_{i=1}^{n}|x_{i} - \\hat{a}|\n",
    "\\\\\n",
    "\\frac{\\partial LL(X, a, \\hat{\\sigma})}{\\partial a} = -\\frac{\\sqrt{2}}{\\sigma} \\sum_{i=1}^{n} \\mathop{\\mathrm{sgn}}(x_{i} - a) = 0 \n",
    "\\\\ \n",
    "\\sum_{i=1}^{n} \\mathop{\\mathrm{sgn}}(x_{i} - a) = 0 \n",
    "\\\\\n",
    "\\hat{a} = z_{n, \\frac{1}{2}}\n",
    "$$"
   ],
   "metadata": {
    "collapsed": false
   },
   "id": "ba8b559708dd18ce"
  },
  {
   "cell_type": "code",
   "execution_count": 185,
   "outputs": [
    {
     "name": "stdout",
     "output_type": "stream",
     "text": [
      "-5.0184999999999995 0.11613521774207856\n"
     ]
    }
   ],
   "source": [
    "a_omp = np.median(X)\n",
    "sigma_omp = np.sqrt(2)/len(X) * np.sum([np.abs(xi - a_omp) for xi in X])\n",
    "print(a_omp, sigma_omp)"
   ],
   "metadata": {
    "collapsed": false,
    "ExecuteTime": {
     "end_time": "2023-12-13T04:12:35.154459400Z",
     "start_time": "2023-12-13T04:12:35.105946Z"
    }
   },
   "id": "e8d73c6999223071"
  },
  {
   "cell_type": "markdown",
   "source": [
    "Найдем ОММ:\n",
    "Первый момент:\n",
    "$$\n",
    "\\mathbb{E}X_1 = \\frac{1}{\\sigma \\sqrt{2}} \\int_{\\mathbb{R}} x \\exp\\left(-\\frac{\\sqrt{2}}{\\sigma} |x-a|\\right) dx = [t = x - a] = \\\\\n",
    "= \\frac{1}{\\sigma \\sqrt{2}} \\int_{\\mathbb{R}} (t + a) \\exp\\left(-\\frac{\\sqrt{2}}{\\sigma} |t|\\right) dx = \\\\\n",
    "= \\frac{a}{\\sigma} \\sqrt{2} \\int_{0}^{\\infty} \\exp\\left(-\\frac{\\sqrt{2}}{\\sigma} t\\right) dx = a\n",
    "\\\\\n",
    "M1 = \\bar{x}\n",
    "$$\n",
    "Второй момент:\n",
    "$$\n",
    "\\mathbb{E}X_1^2 = \\frac{1}{\\sigma \\sqrt{2}} \\int_{\\mathbb{R}} x^2 \\exp\\left(-\\frac{\\sqrt{2}}{\\sigma} |x-a|\\right) dx = [t = x - a] = \\\\\n",
    "= \\frac{1}{\\sigma \\sqrt{2}} \\int_{\\mathbb{R}} (t + a)^2 \\exp\\left(-\\frac{\\sqrt{2}}{\\sigma} |t|\\right) dx = \\\\\n",
    "= \\frac{1}{\\sigma \\sqrt{2}} \\int_{\\mathbb{R}} t^2 \\exp\\left(-\\frac{\\sqrt{2}}{\\sigma} |t|\\right) dx + \\frac{1}{\\sigma \\sqrt{2}} \\int_{\\mathbb{R}} a^2 \\exp\\left(-\\frac{\\sqrt{2}}{\\sigma} |t|\\right) dx  = \\\\\n",
    "= \\frac{ \\sqrt{2}}{\\sigma} \\int_{0}^{\\infty} t^2 \\exp\\left(-\\frac{\\sqrt{2}}{\\sigma} t\\right) dx + \\frac{\\sqrt{2}}{\\sigma } \\int_{0}^{\\infty} a^2 \\exp\\left(-\\frac{\\sqrt{2}}{\\sigma} t\\right) dx = \\sigma^2 + a^2\n",
    "\\\\\n",
    "M1 = \\bar{x^2}\n",
    "$$\n",
    "Тогда:\n",
    "$$\n",
    "\\begin{cases}\n",
    "  a = \\bar{x} \\\\\n",
    "  \\sigma^2 + a^2 = \\bar{x^2}\n",
    "\\end{cases}\n",
    "\\\\\n",
    "\\begin{cases}\n",
    "  \\hat{a} = \\bar{x} \\\\\n",
    "  \\hat{\\sigma^2} = s^2\n",
    "\\end{cases}\n",
    "$$\n",
    "Найдем смещение оценок:\n",
    "$$\n",
    "E_\\theta \\bar{x} = \\cfrac{1}{n} E \\sum_{i=1}^{n} X_i = a\n",
    "$$"
   ],
   "metadata": {
    "collapsed": false
   },
   "id": "997b1932b1e3ebc9"
  },
  {
   "cell_type": "markdown",
   "source": [
    "#### i.d) Построить доверительные интервалы уровня значимости $\\alpha_2$ для параметров $(a, \\sigma^2)$"
   ],
   "metadata": {
    "collapsed": false
   },
   "id": "22b5600ad15604d8"
  },
  {
   "cell_type": "markdown",
   "source": [
    "Построим для первого параметра:\n",
    "$$\n",
    "\\sqrt{n-1}\\frac{\\bar{x}-a}{s} \\sim \\mathcal{S}_{n-1}\n",
    "$$\n",
    "Выберем $x_{\\alpha_2}$:\n",
    "$$\n",
    "\\mathcal{S}_{n-1}\\left(x{\\alpha_2}\\right) = 1 - \\frac{\\alpha_2}{2} = 1 - \\frac{0.1}{2} = 0.95 \n",
    "\\\\\n",
    "\\mathbb{P}\\left( -x_{\\alpha_2} \\le \\sqrt{n-1}\\frac{\\bar{x} - a}{s} \\le x_{\\alpha_2} \\right) = 1 - \\alpha_2\n",
    "\\\\\n",
    "\\mathbb{P}\\left( \\bar{x} - \\frac{x_{\\alpha_2}s}{\\sqrt{n-1}} \\le a \\le \\bar{x} + \\frac{x_{\\alpha_2}s}{\\sqrt{n-1}} \\right) = 1 - \\alpha_2\n",
    "$$"
   ],
   "metadata": {
    "collapsed": false
   },
   "id": "7400fd0d59b95924"
  },
  {
   "cell_type": "code",
   "execution_count": 186,
   "outputs": [
    {
     "name": "stdout",
     "output_type": "stream",
     "text": [
      "[-5.047685463166365, -5.000074536833635]\n"
     ]
    }
   ],
   "source": [
    "x_alpha = stats.t.ppf(1 - alpha2 / 2, len(X) - 1)\n",
    "c = x_alpha * X_stats['stddev'] / (len(X) - 1) ** 0.5\n",
    "X_stats = get_stats(X)\n",
    "print([X_stats['mean'] - c, X_stats['mean'] + c])"
   ],
   "metadata": {
    "collapsed": false,
    "ExecuteTime": {
     "end_time": "2023-12-13T04:12:35.157634800Z",
     "start_time": "2023-12-13T04:12:35.122842500Z"
    }
   },
   "id": "4f9ab52f931edf53"
  },
  {
   "cell_type": "markdown",
   "source": [
    "Построим для второго параметра:\n",
    "$$\n",
    "\\frac{ns^2}{\\sigma^2} \\sim \\chi_{n-1}^2\n",
    "$$\n",
    "Выберем $x_{1\\alpha_2}$, $x_{2\\alpha_2}$:\n",
    "$$\n",
    "K_{n-1}\\left( x_{1\\alpha_{2}} \\right) = \\frac{\\alpha_{2}}{2}\n",
    "\\\\\n",
    "K_{n-1}\\left( x_{2\\alpha_{2}} \\right) = 1 - \\frac{\\alpha_{2}}{2}\n",
    "\\\\\n",
    "\\mathbb{P}\\left( \\frac{ns^2}{x_{1\\alpha_{2}}} \\le \\sigma^2 \\le \\frac{ns^2}{x_{2\\alpha_{2}}} \\right) = 1 - \\alpha_{2}\n",
    "$$"
   ],
   "metadata": {
    "collapsed": false
   },
   "id": "b02c767aa9b4bdad"
  },
  {
   "cell_type": "code",
   "execution_count": 187,
   "outputs": [
    {
     "name": "stdout",
     "output_type": "stream",
     "text": [
      "[0.08479924545114599, 0.294624685944374]\n"
     ]
    }
   ],
   "source": [
    "x_1alpha = stats.chi.ppf(alpha2 / 2, len(X) - 1)\n",
    "x_2alpha = stats.t.ppf(1 - alpha2 / 2, len(X) - 1)\n",
    "X_stats = get_stats(X)\n",
    "print([len(X) * X_stats['var'] / x_1alpha, len(X) * X_stats['var'] / x_2alpha])"
   ],
   "metadata": {
    "collapsed": false,
    "ExecuteTime": {
     "end_time": "2023-12-13T04:12:35.242065500Z",
     "start_time": "2023-12-13T04:12:35.137544600Z"
    }
   },
   "id": "26383d9f497d4277"
  },
  {
   "cell_type": "markdown",
   "source": [
    "#### i.e) С использованием теоремы Колмогорова построить критерий значимости простой гипотезы согласия с распределением Лапласа с параметрами $(a_0, \\sigma_0^2 )$ Проверить гипотезу на уровне значимости $\\alpha_2$. Вычислить наибольшее значение уровня значимости, на котором еще нет оснований отвергнуть данную гипотезу."
   ],
   "metadata": {
    "collapsed": false
   },
   "id": "e33a96ab5bc2e2ad"
  },
  {
   "cell_type": "markdown",
   "source": [
    "Основная гипотеза: $H_0: (a_0, \\sigma_0^2)$\n",
    "\n",
    "По т. Колмогорова при справедливости $H_0$\n",
    "\n",
    "$$ \n",
    "\\sqrt{n} \\max|F_n(y) - F(y)| \\sim \\mathcal{K}\n",
    "\\\\\n",
    "D_n = \\sqrt{n} \\max|F_n(y) - F(y)|\n",
    "\\\\\n",
    "\\mathbb{P}(D_n < x_{\\alpha_2}) = 1 - \\alpha_2 = 0.9\n",
    "$$"
   ],
   "metadata": {
    "collapsed": false
   },
   "id": "b3640975e5a2455c"
  },
  {
   "cell_type": "code",
   "execution_count": 188,
   "outputs": [
    {
     "name": "stdout",
     "output_type": "stream",
     "text": [
      "x_alpha2 0.14839812573875721\n",
      "Dn 0.7028363576330103\n"
     ]
    }
   ],
   "source": [
    "x_alpha2 = stats.ksone.ppf(1 - alpha2, len(X))\n",
    "print(\"x_alpha2\", x_alpha2)\n",
    "\n",
    "Dn = calc_Dn(X, stats.laplace.cdf, a0, sigma0)\n",
    "print(\"Dn\", Dn)"
   ],
   "metadata": {
    "collapsed": false,
    "ExecuteTime": {
     "end_time": "2023-12-13T04:12:35.257820400Z",
     "start_time": "2023-12-13T04:12:35.154459400Z"
    }
   },
   "id": "8adcad8efb27c7d1"
  },
  {
   "cell_type": "markdown",
   "source": [
    "\n",
    "$D_n > x_\\alpha$, значит гипотеза $H_0$ отвергается. \n",
    "\n",
    "Найдём наибольшее значение уровня значимости, на котором нет оснований отвергнуть гипотезу."
   ],
   "metadata": {
    "collapsed": false
   },
   "id": "2bf57e4582d742ba"
  },
  {
   "cell_type": "code",
   "execution_count": 189,
   "outputs": [
    {
     "name": "stdout",
     "output_type": "stream",
     "text": [
      "Наибольшее значение уровня значимости, на котором нет оснований отвергнуть гипотезу: 5.551999999999704e-17\n"
     ]
    }
   ],
   "source": [
    "alpha_max = 0\n",
    "while alpha_max < 1:\n",
    "    x_alpha_max = stats.ksone.ppf(1 - alpha_max, len(X))\n",
    "    if Dn > x_alpha_max:\n",
    "        break\n",
    "    alpha_max += 1e-20\n",
    "print(\"Наибольшее значение уровня значимости, на котором нет оснований отвергнуть гипотезу:\", alpha_max)"
   ],
   "metadata": {
    "collapsed": false,
    "ExecuteTime": {
     "end_time": "2023-12-13T04:12:35.408056300Z",
     "start_time": "2023-12-13T04:12:35.201388500Z"
    }
   },
   "id": "607e1b1cb6cd0502"
  },
  {
   "cell_type": "markdown",
   "source": [
    "#### i.f) Используя гистограмму частот, построить критерий значимости $\\chi^2$ проверки простой гипотезы согласия с распределением Лапласа с параметрами $(a_0,\\sigma_0^2)$. Проверить гипотезу на уровне значимости $\\alpha_2$. Вычислить наибольшее значение уровня значимости, на котором еще нет оснований отвергнуть данную гипотезу."
   ],
   "metadata": {
    "collapsed": false
   },
   "id": "da23ae5f132381f5"
  },
  {
   "cell_type": "code",
   "execution_count": 190,
   "outputs": [
    {
     "name": "stdout",
     "output_type": "stream",
     "text": [
      "x2 6.10194140749406\n",
      "Макс уровень значимости 0.047312975210907895\n"
     ]
    }
   ],
   "source": [
    "print('Макс уровень значимости', calc_criteria(X, a0, sigma0, scipy.stats.laplace.cdf))"
   ],
   "metadata": {
    "collapsed": false,
    "ExecuteTime": {
     "end_time": "2023-12-13T04:12:35.451819700Z",
     "start_time": "2023-12-13T04:12:35.406960700Z"
    }
   },
   "id": "69a19732e7eb2e30"
  },
  {
   "cell_type": "markdown",
   "source": [
    "Получили, что максимальное значение уровня значимости превосходит $\\alpha_2$, следовательно, гипотеза согласия с распределением Лапласа с параметрами $(α_0,\\sigma_0^2)$ отвергается."
   ],
   "metadata": {
    "collapsed": false
   },
   "id": "98c6239a4eb97922"
  },
  {
   "cell_type": "markdown",
   "source": [
    "#### i.g) Построить критерий проверки значимости $\\chi^2$ сложной гипотезы согласия с распределением Лапласа. Проверить гипотезу на уровне значимости $\\alpha_2$. Вычислить наибольшее значение ровня значимости, на котором еще нет оснований отвергнуть данную гипотезу."
   ],
   "metadata": {
    "collapsed": false
   },
   "id": "e072ff54651e4c38"
  },
  {
   "cell_type": "code",
   "execution_count": 191,
   "outputs": [
    {
     "name": "stdout",
     "output_type": "stream",
     "text": [
      "x2 4.030838735277071\n",
      "Макс уровень значимости 0.13326450482505997\n"
     ]
    }
   ],
   "source": [
    "print('Макс уровень значимости', calc_criteria(X, np.mean(X), np.std(X), scipy.stats.laplace.cdf))"
   ],
   "metadata": {
    "collapsed": false,
    "ExecuteTime": {
     "end_time": "2023-12-13T04:12:35.456034200Z",
     "start_time": "2023-12-13T04:12:35.423893400Z"
    }
   },
   "id": "8ff7496f4df646f4"
  },
  {
   "cell_type": "markdown",
   "source": [
    "Получили, что максимальное значение уровня значимости не превосходит $\\alpha_2$, следовательно, нет оснований отвергнуть гипотезу согласия с нормальным распределением."
   ],
   "metadata": {
    "collapsed": false
   },
   "id": "11cd050cc9388be"
  },
  {
   "cell_type": "markdown",
   "source": [
    "## Выводы\n",
    "\n",
    "В ходе лабораторной работы были получены навыки практического применения методов математической статистики для визуализации и анализа полученных данных; сформированы навыки реализации методов с помощью прикладных программных пакетов. Приобретены навыки анализа статистических данных при помощи языка программирования Python и его. В ходе работы были построены оценки, доверительные интервалы и проверены различные гипотезы."
   ],
   "metadata": {
    "collapsed": false
   },
   "id": "a49eabdd5e073e24"
  }
 ],
 "metadata": {
  "kernelspec": {
   "display_name": "python",
   "language": "python",
   "name": "python3"
  },
  "language_info": {
   "codemirror_mode": {
    "name": "ipython",
    "version": 2
   },
   "file_extension": ".py",
   "mimetype": "text/x-python",
   "name": "python",
   "nbconvert_exporter": "python",
   "pygments_lexer": "ipython2",
   "version": "2.7.6"
  }
 },
 "nbformat": 4,
 "nbformat_minor": 5
}
