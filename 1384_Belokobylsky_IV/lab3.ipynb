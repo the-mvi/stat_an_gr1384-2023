{
 "cells": [
  {
   "cell_type": "markdown",
   "source": [
    "# Лабораторная работа №3: \"Регрессионный анализ\"\n",
    "Выполнил студент гр. 1384 Белокобыльский Илья. Вариант №2"
   ],
   "metadata": {
    "collapsed": false
   },
   "id": "a4675f269a5b6501"
  },
  {
   "cell_type": "markdown",
   "source": [
    "## Цель работы\n",
    "Ознакомление с основными положениями метода наименьших квадратов (МНК), со статистическими свойствами МНК-оценок, с понятием функции регрессии и роли МНК в регрессионном анализе"
   ],
   "metadata": {
    "collapsed": false
   },
   "id": "56d543e9d10c5403"
  },
  {
   "cell_type": "markdown",
   "source": [
    "## Основные теоретические положения\n",
    "\n",
    "**Линейная регрессия** некоторой зависимой переменной $y$ на наборе независимых переменных $x = (x_1, …, x_n)$ предполагает, что линейное отношение между $y$ и $x$: $y = \\beta_0  + \\beta_1 x_1 + ⋯ + \\beta_n x_n + \\epsilon$ - уравнение регрессии. $\\beta_0, \\beta_1, …, \\beta_n$ – параметры регрессии, а $\\epsilon$ – ошибка.\n",
    "\n",
    "**Несмещённая оценка дисперсии** $s^2$\n",
    "$$\n",
    "s^2 = \\frac{SS_{e}}{n-r} = \\frac{\\mathop{\\mathrm{RSS}}(\\hat{\\beta})}{n-r}\n",
    "\\\\\n",
    "SS_{e}=RSS(\\hat{\\beta})\n",
    "\\\\\n",
    "r = \\mathop{\\mathrm{rank}}(X)\n",
    "$$\n",
    "\n",
    "**Метод Наименьших Квадратов**\n",
    "$$\n",
    "\\mathop{\\mathrm{RSS}}(\\beta)=\\left\\| Y-X^{\\intercal}\\beta \\right\\|=(Y-X^{\\intercal}\\beta)^{\\intercal}\\cdot(Y-X^{\\intercal}\\beta)\\to \\min\\beta\n",
    "$$\n",
    "*Нормальные уравнения*: $XX^{\\intercal}\\beta=XY$\n",
    "Решение системы нормальных уравнений в регулярном случае: $\\hat{\\beta}=(XX^{\\intercal})^{-1}XY$\n",
    "$$\n",
    "\\mathop{\\mathrm{RSS}}(\\beta)=\\sum_{i=1}^{n}\\left( Y_{i}-\\sum_{j=1}^{m}x_{ji}\\beta_{j} \\right)^{2}\n",
    "\\\\\n",
    "\\frac{\\partial \\mathop{\\mathrm{RSS}}}{\\partial \\beta_{k}} = -2\\sum_{i=1}^{n}x_{ki}\\left(Y_{i}- \\sum_{j=1}^{m}x_{ji}\\beta_{j}\\right)=0, k=1...m\n",
    "$$\n",
    "\n",
    "**Доверительный интервал**\n",
    "ДНО-функция: $\\psi=C^{\\intercal}\\beta$\n",
    "МНК-оценка: $\\hat{\\psi}=C^{\\intercal}\\beta$\n",
    "Элемент дисперсии оценки: $b_{\\psi}=C^{\\intercal}(XX^{\\intercal})^{-1}C$\\\n",
    "Распределение $\\hat{\\psi} \\sim \\mathcal{N}(\\psi,\\sigma^{2}b)$\\\n",
    "$$ \n",
    "\\frac{\\hat{\\psi}-\\psi}{S\\sqrt{b}} \\sim \\mathcal{S}_{n-r}\n",
    "$$\n",
    "Доверительный интервал уровня доверия $1-\\alpha: \\left[ \\hat{\\psi} - x_{\\alpha}S\\sqrt{b},\\hat{\\psi} + x_{\\alpha}S\\sqrt{b} \\right]$, где $x_{\\alpha}: \\mathcal{S}_{n-r}(x_{\\alpha})=1-\\frac{\\alpha}{2}$\n",
    "\n",
    "**Уравнение доверительного эллипсоида**\n",
    "$$\n",
    "A_{\\alpha}=\\left\\{ \\vec{x}:(\\vec{x}-\\hat{\\psi})^{\\intercal}B^{-1}(\\vec{x}-\\hat{\\psi}) \\le qs^{2}x_{\\alpha} \\right\\}\n",
    "$$\n",
    "$\\hat{\\psi}$ - вектор оценок параметров, $B$ - матрица оценок ковариации, $s^{2}$ - оценка дисперсии, $q$ - пороговая точка, связанная с распределением $\\chi^2_{n-r}$, $x_{\\alpha}$ - значение функции распределения $\\chi^2_{n-r}$ и уровнем доверия $1-\\alpha$\n"
   ],
   "metadata": {
    "collapsed": false
   },
   "id": "b8003cd8b1cbb97"
  },
  {
   "cell_type": "markdown",
   "source": [
    "## Постановка задачи\n",
    "\n",
    "Для полученных в результате эксперимента наборов данных необходимо оценить характер (случайной) зависимости переменной Y от переменной X."
   ],
   "metadata": {
    "collapsed": false
   },
   "id": "7c26a37befa93ac8"
  },
  {
   "cell_type": "markdown",
   "source": [
    "## Выполнение работы"
   ],
   "metadata": {
    "collapsed": false
   },
   "id": "33a0d2c59925ac4d"
  },
  {
   "cell_type": "code",
   "execution_count": 114,
   "outputs": [],
   "source": [
    "import numpy as np\n",
    "import matplotlib.pyplot as plt\n",
    "\n",
    "X = np.array(\n",
    "    [1, 4, 5, 5, 0, 0, 5, 6, 5, 6, 7, 2, 2, 3, 3, 4, 0, 1, 3, 5, 0, 4, 6, 5, 0, 2, 1, 3, 6, 3, 4, 1, 7, 7, 1, 2, 0, 0,\n",
    "     6, 7, 6, 1, 1, 6, 1, 1, 7, 6, 1, 6])\n",
    "Y = np.array(\n",
    "    [9.81, 4.73, 5.83, 6.85, 15.03, 18.45, 20.10, 12.84, 9.69, 8.83, 18.03, 10.45, 2.50, 3.53, 1.72, 8.92, 12.54, 5.30,\n",
    "     17.56, 9.55, 7.71, 8.06, 4.98, 17.39, 7.20, 17.97, 0.25, 8.84, 7.63, 3.48, 10.97, 13.63, 13.94, 0.50, 4.18, 6.12,\n",
    "     3.48, 13.90, 15.75, 2.05, 10.76, 13.05, 10.05, 2.56, 12.21, 0.38, 7.31, 6.66, 7.97, 4.04])\n",
    "h = 2.5\n",
    "alpha = 0.01"
   ],
   "metadata": {
    "collapsed": false,
    "ExecuteTime": {
     "end_time": "2023-12-16T19:12:54.027076700Z",
     "start_time": "2023-12-16T19:12:53.906865600Z"
    }
   },
   "id": "3e0c3bccd48948d"
  },
  {
   "cell_type": "markdown",
   "source": [
    "### Задание 1\n",
    "\n",
    "Построить графически результаты эксперимента. Сформулировать линейную регрессионную модель переменной Y от переменной X. Построить МНК оценки параметра сдвига $\\beta_0$ и $\\beta_1$. Построить полученную линию регрессии. Оценить визуально соответствие полученных данных и построенной оценки."
   ],
   "metadata": {
    "collapsed": false
   },
   "id": "5ecdc8bc083c4249"
  },
  {
   "cell_type": "code",
   "execution_count": 115,
   "outputs": [
    {
     "data": {
      "text/plain": "<Figure size 640x480 with 1 Axes>",
      "image/png": "[encoded data removed]"
     },
     "metadata": {},
     "output_type": "display_data"
    }
   ],
   "source": [
    "plt.scatter(X, Y)\n",
    "plt.xlabel('X')\n",
    "plt.ylabel('Y')\n",
    "plt.title('Результаты эксперимента')\n",
    "plt.show()"
   ],
   "metadata": {
    "collapsed": false,
    "ExecuteTime": {
     "end_time": "2023-12-16T19:12:54.228564200Z",
     "start_time": "2023-12-16T19:12:54.029271800Z"
    }
   },
   "id": "f3bf0fd4f8167bba"
  },
  {
   "cell_type": "markdown",
   "source": [
    "Линейная регрессионная модель: \n",
    "$$\n",
    "Y = \\beta_0 + \\beta_1X + \\epsilon, где\\ \\epsilon - ошибка,\\ \\beta_0 - сдвиг,\\ \\beta_1 - масштаб\n",
    "$$\n",
    "\n",
    "$\\hat{\\beta_0}$ и $\\hat{\\beta_1}$ (оценки соответствующих параметров) вычисляются с помощью нормальных уравнений: \n",
    "$$\n",
    "XX^{\\intercal} \\beta = XY\n",
    "\\\\\n",
    "\\hat{\\beta} = (XX^{\\intercal})^{-1}XY\n",
    "$$\n"
   ],
   "metadata": {
    "collapsed": false
   },
   "id": "210fa35be7ac50ce"
  },
  {
   "cell_type": "code",
   "execution_count": 116,
   "outputs": [
    {
     "name": "stdout",
     "output_type": "stream",
     "text": [
      "Beta [ 9.19528046 -0.08621442]\n"
     ]
    }
   ],
   "source": [
    "matrixX = np.array([[1.0] * len(X), X])\n",
    "XXT = np.dot(matrixX, matrixX.T)\n",
    "XXT_inv = np.linalg.inv(XXT)\n",
    "beta = np.dot(np.dot(XXT_inv, matrixX), Y)\n",
    "print(\"Beta\", beta)"
   ],
   "metadata": {
    "collapsed": false,
    "ExecuteTime": {
     "end_time": "2023-12-16T19:12:54.229652900Z",
     "start_time": "2023-12-16T19:12:54.195644400Z"
    }
   },
   "id": "1ab2a0919bb76110"
  },
  {
   "cell_type": "code",
   "execution_count": 117,
   "outputs": [
    {
     "data": {
      "text/plain": "<Figure size 640x480 with 1 Axes>",
      "image/png": "[encoded data removed]"
     },
     "metadata": {},
     "output_type": "display_data"
    }
   ],
   "source": [
    "plt.plot(X, Y, 'o', label='Квадратичная регрессионная модель')\n",
    "\n",
    "predY = np.dot(matrixX.T, beta)\n",
    "plt.plot(X, predY, color='yellow',)\n",
    "plt.xlabel('X')\n",
    "plt.ylabel('Y')\n",
    "plt.show()"
   ],
   "metadata": {
    "collapsed": false,
    "ExecuteTime": {
     "end_time": "2023-12-16T19:12:54.345468900Z",
     "start_time": "2023-12-16T19:12:54.214125Z"
    }
   },
   "id": "2d2da70957fa4da7"
  },
  {
   "cell_type": "markdown",
   "source": [
    "Визуально оценка проходит через диапазон результатов эксперимента, таким образом, соответствует полученным данным."
   ],
   "metadata": {
    "collapsed": false
   },
   "id": "5c40886e161f0d95"
  },
  {
   "cell_type": "markdown",
   "source": [
    "## Задание 2\n",
    "Построить и интерпретировать несмещенную оценку дисперсии. На базе оибок построить гистограмму с шагом h. Проверить гипотезу нормальности ошибок на уровне значимости по $\\alpha$ и $\\chi^2$. Оценить расстояние полученной оценки до класса нормальных распределений по Колмогорову. Визуально оценить данный факт."
   ],
   "metadata": {
    "collapsed": false
   },
   "id": "a20b51f14c530ded"
  },
  {
   "cell_type": "markdown",
   "source": [
    "Оценка параметра $\\sigma^2$:\n",
    "$$\n",
    "s^2 = \\frac{\\mathop{\\mathrm{RSS}}\\left(\\hat{\\beta}\\right)}{n-r} = \\frac{1}{n-r} \\sum_{i=1}^{n}\\left(Y_i - \\hat{\\beta_0} - \\hat{\\beta_1}X_i\\right)^2, где\\  r = \\mathop{\\mathrm{rank}}(X) = 2\n",
    "$$"
   ],
   "metadata": {
    "collapsed": false
   },
   "id": "18863a2a67f7374f"
  },
  {
   "cell_type": "code",
   "execution_count": 118,
   "outputs": [
    {
     "name": "stdout",
     "output_type": "stream",
     "text": [
      "Оценка дисперсии 28.49922189601179\n"
     ]
    }
   ],
   "source": [
    "RSS = np.sum((Y - beta[0] - beta[1] * X) ** 2)\n",
    "varEst = RSS / (len(X) - len(matrixX))\n",
    "\n",
    "print('Оценка дисперсии', varEst)"
   ],
   "metadata": {
    "collapsed": false,
    "ExecuteTime": {
     "end_time": "2023-12-16T19:12:54.349634800Z",
     "start_time": "2023-12-16T19:12:54.325691900Z"
    }
   },
   "id": "dba2552a9b9bdaa2"
  },
  {
   "cell_type": "code",
   "execution_count": 119,
   "outputs": [
    {
     "data": {
      "text/plain": "<Figure size 640x480 with 1 Axes>",
      "image/png": "[encoded data removed]"
     },
     "metadata": {},
     "output_type": "display_data"
    }
   ],
   "source": [
    "err = Y - predY\n",
    "hist, bins, _ = plt.hist(err, bins=np.arange(min(err), max(err) + h, h), edgecolor='black', color='yellow')\n",
    "plt.title('Гистограмма ошибок')\n",
    "plt.xlabel('Значение')\n",
    "plt.ylabel('Частота')\n",
    "\n",
    "plt.show()"
   ],
   "metadata": {
    "collapsed": false,
    "ExecuteTime": {
     "end_time": "2023-12-16T19:12:54.445688400Z",
     "start_time": "2023-12-16T19:12:54.340995300Z"
    }
   },
   "id": "91bb14b949164a3f"
  },
  {
   "cell_type": "code",
   "execution_count": 120,
   "outputs": [
    {
     "name": "stdout",
     "output_type": "stream",
     "text": [
      "Интервал: ( -8.8591 -6.3591 ), Количество чисел: 6.0\n",
      "Интервал: ( -6.3591 -3.8591 ), Количество чисел: 7.0\n",
      "Интервал: ( -3.8591 -1.3591 ), Количество чисел: 8.0\n",
      "Интервал: ( -1.3591 1.1409 ), Количество чисел: 11.0\n",
      "Интервал: ( 1.1409 3.6409 ), Количество чисел: 5.0\n",
      "Интервал: ( 3.6409 6.1409 ), Количество чисел: 6.0\n",
      "Интервал: ( 6.1409 8.6409 ), Количество чисел: 3.0\n",
      "Интервал: ( 8.6409 11.1409 ), Количество чисел: 3.0\n",
      "Интервал: ( 11.1409 13.6409 ), Количество чисел: 1.0\n"
     ]
    }
   ],
   "source": [
    "for i in range(len(hist)):\n",
    "    print('Интервал: (', round(bins[i], 4), round(bins[i + 1], 4), '), Количество чисел:', hist[i])"
   ],
   "metadata": {
    "collapsed": false,
    "ExecuteTime": {
     "end_time": "2023-12-16T19:12:54.539691Z",
     "start_time": "2023-12-16T19:12:54.438124700Z"
    }
   },
   "id": "5d803d685659ed85"
  },
  {
   "cell_type": "markdown",
   "source": [
    "Проверим гипотезу нормальности ошибок на уровне значимости $\\alpha$.\n",
    "\n",
    "Основная гипотеза: $H_0 \\sim \\mathcal{N}(0, \\sigma^2)$\n",
    "\n",
    "Объединим интервалы, чтобы в каждом было не менее 5 элементов:\n",
    "$$\n",
    "I_1 = (-\\infty, -6.36], \\ n_1 = 6\n",
    "\\\\\n",
    "I_2 = (-6.36, -3.86], \\ n_2 = 7\n",
    "\\\\\n",
    "I_3 = (-3.86, -1.36], \\ n_3 = 8\n",
    "\\\\\n",
    "I_{4} = (-1.36, 1.14], \\ n_{4} = 11\n",
    "\\\\\n",
    "I_{5} = (1.14, 3.64], \\ n_{5} = 5\n",
    "\\\\\n",
    "I_{6} = (3.64, 6.14], \\ n_{6} = 6\n",
    "\\\\\n",
    "I_{7} = (6.14, +\\infty), \\ n_{7} = 7\n",
    "$$\n",
    "\n",
    "Статистика критерия: \n",
    "$$\n",
    "\\chi^2 = \\sum_{j=1}^{k}\\frac{(\\nu_j - np_{jo})^2}{np_{j0}}\n",
    "$$\n",
    "k - количество интервалов, $\\nu_i$ - абсолютная частота, $p_{j0} = \\mathbb{P}(\\xi \\in I_i) = \\left[ \\text{Пусть a и b - границы интервала} \\right] = F(b_i) - F(a_i)$ - вероятность попадания в интервал\n",
    "\n",
    "$x_{\\alpha}:$ $\\mathcal{K}_{r-d-1}(x_a) = 1 - \\alpha_1 = 1 - 0.01 = 0.99$"
   ],
   "metadata": {
    "collapsed": false
   },
   "id": "54a480b4601f6ee0"
  },
  {
   "cell_type": "code",
   "execution_count": 121,
   "outputs": [
    {
     "name": "stdout",
     "output_type": "stream",
     "text": [
      "Значение параметра 5.509360193293716\n",
      "X^2 1.9382277494921694\n",
      "x_alpha 15.08627246938899\n",
      "Принимается H0\n",
      "Гипотеза может быть принята, если уровень значимости <= 0.8576247042515572\n"
     ]
    }
   ],
   "source": [
    "from scipy import stats\n",
    "import scipy\n",
    "\n",
    "cutBins = np.array([-6.36, -3.86, -1.36, 1.14, 3.64, 6.14])\n",
    "cutFreq = np.array([6, 7, 8, 11, 5, 6, 7])\n",
    "\n",
    "def chi2_sum(s, bins, freq):\n",
    "    res = np.zeros(len(bins) + 1)\n",
    "    for i in range(len(bins) + 1):\n",
    "        if i < len(bins):\n",
    "            res[i] = stats.norm.cdf(bins[i], 0, s)\n",
    "        else:\n",
    "            res[i] = 1\n",
    "        if i > 0:\n",
    "            res[i] -= stats.norm.cdf(bins[i - 1], 0, s)\n",
    "    return np.sum(((freq - 50 * res) ** 2) / (50 * res))\n",
    "\n",
    "\n",
    "chi2Res = scipy.optimize.minimize_scalar(lambda s: chi2_sum(s, cutBins, cutFreq))\n",
    "\n",
    "print(\"Значение параметра\", chi2Res.x)\n",
    "print(\"X^2\", chi2Res.fun)\n",
    "\n",
    "x_alpha = stats.chi2.ppf(1 - alpha, len(cutBins) - 1)\n",
    "\n",
    "print(\"x_alpha\", x_alpha)\n",
    "print('Принимается H0' if chi2Res.fun <= x_alpha else 'Отклоняется H0')\n",
    "alpha_max = 1 - stats.chi2.cdf(chi2Res.fun, len(cutBins) - 1)\n",
    "print(\"Гипотеза может быть принята, если уровень значимости <=\", alpha_max)"
   ],
   "metadata": {
    "collapsed": false,
    "ExecuteTime": {
     "end_time": "2023-12-16T19:12:54.559910200Z",
     "start_time": "2023-12-16T19:12:54.457686200Z"
    }
   },
   "id": "94a5c30788e4c5cd"
  },
  {
   "cell_type": "markdown",
   "source": [
    "Оценка расстояния до класса нормальных распределений по Колмогорову:\n",
    "$$ \n",
    "\\sqrt{n} \\cdot \\max|F_n(y) - F(y)| \\sim K,\\ где\\ K\\text{ - распределение Колмогорова.} \n",
    "$$"
   ],
   "metadata": {
    "collapsed": false
   },
   "id": "a908797dcd869d41"
  },
  {
   "cell_type": "code",
   "execution_count": 122,
   "outputs": [
    {
     "name": "stdout",
     "output_type": "stream",
     "text": [
      "Dn 0.39161645038173887\n",
      "x_alpha 0.2106765432666897\n",
      "Отклоняется H0\n",
      "Гипотеза может быть принята, если уровень значимости <= 1.0127183258656913e-07\n"
     ]
    }
   ],
   "source": [
    "def build_Fn(x, values):\n",
    "    sum = 0\n",
    "    for i in values:\n",
    "        if i >= x:\n",
    "            return sum / len(X)\n",
    "        sum += 1\n",
    "    return sum / len(X)\n",
    "\n",
    "\n",
    "errSort = np.sort(err)\n",
    "X_steps = np.arange(min(err) - h, max(err) + h, h)\n",
    "F = np.array([stats.norm.cdf(y, 0, np.sqrt(varEst)) for y in X_steps])\n",
    "Fn = np.array([build_Fn(i, errSort) for i in X_steps])\n",
    "Dn = np.max(np.abs(Fn - F)) * np.sqrt(len(X))\n",
    "print('Dn', Dn)\n",
    "x_alpha = stats.ksone.ppf(1 - alpha, len(X))\n",
    "print('x_alpha', x_alpha)\n",
    "print('Принимается H0' if Dn <= x_alpha else 'Отклоняется H0')\n",
    "alpha_max = 1 - stats.ksone.cdf(Dn, len(X))\n",
    "print(\"Гипотеза может быть принята, если уровень значимости <=\", alpha_max)"
   ],
   "metadata": {
    "collapsed": false,
    "ExecuteTime": {
     "end_time": "2023-12-16T19:12:54.611335600Z",
     "start_time": "2023-12-16T19:12:54.486138700Z"
    }
   },
   "id": "20944017f090a0bc"
  },
  {
   "cell_type": "code",
   "execution_count": 123,
   "outputs": [
    {
     "data": {
      "text/plain": "<Figure size 640x480 with 1 Axes>",
      "image/png": "[encoded data removed]"
     },
     "metadata": {},
     "output_type": "display_data"
    }
   ],
   "source": [
    "plt.title('Выборочная функция распределения ошибки и функция нормального распределения')\n",
    "plt.xlabel('x')\n",
    "plt.ylabel('y')\n",
    "plt.plot(X_steps, F)\n",
    "plt.plot(X_steps, Fn, '--')\n",
    "plt.show()"
   ],
   "metadata": {
    "collapsed": false,
    "ExecuteTime": {
     "end_time": "2023-12-16T19:12:54.723106600Z",
     "start_time": "2023-12-16T19:12:54.511217Z"
    }
   },
   "id": "312b66d08cb2c20f"
  },
  {
   "cell_type": "markdown",
   "source": [
    "### Задание 3\n",
    "В предположении нормальности ошибок построить доверительные интервалы для параметров $\\beta_0$ и $\\beta_1$ уровня доверия 1 − $\\alpha$. Построить доверительный эллипс уровня доверия 1 − $\\alpha$ для $(\\beta_0, \\beta_1)$. (вычислить его полуоси)"
   ],
   "metadata": {
    "collapsed": false
   },
   "id": "76ffc9f7eb48269e"
  },
  {
   "cell_type": "markdown",
   "source": [
    "ДНО функция: $\\psi = C^{\\intercal}\\beta$\n",
    "\n",
    "Элемент дисперсии оценки: $b_\\psi = C^{\\intercal}\\left(XX^{\\intercal}\\right)^{-1}C$\n",
    "$$\n",
    "\\frac{\\hat{\\psi} - \\psi}{s\\sqrt{b}} \\sim \\mathcal{S}_{n-r}\n",
    "$$\n",
    "Доверительный интервал уровня доверия $1 - \\alpha$:\n",
    "$$\n",
    "\\mathbb{P}_\\theta\\left(-x_\\alpha \\le \\cfrac{\\hat{\\psi} - \\psi}{s\\sqrt{b}} \\le x_\\alpha\\right) = 1 -\\alpha\n",
    "x_\\alpha : \\mathcal{S}_{n-r}(x_\\alpha) = 1 - \\frac{\\alpha}{2}\n",
    "$$\n",
    "Для $\\beta_0:$\n",
    "\n",
    "$$\n",
    "\\psi_{\\beta_0} = \\begin{pmatrix}\n",
    "1 \\\\\n",
    "0\n",
    "\\end{pmatrix}  ^ {\\intercal} \\cdot  \\begin{pmatrix}\n",
    "\\beta_0 \\\\\n",
    "\\beta_1\n",
    "\\end{pmatrix}\n",
    "\\\\\n",
    "b_{\\psi_{\\beta_0}} =  \\begin{pmatrix}\n",
    "1 & 0\n",
    "\\end{pmatrix} (XX^{\\intercal})^{-1} \\begin{pmatrix}\n",
    "1 \\\\ 0\n",
    "\\end{pmatrix}\n",
    "$$\n",
    "\n",
    "Для $\\beta_1:$\n",
    "$$\n",
    "\\psi_{\\beta_1} = \\begin{pmatrix}\n",
    "0 \\\\\n",
    "1\n",
    "\\end{pmatrix}  ^ {\\intercal} \\cdot  \\begin{pmatrix}\n",
    "\\beta_0 \\\\\n",
    "\\beta_1\n",
    "\\end{pmatrix}\n",
    "\\\\\n",
    "b_{\\psi_{\\beta_1}} =  \\begin{pmatrix}\n",
    "0 & 1\n",
    "\\end{pmatrix} (XX^{\\intercal})^{-1} \\begin{pmatrix}\n",
    "0 \\\\ 1\n",
    "\\end{pmatrix}\n",
    "$$"
   ],
   "metadata": {
    "collapsed": false
   },
   "id": "7b2fd9a23989e9ca"
  },
  {
   "cell_type": "code",
   "execution_count": 124,
   "outputs": [
    {
     "name": "stdout",
     "output_type": "stream",
     "text": [
      "x_alpha 2.6822040269502136\n",
      "b_0 0.05899419729206963\n",
      "b_1 0.0034539928156949434\n",
      "Доверительные интервалы [[8.922107740144373, 9.468453188288898], [-0.15231319726723308, -0.020115650480763983]]\n"
     ]
    }
   ],
   "source": [
    "print(\"x_alpha\", stats.t.ppf(1 - alpha / 2, len(X) - 2))\n",
    "C_0 = np.array([1, 0])\n",
    "b_0 = np.dot(np.dot(C_0.T, XXT_inv), C_0)\n",
    "C_1 = np.array([0, 1])\n",
    "b_1 = np.dot(np.dot(C_1.T, XXT_inv), C_1)\n",
    "beta_intervals = [\n",
    "    [beta[0] - x_alpha * np.sqrt(varEst) * np.sqrt(b_0), beta[0] + x_alpha * np.sqrt(varEst) * np.sqrt(b_0)],\n",
    "    [beta[1] - x_alpha * np.sqrt(varEst) * np.sqrt(b_1), beta[1] + x_alpha * np.sqrt(varEst) * np.sqrt(b_1)]\n",
    "]\n",
    "print(\"b_0\", b_0)\n",
    "print(\"b_1\", b_1)\n",
    "print(f'Доверительные интервалы', beta_intervals)"
   ],
   "metadata": {
    "collapsed": false,
    "ExecuteTime": {
     "end_time": "2023-12-16T19:12:54.768919400Z",
     "start_time": "2023-12-16T19:12:54.651907100Z"
    }
   },
   "id": "4f02840b81f49121"
  },
  {
   "cell_type": "markdown",
   "source": [
    "Доверительный эллипс уровня доверия 1 - $\\alpha$:\n",
    "$$ A_\\alpha = \\{x: (x - \\hat{\\psi})^{\\intercal} (C^{\\intercal} (XX^{\\intercal})^{-1}C)^{-1}(x - \\hat{\\psi}) \\le qs^2x_\\alpha\\}\n",
    "\\\\\n",
    "x_\\alpha: F_{q, n-r}(x_\\alpha) = 1 - \\alpha\n",
    "\\\\\n",
    "C = \\begin{pmatrix}\n",
    "    1 & 0\\\\\n",
    "    0 & 1\n",
    "\\end{pmatrix}\n",
    "$$\n",
    "Пусть $\\begin{pmatrix}\n",
    "    x\\\\\n",
    "    y\n",
    "\\end{pmatrix} = P(\\hat{\\psi} - \\psi)$, где $P$ - матрица собственных векторов.\n",
    "\n",
    "Пусть $\\lambda_1$ и $\\lambda_2$ - собственные числа матрицы $XX^{\\intercal}$. Тогда уравнение эллипсоида примет вид:\n",
    "\n",
    "$$\n",
    "(\\hat{\\psi} -  \\psi)^{\\intercal} (C^{\\intercal} (XX^{\\intercal})^{-1}C)^{-1}(\\hat{\\psi} -  \\psi) = \\lambda_1 x^2 + \\lambda_2 y^2 \\le qs^2x_\\alpha\n",
    "\\\\\n",
    "\\cfrac{\\lambda_1}{qs^2x_\\alpha}x^2 + \\cfrac{\\lambda_2}{qs^2x_\\alpha}y^2 \\le 1\n",
    "$$"
   ],
   "metadata": {
    "collapsed": false
   },
   "id": "67d0232f05d2c840"
  },
  {
   "cell_type": "code",
   "execution_count": 125,
   "outputs": [
    {
     "name": "stdout",
     "output_type": "stream",
     "text": [
      "Матрица перехода [[-0.98047666 -0.19663548]\n",
      " [ 0.19663548 -0.98047666]]\n",
      "Собственные числа [ 16.30744785 887.69255215]\n",
      "x_alpha 5.07666380708612\n",
      "Полуоси 4.212381551376231 0.5709386097206891\n"
     ]
    },
    {
     "data": {
      "text/plain": "<Figure size 500x500 with 1 Axes>",
      "image/png": "[encoded data removed]"
     },
     "metadata": {},
     "output_type": "display_data"
    }
   ],
   "source": [
    "eigenvalues, eigenvectors = np.linalg.eig(XXT)\n",
    "print('Матрица перехода', eigenvectors)\n",
    "print('Собственные числа', eigenvalues)\n",
    "\n",
    "x_alpha = stats.f.ppf(1 - alpha, 2, len(X) - 2)\n",
    "print('x_alpha', x_alpha)\n",
    "\n",
    "a = np.sqrt((2 * varEst * x_alpha) / eigenvalues[0])\n",
    "b =  np.sqrt((2 * varEst * x_alpha) / eigenvalues[1])\n",
    "\n",
    "print('Полуоси', a, b)\n",
    "def build_ellipse(beta0, beta1):\n",
    "    return (( eigenvectors[0][0] * (beta[0] - beta0) - eigenvectors[0][1] * (beta[1] - beta1))**2 / \n",
    "            a**2) + ((eigenvectors[1][0] * (beta[0] - beta0) + eigenvectors[1][1] * (beta[1] - beta1))**2 / b**2)\n",
    "\n",
    "beta0, beta1 = np.meshgrid(np.linspace(4, 14, 300), np.linspace(-1.5, 1.25, 300))\n",
    "z = build_ellipse(beta0, beta1)\n",
    "\n",
    "fig = plt.figure(figsize=(5,5))\n",
    "plt.contour(beta0, beta1, z, levels=[1])\n",
    "plt.title('Доверительный эллипс')\n",
    "plt.grid()\n",
    "\n",
    "plt.show()"
   ],
   "metadata": {
    "collapsed": false,
    "ExecuteTime": {
     "end_time": "2023-12-16T19:12:54.919706100Z",
     "start_time": "2023-12-16T19:12:54.670686400Z"
    }
   },
   "id": "797f5ec39550b31e"
  },
  {
   "cell_type": "markdown",
   "source": [
    "### Задание 4\n",
    "Сформулировать гипотезу независимости переменной Y от переменной X. Провести проверку значимости."
   ],
   "metadata": {
    "collapsed": false
   },
   "id": "609c3e2994cda9ba"
  },
  {
   "cell_type": "markdown",
   "source": [
    "Основная гипотеза: $H_0: \\beta_1 = 0$\n",
    "Альтернативная: $H_1 : \\beta_1 \\neq 0$\n",
    "F-статистика: $\\mathbb{F} = \\frac{\\hat{\\psi} B^{-1} \\psi}{qs^2} \\sim F_{q, n-r}$\n",
    "\n",
    "Пусть $B = C^{\\intercal} (XX^{\\intercal})^{-1} C$\n",
    "\n",
    "$x_{\\alpha}: F_{q,n-r}(x_{\\alpha}) = 1 - \\alpha$\n",
    "\n",
    "При основной гипотезе $C = \\begin{pmatrix}\n",
    "    0 \\\\\n",
    "    1\n",
    "\\end{pmatrix} \\Rightarrow \\hat \\psi = \\hat \\beta_1,\\ q = 1$\n",
    "\n",
    "$\\mathbb{F} = \\cfrac{{\\hat \\beta_1} ^2}{bqs^2} $"
   ],
   "metadata": {
    "collapsed": false
   },
   "id": "e53f8efb1335864c"
  },
  {
   "cell_type": "code",
   "execution_count": 126,
   "outputs": [
    {
     "name": "stdout",
     "output_type": "stream",
     "text": [
      "b 0.0034539928156949434\n",
      "F 0.07551016653318726\n",
      "x_alpha 7.194218442187959\n",
      "Принимается H0\n"
     ]
    }
   ],
   "source": [
    "c = np.array([0, 1])\n",
    "b = np.dot(np.dot(c.T, XXT_inv), c)\n",
    "q = 1\n",
    "F = beta[1] ** 2 / (b * q * varEst)\n",
    "x_alpha = stats.f.ppf(1 - alpha, q, len(X) - len(matrixX))\n",
    "print('b', b)\n",
    "print('F', F)\n",
    "print('x_alpha', x_alpha)\n",
    "print('Принимается H0' if F <= x_alpha else 'Отклоняется H0')"
   ],
   "metadata": {
    "collapsed": false,
    "ExecuteTime": {
     "end_time": "2023-12-16T19:12:54.921886300Z",
     "start_time": "2023-12-16T19:12:54.777579300Z"
    }
   },
   "id": "c48b3fdc7a1d3b62"
  },
  {
   "cell_type": "markdown",
   "source": [
    "### Задание 5\n",
    "Сформулировать модель, включающую дополнительный член $X^2$. Построить МНК оценки параметров $\\beta_0, \\beta_1, \\beta_2$ в данной модели. Изобразить полученную регрессионную зависимость."
   ],
   "metadata": {
    "collapsed": false
   },
   "id": "1064493a68440f73"
  },
  {
   "cell_type": "markdown",
   "source": [
    "Линейная регрессионная модель: \n",
    "$ Y = X^{\\intercal} \\beta + \\epsilon$, где $\\epsilon$ - ошибка, $\\beta = (\\beta_0, \\beta_1, \\beta_2)$ \n",
    "МНК оценка:\n",
    "$$\n",
    "\\hat{\\beta} = \\left(XX^{\\intercal}\\right)^{-1}XY \n",
    "$$"
   ],
   "metadata": {
    "collapsed": false
   },
   "id": "180054599fbae812"
  },
  {
   "cell_type": "code",
   "execution_count": 127,
   "outputs": [
    {
     "name": "stdout",
     "output_type": "stream",
     "text": [
      "[ 1.05847022e+01 -4.94778141e-01 -9.74689016e-04]\n"
     ]
    }
   ],
   "source": [
    "matrixX = np.array([[1.0] * len(X), sorted(X), [x**2 for x in sorted(X)]])\n",
    "XXT = np.dot(matrixX, matrixX.T)\n",
    "XXT_inv = np.linalg.inv(XXT)\n",
    "beta = np.dot(np.dot(XXT_inv, matrixX), Y)\n",
    "print(beta)\n"
   ],
   "metadata": {
    "collapsed": false,
    "ExecuteTime": {
     "end_time": "2023-12-16T19:12:54.922942800Z",
     "start_time": "2023-12-16T19:12:54.792605800Z"
    }
   },
   "id": "4c02f64105a0e9a8"
  },
  {
   "cell_type": "code",
   "execution_count": 128,
   "outputs": [
    {
     "data": {
      "text/plain": "<Figure size 640x480 with 1 Axes>",
      "image/png": "[encoded data removed]"
     },
     "metadata": {},
     "output_type": "display_data"
    }
   ],
   "source": [
    "plt.plot(X, Y, 'o')\n",
    "\n",
    "predY = np.dot(matrixX.T, beta)\n",
    "plt.plot(sorted(X), predY,  color='yellow')\n",
    "plt.xlabel('X')\n",
    "plt.ylabel('Y')\n",
    "plt.show()\n"
   ],
   "metadata": {
    "collapsed": false,
    "ExecuteTime": {
     "end_time": "2023-12-16T19:12:54.949489600Z",
     "start_time": "2023-12-16T19:12:54.805871Z"
    }
   },
   "id": "e3507dad6f9e2267"
  },
  {
   "cell_type": "markdown",
   "source": [
    "### Задание 6\n",
    "Построить несмещенную оценку дисперсии. Провести исследование нормальности ошибок как в пункте 2."
   ],
   "metadata": {
    "collapsed": false
   },
   "id": "1d0d1f9b046b506b"
  },
  {
   "cell_type": "markdown",
   "source": [
    "$$\n",
    "s^2 = \\frac{1}{n-r} \\cdot  (Y - X^{\\intercal} \\hat \\beta)^{\\intercal} (Y - X^{\\intercal} \\hat \\beta)\n",
    "\\\\\n",
    "r = \\mathop{\\mathrm{rank}}(X) = 3\n",
    "$$"
   ],
   "metadata": {
    "collapsed": false
   },
   "id": "7c7673cc955d45f"
  },
  {
   "cell_type": "code",
   "execution_count": 129,
   "outputs": [
    {
     "name": "stdout",
     "output_type": "stream",
     "text": [
      "Оценка дисперсии 30.1708530327618\n"
     ]
    }
   ],
   "source": [
    "RSS = np.sum((Y - beta[0] - beta[1] * X - beta[2] * X**2) ** 2)\n",
    "varEst = RSS / (len(X) - len(matrixX))\n",
    "\n",
    "print('Оценка дисперсии', varEst)"
   ],
   "metadata": {
    "collapsed": false,
    "ExecuteTime": {
     "end_time": "2023-12-16T19:12:54.976814800Z",
     "start_time": "2023-12-16T19:12:54.918680400Z"
    }
   },
   "id": "35a2ca80813277b2"
  },
  {
   "cell_type": "code",
   "execution_count": 130,
   "outputs": [
    {
     "data": {
      "text/plain": "<Figure size 640x480 with 1 Axes>",
      "image/png": "[encoded data removed]"
     },
     "metadata": {},
     "output_type": "display_data"
    }
   ],
   "source": [
    "err = Y - predY\n",
    "hist, bins, _ = plt.hist(err, bins=np.arange(min(err), max(err) + h, h), edgecolor='black', color='yellow')\n",
    "plt.title('Гистограмма ошибок')\n",
    "plt.xlabel('Значение')\n",
    "plt.ylabel('Частота')\n",
    "\n",
    "plt.show()"
   ],
   "metadata": {
    "collapsed": false,
    "ExecuteTime": {
     "end_time": "2023-12-16T19:12:55.181878200Z",
     "start_time": "2023-12-16T19:12:54.936812600Z"
    }
   },
   "id": "4f75a6451841f97b"
  },
  {
   "cell_type": "code",
   "execution_count": 131,
   "outputs": [
    {
     "name": "stdout",
     "output_type": "stream",
     "text": [
      "Интервал: ( -8.3689 -5.8689 ), Количество чисел: 6.0\n",
      "Интервал: ( -5.8689 -3.3689 ), Количество чисел: 10.0\n",
      "Интервал: ( -3.3689 -0.8689 ), Количество чисел: 8.0\n",
      "Интервал: ( -0.8689 1.6311 ), Количество чисел: 8.0\n",
      "Интервал: ( 1.6311 4.1311 ), Количество чисел: 5.0\n",
      "Интервал: ( 4.1311 6.6311 ), Количество чисел: 6.0\n",
      "Интервал: ( 6.6311 9.1311 ), Количество чисел: 6.0\n",
      "Интервал: ( 9.1311 11.6311 ), Количество чисел: 1.0\n"
     ]
    }
   ],
   "source": [
    "plt.show()\n",
    "for i in range(len(hist)):\n",
    "    print('Интервал: (', round(bins[i], 4), round(bins[i + 1], 4), '), Количество чисел:', hist[i])"
   ],
   "metadata": {
    "collapsed": false,
    "ExecuteTime": {
     "end_time": "2023-12-16T19:12:55.182923700Z",
     "start_time": "2023-12-16T19:12:55.060078700Z"
    }
   },
   "id": "342b868d6be6ea69"
  },
  {
   "cell_type": "markdown",
   "source": [
    "Проверим гипотезу нормальности ошибок на уровне значимости $\\alpha$.\n",
    "\n",
    "Основная гипотеза: $H_0 \\sim \\mathcal{N}(0, \\sigma^2)$\n",
    "\n",
    "Объединим интервалы, чтобы в каждом было не менее 5 элементов:\n",
    "$$\n",
    "I_1 = (-\\infty, -5.87], \\ n_1 = 6\n",
    "\\\\\n",
    "I_2 = (-5.87, -3.69], \\ n_2 = 10\n",
    "\\\\\n",
    "I_3 = (-3.69, -0.87], \\ n_3 = 8\n",
    "\\\\\n",
    "I_{4} = (-0.87, 1.63], \\ n_{4} = 8\n",
    "\\\\\n",
    "I_{5} = (1.63, 4.13], \\ n_{5} = 5\n",
    "\\\\\n",
    "I_{6} = (4.13, 6.63), \\ n_{6} = 6\n",
    "\\\\\n",
    "I_{7} = (6.63, +\\infty), \\ n_{7} = 7\n",
    "$$\n",
    "\n",
    "Статистика критерия: \n",
    "$$\n",
    "\\chi^2 = \\sum_{j=1}^{k}\\frac{(\\nu_j - np_{jo})^2}{np_{j0}}\n",
    "$$\n",
    "k - количество интервалов, $\\nu_i$ - абсолютная частота, $p_{j0} = \\mathbb{P}(\\xi \\in I_i) = \\left[ \\text{Пусть a и b - границы интервала} \\right] = F(b_i) - F(a_i)$ - вероятность попадания в интервал\n",
    "\n",
    "$x_{\\alpha}:$ $\\mathcal{K}_{r-d-1}(x_a) = 1 - \\alpha_1 = 1 - 0.01 = 0.99$"
   ],
   "metadata": {
    "collapsed": false
   },
   "id": "5643028ce4d635fc"
  },
  {
   "cell_type": "code",
   "execution_count": 132,
   "outputs": [
    {
     "name": "stdout",
     "output_type": "stream",
     "text": [
      "Значение параметра 5.7476757552467\n",
      "X^2 5.5910746755880325\n",
      "x_alpha 15.08627246938899\n",
      "Принимается H0\n",
      "Гипотеза может быть принята, если уровень значимости <= 0.34806252694397044\n"
     ]
    }
   ],
   "source": [
    "from scipy import stats\n",
    "import scipy\n",
    "\n",
    "cutBins = np.array([-5.87, -3.69, -0.87, 1.63, 4.13, 6.63])\n",
    "cutFreq = np.array([6, 10, 8, 8, 5, 6, 7])\n",
    "\n",
    "chi2Res = scipy.optimize.minimize_scalar(lambda s: chi2_sum(s, cutBins, cutFreq))\n",
    "\n",
    "print(\"Значение параметра\", chi2Res.x)\n",
    "print(\"X^2\", chi2Res.fun)\n",
    "\n",
    "x_alpha = stats.chi2.ppf(1 - alpha, len(cutBins) - 1)\n",
    "\n",
    "print(\"x_alpha\", x_alpha)\n",
    "print('Принимается H0' if chi2Res.fun <= x_alpha else 'Отклоняется H0')\n",
    "alpha_max = 1 - stats.chi2.cdf(chi2Res.fun, len(cutBins) - 1)\n",
    "print(\"Гипотеза может быть принята, если уровень значимости <=\", alpha_max)"
   ],
   "metadata": {
    "collapsed": false,
    "ExecuteTime": {
     "end_time": "2023-12-16T19:12:55.246277Z",
     "start_time": "2023-12-16T19:12:55.075587100Z"
    }
   },
   "id": "f2ba1527cbed263f"
  },
  {
   "cell_type": "markdown",
   "source": [
    "Оценка расстояния до класса нормальных распределений по Колмогорову:\n",
    "$$ \n",
    "\\sqrt{n} \\cdot \\max|F_n(y) - F(y)| \\sim K,\\ где\\ K\\text{ - распределение Колмогорова.} \n",
    "$$"
   ],
   "metadata": {
    "collapsed": false
   },
   "id": "9c0c84d4743e47ad"
  },
  {
   "cell_type": "code",
   "execution_count": 133,
   "outputs": [
    {
     "name": "stdout",
     "output_type": "stream",
     "text": [
      "Dn 0.45114558306846275\n",
      "x_alpha 0.2106765432666897\n",
      "Отклоняется H0\n",
      "Гипотеза может быть принята, если уровень значимости <= 4.1286074559110375e-10\n"
     ]
    }
   ],
   "source": [
    "errSort = np.sort(err)\n",
    "X_steps = np.arange(min(err) - h, max(err) + h, h)\n",
    "F = np.array([stats.norm.cdf(y, 0, np.sqrt(varEst)) for y in X_steps])\n",
    "Fn = np.array([build_Fn(i, errSort) for i in X_steps])\n",
    "Dn = np.max(np.abs(Fn - F)) * np.sqrt(len(X))\n",
    "print('Dn', Dn)\n",
    "x_alpha = stats.ksone.ppf(1 - alpha, len(X))\n",
    "print('x_alpha', x_alpha)\n",
    "print('Принимается H0' if Dn <= x_alpha else 'Отклоняется H0')\n",
    "alpha_max = 1 - stats.ksone.cdf(Dn, len(X))\n",
    "print(\"Гипотеза может быть принята, если уровень значимости <=\", alpha_max)"
   ],
   "metadata": {
    "collapsed": false,
    "ExecuteTime": {
     "end_time": "2023-12-16T19:12:55.249478Z",
     "start_time": "2023-12-16T19:12:55.129663600Z"
    }
   },
   "id": "91da5ee978cb302a"
  },
  {
   "cell_type": "code",
   "execution_count": 134,
   "outputs": [
    {
     "data": {
      "text/plain": "<Figure size 640x480 with 1 Axes>",
      "image/png": "[encoded data removed]"
     },
     "metadata": {},
     "output_type": "display_data"
    }
   ],
   "source": [
    "plt.title('Выборочная функция распределения ошибки и функция нормального распределения')\n",
    "plt.xlabel('x')\n",
    "plt.ylabel('y')\n",
    "plt.plot(X_steps, F)\n",
    "plt.plot(X_steps, Fn, '--')\n",
    "plt.show()"
   ],
   "metadata": {
    "collapsed": false,
    "ExecuteTime": {
     "end_time": "2023-12-16T19:12:55.388623700Z",
     "start_time": "2023-12-16T19:12:55.253819400Z"
    }
   },
   "id": "6f3d204ab79f3664"
  },
  {
   "cell_type": "markdown",
   "source": [
    "### Задание 7\n",
    "В предположении нормальности ошибок построить доверительные интервалы для параметров $\\beta_0$, $\\beta_1$, $\\beta_2$ уровня доверия 1 − $\\alpha$. Написать уравнение доверительного эллипсоида уровня доверия 1 − $\\alpha$."
   ],
   "metadata": {
    "collapsed": false
   },
   "id": "3fe9a810b440498f"
  },
  {
   "cell_type": "markdown",
   "source": [
    "ДНО функция: $\\psi = C^{\\intercal}\\beta$\n",
    "\n",
    "Элемент дисперсии оценки: $b_\\psi = C^{\\intercal}\\left(XX^{\\intercal}\\right)^{-1}C$\n",
    "$$\n",
    "\\frac{\\hat{\\psi} - \\psi}{s\\sqrt{b}} \\sim \\mathcal{S}_{n-r}\n",
    "$$\n",
    "Доверительный интервал уровня доверия $1 - \\alpha$:\n",
    "$$\n",
    "\\mathbb{P}_\\theta\\left(-x_\\alpha \\le \\cfrac{\\hat{\\psi} - \\psi}{s\\sqrt{b}} \\le x_\\alpha\\right) = 1 - \\alpha\n",
    "\\\\\n",
    "x_\\alpha : \\mathcal{S}_{n-r}(x_\\alpha) = 1 - \\frac{\\alpha}{2}\n",
    "$$\n",
    "\n",
    "Для $\\beta_0:$\n",
    "$$\n",
    "\\psi_{\\beta_0} = \\begin{pmatrix}\n",
    "1 \\\\\n",
    "0 \\\\\n",
    "0\n",
    "\\end{pmatrix} ^ {\\intercal} \\cdot \\begin{pmatrix}\n",
    "\\beta_0 \\\\\n",
    "\\beta_1 \\\\\n",
    "\\beta_2\n",
    "\\end{pmatrix}\n",
    "\\\\\n",
    "b_{\\psi_{\\beta_0}} = \\begin{pmatrix}\n",
    "1 & 0 & 0\n",
    "\\end{pmatrix} (XX^{\\intercal})^{-1} \\begin{pmatrix}\n",
    "1 \\\\ 0 \\\\ 0\n",
    "\\end{pmatrix}\n",
    "$$\n",
    "\n",
    "Для $\\beta_1:$\n",
    "$$\n",
    "\\psi_{\\beta_1} = \\begin{pmatrix}\n",
    "0 \\\\\n",
    "1 \\\\\n",
    "0\n",
    "\\end{pmatrix} ^ {\\intercal} \\cdot \\begin{pmatrix}\n",
    "\\beta_0 \\\\\n",
    "\\beta_1 \\\\\n",
    "\\beta_2\n",
    "\\end{pmatrix}\n",
    "\\\\\n",
    "b_{\\psi_{\\beta_1}} = \\begin{pmatrix}\n",
    "0 & 1 & 0\n",
    "\\end{pmatrix} (XX^{\\intercal})^{-1} \\begin{pmatrix}\n",
    "0 \\\\ 1 \\\\ 0\n",
    "\\end{pmatrix}\n",
    "$$\n",
    "\n",
    "Для $\\beta_2:$\n",
    "$$\n",
    "\\psi_{\\beta_2} = \\begin{pmatrix}\n",
    "0 \\\\\n",
    "0 \\\\\n",
    "1\n",
    "\\end{pmatrix} ^ {\\intercal} \\cdot \\begin{pmatrix}\n",
    "\\beta_0 \\\\\n",
    "\\beta_1 \\\\\n",
    "\\beta_2\n",
    "\\end{pmatrix}\n",
    "\\\\\n",
    "b_{\\psi_{\\beta_2}} = \\begin{pmatrix}\n",
    "0 & 0 & 1\n",
    "\\end{pmatrix} (XX^{\\intercal})^{-1} \\begin{pmatrix}\n",
    "0 \\\\ 0 \\\\ 1\n",
    "\\end{pmatrix}\n",
    "$$\n",
    "\n"
   ],
   "metadata": {
    "collapsed": false
   },
   "id": "dcf72e8864f9f90"
  },
  {
   "cell_type": "code",
   "execution_count": 135,
   "outputs": [
    {
     "name": "stdout",
     "output_type": "stream",
     "text": [
      "x_alpha 2.6822040269502136\n",
      "b_0 0.09669009259995792\n",
      "b_1 0.05524919113008698\n",
      "b_2 0.0011157995864851044\n",
      "Доверительные интервалы [[10.224869261781876, 10.944535223738558], [-0.766780669359573, -0.22277561300214377], [-0.039629457516273364, 0.0376800794843585]]\n"
     ]
    }
   ],
   "source": [
    "print(\"x_alpha\", stats.t.ppf(1 - alpha / 2, len(X) - 2))\n",
    "C_0 = np.array([1, 0, 0])\n",
    "b_0 = np.dot(np.dot(C_0.T, XXT_inv), C_0)\n",
    "C_1 = np.array([0, 1, 0])\n",
    "b_1 = np.dot(np.dot(C_1.T, XXT_inv), C_1)\n",
    "C_2 = np.array([0, 0, 1])\n",
    "b_2 = np.dot(np.dot(C_2.T, XXT_inv), C_2)\n",
    "beta_intervals = [\n",
    "    [beta[0] - x_alpha * np.sqrt(varEst) * np.sqrt(b_0), beta[0] + x_alpha * np.sqrt(varEst) * np.sqrt(b_0)],\n",
    "    [beta[1] - x_alpha * np.sqrt(varEst) * np.sqrt(b_1), beta[1] + x_alpha * np.sqrt(varEst) * np.sqrt(b_1)],\n",
    "    [beta[2] - x_alpha * np.sqrt(varEst) * np.sqrt(b_2), beta[2] + x_alpha * np.sqrt(varEst) * np.sqrt(b_2)]\n",
    "]\n",
    "print(\"b_0\", b_0)\n",
    "print(\"b_1\", b_1)\n",
    "print(\"b_2\", b_2)\n",
    "print(f'Доверительные интервалы', beta_intervals)"
   ],
   "metadata": {
    "collapsed": false,
    "ExecuteTime": {
     "end_time": "2023-12-16T19:12:55.390710900Z",
     "start_time": "2023-12-16T19:12:55.374413800Z"
    }
   },
   "id": "4c965cde7f6e5aec"
  },
  {
   "cell_type": "markdown",
   "source": [
    "Доверительный эллипсоид уровня доверия 1 - $\\alpha$\n",
    "$$\n",
    "A_\\alpha = \\{x: (x - \\hat{\\psi})^{\\intercal} (C^{\\intercal} (XX^{\\intercal})^{-1}C)^{-1}(x - \\hat{\\psi}) \\le qs^2x_\\alpha\\}\n",
    "\\\\\n",
    "x_\\alpha = F_{q, n-r}(x_\\alpha) = 1 - \\alpha\n",
    "\\\\\n",
    "C = \\begin{pmatrix}\n",
    "    1 & 0 & 0\\\\\n",
    "    0 & 1 & 0\\\\\n",
    "    0 & 0 & 1\n",
    "\\end{pmatrix}\n",
    "$$\n",
    "\n",
    "Пусть $ \\begin{pmatrix}\n",
    "    x\\\\\n",
    "    y\\\\\n",
    "    z\n",
    "\\end{pmatrix} = P(\\hat{\\psi} - \\psi)$, где $P$ - матрица собственных векторов.\n",
    "\n",
    "Пусть $\\lambda_1$, $\\lambda_2$ и $\\lambda_3$ - собственные числа матрицы $XX^{\\intercal}$. Тогда уравнение эллипсоида примет вид:\n",
    "$$\n",
    "(\\hat{\\psi} -  \\psi)^{\\intercal} (C^{\\intercal} (XX^{\\intercal})^{-1}C)^{-1}(\\hat{\\psi} -  \\psi) = \\lambda_1 x^2 + \\lambda_2 y^2 + \\lambda_3 z^2 \\le qs^2x_\\alpha\n",
    "\\\\\n",
    "\\cfrac{\\lambda_1}{qs^2x_\\alpha}x^2 + \\cfrac{\\lambda_2}{qs^2x_\\alpha}y^2 + \\cfrac{\\lambda_3}{qs^2x_\\alpha}z^2 \\le 1\n",
    "$$"
   ],
   "metadata": {
    "collapsed": false
   },
   "id": "8bc3c334da2dfadc"
  },
  {
   "cell_type": "code",
   "execution_count": 136,
   "outputs": [
    {
     "name": "stdout",
     "output_type": "stream",
     "text": [
      "Матрица перехода [[-0.02927203 -0.81806016 -0.57438725]\n",
      " [-0.16530537  0.57068295 -0.80436006]\n",
      " [-0.98580793 -0.07140405  0.15193479]]\n",
      "Собственные числа [2.97592898e+04 7.34338112e+00 5.93668146e+01]\n",
      "x_alpha 5.07666380708612\n",
      "Полуоси 0.10145809721790838 6.458772092609307\n"
     ]
    }
   ],
   "source": [
    "eigenvalues, eigenvectors = np.linalg.eig(XXT)\n",
    "print('Матрица перехода', eigenvectors)\n",
    "print('Собственные числа', eigenvalues)\n",
    "\n",
    "x_alpha = stats.f.ppf(1 - alpha, 2, len(X) - 2)\n",
    "print('x_alpha', x_alpha)\n",
    "\n",
    "a = np.sqrt((2 * varEst * x_alpha) / eigenvalues[0])\n",
    "b =  np.sqrt((2 * varEst * x_alpha) / eigenvalues[1])\n",
    "print('Полуоси', a, b)"
   ],
   "metadata": {
    "collapsed": false,
    "ExecuteTime": {
     "end_time": "2023-12-16T19:12:55.482517200Z",
     "start_time": "2023-12-16T19:12:55.389663600Z"
    }
   },
   "id": "6e4d009e9f4c4e25"
  },
  {
   "cell_type": "markdown",
   "source": [
    "### Задание 8\n",
    "Сформулировать гипотезу линейной регрессинной зависимости переменной Y от переменной X и проверить её значимость на уровне $\\alpha$."
   ],
   "metadata": {
    "collapsed": false
   },
   "id": "d8997be127ece6c"
  },
  {
   "cell_type": "markdown",
   "source": [
    "Основная гипотеза: $H_0: \\beta_2 = 0$\n",
    "Альтернативная: $H_1 : \\beta_2 \\neq 0$\n",
    "F-статистика: $\\mathbb{F} = \\frac{\\hat{\\psi} B^{-1} \\psi}{qs^2} \\sim F_{q, n-r}$\n",
    "\n",
    "Пусть $B = C^{\\intercal} (XX^{\\intercal})^{-1} C$\n",
    "\n",
    "$x_{\\alpha}: F_{q,n-r}(x_{\\alpha}) = 1 - \\alpha$\n",
    "\n",
    "При основной гипотезе $C = \\begin{pmatrix}\n",
    "    0 \\\\\n",
    "    0 \\\\\n",
    "    1\n",
    "\\end{pmatrix} \\Rightarrow \\hat \\psi = \\hat \\beta_2,\\ q = 1$\n",
    "\n",
    "$\\mathbb{F} = \\cfrac{{\\hat \\beta_2} ^2}{bqs^2} $"
   ],
   "metadata": {
    "collapsed": false
   },
   "id": "75854fc8bce0f3ab"
  },
  {
   "cell_type": "code",
   "execution_count": 137,
   "outputs": [
    {
     "name": "stdout",
     "output_type": "stream",
     "text": [
      "b 0.0011157995864851044\n",
      "F 2.8220087652652264e-05\n",
      "x_alpha 7.2068388654187014\n",
      "Принимается H0\n"
     ]
    }
   ],
   "source": [
    "c = np.array([0, 0, 1])\n",
    "b = np.dot(np.dot(c.T, XXT_inv), c)\n",
    "q = 1\n",
    "F = beta[2] ** 2 / (b * q * varEst)\n",
    "x_alpha = stats.f.ppf(1 - alpha, q, len(X) - len(matrixX))\n",
    "print('b', b)\n",
    "print('F', F)\n",
    "print('x_alpha', x_alpha)\n",
    "print('Принимается H0' if F <= x_alpha else 'Отклоняется H0')"
   ],
   "metadata": {
    "collapsed": false,
    "ExecuteTime": {
     "end_time": "2023-12-16T19:12:55.483670600Z",
     "start_time": "2023-12-16T19:12:55.408669900Z"
    }
   },
   "id": "d71f0ef212586bba"
  },
  {
   "cell_type": "markdown",
   "source": [
    "## Выводы\n",
    "В ходе проделанной лабораторной работы были получены практические навыки применения метода наименьших квадратов. Построена и проанализирована модель линейной регрессии, на основе которой была получена МНК оценка. Были построены линейная и квадратичная регрессионные модели. Проведен анализ нормальности их ошибок, построены доверительные интервалы и эллипсы, проверены гипотезы.\n"
   ],
   "metadata": {
    "collapsed": false
   },
   "id": "a49eabdd5e073e24"
  }
 ],
 "metadata": {
  "kernelspec": {
   "display_name": "python",
   "language": "python",
   "name": "python3"
  },
  "language_info": {
   "codemirror_mode": {
    "name": "ipython",
    "version": 2
   },
   "file_extension": ".py",
   "mimetype": "text/x-python",
   "name": "python",
   "nbconvert_exporter": "python",
   "pygments_lexer": "ipython2",
   "version": "2.7.6"
  }
 },
 "nbformat": 4,
 "nbformat_minor": 5
}
