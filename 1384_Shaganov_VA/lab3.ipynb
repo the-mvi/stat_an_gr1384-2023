{
  "cells": [
    {
      "cell_type": "markdown",
      "metadata": {
        "id": "4pbjbiG5hcNd"
      },
      "source": [
        "# Лабораторная работа №3: Регрессионный анализ\n",
        "\n",
        "---\n",
        "\n",
        "\n",
        "Выполнил студент гр. 1384 Шаганов Вячеслав. Вариант №21"
      ]
    },
    {
      "cell_type": "markdown",
      "metadata": {},
      "source": [
        "## Цель работы\n",
        "\n",
        "Ознакомление с основными положениями метода наименьших квадратов (МНК), со статистическими свойствами МНК-оценок, с понятием функции регрессии и роли МНК в регрессионном анализе."
      ]
    },
    {
      "cell_type": "markdown",
      "metadata": {
        "id": "kNUIGaYKh0o2"
      },
      "source": [
        "## Основные теоретические положения\n",
        "\n",
        "##### Линейная регрессионная модель\n",
        "\n",
        "Линейная регрессия некоторой зависимой переменной y на набор независимых переменных  x = (x_1, …, x_n), где n – это число наблюдений, предполагает, что линейное отношение между y и x: $y =\\beta_0 + \\beta_1 x_1 + ⋯ + \\beta_nx_n + \\epsilon$ - уравнение регрессии. $\\beta_0, \\beta_1, …, \\beta_n$ – коэффициенты регрессии (параметры), и $\\epsilon$ – случайная ошибка.\n",
        "\n",
        "##### МНК (Метод Наименьших Квадратов)\n",
        "\n",
        "$RSS(\\beta)=\\left\\| Y-X^{\\intercal}\\beta \\right\\|^2 \\to min\\beta$\n",
        "    \n",
        "Решение системы нормальных уравнений в регулярном случае: $\\hat\\beta = (XX^{\\intercal})^{-1} XY$ - есть МНК-оценка\n",
        "\n",
        "##### Несмещённая оценка дисперсии\n",
        "\n",
        "$s^{2} = \\frac{RSS(\\hat\\beta)}{n-r}$, где $SS_{e}=RSS(\\hat\\beta)$, r-ранг матрицы X\n",
        "\n",
        "##### Доверительный интервал\n",
        "\n",
        "ДНО функции: $\\psi=C^{\\intercal}\\beta$\n",
        "\n",
        "МНК-оценка: $\\hat\\psi=C^{\\intercal}\\beta$\n",
        "\n",
        "$\\frac{\\hat\\psi-\\psi}{S\\sqrt{b}}\\sim \\mathcal{S}_{n-r}$, где $b = C^\\intercal (XX^\\intercal)^{-1} C$\n",
        "\n",
        "Тогда Доверительный Интервал уровня доверия $1-\\alpha$ будет выглядеть следующим образом: $\\left[ \\hat\\psi - x_{\\alpha} s \\sqrt{b};\\hat\\psi + x_{\\alpha} s \\sqrt{b} \\right]$, где $x_{\\alpha} = \\mathcal{S}_{n-r}^{-1} \\left( 1-\\frac{\\alpha}{2} \\right)$\n",
        "\n",
        "##### Доверительный эллипсоид\n",
        "\n",
        "Множество $\\left\\{ \\psi:(\\psi-\\hat\\psi)^{\\intercal}B^{-1}(\\psi-\\hat\\psi)\\le q s^{2}x_{\\alpha} \\right\\}$ представляет доверительный эллипсоид уровня доверия $1 - \\alpha$, где $x_{\\alpha}$ - квантиль уровня $1-\\alpha$ функции распределения хи-квадрат с $(n-r)$ степенями свободы, $B = C^\\intercal(XX^\\intercal)^{-1} C$, $q$ - размерность $\\psi$\n",
        "\n",
        "##### "
      ]
    },
    {
      "cell_type": "markdown",
      "metadata": {
        "id": "brIj1pwwiGv_"
      },
      "source": [
        "## Постановка задачи\n",
        "\n",
        "Результаты статистического эксперимента представлены в виде двух переменных. Требуется оценить характер (случайной) зависимости переменной Y от переменной X. Полученные результаты содержательно проинтерпретировать."
      ]
    },
    {
      "cell_type": "markdown",
      "metadata": {
        "id": "QLSvrX0AiI_9"
      },
      "source": [
        "## Выполнение работы\n",
        "При выполнении работы будет использоваться язык Python.\n",
        "\n",
        "Импортируем используемые далее библиотеки."
      ]
    },
    {
      "cell_type": "code",
      "execution_count": 378,
      "metadata": {
        "id": "mWOXjph7amid"
      },
      "outputs": [],
      "source": [
        "%matplotlib inline\n",
        "import numpy as np\n",
        "import matplotlib.pyplot as plt\n",
        "from matplotlib import cm"
      ]
    },
    {
      "cell_type": "code",
      "execution_count": 379,
      "metadata": {},
      "outputs": [],
      "source": [
        "alpha = 0.05\n",
        "h = 3.00\n",
        "X_vals = np.array([1.0, 4.0, 3.0, 4.0, 1.0, 3.0, 0.0, 0.0, 4.0, 1.0, 1.0, 3.0, 0.0, 0.0, 3.0, 0.0, 1.0, 4.0, 1.0, 1.0, 2.0, 3.0, 3.0, 3.0, 4.0, 2.0, 1.0, 0.0, 0.0, 4.0, 2.0, 2.0, 4.0, 2.0, 1.0, 0.0, 0.0, 4.0, 4.0, 2.0, 0.0, 1.0, 2.0, 2.0, 0.0, 2.0, 4.0, 3.0, 0.0, 0.0])\n",
        "Y_vals = np.array([10.77, 26.04, 17.98, 17.24, 6.51, 17.61, 14.93, 19.95, 4.3, 28.41, 4.67, 11.24, 7.46, 21.96, 1.33, 8.58, 14.07, 10.15, 5.45, 20.41, 0.68, 1.04, 5.41, 20.94, 14.29, 13.41, 9.39, 7.18, 5.63, 16.65, 15.67, 9.68, 6.9, 10.62, 17.09, 17.72, 26.4, 14.65, 26.04, 15.75, 13.95, 18.77, 12.62, 15.23, 8.55, 15.73, 3.02, 3.5, 18.09, 3.15])\n",
        "n = len(X_vals)"
      ]
    },
    {
      "cell_type": "markdown",
      "metadata": {
        "id": "hbEo06-4jr_n"
      },
      "source": [
        "### Задание 1\n",
        "Построить графически результаты эксперимента. Сформулировать линейную регрессионную модель переменной Y по переменной X. Построить МНК оценки параметра сдвига $\\beta_0$ и масштаба $\\beta_1$. Построить полученную линию регрессии. Оценить визуально соответствие полученных данных и построенной оценки."
      ]
    },
    {
      "cell_type": "markdown",
      "metadata": {
        "id": "E8ZvWwsYkZj4"
      },
      "source": [
        "Построим результаты эксперимента:"
      ]
    },
    {
      "cell_type": "code",
      "execution_count": 380,
      "metadata": {
        "id": "35NCqApxjrxq"
      },
      "outputs": [
        {
          "data": {
            "image/png": "[encoded data removed]",
            "text/plain": [
              "<Figure size 640x480 with 1 Axes>"
            ]
          },
          "metadata": {},
          "output_type": "display_data"
        }
      ],
      "source": [
        "plt.scatter(X_vals, Y_vals)\n",
        "plt.xlabel('X')\n",
        "plt.ylabel('Y')\n",
        "plt.show()\n"
      ]
    },
    {
      "cell_type": "markdown",
      "metadata": {},
      "source": [
        "Сформулируем линейную регрессионную модель переменной Y от переменной X.\n",
        "\n",
        "$Y = X^\\intercal \\beta + \\epsilon$\n",
        "\n",
        "$ E_\\theta \\varepsilon = 0 , \\quad Var_\\theta \\varepsilon = \\sigma^2 E $\n",
        "\n",
        "$X_{(2 \\times n)} = \\left(\\begin{matrix}\n",
        "1 & 1 & ... & 1 \\\\\n",
        "x_1 & x_2 & ...  & x_n\n",
        "\\end{matrix}\\right)$\n",
        "\n",
        "$Y = \\left(\\begin{matrix}\n",
        "y_1 \\\\\n",
        "y_2 \\\\\n",
        "... \\\\\n",
        "y_n\n",
        "\\end{matrix}\\right) = \n",
        "\\left(\\begin{matrix}\n",
        "\\beta_0 + \\beta_1x_1 + \\epsilon_1 \\\\\n",
        "\\beta_0 + \\beta_1x_2 + \\epsilon_2 \\\\\n",
        "... \\\\\n",
        "\\beta_0 + \\beta_1x_n + \\epsilon_n\n",
        "\\end{matrix}\\right)$\n",
        "\n",
        "$\\beta = \\left(\\begin{matrix}\n",
        "\\beta_0 \\\\\n",
        "\\beta_1\n",
        "\\end{matrix}\\right)$\n",
        "\n",
        "МНК оценка вектора $\\hat{\\beta}$ вычисляется с помощью системы нормальных уравнений: $XX^{\\intercal} \\beta = XY$\n",
        "\n",
        "Тогда решение системы нормальных уравнений: $\\hat{\\beta} = (XX^{\\intercal})^{-1}  XY$"
      ]
    },
    {
      "cell_type": "code",
      "execution_count": 381,
      "metadata": {
        "colab": {
          "base_uri": "https://localhost:8080/",
          "height": 427
        },
        "id": "IeuvyIsUjqy2",
        "outputId": "5bc339e8-505c-40a7-da30-2663b47b7215"
      },
      "outputs": [
        {
          "name": "stdout",
          "output_type": "stream",
          "text": [
            "beta_0: 13.128\n",
            "beta_1: -0.213\n"
          ]
        }
      ],
      "source": [
        "X = np.array([\n",
        "    [1] * len(X_vals), \n",
        "    [x_i for x_i in X_vals]]\n",
        "    )\n",
        "Y = np.array([y_i for y_i in Y_vals])\n",
        "\n",
        "XX_T_inv = np.linalg.inv(X @ np.transpose(X))\n",
        "\n",
        "beta_hat = XX_T_inv @ X @ Y\n",
        "print(f'beta_0: {round(beta_hat[0], 3)}')\n",
        "print(f'beta_1: {round(beta_hat[1], 3)}')"
      ]
    },
    {
      "cell_type": "markdown",
      "metadata": {},
      "source": [
        "Построим линию регрессии"
      ]
    },
    {
      "cell_type": "code",
      "execution_count": 382,
      "metadata": {},
      "outputs": [
        {
          "data": {
            "image/png": "[encoded data removed]",
            "text/plain": [
              "<Figure size 640x480 with 1 Axes>"
            ]
          },
          "metadata": {},
          "output_type": "display_data"
        }
      ],
      "source": [
        "y_reg = lambda x: beta_hat[0] + x * beta_hat[1]\n",
        "plt.plot(np.linspace(-1, 5, 10), y_reg(np.linspace(-1, 5, 10)), c='r')\n",
        "plt.scatter(X_vals, Y_vals)\n",
        "plt.xlabel('X')\n",
        "plt.ylabel('Y')\n",
        "plt.show()\n"
      ]
    },
    {
      "cell_type": "markdown",
      "metadata": {
        "id": "GDS7jhYCg7c-"
      },
      "source": [
        "### Задание 2\n",
        "Построить и интерпретировать несмещённую оценку дисперсии. На базе ошибок построить гистограмму с шагом h.\n",
        "Проверить гипотезу нормальности ошибок на уровне значимости $\\alpha$ по $\\chi^2$. Оценить расстояние полученной оценки до\n",
        "класса нормальных распределений по Колмогорову. Визуально оценить данный факт."
      ]
    },
    {
      "cell_type": "markdown",
      "metadata": {
        "id": "qIwgn1pmhrjr"
      },
      "source": [
        "Несмещённая оценка дисперсии $s^2 = \\frac{RSS(\\hat{\\beta})}{(n - r)}$, $r = rank(X) = 2, RSS(\\hat\\beta) = \\sum^n_{i=1}(y_i-\\hat{y_i})^2$ "
      ]
    },
    {
      "cell_type": "code",
      "execution_count": 383,
      "metadata": {},
      "outputs": [
        {
          "name": "stdout",
          "output_type": "stream",
          "text": [
            "Несмещённая оценка дисперсии: 51.446418388214376\n"
          ]
        }
      ],
      "source": [
        "def RSS(beta_hat):\n",
        "    return ( (Y_vals - y_reg(X_vals))**2 ).sum()\n",
        "s2 = RSS(beta_hat) / (n-2)\n",
        "err = Y_vals - y_reg(X_vals)\n",
        "print(\"Несмещённая оценка дисперсии:\", s2)"
      ]
    },
    {
      "cell_type": "code",
      "execution_count": 384,
      "metadata": {},
      "outputs": [],
      "source": [
        "def draw_hist(X, intervals, *, rwidth=0.8, align='left'):\n",
        "    counts = [0] * len(intervals)\n",
        "    for x in X:\n",
        "        for i in range(len(intervals)):\n",
        "            if intervals[i][0] < x <= intervals[i][1]:\n",
        "                counts[i] += 1\n",
        "    borders = [intr[0] for intr in intervals]\n",
        "    plt.bar(borders, counts)\n",
        "    plt.xticks(borders, borders)\n",
        "    plt.show()\n",
        "    return counts"
      ]
    },
    {
      "cell_type": "code",
      "execution_count": 385,
      "metadata": {},
      "outputs": [],
      "source": [
        "intervals = [[-13 + h*i, -13 + h*(i+1)] for i in range(10)]"
      ]
    },
    {
      "cell_type": "code",
      "execution_count": 386,
      "metadata": {},
      "outputs": [
        {
          "data": {
            "image/png": "[encoded data removed]",
            "text/plain": [
              "<Figure size 640x480 with 1 Axes>"
            ]
          },
          "metadata": {},
          "output_type": "display_data"
        }
      ],
      "source": [
        "counts = draw_hist(err, intervals)"
      ]
    },
    {
      "cell_type": "code",
      "execution_count": 387,
      "metadata": {},
      "outputs": [
        {
          "name": "stdout",
          "output_type": "stream",
          "text": [
            "Значение критерия: 1\n"
          ]
        }
      ],
      "source": [
        "intervals[0][0] = -10000\n",
        "intervals[-1][1] = 10000\n",
        "from scipy import stats\n",
        "p = [0] * len(intervals)\n",
        "err_distr = stats.norm(loc=err.mean(), scale=err.std())\n",
        "\n",
        "for i in range(len(p)):\n",
        "    p[i] = err_distr.cdf(intervals[i][1]) - err_distr.cdf(intervals[i][0])\n",
        "p = np.array(p)\n",
        "x_sq = ((np.array(counts) - n * p)**2 / (n*p)).sum()\n",
        "x_a = stats.chi(df=len(intervals)-2-1).ppf(1 - alpha)\n",
        "\n",
        "print(\"Значение критерия:\", int(x_sq >= x_a))"
      ]
    },
    {
      "cell_type": "markdown",
      "metadata": {},
      "source": [
        "Критерий равен 1, следовательно, гипотезу нормальности стоит отвергнуть. Из гистограммы также видно, что ошибки имеют очень слабовыраженный вид нормального распределения.\n",
        "\n",
        "Теперь оценим расстояние полученной оценки до класса нормальных распределений по Колмогорову."
      ]
    },
    {
      "cell_type": "code",
      "execution_count": 388,
      "metadata": {},
      "outputs": [
        {
          "name": "stdout",
          "output_type": "stream",
          "text": [
            "Dn=0.5385348325818821\n",
            "x_alpha=0.16959440647022855\n"
          ]
        }
      ],
      "source": [
        "def build_Fn(Y):\n",
        "    n = len(Y)\n",
        "    Y = np.sort(Y)\n",
        "    def Fn(x):\n",
        "        summ = 0\n",
        "        for y in Y:\n",
        "            if y < x:\n",
        "                summ += 1\n",
        "        return summ / n\n",
        "    return Fn\n",
        "\n",
        "Xs = np.linspace(min(err)-1, max(err)+2, 1000)\n",
        "\n",
        "Fn = build_Fn(err)\n",
        "F = stats.norm(loc=0, scale=np.sqrt(s2)).cdf\n",
        "\n",
        "Dn = np.sqrt(n) * np.max( [np.abs(Fn(x) - F(x)) for x in Xs] )\n",
        "print(f'{Dn=}')\n",
        "\n",
        "x_alpha = stats.ksone.ppf(1 - alpha, n)\n",
        "print(f'{x_alpha=}')\n"
      ]
    },
    {
      "cell_type": "code",
      "execution_count": 389,
      "metadata": {},
      "outputs": [
        {
          "data": {
            "image/png": "[encoded data removed]",
            "text/plain": [
              "<Figure size 640x480 with 1 Axes>"
            ]
          },
          "metadata": {},
          "output_type": "display_data"
        }
      ],
      "source": [
        "plt.title('$F_n(x)$ и $F(x)$')\n",
        "plt.plot(Xs, F(Xs), color='green')\n",
        "plt.plot(Xs, [Fn(x) for x in Xs], c='r')\n",
        "\n",
        "plt.show()"
      ]
    },
    {
      "cell_type": "markdown",
      "metadata": {},
      "source": [
        "### Задание 3\n",
        "В предположении нормальности ошибок построить доверительные интервалы для параметров $\\beta_0$ и $\\beta_1$ уровня доверия\n",
        "$1-\\alpha$. Построить доверительный эллипс уровня доверия $1 - \\alpha$ для ($\\beta_0$, $\\beta_1$) (вычислить его полуоси)."
      ]
    },
    {
      "cell_type": "markdown",
      "metadata": {},
      "source": [
        "#### Доверительные интервалы\n",
        "Имеем ДНО функцию $\\psi=C^\\intercal \\beta$ и её МНК-оценку $\\hat\\psi=C^\\intercal \\hat\\beta$. \n",
        "Справедливо $ \\frac{\\hat \\psi - \\psi}{s\\sqrt{b}} \\sim S_{n-r} $, где $b = C^T (XX^T)^{-1}C$\n",
        "\n",
        "Тогда можно построить доверительный интервал уровня доверия $1 - \\alpha$:\n",
        "\n",
        "$ \\mathbb{P}_\\theta \\left(-x_\\alpha \\le \\cfrac{\\hat \\psi - \\psi}{s\\sqrt{b}} \\le x_\\alpha \\right) = 1 -\\alpha $, где $ x_\\alpha = S_{n-r}^{-1}\\left(1 -\\frac{\\alpha}{2}\\right) $\n",
        "\n",
        "$ \\left[ \\hat \\psi - x_{\\alpha}s\\sqrt{b}; \\hat \\psi + x_{\\alpha}s\\sqrt{b} \\right] $ - доверительный интервал для $\\psi$"
      ]
    },
    {
      "cell_type": "code",
      "execution_count": 390,
      "metadata": {},
      "outputs": [
        {
          "name": "stdout",
          "output_type": "stream",
          "text": [
            "[7.1612; 19.0945] - Доверительный интервал для beta_0\n",
            "[-2.7433; 2.3176] - Доверительный интервал для beta_1\n"
          ]
        }
      ],
      "source": [
        "def build_trust_interval(C, psi_hat, XX_T_inv):\n",
        "    C = np.array(C)\n",
        "    b = C.T @ XX_T_inv @ C\n",
        "    s = Y_vals.std()\n",
        "    return [psi_hat - x_a * s * np.sqrt(b), psi_hat + x_a * s * np.sqrt(b)]\n",
        "\n",
        "def print_interval(interval, label):\n",
        "    print(f'[{round(interval[0], 4)}; {round(interval[1], 4)}] - {label}')\n",
        "\n",
        "print_interval(build_trust_interval([1, 0], beta_hat[0], XX_T_inv), \"Доверительный интервал для beta_0\")\n",
        "print_interval(build_trust_interval([0, 1], beta_hat[1], XX_T_inv), \"Доверительный интервал для beta_1\")"
      ]
    },
    {
      "cell_type": "markdown",
      "metadata": {},
      "source": [
        "#### Доверительный эллипс\n",
        "Доверительный эллипс уровня доверия $1-\\alpha$ задаётся неравенством\n",
        "\n",
        "$ \\frac {(\\psi - \\hat\\psi)^\\intercal B^{-1}(\\psi - \\hat\\psi)} {q s^2 x_\\alpha} \\le 1$, где $B = C^T (XX^T)^{-1}C$"
      ]
    },
    {
      "cell_type": "code",
      "execution_count": 391,
      "metadata": {},
      "outputs": [
        {
          "data": {
            "text/latex": [
              "$\\displaystyle 0.152298340203628 \\beta_{0}^{2} + 0.56045789194935 \\beta_{0} \\beta_{1} - 3.87940424100289 \\beta_{0} + 0.846778771532171 \\beta_{1}^{2} - 6.99713402297939 \\beta_{1} + 24.7194364333147$"
            ],
            "text/plain": [
              "0.152298340203628*beta_0**2 + 0.56045789194935*beta_0*beta_1 - 3.87940424100289*beta_0 + 0.846778771532171*beta_1**2 - 6.99713402297939*beta_1 + 24.7194364333147"
            ]
          },
          "execution_count": 391,
          "metadata": {},
          "output_type": "execute_result"
        }
      ],
      "source": [
        "import sympy\n",
        "\n",
        "q = 2\n",
        "r = 2\n",
        "\n",
        "C = np.array([\n",
        "    [1, 0],\n",
        "    [0, 1]\n",
        "])\n",
        "beta_0_sym = sympy.var('beta_0')\n",
        "beta_1_sym = sympy.var('beta_1')\n",
        "beta = sympy.Matrix([\n",
        "    [beta_0_sym],\n",
        "    [beta_1_sym]\n",
        "])\n",
        "B = sympy.Matrix( C.T @ XX_T_inv @ C )\n",
        "psi = C.dot(beta)\n",
        "psi_hat = [\n",
        "    [beta_hat[0]],\n",
        "    [beta_hat[1]]\n",
        "]\n",
        "\n",
        "x_a = stats.f(q, n - r).ppf(1 - alpha)\n",
        "\n",
        "ellipse = sympy.simplify( ( (psi - psi_hat).T.dot(B.inv()).dot((psi - psi_hat)) / (q * s2 * x_a) )[0][0] )\n",
        "ellipse"
      ]
    },
    {
      "cell_type": "code",
      "execution_count": 392,
      "metadata": {},
      "outputs": [
        {
          "data": {
            "image/png": "[encoded data removed]",
            "text/plain": [
              "<Figure size 640x480 with 1 Axes>"
            ]
          },
          "metadata": {},
          "output_type": "display_data"
        }
      ],
      "source": [
        "eval_ellipse = lambda beta_0, beta_1: ellipse.subs([(beta_0_sym, beta_0), (beta_1_sym, beta_1)])\n",
        "b0 = np.linspace(beta_hat[0] - 5, beta_hat[0] + 5, 71)\n",
        "b1 = np.linspace(beta_hat[1] - 3, beta_hat[1] + 3, 51)\n",
        "plt.xlabel(\"$\\\\beta_0$\")\n",
        "plt.ylabel(\"$\\\\beta_1$\")\n",
        "plt.contour(b0, b1, [[eval_ellipse(x, y) for x in b0] for y in b1], levels=[1])\n",
        "plt.show()"
      ]
    },
    {
      "cell_type": "markdown",
      "metadata": {},
      "source": [
        "Чтобы найти полуоси эллипса, применим такой поворот к координатам, что коэффициент перед произведением двух компонент будет равен нулю.\n",
        "\n",
        "Для угла $\\theta$ такого поворота верно $\\ctg(2\\theta) = \\frac{A-C}{B}$, где A, C - коэффициенты перед квадратами, B - перед произведением коэффициентов."
      ]
    },
    {
      "cell_type": "code",
      "execution_count": 393,
      "metadata": {},
      "outputs": [
        {
          "data": {
            "text/plain": [
              "-0.3395026543492719"
            ]
          },
          "execution_count": 393,
          "metadata": {},
          "output_type": "execute_result"
        }
      ],
      "source": [
        "A = 0.152298340203628\n",
        "B = 0.56045789194935\n",
        "C = 0.846778771532171\n",
        "theta = np.arctan(B / (A - C)) / 2\n",
        "theta"
      ]
    },
    {
      "cell_type": "code",
      "execution_count": 394,
      "metadata": {},
      "outputs": [
        {
          "data": {
            "text/latex": [
              "$\\displaystyle 0.0533278102144052 x^{2} + 3.33066907387547 \\cdot 10^{-16} x y - 1.32779661748813 x + 0.945749301521393 y^{2} - 7.88965258697961 y + 24.7194364333147$"
            ],
            "text/plain": [
              "0.0533278102144052*x**2 + 3.33066907387547e-16*x*y - 1.32779661748813*x + 0.945749301521393*y**2 - 7.88965258697961*y + 24.7194364333147"
            ]
          },
          "execution_count": 394,
          "metadata": {},
          "output_type": "execute_result"
        }
      ],
      "source": [
        "rot_matrix = lambda theta: np.array([ [np.cos(theta), -np.sin(theta)], [np.sin(theta), np.cos(theta)] ])\n",
        "x,y = sympy.symbols('x y')\n",
        "xy = sympy.Matrix([\n",
        "    [x],\n",
        "    [y]\n",
        "])\n",
        "rotated_ellipse = sympy.simplify( eval_ellipse(*(rot_matrix(theta) @ xy)) )\n",
        "rotated_ellipse"
      ]
    },
    {
      "cell_type": "markdown",
      "metadata": {},
      "source": [
        "Можно видеть, что коэффициент при $xy$ равен нулю с точностью до $10^{-16}$"
      ]
    },
    {
      "cell_type": "code",
      "execution_count": 395,
      "metadata": {},
      "outputs": [
        {
          "data": {
            "image/png": "[encoded data removed]",
            "text/plain": [
              "<Figure size 640x480 with 1 Axes>"
            ]
          },
          "metadata": {},
          "output_type": "display_data"
        }
      ],
      "source": [
        "eval_rotated_ellipse = lambda beta_0, beta_1: rotated_ellipse.subs([(sympy.var('x'), beta_0), (sympy.var('y'), beta_1)])\n",
        "xy_hat = rot_matrix(-theta) @ beta_hat\n",
        "b0 = np.linspace(xy_hat[0] - 5, xy_hat[0] + 5, 71)\n",
        "b1 = np.linspace(xy_hat[1] - 3, xy_hat[1] + 3, 51)\n",
        "plt.xlabel(\"$x$\")\n",
        "plt.ylabel(\"$y$\")\n",
        "plt.contour(b0, b1, [[eval_rotated_ellipse(x, y) for x in b0] for y in b1], levels=[1])\n",
        "plt.show()"
      ]
    },
    {
      "cell_type": "markdown",
      "metadata": {},
      "source": [
        "Теперь найдём полуоси. Двигаясь от центра эллипса вверх до момента равенства единице, можно вычислить полуось для $\\beta_1$. Таким же образом для $\\beta_0$, двигаясь влево. "
      ]
    },
    {
      "cell_type": "code",
      "execution_count": 396,
      "metadata": {},
      "outputs": [
        {
          "name": "stdout",
          "output_type": "stream",
          "text": [
            "Полуось по beta_0: 4.330351246520877\n",
            "Полуось по beta_1: 1.0282814120873809\n"
          ]
        }
      ],
      "source": [
        "eval_rotated_ellipse(*xy_hat)\n",
        "\n",
        "def bin_search_boundaries(l, r, dim):\n",
        "    a = [dim == 0, dim == 1]\n",
        "    dim = np.array(a, dtype=float)\n",
        "    while r - l > 1e-9:\n",
        "        mid = (r+l)/2\n",
        "        if eval_rotated_ellipse(*(xy_hat + mid * dim)) > 1:\n",
        "            r = mid\n",
        "        else:\n",
        "            l = mid\n",
        "    return l\n",
        "print(\"Полуось по beta_0:\", bin_search_boundaries(0, 6, 0))\n",
        "print(\"Полуось по beta_1:\", bin_search_boundaries(0, 2, 1))"
      ]
    },
    {
      "cell_type": "markdown",
      "metadata": {},
      "source": [
        "### Задание 4\n",
        "Сформулировать гипотезу независимости переменной Y от переменной X. Провести проверку значимости"
      ]
    },
    {
      "cell_type": "markdown",
      "metadata": {},
      "source": [
        "Основная гипотеза: $H_0: \\beta_1 = 0$\n",
        "\n",
        "Альтернативная гипотеза: $H_1: \\beta_1 \\neq 0$\n",
        "\n",
        "ДНО функция: $\\psi = C^T \\beta $\n",
        "\n",
        "$ C = \\begin{pmatrix}\n",
        "    0 \\\\\n",
        "    1\n",
        "\\end{pmatrix} \\Rightarrow \\psi = 0; \\hat\\psi = \\hat\\beta_1 $\n",
        "\n",
        "$\\mathbb{F} = \\frac{\\hat \\psi^T B^{-1} \\hat \\psi}{qs^2} = \\frac{{\\hat \\beta_1} ^2}{Bqs^2} \\sim F_{q, n-r} $\n",
        "\n",
        "$x_\\alpha = F_{q, n-r}^{-1}(1-\\alpha)$\n",
        "\n"
      ]
    },
    {
      "cell_type": "code",
      "execution_count": 397,
      "metadata": {},
      "outputs": [
        {
          "name": "stdout",
          "output_type": "stream",
          "text": [
            "Гипотеза принимается\n"
          ]
        }
      ],
      "source": [
        "q = 1\n",
        "C = np.array([0.0, 1.0])\n",
        "B = C.T @ XX_T_inv @ C # scalar\n",
        "F = beta_hat[1] ** 2 / (B * q * s2)\n",
        "x_a = stats.f(q, n - r).ppf(1 - alpha)\n",
        "\n",
        "print(\"Гипотеза принимается\" if F < x_a else \"Гипотеза отвергается\")"
      ]
    },
    {
      "cell_type": "markdown",
      "metadata": {},
      "source": [
        "### Задание 5\n",
        "Сформулировать модель, включающую дополнительный член с $X^2$. Построить МНК оценки параметров $\\beta_0, \\beta_1, \\beta_2$\n",
        "в данной модели. Изобразить графически полученную регрессионную зависимость"
      ]
    },
    {
      "cell_type": "markdown",
      "metadata": {},
      "source": [
        "$Y = X^\\intercal \\beta + \\epsilon$\n",
        "\n",
        "$ E \\epsilon = 0 , \\quad Var \\epsilon = \\sigma^2 E $\n",
        "\n",
        "$ E(Y | X) = X^\\intercal \\beta,  \\beta = (\\beta_0, \\beta_1, \\beta_2) $\n",
        "\n",
        "$X_{(3 \\times n)} = \\left(\\begin{matrix}\n",
        "1 & 1 & ... & 1 \\\\\n",
        "x_1 & x_2 & ...  & x_n \\\\\n",
        "x_1^2 & x_2^2 & ...  & x_n^2 \n",
        "\\end{matrix}\\right)$\n",
        "\n",
        "$Y = \\left(\n",
        "\\begin{matrix}\n",
        "    y_1 \\\\\n",
        "    y_2 \\\\\n",
        "    ... \\\\\n",
        "    y_n\n",
        "\\end{matrix}\n",
        "\\right)$\n",
        "\n",
        "\n",
        "МНК оценка $\\beta$ есть решение системы нормальных уравнений: $\\hat{\\beta} = (XX^{\\intercal})^{-1}  XY$"
      ]
    },
    {
      "cell_type": "code",
      "execution_count": 398,
      "metadata": {},
      "outputs": [
        {
          "name": "stdout",
          "output_type": "stream",
          "text": [
            "(3, 3) (3, 50) (50,)\n",
            "beta_0: 13.858\n",
            "beta_1: -1.941\n",
            "beta_2: 0.44\n"
          ]
        }
      ],
      "source": [
        "X = np.array([\n",
        "    [1] * len(X_vals), \n",
        "    [x_i for x_i in X_vals],\n",
        "    [x_i**2 for x_i in X_vals]\n",
        "])\n",
        "Y = Y_vals\n",
        "\n",
        "XX_T_inv = np.linalg.inv(X @ np.transpose(X))\n",
        "print(XX_T_inv.shape, X.shape, Y.shape)\n",
        "beta_hat = XX_T_inv @ X @ Y\n",
        "print(f'beta_0: {round(beta_hat[0], 3)}')\n",
        "print(f'beta_1: {round(beta_hat[1], 3)}')\n",
        "print(f'beta_2: {round(beta_hat[2], 3)}')"
      ]
    },
    {
      "cell_type": "markdown",
      "metadata": {},
      "source": [
        "Построим график получившейся регрессионной зависимости."
      ]
    },
    {
      "cell_type": "code",
      "execution_count": 399,
      "metadata": {},
      "outputs": [
        {
          "data": {
            "image/png": "[encoded data removed]",
            "text/plain": [
              "<Figure size 640x480 with 1 Axes>"
            ]
          },
          "metadata": {},
          "output_type": "display_data"
        }
      ],
      "source": [
        "y_reg = lambda x: beta_hat[0] + x * beta_hat[1] + x**2 * beta_hat[2]\n",
        "plt.plot(np.linspace(-1, 5, 10), y_reg(np.linspace(-1, 5, 10)), c='r')\n",
        "plt.scatter(X_vals, Y_vals)\n",
        "plt.xlabel('X')\n",
        "plt.ylabel('Y')\n",
        "plt.show()"
      ]
    },
    {
      "cell_type": "markdown",
      "metadata": {},
      "source": [
        "### Задание 6\n",
        "Построить несмещјнную оценку дисперсии. Провести исследование нормальности ошибок как в пункте 2"
      ]
    },
    {
      "cell_type": "markdown",
      "metadata": {},
      "source": [
        "Несмещённая оценка дисперсии $s^2 = \\frac{RSS(\\hat{\\beta})}{(n - r)}$, $r = rank(X) = 3, RSS(\\hat\\beta) = \\sum^n_{i=1}(y_i-\\hat{y_i})^2$ "
      ]
    },
    {
      "cell_type": "code",
      "execution_count": 400,
      "metadata": {},
      "outputs": [
        {
          "name": "stdout",
          "output_type": "stream",
          "text": [
            "Несмещённая оценка дисперсии: 51.949308675214276\n"
          ]
        }
      ],
      "source": [
        "def RSS(beta_hat):\n",
        "    return ( (Y_vals - y_reg(X_vals))**2 ).sum()\n",
        "s2 = RSS(beta_hat) / (n-3)\n",
        "err = Y_vals - y_reg(X_vals)\n",
        "print(\"Несмещённая оценка дисперсии:\", s2)"
      ]
    },
    {
      "cell_type": "code",
      "execution_count": 401,
      "metadata": {},
      "outputs": [],
      "source": [
        "def draw_hist(X, intervals, *, rwidth=0.8, align='left'):\n",
        "    counts = [0] * len(intervals)\n",
        "    for x in X:\n",
        "        for i in range(len(intervals)):\n",
        "            if intervals[i][0] < x <= intervals[i][1]:\n",
        "                counts[i] += 1\n",
        "    borders = [intr[0] for intr in intervals]\n",
        "    plt.bar(borders, counts)\n",
        "    plt.xticks(borders, borders)\n",
        "    plt.show()\n",
        "    return counts"
      ]
    },
    {
      "cell_type": "code",
      "execution_count": 402,
      "metadata": {},
      "outputs": [
        {
          "data": {
            "image/png": "[encoded data removed]",
            "text/plain": [
              "<Figure size 640x480 with 1 Axes>"
            ]
          },
          "metadata": {},
          "output_type": "display_data"
        }
      ],
      "source": [
        "intervals = [[-13 + h*i, -13 + h*(i+1)] for i in range(10)]\n",
        "counts = draw_hist(err, intervals)"
      ]
    },
    {
      "cell_type": "code",
      "execution_count": 403,
      "metadata": {},
      "outputs": [
        {
          "name": "stdout",
          "output_type": "stream",
          "text": [
            "Значение критерия: 0\n"
          ]
        }
      ],
      "source": [
        "intervals[0][0] = -10000\n",
        "intervals[-1][1] = 10000\n",
        "from scipy import stats\n",
        "p = [0] * len(intervals)\n",
        "err_distr = stats.norm(loc=err.mean(), scale=err.std())\n",
        "\n",
        "for i in range(len(p)):\n",
        "    p[i] = err_distr.cdf(intervals[i][1]) - err_distr.cdf(intervals[i][0])\n",
        "p = np.array(p)\n",
        "x_sq = ((np.array(counts) - n * p)**2 / (n*p)).sum()\n",
        "x_a = stats.chi(df=len(intervals)-2-1).ppf(1 - alpha)\n",
        "\n",
        "print(\"Значение критерия:\", int(x_sq >= x_a))"
      ]
    },
    {
      "cell_type": "markdown",
      "metadata": {},
      "source": [
        "Критерий равен 0, следовательно, оснований отвергнуть гипотезу нормальности нет.\n",
        "\n",
        "Теперь оценим расстояние полученной оценки до класса нормальных распределений по Колмогорову."
      ]
    },
    {
      "cell_type": "code",
      "execution_count": 404,
      "metadata": {},
      "outputs": [
        {
          "name": "stdout",
          "output_type": "stream",
          "text": [
            "Dn=0.7633585982806016\n",
            "x_alpha=0.16959440647022855\n"
          ]
        }
      ],
      "source": [
        "Xs = np.linspace(min(err)-1, max(err)+2, 1000)\n",
        "\n",
        "Fn = build_Fn(err)\n",
        "F = stats.norm(loc=0, scale=np.sqrt(s2)).cdf\n",
        "\n",
        "Dn = np.sqrt(n) * np.max( [np.abs(Fn(x) - F(x)) for x in Xs] )\n",
        "print(f'{Dn=}')\n",
        "\n",
        "x_alpha = stats.ksone.ppf(1 - alpha, n)\n",
        "print(f'{x_alpha=}')"
      ]
    },
    {
      "cell_type": "code",
      "execution_count": 405,
      "metadata": {},
      "outputs": [
        {
          "data": {
            "image/png": "[encoded data removed]",
            "text/plain": [
              "<Figure size 640x480 with 1 Axes>"
            ]
          },
          "metadata": {},
          "output_type": "display_data"
        }
      ],
      "source": [
        "plt.title('$F_n(x)$ и $F(x)$')\n",
        "plt.plot(Xs, F(Xs), color='green')\n",
        "plt.plot(Xs, [Fn(x) for x in Xs], c='r')\n",
        "\n",
        "plt.show()"
      ]
    },
    {
      "cell_type": "markdown",
      "metadata": {},
      "source": [
        "### Задание 7\n",
        "В предположении нормальности ошибок построить доверительные интервалы для параметров $\\beta_0, \\beta_1, \\beta_2$ уровня\n",
        "доверия $1 - \\alpha$. Написать уравнение доверительного эллипсоида уровня доверия $1 - \\alpha$."
      ]
    },
    {
      "cell_type": "markdown",
      "metadata": {},
      "source": [
        "#### Доверительные интервалы\n",
        "Аналогично пункту 3, имеем доверительный интервал:\n",
        "\n",
        "$ \\left[ \\hat \\psi - x_{\\alpha}s\\sqrt{b}; \\hat \\psi + x_{\\alpha}s\\sqrt{b} \\right] $ - доверительный интервал для $\\psi$"
      ]
    },
    {
      "cell_type": "code",
      "execution_count": 406,
      "metadata": {},
      "outputs": [
        {
          "name": "stdout",
          "output_type": "stream",
          "text": [
            "[6.8618; 20.8543] - Доверительный интервал для beta_0\n",
            "[-10.9478; 7.0666] - Доверительный интервал для beta_1\n",
            "[-1.7632; 2.6441] - Доверительный интервал для beta_2\n"
          ]
        }
      ],
      "source": [
        "print_interval(build_trust_interval([1, 0, 0], beta_hat[0], XX_T_inv), \"Доверительный интервал для beta_0\")\n",
        "print_interval(build_trust_interval([0, 1, 0], beta_hat[1], XX_T_inv), \"Доверительный интервал для beta_1\")\n",
        "print_interval(build_trust_interval([0, 0, 1], beta_hat[2], XX_T_inv), \"Доверительный интервал для beta_2\")"
      ]
    },
    {
      "cell_type": "markdown",
      "metadata": {},
      "source": [
        "#### Доверительный эллипс\n",
        "Доверительный эллипс уровня доверия $1-\\alpha$ задаётся неравенством\n",
        "\n",
        "$ \\frac {(\\psi - \\hat\\psi)^\\intercal B^{-1}(\\psi - \\hat\\psi)} {q s^2 x_\\alpha} \\le 1$, где $B = C^T (XX^T)^{-1}C$"
      ]
    },
    {
      "cell_type": "code",
      "execution_count": 407,
      "metadata": {},
      "outputs": [
        {
          "data": {
            "text/latex": [
              "$\\displaystyle 0.114484264756442 \\beta_{0}^{2} + 0.421302094303709 \\beta_{0} \\beta_{1} + 1.27306502409164 \\beta_{0} \\beta_{2} - 2.91618898558199 \\beta_{0} + 0.63653251204582 \\beta_{1}^{2} + 4.29544961366172 \\beta_{1} \\beta_{2} - 5.25981926626408 \\beta_{1} + 7.69792196222319 \\beta_{2}^{2} - 16.087466264693 \\beta_{2} + 18.6455379198535$"
            ],
            "text/plain": [
              "0.114484264756442*beta_0**2 + 0.421302094303709*beta_0*beta_1 + 1.27306502409164*beta_0*beta_2 - 2.91618898558199*beta_0 + 0.63653251204582*beta_1**2 + 4.29544961366172*beta_1*beta_2 - 5.25981926626408*beta_1 + 7.69792196222319*beta_2**2 - 16.087466264693*beta_2 + 18.6455379198535"
            ]
          },
          "execution_count": 407,
          "metadata": {},
          "output_type": "execute_result"
        }
      ],
      "source": [
        "import sympy\n",
        "\n",
        "q = 3\n",
        "r = 3\n",
        "\n",
        "C = np.array([\n",
        "    [1, 0, 0],\n",
        "    [0, 1, 0],\n",
        "    [0, 0, 1]\n",
        "])\n",
        "beta_0_sym = sympy.var('beta_0')\n",
        "beta_1_sym = sympy.var('beta_1')\n",
        "beta_2_sym = sympy.var('beta_2')\n",
        "beta = sympy.Matrix([\n",
        "    [beta_0_sym],\n",
        "    [beta_1_sym],\n",
        "    [beta_2_sym]\n",
        "])\n",
        "B = sympy.Matrix( C.T @ XX_T_inv @ C )\n",
        "psi = C.dot(beta)\n",
        "psi_hat = [\n",
        "    [beta_hat[0]],\n",
        "    [beta_hat[1]],\n",
        "    [beta_hat[2]]\n",
        "]\n",
        "\n",
        "x_a = stats.f(q, n - r).ppf(1 - alpha)\n",
        "\n",
        "ellipsoid = sympy.simplify( ( (psi - psi_hat).T.dot(B.inv()).dot((psi - psi_hat)) / (q * s2 * x_a) )[0][0] )\n",
        "ellipsoid"
      ]
    },
    {
      "cell_type": "markdown",
      "metadata": {},
      "source": [
        "### Задание 8\n",
        "Сформулировать гипотезу линейной регрессионной зависимости переменной Y от переменной X и проверить её значимость на уровне $\\alpha$"
      ]
    },
    {
      "cell_type": "markdown",
      "metadata": {},
      "source": [
        "$C = \\begin{pmatrix}\n",
        "    0 & 1 & 0 \\\\\n",
        "    0 & 0 & 1 \n",
        "\\end{pmatrix}^\\intercal$\n",
        "\n",
        "Основная гипотеза: $H_0 : С^\\intercal\\beta = 0$\n",
        "\n",
        "Альтернативная гипотеза: $H_1 : C^\\intercal\\beta \\neq 0$\n",
        "\n",
        "ДНО функция $\\psi = C^T \\beta = 0$\n",
        "\n",
        "$\\hat\\psi = \\begin{pmatrix}\n",
        "    \\hat\\beta_1 \\\\\n",
        "    \\hat\\beta_2 \n",
        "\\end{pmatrix}$\n",
        "\n",
        "$\\mathcal{F} = \\frac{\\hat \\psi^T B^{-1} \\hat \\psi}{qs^2} \\sim F_{q, n-r}$"
      ]
    },
    {
      "cell_type": "code",
      "execution_count": 408,
      "metadata": {},
      "outputs": [
        {
          "name": "stdout",
          "output_type": "stream",
          "text": [
            "Гипотеза принимается\n"
          ]
        }
      ],
      "source": [
        "q = 1\n",
        "C = np.array([\n",
        "    [0.0, 1.0, 0.0],\n",
        "    [0.0, 0.0, 1.0]\n",
        "]).T\n",
        "\n",
        "B = C.T @ XX_T_inv @ C # scalar\n",
        "psi_hat = np.array([beta_hat[1], beta_hat[2]]).reshape(-1, 1)\n",
        "\n",
        "F = psi_hat.T @ np.linalg.inv(B) @ psi_hat / (q * s2)\n",
        "x_a = stats.f(q, n - r).ppf(1 - alpha)\n",
        "\n",
        "print(\"Гипотеза принимается\" if F < x_a else \"Гипотеза отвергается\")"
      ]
    },
    {
      "cell_type": "markdown",
      "metadata": {},
      "source": [
        "## Выводы\n",
        "\n",
        "В ходе данной лабораторной работы с использованием метода наименьших квадратов была получена оценка параметров. \n",
        "Была проверена гипотеза независимости Y от переменной X.\n",
        "Для параметров построены доверительные интервалы с уровнем доверия $1-\\alpha$, а также доверительные эллипсоиды. \n",
        "Был введён дополнительный параметр регрессии, с учётом которого была проделана вся та же работа."
      ]
    }
  ],
  "metadata": {
    "colab": {
      "provenance": []
    },
    "kernelspec": {
      "display_name": "python",
      "name": "python3"
    },
    "language_info": {
      "codemirror_mode": {
        "name": "ipython",
        "version": 3
      },
      "file_extension": ".py",
      "mimetype": "text/x-python",
      "name": "python",
      "nbconvert_exporter": "python",
      "pygments_lexer": "ipython3",
      "version": "3.10.7"
    }
  },
  "nbformat": 4,
  "nbformat_minor": 0
}
