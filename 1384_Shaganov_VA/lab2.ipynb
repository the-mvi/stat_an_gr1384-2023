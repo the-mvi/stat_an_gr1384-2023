{
 "cells": [
  {
   "cell_type": "markdown",
   "metadata": {},
   "source": [
    "# Лабораторная работа №2: Классические методы математической статистики\n",
    "\n",
    "---\n",
    "\n",
    "\n",
    "Выполнил студент гр. 1384 Шаганов Вячеслав. Вариант №21"
   ]
  },
  {
   "cell_type": "markdown",
   "metadata": {},
   "source": [
    "## Цель работы\n",
    "\n",
    "Научится применять методы математической статистики для визуализации и анализа полученных данных; сформировать навыки реализации методов с помощью прикладных программных пакетов."
   ]
  },
  {
   "cell_type": "markdown",
   "metadata": {},
   "source": [
    "## Постановка задачи\n",
    "\n",
    "Для полученных в результате эксперимента наборов данных выполнить статистическую обработку. Полученные результаты содержательно проинтерпретировать."
   ]
  },
  {
   "cell_type": "markdown",
   "metadata": {},
   "source": [
    "## Основные теоретические положения\n",
    "\n",
    "#### Выборочные числовые характеристики:\n",
    "\n",
    "- Мат.ожидание $\\overline{X}=\\frac{1}{n}\\sum_{i=1}^{n}X_i$\n",
    "- Дисперсия $S^{2}=\\frac{1}{n}\\sum_{i=1}^{n}\\left( X_i-\\overline{X} \\right)^{2}=\\overline{X^{2}}-\\overline{X}^{2}$\n",
    "- Коэф. асимметрии $\\widehat{Skew}X=\\frac{\\left(\\frac{1}{n}\\sum_{i=1}^{n}\\left( X_i-\\overline{X} \\right)^{3} \\right)}{S^{3}}$\n",
    "- Коэф. эксцесса $\\widehat{Kurt}X=\\frac{\\frac{1}{n}\\sum_{i=1}^{n}\\left( X_i-\\overline{X}^{4} \\right)}{S^{4}}-3$\n",
    "\n",
    "#### Асимптотический доверительный интервал\n",
    "\n",
    "- На базе Асимптотической нормальности оценки $\\widehat{\\theta}$\n",
    "\n",
    "  - Асимптотическая нормальность $\\sqrt{n}\\left( \\widehat{\\theta}-\\theta \\right) \\sim \\mathcal{N}\\left(0,\\sigma^{2}(\\theta)\\right)$\n",
    "  - Тогда $\\sqrt{n}\\frac{\\widehat{\\theta}-\\theta}{\\sigma\\left(\\widehat{\\theta}\\right)} \\sim \\mathcal{N}\\left(0, 1\\right)$   \n",
    "  - Выбираем $x_{\\alpha}: \\Phi(x_{\\alpha})=1-\\frac{\\alpha}{2}$\n",
    "  - Асимптотический доверительный интервал  $\\left[ \\widehat{\\theta}-\\frac{x_{\\alpha} \\sigma\\left( \\widehat{\\theta} \\right)}{\\sqrt{n}}; \\widehat{\\theta}+\\frac{x_{\\alpha} \\sigma\\left( \\widehat{\\theta} \\right)}{\\sqrt{n}}\\right]$\n",
    "\n",
    "- На базе ОМП. Пусть $\\widehat{\\theta}$-ОМ\n",
    "\n",
    "  - При выполнении условий регулярности: $\\sqrt{n}\\left( \\widehat{\\theta}-\\theta)\\right)\\sim \\mathcal{N}\\left(0,\\frac{1}{I(\\theta)}\\right), I(\\theta)=-\\mathbb{E}  \\frac{\\partial^{2} LL}{\\partial \\theta^{2}}$ - информация Фишера\n",
    "  - Тогда $\\sqrt{n I\\left( \\widehat{\\theta} \\right)} \\left( \\widehat{\\theta}-\\theta \\right)\\sim \\mathcal{N}(0,1)$\n",
    "  - Выбираем $x_{\\alpha}: \\Phi(x_{\\alpha})=1-\\frac{\\alpha}{2}$\n",
    "  - Асимптотический доверительный интервал  $\\left[ \\widehat{\\theta}-\\frac{x_{\\alpha}}{\\sqrt{n I\\left( \\widehat{\\theta} \\right)}};\\widehat{\\theta}+\\frac{x_{\\alpha}}{\\sqrt{n I\\left( \\widehat{\\theta} \\right)}} \\right]$\n",
    "\n",
    "#### Критерий $\\chi^2$ для проверки гипотез\n",
    "\n",
    "- Разобъем множество значений случайной величины X на $N$ интервалов $I_{1}, ..., I_n$\n",
    "- Обозначим через $p_i$ теоретическую вероятность попадания случайной величины X в интервал $I_i$, при условии, что справедлива $H_{0}$\n",
    "- $p_i = P(x \\in I_i | H_{0})$\n",
    "- Через $\\nu_i$ обозначим число наблюдений нашей выборки, попавших в соответветствующий интервал $I_i$\n",
    "- $\\nu_i = \\# \\{x_{j} \\in I_i\\}$\n",
    "- $X^{2} = \\sum \\limits_{i=1}^{N} \\frac{(\\nu_i - p_i n)^{2}}{n p_i} \\sim \\chi^{2}_{N-1}$\n",
    "\n",
    "#### Теорема Колмогоров\n",
    "\n",
    "- $D_n = \\overset{}{\\underset{X \\in \\mathbb R}{sup}} |F_{0}(X_i) - F_n(X_i)|$\n",
    "- $P(\\sqrt{n} D_n < z) \\xrightarrow[n \\rightarrow \\infty]{} K(z)$, где $K(z)$ - ф-я распределения Колмогорова\n",
    "\n",
    "#### Наиболее мощный критерий простой гипотезы\n",
    "\n",
    "- Для основной гипотезы $H_{0}: \\theta=\\theta_{0}$ и альтернативной гипотезы $H_{1}: \\theta=\\theta_{1}$, определим $LR(\\overrightarrow{X},\\theta_{1},\\theta_{0})=\\frac{L(\\overrightarrow{X},\\theta_{1})}{L(\\overrightarrow{X},\\theta_{0})} $\n",
    "\n",
    "- Наиболее мощный критерий\n",
    "\n",
    "  - $\\phi(\\overrightarrow X) = \\begin{cases}\n",
    "  0, LR(\\overrightarrow{X},\\theta_{1},\\theta_{0}) < C \\\\\n",
    "  p, LR(\\overrightarrow{X},\\theta_{1},\\theta_{0}) = C \\\\\n",
    "  1, LR(\\overrightarrow{X},\\theta_{1},\\theta_{0}) > C\n",
    "\\end{cases} $\n"
   ]
  },
  {
   "cell_type": "markdown",
   "metadata": {},
   "source": [
    "## Выполнение работы"
   ]
  },
  {
   "cell_type": "code",
   "execution_count": 2,
   "metadata": {},
   "outputs": [],
   "source": [
    "import numpy as np\n",
    "import matplotlib.pyplot as plt\n",
    "import scipy.stats as чё\n",
    "import scipy.special as чё_специально"
   ]
  },
  {
   "cell_type": "markdown",
   "metadata": {},
   "source": [
    "### Задание 1\n",
    "\n",
    "Таблица 1 $\\alpha_1 = 0.01; a = 0.00; b = 0.67; \\lambda_0 = 1.50; \\lambda_1 = 0.50.$\n",
    "\n",
    "1 0 0 5 3 0 0 0 1 2 1 0 0 0 1 0 0 1 0 0 0 1 0 1 0 0 0 0 0 1 0 0 1 4 0 0 0 0 0 0 1 0 0 0 0 0 0\n",
    "1 0 0\n"
   ]
  },
  {
   "cell_type": "code",
   "execution_count": 3,
   "metadata": {},
   "outputs": [],
   "source": [
    "a_1 = 0.01\n",
    "a = 0.00\n",
    "b = 0.67\n",
    "lmbd_0 = 1.5\n",
    "lmbd_1 = 0.5\n",
    "\n",
    "X = '1 0 0 5 3 0 0 0 1 2 1 0 0 0 1 0 0 1 0 0 0 1 0 1 0 0 0 0 0 1 0 0 1 4 0 0 0 0 0 0 1 0 0 0 0 0 0 1 0 0'.split()\n",
    "X = [int(x) for x in X]\n",
    "\n",
    "n = len(X)"
   ]
  },
  {
   "cell_type": "markdown",
   "metadata": {},
   "source": [
    "#### Пункт a) \n",
    "Построить вариационный ряд, эмпирическую функцию распределения и гистограмму частот"
   ]
  },
  {
   "cell_type": "markdown",
   "metadata": {},
   "source": [
    "Построим вариационный ряд"
   ]
  },
  {
   "cell_type": "code",
   "execution_count": 4,
   "metadata": {},
   "outputs": [
    {
     "name": "stdout",
     "output_type": "stream",
     "text": [
      "[0, 0, 0, 0, 0, 0, 0, 0, 0, 0, 0, 0, 0, 0, 0, 0, 0, 0, 0, 0, 0, 0, 0, 0, 0, 0, 0, 0, 0, 0, 0, 0, 0, 0, 0, 1, 1, 1, 1, 1, 1, 1, 1, 1, 1, 1, 2, 3, 4, 5]\n"
     ]
    }
   ],
   "source": [
    "X_var = sorted(X)\n",
    "print(X_var)"
   ]
  },
  {
   "cell_type": "markdown",
   "metadata": {},
   "source": [
    "Построим вариационную функцию распределения"
   ]
  },
  {
   "cell_type": "code",
   "execution_count": 5,
   "metadata": {},
   "outputs": [
    {
     "data": {
      "image/png": "[encoded data removed]",
      "text/plain": [
       "<Figure size 640x480 with 1 Axes>"
      ]
     },
     "metadata": {},
     "output_type": "display_data"
    }
   ],
   "source": [
    "def build_F_selective(X_var):\n",
    "    vals = set(X_var)\n",
    "    def F(x):\n",
    "        cnt = 0\n",
    "        for val in vals:\n",
    "            if x > val:\n",
    "                cnt += X_var.count(val)\n",
    "            \n",
    "        return cnt / len(X_var)\n",
    "    return F\n",
    "def draw_F_selective(F, X_vals, *, marker_size=12, plus_width=1):\n",
    "    X_vals = sorted(X_vals)\n",
    "    X_vals.insert(0, X_vals[0]-plus_width)\n",
    "    X_vals.append(X_vals[-1]+plus_width)\n",
    "    Fs = [F(x) for x in X_vals]\n",
    "\n",
    "    for i in range(1,len(Fs)):\n",
    "        plt.plot([X_vals[i-1], X_vals[i]], [Fs[i], Fs[i]],c='b', zorder=-1)\n",
    "        if i != len(Fs)-1:\n",
    "            plt.scatter(X_vals[i], Fs[i], c='b', s=marker_size)\n",
    "        if i != 1:\n",
    "            plt.scatter(X_vals[i-1], Fs[i], s=marker_size, c='white', edgecolors='blue', linewidths=1)\n",
    "    plt.show()\n",
    "\n",
    "draw_F_selective(build_F_selective(X_var), list(set(X_var)))"
   ]
  },
  {
   "cell_type": "markdown",
   "metadata": {},
   "source": [
    "И гистограмму"
   ]
  },
  {
   "cell_type": "code",
   "execution_count": 6,
   "metadata": {},
   "outputs": [
    {
     "data": {
      "image/png": "[encoded data removed]",
      "text/plain": [
       "<Figure size 640x480 with 1 Axes>"
      ]
     },
     "metadata": {},
     "output_type": "display_data"
    }
   ],
   "source": [
    "def draw_hist(X, step=None, *, rwidth=0.8, align='left'):\n",
    "    if step is None:\n",
    "        bins = len(set(X))\n",
    "        labels = sorted(set(X))\n",
    "    else:\n",
    "        bins = int(np.ceil((max(X)-min(X)) / step))\n",
    "        labels = [round(min(X) + step*i,3) for i in range(bins)]\n",
    "\n",
    "    cnts, mids, _ = plt.hist(X, bins, align=align, rwidth=rwidth)\n",
    "    \n",
    "    plt.xticks(mids[:-1], labels)\n",
    "    plt.show()\n",
    "draw_hist(X)"
   ]
  },
  {
   "cell_type": "markdown",
   "metadata": {},
   "source": [
    "#### Пункт b) \n",
    "Вычислить выборочные аналоги следующих числовых характеристик: \n",
    "(i) математического ожидания; (ii) дисперсии; (iii) СКО; (iv) медианы; (v) асимметрии;\n",
    "(vi) эксцесса; (vii) вероятности P(X $\\in$ [a, b])."
   ]
  },
  {
   "cell_type": "code",
   "execution_count": 7,
   "metadata": {},
   "outputs": [],
   "source": [
    "X = np.array(X, dtype=float)"
   ]
  },
  {
   "cell_type": "code",
   "execution_count": 8,
   "metadata": {},
   "outputs": [],
   "source": [
    "def statistics(X):\n",
    "    mean = X.mean()\n",
    "    s2 = ((X-mean)**2).mean()\n",
    "    s = np.sqrt(s2)\n",
    "    return {\n",
    "        'mean': mean,\n",
    "        's2': s2,\n",
    "        's': s,\n",
    "        'skew': ((X-mean)**3).mean() / s**3,\n",
    "        'kurt': ((X-mean)**4).mean() / s2**2 - 3\n",
    "    }"
   ]
  },
  {
   "cell_type": "code",
   "execution_count": 9,
   "metadata": {},
   "outputs": [
    {
     "data": {
      "text/plain": [
       "{'mean': 0.5,\n",
       " 's2': 1.05,\n",
       " 's': 1.02469507659596,\n",
       " 'skew': 2.7882859227100942,\n",
       " 'kurt': 8.013605442176871}"
      ]
     },
     "execution_count": 9,
     "metadata": {},
     "output_type": "execute_result"
    }
   ],
   "source": [
    "statistics(X)"
   ]
  },
  {
   "cell_type": "code",
   "execution_count": 10,
   "metadata": {},
   "outputs": [
    {
     "data": {
      "text/plain": [
       "1.0"
      ]
     },
     "execution_count": 10,
     "metadata": {},
     "output_type": "execute_result"
    }
   ],
   "source": [
    "def P_discrete(a,b, F):\n",
    "    if round(b) == b:\n",
    "        b += 0.01\n",
    "    return F(b) - F(a)\n",
    "P_discrete(0, 5, build_F_selective(X_var))"
   ]
  },
  {
   "cell_type": "markdown",
   "metadata": {},
   "source": [
    "#### Пункт c)\n",
    "В предположении, что исходные наблюдения являются выборкой из распределения Пуассона, построить оценку\n",
    "максимального правдоподобия параметра $\\lambda$, а также оценку $\\lambda$ по методу моментов. Найти смещение оценок"
   ]
  },
  {
   "cell_type": "markdown",
   "metadata": {},
   "source": [
    "Найдём ОМП.\n",
    "\n",
    "$q(x) = \\frac{\\exp(-\\lambda)\\lambda^x}{x!}$\n",
    "\n",
    "$L(X, \\lambda) = \\prod_{i=1}^{n}{q(x_i)} = \\exp(-n\\lambda) \\lambda^{\\sum_{i=1}^n{x_i}} \\prod_{i=1}^{n}{(x_i!)^{-1}}$\n",
    "\n",
    "$LL(X, \\lambda) = -n\\lambda + \\sum_{i=1}^n{x_i} \\ln\\lambda + \\ln(\\prod_{i=1}^{n}{(x_i!)^{-1}}) $\n",
    "\n",
    "Дифференцируя по $\\lambda$ и приравнивая к нулю, получаем:\n",
    "\n",
    "$-n + \\frac{\\sum_{i=1}^n{x_i}}{\\lambda} = 0$\n",
    "\n",
    "Откуда $\\lambda = \\bar{x}$"
   ]
  },
  {
   "cell_type": "markdown",
   "metadata": {},
   "source": [
    "Теперь найдём ОММ.\n",
    "\n",
    "$\\mu_1 = \\mathbb{E}{x_1} = \\lambda $\n",
    "\n",
    "$\\hat{\\mu_1} = \\bar{x}$\n",
    "\n",
    "Откуда $\\lambda = \\bar{x}$"
   ]
  },
  {
   "cell_type": "markdown",
   "metadata": {},
   "source": [
    "Оценки совпадают. Смещение нулевое, так как $\\mathbb{E}{\\overline{x}} = \\frac{1}{n}\\sum_{i=1}^n\\mathbb{E}{x_1}=\\lambda$"
   ]
  },
  {
   "cell_type": "markdown",
   "metadata": {},
   "source": [
    "#### Пункт d)\n",
    "Построить асимптотический доверительный интервал уровня значимости $\\alpha_1$ для параметра $\\lambda$ на базе оценки\n",
    "максимального правдоподобия"
   ]
  },
  {
   "cell_type": "markdown",
   "metadata": {},
   "source": [
    "Случайная величина $\\sqrt{n} \\frac{\\bar{x}-\\lambda}{s}$ будет сходится по распределению к нормальной стандартной с.в.\n",
    "\n",
    "Пусть $x_{\\alpha_1} = \\Phi^{-1}(1 - \\frac{\\alpha_1}{2})$\n",
    "\n",
    "$1-\\alpha_1 = \\Phi(x_{\\alpha_1}) - \\Phi(-x_{\\alpha_1}) \\\\ \\approx \\mathbb{P}(-x_{\\alpha_1}  \\leqslant \\sqrt{n} \\frac{\\bar{x}-\\lambda}{s}  \\leqslant x_{\\alpha_1}) \\\\ = \\mathbb{P}(-\\frac{s \\cdot x_{\\alpha_1}}{\\sqrt{n}}  \\leqslant \\bar{x}-\\lambda  \\leqslant \\frac{s \\cdot x_{\\alpha_1}}{\\sqrt{n}}) \\\\ = \\mathbb{P}(\\bar{x}-\\frac{s \\cdot x_{\\alpha_1}}{\\sqrt{n}}  \\leqslant \\lambda  \\leqslant \\bar{x}+\\frac{s \\cdot x_{\\alpha_1}}{\\sqrt{n}})$\n",
    "\n",
    "Тогда асимптотический доверительный интервал для $\\lambda$ будет выглядеть как $\\left[\\bar{x}-\\frac{s \\cdot x_{\\alpha_1}}{\\sqrt{n}}; \\bar{x}+\\frac{s \\cdot x_{\\alpha_1}}{\\sqrt{n}}\\right]$"
   ]
  },
  {
   "cell_type": "code",
   "execution_count": 11,
   "metadata": {},
   "outputs": [
    {
     "name": "stdout",
     "output_type": "stream",
     "text": [
      "[0.12672687128398125; 0.8732731287160187]\n"
     ]
    }
   ],
   "source": [
    "x_a_1 = чё.norm.ppf(1 - a_1/2)\n",
    "\n",
    "stats = statistics(X)\n",
    "mean = stats['mean']\n",
    "s = stats['s']\n",
    "\n",
    "left = mean - s * x_a_1 / np.sqrt(n)\n",
    "right = mean + s * x_a_1 / np.sqrt(n)\n",
    "\n",
    "print(f'[{left}; {right}]')"
   ]
  },
  {
   "cell_type": "markdown",
   "metadata": {},
   "source": [
    "#### Пункт e)\n",
    "Используя гистограмму частот, построить критерий значимости $\\chi^2$ проверки простой гипотезы согласия\n",
    "с распределением Пуассона с параметром $\\lambda_0$. Проверить гипотезу на уровне значимости $\\alpha_1$. Вычислить\n",
    "наибольшее значение уровня значимости, на котором ещё нет оснований отвергнуть данную гипотезу"
   ]
  },
  {
   "cell_type": "code",
   "execution_count": 12,
   "metadata": {},
   "outputs": [],
   "source": [
    "\n",
    "def build_puas(lmbd):\n",
    "    def fact(x):\n",
    "        if x in [0,1]:\n",
    "            return 1\n",
    "        pr = 1\n",
    "        for i in range(2, x+1):\n",
    "            pr *= i\n",
    "        return pr\n",
    "    def p(x):\n",
    "        return np.exp(-lmbd) * lmbd**x / fact(x)\n",
    "    \n",
    "    return p"
   ]
  },
  {
   "cell_type": "code",
   "execution_count": 13,
   "metadata": {},
   "outputs": [
    {
     "name": "stdout",
     "output_type": "stream",
     "text": [
      "[30.35 15.15  3.8   0.65  0.1   0.  ] [35. 11.  1.  1.  1.  1.]\n"
     ]
    }
   ],
   "source": [
    "puas = чё.poisson(lmbd_1) #build_puas(lmbd_0)\n",
    "p = np.array([puas.cdf(i) - puas.cdf(i-1) for i in range(6)]) # 0..5\n",
    "p[-1] = 1 - puas.cdf(4)\n",
    "nu = np.array([(X==i).sum() for i in range(6)], dtype=float)\n",
    "print(n*p.round(3), nu)"
   ]
  },
  {
   "cell_type": "markdown",
   "metadata": {},
   "source": [
    "Теперь зададим значение статистики $x^2$, что должна сходиться по распределению к хи-квадрату с 5 степенями свободы (т.к. всего 6 возможных значений) "
   ]
  },
  {
   "cell_type": "code",
   "execution_count": 14,
   "metadata": {},
   "outputs": [],
   "source": [
    "x_sq = ( ((nu - n*p)**2) / (n*p) ).sum()"
   ]
  },
  {
   "cell_type": "markdown",
   "metadata": {},
   "source": [
    "Определим критерий"
   ]
  },
  {
   "cell_type": "code",
   "execution_count": 15,
   "metadata": {},
   "outputs": [],
   "source": [
    "from scipy.stats.distributions import chi2\n",
    "def build_criteria(alpha, df):\n",
    "    x_a = chi2.ppf(1 - alpha, df=df)\n",
    "    return lambda x_sq: 0 if x_sq <= x_a else 1"
   ]
  },
  {
   "cell_type": "markdown",
   "metadata": {},
   "source": [
    "Теперь вычислим значение критерия для полученной статистики"
   ]
  },
  {
   "cell_type": "code",
   "execution_count": 16,
   "metadata": {},
   "outputs": [
    {
     "data": {
      "text/plain": [
       "1"
      ]
     },
     "execution_count": 16,
     "metadata": {},
     "output_type": "execute_result"
    }
   ],
   "source": [
    "phi = build_criteria(a_1, len(set(X))-1)\n",
    "phi(x_sq)"
   ]
  },
  {
   "cell_type": "markdown",
   "metadata": {},
   "source": [
    "Критерий равен 1, что указывает на то, что стоит отказаться от основной гипотезы."
   ]
  },
  {
   "cell_type": "markdown",
   "metadata": {},
   "source": [
    "Теперь найдём наибольшее значение уровня значимости, на котором ещё нет оснований отвергнуть данную гипотезу, при помощи бинарного поиска (в силу того, что функция распределения хи-квадрата возрастающая функция)."
   ]
  },
  {
   "cell_type": "code",
   "execution_count": 17,
   "metadata": {},
   "outputs": [
    {
     "name": "stdout",
     "output_type": "stream",
     "text": [
      "Максимальное значение уровня занчимости, про котором нет оснований отвергнуть основную гипотезу: 0\n"
     ]
    }
   ],
   "source": [
    "l = 0\n",
    "r = 1\n",
    "eps = 1e-15\n",
    "while r - l > eps:\n",
    "    mid = (r+l)/2\n",
    "    if build_criteria(mid, len(set(X))-1)(x_sq):\n",
    "        r = mid\n",
    "    else:\n",
    "        l = mid\n",
    "\n",
    "print(\"Максимальное значение уровня занчимости, про котором нет оснований отвергнуть основную гипотезу:\",l)\n",
    "     "
   ]
  },
  {
   "cell_type": "markdown",
   "metadata": {},
   "source": [
    "#### Пункт f)\n",
    "Построить критерий значимости $\\chi^2$ проверки сложной гипотезы согласия с распределением Пуассона. Проверить\n",
    "гипотезу на уровне значимости $\\alpha_1$. Вычислить наибольшее значение уровня значимости, на котором ещё нет\n",
    "оснований отвергнуть данную гипотезу."
   ]
  },
  {
   "cell_type": "markdown",
   "metadata": {},
   "source": [
    "ОМП для параметра было найдено ранее - выборочное мат. ожидание."
   ]
  },
  {
   "cell_type": "code",
   "execution_count": 18,
   "metadata": {},
   "outputs": [],
   "source": [
    "k = 1\n",
    "puas = build_puas(mean)\n",
    "p = np.array([puas(i) for i in range(6)])"
   ]
  },
  {
   "cell_type": "code",
   "execution_count": 19,
   "metadata": {},
   "outputs": [],
   "source": [
    "x_sq = ((nu - n*p)**2 / (n*p)).sum()"
   ]
  },
  {
   "cell_type": "code",
   "execution_count": 20,
   "metadata": {},
   "outputs": [
    {
     "data": {
      "text/plain": [
       "1"
      ]
     },
     "execution_count": 20,
     "metadata": {},
     "output_type": "execute_result"
    }
   ],
   "source": [
    "build_criteria(mid, len(set(X))-k-1)(x_sq)"
   ]
  },
  {
   "cell_type": "markdown",
   "metadata": {},
   "source": [
    "Теперь найдём наибольшее значение уровня значимости, на котором ещё нет\n",
    "оснований отвергнуть данную гипотезу.\n",
    "\n",
    "Гипотеза не отвергается при $x^2 \\leqslant \\Kappa_{r-1}^{-1}(1-\\alpha)$, откуда можно получить неравенство на $\\alpha$: $\\alpha \\leqslant 1-\\Kappa_{r-1}(x^2)$\n"
   ]
  },
  {
   "cell_type": "code",
   "execution_count": 21,
   "metadata": {},
   "outputs": [
    {
     "data": {
      "text/plain": [
       "0.0"
      ]
     },
     "execution_count": 21,
     "metadata": {},
     "output_type": "execute_result"
    }
   ],
   "source": [
    "max_a = 1 - chi2.cdf(x_sq, df=len(set(X))-k-1)\n",
    "max_a"
   ]
  },
  {
   "cell_type": "markdown",
   "metadata": {},
   "source": [
    "#### Пункт g)\n",
    "Построить наиболее мощный критерий проверки простой гипотезы пуассоновости с параметром $\\lambda = \\lambda_0$ при\n",
    "альтернативе пуассоновости с параметром $\\lambda = \\lambda_1$. Проверить гипотезу на уровне значимости $\\alpha_1$. Что получится,\n",
    "если поменять местами основную и альтернативную гипотезы?"
   ]
  },
  {
   "cell_type": "markdown",
   "metadata": {},
   "source": [
    "$L(X, \\lambda) = \\exp(-n\\lambda) \\lambda^{\\sum_{i=1}^n{x_i}} \\prod_{i=1}^{n}{(x_i!)^{-1}}$\n",
    "\n",
    "$LR(X, \\lambda_1, \\lambda_0) = \\frac{\\lambda_1^{\\sum_{i=1}^n{x_i}} e^{-\\lambda_1 n}}{\\lambda_0^{\\sum_{i=1}^n{x_i}} e^{-\\lambda_0 n}} = \\left(\\frac{\\lambda_1}{\\lambda_0}\\right)^{\\sum_{i=1}^n{x_i}} e^{(\\lambda_0 - \\lambda_1)n}$\n",
    "\n",
    "$\\left(\\frac{\\lambda_1}{\\lambda_0}\\right)^{\\sum_{i=1}^n{x_i}} e^{(\\lambda_0 - \\lambda_1)n} > x_\\alpha \\Leftrightarrow \\ln\\frac{\\lambda_1}{\\lambda_0}\\sum_{i=1}^n{x_i} + (\\lambda_0 - \\lambda_1)n > \\ln{x_\\alpha} \\Leftrightarrow \\sum_{i=1}^n{x_i} > \\frac{\\ln{x_\\alpha} - (\\lambda_0 - \\lambda_1)n}{\\ln\\frac{\\lambda_1}{\\lambda_0}} = \\frac{(\\lambda_0 - \\lambda_1)n - \\ln{x_\\alpha}}{\\ln\\lambda_0 - \\ln\\lambda_1}$\n",
    "\n",
    "Пусть $B := \\left\\lfloor \\frac{(\\lambda_0 - \\lambda_1)n - \\ln{x_\\alpha}}{\\ln\\lambda_0 - \\ln\\lambda_1} \\right\\rfloor$\n",
    "\n",
    "Случайная величина $\\sum_{i=1}^n{x_i}$ имеет распределение $\\mathcal{Pois}(\\sum_{i=1}^n{\\lambda_i})$, то есть $\\mathcal{Pois}(n\\lambda)$\n",
    "\n",
    "$\\mathbb{P}_{\\lambda_0}\\left(LR(X, \\lambda_1, \\lambda_0) > x_\\alpha \\right) + p \\cdot \\mathbb{P}_{\\lambda_0}\\left(LR(X, \\lambda_1, \\lambda_0) = x_\\alpha \\right) = \\mathbb{P}_{\\lambda_0}\\left( \\sum_{i=1}^n{x_i} > B \\right) + p\\cdot\\mathbb{P}_{\\lambda_0}\\left( \\sum_{i=1}^n{x_i} = B \\right) = \\alpha$\n",
    "\n",
    "$\\mathbb{P}_{\\lambda_0}\\left( \\sum_{i=1}^n{x_i} \\geq B \\right) = 1 - \\mathbb{P}_{\\lambda_0}\\left( \\sum_{i=1}^n{x_i} < B \\right) = 1 - \\sum_{i=0}^{B-1}{ \\frac{(n\\lambda_0)^i exp(-n\\lambda_0)}{i!} }$\n",
    "\n",
    "$1 - \\sum_{i=0}^{B}{ \\frac{(n\\lambda_0)^i exp(-n\\lambda_0)}{i!}} \\leq \\alpha \\leq 1 - \\sum_{i=0}^{B-1}{ \\frac{(n\\lambda_0)^i exp(-n\\lambda_0)}{i!}}$\n",
    "\n",
    "Отсюда можно найти B"
   ]
  },
  {
   "cell_type": "code",
   "execution_count": 22,
   "metadata": {},
   "outputs": [
    {
     "name": "stdout",
     "output_type": "stream",
     "text": [
      "0.008316905096324425 0.011054848664904731 96\n"
     ]
    }
   ],
   "source": [
    "prob = build_puas(n*lmbd_0)\n",
    "\n",
    "for B in range(1, 100):\n",
    "    left = 1\n",
    "    right = 1\n",
    "    for i in range(0, B):\n",
    "        left -= prob(i)\n",
    "        right -= prob(i)\n",
    "    left -= prob(B)\n",
    "    if left <= a_1 <= right:\n",
    "        print(left, right, B)"
   ]
  },
  {
   "cell_type": "markdown",
   "metadata": {},
   "source": [
    "$p$ можно найти по формуле $\\frac{\\alpha - \\mathbb{P}_{\\lambda_0}\\left(LR(X, \\lambda_1, \\lambda_0) > x_\\alpha \\right)}{\\mathbb{P}_{\\lambda_0}\\left(LR(X, \\lambda_1, \\lambda_0) = x_\\alpha \\right)} = \\frac{\\alpha - \\mathbb{P}_{\\lambda_0}\\left( \\sum_{i=1}^n{x_i} > B \\right)}{\\mathbb{P}_{\\lambda_0}\\left(\\sum_{i=1}^n{x_i} = B \\right)}$"
   ]
  },
  {
   "cell_type": "code",
   "execution_count": 23,
   "metadata": {},
   "outputs": [
    {
     "data": {
      "text/plain": [
       "0.6147295813507884"
      ]
     },
     "execution_count": 23,
     "metadata": {},
     "output_type": "execute_result"
    }
   ],
   "source": [
    "B = 96\n",
    "p = (a_1 - (1 - sum([prob(i) for i in range(0, B+1)]))) / prob(B)\n",
    "p"
   ]
  },
  {
   "cell_type": "markdown",
   "metadata": {},
   "source": [
    "Итак, НМ критерий будет выглядеть как \n",
    "\n",
    "$\\phi(x) = \\begin{cases}\n",
    "    0, \\sum_{i=1}^n{x_i} < 96 \\\\\n",
    "    0.6147, \\sum_{i=1}^n{x_i} = 96 \\\\\n",
    "    1, \\sum_{i=1}^n{x_i} > 96 \n",
    "\\end{cases} $"
   ]
  },
  {
   "cell_type": "code",
   "execution_count": 24,
   "metadata": {},
   "outputs": [],
   "source": [
    "def build_most_powerful_criteria(p, B):\n",
    "    def phi(X):\n",
    "        if sum(X) == B: return p\n",
    "        return 1 if sum(X) > B else 0\n",
    "    return phi"
   ]
  },
  {
   "cell_type": "code",
   "execution_count": 25,
   "metadata": {},
   "outputs": [
    {
     "data": {
      "text/plain": [
       "0"
      ]
     },
     "execution_count": 25,
     "metadata": {},
     "output_type": "execute_result"
    }
   ],
   "source": [
    "phi = build_most_powerful_criteria(p, B)\n",
    "phi(X)"
   ]
  },
  {
   "cell_type": "markdown",
   "metadata": {},
   "source": [
    "То есть оснований отвергнуть основную гипотезу нет."
   ]
  },
  {
   "cell_type": "markdown",
   "metadata": {},
   "source": [
    "Если заменить основную и альтернативную гипотезу, получим\n",
    "\n",
    "$B := \\left\\lfloor \\frac{(\\lambda_1 - \\lambda_0)n - \\ln{x_\\alpha}}{\\ln\\lambda_1 - \\ln\\lambda_0} \\right\\rfloor = \\left\\lfloor \\frac{(\\lambda_0 - \\lambda_1)n + \\ln{x_\\alpha}}{\\ln\\lambda_0 - \\ln\\lambda_1} \\right\\rfloor$\n",
    "\n",
    "$1 - \\sum_{i=0}^{B}{ \\frac{(n\\lambda_1)^i exp(-n\\lambda_0)}{i!}} \\leq \\alpha \\leq 1 - \\sum_{i=0}^{B-1}{ \\frac{(n\\lambda_1)^i exp(-n\\lambda_1)}{i!}}$\n"
   ]
  },
  {
   "cell_type": "code",
   "execution_count": 26,
   "metadata": {},
   "outputs": [
    {
     "name": "stdout",
     "output_type": "stream",
     "text": [
      "0.009210611590257316 0.014552335040101358 37\n"
     ]
    }
   ],
   "source": [
    "prob = build_puas(n*lmbd_1)\n",
    "\n",
    "for B in range(1, 100):\n",
    "    left = 1\n",
    "    right = 1\n",
    "    for i in range(0, B):\n",
    "        left -= prob(i)\n",
    "        right -= prob(i)\n",
    "    left -= prob(B)\n",
    "    if left <= a_1 <= right:\n",
    "        print(left, right, B)"
   ]
  },
  {
   "cell_type": "code",
   "execution_count": 27,
   "metadata": {},
   "outputs": [
    {
     "data": {
      "text/plain": [
       "0.14777785056724888"
      ]
     },
     "execution_count": 27,
     "metadata": {},
     "output_type": "execute_result"
    }
   ],
   "source": [
    "B = 37\n",
    "p = (a_1 - (1 - sum([prob(i) for i in range(0, B+1)]))) / prob(B)\n",
    "p"
   ]
  },
  {
   "cell_type": "markdown",
   "metadata": {},
   "source": [
    "Итак, получим \n",
    "\n",
    "$\\phi(x) = \\begin{cases}\n",
    "    0, \\sum_{i=1}^n{x_i} < B \\\\\n",
    "    0.1478, \\sum_{i=1}^n{x_i} = B \\\\\n",
    "    1, \\sum_{i=1}^n{x_i} > B \n",
    "\\end{cases} $"
   ]
  },
  {
   "cell_type": "code",
   "execution_count": 28,
   "metadata": {},
   "outputs": [
    {
     "data": {
      "text/plain": [
       "0"
      ]
     },
     "execution_count": 28,
     "metadata": {},
     "output_type": "execute_result"
    }
   ],
   "source": [
    "phi = build_most_powerful_criteria(p, B)\n",
    "phi(X)"
   ]
  },
  {
   "cell_type": "markdown",
   "metadata": {},
   "source": [
    "То есть оснований отвергнуть альтернативную гипотезу нет."
   ]
  },
  {
   "cell_type": "markdown",
   "metadata": {},
   "source": [
    "---\n",
    "#### Пункт h)\n",
    "В пунктах (c)-(f) заменить семейство распределений Пуассона на семейство геометрических распределений:\n",
    "\n",
    "$\\mathbb{P}_\\lambda(X=k)=\\frac{\\lambda^k}{(\\lambda+1)^{k+1}}, k \\in \\mathbb{Z}_+$"
   ]
  },
  {
   "cell_type": "markdown",
   "metadata": {},
   "source": [
    "##### h.c) \n",
    "Найдём ОМП.\n",
    "\n",
    "$L(X, \\lambda) = \\lambda^{\\sum_{i=1}^n{k_i}} \\cdot (\\lambda + 1)^{-\\sum_{i=1}^n{k_i}-n}$\n",
    "\n",
    "$LL(X, \\lambda) = \\sum_{i=1}^n{k_i} \\ln\\lambda - \\left(\\sum_{i=1}^n{k_i}+n\\right) \\ln(\\lambda+1)$\n",
    "\n",
    "Откуда \n",
    "\n",
    "$\\frac{\\sum_{i=1}^n{k_i}}{\\lambda} - \\frac{\\sum_{i=1}^n{k_i} + n}{\\lambda+1} = 0$\n",
    "\n",
    "$\\frac{1}{\\lambda} = \\frac{1+\\frac{1}{\\overline{k}}}{\\lambda+1}$\n",
    "\n",
    "$\\lambda+1 = \\lambda + \\frac{\\lambda}{\\overline{k}} => \\lambda = \\overline{k}$\n",
    "\n",
    "Найдём ОММ\n",
    "\n",
    "$\\mu_1 = \\mathbb{E}k_1 = \\sum_{i=1}^n{\\lambda\\cdot\\frac{\\lambda^k}{(\\lambda+1)^{k+1}}} = \\lambda\\sum_{i=1}^n{\\frac{\\lambda^k}{(\\lambda+1)^{k+1}}} = \\lambda$\n",
    "\n",
    "$\\hat{\\mu_1} = \\overline{k}$\n",
    "\n",
    "Откуда $\\lambda=\\overline{k}$\n",
    "\n",
    "Смещение нулевое, так как $\\mathbb{E}{\\overline{k}} = \\frac{1}{n}\\sum_{i=1}^n\\mathbb{E}{k_1}=\\lambda$ "
   ]
  },
  {
   "cell_type": "markdown",
   "metadata": {},
   "source": [
    "##### h.d)\n",
    "\n",
    "Случайная величина $\\sqrt{n} \\frac{\\bar{k}-\\lambda}{s}$ будет сходится по распределению к нормальной стандартной с.в.\n",
    "\n",
    "Пусть $k_{\\alpha_1} = \\Phi^{-1}(1 - \\frac{\\alpha_1}{2})$\n",
    "\n",
    "$1-\\alpha_1 = \\Phi(k_{\\alpha_1}) - \\Phi(-k_{\\alpha_1}) \\\\ \\approx \\mathbb{P}(-k_{\\alpha_1}  \\leqslant \\sqrt{n} \\frac{\\bar{x}-\\lambda}{s}  \\leqslant k_{\\alpha_1}) \\\\ = \\mathbb{P}(-\\frac{s \\cdot k_{\\alpha_1}}{\\sqrt{n}}  \\leqslant \\bar{x}-\\lambda  \\leqslant \\frac{s \\cdot k_{\\alpha_1}}{\\sqrt{n}}) \\\\ = \\mathbb{P}(\\bar{x}-\\frac{s \\cdot k_{\\alpha_1}}{\\sqrt{n}}  \\leqslant \\lambda  \\leqslant \\bar{x}+\\frac{s \\cdot k_{\\alpha_1}}{\\sqrt{n}})$\n",
    "\n",
    "Тогда асимптотический доверительный интервал для $\\lambda$ будет выглядеть как $\\left[\\bar{k}-\\frac{s \\cdot k_{\\alpha_1}}{\\sqrt{n}}; \\bar{k}+\\frac{s \\cdot k_{\\alpha_1}}{\\sqrt{n}}\\right]$"
   ]
  },
  {
   "cell_type": "code",
   "execution_count": 29,
   "metadata": {},
   "outputs": [
    {
     "name": "stdout",
     "output_type": "stream",
     "text": [
      "[0.12672687128398125; 0.8732731287160187]\n"
     ]
    }
   ],
   "source": [
    "x_a_1 = чё.norm.ppf(1 - a_1/2)\n",
    "\n",
    "stats = statistics(X)\n",
    "mean = stats['mean']\n",
    "s = stats['s']\n",
    "\n",
    "left = mean - s * x_a_1 / np.sqrt(n)\n",
    "right = mean + s * x_a_1 / np.sqrt(n)\n",
    "\n",
    "print(f'[{left}; {right}]')"
   ]
  },
  {
   "cell_type": "markdown",
   "metadata": {},
   "source": [
    "##### Пункт h.e)"
   ]
  },
  {
   "cell_type": "code",
   "execution_count": 30,
   "metadata": {},
   "outputs": [
    {
     "data": {
      "text/plain": [
       "1"
      ]
     },
     "execution_count": 30,
     "metadata": {},
     "output_type": "execute_result"
    }
   ],
   "source": [
    "def build_geom(lmbd):\n",
    "    return lambda k: lmbd**k / (lmbd+1)**(k+1)\n",
    "\n",
    "geom = build_geom(lmbd_0)\n",
    "p = np.array([geom(i) for i in range(6)]) # 0..5\n",
    "nu = np.array([(X==i).sum() for i in range(6)], dtype=float)\n",
    "\n",
    "x_sq = ((nu - n*p)**2 / (n*p)).sum()\n",
    "phi = build_criteria(a_1, len(set(X))-1)\n",
    "phi(x_sq)"
   ]
  },
  {
   "cell_type": "markdown",
   "metadata": {},
   "source": [
    "Критерий равен 1, что указывает на то, что вероятность отказа от основной гипотезы равна 1.\n",
    "\n",
    "Теперь найдём максимальное значение уровня значимости, при котором ещё нет оснований отвергнуть основную гипотезу."
   ]
  },
  {
   "cell_type": "code",
   "execution_count": 31,
   "metadata": {},
   "outputs": [
    {
     "data": {
      "text/plain": [
       "0.0010512458926761337"
      ]
     },
     "execution_count": 31,
     "metadata": {},
     "output_type": "execute_result"
    }
   ],
   "source": [
    "1 - chi2.cdf(x_sq, len(set(X))-1)"
   ]
  },
  {
   "cell_type": "markdown",
   "metadata": {},
   "source": [
    "##### h.f) \n",
    "Построить критерий значимости $\\chi^2$ проверки сложной гипотезы согласия. Проверить\n",
    "гипотезу на уровне значимости $\\alpha_1$. Вычислить наибольшее значение уровня значимости, на котором ещё нет\n",
    "оснований отвергнуть данную гипотезу."
   ]
  },
  {
   "cell_type": "markdown",
   "metadata": {},
   "source": [
    "ОМП для параметра было найдено ранее - выборочное мат. ожидание."
   ]
  },
  {
   "cell_type": "code",
   "execution_count": 32,
   "metadata": {},
   "outputs": [
    {
     "data": {
      "text/plain": [
       "0"
      ]
     },
     "execution_count": 32,
     "metadata": {},
     "output_type": "execute_result"
    }
   ],
   "source": [
    "k = 1\n",
    "geom = build_geom(mean)\n",
    "p = np.array([geom(i) for i in range(6)])\n",
    "x_sq = ((nu - n*p)**2 / (n*p)).sum()\n",
    "build_criteria(mid, len(set(X))-k-1)(x_sq)"
   ]
  },
  {
   "cell_type": "markdown",
   "metadata": {},
   "source": [
    "Теперь найдём наибольшее значение уровня значимости, на котором ещё нет\n",
    "оснований отвергнуть данную гипотезу.\n",
    "\n",
    "Гипотеза не отвергается при $x^2 \\leqslant \\Kappa_{r-1}^{-1}(1-\\alpha)$, откуда можно получить неравенство на $\\alpha$: $\\alpha \\leqslant 1-\\Kappa_{r-1}(x^2)$"
   ]
  },
  {
   "cell_type": "code",
   "execution_count": 33,
   "metadata": {},
   "outputs": [
    {
     "data": {
      "text/plain": [
       "0.07888214573498298"
      ]
     },
     "execution_count": 33,
     "metadata": {},
     "output_type": "execute_result"
    }
   ],
   "source": [
    "max_a = 1 - chi2.cdf(x_sq, df=len(set(X))-k-1)\n",
    "max_a"
   ]
  },
  {
   "cell_type": "markdown",
   "metadata": {},
   "source": [
    "### Задание 2"
   ]
  },
  {
   "cell_type": "code",
   "execution_count": 34,
   "metadata": {},
   "outputs": [],
   "source": [
    "a_2 = 0.20\n",
    "c = 1.20\n",
    "d = 2.40\n",
    "h = 0.80\n",
    "lmbd_0 = 0.25\n",
    "lmbd_1 = 0.50\n",
    "\n",
    "X = '''6.950 0.860 2.882 0.532 1.559 0.945 0.889 2.158 2.181 2.249 6.160 1.511 1.043 5.621 0.033 1.033 5.197 0.011 0.472 0.733 0.251\n",
    "1.066 3.131 1.421 1.615 1.012 0.210 3.391 0.049 5.410 0.920 1.060 3.010 0.546 3.091 8.724 0.657 4.048 1.504 2.461 0.128 0.671\n",
    "0.446 0.578 0.003 1.682 4.707 6.054 0.212 1.963'''.split()\n",
    "X = [float(x) for x in X]\n",
    "n = len(X)"
   ]
  },
  {
   "cell_type": "markdown",
   "metadata": {},
   "source": [
    "### Пункт a)\n",
    "Построить вариационный ряд, эмпирическую функцию распределения, гистограмму и полигон частот с шагом h. "
   ]
  },
  {
   "cell_type": "code",
   "execution_count": 35,
   "metadata": {},
   "outputs": [
    {
     "name": "stdout",
     "output_type": "stream",
     "text": [
      "[0.003, 0.011, 0.033, 0.049, 0.128, 0.21, 0.212, 0.251, 0.446, 0.472, 0.532, 0.546, 0.578, 0.657, 0.671, 0.733, 0.86, 0.889, 0.92, 0.945, 1.012, 1.033, 1.043, 1.06, 1.066, 1.421, 1.504, 1.511, 1.559, 1.615, 1.682, 1.963, 2.158, 2.181, 2.249, 2.461, 2.882, 3.01, 3.091, 3.131, 3.391, 4.048, 4.707, 5.197, 5.41, 5.621, 6.054, 6.16, 6.95, 8.724]\n"
     ]
    }
   ],
   "source": [
    "X_var = sorted(X)\n",
    "print(X_var)"
   ]
  },
  {
   "cell_type": "code",
   "execution_count": 36,
   "metadata": {},
   "outputs": [
    {
     "data": {
      "image/png": "[encoded data removed]",
      "text/plain": [
       "<Figure size 640x480 with 1 Axes>"
      ]
     },
     "metadata": {},
     "output_type": "display_data"
    }
   ],
   "source": [
    "F_sel = build_F_selective(X_var)\n",
    "draw_F_selective(F_sel, set(X_var), marker_size=4)"
   ]
  },
  {
   "cell_type": "code",
   "execution_count": 37,
   "metadata": {},
   "outputs": [
    {
     "data": {
      "image/png": "[encoded data removed]",
      "text/plain": [
       "<Figure size 640x480 with 1 Axes>"
      ]
     },
     "metadata": {},
     "output_type": "display_data"
    }
   ],
   "source": [
    "draw_hist(X, h, rwidth=0.97, align='mid')"
   ]
  },
  {
   "cell_type": "markdown",
   "metadata": {},
   "source": [
    "Нарисуем полигон"
   ]
  },
  {
   "cell_type": "code",
   "execution_count": 38,
   "metadata": {},
   "outputs": [
    {
     "data": {
      "image/png": "[encoded data removed]",
      "text/plain": [
       "<Figure size 640x480 with 1 Axes>"
      ]
     },
     "metadata": {},
     "output_type": "display_data"
    }
   ],
   "source": [
    "def draw_polygon(X, step):\n",
    "    bins = int(np.ceil((max(X)-min(X)) / step))\n",
    "    labels = [round(min(X) + step*i,3) for i in range(bins)]\n",
    "\n",
    "    cnts, mids, _ = plt.hist(X, bins, align='mid', rwidth=0.97)\n",
    "    \n",
    "    plt.xticks(mids[:-1], labels)\n",
    "    plt.plot([mids[0], mids[0]+step/2], [cnts[0], cnts[0]], c='r')\n",
    "    for i in range(len(cnts)-1):\n",
    "        plt.plot([mids[i]+step/2, mids[i+1]+step/2], [cnts[i], cnts[i+1]], c='r')\n",
    "    plt.plot([mids[-1]-step/2, mids[-1]], [cnts[-1], cnts[-1]], c='r')\n",
    "    plt.show()\n",
    "draw_polygon(X, h)"
   ]
  },
  {
   "cell_type": "markdown",
   "metadata": {},
   "source": [
    "#### Пункт b)\n",
    "Вычислить выборочный аналоги числовых характеристик (см. 1.b) "
   ]
  },
  {
   "cell_type": "code",
   "execution_count": 39,
   "metadata": {},
   "outputs": [
    {
     "data": {
      "text/plain": [
       "{'mean': 2.0608,\n",
       " 's2': 4.2349954,\n",
       " 's': 2.0579104450874435,\n",
       " 'skew': 1.3609086231265537,\n",
       " 'kurt': 1.1298149107268518}"
      ]
     },
     "execution_count": 39,
     "metadata": {},
     "output_type": "execute_result"
    }
   ],
   "source": [
    "statistics(np.array(X))"
   ]
  },
  {
   "cell_type": "code",
   "execution_count": 40,
   "metadata": {},
   "outputs": [
    {
     "data": {
      "text/plain": [
       "0.4"
      ]
     },
     "execution_count": 40,
     "metadata": {},
     "output_type": "execute_result"
    }
   ],
   "source": [
    "def P_continuous(c, d, F):\n",
    "    return F(d) - F(c)\n",
    "P_continuous(0, 1, F_sel)"
   ]
  },
  {
   "cell_type": "markdown",
   "metadata": {},
   "source": [
    "#### Пункт c)\n",
    "В предположении, что исходные наблюдения являются выборкой из показательного распределения, построить ОМП параметра $\\lambda$ и соответствующую оценку по методу моментов. Найти смещение оценок."
   ]
  },
  {
   "cell_type": "markdown",
   "metadata": {},
   "source": [
    "$p_\\lambda(x) = \\\n",
    "\\begin{matrix}\n",
    "    \\begin{cases}\n",
    "      \\lambda e^{-\\lambda x}, x \\geqslant  0 \\\\\n",
    "      0, x < 0\n",
    "    \\end{cases}\n",
    "\\end{matrix}\n",
    "$"
   ]
  },
  {
   "cell_type": "markdown",
   "metadata": {},
   "source": [
    "Предполагая, что $\\mathbb{P}(\\forall i: x_i >= 0) = 1$ можем выписать функцию правдоподобия следующим образом:\n",
    "\n",
    "$L(X, \\lambda) = \\lambda^n e^{-\\lambda\\sum_{i=1}^n{x_i}}$\n",
    "\n",
    "$LL(X, \\lambda) = n\\ln\\lambda - \\lambda\\sum_{i=1}^n{x_i}$\n",
    "\n",
    "Откуда, дифференцируя, получим\n",
    "\n",
    "$\\frac{n}{\\lambda} - \\sum_{i=1}^n{x_i} = 0 \\Rightarrow \\lambda = \\frac{1}{\\overline{x}}$ - ОМП"
   ]
  },
  {
   "cell_type": "markdown",
   "metadata": {},
   "source": [
    "Теперь найдём ОММ\n",
    "\n",
    "$\\mu = \\mathbb{E}x = \\int_\\mathbb{R_+} x\\lambda e^{-\\lambda x} \\,dx = [t = \\lambda x; dt = \\lambda dx] = \\frac{1}{\\lambda}\\int_\\mathbb{R_+} t e^{-t} \\,dx  = \\frac{1}{\\lambda} \\Gamma(2) = \\frac{1}{\\lambda}$\n",
    "\n",
    "$\\hat\\mu = \\overline{x}$\n",
    "\n",
    "Откуда ОММ: $\\lambda = \\frac{1}{\\overline{x}}$"
   ]
  },
  {
   "cell_type": "markdown",
   "metadata": {},
   "source": [
    "Теперь найдём смещение оценки.\n",
    "\n",
    "Показательное распределение - частный случай Гамма-распределения, $x_i \\thicksim \\mathcal{Gamma}\\left( 1, \\frac{1}{\\lambda} \\right) \\Rightarrow \\sum_{i=1}^n{x_i} \\thicksim \\mathcal{Gamma}\\left( n, \\frac{1}{\\lambda} \\right)$.\n",
    "\n",
    "$\\mathbb{E}\\frac{n}{\\sum_{i=1}^n{x_i}} = n\\mathbb{E}\\left(\\sum_{i=1}^n{x_i} \\right)^{-1} = \\left[ \\alpha = n; \\beta = \\frac{1}{\\lambda}; \\gamma = -1 \\right] = n\\left( \\frac{1}{\\lambda} \\right)^{-1} \\frac{Г(n - 1)}{Г(n)} = \\lambda\\frac{n}{n-1}$\n",
    "\n",
    "И тогда смещение $b$ равно\n",
    "\n",
    "$b(\\lambda) = \\lambda\\frac{n}{n-1} - \\lambda = \\frac{\\lambda}{n-1}$"
   ]
  },
  {
   "cell_type": "markdown",
   "metadata": {},
   "source": [
    "#### Пункт d)\n",
    "Построить асимптотический доверительный интервал уровня значимости $\\alpha_2$ для параметра $\\lambda$ на базе оценки\n",
    "максимального правдоподобия."
   ]
  },
  {
   "cell_type": "markdown",
   "metadata": {},
   "source": [
    "$\\sqrt{n \\bar{I}(\\lambda)}(\\hat\\lambda - \\lambda) = \\sqrt{n {I_1}(\\lambda)}(\\hat\\lambda - \\lambda) \\Rightarrow \\mathcal{N}(0, 1)$\n",
    "\n",
    "$I_1(\\lambda) = -\\mathbb{E}\\frac{\\partial^2 LL(X; \\lambda)}{\\partial \\lambda^2} = \\frac{n}{\\lambda^2} = \\frac{n}{\\overline{x}^2}$ - информация Фишера"
   ]
  },
  {
   "cell_type": "markdown",
   "metadata": {},
   "source": [
    "Выберем $x_\\alpha = \\Phi^{-1}(1 - \\frac{\\alpha}{2})$\n",
    "\n",
    "Тогда асимптотический доверительный интервал на базе ОМП будет выглядеть следующим образом:\n",
    "\n",
    "$\\left[ \\frac{1}{\\overline{x}} - \\frac{x_\\alpha \\overline{x}}{\\sqrt{n}} ; \\frac{1}{\\overline{x}} + \\frac{x_\\alpha \\overline{x}}{\\sqrt{n}} \\right]$"
   ]
  },
  {
   "cell_type": "code",
   "execution_count": 41,
   "metadata": {},
   "outputs": [
    {
     "name": "stdout",
     "output_type": "stream",
     "text": [
      "[0.11175160959260794 ; 0.85874528481733]\n"
     ]
    }
   ],
   "source": [
    "X = np.array(X)\n",
    "x_a = чё.norm.ppf(1 - a_2/2)\n",
    "print(f'[{1/X.mean() - x_a * X.mean() / np.sqrt(n)} ; {1/X.mean() + x_a * X.mean() / np.sqrt(n)}]') "
   ]
  },
  {
   "cell_type": "markdown",
   "metadata": {},
   "source": [
    "#### Пункт e)\n",
    "С использованием теоремы Колмогорова построить критерий значимости проверки простой гипотезы согласия\n",
    "с показательным распределением с параметром $\\lambda_0$. Проверить гипотезу на уровне значимости $\\alpha_2$. Вычислить\n",
    "наибольшее значение уровня значимости, на котором ещё нет оснований отвергнуть данную гипотезу."
   ]
  },
  {
   "cell_type": "code",
   "execution_count": 42,
   "metadata": {},
   "outputs": [
    {
     "name": "stdout",
     "output_type": "stream",
     "text": [
      "Dn=0.27668672158980956 \n",
      "x_a=1.072749174939648\n"
     ]
    },
    {
     "data": {
      "text/plain": [
       "1"
      ]
     },
     "execution_count": 42,
     "metadata": {},
     "output_type": "execute_result"
    }
   ],
   "source": [
    "e = чё.expon(scale=1/lmbd_0)\n",
    "Dn = max( [F_sel(x) - e.cdf(x) for x in np.linspace(0, X.max(), int(X.max() / 0.001))] )\n",
    "\n",
    "x_a = чё.kstwobign().ppf(1 - a_2)\n",
    "phi = lambda Dn: 0 if np.sqrt(n) * Dn <= x_a else 1\n",
    "\n",
    "print(f\"{Dn=} \\n{x_a=}\")\n",
    "phi(Dn)"
   ]
  },
  {
   "cell_type": "markdown",
   "metadata": {},
   "source": [
    "Критерий равен 1, а значит, гипотеза отвергается. Найдём наибольший уровень значимости, при котором гипотеза не будет отвергаться."
   ]
  },
  {
   "cell_type": "code",
   "execution_count": 43,
   "metadata": {},
   "outputs": [
    {
     "name": "stdout",
     "output_type": "stream",
     "text": [
      "Наибольший уровень значимости, при котором нет оснований для отвержения гипотезы: 0.0009468148368193541\n"
     ]
    }
   ],
   "source": [
    "print(\n",
    "    \"Наибольший уровень значимости, при котором нет оснований для отвержения гипотезы:\", \n",
    "    1 - чё.kstwobign().cdf(np.sqrt(n) * Dn))"
   ]
  },
  {
   "cell_type": "markdown",
   "metadata": {},
   "source": [
    "#### Пункт f)\n",
    "Используя гистограмму частот, построить критерий значимости $\\chi^2$ проверки простой гипотезы согласия с\n",
    "показательным распределением с параметром $\\lambda_0$. Проверить гипотезу на уровне $\\alpha_2$. Вычислить наибольшее\n",
    "значение уровня значимости, на котором ещё нет оснований отвергнуть данную гипотезу"
   ]
  },
  {
   "cell_type": "markdown",
   "metadata": {},
   "source": [
    "Разобьём выборку на интервалы. Выберем $I_1 = (-\\infty; 2); I_2 = [2; 4); I_3 = [4; 6); I_4 = [6; 8); I_5 = [8; \\infty)$ "
   ]
  },
  {
   "cell_type": "code",
   "execution_count": 44,
   "metadata": {},
   "outputs": [
    {
     "data": {
      "text/plain": [
       "[[-10000, 2], [2, 4], [4, 6], [6, 8], [8, 10000]]"
      ]
     },
     "execution_count": 44,
     "metadata": {},
     "output_type": "execute_result"
    }
   ],
   "source": [
    "intervals = [ [2*i, 2*i + 2] for i in range(5) ]\n",
    "intervals[0][0] = -10000\n",
    "intervals[-1][1] = 10000\n",
    "intervals"
   ]
  },
  {
   "cell_type": "markdown",
   "metadata": {},
   "source": [
    "Посчитаем абсолютные частоты:"
   ]
  },
  {
   "cell_type": "code",
   "execution_count": 45,
   "metadata": {},
   "outputs": [
    {
     "data": {
      "text/plain": [
       "[32, 9, 5, 3, 1]"
      ]
     },
     "execution_count": 45,
     "metadata": {},
     "output_type": "execute_result"
    }
   ],
   "source": [
    "frequencies = [ ( (intrv[0] <= X) & (X < intrv[1]) ).sum() for intrv in intervals ]\n",
    "frequencies"
   ]
  },
  {
   "cell_type": "markdown",
   "metadata": {},
   "source": [
    "Вычислим теоретические вероятности попадания в интервалы:"
   ]
  },
  {
   "cell_type": "code",
   "execution_count": 46,
   "metadata": {},
   "outputs": [],
   "source": [
    "p = np.array([ e.cdf(intrv[1]) - e.cdf(intrv[0])  for intrv in intervals ])"
   ]
  },
  {
   "cell_type": "markdown",
   "metadata": {},
   "source": [
    "Теперь зададим значение статистики $X^2$ и сам критерий"
   ]
  },
  {
   "cell_type": "code",
   "execution_count": 47,
   "metadata": {},
   "outputs": [
    {
     "data": {
      "text/plain": [
       "1"
      ]
     },
     "execution_count": 47,
     "metadata": {},
     "output_type": "execute_result"
    }
   ],
   "source": [
    "x_sq = ( (frequencies - n*p)**2 / (n*p) ).sum()\n",
    "phi = build_criteria(a_2, len(intervals) - 1)\n",
    "phi(x_sq)"
   ]
  },
  {
   "cell_type": "markdown",
   "metadata": {},
   "source": [
    "Критерий равен 1, то есть следует отвергнуть основную гипотезу.\n",
    "\n",
    "Максимальное значение уровня значимости можно вычислить как $1 - K_{r-1}(X^2)$"
   ]
  },
  {
   "cell_type": "code",
   "execution_count": 48,
   "metadata": {},
   "outputs": [
    {
     "data": {
      "text/plain": [
       "0.005884192778342401"
      ]
     },
     "execution_count": 48,
     "metadata": {},
     "output_type": "execute_result"
    }
   ],
   "source": [
    "1 - чё.chi2.cdf(x_sq, df=len(intervals)-1)"
   ]
  },
  {
   "cell_type": "markdown",
   "metadata": {},
   "source": [
    "#### Пункт g)\n",
    "Построить критерий проверки значимости $\\chi^2$ сложной гипотезы согласия с показательным распределением.\n",
    "Проверить гипотезу на уровне $\\alpha_2$. Вычислить наибольшее значение уровня значимости, на котором еще нет\n",
    "оснований отвергнуть данную гипотезу."
   ]
  },
  {
   "cell_type": "markdown",
   "metadata": {},
   "source": [
    "Используем те же интервалы. Распределение однопараметрическое $\\Rightarrow d = 1$. ОМП было посчитано ранее: $\\hat\\lambda = \\frac{1}{\\bar{x}}$"
   ]
  },
  {
   "cell_type": "code",
   "execution_count": 49,
   "metadata": {},
   "outputs": [
    {
     "data": {
      "text/plain": [
       "0"
      ]
     },
     "execution_count": 49,
     "metadata": {},
     "output_type": "execute_result"
    }
   ],
   "source": [
    "d = 1\n",
    "\n",
    "e = чё.expon(scale=X.mean())\n",
    "p = np.array([ e.cdf(intrv[1]) - e.cdf(intrv[0])  for intrv in intervals ])\n",
    "\n",
    "x_sq = ( (frequencies - n*p)**2/(n*p) ).sum()\n",
    "phi = build_criteria(a_2, len(intervals) - d - 1)\n",
    "\n",
    "phi(x_sq)"
   ]
  },
  {
   "cell_type": "markdown",
   "metadata": {},
   "source": [
    "Критерий равен 0, оснований отвергнуть гипотезу согласия нет.\n",
    "\n",
    "Найдём максимальное значение уровня значимости, при котором нет оснований отвергнуть гипотезу согласия."
   ]
  },
  {
   "cell_type": "code",
   "execution_count": 50,
   "metadata": {},
   "outputs": [
    {
     "data": {
      "text/plain": [
       "0.6230064333775203"
      ]
     },
     "execution_count": 50,
     "metadata": {},
     "output_type": "execute_result"
    }
   ],
   "source": [
    "1 - чё.chi2.cdf(x_sq, df=len(intervals)-d-1)"
   ]
  },
  {
   "cell_type": "markdown",
   "metadata": {},
   "source": [
    "#### Пункт h)\n",
    "Построить наиболее мощный критерий проверки простой гипотезы о показательности с параметром $\\lambda = \\lambda_0$\n",
    "при альтернативе показательности с параметром $\\lambda = \\lambda_1$. Проверить гипотезу на уровне значимости $\\alpha_2$. Что\n",
    "получится, если поменять местами основную и альтернативную гипотезы?"
   ]
  },
  {
   "cell_type": "markdown",
   "metadata": {},
   "source": [
    "$L(X, \\lambda) = \\lambda^n e^{-\\lambda\\sum_{i=1}^n{x_i}}$\n",
    "\n",
    "$LR(X, \\lambda_1, \\lambda_0) = \\frac{\\lambda_1^n e^{-\\lambda_1\\sum_{i=1}^n{x_i}}}{\\lambda_0^n e^{-\\lambda_0\\sum_{i=1}^n{x_i}}} = \\left(\\frac{\\lambda_1}{\\lambda_0}\\right)^n e^{(\\lambda_0 - \\lambda_1) \\sum_{i=1}^n{x_i}}$\n",
    "\n",
    "$\\left(\\frac{\\lambda_1}{\\lambda_0}\\right)^n e^{(\\lambda_0 - \\lambda_1) \\sum_{i=1}^n{x_i}} > x_\\alpha \\\n",
    "\\Leftrightarrow n\\ln\\frac{\\lambda_1}{\\lambda_0} + (\\lambda_0 - \\lambda_1)\\sum_{i=1}^n{x_i} > \\ln{x_\\alpha} \\\n",
    "\\Leftrightarrow \\sum_{i=1}^n{x_i} > \\frac{\\ln{x_\\alpha} - n\\ln\\frac{\\lambda_1}{\\lambda_0}}{(\\lambda_0 - \\lambda_1)}$\n",
    "\n",
    "Пусть $B := \\frac{\\ln{x_\\alpha} - n\\ln\\frac{\\lambda_1}{\\lambda_0}}{(\\lambda_0 - \\lambda_1)}$\n",
    "\n",
    "Далее учитываем то, что $\\sum_{i=1}^n{x_i} \\thicksim \\mathcal{Gamma}\\left( n, \\frac{1}{\\lambda} \\right)$\n",
    "\n",
    "$\\mathbb{P}_{\\lambda_0}\\left(LR(X, \\lambda_1, \\lambda_0) > x_\\alpha \\right) + p \\cdot \\mathbb{P}_{\\lambda_0}\\left(LR(X, \\lambda_1, \\lambda_0) = x_\\alpha \\right) = \\mathbb{P}_{\\lambda_0}\\left( \\sum_{i=1}^n{x_i} > B \\right) + p\\cdot\\mathbb{P}_{\\lambda_0}\\left( \\sum_{i=1}^n{x_i} = B \\right) = \\alpha$\n",
    "\n",
    "$\\mathbb{P}_{\\lambda_0}\\left( \\sum_{i=1}^n{x_i} > B \\right) \\leq \\alpha \\leq \\mathbb{P}_{\\lambda_0}\\left( \\sum_{i=1}^n{x_i} \\geq B \\right)$\n",
    "\n",
    "$\\mathbb{P}_{\\lambda_0}\\left( \\sum_{i=1}^n{x_i} \\geq B \\right) = 1 - \\mathbb{P}_{\\lambda_0}\\left( \\sum_{i=1}^n{x_i} < B \\right) = 1 - F_{\\lambda_0}(B)$\n",
    "\n",
    "Левая часть неравенства раскрывается точно также в силу непрерывности случайной величины. Из чего заключаем, что $\\alpha = 1 - F_{\\lambda_0}(B)$\n",
    "\n",
    "Отсюда можно найти B: $B = F^{-1}_{\\lambda_0}(1 - \\alpha)$"
   ]
  },
  {
   "cell_type": "code",
   "execution_count": 51,
   "metadata": {},
   "outputs": [
    {
     "data": {
      "text/plain": [
       "223.33342631658067"
      ]
     },
     "execution_count": 51,
     "metadata": {},
     "output_type": "execute_result"
    }
   ],
   "source": [
    "Gamma = чё.gamma(a=n, scale=1/lmbd_0)\n",
    "B = Gamma.ppf(1 - a_2)\n",
    "B"
   ]
  },
  {
   "cell_type": "markdown",
   "metadata": {},
   "source": [
    "$p$ не может быть определена однозначно, так как $\\mathbb{P}_{\\lambda_0}\\left(LR(X, \\lambda_1, \\lambda_0) = x_\\alpha \\right) = 0$"
   ]
  },
  {
   "cell_type": "markdown",
   "metadata": {},
   "source": [
    "Окончательно, наиболее мощный критерий будет выглядеть как\n",
    "\n",
    "$\\phi(x) = \\begin{cases}\n",
    "    0, \\sum_{i=1}^n{x_i} < 223.333 \\\\\n",
    "    p, \\sum_{i=1}^n{x_i} = 223.333 \\\\\n",
    "    1, \\sum_{i=1}^n{x_i} > 223.333 \n",
    "\\end{cases} $"
   ]
  },
  {
   "cell_type": "markdown",
   "metadata": {},
   "source": [
    "Поменяв альтернативную и основную гипотезы местами, получим\n",
    "\n",
    "$\\mathbb{P}_{\\lambda_1}\\left(LR(X, \\lambda_0, \\lambda_1) > x_\\alpha \\right) + p \\cdot \\mathbb{P}_{\\lambda_1}\\left(LR(X, \\lambda_0, \\lambda_1) = x_\\alpha \\right) = \\mathbb{P}_{\\lambda_1}\\left( \\sum_{i=1}^n{x_i} > B \\right) + p\\cdot\\mathbb{P}_{\\lambda_1}\\left( \\sum_{i=1}^n{x_i} = B \\right) = \\alpha$\n",
    "\n",
    "$\\mathbb{P}_{\\lambda_1}\\left( \\sum_{i=1}^n{x_i} > B \\right) \\leq \\alpha \\leq \\mathbb{P}_{\\lambda_1}\\left( \\sum_{i=1}^n{x_i} \\geq B \\right)$\n",
    "\n",
    "$\\mathbb{P}_{\\lambda_1}\\left( \\sum_{i=1}^n{x_i} \\geq B \\right) = 1 - \\mathbb{P}_{\\lambda_1}\\left( \\sum_{i=1}^n{x_i} < B \\right) = 1 - F_{\\lambda_1}(B)$\n",
    "\n",
    "Заключаем, что $\\alpha = 1 - F_{\\lambda_1}(B)$\n",
    "\n",
    "Откуда $B = F^{-1}_{\\lambda_1}(1 - \\alpha)$"
   ]
  },
  {
   "cell_type": "code",
   "execution_count": 52,
   "metadata": {},
   "outputs": [
    {
     "data": {
      "text/plain": [
       "111.66671315829034"
      ]
     },
     "execution_count": 52,
     "metadata": {},
     "output_type": "execute_result"
    }
   ],
   "source": [
    "Gamma = чё.gamma(a=n, scale=1/lmbd_1)\n",
    "B = Gamma.ppf(1 - a_2)\n",
    "B"
   ]
  },
  {
   "cell_type": "markdown",
   "metadata": {},
   "source": [
    "$p$ также не может быть определена однозначно.\n",
    "\n",
    "Наиболее мощный критерий в данном случае будет выглядеть как \n",
    "\n",
    "$\\phi(x) = \\begin{cases}\n",
    "    0, \\sum_{i=1}^n{x_i} < 111.666 \\\\\n",
    "    p, \\sum_{i=1}^n{x_i} = 111.666 \\\\\n",
    "    1, \\sum_{i=1}^n{x_i} > 111.666 \n",
    "\\end{cases} $"
   ]
  },
  {
   "cell_type": "markdown",
   "metadata": {},
   "source": [
    "---\n",
    "#### Пункт i)\n",
    "В пунктах (c)-(h) заменить семейство показательных распределений на семейство гамма-распределений с\n",
    "плотностями $p_\\lambda(x) = \\frac{\\sqrt{\\lambda} \\exp(-\\lambda x/2)}{\\sqrt{2\\pi x}}$\n",
    "(использовать таблицу распределений $\\chi_1^2$)."
   ]
  },
  {
   "cell_type": "markdown",
   "metadata": {},
   "source": [
    "##### Пункт i.c)\n",
    "ОМП:\n",
    "\n",
    "$L(X, \\lambda) = \\lambda^{\\frac{n}{2}} (2\\pi)^{-\\frac{n}{2}} \\exp(-\\frac{\\lambda}{2} \\sum_{i=1}^n{x_i}) \\prod^n_{i=1}{x_i^{-\\frac{1}{2}}}$\n",
    "\n",
    "$LL(X, \\lambda) = \\frac{n}{2} \\ln\\lambda -\\frac{n}{2} \\ln(2\\pi) -\\frac{\\lambda}{2} \\sum_{i=1}^n{x_i} + \\ln\\left( \\prod^n_{i=1}{x_i^{-\\frac{1}{2}}} \\right)$\n",
    "\n",
    "Откуда $\\frac{n}{2\\lambda} - \\frac{1}{2} \\sum_{i=1}^n{x_i} = 0 \\Rightarrow \\hat\\lambda = \\frac{1}{\\bar{x}} $"
   ]
  },
  {
   "cell_type": "markdown",
   "metadata": {},
   "source": [
    "ОММ: \n",
    "\n",
    "$\\bar{x} = \\mathbb{E}{x} = \\int_\\mathbb{R_+} x\\frac{\\sqrt{\\lambda} \\exp(-\\lambda x/2)}{\\sqrt{2\\pi x}} \\,dx = \\\n",
    "\\frac{\\sqrt{\\lambda}}{\\sqrt{2\\pi}} \\int_\\mathbb{R_+} \\sqrt{x} \\exp(-\\lambda x/2) \\,dx = \\\n",
    "[t = \\lambda x/2; \\frac{2}{\\lambda} dt = dx] = \\\n",
    "\\frac{2}{\\lambda\\sqrt{\\pi}} \\int_\\mathbb{R_+} \\sqrt{t} \\exp(-t) \\,dx = \\\n",
    "\\frac{1}{\\lambda}$\n",
    "\n",
    "$\\Rightarrow \\hat\\lambda = \\frac{1}{\\bar{x}}$\n"
   ]
  },
  {
   "cell_type": "markdown",
   "metadata": {},
   "source": [
    "Теперь найдём смещение оценки.\n",
    "\n",
    "$x_i \\thicksim \\mathcal{Gamma}\\left( \\frac{1}{2}, \\frac{2}{\\lambda} \\right) \\Rightarrow \\sum_{i=1}^n{x_i} \\thicksim \\mathcal{Gamma}\\left( \\frac{n}{2}, \\frac{2}{\\lambda} \\right)$.\n",
    "\n",
    "$\\mathbb{E}\\frac{n}{\\sum_{i=1}^n{x_i}} = n\\mathbb{E}\\left(\\sum_{i=1}^n{x_i} \\right)^{-1} = \\left[ \\alpha = \\frac{n}{2}; \\beta = \\frac{2}{\\lambda}; \\gamma = -1 \\right] = n \\cdot \\left(\\frac{2}{\\lambda}\\right)^{-1} \\frac{\\Gamma\\left(\\frac{n}{2} - 1\\right)}{\\Gamma\\left(\\frac{n}{2}\\right)} = \\lambda\\frac{n}{n-2}$\n",
    "\n",
    "И тогда смещение $b$ равно\n",
    "\n",
    "$b(\\lambda) = \\lambda\\frac{n}{n-2} - \\lambda = \\frac{\\lambda}{n-2}$"
   ]
  },
  {
   "cell_type": "markdown",
   "metadata": {},
   "source": [
    "##### Пункт i.d)\n"
   ]
  },
  {
   "cell_type": "markdown",
   "metadata": {},
   "source": [
    "$\\sqrt{n \\bar{I}(\\lambda)}(\\hat\\lambda - \\lambda) = \\sqrt{n {I_1}(\\lambda)}(\\hat\\lambda - \\lambda) \\Rightarrow \\mathcal{N}(0, 1)$\n",
    "\n",
    "$I_1(\\lambda) = -\\mathbb{E}\\frac{\\partial^2 LL(X; \\lambda)}{\\partial \\lambda^2} = \\frac{n}{2\\lambda^2} = \\frac{n}{2\\overline{x}^2}$ - информация Фишера\n",
    "\n",
    "Выберем $x_\\alpha = \\Phi^{-1}(1 - \\frac{\\alpha}{2})$\n",
    "\n",
    "Тогда асимптотический доверительный интервал на базе ОМП будет выглядеть следующим образом:\n",
    "\n",
    "$\\left[ \\frac{1}{\\overline{x}} - \\frac{x_\\alpha \\overline{x}}{\\sqrt{n}} ; \\frac{1}{\\overline{x}} + \\frac{x_\\alpha \\overline{x}}{\\sqrt{n}} \\right]$"
   ]
  },
  {
   "cell_type": "code",
   "execution_count": 53,
   "metadata": {},
   "outputs": [
    {
     "name": "stdout",
     "output_type": "stream",
     "text": [
      "[0.11175160959260794 ; 0.85874528481733]\n"
     ]
    }
   ],
   "source": [
    "X = np.array(X)\n",
    "x_a = чё.norm.ppf(1 - a_2/2)\n",
    "print(f'[{1/X.mean() - x_a * X.mean() / np.sqrt(n)} ; {1/X.mean() + x_a * X.mean() / np.sqrt(n)}]') "
   ]
  },
  {
   "cell_type": "markdown",
   "metadata": {},
   "source": [
    "##### Пункт i.e)\n",
    "С использованием теоремы Колмогорова построить критерий значимости проверки простой гипотезы согласия\n",
    "с показательным распределением с параметром $\\lambda_0$. Проверить гипотезу на уровне значимости $\\alpha_2$. Вычислить\n",
    "наибольшее значение уровня значимости, на котором ещё нет оснований отвергнуть данную гипотезу."
   ]
  },
  {
   "cell_type": "code",
   "execution_count": 58,
   "metadata": {},
   "outputs": [
    {
     "name": "stdout",
     "output_type": "stream",
     "text": [
      "Dn=0.17716207272537032 \n",
      "x_a=1.072749174939648\n"
     ]
    },
    {
     "data": {
      "text/plain": [
       "1"
      ]
     },
     "execution_count": 58,
     "metadata": {},
     "output_type": "execute_result"
    }
   ],
   "source": [
    "g = чё.gamma(a=1/2, scale=2/lmbd_0)\n",
    "Dn = max( [F_sel(x) - g.cdf(x) for x in np.linspace(0, X.max(), int(X.max() / 0.001))] )\n",
    "\n",
    "x_a = чё.kstwobign().ppf(1 - a_2)\n",
    "phi = lambda Dn: 0 if np.sqrt(n) * Dn <= x_a else 1\n",
    "\n",
    "print(f\"{Dn=} \\n{x_a=}\")\n",
    "phi(Dn)"
   ]
  },
  {
   "cell_type": "markdown",
   "metadata": {},
   "source": [
    "Критерий равен 1, то есть следует отвергнуть основную гипотезу.\n",
    "\n",
    "Максимальное значение уровня значимости можно вычислить как $1 - K_{r-1}(X^2)$"
   ]
  },
  {
   "cell_type": "code",
   "execution_count": 59,
   "metadata": {},
   "outputs": [
    {
     "name": "stdout",
     "output_type": "stream",
     "text": [
      "Наибольший уровень значимости, при котором нет оснований для отвержения гипотезы: 0.08667634745206176\n"
     ]
    }
   ],
   "source": [
    "print(\n",
    "    \"Наибольший уровень значимости, при котором нет оснований для отвержения гипотезы:\", \n",
    "    1 - чё.kstwobign().cdf(np.sqrt(n) * Dn))"
   ]
  },
  {
   "cell_type": "markdown",
   "metadata": {},
   "source": [
    "##### Пункт i.f)\n",
    "Интервалы оставим такими же, как и в прошлом задании.\n",
    "\n",
    "Пересчитаем вероятности"
   ]
  },
  {
   "cell_type": "code",
   "execution_count": 60,
   "metadata": {},
   "outputs": [],
   "source": [
    "p = np.array([ g.cdf(intrv[1]) - g.cdf(intrv[0])  for intrv in intervals ])"
   ]
  },
  {
   "cell_type": "markdown",
   "metadata": {},
   "source": [
    "Вычислим значения статистики и критерия"
   ]
  },
  {
   "cell_type": "code",
   "execution_count": 62,
   "metadata": {},
   "outputs": [
    {
     "data": {
      "text/plain": [
       "1"
      ]
     },
     "execution_count": 62,
     "metadata": {},
     "output_type": "execute_result"
    }
   ],
   "source": [
    "x_sq = ( (frequencies - n*p)**2 / (n*p) ).sum()\n",
    "phi = build_criteria(a_2, len(intervals) - 1)\n",
    "phi(x_sq)"
   ]
  },
  {
   "cell_type": "markdown",
   "metadata": {},
   "source": [
    "Критерий равен 1. Основную гипотезу можно отвергнуть.\n",
    "\n",
    "Вычислим максимальный уровень значимости:"
   ]
  },
  {
   "cell_type": "code",
   "execution_count": 63,
   "metadata": {},
   "outputs": [
    {
     "data": {
      "text/plain": [
       "0.11275013123459177"
      ]
     },
     "execution_count": 63,
     "metadata": {},
     "output_type": "execute_result"
    }
   ],
   "source": [
    "1 - чё.chi2.cdf(x_sq, df=len(intervals)-1)"
   ]
  },
  {
   "cell_type": "markdown",
   "metadata": {},
   "source": [
    "##### Пункт i.g)\n",
    "Используем те же интервалы. Распределение допускает изменение одного параметра $\\Rightarrow d = 1$. ОМП было посчитано ранее: $\\hat\\lambda = \\frac{1}{\\bar{x}}$"
   ]
  },
  {
   "cell_type": "code",
   "execution_count": 76,
   "metadata": {},
   "outputs": [
    {
     "data": {
      "text/plain": [
       "0"
      ]
     },
     "execution_count": 76,
     "metadata": {},
     "output_type": "execute_result"
    }
   ],
   "source": [
    "d = 1\n",
    "\n",
    "g = чё.gamma(a=1/2, scale=2*X.mean()) \n",
    "p = np.array([ g.cdf(intrv[1]) - g.cdf(intrv[0])  for intrv in intervals ])\n",
    "\n",
    "x_sq = ( (frequencies - n*p)**2/(n*p) ).sum()\n",
    "phi = build_criteria(a_2, len(intervals) - d - 1)\n",
    "\n",
    "phi(x_sq)"
   ]
  },
  {
   "cell_type": "markdown",
   "metadata": {},
   "source": [
    "Критерий равен 0, оснований отвергнуть гипотезу согласия нет.\n",
    "\n",
    "Найдём максимальное значение уровня значимости, при котором нет оснований отвергнуть гипотезу согласия."
   ]
  },
  {
   "cell_type": "code",
   "execution_count": 77,
   "metadata": {},
   "outputs": [
    {
     "data": {
      "text/plain": [
       "0.5715199354287768"
      ]
     },
     "execution_count": 77,
     "metadata": {},
     "output_type": "execute_result"
    }
   ],
   "source": [
    "1 - чё.chi2.cdf(x_sq, df=len(intervals)-d-1)"
   ]
  },
  {
   "cell_type": "markdown",
   "metadata": {},
   "source": [
    "##### Пункт i.h)\n",
    "$L(X, \\lambda) = \\lambda^{\\frac{n}{2}} (2\\pi)^{-\\frac{n}{2}} \\exp(-\\frac{\\lambda}{2} \\sum_{i=1}^n{x_i}) \\prod^n_{i=1}{x_i^{-\\frac{1}{2}}}$\n",
    "\n",
    "$LR(X, \\lambda_1, \\lambda_0) = \\frac{\\lambda_1^{\\frac{n}{2}} (2\\pi)^{-\\frac{n}{2}} \\exp(-\\frac{\\lambda_1}{2} \\sum_{i=1}^n{x_i}) \\prod^n_{i=1}{x_i^{-\\frac{1}{2}}}}{\\lambda_0^{\\frac{n}{2}} (2\\pi)^{-\\frac{n}{2}} \\exp(-\\frac{\\lambda_0}{2} \\sum_{i=1}^n{x_i}) \\prod^n_{i=1}{x_i^{-\\frac{1}{2}}}} = \\\n",
    "\\left(\\frac{\\lambda_1}{\\lambda_0}\\right)^{\\frac{n}{2}} e^{\\frac{1}{2}(\\lambda_0 - \\lambda_1) \\sum_{i=1}^n{x_i}}$\n",
    "\n",
    "$\\left(\\frac{\\lambda_1}{\\lambda_0}\\right)^{\\frac{n}{2}} e^{\\frac{1}{2}(\\lambda_0 - \\lambda_1) \\sum_{i=1}^n{x_i}} > x_\\alpha \\\n",
    "\\Leftrightarrow n\\ln\\frac{\\lambda_1}{\\lambda_0} + (\\lambda_0 - \\lambda_1)\\sum_{i=1}^n{x_i} > 2\\ln{x_\\alpha} \\\n",
    "\\Leftrightarrow \\sum_{i=1}^n{x_i} > \\frac{2\\ln{x_\\alpha} - n\\ln\\frac{\\lambda_1}{\\lambda_0}}{(\\lambda_0 - \\lambda_1)}$\n",
    "\n",
    "Пусть $B := \\frac{2\\ln{x_\\alpha} - n\\ln\\frac{\\lambda_1}{\\lambda_0}}{(\\lambda_0 - \\lambda_1)}$\n",
    "\n",
    "Далее учитываем то, что $\\sum_{i=1}^n{x_i} \\thicksim \\mathcal{Gamma}\\left( \\frac{n}{2}, \\frac{2}{\\lambda} \\right)$\n",
    "\n",
    "$\\mathbb{P}_{\\lambda_0}\\left(LR(X, \\lambda_1, \\lambda_0) > x_\\alpha \\right) + p \\cdot \\mathbb{P}_{\\lambda_0}\\left(LR(X, \\lambda_1, \\lambda_0) = x_\\alpha \\right) = \\mathbb{P}_{\\lambda_0}\\left( \\sum_{i=1}^n{x_i} > B \\right) + p\\cdot\\mathbb{P}_{\\lambda_0}\\left( \\sum_{i=1}^n{x_i} = B \\right) = \\alpha$\n",
    "\n",
    "$\\mathbb{P}_{\\lambda_0}\\left( \\sum_{i=1}^n{x_i} > B \\right) \\leq \\alpha \\leq \\mathbb{P}_{\\lambda_0}\\left( \\sum_{i=1}^n{x_i} \\geq B \\right)$\n",
    "\n",
    "$\\mathbb{P}_{\\lambda_0}\\left( \\sum_{i=1}^n{x_i} \\geq B \\right) = 1 - \\mathbb{P}_{\\lambda_0}\\left( \\sum_{i=1}^n{x_i} < B \\right) = 1 - F_{\\lambda_0}(B)$\n",
    "\n",
    "Левая часть неравенства раскрывается точно также в силу непрерывности случайной величины. Из чего заключаем, что $\\alpha = 1 - F_{\\lambda_0}(B)$\n",
    "\n",
    "Отсюда можно найти B: $B = F^{-1}_{\\lambda_0}(1 - \\alpha)$"
   ]
  },
  {
   "cell_type": "code",
   "execution_count": 78,
   "metadata": {},
   "outputs": [
    {
     "data": {
      "text/plain": [
       "232.65518631971352"
      ]
     },
     "execution_count": 78,
     "metadata": {},
     "output_type": "execute_result"
    }
   ],
   "source": [
    "Gamma = чё.gamma(a=n/2, scale=2/lmbd_0)\n",
    "B = Gamma.ppf(1 - a_2)\n",
    "B"
   ]
  },
  {
   "cell_type": "markdown",
   "metadata": {},
   "source": [
    "$p$ не может быть определена однозначно, так как $\\mathbb{P}_{\\lambda_0}\\left(LR(X, \\lambda_1, \\lambda_0) = x_\\alpha \\right) = 0$\n",
    "\n",
    "Окончательно, наиболее мощный критерий будет выглядеть как\n",
    "\n",
    "$\\phi(x) = \\begin{cases}\n",
    "    0, \\sum_{i=1}^n{x_i} < 232.655 \\\\\n",
    "    p, \\sum_{i=1}^n{x_i} = 232.655 \\\\\n",
    "    1, \\sum_{i=1}^n{x_i} > 232.655 \n",
    "\\end{cases} $\n"
   ]
  },
  {
   "cell_type": "markdown",
   "metadata": {},
   "source": [
    "Поменяв альтернативную и основную гипотезы местами, получим\n",
    "\n",
    "$\\mathbb{P}_{\\lambda_1}\\left(LR(X, \\lambda_0, \\lambda_1) > x_\\alpha \\right) + p \\cdot \\mathbb{P}_{\\lambda_1}\\left(LR(X, \\lambda_0, \\lambda_1) = x_\\alpha \\right) = \\mathbb{P}_{\\lambda_1}\\left( \\sum_{i=1}^n{x_i} > B \\right) + p\\cdot\\mathbb{P}_{\\lambda_1}\\left( \\sum_{i=1}^n{x_i} = B \\right) = \\alpha$\n",
    "\n",
    "$\\mathbb{P}_{\\lambda_1}\\left( \\sum_{i=1}^n{x_i} > B \\right) \\leq \\alpha \\leq \\mathbb{P}_{\\lambda_1}\\left( \\sum_{i=1}^n{x_i} \\geq B \\right)$\n",
    "\n",
    "$\\mathbb{P}_{\\lambda_1}\\left( \\sum_{i=1}^n{x_i} \\geq B \\right) = 1 - \\mathbb{P}_{\\lambda_1}\\left( \\sum_{i=1}^n{x_i} < B \\right) = 1 - F_{\\lambda_1}(B)$\n",
    "\n",
    "Заключаем, что $\\alpha = 1 - F_{\\lambda_1}(B)$\n",
    "\n",
    "Откуда $B = F^{-1}_{\\lambda_1}(1 - \\alpha)$"
   ]
  },
  {
   "cell_type": "code",
   "execution_count": 79,
   "metadata": {},
   "outputs": [
    {
     "data": {
      "text/plain": [
       "116.32759315985676"
      ]
     },
     "execution_count": 79,
     "metadata": {},
     "output_type": "execute_result"
    }
   ],
   "source": [
    "Gamma = чё.gamma(a=n/2, scale=2/lmbd_1)\n",
    "B = Gamma.ppf(1 - a_2)\n",
    "B"
   ]
  },
  {
   "cell_type": "markdown",
   "metadata": {},
   "source": [
    "$p$ также не может быть определена однозначно.\n",
    "\n",
    "Наиболее мощный критерий в данном случае будет выглядеть как \n",
    "\n",
    "$\\phi(x) = \\begin{cases}\n",
    "    0, \\sum_{i=1}^n{x_i} < 116.328 \\\\\n",
    "    p, \\sum_{i=1}^n{x_i} = 116.328 \\\\\n",
    "    1, \\sum_{i=1}^n{x_i} > 116.328 \n",
    "\\end{cases} $"
   ]
  },
  {
   "cell_type": "markdown",
   "metadata": {},
   "source": [
    "## Выводы\n",
    "\n",
    "В ходе лабораторной работы были изучены и применены методы статистического анализа для нахождения оценок и доверительных интервалов для параметров распределений. Были рассмотрены и описаны критерии для проверок сложных и простых гипотез согласия. Были рассчитаны различные статистики различных выборок. "
   ]
  }
 ],
 "metadata": {
  "kernelspec": {
   "display_name": "Python 3",
   "language": "python",
   "name": "python3"
  },
  "language_info": {
   "codemirror_mode": {
    "name": "ipython",
    "version": 3
   },
   "file_extension": ".py",
   "mimetype": "text/x-python",
   "name": "python",
   "nbconvert_exporter": "python",
   "pygments_lexer": "ipython3",
   "version": "3.10.7"
  }
 },
 "nbformat": 4,
 "nbformat_minor": 2
}
