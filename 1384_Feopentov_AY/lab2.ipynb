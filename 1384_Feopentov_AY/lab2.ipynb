{
 "cells": [
  {
   "cell_type": "markdown",
   "id": "08d04555-1ddc-4358-a6df-7e2c172f4f5b",
   "metadata": {},
   "source": [
    "# Практическая работа №2: Классические методы математической статистики\n",
    "Выполнил студент гр. 1384 Феопентов Аким. Вариант №19"
   ]
  },
  {
   "cell_type": "markdown",
   "id": "32f48b03-7469-49e1-b59b-28801c8d47ac",
   "metadata": {},
   "source": [
    "## Цель работы\n",
    "Научится применять методы математической статистики для визуализации и анализа полученных данных; сформировать навыки реализации методов с помощью прикладных программных пакетов."
   ]
  },
  {
   "cell_type": "markdown",
   "id": "a6b03412-036e-45b7-b8c6-9257b3f0e9ee",
   "metadata": {},
   "source": [
    "## Основные теоретические положения\n",
    "\n",
    "1.Выборочные числовые характеристики:\n",
    "Мат.ожидание $\\overline{X}=\\frac{1}{n}\\sum_{i=1}^{n}X_{i}$\n",
    "\n",
    "Дисперсия $S^{2}=\\frac{1}{n}\\sum_{i=1}^{n}\\left( X_{i}-\\overline{X} \\right)^{2}=\\overline{X^{2}}-\\overline{X}^{2}$\n",
    "\n",
    "Коэф.асимметрии (скошености) $\\widehat{S_{kew}}X=\\frac{\\left(\\frac{1}{n}\\sum_{i=1}^{n}\\left( X_{i}-\\overline{X} \\right)^{3} \\right)}{S^{3}}$\n",
    "\n",
    "Коэф.эксцесса (островершинности) $\\widehat{K_{urt}}X=\\frac{\\frac{1}{n}\\sum_{i=1}^{n}\\left( X_{i}-\\overline{X}^{4} \\right)}{S^{4}}-3$\n",
    "\n",
    "2.Оценка Максимального Правдоподобия (ОМП):\n",
    "\n",
    "Если $X_{1},...,X_{n}$-выборка из распределения с плотностью распределения $P_{\\theta}, \\theta\\in \\Theta$, то\n",
    "\n",
    "2.1 Функция правдоподобия распадается в произведения $L(\\overrightarrow{X},\\theta)=\\prod_{i=1}^{n}P_{\\theta}(X_{i})$\n",
    "\n",
    "2.2 Логарифм функции правдоподобия представляется в виде суммы $LL(\\overrightarrow{X},\\theta)=\\ln L(\\overrightarrow{X},\\theta)=\\sum_{i=1}^{n}\\ln P_{\\theta}(X_{i})$\n",
    "\n",
    "2.3 В силу монотонности логарифма задача максимизации функции правдоподобия сводится к задаче максимизации ее логарифма по всем $\\theta\\in \\Theta  LL(\\overrightarrow{X}),\\theta=\\sum_{i=1}^{n}\\ln P_{\\theta}(X_{i})$\n",
    "\n",
    "2.4 Если \\theta - d-мерный параметр и $P_{\\theta}$ дифференцируема по $\\theta$, то для нахождения максимума надо найти решения системы уравнений: U$(\\overrightarrow{X},\\theta)=\\frac{\\partial }{\\partial \\theta}LL(\\overrightarrow{X},\\theta)=0, i=\\overline{1,d}$\n",
    "\n",
    "3. Оценка метода моментов (ОММ)\n",
    "\n",
    "Пусть $X_{1},...,X_{n}$-выбока из распределения $P_{\\theta}, \\theta=(\\theta_{1},...,\\theta_{d})$\n",
    "\n",
    "$\\exists \\mu_{k}(\\theta)=\\mathbb{E}X^{k}_{1}, k=\\overline{1,d}$\n",
    "\n",
    "Если $\\exists$ ! решение $\\widetilde{\\theta}(X)$ системы уравнений: $\\widehat{\\mu^{k}}(\\widetilde{\\theta})=\\mu_{k}(\\theta), k=\\overline{1,d}$, где $\\widetilde{\\theta}(X)=\\frac{1}{n}\\sum_{i=1}^{n}X^{k}_{i}$-выборочный момент k-го порядка, то $\\widetilde{\\theta}(X)$ называется оценкой по методу моментов\n",
    "\n",
    "4. НРМД-оценки (несмещенная оценка)\n",
    "\n",
    "Оценка $\\widehat{\\theta}(X)$ параметра $\\theta$ называется несмещенной, если при любом значении параметра $\\theta\\in \\Theta: \\mathbb{E}\\widehat{\\theta}(X)=\\theta$\n",
    "\n",
    "Смещением оценки называется величина: $bias_{\\widehat{\\theta}}(\\theta)=\\mathbb{E}_{\\theta}\\widehat{\\theta}(X)-\\theta$\n",
    "\n",
    "Алгоритм несмещенного оценивания:\n",
    "\n",
    "4.1 Найти оценку $\\widehat{\\theta}(T)$, являющуюся функцией от минимальной достаточной статистики T(e.g.ОМП)\n",
    "\n",
    "4.2 Доказать полноту МДС T\n",
    "\n",
    "4.3 Скорректировать смещение:$\\widetilde{\\theta}(T)=f(\\widehat{\\theta}(T),T): \\mathbb{E}_{\\theta}\\widetilde{\\theta}(T)=\\theta,\\forall \\theta\\in \\Theta$\n",
    "\n",
    "5. Асимптотический доверительный интервал (АДИ)\n",
    "\n",
    "5.1 На базе Асимптотической нормальности оценки $\\widehat{\\theta}$\n",
    "\n",
    "5.1.1 Асимптотическая нормальность $\\sqrt{n}\\left( \\widehat{\\theta}(\\overrightarrow{X})-\\theta)\\right)\\sim \\mathcal{N}\\left(0,\\sigma^{2}(\\theta)\\right)$\n",
    "\n",
    "5.1.2 Тогда $\\sqrt{n}\\frac{\\widehat{\\theta}(\\overrightarrow{X})-\\theta}{\\sigma\\left(\\widehat{\\theta}(\\overrightarrow{X})\\right)}$    \n",
    "\n",
    "5.1.3 Выбираем $X_{\\alpha}: \\Phi(X_{\\alpha})=1-\\frac{\\alpha}{2}$\n",
    "\n",
    "5.1.4 А.Д.И. $\\left[ \\widehat{\\theta}(\\overrightarrow{X})-\\frac{X_{\\alpha}\\cdot \\sigma\\left( \\widehat{\\theta}(\\overrightarrow{X}) \\right)}{\\sqrt{n}}; \\widehat{\\theta}(\\overrightarrow{X})+\\frac{X_{\\alpha}\\cdot \\sigma\\left( \\widehat{\\theta}(\\overrightarrow{X}) \\right)}{\\sqrt{n}}\\right]$\n",
    "\n",
    "5.2 на базе ОМП\n",
    "\n",
    "5.2.1 Пусть $\\widehat{\\theta}(\\overrightarrow{X})$-ОМП\n",
    "\n",
    "5.2.2 При выполнении опр.условий регулярности: $\\sqrt{n}\\left( \\widehat{\\theta}(\\overrightarrow{X})-\\theta)\\right)\\sim \\mathcal{N}\\left(0,\\frac{1}{I(\\theta)}\\right), I(\\theta)=-\\mathbb{E}\\left( \\frac{\\partial^{2} LL}{\\partial \\theta^{2}} \\right)$-информация Фишера\n",
    "\n",
    "5.2.3 Тогда $\\sqrt{n\\cdot I\\left( \\widehat{\\theta}(\\overrightarrow{X}) \\right)}\\cdot \\left( \\widehat{\\theta}(\\overrightarrow{X})-\\theta \\right)\\sim \\mathcal{N}(0,1)$\n",
    "\n",
    "5.2.4 Выбираем $X_{\\alpha}: \\Phi(X_{\\alpha})=1-\\frac{\\alpha}{2}$\n",
    "\n",
    "5.2.5 А.Д.И $\\left[ \\widehat{\\theta}(\\overrightarrow{X})-\\frac{X_{\\alpha}}{\\sqrt{n\\cdot I\\left( \\widehat{\\theta}(\\overrightarrow{X}) \\right)}};\\widehat{\\theta}(\\overrightarrow{X})+\\frac{X_{\\alpha}}{\\sqrt{n\\cdot I\\left( \\widehat{\\theta}(\\overrightarrow{X}) \\right)}} \\right]$\n",
    "\n",
    "6. Критерий $\\chi^2$ для проверки гипотез\n",
    "\n",
    "основан на справнении теоритической плотности распределения и гистограммы, либо теоритической вероятностной меры и полигона частот.\n",
    "\n",
    "Разобъем множество значений сл. вел. X на $N$ интервалов $I_{1}, ..., I_{N}:$ $I_{i} = (a_{i-1}, a_i], i = \\overline {1,N}$. данные интервалы не пересекаются и покрывают всё множество возможных значений сл. вел. X.\n",
    "\n",
    "Обозначим через $p_{i}$ теоритическую вероятность попадания сл. вел. X в интервал $I_{i}$, при условии, что справедлива $H_{0}$.\n",
    "\n",
    "$p_{i} = P(X \\in I_{i}|H_{0})$\n",
    "\n",
    "Через $n_{i}$ обозначим число наблюдений нашей выборки, попавших в соответветствующий интервал $I_{i}$.\n",
    "\n",
    "$n_{i} = num(x_{j} \\in I_{i})$\n",
    "\n",
    "Статистика критерия основана на сравнении относительной частоты и теоритической.\n",
    "\n",
    "$\\chi^{2}_{набл} = \\sum \\limits_{i=1}^{N} \\frac{n}{p_{i}} \\bigg ( \\frac{n_{i}}{n} - p_{i} \\bigg )^{2} = \\sum \\limits_{i=1}^{N} \\frac{(n_{i} - p_{i} n)^{2}}{n p_{i}} \\sim \\chi^{2}_{N-1}$\n",
    "\n",
    "Если $\\mathcal{X}^{2}_{N-1,1-\\alpha_{1}} \\lt \\chi^2_{набл}$, то гипотезу отвергаем\n",
    "\n",
    "Если $\\mathcal{X}^{2}_{N-1,1-\\alpha_{1}} \\gt \\chi^2_{набл}$, то гипотезу принимаем\n",
    "\n",
    "7. теорема Колмогорова\n",
    "\n",
    "$D_{n}(\\overrightarrow{X}) = \\overset{}{\\underset{X \\in \\mathbb R}{sup}} |F_{0}(X_{i}) - F_{n}(X_{i})|$\n",
    "\n",
    "Если гипотеза $H_{0}$ верна, и $F_{0}(X)$ - непрерывная ф-я на $\\mathbb R$, тогда имеет место сходимость\n",
    "\n",
    "$P(\\sqrt{n} D_{n}(\\overrightarrow{X}) < z) \\xrightarrow[n \\rightarrow \\infty]{} K(z)$, где\n",
    "\n",
    "$K(z)=1-\\alpha$ - ф-я распределения Колмогорова.\n",
    "\n",
    "Если $D_{n} \\lt z$, то гипотезу принимаем\n",
    "\n",
    "Если $D_{n} \\gt z$, то гипотезу отвергаем\n",
    "\n",
    "8. Наиболее мощный критерий простой гипотезы\n",
    "\n",
    "Для основной гипотезы $H_{0}: \\theta=\\theta_{0}$ и альтернативной гипотезы $H_{1}: \\theta=\\theta_{1}$, где $\\theta_{0}$ и $\\theta_{1}$ - фиксированные параметры, мы можем построить статистику правдоподобия:\n",
    "\n",
    "$LR(\\overrightarrow{X},\\theta_{1},\\theta_{0})=\\frac{L(\\overrightarrow{X},\\theta_{1})}{L(\\overrightarrow{X},\\theta_{0})}=\\frac{P_{\\theta_{1}}(X)}{P_{\\theta_{0}}(X)}$ - статистика отношений правдоподобия\n",
    "\n",
    "где $L(\\overrightarrow{X},\\theta_{1})$ - функция правдоподобия для альтернативной гипотезы, а $L(\\overrightarrow{X}\\theta_{0})$ - функция правдоподобия для основной гипотезы.\n",
    "\n",
    "Наиболее мощным критерием будет критическая область, в которой наблюдаемое значение статистики правдоподобия $LR(\\overrightarrow{X},\\theta_{1},\\theta_{0})$ будет отклоняться от значения 1 в сторону более высоких значений.\n",
    "\n",
    "Чтобы построить критическую область, мы должны задать уровень значимости $\\alpha$ - вероятность ошибки первого рода. Затем мы находим критическое значение $c$ такое, что $P\\left(LR(\\overrightarrow{X},\\theta_{1},\\theta_{0}) > c | H_{0} \\right) = \\alpha$, где $P\\left(LR(\\overrightarrow{X},\\theta_{1},\\theta_{0}) > c | H_{0}\\right)$ - вероятность получить наблюдаемое значение статистики правдоподобия, большее или равное $c$, при условии, что основная гипотеза верна.\n",
    "\n",
    "$LR(\\overrightarrow{X},\\theta_{1},\\theta_{0})\\gt c$, то принимаем основную гипотезу\n",
    "\n",
    "$LR(\\overrightarrow{X},\\theta_{1},\\theta_{0})\\lt c$, то отвергаем основную гипотезу"
   ]
  },
  {
   "cell_type": "markdown",
   "id": "18333bfd-881f-443c-af5d-08b5cb94ebb0",
   "metadata": {
    "jp-MarkdownHeadingCollapsed": true
   },
   "source": [
    "## Постановка задачи\n",
    "Для полученных в результате эксперимента наборов данных выполнить статистическую обработку. Полученные результаты содержательно проинтерпретировать.\n",
    "### 1 задание\n",
    "В результате эксперимента получены данные, приведенные в таблице 1. <br>\n",
    "a) Построить вариационный ряд, эмпирическую функцию распределения и гистограмму частот. <br>\n",
    "b) Вычислить выборочные аналоги следующих числовых характеристик: <br>\n",
    "    &emsp;(i) математического ожидания;\n",
    "    (ii) дисперсии;\n",
    "    (iii) СКО;\n",
    "    (iv) медианы;\n",
    "    (v) асимметрии;\n",
    "    (vi) эксцесса;\n",
    "    (vii) вероятности $\\mathbb{P}(X\\in[a,b])$.<br>\n",
    "c) В предположении, что исходные наблюдения являются выборкой из распределения Пуассона, построить оценку максимального правдоподобия параметра $\\lambda$, а также оценку $\\lambda$ по методу моментов. Найти смещение оценок.<br>\n",
    "d) Построить асимптотический доверительный интервал уровня значимости  $\\alpha_{1}$ для параметра $\\lambda$ на базе оценки максимального правдоподобия.<br>\n",
    "e) Используя гистограмму частот, построить критерий значимости $\\chi^2$ проверки пустой гипотезы согласия с распределением Пуассона с параметром $\\lambda_{0}$. Проверить гипотезу на уровне значимости $\\alpha_{1}$. Вычислить наибольшее значение уровня значимости, на котором ещё нет оснований отвергнуть данную гипотезу.<br>\n",
    "f) Построить критерий значимости $\\chi^2$ проверки сложной гипотезы согласия с распределением Пуассона. Проверить гипотезу на уровне значимости $\\alpha_{1}$. Вычислить наибольшее значение уровня значимости, на котором ещё нет оснований отвергнуть данную гипотезу.<br>\n",
    "g) Построить наиболее мощный критерий проверки простой гипотезы пуассоновсти с параметром  $\\lambda=\\lambda_{0}$ при альтернативе пуассоновости с параметром $\\lambda=\\lambda_{1}$. Проверить гипотезу на уровне значимости $\\alpha_{1}$. Что получится, если поменять местами основную и альтернативную гипотезы?<br>\n",
    "h) В пунктах (c)-(f) заменить семейтсво распределений Пуассона на семейство геометрических распределений:<br>\n",
    "$$\\mathbb{P}_{\\lambda}(X=k)=\\frac{\\lambda^k}{(\\lambda+1)^{k+1}}, k\\in\\mathbb{Z}_{+}$$\n",
    "\n",
    "### 2 задание\n",
    "В результате эксперимента получены данные, приведенные в таблице 2. <br>\n",
    "a) Построить вариационный ряд, эмпирическую функцию распределения, гистограмму и полигон частот с шагом $h$. <br>\n",
    "b) Вычислить выборочные аналоги следующих числовых характеристик: <br>\n",
    "    &emsp;(i) математического ожидания;\n",
    "    (ii) дисперсии;\n",
    "    (iii) СКО;\n",
    "    (iv) медианы;\n",
    "    (v) асимметрии;\n",
    "    (vi) эксцесса;\n",
    "    (vii) вероятности $\\mathbb{P}(X\\in[c,d])$.<br>\n",
    "c) В предположении, что исходные наблюдения являются выборкой из показательного распределения, построить оценку максимального правдоподобия параметра $\\lambda$ и соответствующую оценку по методу моментов. Найти смещение оценок.<br>\n",
    "d) Построить асимптотический доверительный интервал уровня значимости  $\\alpha_{2}$ для параметра $\\lambda$ на базе оценки максимального правдоподобия.<br>\n",
    "e) С использованием теоремы Колмогорова построить критерий значимости проверки пустой гипотезы согласия с показательным распределением с параметром $\\lambda_{0}$. Проверить гипотезу на уровне значимости $\\alpha_{2}$. Вычислить наибольшее значение уровня значимости, на котором ещё нет оснований отвергнуть данную гипотезу.<br>\n",
    "f) Используя гистограмму частот, построить критерий значимости $\\chi^2$ проверки простой гипотезы согласия с показательным распределением с параметром $\\lambda_{0}$. Проверить гипотезу на уровне значимости $\\alpha_{2}$. Вычислить наибольшее значение уровня значимости, на котором ещё нет оснований отвергнуть данную гипотезу.<br>\n",
    "g) Построить критерий значимости $\\chi^2$ проверки сложной гипотезы согласия с показательным распределением. Проверить гипотезу на уровне значимости $\\alpha_{2}$. Вычислить наибольшее значение уровня значимости, на котором ещё нет оснований отвергнуть данную гипотезу.<br>\n",
    "h) Построить наиболее мощный критерий проверки простой гипотезы о показательности с параметром  $\\lambda=\\lambda_{0}$ при альтернативе показательности с параметром $\\lambda=\\lambda_{1}$. Проверить гипотезу на уровне значимости $\\alpha_{2}$. Что получится, если поменять местами основную и альтернативную гипотезы?<br>\n",
    "i) В пунктах (c)-(h) заменить семейтсво показательных распределений на семейство гамма-распределений с плотностями:\n",
    "$p_{\\lambda}(x)=\\frac{\\sqrt{\\lambda}exp(-\\lambda x/2)}{\\sqrt{2\\pi x}}$ (использовать таблицу распределений $\\chi^2_{1}$)<br>"
   ]
  },
  {
   "cell_type": "markdown",
   "id": "2ea0a895-b8aa-461b-8135-5388bbb783f2",
   "metadata": {},
   "source": [
    "## Выполнение работы"
   ]
  },
  {
   "cell_type": "code",
   "execution_count": 1,
   "id": "397c30a4-b429-4699-8e19-88c3fa96ed0d",
   "metadata": {},
   "outputs": [],
   "source": [
    "import numpy as np\n",
    "import matplotlib.pyplot as plt\n",
    "from scipy import stats\n",
    "import statsmodels.api as sm\n",
    "import matplotlib.pyplot as plt\n",
    "import scipy.stats as st\n",
    "from scipy.optimize import minimize\n",
    "from math import factorial\n",
    "import scipy.stats as sps\n",
    "import scipy.optimize as spo"
   ]
  },
  {
   "cell_type": "markdown",
   "id": "bfd2fd81-dfaa-46bc-8fc0-09863097afbf",
   "metadata": {},
   "source": [
    "### Задание 1"
   ]
  },
  {
   "cell_type": "markdown",
   "id": "44340bba-83c0-4105-a30e-d94a1a2686e6",
   "metadata": {},
   "source": [
    "#### a) Построить вариационный ряд, эмпирическую функцию распределения, гистограмму частот"
   ]
  },
  {
   "cell_type": "code",
   "execution_count": 2,
   "id": "f83884c1-aa98-489e-aa61-1932955319f1",
   "metadata": {},
   "outputs": [
    {
     "data": {
      "image/png": "[encoded data removed]",
      "text/plain": [
       "<Figure size 640x480 with 1 Axes>"
      ]
     },
     "metadata": {},
     "output_type": "display_data"
    }
   ],
   "source": [
    "data_1 = [3, 0, 1, 0, 1, 1, 0, 0, 0, 1, 0, 0, 2, 1, 0, 0, 0, 1, 0, 0, 2, 0, 4, 0, 0, 1, 1, 1, 1, 0, 0, 2, 0, 0, 1, 2, 0, 0, 1, 1, 0, 1, 0, 0, 1, 4, 1,\n",
    "0, 0, 0]\n",
    "sort_data_1 = np.sort(data_1);\n",
    "plt.title('Вариационный ряд')\n",
    "plt.xlabel('Наблюдения')\n",
    "plt.ylabel('Величина')\n",
    "plt.plot(sort_data_1,  marker='o')\n",
    "plt.show()\n"
   ]
  },
  {
   "cell_type": "code",
   "execution_count": 3,
   "id": "9ee489c7-76d4-4c03-ab7d-2b96afe93d6e",
   "metadata": {},
   "outputs": [
    {
     "data": {
      "image/png": "[encoded data removed]",
      "text/plain": [
       "<Figure size 640x480 with 1 Axes>"
      ]
     },
     "metadata": {},
     "output_type": "display_data"
    }
   ],
   "source": [
    "def draw(F, X):\n",
    "    X.insert(0, X[0]-1)\n",
    "    X.append(X[-1]+1)\n",
    "    F = [F(x) for x in X]\n",
    "    for i in range(1,len(F)):\n",
    "        plt.plot([X[i-1], X[i]], [F[i], F[i]],c='b', zorder=-1)\n",
    "        if i != len(F)-1:\n",
    "            plt.scatter(X[i], F[i], c='b')\n",
    "        if i != 1:\n",
    "            plt.scatter(X[i-1], F[i], c='white', edgecolors='blue', linewidths=1)\n",
    "    plt.title('Эмперическая функция')\n",
    "    plt.xlabel('Значения')\n",
    "    plt.ylabel('Вероятность')\n",
    "    plt.show()\n",
    "    \n",
    "def FSelective(X_var):\n",
    "    vals = set(X_var)\n",
    "    def F(x):\n",
    "        cnt = 0\n",
    "        for val in vals:\n",
    "            if x > val:\n",
    "                cnt += X_var.count(val)\n",
    "            \n",
    "        return cnt / len(X_var)\n",
    "    return F\n",
    "\n",
    "\n",
    "draw(FSelective(sorted(data_1)), list(set(sorted(data_1))))"
   ]
  },
  {
   "cell_type": "code",
   "execution_count": 4,
   "id": "30ea0e29-05fd-4705-97d1-da5614742708",
   "metadata": {},
   "outputs": [
    {
     "data": {
      "text/plain": [
       "Text(0, 0.5, 'Частота')"
      ]
     },
     "execution_count": 4,
     "metadata": {},
     "output_type": "execute_result"
    },
    {
     "data": {
      "image/png": "[encoded data removed]",
      "text/plain": [
       "<Figure size 640x480 with 1 Axes>"
      ]
     },
     "metadata": {},
     "output_type": "display_data"
    }
   ],
   "source": [
    "bins = np.arange(min(data_1), max(data_1) +1)\n",
    "plt.hist(data_1, bins=bins, edgecolor='black', label='Гистограмма')\n",
    "plt.title('Гистограмма частот')\n",
    "plt.xlabel('Интервалы')\n",
    "plt.ylabel('Частота')"
   ]
  },
  {
   "cell_type": "markdown",
   "id": "45b39085-adeb-4264-a80f-6d1255233f17",
   "metadata": {},
   "source": [
    "#### b) Вычислить выборочные аналогии следующих числовых характеристик:\n",
    "(i) математическое ожидание, (ii) дисперсия, (iii) СКО, (iv) медиана, (v) асиметрия, (vi) эксцесса,(vii) вероятность поподания в интервал [c,d]"
   ]
  },
  {
   "cell_type": "code",
   "execution_count": 5,
   "id": "70e5ffc9-e0d1-4cbf-a066-1c2a93eea228",
   "metadata": {},
   "outputs": [
    {
     "name": "stdout",
     "output_type": "stream",
     "text": [
      "Мат.ожидание= 0.7\n",
      "Дисперсия= 0.97\n",
      "Выборочное стандартное отклонение= 0.9848857801796105\n",
      "Медиана= 0.0\n",
      "Асимметрия= 1.7585376880664743\n",
      "Эксцесс= 3.0198745881602704\n",
      "Вероятность попадания в промежуток= 0.86\n"
     ]
    }
   ],
   "source": [
    "mean_1 = np.mean(data_1) # математическое ожидание\n",
    "var_1 = np.var(data_1) # дисперсия\n",
    "std_1 = np.std(data_1) # выборочное стандартное отклонение\n",
    "median_1 = np.median(data_1) # медиана\n",
    "skewness_1 = stats.skew(data_1)  # Асимметрия\n",
    "kurtosis_1 = stats.kurtosis(data_1)  # Эксцесса\n",
    "a=0.00\n",
    "b= 1.35\n",
    "countIn = 0\n",
    "for x in data_1:\n",
    "    if(a<=x<=b):\n",
    "        countIn+=1\n",
    "probability_1 = countIn/len(data_1)\n",
    "print(\"Мат.ожидание=\",mean_1)\n",
    "print(\"Дисперсия=\",var_1)\n",
    "print(\"Выборочное стандартное отклонение=\",std_1)\n",
    "print(\"Медиана=\",median_1)\n",
    "print(\"Асимметрия=\",skewness_1)\n",
    "print(\"Эксцесс=\",kurtosis_1)\n",
    "print(\"Вероятность попадания в промежуток=\",probability_1)\n",
    "#print(data_2)"
   ]
  },
  {
   "cell_type": "markdown",
   "id": "32d4abc7-1d28-4e0b-9761-75ed4af09ee0",
   "metadata": {},
   "source": [
    "#### c) В предположении, что исходные наблюдения являются выборкой из распределения Пуассона, построить оценку максимального правдоподобия параметра $\\lambda$, а также оценку по методу моментов.Найти смещение оценки.\n",
    "Найдём ОМП.\n",
    "\n",
    "$p(x) = \\frac{\\lambda^{x}}{x!}\\cdot exp(-\\lambda)$\n",
    "\n",
    "Построим функцию правдоподобия\n",
    "\n",
    "$L({X};\\theta)=\\prod_{i=1}^{n}\\frac{\\lambda^{x_{i}}}{x_{i}!}\\cdot exp(-\\lambda)=\\frac{\\lambda^{\\sum_{i=1}^{n}x_{i}}}{\\prod_{i=1}^{n}(x_{i}!)}\\cdot exp(-n\\cdot \\lambda)$\n",
    "\n",
    "Прологарифмируем функцию правдоподобия\n",
    "\n",
    "$LL({X},\\theta)=-n\\lambda + \\sum_{i=1}^n{x_i} \\ln\\lambda + \\ln(\\prod_{i=1}^{n}{(x_i!)^{-1}}) $\n",
    "\n",
    "$\\frac{\\partial LL({X},\\theta)}{\\partial \\lambda}=-n + \\frac{\\sum_{i=1}^n{x_i}}{\\lambda} = 0$\n",
    "\n",
    "$\\widehat\\lambda=\\overline{x}$\n",
    "\n",
    "Также $T = \\sum_{i=1}^{n}X_{i}$ - минимальная достаточная статистика. Является полной, так как распределение Пуассона принадлежит семейству экспоненциальных распределений \n",
    "\n",
    "Найдём ОММ.\n",
    "Первый момент $\\mathbb{E}X_{1}=\\lambda;M_{1}=\\overline{X}$ - из показательного распределения\n",
    "\n",
    "Отсюда $\\widehat{\\theta}=\\widehat{\\lambda}=\\overline{X}$\n",
    "\n",
    "$\\mathbb{E}_{\\theta}\\widehat\\lambda=\\mathbb{E}_{\\theta}\\overline{X}=\\mathbb{E}_{\\theta}\\frac{1}{n}\\cdot \\sum_{i=1}^{n}x_{i}=\\frac{1}{n}\\cdot \\mathbb{E_{\\theta}}\\sum_{i=1}^{n}x_{i}=\\frac{1}{n}\\cdot \\sum_{i=1}^{n}\\mathbb{E_{\\theta}}X_{1}=\\frac{1}{n}\\cdot n\\cdot \\mathbb{E}_{\\theta}X_{1}=\\lambda $ - несмещенная НРМД-оценка\n"
   ]
  },
  {
   "cell_type": "markdown",
   "id": "f47c8a45-7470-4a6f-a405-92360e9c0c19",
   "metadata": {},
   "source": [
    "#### d)Построить асимптотический доверительный интервал уровня значимости $\\alpha_1$ для параметра $\\lambda$ на базе оценки максимального правдоподобия\n",
    "1. ОМП $\\widehat{\\theta}=\\widehat{\\lambda}=\\overline{x}$\n",
    "\n",
    "2. $\\sqrt{n}\\left( \\widehat{\\theta}(\\overrightarrow{X})-\\theta \\right)\\sim N\\left( 0, \\frac{1}{I(\\theta)} \\right)$ , где $I(\\theta)$ - информация Фишера\n",
    "\n",
    "   $I_n(\\theta)=-\\mathbb{E}\\left( \\frac{\\partial^{2} LL}{\\partial \\lambda^{2}} \\right)=-\\mathbb{E}\\left( -\\frac{\\sum_{i=1}^{n}X_{i}}{\\lambda^{2}} \\right)=\\frac{n}{\\lambda}; I(\\theta) = \\frac{1}{\\lambda}$\n",
    "3. $\\sqrt{n\\cdot I\\left(  \\widehat{\\theta}(\\overrightarrow{X})\\right)}\\left( \\widehat{\\theta}(\\overrightarrow{X})-\\theta \\right)\\sim N(0,1)$\n",
    "4. Выбираем $X_{\\alpha}$: $\\mathrm{Ф}(X_{\\alpha})=1-\\frac{\\alpha_{1}}{2}=1-\\frac{0.1}{2}=0.95$ \n",
    "\n",
    "    $X_{0.95}=1.65$\n",
    "\n",
    "5. $А.Д.И. \\left[ {\\overline{X}}-\\frac{X_{0.95}}{\\sqrt{50\\cdot \\overline{X}}}; {\\overline{X}}+\\frac{X_{0.95}}{\\sqrt{50\\cdot \\overline{X}}}\\right]$\n",
    "\n",
    "$0.422\\le \\lambda\\le 0.978$- Асимп. довер. интервал параметра $\\lambda$.\n",
    "\n",
    "##### на безе асимтотической нормальной оценки $\\widehat{\\theta}$\n",
    "1. $\\sqrt{n}\\left( \\widehat{\\theta}(\\overrightarrow{X})-\\theta \\right)\\sim N(0,\\sigma^{2}(\\theta))$\n",
    "\n",
    "2. $\\sqrt{n}\\frac{ \\widehat{\\theta}(\\overrightarrow{X})-\\theta}{\\sigma(\\widehat{\\theta})}\\sim N(0,1)$\n",
    "\n",
    "3. $X_{\\alpha}: \\mathrm{Ф(X_{\\alpha})}=0.95\\to X_{0.95}=1.65$\n",
    "\n",
    "$-X_{0.95}\\le \\sqrt{n}\\cdot \\frac{\\widehat{\\lambda}-\\lambda}{\\sqrt{\\widehat{\\lambda}}}\\le X_{0.95}$\n",
    "\n",
    "$\\widehat{\\lambda} - \\frac{X_{0.9} \\sqrt{\\widehat{\\lambda}}}{\\sqrt{n}} \\le \\lambda \\le \\widehat{\\lambda} + \\frac{X_{0.9} \\sqrt{\\widehat{\\lambda}}}{\\sqrt{n}} \\Rightarrow$\n",
    "$ 0.422\\le \\lambda\\le 0.978$ - А.Д.И. параметра $\\lambda$"
   ]
  },
  {
   "cell_type": "code",
   "execution_count": 6,
   "id": "ef5ae47a-2f73-4515-865b-9750058591f2",
   "metadata": {},
   "outputs": [
    {
     "name": "stdout",
     "output_type": "stream",
     "text": [
      "1.6448536269514722\n",
      "50\n",
      "0.7\n",
      "0.4219689917552662 0.9780310082447337\n"
     ]
    }
   ],
   "source": [
    "# Рассчет x_alpha\n",
    "print(stats.norm.ppf(0.95))\n",
    "# n\n",
    "print(len(data_1))\n",
    "print(mean_1)\n",
    "# interval\n",
    "interval_left_1 = mean_1 - (stats.norm.ppf(0.95))/(mean_1*len(data_1))**0.5\n",
    "interval_right_1 = mean_1 + (stats.norm.ppf(0.95))/(len(data_1)* mean_1)**0.5\n",
    "print(interval_left_1, interval_right_1)"
   ]
  },
  {
   "cell_type": "markdown",
   "id": "a9cebb7c-9410-4af1-b593-969d3056100e",
   "metadata": {},
   "source": [
    "#### e)Используя гистограмму частот, построить критерий значимости $\\mathcal{X^{2}}$ проверки простой гипотезы согласия с распределением Пуассона с параметром $\\lambda_{0}$. Проверить гипотезу на урокень значимости $\\alpha_{1}$. Вычислить наибольшее значение уровня значимости, на котором ещё нет оснований отвергнуть данную гипотезу.\n",
    "\n",
    "$P_{i}=P_{H_{0}}=(X\\in I_{i})=\\sum_{k\\in I_{i}}^{}\\frac{\\lambda_{0}^{k}}{k!}exp(-\\lambda_{0})$\n",
    "\n",
    "$\\lambda_{0} = 1.40$\n",
    "\n",
    "Интервалы $I_i$: ($-\\infty$,0], (0,1], (1,2], (2,3], (3,$+\\infty$]\n",
    "\n",
    "$I_{1}=\\left( -\\infty,0 \\right], v_{1}=27$\n",
    "\n",
    "$I_{2}=\\left[ 0,1 \\right], v_{2}=16$\n",
    "\n",
    "$I_{3}=\\left( 1,2 \\right], v_{3}=4$\n",
    "\n",
    "$I_{4}=\\left( 2,3 \\right], v_{4}=1$\n",
    "\n",
    "$I_{5}=\\left( 3,+\\infty\\right], v_{5}=2$\n",
    "\n",
    "$P_{1}=\\frac{1.4^{0}}{0!}exp(-1.4)=0.2466\\to nP_{1}=12.3298$\n",
    "\n",
    "$P_{2}=\\frac{1.4^{1}}{1!}exp(-1.4)=0.3452\\to nP_{2}=17.2618$\n",
    "\n",
    "$P_{3}=\\frac{1.4^{2}}{2!}exp(-1.4)=0.2417\\to nP_{3}=12.0833$\n",
    "\n",
    "$P_{4}=\\frac{1.4^{3}}{3!}exp(-1.4)=0.1128\\to nP_{4}=5.6389$\n",
    "\n",
    "$P_{5}=\\frac{1.4^{4}}{4!}exp(-1.4)=0.0395\\to nP_{4}=1.9736$\n",
    "\n",
    "\n"
   ]
  },
  {
   "cell_type": "code",
   "execution_count": 7,
   "id": "41efeaf1-e0c5-49ef-a2e6-1cd474c40bda",
   "metadata": {},
   "outputs": [
    {
     "name": "stdout",
     "output_type": "stream",
     "text": [
      "50\n",
      "Интервал: (-1; 0], Количество: 27\n",
      "Интервал: (0; 1], Количество: 16\n",
      "Интервал: (1; 2], Количество: 4\n",
      "Интервал: (2; 3], Количество: 1\n",
      "Интервал: (3; 4], Количество: 2\n"
     ]
    }
   ],
   "source": [
    "interval = [-1, 0, 1, 2, 3, 4]\n",
    "\n",
    "v = [0] * (len(interval)-1)\n",
    "\n",
    "for i in range(0,len(interval)-1):\n",
    "    v[i] = 0\n",
    "    for data in sort_data_1:\n",
    "        if(interval[i]<data<=interval[i+1]):\n",
    "            v[i] +=1\n",
    "sum = 0\n",
    "for i in v:\n",
    "    sum+=i\n",
    "print(sum)\n",
    "for i in range(0,len(interval)-1):\n",
    "    print(f\"Интервал: ({interval[i]}; {interval[i+1]}], Количество: {v[i]}\")"
   ]
  },
  {
   "cell_type": "code",
   "execution_count": 8,
   "id": "d5266a9d-fae8-45c3-936a-a23a64bad471",
   "metadata": {},
   "outputs": [
    {
     "name": "stdout",
     "output_type": "stream",
     "text": [
      "np1 = 50 * 0.24659696394160646 = 12.329848197080324\n",
      "np2 = 50 * 0.3452357495182492 = 17.26178747591246\n",
      "np3 = 50 * 0.24166502466277417 = 12.083251233138709\n",
      "np4 = 50 * 0.11277701150929476 = 5.638850575464738\n",
      "np5 = 50 * 0.0394719540282531 = 1.973597701412655\n"
     ]
    }
   ],
   "source": [
    "lambda_0 = 1.4\n",
    "formula = lambda k: st.poisson.cdf(k, lambda_0)\n",
    "p = []\n",
    "for i in range(0,len(interval)-1):\n",
    "    p.append(formula(interval[i+1]) - formula(interval[i]))\n",
    "np =  []\n",
    "for i in range(len(p)):\n",
    "    np.append(50 * p[i])\n",
    "    print(f'np{i + 1} = 50 * {p[i]} = {np[i]}')"
   ]
  },
  {
   "cell_type": "code",
   "execution_count": 9,
   "id": "ad5c1127-2ca2-4291-bf22-bc4ca00c5673",
   "metadata": {},
   "outputs": [
    {
     "name": "stdout",
     "output_type": "stream",
     "text": [
      "Значение статистики критерия 26.770839828970438\n"
     ]
    }
   ],
   "source": [
    "hi_2 = lambda i: (v[i] - np[i])**2 / np[i]\n",
    "\n",
    "value = 0\n",
    "for i in range(len(np)):\n",
    "    value += hi_2(i)\n",
    "\n",
    "print(\"Значение статистики критерия\", value)"
   ]
  },
  {
   "cell_type": "markdown",
   "id": "e497a34c-9593-46be-b7cf-3d394e466ab3",
   "metadata": {},
   "source": [
    "$X_{\\alpha}: K_{r - 1}(X_{\\alpha}) = 1 - \\alpha_1 = 1 - 0.1 = 0.9$, где r - количество интервалов,"
   ]
  },
  {
   "cell_type": "code",
   "execution_count": 10,
   "id": "e9e52da2-64ff-4a8a-ad38-f622674a4d80",
   "metadata": {},
   "outputs": [
    {
     "name": "stdout",
     "output_type": "stream",
     "text": [
      "Квантиль x_a = 7.779\n",
      "Функция распределения K_4(x_a) = 0.9\n"
     ]
    }
   ],
   "source": [
    "fx = 0.9\n",
    "x_a = sps.chi2.ppf(fx, 4)\n",
    "\n",
    "print(\"Квантиль x_a =\", round(x_a, 3))\n",
    "print(\"Функция распределения K_4(x_a) =\", sps.chi2.cdf(x_a, 4))"
   ]
  },
  {
   "cell_type": "markdown",
   "id": "eb2ac14f-0218-4df1-8a0e-c2b59593349e",
   "metadata": {},
   "source": [
    "$\\chi^2 > x_\\alpha$ , то гипотеза отвергается"
   ]
  },
  {
   "cell_type": "code",
   "execution_count": 11,
   "id": "9531eda2-5cdc-4c8e-a3a5-3c8bc1622a9d",
   "metadata": {},
   "outputs": [
    {
     "name": "stdout",
     "output_type": "stream",
     "text": [
      "Наибольшее значение уровня значимости = 2.212474255658403e-05\n"
     ]
    }
   ],
   "source": [
    "x_a = 26.77\n",
    "print(\"Наибольшее значение уровня значимости =\", 1 - sps.chi2.cdf(x_a, 4))"
   ]
  },
  {
   "cell_type": "markdown",
   "id": "a4f6aa2e-d35c-4bcd-bbf0-f6ea10a424e1",
   "metadata": {},
   "source": [
    "#### f) Построить критерий значимости  $\\mathcal{X^{2}}$ проверки сложной гипотезы согласия с распределением Пуассона. Проверить гипотезу по уровню значимости $\\alpha_{1}$.Вычислить наибольшее значение уровня значимости, на котором ещё нет оснований отвергнуть данную гипотезу.\n",
    "\n",
    "Основная гипотеза: $H_0 : F \\in \\left\\{Pois(\\theta) : \\theta \\in \\Theta_0 \\right\\}$\n",
    "\n",
    "Альтернативная гипотеза: $H_A : F \\notin \\left\\{Pois(\\theta) : \\theta \\in \\Theta_0 \\right\\}$\n"
   ]
  },
  {
   "cell_type": "code",
   "execution_count": 12,
   "id": "65e722bc-06c3-4238-85b9-04e45652fc7e",
   "metadata": {},
   "outputs": [
    {
     "name": "stdout",
     "output_type": "stream",
     "text": [
      "50\n",
      "Интервал: (-1; 0], Количество: 27\n",
      "Интервал: (0; 1], Количество: 16\n",
      "Интервал: (1; 2], Количество: 4\n",
      "Интервал: (2; 3], Количество: 1\n",
      "Интервал: (3; 4], Количество: 2\n"
     ]
    }
   ],
   "source": [
    "interval = [-1, 0, 1, 2, 3, 4]\n",
    "\n",
    "v = [0] * (len(interval)-1)\n",
    "\n",
    "for i in range(0,len(interval)-1):\n",
    "    v[i] = 0\n",
    "    for data in sort_data_1:\n",
    "        if(interval[i]<data<=interval[i+1]):\n",
    "            v[i] +=1\n",
    "sum = 0\n",
    "for i in v:\n",
    "    sum+=i\n",
    "print(sum)\n",
    "for i in range(0,len(interval)-1):\n",
    "    print(f\"Интервал: ({interval[i]}; {interval[i+1]}], Количество: {v[i]}\")"
   ]
  },
  {
   "cell_type": "code",
   "execution_count": 13,
   "id": "c83bd6e6-fd95-4f6f-b667-8b554bfae92e",
   "metadata": {},
   "outputs": [
    {
     "name": "stdout",
     "output_type": "stream",
     "text": [
      "np1 = 50 * 0.24659696394160646 = 12.329848197080324\n",
      "np2 = 50 * 0.3452357495182492 = 17.26178747591246\n",
      "np3 = 50 * 0.24166502466277417 = 12.083251233138709\n",
      "np4 = 50 * 0.11277701150929476 = 5.638850575464738\n",
      "np5 = 50 * 0.0394719540282531 = 1.973597701412655\n"
     ]
    }
   ],
   "source": [
    "formula = lambda k: st.poisson.cdf(k, lambda_0)\n",
    "p = []\n",
    "for i in range(0,len(interval)-1):\n",
    "    p.append(formula(interval[i+1]) - formula(interval[i]))\n",
    "np =  []\n",
    "for i in range(len(p)):\n",
    "    np.append(50 * p[i])\n",
    "    print(f'np{i + 1} = 50 * {p[i]} = {np[i]}')"
   ]
  },
  {
   "cell_type": "code",
   "execution_count": 14,
   "id": "693d84e5-dff4-4a99-8dd4-680970d7bce9",
   "metadata": {},
   "outputs": [
    {
     "name": "stdout",
     "output_type": "stream",
     "text": [
      "Значение статистики критерия 26.770839828970438\n"
     ]
    }
   ],
   "source": [
    "hi_2 = lambda i: (v[i] - np[i])**2 / np[i]\n",
    "\n",
    "value = 0\n",
    "for i in range(len(np)):\n",
    "    value += hi_2(i)\n",
    "\n",
    "print(\"Значение статистики критерия\", value)"
   ]
  },
  {
   "cell_type": "markdown",
   "id": "5d875b40-6e7e-42d7-85c3-a9eace560ecd",
   "metadata": {},
   "source": [
    "$X_{\\alpha}: K_{r - d - 1}(X_{\\alpha}) = 1 - \\alpha_1 = 1 - 0.1 = 0.9$, где r - количество интервалов, d - размерность "
   ]
  },
  {
   "cell_type": "code",
   "execution_count": 15,
   "id": "42b33688-4e31-44fb-8a91-1c02a597eb60",
   "metadata": {},
   "outputs": [
    {
     "name": "stdout",
     "output_type": "stream",
     "text": [
      "Квантиль x_a = 6.251\n",
      "Функция распределения K_4(x_a) = 0.8999999999999999\n"
     ]
    }
   ],
   "source": [
    "fx = 0.9\n",
    "x_a = sps.chi2.ppf(fx, 3)\n",
    "\n",
    "print(\"Квантиль x_a =\", round(x_a, 3))\n",
    "print(\"Функция распределения K_4(x_a) =\", sps.chi2.cdf(x_a, 3))"
   ]
  },
  {
   "cell_type": "markdown",
   "id": "56649f22-12bf-40df-8fdb-e37122b5e35f",
   "metadata": {},
   "source": [
    "$\\chi^2 > x_\\alpha$ , то гипотеза отвергается"
   ]
  },
  {
   "cell_type": "code",
   "execution_count": 16,
   "id": "5b9df610-dc3f-4b03-bcc4-6d3bc90dfc6f",
   "metadata": {},
   "outputs": [
    {
     "name": "stdout",
     "output_type": "stream",
     "text": [
      "Наибольшее значение уровня значимости = 6.578566369985772e-06\n"
     ]
    }
   ],
   "source": [
    "x_a = 26.77\n",
    "print(\"Наибольшее значение уровня значимости =\", 1 - sps.chi2.cdf(x_a, 3))"
   ]
  },
  {
   "cell_type": "markdown",
   "id": "2d0738cb-6b54-47cc-8759-d97b6a4e004b",
   "metadata": {},
   "source": [
    "#### g)Построить наиболее мощный критерий проверки простой гипотезы пауссоновости с параметром $\\lambda=\\lambda_{0}$ при альтернативе пуассоновсти с параметром $\\lambda=\\lambda_{1}$. Проверить гипотезу на уровне значимости $\\alpha_{1}$. Что получится, если поменять местами основную и альтернативную гипотезы?\n",
    "\n",
    "Основная гипотеза: $H_{0}=\\lambda_{0}$\n",
    "\n",
    "Альтернативная гипотеза: $H_{A}=\\lambda_{1}$\n",
    "\n",
    "По лемме Неймана-Пирса\\\n",
    "$\\varphi \\left({X} \\right) = \\begin{cases} 0, \\quad LR \\left( {X}, \\lambda_1, \\lambda_0 \\right) < x_\\alpha \\\\ p, \\quad LR \\left({X}, \\lambda_1, \\lambda_0 \\right) = x_\\alpha \\\\ 1, \\quad LR \\left( {X}, \\lambda_1, \\lambda_0 \\right) > x_\\alpha \\end{cases}$, где $LR \\left({X}, \\lambda_1, \\lambda_0 \\right) = \\frac{\\large L \\left( {X}, \\lambda_1 \\right)}{\\large L \\left({X}, \\lambda_0 \\right)}$\n",
    "\n",
    "Статистическа правдоподобия:\n",
    "\n",
    "$LR({X},\\lambda_{1},\\lambda_{0}) = \\frac{L\\left({X},\\lambda_{1} \\right)}{L\\left({X},\\lambda_{0} \\right)}= \\frac{\\lambda_{1}^{\\sum_{i=1}^{50}X_{i}}\\cdot exp(-n\\cdot \\lambda_{1})}{\\lambda_{0}^{\\sum_{i=1}^{50}X_{i}}\\cdot exp(-n\\cdot \\lambda_{0})}$\n",
    "\n",
    "В силу монотонности статистики $LR(\\overrightarrow{X})$ относительно МДС = $\\overline{X}$\n",
    "Cтатистическое отношение правдоподобия:\n",
    "\n",
    "$\\frac{\\lambda_{1}^{\\sum_{i=1}^{n}X_{i}}\\cdot exp(-n\\cdot \\lambda_{1})}{\\lambda_{0}^{\\sum_{i=1}^{n}X_{i}}\\cdot exp(-n\\cdot \\lambda_{0})}\\gt c\n",
    " \\Rightarrow \\exp(-n(\\lambda_1 - \\lambda_0))\\left(\\frac{\\lambda_1}{\\lambda_0}\\right)^{\\sum_{i=1}^{n}{x_i}} \\gt c\n",
    " \\Rightarrow  \\ln\\frac{\\lambda_1}{\\lambda_0}\\sum_{i=1}^{n}{x_i} -n(\\lambda_1 - \\lambda_0) > \\ln c\n",
    " \\Rightarrow {X}\\gt c^* = \\frac{\\ln c + n(\\lambda_1 - \\lambda_0)}{n\\ln\\frac{\\lambda_1}{\\lambda_0}}$\n",
    "\n",
    "$P_{\\lambda_0}\\left(LR({X}) > c^*\\right) + pP_{\\lambda_0}\\left(n LR({X}) = c^*\\right) = \\alpha_1$\n",
    "\n",
    "$P_{\\lambda_0}\\left(n{X} > nc^*\\right) + pP_{\\lambda_0}\\left(n {X} = c^*\\right) = \\alpha_1$\n",
    "\n",
    "Критерий не определен однозначно при $LR({X}) = c$\n",
    "\n",
    "Пусть $LR({X}) \\neq c$\n",
    "\n",
    "Тогда $P_{\\lambda_0}\\left(n{X} > nc^*\\right) = 1 - F_{Pois(n\\lambda_0)}\\left(nc^*\\right) = \\alpha_1 \\Rightarrow $ \n",
    "$F_{Pois(n\\lambda_0)}\\left(nc^*\\right) = 1 - \\alpha_1 = 1 - 0.1 = 0.9$"
   ]
  },
  {
   "cell_type": "code",
   "execution_count": 17,
   "id": "21925241-4f12-460a-b2b8-ddc041b96883",
   "metadata": {},
   "outputs": [
    {
     "name": "stdout",
     "output_type": "stream",
     "text": [
      "1.62\n"
     ]
    }
   ],
   "source": [
    "lambda_0 = 1.4\n",
    "n = len(data_1)\n",
    "print(stats.poisson.ppf(0.9, n*lambda_0) / n)"
   ]
  },
  {
   "cell_type": "markdown",
   "id": "6d39a451-c8bc-4290-89bc-564a50bcddc6",
   "metadata": {},
   "source": [
    "$c^* = 1.62$\n",
    "\n",
    "$c^* > \\bar{X} = 0.7 \\Rightarrow $ принимается $H_{0}$ гипотеза\n",
    "\n",
    "Меняем местами основную и альтернативную гипотезу:\n",
    "\n",
    "$H_{0}=\\lambda_{1}$, $H_{A}=\\lambda_{0}$\n",
    "\n",
    " $L(\\overrightarrow{X};\\lambda)=\\lambda^{\\sum_{i=1}^{n}X_{i}} \\cdot \\prod_{i=1}^{n}(X_{i}!)^{-1} \\cdot exp(-n\\cdot \\lambda)$ <br>\n",
    "\n",
    " Тогда статистика отношения правдоподобия: $LR(\\overrightarrow{X},\\lambda_{0},\\lambda_{1}) = \\frac{L\\left( \\overrightarrow{X},\\lambda_{0} \\right)}{L\\left( \\overrightarrow{X},\\lambda_{1} \\right)}= \\frac{\\lambda_{0}^{\\sum_{i=1}^{n}X_{i}}\\cdot exp(-n\\cdot \\lambda_{0})}{\\lambda_{1}^{\\sum_{i=1}^{n}X_{i}}\\cdot exp(-n\\cdot \\lambda_{1})}$\n",
    "\n",
    "В силу монотонности статистики $LR(\\overrightarrow{X})$ относительно МДС $\\bar{X}$:\n",
    "\n",
    " $\\frac{\\lambda_{0}^{\\sum_{i=1}^{n}X_{i}}\\cdot exp(-n\\cdot \\lambda_{0})}{\\lambda_{1}^{\\sum_{i=1}^{n}X_{i}}\\cdot exp(-n\\cdot \\lambda_{1})}\\gt c\n",
    " \\Rightarrow \\exp(-n(\\lambda_0 - \\lambda_1))\\left(\\frac{\\lambda_0}{\\lambda_1}\\right)^{\\sum_{i=1}^{n}{x_i}} \\gt c\n",
    " \\Rightarrow  \\ln\\frac{\\lambda_0}{\\lambda_1}\\sum_{i=1}^{n}{x_i} -n(\\lambda_0 - \\lambda_1) > \\ln c\n",
    " \\Rightarrow \\bar{X}\\gt c^* = \\frac{\\ln c + n(\\lambda_0 - \\lambda_1)}{n\\ln\\frac{\\lambda_0}{\\lambda_1}}$\n",
    "\n",
    "$P_{\\lambda_1}\\left(LR(\\overrightarrow{X}) > c^*\\right) + pP_{\\lambda_1}\\left(n LR(\\overrightarrow{X}) = c^*\\right) = \\alpha_1$\n",
    "\n",
    "$P_{\\lambda_1}\\left(n\\bar{X} > nc^*\\right) + pP_{\\lambda_1}\\left(n \\bar{X} = c^*\\right) = \\alpha_1$\n",
    "\n",
    "Пусть $LR(\\overrightarrow{X}) \\neq c$\n",
    "\n",
    "Тогда $P_{\\lambda_1}\\left(n\\bar{X} > nc^*\\right) = 1 - F_{Pois(n\\lambda_1)}\\left(nc^*\\right) = \\alpha_1 \\Rightarrow $ \n",
    "$F_{Pois(n\\lambda_1)}\\left(nc^*\\right) = 1 - \\alpha_1 = 1 - 0.1 = 0.9$"
   ]
  },
  {
   "cell_type": "code",
   "execution_count": 18,
   "id": "b833d106-e689-42ae-a1ce-d8b9f769aa4e",
   "metadata": {},
   "outputs": [
    {
     "name": "stdout",
     "output_type": "stream",
     "text": [
      "0.74\n"
     ]
    }
   ],
   "source": [
    "lambda_1 = 0.6\n",
    "n = len(data_1)\n",
    "print(stats.poisson.ppf(0.9, n*lambda_1) / n)"
   ]
  },
  {
   "cell_type": "markdown",
   "id": "445e9816-de4d-4abe-84cb-48dea74c92d1",
   "metadata": {},
   "source": [
    "$c^* = 0.74$\n",
    "\n",
    "$c^* > \\bar{X} = 0.7 \\Rightarrow $ принимается $H_{1}$"
   ]
  },
  {
   "cell_type": "markdown",
   "id": "d17e58f2-1420-438f-8c4c-ed0f49f8cec1",
   "metadata": {},
   "source": [
    "#### h.c)\n",
    "Найдём ОМП.\n",
    "\n",
    "$p(x) = \\frac{\\lambda^{k}}{(\\lambda+1)^{k+1}}$\n",
    "\n",
    "Построим функцию правдоподобия\n",
    "\n",
    "$L({X};\\theta)=\\prod_{i=1}^{n}\\frac{\\lambda^{X_{i}}}{(\\lambda+1)^{X_{i}}}=\\frac{\\lambda^{\\sum_{i=1}^{n}X_{i}}}{(\\lambda+1)^{\\sum_{i=1}^{n}X_{i}+n}}$\n",
    "\n",
    "Прологарифмируем функцию правдоподобия\n",
    "\n",
    "$LL({X},\\theta)=\\sum_{i=1}^n{x_i} \\ln\\lambda - \\left(\\sum_{i=1}^n{x_i}+n\\right) \\ln(\\lambda+1)$\n",
    "\n",
    "$\\frac{\\partial LL({X},\\theta)}{\\partial \\lambda}=\\frac{\\sum_{i=1}^n{x_i}}{\\lambda} - \\frac{\\sum_{i=1}^n{x_i} + n}{\\lambda+1} = 0$\n",
    "\n",
    "$\\sum_{i=1}^n{x_i}\\lambda + \\sum_{i=1}^n{x_i} = \\sum_{i=1}^n{x_i}\\lambda + n\\lambda $\n",
    "\n",
    "$\\widehat\\lambda=\\overline{x}$\n",
    "\n",
    "Также $T = \\sum_{i=1}^{n}X_{i}$ - минимальная достаточная статистика. \n",
    "\n",
    "Найдём ОММ.\n",
    "Первый момент $\\mathbb{E}x_1 = \\sum_{i=1}^n{\\lambda\\cdot\\frac{\\lambda^x}{(\\lambda+1)^{x+1}}} = \\lambda\\sum_{i=1}^n{\\frac{\\lambda^x}{(\\lambda+1)^{x+1}}} = \\lambda$\n",
    "\n",
    "Отсюда $\\widetilde{\\theta}=\\widetilde{\\lambda}=\\overline{X}$\n",
    "\n",
    "$\\mathbb{E}{\\overline{x}} = \\frac{1}{n}\\sum_{i=1}^n\\mathbb{E}{x_1}=\\lambda$ -  несмещенная НРМД оценка "
   ]
  },
  {
   "cell_type": "markdown",
   "id": "05f9846e-9749-4565-acb4-3e3eddf3c40f",
   "metadata": {},
   "source": [
    "#### h.d) \n",
    "ОМП\n",
    "1. ОМП $\\widehat{\\theta}=\\widehat{\\lambda}=\\overline{x}$\n",
    "\n",
    "2. $\\sqrt{n}\\left( \\widehat{\\theta}(\\overrightarrow{X})-\\theta \\right)\\sim N\\left( 0, \\frac{1}{I(\\theta)} \\right)$ , где $I(\\theta)$ - информация Фишера\n",
    "\n",
    "   $I_n(\\theta)=-\\mathbb{E}\\left( \\frac{\\partial^{2} LL}{\\partial \\lambda^{2}} \\right)= -\\mathbb{E}\\left(- \\frac{\\sum_{i=1}^{n}X_{i}}{\\lambda^2} + \\frac{\\sum_{i=1}^{n}X_{i}+n}{(\\lambda + 1)^2} \\right) = \\frac{n}{\\lambda^{2}}-\\mathbb{E}\\left( \\frac{\\sum_{i=1}^{n}X_{i}+n}{(\\lambda+1)^{2}} \\right) = \\frac{n}{\\lambda^{2}}-\\mathbb{E}\\left( \\frac{\\sum_{i=1}^{n}X_{i}}{(\\lambda+1)^{2}} \\right)-\\mathbb{E}\\left( \\frac{n}{(\\lambda+1)^{2}} \\right)=\\frac{n}{\\lambda^{2}}-\\frac{n}{(\\lambda+1)^{2}}-\\frac{n}{(\\lambda+1)^{2}}=\\frac{n(\\lambda^{2}+1)}{(\\lambda+1)^{2}\\cdot \\lambda^{2}}$\n",
    "\n",
    "   $I(\\theta) = \\frac{(\\lambda^{2}+1)}{(\\lambda+1)^{2}\\cdot \\lambda^{2}}$\n",
    "\n",
    "    $\\frac{\\partial^2 LL(\\overrightarrow{X};\\theta)}{{\\partial \\lambda}^2} = - \\frac{\\sum_{i=1}^{n}X_{i}}{\\lambda^2} + \\frac{\\sum_{i=1}^{n}X_{i}+n}{(\\lambda + 1)^2}$\n",
    "\n",
    "4. $\\sqrt{n\\cdot I\\left(  \\widehat{\\theta}(\\overrightarrow{X})\\right)}\\left( \\widehat{\\theta}(\\overrightarrow{X})-\\theta \\right)\\sim N(0,1)$\n",
    "5. Выбираем $X_{\\alpha}$: $\\mathrm{Ф}(X_{\\alpha})=1-\\frac{\\alpha_{1}}{2}=1-\\frac{0.1}{2}=0.95$ \n",
    "\n",
    "    $X_{0.95}=1.65$\n",
    "\n",
    "6. $А.Д.И. \\left[ {\\overline{X}}-\\frac{X_{0.95}}{\\sqrt{50\\cdot \\frac{(\\bar{X}^{2}+1)}{(\\bar{X}+1)^{2}\\cdot \\bar{X}^{2}}}}; {\\overline{X}}+\\frac{X_{0.95}}{\\sqrt{50\\cdot \\frac{(\\bar{X}^{2}+1)}{(\\bar{X}+1)^{2}\\cdot \\bar{X}^{2}}}}\\right]$\n",
    "\n",
    "$0.473\\le \\lambda\\le 0.927$- Асимп. довер. интервал параметра $\\lambda$.\n"
   ]
  },
  {
   "cell_type": "code",
   "execution_count": 19,
   "id": "0573c7a0-0ed4-4b69-934b-93306dfc957c",
   "metadata": {},
   "outputs": [
    {
     "name": "stdout",
     "output_type": "stream",
     "text": [
      "1.6448536269514722\n",
      "50\n",
      "0.7\n",
      "0.47322452681225935 0.9267754731877406\n"
     ]
    }
   ],
   "source": [
    "# Рассчет x_alpha\n",
    "print(stats.norm.ppf(0.95))\n",
    "# n\n",
    "print(len(data_1))\n",
    "print(mean_1)\n",
    "# interval\n",
    "interval_left_1 = mean_1 - (stats.norm.ppf(0.95))/(len(data_1)*(mean_1**2 +1)/((mean_1+1)**2 * mean_1**2))**0.5\n",
    "interval_right_1 = mean_1 + (stats.norm.ppf(0.95))/(len(data_1)*(mean_1**2 +1)/((mean_1+1)**2 * mean_1**2))**0.5\n",
    "print(interval_left_1, interval_right_1)"
   ]
  },
  {
   "cell_type": "markdown",
   "id": "8628fdff-9382-43c9-ade4-00fcf0f14d7c",
   "metadata": {},
   "source": [
    "#### h.e) \n",
    "гипотезы\n",
    "\n",
    "$H_0: X \\sim \\mathbb{P}_{\\lambda}(X = k)$\n",
    "\n",
    "$H_A: X \\not\\sim \\mathbb{P}_{\\lambda}(X = k)$\n",
    "\n"
   ]
  },
  {
   "cell_type": "code",
   "execution_count": 20,
   "id": "612d55e4-b4a9-4c38-8e83-3f24ed255a8e",
   "metadata": {},
   "outputs": [
    {
     "name": "stdout",
     "output_type": "stream",
     "text": [
      "50\n",
      "Интервал: (-1; 0], Количество: 27\n",
      "Интервал: (0; 1], Количество: 16\n",
      "Интервал: (1; 2], Количество: 4\n",
      "Интервал: (2; 3], Количество: 1\n",
      "Интервал: (3; 4], Количество: 2\n"
     ]
    }
   ],
   "source": [
    "interval = [-1, 0, 1, 2, 3, 4]\n",
    "\n",
    "v = [0] * (len(interval)-1)\n",
    "\n",
    "for i in range(0,len(interval)-1):\n",
    "    v[i] = 0\n",
    "    for data in sort_data_1:\n",
    "        if(interval[i]<data<=interval[i+1]):\n",
    "            v[i] +=1\n",
    "sum = 0\n",
    "for i in v:\n",
    "    sum+=i\n",
    "print(sum)\n",
    "for i in range(0,len(interval)-1):\n",
    "    print(f\"Интервал: ({interval[i]}; {interval[i+1]}], Количество: {v[i]}\")"
   ]
  },
  {
   "cell_type": "code",
   "execution_count": 21,
   "id": "a8125558-ff49-47d7-9e6f-e29a041ff022",
   "metadata": {},
   "outputs": [
    {
     "name": "stdout",
     "output_type": "stream",
     "text": [
      "np1 = 50 * 0.4166666666666667 = 20.833333333333336\n",
      "np2 = 50 * 0.24305555555555552 = 12.152777777777777\n",
      "np3 = 50 * 0.14178240740740744 = 7.089120370370372\n",
      "np4 = 50 * 0.08270640432098764 = 4.135320216049382\n",
      "np5 = 50 * 0.048245402520576075 = 2.4122701260288038\n"
     ]
    }
   ],
   "source": [
    "def geom(k):\n",
    "   return (lambda_0 ** k) / ((lambda_0 + 1) ** (k + 1))\n",
    "def formula(k):\n",
    "    sum =0\n",
    "    for i in range(0, k+1):\n",
    "        sum+=geom(i)\n",
    "    return sum\n",
    "p = []\n",
    "for i in range(0,len(interval)-1):\n",
    "    p.append(formula(interval[i+1]) - formula(interval[i]))\n",
    "np =  []\n",
    "for i in range(len(p)):\n",
    "    np.append(50 * p[i])\n",
    "    print(f'np{i + 1} = 50 * {p[i]} = {np[i]}')"
   ]
  },
  {
   "cell_type": "code",
   "execution_count": 22,
   "id": "d24003b6-c836-4906-a76f-6f7eaacddd08",
   "metadata": {},
   "outputs": [
    {
     "name": "stdout",
     "output_type": "stream",
     "text": [
      "Значение статистики критерия 6.836952602401818\n"
     ]
    }
   ],
   "source": [
    "hi_2 = lambda i: (v[i] - np[i])**2 / np[i]\n",
    "\n",
    "value = 0\n",
    "for i in range(len(np)):\n",
    "    value += hi_2(i)\n",
    "\n",
    "print(\"Значение статистики критерия\", value)"
   ]
  },
  {
   "cell_type": "markdown",
   "id": "4072da55-5091-4b1a-8898-bedcc72a58f5",
   "metadata": {},
   "source": [
    "$X_{\\alpha}: K_{r - d - 1}(X_{\\alpha}) = 1 - \\alpha_1 = 1 - 0.1 = 0.9$, где r - количество интервалов, d - размерность "
   ]
  },
  {
   "cell_type": "code",
   "execution_count": 23,
   "id": "e43ba66d-96c6-4f54-8494-eca747b368df",
   "metadata": {},
   "outputs": [
    {
     "name": "stdout",
     "output_type": "stream",
     "text": [
      "Значение хи-квадрат с 3 степенями свободы: 0.07543918014842872\n",
      "Квантиль x_a = 7.779\n",
      "Функция распределения K_4(x_a) = 0.9\n"
     ]
    }
   ],
   "source": [
    "fx = 0.9\n",
    "x_a = sps.chi2.ppf(fx, 4)\n",
    "chi2 =  st.chi2.cdf(fx, 4)\n",
    "print(\"Значение хи-квадрат с 3 степенями свободы:\", chi2)\n",
    "print(\"Квантиль x_a =\", round(x_a, 3))\n",
    "print(\"Функция распределения K_4(x_a) =\", sps.chi2.cdf(x_a, 4))"
   ]
  },
  {
   "cell_type": "markdown",
   "id": "3b871406-9c21-4212-bd1a-0d5480b5a128",
   "metadata": {},
   "source": [
    "$\\chi^2 < X_{\\alpha}$ - гипотеза принимается"
   ]
  },
  {
   "cell_type": "code",
   "execution_count": 24,
   "id": "089a0dc8-2346-41c6-9b80-fef551d873c2",
   "metadata": {},
   "outputs": [
    {
     "name": "stdout",
     "output_type": "stream",
     "text": [
      "Наибольшее значение уровня значимости = 0.14476246617277888\n"
     ]
    }
   ],
   "source": [
    "x_a = 6.8369\n",
    "print(\"Наибольшее значение уровня значимости =\", 1 - sps.chi2.cdf(x_a, 4))"
   ]
  },
  {
   "cell_type": "markdown",
   "id": "8dc60262-3c9d-4578-af8b-192382de1c8f",
   "metadata": {},
   "source": [
    "#### h.f) \n",
    "гипотезы\n",
    "\n",
    "$H_0: X \\sim \\mathbb{P}_{\\lambda}(X = k)$\n",
    "\n",
    "$H_A: X \\not\\sim \\mathbb{P}_{\\lambda}(X = k)$\n"
   ]
  },
  {
   "cell_type": "code",
   "execution_count": 25,
   "id": "da96b20c-a03b-4277-a79c-cf38da1ce1e8",
   "metadata": {},
   "outputs": [
    {
     "name": "stdout",
     "output_type": "stream",
     "text": [
      "50\n",
      "Интервал: (-1; 0], Количество: 27\n",
      "Интервал: (0; 1], Количество: 16\n",
      "Интервал: (1; 2], Количество: 4\n",
      "Интервал: (2; 3], Количество: 1\n",
      "Интервал: (3; 4], Количество: 2\n"
     ]
    }
   ],
   "source": [
    "interval = [-1, 0, 1, 2, 3, 4]\n",
    "\n",
    "v = [0] * (len(interval)-1)\n",
    "\n",
    "for i in range(0,len(interval)-1):\n",
    "    v[i] = 0\n",
    "    for data in sort_data_1:\n",
    "        if(interval[i]<data<=interval[i+1]):\n",
    "            v[i] +=1\n",
    "sum = 0\n",
    "for i in v:\n",
    "    sum+=i\n",
    "print(sum)\n",
    "for i in range(0,len(interval)-1):\n",
    "    print(f\"Интервал: ({interval[i]}; {interval[i+1]}], Количество: {v[i]}\")"
   ]
  },
  {
   "cell_type": "code",
   "execution_count": 26,
   "id": "1afcfc89-15af-4682-bb52-218614cea3f8",
   "metadata": {},
   "outputs": [
    {
     "name": "stdout",
     "output_type": "stream",
     "text": [
      "np1 = 50 * 0.4166666666666667 = 20.833333333333336\n",
      "np2 = 50 * 0.24305555555555552 = 12.152777777777777\n",
      "np3 = 50 * 0.14178240740740744 = 7.089120370370372\n",
      "np4 = 50 * 0.08270640432098764 = 4.135320216049382\n",
      "np5 = 50 * 0.048245402520576075 = 2.4122701260288038\n"
     ]
    }
   ],
   "source": [
    "def geom(k):\n",
    "   return (lambda_0 ** k) / ((lambda_0 + 1) ** (k + 1))\n",
    "def formula(k):\n",
    "    sum =0\n",
    "    for i in range(0, k+1):\n",
    "        sum+=geom(i)\n",
    "    return sum\n",
    "p = []\n",
    "for i in range(0,len(interval)-1):\n",
    "    p.append(formula(interval[i+1]) - formula(interval[i]))\n",
    "np =  []\n",
    "for i in range(len(p)):\n",
    "    np.append(50 * p[i])\n",
    "    print(f'np{i + 1} = 50 * {p[i]} = {np[i]}')"
   ]
  },
  {
   "cell_type": "code",
   "execution_count": 27,
   "id": "42d04265-fac4-401d-8ee7-5e0cd5e45c1e",
   "metadata": {},
   "outputs": [
    {
     "name": "stdout",
     "output_type": "stream",
     "text": [
      "Значение статистики критерия 6.836952602401818\n"
     ]
    }
   ],
   "source": [
    "hi_2 = lambda i: (v[i] - np[i])**2 / np[i]\n",
    "\n",
    "value = 0\n",
    "for i in range(len(np)):\n",
    "    value += hi_2(i)\n",
    "\n",
    "print(\"Значение статистики критерия\", value)"
   ]
  },
  {
   "cell_type": "markdown",
   "id": "30c6751d-f62b-4b9b-b69e-7eedc9b40244",
   "metadata": {},
   "source": [
    "$X_{\\alpha}: K_{r - d - 1}(X_{\\alpha}) = 1 - \\alpha_1 = 1 - 0.1 = 0.9$, где r - количество интервалов, d - размерность "
   ]
  },
  {
   "cell_type": "code",
   "execution_count": 28,
   "id": "7efb3f01-1171-4137-a3aa-0a51992cd72a",
   "metadata": {},
   "outputs": [
    {
     "name": "stdout",
     "output_type": "stream",
     "text": [
      "Квантиль x_a = 6.251\n",
      "Функция распределения K_3(x_a) = 0.8999999999999999\n"
     ]
    }
   ],
   "source": [
    "fx = 0.9\n",
    "x_a = sps.chi2.ppf(fx, 3)\n",
    "\n",
    "print(\"Квантиль x_a =\", round(x_a, 3))\n",
    "print(\"Функция распределения K_3(x_a) =\", sps.chi2.cdf(x_a, 3))"
   ]
  },
  {
   "cell_type": "markdown",
   "id": "93a7f348-c67b-43a0-947e-cf444032cead",
   "metadata": {},
   "source": [
    "$\\chi^2 > x_\\alpha$ , то гипотеза отвергается"
   ]
  },
  {
   "cell_type": "code",
   "execution_count": 29,
   "id": "ebaf96e6-3e90-45ae-b40e-cea98ac336d6",
   "metadata": {},
   "outputs": [
    {
     "name": "stdout",
     "output_type": "stream",
     "text": [
      "Наибольшее значение уровня значимости = 0.10001702156932424\n"
     ]
    }
   ],
   "source": [
    "x_a = 6.251\n",
    "print(\"Наибольшее значение уровня значимости =\", 1 - sps.chi2.cdf(x_a, 3))\n"
   ]
  },
  {
   "cell_type": "markdown",
   "id": "27e7ccd1-709c-4caa-a85c-a7df1a78975d",
   "metadata": {},
   "source": [
    "### Задание 2"
   ]
  },
  {
   "cell_type": "markdown",
   "id": "b55d2acb-1f5b-4e20-ae1b-c725bb0b5bc1",
   "metadata": {},
   "source": [
    "#### a) Построить вариационный ряд, эмпирическую функцию распределения, гистограмму и полигон частот с шагом h"
   ]
  },
  {
   "cell_type": "code",
   "execution_count": 30,
   "id": "52932d7c-0691-43e9-9525-02dcf1930703",
   "metadata": {},
   "outputs": [
    {
     "data": {
      "image/png": "[encoded data removed]",
      "text/plain": [
       "<Figure size 640x480 with 1 Axes>"
      ]
     },
     "metadata": {},
     "output_type": "display_data"
    }
   ],
   "source": [
    "import numpy as np\n",
    "data_2 =[0.40, 0.62, 3.21, 1.67, 0.27, 0.03, 0.05, 0.12, 0.83, 0.84, 5.54, 3.10, 0.10, 2.15, 11.93, 5.36, 5.90, 0.00, 7.51, 1.98, 0.14, 0.61, 0.31, 0.47, 0.29,\n",
    "0.09, 1.16, 3.48, 0.28, 0.49, 9.51, 0.01, 3.40, 1.51, 0.55, 1.02, 0.02, 0.32, 6.30, 0.02, 1.06, 0.03, 0.07, 0.48, 0.20, 4.27, 0.52, 0.38, 1.77, 0.43]\n",
    "sort_data_2 = np.sort(data_2)\n",
    "plt.title('Вариационный ряд')\n",
    "plt.xlabel('Наблюдения')\n",
    "plt.ylabel('Величина')\n",
    "plt.plot(sort_data_2,  marker='o')\n",
    "plt.show()\n"
   ]
  },
  {
   "cell_type": "code",
   "execution_count": 31,
   "id": "df29bcb5-0de8-415f-ab73-2eff23681cc8",
   "metadata": {},
   "outputs": [
    {
     "data": {
      "image/png": "[encoded data removed]",
      "text/plain": [
       "<Figure size 640x480 with 1 Axes>"
      ]
     },
     "metadata": {},
     "output_type": "display_data"
    }
   ],
   "source": [
    "from statsmodels.distributions.empirical_distribution import ECDF\n",
    "# Сортировка данных\n",
    "sort_data_2 = np.sort(data_2)\n",
    "\n",
    "# Вычисление эмпирической функции распределения\n",
    "ecdf = np.arange(1, len(sort_data_2) + 1) / len(sort_data_2)\n",
    "\n",
    "# Отрисовка графика\n",
    "plt.step(sort_data_2, ecdf, where='post', label='Эмпирическая функция распределения')\n",
    "plt.xlabel('Значение')\n",
    "plt.ylabel('Вероятность')\n",
    "plt.title('Эмпирическая функция распределения')\n",
    "plt.legend()\n",
    "\n",
    "plt.show()\n",
    "\n",
    "# ecdf = ECDF(data_2)\n",
    "# plt.title('Эмперическая функция')\n",
    "# plt.xlabel('Значения')\n",
    "# plt.ylabel('Вероятность')\n",
    "# plt.plot(ecdf.x, ecdf.y)\n",
    "# plt.show()"
   ]
  },
  {
   "cell_type": "code",
   "execution_count": 32,
   "id": "945461b2-a426-40fd-868f-c89ce0697964",
   "metadata": {},
   "outputs": [
    {
     "data": {
      "image/png": "[encoded data removed]",
      "text/plain": [
       "<Figure size 640x480 with 1 Axes>"
      ]
     },
     "metadata": {},
     "output_type": "display_data"
    }
   ],
   "source": [
    "bins = np.arange(min(data_2), max(data_2) +1)\n",
    "plt.hist(data_2, bins=bins, edgecolor='black', label='Гистограмма')\n",
    "plt.title(\"Гистограмма и полигон частот\")\n",
    "plt.xlabel(\"Интервалы\")\n",
    "plt.ylabel(\"Частота\")\n",
    "\n",
    "hist, _ = np.histogram(data_2, bins=bins)\n",
    "bin_centers = 0.5 * (bins[1:] + bins[:-1])\n",
    "plt.plot(bin_centers, hist, color='red', marker='o', linestyle='-', label='Полигон')\n",
    "plt.legend()\n",
    "plt.show()"
   ]
  },
  {
   "cell_type": "markdown",
   "id": "a6b29007-fe67-41a4-8124-a696cf84f4a4",
   "metadata": {},
   "source": [
    "#### b) Вычислить выборочные аналогии следующих числовых характеристик:\n",
    "(i) математическое ожидание, (ii) дисперсия, (iii) СКО, (iv) медиана, (v) асиметрия, (vi) эксцесса,(vii) вероятность поподания в интервал [c,d]"
   ]
  },
  {
   "cell_type": "code",
   "execution_count": 33,
   "id": "44abae80-e03d-4dfa-addb-9b253c5876e6",
   "metadata": {},
   "outputs": [
    {
     "name": "stdout",
     "output_type": "stream",
     "text": [
      "Мат.ожидание= 1.8159999999999998\n",
      "Дисперсия= 6.89412\n",
      "Выборочное стандартное отклонение= 2.6256656298927328\n",
      "Медиана= 0.535\n",
      "Асимметрия= 2.0369084417249637\n",
      "Эксцесс= 3.8554395468550506\n",
      "Вероятность попадания в промежуток= 0.8\n"
     ]
    }
   ],
   "source": [
    "mean_2 = np.mean(data_2) # математическое ожидание\n",
    "var_2 = np.var(data_2) # дисперсия\n",
    "std_2 = np.std(data_2) # выборочное стандартное отклонение\n",
    "median_2 = np.median(data_2) # медиана\n",
    "skewness_2 = stats.skew(data_2)  # Асимметрия\n",
    "kurtosis_2 = stats.kurtosis(data_2)  # Эксцесса\n",
    "c=0\n",
    "d = 3.24\n",
    "countIn = 0\n",
    "for x in data_2:\n",
    "    if(c<=x<=d):\n",
    "        countIn+=1\n",
    "probability_2 = countIn/len(data_2)\n",
    "print(\"Мат.ожидание=\",mean_2)\n",
    "print(\"Дисперсия=\",var_2)\n",
    "print(\"Выборочное стандартное отклонение=\",std_2)\n",
    "print(\"Медиана=\",median_2)\n",
    "print(\"Асимметрия=\",skewness_2)\n",
    "print(\"Эксцесс=\",kurtosis_2)\n",
    "print(\"Вероятность попадания в промежуток=\",probability_2)\n",
    "#print(data_2)"
   ]
  },
  {
   "cell_type": "markdown",
   "id": "be883996-6cde-46f5-a4be-2c05ef02585f",
   "metadata": {},
   "source": [
    "#### c) В предположении, что исходные наблюдения являются выборкой из показательного распределения, построить оценку максимального правдоподобия параметра $\\lambda$ и соответствующию оценку по методу моментов.Найти смещение оценки.\n",
    "Найдём ОМП.\n",
    "\n",
    "$p(x) = \\lambda\\cdot exp(-\\lambda X)$, при условии что Х>0 . Так как в данной выборки это условие выполняется, то дальше отбросим его\n",
    "Построим функцию правдоподобия\n",
    "\n",
    "$L({X},\\theta)= \\prod_{i=1}^{n}\\lambda\\cdot exp(-\\lambda\\cdot X_{i})=\\lambda^{n}\\cdot exp(-\\lambda\\cdot \\sum_{i=1}^{n}X_{i})$ \n",
    "\n",
    "Прологарифмируем функцию правдоподобия\n",
    "\n",
    "$LL({X},\\theta)=n\\ln(\\lambda) -\\lambda\\cdot \\sum_{i=1}^{n}X_{i}$\n",
    "\n",
    "$\\frac{\\partial LL({X},\\theta)}{\\partial \\lambda}=\\frac{n}{\\lambda}-\\sum_{i=1}^{n}X_{i}=0$\n",
    "\n",
    "$\\widehat\\lambda=\\frac{n}{\\sum_{i=1}^{n}X_{i}}=\\frac{1}{\\overline{X}}$\n",
    "\n",
    "Также $T = \\sum_{i=1}^{n}X_{i}$ - минимальная достаточная статистика. Является полной, так как показательное распределение принадлежит семейству экспоненциальных распределений \n",
    "\n",
    "Найдём ОММ.\n",
    "Первый момент $\\mathbb{E}X_{1}=\\frac{1}{\\lambda};M_{1}=\\overline{X}$ - из показательного распределения\n",
    "\n",
    "Отсюда $\\widehat{\\theta}=\\widehat{\\lambda}=\\frac{1}{\\overline{X}}$\n",
    "\n",
    "$\\mathbb{E}_{\\theta}\\widehat\\lambda=\\mathbb{E}_{\\theta}\\frac{1}{\\overline{X}}=\\mathbb{E}_{\\theta}\\frac{n}{\\sum_{i=1}^{n}x_{i}}=n\\cdot \\mathbb{E}_{\\theta}(\\sum_{i=1}^{n}X_{i})^{-1}=(\\sum_{i=1}^{n}X_{i}\\sim Gamma(n,\\frac{1}{\\lambda}))=n\\cdot \\left(\\frac{1}{\\lambda}\\right)^{-1}\\frac{\\Gamma (-1+n)}{\\Gamma (n)}=n\\cdot \\lambda\\frac{\\Gamma (-1+n)}{\\Gamma(-1+n)\\cdot (n-1)}=\\frac{n\\cdot \\lambda}{n-1} $\n",
    "\n",
    "$\\widetilde{\\lambda}=\\widehat{\\lambda}\\frac{n-1}{n}$\n",
    "\n",
    "$\\mathbb{E}_{\\theta}\\widetilde{\\lambda}=\\mathbb{E}_{\\theta}\\widehat{\\lambda}\\frac{n-1}{n}=\\frac{n-1}{n}\\mathbb{E}_{\\theta}\\widehat{\\lambda}=\\frac{n-1}{n}\\cdot \\frac{n\\cdot \\lambda}{n-1}=\\lambda$-НРМД-оценка\n",
    "\n",
    "\n",
    "\n"
   ]
  },
  {
   "cell_type": "markdown",
   "id": "f1f4b2ed-a390-4d54-a593-34d9eb9241ef",
   "metadata": {},
   "source": [
    "#### d)Построить асимптотический доверительный интервал уровня значимости $\\alpha_2$ для параметра $\\lambda$ на базе оценки максимального правдоподобия\n",
    "\n",
    "1. ОМП $\\widehat{\\theta}=\\widehat{\\lambda}=\\frac{1}{\\overline{X}}$\n",
    "\n",
    "2. $\\sqrt{n}\\left( \\widehat{\\theta}(\\overrightarrow{X})-\\theta \\right)\\sim N\\left( 0, \\frac{1}{I(\\theta)} \\right)$ , где $I(\\theta)$ - информация Фишера\n",
    "\n",
    "   $I_n(\\theta)=-\\mathbb{E}\\left( \\frac{\\partial^{2} LL}{\\partial \\lambda^{2}} \\right)=-\\mathbb{E}\\left( -\\frac{n}{\\lambda^{2}} \\right)=\\mathbb{E}(\\frac{n}{\\lambda^{2}}) = \\frac{n}{\\lambda^{2}}; I(\\theta) = \\frac{1}{\\lambda^{2}}$\n",
    "\n",
    "    $\\frac{\\partial^{2} LL}{\\partial \\lambda^{2}} = -\\frac{n}{\\lambda^{2}} $\n",
    "3. $\\sqrt{n\\cdot I\\left(  \\widehat{\\theta}(\\overrightarrow{X})\\right)}\\left( \\widehat{\\theta}(\\overrightarrow{X})-\\theta \\right)\\sim N(0,1)$\n",
    "4. Выбираем $X_{\\alpha}$: $\\mathrm{Ф}(X_{\\alpha})=1-\\frac{\\alpha_{2}}{2}=1-\\frac{0.2}{2}=0.9$ \n",
    "\n",
    "    $X_{0.9}=1.28$\n",
    "\n",
    "5. $А.Д.И. \\left[ \\frac{1}{\\overline{X}}-\\frac{X_{0.9}}{\\sqrt{50\\cdot \\frac{1}{\\overline{X}^{2}}}}; \\frac{1}{\\overline{X}}+\\frac{X_{0.9}}{\\sqrt{50\\cdot \\frac{1}{\\overline{X}^{2}}}}\\right]$\n",
    "\n",
    "$0.451\\le \\lambda\\le 0.650$- Асимп. довер. интервал параметра $\\lambda$.\n",
    "\n",
    "##### на безе асимтотической нормальной оценки $\\widehat{\\theta}$\n",
    "\n",
    "1. $\\sqrt{n}\\left( \\widehat{\\theta}(\\overrightarrow{X})-\\theta \\right)\\sim N(0,\\sigma^{2}(\\theta))$\n",
    "\n",
    "2. $\\sqrt{n}\\frac{ \\widehat{\\theta}(\\overrightarrow{X})-\\theta}{\\sigma(\\widehat{\\theta})}\\sim N(0,1)$\n",
    "\n",
    "3. $X_{\\alpha}: \\mathrm{Ф(X_{\\alpha})}=0.9\\to X_{0.9}=1.28$\n",
    "\n",
    "$-X_{0.9}\\le \\sqrt{n}\\cdot \\frac{\\widehat{\\lambda}-\\lambda}{\\sqrt{\\widehat{\\lambda}}}\\le X_{0.9}$\n",
    "\n",
    "$\\widehat{\\lambda} - \\frac{X_{0.9} \\sqrt{\\widehat{\\lambda}}}{\\sqrt{n}} \\le \\lambda \\le \\widehat{\\lambda} + \\frac{X_{0.9} \\sqrt{\\widehat{\\lambda}}}{\\sqrt{n}} \\Rightarrow$\n",
    "\n",
    "$0.551-\\frac{1.28\\cdot 0.551}{\\sqrt{50}}\\le \\lambda\\le 0.551+\\frac{1.28\\cdot 0.551}{\\sqrt{50}}\\to 0.451\\le \\lambda\\le 0.650$ - А.Д.И. параметра $\\lambda$"
   ]
  },
  {
   "cell_type": "code",
   "execution_count": 34,
   "id": "4cc70941-41eb-4cd8-a49d-3aec386fc473",
   "metadata": {},
   "outputs": [
    {
     "name": "stdout",
     "output_type": "stream",
     "text": [
      "1.2815515655446004\n",
      "50\n",
      "0.5506607929515419\n",
      "0.4508597133880151 0.6504618725150687\n"
     ]
    }
   ],
   "source": [
    "# Рассчет x_alpha\n",
    "print(stats.norm.ppf(0.9))\n",
    "# n\n",
    "print(len(data_2))\n",
    "print(1/mean_2)\n",
    "# interval\n",
    "interval_left_1 = 1/mean_2 - (stats.norm.ppf(0.9) * 1/mean_2)/len(data_2)**0.5\n",
    "interval_right_1 = 1/mean_2 + (stats.norm.ppf(0.9) * 1/mean_2)/len(data_2)**0.5\n",
    "interval_left_2 = 1/mean_2 - (stats.norm.ppf(0.9) * 1/mean_2)/len(data_2)**0.5\n",
    "interval_right_2 = 1/mean_2 + (stats.norm.ppf(0.9) * 1/mean_2)/len(data_2)**0.5\n",
    "print(interval_left_1, interval_right_1)"
   ]
  },
  {
   "cell_type": "markdown",
   "id": "4120f615-ffab-4c03-b237-343984ef3515",
   "metadata": {},
   "source": [
    "#### e) С использованием теоремы Колмогорова построить критерий значимости проверки простой гипотезы согласия с показательным распределением с параметром $\\lambda_0$=0.21. Проверить гипотезу на уровне значимости $\\alpha_2$ = 0,20. Вычислить наибольшее значения уровня значимости, на котором ещё нет оснований отвергнуть гипотезу.\n",
    "\n",
    "\n",
    "Пусть данная выборка $X_1, X_2, \\dots, X_n$ - выборка из распределения с функцией распределения F.<br>\n",
    "Основная гипотеза: $H_0 : F \\equiv Exp(\\lambda_0)$<br>\n",
    "Альтернативная гипотеза: $H_A : \\exists x : F(x) \\neq F_{Exp(\\lambda_0)}(x)$<br>\n",
    "Составим критерий уровня значимости $\\alpha_2$:<br>\n",
    "$\\phi(x) = 0$, при $D_n \\le x_{\\alpha_2}$<br>\n",
    "$\\phi(x) = 1$, при $D_n > x_{\\alpha_2}$<br>\n",
    "где $x_{\\alpha} : K_n(x_{\\alpha}) = 1 - \\alpha_2$\n"
   ]
  },
  {
   "cell_type": "code",
   "execution_count": 35,
   "id": "c5b11c13-a93d-4a05-b699-95b0f1b20b90",
   "metadata": {},
   "outputs": [
    {
     "name": "stdout",
     "output_type": "stream",
     "text": [
      "Статистика Dn = 0.442\n",
      "x_alpha_2: 0.124\n",
      "Наибольший уровень значимости без отвергания гипотезы:a_2 = 1.0216977264221327e-09\n"
     ]
    }
   ],
   "source": [
    "def Fn(x):\n",
    "  sm = 0\n",
    "  for pair in sort_data_2:\n",
    "    if pair >= x:\n",
    "      return sm / 50\n",
    "    sm += 1\n",
    "  return sm / 50\n",
    "\n",
    "lambda_0 = 0.21\n",
    "x = np.arange(0, 12, 0.01)\n",
    "y = [abs(Fn(elem) - sps.expon.cdf(elem,  scale=1/lambda_0)) for elem in x]\n",
    "d = round(max(y), 3)\n",
    "\n",
    "print(\"Статистика Dn =\", d)\n",
    "\n",
    "alpha_2 = 0.2\n",
    "\n",
    "print(\"x_alpha_2:\", round(sps.ksone.ppf(1- alpha_2, 50),3))\n",
    "\n",
    "x_a =d\n",
    "print(\"Наибольший уровень значимости без отвергания гипотезы:a_2 =\", 1 - sps.ksone.cdf(x_a, 50))\n"
   ]
  },
  {
   "cell_type": "markdown",
   "id": "b5548734-c396-44ba-8763-88d890a5f37c",
   "metadata": {},
   "source": [
    "$D_n > x_\\alpha$, гипотеза $H_0$ отвергается. Следовательно принимается гипотеза $H_A$"
   ]
  },
  {
   "cell_type": "markdown",
   "id": "641c7fc8-f857-40b4-860c-172562e49749",
   "metadata": {},
   "source": [
    "#### f)Используя гистограмму частот, построить критерий значимости $\\mathcal{X^{2}}$ проверки простой гипотезы согласия с показательным распределением с параметром $\\lambda_{0}$. Проверить гипотезу на урокень значимости $\\alpha_{2}$. Вычислить наибольшее значение уровня значимости, на котором ещё нет оснований отвергнуть данную гипотезу\n"
   ]
  },
  {
   "cell_type": "markdown",
   "id": "e4cb7826-9c74-44dc-bda4-f060c5729e7c",
   "metadata": {},
   "source": [
    "Сформулируем гипотезы:\n",
    "\n",
    "\n",
    "$H_0: X \\sim q_{\\theta}$\n",
    "\n",
    "\n",
    "$H_A: X \\not\\sim q_{\\theta}$\n",
    "\n",
    "Интервалы и количества элементов выборки, входящих в них\n"
   ]
  },
  {
   "cell_type": "code",
   "execution_count": 36,
   "id": "80d20006-cea5-436f-a6a0-5aa37a6c7a8f",
   "metadata": {},
   "outputs": [
    {
     "name": "stdout",
     "output_type": "stream",
     "text": [
      "50\n",
      "Интервал: (-1.0; 0.5], Количество: 24\n",
      "Интервал: (0.5; 0.7], Количество: 4\n",
      "Интервал: (0.7; 2], Количество: 9\n",
      "Интервал: (2; 4.5], Количество: 6\n",
      "Интервал: (4.5; 6.7], Количество: 4\n",
      "Интервал: (6.7; 12], Количество: 3\n"
     ]
    }
   ],
   "source": [
    "interval_new = [-1.0, 0.5, 0.7, 2, 4.5, 6.7, 12]\n",
    "\n",
    "v = [0] * (len(interval_new)-1)\n",
    "\n",
    "for i in range(0,6):\n",
    "    v[i] = 0\n",
    "    for data in sort_data_2:\n",
    "        if(interval_new[i]<data<=interval_new[i+1]):\n",
    "            v[i] +=1\n",
    "sum = 0\n",
    "for i in v:\n",
    "    sum+=i\n",
    "print(sum)\n",
    "for i in range(0,6):\n",
    "    print(f\"Интервал: ({interval_new[i]}; {interval_new[i+1]}], Количество: {v[i]}\")"
   ]
  },
  {
   "cell_type": "markdown",
   "id": "bcf7d8c8-5d6f-476c-84e1-f5f2852eb540",
   "metadata": {},
   "source": [
    "Посчитаем вероятности попадания в интервалы, и частоты:"
   ]
  },
  {
   "cell_type": "code",
   "execution_count": 37,
   "id": "337528e5-1685-45d0-a6f7-971f0d0c0ed4",
   "metadata": {},
   "outputs": [
    {
     "name": "stdout",
     "output_type": "stream",
     "text": [
      "np1 = 50 * 0.25173643242143484 = 12.586821621071742\n",
      "np2 = 50 * 0.13563717339414905 = 6.781858669707452\n",
      "np3 = 50 * 0.4456662245173755 = 22.283311225868772\n",
      "np4 = 50 * 0.15325524436967575 = 7.662762218483787\n",
      "np5 = 50 * 0.012186376289296974 = 0.6093188144648487\n",
      "np6 = 50 * 0.0015109690280918908 = 0.07554845140459454\n"
     ]
    }
   ],
   "source": [
    "formula1 = lambda x: st.expon.cdf(x, lambda_0)\n",
    "\n",
    "p = []\n",
    "for i in range(0,6):\n",
    "    p.append(formula1(interval_new[i+1]) - formula1(interval_new[i]))\n",
    "np =  []\n",
    "for i in range(len(p)):\n",
    "    np.append(50 * p[i])\n",
    "    print(f'np{i + 1} = 50 * {p[i]} = {np[i]}')"
   ]
  },
  {
   "cell_type": "markdown",
   "id": "3c9fe746-0c64-4b90-add3-d28fe722b4b1",
   "metadata": {
    "jp-MarkdownHeadingCollapsed": true
   },
   "source": [
    "Теперь высчитаем критерий $\\chi^2$:"
   ]
  },
  {
   "cell_type": "code",
   "execution_count": 38,
   "id": "46fe3c2a-6dc5-4fa3-a3d5-5d1fc0756311",
   "metadata": {},
   "outputs": [
    {
     "name": "stdout",
     "output_type": "stream",
     "text": [
      "Значение статистики критерия 151.84173643570279\n"
     ]
    }
   ],
   "source": [
    "hi_2 = lambda i: (v[i] - np[i])**2 / np[i]\n",
    "\n",
    "value = 0\n",
    "for i in range(len(np)):\n",
    "    value += hi_2(i)\n",
    "\n",
    "print(\"Значение статистики критерия\", value)"
   ]
  },
  {
   "cell_type": "markdown",
   "id": "9ffcbb6e-5cf1-4d49-97ac-d185937d1940",
   "metadata": {
    "jp-MarkdownHeadingCollapsed": true
   },
   "source": [
    "Проверим гипотезу на уровне значимости $\\alpha_2 = 0.2$\n",
    "\n",
    "\n",
    "Выбираем $X_{\\alpha}$: $K_{r - 1}(X_{\\alpha}) = 1 - \\alpha = 0.8$\n",
    "\n",
    "Тогда:"
   ]
  },
  {
   "cell_type": "code",
   "execution_count": 39,
   "id": "2602f76f-a12a-4d0e-97b9-255b12357b24",
   "metadata": {},
   "outputs": [
    {
     "name": "stdout",
     "output_type": "stream",
     "text": [
      "Квантиль x_a = 7.289\n",
      "Функция распределения K_5(x_a) = 0.8\n"
     ]
    }
   ],
   "source": [
    "fx = 0.8\n",
    "x_a = sps.chi2.ppf(fx, 5)\n",
    "\n",
    "print(\"Квантиль x_a =\", round(x_a, 3))\n",
    "print(\"Функция распределения K_5(x_a) =\", sps.chi2.cdf(x_a, 5))"
   ]
  },
  {
   "cell_type": "markdown",
   "id": "251b864f-7ed8-4129-91f9-036c9f604e60",
   "metadata": {
    "jp-MarkdownHeadingCollapsed": true
   },
   "source": [
    "$\\chi^2 > x_\\alpha$ , то гипотеза отвергается"
   ]
  },
  {
   "cell_type": "code",
   "execution_count": 40,
   "id": "67a13c52-4210-438b-97f1-1c62361d7044",
   "metadata": {},
   "outputs": [
    {
     "name": "stdout",
     "output_type": "stream",
     "text": [
      "Наибольшее значение уровня значимости = 0.0\n"
     ]
    }
   ],
   "source": [
    "x_a = 151.84\n",
    "print(\"Наибольшее значение уровня значимости =\", 1 - sps.chi2.cdf(x_a, 5))"
   ]
  },
  {
   "cell_type": "markdown",
   "id": "cb9527b1-a3f3-4d72-9af4-9bd0d3db550b",
   "metadata": {},
   "source": [
    "##### g) Построить критерий значимости $\\chi^2$ проверки сложной гипотезы согласия с показательным распределением. Проверить гипотезу по уровню значимости $\\alpha_2$. Вычислить наибольшее значение уровня значимости, на котором ещё нет оснований отвергнуть данную гипотезу.\n",
    "\n",
    "Сформулируем гипотезы:\n",
    "\n",
    "$H_0: X \\sim q_{\\theta}$\n",
    "\n",
    "$H_A: X \\not\\sim q_{\\theta}$"
   ]
  },
  {
   "cell_type": "code",
   "execution_count": 41,
   "id": "1bcd8b9c-cb37-42b4-89d1-4c5172dd9e21",
   "metadata": {},
   "outputs": [
    {
     "name": "stdout",
     "output_type": "stream",
     "text": [
      "50\n",
      "Интервал: (-1.0; 0.3], Количество: 16\n",
      "Интервал: (0.3; 0.8], Количество: 12\n",
      "Интервал: (0.8; 1.5], Количество: 5\n",
      "Интервал: (1.5; 3], Количество: 5\n",
      "Интервал: (3; 12], Количество: 12\n"
     ]
    }
   ],
   "source": [
    "interval_new_2 = [-1.0, 0.3, 0.8, 1.5, 3, 12]\n",
    "\n",
    "v = [0] * (len(interval_new_2)-1)\n",
    "\n",
    "for i in range(0,len(interval_new_2)-1):\n",
    "    v[i] = 0\n",
    "    for data in sort_data_2:\n",
    "        if(interval_new_2[i]<data<=interval_new_2[i+1]):\n",
    "            v[i] +=1\n",
    "sum = 0\n",
    "for i in v:\n",
    "    sum+=i\n",
    "print(sum)\n",
    "for i in range(0,len(interval_new_2)-1):\n",
    "    print(f\"Интервал: ({interval_new_2[i]}; {interval_new_2[i+1]}], Количество: {v[i]}\")"
   ]
  },
  {
   "cell_type": "code",
   "execution_count": 42,
   "id": "fc5cf72d-831d-45b7-a450-76bec2986777",
   "metadata": {},
   "outputs": [
    {
     "name": "stdout",
     "output_type": "stream",
     "text": [
      "np1 = 50 * 0.08606881472877181 = 12.586821621071742\n",
      "np2 = 50 * 0.3596039005367212 = 6.781858669707452\n",
      "np3 = 50 * 0.2790565016447547 = 22.283311225868772\n",
      "np4 = 50 * 0.21384956917475217 = 7.662762218483787\n",
      "np5 = 50 * 0.06141363393502408 = 0.6093188144648487\n"
     ]
    }
   ],
   "source": [
    "formula1 = lambda x: st.expon.cdf(x, lambda_0)\n",
    "\n",
    "p_2 = []\n",
    "for i in range(0,len(interval_new_2)-1):\n",
    "    p_2.append(formula1(interval_new_2[i+1]) - formula1(interval_new_2[i]))\n",
    "np_2 =  []\n",
    "for i in range(len(p_2)):\n",
    "    np_2.append(50 * p[i])\n",
    "    print(f'np{i + 1} = 50 * {p_2[i]} = {np_2[i]}')"
   ]
  },
  {
   "cell_type": "code",
   "execution_count": 43,
   "id": "6e63bd5f-28e4-48f6-a3e2-a673a49f89e2",
   "metadata": {},
   "outputs": [
    {
     "name": "stdout",
     "output_type": "stream",
     "text": [
      "Значение статистики критерия 232.209851692093\n"
     ]
    }
   ],
   "source": [
    "hi_2 = lambda i: (v[i] - np_2[i])**2 / np_2[i]\n",
    "\n",
    "value = 0\n",
    "for i in range(len(np_2)):\n",
    "    value += hi_2(i)\n",
    "\n",
    "print(\"Значение статистики критерия\", value)"
   ]
  },
  {
   "cell_type": "markdown",
   "id": "79c8194e-f4a8-4ebb-9f3e-241be8802869",
   "metadata": {
    "jp-MarkdownHeadingCollapsed": true
   },
   "source": [
    "Проверим гипотезу на уровне значимости $\\alpha_2 = 0.2$\n",
    "\n",
    "\n",
    "$ x_{a} : \\mathcal{K}_{r-d-1}(x_a) = \\mathcal{K}_3(x_a) = 1 - \\alpha_2 = 1 - 0.2 = 0.8$"
   ]
  },
  {
   "cell_type": "code",
   "execution_count": 44,
   "id": "37ed6659-ec89-4081-be66-963b0789a5fc",
   "metadata": {},
   "outputs": [
    {
     "name": "stdout",
     "output_type": "stream",
     "text": [
      "Квантиль x_a = 3.219\n",
      "Функция распределения K_2(x_a) = 0.6409058529025018\n"
     ]
    }
   ],
   "source": [
    "fx = 0.8\n",
    "x_a = sps.chi2.ppf(fx, 2)\n",
    "\n",
    "print(\"Квантиль x_a =\", round(x_a, 3))\n",
    "print(\"Функция распределения K_2(x_a) =\", sps.chi2.cdf(x_a, 3))"
   ]
  },
  {
   "cell_type": "markdown",
   "id": "d25f1615-966b-435d-9185-6538344f0486",
   "metadata": {
    "jp-MarkdownHeadingCollapsed": true
   },
   "source": [
    "$\\chi^2 > x_\\alpha$ , то гипотеза отвергается"
   ]
  },
  {
   "cell_type": "code",
   "execution_count": 45,
   "id": "2814e5c4-fbd8-43d6-ac5e-acf6b7d791d5",
   "metadata": {},
   "outputs": [
    {
     "name": "stdout",
     "output_type": "stream",
     "text": [
      "Наибольшее значение уровня значимости = 0.0\n"
     ]
    }
   ],
   "source": [
    "x_a = 232.209\n",
    "print(\"Наибольшее значение уровня значимости =\", 1 - sps.chi2.cdf(x_a, 3))"
   ]
  },
  {
   "cell_type": "markdown",
   "id": "1cdc3542-89db-45be-9fbd-e8cc4cb2a6ad",
   "metadata": {},
   "source": [
    "##### h) Построить наиболее мощный критерий проверки простой гипотезы о показательности с параметром $\\lambda = \\lambda_0$ при альтернативе показательности с параметром $\\lambda = \\lambda_1$. Проверить гипотезу на уровне значимости $\\alpha_2$. Что получится, если поменять местами основную и альтернативную гипотезы?\n"
   ]
  },
  {
   "cell_type": "markdown",
   "id": "5c7ad25f-573c-4467-a01b-0c4ff8f3eae4",
   "metadata": {
    "jp-MarkdownHeadingCollapsed": true
   },
   "source": [
    "гипотезы\n",
    "\n",
    "$H_0: \\lambda = \\lambda_0$\n",
    "\n",
    "$H_A: \\lambda = \\lambda_1$\n",
    "\n",
    "$\\lambda_1$ = 0.36\n",
    "\n",
    "$\\lambda_0$ = 0.21\n",
    "\n",
    "Cтатистическое отношение правдоподобия:\n",
    "\n",
    "$LR(X, \\lambda_0, \\lambda_1) = \\frac{L(X, \\lambda_1)}{L(X, \\lambda_0)} = \\frac{\\lambda_1^{n} \\exp(-{\\lambda_1}\\sum\\limits_{i=1}^n X_i)}{\\lambda_0^{n} \\exp(-{\\lambda_0}\\sum\\limits_{i=1}^n X_i)} =\\left(\\frac{\\lambda_{1}}{\\lambda_{0}}\\right)^n \\cdot exp(-\\lambda_{1} \\cdot {\\sum_{i=1}^{n}X_{i}) + \\lambda_{0} \\cdot {\\sum_{i=1}^{n}X_{i}} }$\n",
    "\n",
    "Прологарифмируем\n",
    "\n",
    "${n}\\ln(\\frac{\\lambda_1}{\\lambda_0}) + \\sum_{i=1}^n X_i \\cdot ({\\lambda_0 - \\lambda_1}) > \\ln(c)$\n",
    "\n",
    "$\\sum_{i=1}^n X_i < \\frac{\\ln(c) +52.491}{0.39} = c*$\n",
    "\n",
    "$ \\displaystyle \\varphi \\left( {X} \\right) = \\begin{cases} 0, \\quad \\sum_{i=1}^{n} X_i <  c^* \\\\ p, \\quad \\sum_{i=1}^{n} X_i =  c^* \\\\ 1, \\quad \\sum_{i=1}^{n} X_i >  c^* \\end{cases}$\n",
    "\n",
    "\n",
    "$ \\displaystyle E_{\\lambda} \\varphi({X}) = \\mathbb{P_{\\lambda}} \\left( \\sum_{i=1}^{n} X_i > c^* \\right) + p \\ \\mathbb{P_{\\lambda}} \\left( \\sum_{i=1}^{n} X_i = c^* \\right) = \\alpha_2$\\\n",
    "$ \\displaystyle \\mathbb{P_{\\lambda}} \\left( \\sum_{i=1}^{n} X_i > c^* \\right) = 1 - F_{n, \\frac{1}{\\lambda}}(x_{\\alpha}) < \\alpha_2 $\n",
    "\n",
    "$P_{\\lambda_0}(\\sum\\limits_{i=1}^{n} X_i >= c*) = F_{n, \\frac{1}{\\lambda}}(x_{\\alpha}) - F_{n, \\frac{1}{\\lambda}}(x_{\\alpha} - 1) > \\alpha_2$\n",
    "\n",
    "$p = \\frac{\\alpha_2 - 1 + F_{n, \\frac{1}{\\lambda}}(x_{\\alpha})}{F_{n, \\frac{1}{\\lambda}}(x_{\\alpha}) - F_{n, \\frac{1}{\\lambda}}(x_{\\alpha} - 1)}$"
   ]
  },
  {
   "cell_type": "code",
   "execution_count": 46,
   "id": "6f15a35c-ffa0-444e-944a-8e62fbdd56e8",
   "metadata": {},
   "outputs": [
    {
     "name": "stdout",
     "output_type": "stream",
     "text": [
      "n * ln(lambda_0/lambda_1) =  -52.491106224933894\n",
      "(lambda_1 - lambda_0) =  0.39\n"
     ]
    }
   ],
   "source": [
    "import numpy as np\n",
    "print('n * ln(lambda_0/lambda_1) = ', 50* np.log(lambda_0/lambda_1))\n",
    "print('(lambda_1 - lambda_0) = ', (lambda_1 - lambda_0) ) "
   ]
  },
  {
   "cell_type": "code",
   "execution_count": 47,
   "id": "51ce96c0-94ca-462e-88d5-7f3e1ec929a5",
   "metadata": {},
   "outputs": [
    {
     "name": "stdout",
     "output_type": "stream",
     "text": [
      "c* = 57.664000000005444\n",
      "Полученная константа 57.664\n",
      "Полученная вероятность 0.994\n",
      "Сумма x_i = 90.80000000000001\n",
      "гипотеза отвергается\n"
     ]
    }
   ],
   "source": [
    "alpha_2 = 0.2\n",
    "lambda_0 = 0.21\n",
    "lambda_1 = 0.36\n",
    "c = 60\n",
    "exp = lambda x: st.expon.cdf(x,50, scale=1.0 / lambda_0)\n",
    "\n",
    "while (1 - exp(c)) < alpha_2:\n",
    "    c -= 1e-3\n",
    "c += 1e-3\n",
    "print(\"c* =\", c)\n",
    "\n",
    "p = (alpha_2 - 1 + exp(c))/(exp(c+1e-5) - exp(c))\n",
    "\n",
    "print(\"Полученная константа\", round(c, 5))\n",
    "print(\"Полученная вероятность\", round(p, 3))\n",
    "\n",
    "print(\"Сумма x_i =\", np.sum(sort_data_2))\n",
    "\n",
    "result = 'гипотеза принимается' if c > np.sum(sort_data_2) else 'гипотеза отвергается'\n",
    "print(result)"
   ]
  },
  {
   "cell_type": "markdown",
   "id": "d18f8518-a766-4fc0-a2b5-90e51792e9e2",
   "metadata": {
    "jp-MarkdownHeadingCollapsed": true
   },
   "source": [
    "Меняем местами основную и альтернативную гипотезу:<br>\n",
    "$H_{0}=\\lambda_{1}$<br>\n",
    "$H_{1}=\\lambda_{0}$<br>\n",
    "Cтатистическое отношение правдоподобия:\n",
    "\n",
    "$LR(X, \\lambda_0, \\lambda_1) = \\frac{L(X, \\lambda_0)}{L(X, \\lambda_1)} = \\frac{\\lambda_0^{\\frac{n}{2}} \\exp(-\\frac{\\lambda_0}{2}\\sum\\limits_{i=1}^n X_i)}{\\lambda_1^{\\frac{n}{2}} \\exp(-\\frac{\\lambda_1}{2}\\sum\\limits_{i=1}^n X_i)} = \\left(\\frac{\\lambda_{0}}{\\lambda_{1}}\\right)^{\\frac{n}{2}} \\cdot exp(-\\frac{\\lambda_{0}}{2} \\cdot {\\sum_{i=1}^{n}X_{i} + \\frac{\\lambda_{1}}{2} \\cdot {\\sum_{i=1}^{n}X_{i}}) }$\n",
    "\n",
    "Прологарифмируем\n",
    "\n",
    "$\\frac{n}{2}\\ln(\\frac{\\lambda_0}{\\lambda_1}) + \\sum_{i=1}^n X_i \\cdot \\frac{\\lambda_1 - \\lambda_0}{2} > \\ln(c)$\n",
    "\n",
    "$\\sum_{i=1}^n X_i < \\frac{\\ln(c) +13.475}{0.075} = c*$\n",
    "\n",
    "$ \\displaystyle \\varphi \\left( {X} \\right) = \\begin{cases} 0, \\quad \\sum_{i=1}^{n} X_i <  c^* \\\\ p, \\quad \\sum_{i=1}^{n} X_i =  c^* \\\\ 1, \\quad \\sum_{i=1}^{n} X_i >  c^* \\end{cases}$\n",
    "\n",
    "\n",
    "$ \\displaystyle E_{\\lambda} \\varphi({X}) = \\mathbb{P_{\\lambda}} \\left( \\sum_{i=1}^{n} X_i > c^* \\right) + p \\ \\mathbb{P_{\\lambda}} \\left( \\sum_{i=1}^{n} X_i = c^* \\right) = \\alpha_2$\\\n",
    "$ \\displaystyle \\mathbb{P_{\\lambda}} \\left( \\sum_{i=1}^{n} X_i > c^* \\right) = 1 - F_{n, \\frac{1}{\\lambda}}(x_{\\alpha}) < \\alpha_2 $\n",
    "\n",
    "$P_{\\lambda_0}(\\sum\\limits_{i=1}^{n} X_i = c*) = F_{n, \\frac{1}{\\lambda}}(x_{\\alpha}) > \\alpha_2$\n",
    "\n",
    "$p = \\frac{\\alpha_2 - F_{n, \\frac{1}{\\lambda}}(x_{\\alpha})}{F_{n, \\frac{1}{\\lambda}}(x_{\\alpha}) - F_{n, \\frac{1}{\\lambda}}(x_{\\alpha} - 1)}$"
   ]
  },
  {
   "cell_type": "code",
   "execution_count": 48,
   "id": "23fbfe85-91fa-4805-8830-0bd03b230628",
   "metadata": {},
   "outputs": [
    {
     "name": "stdout",
     "output_type": "stream",
     "text": [
      "c* = 54.471000000012886\n",
      "Полученная константа 54.471\n",
      "Полученная вероятность 33.915\n",
      "Сумма x_i = 90.80000000000001\n",
      "гипотеза отвергается\n"
     ]
    }
   ],
   "source": [
    "alpha_2 = 0.2\n",
    "lambda_0 = 0.21\n",
    "lambda_1 = 0.36\n",
    "c = 60\n",
    "exp = lambda x: st.expon.cdf(x,50, scale=1.0 / lambda_1)\n",
    "\n",
    "while (1 - exp(c)) < alpha_2:\n",
    "    c -= 1e-3\n",
    "c += 1e-3\n",
    "print(\"c* =\", c)\n",
    "\n",
    "p = (alpha_2 - 1 + exp(c))/(exp(c+1e-5) - exp(c))\n",
    "\n",
    "print(\"Полученная константа\", round(c, 5))\n",
    "print(\"Полученная вероятность\", round(p, 3))\n",
    "\n",
    "print(\"Сумма x_i =\", np.sum(sort_data_2))\n",
    "\n",
    "result = 'гипотеза принимается' if c > np.sum(sort_data_2) else 'гипотеза отвергается'\n",
    "print(result)"
   ]
  },
  {
   "cell_type": "markdown",
   "id": "a8ee3a2e-09f5-4c1c-9d25-569cb3b1829a",
   "metadata": {
    "jp-MarkdownHeadingCollapsed": true
   },
   "source": [
    "#### i.c) Построить оценку максимального правдоподобия параметра $\\lambda$ и соответствующую оценку по методу моментов. Найти смещение оценок.\n",
    "\n",
    "Найдём ОМП.\n",
    "\n",
    "$p(x) = \\frac{\\sqrt{\\lambda}exp(-\\lambda x/2)}{\\sqrt{2\\pi x}}$, при условии что Х>0 . Так как в данной выборки это условие выполняется, то дальше отбросим его\n",
    "\n",
    "Построим функцию правдоподобия\n",
    "\n",
    "$L({X},\\theta)= \\prod\\limits_{i=1}^n \\frac{\\sqrt{\\lambda}exp(-\\lambda x/2)}{\\sqrt{2\\pi x}} = \\left(\\frac{\\sqrt{\\lambda}}{\\sqrt{2\\pi }}\\right)^n (\\prod_{i=1}^{n}x_{i})^{-\\frac{n}{2}} \\cdot exp\\left(\\sum\\limits_{i=1}^n \\left(-\\frac{\\lambda x_i}{2}\\right)\\right) =\\lambda^{\\frac{n}{2}}\\cdot exp\\left(- \\frac{\\lambda}{2} \\cdot \\sum_{i=1}^{n}x_{i}\\right) \\cdot (2\\pi)^{-\\frac{n}{2}}\\cdot (\\prod_{i=1}^{n}x_{i})^{-\\frac{n}{2}}$ \n",
    "\n",
    "Прологарифмируем функцию правдоподобия\n",
    "\n",
    "$LL(X, \\theta) = \\frac{n}{2} \\ln\\left(\\lambda\\right) - \\frac{\\lambda}{2} \\sum\\limits_{i=1}^n x_i - \\frac{n}{2} \\ln\\left(2\\pi\\right) - \\frac{n}{2}(\\prod_{i=1}^{n}x_{i})$\n",
    "\n",
    "$\\frac{\\partial LL({X},\\theta)}{\\partial \\lambda}=\\frac{n}{2\\lambda}-\\frac{1}{2}\\sum\\limits_{i=1}^n x_i = 0$\n",
    "\n",
    "$\\widehat\\lambda= \\frac{n}{\\sum\\limits_{i=1}^n x_i} = \\frac{1}{\\overline X}$\n",
    "\n",
    "Также $T = \\sum_{i=1}^{n}X_{i}$ - минимальная достаточная статистика. Является полной, так как показательное распределение принадлежит семейству экспоненциальных распределений \n",
    "\n",
    "Найдём ОММ.\n",
    "Первый момент $\\mathbb{E}X_{1}=\\frac{1}{\\lambda};M_{1}=\\overline{X}$ - из показательного распределения\n",
    "\n",
    "Отсюда $\\widehat{\\theta}=\\widehat{\\lambda}=\\frac{1}{\\overline{X}}$\n",
    "\n",
    "$\\mathbb{E}_{\\theta}\\widehat\\lambda== \\mathbb{E}_{\\theta} n\\cdot \\sum \\limits_{i=1}^{n}\\frac{1}{x_i} = \\normalsize n \\cdot\\frac{1}{n-1}   \\cdot \\lambda = \\frac{n\\cdot\\lambda}{n-1}$ - смещённая оценка\n",
    "\n",
    "$\\widetilde{\\lambda}=\\widehat{\\lambda}\\frac{n-1}{n}$\n",
    "\n",
    "$\\mathbb{E}_{\\theta}\\widetilde{\\lambda}=\\mathbb{E}_{\\theta}\\widehat{\\lambda}\\frac{n-1}{n}=\\frac{n-1}{n}\\mathbb{E}_{\\theta}\\widehat{\\lambda}=\\frac{n-1}{n}\\cdot \\frac{n\\cdot \\lambda}{n-1}=\\lambda$-НРМД-оценка\n",
    "\n"
   ]
  },
  {
   "cell_type": "markdown",
   "id": "26e85dff-8ca0-4369-9b72-bd20f1715e45",
   "metadata": {},
   "source": [
    "#### i.d)Построить асимптотический доверительный интервал уровня значимости $\\alpha_2$ для параметра $\\lambda$ на базе оценки максимального правдоподобия\n",
    "\n",
    "1. ОМП $\\widehat{\\theta}=\\widehat{\\lambda}=\\frac{1}{\\overline{X}}$\n",
    "\n",
    "2. $\\sqrt{n}\\left( \\widehat{\\theta}(\\overrightarrow{X})-\\theta \\right)\\sim N\\left( 0, \\frac{1}{I(\\theta)} \\right)$ , где $I(\\theta)$ - информация Фишера\n",
    "\n",
    "   $I_n(\\theta)=-\\mathbb{E}\\left( \\frac{\\partial^{2} LL}{\\partial \\lambda^{2}} \\right)=-\\mathbb{E}\\left( -\\frac{n}{2\\lambda^{2}} \\right)=\\mathbb{E}(\\frac{n}{2\\lambda^{2}}) = \\frac{n}{2\\lambda^{2}}; I(\\theta) = \\frac{1}{2\\lambda^{2}}$\n",
    "\n",
    "    $\\frac{\\partial^{2} LL}{\\partial \\lambda^{2}} = -\\frac{n}{2\\lambda^{2}} $\n",
    "3. $\\sqrt{n\\cdot I\\left(  \\widehat{\\theta}(\\overrightarrow{X})\\right)}\\left( \\widehat{\\theta}(\\overrightarrow{X})-\\theta \\right)\\sim N(0,1)$\n",
    "4. Выбираем $X_{\\alpha}$: $\\mathrm{Ф}(X_{\\alpha})=1-\\frac{\\alpha_{2}}{2}=1-\\frac{0.2}{2}=0.9$ \n",
    "\n",
    "    $X_{0.9}=1.28$\n",
    "\n",
    "5. $А.Д.И. \\left[ \\frac{1}{\\overline{X}}-\\frac{X_{0.9}}{\\sqrt{50\\cdot \\frac{1}{2\\overline{X}^{2}}}}; \\frac{1}{\\overline{X}}+\\frac{X_{0.9}}{\\sqrt{50\\cdot \\frac{1}{2\\overline{X}^{2}}}}\\right]$\n",
    "\n",
    "$0.386\\le \\lambda\\le 0.715$- Асимп. довер. интервал параметра $\\lambda$.\n"
   ]
  },
  {
   "cell_type": "code",
   "execution_count": 49,
   "id": "d092a8ca-5fb6-413b-8f16-fc482fd5c8d6",
   "metadata": {},
   "outputs": [
    {
     "name": "stdout",
     "output_type": "stream",
     "text": [
      "1.2815515655446004\n",
      "50\n",
      "0.3860959984290149 0.715225587474069\n"
     ]
    }
   ],
   "source": [
    "# Рассчет x_alpha\n",
    "print(stats.norm.ppf(0.9))\n",
    "# n\n",
    "print(len(data_2))\n",
    "# interval\n",
    "interval_left_1 = 1/mean_2 - (stats.norm.ppf(0.9) * 1/2*mean_2)/len(data_2)**0.5\n",
    "interval_right_1 = 1/mean_2 + (stats.norm.ppf(0.9) * 1/2*mean_2)/len(data_2)**0.5\n",
    "interval_left_2 = 1/mean_2 - (stats.norm.ppf(0.9) * 1/2*mean_2)/len(data_2)**0.5\n",
    "interval_right_2 = 1/mean_2 + (stats.norm.ppf(0.9) * 1/2*mean_2)/len(data_2)**0.5\n",
    "print(interval_left_1, interval_right_1)"
   ]
  },
  {
   "cell_type": "markdown",
   "id": "9ab478eb-4dcf-487f-9f55-6a13abf00379",
   "metadata": {},
   "source": [
    "#### e) С использованием теоремы Колмогорова построить критерий значимости проверки простой гипотезы согласия с показательным распределением с параметром $\\lambda_0$=0.21. Проверить гипотезу на уровне значимости $\\alpha_2$ = 0,20. Вычислить наибольшее значения уровня значимости, на котором ещё нет оснований отвергнуть гипотезу.\n",
    "\n",
    "\n",
    "Пусть данная выборка $X_1, X_2, \\dots, X_n$ - выборка из распределения с функцией распределения F.<br>\n",
    "Основная гипотеза: $H_0 : F \\equiv(\\lambda_0)$<br>\n",
    "Альтернативная гипотеза: $H_A : \\exists x : F(x) \\neq F_{(\\lambda_0)}(x)$<br>\n",
    "Составим критерий уровня значимости $\\alpha_2$:<br>\n",
    "$\\phi(x) = 0$, при $D_n \\le x_{\\alpha_2}$<br>\n",
    "$\\phi(x) = 1$, при $D_n > x_{\\alpha_2}$<br>\n",
    "где $x_{\\alpha} : K_n(x_{\\alpha}) = 1 - \\alpha_2$"
   ]
  },
  {
   "cell_type": "code",
   "execution_count": 50,
   "id": "5d6b6b02-6ecc-4274-a342-e168b6335402",
   "metadata": {},
   "outputs": [
    {
     "name": "stdout",
     "output_type": "stream",
     "text": [
      "Статистика Dn = 0.717\n",
      "x_alpha_2: 0.124\n",
      "Наибольший уровень значимости без отвергания гипотезы:a_2 = 0.0\n"
     ]
    }
   ],
   "source": [
    "import scipy.stats as sps\n",
    "import numpy as np\n",
    "import scipy.optimize as spo\n",
    "def Fn(x):\n",
    "  sm = 0\n",
    "  for pair in sort_data_2:\n",
    "    if pair >= x:\n",
    "      return sm / 50\n",
    "    sm += 1\n",
    "  return sm / 50\n",
    "\n",
    "lambda_0 = 0.21\n",
    "x = np.arange(0, 12, 0.01)\n",
    "y = [abs(Fn(elem) - stats.gamma.cdf(elem, a = 1/2, scale = lambda_0/2)) for elem in x]\n",
    "d = round(max(y), 3)\n",
    "\n",
    "print(\"Статистика Dn =\", d)\n",
    "\n",
    "alpha_2 = 0.2\n",
    "\n",
    "print(\"x_alpha_2:\", round(sps.ksone.ppf(1- alpha_2, 50),3))\n",
    "\n",
    "x_a =d\n",
    "print(\"Наибольший уровень значимости без отвергания гипотезы:a_2 =\", 1 - sps.ksone.cdf(x_a, 50))\n"
   ]
  },
  {
   "cell_type": "markdown",
   "id": "067dd49f-b44f-4a81-a274-7792377edfd4",
   "metadata": {
    "jp-MarkdownHeadingCollapsed": true
   },
   "source": [
    "$D_n > x_\\alpha$, гипотеза $H_0$ отвергается. Следовательно принимается гипотеза $H_A$"
   ]
  },
  {
   "cell_type": "markdown",
   "id": "5bda9abd-58e1-47e6-ac06-bc7398bbb7a9",
   "metadata": {},
   "source": [
    "#### i.f) Используя гистограмму частот, построить критерий значимости $\\chi^2$ проверки простой гипотезы согласия с показательным распределением с параметром $\\lambda_{0}$. Проверить гипотезу на уровне значимости $\\alpha_{2}$. Вычислить наибольшее значение уровня значимости, на котором ещё нет оснований отвергнуть данную гипотезу.\n",
    "\n",
    "Сформулируем гипотезы:\n",
    "\n",
    "$H_0: X \\sim P_{\\lambda}$\n",
    "\n",
    "$H_A: X \\not\\sim P_{\\lambda}$\n",
    "\n",
    "\n",
    "Интервалы и количество элементов выборки, которые входят в них"
   ]
  },
  {
   "cell_type": "code",
   "execution_count": 51,
   "id": "8af974d6-b294-446a-892a-8793e47ac9c3",
   "metadata": {},
   "outputs": [
    {
     "name": "stdout",
     "output_type": "stream",
     "text": [
      "50\n",
      "Интервал: (-1.0; 0.5], Количество: 24\n",
      "Интервал: (0.5; 0.7], Количество: 4\n",
      "Интервал: (0.7; 2], Количество: 9\n",
      "Интервал: (2; 4.5], Количество: 6\n",
      "Интервал: (4.5; 6.7], Количество: 4\n",
      "Интервал: (6.7; 12], Количество: 3\n"
     ]
    }
   ],
   "source": [
    "interval_new = [-1.0, 0.5, 0.7, 2, 4.5, 6.7, 12]\n",
    "\n",
    "v = [0] * (len(interval_new)-1)\n",
    "\n",
    "for i in range(0,6):\n",
    "    v[i] = 0\n",
    "    for data in sort_data_2:\n",
    "        if(interval_new[i]<data<=interval_new[i+1]):\n",
    "            v[i] +=1\n",
    "sum = 0\n",
    "for i in v:\n",
    "    sum+=i\n",
    "print(sum)\n",
    "for i in range(0,6):\n",
    "    print(f\"Интервал: ({interval_new[i]}; {interval_new[i+1]}], Количество: {v[i]}\")"
   ]
  },
  {
   "cell_type": "code",
   "execution_count": 52,
   "id": "dc89c65b-8f44-442e-9d62-3355082bfcd8",
   "metadata": {},
   "outputs": [
    {
     "name": "stdout",
     "output_type": "stream",
     "text": [
      "np1 = 50 * 0.8723572078590679 = 43.617860392953396\n",
      "np2 = 50 * 0.03817304822600809 = 1.9086524113004044\n",
      "np3 = 50 * 0.07565813516505249 = 3.7829067582526243\n",
      "np4 = 50 * 0.013136352958484143 = 0.6568176479242072\n",
      "np5 = 50 * 0.0006183998523108247 = 0.030919992615541236\n",
      "np6 = 50 * 5.666947578975012e-05 = 0.002833473789487506\n"
     ]
    }
   ],
   "source": [
    "formula1 = lambda x: st.gamma.cdf(x, lambda_0)\n",
    "\n",
    "p = []\n",
    "for i in range(0,6):\n",
    "    p.append(formula1(interval_new[i+1]) - formula1(interval_new[i]))\n",
    "np =  []\n",
    "for i in range(len(p)):\n",
    "    np.append(50 * p[i])\n",
    "    print(f'np{i + 1} = 50 * {p[i]} = {np[i]}')"
   ]
  },
  {
   "cell_type": "code",
   "execution_count": 53,
   "id": "a4274175-1cf0-4a72-9d71-d593f2280e68",
   "metadata": {},
   "outputs": [
    {
     "name": "stdout",
     "output_type": "stream",
     "text": [
      "Значение статистики критерия 3741.5879846531366\n"
     ]
    }
   ],
   "source": [
    "hi_2 = lambda i: (v[i] - np[i])**2 / np[i]\n",
    "\n",
    "value = 0\n",
    "for i in range(len(np)):\n",
    "    value += hi_2(i)\n",
    "\n",
    "print(\"Значение статистики критерия\", value)"
   ]
  },
  {
   "cell_type": "markdown",
   "id": "14542b38-f8b8-4301-82f3-206a9a4e623e",
   "metadata": {
    "jp-MarkdownHeadingCollapsed": true
   },
   "source": [
    "Проверим гипотезу на уровне значимости $\\alpha_2 = 0.2$\n",
    "\n",
    "\n",
    "Выбираем $X_{\\alpha}$: $K_{r - 1}(X_{\\alpha}) = 1 - \\alpha = 0.8$\n",
    "\n",
    "Тогда:"
   ]
  },
  {
   "cell_type": "code",
   "execution_count": 54,
   "id": "c7a4db40-c028-490c-9305-26229053ad4e",
   "metadata": {},
   "outputs": [
    {
     "name": "stdout",
     "output_type": "stream",
     "text": [
      "Квантиль x_a = 7.289\n",
      "Функция распределения K_5(x_a) = 0.8\n"
     ]
    }
   ],
   "source": [
    "fx = 0.8\n",
    "x_a = sps.chi2.ppf(fx, 5)\n",
    "\n",
    "print(\"Квантиль x_a =\", round(x_a, 3))\n",
    "print(\"Функция распределения K_5(x_a) =\", sps.chi2.cdf(x_a, 5))"
   ]
  },
  {
   "cell_type": "markdown",
   "id": "bc4f6844-9856-40bf-a56e-a67f42efa348",
   "metadata": {
    "jp-MarkdownHeadingCollapsed": true
   },
   "source": [
    "$\\chi^2 > x_\\alpha$ , то гипотеза отвергается"
   ]
  },
  {
   "cell_type": "code",
   "execution_count": 55,
   "id": "cd181158-192a-460a-b0b2-a5ddf12ace4c",
   "metadata": {},
   "outputs": [
    {
     "name": "stdout",
     "output_type": "stream",
     "text": [
      "Наибольшее значение уровня значимости = 0.0\n"
     ]
    }
   ],
   "source": [
    "x_a = 3741.5879\n",
    "print(\"Наибольшее значение уровня значимости =\", round(1 - sps.chi2.cdf(x_a, 5), 8))"
   ]
  },
  {
   "cell_type": "markdown",
   "id": "afff45f0-5ced-4dab-9b03-2e5e9639e312",
   "metadata": {},
   "source": [
    "#### i.g)Построить критерий значимости $\\chi^2$ проверки сложной гипотезы согласия с показательным распределением. Проверить гипотезу по уровню значимости $\\alpha_2$. Вычислить наибольшее значение уровня значимости, на котором ещё нет оснований отвергнуть данную гипотезу.\n",
    "\n",
    "Сформулируем гипотезы:\n",
    "\n",
    "$H_0: X \\sim P_{\\lambda}$\n",
    "\n",
    "$H_A: X \\not\\sim P_{\\lambda}$\n"
   ]
  },
  {
   "cell_type": "code",
   "execution_count": 56,
   "id": "a1fa6b8b-dc22-436b-9376-8c170a7587f5",
   "metadata": {},
   "outputs": [
    {
     "name": "stdout",
     "output_type": "stream",
     "text": [
      "50\n",
      "Интервал: (-1.0; 0.3], Количество: 16\n",
      "Интервал: (0.3; 0.8], Количество: 12\n",
      "Интервал: (0.8; 1.5], Количество: 5\n",
      "Интервал: (1.5; 3], Количество: 5\n",
      "Интервал: (3; 12], Количество: 12\n"
     ]
    }
   ],
   "source": [
    "interval_new_2 = [-1.0, 0.3, 0.8, 1.5, 3, 12]\n",
    "\n",
    "v = [0] * (len(interval_new_2)-1)\n",
    "\n",
    "for i in range(0,len(interval_new_2)-1):\n",
    "    v[i] = 0\n",
    "    for data in sort_data_2:\n",
    "        if(interval_new_2[i]<data<=interval_new_2[i+1]):\n",
    "            v[i] +=1\n",
    "sum = 0\n",
    "for i in v:\n",
    "    sum+=i\n",
    "print(sum)\n",
    "for i in range(0,len(interval_new_2)-1):\n",
    "    print(f\"Интервал: ({interval_new_2[i]}; {interval_new_2[i+1]}], Количество: {v[i]}\")"
   ]
  },
  {
   "cell_type": "code",
   "execution_count": 57,
   "id": "d75bdb7a-7b63-4714-9a47-cbb77f7147b1",
   "metadata": {},
   "outputs": [
    {
     "name": "stdout",
     "output_type": "stream",
     "text": [
      "np1 = 50 * 0.8074331128762577 = 43.617860392953396\n",
      "np2 = 50 * 0.11672801626629903 = 1.9086524113004044\n",
      "np3 = 50 * 0.04889957277260759 = 3.7829067582526243\n",
      "np4 = 50 * 0.022987873402478987 = 0.6568176479242072\n",
      "np5 = 50 * 0.003951238219069841 = 0.030919992615541236\n"
     ]
    }
   ],
   "source": [
    "formula1 = lambda x: st.gamma.cdf(x, lambda_0)\n",
    "\n",
    "p_2 = []\n",
    "for i in range(0,len(interval_new_2)-1):\n",
    "    p_2.append(formula1(interval_new_2[i+1]) - formula1(interval_new_2[i]))\n",
    "np_2 =  []\n",
    "for i in range(len(p_2)):\n",
    "    np_2.append(50 * p[i])\n",
    "    print(f'np{i + 1} = 50 * {p_2[i]} = {np_2[i]}')"
   ]
  },
  {
   "cell_type": "code",
   "execution_count": 58,
   "id": "2ec21dd8-4181-4162-aa6f-39afd0c15209",
   "metadata": {},
   "outputs": [
    {
     "name": "stdout",
     "output_type": "stream",
     "text": [
      "Значение статистики критерия 4733.164133593355\n"
     ]
    }
   ],
   "source": [
    "hi_2 = lambda i: (v[i] - np_2[i])**2 / np_2[i]\n",
    "\n",
    "value = 0\n",
    "for i in range(len(np_2)):\n",
    "    value += hi_2(i)\n",
    "\n",
    "print(\"Значение статистики критерия\", value)"
   ]
  },
  {
   "cell_type": "markdown",
   "id": "6750957d-378d-4251-858b-19a8ee4a31eb",
   "metadata": {
    "jp-MarkdownHeadingCollapsed": true
   },
   "source": [
    "Проверим гипотезу на уровне значимости $\\alpha_2 = 0.2$\n",
    "\n",
    "\n",
    "$ x_{a} : \\mathcal{K}_{r-d-1}(x_a) = \\mathcal{K}_3(x_a) = 1 - \\alpha_2 = 1 - 0.2 = 0.8$"
   ]
  },
  {
   "cell_type": "code",
   "execution_count": 59,
   "id": "64b4c8fb-3fe4-4786-94a8-b5bdb047d6fe",
   "metadata": {},
   "outputs": [
    {
     "name": "stdout",
     "output_type": "stream",
     "text": [
      "Квантиль x_a = 4.642\n",
      "Функция распределения K_3(x_a) = 0.7999999999999999\n"
     ]
    }
   ],
   "source": [
    "fx = 0.8\n",
    "x_a = sps.chi2.ppf(fx, 3)\n",
    "\n",
    "print(\"Квантиль x_a =\", round(x_a, 3))\n",
    "print(\"Функция распределения K_3(x_a) =\", sps.chi2.cdf(x_a, 3))"
   ]
  },
  {
   "cell_type": "markdown",
   "id": "f771b884-4e66-4802-bcb3-75cf9c692312",
   "metadata": {
    "jp-MarkdownHeadingCollapsed": true
   },
   "source": [
    "$\\chi^2 > x_\\alpha$ , то гипотеза отвергается"
   ]
  },
  {
   "cell_type": "code",
   "execution_count": 60,
   "id": "27e9449d-2dc9-4462-9bdc-b1f97b1bbef0",
   "metadata": {},
   "outputs": [
    {
     "name": "stdout",
     "output_type": "stream",
     "text": [
      "Наибольшее значение уровня значимости = 0.0\n"
     ]
    }
   ],
   "source": [
    "x_a = 232.20\n",
    "print(\"Наибольшее значение уровня значимости =\", round(1 - sps.chi2.cdf(x_a, 3), 8))"
   ]
  },
  {
   "cell_type": "markdown",
   "id": "7e8acfb1-f6a9-4786-b39f-0e10c4202986",
   "metadata": {},
   "source": [
    "#### i.h) Построить наиболее мощный критерий проверки простой гипотезы о показательности с параметром $\\lambda = \\lambda_0$ при альтернативе показательности с параметром $\\lambda = \\lambda_1$. Проверить гипотезу на уровне значимости $\\alpha_2$. Что получится, если поменять местами основную и альтернативную гипотезы?\n",
    "\n",
    "гипотезы\n",
    "\n",
    "$H_0: \\lambda = \\lambda_0$\n",
    "\n",
    "$H_A: \\lambda = \\lambda_1$\n",
    "\n",
    "$\\lambda_1$ = 0.36\n",
    "\n",
    "$\\lambda_0$ = 0.21\n",
    "\n",
    "Cтатистическое отношение правдоподобия:\n",
    "\n",
    "$LR(X, \\lambda_0, \\lambda_1) = \\frac{L(X, \\lambda_1)}{L(X, \\lambda_0)} = \\frac{\\lambda_1^{\\frac{n}{2}} \\exp(-\\frac{\\lambda_1}{2}\\sum\\limits_{i=1}^n X_i)}{\\lambda_0^{\\frac{n}{2}} \\exp(-\\frac{\\lambda_0}{2}\\sum\\limits_{i=1}^n X_i)} = \\left(\\frac{\\lambda_{1}}{\\lambda_{0}}\\right)^{\\frac{n}{2}} \\cdot exp(-\\frac{\\lambda_{1}}{2} \\cdot {\\sum_{i=1}^{n}X_{i} + \\frac{\\lambda_{0}}{2} \\cdot {\\sum_{i=1}^{n}X_{i}}) }$\n",
    "\n",
    "Прологарифмируем\n",
    "\n",
    "$\\frac{n}{2}\\ln(\\frac{\\lambda_1}{\\lambda_0}) + \\sum_{i=1}^n X_i \\cdot \\frac{\\lambda_0 - \\lambda_1}{2} > \\ln(c)$\n",
    "\n",
    "$\\sum_{i=1}^n X_i < \\frac{\\ln(c) -13.475}{-0.075} = c*$\n",
    "\n",
    "$ \\displaystyle \\varphi \\left( {X} \\right) = \\begin{cases} 0, \\quad \\sum_{i=1}^{n} X_i <  c^* \\\\ p, \\quad \\sum_{i=1}^{n} X_i =  c^* \\\\ 1, \\quad \\sum_{i=1}^{n} X_i >  c^* \\end{cases}$\n",
    "\n",
    "\n",
    "$ \\displaystyle E_{\\lambda} \\varphi({X}) = \\mathbb{P_{\\lambda}} \\left( \\sum_{i=1}^{n} X_i > c^* \\right) + p \\ \\mathbb{P_{\\lambda}} \\left( \\sum_{i=1}^{n} X_i = c^* \\right) = \\alpha_2$\\\n",
    "$ \\displaystyle \\mathbb{P_{\\lambda}} \\left( \\sum_{i=1}^{n} X_i > c^* \\right) = 1 - F_{n, \\frac{1}{\\lambda}}(x_{\\alpha}) < \\alpha_2 $\n",
    "\n",
    "$P_{\\lambda_0}(\\sum\\limits_{i=1}^{n} X_i >= c*) = F_{n, \\frac{1}{\\lambda}}(x_{\\alpha}) - F_{n, \\frac{1}{\\lambda}}(x_{\\alpha} - 1) > \\alpha_2$\n",
    "\n",
    "$p = \\frac{\\alpha_2 - 1 + F_{n, \\frac{1}{\\lambda}}(x_{\\alpha})}{F_{n, \\frac{1}{\\lambda}}(x_{\\alpha}) - F_{n, \\frac{1}{\\lambda}}(x_{\\alpha} - 1)}$\n",
    "\n"
   ]
  },
  {
   "cell_type": "code",
   "execution_count": 61,
   "id": "0b3bc625-6e08-4ba0-afad-76857093da52",
   "metadata": {},
   "outputs": [
    {
     "name": "stdout",
     "output_type": "stream",
     "text": [
      "c* = 265.8731300003203\n",
      "Полученная константа 265.87313\n",
      "Полученная вероятность 0.343\n",
      "Сумма x_i = 90.80000000000001\n",
      "гипотеза принимается\n"
     ]
    }
   ],
   "source": [
    "import numpy as np\n",
    "alpha_2 = 0.2\n",
    "lambda_0 = 0.21\n",
    "lambda_1 = 0.36\n",
    "c = 266\n",
    "gamma = lambda x: st.gamma.cdf(x,50, scale=1.0 / lambda_0)\n",
    "\n",
    "# print(gamma(1000))\n",
    "while (1 - gamma(c)) < alpha_2:\n",
    "    c -= 1e-5\n",
    "c += 1e-5\n",
    "print(\"c* =\", c)\n",
    "\n",
    "p = (alpha_2 - 1 + gamma(c))/(gamma(c+1e-5) - gamma(c))\n",
    "\n",
    "\n",
    "print(\"Полученная константа\", round(c, 5))\n",
    "print(\"Полученная вероятность\", round(p, 3))\n",
    "print(\"Сумма x_i =\", np.sum(sort_data_2))\n",
    "\n",
    "result = 'гипотеза принимается' if c > np.sum(sort_data_2) else 'гипотеза отвергается'\n",
    "print(result)"
   ]
  },
  {
   "cell_type": "markdown",
   "id": "1ffaf255-14e8-49d3-8b97-23108e82fc43",
   "metadata": {
    "jp-MarkdownHeadingCollapsed": true
   },
   "source": [
    "Меняем местами основную и альтернативную гипотезу:<br>\n",
    "$H_{0}=\\lambda_{1}$<br>\n",
    "$H_{1}=\\lambda_{0}$<br>\n",
    "Cтатистическое отношение правдоподобия:\n",
    "\n",
    "$LR(X, \\lambda_0, \\lambda_1) = \\frac{L(X, \\lambda_0)}{L(X, \\lambda_1)} = \\frac{\\lambda_0^{\\frac{n}{2}} \\exp(-\\frac{\\lambda_0}{2}\\sum\\limits_{i=1}^n X_i)}{\\lambda_1^{\\frac{n}{2}} \\exp(-\\frac{\\lambda_1}{2}\\sum\\limits_{i=1}^n X_i)} = \\left(\\frac{\\lambda_{0}}{\\lambda_{1}}\\right)^{\\frac{n}{2}} \\cdot exp(-\\frac{\\lambda_{0}}{2} \\cdot {\\sum_{i=1}^{n}X_{i} + \\frac{\\lambda_{1}}{2} \\cdot {\\sum_{i=1}^{n}X_{i}}) }$\n",
    "\n",
    "Прологарифмируем\n",
    "\n",
    "$\\frac{n}{2}\\ln(\\frac{\\lambda_0}{\\lambda_1}) + \\sum_{i=1}^n X_i \\cdot \\frac{\\lambda_1 - \\lambda_0}{2} > \\ln(c)$\n",
    "\n",
    "$\\sum_{i=1}^n X_i < \\frac{\\ln(c) +13.475}{0.075} = c*$\n",
    "\n",
    "$ \\displaystyle \\varphi \\left( {X} \\right) = \\begin{cases} 0, \\quad \\sum_{i=1}^{n} X_i <  c^* \\\\ p, \\quad \\sum_{i=1}^{n} X_i =  c^* \\\\ 1, \\quad \\sum_{i=1}^{n} X_i >  c^* \\end{cases}$\n",
    "\n",
    "\n",
    "$ \\displaystyle E_{\\lambda} \\varphi({X}) = \\mathbb{P_{\\lambda}} \\left( \\sum_{i=1}^{n} X_i > c^* \\right) + p \\ \\mathbb{P_{\\lambda}} \\left( \\sum_{i=1}^{n} X_i = c^* \\right) = \\alpha_2$\\\n",
    "$ \\displaystyle \\mathbb{P_{\\lambda}} \\left( \\sum_{i=1}^{n} X_i > c^* \\right) = 1 - F_{n, \\frac{1}{\\lambda}}(x_{\\alpha}) < \\alpha_2 $\n",
    "\n",
    "$P_{\\lambda_0}(\\sum\\limits_{i=1}^{n} X_i = c*) = F_{n, \\frac{1}{\\lambda}}(x_{\\alpha}) > \\alpha_2$\n",
    "\n",
    "$p = \\frac{\\alpha_2 - F_{n, \\frac{1}{\\lambda}}(x_{\\alpha})}{F_{n, \\frac{1}{\\lambda}}(x_{\\alpha}) - F_{n, \\frac{1}{\\lambda}}(x_{\\alpha} - 1)}$\n"
   ]
  },
  {
   "cell_type": "code",
   "execution_count": 62,
   "id": "26b3c096-db9e-4cb7-b3f4-41c097ab760b",
   "metadata": {},
   "outputs": [
    {
     "name": "stdout",
     "output_type": "stream",
     "text": [
      "c* = 155.0926599998707\n",
      "Полученная константа 155.09266\n",
      "Полученная вероятность 0.284\n",
      "Сумма x_i = 90.80000000000001\n",
      "гипотеза принимается\n"
     ]
    }
   ],
   "source": [
    "alpha_2 = 0.2\n",
    "lambda_0 = 0.21\n",
    "lambda_1 = 0.36\n",
    "c = 155.5\n",
    "gamma = lambda x: st.gamma.cdf(x,50, scale=1.0 / lambda_1)\n",
    "\n",
    "while (1 - gamma(c)) < alpha_2:\n",
    "    c -= 1e-5\n",
    "c += 1e-5\n",
    "print(\"c* =\", c)\n",
    "\n",
    "p = (alpha_2 - 1 + gamma(c))/(gamma(c+1e-5) - gamma(c))\n",
    "\n",
    "print(\"Полученная константа\", round(c, 5))\n",
    "print(\"Полученная вероятность\", round(p, 3))\n",
    "print(\"Сумма x_i =\", np.sum(sort_data_2))\n",
    "\n",
    "result = 'гипотеза принимается' if c > np.sum(sort_data_2) else 'гипотеза отвергается'\n",
    "print(result)"
   ]
  },
  {
   "cell_type": "markdown",
   "id": "94629839-acaf-4737-9d5b-6bee418dc28b",
   "metadata": {},
   "source": [
    "## Выводы\n",
    "В ходе практической работы былы изучены и реализованы методоы математической статистики для решения задач статистического анализа, а также на практике были применены новые библотеки Python для решения различных задач статического аналоза. Освоена работа с оценкой максимального правдоподобия и оценкой метода моментов. Построены доверительные интервалы и асимптотические доверительные интервалы. Применялись различные статистические критерии, включая критерий хи-квадрат, который применяется для проверки гипотезы о соответствии выборки определенному распределению. Всё выше сказанное применено на практике в данной работе.\n"
   ]
  }
 ],
 "metadata": {
  "kernelspec": {
   "display_name": "Python 3 (ipykernel)",
   "language": "python",
   "name": "python3"
  },
  "language_info": {
   "codemirror_mode": {
    "name": "ipython",
    "version": 3
   },
   "file_extension": ".py",
   "mimetype": "text/x-python",
   "name": "python",
   "nbconvert_exporter": "python",
   "pygments_lexer": "ipython3",
   "version": "3.11.5"
  }
 },
 "nbformat": 4,
 "nbformat_minor": 5
}
