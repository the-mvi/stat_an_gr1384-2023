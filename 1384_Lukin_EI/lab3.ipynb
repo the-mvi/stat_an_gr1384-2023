{
 "cells": [
  {
   "cell_type": "markdown",
   "metadata": {},
   "source": [
    "# Практическая работа №3: Регрессионный анализ\n",
    "Выполнил студент гр.1384 Лукин Евгений. Вариант 8"
   ]
  },
  {
   "cell_type": "markdown",
   "metadata": {},
   "source": [
    "## Цель работы\n",
    "Ознакомление с основными положениями метода наименьших квадратов (МНК), со статистическими свойствами МНК-оценок, с понятием функции регрессии и роли МНК в регрессионном анализе."
   ]
  },
  {
   "cell_type": "markdown",
   "metadata": {},
   "source": [
    "## Основные теоретические положения\n",
    "1. Линейная регрессионная модель\n",
    "\n",
    "Линейная регрессия некоторой зависимой переменной y на набор независимых переменных  x = (x_1, …, x_n), где n – это число наблюдений, предполагает, что линейное отношение между y и x: $y =\\beta_0  + \\beta_1x_1 + ⋯ + \\beta_nx_n + 𝜀$ - уравнение регрессии. $\\beta_0, \\beta_1, …, \\beta_n$ – коэффициенты регрессии (параметры), и 𝜀 – случайная ошибка.\n",
    "\n",
    "2. МНК (Метод Наименьших Квадратов)\n",
    "\n",
    "$RSS(\\beta)=\\left\\| Y-X^{\\intercal}\\beta \\right\\|=(Y-X^{\\intercal}\\beta)^{\\intercal}\\cdot(Y-X^{\\intercal}\\beta)\\to min\\beta$\n",
    "\n",
    "Нормальные уравнения: $XX^{\\intercal}\\beta=XY$\n",
    "\n",
    "Решение системы нормальных уравнений в регулярном случае: $\\widehat{\\beta}=(XX^{\\intercal})^{-1}XY$\n",
    "\n",
    "$RSS(\\beta)=\\sum_{i=1}^{n}\\left( Y_{i}-\\sum_{j=1}^{m}x_{ji}\\beta_{j} \\right)^{2}$\n",
    "\n",
    "$\\frac{\\partial RSS}{\\partial \\beta_{k}} = -2\\sum_{i=1}^{n}x_{ki}\\left(Y_{i}- \\sum_{j=1}^{m}x_{ji}\\beta_{j}\\right)=0, k=\\overline{1,m}$\n",
    "\n",
    "3. Несмещённая оценка дисперсии $(S^{2})$\n",
    "\n",
    "$S^{2} = \\frac{SS_{e}}{n-r} = \\frac{RSS(\\widehat{\\beta})}{n-r}$\n",
    "\n",
    "$SS_{e}=RSS(\\widehat{\\beta})$, а r-ранг матрицы X\n",
    "\n",
    "4. Доверительный интервал\n",
    "\n",
    "ДНО функции:$\\psi=с^{\\intercal}\\beta$\n",
    "\n",
    "МНК-оценка: $\\widehat{\\psi}=с^{\\intercal}\\beta$\n",
    "\n",
    "Элемент дисперсии оценки: $b_{\\psi}=c^{\\intercal}(XX^{\\intercal})^{-1}c$\n",
    "\n",
    "Распределение $\\widehat{\\psi}\\sim \\mathcal{N}(\\psi,\\sigma^{2}b)$\n",
    "\n",
    "$\\frac{\\widehat{\\psi}-\\psi}{S\\sqrt{b}}\\sim \\mathcal{S}_{n-r}$\n",
    "\n",
    "Д.И. уровня доверия $1-\\alpha: \\left[ \\widehat{\\psi} - X_{\\alpha}S\\sqrt{b};\\widehat{\\psi} + X_{\\alpha}S\\sqrt{b} \\right], где X_{\\alpha}: \\mathcal{S}_{n-r}(X_{\\alpha})=1-\\frac{\\alpha}{2}$\n",
    "\n",
    "5. Уравнение $A_{\\alpha}=\\left\\{ \\overrightarrow{X}:(\\overrightarrow{X}-\\widehat{\\psi})^{\\intercal}B^{-1}(\\overrightarrow{X}-\\widehat{\\psi})\\le qS^{2}X_{\\alpha} \\right\\}$ представляет собой уравнение доверительного эллипсоида. Здесь:\n",
    "\n",
    "- $\\widehat{\\psi}$ - вектор оценок параметров,\n",
    "- $B$ - матрица оценок ковариации,\n",
    "- $S^{2}$ - оценка дисперсии,\n",
    "- q - пороговая точка, связанная с распределением хи-квадрат с \\(n-r\\) степенями свободы,\n",
    "- $X_{\\alpha}$ - значение функции распределения хи-квадрат с (n-r) степенями свободы и уровнем доверия $1-\\alpha$.\n",
    "\n",
    "6. Критерий $\\chi^2$ для проверки гипотез\n",
    "\n",
    "основан на справнении теоритической плотности распределения и гистограммы, либо теоритической вероятностной меры и полигона частот.\n",
    "\n",
    "Разобъем множество значений сл. вел. X на $N$ интервалов $I_{1}, ..., I_{N}:$ $I_{i} = (a_{i-1}, a_i], i = \\overline {1,N}$. данные интервалы не пересекаются и покрывают всё множество возможных значений сл. вел. X.\n",
    "\n",
    "Обозначим через $p_{i}$ теоритическую вероятность попадания сл. вел. X в интервал $I_{i}$, при условии, что справедлива $H_{0}$.\n",
    "\n",
    "$p_{i} = P(X \\in I_{i}|H_{0})$\n",
    "\n",
    "Через $n_{i}$ обозначим число наблюдений нашей выборки, попавших в соответветствующий интервал $I_{i}$.\n",
    "\n",
    "$n_{i} = num(x_{j} \\in I_{i})$\n",
    "\n",
    "Статистика критерия основана на сравнении относительной частоты и теоритической.\n",
    "\n",
    "$\\chi^{2}_{набл} = \\sum \\limits_{i=1}^{N} \\frac{n}{p_{i}} \\bigg ( \\frac{n_{i}}{n} - p_{i} \\bigg )^{2} = \\sum \\limits_{i=1}^{N} \\frac{(n_{i} - p_{i} n)^{2}}{n p_{i}} \\sim \\chi^{2}_{N-1}$\n",
    "\n",
    "Если $\\mathcal{X}^{2}_{N-1,1-\\alpha_{1}} \\lt \\chi^2_{набл}$, то гипотезу отвергаем\n",
    "\n",
    "Если $\\mathcal{X}^{2}_{N-1,1-\\alpha_{1}} \\gt \\chi^2_{набл}$, то гипотезу принимаем\n",
    "\n",
    "7. теорема Колмогорова\n",
    "\n",
    "$D_{n}(\\overrightarrow{X}) = \\overset{}{\\underset{X \\in \\mathbb R}{sup}} |F_{0}(X_{i}) - F_{n}(X_{i})|$\n",
    "\n",
    "Если гипотеза $H_{0}$ верна, и $F_{0}(X)$ - непрерывная ф-я на $\\mathbb R$, тогда имеет место сходимость\n",
    "\n",
    "$P(\\sqrt{n} D_{n}(\\overrightarrow{X}) < z) \\xrightarrow[n \\rightarrow \\infty]{} K(z)$, где\n",
    "\n",
    "$K(z)=1-\\alpha$ - ф-я распределения Колмогорова.\n",
    "\n",
    "Если $D_{n} \\lt z$, то гипотезу принимаем\n",
    "\n",
    "Если $D_{n} \\gt z$, то гипотезу отвергаем\n",
    "\n",
    "8. $\\mathbb{F}$-критерий\n",
    "\n",
    "$\\mathbb{F}=\\frac{MSR}{MSE}$ - статистика распределения\n",
    "\n",
    " где $MSR=\\frac{SSR}{p}=\\frac{\\sum_{i=1}^{n}\\left(\\sum_{j=1}^{n}x_{ji} \\beta_j - \\overline{Y}\\right)^2}{p}$ - среднеквадратичное отклонение объясненных отклонений\n",
    "\n",
    " $MSE = \\frac{SS_e}{n-p}=\\frac{\\sum_{i=1}^{n}\\left( Y_{i}-\\sum_{j=1}^{m}x_{ji}\\beta_{j} \\right)^{2}}{n-p}, где SS_{e}=RSS(\\beta)$ - среднеквадратичное отклонение остатков\n",
    "\n",
    " Критическое значение $\\mathbb{F}_{кр}$-критерия уровня значимости $\\alpha$ смотрим по таблице критических значение или с помощью кода scipy.stats.f.ppf($1-\\alpha$, dfn, dfd), где dfn-числитель степеней свободы(p) dfd-знаменатиль степеней свободы(n-p)\n",
    "\n",
    " $\\mathbb{F}_{кр} \\gt \\mathbb{F}$ - гипотезу принимаем\n",
    "\n",
    " $\\mathbb{F}_{кр} \\lt \\mathbb{F}$ - гипотезу отвергаем"
   ]
  },
  {
   "cell_type": "markdown",
   "metadata": {},
   "source": [
    "## Постановка задачи\n",
    "Результаты статистического эксперимента представлены в виде двух переменных. Требуется оценить характер (случайной) зависимости переменной Y\n",
    " от переменной X. Полученные результаты содержательно проинтерпретировать."
   ]
  },
  {
   "cell_type": "markdown",
   "metadata": {},
   "source": [
    "## Выполнение работы"
   ]
  },
  {
   "cell_type": "markdown",
   "metadata": {},
   "source": [
    "### 1.Построить графически результаты эксперимента. Сформулировать линейную регрессионную модель переменной Y по переменной X. Построить метод наименьшего квадрата оценки параметров сдвига $\\beta_0$ и масштаба $\\beta_1$.  Построить полученную линию регрессии. Оценить визуально соответствие полученных данных и построенной оценки\n",
    "\n",
    "\n",
    "Линейная регрессионная модель:\n",
    "\n",
    "$$\n",
    "Y = \\beta_0 + \\beta_1X + \\varepsilon,\n",
    "$$\n",
    "\n",
    "где $\\beta_0$ - сдвиг, $\\beta_1$ - масштаб, а $\\varepsilon$ - случайная ошибка.\n",
    "\n",
    "Для получения оценок параметров сдвига и масштаба используется метод наименьших квадратов. Оценки параметров $\\hat{\\beta_0}$ и $\\hat{\\beta_1}$ вычисляются следующим образом:\n",
    "$$\n",
    "\\sum\\limits_{i=1}^{n}({Y_i}-\\beta_0-\\beta_1X_i)=0\n",
    "$$ \n",
    "$$\n",
    "\\sum\\limits_{i=1}^{n}(X_i{Y_i}-\\beta_0-\\beta_1X_i)=0\n",
    "$$\n",
    "\n",
    "Так как $\\exists i, j :\\ X_i \\ne X_j$, то решение имеет вид:\n",
    "\n",
    "$$\n",
    "\\hat{\\beta_1} = \\frac{\\sum(X-\\overline{X})(Y-\\overline{Y})}{\\sum(X-\\overline{X})^2},\n",
    "$$\n",
    "$$\n",
    "\\hat{\\beta_0} = \\overline{Y} - \\hat{\\beta_1}\\overline{X}.\n",
    "$$"
   ]
  },
  {
   "cell_type": "code",
   "execution_count": 157,
   "metadata": {},
   "outputs": [
    {
     "data": {
      "image/png": "[encoded data removed]"
     },
     "execution_count": 157,
     "metadata": {},
     "output_type": "execute_result"
    }
   ],
   "source": [
    "y = [28.51 16.33 11.24 6.73 7.87 6.51 5.52 19.45 1.18 16.71 8.18 12.11 17.51 19.18 17.53 9.78 1.27 8.96 5.80 19.42 9.61 10.45 10.81 10.73 18.26 21.88 14.86 8.65 4.30 16.75 10.86 15.47 20.42 16.18 22.65 26.35 13.29 8.17 4.28 12.42 6.86 10.90 4.86 2.12 19.85 24.82 9.12 7.46 9.26 10.56];\n",
    "x = [4 4 2 3 4 4 1 5 3 2 2 2 2 3 4 2 2 4 2 3 4 4 3 3 4 4 3 3 3 4 4 1 3 4 3 2 1 4 3 2 3 4 1 3 3 3 4 1 5 4];\n",
    "h = 2.9;\n",
    "alpha = 0.1;\n",
    "scatter(x, y, \"filled\")"
   ]
  },
  {
   "cell_type": "code",
   "execution_count": 158,
   "metadata": {},
   "outputs": [
    {
     "data": {
      "text/html": [
       "<html><body><pre>beta_1 = 1.0706</pre></body></html>"
      ],
      "text/plain": [
       "beta_1 = 1.0706"
      ]
     },
     "execution_count": 158,
     "metadata": {},
     "output_type": "execute_result"
    },
    {
     "data": {
      "text/html": [
       "<html><body><pre>beta_0 = 9.2067</pre></body></html>"
      ],
      "text/plain": [
       "beta_0 = 9.2067"
      ]
     },
     "execution_count": 158,
     "metadata": {},
     "output_type": "execute_result"
    }
   ],
   "source": [
    "mx = mean(x);\n",
    "my = mean(y);\n",
    "beta_1 = sum((x - mx) .* (y - my)) / sum((x - mx).^2)\n",
    "beta_0 = my - beta_1 * mx"
   ]
  },
  {
   "cell_type": "code",
   "execution_count": 159,
   "metadata": {},
   "outputs": [
    {
     "data": {
      "image/png": "[encoded data removed]"
     },
     "execution_count": 159,
     "metadata": {},
     "output_type": "execute_result"
    }
   ],
   "source": [
    "hold on;\n",
    "scatter(x, y, \"filled\")\n",
    "plot([min(x), max(x)], [beta_0 + beta_1 * min(x), beta_0 + beta_1 * max(x)])"
   ]
  },
  {
   "cell_type": "markdown",
   "metadata": {},
   "source": [
    "### 2.Построить и интерпретировать несмещённую оценку дисперсии. На базе ошибок построить гистограмму с шагом h. Проверить гипотезу нормальности ошибок на уровне значимости по $\\chi^{2}$. Оценить расстояние полученной оценки до класса нормальных распределений по Колмогорову. Визуально оценить данный факт."
   ]
  },
  {
   "cell_type": "code",
   "execution_count": 160,
   "metadata": {},
   "outputs": [
    {
     "data": {
      "text/html": [
       "<html><body><pre>ans = 'Исправленная оценка дисперсии 43.487753'</pre></body></html>"
      ],
      "text/plain": [
       "ans = 'Исправленная оценка дисперсии 43.487753'"
      ]
     },
     "execution_count": 160,
     "metadata": {},
     "output_type": "execute_result"
    },
    {
     "data": {
      "image/png": "[encoded data removed]"
     },
     "execution_count": 160,
     "metadata": {},
     "output_type": "execute_result"
    }
   ],
   "source": [
    "n = length(y);\n",
    "sprintf('Исправленная оценка дисперсии %f', std(y)^2)\n",
    "\n",
    "predicted_y = beta_0 + beta_1 * x;\n",
    "err = y - predicted_y;\n",
    "bins = (min(err):h:max(err));\n",
    "h = histogram(err, 'BinEdges', bins);\n",
    "observed_freqs = h.Values;"
   ]
  },
  {
   "cell_type": "code",
   "execution_count": 161,
   "metadata": {},
   "outputs": [
    {
     "data": {
      "text/html": [
       "<html><body><pre>expected_freqs = 1x9 double\n",
       "    5.5556    5.5556    5.5556    5.5556    5.5556    5.5556    5.5556    5.5556    5.5556\n",
       "</pre></body></html>"
      ],
      "text/plain": [
       "expected_freqs = 1x9 double\n",
       "    5.5556    5.5556    5.5556    5.5556    5.5556    5.5556    5.5556    5.5556    5.5556\n"
      ]
     },
     "execution_count": 161,
     "metadata": {},
     "output_type": "execute_result"
    },
    {
     "data": {
      "text/html": [
       "<html><body><pre>observed_freqs = 1x9 double\n",
       "     3     7    14     4     7     5     6     1     1\n",
       "</pre></body></html>"
      ],
      "text/plain": [
       "observed_freqs = 1x9 double\n",
       "     3     7    14     4     7     5     6     1     1\n"
      ]
     },
     "execution_count": 161,
     "metadata": {},
     "output_type": "execute_result"
    },
    {
     "data": {
      "text/html": [
       "<html><body><pre>chi2stat = 2.5289</pre></body></html>"
      ],
      "text/plain": [
       "chi2stat = 2.5289"
      ]
     },
     "execution_count": 161,
     "metadata": {},
     "output_type": "execute_result"
    },
    {
     "data": {
      "text/html": [
       "<html><body><pre>chi2crit = 13.3616</pre></body></html>"
      ],
      "text/plain": [
       "chi2crit = 13.3616"
      ]
     },
     "execution_count": 161,
     "metadata": {},
     "output_type": "execute_result"
    },
    {
     "data": {
      "text/html": [
       "<html><body><pre>ans = 'Гипотеза принимается'</pre></body></html>"
      ],
      "text/plain": [
       "ans = 'Гипотеза принимается'"
      ]
     },
     "execution_count": 161,
     "metadata": {},
     "output_type": "execute_result"
    },
    {
     "data": {
      "text/html": [
       "<html><body><pre>ans = 'Статистика Колмогорова 1.000000'</pre></body></html>"
      ],
      "text/plain": [
       "ans = 'Статистика Колмогорова 1.000000'"
      ]
     },
     "execution_count": 161,
     "metadata": {},
     "output_type": "execute_result"
    },
    {
     "data": {
      "text/html": [
       "<html><body><pre>ans = 'p-value 0.000000'</pre></body></html>"
      ],
      "text/plain": [
       "ans = 'p-value 0.000000'"
      ]
     },
     "execution_count": 161,
     "metadata": {},
     "output_type": "execute_result"
    },
    {
     "data": {
      "text/html": [
       "<html><body><pre>ans = 'Гипотеза отвергается'</pre></body></html>"
      ],
      "text/plain": [
       "ans = 'Гипотеза отвергается'"
      ]
     },
     "execution_count": 161,
     "metadata": {},
     "output_type": "execute_result"
    }
   ],
   "source": [
    "expected_freqs = n * diff(bins) / sum(diff(bins))\n",
    "observed_freqs\n",
    "chi2stat = sum((observed_freqs - expected_freqs).^2 / expected_freqs)\n",
    "chi2crit = chi2inv(1-alpha, length(observed_freqs) - 1)\n",
    "if chi2stat > chi2crit\n",
    "    sprintf('Гипотеза отвергается')\n",
    "else\n",
    "    sprintf('Гипотеза принимается')\n",
    "end\n",
    "\n",
    "distrib = makedist('Normal');\n",
    "[h,p] = kstest(y, 'CDF', distrib, 'Alpha', 1 - alpha);\n",
    "sprintf('Статистика Колмогорова %f', h)\n",
    "sprintf('p-value %f', p)\n",
    "\n",
    "if p < alpha\n",
    "    sprintf('Гипотеза отвергается')\n",
    "else\n",
    "    sprintf('Гипотеза принимается')\n",
    "end  \n"
   ]
  },
  {
   "cell_type": "code",
   "execution_count": 147,
   "metadata": {},
   "outputs": [
    {
     "data": {
      "image/png": "[encoded data removed]"
     },
     "execution_count": 147,
     "metadata": {},
     "output_type": "execute_result"
    }
   ],
   "source": [
    "y_norm_cdf = normcdf(bins, 0, std(y));\n",
    "cdfplot(err)\n",
    "hold on\n",
    "plot(bins, y_norm_cdf)\n",
    "legend('Empirical CDF','Theoretical CDF Normal distribution','Location','best')\n",
    "hold off"
   ]
  },
  {
   "cell_type": "markdown",
   "metadata": {},
   "source": [
    "### 3.В предположении нормальности ошибок построить доверительный интервал для параметров $\\beta_0,\\beta_1$ уровня доверия $1-\\alpha$.Построить доверительный эллипс уровня доверия $1-\\alpha$ для ($\\beta_0,\\beta_1$) (вычислить его полуоси)."
   ]
  },
  {
   "cell_type": "markdown",
   "metadata": {},
   "source": [
    "$$\n",
    "\\psi = C^T \\beta \n",
    "$$\n",
    "\n",
    "$$ \n",
    "b_\\psi = C^T (XX^T)^{-1}C\n",
    "$$\n",
    "\n",
    "$$\n",
    "\\cfrac{\\widehat \\psi - \\psi}{s\\sqrt{b}} \\sim S_{n-r} \n",
    "$$\n",
    "Квантиль:\n",
    "$$\n",
    "x_\\alpha : S_{n-r}(x_\\alpha) = 1 -\\frac{\\alpha}{2} \n",
    "$$\n",
    "\n",
    "$$\n",
    "P_\\theta\\left (-x_\\alpha \\le \\cfrac{\\widehat \\psi - \\psi}{s\\sqrt{b}} \\le x_\\alpha\\right ) = 1 -\\alpha \n",
    "$$\n",
    "Доверительный интервал для $\\psi:$\n",
    "$$\n",
    "\\widehat \\psi -x_{\\alpha}s\\sqrt{b} \\le \\psi \\le \\widehat \\psi +x_{\\alpha}s\\sqrt{b}.\n",
    "$$ \n",
    "Для $\\beta_0:$\n",
    "\n",
    "$$ C = \\begin{pmatrix}\n",
    "    1 \\\\\n",
    "    0\n",
    "\\end{pmatrix} \n",
    "$$ \n",
    "$\\widehat \\psi = \\widehat \\beta_0 $, $b$ - элемент в матрице $ (XX^T)^{-1}$ на позиции $(1,1). $\n",
    "\n",
    "Для $\\beta_1:$\n",
    "\n",
    "$$ C = \\begin{pmatrix}\n",
    "    0 \\\\\n",
    "    1\n",
    "\\end{pmatrix} $$ \n",
    "$\\widehat \\psi = \\widehat \\beta_1 $, $b$ - элемент в матрице $ (XX^T)^{-1}$ на позиции $(2,2) $"
   ]
  },
  {
   "cell_type": "code",
   "execution_count": 205,
   "metadata": {},
   "outputs": [
    {
     "data": {
      "text/html": [
       "<html><body><pre>x_alpha = 1.6772</pre></body></html>"
      ],
      "text/plain": [
       "x_alpha = 1.6772"
      ]
     },
     "execution_count": 205,
     "metadata": {},
     "output_type": "execute_result"
    },
    {
     "data": {
      "text/html": [
       "<html><body><pre>b0 = 0.1859</pre></body></html>"
      ],
      "text/plain": [
       "b0 = 0.1859"
      ]
     },
     "execution_count": 205,
     "metadata": {},
     "output_type": "execute_result"
    },
    {
     "data": {
      "text/html": [
       "<html><body><pre>b1 = 0.0182</pre></body></html>"
      ],
      "text/plain": [
       "b1 = 0.0182"
      ]
     },
     "execution_count": 205,
     "metadata": {},
     "output_type": "execute_result"
    }
   ],
   "source": [
    "x_alpha = tinv(1 - alpha/2, n-2)\n",
    "X1 = zeros(1, n);\n",
    "X1 = X1 + 1;\n",
    "X = [X1; x];\n",
    "\n",
    "C0 = [1 0]';\n",
    "C1 = [0 1]';\n",
    "\n",
    "b0 = C0' * (X*X')^(-1) * C0\n",
    "b1 = C1' * (X*X')^(-1) * C1\n"
   ]
  },
  {
   "cell_type": "code",
   "execution_count": 206,
   "metadata": {},
   "outputs": [
    {
     "data": {
      "text/html": [
       "<html><body><pre>ans = 'Доверительный интервал beta_0 [4.437990, 13.975339] уровня доверия 0.900000'</pre></body></html>"
      ],
      "text/plain": [
       "ans = 'Доверительный интервал beta_0 [4.437990, 13.975339] уровня доверия 0.900000'"
      ]
     },
     "execution_count": 206,
     "metadata": {},
     "output_type": "execute_result"
    }
   ],
   "source": [
    "left = beta_0 - x_alpha * std(y) * sqrt(b0);\n",
    "right = beta_0 + x_alpha * std(y) * sqrt(b0);\n",
    "sprintf('Доверительный интервал beta_0 [%f, %f] уровня доверия %f', left, right, 1 - alpha)"
   ]
  },
  {
   "cell_type": "code",
   "execution_count": 227,
   "metadata": {},
   "outputs": [
    {
     "data": {
      "text/html": [
       "<html><body><pre>ans = 'Доверительный интервал beta_1 [-20.523765, 22.664914] уровня доверия 0.900000'</pre></body></html>"
      ],
      "text/plain": [
       "ans = 'Доверительный интервал beta_1 [-20.523765, 22.664914] уровня доверия 0.900000'"
      ]
     },
     "execution_count": 227,
     "metadata": {},
     "output_type": "execute_result"
    }
   ],
   "source": [
    "left = beta_1 - x_alpha * std(y) * sqrt(b1);\n",
    "right = beta_1 + x_alpha * std(y) * sqrt(b1);\n",
    "sprintf('Доверительный интервал beta_1 [%f, %f] уровня доверия %f', left, right, 1 - alpha)"
   ]
  },
  {
   "cell_type": "markdown",
   "metadata": {},
   "source": [
    "Доверительный эллипсоид уровня доверия 1 - $\\alpha$:\n",
    "\n",
    "$$ \n",
    "A_\\alpha = \\{x: (x - \\widehat \\psi)^T (C^T (XX^T)^{-1}C)^{-1}(x - \\widehat \\psi) \\le qs^2x_\\alpha\\},\n",
    "$$ \n",
    "где\n",
    "$$ \n",
    "x_\\alpha: F_{q, n-r}(x_\\alpha) = 1 - \\alpha.\n",
    "$$\n",
    "\n",
    "Для $(\\beta_0, \\beta_1):$\n",
    "\n",
    "$$\n",
    "C = \\begin{pmatrix}\n",
    "    1 & 0\\\\\n",
    "    0 & 1\n",
    "\\end{pmatrix} \n",
    "$$\n",
    "\n",
    "Пусть $ \\begin{pmatrix}x \\\\ y \\end{pmatrix} = P(\\widehat \\psi - \\psi)$, где P - матрица собственных векторов. Уравнение доверительного эллипсоида имеет вид:\n",
    "\n",
    "$$\n",
    "(\\widehat \\psi -  \\psi)^T (C^T (XX^T)^{-1}C)^{-1}(\\widehat \\psi -  \\psi) = \\lambda_1 x^2 + \\lambda_2 y^2 \\le qs^2x_\\alpha,\n",
    "$$\n",
    "где $\\lambda_1$ и $\\lambda_2$ - собственные числа матрицы $XX^T$\n",
    "\n",
    "$$\n",
    "\\cfrac{\\lambda_1}{qs^2x_\\alpha}x^2 + \\cfrac{\\lambda_2}{qs^2x_\\alpha}y^2 \\le 1\n",
    "$$"
   ]
  },
  {
   "cell_type": "code",
   "execution_count": 208,
   "metadata": {},
   "outputs": [
    {
     "data": {
      "text/html": [
       "<html><body><pre>ans = 'Собственные числа: 4.943744, 556.056256'</pre></body></html>"
      ],
      "text/plain": [
       "ans = 'Собственные числа: 4.943744, 556.056256'"
      ]
     },
     "execution_count": 208,
     "metadata": {},
     "output_type": "execute_result"
    },
    {
     "data": {
      "text/html": [
       "<html><body><pre>ans = 'Первый собственный вектор:'</pre></body></html>"
      ],
      "text/plain": [
       "ans = 'Первый собственный вектор:'"
      ]
     },
     "execution_count": 208,
     "metadata": {},
     "output_type": "execute_result"
    },
    {
     "data": {
      "text/html": [
       "<html><body><pre>ans = 2x1 double\n",
       "   -0.9583\n",
       "    0.2859\n",
       "</pre></body></html>"
      ],
      "text/plain": [
       "ans = 2x1 double\n",
       "   -0.9583\n",
       "    0.2859\n"
      ]
     },
     "execution_count": 208,
     "metadata": {},
     "output_type": "execute_result"
    },
    {
     "data": {
      "text/html": [
       "<html><body><pre>ans = 'Второй собственный вектор:'</pre></body></html>"
      ],
      "text/plain": [
       "ans = 'Второй собственный вектор:'"
      ]
     },
     "execution_count": 208,
     "metadata": {},
     "output_type": "execute_result"
    },
    {
     "data": {
      "text/html": [
       "<html><body><pre>ans = 2x1 double\n",
       "    0.2859\n",
       "    0.9583\n",
       "</pre></body></html>"
      ],
      "text/plain": [
       "ans = 2x1 double\n",
       "    0.2859\n",
       "    0.9583\n"
      ]
     },
     "execution_count": 208,
     "metadata": {},
     "output_type": "execute_result"
    },
    {
     "data": {
      "text/html": [
       "<html><body><pre>x_alpha = 1.6772</pre></body></html>"
      ],
      "text/plain": [
       "x_alpha = 1.6772"
      ]
     },
     "execution_count": 208,
     "metadata": {},
     "output_type": "execute_result"
    },
    {
     "data": {
      "text/html": [
       "<html><body><pre>ans = 'Большая полусь 29.507477. Меньшая полуось 0.262343'</pre></body></html>"
      ],
      "text/plain": [
       "ans = 'Большая полусь 29.507477. Меньшая полуось 0.262343'"
      ]
     },
     "execution_count": 208,
     "metadata": {},
     "output_type": "execute_result"
    }
   ],
   "source": [
    "[V, D] = eig(X*X');\n",
    "sprintf('Собственные числа: %f, %f', D(1,1), D(2,2))\n",
    "sprintf('Первый собственный вектор:')\n",
    "V(:, 1)\n",
    "sprintf('Второй собственный вектор:')\n",
    "V(:, 2)\n",
    "             \n",
    "x_alpha = tinv(1 - alpha/2, n-2)\n",
    "big = 2 * std(y)^2 * x_alpha / D(1, 1);\n",
    "less = 2 * std(y)^2 * x_alpha / D(2, 2);\n",
    "sprintf('Большая полусь %f. Меньшая полуось %f', big, less)"
   ]
  },
  {
   "cell_type": "code",
   "execution_count": 217,
   "metadata": {},
   "outputs": [
    {
     "data": {
      "text/html": [
       "<html><body><pre>a1 = 0.0339</pre></body></html>"
      ],
      "text/plain": [
       "a1 = 0.0339"
      ]
     },
     "execution_count": 217,
     "metadata": {},
     "output_type": "execute_result"
    },
    {
     "data": {
      "text/html": [
       "<html><body><pre>b1 = 3.8118</pre></body></html>"
      ],
      "text/plain": [
       "b1 = 3.8118"
      ]
     },
     "execution_count": 217,
     "metadata": {},
     "output_type": "execute_result"
    },
    {
     "data": {
      "image/png": "[encoded data removed]"
     },
     "execution_count": 217,
     "metadata": {},
     "output_type": "execute_result"
    }
   ],
   "source": [
    "a1 = 1 / big\n",
    "b1 = 1 / less\n",
    "[xel1, yel1, zel1] = ellipsoid(0, 0, 0, a1, b1, 0);\n",
    "surf(xel1, yel1, zel1)"
   ]
  },
  {
   "cell_type": "code",
   "execution_count": 225,
   "metadata": {},
   "outputs": [
    {
     "data": {
      "text/html": [
       "<html><body><pre>center = 2x1 double\n",
       "    8.3433\n",
       "   -3.5877\n",
       "</pre></body></html>"
      ],
      "text/plain": [
       "center = 2x1 double\n",
       "    8.3433\n",
       "   -3.5877\n"
      ]
     },
     "execution_count": 225,
     "metadata": {},
     "output_type": "execute_result"
    },
    {
     "data": {
      "image/png": "[encoded data removed]"
     },
     "execution_count": 225,
     "metadata": {},
     "output_type": "execute_result"
    }
   ],
   "source": [
    "XXTInv = (X*X')^(-1);\n",
    "psi_hat_0 = XXTInv(1, 1);\n",
    "psi_hat_1 = XXTInv(2, 2);\n",
    "psi_hat = [psi_hat_0; psi_hat_1];\n",
    "beta = [beta_0; beta_1];\n",
    "center = V * (psi_hat - beta)\n",
    "          \n",
    "[xel1, yel1, zel1] = ellipsoid(center(1), center(2), 0, a1, b1, 0);\n",
    "surf(xel1, yel1, zel1)"
   ]
  },
  {
   "cell_type": "markdown",
   "metadata": {},
   "source": [
    "### 4.Сформулировать гипотезу независимой переменной Y от переменной X. Провести проверку зависимости."
   ]
  },
  {
   "cell_type": "code",
   "execution_count": 123,
   "metadata": {},
   "outputs": [
    {
     "data": {
      "text/html": [
       "<html><body><pre>p = 2</pre></body></html>"
      ],
      "text/plain": [
       "p = 2"
      ]
     },
     "execution_count": 123,
     "metadata": {},
     "output_type": "execute_result"
    },
    {
     "data": {
      "text/html": [
       "<html><body><pre>ans = 'f-criteria 23.789322'</pre></body></html>"
      ],
      "text/plain": [
       "ans = 'f-criteria 23.789322'"
      ]
     },
     "execution_count": 123,
     "metadata": {},
     "output_type": "execute_result"
    },
    {
     "data": {
      "text/html": [
       "<html><body><pre>ans = 'f-critical 2.416660'</pre></body></html>"
      ],
      "text/plain": [
       "ans = 'f-critical 2.416660'"
      ]
     },
     "execution_count": 123,
     "metadata": {},
     "output_type": "execute_result"
    },
    {
     "data": {
      "text/html": [
       "<html><body><pre>ans = 'Отвергаем нулевую гипотезу'</pre></body></html>"
      ],
      "text/plain": [
       "ans = 'Отвергаем нулевую гипотезу'"
      ]
     },
     "execution_count": 123,
     "metadata": {},
     "output_type": "execute_result"
    }
   ],
   "source": [
    "p = 2\n",
    "SSE = sum(y - (beta_0 + beta_1 * x).^2);\n",
    "SSR = sum(beta_0 + beta_1 * x - mean(y).^2);\n",
    "SST = SSE + SSR;\n",
    "MSE = SSE / (n - p);\n",
    "MSR = SSR / p;\n",
    "\n",
    "F = MSR / MSE;\n",
    "f_crit = finv(1 - alpha, p, n - p);\n",
    "sprintf('f-criteria %f', F)\n",
    "sprintf('f-critical %f', f_crit)\n",
    "if F > f_crit\n",
    "    sprintf('Отвергаем нулевую гипотезу')\n",
    "else\n",
    "    sprintf('Принимаем нулевую гипотезу')\n",
    "end\n",
    "\n"
   ]
  },
  {
   "cell_type": "markdown",
   "metadata": {},
   "source": [
    "### 5.Сформулировать модель включающую доплнительный член с $X^2$.Построить МНК оценки параметров $\\beta_0,\\beta_1,\\beta_2$ в данной модели. Изобразить графически полученную регрессионную модель.\n",
    "\n",
    "Линейная регрессионная модель:\n",
    "$$\n",
    "Y = \\beta_0 + \\beta_1X + \\beta_2X^2 + \\varepsilon,\n",
    "$$\n",
    "где $\\beta_0,\\beta_1,\\beta_2$ - параметры, а $\\varepsilon$ - случайная ошибка.\n"
   ]
  },
  {
   "cell_type": "code",
   "execution_count": 228,
   "metadata": {},
   "outputs": [
    {
     "name": "stdout",
     "output_type": "stream",
     "text": [
      "lsqr converged at iteration 3 to a solution with relative residual 0.46.\n"
     ]
    },
    {
     "data": {
      "text/html": [
       "<html><body><pre>beta = 3x1 double\n",
       "    7.8975\n",
       "    2.1456\n",
       "   -0.1896\n",
       "</pre></body></html>"
      ],
      "text/plain": [
       "beta = 3x1 double\n",
       "    7.8975\n",
       "    2.1456\n",
       "   -0.1896\n"
      ]
     },
     "execution_count": 228,
     "metadata": {},
     "output_type": "execute_result"
    },
    {
     "data": {
      "image/png": "[encoded data removed]"
     },
     "execution_count": 228,
     "metadata": {},
     "output_type": "execute_result"
    }
   ],
   "source": [
    "y = [28.51 16.33 11.24 6.73 7.87 6.51 5.52 19.45 1.18 16.71 8.18 12.11 17.51 19.18 17.53 9.78 1.27 8.96 5.80 19.42 9.61 10.45 10.81 10.73 18.26 21.88 14.86 8.65 4.30 16.75 10.86 15.47 20.42 16.18 22.65 26.35 13.29 8.17 4.28 12.42 6.86 10.90 4.86 2.12 19.85 24.82 9.12 7.46 9.26 10.56];\n",
    "x = [4 4 2 3 4 4 1 5 3 2 2 2 2 3 4 2 2 4 2 3 4 4 3 3 4 4 3 3 3 4 4 1 3 4 3 2 1 4 3 2 3 4 1 3 3 3 4 1 5 4];\n",
    "h = 2.9;\n",
    "alpha = 0.1;\n",
    "\n",
    "x2 = x.^2;\n",
    "z = zeros(length(x), 1)';\n",
    "z = z + 1;\n",
    "X_matrix = [z; x; x2]';\n",
    "yt = y';\n",
    "beta = lsqr(X_matrix, yt)\n",
    "beta_1 = beta(1);\n",
    "beta_2 = beta(2); \n",
    "beta_3 = beta(3);\n",
    "\n",
    "xx = (min(x):(max(x)-min(x))/100:max(x));\n",
    "yy = beta_1 + beta_2 * xx + beta_3 * xx .^ 2;\n",
    "hold on;\n",
    "scatter(x, y, 'Filled')\n",
    "plot(xx, yy)"
   ]
  },
  {
   "cell_type": "markdown",
   "metadata": {},
   "source": [
    "### 6.Построить несмещенную оценку дисперсии. Провести исследование нормальности ошибок как в пункте 2."
   ]
  },
  {
   "cell_type": "code",
   "execution_count": 229,
   "metadata": {},
   "outputs": [
    {
     "data": {
      "text/html": [
       "<html><body><pre>ans = 'Исправленная оценка дисперсии 43.487753'</pre></body></html>"
      ],
      "text/plain": [
       "ans = 'Исправленная оценка дисперсии 43.487753'"
      ]
     },
     "execution_count": 229,
     "metadata": {},
     "output_type": "execute_result"
    },
    {
     "data": {
      "image/png": "[encoded data removed]"
     },
     "execution_count": 229,
     "metadata": {},
     "output_type": "execute_result"
    }
   ],
   "source": [
    "n = length(y);\n",
    "sprintf('Исправленная оценка дисперсии %f', std(y)^2)\n",
    "\n",
    "predicted_y = beta_1 + beta_2 * x + beta_2 * x.^2;\n",
    "err = y - predicted_y;\n",
    "bins = (min(err):h:max(err));\n",
    "h = histogram(err, 'BinEdges', bins);\n",
    "observed_freqs = h.Values;"
   ]
  },
  {
   "cell_type": "code",
   "execution_count": 230,
   "metadata": {},
   "outputs": [
    {
     "data": {
      "text/html": [
       "<html><body><pre>expected_freqs = 1x23 double\n",
       "    2.1739    2.1739    2.1739    2.1739    2.1739    2.1739    2.1739    2.1739    2.1739    2.1739    2.1739    2.1739    2.1739    2.1739    2.1739    2.1739    2.1739    2.1739    2.1739    2.1739    2.1739    2.1739    2.1739\n",
       "</pre></body></html>"
      ],
      "text/plain": [
       "expected_freqs = 1x23 double\n",
       "    2.1739    2.1739    2.1739    2.1739    2.1739    2.1739    2.1739    2.1739    2.1739    2.1739    2.1739    2.1739    2.1739    2.1739    2.1739    2.1739    2.1739    2.1739    2.1739    2.1739    2.1739    2.1739    2.1739\n"
      ]
     },
     "execution_count": 230,
     "metadata": {},
     "output_type": "execute_result"
    },
    {
     "data": {
      "text/html": [
       "<html><body><pre>observed_freqs = 1x23 double\n",
       "     1     0     0     1     0     0     2     8     0     3     4     3     2     3     1     2     4     4     4     2     3     0     2\n",
       "</pre></body></html>"
      ],
      "text/plain": [
       "observed_freqs = 1x23 double\n",
       "     1     0     0     1     0     0     2     8     0     3     4     3     2     3     1     2     4     4     4     2     3     0     2\n"
      ]
     },
     "execution_count": 230,
     "metadata": {},
     "output_type": "execute_result"
    },
    {
     "data": {
      "text/html": [
       "<html><body><pre>chi2stat = 1.6530</pre></body></html>"
      ],
      "text/plain": [
       "chi2stat = 1.6530"
      ]
     },
     "execution_count": 230,
     "metadata": {},
     "output_type": "execute_result"
    },
    {
     "data": {
      "text/html": [
       "<html><body><pre>chi2crit = 30.8133</pre></body></html>"
      ],
      "text/plain": [
       "chi2crit = 30.8133"
      ]
     },
     "execution_count": 230,
     "metadata": {},
     "output_type": "execute_result"
    },
    {
     "data": {
      "text/html": [
       "<html><body><pre>ans = 'Гипотеза принимается'</pre></body></html>"
      ],
      "text/plain": [
       "ans = 'Гипотеза принимается'"
      ]
     },
     "execution_count": 230,
     "metadata": {},
     "output_type": "execute_result"
    },
    {
     "data": {
      "text/html": [
       "<html><body><pre>ans = 'Статистика Колмогорова 1.000000'</pre></body></html>"
      ],
      "text/plain": [
       "ans = 'Статистика Колмогорова 1.000000'"
      ]
     },
     "execution_count": 230,
     "metadata": {},
     "output_type": "execute_result"
    },
    {
     "data": {
      "text/html": [
       "<html><body><pre>ans = 'p-value 0.000000'</pre></body></html>"
      ],
      "text/plain": [
       "ans = 'p-value 0.000000'"
      ]
     },
     "execution_count": 230,
     "metadata": {},
     "output_type": "execute_result"
    },
    {
     "data": {
      "text/html": [
       "<html><body><pre>ans = 'Гипотеза отвергается'</pre></body></html>"
      ],
      "text/plain": [
       "ans = 'Гипотеза отвергается'"
      ]
     },
     "execution_count": 230,
     "metadata": {},
     "output_type": "execute_result"
    }
   ],
   "source": [
    "expected_freqs = n * diff(bins) / sum(diff(bins))\n",
    "observed_freqs\n",
    "chi2stat = sum((observed_freqs - expected_freqs).^2 / expected_freqs)\n",
    "chi2crit = chi2inv(1-alpha, length(observed_freqs) - 1)\n",
    "if chi2stat > chi2crit\n",
    "    sprintf('Гипотеза отвергается')\n",
    "else\n",
    "    sprintf('Гипотеза принимается')\n",
    "end\n",
    "\n",
    "distrib = makedist('Normal');\n",
    "[h,p] = kstest(y, 'CDF', distrib, 'Alpha', 1 - alpha);\n",
    "sprintf('Статистика Колмогорова %f', h)\n",
    "sprintf('p-value %f', p)\n",
    "\n",
    "if p < alpha\n",
    "    sprintf('Гипотеза отвергается')\n",
    "else\n",
    "    sprintf('Гипотеза принимается')\n",
    "end  "
   ]
  },
  {
   "cell_type": "code",
   "execution_count": 231,
   "metadata": {},
   "outputs": [
    {
     "data": {
      "image/png": "[encoded data removed]"
     },
     "execution_count": 231,
     "metadata": {},
     "output_type": "execute_result"
    }
   ],
   "source": [
    "y_norm_cdf = normcdf(bins, 0, std(y));\n",
    "cdfplot(err)\n",
    "hold on\n",
    "plot(bins, y_norm_cdf)\n",
    "legend('Empirical CDF','Theoretical CDF Normal distribution','Location','best')\n",
    "hold off"
   ]
  },
  {
   "cell_type": "markdown",
   "metadata": {},
   "source": [
    "#### Задание 7\n",
    "В предположении нормальности ошибок построить доверительные интервалы для параметров $\\beta_0$, $\\beta_1$, $\\beta_2$  уровня доверия 1 − $\\alpha$. Написать уравнение доверительного эллипсоида уровня доверия 1 − $\\alpha$."
   ]
  },
  {
   "cell_type": "markdown",
   "metadata": {},
   "source": [
    "Формулы для вычисления аналогичны заданию 3."
   ]
  },
  {
   "cell_type": "code",
   "execution_count": 232,
   "metadata": {},
   "outputs": [
    {
     "data": {
      "text/html": [
       "<html><body><pre>x_alpha = 1.6772</pre></body></html>"
      ],
      "text/plain": [
       "x_alpha = 1.6772"
      ]
     },
     "execution_count": 232,
     "metadata": {},
     "output_type": "execute_result"
    },
    {
     "data": {
      "text/html": [
       "<html><body><pre>b0 = 0.8433</pre></body></html>"
      ],
      "text/plain": [
       "b0 = 0.8433"
      ]
     },
     "execution_count": 232,
     "metadata": {},
     "output_type": "execute_result"
    },
    {
     "data": {
      "text/html": [
       "<html><body><pre>b1 = 0.4615</pre></body></html>"
      ],
      "text/plain": [
       "b1 = 0.4615"
      ]
     },
     "execution_count": 232,
     "metadata": {},
     "output_type": "execute_result"
    },
    {
     "data": {
      "text/html": [
       "<html><body><pre>b2 = 0.0138</pre></body></html>"
      ],
      "text/plain": [
       "b2 = 0.0138"
      ]
     },
     "execution_count": 232,
     "metadata": {},
     "output_type": "execute_result"
    }
   ],
   "source": [
    "x_alpha = tinv(1 - alpha/2, n-2)\n",
    "X1 = zeros(1, n);\n",
    "X1 = X1 + 1;\n",
    "X = [X1; x; x.^2];\n",
    "\n",
    "C0 = [1 0 0]';\n",
    "C1 = [0 1 0]';\n",
    "C2 = [0 0 1]';\n",
    "\n",
    "b0 = C0' * (X*X')^(-1) * C0\n",
    "b1 = C1' * (X*X')^(-1) * C1\n",
    "b2 = C2' * (X*X')^(-1) * C2\n",
    "\n"
   ]
  },
  {
   "cell_type": "code",
   "execution_count": 233,
   "metadata": {},
   "outputs": [
    {
     "data": {
      "text/html": [
       "<html><body><pre>ans = 'Доверительный интервал beta_1 [-2.259479, 18.054559] уровня доверия 0.900000'</pre></body></html>"
      ],
      "text/plain": [
       "ans = 'Доверительный интервал beta_1 [-2.259479, 18.054559] уровня доверия 0.900000'"
      ]
     },
     "execution_count": 233,
     "metadata": {},
     "output_type": "execute_result"
    }
   ],
   "source": [
    "left = beta_1 - x_alpha * std(y) * sqrt(b0);\n",
    "right = beta_1 + x_alpha * std(y) * sqrt(b0);\n",
    "sprintf('Доверительный интервал beta_1 [%f, %f] уровня доверия %f', left, right, 1 - alpha)\n"
   ]
  },
  {
   "cell_type": "code",
   "execution_count": 234,
   "metadata": {},
   "outputs": [
    {
     "data": {
      "text/html": [
       "<html><body><pre>ans = 'Доверительный интервал beta_2 [-5.368172, 9.659336] уровня доверия 0.900000'</pre></body></html>"
      ],
      "text/plain": [
       "ans = 'Доверительный интервал beta_2 [-5.368172, 9.659336] уровня доверия 0.900000'"
      ]
     },
     "execution_count": 234,
     "metadata": {},
     "output_type": "execute_result"
    }
   ],
   "source": [
    "left = beta_2 - x_alpha * std(y) * sqrt(b1);\n",
    "right = beta_2 + x_alpha * std(y) * sqrt(b1);\n",
    "sprintf('Доверительный интервал beta_2 [%f, %f] уровня доверия %f', left, right, 1 - alpha)\n"
   ]
  },
  {
   "cell_type": "code",
   "execution_count": 235,
   "metadata": {},
   "outputs": [
    {
     "data": {
      "text/html": [
       "<html><body><pre>ans = 'Доверительный интервал beta_3 [-1.488189, 1.109050] уровня доверия 0.900000'</pre></body></html>"
      ],
      "text/plain": [
       "ans = 'Доверительный интервал beta_3 [-1.488189, 1.109050] уровня доверия 0.900000'"
      ]
     },
     "execution_count": 235,
     "metadata": {},
     "output_type": "execute_result"
    }
   ],
   "source": [
    "left = beta_3 - x_alpha * std(y) * sqrt(b2);\n",
    "right = beta_3 + x_alpha * std(y) * sqrt(b2);\n",
    "sprintf('Доверительный интервал beta_3 [%f, %f] уровня доверия %f', left, right, 1 - alpha)"
   ]
  },
  {
   "cell_type": "code",
   "execution_count": 237,
   "metadata": {},
   "outputs": [
    {
     "data": {
      "text/html": [
       "<html><body><pre>ans = 'Собственные числа: 0.775842, 33.867373, 7589.356784'</pre></body></html>"
      ],
      "text/plain": [
       "ans = 'Собственные числа: 0.775842, 33.867373, 7589.356784'"
      ]
     },
     "execution_count": 237,
     "metadata": {},
     "output_type": "execute_result"
    },
    {
     "data": {
      "text/html": [
       "<html><body><pre>ans = 'Первый собственный вектор:'</pre></body></html>"
      ],
      "text/plain": [
       "ans = 'Первый собственный вектор:'"
      ]
     },
     "execution_count": 237,
     "metadata": {},
     "output_type": "execute_result"
    },
    {
     "data": {
      "text/html": [
       "<html><body><pre>ans = 3x1 double\n",
       "    0.8039\n",
       "   -0.5869\n",
       "    0.0960\n",
       "</pre></body></html>"
      ],
      "text/plain": [
       "ans = 3x1 double\n",
       "    0.8039\n",
       "   -0.5869\n",
       "    0.0960\n"
      ]
     },
     "execution_count": 237,
     "metadata": {},
     "output_type": "execute_result"
    },
    {
     "data": {
      "text/html": [
       "<html><body><pre>ans = 'Второй собственный вектор:'</pre></body></html>"
      ],
      "text/plain": [
       "ans = 'Второй собственный вектор:'"
      ]
     },
     "execution_count": 237,
     "metadata": {},
     "output_type": "execute_result"
    },
    {
     "data": {
      "text/html": [
       "<html><body><pre>ans = 3x1 double\n",
       "    0.5906\n",
       "    0.7687\n",
       "   -0.2458\n",
       "</pre></body></html>"
      ],
      "text/plain": [
       "ans = 3x1 double\n",
       "    0.5906\n",
       "    0.7687\n",
       "   -0.2458\n"
      ]
     },
     "execution_count": 237,
     "metadata": {},
     "output_type": "execute_result"
    },
    {
     "data": {
      "text/html": [
       "<html><body><pre>ans = 'Третий собственный вектор:'</pre></body></html>"
      ],
      "text/plain": [
       "ans = 'Третий собственный вектор:'"
      ]
     },
     "execution_count": 237,
     "metadata": {},
     "output_type": "execute_result"
    },
    {
     "data": {
      "text/html": [
       "<html><body><pre>ans = 3x1 double\n",
       "    0.0705\n",
       "    0.2543\n",
       "    0.9646\n",
       "</pre></body></html>"
      ],
      "text/plain": [
       "ans = 3x1 double\n",
       "    0.0705\n",
       "    0.2543\n",
       "    0.9646\n"
      ]
     },
     "execution_count": 237,
     "metadata": {},
     "output_type": "execute_result"
    },
    {
     "data": {
      "text/html": [
       "<html><body><pre>x_alpha = 1.6772</pre></body></html>"
      ],
      "text/plain": [
       "x_alpha = 1.6772"
      ]
     },
     "execution_count": 237,
     "metadata": {},
     "output_type": "execute_result"
    },
    {
     "data": {
      "text/html": [
       "<html><body><pre>ans = 'Первая полусь 188.024554. Вторая полуось 4.307314. Третья полуось 0.019221'</pre></body></html>"
      ],
      "text/plain": [
       "ans = 'Первая полусь 188.024554. Вторая полуось 4.307314. Третья полуось 0.019221'"
      ]
     },
     "execution_count": 237,
     "metadata": {},
     "output_type": "execute_result"
    }
   ],
   "source": [
    "[V, D] = eig(X*X');\n",
    "sprintf('Собственные числа: %f, %f, %f', D(1,1), D(2,2), D(3,3))\n",
    "sprintf('Первый собственный вектор:')\n",
    "V(:, 1)\n",
    "sprintf('Второй собственный вектор:')\n",
    "V(:, 2)\n",
    "sprintf('Третий собственный вектор:')\n",
    "V(:, 3)\n",
    "             \n",
    "x_alpha = tinv(1 - alpha/2, n-2)\n",
    "f = 2 * std(y)^2 * x_alpha / D(1, 1);\n",
    "s = 2 * std(y)^2 * x_alpha / D(2, 2);\n",
    "t = 2 * std(y)^2 * x_alpha / D(3, 3);\n",
    "sprintf('Первая полусь %f. Вторая полуось %f. Третья полуось %f', f, s, t)"
   ]
  },
  {
   "cell_type": "code",
   "execution_count": 238,
   "metadata": {},
   "outputs": [
    {
     "data": {
      "text/html": [
       "<html><body><pre>a = 0.0053</pre></body></html>"
      ],
      "text/plain": [
       "a = 0.0053"
      ]
     },
     "execution_count": 238,
     "metadata": {},
     "output_type": "execute_result"
    },
    {
     "data": {
      "text/html": [
       "<html><body><pre>b = 0.2322</pre></body></html>"
      ],
      "text/plain": [
       "b = 0.2322"
      ]
     },
     "execution_count": 238,
     "metadata": {},
     "output_type": "execute_result"
    },
    {
     "data": {
      "image/png": "[encoded data removed]"
     },
     "execution_count": 238,
     "metadata": {},
     "output_type": "execute_result"
    }
   ],
   "source": [
    "a = 1 / f\n",
    "b = 1 / s\n",
    "c = 1 / t;\n",
    "[xel1, yel1, zel1] = ellipsoid(0, 0, 0, a, b, c);\n",
    "surf(xel1, yel1, zel1)"
   ]
  },
  {
   "cell_type": "code",
   "execution_count": 242,
   "metadata": {},
   "outputs": [
    {
     "data": {
      "image/png": "[encoded data removed]"
     },
     "execution_count": 242,
     "metadata": {},
     "output_type": "execute_result"
    },
    {
     "data": {
      "text/html": [
       "<html><body><pre>ans = 'Координаты центра:'</pre></body></html>"
      ],
      "text/plain": [
       "ans = 'Координаты центра:'"
      ]
     },
     "execution_count": 242,
     "metadata": {},
     "output_type": "execute_result"
    },
    {
     "data": {
      "text/html": [
       "<html><body><pre>ans = 1x3 double\n",
       "   -6.6512    2.8977   -0.0671\n",
       "</pre></body></html>"
      ],
      "text/plain": [
       "ans = 1x3 double\n",
       "   -6.6512    2.8977   -0.0671\n"
      ]
     },
     "execution_count": 242,
     "metadata": {},
     "output_type": "execute_result"
    }
   ],
   "source": [
    "XXTInv = (X*X')^(-1);\n",
    "psi_hat_0 = XXTInv(1, 1);\n",
    "psi_hat_1 = XXTInv(2, 2);\n",
    "psi_hat_2 = XXTInv(3, 3);\n",
    "psi_hat = [psi_hat_0; psi_hat_1; psi_hat_2];\n",
    "beta = [beta_1; beta_2; beta_3];\n",
    "center = V * (psi_hat - beta);\n",
    "          \n",
    "[xel1, yel1, zel1] = ellipsoid(center(1), center(2), center(3), a, b, c);\n",
    "surf(xel1, yel1, zel1)\n",
    "sprintf('Координаты центра:')\n",
    "center'"
   ]
  },
  {
   "cell_type": "markdown",
   "metadata": {},
   "source": [
    "### 8.Сформулировать гипотезу линейной регрессионной зависимости переменной Y от переменной X и проверить её значимость на уровне $\\alpha$.\n",
    "\n",
    "Гипотеза линейной регрессионной зависимости переменной Y от переменной X:\n",
    "H0: $\\beta_1 = \\beta_2 = 0$,\n",
    "H1: $\\beta_1\\ne 0$ или $ \\beta_2 \\ne 0$"
   ]
  },
  {
   "cell_type": "code",
   "execution_count": 156,
   "metadata": {},
   "outputs": [
    {
     "data": {
      "text/html": [
       "<html><body><pre>p = 3</pre></body></html>"
      ],
      "text/plain": [
       "p = 3"
      ]
     },
     "execution_count": 156,
     "metadata": {},
     "output_type": "execute_result"
    },
    {
     "data": {
      "text/html": [
       "<html><body><pre>ans = 'f-criteria 15.523503'</pre></body></html>"
      ],
      "text/plain": [
       "ans = 'f-criteria 15.523503'"
      ]
     },
     "execution_count": 156,
     "metadata": {},
     "output_type": "execute_result"
    },
    {
     "data": {
      "text/html": [
       "<html><body><pre>ans = 'f-critical 2.204182'</pre></body></html>"
      ],
      "text/plain": [
       "ans = 'f-critical 2.204182'"
      ]
     },
     "execution_count": 156,
     "metadata": {},
     "output_type": "execute_result"
    },
    {
     "data": {
      "text/html": [
       "<html><body><pre>ans = 'Отвергаем нулевую гипотезу'</pre></body></html>"
      ],
      "text/plain": [
       "ans = 'Отвергаем нулевую гипотезу'"
      ]
     },
     "execution_count": 156,
     "metadata": {},
     "output_type": "execute_result"
    }
   ],
   "source": [
    "p = 3\n",
    "SSE = sum(y - (beta_1 + beta_2 * x + beta_3 * x.^2).^2);\n",
    "SSR = sum(beta_1 + beta_2 * x + beta_3 * x.^2 - mean(y).^2);\n",
    "SST = SSE + SSR;\n",
    "MSE = SSE / (n - p);\n",
    "MSR = SSR / p;\n",
    "\n",
    "F = MSR / MSE;\n",
    "f_crit = finv(1 - alpha, p, n - p);\n",
    "sprintf('f-criteria %f', F)\n",
    "sprintf('f-critical %f', f_crit)\n",
    "if F > f_crit\n",
    "    sprintf('Отвергаем нулевую гипотезу')\n",
    "else\n",
    "    sprintf('Принимаем нулевую гипотезу')\n",
    "end\n"
   ]
  },
  {
   "cell_type": "markdown",
   "metadata": {},
   "source": [
    "## Выводы\n",
    "\n",
    "В ходе данной лабораторной работы были изучены основные теоретические положения, связанные с линейной регрессией и методом наименьших квадратов, который используется для оценки коэффициентов регрессии, минимизируя сумму квадратов остатков.\n",
    "\n",
    "Был исследован регрессионный анализ, включая построение модели, оценку параметров и проверку их значимости. Также проведен анализ нормальности ошибок, построение доверительных эллипсов и интервалов. Кроме того, оценено расстояние до нормального распределения с использованием критерия Колмогорова и проверена гипотеза о независимости переменных Y и X.\n",
    "\n",
    "Также были рассмотрены ключевые элементы, такие как несмещённая оценка дисперсии $(S^{2})$ и критерий $\\chi^2$ для проверки гипотез. Все эти элементы позволяют проводить статистические выводы о параметрах модели и их значимости."
   ]
  }
 ],
 "metadata": {
  "kernelspec": {
   "display_name": "MATLAB Kernel",
   "language": "matlab",
   "name": "jupyter_matlab_kernel"
  },
  "language_info": {
   "file_extension": ".m",
   "mimetype": "text/x-matlab",
   "name": "matlab"
  }
 },
 "nbformat": 4,
 "nbformat_minor": 2
}
