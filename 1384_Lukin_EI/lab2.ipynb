{
 "cells": [
  {
   "cell_type": "markdown",
   "metadata": {},
   "source": [
    "# Лабораторная работа №2: Классические методы математической статистики\n",
    "Выполнил студент гр. 1384 Лукин Евгений. Вариант №8"
   ]
  },
  {
   "cell_type": "markdown",
   "metadata": {},
   "source": [
    "## Цель работы\n",
    "Научится применять методы математической статистики для визуализации и анализа полученных данных; сформировать навыки реализации методов с помощью прикладных программных пакетов."
   ]
  },
  {
   "cell_type": "markdown",
   "metadata": {},
   "source": [
    "## Основные теоретические положения\n",
    "\n",
    "**Выборочный аналог математического ожидания - выборочное среднее:**\n",
    "$$\\overline{X} =\\frac{1}{n}\\sum_{i=1}^{n}x_i$$\n",
    "\n",
    "**Выборочный аналог дисперсии и СКО - выборочную дисперсию и выборочное СКО:**\n",
    "$$S^2 =\\frac{1}{n}\\sum_{i=1}^{n}\\left(x_i-\\overline{X}\\right)$$\n",
    "\n",
    "$$S=\\sqrt{S^2}$$\n",
    "\n",
    "\n",
    "\n",
    "**Выборочный коэффициент асимметрии:**\n",
    "$$\\widehat{\\mathrm{Skew}}X=\\frac{1}{n}\\frac{\\sum \\limits_{i=1}^{n}\\left(x_i-\\overline{X}\\right)^3}{S^3}$$\n",
    "\n",
    "**Выборочный коэффициент эксцесса:**\n",
    "$$\\widehat{\\mathrm{Kurt}}X=\\frac{1}{n}\\frac{\\sum \\limits_{i=1}^{n}\\left(x_i-\\overline{X}\\right)^4}{S^4}-3$$\n",
    "\n",
    "**Метод максимального правдоподобия** - это метод оценивания неизвестного параметра путём максимизации функции правдоподобия\n",
    " $$L(\\overrightarrow{X},\\theta)=\\prod_{i=1}^{n}P_{\\theta}(X_{i})$$\n",
    "\n",
    "**Метод моментов** — метод оценки неизвестных параметров распределений, идея метода заключается в замене истинных соотношений выборочными аналогами.\n",
    "\n",
    "**Статистика критерия Колмагорова:**\n",
    "$$D_n = sup_{x \\in \\mathbb{R}}|F_n(x) - F_0(x)|$$\n",
    "\n",
    "**Теорема Колмагорова:**\n",
    "\n",
    "$\\sqrt{n}D_n \\rightarrow K$, при основной гипотезе\n",
    "\n",
    "**Наиболее мощный критерий:**\n",
    "\n",
    "$$ \\phi(x) =\\left\\{\n",
    "  \\begin{array}{l}\n",
    "    1, LR(x) > с \\\\\n",
    "    p, LR(x) = с \\\\\n",
    "    0, LR(x) < с \\\\\n",
    "  \\end{array}\\right.$$\n",
    "\n",
    "\n"
   ]
  },
  {
   "cell_type": "markdown",
   "metadata": {},
   "source": [
    "## Постановка задачи\n",
    "Для полученных в результате эксперимента наборов данных выполнить статистическую обработку. Полученные результаты содержательно проинтерпретировать.\n",
    "\n",
    "1. В результате эксперимента получены данные, приведённые в таблице 1.\n",
    "    - a) Построить вариационный ряд, эмпирическую функцию распределения и гистограмму частот.\n",
    "    - b) Вычислить выборочные аналоги следующих числовых характеристик: (i) математического ожидания; (ii) дисперсии; (iii) СКО; (iv) медианы; (v) асимметрии; (vi) эксцесса; (vii) вероятности $ \\mathbb{P}(X \\in [a,\\, b]). $\n",
    "    - c) В предположении, что исходные наблюдения являются выборкой из распределения Пуассона, построить оценку максимального правдоподобия параметра $\\lambda,$ а также оценку $ \\lambda $ по методу моментов. Найти смещение оценок.\n",
    "    - d) Построить асимптотический доверительный интервал уровня значимости $\\alpha_{1}$ для параметра $\\lambda$ на базе оценки максимального правдоподобия.\n",
    "    - e) Используя гистограмму частот, построить критерий значимости проверки простой гипотезы согласия с распределением Пуассона с параметром $ \\lambda_0. $ Проверить гипотезу на уровень значимости $ \\alpha_0. $ Вычислить наибольшее значение уровня значимости, на котором ещё нет оснований отвергнуть данную гипотезу.\n",
    "    - f) Построить критерий значимости $\\chi^2$ проверки сложной гипотезы согласия с распределением Пуассона. Проверить гипотезу по уровню значимости $\\alpha_0$. Вычислить наибольшее значение уровня значимости, на котором ещё нет оснований отвергнуть данную гипотезу.\n",
    "    - g) Построить наиболее мощный критерий проверки простой гипотезы пауссоновости с параметром $ \\lambda = \\lambda_0 $ при альтернативе пуассоновсти с параметром $\\lambda = \\lambda_1.$ Проверить гипотезу на уровне значимости $ \\alpha_1 $. Что получится, если поменять местами основную и альтернативную гипотезы?\n",
    "    - h) В пунктах (c)-(f) заменить семейство распределение Пуассона на семейство геометрических распредленией:\n",
    "    $$\n",
    "        \\mathbb{P}_\\lambda (X=k) = \\frac{\\lambda^k}{(\\lambda + 1)^{k+1}}. \n",
    "    $$\n"
   ]
  },
  {
   "cell_type": "markdown",
   "metadata": {},
   "source": [
    "## Выполнение работы\n",
    "#### Задание 1.\n",
    "##### Пункт а.\n",
    "Вариационный ряд: 0  1  1  1  2  2  2  2  2  2  2  2  2  2  2  3  3  3  3  3  3  4  4  4  4  4  4  4  4  4  5  5  5  5  5  5  5  6  6  6  6  6  6  7  7  7  7  7  8  9"
   ]
  },
  {
   "cell_type": "code",
   "execution_count": 110,
   "metadata": {},
   "outputs": [
    {
     "data": {
      "text/html": [
       "<html><body><pre>ans = '0  1  1  1  2  2  2  2  2  2  2  2  2  2  2  3  3  3  3  3  3  4  4  4  4  4  4  4  4  4  5  5  5  5  5  5  5  6  6  6  6  6  6  7  7  7  7  7  8  9'</pre></body></html>"
      ],
      "text/plain": [
       "ans = '0  1  1  1  2  2  2  2  2  2  2  2  2  2  2  3  3  3  3  3  3  4  4  4  4  4  4  4  4  4  5  5  5  5  5  5  5  6  6  6  6  6  6  7  7  7  7  7  8  9'"
      ]
     },
     "execution_count": 110,
     "metadata": {},
     "output_type": "execute_result"
    },
    {
     "data": {
      "image/png": "[encoded data removed]"
     },
     "execution_count": 110,
     "metadata": {},
     "output_type": "execute_result"
    }
   ],
   "source": [
    "source_data = [6 2 3 7 4 5 4 3 3 1 7 2 3 2 6 6 2 5 2 5 6 4 2 4 5 5 6 4 2 4 7 4 0 7 4 1 1 2 3 5 4 8 5 2 6 3 9 7 2 2];\n",
    "\n",
    "% Вариационный ряд\n",
    "variation_series = sort(source_data);\n",
    "num2str(variation_series)\n",
    "\n",
    "% Эмпирическая функция распределения\n",
    "[f, x] = ecdf(source_data);\n",
    "x = [-1 x' 10];\n",
    "f = [0 f' 1];\n",
    "\n",
    "stairs(x, f, '-or', 'LineWidth', 1);"
   ]
  },
  {
   "cell_type": "markdown",
   "metadata": {},
   "source": [
    "Гистограмма частот:"
   ]
  },
  {
   "cell_type": "code",
   "execution_count": 111,
   "metadata": {},
   "outputs": [
    {
     "data": {
      "image/png": "[encoded data removed]"
     },
     "execution_count": 111,
     "metadata": {},
     "output_type": "execute_result"
    }
   ],
   "source": [
    "histogram(source_data);"
   ]
  },
  {
   "cell_type": "markdown",
   "metadata": {},
   "source": [
    "##### Пункт b."
   ]
  },
  {
   "cell_type": "code",
   "execution_count": 112,
   "metadata": {},
   "outputs": [
    {
     "data": {
      "text/html": [
       "<html><body><pre>ans = 'Выборочное матожидание: 4.040000'</pre></body></html>"
      ],
      "text/plain": [
       "ans = 'Выборочное матожидание: 4.040000'"
      ]
     },
     "execution_count": 112,
     "metadata": {},
     "output_type": "execute_result"
    },
    {
     "data": {
      "text/html": [
       "<html><body><pre>ans = 'Выборочная дисперсия: 2.069802'</pre></body></html>"
      ],
      "text/plain": [
       "ans = 'Выборочная дисперсия: 2.069802'"
      ]
     },
     "execution_count": 112,
     "metadata": {},
     "output_type": "execute_result"
    },
    {
     "data": {
      "text/html": [
       "<html><body><pre>ans = 'СКО: 1.438681'</pre></body></html>"
      ],
      "text/plain": [
       "ans = 'СКО: 1.438681'"
      ]
     },
     "execution_count": 112,
     "metadata": {},
     "output_type": "execute_result"
    },
    {
     "data": {
      "text/html": [
       "<html><body><pre>ans = 'Медиана: 4.000000'</pre></body></html>"
      ],
      "text/plain": [
       "ans = 'Медиана: 4.000000'"
      ]
     },
     "execution_count": 112,
     "metadata": {},
     "output_type": "execute_result"
    },
    {
     "data": {
      "text/html": [
       "<html><body><pre>ans = 'Ассиметрия: 0.266913'</pre></body></html>"
      ],
      "text/plain": [
       "ans = 'Ассиметрия: 0.266913'"
      ]
     },
     "execution_count": 112,
     "metadata": {},
     "output_type": "execute_result"
    },
    {
     "data": {
      "text/html": [
       "<html><body><pre>ans = 'Эксцесс: 2.325599'</pre></body></html>"
      ],
      "text/plain": [
       "ans = 'Эксцесс: 2.325599'"
      ]
     },
     "execution_count": 112,
     "metadata": {},
     "output_type": "execute_result"
    },
    {
     "data": {
      "text/html": [
       "<html><body><pre>ans = 'P(2.8 <= X <= 4.4) = 0.300000'</pre></body></html>"
      ],
      "text/plain": [
       "ans = 'P(2.8 <= X <= 4.4) = 0.300000'"
      ]
     },
     "execution_count": 112,
     "metadata": {},
     "output_type": "execute_result"
    }
   ],
   "source": [
    "% Выборочное матожидание\n",
    "sprintf('Выборочное матожидание: %f', mean(source_data))\n",
    "\n",
    "% Выборочная дисперсия\n",
    "sprintf('Выборочная дисперсия: %f', std(source_data))\n",
    "\n",
    "% СКО\n",
    "sprintf('СКО: %f', sqrt(std(source_data)))\n",
    "\n",
    "% Медиана\n",
    "sprintf('Медиана: %f', median(source_data))\n",
    "\n",
    "% Ассиметрия\n",
    "sprintf('Ассиметрия: %f', skewness(source_data))\n",
    "\n",
    "% Эксцесс\n",
    "sprintf('Эксцесс: %f', kurtosis(source_data))\n",
    "\n",
    "% Вероятность что X из [a,b]\n",
    "a = 2.8;\n",
    "b = 4.4;\n",
    "sprintf('P(%.1f <= X <= %.1f) = %f', a, b, length(source_data(source_data >= a & source_data <= b)) / length(source_data))"
   ]
  },
  {
   "cell_type": "markdown",
   "metadata": {},
   "source": [
    "Последнюю вероятность можно также получить из функции распределения как:\n",
    "$$\n",
    "\\mathbb{P}\\left (x \\in [ a, b ] \\right ) = F(b) - F(a) = 0.6 - 0.3 = 0.3.\n",
    "$$"
   ]
  },
  {
   "cell_type": "markdown",
   "metadata": {},
   "source": [
    "##### Пункт c."
   ]
  },
  {
   "cell_type": "markdown",
   "metadata": {},
   "source": [
    "Предполагается, что $ x_1, x_2, \\ldots, x_n \\sim \\text{Pois(}\\lambda\\text{)}, $ тогда функция вероятности имеет вид:\n",
    "$$\n",
    "    P_k(\\lambda) = \\frac{\\lambda^k}{k!}\\exp(-\\lambda), k = 1, \\ldots, n.\n",
    "$$\n",
    "Построим функцию правдоподобия параметра $\\lambda$:\n",
    "$$\n",
    "L(\\overline k, \\lambda) = \\prod_{i = 1}^{n} \\frac{\\lambda^{k_i}}{k_i!}\\exp(-\\lambda) = \\exp(-n\\lambda)\\cdot\\lambda^{\\sum\\limits_{i = 1}^{n} k_i}\\cdot \\prod_{i = 1}^n \\frac{1}{k_i!}.\n",
    "$$\n",
    "Найдем $LL(\\overline k, \\lambda) = \\ln(L(\\overline k, \\lambda))$ - логарифм функции правдоподобия, получим:\n",
    "$$\n",
    "LL(\\overline k, \\lambda) = -n\\lambda + \\sum\\limits_{i = 1}^{n} k_i \\ln(\\lambda) + \\sum\\limits_{i = 1}^{n} \\ln\\left(\\frac{1}{k_i!}\\right).\n",
    "$$\n",
    "Продифференцируем полученное выражение по параметру $\\lambda$ и приравняем производную к нулю:\n",
    "$$\\frac{\\partial LL(\\overline k, \\lambda)}{\\partial \\lambda} = -n + \\sum\\limits_{i=1}^{n} k_i \\frac{1}{\\lambda} = 0.\n",
    "$$\n",
    "Последнее равенство равносильно\n",
    "$$\n",
    "\\hat \\lambda = \\frac{1}{n} \\sum_{i=1}^n k_i = \\overline k,\n",
    "$$\n",
    "таким образом ОМП параметра $ \\lambda $ - выборочное среднее. Найдем смещение оценки:\n",
    "$$\n",
    "\\mathbb{E} \\hat \\lambda = \\mathbb{E} \\overline k = \\mathbb{E} \\left ( \\frac{1}{n} \\sum\\limits_{i=1}^{n} k_i \\right )= \\frac{1}{n} \\sum\\limits_{i=1}^{n} \\mathbb{E} k_i = \\frac{1}{n} \\sum\\limits_{i=1}^{n} \\lambda = \\frac{1}{n} \\cdot n \\lambda = \\lambda.\n",
    "$$  \n",
    "Последнее равенство говорит о несмещенности оценки. \n",
    "\n"
   ]
  },
  {
   "cell_type": "code",
   "execution_count": 113,
   "metadata": {},
   "outputs": [
    {
     "data": {
      "text/html": [
       "<html><body><pre>ans = 'ОМП 4.040000, выборочное среднее 4.040000'</pre></body></html>"
      ],
      "text/plain": [
       "ans = 'ОМП 4.040000, выборочное среднее 4.040000'"
      ]
     },
     "execution_count": 113,
     "metadata": {},
     "output_type": "execute_result"
    }
   ],
   "source": [
    "lambda_hat = poissfit(source_data);\n",
    "mean_value = mean(source_data);\n",
    "sprintf('ОМП %f, выборочное среднее %f', lambda_hat, mean_value)"
   ]
  },
  {
   "cell_type": "markdown",
   "metadata": {},
   "source": [
    "Как известно, параметр $\\lambda$ для распределения Пуассона – это математическое ожидание, которое по методу моментов оценивается первым выборочным моментом $\\hat \\lambda = \\overline k. $ Так как оценка по методу максимального правдоподобия несмещена и совпала с оценкой по методу моментов, то вторая также является несмещенной."
   ]
  },
  {
   "cell_type": "markdown",
   "metadata": {},
   "source": [
    "##### Пункт d."
   ]
  },
  {
   "cell_type": "markdown",
   "metadata": {},
   "source": [
    "По ЦПТ:\n",
    "$$\n",
    "\\overline k \\sim \\mathcal{N} \\left (\\lambda, \\frac{\\lambda^2}{n} \\right).\n",
    "$$\n",
    "Отцентрировав и отнормировав, получим:\n",
    "$$\n",
    "\\frac{\\overline k - \\lambda}{\\sqrt{\\frac{\\lambda^2}{n}}} \\sim \\mathcal{N}(0, 1).\n",
    "$$\n",
    "Тогда в качестве квантилей возьмем $z_{1-\\alpha/2},$ получим, что\n",
    "$$\n",
    "\\mathbb{P}\\left ( -z_{1 - \\alpha/2} \\leq \\frac{\\overline k - \\lambda}{\\sqrt{\\lambda^2/n}} \\leq z_{1-\\alpha/2}\\right) = 1 - \\alpha.\n",
    "$$\n",
    "Последовательно получим:\n",
    "$$\n",
    "\\mathbb{P}\\left ( \\frac{-z_{1 - \\alpha/2}}{\\sqrt{n}} \\leq \\frac{\\overline k - \\lambda}{\\lambda} \\leq \\frac{z_{1 - \\alpha/2}}{\\sqrt{n}} \\right) = 1 - \\alpha,\n",
    "$$\n",
    "\n",
    "$$\n",
    "\\mathbb{P}\\left ( \\frac{-z_{1 - \\alpha/2}}{\\sqrt{n}} + 1 \\leq \\frac{\\overline k} {\\lambda} \\leq \\frac{z_{1 - \\alpha/2}}{\\sqrt{n}} + 1 \\right) = 1 - \\alpha,\n",
    "$$\n",
    "\n",
    "$$\n",
    "\\mathbb{P}\\left ( \\frac{\\overline k}{\\frac{z_{1 - \\alpha/2}}{\\sqrt{n}} + 1} \\leq \\lambda \\leq \\frac{\\overline k}{\\frac{-z_{1 - \\alpha/2}}{\\sqrt{n}} + 1} \\right) = 1 - \\alpha,\n",
    "$$\n",
    "тогда\n",
    "$$\n",
    "\\lambda \\in \\left [\\frac{\\overline k}{\\frac{z_{1 - \\alpha/2}}{\\sqrt{n}} + 1},\\, \\frac{\\overline k}{\\frac{-z_{1 - \\alpha/2}}{\\sqrt{n}} + 1} \\right ].\n",
    "$$"
   ]
  },
  {
   "cell_type": "code",
   "execution_count": 114,
   "metadata": {},
   "outputs": [
    {
     "data": {
      "text/html": [
       "<html><body><pre>ans = 'Доверительный интервал уровня значимости 0.980000 для lambda [3.039890, 6.020822]'</pre></body></html>"
      ],
      "text/plain": [
       "ans = 'Доверительный интервал уровня значимости 0.980000 для lambda [3.039890, 6.020822]'"
      ]
     },
     "execution_count": 114,
     "metadata": {},
     "output_type": "execute_result"
    }
   ],
   "source": [
    "alpha = 0.02;\n",
    "z = norminv(1-alpha/2, 0, 1);\n",
    "n = length(source_data);\n",
    "left_border = mean_value / (z/sqrt(n) + 1);\n",
    "right_border = mean_value / (-z/sqrt(n) + 1);\n",
    "sprintf('Доверительный интервал уровня значимости %f для lambda [%f, %f]', 1-alpha, left_border, right_border)"
   ]
  },
  {
   "cell_type": "markdown",
   "metadata": {},
   "source": [
    "#### Пункт e."
   ]
  },
  {
   "cell_type": "markdown",
   "metadata": {},
   "source": [
    "Выберем интервалы $I_i$ следующим образом: $[0, 1],$ $(1, 2],$ $(3, 4],$ $(5, 6],$ $(6, 7],$ $[8, 9],$ тогда из гистограммы получим, что абсолютные частоты равны:\n",
    "$$\n",
    "\\nu_1 = 1 + 3 = 4,\n",
    "$$\n",
    "$$\n",
    "\\nu_2 = 11,\n",
    "$$\n",
    "$$\n",
    "\\nu_3 = 6,\n",
    "$$\n",
    "$$\n",
    "\\nu_4 = 9,\n",
    "$$\n",
    "$$\n",
    "\\nu_5 = 7,\n",
    "$$\n",
    "$$\n",
    "\\nu_6 = 6,\n",
    "$$\n",
    "$$\n",
    "\\nu_7 = 5,\n",
    "$$\n",
    "$$\n",
    "\\nu_8 = 1 + 1 = 2.\n",
    "$$"
   ]
  },
  {
   "cell_type": "code",
   "execution_count": 129,
   "metadata": {},
   "outputs": [
    {
     "data": {
      "text/html": [
       "<html><body><pre>ans = 'Вероятность попадания в I-ый интервал:'</pre></body></html>"
      ],
      "text/plain": [
       "ans = 'Вероятность попадания в I-ый интервал:'"
      ]
     },
     "execution_count": 129,
     "metadata": {},
     "output_type": "execute_result"
    },
    {
     "data": {
      "text/html": [
       "<html><body><pre>p_k = 1x8 double\n",
       "    0.0916    0.1465    0.1954    0.1954    0.1563    0.1042    0.0595    0.0430\n",
       "</pre></body></html>"
      ],
      "text/plain": [
       "p_k = 1x8 double\n",
       "    0.0916    0.1465    0.1954    0.1954    0.1563    0.1042    0.0595    0.0430\n"
      ]
     },
     "execution_count": 129,
     "metadata": {},
     "output_type": "execute_result"
    },
    {
     "data": {
      "text/html": [
       "<html><body><pre>ans = 'Ожидаемые частоты:'</pre></body></html>"
      ],
      "text/plain": [
       "ans = 'Ожидаемые частоты:'"
      ]
     },
     "execution_count": 129,
     "metadata": {},
     "output_type": "execute_result"
    },
    {
     "data": {
      "text/html": [
       "<html><body><pre>ans = 1x8 double\n",
       "    4.5789    7.3263    9.7683    9.7683    7.8147    5.2098    2.9770    2.1501\n",
       "</pre></body></html>"
      ],
      "text/plain": [
       "ans = 1x8 double\n",
       "    4.5789    7.3263    9.7683    9.7683    7.8147    5.2098    2.9770    2.1501\n"
      ]
     },
     "execution_count": 129,
     "metadata": {},
     "output_type": "execute_result"
    },
    {
     "data": {
      "text/html": [
       "<html><body><pre>ans = 'Наблюдаемые частоты'</pre></body></html>"
      ],
      "text/plain": [
       "ans = 'Наблюдаемые частоты'"
      ]
     },
     "execution_count": 129,
     "metadata": {},
     "output_type": "execute_result"
    },
    {
     "data": {
      "text/html": [
       "<html><body><pre>n_k = 1x8 double\n",
       "     4    11     6     9     7     6     5     6\n",
       "</pre></body></html>"
      ],
      "text/plain": [
       "n_k = 1x8 double\n",
       "     4    11     6     9     7     6     5     6\n"
      ]
     },
     "execution_count": 129,
     "metadata": {},
     "output_type": "execute_result"
    },
    {
     "data": {
      "text/html": [
       "<html><body><pre>ans = 'Наблюдаемое значение 11.902730, значение критерия Пирсона 16.622422 для уровня значимости 0.020000'</pre></body></html>"
      ],
      "text/plain": [
       "ans = 'Наблюдаемое значение 11.902730, значение критерия Пирсона 16.622422 для уровня значимости 0.020000'"
      ]
     },
     "execution_count": 129,
     "metadata": {},
     "output_type": "execute_result"
    }
   ],
   "source": [
    "lambda_0 = 4;\n",
    "alpha_0 = 0.02;\n",
    "n = length(source_data);\n",
    "x_k = unique(variation_series);\n",
    "n_k = hist(variation_series);\n",
    "n_k = [n_k(1) + n_k(2) n_k(3:8) n_k(8) + n_k(9)];\n",
    "p_k = poisspdf(x_k, lambda_0);\n",
    "p_k = [p_k(1) + p_k(2) p_k(3:8) p_k(9) + p_k(10)];\n",
    "sprintf('Вероятность попадания в I-ый интервал:')\n",
    "p_k\n",
    "sprintf('Ожидаемые частоты:')\n",
    "n*p_k\n",
    "sprintf('Наблюдаемые частоты')\n",
    "n_k\n",
    "\n",
    "chi_square_observed = sum((n_k - p_k * n).^2 ./ (p_k * n));\n",
    "pirson_value = chi2inv(1-alpha_0, length(n_k) - 1);\n",
    "\n",
    "sprintf('Наблюдаемое значение %f, значение критерия Пирсона %f для уровня значимости %f', chi_square_observed, pirson_value, alpha_0)"
   ]
  },
  {
   "cell_type": "markdown",
   "metadata": {},
   "source": [
    "Так как наблюлаемое значение статистики $\\chi^2$ не превосходит значения критерия Пирсона, то мы принимаем данную гипотезу. Найдем наибольшее значение уровня значимости, при котором нет основания отвергнуть данную гипотезу:"
   ]
  },
  {
   "cell_type": "code",
   "execution_count": 130,
   "metadata": {},
   "outputs": [
    {
     "data": {
      "text/html": [
       "<html><body><pre>ans = 'Наибольшее значение уровня значимости при котором нет основания отвергнуть гипотезу 0.103000'</pre></body></html>"
      ],
      "text/plain": [
       "ans = 'Наибольшее значение уровня значимости при котором нет основания отвергнуть гипотезу 0.103000'"
      ]
     },
     "execution_count": 130,
     "metadata": {},
     "output_type": "execute_result"
    },
    {
     "data": {
      "text/html": [
       "<html><body><pre>ans = 'Значение критерия Пирсона при данном значении 11.926560'</pre></body></html>"
      ],
      "text/plain": [
       "ans = 'Значение критерия Пирсона при данном значении 11.926560'"
      ]
     },
     "execution_count": 130,
     "metadata": {},
     "output_type": "execute_result"
    }
   ],
   "source": [
    "alphas = (0.001:0.001:1);\n",
    "betas = 1 - alphas; \n",
    "pirson_values = chi2inv(betas, length(n_k) - 1);\n",
    "val = min(pirson_values(chi_square_observed <= pirson_values));\n",
    "pirson = find(pirson_values == val);\n",
    "sprintf('Наибольшее значение уровня значимости при котором нет основания отвергнуть гипотезу %f', alphas(pirson))\n",
    "sprintf('Значение критерия Пирсона при данном значении %f', val)"
   ]
  },
  {
   "cell_type": "markdown",
   "metadata": {},
   "source": [
    "#### Пункт f."
   ]
  },
  {
   "cell_type": "markdown",
   "metadata": {},
   "source": [
    "Гипотезы: $H_0$ - основная, $H_A$ - альтернативная: \n",
    "$$\n",
    "F \\in \\left\\{Pois(\\theta) : \\theta \\in \\Theta_0 \\right\\}\n",
    "$$\n",
    "$$\n",
    "F \\notin \\left\\{Pois(\\theta) : \\theta \\in \\Theta_0 \\right\\}\n",
    "$$\n",
    "Оценка $\\hat{\\lambda} = \\overline{x}$"
   ]
  },
  {
   "cell_type": "code",
   "execution_count": 131,
   "metadata": {},
   "outputs": [
    {
     "data": {
      "text/html": [
       "<html><body><pre>ans = 'Вероятность попадания в I-ый интервал:'</pre></body></html>"
      ],
      "text/plain": [
       "ans = 'Вероятность попадания в I-ый интервал:'"
      ]
     },
     "execution_count": 131,
     "metadata": {},
     "output_type": "execute_result"
    },
    {
     "data": {
      "text/html": [
       "<html><body><pre>p_k = 1x8 double\n",
       "    0.0887    0.1436    0.1934    0.1953    0.1578    0.1063    0.0613    0.0449\n",
       "</pre></body></html>"
      ],
      "text/plain": [
       "p_k = 1x8 double\n",
       "    0.0887    0.1436    0.1934    0.1953    0.1578    0.1063    0.0613    0.0449\n"
      ]
     },
     "execution_count": 131,
     "metadata": {},
     "output_type": "execute_result"
    },
    {
     "data": {
      "text/html": [
       "<html><body><pre>ans = 'Ожидаемые частоты:'</pre></body></html>"
      ],
      "text/plain": [
       "ans = 'Ожидаемые частоты:'"
      ]
     },
     "execution_count": 131,
     "metadata": {},
     "output_type": "execute_result"
    },
    {
     "data": {
      "text/html": [
       "<html><body><pre>ans = 1x8 double\n",
       "    4.4346    7.1805    9.6697    9.7664    7.8913    5.3134    3.0666    2.2438\n",
       "</pre></body></html>"
      ],
      "text/plain": [
       "ans = 1x8 double\n",
       "    4.4346    7.1805    9.6697    9.7664    7.8913    5.3134    3.0666    2.2438\n"
      ]
     },
     "execution_count": 131,
     "metadata": {},
     "output_type": "execute_result"
    },
    {
     "data": {
      "text/html": [
       "<html><body><pre>ans = 'Наблюдаемые частоты'</pre></body></html>"
      ],
      "text/plain": [
       "ans = 'Наблюдаемые частоты'"
      ]
     },
     "execution_count": 131,
     "metadata": {},
     "output_type": "execute_result"
    },
    {
     "data": {
      "text/html": [
       "<html><body><pre>n_k = 1x8 double\n",
       "     4    11     6     9     7     6     5     6\n",
       "</pre></body></html>"
      ],
      "text/plain": [
       "n_k = 1x8 double\n",
       "     4    11     6     9     7     6     5     6\n"
      ]
     },
     "execution_count": 131,
     "metadata": {},
     "output_type": "execute_result"
    },
    {
     "data": {
      "text/html": [
       "<html><body><pre>ans = 'Наблюдаемое значение 11.223384, значение критерия Пирсона 15.033208 для уровня значимости 0.020000'</pre></body></html>"
      ],
      "text/plain": [
       "ans = 'Наблюдаемое значение 11.223384, значение критерия Пирсона 15.033208 для уровня значимости 0.020000'"
      ]
     },
     "execution_count": 131,
     "metadata": {},
     "output_type": "execute_result"
    }
   ],
   "source": [
    "lambda_0 = 4;\n",
    "alpha_0 = 0.02;\n",
    "n = length(source_data);\n",
    "x_k = unique(variation_series);\n",
    "n_k = hist(variation_series);\n",
    "n_k = [n_k(1) + n_k(2) n_k(3:8) n_k(8) + n_k(9)];\n",
    "p_k = poisspdf(x_k, mean(source_data));\n",
    "p_k = [p_k(1) + p_k(2) p_k(3:8) p_k(9) + p_k(10)];\n",
    "sprintf('Вероятность попадания в I-ый интервал:')\n",
    "p_k\n",
    "sprintf('Ожидаемые частоты:')\n",
    "n*p_k\n",
    "sprintf('Наблюдаемые частоты')\n",
    "n_k\n",
    "\n",
    "chi_square_observed = sum((n_k - p_k * n).^2 ./ (p_k * n));\n",
    "pirson_value = chi2inv(1-alpha_0, length(n_k) - 2);\n",
    "\n",
    "sprintf('Наблюдаемое значение %f, значение критерия Пирсона %f для уровня значимости %f', chi_square_observed, pirson_value, alpha_0)"
   ]
  },
  {
   "cell_type": "markdown",
   "metadata": {},
   "source": [
    "Так как наблюлаемое значение статистики $\\chi^2$ не превосходит значения критерия Пирсона, то мы принимаем данную гипотезу. Найдем наибольшее значение уровня значимости, при котором нет основания отвергнуть данную гипотезу:"
   ]
  },
  {
   "cell_type": "code",
   "execution_count": 132,
   "metadata": {},
   "outputs": [
    {
     "data": {
      "text/html": [
       "<html><body><pre>ans = 'Наибольшее значение уровня значимости при котором нет основания отвергнуть гипотезу 0.129000'</pre></body></html>"
      ],
      "text/plain": [
       "ans = 'Наибольшее значение уровня значимости при котором нет основания отвергнуть гипотезу 0.129000'"
      ]
     },
     "execution_count": 132,
     "metadata": {},
     "output_type": "execute_result"
    },
    {
     "data": {
      "text/html": [
       "<html><body><pre>ans = 'Значение критерия Пирсона при данном значении 11.227472'</pre></body></html>"
      ],
      "text/plain": [
       "ans = 'Значение критерия Пирсона при данном значении 11.227472'"
      ]
     },
     "execution_count": 132,
     "metadata": {},
     "output_type": "execute_result"
    }
   ],
   "source": [
    "alphas = (0.001:0.001:1);\n",
    "betas = 1 - alphas; \n",
    "pirson_values = chi2inv(betas, length(n_k) - 1);\n",
    "val = min(pirson_values(chi_square_observed <= pirson_values));\n",
    "pirson = find(pirson_values == val);\n",
    "sprintf('Наибольшее значение уровня значимости при котором нет основания отвергнуть гипотезу %f', alphas(pirson))\n",
    "sprintf('Значение критерия Пирсона при данном значении %f', val)"
   ]
  },
  {
   "cell_type": "markdown",
   "metadata": {},
   "source": [
    "##### Пункт g."
   ]
  },
  {
   "cell_type": "markdown",
   "metadata": {},
   "source": [
    "Сформулируем гипотезы:\n",
    "$$ \n",
    "H_{0}:\\lambda = \\lambda_{0}\n",
    "$$\n",
    "\n",
    "$$\n",
    "H_{1}:\\lambda = \\lambda_{1}\n",
    "$$\n",
    "\n",
    "Найдем статистику отношения правдоподобия:\n",
    "$$\n",
    "LR(\\overline{k}, \\lambda_0, \\lambda_1) = \\frac{L(\\overline{k},\\, \\lambda_0)}{L(\\overline{k},\\, \\lambda_1)}.\n",
    "$$\n",
    "Ранее было получено, что\n",
    "$$\n",
    "L(\\overline k, \\lambda) = \\prod_{i = 1}^{n} \\frac{\\lambda^{k_i}}{k_i!}\\exp(-\\lambda) = \\exp(-n\\lambda)\\cdot\\lambda^{\\sum\\limits_{i = 1}^{n} k_i}\\cdot \\prod_{i = 1}^n \\frac{1}{k_i!}.\n",
    "$$\n",
    "Тогда\n",
    "$$\n",
    "LR(\\overline{k}, \\lambda_0, \\lambda_1) = \\frac{\\exp(-n\\lambda_0)\\cdot\\lambda_0^{\\sum\\limits_{i = 1}^{n} k_i}\\cdot \\prod_{i = 1}^n \\frac{1}{k_i!}}{\\exp(-n\\lambda_1)\\cdot\\lambda_1^{\\sum\\limits_{i = 1}^{n} k_i}\\cdot \\prod_{i = 1}^n \\frac{1}{k_i!}} = \\frac{\\exp(-n\\lambda_0)\\cdot\\lambda_0^{\\sum\\limits_{i = 1}^{n} k_i}}{\\exp(-n\\lambda_1)\\cdot\\lambda_1^{\\sum\\limits_{i = 1}^{n} k_i}} = \\left(\\frac{\\lambda_{1}}{\\lambda_{0}}\\right)^{\\sum\\limits_{i=1}^{n}X_{i}} \\cdot \\exp^{-n\\cdot \\lambda_{1} + n\\cdot \\lambda_{0}}. \n",
    "$$\n",
    "В силу монотонности получим:\n",
    "$$\n",
    "LR(\\overline{X},\\lambda_{0},\\lambda_{1}) > c \\Leftrightarrow \\overline{X} > c\n",
    "$$\n",
    "\n",
    "$$\n",
    "\\sqrt{n}\\frac{\\overline{X}-\\lambda_{0}}{\\sqrt{\\overline{X}}}\\sim \\mathcal{N}(0,1)\n",
    "$$\n",
    "\n",
    "$$\n",
    "P\\left(\\sqrt{n}\\frac{\\overline{X}-\\lambda_{0}}{\\sqrt{\\overline{X}}} \\right)\\gt \\sqrt{n}\\frac{\\overline{X}-\\lambda_{0}}{\\sqrt{\\overline{X}}}=1-\\Phi\\left(\\sqrt{n}\\frac{\\overline{X}-\\lambda_{0}}{\\sqrt{\\overline{X}}} \\right)=\\alpha_{1}\n",
    "$$\n",
    "\n",
    "$$\n",
    "\\Phi\\left(\\sqrt{n}\\frac{\\overline{X}-\\lambda_{0}}{\\sqrt{\\overline{X}}} \\right)=1-\\alpha_{1}=0.98.\n",
    "$$\n",
    "Численно найдем $x : \\Phi (x) = 0.98.$"
   ]
  },
  {
   "cell_type": "code",
   "execution_count": 119,
   "metadata": {},
   "outputs": [
    {
     "data": {
      "text/html": [
       "<html><body><pre>p_val = 2.0536</pre></body></html>"
      ],
      "text/plain": [
       "p_val = 2.0536"
      ]
     },
     "execution_count": 119,
     "metadata": {},
     "output_type": "execute_result"
    },
    {
     "data": {
      "text/html": [
       "<html><body><pre>c = 4.5837</pre></body></html>"
      ],
      "text/plain": [
       "c = 4.5837"
      ]
     },
     "execution_count": 119,
     "metadata": {},
     "output_type": "execute_result"
    }
   ],
   "source": [
    "x = (0:0.0001:3);\n",
    "p_val = x(min(find(abs(normcdf(x, 0, 1) - 0.98) < 0.00001)))\n",
    "c = (sqrt(mean(source_data)) * p_val) / (sqrt(length(source_data))) + 4.0"
   ]
  },
  {
   "cell_type": "markdown",
   "metadata": {},
   "source": [
    "$$\n",
    "\\sqrt{n}\\frac{\\overline{X}-\\lambda_{0}}{\\sqrt{\\overline{X}}}\\gt \\sqrt{n}\\frac{c-\\lambda_{0}}{\\sqrt{\\overline{X}}} = 2.0536,\n",
    "$$\n",
    "откуда $ c = 4.5837, $ тогда\n",
    "\n",
    "$$ \\phi(x) =\\left\\{\n",
    "  \\begin{array}{l}\n",
    "    1, LR(x) > 4.5837 \\\\\n",
    "    p, LR(x) = 4.5837 \\\\\n",
    "    0, LR(x) < 4.5837 \\\\\n",
    "  \\end{array}\\right.\n",
    "$$\n",
    "\n",
    "Так как $ c=4.5837 > \\overline{X} = 4.04,$ то отвергаем гипотезу\n",
    "\n",
    "Меняем местами основную и альтернативную гипотезу:\n",
    "$$\n",
    "H_{0}=\\lambda_{1}\n",
    "$$\n",
    "$$\n",
    "H_{1}=\\lambda_{0}\n",
    "$$\n",
    "\n",
    "Cтатистическое отношение правдоподобия:\n",
    "\n",
    "$$\n",
    "LR(\\overline{X},\\lambda_{1},\\lambda_{0}) = \\left(\\frac{\\lambda_{0}}{\\lambda_{1}}\\right)^{\\sum_{i=1}^{50}X_{i}} \\cdot e^{-n\\cdot \\lambda_{0} + n\\cdot \\lambda_{1} }\n",
    "$$\n",
    "\n",
    "$$\n",
    "LR(\\overline{X},\\lambda_{1},\\lambda_{0})\\gt c\\Leftrightarrow \\overline{X}\\gt c\n",
    "$$\n",
    "\n",
    "$$\n",
    "\\sqrt{n}\\frac{\\overline{X}-\\lambda_{1}}{\\sqrt{\\overline{X}}}\\sim \\mathcal N(0,1)\n",
    "$$\n",
    "\n",
    "$$\n",
    "P\\left(\\sqrt{n}\\frac{\\overline{X}-\\lambda_{1}}{\\sqrt{\\overline{X}}} \\right)\\gt \\sqrt{n}\\frac{\\overline{X}-\\lambda_{1}}{\\sqrt{\\overline{X}}}=1-\\Phi\\left(\\sqrt{n}\\frac{\\overline{X}-\\lambda_{1}}{\\sqrt{\\overline{X}}} \\right)=\\alpha_{1}\n",
    "$$\n",
    "\n",
    "$$\n",
    "\\Phi\\left(\\sqrt{n}\\frac{\\overline{X}-\\lambda_{1}}{\\sqrt{\\overline{X}}} \\right)=1-\\alpha_{1}=0.98\n",
    "$$\n",
    "\n",
    "$\\sqrt{n}\\frac{\\overline{X}-\\lambda_{1}}{\\sqrt{\\overline{X}}}\\gt \\sqrt{n}\\frac{c-\\lambda_{1}}{\\sqrt{\\overline{X}}} = 2.0536\\to c=4.5837$\n",
    "\n",
    "$$ \\phi(x) =\\left\\{\n",
    "  \\begin{array}{l}\n",
    "    1, LR(x) > 4.5837 \\\\\n",
    "    p, LR(x) = 4.5837 \\\\\n",
    "    0, LR(x) < 4.5837 \\\\\n",
    "  \\end{array}\\right.\n",
    "$$\n",
    "\n",
    "Так как $ c=4.5837 > \\overline{X} = 4.04,$ то отвергаем гипотезу."
   ]
  },
  {
   "cell_type": "markdown",
   "metadata": {},
   "source": [
    "#### Пункт h.c"
   ]
  },
  {
   "cell_type": "markdown",
   "metadata": {},
   "source": [
    "Построим оценку максимального правдоподобия. Функция вероятности имеет вид \n",
    "$$\n",
    "P_{\\lambda}(X=k)=\\frac{\\lambda^{k}}{(\\lambda+1)^{k+1}},\n",
    "$$\n",
    "тогда функция правдоподобия:\n",
    "\n",
    "$$\n",
    "L(\\overline{X}, \\theta) = \\prod\\limits_{i=1}^{n} \\cdot P_{\\lambda}(X_{i}) = \\prod\\limits_{i=1}^{n}\\frac{\\lambda^{X_{i}}}{(\\lambda+1)^{X_{i}}} = \\frac{\\lambda^{\\sum\\limits_{i=1}^{n}X_{i}}}{(\\lambda+1)^{\\sum\\limits_{i=1}^{n}X_{i}+n}},\n",
    "$$\n",
    "и ее логарифм:\n",
    "\n",
    "$$\n",
    "LL(\\overline{X}, \\theta)= \\ln(\\lambda) \\sum\\limits_{i=1}^{n} X_{i} - \\ln(\\lambda + 1) \\sum\\limits_{i=1}^{n} X_{i} + n.\n",
    "$$\n",
    "Продифференцируем полученное равенство по параметру и приравняем к нулю, решим полученное уравнение:\n",
    "$$\n",
    "\\frac{ \\partial LL(\\overline{X}, \\theta)}{\\partial \\lambda} = \\frac{\\sum\\limits_{i=1}^{n}X_{i}}{\\lambda} -\\frac{\\sum\\limits_{i=1}^{n} X_{i} + n}{ \\lambda + 1 } = 0,\n",
    "$$\n",
    "$$\n",
    "\\lambda \\cdot \\sum\\limits_{i=1}^{n} X_i + \\sum\\limits_{i=1}^{n} X_i = \\lambda \\cdot \\sum\\limits_{i=1}^{n} X_i + \\lambda \\cdot n,\n",
    "$$\n",
    "\n",
    "$$\n",
    "\\sum\\limits_{i=1}^{n} X_i = \\lambda n \\Rightarrow \\hat\\lambda = \\overline{X}.\n",
    "$$\n",
    "Найдем смещение оценки:\n",
    "$$\n",
    "\\mathbb{E}\\hat{\\lambda} = \\frac{1}{n}\\sum \\limits_{i = 1}^{n} \\mathbb{E}X_i = \\frac{1}{n} \\cdot n \\cdot \\lambda = \\lambda,\n",
    "$$ \n",
    "следовательно оценка несмещенная.\n",
    "\n",
    "Построим оценку параметра методом моментов.\n",
    "Первый момент равен \n",
    "$$\n",
    "\\mathbb{E} X = \\lambda \n",
    "$$\n",
    "$$\n",
    "\\mathrm{M_1} = \\overline{X}\n",
    "$$\n",
    "\n",
    "Следовательно, $\\hat{\\lambda} = \\overline{X} $ - ОММ. Проверим оценку на смещенность:\n",
    "$$\n",
    "\\mathbb{E} = \\mathbb{E}\\overline X = \\frac{1}{n}\\sum_{i=1}^n X_i = \\frac{1}{n} \\cdot n \\lambda = \\lambda, \n",
    "$$\n",
    "следовательно оценка несмещенная.\n"
   ]
  },
  {
   "cell_type": "markdown",
   "metadata": {},
   "source": [
    "#### Пункт h.d"
   ]
  },
  {
   "cell_type": "markdown",
   "metadata": {},
   "source": [
    "$$\n",
    "\\frac{\\partial^2 LL}{\\partial^2 \\lambda} = -\\frac{\\sum\\limits_{i=1}^n k_i}{\\lambda^2} + \\frac{\\sum\\limits_{i=1}^n k_i + n}{(\\lambda + 1)^2}\n",
    "$$\n",
    "\n",
    "$$\n",
    "I_n(\\lambda) =- \\mathbb{E}_{\\theta}\\frac{\\partial^2 LL}{\\partial \\lambda^2} = -\\mathbb{E}\\left ( -\\frac{\\sum_{i=1}^n k_i}{\\lambda^2} + \\frac{\\sum_{i=1}^n k_i + n}{(\\lambda + 1)^2} \\right ) = \\frac{1}{\\lambda^2} \\cdot n\\lambda - \\frac{n\\lambda + n}{(\\lambda + 1)^2} = \\frac{n}{\\lambda} - \\frac{n}{\\lambda + 1}\n",
    "$$\n",
    "Выберем квантили:\n",
    "$$\n",
    "X_{\\alpha}: \\text{Ф}(X_{\\alpha}) = 1 - \\frac{0.02}{2} = 0.99.\n",
    "$$"
   ]
  },
  {
   "cell_type": "markdown",
   "metadata": {},
   "source": [
    "Асимптотический доверительный интервал равен:\n",
    "$$\n",
    "\\lambda \\in \\left[\\overline X - \\frac{X_{\\alpha}}{\\sqrt{n \\left (\\frac{1}{\\overline X} + \\frac{1}{\\overline X + 1}\\right )}}; \\overline X + \\frac{X_{\\alpha}}{\\sqrt{n \\left (\\frac{1}{ \\overline X} + \\frac{1}{\\overline X + 1}\\right )}} \\right].\n",
    "$$"
   ]
  },
  {
   "cell_type": "code",
   "execution_count": 40,
   "metadata": {},
   "outputs": [
    {
     "data": {
      "text/html": [
       "<html><body><pre>ans = 'АДИ равен [3.547334, 4.532666]'</pre></body></html>"
      ],
      "text/plain": [
       "ans = 'АДИ равен [3.547334, 4.532666]'"
      ]
     },
     "execution_count": 40,
     "metadata": {},
     "output_type": "execute_result"
    }
   ],
   "source": [
    "alpha = 0.02;\n",
    "z = norminv(1-alpha/2, 0, 1);\n",
    "m = mean(source_data);\n",
    "left = m - z/(sqrt(n * (1/m + 1/(m+1))));\n",
    "right = m + z/(sqrt(n * (1/m + 1/(m+1))));\n",
    "sprintf('АДИ равен [%f, %f]', left, right)"
   ]
  },
  {
   "cell_type": "markdown",
   "metadata": {},
   "source": [
    "#### Пункт h.e"
   ]
  },
  {
   "cell_type": "markdown",
   "metadata": {},
   "source": [
    "Разбиение на интервалы остается прежним (как в пункте h), при вычислении статистики $\\chi^2$ поменяется только функция вычисления вероятности попадания в i-ый интервал: "
   ]
  },
  {
   "cell_type": "code",
   "execution_count": 133,
   "metadata": {},
   "outputs": [
    {
     "data": {
      "text/html": [
       "<html><body><pre>ans = 'Вероятность попадания в I-ый интервал:'</pre></body></html>"
      ],
      "text/plain": [
       "ans = 'Вероятность попадания в I-ый интервал:'"
      ]
     },
     "execution_count": 133,
     "metadata": {},
     "output_type": "execute_result"
    },
    {
     "data": {
      "text/html": [
       "<html><body><pre>p_k = 1x8 double\n",
       "    0.3600    0.1280    0.1024    0.0819    0.0655    0.0524    0.0419    0.0604\n",
       "</pre></body></html>"
      ],
      "text/plain": [
       "p_k = 1x8 double\n",
       "    0.3600    0.1280    0.1024    0.0819    0.0655    0.0524    0.0419    0.0604\n"
      ]
     },
     "execution_count": 133,
     "metadata": {},
     "output_type": "execute_result"
    },
    {
     "data": {
      "text/html": [
       "<html><body><pre>ans = 'Ожидаемые частоты:'</pre></body></html>"
      ],
      "text/plain": [
       "ans = 'Ожидаемые частоты:'"
      ]
     },
     "execution_count": 133,
     "metadata": {},
     "output_type": "execute_result"
    },
    {
     "data": {
      "text/html": [
       "<html><body><pre>ans = 1x8 double\n",
       "   18.0000    6.4000    5.1200    4.0960    3.2768    2.6214    2.0972    3.0199\n",
       "</pre></body></html>"
      ],
      "text/plain": [
       "ans = 1x8 double\n",
       "   18.0000    6.4000    5.1200    4.0960    3.2768    2.6214    2.0972    3.0199\n"
      ]
     },
     "execution_count": 133,
     "metadata": {},
     "output_type": "execute_result"
    },
    {
     "data": {
      "text/html": [
       "<html><body><pre>ans = 'Наблюдаемые частоты'</pre></body></html>"
      ],
      "text/plain": [
       "ans = 'Наблюдаемые частоты'"
      ]
     },
     "execution_count": 133,
     "metadata": {},
     "output_type": "execute_result"
    },
    {
     "data": {
      "text/html": [
       "<html><body><pre>n_k = 1x8 double\n",
       "     4    11     6     9     7     6     5     6\n",
       "</pre></body></html>"
      ],
      "text/plain": [
       "n_k = 1x8 double\n",
       "     4    11     6     9     7     6     5     6\n"
      ]
     },
     "execution_count": 133,
     "metadata": {},
     "output_type": "execute_result"
    },
    {
     "data": {
      "text/html": [
       "<html><body><pre>ans = 'Наблюдаемое значение 35.761452, значение критерия Пирсона 16.622422 для уровня значимости 0.020000'</pre></body></html>"
      ],
      "text/plain": [
       "ans = 'Наблюдаемое значение 35.761452, значение критерия Пирсона 16.622422 для уровня значимости 0.020000'"
      ]
     },
     "execution_count": 133,
     "metadata": {},
     "output_type": "execute_result"
    }
   ],
   "source": [
    "lambda_0 = 4;\n",
    "alpha_0 = 0.02;\n",
    "\n",
    "n = length(source_data);\n",
    "x_k = unique(variation_series);\n",
    "n_k = hist(variation_series);\n",
    "n_k = [n_k(1) + n_k(2) n_k(3:8) n_k(8) + n_k(9)];\n",
    "p_k = lambda_0 .^ x_k ./ ((lambda_0 + 1).^(x_k+1));\n",
    "p_k = [p_k(1) + p_k(2) p_k(3:8) p_k(9) + p_k(10)];\n",
    "sprintf('Вероятность попадания в I-ый интервал:')\n",
    "p_k\n",
    "sprintf('Ожидаемые частоты:')\n",
    "n*p_k\n",
    "sprintf('Наблюдаемые частоты')\n",
    "n_k\n",
    "\n",
    "chi_square_observed = sum((n_k - p_k * n).^2 ./ (p_k * n));\n",
    "pirson_value = chi2inv(1-alpha_0, length(n_k) - 1);\n",
    "\n",
    "sprintf('Наблюдаемое значение %f, значение критерия Пирсона %f для уровня значимости %f', chi_square_observed, pirson_value, alpha_0)"
   ]
  },
  {
   "cell_type": "markdown",
   "metadata": {},
   "source": [
    "Так как наблюлаемое значение статистики $\\chi^2$ превосходит значения критерия Пирсона, то мы отвергаем данную гипотезу. Найдем наибольшее значение уровня значимости, при котором нет основания отвергнуть данную гипотезу:"
   ]
  },
  {
   "cell_type": "code",
   "execution_count": 136,
   "metadata": {},
   "outputs": [
    {
     "data": {
      "text/html": [
       "<html><body><pre>ans = 'Наибольшее значение уровня значимости при котором нет основания отвергнуть гипотезу 0.000043'</pre></body></html>"
      ],
      "text/plain": [
       "ans = 'Наибольшее значение уровня значимости при котором нет основания отвергнуть гипотезу 0.000043'"
      ]
     },
     "execution_count": 136,
     "metadata": {},
     "output_type": "execute_result"
    },
    {
     "data": {
      "text/html": [
       "<html><body><pre>ans = 'Значение критерия Пирсона при данном значении 35.801158'</pre></body></html>"
      ],
      "text/plain": [
       "ans = 'Значение критерия Пирсона при данном значении 35.801158'"
      ]
     },
     "execution_count": 136,
     "metadata": {},
     "output_type": "execute_result"
    }
   ],
   "source": [
    "alphas = (0.000001:0.000001:1);\n",
    "betas = 1 - alphas; \n",
    "pirson_values = chi2inv(betas, length(x_k) - 1);\n",
    "val = min(pirson_values(chi_square_observed <= pirson_values));\n",
    "pirson = find(pirson_values == val);\n",
    "\n",
    "sprintf('Наибольшее значение уровня значимости при котором нет основания отвергнуть гипотезу %f', alphas(pirson))\n",
    "sprintf('Значение критерия Пирсона при данном значении %f', val)"
   ]
  },
  {
   "cell_type": "markdown",
   "metadata": {},
   "source": [
    "#### Пункт h.f"
   ]
  },
  {
   "cell_type": "markdown",
   "metadata": {},
   "source": [
    "Гипотезы: $H_0$ - основная, $H_A$ - альтернативная: \n",
    "$$\n",
    "F \\in \\left\\{Pois(\\theta) : \\theta \\in \\Theta_0 \\right\\}\n",
    "$$\n",
    "$$\n",
    "F \\notin \\left\\{Pois(\\theta) : \\theta \\in \\Theta_0 \\right\\}\n",
    "$$\n",
    "Оценка $\\hat{\\lambda} = \\overline{x}$"
   ]
  },
  {
   "cell_type": "code",
   "execution_count": 137,
   "metadata": {},
   "outputs": [
    {
     "data": {
      "text/html": [
       "<html><body><pre>ans = 'Вероятность попадания в I-ый интервал:'</pre></body></html>"
      ],
      "text/plain": [
       "ans = 'Вероятность попадания в I-ый интервал:'"
      ]
     },
     "execution_count": 137,
     "metadata": {},
     "output_type": "execute_result"
    },
    {
     "data": {
      "text/html": [
       "<html><body><pre>p_k = 1x8 double\n",
       "    0.3575    0.1275    0.1022    0.0819    0.0657    0.0526    0.0422    0.0609\n",
       "</pre></body></html>"
      ],
      "text/plain": [
       "p_k = 1x8 double\n",
       "    0.3575    0.1275    0.1022    0.0819    0.0657    0.0526    0.0422    0.0609\n"
      ]
     },
     "execution_count": 137,
     "metadata": {},
     "output_type": "execute_result"
    },
    {
     "data": {
      "text/html": [
       "<html><body><pre>ans = 'Ожидаемые частоты:'</pre></body></html>"
      ],
      "text/plain": [
       "ans = 'Ожидаемые частоты:'"
      ]
     },
     "execution_count": 137,
     "metadata": {},
     "output_type": "execute_result"
    },
    {
     "data": {
      "text/html": [
       "<html><body><pre>ans = 1x8 double\n",
       "   17.8729    6.3744    5.1097    4.0958    3.2832    2.6317    2.1096    3.0465\n",
       "</pre></body></html>"
      ],
      "text/plain": [
       "ans = 1x8 double\n",
       "   17.8729    6.3744    5.1097    4.0958    3.2832    2.6317    2.1096    3.0465\n"
      ]
     },
     "execution_count": 137,
     "metadata": {},
     "output_type": "execute_result"
    },
    {
     "data": {
      "text/html": [
       "<html><body><pre>ans = 'Наблюдаемые частоты'</pre></body></html>"
      ],
      "text/plain": [
       "ans = 'Наблюдаемые частоты'"
      ]
     },
     "execution_count": 137,
     "metadata": {},
     "output_type": "execute_result"
    },
    {
     "data": {
      "text/html": [
       "<html><body><pre>n_k = 1x8 double\n",
       "     4    11     6     9     7     6     5     6\n",
       "</pre></body></html>"
      ],
      "text/plain": [
       "n_k = 1x8 double\n",
       "     4    11     6     9     7     6     5     6\n"
      ]
     },
     "execution_count": 137,
     "metadata": {},
     "output_type": "execute_result"
    },
    {
     "data": {
      "text/html": [
       "<html><body><pre>ans = 'Наблюдаемое значение 35.494036, значение критерия Пирсона 15.033208 для уровня значимости 0.020000'</pre></body></html>"
      ],
      "text/plain": [
       "ans = 'Наблюдаемое значение 35.494036, значение критерия Пирсона 15.033208 для уровня значимости 0.020000'"
      ]
     },
     "execution_count": 137,
     "metadata": {},
     "output_type": "execute_result"
    }
   ],
   "source": [
    "lambda_0 = 4;\n",
    "alpha_0 = 0.02;\n",
    "m = mean(source_data);\n",
    "n = length(source_data);\n",
    "x_k = unique(variation_series);\n",
    "n_k = hist(variation_series);\n",
    "n_k = [n_k(1) + n_k(2) n_k(3:8) n_k(8) + n_k(9)];\n",
    "p_k = m .^ x_k ./ ((m + 1).^(x_k+1));\n",
    "p_k = [p_k(1) + p_k(2) p_k(3:8) p_k(9) + p_k(10)];\n",
    "sprintf('Вероятность попадания в I-ый интервал:')\n",
    "p_k\n",
    "sprintf('Ожидаемые частоты:')\n",
    "n*p_k\n",
    "sprintf('Наблюдаемые частоты')\n",
    "n_k\n",
    "\n",
    "chi_square_observed = sum((n_k - p_k * n).^2 ./ (p_k * n));\n",
    "pirson_value = chi2inv(1-alpha_0, length(n_k) - 2);\n",
    "\n",
    "sprintf('Наблюдаемое значение %f, значение критерия Пирсона %f для уровня значимости %f', chi_square_observed, pirson_value, alpha_0)"
   ]
  },
  {
   "cell_type": "markdown",
   "metadata": {},
   "source": [
    "Так как наблюлаемое значение статистики $\\chi^2$ превосходит значения критерия Пирсона, то мы отвергаем данную гипотезу. Найдем наибольшее значение уровня значимости, при котором нет основания отвергнуть данную гипотезу:"
   ]
  },
  {
   "cell_type": "code",
   "execution_count": 138,
   "metadata": {},
   "outputs": [
    {
     "data": {
      "text/html": [
       "<html><body><pre>ans = 'Наибольшее значение уровня значимости при котором нет основания отвергнуть гипотезу 0.000003'</pre></body></html>"
      ],
      "text/plain": [
       "ans = 'Наибольшее значение уровня значимости при котором нет основания отвергнуть гипотезу 0.000003'"
      ]
     },
     "execution_count": 138,
     "metadata": {},
     "output_type": "execute_result"
    },
    {
     "data": {
      "text/html": [
       "<html><body><pre>ans = 'Значение критерия Пирсона при данном значении 35.530919'</pre></body></html>"
      ],
      "text/plain": [
       "ans = 'Значение критерия Пирсона при данном значении 35.530919'"
      ]
     },
     "execution_count": 138,
     "metadata": {},
     "output_type": "execute_result"
    }
   ],
   "source": [
    "alphas = (0.0000001:0.0000001:1);\n",
    "betas = 1 - alphas; \n",
    "pirson_values = chi2inv(betas, length(n_k) - 2);\n",
    "val = min(pirson_values(chi_square_observed <= pirson_values));\n",
    "pirson = find(pirson_values == val);\n",
    "sprintf('Наибольшее значение уровня значимости при котором нет основания отвергнуть гипотезу %f', alphas(pirson))\n",
    "sprintf('Значение критерия Пирсона при данном значении %f', val)"
   ]
  },
  {
   "cell_type": "markdown",
   "metadata": {},
   "source": [
    "#### Задание 2."
   ]
  },
  {
   "cell_type": "code",
   "execution_count": 2,
   "metadata": {},
   "outputs": [],
   "source": [
    "source_data = [-2.848 -3.013 -2.834 -2.936 -3.108 -2.876 -2.908 -2.928 -2.953 -2.982 -2.960 -3.056 -2.890 -3.156 -2.846 -2.972 -2.762 -2.758 -2.861 -2.866 -2.982 -3.137 -3.222 -2.825 -3.351 -3.173 -3.042 -2.621 -3.407 -2.781 -3.451 -2.856 -2.959 -2.707 -2.675 -3.002 -2.763 -2.898 -3.029 -3.138 -3.041 -2.744 -2.618 -2.674 -3.051 -3.048 -3.448 -3.361 -3.120 -2.871];\n",
    "alpha_2 = 0.02;\n",
    "c = -3.04;\n",
    "d = -2.96;\n",
    "h = 0.05;\n",
    "a_0 = -2.3;\n",
    "sigma_0 = 0.2;\n",
    "a_1 = -3.0;\n",
    "sigma_1 = 0.2;\n",
    "\n"
   ]
  },
  {
   "cell_type": "markdown",
   "metadata": {},
   "source": [
    "##### Пункт а."
   ]
  },
  {
   "cell_type": "code",
   "execution_count": 3,
   "metadata": {},
   "outputs": [
    {
     "data": {
      "text/html": [
       "<html><body><pre>ans = '-3.451      -3.448      -3.407      -3.361      -3.351      -3.222      -3.173      -3.156      -3.138      -3.137       -3.12      -3.108      -3.056      -3.051      -3.048      -3.042      -3.041      -3.029      -3.013      -3.002      -2.982      -2.982      -2.972       -2.96      -2.959      -2.953      -2.936      -2.928      -2.908      -2.898       -2.89      -2.876      -2.871      -2.866      -2.861      -2.856      -2.848      -2.846      -2.834      -2.825      -2.781      -2.763      -2.762      -2.758      -2.744      -2.707      -2.675      -2.674      -2.621      -2.618'</pre></body></html>"
      ],
      "text/plain": [
       "ans = '-3.451      -3.448      -3.407      -3.361      -3.351      -3.222      -3.173      -3.156      -3.138      -3.137       -3.12      -3.108      -3.056      -3.051      -3.048      -3.042      -3.041      -3.029      -3.013      -3.002      -2.982      -2.982      -2.972       -2.96      -2.959      -2.953      -2.936      -2.928      -2.908      -2.898       -2.89      -2.876      -2.871      -2.866      -2.861      -2.856      -2.848      -2.846      -2.834      -2.825      -2.781      -2.763      -2.762      -2.758      -2.744      -2.707      -2.675      -2.674      -2.621      -2.618'"
      ]
     },
     "execution_count": 3,
     "metadata": {},
     "output_type": "execute_result"
    },
    {
     "data": {
      "image/png": "[encoded data removed]"
     },
     "execution_count": 3,
     "metadata": {},
     "output_type": "execute_result"
    }
   ],
   "source": [
    "% Вариационный ряд\n",
    "variation_series = sort(source_data);\n",
    "num2str(variation_series)\n",
    "\n",
    "% Эмпирическая функция распределения\n",
    "[f, x] = ecdf(source_data);\n",
    "stairs(x, f, '-or', 'LineWidth', 1);"
   ]
  },
  {
   "cell_type": "code",
   "execution_count": 51,
   "metadata": {},
   "outputs": [
    {
     "data": {
      "text/html": [
       "<html><body><pre>ans = 'Гистограмма частот и полигон частот'</pre></body></html>"
      ],
      "text/plain": [
       "ans = 'Гистограмма частот и полигон частот'"
      ]
     },
     "execution_count": 51,
     "metadata": {},
     "output_type": "execute_result"
    },
    {
     "data": {
      "image/png": "[encoded data removed]"
     },
     "execution_count": 51,
     "metadata": {},
     "output_type": "execute_result"
    }
   ],
   "source": [
    "sprintf('Гистограмма частот и полигон частот')\n",
    "ints = length(source_data)/5;\n",
    "h = histogram(source_data, ints);\n",
    "y = [h.Values];\n",
    "bins = [h.BinEdges];\n",
    "count = zeros(ints, 1)';\n",
    "x = zeros(ints, 1);\n",
    "for i=1:ints\n",
    "    count(i) = length(source_data( source_data > bins(i) & source_data <= bins(i+1)));\n",
    "    x(i) = bins(i) + (bins(i+1) - bins(i))/2;\n",
    "end\n",
    "hold on;\n",
    "plot(x, y, '--or')"
   ]
  },
  {
   "cell_type": "markdown",
   "metadata": {},
   "source": [
    "#### Пункт b."
   ]
  },
  {
   "cell_type": "code",
   "execution_count": 142,
   "metadata": {},
   "outputs": [
    {
     "data": {
      "text/html": [
       "<html><body><pre>ans = 'Выборочное матожидание: -2.970160'</pre></body></html>"
      ],
      "text/plain": [
       "ans = 'Выборочное матожидание: -2.970160'"
      ]
     },
     "execution_count": 142,
     "metadata": {},
     "output_type": "execute_result"
    },
    {
     "data": {
      "text/html": [
       "<html><body><pre>ans = 'Выборочная дисперсия: 0.205688'</pre></body></html>"
      ],
      "text/plain": [
       "ans = 'Выборочная дисперсия: 0.205688'"
      ]
     },
     "execution_count": 142,
     "metadata": {},
     "output_type": "execute_result"
    },
    {
     "data": {
      "text/html": [
       "<html><body><pre>ans = 'СКО: 0.453528'</pre></body></html>"
      ],
      "text/plain": [
       "ans = 'СКО: 0.453528'"
      ]
     },
     "execution_count": 142,
     "metadata": {},
     "output_type": "execute_result"
    },
    {
     "data": {
      "text/html": [
       "<html><body><pre>ans = 'Медиана: -2.956000'</pre></body></html>"
      ],
      "text/plain": [
       "ans = 'Медиана: -2.956000'"
      ]
     },
     "execution_count": 142,
     "metadata": {},
     "output_type": "execute_result"
    },
    {
     "data": {
      "text/html": [
       "<html><body><pre>ans = 'Ассиметрия: -0.590106'</pre></body></html>"
      ],
      "text/plain": [
       "ans = 'Ассиметрия: -0.590106'"
      ]
     },
     "execution_count": 142,
     "metadata": {},
     "output_type": "execute_result"
    },
    {
     "data": {
      "text/html": [
       "<html><body><pre>ans = 'Эксцесс: 2.999639'</pre></body></html>"
      ],
      "text/plain": [
       "ans = 'Эксцесс: 2.999639'"
      ]
     },
     "execution_count": 142,
     "metadata": {},
     "output_type": "execute_result"
    },
    {
     "data": {
      "text/html": [
       "<html><body><pre>ans = 'P(-3.040000 <= X <= -2.960000) = 0.140000'</pre></body></html>"
      ],
      "text/plain": [
       "ans = 'P(-3.040000 <= X <= -2.960000) = 0.140000'"
      ]
     },
     "execution_count": 142,
     "metadata": {},
     "output_type": "execute_result"
    }
   ],
   "source": [
    "% Выборочное матожидание\n",
    "sprintf('Выборочное матожидание: %f', mean(source_data))\n",
    "\n",
    "% Выборочная дисперсия\n",
    "sprintf('Выборочная дисперсия: %f', std(source_data))\n",
    "\n",
    "% СКО\n",
    "sprintf('СКО: %f', sqrt(std(source_data)))\n",
    "\n",
    "% Медиана\n",
    "sprintf('Медиана: %f', median(source_data))\n",
    "\n",
    "% Ассиметрия\n",
    "sprintf('Ассиметрия: %f', skewness(source_data))\n",
    "\n",
    "% Эксцесс\n",
    "sprintf('Эксцесс: %f', kurtosis(source_data))\n",
    "\n",
    "% Вероятность что X из [c, d]\n",
    "sprintf('P(%f <= X <= %f) = %f', c, d, length(source_data(source_data >= c & source_data <= d)) / length(source_data))"
   ]
  },
  {
   "cell_type": "markdown",
   "metadata": {},
   "source": [
    "#### Пункт с."
   ]
  },
  {
   "cell_type": "markdown",
   "metadata": {},
   "source": [
    "Предполагается, что $ x_1, x_2, \\ldots, x_n \\sim \\mathcal{N}(a, \\sigma^2), $ тогда функция плотности распределения имеет вид:\n",
    "$$\n",
    "    p_\\theta(X) = \\frac{1}{\\sigma\\sqrt{2\\pi}} \\exp\\left( -\\frac{(x-a)^2}{2b^2} \\right ).\n",
    "$$\n",
    "Построим функцию правдоподобия параметра $\\theta$:\n",
    "$$\n",
    "L(\\overline x, \\theta) = \\prod_{i = 1}^{n} \\frac{1}{\\sigma\\sqrt{2\\pi}}\\exp\\left( -\\frac{(x-a)^2}{2b^2} \\right ) = (2\\pi)^{n/2}\\cdot \\sigma^{-n}\\exp \\left( -\\frac{1}{2\\sigma^2}\\sum\\limits_{i=1}^n (X_i - a)^2 \\right ).\n",
    "$$\n",
    "Найдем $LL(\\overline X, \\theta) = \\ln(L(\\overline X, \\theta))$ - логарифм функции правдоподобия, получим:\n",
    "$$\n",
    "LL(\\overline X, \\theta) = -\\frac{n}{2}\\ln(2\\pi) - n\\ln\\sigma - \\frac{1}{2\\sigma^2}\\sum\\limits_{i=1}^n(X_i - a)^2.\n",
    "$$\n",
    "Продифференцируем полученное выражение по параметру $\\theta = (a, \\sigma^2)$ и приравняем производную к нулю:\n",
    "По параметру $a:$\n",
    "$$\n",
    "\\frac{\\partial^2 LL}{\\partial^2 a} = \\frac{1}{\\sigma^2}\\left ( \\sum\\limits_{i=1}^n X_i - na\\right ) = 0 \\Rightarrow \\hat a = \\frac{1}{n}\\sum\\limits_{i=1}^n X_i = \\overline{X}.\n",
    "$$\n",
    "По параметру $\\sigma^2:$\n",
    "$$\n",
    "\\frac{\\partial^2 LL}{\\partial^2 \\sigma^2} = -\\frac{n}{\\sigma} + \\frac{1}{\\sigma^3}\\sum\\limits_{i=1}^n (X_i - a)^2 = 0.\n",
    "$$\n",
    "Домножим на $\\sigma^3:$\n",
    "$$\n",
    "-n\\sigma^2 + \\sum\\limits_{i=1}{n} (X_i-a)^2 = 0 \\Rightarrow \\sigma^2 = \\frac{1}{n}\\sum\\limits_{i=1}{n}(X_i-a)^2.\n",
    "$$\n",
    "Тогда\n",
    "$$\n",
    "\\hat{\\sigma^2} = \\frac{1}{n} \\sum\\limits_{i=1}{n}(X_i - \\overline{X})^2 = S^2.\n",
    "$$\n",
    "таким образом ОМП параметра $ \\theta = (a, \\sigma^2) $ - выборочное среднее и выборочная дисперсия. \n",
    "Найдем ОММ:\n",
    "$$\n",
    "\\mathbb{E}X_1=a;\\, M_1=\\overline{x}\n",
    "$$\n",
    "$$\n",
    "\\mathbb{E}X_1^2=\\sigma^2+a^2;\\, M_{2}=\\overline{x^2}\n",
    "$$\n",
    "$$\n",
    "\\begin{cases}\n",
    "    a = \\overline{x} \\\\\n",
    "    \\sigma^2+a^2 = \\overline{x^2}\n",
    "\\end{cases}\n",
    "$$\n",
    "$$\n",
    "\\overline{x}^2 + \\sigma^2 = \\overline{x^2}\n",
    "$$\n",
    "$$\n",
    "\\hat{\\theta} = (\\overline{x}, s^2)\n",
    "$$\n",
    "\n",
    "Найдем смещение оценок:\n",
    "$$\n",
    "\\mathbb{E}\\hat{a} = \\frac{1}{n}\\sum_{i=1}^{n}\\mathbb{E}x_i = a\n",
    "$$\n",
    "$$\n",
    "\\mathbb{E}\\hat{\\sigma^{2}}=\\mathbb{E} s^2 = \\frac{1}{n} \\mathbb{E} \\sum_{i=1}^{n}(x_i - \\overline{x})^2,\n",
    "$$\n",
    "Введем замену $x_i - \\mathbb{E} x_i = y_i,$ тогда $\\mathbb{E} y_i = 0, $ а $\\mathbb{D} y_i = \\sigma^2, $ имеем\n",
    "$$\n",
    "\\frac{1}{n}\\mathbb{E}\\sum_{i=1}^{n}\\left( y_i - \\overline{y} \\right)^2 = \\mathbb{E}\\overline{y^2} - \\mathbb{E}\\overline{y}^2\n",
    "$$\n",
    "$$\n",
    "\\mathbb{E}\\overline{y^2} = \\frac{1}{n} \\mathbb{E}\\sum_{i=1}^{n}y_i^2 = \\sigma^2\n",
    "$$\n",
    "$$\n",
    "\\mathbb{E}\\overline{y}^2 = \\frac{1}{n^2} \\mathbb{E}\\left(\\sum_{i=1}^{n}y_i^2 = \\sigma^2\\right)^2 = \\frac{1}{n^2} \\sum_{i=1}^{n}\\sum_{j=1}^{n}\\mathbb{E}y_i\\cdot y_j\n",
    "$$\n",
    "$$\n",
    "i \\neq j \\Rightarrow \\mathbb{E}y_i\\cdot y_j = \\mathbb{E}y_i \\cdot \\mathbb{E}y_j = 0\n",
    "$$\n",
    "$$\n",
    "i = j \\Rightarrow \\mathbb{E}y_i\\cdot y_j = \\mathbb{E}y_i^2 = \\frac{\\sigma^2}{n}\n",
    "$$\n",
    "$$\n",
    "\\mathbb{E}\\overline{y}^2 = \\frac{\\sigma^2}{n}\n",
    "$$\n",
    "$$\n",
    "\\mathbb{E}\\hat{\\sigma^{2}} = \\frac{n-1}{n} \\sigma^2\n",
    "$$\n",
    "Таким образом по параметру $a$ смещения нет, а по параметру $\\sigma^2$ - есть.\n"
   ]
  },
  {
   "cell_type": "markdown",
   "metadata": {},
   "source": [
    "#### Пункт d."
   ]
  },
  {
   "cell_type": "markdown",
   "metadata": {},
   "source": [
    "Для параметра $a$:\n",
    "$$\n",
    "\\sqrt{n-1}\\frac{\\overline{X}-a}{s} \\sim \\mathcal{S}_{n-1}\n",
    "$$\n",
    "Выберем $X_{\\alpha_2}$:\n",
    "$$\n",
    "\\mathcal{S}_{n-1}\\left(X{\\alpha_2}\\right) = 1 - \\frac{\\alpha_2}{2} = 1 - \\frac{0.02}{2} = 0.99 \n",
    "$$\n",
    "$$\n",
    "\\mathbb{P}\\left( -X_{\\alpha_2} \\le \\sqrt{n-1}\\frac{\\overline{X} - a}{s} \\le X_{\\alpha_2} \\right) = 1 - \\alpha_2\n",
    "$$\n",
    "$$\n",
    "\\mathbb{P}\\left( \\overline{X} - \\frac{X_{\\alpha_2}s}{\\sqrt{n-1}} \\le a \\le \\overline{X} + \\frac{X_{\\alpha_2}s}{\\sqrt{n-1}} \\right) = 1 - \\alpha_2\n",
    "$$"
   ]
  },
  {
   "cell_type": "code",
   "execution_count": 148,
   "metadata": {},
   "outputs": [
    {
     "data": {
      "text/html": [
       "<html><body><pre>ans = 'Доверительный интервал уровня значимости 0.020000 для параметра а: [-5.171594, -0.768726]'</pre></body></html>"
      ],
      "text/plain": [
       "ans = 'Доверительный интервал уровня значимости 0.020000 для параметра а: [-5.171594, -0.768726]'"
      ]
     },
     "execution_count": 148,
     "metadata": {},
     "output_type": "execute_result"
    }
   ],
   "source": [
    "x_alpha = chi2inv(1-alpha_2/2, length(source_data) - 1);\n",
    "left = mean(source_data) - (x_alpha * std(source_data)/sqrt(length(source_data) - 1));\n",
    "right = mean(source_data) + (x_alpha * std(source_data)/sqrt(length(source_data) - 1));\n",
    "sprintf('Доверительный интервал уровня значимости %f для параметра а: [%f, %f]', alpha_2, left, right)"
   ]
  },
  {
   "cell_type": "markdown",
   "metadata": {},
   "source": [
    "Для параметра $\\sigma^2$:\n",
    "$$\n",
    "\\frac{nS^2}{\\sigma^2} \\sim \\chi_{n-1}^2\n",
    "$$\n",
    "Выберем $X_{1\\alpha_2}$, $X_{2\\alpha_2}$:\n",
    "$$\n",
    "\\mathcal{K}_{n-1}\\left( X_{1\\alpha_{2}} \\right) = \\frac{\\alpha_{2}}{2}\n",
    "$$\n",
    "$$\n",
    "\\mathcal{K}_{n-1}\\left( X_{2\\alpha_{2}} \\right) = 1 - \\frac{\\alpha_{2}}{2}\n",
    "$$\n",
    "$$\n",
    "\\mathbb{P}\\left( \\frac{nS^2}{X_{1\\alpha_{2}}} \\le \\sigma^2 \\le \\frac{nS^2}{X_{2\\alpha_{2}}} \\right) = 1 - \\alpha_{2}\n",
    "$$"
   ]
  },
  {
   "cell_type": "code",
   "execution_count": 149,
   "metadata": {},
   "outputs": [
    {
     "data": {
      "text/html": [
       "<html><body><pre>ans = 'Доверительный интервал уровня значимости 0.020000 для параметра sigma^2: [0.355362, 0.137273]'</pre></body></html>"
      ],
      "text/plain": [
       "ans = 'Доверительный интервал уровня значимости 0.020000 для параметра sigma^2: [0.355362, 0.137273]'"
      ]
     },
     "execution_count": 149,
     "metadata": {},
     "output_type": "execute_result"
    }
   ],
   "source": [
    "x_alpha_1 = chi2inv(alpha_2/2, length(source_data) - 1);\n",
    "x_alpha_2 = chi2inv(1-alpha_2/2, length(source_data) - 1);\n",
    "left = n * std(source_data) / x_alpha_1;\n",
    "right = n * std(source_data) / x_alpha_2;\n",
    "sprintf('Доверительный интервал уровня значимости %f для параметра sigma^2: [%f, %f]', alpha_2, left, right)"
   ]
  },
  {
   "cell_type": "markdown",
   "metadata": {},
   "source": [
    "#### Пункт е."
   ]
  },
  {
   "cell_type": "code",
   "execution_count": null,
   "metadata": {},
   "outputs": [],
   "source": []
  },
  {
   "cell_type": "markdown",
   "metadata": {},
   "source": [
    "#### Пункт f."
   ]
  },
  {
   "cell_type": "code",
   "execution_count": 82,
   "metadata": {},
   "outputs": [
    {
     "data": {
      "text/html": [
       "<html><body><pre>ans = 'Ожидаемые частоты:'</pre></body></html>"
      ],
      "text/plain": [
       "ans = 'Ожидаемые частоты:'"
      ]
     },
     "execution_count": 82,
     "metadata": {},
     "output_type": "execute_result"
    },
    {
     "data": {
      "text/html": [
       "<html><body><pre>ans = 1x7 double\n",
       "    0.0000    0.0000    0.0001    0.0009    0.0069    0.0404    5.8901\n",
       "</pre></body></html>"
      ],
      "text/plain": [
       "ans = 1x7 double\n",
       "    0.0000    0.0000    0.0001    0.0009    0.0069    0.0404    5.8901\n"
      ]
     },
     "execution_count": 82,
     "metadata": {},
     "output_type": "execute_result"
    },
    {
     "data": {
      "text/html": [
       "<html><body><pre>ans = 'Наблюдаемые частоты'</pre></body></html>"
      ],
      "text/plain": [
       "ans = 'Наблюдаемые частоты'"
      ]
     },
     "execution_count": 82,
     "metadata": {},
     "output_type": "execute_result"
    },
    {
     "data": {
      "text/html": [
       "<html><body><pre>n_k = 1x7 double\n",
       "     6     5     7    10    12     5     5\n",
       "</pre></body></html>"
      ],
      "text/plain": [
       "n_k = 1x7 double\n",
       "     6     5     7    10    12     5     5\n"
      ]
     },
     "execution_count": 82,
     "metadata": {},
     "output_type": "execute_result"
    },
    {
     "data": {
      "text/html": [
       "<html><body><pre>ans = 'Наблюдаемое значение 8029039.905126, значение критерия Пирсона 13.388223 для уровня значимости 0.020000'</pre></body></html>"
      ],
      "text/plain": [
       "ans = 'Наблюдаемое значение 8029039.905126, значение критерия Пирсона 13.388223 для уровня значимости 0.020000'"
      ]
     },
     "execution_count": 82,
     "metadata": {},
     "output_type": "execute_result"
    }
   ],
   "source": [
    "n = length(source_data);\n",
    "z = x';\n",
    "F = normcdf(bins, a_0, sigma_0);\n",
    "p = zeros(length(bins), 1)';\n",
    "p_k = zeros(7,1)';\n",
    "p_k(1) = F(3) - F(1);\n",
    "p_k(7) = F(11) - F(9);\n",
    "for i=2:6\n",
    "    p_k(i) = F(i+1) - F(i);\n",
    "end\n",
    "sprintf('Ожидаемые частоты:')\n",
    "n*p_k\n",
    "sprintf('Наблюдаемые частоты')\n",
    "n_k = [count(1)+count(2)+count(3) count(4:8) count(9)+count(10)]\n",
    "\n",
    "chi_square_observed = sum((n_k - p_k * n).^2 ./ (p_k * n));\n",
    "pirson_value = chi2inv(1-alpha_2, length(n_k) - 2);\n",
    "\n",
    "sprintf('Наблюдаемое значение %f, значение критерия Пирсона %f для уровня значимости %f', chi_square_observed, pirson_value, alpha_2)"
   ]
  },
  {
   "cell_type": "markdown",
   "metadata": {},
   "source": [
    "**Осмелюсь предположить, что в условии ошибка.**\n",
    "\n",
    "Так как наблюлаемое значение статистики $\\chi^2$ превосходит значения критерия Пирсона, то мы отвергаем данную гипотезу. Найдем наибольшее значение уровня значимости, при котором нет основания отвергнуть данную гипотезу:\n"
   ]
  },
  {
   "cell_type": "code",
   "execution_count": 84,
   "metadata": {},
   "outputs": [
    {
     "data": {
      "text/html": [
       "<html><body><pre>ans = 'Наибольшее значение уровня значимости при котором нет основания отвергнуть гипотезу 0.000000'</pre></body></html>"
      ],
      "text/plain": [
       "ans = 'Наибольшее значение уровня значимости при котором нет основания отвергнуть гипотезу 0.000000'"
      ]
     },
     "execution_count": 84,
     "metadata": {},
     "output_type": "execute_result"
    },
    {
     "data": {
      "text/html": [
       "<html><body><pre>ans = 'Значение критерия Пирсона при данном значении Inf'</pre></body></html>"
      ],
      "text/plain": [
       "ans = 'Значение критерия Пирсона при данном значении Inf'"
      ]
     },
     "execution_count": 84,
     "metadata": {},
     "output_type": "execute_result"
    }
   ],
   "source": [
    "alphas = (0.000:0.001:1);\n",
    "betas = 1 - alphas; \n",
    "pirson_values = chi2inv(betas, length(n_k) - 1);\n",
    "val = min(pirson_values(chi_square_observed <= pirson_values));\n",
    "pirson = find(pirson_values == val);\n",
    "sprintf('Наибольшее значение уровня значимости при котором нет основания отвергнуть гипотезу %f', alphas(pirson))\n",
    "sprintf('Значение критерия Пирсона при данном значении %f', val)"
   ]
  },
  {
   "cell_type": "markdown",
   "metadata": {},
   "source": [
    "#### Пункт g."
   ]
  },
  {
   "cell_type": "code",
   "execution_count": 87,
   "metadata": {},
   "outputs": [
    {
     "data": {
      "text/html": [
       "<html><body><pre>ans = 'Ожидаемые частоты:'</pre></body></html>"
      ],
      "text/plain": [
       "ans = 'Ожидаемые частоты:'"
      ]
     },
     "execution_count": 87,
     "metadata": {},
     "output_type": "execute_result"
    },
    {
     "data": {
      "text/html": [
       "<html><body><pre>ans = 1x7 double\n",
       "    2.0365    1.5058    3.3881    6.0455    8.5556    9.6031    4.8819\n",
       "</pre></body></html>"
      ],
      "text/plain": [
       "ans = 1x7 double\n",
       "    2.0365    1.5058    3.3881    6.0455    8.5556    9.6031    4.8819\n"
      ]
     },
     "execution_count": 87,
     "metadata": {},
     "output_type": "execute_result"
    },
    {
     "data": {
      "text/html": [
       "<html><body><pre>ans = 'Наблюдаемые частоты'</pre></body></html>"
      ],
      "text/plain": [
       "ans = 'Наблюдаемые частоты'"
      ]
     },
     "execution_count": 87,
     "metadata": {},
     "output_type": "execute_result"
    },
    {
     "data": {
      "text/html": [
       "<html><body><pre>n_k = 1x7 double\n",
       "     6     5     7    10    12     5     5\n",
       "</pre></body></html>"
      ],
      "text/plain": [
       "n_k = 1x7 double\n",
       "     6     5     7    10    12     5     5\n"
      ]
     },
     "execution_count": 87,
     "metadata": {},
     "output_type": "execute_result"
    },
    {
     "data": {
      "text/html": [
       "<html><body><pre>ans = 'Наблюдаемое значение 25.854944, значение критерия Пирсона 9.837409 для уровня значимости 0.020000'</pre></body></html>"
      ],
      "text/plain": [
       "ans = 'Наблюдаемое значение 25.854944, значение критерия Пирсона 9.837409 для уровня значимости 0.020000'"
      ]
     },
     "execution_count": 87,
     "metadata": {},
     "output_type": "execute_result"
    }
   ],
   "source": [
    "n = length(source_data);\n",
    "z = x';\n",
    "F = normcdf(bins, mean(source_data), std(source_data));\n",
    "p = zeros(length(bins), 1)';\n",
    "p_k = zeros(7,1)';\n",
    "p_k(1) = F(3) - F(1);\n",
    "p_k(7) = F(11) - F(9);\n",
    "for i=2:6\n",
    "    p_k(i) = F(i+1) - F(i);\n",
    "end\n",
    "sprintf('Ожидаемые частоты:')\n",
    "n*p_k\n",
    "sprintf('Наблюдаемые частоты')\n",
    "n_k = [count(1)+count(2)+count(3) count(4:8) count(9)+count(10)]\n",
    "\n",
    "chi_square_observed = sum((n_k - p_k * n).^2 ./ (p_k * n));\n",
    "pirson_value = chi2inv(1-alpha_2, length(n_k) - 4);\n",
    "\n",
    "sprintf('Наблюдаемое значение %f, значение критерия Пирсона %f для уровня значимости %f', chi_square_observed, pirson_value, alpha_2)"
   ]
  },
  {
   "cell_type": "markdown",
   "metadata": {},
   "source": [
    "Так как наблюлаемое значение статистики $\\chi^2$ превосходит значения критерия Пирсона, то мы отвергаем данную гипотезу. Найдем наибольшее значение уровня значимости, при котором нет основания отвергнуть данную гипотезу:"
   ]
  },
  {
   "cell_type": "code",
   "execution_count": 96,
   "metadata": {},
   "outputs": [
    {
     "data": {
      "text/html": [
       "<html><body><pre>ans = 'Наибольшее значение уровня значимости при котором нет основания отвергнуть гипотезу 0.000231'</pre></body></html>"
      ],
      "text/plain": [
       "ans = 'Наибольшее значение уровня значимости при котором нет основания отвергнуть гипотезу 0.000231'"
      ]
     },
     "execution_count": 96,
     "metadata": {},
     "output_type": "execute_result"
    },
    {
     "data": {
      "text/html": [
       "<html><body><pre>ans = 'Значение критерия Пирсона при данном значении 25.914066'</pre></body></html>"
      ],
      "text/plain": [
       "ans = 'Значение критерия Пирсона при данном значении 25.914066'"
      ]
     },
     "execution_count": 96,
     "metadata": {},
     "output_type": "execute_result"
    }
   ],
   "source": [
    "alphas = (0.000001:0.00001:1);\n",
    "betas = 1 - alphas; \n",
    "pirson_values = chi2inv(betas, length(n_k) - 1);\n",
    "val = min(pirson_values(chi_square_observed <= pirson_values));\n",
    "pirson = find(abs(pirson_values - val) < 0.001);\n",
    "sprintf('Наибольшее значение уровня значимости при котором нет основания отвергнуть гипотезу %f', alphas(pirson))\n",
    "sprintf('Значение критерия Пирсона при данном значении %f', val)"
   ]
  },
  {
   "cell_type": "markdown",
   "metadata": {},
   "source": [
    "#### Пункт h."
   ]
  },
  {
   "cell_type": "markdown",
   "metadata": {},
   "source": [
    "Сформулируем гипотезы:\n",
    "$$ \n",
    "H_{0}: \\theta = (a, \\sigma^2) = (a_0, \\sigma^2_0)\n",
    "$$\n",
    "$$\n",
    "H_{1}: \\theta = (a, \\sigma^2) = (a_1, \\sigma^2_2)\n",
    "$$\n",
    "Найдем статистику отношения правдоподобия:\n",
    "$$\n",
    "LR(\\overline{X}, \\theta_0, \\theta_1) = \\frac{L(\\overline{X},\\, \\theta_0)}{L(\\overline{X},\\, \\theta_1)}.\n",
    "$$\n",
    "Ранее было получено, что\n",
    "$$\n",
    "L(\\overline x, \\theta) = \\prod_{i = 1}^{n} \\frac{1}{\\sigma\\sqrt{2\\pi}}\\exp\\left( -\\frac{(x-a)^2}{2b^2} \\right ) = (2\\pi)^{n/2}\\cdot \\sigma^{-n}\\exp \\left( -\\frac{1}{2\\sigma^2}\\sum\\limits_{i=1}^n (X_i - a)^2 \\right ).\n",
    "$$\n",
    "Тогда\n",
    "$$\n",
    "LR(\\overline{k}, \\lambda_0, \\lambda_1) = \\frac{\\sigma_0^{-n}\\exp \\left( -\\frac{1}{2\\sigma_0^2}\\sum\\limits_{i=1}^n (X_i - a_0)^2 \\right )}{\\sigma_1^{-n}\\exp \\left( -\\frac{1}{2\\sigma_1^2}\\sum\\limits_{i=1}^n (X_i - a_1)^2 \\right )} = \\exp\\left (\\cfrac{a_1-a_0}{\\sigma^2}\\left(\\sum_{i=1}^n x_{(i)}-n\\cfrac{a_0+a_1}{2}\\right ) \\right)>c\n",
    "$$\n",
    "- если выполнено, то $H_0$ отвергается. Учитывая, что $\\sigma^2 = \\sigma_1^2 = \\sigma_0^2, $ получим  \n",
    "$$\n",
    "\\frac{a_1-a_0}{\\sigma^2}\\left(\\sum\\limits_{i=1}^n x_{(i)}-n\\frac{a_0+a_1}{2}\\right ) > \\ln c\n",
    "$$  \n",
    "$$\n",
    "\\sum_{i=1}^n x_{(i)}<\\frac{\\sigma^2}{a_1-a_0}+n\\frac{a_0+a_1}{2}=c^{'}\n",
    "$$  \n",
    "$$\n",
    "T(X_n)=\\sum_{i=1}^n x_{(i)}<c^{'}\n",
    "$$\n",
    "\n",
    "$$\n",
    "\\alpha=P(T(X_n)<c^{'}|H_0)=1-\\Phi(c^{'};na_0,n\\sigma^2)=1-\\Phi\\left(\\frac{c^{'}-na+0}{\\sqrt{n\\sigma^2}}\\right)\n",
    "$$\n",
    "$$\n",
    "c^{'}=na_0+\\sqrt{n\\sigma^2}\\Phi^{-1}(1-\\alpha)\n",
    "$$\n"
   ]
  },
  {
   "cell_type": "code",
   "execution_count": 110,
   "metadata": {},
   "outputs": [
    {
     "data": {
      "text/html": [
       "<html><body><pre>c = -112.0958</pre></body></html>"
      ],
      "text/plain": [
       "c = -112.0958"
      ]
     },
     "execution_count": 110,
     "metadata": {},
     "output_type": "execute_result"
    },
    {
     "data": {
      "text/html": [
       "<html><body><pre>ans = -148.5080</pre></body></html>"
      ],
      "text/plain": [
       "ans = -148.5080"
      ]
     },
     "execution_count": 110,
     "metadata": {},
     "output_type": "execute_result"
    }
   ],
   "source": [
    "x = (0:0.0001:3);\n",
    "p_val = x(min(find(abs(normcdf(x, 0, 1) - 0.98) < 0.00001)));\n",
    "c = n * a_0 + sqrt(n * sigma_1^2) * p_val\n",
    "sum(source_data)"
   ]
  },
  {
   "cell_type": "markdown",
   "metadata": {},
   "source": [
    "Так как $c > n\\overline x,$ то гипотезу отвергаем."
   ]
  },
  {
   "cell_type": "markdown",
   "metadata": {},
   "source": [
    "#### Пункт i.c"
   ]
  },
  {
   "cell_type": "markdown",
   "metadata": {},
   "source": [
    "Предполагается, что $ x_1, x_2, \\ldots, x_n $ из распределения Лапласа, тогда функция плотности распределения имеет вид:\n",
    "$$\n",
    "    p_\\theta(X) = \\frac{1}{\\sigma\\sqrt{2}} \\exp\\left( -\\frac{\\sqrt{2}}{\\sigma} |x-a| \\right ).\n",
    "$$\n",
    "Построим функцию правдоподобия параметра $\\theta$:\n",
    "$$\n",
    "L(\\overline x, \\theta) = \\prod_{i = 1}^{n} \\frac{1}{\\sigma\\sqrt{2}}\\exp\\left( -\\frac{\\sqrt{2}}{\\sigma} |x-a| \\right ) = (2)^{-n/2}\\cdot \\sigma^{-n} \\exp \\left( -\\frac{\\sqrt{2}}{\\sigma}\\sum\\limits_{i=1}^n |X_i - a| \\right ).\n",
    "$$\n",
    "Найдем $LL(\\overline X, \\theta) = \\ln(L(\\overline X, \\theta))$ - логарифм функции правдоподобия, получим:\n",
    "$$\n",
    "LL(\\overline X, \\theta) = -\\frac{n}{2}\\ln(2) - n\\ln\\sigma - \\frac{\\sqrt{2}}{\\sigma}\\sum\\limits_{i=1}^n |X_i - a|.\n",
    "$$\n",
    "Продифференцируем полученное выражение по параметру $\\theta = (a, \\sigma)$ и приравняем производную к нулю:\n",
    "По параметру $a:$\n",
    "$$\n",
    "\\frac{\\partial^2 LL}{\\partial^2 a} = \\frac{1}{\\sigma^2}\\left ( \\sum\\limits_{i=1}^n |X_i - a| \\right ) = 0 \\Rightarrow \\hat a = Z_{n, 0.5}.\n",
    "$$\n",
    "По параметру $\\sigma^2:$\n",
    "$$\n",
    "\\frac{\\partial^2 LL}{\\partial^2 \\sigma} = -\\frac{n}{\\sigma} - \\frac{\\sqrt{2}}{\\sigma^2}\\sum\\limits_{i=1}^n |X_i - a| = 0.\n",
    "$$\n",
    "Тогда\n",
    "$$\n",
    "\\sigma = -\\frac{\\sqrt{2}}{n}\\sum\\limits_{i=1}^n |x_i - a| \\Rightarrow \\hat{\\sigma} = \\frac{\\sqrt{2}}{n} \\sum\\limits_{i=1}^{n}|X_i - Z_{n, 0.5}|.\n",
    "$$\n",
    "Найдем ОММ:\n",
    "Теоретический момент первого порядка распределения: $\\mathbb{E}(X_1)=a.$ Эмпирический момент первого порядка равен $M_1=\\overline{x}=Z_{n,0.5}.$ Теоретический момент второго порядка распределения: $\\mathbb{E}(X_2)=\\sigma^2,$ эмпирический момент второго порядка: $M_2=\\frac{1}{n^2}\\sum_{i=1}^n|x_i-a|^2.$  \n"
   ]
  },
  {
   "cell_type": "code",
   "execution_count": 107,
   "metadata": {},
   "outputs": [
    {
     "data": {
      "text/html": [
       "<html><body><pre>a = -2.9560</pre></body></html>"
      ],
      "text/plain": [
       "a = -2.9560"
      ]
     },
     "execution_count": 107,
     "metadata": {},
     "output_type": "execute_result"
    },
    {
     "data": {
      "text/html": [
       "<html><body><pre>sigma = 0.2237</pre></body></html>"
      ],
      "text/plain": [
       "sigma = 0.2237"
      ]
     },
     "execution_count": 107,
     "metadata": {},
     "output_type": "execute_result"
    }
   ],
   "source": [
    "a = median(source_data)\n",
    "sigma = sqrt(2)/length(source_data) * sum(abs(source_data - a))"
   ]
  }
 ],
 "metadata": {
  "kernelspec": {
   "display_name": "MATLAB Kernel",
   "language": "matlab",
   "name": "jupyter_matlab_kernel"
  },
  "language_info": {
   "file_extension": ".m",
   "mimetype": "text/x-matlab",
   "name": "matlab"
  }
 },
 "nbformat": 4,
 "nbformat_minor": 2
}
