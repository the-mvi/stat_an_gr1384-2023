{
 "cells": [
  {
   "cell_type": "markdown",
   "id": "920e0f8c-9bda-4b6a-880d-c9230d8683f3",
   "metadata": {
    "editable": true,
    "slideshow": {
     "slide_type": ""
    },
    "tags": []
   },
   "source": [
    "# Лабораторная работа №3: Регрессионный анализ\n",
    "\n",
    "---\n",
    "\n",
    "\n",
    "Выполнил студент гр. 1384 Галенко Алексей <br>\n",
    "Вариант №4"
   ]
  },
  {
   "cell_type": "markdown",
   "id": "5d807c55-9013-4d2a-a06d-97b24d7eb660",
   "metadata": {},
   "source": [
    "## Цель работы\n",
    "\n",
    "Ознакомление с основными положениями метода наименьших квадратов (МНК), со статистическими свойствами МНК-оценок, с понятием функции регрессии и роли МНК в регрессионном анализе."
   ]
  },
  {
   "cell_type": "markdown",
   "id": "03ee4f58-a4c5-43f6-8bfb-19a08d1b8db5",
   "metadata": {},
   "source": [
    "## Основные теоретические положения\n",
    "\n",
    "1. Линейная регрессионная модель\n",
    "\n",
    "    Линейная регрессия некоторой зависимой переменной y на набор независимых переменных  x = (x_1, …, x_n), где n – это число наблюдений, предполагает, что линейное отношение между y и x: $y =\\beta_0  + \\beta_1x_1 + ⋯ + \\beta_nx_n + 𝜀$ - уравнение регрессии. $\\beta_0, \\beta_1, …, \\beta_n$ – коэффициенты регрессии (параметры), и 𝜀 – случайная ошибка.\n",
    "\n",
    "2. МНК (Метод Наименьших Квадратов)\n",
    "\n",
    "    $RSS(\\beta)=\\left\\| Y-X^{\\intercal}\\beta \\right\\|=(Y-X^{\\intercal}\\beta)^{\\intercal}\\cdot(Y-X^{\\intercal}\\beta)\\to min\\beta$\n",
    "    \n",
    "    Нормальные уравнения: $XX^{\\intercal}\\beta=XY$\n",
    "    \n",
    "    Решение системы нормальных уравнений в регулярном случае: $\\widehat{\\beta}=(XX^{\\intercal})^{-1}XY$\n",
    "    \n",
    "    $RSS(\\beta)=\\sum_{i=1}^{n}\\left( Y_{i}-\\sum_{j=1}^{m}x_{ji}\\beta_{j} \\right)^{2}$\n",
    "    \n",
    "    $\\frac{\\partial RSS}{\\partial \\beta_{k}} = -2\\sum_{i=1}^{n}x_{ki}\\left(Y_{i}- \\sum_{j=1}^{m}x_{ji}\\beta_{j}\\right)=0, k=\\overline{1,m}$\n",
    "\n",
    "3. Несмещённая оценка дисперсии $(S^{2})$\n",
    "\n",
    "    $S^{2} = \\frac{SS_{e}}{n-r} = \\frac{RSS(\\widehat{\\beta})}{n-r}$\n",
    "    \n",
    "    $SS_{e}=RSS(\\widehat{\\beta})$, а r-ранг матрицы X\n",
    "\n",
    "4. Доверительный интервал\n",
    "\n",
    "    ДНО функции:$\\psi=с^{\\intercal}\\beta$\n",
    "    \n",
    "    МНК-оценка: $\\widehat{\\psi}=с^{\\intercal}\\beta$\n",
    "    \n",
    "    Элемент дисперсии оценки: $b_{\\psi}=c^{\\intercal}(XX^{\\intercal})^{-1}c$\n",
    "    \n",
    "    Распределение $\\widehat{\\psi}\\sim \\mathcal{N}(\\psi,\\sigma^{2}b)$\n",
    "    \n",
    "    $\\frac{\\widehat{\\psi}-\\psi}{S\\sqrt{b}}\\sim \\mathcal{S}_{n-r}$\n",
    "    \n",
    "    Д.И. уровня доверия $1-\\alpha: \\left[ \\widehat{\\psi} - X_{\\alpha}S\\sqrt{b};\\widehat{\\psi} + X_{\\alpha}S\\sqrt{b} \\right], где X_{\\alpha}: \\mathcal{S}_{n-r}(X_{\\alpha})=1-\\frac{\\alpha}{2}$\n",
    "\n",
    "5. Уравнение $A_{\\alpha}=\\left\\{ \\overrightarrow{X}:(\\overrightarrow{X}-\\widehat{\\psi})^{\\intercal}B^{-1}(\\overrightarrow{X}-\\widehat{\\psi})\\le qS^{2}X_{\\alpha} \\right\\}$ представляет собой уравнение доверительного эллипсоида. Здесь:\n",
    "\n",
    "    - $\\widehat{\\psi}$ - вектор оценок параметров,\n",
    "    - $B$ - матрица оценок ковариации,\n",
    "    - $S^{2}$ - оценка дисперсии,\n",
    "    - q - пороговая точка, связанная с распределением хи-квадрат с \\(n-r\\) степенями свободы,\n",
    "    - $X_{\\alpha}$ - значение функции распределения хи-квадрат с (n-r) степенями свободы и уровнем доверия $1-\\alpha$.\n",
    "\n",
    "6. Критерий $\\chi^2$ для проверки гипотез\n",
    "\n",
    "    основан на справнении теоритической плотности распределения и гистограммы, либо теоритической вероятностной меры и полигона частот.\n",
    "    \n",
    "    Разобъем множество значений сл. вел. X на $N$ интервалов $I_{1}, ..., I_{N}:$ $I_{i} = (a_{i-1}, a_i], i = \\overline {1,N}$. данные интервалы не пересекаются и покрывают всё множество возможных значений сл. вел. X.\n",
    "    \n",
    "    Обозначим через $p_{i}$ теоритическую вероятность попадания сл. вел. X в интервал $I_{i}$, при условии, что справедлива $H_{0}$.\n",
    "    \n",
    "    $p_{i} = P(X \\in I_{i}|H_{0})$\n",
    "    \n",
    "    Через $n_{i}$ обозначим число наблюдений нашей выборки, попавших в соответветствующий интервал $I_{i}$.\n",
    "    \n",
    "    $n_{i} = \\sum \\limits_{i=1}^{n}\\mathbb{1}(x_{j} \\in I_{i})$\n",
    "    \n",
    "    Статистика критерия основана на сравнении относительной частоты и теоритической.\n",
    "    \n",
    "    $\\chi^{2}_{набл} = \\sum \\limits_{i=1}^{N} \\frac{n}{p_{i}} \\bigg ( \\frac{n_{i}}{n} - p_{i} \\bigg )^{2} = \\sum \\limits_{i=1}^{N} \\frac{(n_{i} - p_{i} n)^{2}}{n p_{i}} \\sim \\chi^{2}_{N-1}$\n",
    "    \n",
    "    Если $\\mathcal{X}^{2}_{N-1,1-\\alpha_{1}} \\lt \\chi^2_{набл}$, то гипотезу отвергаем\n",
    "    \n",
    "    Если $\\mathcal{X}^{2}_{N-1,1-\\alpha_{1}} \\gt \\chi^2_{набл}$, то гипотезу принимаем\n",
    "\n",
    "7. Теорема Колмогорова\n",
    "\n",
    "    $D_{n}(\\overrightarrow{X}) = \\overset{}{\\underset{X \\in \\mathbb R}{sup}} |F_{0}(X_{i}) - F_{n}(X_{i})|$\n",
    "    \n",
    "    Если гипотеза $H_{0}$ верна, и $F_{0}(X)$ - непрерывная ф-я на $\\mathbb R$, тогда имеет место сходимость\n",
    "    \n",
    "    $P(\\sqrt{n} D_{n}(\\overrightarrow{X}) < z) \\xrightarrow[n \\rightarrow \\infty]{} K(z)$, где\n",
    "    \n",
    "    $K(z)=1-\\alpha$ - ф-я распределения Колмогорова.\n",
    "    \n",
    "    Если $D_{n} \\lt z$, то гипотезу принимаем\n",
    "    \n",
    "    Если $D_{n} \\gt z$, то гипотезу отвергаем"
   ]
  },
  {
   "cell_type": "markdown",
   "id": "d2532d40-4b13-4fb0-80dc-9167725b9e3d",
   "metadata": {},
   "source": [
    "## Постановка задачи\n",
    "\n",
    "Для полученных в результате эксперимента наборов данных необходимо оценить характер (случайной) зависимости переменной Y от переменной X."
   ]
  },
  {
   "cell_type": "markdown",
   "id": "74d48dbf-83ca-4747-a5d5-5e93c2773052",
   "metadata": {},
   "source": [
    "## Выполнение работы"
   ]
  },
  {
   "cell_type": "code",
   "execution_count": 1,
   "id": "bee332fe-454b-4583-ac63-b80d1918ce73",
   "metadata": {},
   "outputs": [],
   "source": [
    "import numpy as np\n",
    "import matplotlib.pyplot as plt\n",
    "Y_data = np.array([5.90, 6.86, 6.54, 6.96, 5.67, 7.04, 3.06, 6.34, 8.17, 10.15, 3.38, 6.11, 11.03, 5.89, 5.47, 5.05, 7.45, 9.60, 7.04, 3.69, 5.19, 5.30, 7.49, 4.75, 7.73, 2.57, 6.47, 4.51, 7.82, 6.02, 4.52, 8.26, 5.18, 3.20, 2.24, 5.55, 4.43, 4.61, 1.29, 8.53, 6.24, 4.80, 3.22, 5.45, 8.28, 6.84, 8.22, 2.68, 6.81, 3.64])\n",
    "X_data = np.array([0, 1, 2, 2, 0, 2, 1, 0, 2, 0, 1, 2, 0, 1, 2, 2, 1, 0, 0, 1, 2, 1, 1, 0, 1, 0, 2, 0, 0, 1, 2, 0, 1, 2, 1, 0, 1, 1, 1, 0, 0, 0, 1, 2, 1, 0, 2, 2, 0, 1])\n"
   ]
  },
  {
   "cell_type": "markdown",
   "id": "77a5b464-025a-46f7-a4b9-4810ad64681e",
   "metadata": {},
   "source": [
    "### 1) Построить графически результаты эксперемента. Сформулировать линейную регрессионную модель переменной Y от переменной X. Построить МНК оценки параметра сдвига $\\beta_0$ и $\\beta_1$. Построить полученную линию регрессии. Оценить визуально соответствие полученных данных и построенной оценки.\n",
    "\n",
    "Построим графически результаты эксперемента:"
   ]
  },
  {
   "cell_type": "code",
   "execution_count": 2,
   "id": "13c03799-234d-4b1f-be1d-a1f7a16a0e5e",
   "metadata": {},
   "outputs": [
    {
     "data": {
      "image/png": "[encoded data removed]",
      "text/plain": [
       "<Figure size 640x480 with 1 Axes>"
      ]
     },
     "metadata": {},
     "output_type": "display_data"
    }
   ],
   "source": [
    "plt.scatter(X_data, Y_data)\n",
    "plt.xlabel('$X_i$')\n",
    "plt.ylabel('$Y_i$')\n",
    "plt.title('Результаты эксперемента')\n",
    "plt.show()"
   ]
  },
  {
   "cell_type": "markdown",
   "id": "955cb3bb-5b30-4b4a-9f7a-9d55bb1d83e7",
   "metadata": {},
   "source": [
    "Сформулируем линейную регрессионную модель переменной Y от переменной X.\n",
    "\n",
    "$Y = \\beta_0 + \\beta_1X + \\epsilon$\n",
    "\n",
    "$ E_\\theta \\varepsilon = 0 , \\quad Var_\\theta \\varepsilon = \\sigma^2 E $\n",
    "\n",
    "$\\beta_0$ - сдвиг, $\\beta_1$ - масштаб\n",
    "\n",
    "$X_{(2 \\times n)} = \\left(\\begin{matrix}\n",
    "1 & 1 & ... & 1 \\\\\n",
    "x_1 & x_2 & ...  & x_n\n",
    "\\end{matrix}\\right)$\n",
    "\n",
    "$Y = \\left(\\begin{matrix}\n",
    "y_1 \\\\\n",
    "y_2 \\\\\n",
    "... \\\\\n",
    "y_n\n",
    "\\end{matrix}\\right) = \n",
    "\\left(\\begin{matrix}\n",
    "\\beta_0 + \\beta_1x_1 + \\epsilon_1 \\\\\n",
    "\\beta_0 + \\beta_1x_2 + \\epsilon_2 \\\\\n",
    "... \\\\\n",
    "\\beta_0 + \\beta_1x_n + \\epsilon_n\n",
    "\\end{matrix}\\right)$\n",
    "\n",
    "$ n = 50$\n",
    "\n",
    "Оценки параметров $\\hat{\\beta_0}$ и $\\hat{\\beta_1}$ вычисляются с помощью нормальных уравнений: $XX^{\\intercal} \\beta = XY$\n",
    "\n",
    "Тогда решение системы нормальных уравнений: $\\hat{\\beta} = (XX^{\\intercal})^{-1}  XY$\n",
    "\n",
    "Найдем $XX^{\\intercal} = \\left(\\begin{matrix}\n",
    "50 & 46 \\\\\n",
    "46 & 74\n",
    "\\end{matrix}\\right)$\n",
    "\n",
    "$(XX^{\\intercal})^{-1}$ = $\\left(\\begin{matrix}\n",
    "0.0467 & -0.029 \\\\\n",
    "-0.029 & 0.0316\n",
    "\\end{matrix}\\right)$\n",
    "\n",
    "Найдем $\\hat{\\beta}$ = $\\left(\\begin{matrix}\n",
    "6.384 \\\\\n",
    "-0.564\n",
    "\\end{matrix}\\right)$\n",
    "\n",
    "Вычисления проводились с помощью кода, представленного ниже\n"
   ]
  },
  {
   "cell_type": "code",
   "execution_count": 3,
   "id": "f19d1b00-b8f7-4147-901b-bff38d3729e2",
   "metadata": {},
   "outputs": [
    {
     "name": "stdout",
     "output_type": "stream",
     "text": [
      "XX_T: \n",
      "[[50 46]\n",
      " [46 74]]\n",
      "\n",
      "XX_T_1: \n",
      "[[ 0.04671717 -0.0290404 ]\n",
      " [-0.0290404   0.03156566]]\n",
      "\n",
      "β1: 6.384\n",
      "β1: -0.564\n"
     ]
    }
   ],
   "source": [
    "X = np.array([[1 for i in range(len(X_data))], [X_data[i] for i in range(len(X_data))]])\n",
    "Y = np.array([Y_data[i] for i in range(len(Y_data))])\n",
    "X_T = np.transpose(X)\n",
    "\n",
    "XX_T = np.dot(X, X_T)\n",
    "print(f'XX_T: \\n{XX_T}\\n')\n",
    "\n",
    "XX_T_1 = np.linalg.inv(XX_T)\n",
    "print(f'XX_T_1: \\n{XX_T_1}\\n')\n",
    "\n",
    "Beta_hat = np.dot(XX_T_1, X).dot(Y)\n",
    "print(f'β1: {round(Beta_hat[0], 3)}')\n",
    "print(f'β1: {round(Beta_hat[1], 3)}')\n"
   ]
  },
  {
   "cell_type": "markdown",
   "id": "30711a95-8b6a-4dde-848d-f1cef62046de",
   "metadata": {
    "editable": true,
    "slideshow": {
     "slide_type": ""
    },
    "tags": []
   },
   "source": [
    "Построим МНК оценки параметра сдвига $\\beta_0$ и масштаба $\\beta_1$:\n",
    "\n",
    "$RSS(\\hat{\\beta}) = \\sum_{i=1}^{n}\\left(y_i - \\hat{y_i} \\right)^2 = \\sum_{i=1}^{n}\\left(y_i - \\left(\\hat{\\beta_0} + \\hat{\\beta_1} x_i\\right) \\right)^2 = 203.873$\n",
    "\n"
   ]
  },
  {
   "cell_type": "code",
   "execution_count": 4,
   "id": "8b934929-0a53-4f96-9a34-0e039a6dab8b",
   "metadata": {},
   "outputs": [
    {
     "name": "stdout",
     "output_type": "stream",
     "text": [
      "203.873\n"
     ]
    }
   ],
   "source": [
    "sum = 0 \n",
    "for i in range(len(Y_data)):\n",
    "    sum += (Y_data[i] - (Beta_hat[0] + Beta_hat[1] * X_data[i])) ** 2\n",
    "print(round(sum, 3))"
   ]
  },
  {
   "cell_type": "markdown",
   "id": "0a4234c8-9f73-4e2d-838e-b728d3af7630",
   "metadata": {},
   "source": [
    "Построим полученную линию регрессии:"
   ]
  },
  {
   "cell_type": "code",
   "execution_count": 5,
   "id": "6a001239-2f28-4bc5-99e0-44140620e5fe",
   "metadata": {
    "editable": true,
    "slideshow": {
     "slide_type": ""
    },
    "tags": []
   },
   "outputs": [
    {
     "data": {
      "image/png": "[encoded data removed]",
      "text/plain": [
       "<Figure size 640x480 with 1 Axes>"
      ]
     },
     "metadata": {},
     "output_type": "display_data"
    }
   ],
   "source": [
    "plt.scatter(X_data, Y_data, color='g')\n",
    "plt.plot([min(X_data), max(X_data)], [Beta_hat[0] + Beta_hat[1] * min(X_data), Beta_hat[0] + Beta_hat[1] * max(X_data)], color='red')\n",
    "plt.xlabel('$X_i$')\n",
    "plt.ylabel('$\\hat{Y_i}$')\n",
    "plt.title('Линия регрессии:')\n",
    "plt.show()"
   ]
  },
  {
   "cell_type": "markdown",
   "id": "d4fcee17-e899-42a3-81c1-6a272a688b1e",
   "metadata": {
    "editable": true,
    "slideshow": {
     "slide_type": ""
    },
    "tags": []
   },
   "source": [
    "### 2) Построить и интерпретировать несмещенную оценку дисперсии. На базе оибок построить гистограмму с шагом h. Проверить гипотезу нормальности ошибок на уровне значимости по $\\alpha$ и $\\chi^2$. Оценить расстояние полученной оценки до класса нормальных распределений по Колмогорову. Визуально оценить данный факт."
   ]
  },
  {
   "cell_type": "markdown",
   "id": "8716d260-1595-466f-b6ae-95136144a956",
   "metadata": {},
   "source": [
    "Оценка параметра $\\sigma^2 = s^2 = \\frac{RSS(\\hat{\\beta})}{(n - r)}$, где $r = rank(X) = 2$ <br>\n",
    "$s^2 = \\frac{203.873}{50 - 2} = 4.247$"
   ]
  },
  {
   "cell_type": "code",
   "execution_count": 6,
   "id": "17d87c16-5261-41ca-a4a4-33fea3b5ac2a",
   "metadata": {
    "editable": true,
    "slideshow": {
     "slide_type": ""
    },
    "tags": []
   },
   "outputs": [
    {
     "name": "stdout",
     "output_type": "stream",
     "text": [
      "Несмещенная оценка дисперсии: 4.247\n"
     ]
    },
    {
     "data": {
      "image/png": "[encoded data removed]",
      "text/plain": [
       "<Figure size 640x480 with 1 Axes>"
      ]
     },
     "metadata": {},
     "output_type": "display_data"
    },
    {
     "name": "stdout",
     "output_type": "stream",
     "text": [
      " Интервал 1: (-4.5296, -3.1296), Количество чисел: 3.0\n",
      " Интервал 2: (-3.1296, -1.7296), Количество чисел: 8.0\n",
      " Интервал 3: (-1.7296, -0.3296), Количество чисел: 10.0\n",
      " Интервал 4: (-0.3296, 1.0704), Количество чисел: 13.0\n",
      " Интервал 5: (1.0704, 2.4704), Количество чисел: 11.0\n",
      " Интервал 6: (2.4704, 3.8704), Количество чисел: 4.0\n",
      " Интервал 7: (3.8704, 5.2704), Количество чисел: 1.0\n"
     ]
    }
   ],
   "source": [
    "s_2 = sum/(len(Y_data) - np.linalg.matrix_rank(X))\n",
    "print(f'Несмещенная оценка дисперсии: {round(s_2, 3)}')\n",
    "\n",
    "Y_p = Beta_hat[0] + Beta_hat[1] * X[1]\n",
    "err = Y - Y_p\n",
    "\n",
    "h = 1.4\n",
    "hist, bins, _ = plt.hist(err, bins=np.arange(min(err), max(err) + h, h), edgecolor='black', color='orange')\n",
    "plt.xlabel('Ошибки')\n",
    "plt.ylabel('Частота')\n",
    "plt.title('Оценки ошибок')\n",
    "plt.show()\n",
    "\n",
    "\n",
    "for i in range(len(hist)):\n",
    "    print(f' Интервал {i+1}: ({round(bins[i], 4)}, {round(bins[i+1], 4)}), Количество чисел: {hist[i]}')"
   ]
  },
  {
   "cell_type": "markdown",
   "id": "82b9cdee-285b-4420-8a11-21e13b5e94e7",
   "metadata": {},
   "source": [
    "Проверим гипотезу нормальности ошибок на уровне значимости по $\\alpha$ и $\\chi^2$.\n",
    "\n",
    "Основная гипотеза: $H_0 \\sim \\mathcal{N}(0, \\sigma^2)$<br>\n",
    "\n",
    "Переопределим интервалы, чтобы в каждом было не менее 5 значений:\n",
    "\n",
    "Для этого объединим первый со вторым и шестой с седьмым.\n",
    "\n",
    "Итого:\n",
    "\n",
    "$I_1 = (-\\infty, -1.7296], \\; \\nu_1 = 11$\n",
    "\n",
    "$I_2 = (-1.7296, -0.3296], \\; \\nu_2 = 10$\n",
    "\n",
    "$I_3 = (-0.3296, 1.0704], \\; \\nu_3 = 13$\n",
    "\n",
    "$I_{4} = (1.0704, 2.4704], \\; \\nu_{4} = 11$\n",
    "\n",
    "$I_{5} = (2.4704, +\\infty), \\; \\nu_{5} = 5$\n",
    "\n",
    "$11 + 10 + 13 + 11 + 5 = 50 = n$\n",
    "\n",
    "Посчитаем статистику критерия $\\chi^2$:\n",
    "\n",
    "Статистика критерия: $\\chi^2 = \\sum_{j=1}^{k}\\frac{ (\\nu_j - np_{jo})^2 }{ np_{j0} }$, где k - количество интервалов, $\\nu_i$ - абсолютная частота, <br>\n",
    "а $p_{j0} = \\mathbb{P}(\\xi \\in I_i) = \\left[ \\text{Пусть a и b - границы интервала} \\right] = F(b_i) - F(a_i)$ - вероятность попадания в интервал\n",
    "\n",
    "Квантиль $x_{\\alpha}:$ $ \\mathcal{K}_{r-d-1}(x_a) = 1 - \\alpha_1 = 1 - 0.01 = 0.99$\n"
   ]
  },
  {
   "cell_type": "code",
   "execution_count": 7,
   "id": "c8d1fe01-98af-48f1-85f9-515305a356db",
   "metadata": {},
   "outputs": [
    {
     "name": "stdout",
     "output_type": "stream",
     "text": [
      "Статистика критерия: 0.7646\n",
      "Параметр: 2.0811\n",
      "Квантиль x_alpha: 11.3449\n"
     ]
    },
    {
     "name": "stderr",
     "output_type": "stream",
     "text": [
      "/usr/lib/python3.11/site-packages/scipy/stats/_distn_infrastructure.py:2066: RuntimeWarning: divide by zero encountered in divide\n",
      "  x = np.asarray((x - loc)/scale, dtype=dtyp)\n"
     ]
    }
   ],
   "source": [
    "from scipy import stats\n",
    "import scipy\n",
    "\n",
    "n = len(Y_data)\n",
    "alpha = 0.01\n",
    "\n",
    "def min_sum(arg):\n",
    "    # Границы интервала\n",
    "    intervals = np.array([-1.7296, -0.3296, 1.0704, 2.4704])\n",
    "\n",
    "    # Гипотетический вероятности\n",
    "    probabilities = np.zeros(len(intervals) + 1)\n",
    "\n",
    "    probabilities[0] = stats.norm.cdf(intervals[0], 0, arg)\n",
    "    for i in range(1, len(intervals)):\n",
    "        probabilities[i] = stats.norm.cdf(intervals[i], 0, arg) - stats.norm.cdf(intervals[i-1], 0, arg)\n",
    "    probabilities[len(intervals)] = 1 - stats.norm.cdf(intervals[-1], 0, arg)\n",
    "\n",
    "    # Частоты\n",
    "    nu = np.array([11, 10, 13, 11, 5])\n",
    "\n",
    "    sum_array = ((nu - n * probabilities) ** 2) / (n * probabilities)\n",
    "    return np.sum(sum_array)\n",
    "\n",
    "\n",
    "result = scipy.optimize.minimize_scalar(min_sum)\n",
    "print(f'Статистика критерия: {round(result.fun, 4)}')\n",
    "print(f'Параметр: {round(result.x, 4)}')\n",
    "\n",
    "x_alpha = stats.chi2(3).ppf(1 - alpha)\n",
    "\n",
    "print(f'Квантиль x_alpha: {round(x_alpha, 4)}')"
   ]
  },
  {
   "cell_type": "markdown",
   "id": "55c3c8e4-d169-41d9-8b17-d9bbc8f66d06",
   "metadata": {},
   "source": [
    "$\\chi^2 < x_\\alpha \\Rightarrow$ принимаем $H_0$ \n",
    "\n",
    "Оценим расстояние полученной оценки до класса нормальных распределений по Колмогорову.\n",
    "\n",
    "$ \\sqrt{n} \\cdot max|F_n(y) - F(y)| \\sim K $,  $K$ - распределение Колмогорова. "
   ]
  },
  {
   "cell_type": "code",
   "execution_count": 8,
   "id": "11ada7c0-6605-4ff9-bdb9-c19d34844b55",
   "metadata": {
    "editable": true,
    "slideshow": {
     "slide_type": ""
    },
    "tags": []
   },
   "outputs": [
    {
     "name": "stdout",
     "output_type": "stream",
     "text": [
      "Dn: 0.1368\n",
      "x_alpha: 0.2107\n",
      "Основная гипотеза принимается\n"
     ]
    }
   ],
   "source": [
    "def find_Fn(x, values):\n",
    "    n = len(Y_data)\n",
    "    sum = 0\n",
    "    for i in values:\n",
    "        if i >= x:\n",
    "            return sum / n\n",
    "        sum += 1\n",
    "    return sum / n\n",
    "\n",
    "X_values = np.arange(min(err) - h, max(err) + h, h)\n",
    "sorted_errors = np.sort(err)\n",
    "\n",
    "Fn = np.array([find_Fn(i, sorted_errors) for i in X_values])\n",
    "F = np.array([stats.norm.cdf(y, 0, np.sqrt(s_2)) for y in X_values])\n",
    "\n",
    "Dn = np.max(np.abs(Fn - F)) * np.sqrt(n)\n",
    "print(f'Dn: {round(Dn, 4)}')\n",
    "\n",
    "x_alpha = stats.ksone.ppf(1 - alpha, n)\n",
    "print(f'x_alpha: {round(x_alpha, 4)}')\n",
    "\n",
    "if Dn >= x_alpha:\n",
    "  print('Основная гипотеза отвергается')\n",
    "else:\n",
    "  print('Основная гипотеза принимается')"
   ]
  },
  {
   "cell_type": "markdown",
   "id": "05bad7dd-5b87-48a9-b370-1f9728ff6947",
   "metadata": {},
   "source": [
    "Так как $D_n < X_{\\alpha} $, гипотеза принимается"
   ]
  },
  {
   "cell_type": "code",
   "execution_count": 9,
   "id": "141ddf04-4d74-4bc8-962e-e9a32f6d2423",
   "metadata": {},
   "outputs": [
    {
     "data": {
      "image/png": "[encoded data removed]",
      "text/plain": [
       "<Figure size 640x480 with 1 Axes>"
      ]
     },
     "metadata": {},
     "output_type": "display_data"
    },
    {
     "data": {
      "image/png": "[encoded data removed]",
      "text/plain": [
       "<Figure size 640x480 with 1 Axes>"
      ]
     },
     "metadata": {},
     "output_type": "display_data"
    }
   ],
   "source": [
    "plt.title('$F_n(x)$ и $F(x)$')\n",
    "plt.xlabel('$x_i$') \n",
    "plt.ylabel('Значения функций')\n",
    "plt.plot(X_values, F, color='green')\n",
    "plt.plot(X_values, Fn, '--', color='red')\n",
    "plt.show()\n",
    "\n",
    "hist, bin_edges, _ = plt.hist(err, bins=np.arange(min(err), max(err) + h, h), density=True, edgecolor='black', color='orange')\n",
    "plt.title('Гистограмма ошибок')\n",
    "plt.xlabel('Значение')\n",
    "plt.ylabel('Частота')\n",
    "values = np.linspace(min(err), max(err), 100)\n",
    "plt.plot(values, stats.norm.pdf(values, err.mean(), err.std()), color='red')\n",
    "\n",
    "plt.show()"
   ]
  },
  {
   "cell_type": "markdown",
   "id": "06d89415-9d80-4e80-9ffc-4d67115eccdc",
   "metadata": {},
   "source": [
    "### 3) В предположении нормальности ошибок построить доверительные интервалы для параметров $\\beta_0$ и $\\beta_1$ уровня доверия 1 − $\\alpha$. Построить доверительный эллипс уровня доверия 1 − $\\alpha$ для $(\\beta_0, \\beta_1)$. (вычислить его полуоси)\n",
    "\n",
    "ДНО функция: $\\psi = C^T \\beta $\n",
    "\n",
    "Элемент дисперсии оценки: $ b_\\psi = C^T (XX^T)^{-1}C$\n",
    "\n",
    "Тогда: $ \\cfrac{\\widehat \\psi - \\psi}{s\\sqrt{b}} \\sim S_{n-r} $\n",
    "\n",
    "Доверительный интервал уровня доверия $1 - \\alpha$:\n",
    "\n",
    "$ P_\\theta(-x_\\alpha \\le \\cfrac{\\widehat \\psi - \\psi}{s\\sqrt{b}} \\le x_\\alpha) = 1 -\\alpha $, <br>\n",
    "где квантиль $ x_\\alpha : S_{n-r}(x_\\alpha) = 1 -\\frac{\\alpha}{2} $\n",
    "\n",
    "$ \\widehat \\psi -x_{\\alpha}s\\sqrt{b} \\le \\psi \\le \\widehat \\psi -x_{\\alpha}s\\sqrt{b} $ - доверительный интервал для $\\psi$\n",
    "\n",
    "- Для $\\beta_0:$\n",
    "\n",
    "  $\\psi_{\\beta_0} = \\begin{pmatrix}\n",
    "    1 \\\\\n",
    "    0\n",
    "    \\end{pmatrix}  ^ {\\intercal} \\cdot  \\begin{pmatrix}\n",
    "    \\beta_0 \\\\\n",
    "    \\beta_1\n",
    "    \\end{pmatrix}$\n",
    "\n",
    "    $b_{\\psi_{\\beta_0}} =  \\begin{pmatrix}\n",
    "    1 & 0\n",
    "    \\end{pmatrix} (XX^{\\intercal})^{-1} \\begin{pmatrix}\n",
    "    1 \\\\ 0\n",
    "    \\end{pmatrix} = 0.0467$\n",
    "\n",
    "    \n",
    "  \n",
    "- Для $\\beta_1:$\n",
    "\n",
    "  $\\psi_{\\beta_1} = \\begin{pmatrix}\n",
    "    0 \\\\\n",
    "    1\n",
    "    \\end{pmatrix}  ^ {\\intercal} \\cdot  \\begin{pmatrix}\n",
    "    \\beta_0 \\\\\n",
    "    \\beta_1\n",
    "    \\end{pmatrix}$\n",
    "  \n",
    "    $b_{\\psi_{\\beta_1}} =  \\begin{pmatrix}\n",
    "    0 & 1\n",
    "    \\end{pmatrix} (XX^{\\intercal})^{-1} \\begin{pmatrix}\n",
    "    0 \\\\ 1\n",
    "    \\end{pmatrix} = 0.0316$\n",
    "$ \\cfrac{\\widehat \\psi - \\psi}{s\\sqrt{b_{\\psi_{\\beta_0}}}} \\sim S_{n-2} $\n",
    "\n",
    "$ \\cfrac{\\widehat \\psi - \\psi}{s\\sqrt{b_{\\psi_{\\beta_1}}}} \\sim S_{n-2} $\n",
    "\n",
    "Найдем $x_{\\alpha} = S^{-1}_{n - 2}(1 - \\frac{\\alpha}{2}) = 2.6822$\n"
   ]
  },
  {
   "cell_type": "code",
   "execution_count": 10,
   "id": "afa7c031-f8e3-42e6-90d0-cf495e2877ea",
   "metadata": {},
   "outputs": [
    {
     "name": "stdout",
     "output_type": "stream",
     "text": [
      "b_0: 0.0467\n",
      "b_1: 0.0316\n",
      "x_alpha: 2.6822\n",
      "[5.1893, 7.5788] для beta_0\n",
      "[-1.5465, 0.4177] для beta_1\n"
     ]
    }
   ],
   "source": [
    "c_0 = np.array([1, 0])\n",
    "b_0 = np.dot(np.dot(c_0.T, XX_T_1), c_0)\n",
    "print(f'b_0: {round(b_0, 4)}')\n",
    "\n",
    "c_1 = np.array([0, 1])\n",
    "b_1 = np.dot(np.dot(c_1.T, XX_T_1), c_1)\n",
    "print(f'b_1: {round(b_1, 4)}')\n",
    "\n",
    "alpha = 0.01\n",
    "func = stats.t(n - 2)\n",
    "x_alpha = func.ppf(1 - alpha/2)\n",
    "print(f'x_alpha: {round(x_alpha, 4)}')\n",
    "\n",
    "left = Beta_hat[0] - x_alpha * np.sqrt(s_2) * np.sqrt(b_0)\n",
    "right = Beta_hat[0] + x_alpha * np.sqrt(s_2) * np.sqrt(b_0)\n",
    "print(f'[{round(left, 4)}, {round(right, 4)}] для beta_0')\n",
    "\n",
    "left = Beta_hat[1] - x_alpha * np.sqrt(s_2) * np.sqrt(b_1)\n",
    "right = Beta_hat[1] + x_alpha * np.sqrt(s_2) * np.sqrt(b_1)\n",
    "print(f'[{round(left, 4)}, {round(right, 4)}] для beta_1')"
   ]
  },
  {
   "cell_type": "markdown",
   "id": "a283610e-9352-4b32-bf92-8245ba933864",
   "metadata": {},
   "source": [
    "$ \\beta_0 \\in [5.1893, 7.5788]$\n",
    "\n",
    "$ \\beta_1 \\in [-1.5465, 0.4177]$"
   ]
  },
  {
   "cell_type": "markdown",
   "id": "0f822c04-0f5e-4fc5-9e84-c51170643c53",
   "metadata": {},
   "source": [
    "Построим доверительный эллипс:\n",
    "\n",
    "Доверительный эллипсоид уровня доверия 1 - $\\alpha$ - функция параметра $\\psi$:\n",
    "\n",
    "$ A_\\alpha = \\{x: (x - \\widehat \\psi)^T (C^T (XX^T)^{-1}C)^{-1}(x - \\widehat \\psi) \\le qs^2x_\\alpha\\}$, где $ x_\\alpha = F_{q, n-r}(x_\\alpha) = 1 - \\alpha$\n",
    "\n",
    "$C = \\begin{pmatrix}\n",
    "    1 & 0\\\\\n",
    "    0 & 1\n",
    "\\end{pmatrix} $\n",
    "\n",
    "Пусть $ \\begin{pmatrix}\n",
    "    x\\\\\n",
    "    y\n",
    "\\end{pmatrix}  = P(\\widehat \\psi - \\psi)$, где P - матрица собственных векторов.\n",
    "\n",
    "Тогда уравнение доверительного эллипсоида выглядит таким образом:\n",
    "\n",
    "$(\\widehat \\psi -  \\psi)^T (C^T (XX^T)^{-1}C)^{-1}(\\widehat \\psi -  \\psi) = \\lambda_1 x^2 + \\lambda_2 y^2 \\le qs^2x_\\alpha$, где $\\lambda_1$ и $\\lambda_2$ - собственные числа матрицы $XX^T$\n",
    "\n",
    "$\\cfrac{\\lambda_1}{qs^2x_\\alpha}x^2 + \\cfrac{\\lambda_2}{qs^2x_\\alpha}y^2 \\le 1$\n",
    "\n",
    "$\\begin{pmatrix} -0.79133492 && -0.6113829 \\\\ 0.6113829 && -0.79133492 \\end{pmatrix} \\cdot \\begin{pmatrix} 6.38406566 - \\beta_0 \\\\ -0.56441919 - \\beta_1 \\end{pmatrix} = $\n",
    "\n",
    "$ \\begin{pmatrix} -0.79133492\\cdot(6.38406566 - \\beta_0) - 0.6113829 \\cdot(-0.56441919 - \\beta_1) \\\\ 0.6113829 \\cdot (6.38406566 - \\beta_0) -0.79133492 \\cdot(-0.56441919 - \\beta_1) \\end{pmatrix}$\n"
   ]
  },
  {
   "cell_type": "code",
   "execution_count": 11,
   "id": "5a1e34a7-9102-48bb-a11e-76ed9c464810",
   "metadata": {},
   "outputs": [
    {
     "name": "stdout",
     "output_type": "stream",
     "text": [
      "\n",
      "Матрица перехода: \n",
      " [[-0.79133492 -0.6113829 ]\n",
      " [ 0.6113829  -0.79133492]]\n",
      "\n",
      "\n",
      "Собственные числа: \n",
      " [ 14.4605427 109.5394573]\n",
      "\n",
      "x_alpha: 5.0767\n",
      "Большая полуось: 1.7269\n",
      "Малая полуось: 0.6274\n",
      "Beta: [ 6.38406566 -0.56441919]\n"
     ]
    },
    {
     "data": {
      "image/png": "[encoded data removed]",
      "text/plain": [
       "<Figure size 600x600 with 1 Axes>"
      ]
     },
     "metadata": {},
     "output_type": "display_data"
    }
   ],
   "source": [
    "eigenvalues, eigenvectors = np.linalg.eig(XX_T)\n",
    "\n",
    "print(f'\\nМатрица перехода: \\n {eigenvectors}\\n')\n",
    "print(f'\\nСобственные числа: \\n {eigenvalues}\\n')\n",
    "\n",
    "func = stats.f(2, n - 2)\n",
    "x_alpha = func.ppf(1 - alpha)\n",
    "print(f'x_alpha: {round(x_alpha, 4)}')\n",
    "\n",
    "a = np.sqrt((2 * s_2 * x_alpha) / eigenvalues[0])\n",
    "b =  np.sqrt((2 * s_2 * x_alpha) / eigenvalues[1])\n",
    "\n",
    "print(f'Большая полуось: {round(a, 4)}')\n",
    "print(f'Малая полуось: {round(b, 4)}')\n",
    "\n",
    "print(f'Beta: {Beta_hat}')\n",
    "\n",
    "def ellipse(beta0, beta1):\n",
    "    return (( eigenvectors[0][0] * (Beta_hat[0] - beta0) - eigenvectors[0][1] * (Beta_hat[1] - beta1))**2 / \n",
    "            a**2) + ((eigenvectors[1][0] * (Beta_hat[0] - beta0) + eigenvectors[1][1] * (Beta_hat[1] - beta1))**2 / b**2)\n",
    "\n",
    "\n",
    "x = np.linspace(-5, 20, 200)\n",
    "y = np.linspace(-8, 10, 200)\n",
    "X, Y = np.meshgrid(x, y)\n",
    "plt.figure(figsize=(6, 6))\n",
    "plt.contour(X, Y, ellipse(X, Y), levels=[1], colors='green', linewidths=2) # Построение контура, где значение равно 1\n",
    "\n",
    "plt.title(\"Эллипс\")\n",
    "plt.xlabel(\"X\")\n",
    "plt.ylabel(\"Y\")\n",
    "plt.grid(True)\n",
    "plt.show()"
   ]
  },
  {
   "cell_type": "markdown",
   "id": "b955550a-0658-4a0b-91be-777807143e5e",
   "metadata": {},
   "source": [
    "### 4) Сформулировать гипотезу независимости переменной Y от переменной X. Провести проверку значимости.\n",
    "\n",
    "Основная гипотеза:\n",
    "$ H_0 : \\beta_1 = 0$\n",
    "\n",
    "Альтернативная гипотеза:\n",
    "$ H_1 : \\beta_1 \\neq 0$\n",
    "\n",
    "\n",
    "\n",
    "ДНО - функция: \n",
    "$\\psi = C^T \\beta $\n",
    "\n",
    "$ C = \\begin{pmatrix}\n",
    "    0 \\\\\n",
    "    1\n",
    "\\end{pmatrix} \\Rightarrow$, $\\widehat \\psi = \\widehat \\beta_1 $\n",
    "\n",
    "$b_{\\psi_{\\widehat \\beta_1}} =  \\begin{pmatrix}\n",
    "    0 & 1\n",
    "    \\end{pmatrix} (XX^{\\intercal})^{-1} \\begin{pmatrix}\n",
    "    0 \\\\ 1\n",
    "    \\end{pmatrix} = 0.0316$\n",
    "\n",
    "$\\mathcal{F} = \\cfrac{\\widehat \\psi^T ((C^T (XX^T)^{-1}C)^{-1}) \\widehat \\psi}{qs^2} \\sim F_{q, n-r}$\n",
    "\n",
    "$\\mathcal{F} = \\cfrac{{\\widehat \\beta_1} ^2}{bqs^2} $, так как $\\widehat \\psi = \\widehat \\beta_1 $\n",
    "\n",
    "$x_\\alpha: F_{q, n-r}(x_\\alpha) = 1 - \\alpha $\n",
    "\n",
    "\n"
   ]
  },
  {
   "cell_type": "code",
   "execution_count": 12,
   "id": "7b56ddc1-ce11-4786-8d9d-08106a55aaac",
   "metadata": {},
   "outputs": [
    {
     "name": "stdout",
     "output_type": "stream",
     "text": [
      "b: 0.0316\n",
      "F: 2.3761\n",
      "x_alpha: 7.1942\n"
     ]
    }
   ],
   "source": [
    "c = np.array([0, 1])\n",
    "b = np.dot(np.dot(c.T, XX_T_1), c)\n",
    "print(f'b: {round(b, 4)}')\n",
    "\n",
    "q = 1\n",
    "r = 2\n",
    "F = Beta_hat[1] ** 2 / (b * q * s_2)\n",
    "print(f'F: {round(F, 4)}')\n",
    "\n",
    "x_alpha = stats.f(q, n - r).ppf(1 - alpha)\n",
    "print(f'x_alpha: {round(x_alpha, 4)}')"
   ]
  },
  {
   "cell_type": "markdown",
   "id": "82658fec-edaf-42bc-ad53-8697c64333b4",
   "metadata": {},
   "source": [
    "Так как $\\mathcal{F} < x_\\alpha$, принимаем $H_0$ "
   ]
  },
  {
   "cell_type": "markdown",
   "id": "6abf892b-47e4-41d9-b224-999c38b3cb6a",
   "metadata": {},
   "source": [
    "### 5) Сформулировать модель, включающую дополнительный член $X^2$. Построить МНК оценки параметров $\\beta_0, \\beta_1, \\beta_2$ в данной модели. Изобразить полученную регрессионную зависимость.\n",
    "\n",
    "$ Y = X^T \\beta + \\varepsilon , \\quad  \\varepsilon $ - вектор ошибок \n",
    "\n",
    "$ E_\\theta \\varepsilon = 0 , \\quad Var_\\theta \\varepsilon = \\sigma^2 E $\n",
    "\n",
    "$ E(Y|X) = \\beta_0 + \\beta_1X + \\beta_1X^2, \\quad \\beta = (\\beta_0, \\beta_1, \\beta_2) $\n",
    "\n",
    "$X_{(3 \\times n)} = \\left(\\begin{matrix}\n",
    "1 & 1 & ... & 1 \\\\\n",
    "x_1 & x_2 & ...  & x_n \\\\\n",
    "x_1^2 & x_2^2 & ...  & x_n^2 \n",
    "\\end{matrix}\\right)$\n",
    "\n",
    "$Y = \\left(\\begin{matrix}\n",
    "y_1 \\\\\n",
    "y_2 \\\\\n",
    "... \\\\\n",
    "y_n\n",
    "\\end{matrix}\\right) = \n",
    "\\left(\\begin{matrix}\n",
    "\\beta_0 + \\beta_1x_1 + \\beta_2x_2^2 +\\epsilon_1 \\\\\n",
    "\\beta_0 + \\beta_1x_2 + \\beta_2x_2^2 + \\epsilon_2 \\\\\n",
    "... \\\\\n",
    "\\beta_0 + \\beta_1x_n + \\beta_2x_2^2 + \\epsilon_n\n",
    "\\end{matrix}\\right)$\n",
    "\n",
    "$ n = 50$\n",
    "\n",
    "Оценки параметров $\\hat{\\beta_0}$, $\\hat{\\beta_1}$ и $\\hat{\\beta_2}$ вычисляются с помощью нормальных уравнений: $XX^{\\intercal} \\beta = XY$\n",
    "\n",
    "Тогда решение системы нормальных уравнений: $\\hat{\\beta} = (XX^{\\intercal})^{-1}  XY$\n",
    "\n",
    "Найдем $XX^{\\intercal} = \\left(\\begin{matrix}\n",
    "50 & 46 & 74\\\\\n",
    "46 & 74 & 130 \\\\\n",
    "74 & 130 & 242 \\\\\n",
    "\\end{matrix}\\right)$\n",
    "\n",
    "$(XX^{\\intercal})^{-1}$ = $\\left(\\begin{matrix}\n",
    "0.0555 & -0.0833 & 0.0278\\\\\n",
    "-0.0833 & 0.3651 & -0.1706 \\\\\n",
    "0.0278 & -0.1706 & 0.0873 \\\\\n",
    "\\end{matrix}\\right)$\n",
    "\n",
    "Найдем $\\hat{\\beta}$ = $\\left(\\begin{matrix}\n",
    "6.8 \\\\\n",
    "-3.1229 \\\\\n",
    "1.309\n",
    "\\end{matrix}\\right)$\n",
    "\n",
    "Построим МНК оценки параметров $\\hat{\\beta_0}$, $\\hat{\\beta_1}$ и $\\hat{\\beta_2}$:\n",
    "\n",
    "$RSS(\\hat{\\beta}) = \\sum_{i=1}^{n}\\left(y_i - \\hat{y_i} \\right)^2 = \\sum_{i=1}^{n}\\left(y_i - \\left(\\hat{\\beta_0} + \\hat{\\beta_1} x_i + \\hat{\\beta_2} x_i^2\\right) \\right)^2 = 184.2464$\n"
   ]
  },
  {
   "cell_type": "code",
   "execution_count": 16,
   "id": "da9653f9-0788-4690-aa2b-3f9c45b6ad1e",
   "metadata": {},
   "outputs": [
    {
     "name": "stdout",
     "output_type": "stream",
     "text": [
      "XX_T: \n",
      "[[ 50  46  74]\n",
      " [ 46  74 130]\n",
      " [ 74 130 242]]\n",
      "\n",
      "XX_T_1: \n",
      "[[ 0.05555556 -0.08333333  0.02777778]\n",
      " [-0.08333333  0.36507937 -0.17063492]\n",
      " [ 0.02777778 -0.17063492  0.08730159]]\n",
      "\n",
      "β1: 6.8006\n",
      "β1: -3.1229\n",
      "β2: 1.309\n",
      "\n",
      "RSS(Beta): 184.2464\n"
     ]
    }
   ],
   "source": [
    "X = np.array([[1 for i in range(len(X_data))], [X_data[i] for i in range(len(X_data))], [X_data[i] ** 2 for i in range(len(X_data))]])\n",
    "Y = np.array([Y_data[i] for i in range(len(Y_data))])\n",
    "X_T = np.transpose(X)\n",
    "\n",
    "XX_T = np.dot(X, X_T)\n",
    "print(f'XX_T: \\n{XX_T}\\n')\n",
    "\n",
    "XX_T_1 = np.linalg.inv(XX_T)\n",
    "print(f'XX_T_1: \\n{XX_T_1}\\n')\n",
    "\n",
    "Beta_hat = np.dot(XX_T_1, X).dot(Y)\n",
    "print(f'β1: {round(Beta_hat[0], 4)}')\n",
    "print(f'β1: {round(Beta_hat[1], 4)}')\n",
    "print(f'β2: {round(Beta_hat[2], 4)}')\n",
    "\n",
    "sum = 0 \n",
    "for i in range(len(Y_data)):\n",
    "    sum += (Y_data[i] - (Beta_hat[0] + Beta_hat[1] * X_data[i] + Beta_hat[2] * X_data[i] ** 2)) ** 2\n",
    "print(f'\\nRSS(Beta): {round(sum, 4)}')"
   ]
  },
  {
   "cell_type": "code",
   "execution_count": 14,
   "id": "757d954e-94c8-4441-8a39-3a00435dc71d",
   "metadata": {},
   "outputs": [
    {
     "data": {
      "image/png": "[encoded data removed]",
      "text/plain": [
       "<Figure size 640x480 with 1 Axes>"
      ]
     },
     "metadata": {},
     "output_type": "display_data"
    }
   ],
   "source": [
    "X_range = np.linspace(X_data.min(), X_data.max(), n).reshape(-1, 1)\n",
    "Y_hat = Beta_hat[0] + Beta_hat[1] * X_range + Beta_hat[2] * X_range**2\n",
    "\n",
    "plt.scatter(X_data, Y_data, color='g', marker=\"X\")\n",
    "plt.plot(X_range, Y_hat, color='red')\n",
    "plt.xlabel('$X_i$')\n",
    "plt.ylabel('$\\hat{Y_i}$')\n",
    "plt.title('Линия регрессии:')\n",
    "plt.show()"
   ]
  },
  {
   "cell_type": "markdown",
   "id": "ca13bb56-d579-4f59-8cbf-d676f84f6b0e",
   "metadata": {},
   "source": [
    "### 6) Построить несмещенную оценку дисперсии. Провести исследование нормальности ошибок как в пункте 2.\n",
    "\n",
    "Оценка параметра $\\sigma^2 = s^2 = \\frac{RSS(\\hat{\\beta})}{(n - r)}$, где $r = rank(X) = 3$ <br>\n",
    "$s^2 = \\frac{184.2464}{50 - 3} = 3.9201$"
   ]
  },
  {
   "cell_type": "code",
   "execution_count": 20,
   "id": "1c74be48-7b87-44d2-8ef1-0bee5f8d3ee8",
   "metadata": {},
   "outputs": [
    {
     "name": "stdout",
     "output_type": "stream",
     "text": [
      "s_2: 3.9201\n"
     ]
    },
    {
     "data": {
      "image/png": "[encoded data removed]",
      "text/plain": [
       "<Figure size 640x480 with 1 Axes>"
      ]
     },
     "metadata": {},
     "output_type": "display_data"
    },
    {
     "name": "stdout",
     "output_type": "stream",
     "text": [
      " Интервал 1: (-4.2306, -2.8306), Количество чисел: 3.0\n",
      " Интервал 2: (-2.8306, -1.4306), Количество чисел: 8.0\n",
      " Интервал 3: (-1.4306, -0.0306), Количество чисел: 14.0\n",
      " Интервал 4: (-0.0306, 1.3694), Количество чисел: 13.0\n",
      " Интервал 5: (1.3694, 2.7694), Количество чисел: 8.0\n",
      " Интервал 6: (2.7694, 4.1694), Количество чисел: 3.0\n",
      " Интервал 7: (4.1694, 5.5694), Количество чисел: 1.0\n"
     ]
    }
   ],
   "source": [
    "r = 3\n",
    "s_2 = sum / (n - r)\n",
    "print(f's_2: {round(s_2, 4)}')\n",
    "\n",
    "Y_p = Beta_hat[0] + Beta_hat[1] * X[1] + Beta_hat[2] * X[1] ** 2\n",
    "err = Y - Y_p\n",
    "\n",
    "h = 1.4\n",
    "hist, bins, _ = plt.hist(err, bins=np.arange(min(err), max(err) + h, h), edgecolor='black', color='orange')\n",
    "plt.xlabel('Ошибки')\n",
    "plt.ylabel('Частота')\n",
    "plt.title('Оценки ошибок')\n",
    "plt.show()\n",
    "\n",
    "for i in range(len(hist)):\n",
    "    print(f' Интервал {i+1}: ({round(bins[i], 4)}, {round(bins[i+1], 4)}), Количество чисел: {hist[i]}')"
   ]
  },
  {
   "cell_type": "markdown",
   "id": "3600e8bd-7fb2-4684-829d-bcf131ac4cf4",
   "metadata": {},
   "source": [
    "Проверим гипотезу нормальности ошибок на уровне значимости по $\\alpha$ и $\\chi^2$.\n",
    "\n",
    "Основная гипотеза: $H_0 \\sim \\mathcal{N}(0, \\sigma^2)$<br>\n",
    "\n",
    "Переопределим интервалы, чтобы в каждом было не менее 5 значений:\n",
    "\n",
    "Для этого объединим первый со вторым, пятый с шестым и седьмым.\n",
    "\n",
    "Итого:\n",
    "\n",
    "$I_1 = (-\\infty, -1.4306], \\; \\nu_1 = 11$\n",
    "\n",
    "$I_2 = (-1.4306, -0.0306], \\; \\nu_2 = 14$\n",
    "\n",
    "$I_3 = (-0.0306, 1.3694], \\; \\nu_3 = 13$\n",
    "\n",
    "$I_{4} = (1.3694, +\\infty), \\; \\nu_{4} = 12$\n",
    "\n",
    "$11 + 14 + 13 + 12 = 50 = n$\n",
    "\n",
    "Посчитаем статистику критерия $\\chi^2$:\n",
    "\n",
    "Статистика критерия: $\\chi^2 = \\sum_{j=1}^{k}\\frac{ (\\nu_j - np_{jo})^2 }{ np_{j0} }$, где k - количество интервалов, $\\nu_i$ - абсолютная частота, <br>\n",
    "а $p_{j0} = \\mathbb{P}(\\xi \\in I_i) = \\left[ \\text{Пусть a и b - границы интервала} \\right] = F(b_i) - F(a_i)$ - вероятность попадания в интервал\n",
    "\n",
    "Квантиль $x_{\\alpha}:$ $ \\mathcal{K}_{r-d-1}(x_a) = 1 - \\alpha_1 = 1 - 0.01 = 0.99$\n"
   ]
  },
  {
   "cell_type": "code",
   "execution_count": 22,
   "id": "2d3977f2-f53b-4cc4-bbda-aa189069453b",
   "metadata": {},
   "outputs": [
    {
     "name": "stdout",
     "output_type": "stream",
     "text": [
      "Статистика критерия: 0.0606\n",
      "Параметр: 1.8938\n",
      "Квантиль x_alpha: 9.2103\n"
     ]
    }
   ],
   "source": [
    "n = len(Y_data)\n",
    "alpha = 0.01\n",
    "\n",
    "def min_sum(arg):\n",
    "    # Границы интервала\n",
    "    intervals = np.array([-1.4306, -0.0306, 1.3694])\n",
    "\n",
    "    # Гипотетический вероятности\n",
    "    probabilities = np.zeros(len(intervals) + 1)\n",
    "\n",
    "    probabilities[0] = stats.norm.cdf(intervals[0], 0, arg)\n",
    "    for i in range(1, len(intervals)):\n",
    "        probabilities[i] = stats.norm.cdf(intervals[i], 0, arg) - stats.norm.cdf(intervals[i-1], 0, arg)\n",
    "    probabilities[len(intervals)] = 1 - stats.norm.cdf(intervals[-1], 0, arg)\n",
    "\n",
    "    # Частоты\n",
    "    nu = np.array([11, 14, 13, 12])\n",
    "\n",
    "    sum_array = ((nu - n * probabilities) ** 2) / (n * probabilities)\n",
    "    return np.sum(sum_array)\n",
    "\n",
    "\n",
    "result = scipy.optimize.minimize_scalar(min_sum)\n",
    "print(f'Статистика критерия: {round(result.fun, 4)}')\n",
    "print(f'Параметр: {round(result.x, 4)}')\n",
    "\n",
    "x_alpha = stats.chi2(2).ppf(1 - alpha)\n",
    "\n",
    "print(f'Квантиль x_alpha: {round(x_alpha, 4)}')"
   ]
  },
  {
   "cell_type": "markdown",
   "id": "75417527-2624-4654-83da-b2d683131c76",
   "metadata": {},
   "source": [
    "$\\chi^2 < x_\\alpha \\Rightarrow$ принимаем $H_0$ \n",
    "\n",
    "Оценим расстояние полученной оценки до класса нормальных распределений по Колмогорову.\n",
    "\n",
    "$ \\sqrt{n} \\cdot max|F_n(y) - F(y)| \\sim K $,  $K$ - распределение Колмогорова. "
   ]
  },
  {
   "cell_type": "code",
   "execution_count": 27,
   "id": "8757db44-8f1e-4e70-bdd8-1d30a7cc69a0",
   "metadata": {},
   "outputs": [
    {
     "name": "stdout",
     "output_type": "stream",
     "text": [
      "Dn: 0.1161\n",
      "x_alpha: 0.2107\n",
      "Основная гипотеза принимается\n"
     ]
    }
   ],
   "source": [
    "def find_Fn(x, values):\n",
    "    n = len(Y_data)\n",
    "    sum = 0\n",
    "    for i in values:\n",
    "        if i >= x:\n",
    "            return sum / n\n",
    "        sum += 1\n",
    "    return sum / n\n",
    "\n",
    "X_values = np.arange(min(err) - h, max(err) + h, h)\n",
    "sorted_errors = np.sort(err)\n",
    "\n",
    "Fn = np.array([find_Fn(x, sorted_errors) for x in X_values])\n",
    "F = np.array([stats.norm.cdf(x, 0, np.sqrt(s_2)) for x in X_values])\n",
    "\n",
    "Dn = np.max(np.abs(Fn - F)) * np.sqrt(n)\n",
    "print(f'Dn: {round(Dn, 4)}')\n",
    "x_alpha = stats.ksone.ppf(1 - alpha, n)\n",
    "print(f'x_alpha: {round(x_alpha, 4)}')\n",
    "\n",
    "if Dn >= x_alpha:\n",
    "  print('Основная гипотеза отвергается')\n",
    "else:\n",
    "  print('Основная гипотеза принимается')"
   ]
  },
  {
   "cell_type": "code",
   "execution_count": 26,
   "id": "dffd4409-56b3-4449-bf2d-35244c8e83ea",
   "metadata": {},
   "outputs": [
    {
     "data": {
      "image/png": "[encoded data removed]",
      "text/plain": [
       "<Figure size 640x480 with 1 Axes>"
      ]
     },
     "metadata": {},
     "output_type": "display_data"
    },
    {
     "data": {
      "image/png": "[encoded data removed]",
      "text/plain": [
       "<Figure size 640x480 with 1 Axes>"
      ]
     },
     "metadata": {},
     "output_type": "display_data"
    }
   ],
   "source": [
    "plt.title('$F_n(x)$ и $F(x)$')\n",
    "plt.xlabel('$x_i$') \n",
    "plt.ylabel('Значения функций')\n",
    "plt.plot(X_values, F, color='green')\n",
    "plt.plot(X_values, Fn, '--', color='red')\n",
    "plt.show()\n",
    "\n",
    "hist, bin_edges, _ = plt.hist(err, bins=np.arange(min(err), max(err) + h, h), density=True, edgecolor='black', color='orange')\n",
    "plt.title('Гистограмма ошибок')\n",
    "plt.xlabel('Значение')\n",
    "plt.ylabel('Частота')\n",
    "values = np.linspace(min(err), max(err), 100)\n",
    "plt.plot(values, stats.norm.pdf(values, err.mean(), err.std()), color='red')\n",
    "\n",
    "plt.show()"
   ]
  },
  {
   "cell_type": "markdown",
   "id": "6fa7dcaa-72a8-4128-ac2e-3eafe87f41df",
   "metadata": {},
   "source": [
    "### 7) В предположении нормальности ошибок построить доверительные интервалы для параметров $\\beta_0$, $\\beta_1$, $\\beta_2$  уровня доверия 1 − $\\alpha$. Написать уравнение доверительного эллипсоида уровня доверия 1 − $\\alpha$.\n",
    "\n",
    "ДНО функция: $\\psi = C^T \\beta $\n",
    "\n",
    "Элемент дисперсии оценки: $ b_\\psi = C^T (XX^T)^{-1}C$\n",
    "\n",
    "Тогда: $ \\cfrac{\\widehat \\psi - \\psi}{s\\sqrt{b}} \\sim S_{n-r} $\n",
    "\n",
    "Доверительный интервал уровня доверия $1 - \\alpha$:\n",
    "\n",
    "$ P_\\theta(-x_\\alpha \\le \\cfrac{\\widehat \\psi - \\psi}{s\\sqrt{b}} \\le x_\\alpha) = 1 -\\alpha $, \n",
    "где квантиль $ x_\\alpha : S_{n-r}(x_\\alpha) = 1 -\\frac{\\alpha}{2} $\n",
    "\n",
    "$ \\widehat \\psi -x_{\\alpha}s\\sqrt{b} \\le \\psi \\le \\widehat \\psi -x_{\\alpha}s\\sqrt{b} $ - доверительный интервал для $\\psi$\n",
    "\n",
    "- Для $\\beta_0:$\n",
    "\n",
    "  $\\psi_{\\beta_0} = \\begin{pmatrix}\n",
    "    1 \\\\\n",
    "    0 \\\\\n",
    "    0\n",
    "    \\end{pmatrix}  ^ {\\intercal} \\cdot  \\begin{pmatrix}\n",
    "    \\beta_0 \\\\\n",
    "    \\beta_1 \\\\\n",
    "    \\beta_2\n",
    "    \\end{pmatrix}$\n",
    "\n",
    "    $b_{\\psi_{\\beta_0}} =  \\begin{pmatrix}\n",
    "    1 & 0 & 0\n",
    "    \\end{pmatrix} (XX^{\\intercal})^{-1} \\begin{pmatrix}\n",
    "    1 \\\\ 0 \\\\ 0\n",
    "    \\end{pmatrix} = 0.0467$\n",
    "\n",
    "    \n",
    "  \n",
    "- Для $\\beta_1:$\n",
    "\n",
    "  $\\psi_{\\beta_1} = \\begin{pmatrix}\n",
    "    0 \\\\\n",
    "    1 \\\\\n",
    "    0\n",
    "    \\end{pmatrix}  ^ {\\intercal} \\cdot  \\begin{pmatrix}\n",
    "    \\beta_0 \\\\\n",
    "    \\beta_1 \\\\\n",
    "    \\beta_2\n",
    "    \\end{pmatrix}$\n",
    "  \n",
    "    $b_{\\psi_{\\beta_1}} =  \\begin{pmatrix}\n",
    "    0 & 1 & 0\n",
    "    \\end{pmatrix} (XX^{\\intercal})^{-1} \\begin{pmatrix}\n",
    "    0 \\\\ 1 \\\\ 0\n",
    "    \\end{pmatrix} = 0.0316$\n",
    "\n",
    "- Для $\\beta_2:$\n",
    "\n",
    "  $\\psi_{\\beta_2} = \\begin{pmatrix}\n",
    "    0 \\\\\n",
    "    0 \\\\\n",
    "    1\n",
    "    \\end{pmatrix}  ^ {\\intercal} \\cdot  \\begin{pmatrix}\n",
    "    \\beta_0 \\\\\n",
    "    \\beta_1 \\\\\n",
    "    \\beta_2\n",
    "    \\end{pmatrix}$\n",
    "  \n",
    "    $b_{\\psi_{\\beta_2}} =  \\begin{pmatrix}\n",
    "    0 & 0 & 1\n",
    "    \\end{pmatrix} (XX^{\\intercal})^{-1} \\begin{pmatrix}\n",
    "    0 \\\\ 0 \\\\ 1\n",
    "    \\end{pmatrix} = 0.0316$\n",
    "$ \\cfrac{\\widehat \\psi - \\psi}{s\\sqrt{b_{\\psi_{\\beta_0}}}} \\sim S_{n-3} $\n",
    "\n",
    "$ \\cfrac{\\widehat \\psi - \\psi}{s\\sqrt{b_{\\psi_{\\beta_1}}}} \\sim S_{n-3} $\n",
    "\n",
    "$ \\cfrac{\\widehat \\psi - \\psi}{s\\sqrt{b_{\\psi_{\\beta_2}}}} \\sim S_{n-3} $\n",
    "\n",
    "Найдем $x_{\\alpha} = S^{-1}_{n - 3}(1 - \\frac{\\alpha}{2}) = 2.6822$\n"
   ]
  },
  {
   "cell_type": "code",
   "execution_count": 28,
   "id": "c7bd0753-10a2-4381-aa71-75a48b3d3288",
   "metadata": {},
   "outputs": [
    {
     "name": "stdout",
     "output_type": "stream",
     "text": [
      "b_0: 0.0556\n",
      "b_1: 0.3651\n",
      "b_1: 0.3651\n",
      "x_alpha: 2.6846\n",
      "[5.5477, 8.0534] для beta_0\n",
      "[-6.3344, 0.0887] для beta_1\n",
      "[-1.9026, 4.5205] для beta_2\n"
     ]
    }
   ],
   "source": [
    "c_0 = np.array([1, 0, 0])\n",
    "b_0 = np.dot(np.dot(c_0.T, XX_T_1), c_0)\n",
    "print(f'b_0: {round(b_0, 4)}')\n",
    "\n",
    "c_1 = np.array([0, 1, 0])\n",
    "b_1 = np.dot(np.dot(c_1.T, XX_T_1), c_1)\n",
    "print(f'b_1: {round(b_1, 4)}')\n",
    "\n",
    "c_2 = np.array([0, 0, 1])\n",
    "b_2 = np.dot(np.dot(c_1.T, XX_T_1), c_1)\n",
    "print(f'b_1: {round(b_1, 4)}')\n",
    "\n",
    "alpha = 0.01\n",
    "x_alpha = stats.t(n - 3).ppf(1 - alpha / 2)\n",
    "print(f'x_alpha: {round(x_alpha, 4)}')\n",
    "\n",
    "left = Beta_hat[0] - x_alpha * np.sqrt(s_2) * np.sqrt(b_0)\n",
    "right = Beta_hat[0] + x_alpha * np.sqrt(s_2) * np.sqrt(b_0)\n",
    "print(f'[{round(left, 4)}, {round(right, 4)}] для beta_0')\n",
    "\n",
    "left = Beta_hat[1] - x_alpha * np.sqrt(s_2) * np.sqrt(b_1)\n",
    "right = Beta_hat[1] + x_alpha * np.sqrt(s_2) * np.sqrt(b_1)\n",
    "print(f'[{round(left, 4)}, {round(right, 4)}] для beta_1')\n",
    "\n",
    "left = Beta_hat[2] - x_alpha * np.sqrt(s_2) * np.sqrt(b_2)\n",
    "right = Beta_hat[2] + x_alpha * np.sqrt(s_2) * np.sqrt(b_2)\n",
    "print(f'[{round(left, 4)}, {round(right, 4)}] для beta_2')"
   ]
  },
  {
   "cell_type": "markdown",
   "id": "2fe3d95c-b46f-41aa-ba4e-79f92a91f649",
   "metadata": {},
   "source": [
    "$ \\beta_0 \\in [5.5477, 8.0534]$\n",
    "\n",
    "$ \\beta_1 \\in [-6.33445, 0.0887]$\n",
    "\n",
    "$ \\beta_2 \\in [-1.9026, 4.5205]$\n",
    "\n",
    "Построим доверительный эллипс:\n",
    "\n",
    "Доверительный эллипсоид уровня доверия 1 - $\\alpha$ - функция параметра $\\psi$:\n",
    "\n",
    "$ A_\\alpha = \\{x: (x - \\widehat \\psi)^T (C^T (XX^T)^{-1}C)^{-1}(x - \\widehat \\psi) \\le qs^2x_\\alpha\\}$, где $ x_\\alpha = F_{q, n-r}(x_\\alpha) = 1 - \\alpha$\n",
    "\n",
    "$C = \\begin{pmatrix}\n",
    "    1 & 0 & 0 \\\\\n",
    "    0 & 1 & 0 \\\\\n",
    "    0 & 0 & 1\n",
    "\\end{pmatrix} $\n",
    "\n",
    "Пусть $ \\begin{pmatrix}\n",
    "    x\\\\\n",
    "    y\n",
    "\\end{pmatrix}  = P(\\widehat \\psi - \\psi)$, где P - матрица собственных векторов.\n",
    "\n",
    "Тогда уравнение доверительного эллипсоида выглядит таким образом:\n",
    "\n",
    "$(\\widehat \\psi -  \\psi)^T (C^T (XX^T)^{-1}C)^{-1}(\\widehat \\psi -  \\psi) = \\lambda_1 x^2 + \\lambda_2 y^2 + \\lambda_2 z^2 \\le qs^2x_\\alpha$, где $\\lambda_1$, $\\lambda_2$ и $\\lambda_3$ - собственные числа матрицы $XX^T$\n",
    "\n",
    "$\\cfrac{\\lambda_1}{qs^2x_\\alpha}x^2 + \\cfrac{\\lambda_2}{qs^2x_\\alpha}y^2  + \\cfrac{\\lambda_2}{qs^2x_\\alpha}z^2\\le 1$\n",
    "\n",
    "$\\begin{pmatrix} \n",
    "x \\\\ y \\\\ z\n",
    "\\end{pmatrix} =\n",
    "\\begin{pmatrix} \n",
    "0.2883 & 0.9346 & 0.2085\\\\ \n",
    "0.4616 & 0.055 & -0.885\\\\\n",
    "0.8389 & -0.3515 & 0.4155\n",
    "\\end{pmatrix} \n",
    "\\cdot \\begin{pmatrix} \n",
    "6.8001 - \\beta_0 \\\\ \n",
    "-3.1228 - \\beta_1 \\\\\n",
    "1.309 - \\beta_2\n",
    "\\end{pmatrix} = $\n",
    "\n",
    "$ \\begin{pmatrix} \n",
    "0.2883\\cdot(6.8001 - \\beta_0) + 0.9346 \\cdot(-3.1228 - \\beta_1) + 0.2085 \\cdot(1.309 - \\beta_2)\\\\ \n",
    "0.4616\\cdot(6.8001 - \\beta_0) + 0.055 \\cdot(-3.1228 - \\beta_1) - 0.885 \\cdot(1.309 - \\beta_2)\\\\\n",
    "0.8389\\cdot(6.8001 - \\beta_0) - 0.3515 \\cdot(-3.1228 - \\beta_1) + 0.4155 \\cdot(1.309 - \\beta_2)\n",
    "\\end{pmatrix}$\n",
    "\n",
    "Уравнение эллипса:\n",
    "\n",
    "$\\cfrac{338.9696}{3 \\cdot 3.9201 \\cdot 4.218}x^2 + \\cfrac{24.8789}{3 \\cdot 3.9201 \\cdot 4.218}y^2  + \\cfrac{2.1515}{3 \\cdot 3.9201 \\cdot 4.218}z^2\\le 1$\n",
    "\n",
    "$6.8334x^2 + 0.5015y^2  + 0.0434z^2\\le 1$\n",
    "\n",
    "$6.8334 \\cdot (0.2883\\cdot(6.8001 - \\beta_0) + 0.9346 \\cdot(-3.1228 - \\beta_1) + 0.2085 \\cdot(1.309 - \\beta_2))^2 +$ <br>\n",
    "$+ 0.5015 \\cdot (0.4616\\cdot(6.8001 - \\beta_0) + 0.055 \\cdot(-3.1228 - \\beta_1) - 0.885 \\cdot(1.309 - \\beta_2))^2 +$ <br>\n",
    "$+ 0.0434 \\cdot (0.8389\\cdot(6.8001 - \\beta_0) - 0.3515 \\cdot(-3.1228 - \\beta_1) + 0.4155 \\cdot(1.309 - \\beta_2))^2 \\le 1$"
   ]
  },
  {
   "cell_type": "code",
   "execution_count": 31,
   "id": "f8d0792f-94aa-4733-aca2-e3ea247c4fcd",
   "metadata": {},
   "outputs": [
    {
     "name": "stdout",
     "output_type": "stream",
     "text": [
      "\n",
      "Матрица перехода: \n",
      " [[ 0.28831559  0.93456148  0.20849213]\n",
      " [ 0.461639    0.05509734 -0.88535513]\n",
      " [ 0.83890616 -0.35150979  0.41554461]]\n",
      "\n",
      "\n",
      "Собственные числа: \n",
      " [338.9696346   24.87886365   2.15150174]\n",
      "\n",
      "x_alpha: 4.218\n",
      "Большая полуось: 0.3123\n",
      "Малая полуось: 1.1529\n",
      "Beta: [ 6.80055556 -3.12285714  1.30896825]\n",
      "6.8334x^2 + 0.5015y^2 + 0.0434z^2\n"
     ]
    }
   ],
   "source": [
    "eigenvalues, eigenvectors = np.linalg.eig(XX_T)\n",
    "\n",
    "print(f'\\nМатрица перехода: \\n {eigenvectors}\\n')\n",
    "print(f'\\nСобственные числа: \\n {eigenvalues}\\n')\n",
    "\n",
    "x_alpha = stats.f(3, n - 2).ppf(1 - alpha)\n",
    "print(f'x_alpha: {round(x_alpha, 4)}')\n",
    "\n",
    "a = np.sqrt((2 * s_2 * x_alpha) / eigenvalues[0])\n",
    "b =  np.sqrt((2 * s_2 * x_alpha) / eigenvalues[1])\n",
    "\n",
    "print(f'Большая полуось: {round(a, 4)}')\n",
    "print(f'Малая полуось: {round(b, 4)}')\n",
    "\n",
    "print(f'Beta: {Beta_hat}')\n",
    "\n",
    "factors = []\n",
    "denominator = 3 * s_2 * x_alpha\n",
    "for lmbd in eigenvalues:\n",
    "    factors.append(lmbd / denominator)\n",
    "    \n",
    "print(f'{round(factors[0] , 4)}x^2 + {round(factors[1] , 4)}y^2 + {round(factors[2] , 4)}z^2')"
   ]
  },
  {
   "cell_type": "markdown",
   "id": "338ccb4f-223c-423e-9dd2-60a8bbaeb2ce",
   "metadata": {},
   "source": [
    "### 8) Сформулировать гипотезу линейной регрессинной зависимости переменной Y от переменной X и проверить её значимость на уровне $\\alpha$.\n",
    "\n",
    "Основная гипотеза:\n",
    "$ H_0 : \\beta_2 = 0$\n",
    "\n",
    "Альтернативная гипотеза:\n",
    "$ H_1 : \\beta_2 \\neq 0$\n",
    "\n",
    "ДНО - функция: \n",
    "$\\psi = C^T \\beta $\n",
    "\n",
    "$ C = \\begin{pmatrix}\n",
    "    0 \\\\\n",
    "    0 \\\\\n",
    "    1\n",
    "\\end{pmatrix} \\Rightarrow$, $\\widehat \\psi = \\widehat \\beta_2 $\n",
    "\n",
    "$b_{\\psi_{\\widehat \\beta_2}} =  \n",
    "\\begin{pmatrix}\n",
    "0 & 0 & 1\n",
    "\\end{pmatrix} (XX^{\\intercal})^{-1} \n",
    "\\begin{pmatrix}\n",
    "0 \\\\ 0 \\\\ 1\n",
    "\\end{pmatrix} = 0.0873$\n",
    "\n",
    "$\\mathcal{F} = \\cfrac{\\widehat \\psi^T ((C^T (XX^T)^{-1}C)^{-1}) \\widehat \\psi}{qs^2} \\sim F_{q, n-r}$\n",
    "\n",
    "$\\mathcal{F} = \\cfrac{{\\widehat \\beta_2} ^2}{bqs^2} $, так как $\\widehat \\psi = \\widehat \\beta_1 $\n",
    "\n",
    "$x_\\alpha: F_{q, n-r}(x_\\alpha) = 1 - \\alpha $"
   ]
  },
  {
   "cell_type": "code",
   "execution_count": 35,
   "id": "f73d82e0-fa17-40f9-b638-fb26f61b9f9b",
   "metadata": {},
   "outputs": [
    {
     "name": "stdout",
     "output_type": "stream",
     "text": [
      "b: 0.0873\n",
      "F: 5.0065\n",
      "x_alpha: 7.1942\n"
     ]
    }
   ],
   "source": [
    "c = np.array([0, 0, 1])\n",
    "b = np.dot(np.dot(c.T, XX_T_1), c)\n",
    "print(f'b: {round(b, 4)}')\n",
    "\n",
    "q = 1\n",
    "r = 2\n",
    "F = Beta_hat[2] ** 2 / (b * q * s_2)\n",
    "print(f'F: {round(F, 4)}')\n",
    "\n",
    "x_alpha = stats.f(q, n - r).ppf(1 - alpha)\n",
    "print(f'x_alpha: {round(x_alpha, 4)}')"
   ]
  },
  {
   "cell_type": "markdown",
   "id": "cdb57a19-21f8-424b-bccc-652d6d7ba64e",
   "metadata": {},
   "source": [
    "Так как $\\mathcal{F} < x_\\alpha$, принимаем $H_0$ "
   ]
  },
  {
   "cell_type": "markdown",
   "id": "a603bc7b-02be-4504-baf1-3e6753b9f7e3",
   "metadata": {},
   "source": [
    "## Выводы\n",
    "\n",
    "В ходе данной лабораторной работы сформулирована модель линейной регрессии для переменной Y от переменной X с использованием метода наименьших квадратов (МНК) для получения оценок параметров. Также построены несмещенные оценки дисперсии, проверена гипотеза о нормальности ошибок на уровне значимости $\\alpha$ по $\\chi^2 $ и оценено расстояние до класса нормальных распределений по Колмогорову. Для параметров построены доверительные интервалы с уровнем доверия \n",
    ", а также доверительные эллипсоиды. Проведена проверка гипотезы о независимости переменной Y от переменной X на соответствующем уровне значимости, а также о линейной зависимости Y от X с введением дополнительного параметра."
   ]
  },
  {
   "cell_type": "code",
   "execution_count": null,
   "id": "854c5583-a331-4c4b-8552-3a67bd7cbf4b",
   "metadata": {},
   "outputs": [],
   "source": []
  }
 ],
 "metadata": {
  "kernelspec": {
   "display_name": "Python 3 (ipykernel)",
   "language": "python",
   "name": "python3"
  },
  "language_info": {
   "codemirror_mode": {
    "name": "ipython",
    "version": 3
   },
   "file_extension": ".py",
   "mimetype": "text/x-python",
   "name": "python",
   "nbconvert_exporter": "python",
   "pygments_lexer": "ipython3",
   "version": "3.11.6"
  }
 },
 "nbformat": 4,
 "nbformat_minor": 5
}
