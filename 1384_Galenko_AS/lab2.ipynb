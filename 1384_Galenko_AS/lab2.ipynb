{
 "cells": [
  {
   "cell_type": "markdown",
   "id": "920e0f8c-9bda-4b6a-880d-c9230d8683f3",
   "metadata": {},
   "source": [
    "# Лабораторная работа №2: Классические методы математической статистики\n",
    "\n",
    "---\n",
    "\n",
    "\n",
    "Выполнил студент гр. 1384 Галенко Алексей <br>\n",
    "Вариант №4"
   ]
  },
  {
   "cell_type": "markdown",
   "id": "5d807c55-9013-4d2a-a06d-97b24d7eb660",
   "metadata": {},
   "source": [
    "## Цель работы\n",
    "\n",
    "Научится применять методы математической статистики для визуализации и анализа полученных данных; сформировать навыки реализации методов с помощью прикладных программных пакетов."
   ]
  },
  {
   "cell_type": "markdown",
   "id": "03ee4f58-a4c5-43f6-8bfb-19a08d1b8db5",
   "metadata": {},
   "source": [
    "## Основные теоретические положения\n",
    "\n",
    "1.Выборочные числовые характеристики:\n",
    "Мат.ожидание $\\overline{X}=\\frac{1}{n}\\sum_{i=1}^{n}X_{i}$\n",
    "\n",
    "Дисперсия $S^{2}=\\frac{1}{n}\\sum_{i=1}^{n}\\left( X_{i}-\\overline{X} \\right)^{2}=\\overline{X^{2}}-\\overline{X}^{2}$\n",
    "\n",
    "Коэф.асимметрии (скошености) $\\widehat{S_{kew}}X=\\frac{\\left(\\frac{1}{n}\\sum_{i=1}^{n}\\left( X_{i}-\\overline{X} \\right)^{3} \\right)}{S^{3}}$\n",
    "\n",
    "Коэф.эксцесса (островершинности) $\\widehat{K_{urt}}X=\\frac{\\frac{1}{n}\\sum_{i=1}^{n}\\left( X_{i}-\\overline{X}^{4} \\right)}{S^{4}}-3$\n",
    "\n",
    "2.Оценка Максимального Правдоподобия (ОМП):\n",
    "\n",
    "Если $X_{1},...,X_{n}$-выборка из распределения с плотностью распределения $P_{\\theta}, \\theta\\in \\Theta$, то\n",
    "\n",
    "2.1 Функция правдоподобия распадается в произведения $L(\\overrightarrow{X},\\theta)=\\prod_{i=1}^{n}P_{\\theta}(X_{i})$\n",
    "\n",
    "2.2 Логарифм функции правдоподобия представляется в виде суммы $LL(\\overrightarrow{X},\\theta)=\\ln L(\\overrightarrow{X},\\theta)=\\sum_{i=1}^{n}\\ln P_{\\theta}(X_{i})$\n",
    "\n",
    "2.3 В силу монотонности логарифма задача максимизации функции правдоподобия сводится к задаче максимизации ее логарифма по всем $\\theta\\in \\Theta  LL(\\overrightarrow{X}),\\theta=\\sum_{i=1}^{n}\\ln P_{\\theta}(X_{i})$\n",
    "\n",
    "2.4 Если \\theta - d-мерный параметр и $P_{\\theta}$ дифференцируема по $\\theta$, то для нахождения максимума надо найти решения системы уравнений: U$(\\overrightarrow{X},\\theta)=\\frac{\\partial }{\\partial \\theta}LL(\\overrightarrow{X},\\theta)=0, i=\\overline{1,d}$\n",
    "\n",
    "3. Оценка метода моментов (ОММ)\n",
    "\n",
    "Пусть $X_{1},...,X_{n}$-выбока из распределения $P_{\\theta}, \\theta=(\\theta_{1},...,\\theta_{d})$\n",
    "\n",
    "$\\exists \\mu_{k}(\\theta)=\\mathbb{E}X^{k}_{1}, k=\\overline{1,d}$\n",
    "\n",
    "Если $\\exists$ ! решение $\\widetilde{\\theta}(X)$ системы уравнений: $\\widehat{\\mu^{k}}(\\widetilde{\\theta})=\\mu_{k}(\\theta), k=\\overline{1,d}$, где $\\widetilde{\\theta}(X)=\\frac{1}{n}\\sum_{i=1}^{n}X^{k}_{i}$-выборочный момент k-го порядка, то $\\widetilde{\\theta}(X)$ называется оценкой по методу моментов\n",
    "\n",
    "4. НРМД-оценки (несмещенная оценка)\n",
    "\n",
    "Оценка $\\widehat{\\theta}(X)$ параметра $\\theta$ называется несмещенной, если при любом значении параметра $\\theta\\in \\Theta: \\mathbb{E}\\widehat{\\theta}(X)=\\theta$\n",
    "\n",
    "Смещением оценки называется величина: $bias_{\\widehat{\\theta}}(\\theta)=\\mathbb{E}_{\\theta}\\widehat{\\theta}(X)-\\theta$\n",
    "\n",
    "Алгоритм несмещенного оценивания:\n",
    "\n",
    "4.1 Найти оценку $\\widehat{\\theta}(T)$, являющуюся функцией от минимальной достаточной статистики T(e.g.ОМП)\n",
    "\n",
    "4.2 Доказать полноту МДС T\n",
    "\n",
    "4.3 Скорректировать смещение:$\\widetilde{\\theta}(T)=f(\\widehat{\\theta}(T),T): \\mathbb{E}_{\\theta}\\widetilde{\\theta}(T)=\\theta,\\forall \\theta\\in \\Theta$\n",
    "\n",
    "5. Асимптотический доверительный интервал (АДИ)\n",
    "\n",
    "5.1 На базе Асимптотической нормальности оценки $\\widehat{\\theta}$\n",
    "\n",
    "5.1.1 Асимптотическая нормальность $\\sqrt{n}\\left( \\widehat{\\theta}(\\overrightarrow{X})-\\theta)\\right)\\sim \\mathcal{N}\\left(0,\\sigma^{2}(\\theta)\\right)$\n",
    "\n",
    "5.1.2 Тогда $\\sqrt{n}\\frac{\\widehat{\\theta}(\\overrightarrow{X})-\\theta}{\\sigma\\left(\\widehat{\\theta}(\\overrightarrow{X})\\right)}$    \n",
    "\n",
    "5.1.3 Выбираем $X_{\\alpha}: \\Phi(X_{\\alpha})=1-\\frac{\\alpha}{2}$\n",
    "\n",
    "5.1.4 А.Д.И. $\\left[ \\widehat{\\theta}(\\overrightarrow{X})-\\frac{X_{\\alpha}\\cdot \\sigma\\left( \\widehat{\\theta}(\\overrightarrow{X}) \\right)}{\\sqrt{n}}; \\widehat{\\theta}(\\overrightarrow{X})+\\frac{X_{\\alpha}\\cdot \\sigma\\left( \\widehat{\\theta}(\\overrightarrow{X}) \\right)}{\\sqrt{n}}\\right]$\n",
    "\n",
    "5.2 на базе ОМП\n",
    "\n",
    "5.2.1 Пусть $\\widehat{\\theta}(\\overrightarrow{X})$-ОМП\n",
    "\n",
    "5.2.2 При выполнении опр.условий регулярности: $\\sqrt{n}\\left( \\widehat{\\theta}(\\overrightarrow{X})-\\theta)\\right)\\sim \\mathcal{N}\\left(0,\\frac{1}{I(\\theta)}\\right), I(\\theta)=-\\mathbb{E}\\left( \\frac{\\partial^{2} LL}{\\partial \\theta^{2}} \\right)$-информация Фишера\n",
    "\n",
    "5.2.3 Тогда $\\sqrt{n\\cdot I\\left( \\widehat{\\theta}(\\overrightarrow{X}) \\right)}\\cdot \\left( \\widehat{\\theta}(\\overrightarrow{X})-\\theta \\right)\\sim \\mathcal{N}(0,1)$\n",
    "\n",
    "5.2.4 Выбираем $X_{\\alpha}: \\Phi(X_{\\alpha})=1-\\frac{\\alpha}{2}$\n",
    "\n",
    "5.2.5 А.Д.И $\\left[ \\widehat{\\theta}(\\overrightarrow{X})-\\frac{X_{\\alpha}}{\\sqrt{n\\cdot I\\left( \\widehat{\\theta}(\\overrightarrow{X}) \\right)}};\\widehat{\\theta}(\\overrightarrow{X})+\\frac{X_{\\alpha}}{\\sqrt{n\\cdot I\\left( \\widehat{\\theta}(\\overrightarrow{X}) \\right)}} \\right]$\n",
    "\n",
    "6. Критерий $\\chi^2$ для проверки гипотез\n",
    "\n",
    "основан на справнении теоритической плотности распределения и гистограммы, либо теоритической вероятностной меры и полигона частот.\n",
    "\n",
    "Разобъем множество значений сл. вел. X на $N$ интервалов $I_{1}, ..., I_{N}:$ $I_{i} = (a_{i-1}, a_i], i = \\overline {1,N}$. данные интервалы не пересекаются и покрывают всё множество возможных значений сл. вел. X.\n",
    "\n",
    "Обозначим через $p_{i}$ теоритическую вероятность попадания сл. вел. X в интервал $I_{i}$, при условии, что справедлива $H_{0}$.\n",
    "\n",
    "$p_{i} = P(X \\in I_{i}|H_{0})$\n",
    "\n",
    "Через $n_{i}$ обозначим число наблюдений нашей выборки, попавших в соответветствующий интервал $I_{i}$.\n",
    "\n",
    "$n_{i} = num(x_{j} \\in I_{i})$\n",
    "\n",
    "Статистика критерия основана на сравнении относительной частоты и теоритической.\n",
    "\n",
    "$\\chi^{2}_{набл} = \\sum \\limits_{i=1}^{N} \\frac{n}{p_{i}} \\bigg ( \\frac{n_{i}}{n} - p_{i} \\bigg )^{2} = \\sum \\limits_{i=1}^{N} \\frac{(n_{i} - p_{i} n)^{2}}{n p_{i}} \\sim \\chi^{2}_{N-1}$\n",
    "\n",
    "Если $\\mathcal{X}^{2}_{N-1,1-\\alpha_{1}} \\lt \\chi^2_{набл}$, то гипотезу отвергаем\n",
    "\n",
    "Если $\\mathcal{X}^{2}_{N-1,1-\\alpha_{1}} \\gt \\chi^2_{набл}$, то гипотезу принимаем\n",
    "\n",
    "7. теорема Колмогорова\n",
    "\n",
    "$D_{n}(\\overrightarrow{X}) = \\overset{}{\\underset{X \\in \\mathbb R}{sup}} |F_{0}(X_{i}) - F_{n}(X_{i})|$\n",
    "\n",
    "Если гипотеза $H_{0}$ верна, и $F_{0}(X)$ - непрерывная ф-я на $\\mathbb R$, тогда имеет место сходимость\n",
    "\n",
    "$P(\\sqrt{n} D_{n}(\\overrightarrow{X}) < z) \\xrightarrow[n \\rightarrow \\infty]{} K(z)$, где\n",
    "\n",
    "$K(z)=1-\\alpha$ - ф-я распределения Колмогорова.\n",
    "\n",
    "Если $D_{n} \\lt z$, то гипотезу принимаем\n",
    "\n",
    "Если $D_{n} \\gt z$, то гипотезу отвергаем\n",
    "\n",
    "8. Наиболее мощный критерий простой гипотезы\n",
    "\n",
    "Для основной гипотезы $H_{0}: \\theta=\\theta_{0}$ и альтернативной гипотезы $H_{1}: \\theta=\\theta_{1}$, где $\\theta_{0}$ и $\\theta_{1}$ - фиксированные параметры, мы можем построить статистику правдоподобия:\n",
    "\n",
    "$LR(\\overrightarrow{X},\\theta_{1},\\theta_{0})=\\frac{L(\\overrightarrow{X},\\theta_{1})}{L(\\overrightarrow{X},\\theta_{0})}=\\frac{P_{\\theta_{1}}(X)}{P_{\\theta_{0}}(X)}$ - статистика отношений правдоподобия\n",
    "\n",
    "где $L(\\overrightarrow{X},\\theta_{1})$ - функция правдоподобия для альтернативной гипотезы, а $L(\\overrightarrow{X}\\theta_{0})$ - функция правдоподобия для основной гипотезы.\n",
    "\n",
    "Наиболее мощным критерием будет критическая область, в которой наблюдаемое значение статистики правдоподобия $LR(\\overrightarrow{X},\\theta_{1},\\theta_{0})$ будет отклоняться от значения 1 в сторону более высоких значений.\n",
    "\n",
    "Чтобы построить критическую область, мы должны задать уровень значимости $\\alpha$ - вероятность ошибки первого рода. Затем мы находим критическое значение $c$ такое, что $P\\left(LR(\\overrightarrow{X},\\theta_{1},\\theta_{0}) > c | H_{0} \\right) = \\alpha$, где $P\\left(LR(\\overrightarrow{X},\\theta_{1},\\theta_{0}) > c | H_{0}\\right)$ - вероятность получить наблюдаемое значение статистики правдоподобия, большее или равное $c$, при условии, что основная гипотеза верна.\n",
    "\n",
    "$LR(\\overrightarrow{X},\\theta_{1},\\theta_{0})\\gt c$, то принимаем основную гипотезу\n",
    "\n",
    "$LR(\\overrightarrow{X},\\theta_{1},\\theta_{0})\\lt c$, то отвергаем основную гипотезу"
   ]
  },
  {
   "cell_type": "markdown",
   "id": "d2532d40-4b13-4fb0-80dc-9167725b9e3d",
   "metadata": {},
   "source": [
    "## Постановка задачи\n",
    "\n",
    "Для полученных в результате эксперимента наборов данных выполнить статистическую обработку. Полученные результаты содержательно проинтерпретировать."
   ]
  },
  {
   "cell_type": "markdown",
   "id": "74d48dbf-83ca-4747-a5d5-5e93c2773052",
   "metadata": {
    "editable": true,
    "slideshow": {
     "slide_type": ""
    },
    "tags": []
   },
   "source": [
    "## Выполнение работы"
   ]
  },
  {
   "cell_type": "markdown",
   "id": "bd910df8-4235-4da2-92bd-7be85cfe4a14",
   "metadata": {},
   "source": [
    "### Первое задание"
   ]
  },
  {
   "cell_type": "code",
   "execution_count": 1,
   "id": "bee332fe-454b-4583-ac63-b80d1918ce73",
   "metadata": {},
   "outputs": [
    {
     "name": "stdout",
     "output_type": "stream",
     "text": [
      "[2, 3, 1, 0, 4, 0, 0, 1, 1, 2, 5, 2, 3, 2, 4, 2, 2, 1, 3, 5, 2, 2, 1, 4, 2, 3, 1, 2, 1, 1, 1, 3, 3, 5, 1, 1, 1, 2, 0, 3, 1, 5, 1, 6, 1, 0, 1, 1, 1, 0]\n"
     ]
    }
   ],
   "source": [
    "import numpy as np\n",
    "import matplotlib.pyplot as plt\n",
    "data = [2, 3, 1, 0, 4, 0, 0, 1, 1, 2, 5, 2, 3, 2, 4, 2, 2, 1, 3, 5, 2, 2, 1, 4, 2, 3, 1, 2, 1, 1, 1, 3, 3, 5, 1, 1, 1, 2, 0, 3, 1, 5, 1, 6, 1, 0, 1, 1, 1, 0]\n",
    "print(data);"
   ]
  },
  {
   "cell_type": "markdown",
   "id": "77a5b464-025a-46f7-a4b9-4810ad64681e",
   "metadata": {},
   "source": [
    "#### a) Построить вариационный ряд, эмперическую функцию распределения и гистограмму частот.\n",
    "<br>Формула эмперической функции распределения:<br>\n",
    "$\\displaystyle F_n(x) = \\frac {1} {n} \\sum_{i=1}^n\n",
    "\\mathbb{1}_{\\{x_i < x\\}} = \\frac {1} {n} \\sum_{i=1}^n \\mathbb{1}_{\\{x_{(i)} < x\\}},\n",
    "\\mathbb{1}_{A} =\n",
    "\\begin{cases}\n",
    "    1&\\text{, если A выполнено}\\\\\n",
    "    0&\\text{, иначе}\n",
    "\\end{cases}$<br><br>"
   ]
  },
  {
   "cell_type": "code",
   "execution_count": 2,
   "id": "13c03799-234d-4b1f-be1d-a1f7a16a0e5e",
   "metadata": {},
   "outputs": [
    {
     "name": "stdout",
     "output_type": "stream",
     "text": [
      "[0 0 0 0 0 0 1 1 1 1 1 1 1 1 1 1 1 1 1 1 1 1 1 1 2 2 2 2 2 2 2 2 2 2 2 3 3\n",
      " 3 3 3 3 3 4 4 4 5 5 5 5 6]\n"
     ]
    },
    {
     "data": {
      "image/png": "[encoded data removed]",
      "text/plain": [
       "<Figure size 640x480 with 1 Axes>"
      ]
     },
     "metadata": {},
     "output_type": "display_data"
    }
   ],
   "source": [
    "variation_data = np.sort(data);\n",
    "print(variation_data)\n",
    "\n",
    "# вариационный ряд на графике\n",
    "plt.plot(range(len(variation_data)), variation_data, marker='o', linestyle='-', color='g')\n",
    "plt.xlabel('Наблюдения')\n",
    "plt.ylabel('Значения')\n",
    "plt.title('Вариационный ряд')\n",
    "plt.show()"
   ]
  },
  {
   "cell_type": "markdown",
   "id": "955cb3bb-5b30-4b4a-9f7a-9d55bb1d83e7",
   "metadata": {},
   "source": [
    "Построим график эмперической функции распределения"
   ]
  },
  {
   "cell_type": "code",
   "execution_count": 3,
   "id": "f19d1b00-b8f7-4147-901b-bff38d3729e2",
   "metadata": {},
   "outputs": [
    {
     "data": {
      "image/png": "[encoded data removed]",
      "text/plain": [
       "<Figure size 640x480 with 1 Axes>"
      ]
     },
     "metadata": {},
     "output_type": "display_data"
    }
   ],
   "source": [
    "def drawFSelective(F, X):\n",
    "    X.insert(0, X[0]-1)\n",
    "    X.append(X[-1]+1)\n",
    "    Y = [F(x) for x in X]\n",
    "    for i in range(1,len(Y)):\n",
    "        plt.plot([X[i-1], X[i]], [Y[i], Y[i]],c='g', zorder=-1)\n",
    "        if i != len(Y)-1:\n",
    "            plt.scatter(X[i], Y[i], c='g', s=12)\n",
    "        if i != 1:\n",
    "            plt.scatter(X[i-1], Y[i], s=12, c='white', edgecolors='green', linewidths=1)\n",
    "    plt.show()\n",
    "    \n",
    "def FSelective(X_var):\n",
    "    vals = set(X_var)\n",
    "    def F(x):\n",
    "        cnt = 0\n",
    "        for val in vals:\n",
    "            if x > val:\n",
    "                cnt += X_var.count(val)\n",
    "            \n",
    "        return cnt / len(X_var)\n",
    "    return F\n",
    "\n",
    "\n",
    "drawFSelective(FSelective(sorted(data)), list(set(sorted(data))))"
   ]
  },
  {
   "cell_type": "markdown",
   "id": "0a4234c8-9f73-4e2d-838e-b728d3af7630",
   "metadata": {},
   "source": [
    "Построим гистограмму частот:"
   ]
  },
  {
   "cell_type": "code",
   "execution_count": 4,
   "id": "6a001239-2f28-4bc5-99e0-44140620e5fe",
   "metadata": {},
   "outputs": [
    {
     "data": {
      "image/png": "[encoded data removed]",
      "text/plain": [
       "<Figure size 640x480 with 1 Axes>"
      ]
     },
     "metadata": {},
     "output_type": "display_data"
    }
   ],
   "source": [
    "plt.hist(variation_data, bins=range(min(variation_data), max(variation_data) + 1), density=True, edgecolor='black', color='g')\n",
    "plt.xlabel('$x_{i}$')\n",
    "plt.ylabel('$H(x)$')\n",
    "plt.title('Гистограмма частот')\n",
    "plt.show()"
   ]
  },
  {
   "cell_type": "markdown",
   "id": "d4fcee17-e899-42a3-81c1-6a272a688b1e",
   "metadata": {},
   "source": [
    "#### b) Вычислить выборочные аналоги слеующих числовых характеристик: (i)математическое ожидание, (ii)дисперсия, (iii)СКО, (iv)медианы, (v)асимметрии, (vi) эксцесса, (vii) вероятности $\\mathrm{P}(X\\in \\left[ a,b \\right])$"
   ]
  },
  {
   "cell_type": "code",
   "execution_count": 5,
   "id": "15b4d324-d1b9-48d7-919c-43aa4d798fd8",
   "metadata": {},
   "outputs": [
    {
     "name": "stdout",
     "output_type": "stream",
     "text": [
      "(i) Математическое ожидание : 1.98\n",
      "(ii) Дисперсия : 2.2596\n",
      "(iii) Выборочное стандартное отклонение : 1.5031965939290841\n",
      "(iv) Медиана : 2.0\n",
      "(v) Асимметрия : 0.8466008679752\n",
      "(vi) Эксцесс : -0.022083343086961804\n",
      "(vii) Вероятность : 0.22\n"
     ]
    }
   ],
   "source": [
    "from scipy import stats\n",
    "# Математическое ожидание\n",
    "mean = np.mean(data)\n",
    "# Дисперсия\n",
    "variance = np.var(data)\n",
    "#СКО\n",
    "deviation=np.std(data)\n",
    "# Медиана\n",
    "median = np.median(data)\n",
    "# Асимметрия\n",
    "skewness = stats.skew(data)\n",
    "# Эксцесс\n",
    "kurtosis = stats.kurtosis(data)\n",
    "\n",
    "# Вероятность\n",
    "a = 1.15\n",
    "b = 2.28\n",
    "probability = len([x for x in data if a <= x <= b]) / len(data)  \n",
    "print(\"(i) Математическое ожидание :\",mean)\n",
    "print(\"(ii) Дисперсия :\",variance)\n",
    "print(\"(iii) Выборочное стандартное отклонение :\",deviation)\n",
    "print(\"(iv) Медиана :\",median)\n",
    "print(\"(v) Асимметрия :\",skewness)\n",
    "print(\"(vi) Эксцесс :\",kurtosis)\n",
    "print(\"(vii) Вероятность :\",probability)"
   ]
  },
  {
   "cell_type": "markdown",
   "id": "d713ccc1-6825-4419-9220-6994d5751b00",
   "metadata": {},
   "source": [
    "#### c) В предположении, что исходные наблюдения являются выборкой из распределения Пуассона, построить ОМП и ОММ параметра $\\lambda$. Найти смещение оценки.\n",
    "- Построим ОМП: <br>\n",
    "Плотность распределения Пуассона: $P_{\\lambda}(X=k)=\\frac{\\lambda^{k}}{k!}\\cdot exp(-\\lambda)$ <br>\n",
    "Функция максимального правдоподобия: $L(\\overrightarrow{X};\\theta)=\\prod_{i=1}^{n}P_{\\lambda}(X_{i})=\\prod_{i=1}^{n}\\frac{\\lambda^{X_{i}}}{X_{i}!}\\cdot exp(-\\lambda)=\\lambda^{\\sum_{i=1}^{n}X_{i}} \\cdot \\prod_{i=1}^{n}(X_{i}!)^{-1} \\cdot exp(-n\\cdot \\lambda)$ <br>\n",
    "Логарифмическая функция максимального правдоподобия: $LL(\\overrightarrow{X};\\theta)= \\sum_{i=1}^{n}X_{i}\\cdot \\ln(\\lambda)-\\ln(\\prod_{i=1}^{n}X_{i}!)-n\\cdot \\lambda$ <br>\n",
    "Частная производная по $\\lambda$: $\\frac{\\partial LL(\\overrightarrow{X};\\theta)}{\\partial \\lambda} = \\frac{\\sum_{i=1}^{n}X_{i}}{\\lambda}-n = 0 \\Rightarrow \n",
    "\\frac{\\sum_{i=1}^{n}X_{i}}{\\lambda}=n \\Rightarrow  \n",
    "\\lambda=\\frac{1}{n}\\cdot \\sum_{i=1}^{n}X_{i}$. <br>\n",
    "Итого ОМП: $\\widehat{\\theta} = \\widehat{\\lambda} = \\bar{X}$ <br>\n",
    "- Построим ОММ: <br>\n",
    "Первый момент для распределения Пуассона: $\\mathbb{E}X_{1}=\\lambda;\\, M_{1}=\\bar{X}$ <br>\n",
    "Так как наш параметр одномерный, то система выглядит так: $\\lambda = \\bar{X}$ <br>\n",
    "Из пункта (b): $\\lambda = \\bar{X} = 1.98$ <br>\n",
    "- Найдем смещение оценки: <br>\n",
    "Наша функция правдоподобия: $L(\\overrightarrow{X};\\theta)=\\prod_{i=1}^{n}(X_{i}!)^{-1} \\cdot \\lambda^{\\sum_{i=1}^{n}X_{i}} \\cdot exp(-n\\cdot \\lambda)$ <br>\n",
    "Тогда: $h(\\overrightarrow{X})=\\frac{1}{\\prod_{i=1}^{n}X_{i}!}$, a $g\\left(T(\\overrightarrow{X})\\right)=\\lambda^{\\sum_{i=1}^{n}X_{i}}\\cdot exp(-n\\cdot \\lambda)$ <br>\n",
    "$T=\\sum_{i=1}^{n}X_{i}$ - минимальная достаточная статистика. <br>\n",
    "Так как распределение Пуассона принадлежит экспоненциальному семейству распределения, $T=\\sum_{i=1}^{n}X_{i}$ - полная достаточная статистика. <br>\n",
    "$\\mathbb{E}_{\\lambda}\\bar{X}=\\mathbb{E}_{\\lambda} \\left( \\frac{1}{n}\\cdot \\sum_{i=1}^{n}x_{i} \\right) =\n",
    "\\frac{1}{n}\\cdot \\mathbb{E_{\\lambda}} \\left( \\sum_{i=1}^{n}x_{i} \\right)=\n",
    "\\frac{1}{n}\\cdot \\sum_{i=1}^{n}\\mathbb{E_{\\lambda}}X_{i}=\n",
    "\\frac{1}{n}\\cdot n\\cdot \\mathbb{E}_{\\lambda}X_{1}=\n",
    "\\lambda$ - несмещенная оценка"
   ]
  },
  {
   "cell_type": "markdown",
   "id": "6e4ed941-5515-4ef4-a7fa-85afc5260eea",
   "metadata": {},
   "source": [
    "#### d) Построить А.Д.И. уровня значимости $\\alpha_1$ для параметра $\\lambda$ на базе ОМП\n",
    "- Построим на базе ОМП <br>\n",
    "$I_{n}(\\lambda) = -\\mathbb{E} \\frac{\\partial^2 LL(\\overrightarrow{X};\\theta)}{{\\partial \\lambda}^2}$, $\\frac{\\partial^2 LL(\\overrightarrow{X};\\theta)}{{\\partial \\lambda}^2} = - \\frac{\\sum_{i=1}^{n}X_{i}}{\\lambda^2} =\n",
    "-\\frac{n \\bar{X}}{\\lambda^2}$ <br>\n",
    "$-\\mathbb{E} \\frac{\\partial^2 LL(\\overrightarrow{X};\\theta)}{{\\partial \\lambda}^2} = \\mathbb{E}\\frac{n \\bar{X}}{\\lambda^2} = \\frac{1}{\\lambda^2} \\mathbb{E} \\sum_{i=1}^{n}X_{i} =\n",
    "\\frac{1}{\\lambda^2}  \\sum_{i=1}^{n}\\left(\\mathbb{E}X_{i}\\right) = \\frac{n\\lambda}{\\lambda^2} = \\frac{n}{\\lambda}$ <br>\n",
    "$I(\\lambda) = \\frac{1}{\\lambda}$<br>\n",
    "выбираем $X_{\\alpha_1}: \\mathrm{Ф(X_{\\alpha_1})}=1 - \\frac{\\alpha_1}{2} = 1 - \\frac{0.2}{2} = 0.9 \\Rightarrow X_{0.9}=1.28$ <br>\n",
    "$\\widehat{\\lambda} - \\frac{X_{0.9} \\sqrt{\\widehat{\\lambda}}}{\\sqrt{n}} \\le \\lambda \\le \\widehat{\\lambda} + \\frac{X_{0.9} \\sqrt{\\widehat{\\lambda}}}{\\sqrt{n}} \\Rightarrow$ <br>\n",
    "ОМП: $\\widehat{\\theta} = \\widehat{\\lambda} = \\bar{X}$ <br>\n",
    "$ \\lambda \\in \\left[ \\overline{X}-\\frac{X_{0.9}}{\\sqrt{50\\cdot \\frac{1}{\\bar{X}}}}; \\overline{X}+\\frac{X_{0.9}}{\\sqrt{50\\cdot \\frac{1}{\\bar{X}}}}\\right] = $ <br>\n",
    "$ \\left[ \\overline{X}-\\frac{X_{0.9}}{\\sqrt{50\\cdot \\frac{1}{\\bar{X}}}}; \\overline{X}+\\frac{X_{0.9}}{\\sqrt{50\\cdot \\frac{1}{\\bar{X}}}}\\right] = [1.72; 2.23]$ <br>\n",
    "  \n",
    "- Построим с помощью асимтотической нормальной оценки $\\widehat{\\theta}$ <br>\n",
    "$\\sqrt{n}\\left( \\widehat{\\theta}(\\overrightarrow{X})-\\theta \\right)\\sim N(0,\\sigma^{2}(\\theta))$ , тогда $\\sqrt{n}\\frac{ \\widehat{\\theta}(\\overrightarrow{X})-\\theta}{\\sigma(\\widehat{\\theta})}\\sim N(0,1)$<br>\n",
    "выбираем $X_{\\alpha_1}: \\mathrm{Ф(X_{\\alpha_1})}=1 - \\frac{\\alpha_1}{2} = 1 - \\frac{0.2}{2} = 0.9 \\Rightarrow X_{0.9}=1.28$<br>\n",
    "$-X_{0.9}\\le \\sqrt{n}\\cdot \\frac{\\widehat{\\lambda}-\\lambda}{\\sqrt{\\widehat{\\lambda}}}\\le X_{0.9} \\Rightarrow$<br>\n",
    "$\\widehat{\\lambda} - \\frac{X_{0.9} \\sqrt{\\widehat{\\lambda}}}{\\sqrt{n}} \\le \\lambda \\le \\widehat{\\lambda} + \\frac{X_{0.9} \\sqrt{\\widehat{\\lambda}}}{\\sqrt{n}} \\Rightarrow$<br>\n",
    "$1.98-\\frac{1.28\\cdot \\sqrt{1.98}}{\\sqrt{50}}\\le \\lambda\\le 1.98+\\frac{1.28\\cdot \\sqrt{1.98}}{\\sqrt{50}} \\Rightarrow 1.73\\le \\lambda\\le 2.23$ - А.Д.И. параметра $\\lambda$"
   ]
  },
  {
   "cell_type": "code",
   "execution_count": 6,
   "id": "dc30dba3-c941-47c1-a027-28461c07c293",
   "metadata": {},
   "outputs": [
    {
     "name": "stdout",
     "output_type": "stream",
     "text": [
      "1.2815515655446004\n",
      "50\n"
     ]
    }
   ],
   "source": [
    "# Рассчет x_alpha\n",
    "print(stats.norm.ppf(0.9))\n",
    "# n\n",
    "print(len(data))"
   ]
  },
  {
   "cell_type": "markdown",
   "id": "56a2f6af-574a-4599-a889-d9ad7c4d8248",
   "metadata": {},
   "source": [
    "#### e) Используя гистограмму частот, построить критерий значимости $\\mathcal{X^{2}}$ проверки простой гипотезы согласия с распределением Пуассона с параметром $\\lambda_{0}$. Проверить гипотезу на уровне значимости $\\alpha_{1}$. Вычислить наибольшее значение уровня значимости, на котором ещё нет оснований отвергнуть данную гипотезу.\n",
    "\n",
    "Построение критерия значимости $\\chi^2$ проверки простой гипотезы согласия с распределением Пуассона с параметром $\\lambda_0 = 5$:\n",
    "\n",
    "$H_0 : X \\sim Pois(\\lambda_0)$,\n",
    "\n",
    "$H_A : X \\nsim Pois(\\lambda_0)$"
   ]
  },
  {
   "cell_type": "code",
   "execution_count": 7,
   "id": "6c88b862-3e26-4867-9ef2-669e9205ec74",
   "metadata": {},
   "outputs": [
    {
     "name": "stdout",
     "output_type": "stream",
     "text": [
      "Статистика критерия: 276.01055472808383\n",
      "Асимптотический критерий: 1\n",
      "Гипотеза: отвергается\n",
      "Максимальное значение уровня значимости, при котором нет оснований отвергнуть основную гипотезу: 0.0\n"
     ]
    }
   ],
   "source": [
    "from scipy.stats.distributions import chi2\n",
    "def get_criteria(alpha, df):\n",
    "    x_alpha = chi2.ppf(1 - alpha, df=df)\n",
    "    return lambda hi_2: 0 if hi_2 <= x_alpha else 1\n",
    "    \n",
    "def f_puas(t):\n",
    "    def fact(x):\n",
    "        if x in [0,1]:\n",
    "            return 1\n",
    "        pr = 1\n",
    "        for i in range(2, x+1):\n",
    "            pr *= i\n",
    "        return pr\n",
    "    def p(x):\n",
    "        return np.exp(-t) * t**x / fact(x)\n",
    "    return p\n",
    "\n",
    "def get_max_significance_level(alpha, stat):\n",
    "    left = alpha\n",
    "    right = 1\n",
    "    eps = 1e-8\n",
    "    while right - left > eps:\n",
    "        mid = (right + left) / 2\n",
    "        if get_criteria(mid, len(set(X))-1)(stat):\n",
    "            right = mid\n",
    "        else:\n",
    "            left = mid\n",
    "    return left\n",
    "\n",
    "def get_hypothesis_status(phi):\n",
    "    if phi == 1:\n",
    "        return 'отвергается'\n",
    "    else :\n",
    "        return 'принимается'\n",
    "\n",
    "alpha_1 = 0.2\n",
    "lambda_0 = 5\n",
    "n = len(data)\n",
    "X = np.array(data, dtype=float)\n",
    "\n",
    "F_puas = f_puas(lambda_0)\n",
    "\n",
    "# гипотетические вероятности попадания в интервалы\n",
    "p = np.array([F_puas(i) for i in range(7)])\n",
    "\n",
    "# частоты\n",
    "nu = np.array([(X==i).sum() for i in range(7)], dtype=float)\n",
    "\n",
    "# статистика критерия\n",
    "hi_2 = ((nu - (n*p))**2 / (n*p)).sum()\n",
    "print(f'Статистика критерия: {hi_2}')\n",
    "\n",
    "# асимптотический критерий\n",
    "phi = get_criteria(alpha_1, len(set(X))-1)\n",
    "print(f'Асимптотический критерий: {phi(hi_2)}')\n",
    "\n",
    "# статус гипотезы\n",
    "print(f'Гипотеза: {get_hypothesis_status(phi(hi_2))}')\n",
    "\n",
    "a_max = 1 - chi2.cdf(hi_2, len(set(X))-1)\n",
    "print(f'Максимальное значение уровня значимости, при котором нет оснований отвергнуть основную гипотезу: {round(a_max, 3)}')"
   ]
  },
  {
   "cell_type": "markdown",
   "id": "3cf7b04a-c310-4867-ad47-20aa0e699e8a",
   "metadata": {},
   "source": [
    "#### f) Построить критерий значимости  $\\mathcal{X^{2}}$ проверки сложной гипотезы согласия с распределением Пуассона. Проверить гипотезу по уровню значимости $\\alpha_{1}$.Вычислить наибольшее значение уровня значимости, на котором ещё нет оснований отвергнуть данную гипотезу.\n",
    "\n",
    "Основная гипотеза: $H_0 : F \\in \\left\\{Pois(\\theta) : \\theta \\in \\Theta_0 \\right\\}$\n",
    "\n",
    "Альтернативная гипотеза: $H_A : F \\notin \\left\\{Pois(\\theta) : \\theta \\in \\Theta_0 \\right\\}$\n",
    "\n",
    "Необходимо минимизировать $\\mathcal{X}^2 $, подбирая параметр $\\lambda$\n",
    "\n",
    "$\\mathcal{X}^2 = \\sum_{i=0}^{r} \\cfrac{(n_k - np_k(\\lambda))^2}{np_k(\\lambda)} \\rightarrow \\mathcal{X}^2 _{r-d-1}$, <br> где $ d = dim(\\lambda) = 1$, $r$ - количество интервалов. "
   ]
  },
  {
   "cell_type": "code",
   "execution_count": 8,
   "id": "84bc756a-ded7-4aca-a974-0c6d307c1392",
   "metadata": {},
   "outputs": [
    {
     "name": "stdout",
     "output_type": "stream",
     "text": [
      "Статистика критерия: 13.745564444682067\n",
      "Асимптотический критерий: 1\n",
      "Гипотеза: отвергается\n",
      "Максимальное значение уровня значимости, при котором нет оснований отвергнуть основную гипотезу: 0.017\n"
     ]
    }
   ],
   "source": [
    "import scipy\n",
    "r = 7\n",
    "d = 1\n",
    "n = len(data)\n",
    "\n",
    "def f_sum(lmbd):\n",
    "    if lmbd == 0:\n",
    "        return 10**6\n",
    "    \n",
    "    arr = [0, 1, 2, 3, 4, 5, 6]\n",
    "    res = [0] * (len(arr) + 1)\n",
    "    \n",
    "    res[0] = stats.poisson.cdf(1, lmbd)\n",
    "    sm = res[0]\n",
    "    \n",
    "    for i in range(1, len(arr)):\n",
    "        res[i] = stats.poisson.cdf(arr[i], lmbd) - stats.poisson.cdf(arr[i - 1], lmbd)\n",
    "        \n",
    "    res[len(arr)] = 1 - stats.poisson.cdf(6, lmbd)\n",
    "    \n",
    "    ans = [(nu[i] - n * res[i]) ** 2 / (n * res[i]) for i in range(len(nu))]\n",
    "    return np.sum(ans)\n",
    "\n",
    "# статистика критерия\n",
    "result = scipy.optimize.minimize_scalar(f_sum)\n",
    "print(f'Статистика критерия: {result.fun}')\n",
    "\n",
    "# асимптотический критерий\n",
    "phi = get_criteria(alpha_1, r - d - 1)\n",
    "print(f'Асимптотический критерий: {phi(result.fun)}')\n",
    "\n",
    "# статус гипотезы\n",
    "print(f'Гипотеза: {get_hypothesis_status(phi(result.fun))}')\n",
    "\n",
    "a_max = 1 - chi2.cdf(result.fun, r - d - 1)\n",
    "print(f'Максимальное значение уровня значимости, при котором нет оснований отвергнуть основную гипотезу: {round(a_max, 3)}')"
   ]
  },
  {
   "cell_type": "markdown",
   "id": "f2aa482e-6f09-4437-9c6c-1e93796e1978",
   "metadata": {},
   "source": [
    "#### g) Построить наиболее мощный критерий проверки простой гипотезы пауссоновости с параметром $\\lambda=\\lambda_{0}$ при альтернативе пуассоновсти с параметром $\\lambda=\\lambda_{1}$. Проверить гипотезу на уровне значимости $\\alpha_{1}$. Что получится, если поменять местами основную и альтернативную гипотезы?\n",
    "\n",
    " $H_{0}=\\lambda_{0}$, $H_{A}=\\lambda_{1}$\n",
    "\n",
    " Согласно лемме Неймана-Пирсона, наиболее мощный критерий проверки гипотезы $H_0$ при альтернативе $H_A$:\n",
    "\n",
    " $\\phi(\\overrightarrow X) = \\begin{cases}\n",
    "  0, LR(\\overrightarrow X, \\lambda_0, \\lambda_1) < C \\\\\n",
    "  p, LR(\\overrightarrow X, \\lambda_0, \\lambda_1) = C \\\\\n",
    "  1, LR(\\overrightarrow X, \\lambda_0, \\lambda_1) > C\n",
    "\\end{cases} $\n",
    "\n",
    " $L(\\overrightarrow{X};\\lambda)=\\lambda^{\\sum_{i=1}^{n}X_{i}} \\cdot \\prod_{i=1}^{n}(X_{i}!)^{-1} \\cdot exp(-n\\cdot \\lambda)$ <br>\n",
    "\n",
    " Тогда статистика отношения правдоподобия: $LR(\\overrightarrow{X},\\lambda_{1},\\lambda_{0}) = \\frac{L\\left( \\overrightarrow{X},\\lambda_{1} \\right)}{L\\left( \\overrightarrow{X},\\lambda_{0} \\right)}= \\frac{\\lambda_{1}^{\\sum_{i=1}^{n}X_{i}}\\cdot exp(-n\\cdot \\lambda_{1})}{\\lambda_{0}^{\\sum_{i=1}^{n}X_{i}}\\cdot exp(-n\\cdot \\lambda_{0})}$\n",
    "\n",
    "$T = \\bar X - МДС $\n",
    "\n",
    "В силу монотонности статистики $LR(\\overrightarrow{X})$ относительно МДС $\\bar{X}$:\n",
    "\n",
    " $\\frac{\\lambda_{1}^{\\sum_{i=1}^{n}X_{i}}\\cdot exp(-n\\cdot \\lambda_{1})}{\\lambda_{0}^{\\sum_{i=1}^{n}X_{i}}\\cdot exp(-n\\cdot \\lambda_{0})}\\gt c\n",
    " \\Rightarrow \\exp(-n(\\lambda_1 - \\lambda_0))\\left(\\frac{\\lambda_1}{\\lambda_0}\\right)^{\\sum_{i=1}^{n}{x_i}} \\gt c\n",
    " \\Rightarrow  \\ln\\frac{\\lambda_1}{\\lambda_0}\\sum_{i=1}^{n}{x_i} -n(\\lambda_1 - \\lambda_0) > \\ln c\n",
    " \\Rightarrow \\bar{X}\\gt c^* = \\frac{\\ln c + n(\\lambda_1 - \\lambda_0)}{n\\ln\\frac{\\lambda_1}{\\lambda_0}}$\n",
    "\n",
    " $c^* = \\frac{\\ln c - 3n}{n\\ln0.4} $\n",
    "\n",
    " Наиболее мощный критерий удобно записать в\n",
    "терминах $\\bar{X}$:\n",
    "\n",
    "$\\phi(\\overrightarrow X) = \\begin{cases}\n",
    "  0, \\bar X < C^* \\\\\n",
    "  p, \\bar X = C^* \\\\\n",
    "  1, \\bar X > C^*\n",
    "\\end{cases} $\n",
    "\n",
    "Найдем $c^*$ из следующего уравнения:\n",
    "\n",
    "$P_{\\lambda_0}(\\bar X > C^*) + p P_{\\lambda_0}(\\bar X = C^*) = \\alpha_1$\n",
    "\n",
    "$ P_{\\lambda_0}(\\bar X > C^*) = 1 - P_{n\\lambda_0}(n\\bar X \\le nC^*) = 1 - \\sum_{0}^{[nC^{*}]} \\cfrac{{(n \\lambda_0)} ^i}{i!} e^{-n\\lambda_0} < \\alpha_1$\n",
    "\n",
    "В свою очередь, константа p находится из\n",
    "соотношения:\n",
    "\n",
    "$ p = \\cfrac{\\alpha_1 - \\left(1 - \\sum_{0}^{[nC^{*}] - 1} \\cfrac{{(n\\lambda_0)} ^i}{i!} e^{-n\\lambda_0}\\right)}{\\cfrac{(n\\lambda_0) ^{[nC^{*}]}}{[nC^{*}]!} e^{-n\\lambda_0}}  $"
   ]
  },
  {
   "cell_type": "code",
   "execution_count": 9,
   "id": "6185a750-53cf-4295-89d5-28fff4320627",
   "metadata": {},
   "outputs": [
    {
     "name": "stdout",
     "output_type": "stream",
     "text": [
      "c*: 5.2602\n",
      "p: 0.239\n",
      "Математическое ожидание: 1.98\n"
     ]
    }
   ],
   "source": [
    "# Найдем c*\n",
    "alpha_1 = 0.2\n",
    "lambda_0 = 5.0\n",
    "n = len(data)\n",
    "c = 1\n",
    "while True:\n",
    "    if 1 - stats.poisson.cdf(c, n * lambda_0) < alpha_1:\n",
    "        break\n",
    "    c += 0.01\n",
    "\n",
    "print(f'c*: {round(c, 3) / n}')\n",
    "\n",
    "# Найдем p\n",
    "sum = stats.poisson.cdf(c, n * lambda_0)\n",
    "sum_1 = stats.poisson.cdf(c - 1, n * lambda_0)\n",
    "p = (alpha_1 - 1 + sum) / (sum - sum_1)\n",
    "print(f'p: {round(p, 3)}')\n",
    "\n",
    "# Найдем Мат. Ожидание:\n",
    "print(f'Математическое ожидание: { np.sum(data)/n }')"
   ]
  },
  {
   "cell_type": "markdown",
   "id": "a7f06f77-7b4c-4ac2-9fc6-c0671a1a2fab",
   "metadata": {},
   "source": [
    "$c^* > \\bar{X} = 1.98 \\Rightarrow $ принимается $H_{0}$\n",
    "\n",
    "Полученный критерий:\n",
    "\n",
    " $\\phi(\\overrightarrow X) = \\begin{cases}\n",
    "  0, \\bar X < 5.26 \\\\\n",
    "  0.239, \\bar X = 5.26 \\\\\n",
    "  1, \\bar X > 5.26\n",
    "\\end{cases} $\n",
    "\n",
    "Поменяем местами основную и альтернативную гипотезы:\n",
    "\n",
    "$H_{0}=\\lambda_{1}$, $H_{A}=\\lambda_{0}$\n",
    "\n",
    " $L(\\overrightarrow{X};\\lambda)=\\lambda^{\\sum_{i=1}^{n}X_{i}} \\cdot \\prod_{i=1}^{n}(X_{i}!)^{-1} \\cdot exp(-n\\cdot \\lambda)$ <br>\n",
    "\n",
    " Тогда статистика отношения правдоподобия: $LR(\\overrightarrow{X},\\lambda_{1},\\lambda_{0}) = \\frac{L\\left( \\overrightarrow{X},\\lambda_{0} \\right)}{L\\left( \\overrightarrow{X},\\lambda_{1} \\right)}= \\frac{\\lambda_{0}^{\\sum_{i=1}^{n}X_{i}}\\cdot exp(-n\\cdot \\lambda_{0})}{\\lambda_{1}^{\\sum_{i=1}^{n}X_{i}}\\cdot exp(-n\\cdot \\lambda_{1})}$\n",
    "\n",
    "$T = \\bar X - МДС $\n",
    "\n",
    "В силу монотонности статистики $LR(\\overrightarrow{X})$ относительно МДС $\\bar{X}$:\n",
    "\n",
    " $\\frac{\\lambda_{0}^{\\sum_{i=1}^{n}X_{i}}\\cdot exp(-n\\cdot \\lambda_{0})}{\\lambda_{1}^{\\sum_{i=1}^{n}X_{i}}\\cdot exp(-n\\cdot \\lambda_{1})}\\gt c\n",
    " \\Rightarrow \\exp(-n(\\lambda_0 - \\lambda_1))\\left(\\frac{\\lambda_0}{\\lambda_1}\\right)^{\\sum_{i=1}^{n}{x_i}} \\gt c\n",
    " \\Rightarrow  \\ln\\frac{\\lambda_0}{\\lambda_1}\\sum_{i=1}^{n}{x_i} -n(\\lambda_0 - \\lambda_1) > \\ln c\n",
    " \\Rightarrow \\bar{X}\\gt c^* = \\frac{\\ln c + n(\\lambda_0 - \\lambda_1)}{n\\ln\\frac{\\lambda_0}{\\lambda_1}}$\n",
    "\n",
    " $c^* = \\frac{\\ln c + 3n}{n\\ln2.5} $\n",
    "\n",
    " Наиболее мощный критерий удобно записать в\n",
    "терминах $\\bar{X}$:\n",
    "\n",
    "$\\phi(\\overrightarrow X) = \\begin{cases}\n",
    "  0, \\bar X < C^* \\\\\n",
    "  p, \\bar X = C^* \\\\\n",
    "  1, \\bar X > C^*\n",
    "\\end{cases} $\n",
    "\n",
    "Найдем $c^*$ из следующего уравнения:\n",
    "\n",
    "$P_{\\lambda_1}(\\bar X < C^*) + p P_{\\lambda_1}(\\bar X = C^*) = \\alpha_1$\n",
    "\n",
    "$ P_{\\lambda_1}(\\bar X \\le C^*) = P_{n\\lambda_1}(n \\bar X \\le n C^*) = \n",
    "\\sum_{0}^{[nC^{*}]} \\cfrac{{(n \\lambda_1)} ^i}{i!} e^{-n\\lambda_1}$\n",
    "\n",
    "Тогда выразим $\\alpha_1$: <br>\n",
    "$ \\sum_{0}^{[nC^{*}] - 1} \\cfrac{{(n\\lambda_1)} ^i}{i!} e^{-n\\lambda_1} \\le \\alpha_1 < \\sum_{0}^{[nC^{*}]} \\cfrac{{(n\\lambda_1)} ^i}{i!} e^{-n\\lambda_1} $\n",
    "\n",
    "В свою очередь, константа p находится из\n",
    "соотношения:\n",
    "\n",
    "$ p = \\cfrac{\\alpha_1 - \\sum_{0}^{[nC^{*}] - 1} \\cfrac{{(n\\lambda_1)} ^i}{i!} e^{-n\\lambda_1}}{\\cfrac{(n\\lambda_1) ^{[nC^{*}]}}{[nC^{*}]!} e^{-n\\lambda_1}} $"
   ]
  },
  {
   "cell_type": "code",
   "execution_count": 10,
   "id": "74878472-a0b8-4415-8752-f52ce8060c60",
   "metadata": {},
   "outputs": [
    {
     "name": "stdout",
     "output_type": "stream",
     "text": [
      "c*: 1.84\n",
      "p: 0.037\n",
      "Математическое ожидание: 1.98\n"
     ]
    }
   ],
   "source": [
    "# Найдем c*\n",
    "alpha_1 = 0.2\n",
    "lambda_1 = 2.0\n",
    "n = len(data)\n",
    "c = 1\n",
    "while True:\n",
    "    if stats.poisson.cdf(c - 1, n * lambda_1) <= alpha_1 and stats.poisson.cdf(c, n * lambda_1) > alpha_1:\n",
    "        break\n",
    "    c += 0.01\n",
    "\n",
    "print(f'c*: {round(c, 3) / n}')\n",
    "\n",
    "# Найдем p\n",
    "sum = stats.poisson.cdf(c, n * lambda_1)\n",
    "sum_1 = stats.poisson.cdf(c - 1, n * lambda_1)\n",
    "p = (alpha_1 - sum_1) / (sum - sum_1)\n",
    "print(f'p: {round(p, 3)}')\n",
    "\n",
    "# Найдем Мат. Ожидание:\n",
    "print(f'Математическое ожидание: { np.sum(data)/n }')"
   ]
  },
  {
   "cell_type": "markdown",
   "id": "a9bff8bb-b06f-4ee0-890a-abf13879e867",
   "metadata": {},
   "source": [
    "$c^* < \\bar{X} \\Rightarrow $ отвергаем $H_{0}$\n",
    "\n",
    "Полученный критерий:\n",
    "\n",
    " $\\phi(\\overrightarrow X) = \\begin{cases}\n",
    "  0, \\bar X < 1.84 \\\\\n",
    "  0.037, \\bar X = 1.84 \\\\\n",
    "  1, \\bar X > 1.84\n",
    "\\end{cases} $"
   ]
  },
  {
   "cell_type": "markdown",
   "id": "303a9a15-6cad-4c71-807d-0f4fbb39084a",
   "metadata": {},
   "source": [
    "#### h.c) В предположении, что исходные наблюдения являются выборкой из геометрического распределения, построить ОМП и ОММ параметра $\\lambda$. Найти смещение оценки. <br>\n",
    "- Построим ОМП: <br>\n",
    "Плотность геометрического распределения: $P_{\\lambda}(X=k)=\\frac{\\lambda^{k}}{(\\lambda + 1)^{k + 1}}$ , $k \\in \\mathbb{Z_{+}}$<br>\n",
    "Функция максимального правдоподобия: $L(\\overrightarrow{X};\\theta)=\\prod_{i=1}^{n}\\frac{\\lambda^{X_{i}}}{(\\lambda+1)^{X_{i}}}=\\frac{\\lambda^{\\sum_{i=1}^{n}X_{i}}}{(\\lambda+1)^{\\sum_{i=1}^{n}X_{i}+n}}$ <br>\n",
    "Логарифмическая функция максимального правдоподобия: $LL(\\overrightarrow{X};\\theta)= \\sum_{i=1}^{n}X_{i}\\cdot \\ln(\\lambda)-\\ln(\\lambda+1)\\sum_{i=1}^{n}X_{i}- n\\ln(\\lambda+1)$ <br>\n",
    "Частная производная по $\\lambda$: $\\frac{\\partial LL(\\overrightarrow{X};\\theta)}{\\partial \\lambda} = \\frac{\\sum_{i=1}^{n}X_{i}}{\\lambda}-\\frac{\\sum_{i=1}^{n}X_{i}+n}{\\lambda+1}=0 \\Rightarrow \\frac{\\sum_{i=1}^{n}X_{i}}{\\lambda} - \\frac{\\sum_{i=1}^{n}X_{i}}{\\lambda +1} - \\frac{\\lambda n}{\\lambda +1} = 0 \\Rightarrow$ <br>\n",
    "$\\lambda\\sum_{i=1}^{n}X_{i} + \\sum_{i=1}^{n}X_{i} - \\lambda\\sum_{i=1}^{n}X_{i} - \\lambda n = 0 \\Rightarrow \\sum_{i=1}^{n}X_{i} = \\lambda n$ <br>\n",
    "$\\widehat{\\theta}=\\widehat{\\lambda}=\\overline{X}=1.98$\n",
    "\n",
    "- Построим ОММ: <br>\n",
    "Первый момент для геометрического распределения: $\\mathbb{E}X_{1}=\\lambda;\\, M_{1}=\\bar{X}$ <br>\n",
    "Так как наш параметр одномерный, то : $\\widetilde{\\theta}=\\widetilde{\\lambda}=\\bar{X} = 1.98 $ <br>\n",
    "\n",
    "- Найдем смещение оценки: <br>\n",
    "Наша функция правдоподобия:$L(\\overrightarrow{X};\\theta)=\\prod_{i=1}^{n}\\frac{\\lambda^{X_{i}}}{(\\lambda+1)^{X_{i}}}=\\frac{\\lambda^{\\sum_{i=1}^{n}X_{i}}}{(\\lambda+1)^{\\sum_{i=1}^{n}X_{i}+n}}$ <br>\n",
    "Тогда: $h(\\overrightarrow{X})=1$, a $g\\left(T(\\overrightarrow{X})\\right)=\\frac{\\lambda^{\\sum_{i=1}^{n}X_{i}}}{(\\lambda+1)^{\\sum_{i=1}^{n}X_{i}+n}}$ <br>\n",
    "$T=\\sum_{i=1}^{n}X_{i}$ - минимальная достаточная статистика. <br>\n",
    "$\\mathbb{E}_{\\lambda}\\widehat{\\lambda}=\\mathbb{E}_{\\lambda}\\overline{X}=\\mathbb{E}_{\\lambda}\\frac{1}{n}\\cdot \\sum_{i=1}^{n}x_{i}=\\frac{1}{n}\\cdot \\mathbb{E_{\\lambda}}\\sum_{i=1}^{n}x_{i}=\\frac{1}{n}\\cdot \\sum_{i=1}^{n}\\mathbb{E_{\\lambda}}X_{i}=\\frac{1}{n}\\cdot n\\cdot \\lambda=1$-НРМД-оценка"
   ]
  },
  {
   "cell_type": "markdown",
   "id": "50e9615a-2b20-4b6e-bc76-7d1b10cf8ea8",
   "metadata": {},
   "source": [
    "#### h.d) Построить А.Д.И. уровня значимости $\\alpha_1$ для параметра $\\lambda$ на базе ОМП <br>\n",
    "- Построим на базе ОМП\n",
    "\n",
    "$I_{n}(\\lambda) = -\\mathbb{E} \\frac{\\partial^2 LL(\\overrightarrow{X};\\theta)}{{\\partial \\lambda}^2}$, $\\frac{\\partial^2 LL(\\overrightarrow{X};\\theta)}{{\\partial \\lambda}^2} = - \\frac{\\sum_{i=1}^{n}X_{i}}{\\lambda^2} + \\frac{\\sum_{i=1}^{n}X_{i}+n}{(\\lambda + 1)^2}$\n",
    "\n",
    "$-\\mathbb{E} \\frac{\\partial^2 LL(\\overrightarrow{X};\\theta)}{{\\partial \\lambda}^2} = -\\mathbb{E}\\left(- \\frac{\\sum_{i=1}^{n}X_{i}}{\\lambda^2} + \\frac{\\sum_{i=1}^{n}X_{i}+n}{(\\lambda + 1)^2} \\right) = \\frac{n}{\\lambda^{2}}-\\mathbb{E}\\left( \\frac{\\sum_{i=1}^{n}X_{i}+n}{(\\lambda+1)^{2}} \\right) = \\frac{n}{\\lambda^{2}}-\\mathbb{E}\\left( \\frac{\\sum_{i=1}^{n}X_{i}}{(\\lambda+1)^{2}} \\right)-\\mathbb{E}\\left( \\frac{n}{(\\lambda+1)^{2}} \\right)=\\frac{n}{\\lambda^{2}}-\\frac{n}{(\\lambda+1)^{2}}-\\frac{n}{(\\lambda+1)^{2}}=\\frac{n\\left(\\lambda^{2}+1\\right)}{(\\lambda+1)^{2}\\cdot \\lambda^{2}}$\n",
    "\n",
    "$I(\\lambda) = \\frac{\\left(\\lambda^{2}+1\\right)}{(\\lambda+1)^{2}\\cdot \\lambda^{2}}$\n",
    "\n",
    "$I(\\widehat{\\theta}) = \\frac{\\left(\\bar{X}^{2}+1 \\right)}{\\left(\\bar{X}+1 \\right)^{2}\\cdot \\bar{X}^{2}}$\n",
    "\n",
    "выбираем $X_{\\alpha_1}: \\mathrm{Ф(X_{\\alpha_1})}=1 - \\frac{\\alpha_1}{2} = 1 - \\frac{0.2}{2} = 0.9 \\Rightarrow X_{0.9}=1.28$\n",
    "\n",
    "А.Д.И. : $\\left[ \\widehat{\\theta}(\\overrightarrow{X})-\\frac{X_{\\alpha}}{\\sqrt{n\\cdot I(\\widehat{\\theta})}}; \\widehat{\\theta}(\\overrightarrow{X})+\\frac{X_{\\alpha}}{\\sqrt{n\\cdot I(\\widehat{\\theta})}}\\right]$\n",
    "\n",
    "$ \\lambda \\in \\left[ \\overline{X}-\\frac{X_{0.9}}{\\sqrt{50\\cdot \\frac{(\\bar{X}^{2}+1)}{(\\bar{X}+1)^{2}\\cdot \\bar{X}^{2}}}}; \\overline{X}+\\frac{X_{0.9}}{\\sqrt{50\\cdot \\frac{(\\bar{X}^{2}+1)}{(\\bar{X}+1)^{2}\\cdot \\bar{X}^{2}}}}\\right] = $\n",
    "$ \\left[ 1.98-\\frac{1.28}{\\sqrt{50\\cdot \\frac{(1.98^{2}+1)}{(1.98+1)^{2}\\cdot 1.98^{2}}}}; 1.98+\\frac{1.28}{\\sqrt{50\\cdot \\frac{(1.98^{2}+1)}{(1.98+1)^{2}\\cdot 1.98^{2}}}}\\right] = [1.498; 2.462]$"
   ]
  },
  {
   "cell_type": "markdown",
   "id": "99049b67-15af-4cfa-81e6-7593f2d46544",
   "metadata": {},
   "source": [
    "#### h.e) Используя гистограмму частот, построить критерий значимости $\\mathcal{X^{2}}$ проверки простой гипотезы согласия с геометрическим распределением с параметром $\\lambda_{0}$. Проверить гипотезу на уровень значимости $\\alpha_{1}$. Вычислить наибольшее значение уровня значимости, на котором ещё нет оснований отвергнуть данную гипотезу."
   ]
  },
  {
   "cell_type": "code",
   "execution_count": 11,
   "id": "4a55e861-8e6c-4ab7-9a37-a77dfdc75616",
   "metadata": {},
   "outputs": [
    {
     "name": "stdout",
     "output_type": "stream",
     "text": [
      "Статистика критерия: 25.46673811831733\n",
      "Асимптотический критерий: 1\n",
      "Гипотеза: отвергается\n",
      "Максимальное значение уровня значимости, про котором нет оснований отвергнуть основную гипотезу: 0.0\n"
     ]
    }
   ],
   "source": [
    "def f_geom(lmbd):\n",
    "    return lambda k: lmbd**k / (lmbd+1)**(k+1)\n",
    "\n",
    "alpha_1 = 0.2\n",
    "lambda_0 = 5\n",
    "\n",
    "F_geom = f_geom(lambda_0)\n",
    "X = np.array(data, dtype=float)\n",
    "\n",
    "# гипотетические вероятности попадания в интервалы\n",
    "p = np.array([F_geom(i) for i in range(7)])\n",
    "\n",
    "# ожидаемые частоты\n",
    "nu = np.array([(X==i).sum() for i in range(7)], dtype=float)\n",
    "\n",
    "# статистика критерия\n",
    "hi_2 = ((nu - (n*p))**2 / (n*p)).sum()\n",
    "print(f'Статистика критерия: {hi_2}')\n",
    "\n",
    "# асимптотический критерий\n",
    "phi = get_criteria(alpha_1, len(set(X))-1)\n",
    "print(f'Асимптотический критерий: {phi(hi_2)}')\n",
    "\n",
    "print(f'Гипотеза: {get_hypothesis_status(phi(hi_2))}')\n",
    "\n",
    "a_max = 1 - chi2.cdf(hi_2, len(set(X))-1)\n",
    "print(f'Максимальное значение уровня значимости, про котором нет оснований отвергнуть основную гипотезу: {round(a_max, 3)}')"
   ]
  },
  {
   "cell_type": "markdown",
   "id": "86f0dc66-df94-46f9-a9bb-aa78a50114b6",
   "metadata": {},
   "source": [
    "#### h.f) Построить критерий значимости  $\\mathcal{X^{2}}$ проверки сложной гипотезы согласия с геометрическим распределением. Проверить гипотезу по уровню значимости $\\alpha_{1}$.Вычислить наибольшее значение уровня значимости, на котором ещё нет оснований отвергнуть данную гипотезу.\n",
    "\n",
    "Основная гипотеза: $H_0 : F \\in \\left\\{Geom(\\theta) : \\theta \\in \\Theta_0 \\right\\}$\n",
    "\n",
    "Альтернативная гипотеза: $H_A : F \\notin \\left\\{Geom(\\theta) : \\theta \\in \\Theta_0 \\right\\}$\n",
    "\n"
   ]
  },
  {
   "cell_type": "code",
   "execution_count": 12,
   "id": "9e7f9727-b8eb-4137-8019-1634d7caee35",
   "metadata": {},
   "outputs": [
    {
     "name": "stdout",
     "output_type": "stream",
     "text": [
      "Статистика критерия: 23.441999999999997\n",
      "Асимптотический критерий: 1\n",
      "Гипотеза: отвергается\n",
      "Максимальное значение уровня значимости, при котором нет оснований отвергнуть основную гипотезу: 0.0\n"
     ]
    }
   ],
   "source": [
    "import scipy\n",
    "r = 7\n",
    "d = 1\n",
    "n = len(data)\n",
    "alpha_1 = 0.2\n",
    "lambda_0 = 5\n",
    "\n",
    "def Geom(h, k):\n",
    "  s = 0\n",
    "  for i in range(k + 1):\n",
    "    s += (h ** i) / (h + 1) ** (i + 1)\n",
    "  return s\n",
    "\n",
    "def f_sum(lmbd):\n",
    "    if lmbd == 0:\n",
    "        return 10**6\n",
    "\n",
    "    I = [0, 1, 2, 3, 4, 5, 6]\n",
    "    res = [0] * (len(I) + 1)\n",
    "    \n",
    "    res[0] = Geom(lmbd, 1)\n",
    "    \n",
    "    for i in range(1, len(I)):\n",
    "        res[i] = Geom(lmbd, I[i]) - Geom(lmbd, I[i - 1])\n",
    "        \n",
    "    res[len(I)] = 1 - Geom(lmbd, 6)\n",
    "    res = [round(elem, 3) for elem in res]\n",
    "\n",
    "    ans = [(nu[i] - n * res[i]) ** 2 / (n * res[i]) for i in range(len(nu))]\n",
    "    ans = [round(item, 3) for item in ans]\n",
    "    return np.sum(ans)\n",
    "\n",
    "X = np.array(data, dtype=float)\n",
    "\n",
    "# ожидаемые частоты\n",
    "nu = np.array([(X==i).sum() for i in range(7)], dtype=float)\n",
    "\n",
    "# статистика критерия\n",
    "result = scipy.optimize.minimize_scalar(f_sum)\n",
    "print(f'Статистика критерия: {result.fun}')\n",
    "\n",
    "# асимптотический критерий\n",
    "phi = get_criteria(alpha_1, r - d - 1)\n",
    "print(f'Асимптотический критерий: {phi(result.fun)}')\n",
    "\n",
    "# статус гипотезы\n",
    "print(f'Гипотеза: {get_hypothesis_status(phi(result.fun))}')\n",
    "\n",
    "a_max = 1 - chi2.cdf(result.fun, r - d - 1)\n",
    "print(f'Максимальное значение уровня значимости, при котором нет оснований отвергнуть основную гипотезу: {round(a_max, 3)}')"
   ]
  },
  {
   "cell_type": "markdown",
   "id": "dec8a872-abdc-4c6a-90b3-bce77db827e5",
   "metadata": {},
   "source": [
    "### Второе задание"
   ]
  },
  {
   "cell_type": "code",
   "execution_count": 13,
   "id": "751b32f6-e2d3-430e-ac34-8500c6e77d11",
   "metadata": {},
   "outputs": [
    {
     "name": "stdout",
     "output_type": "stream",
     "text": [
      "[2.454, 0.187, 3.993, 2.664, 2.314, -2.111, 3.016, 2.993, 1.652, 2.631, -0.436, -3.428, -1.131, 2.54, 1.506, 1.723, 1.661, 0.611, -0.43, -1.251, 3.245, -0.053, 0.574, -0.342, -1.186, 2.637, -2.112, 1.112, 5.055, -0.482, 0.622, 1.418, 1.256, 1.217, 6.219, -0.793, 1.271, -1.034, -0.424, 1.821, 2.173, 2.427, 0.883, 4.574, 0.42, -2.175, -1.165, -1.941, 2.57, 0.51]\n"
     ]
    }
   ],
   "source": [
    "second_data = [2.454, 0.187, 3.993, 2.664, 2.314, -2.111, 3.016, 2.993, 1.652, 2.631, -0.436, -3.428, -1.131, 2.540, 1.506, 1.723, 1.661, 0.611, -0.430, \n",
    "               -1.251, 3.245, -0.053, 0.574, -0.342, -1.186, 2.637, -2.112, 1.112, 5.055, -0.482, 0.622, 1.418, 1.256, 1.217, 6.219, -0.793, 1.271, \n",
    "               -1.034, -0.424, 1.821, 2.173, 2.427, 0.883, 4.574, 0.420, -2.175, -1.165, -1.941, 2.570, 0.510]\n",
    "print(second_data);"
   ]
  },
  {
   "cell_type": "markdown",
   "id": "d15652c0-74c0-4dbc-9bd2-bdc285b787ed",
   "metadata": {
    "editable": true,
    "slideshow": {
     "slide_type": ""
    },
    "tags": []
   },
   "source": [
    "#### a) Построить вариационный ряд, эмперическую функцию распределения и гистограмму частот.\n",
    "<br>Формула эмперической функции распределения:<br>\n",
    "$\\displaystyle F_n(x) = \\frac {1} {n} \\sum_{i=1}^n\n",
    "\\mathbb{1}_{\\{x_i < x\\}} = \\frac {1} {n} \\sum_{i=1}^n \\mathbb{1}_{\\{x_{(i)} < x\\}},\n",
    "\\mathbb{1}_{A} =\n",
    "\\begin{cases}\n",
    "    1&\\text{, если A выполнено}\\\\\n",
    "    0&\\text{, иначе}\n",
    "\\end{cases}$<br><br>"
   ]
  },
  {
   "cell_type": "code",
   "execution_count": 14,
   "id": "cefc799f-dfe8-45ce-8be6-2bdcf63a176e",
   "metadata": {},
   "outputs": [
    {
     "name": "stdout",
     "output_type": "stream",
     "text": [
      "[-3.428 -2.175 -2.112 -2.111 -1.941 -1.251 -1.186 -1.165 -1.131 -1.034\n",
      " -0.793 -0.482 -0.436 -0.43  -0.424 -0.342 -0.053  0.187  0.42   0.51\n",
      "  0.574  0.611  0.622  0.883  1.112  1.217  1.256  1.271  1.418  1.506\n",
      "  1.652  1.661  1.723  1.821  2.173  2.314  2.427  2.454  2.54   2.57\n",
      "  2.631  2.637  2.664  2.993  3.016  3.245  3.993  4.574  5.055  6.219]\n"
     ]
    }
   ],
   "source": [
    "variation_second_data = np.sort(second_data);\n",
    "print(variation_second_data)"
   ]
  },
  {
   "cell_type": "markdown",
   "id": "8254454e-d539-4128-9a29-f87e7d4b4162",
   "metadata": {},
   "source": [
    "Построим график эмперической функции распределения"
   ]
  },
  {
   "cell_type": "code",
   "execution_count": 15,
   "id": "68851598-b42b-439a-b20d-2d0446d271b7",
   "metadata": {},
   "outputs": [
    {
     "data": {
      "image/png": "[encoded data removed]",
      "text/plain": [
       "<Figure size 640x480 with 1 Axes>"
      ]
     },
     "metadata": {},
     "output_type": "display_data"
    }
   ],
   "source": [
    "from statsmodels.distributions.empirical_distribution import ECDF\n",
    "\n",
    "ecdf = ECDF(second_data)\n",
    "plt.step(ecdf.x, ecdf.y)\n",
    "plt.xlabel('$x_{i}$')\n",
    "plt.ylabel('$F(x)$')\n",
    "plt.title('Эмпирическая функция')\n",
    "plt.show()"
   ]
  },
  {
   "cell_type": "markdown",
   "id": "c6d71a1a-7dc7-4ac4-9355-54384746eb4e",
   "metadata": {},
   "source": [
    "Построим гистограмму и полигон частот с шагом h:"
   ]
  },
  {
   "cell_type": "code",
   "execution_count": 16,
   "id": "467160a4-9b28-4d17-a861-3464692f8296",
   "metadata": {
    "editable": true,
    "slideshow": {
     "slide_type": ""
    },
    "tags": []
   },
   "outputs": [
    {
     "data": {
      "image/png": "[encoded data removed]",
      "text/plain": [
       "<Figure size 640x480 with 1 Axes>"
      ]
     },
     "metadata": {},
     "output_type": "display_data"
    }
   ],
   "source": [
    "h=0.8\n",
    "intervals = np.arange(min(second_data), max(second_data) + h, h)\n",
    "plt.hist(second_data, bins=intervals, color='yellow', alpha=0.5, density=True, edgecolor='black', label='Гистограмма')\n",
    "hist, _ = np.histogram(second_data, bins=intervals, density=True)\n",
    "mid_points = 0.5 * (intervals[1:] + intervals[:-1])\n",
    "plt.plot(mid_points, hist, color='green', marker='o', linestyle='-', label='Полигон')\n",
    "plt.title(f'Гистограмма и полигон частот c шагом h = {h}')\n",
    "plt.xlabel('$x_{i}$')\n",
    "plt.ylabel('$H(x)$')\n",
    "plt.legend()\n",
    "plt.show()"
   ]
  },
  {
   "cell_type": "markdown",
   "id": "0aa6a7bd-e26d-46f5-add4-aee45a829caa",
   "metadata": {},
   "source": [
    "#### b) Вычислить выборочные аналоги слеующих числовых характеристик: <br>(i)математическое ожидание, (ii)дисперсия, (iii)СКО, (iv)медианы, (v)асимметрии, (vi) эксцесса, (vii) вероятности $\\mathrm{P}(X\\in \\left[ c,d \\right])$"
   ]
  },
  {
   "cell_type": "code",
   "execution_count": 17,
   "id": "8e855f9c-46ec-4894-b3c6-c2e267b50723",
   "metadata": {},
   "outputs": [
    {
     "name": "stdout",
     "output_type": "stream",
     "text": [
      "(i) Математическое ожидание : 0.9891\n",
      "(ii) Дисперсия : 3.96926425\n",
      "(iii) Выборочное стандартное отклонение : 1.992301244792062\n",
      "(iv) Медиана : 1.1645\n",
      "(v) Асимметрия : 0.17868775415818294\n",
      "(vi) Эксцесс : -0.13861983109723885\n",
      "(vii) Вероятность : 0.58\n"
     ]
    }
   ],
   "source": [
    "# Математическое ожидание\n",
    "mean = np.mean(second_data)\n",
    "# Дисперсия\n",
    "variance = np.var(second_data)\n",
    "#СКО\n",
    "deviation=np.std(second_data)\n",
    "# Медиана\n",
    "median = np.median(second_data)\n",
    "# Асимметрия\n",
    "skewness = stats.skew(second_data)\n",
    "# Эксцесс\n",
    "kurtosis = stats.kurtosis(second_data)\n",
    "\n",
    "# Вероятность\n",
    "c=0.2\n",
    "d=2.6\n",
    "probability = len([x for x in data if c <= x <= d]) / len(second_data)  \n",
    "print(\"(i) Математическое ожидание :\",mean)\n",
    "print(\"(ii) Дисперсия :\",variance)\n",
    "print(\"(iii) Выборочное стандартное отклонение :\",deviation)\n",
    "print(\"(iv) Медиана :\",median)\n",
    "print(\"(v) Асимметрия :\",skewness)\n",
    "print(\"(vi) Эксцесс :\",kurtosis)\n",
    "print(\"(vii) Вероятность :\",probability)"
   ]
  },
  {
   "cell_type": "markdown",
   "id": "4e3e0b43-736b-4683-9ebb-0461dccbe13f",
   "metadata": {
    "jp-MarkdownHeadingCollapsed": true
   },
   "source": [
    "#### c) В предположении, что исходные наблюдения являются выборкой из нормального распределения, построить ОМП и ОММ параметров $(a, \\sigma^{2})$. Найти смещение оценки. <br>\n",
    "- Построим ОМП: <br>\n",
    "Плотность нормального распределения: $P_{\\theta}(X)=\\frac{1}{\\sqrt{2\\pi\\sigma^{2}}} \\cdot exp(-\\frac{(x-a)^{2}}{2\\sigma^{2}})$ <br>\n",
    "Функция максимального правдоподобия: $L(\\overrightarrow{X};\\theta) = \\frac{1}{(\\sigma\\sqrt{2\\pi})^{n}} \\cdot \\prod_{i=1}^{n}exp \\left(-\\frac{(x_{i}-a)^{2}}{2\\sigma^{2}}\\right)=\n",
    "\\sigma^{-n} \\cdot (2\\pi)^{-\\frac{n}{2}} \\cdot exp \\left(-\\frac{\\sum_{i=1}^{n}(x_{i}-a)^{2}}{2\\sigma^{2}}\\right)= $ <br>\n",
    "$\\sigma^{-n} \\cdot (2\\pi)^{-\\frac{n}{2}} \\cdot exp \\left(-\\frac{1}{{2\\sigma^{2}}}\\sum_{i=1}^{n}(x_{i}-a)^{2}\\right)$ <br>\n",
    "Логарифмическая функция максимального правдоподобия: $LL(\\overrightarrow{X};\\theta)= - \\frac{n}{2} ln(2\\pi) - n ln(\\sigma) - \\frac{1}{{2\\sigma^{2}}}\n",
    "\\sum_{i=1}^{n}(x_{i}-a)^{2}$<br>\n",
    "Частная производная по $a$: $\\frac{\\partial LL(\\overrightarrow{X};\\theta)}{\\partial a} = \\frac{1}{\\sigma^{2}} \\sum_{i=1}^{n}x_{i} -na \\Rightarrow $\n",
    "$\\widehat{a} = \\frac{1}{n} \\sum_{i=1}^{n}x_{i} = \\overline{X}$. <br>\n",
    "Частная производная по $\\sigma$: $\\frac{\\partial LL(\\overrightarrow{X};\\theta)}{\\partial \\sigma} = -\\frac{n}{\\sigma} + \\frac{1}{\\sigma^{3}}\\sum_{i=1}^{n}(x_{i}-a)^{2} = 0 \\Rightarrow $\n",
    "$-n\\sigma^{2} + \\sum_{i=1}^{n}(x_{i}-a)^{2} = 0 \\Rightarrow \\sigma^{2} = \\frac{1}{n}\\sum_{i=1}^{n}(x_{i}-a)^{2} \\Rightarrow $ <br>\n",
    "$\\widehat{\\sigma^{2}} =\\frac{1}{n}\\sum_{i=1}^{n}(x_{i}-\\bar{X})^{2} = s^{2}$\n",
    "- Построим ОММ: <br>\n",
    "$\\mathbb{E}X_{1}=a;\\, M_{1}=\\bar{X}$ <br>\n",
    "$\\mathbb{E}X_{1}^{2}=\\sigma^{2}+a^2;\\, M_{2}=\\bar{X^2}$ <br>\n",
    "Полученная система: <br>\n",
    "$ \\begin{cases}\n",
    "    a = \\bar{X}\\\\\n",
    "    \\sigma^{2}+a^2 = \\bar{X^2}\n",
    "\\end{cases} \\Rightarrow \\bar{X}^{2} + \\sigma^{2} = \\bar{X^2} \\Rightarrow \\sigma^{2} = \\bar{X^2} - \\bar{X}^{2} = s^{2}$ <br>\n",
    "Итого : $\\widetilde{\\theta} = (\\widetilde{a}, \\widetilde{\\sigma^2}) = (\\bar{X}, s^{2})$ <br>\n",
    "- Найдем смещение оценки: <br>\n",
    "Наша функция правдоподобия: $\\sigma^{-n} \\cdot (2\\pi)^{-\\frac{n}{2}} \\cdot exp \\left(-\\frac{1}{{2\\sigma^{2}}}\\sum_{i=1}^{n}x_{i}^2 + \\frac{a}{\\sigma^2}\\sum_{i=1}^{n}x_{i} - \\frac{na^2}{2\\sigma^2}\\right)$ <br>\n",
    "Тогда: $T=(\\sum_{i=1}^{n}X_{i}^2; \\sum_{i=1}^{n}X_{i})$ - минимальная достаточная статистика. <br>\n",
    "Так как нормальное распределение принадлежит экспоненциальному семейству распределения, $T=(\\sum_{i=1}^{n}X_{i}^2; \\sum_{i=1}^{n}X_{i})$ - полная достаточная статистика. <br>\n",
    "$\\mathbb{E}\\widehat{a}=\\frac{1}{n}\\mathbb{E}\\sum_{i=1}^{n}x_{i} = \\frac{1}{n}\\sum_{i=1}^{n}\\mathbb{E}x_{i} = a $ - несмещенная оценка <br>\n",
    "$\\mathbb{E}\\hat{\\sigma^{2}}=\\mathbb{E} s^2 = \\frac{1}{n} \\mathbb{E} \\sum_{i=1}^{n}(x_i - \\bar{x})^2 = \\left[ x_i - \\mathbb{E} x_i = y_i ; \\mathbb{E} y_i = 0; \\mathbb{D} y_i = \\sigma^2 \\right] =$ <br>\n",
    "$ \\frac{1}{n}\\mathbb{E}\\sum_{i=1}^{n}\\left( y_i - \\bar{y} \\right)^2 = \\mathbb{E}\\bar{y^2} - \\mathbb{E}\\bar{y}^2 $ <br>\n",
    "$\\mathbb{E}\\bar{y^2} = \\frac{1}{n} \\mathbb{E}\\sum_{i=1}^{n}y_i^2 = \\sigma^2 $ <br>\n",
    "$\\mathbb{E}\\bar{y}^2 = \\frac{1}{n^2} \\mathbb{E}\\left(\\sum_{i=1}^{n}y_i^2 = \\sigma^2\\right)^2 = \\frac{1}{n^2} \\sum_{i=1}^{n}\\sum_{j=1}^{n}\\mathbb{E}y_i\\cdot y_j $ <br>\n",
    "  - $ i \\neq j \\Rightarrow \\mathbb{E}y_i\\cdot y_j = \\mathbb{E}y_i \\cdot \\mathbb{E}y_j = 0 $ <br>\n",
    "  - $ i = j \\Rightarrow \\mathbb{E}y_i\\cdot y_j = \\mathbb{E}y_i^2 = \\frac{\\sigma^2}{n} $\n",
    "  \n",
    "  $\\mathbb{E}\\bar{y}^2 = \\frac{\\sigma^2}{n}$ <br>\n",
    "  $\\mathbb{E}\\hat{\\sigma^{2}} = \\frac{n-1}{n} \\sigma^2$ - смещенная оценка <br>\n"
   ]
  },
  {
   "cell_type": "markdown",
   "id": "90a2670f-7c35-42d9-bf1e-c3423b284eef",
   "metadata": {},
   "source": [
    "#### d)Построить доверительные интервалы уровня значимости $\\alpha_2$ для параметра $(a, \\sigma^2)$.\n",
    "\n",
    "Первый параметр: <br>\n",
    "$\\sqrt{n-1}\\frac{\\bar{x}-a}{s} \\sim \\mathcal{S}_{n-1}$ <br>\n",
    "Выберем $x_{\\alpha_2}$: $\\mathcal{S}_{n-1}\\left(x{\\alpha_2}\\right) = 1 - \\frac{\\alpha_2}{2} = 1 - \\frac{0.2}{2} = 0.9 $ <br>\n",
    "$\\mathbb{P}\\left( -x_{\\alpha_2} \\le \\sqrt{n-1}\\frac{\\bar{x} - a}{s} \\le x_{\\alpha_2} \\right) = 1 - \\alpha_2 \\Rightarrow$ <br>\n",
    "$\\mathbb{P}\\left( \\bar{x} - \\frac{x_{\\alpha_2}s}{\\sqrt{n-1}} \\le a \\le \\bar{x} + \\frac{x_{\\alpha_2}s}{\\sqrt{n-1}} \\right) = 1 - \\alpha_2$"
   ]
  },
  {
   "cell_type": "code",
   "execution_count": 18,
   "id": "fcbdbdf9-e744-4125-8f2e-3d57fdb3b5a8",
   "metadata": {},
   "outputs": [
    {
     "name": "stdout",
     "output_type": "stream",
     "text": [
      "[0.6193662347931528, 1.3588337652068472]\n"
     ]
    }
   ],
   "source": [
    "alpha_2 = 0.2\n",
    "X = np.array(second_data, dtype=float)\n",
    "\n",
    "# Первый параметр\n",
    "x_alpha_2 = stats.t.ppf(1-alpha_2/2, len(X) - 1)\n",
    "c = x_alpha_2 * deviation / (len(X) - 1) ** 0.5\n",
    "print([0.9891 - c, 0.9891 + c])"
   ]
  },
  {
   "cell_type": "markdown",
   "id": "057bc649-dc92-4613-a198-ef022b3776d9",
   "metadata": {},
   "source": [
    "Второй параметр: <br>\n",
    "$\\frac{ns^2}{\\sigma^2} \\sim \\chi_{n-1}^2$ <br>\n",
    "Выберем $x_{1\\alpha_2}$, $x_{2\\alpha_2}$: <br>\n",
    "$\\mathcal{K}_{n-1}\\left( x_{1\\alpha_{2}} \\right) = \\frac{\\alpha_{2}}{2}$ <br>\n",
    "$\\mathcal{K}_{n-1}\\left( x_{2\\alpha_{2}} \\right) = 1 - \\frac{\\alpha_{2}}{2}$ <br>\n",
    "$\\mathbb{P}\\left( \\frac{ns^2}{x_{1\\alpha_{2}}} \\le \\sigma^2 \\le \\frac{ns^2}{x_{2\\alpha_{2}}} \\right) = 1 - \\frac{\\alpha_{2}}{2}$\n"
   ]
  },
  {
   "cell_type": "code",
   "execution_count": 19,
   "id": "7c18b01f-4292-413c-9e2a-01e8ef4d0a15",
   "metadata": {},
   "outputs": [
    {
     "name": "stdout",
     "output_type": "stream",
     "text": [
      "[32.70759705940602, 152.77344422912998]\n"
     ]
    }
   ],
   "source": [
    "# Второй параметр\n",
    "x_alpha_1 = stats.chi.ppf(alpha_2/2, len(X) - 1)\n",
    "x_alpha_2 = stats.t.ppf(1 - alpha_2/2, len(X) - 1)\n",
    "left = len(X) * variance / x_alpha_1\n",
    "right = len(X) * variance / x_alpha_2\n",
    "print([left, right])"
   ]
  },
  {
   "cell_type": "markdown",
   "id": "e0b6a4e9-f58a-432f-bb9d-d9ec5a97e2b1",
   "metadata": {},
   "source": [
    "#### e) С использованием теоремы Колмогорова построить критерий значимости проверки простой гипотезы согласия с нормальным распределением с параметрами $(a_0, \\sigma_0 ^2)$. Проверить гипотезу на уровне значимости $\\alpha_2$. Вычислить наибольшее значения уровня значимости, на котором ещё нет оснований отвергнуть гипотезу.\n",
    "\n",
    "$ H_0 : (a_0, \\sigma_0^2)$ - основная гипотеза\n",
    "\n",
    "По т. Колмогорова:\n",
    "\n",
    "$ \\sqrt{n} \\cdot max|F_n(y) - F(y)| \\sim K$, К - распр. Колмогорова.\n",
    "\n",
    "$D_n = \\sqrt{n} \\cdot max|F_n(y) - F(y)| $\n",
    "\n",
    "$ P(D_n < x_{\\alpha_2}) = 1 - \\alpha_2 = 0.8 $"
   ]
  },
  {
   "cell_type": "code",
   "execution_count": 20,
   "id": "8b798996-f314-4254-b83a-c7175cbf70d8",
   "metadata": {},
   "outputs": [
    {
     "name": "stdout",
     "output_type": "stream",
     "text": [
      "x_alpha2 = 0.12362978909230184\n"
     ]
    }
   ],
   "source": [
    "x_alpha_2 = stats.ksone.ppf(1 - alpha_2, len(second_data))\n",
    "print(\"x_alpha2 =\", x_alpha_2)"
   ]
  },
  {
   "cell_type": "markdown",
   "id": "e89ccc3e-fd1e-4212-9c2b-d4c586bf24ee",
   "metadata": {},
   "source": [
    "Найдем $D_n$:"
   ]
  },
  {
   "cell_type": "code",
   "execution_count": 21,
   "id": "45f3d57c-655c-417f-8b4e-0d603571e717",
   "metadata": {},
   "outputs": [
    {
     "name": "stdout",
     "output_type": "stream",
     "text": [
      "Dn:  0.343\n"
     ]
    }
   ],
   "source": [
    "n = len(second_data)\n",
    "a_0 = 3\n",
    "sigma_0 = 2\n",
    "\n",
    "def Fn(x):\n",
    "  s = 0\n",
    "  for i in variation_second_data:\n",
    "    if i >= x:\n",
    "      return s / n\n",
    "    s += 1\n",
    "  return s / n\n",
    "\n",
    "x = np.arange(-1, 1, 0.001)\n",
    "y = [abs(Fn(i) - stats.norm.cdf(i, a_0, sigma_0)) for i in x]\n",
    "\n",
    "Dn = max(y)\n",
    "print(\"Dn: \", round(Dn, 3))\n"
   ]
  },
  {
   "cell_type": "markdown",
   "id": "ac9fb060-59de-46f6-a01f-f3d1e6cdf807",
   "metadata": {},
   "source": [
    "$ D_n > x_\\alpha $, значит гипотеза $H_0$ отвергается. \n",
    "\n",
    "Найдём наибольшее значение уровня значимости, на котором нет оснований отвергнуть гипотезу.\n",
    "\n",
    "$\\alpha_2 \\le 1 - \\mathcal{K}(D_n)$"
   ]
  },
  {
   "cell_type": "code",
   "execution_count": 22,
   "id": "b7db8539-8152-4f3e-b968-f07d1a4304c2",
   "metadata": {},
   "outputs": [
    {
     "name": "stdout",
     "output_type": "stream",
     "text": [
      "Наибольшее значение уровня значимости, на котором нет оснований отвергнуть гипотезу: 0.9383486622039006\n"
     ]
    }
   ],
   "source": [
    "func = stats.ksone(len(second_data))\n",
    "alpha_max = 1 - func.ppf(Dn)\n",
    "print(\"Наибольшее значение уровня значимости, на котором нет оснований отвергнуть гипотезу:\", alpha_max)"
   ]
  },
  {
   "cell_type": "markdown",
   "id": "cbed3c9f-0e9c-444a-8962-8084494ff284",
   "metadata": {},
   "source": [
    "#### f) Используя гистограмму частот, построить критерий значимости $\\mathcal{X^{2}}$ проверки простой гипотезы согласия с нормальным распределением с параметрами $(a_0, \\sigma_0 ^2)$. Проверить гипотезу на уровень значимости $\\alpha_2$. Вычислить наибольшее значение уровня значимости, на котором ещё нет оснований отвергнуть данную гипотезу."
   ]
  },
  {
   "cell_type": "code",
   "execution_count": 23,
   "id": "71c37d00-d3c3-4801-8583-25b588193791",
   "metadata": {},
   "outputs": [
    {
     "name": "stdout",
     "output_type": "stream",
     "text": [
      "Статистика критерия: 91.0262\n",
      "Асимптотический критерий: 1\n",
      "Гипотеза: отвергается\n",
      "Максимальное значение уровня значимости, при котором нет оснований отвергнуть основную гипотезу: 0.0\n"
     ]
    }
   ],
   "source": [
    "import math\n",
    "\n",
    "alpha_2 = 0.92\n",
    "a_0 = 3\n",
    "sigma_0 = 2\n",
    "X = np.array(second_data, dtype=float)\n",
    "n = len(second_data)\n",
    "r = 5\n",
    "\n",
    "# Интервалы:\n",
    "# (-inf, -1], (-1, 0.52], (0.52, 1.6], (1.6, 2.6], (2.6, +inf)\n",
    "\n",
    "# ожидаемые частоты\n",
    "nu  = [0, 0, 0, 0, 0]\n",
    "for i in second_data:\n",
    "    j=0\n",
    "    if(-1<i<=0.52):\n",
    "        j=1\n",
    "    elif(0.52<i<=1.6):\n",
    "        j=2\n",
    "    elif(1.6<i<=2.6):\n",
    "        j=3\n",
    "    elif(i > 2.6):\n",
    "        j=4\n",
    "    nu[j]+=1\n",
    "nu_np = np.array(nu)\n",
    "\n",
    "def f_norm(a, b):\n",
    "    return lambda x: stats.norm.cdf(x, a, b)\n",
    "    \n",
    "def sum_norm(a, b):\n",
    "    I = np.array([-1, 0.52, 1.6, 2.6])\n",
    "    res = np.zeros(len(I) + 1)\n",
    "\n",
    "    F_norm = f_norm(a, b)\n",
    "\n",
    "    res[0] = F_norm(I[0])\n",
    "    for i in range(1, len(I)):\n",
    "        res[i] = F_norm(I[i]) - F_norm(I[i - 1])\n",
    "\n",
    "    res[len(I)] = 1 - F_norm(I[-1])\n",
    "    #res = [round(elem, 5) for elem in res]\n",
    "\n",
    "    ans = [(nu_np[i] - n * res[i]) ** 2 / (n * res[i]) for i in range(len(nu_np))]\n",
    "    #ans = [round(elem, 4) for elem in ans]\n",
    "    return np.sum(ans)\n",
    "\n",
    "# статистика критерия\n",
    "hi_2 = sum_norm(a_0, sigma_0)\n",
    "print(f'Статистика критерия: {round(hi_2, 4)}')\n",
    "\n",
    "# асимптотический критерий\n",
    "phi = get_criteria(alpha_2, r - 1)\n",
    "print(f'Асимптотический критерий: {phi(hi_2)}')\n",
    "\n",
    "# Статус гипотезы\n",
    "print(f'Гипотеза: {get_hypothesis_status(phi(hi_2))}')\n",
    "\n",
    "x_a = stats.chi2.ppf(1 - alpha_2, r - 1)\n",
    "a_max = 1 - stats.chi2.cdf(hi_2, r - 1)\n",
    "print(f'Максимальное значение уровня значимости, при котором нет оснований отвергнуть основную гипотезу: {round(a_max, 3)}')"
   ]
  },
  {
   "cell_type": "markdown",
   "id": "f61a9e55-47e1-44d4-ad24-0df3bbc8494d",
   "metadata": {},
   "source": [
    "#### g)Построить критерий значимости  $\\mathcal{X^{2}}$ проверки сложной гипотезы согласия с нормальным распределением. Проверить гипотезу по уровню значимости $(a, \\sigma^2)=(a_0, \\sigma^2_1)$. Вычислить наибольшее значение уровня значимости, на котором ещё нет оснований отвергнуть данную гипотезу.\n",
    "\n",
    "Основная гипотеза: $H_0 : F \\in \\left\\{U(\\theta) : \\theta \\in \\Theta_0 \\right\\}$\n",
    "\n",
    "Альтернативная гипотеза: $H_A : F \\notin \\left\\{U(\\theta) : \\theta \\in \\Theta_0 \\right\\}$"
   ]
  },
  {
   "cell_type": "code",
   "execution_count": 24,
   "id": "c490d975-55c8-4d1c-b616-ee473525d90e",
   "metadata": {},
   "outputs": [
    {
     "name": "stdout",
     "output_type": "stream",
     "text": [
      "Статистика критерия: 6.018652646575749\n",
      "При параметрах: 1.5199184441919018, 2.0\n",
      "Асимптотический критерий: 1\n",
      "Гипотеза: отвергается\n",
      "Максимальное значение уровня значимости, при котором нет оснований отвергнуть основную гипотезу: 0.049\n"
     ]
    }
   ],
   "source": [
    "a_0 = 3.0\n",
    "sigma_0 = 2.0\n",
    "r = 5\n",
    "d = 2\n",
    "alpha_2 = 0.2\n",
    "\n",
    "# Интервалы:\n",
    "# (-inf, -1], (-1, 0.52], (0.52, 1.6], (1.6, 2.6], (2.6, +inf)\n",
    "I = [-1, 0.52, 1.6, 2.6]\n",
    "\n",
    "# ожидаемые частоты\n",
    "nu  = [0, 0, 0, 0, 0]\n",
    "for i in second_data:\n",
    "    j=0\n",
    "    if(-1<i<=0.52):\n",
    "        j=1\n",
    "    elif(0.52<i<=1.6):\n",
    "        j=2\n",
    "    elif(1.6<i<=2.6):\n",
    "        j=3\n",
    "    elif(i > 2.6):\n",
    "        j=4\n",
    "    nu[j]+=1\n",
    "nu_np = np.array(nu)\n",
    "\n",
    "def f_sum(args):\n",
    "    # print(args)\n",
    "    I = np.array([-1, 0.52, 1.6, 2.6])\n",
    "    res = np.zeros(len(I) + 1)\n",
    "\n",
    "    F_norm = f_norm(args[0], args[1])\n",
    "    res[0] = F_norm(I[0])\n",
    "    \n",
    "    for i in range(1, len(I)):\n",
    "        res[i] = F_norm(I[i]) - F_norm(I[i - 1])\n",
    "        \n",
    "    res[len(I)] = 1 - F_norm(I[-1])\n",
    "    res = [round(elem, 8) for elem in res]\n",
    "\n",
    "    #Вычисление X^2\n",
    "    ans = [(nu_np[i] - n * res[i]) ** 2 / (n * res[i]) for i in range(len(nu_np))]\n",
    "    return np.sum(ans)\n",
    "\n",
    "\n",
    "result = scipy.optimize.minimize(f_sum, (a_0, sigma_0))\n",
    "# статистика критерия\n",
    "print(f'Статистика критерия: {result.fun}')\n",
    "\n",
    "print(f'При параметрах: {result.x[0]}, {result.x[1]}')\n",
    "\n",
    "# асимптотический критерий\n",
    "phi = get_criteria(alpha_2, r - d - 1)\n",
    "print(f'Асимптотический критерий: {phi(hi_2)}')\n",
    "\n",
    "print(f'Гипотеза: {get_hypothesis_status(phi(hi_2))}')\n",
    "\n",
    "a_max = 1 - chi2.cdf(result.fun, r - d - 1)\n",
    "print(f'Максимальное значение уровня значимости, при котором нет оснований отвергнуть основную гипотезу: {round(a_max, 3)}')"
   ]
  },
  {
   "cell_type": "markdown",
   "id": "6d6158a1-daad-4646-88db-2e28638e188f",
   "metadata": {},
   "source": [
    "#### h) Построить наиболее мощный критерий проверки простой гипотезы о нормальности с параметром $(a_0, \\sigma_0 ^2)$ при альтернативе нормальности с параметром $(a_1, \\sigma_1 ^2)$. Проверить гипотезу на уровне значимости $\\alpha_{1}$. Что получится, если поменять местами основную и альтернативную гипотезы?\n",
    "\n",
    "$ a_0 = 3, \\sigma_0 = 2,$ <br>\n",
    "$a1 = 1, \\sigma_1 = 2, \\; \\alpha_2 = 0.2$\n",
    "\n",
    "$ H_0 : X \\sim N(a_0, \\sigma_0^2)$ - основная гипотеза <br> \n",
    "$ H_A : X \\sim N(a_1, \\sigma_1^2)$ - альтернативная гипотеза\n",
    "\n",
    "По лемме Неймана-Пирсона существует наиболее мощный критерий уровня значимости $\\alpha_2$:\n",
    "\n",
    "$\\phi(\\overrightarrow X) = \\begin{cases}\n",
    "  0, LR(\\overrightarrow X, a_0, \\sigma_0^2, a_1 , \\sigma_1^2) < C \\\\\n",
    "  p, LR(\\overrightarrow X, a_0, \\sigma_0^2, a_1 , \\sigma_1^2) = C \\\\\n",
    "  1, LR(\\overrightarrow X, a_0, \\sigma_0^2, a_1 , \\sigma_1^2) > C\n",
    "\\end{cases} $\n",
    "\n",
    "$LR(\\overrightarrow{X}, a_0, \\sigma_0^2, a_1 , \\sigma_1^2 ) = \\frac{L\\left( \\overrightarrow{X}, a_1 , \\sigma_1^2 \\right)}{L\\left( \\overrightarrow{X},a_0, \\sigma_0^2 \\right)} = \\frac{\\sigma_1^{-n} exp\\left(-\\sum_{i=1}^{n}\\frac{(x_i - a_1)^2}{2\\sigma_1^2}\\right)}{\\sigma_0^{-n} exp\\left(-\\sum_{i=1}^{n}\\frac{(x_i - a_0)^2}{2\\sigma_0^2}\\right)}$\n",
    "\n",
    "Так как $ \\sigma_0^2 = \\sigma_1^2 = \\sigma^2 $, $LR(\\overrightarrow{X},a_0, a_1 , \\sigma^2) = exp(\\frac{a_1 - a_0}{\\sigma^2} \\sum_{i=0}^{n}X_i + \\frac{n}{2 \\sigma^2 }(a_0^2 - a_1^2))$\n",
    "\n",
    "$T = \\sum_{i=0}^{n}X_i  - МДС $\n",
    "\n",
    "$ exp(\\frac{-2}{4} \\sum_{i=0}^{n}X_i + \\frac{n}{8} \\cdot 8)) > C \\Rightarrow\n",
    "\\frac{-2}{4} \\sum_{i=0}^{n}X_i + \\frac{n}{8} \\cdot 8 > ln(C)$\n",
    "\n",
    "$ \\sum_{i=0}^{n}X_i >  \\cfrac{ln(C) -  n}{-\\frac{1}{2} n}, \\; C^* = - \\cfrac{2ln(C) - 2n}{n}$\n",
    "\n",
    "Критерий в терминах $\\bar{X}$:\n",
    "\n",
    "$\\phi(\\overrightarrow X) = \\begin{cases}\n",
    "  0, \\sum_{i=0}^{n}X_i < C^* \\\\\n",
    "  p, \\sum_{i=0}^{n}X_i = C^* \\\\\n",
    "  1, \\sum_{i=0}^{n}X_i > C^*\n",
    "\\end{cases} $\n",
    "\n",
    "$\\displaystyle E_{(a_0, \\sigma^2_0)} \\varphi(\\vec{X}) = P_{a_0, \\sigma_0^2}(\\sum_{i=0}^{n}X_i > C^*) + p P_{a_0, \\sigma_0^2}(\\sum_{i=0}^{n}X_i = C^*) = \\alpha_2$\n",
    "\n",
    "$ P_{a_0, \\sigma_0^2}(\\sum_{i=0}^{n}X_i > C^*) = 1 - P_{a_0, \\sigma_0^2}(\\sum_{i=0}^{n}X_i \\le C^*) = 1 - \\Phi_{na_0, n\\sigma_0^2} (x_\\alpha) < \\alpha_2$\n",
    "\n",
    "Найдем $x_\\alpha$: $ 1 - Ф_{(na_0, n\\sigma^2_0)}(x_\\alpha) < \\alpha_2 $. <br>\n",
    "Тогда $x_\\alpha = 234.17.$\n",
    "\n",
    "Найдем p: <br> \n",
    "$ p = \\cfrac{\\alpha_2 - 1 + \\Phi_{na_0, n\\sigma_0^2} (x_\\alpha)}{\\Phi_{na_0, n\\sigma_0^2} (x_\\alpha) - \\Phi_{na_0, n\\sigma_0^2} (x_\\alpha - 1)} =  0.008$"
   ]
  },
  {
   "cell_type": "code",
   "execution_count": 25,
   "id": "8382da71-0f83-41eb-8c0a-d4a6094d8dc6",
   "metadata": {},
   "outputs": [
    {
     "name": "stdout",
     "output_type": "stream",
     "text": [
      "x_alpha: 234.17\n"
     ]
    }
   ],
   "source": [
    "alpha_2 = 0.2\n",
    "a_0 = 3\n",
    "sigma_0 = 2\n",
    "n = len(second_data)\n",
    "x_alpha = -100\n",
    "while True:\n",
    "  if (1 - stats.norm.cdf(x_alpha, n * a_0, n * sigma_0)) < alpha_2:\n",
    "    break\n",
    "  x_alpha += 0.01\n",
    "\n",
    "print(f'x_alpha: {round(x_alpha, 3)}')"
   ]
  },
  {
   "cell_type": "code",
   "execution_count": 26,
   "id": "e353e0f1-39cb-483b-80be-af18e9797914",
   "metadata": {},
   "outputs": [
    {
     "name": "stdout",
     "output_type": "stream",
     "text": [
      "p: 0.008\n"
     ]
    }
   ],
   "source": [
    "Phi_x_alpha = stats.norm.cdf(x_alpha, a_0 * n, sigma_0 * n)\n",
    "Phi_x_alpha_1 = stats.norm.cdf(x_alpha - 1, a_0 * n, sigma_0 * n)\n",
    "\n",
    "p = (alpha_2 - 1 + Phi_x_alpha)/(Phi_x_alpha - Phi_x_alpha_1)\n",
    "print(f'p: {round(p, 3)}')"
   ]
  },
  {
   "cell_type": "code",
   "execution_count": 27,
   "id": "c56c9be5-eb8a-4111-b85a-08a86f1c71ca",
   "metadata": {},
   "outputs": [
    {
     "name": "stdout",
     "output_type": "stream",
     "text": [
      "Сумма выборки: 49.455\n"
     ]
    }
   ],
   "source": [
    "print(f'Сумма выборки: {np.sum(second_data)}')"
   ]
  },
  {
   "cell_type": "markdown",
   "id": "c6e2c37c-6b8c-469f-bddc-59ef85e77504",
   "metadata": {},
   "source": [
    "Наиболее мощный критерий: \n",
    "\n",
    "$\\phi(\\overrightarrow X) = \\begin{cases}\n",
    "  0, \\sum_{i=0}^{n}X_i < 234.17 \\\\\n",
    "  0.008, \\sum_{i=0}^{n}X_i = 234.17 \\\\\n",
    "  1, \\sum_{i=0}^{n}X_i > 234.17\n",
    "\\end{cases} $\n",
    "\n",
    "Так как $\\sum_{i=1}^{n}X_{i} = 49.455 < 234.17$, гипотеза $H_0$ принимается"
   ]
  },
  {
   "cell_type": "markdown",
   "id": "a939889f-176c-4e3b-ae70-949c833c6c6a",
   "metadata": {},
   "source": [
    "Меняем местами основную гипотезу и альтернативную:\n",
    "\n",
    "$ H_0 : X \\sim N(a_1, \\sigma_1^2)$ - основная гипотеза<br>\n",
    "$ H_A : X \\sim N(a_0, \\sigma_0^2)$ - альтернативная гипотеза  \n",
    "\n",
    "\n",
    "По лемме Неймана-Пирсона существует наиболее мощный критерий уровня значимости $\\alpha_2$:\n",
    "\n",
    "$\\phi(\\overrightarrow X) = \\begin{cases}\n",
    "  0, LR(\\overrightarrow X, a_0, \\sigma_0^2, a_1 , \\sigma_1^2) < C \\\\\n",
    "  p, LR(\\overrightarrow X, a_0, \\sigma_0^2, a_1 , \\sigma_1^2) = C \\\\\n",
    "  1, LR(\\overrightarrow X, a_0, \\sigma_0^2, a_1 , \\sigma_1^2) > C\n",
    "\\end{cases} $\n",
    "\n",
    "$LR(\\overrightarrow{X}, a_0, \\sigma_0^2, a_1 , \\sigma_1^2 ) = \\frac{L\\left( \\overrightarrow{X}, a_0 , \\sigma_0^2 \\right)}{L\\left( \\overrightarrow{X},a_1, \\sigma_1^2 \\right)} = \\frac{\\sigma_0^{-n} exp\\left(-\\sum_{i=1}^{n}\\frac{(x_i - a_0)^2}{2\\sigma_0^2}\\right)}{\\sigma_1^{-n} exp\\left(-\\sum_{i=1}^{n}\\frac{(x_i - a_1)^2}{2\\sigma_1^2}\\right)}$\n",
    "\n",
    "Так как $ \\sigma_0^2 = \\sigma_1^2 = \\sigma^2 $, $LR(\\overrightarrow{X},a_0, a_1 , \\sigma^2) = exp(\\frac{a_0 - a_1}{\\sigma^2} \\sum_{i=0}^{n}X_i + \\frac{n}{2 \\sigma^2 }(a_1^2 - a_0^2))$\n",
    "\n",
    "$T = \\sum_{i=0}^{n}X_i  - МДС $\n",
    "\n",
    "$ exp\\left(\\frac{2}{4} \\sum_{i=0}^{n}X_i - \\frac{n}{8} \\cdot 8\\right) > C \\Rightarrow\n",
    "\\frac{1}{2} \\sum_{i=0}^{n}X_i - \\frac{n}{8} \\cdot 8 > ln(C)$\n",
    "\n",
    "$ \\sum_{i=0}^{n}X_i >  \\cfrac{ln(C) +  n}{\\frac{1}{2} n}, \\; C^* = \\cfrac{2ln(C) + 2n}{n}$\n",
    "\n",
    "Критерий в терминах $\\bar{X}$: \n",
    "\n",
    "$\\phi(\\overrightarrow X) = \\begin{cases}\n",
    "  0, \\sum_{i=0}^{n}X_i < C^* \\\\\n",
    "  p, \\sum_{i=0}^{n}X_i = C^* \\\\\n",
    "  1, \\sum_{i=0}^{n}X_i > C^*\n",
    "\\end{cases} $\n",
    "\n",
    "$\\displaystyle E_{(a_1, \\sigma^2_1)} \\varphi(\\vec{X}) = P_{a_1, \\sigma_1^2}(\\sum_{i=0}^{n}X_i > C^*) + p P_{a_1, \\sigma_1^2}(\\sum_{i=0}^{n}X_i = C^*) = \\alpha_2$\n",
    "\n",
    "$ P_{a_1, \\sigma_1^2}(\\sum_{i=0}^{n}X_i > C^*) = 1 - P_{a_1, \\sigma_1^2}(\\sum_{i=0}^{n}X_i \\le C^*) = 1 - \\Phi_{na_1, n\\sigma_1^2} (x_\\alpha) < \\alpha_2$\n",
    "\n",
    "Найдем $x_\\alpha$: $ 1 - Ф_{(na_1, n\\sigma^2_1)}(x_\\alpha) < \\alpha_2 $. <br>\n",
    "Тогда $x_\\alpha = 234.17.$\n",
    "\n",
    "Найдем p: <br>\n",
    "$ p = \\cfrac{\\alpha_2 - 1 + \\Phi_{na_1, n\\sigma_1^2} (x_\\alpha)}{\\Phi_{na_1, n\\sigma_1^2} (x_\\alpha) - \\Phi_{na_1, n\\sigma_1^2} (x_\\alpha - 1)} = 0$"
   ]
  },
  {
   "cell_type": "code",
   "execution_count": 28,
   "id": "ea2776fd-c606-40d4-84d3-24ac482b34fa",
   "metadata": {},
   "outputs": [
    {
     "name": "stdout",
     "output_type": "stream",
     "text": [
      "x_alpha: -34.16\n"
     ]
    }
   ],
   "source": [
    "alpha_2 = 0.2\n",
    "a_1 = 1.00\n",
    "sigma_1 = 2.00\n",
    "n = len(second_data)\n",
    "x_alpha = -100\n",
    "while True:\n",
    "  if stats.norm.cdf(x_alpha, n * a_1, n * sigma_1) > alpha_2:\n",
    "    break\n",
    "  x_alpha += 0.01\n",
    "\n",
    "print(f'x_alpha: {round(x_alpha, 3)}')"
   ]
  },
  {
   "cell_type": "code",
   "execution_count": 29,
   "id": "38c455d9-8dde-458e-b0f6-b3c662fc8f24",
   "metadata": {},
   "outputs": [
    {
     "name": "stdout",
     "output_type": "stream",
     "text": [
      "p: -0.0\n"
     ]
    }
   ],
   "source": [
    "Phi_x_alpha = stats.norm.cdf(x_alpha, a_1 * n, sigma_1 * n)\n",
    "Phi_x_alpha_1 = stats.norm.cdf(x_alpha - 1, a_1 * n, sigma_1 * n)\n",
    "\n",
    "p = (alpha_2 -  Phi_x_alpha)/(Phi_x_alpha - Phi_x_alpha_1)\n",
    "print(f'p: {round(p, 2)}')"
   ]
  },
  {
   "cell_type": "code",
   "execution_count": 30,
   "id": "c64c3bfb-b1d0-4765-994e-a7b8d6284513",
   "metadata": {},
   "outputs": [
    {
     "name": "stdout",
     "output_type": "stream",
     "text": [
      "Сумма выборки: 49.455\n"
     ]
    }
   ],
   "source": [
    "print(f'Сумма выборки: {np.sum(second_data)}')"
   ]
  },
  {
   "cell_type": "markdown",
   "id": "d75275b1-91bd-47d6-8986-54e4e0fca06b",
   "metadata": {},
   "source": [
    "Наиболее мощный критерий: \n",
    "\n",
    "$\\phi(\\overrightarrow X) = \\begin{cases}\n",
    "  0, \\sum_{i=0}^{n}X_i \\leq -34.16 \\\\\n",
    "  1, \\sum_{i=0}^{n}X_i > -34.16\n",
    "\\end{cases} $\n",
    "\n",
    "Так как $\\sum_{i=1}^{n}X_{i} = 49.455 > -34.16$, гипотеза $H_0$ отвергается, значит гипотеза $H_A$ принимается"
   ]
  },
  {
   "cell_type": "markdown",
   "id": "afe59287-8837-461f-98fb-62de6db48a27",
   "metadata": {},
   "source": [
    "#### i.c) В предположении, что исходные наблюдения являются выборкой из распределения семейства Лапласа с плотностью: \n",
    "$P_{a,\\sigma}(X)=\\frac{1}{\\sigma \\sqrt{2}} exp\\left( -\\frac{\\sqrt{2}}{\\sigma} |x - a| \\right) $,\n",
    "построить ОМП и ОММ параметра $\\lambda$. Найти смещение оценки. <br>\n",
    "\n",
    "- Построим ОМП: <br>\n",
    "Функция максимального правдоподобия: $L(\\overrightarrow{X};\\theta)= \\frac{1}{\\sigma \\sqrt{2}}^n exp \\left( -\\frac{\\sqrt{2}}{\\sigma} \\sum_{i=1}^{n}|x_i - a| \\right) $ <br>\n",
    "Логарифмическая функция максимального правдоподобия:\n",
    "$LL(\\overrightarrow{X};\\theta)= ln(n) - ln(\\sigma \\sqrt{2}) -\\frac{\\sqrt{2}}{\\sigma} \\sum_{i=1}^{n}|x_i - a| $ <br>\n",
    "Частная производная по $\\sigma$: $\\frac{\\partial LL(\\overrightarrow{X}; \\widehat{a}, \\sigma)}{\\partial \\sigma} = $\n",
    "$ - \\frac{n}{\\sigma} + \\frac{\\sqrt{2}}{\\sigma ^ 2} \\sum_{i=1}^{n}|x_i - a| = 0 \\Rightarrow \\widehat{\\sigma} = \\frac{\\sqrt{2}}{n} \\sum_{i=1}^{n}|x_{(i)} - \\widehat{a}| $  <br>\n",
    "Частная производная по $a$: $\\frac{\\partial LL(\\overrightarrow{X}; a, \\widehat{\\sigma})}{\\partial a} = $\n",
    "$ -\\frac{\\sqrt{2}}{\\sigma} \\sum_{i=1}^{n} sgn(x_{(i)} - a) = 0 \\Rightarrow \\sum_{i=1}^{n} sgn(x_{(i)} - a) = 0 \\Rightarrow \\widehat{a} = Z_{n, \\frac{1}{2}}$  <br>\n",
    "$\\widehat{\\theta}=(\\widehat{a}, \\widehat{\\sigma}) = (Z_{n, \\frac{1}{2}}, \\frac{\\sqrt{2}}{n} \\sum_{i=1}^{n}|x_{(i)} - Z_{n, \\frac{1}{2}}| ) = (1.1645, 2.28)$\n",
    "\n",
    "- Построим ОММ:<br>\n",
    "Первый момент: <br>\n",
    "$ EX1 = \\frac{1}{\\sigma \\sqrt{2}} \\int_{R} x \\exp(-\\frac{\\sqrt{2}}{\\sigma} |x-a|) dx = [t = x - a] = \\frac{1}{\\sigma \\sqrt{2}} \\int_{R} (t + a) \\exp(-\\frac{\\sqrt{2}}{\\sigma} |t|) dx = \\frac{a}{\\sigma} \\sqrt{2} \\int_{0}^{\\infty} \\exp(-\\frac{\\sqrt{2}}{\\sigma} t) dx = a$ <br>\n",
    "$ M1 = \\bar X$ <br>\n",
    "Второй момент: <br>\n",
    "$ EX1^2 = \\frac{1}{\\sigma \\sqrt{2}} \\int_{R} x^2 \\exp(-\\frac{\\sqrt{2}}{\\sigma} |x-a|) dx = [t = x - a] = \\frac{1}{\\sigma \\sqrt{2}} \\int_{R} (t + a)^2 \\exp(-\\frac{\\sqrt{2}}{\\sigma} |t|) dx = $ <br>\n",
    "$\\frac{1}{\\sigma \\sqrt{2}} \\int_{R} t^2 \\exp(-\\frac{\\sqrt{2}}{\\sigma} |t|) dx + \\frac{1}{\\sigma \\sqrt{2}} \\int_{R} a^2 \\exp(-\\frac{\\sqrt{2}}{\\sigma} |t|) dx = \\frac{1}{\\sigma \\sqrt{2}} \\int_{R} t^2 \\exp(-\\frac{\\sqrt{2}}{\\sigma} |t|) dx + \\frac{1}{\\sigma \\sqrt{2}} \\int_{R} a^2 \\exp(-\\frac{\\sqrt{2}}{\\sigma} |t|) dx  = $ <br>\n",
    "$ \\frac{ \\sqrt{2}}{\\sigma} \\int_{0}^{\\infty} t^2 \\exp(-\\frac{\\sqrt{2}}{\\sigma} t) dx + \\frac{\\sqrt{2}}{\\sigma } \\int_{0}^{\\infty} a^2 \\exp(-\\frac{\\sqrt{2}}{\\sigma} t) dx = \\sigma^2 + a^2$ <br>\n",
    "$ M1 = \\bar {X^2} $ <br>\n",
    "Тогда уравнение: <br>\n",
    "$\n",
    "\\begin{cases}\n",
    "  a = \\bar X \\\\\n",
    "  \\sigma^2 + a^2 = \\bar X^2\n",
    "\\end{cases} \\Rightarrow $\n",
    "$\n",
    "\\begin{cases}\n",
    "  \\widehat a = \\bar X \\\\\n",
    "  \\widehat {\\sigma^2} = S^2\n",
    "\\end{cases} \\Rightarrow$\n",
    "$\n",
    "\\begin{cases}\n",
    "  \\widehat a = \\bar X \\\\\n",
    "  \\widehat {\\sigma} = S\n",
    "\\end{cases} $\n",
    "- Найдем смещение оценки: <br>\n",
    "$E_\\theta \\bar X = \\cfrac{1}{n} E \\sum_{i=1}^{n} X_i = a = 0.9891$ - несмещённая оценка <br>\n",
    "$E_\\theta S^2 = \\cfrac{1}{n} E \\sum_{i=1}^{n} {(X_i - \\bar X)^2} = [X_i - E_\\theta X_i = Y_i, \\quad E_\\theta Y_i = 0, \\quad D_\\theta Y_i = \\sigma^2]  $ <br>\n",
    "$= \\cfrac{1}{n} E_\\theta \\sum_{i=1}^{n} {(Y_i - \\bar Y)^2} = E( \\bar {Y^2} - (\\bar Y)^2) = E\\bar {Y^2} - E\\left(\\bar Y \\right)^2  $ <br>\n",
    "$ E\\bar {Y^2} = \\cfrac{1}{n} E_\\theta \\sum_{i=1}^{n} {(Y_i)^2} = \\sigma^2 $ <br>\n",
    "$ E\\left(\\bar Y \\right)^2 = \\cfrac{1}{n^2} E_\\theta (\\sum_{i=1}^{n} Y_i)^2 = \\cfrac{1}{n^2} \\sum_{i=1}^{n} \\sum_{j=1}^{n} E_\\theta Y_i Y_j = \\cfrac{1}{n^2} \\sum_{i=1}^{n} E (Y_i)^2 = \\cfrac{\\sigma^2}{n} $ <br>\n",
    "$ E_\\theta Y_i Y_j = \\begin{cases}\n",
    "                        i = j \\Rightarrow \\sigma^2 \\\\\n",
    "                        i \\ne j \\Rightarrow 0\n",
    "                      \\end{cases} $ <br>\n",
    "$E_\\theta S^2 = \\sigma^2 - \\cfrac{\\sigma^2}{n} = \\cfrac{n-1}{n} \\cdot \\sigma^2$ <br>\n",
    "$E_\\theta S = \\sqrt{\\cfrac{n-1}{n}} \\cdot \\sigma $ - cмещённая оценка <br>\n",
    "$ (S')^2 = \\cfrac{n}{n-1} \\cdot S^2 = \\cfrac{50}{49} \\cdot 3.96926425 = 4.05 $  <br>\n",
    "$ (S') = 2.012 $<br>"
   ]
  },
  {
   "cell_type": "code",
   "execution_count": 38,
   "id": "d7d7678b-f8b1-41d3-aac2-895d4e497853",
   "metadata": {},
   "outputs": [
    {
     "name": "stdout",
     "output_type": "stream",
     "text": [
      "2.28\n"
     ]
    }
   ],
   "source": [
    "# Найдем второй параметр ОМП:\n",
    "sum = 0\n",
    "for x in variation_second_data:\n",
    "    sum += abs(x - median)\n",
    "sum *= 2 ** 0.5\n",
    "sum /= n\n",
    "print(round(sum, 3))"
   ]
  },
  {
   "cell_type": "markdown",
   "id": "6bc58b1f-bec4-4063-b986-8fa70a175bb8",
   "metadata": {},
   "source": [
    "#### i.d) Построить доверительный интервал уровня значимости $\\alpha_2$ для параметров $(a, \\sigma)$.\n",
    "\n",
    "$\\alpha_2 = 0.2$ <br>\n",
    "- Для параметра a:<br>\n",
    " $ G(\\vec{X}, a) = \\sqrt{n - 1} \\frac{\\bar{X} - a}{S} \\sim S_{n - 1} $<br>\n",
    "$ \\mathbb{P}_a \\left( \\sqrt{n - 1} \\frac{\\bar{X} - a}{S} \\in [-x_{\\alpha_2}, x_{\\alpha_2}] \\right) = S_{n - 1}(x_{\\alpha_2}) - 1 + S_{n - 1}(x_{\\alpha_2}) = 1 - \\alpha_2 $<br>\n",
    "$ x_\\alpha : S_{n - 1}(x_\\alpha) = S_{49}(x_\\alpha) = 1 - \\frac{0.2}{2} = 0.9  $<br>\n",
    "$ x_\\alpha = 1.28$<br>\n",
    "$ \\left[  \\bar{X} - \\frac{x_\\alpha S}{\\sqrt{n-  1}}; \\bar{X} + \\frac{x_\\alpha S}{\\sqrt{n-  1}} \\right] \\ni a $<br>\n",
    "$ \\left[  0.9891 - \\frac{1.28 \\cdot 2.012}{\\sqrt{49}}; 0.9891 + \\frac{1.28 \\cdot 2.012}{\\sqrt{49}} \\right] \\ni a $<br>\n",
    "$ [0.62; 1.357] \\ni a $\n",
    "\n",
    "- Для параметра $\\sigma$ <br>\n",
    "$ G(\\vec{X}, \\sigma^2) = \\frac{nS^2}{\\sigma^2} \\sim \\chi^2_{n - 1}$<br>\n",
    "$ \\mathbb{P}_{\\sigma^2} \\left( \\frac{nS^2}{\\sigma^2} \\in [x_{1_{\\alpha_2}}; x_{2_{\\alpha_2}}] \\right) = 1 - \\alpha_2 $<br>\n",
    "$ x_{1\\alpha_2} : \\mathcal{K}_{n - 1}(x_{1\\alpha_2}) = \\mathcal{K}_{49}(x_{1\\alpha_2}) = \\frac{\\alpha_2}{2} = 0.1  $<br>\n",
    "$ x_{2\\alpha_2} : \\mathcal{K}_{n - 1}(x_{2\\alpha_2}) = \\mathcal{K}_{49}(x_{2\\alpha_2}) = 1 - \\frac{\\alpha_2}{2} = 0.9 $<br>\n",
    "$ x_{\\alpha1} = 36.818, \\,x_{\\alpha2} = 62.038$<br>\n",
    "$  \\left[  \\frac{n S^2}{x_{2\\alpha}}; \\frac{n S^2}{x_{1\\alpha}} \\right]  \\ni \\sigma^2 $<br>\n",
    "$  \\left[  \\frac{50 \\cdot 4.05}{62.038}; \\frac{50 \\cdot 4.05}{36.818} \\right]  \\ni \\sigma^2 \\Rightarrow$ \n",
    "$ [3.26; 5.5] \\ni \\sigma^2 \\Rightarrow$\n",
    "$ [1.8; 2.34] \\ni \\sigma$<br>"
   ]
  },
  {
   "cell_type": "code",
   "execution_count": 32,
   "id": "e45b99a6-f142-45f7-9401-31226ddd66fb",
   "metadata": {},
   "outputs": [
    {
     "name": "stdout",
     "output_type": "stream",
     "text": [
      "x_alpha_2 = 1.2815515655446004\n",
      "x_alpha_2_1 = 36.81821727017282\n",
      "x_alpha_2_2 = 62.03753678530966\n"
     ]
    }
   ],
   "source": [
    "f = 0.9\n",
    "x_alpha_2 = stats.norm.ppf(f)\n",
    "print(\"x_alpha_2 =\", x_alpha_2)\n",
    "\n",
    "chi = stats.chi2(49)\n",
    "x_alpha_2_1 = chi.ppf(0.1)\n",
    "x_alpha_2_2 = chi.ppf(0.9)\n",
    "print(\"x_alpha_2_1 =\", x_alpha_2_1)\n",
    "print(\"x_alpha_2_2 =\", x_alpha_2_2)"
   ]
  },
  {
   "cell_type": "markdown",
   "id": "d2bdbae1-8b9c-42fe-a710-7eec7b9badba",
   "metadata": {},
   "source": [
    "#### i.e) С использованием теоремы Колмогорова построить критерий значимости проверки простой гипотезы согласия из двухпараметрического семейства распредлений Лапласа с параметрами $(a_0, \\sigma_0)$. Проверить гипотезу на уровне значимости $\\alpha_2$. Вычислить наибольшее значения уровня значимости, на котором ещё нет оснований отвергнуть гипотезу."
   ]
  },
  {
   "cell_type": "markdown",
   "id": "04c6edcb-4712-41f0-bba3-d634f0e7bc5c",
   "metadata": {},
   "source": [
    "$ H_0 : (a, \\sigma) = (a_0, \\sigma_0)$ - Основная гипотеза <br>\n",
    "По т. Колмогорова, при справедливости гипотезы $H_0$:<br>\n",
    "$ \\sqrt{n} \\cdot max|F_n(y) - F(y)| \\sim K$<br>\n",
    "$D_n = \\sqrt{n} \\cdot max|F_n(y) - F(y)| $<br>\n",
    "$x_{\\alpha2}: P(D_n < x_{\\alpha_2}) = 1 - \\alpha_2 = 0.8 $<br>\n",
    "$x_{\\alpha2} = 57.0786$"
   ]
  },
  {
   "cell_type": "code",
   "execution_count": 33,
   "id": "037500d8-ad8b-44b5-a9b9-73f7edd1938a",
   "metadata": {},
   "outputs": [
    {
     "name": "stdout",
     "output_type": "stream",
     "text": [
      "x_alpha2 = 0.12362978909230184\n",
      "K_n(x) = 0.8\n"
     ]
    }
   ],
   "source": [
    "x_alpha_2 = stats.ksone.ppf(1 - alpha_2, n)\n",
    "print(\"x_alpha2 =\", x_alpha_2)\n",
    "\n",
    "# Проверка\n",
    "print(\"K_n(x) =\", round(stats.ksone.cdf(x_alpha_2, n), 3))"
   ]
  },
  {
   "cell_type": "code",
   "execution_count": 34,
   "id": "86c31918-ced7-4b91-9a27-541c184711b4",
   "metadata": {},
   "outputs": [
    {
     "name": "stdout",
     "output_type": "stream",
     "text": [
      "Dn: 0.455\n"
     ]
    }
   ],
   "source": [
    "n = len(second_data)\n",
    "a0 = 3\n",
    "sigma0 = 2\n",
    "\n",
    "x = np.arange(-1, 1, 0.001)\n",
    "Y = np.array([abs(Fn(i) - stats.laplace.cdf(i, a0, 2 ** 0.5 / sigma0)) for i in x])\n",
    "\n",
    "Dn = max(Y)\n",
    "print(\"Dn:\", round(Dn, 3))"
   ]
  },
  {
   "cell_type": "markdown",
   "id": "ad5d45a0-f5e8-4aaa-85ec-5235a7db6b6b",
   "metadata": {},
   "source": [
    "$ D_n > x_\\alpha $, значит гипотеза $H_0$ отвергается. \n",
    "\n",
    "Найдём наибольшее значение уровня значимости, на котором нет оснований отвергнуть гипотезу.\n",
    "\n",
    "$\\alpha_2 \\le 1 - \\mathcal{K}(D_n)$"
   ]
  },
  {
   "cell_type": "code",
   "execution_count": 35,
   "id": "71b87fd7-4927-415c-a2ff-c9f44fa4311b",
   "metadata": {},
   "outputs": [
    {
     "name": "stdout",
     "output_type": "stream",
     "text": [
      "Наибольшее значение уровня значимости, на котором нет оснований отвергнуть гипотезу: 0.9252425051266108\n"
     ]
    }
   ],
   "source": [
    "func = stats.ksone(n)\n",
    "alpha_max = 1 - func.ppf(Dn)\n",
    "print(\"Наибольшее значение уровня значимости, на котором нет оснований отвергнуть гипотезу:\", alpha_max)"
   ]
  },
  {
   "cell_type": "markdown",
   "id": "68730119-6d49-4fa3-aa81-9f10a4df5619",
   "metadata": {},
   "source": [
    "#### i.f) Используя гистограмму частот, построить критерий значимости $\\mathcal{X^{2}}$ проверки простой гипотезы согласия из двухпараметрического семейства распределений Лапласа с параметрами $(a_0, \\sigma_0^2)$. Проверить гипотезу на уровень значимости $\\alpha_2$. Вычислить наибольшее значение уровня значимости, на котором ещё нет оснований отвергнуть данную гипотезу.\n",
    "\n",
    "Гипотезы:\n",
    "\n",
    "$H_0 : (a_, \\sigma) =  Laplace(a_0, \\sigma_0 )$<br>\n",
    "$H_A : (a_, \\sigma) \\ne  Laplace(a_0, \\sigma_0 )$ <br>\n"
   ]
  },
  {
   "cell_type": "code",
   "execution_count": 36,
   "id": "65fd7bf8-23c7-409e-8714-8f5992d8c34e",
   "metadata": {},
   "outputs": [
    {
     "name": "stdout",
     "output_type": "stream",
     "text": [
      "Статистика критерия: 40.6302\n",
      "Асимптотический критерий: 1\n",
      "Гипотеза: отвергается\n",
      "Максимальное значение уровня значимости, при котором нет оснований отвергнуть основную гипотезу: 0.0\n"
     ]
    }
   ],
   "source": [
    "import math\n",
    "\n",
    "alpha_2 = 0.92\n",
    "a_0 = 3\n",
    "sigma_0 = 2\n",
    "X = np.array(second_data, dtype=float)\n",
    "n = len(second_data)\n",
    "r = 5\n",
    "\n",
    "# Интервалы:\n",
    "# (-inf, -1], (-1, 0.52], (0.52, 1.6], (1.6, 2.6], (2.6, +inf)\n",
    "I = [-1, 0.52, 1.6, 2.6]\n",
    "\n",
    "# ожидаемые частоты\n",
    "nu  = [0, 0, 0, 0, 0]\n",
    "for i in second_data:\n",
    "    j=0\n",
    "    if(-1<i<=0.52):\n",
    "        j=1\n",
    "    elif(0.52<i<=1.6):\n",
    "        j=2\n",
    "    elif(1.6<i<=2.6):\n",
    "        j=3\n",
    "    elif(i > 2.6):\n",
    "        j=4\n",
    "    nu[j]+=1\n",
    "nu_np = np.array(nu)\n",
    "\n",
    "def f_laplace(a, b):\n",
    "    return lambda x: stats.laplace.cdf(x, a, b)\n",
    "    \n",
    "def sum_laplace(a, b):\n",
    "    res = [0] * (len(I) + 1)\n",
    "\n",
    "    F_laplace = f_laplace(a, b)\n",
    "\n",
    "    res[0] = F_laplace(I[0])\n",
    "    for i in range(1, len(I)):\n",
    "        res[i] = F_laplace(I[i]) - F_laplace(I[i - 1])\n",
    "\n",
    "    res[len(I)] = 1 - F_laplace(I[-1])\n",
    "    res = [round(elem, 5) for elem in res]\n",
    "\n",
    "    ans = [(nu_np[i] - n * res[i]) ** 2 / (n * res[i]) for i in range(len(nu_np))]\n",
    "    ans = [round(elem, 4) for elem in ans]\n",
    "    return np.sum(ans)\n",
    "\n",
    "# статистика критерия\n",
    "hi_2 = sum_laplace(a_0, sigma_0)\n",
    "print(f'Статистика критерия: {round(hi_2, 4)}')\n",
    "\n",
    "# асимптотический критерий\n",
    "phi = get_criteria(alpha_2, r - 1)\n",
    "print(f'Асимптотический критерий: {phi(hi_2)}')\n",
    "\n",
    "# Статус гипотезы\n",
    "print(f'Гипотеза: {get_hypothesis_status(phi(hi_2))}')\n",
    "\n",
    "x_a = stats.chi2.ppf(1 - alpha_2, r - 1)\n",
    "a_max = 1 - stats.chi2.cdf(hi_2, r - 1)\n",
    "print(f'Максимальное значение уровня значимости, при котором нет оснований отвергнуть основную гипотезу: {round(a_max, 3)}')"
   ]
  },
  {
   "cell_type": "markdown",
   "id": "09fab63f-b5af-4707-be3d-10f00262cbb5",
   "metadata": {},
   "source": [
    "#### i.g) Построить критерий значимости $\\chi^2$ проверки сложной гипотезы согласия из двухпараметрического семейства распредлений Лапласа. Проверить гипотезу на уровне значимости $\\alpha_1$. Вычислить наибольшее значение уровня значимости, на котором еще нет оснований отвергнуть данную гипотезу."
   ]
  },
  {
   "cell_type": "code",
   "execution_count": 37,
   "id": "d6379b70-09b4-4888-9298-bee0a560a9e1",
   "metadata": {},
   "outputs": [
    {
     "name": "stdout",
     "output_type": "stream",
     "text": [
      "Статистика критерия: 9.67500421\n",
      "При параметрах: 1.99, 2.0\n",
      "Асимптотический критерий: 1\n",
      "Гипотеза: отвергается\n",
      "Максимальное значение уровня значимости, при котором нет оснований отвергнуть основную гипотезу: 0.008\n"
     ]
    }
   ],
   "source": [
    "a_0 = 2\n",
    "sigma_0 = 3\n",
    "r = 5\n",
    "d = 2\n",
    "alpha_2 = 0.2\n",
    "\n",
    "# Интервалы:\n",
    "# (-inf, -1], (-1, 0.52], (0.52, 1.6], (1.6, 2.6], (2.6, +inf)\n",
    "I = [-1, 0.52, 1.6, 2.6]\n",
    "\n",
    "# ожидаемые частоты\n",
    "nu  = [0, 0, 0, 0, 0]\n",
    "for i in second_data:\n",
    "    j=0\n",
    "    if(-1<i<=0.52):\n",
    "        j=1\n",
    "    elif(0.52<i<=1.6):\n",
    "        j=2\n",
    "    elif(1.6<i<=2.6):\n",
    "        j=3\n",
    "    elif(i > 2.6):\n",
    "        j=4\n",
    "    nu[j]+=1\n",
    "nu_np = np.array(nu)\n",
    "\n",
    "def f_sum(args):\n",
    "    res = [0] * (len(I) + 1)\n",
    "\n",
    "    F_laplace = f_laplace(args[0], args[1])\n",
    "\n",
    "    res[0] = F_laplace(I[0])\n",
    "    for i in range(1, len(I)):\n",
    "        res[i] = F_laplace(I[i]) - F_laplace(I[i - 1])\n",
    "\n",
    "    res[len(I)] = 1 - F_laplace(I[-1])\n",
    "    res = [round(elem, 8) for elem in res]\n",
    "\n",
    "    ans = [(nu_np[i] - n * res[i]) ** 2 / (n * res[i]) for i in range(len(nu_np))]\n",
    "    ans = [round(elem, 8) for elem in ans]\n",
    "    return np.sum(ans)\n",
    "\n",
    "\n",
    "result = scipy.optimize.minimize(f_sum, (3.0, 2.0))\n",
    "# статистика критерия\n",
    "print(f'Статистика критерия: {result.fun}')\n",
    "\n",
    "print(f'При параметрах: {result.x[0]}, {result.x[1]}')\n",
    "\n",
    "# асимптотический критерий\n",
    "phi = get_criteria(alpha_2, r - d - 1)\n",
    "print(f'Асимптотический критерий: {phi(hi_2)}')\n",
    "\n",
    "print(f'Гипотеза: {get_hypothesis_status(phi(hi_2))}')\n",
    "\n",
    "a_max = 1 - chi2.cdf(result.fun, r - d - 1)\n",
    "print(f'Максимальное значение уровня значимости, при котором нет оснований отвергнуть основную гипотезу: {round(a_max, 3)}')"
   ]
  },
  {
   "cell_type": "markdown",
   "id": "a603bc7b-02be-4504-baf1-3e6753b9f7e3",
   "metadata": {},
   "source": [
    "## Выводы\n",
    "\n",
    "В ходе данной лабораторной работы изучено применение выборочных числовых характеристик. Освоена работа с оценкой максимального правдоподобия (ОМП) и оценкой метода моментов (ОММ). Построены доверительные интервалы и асимптотические доверительные интервалы, основанные на формировании генераторов по лемме Фишера и на асимптотической нормальности оценок и информации Фишера соответственно. Изучен критерий Колмогорова для проверки гипотезы о совпадении эмпирической и теоретической функций распределения. Рассмотрены критерии $\\chi^2$ для проверки гипотез о распределении данных. В результате работы также усвоены принципы построения наиболее мощного критерия для простых гипотез на основе статистики отношения правдоподобия. Также были получены навыки использования прикладных пакетов языка Python для решения задач. "
   ]
  },
  {
   "cell_type": "code",
   "execution_count": null,
   "id": "854c5583-a331-4c4b-8552-3a67bd7cbf4b",
   "metadata": {},
   "outputs": [],
   "source": []
  }
 ],
 "metadata": {
  "kernelspec": {
   "display_name": "Python 3 (ipykernel)",
   "language": "python",
   "name": "python3"
  },
  "language_info": {
   "codemirror_mode": {
    "name": "ipython",
    "version": 3
   },
   "file_extension": ".py",
   "mimetype": "text/x-python",
   "name": "python",
   "nbconvert_exporter": "python",
   "pygments_lexer": "ipython3",
   "version": "3.11.6"
  }
 },
 "nbformat": 4,
 "nbformat_minor": 5
}
