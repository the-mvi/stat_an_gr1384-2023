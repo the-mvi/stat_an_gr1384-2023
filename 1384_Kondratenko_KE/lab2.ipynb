{
  "nbformat": 4,
  "nbformat_minor": 0,
  "metadata": {
    "colab": {
      "provenance": []
    },
    "kernelspec": {
      "name": "python3",
      "display_name": "Python 3"
    },
    "language_info": {
      "name": "python"
    }
  },
  "cells": [
    {
      "cell_type": "markdown",
      "source": [
        "# Лабораторная работа 2. Классические методы математической статистики\n",
        "Выполнил студент гр. 1384 Кондратенко Константин (Варинат 6)"
      ],
      "metadata": {
        "id": "ok-d3sc_kbOX"
      }
    },
    {
      "cell_type": "markdown",
      "source": [
        "## Цель работы\n",
        "Получить практические навыки применения классических методов математической статистики."
      ],
      "metadata": {
        "id": "Z8R2UwaHFII3"
      }
    },
    {
      "cell_type": "markdown",
      "source": [
        "## Основные теоретические положения"
      ],
      "metadata": {
        "id": "BmmWKluzkql_"
      }
    },
    {
      "cell_type": "markdown",
      "source": [
        "Оценка максимального правдоподобия (ОМП):\n",
        "Метод заключается в максимизации функции правдоподобия путь поиска экстремум этой функции (с помощью взятия частных проивходных и приравнивания их к нулю)\n",
        "\n",
        "Оценка метода моментов (ОММ)\n",
        "\n",
        "$\\exists \\mu_{k}(\\theta)=EX^{k}_{1}, k=\\overline{1,d}$\n",
        "\n",
        "Если $\\exists$ ! решение $\\widetilde{\\theta}(X)$ системы уравнений: $\\widehat{\\mu^{k}}(\\widetilde{\\theta})=\\mu_{k}(\\theta), k=\\overline{1,d}$, где $\\widetilde{\\theta}(X)=\\frac{1}{n}\\sum_{i=1}^{n}X^{k}_{i}$-выборочный момент k-го порядка, то $\\widetilde{\\theta}(X)$ называется оценкой по методу моментов\n",
        "\n",
        "НРМД-оценки (несмещенная оценка)\n",
        "\n",
        "Оценка $\\widehat{\\theta}(X)$ параметра $\\theta$ называется несмещенной, если при любом значении параметра $\\theta\\in \\Theta: \\mathbb{E}\\widehat{\\theta}(X)=\\theta$\n",
        "\n",
        "Смещением оценки называется величина: $bias_{\\widehat{\\theta}}(\\theta)=\\mathbb{E}_{\\theta}\\widehat{\\theta}(X)-\\theta$\n",
        "\n",
        "Алгоритм несмещенного оценивания:\n",
        "\n",
        "а) Найти оценку $\\widehat{\\theta}(T)$, являющуюся функцией от минимальной достаточной статистики T(e.g.ОМП)\n",
        "\n",
        "б) Доказать полноту МДС\n",
        "\n",
        "в) Скорректировать смещение:$\\widetilde{\\theta}(T)=f(\\widehat{\\theta}(T),T): \\mathbb{E}_{\\theta}\\widetilde{\\theta}(T)=\\theta,\\forall \\theta\\in \\Theta$\n",
        "\n",
        "Асимптотический доверительный интервал (АДИ)\n",
        "\n",
        "а) На базе Асимптотической нормальности оценки $\\widehat{\\theta}$\n",
        "\n",
        "Асимптотическая нормальность $\\sqrt{n}\\left( \\widehat{\\theta}(\\overrightarrow{X})-\\theta)\\right)\\sim \\mathcal{N}\\left(0,\\sigma^{2}(\\theta)\\right)$\n",
        "\n",
        "$\\sqrt{n}\\frac{\\widehat{\\theta}(\\overrightarrow{X})-\\theta}{\\sigma\\left(\\widehat{\\theta}(\\overrightarrow{X})\\right)}$    \n",
        "\n",
        "Выбираем $X_{\\alpha}: \\Phi(X_{\\alpha})=1-\\frac{\\alpha}{2}$\n",
        "\n",
        "Искомый интервал: $[ \\widehat{\\theta}(\\overrightarrow{X})-\\frac{X_{\\alpha}\\cdot \\sigma( \\widehat{\\theta}(\\overrightarrow{X}) )}{\\sqrt{n}}; \\widehat{\\theta}(\\overrightarrow{X})+\\frac{X_{\\alpha}\\cdot \\sigma( \\widehat{\\theta}(\\overrightarrow{X}) )}{\\sqrt{n}}]$\n",
        "\n",
        "б) и на базе ОМП:  \n",
        "\n",
        "Критерий $\\chi^2$ для проверки гипотез\n",
        "\n",
        "\n",
        "Статистика критерия основана на сравнении относительной частоты и теоритической.\n",
        "\n",
        "$\\chi^{2}_{набл} = \\sum \\limits_{i=1}^{N} \\frac{n}{p_{i}} \\bigg ( \\frac{n_{i}}{n} - p_{i} \\bigg )^{2} = \\sum \\limits_{i=1}^{N} \\frac{(n_{i} - p_{i} n)^{2}}{n p_{i}} \\sim \\chi^{2}_{N-1}$\n",
        "\n",
        "Если $\\mathcal{X}^{2}_{N-1,1-\\alpha_{1}} \\lt \\chi^2_{набл}$, то гипотезу отвергаем\n",
        "\n",
        "Если $\\mathcal{X}^{2}_{N-1,1-\\alpha_{1}} \\gt \\chi^2_{набл}$, то гипотезу принимаем\n",
        "\n",
        "теорема Колмогорова\n",
        "\n",
        "$D_{n}(\\overrightarrow{X}) = \\overset{}{\\underset{X \\in \\mathbb R}{sup}} |F_{0}(X_{i}) - F_{n}(X_{i})|$\n",
        "\n",
        "Если гипотеза $H_{0}$ верна, и $F_{0}(X)$ - непрерывная ф-я на $\\mathbb R$, тогда имеет место сходимость\n",
        "\n",
        "$P(\\sqrt{n} D_{n}(\\overrightarrow{X}) < z) \\xrightarrow[n \\rightarrow \\infty]{} K(z)$, где $K(z)=1-\\alpha$ - фукнцияя распределения Колмогорова.\n",
        "\n",
        "Если $D_{n} \\lt z$, то гипотезу принимаем\n",
        "\n",
        "Если $D_{n} \\gt z$, то гипотезу отвергаем\n",
        "\n",
        "Наиболее мощный критерий простой гипотезы.\n",
        "\n",
        "Для основной гипотезы $H_{0}: \\theta=\\theta_{0}$ и альтернативной гипотезы $H_{1}: \\theta=\\theta_{1}$, где $\\theta_{0}$ и $\\theta_{1}$ - фиксированные параметры, мы можем построить статистику правдоподобия:\n",
        "\n",
        "$LR(\\overrightarrow{X},\\theta_{1},\\theta_{0})=\\frac{L(\\overrightarrow{X},\\theta_{1})}{L(\\overrightarrow{X},\\theta_{0})} $- статистика отношений правдоподобия\n",
        "\n"
      ],
      "metadata": {
        "id": "-nPk2GeYuxfr"
      }
    },
    {
      "cell_type": "markdown",
      "source": [
        "## Постановка задачи\n",
        "Для полученных в результате эксперимента наборов данных выполнить статистическую обработку. Полученные результаты содержательно проинтерпретировать.\n"
      ],
      "metadata": {
        "id": "9CQUjDJYKTE-"
      }
    },
    {
      "cell_type": "markdown",
      "source": [
        "## Выполнение работы\n",
        "\n",
        "\n",
        "Выполнение работы представлено ниже"
      ],
      "metadata": {
        "id": "zj_51GphKUsC"
      }
    },
    {
      "cell_type": "markdown",
      "source": [
        "# Задание 1\n",
        "Выборка [6 7 9 4 7 4 6 4 3 4 5 6 4 5 1 4 9 7 5 4 6 8 2 2 3 1 1 2 4 1 7 4 5 3 2 2 0 5 2 2 3 1 3 3 3 2 6\n",
        "4 3 4]"
      ],
      "metadata": {
        "id": "Hu-_Wf-jKarK"
      }
    },
    {
      "cell_type": "markdown",
      "source": [
        "## Init task 1\n"
      ],
      "metadata": {
        "id": "QAeAftcxjeqa"
      }
    },
    {
      "cell_type": "code",
      "source": [
        "# install libs\n",
        "import numpy as np\n",
        "import matplotlib.pyplot as plt\n",
        "from scipy import stats as scistat\n",
        "from copy import deepcopy as dc\n",
        "import statistics as stat"
      ],
      "metadata": {
        "id": "3l1TKxJgwIYr"
      },
      "execution_count": null,
      "outputs": []
    },
    {
      "cell_type": "code",
      "source": [
        "# round wraped function\n",
        "def rou (value) -> float:\n",
        "  return round(value, 3)\n",
        "\n",
        "# cli wraped function\n",
        "def cli_man(massage) -> bool:\n",
        "  key = input(f\"Введите Д (или д), если хотите видеть расчет {massage}: \")\n",
        "  if key in \"ДдDdlLYyНн\":\n",
        "    print(\"Введено \",key)\n",
        "    return True\n",
        "  else:\n",
        "    return False"
      ],
      "metadata": {
        "id": "5pQzywXA8HzG"
      },
      "execution_count": null,
      "outputs": []
    },
    {
      "cell_type": "markdown",
      "source": [
        "## пункт a\n",
        "Построить вариционный ряд, эмпирическую функцию распределения и гистограмму частот"
      ],
      "metadata": {
        "id": "tOcRYGVzKrPC"
      }
    },
    {
      "cell_type": "code",
      "execution_count": null,
      "metadata": {
        "colab": {
          "base_uri": "https://localhost:8080/"
        },
        "id": "evWzStX9uu5o",
        "outputId": "1d96b4c3-2298-4f9e-bc83-15321b610881"
      },
      "outputs": [
        {
          "output_type": "stream",
          "name": "stdout",
          "text": [
            "mds = 198\n"
          ]
        }
      ],
      "source": [
        "# init [a; b]\n",
        "a_left = 2.40\n",
        "b_right = 6.00\n",
        "# init sample\n",
        "string_data = '6 7 9 4 7 4 6 4 3 4 5 6 4 5 1 4 9 7 5 4 6 8 2 2 3 1 1 2 4 1 7 4 5 3 2 2 0 5 2 2 3 1 3 3 3 2 6 4 3 4'\n",
        "sample_str =  string_data.split()\n",
        "sample = [int(val) for val in sample_str]\n",
        "mds = sum(sample)\n",
        "print(f'mds = {mds}')\n",
        "\n",
        "# print(f\"sample: {sample}\")"
      ]
    },
    {
      "cell_type": "code",
      "source": [
        "# task 1.a\n",
        "print(\"Task 1.a\")\n",
        "print(f\"Sample: {sample}\")\n",
        "var_series = dc(sample)\n",
        "var_series.sort()\n",
        "print(f\"Variational series: {var_series}; # = {len(var_series)}\")\n",
        "\n",
        "\n",
        "emp_distr_func =  np.cumsum(np.bincount(var_series)) / len(var_series)\n",
        "print(f\"empirical distribution function: {emp_distr_func}\")\n",
        "\n",
        "num_dif = len(set(sample))\n",
        "unique_values = np.unique(var_series)\n",
        "print(f\"unique_values: {unique_values}\")\n",
        "\n",
        "plt.plot()\n",
        "plt.step(unique_values, emp_distr_func, color='green')\n",
        "plt.title('Empirical distribution function - [plot]')\n",
        "plt.show()\n",
        "\n",
        "plt.plot()\n",
        "plt.hist(var_series, edgecolor='blue', color='pink')\n",
        "plt.title('frequency histogram - [plot]')\n"
      ],
      "metadata": {
        "colab": {
          "base_uri": "https://localhost:8080/",
          "height": 996
        },
        "id": "DRQddrorv_Ym",
        "outputId": "5d7af04f-14a7-421c-b973-4b7036b20cb9"
      },
      "execution_count": null,
      "outputs": [
        {
          "output_type": "stream",
          "name": "stdout",
          "text": [
            "Task 1.a\n",
            "Sample: [6, 7, 9, 4, 7, 4, 6, 4, 3, 4, 5, 6, 4, 5, 1, 4, 9, 7, 5, 4, 6, 8, 2, 2, 3, 1, 1, 2, 4, 1, 7, 4, 5, 3, 2, 2, 0, 5, 2, 2, 3, 1, 3, 3, 3, 2, 6, 4, 3, 4]\n",
            "Variational series: [0, 1, 1, 1, 1, 1, 2, 2, 2, 2, 2, 2, 2, 2, 3, 3, 3, 3, 3, 3, 3, 3, 4, 4, 4, 4, 4, 4, 4, 4, 4, 4, 4, 5, 5, 5, 5, 5, 6, 6, 6, 6, 6, 7, 7, 7, 7, 8, 9, 9]; # = 50\n",
            "empirical distribution function: [0.02 0.12 0.28 0.44 0.66 0.76 0.86 0.94 0.96 1.  ]\n",
            "unique_values: [0 1 2 3 4 5 6 7 8 9]\n"
          ]
        },
        {
          "output_type": "display_data",
          "data": {
            "text/plain": [
              "<Figure size 640x480 with 1 Axes>"
            ],
            "image/png": "[encoded data removed]"
          },
          "metadata": {}
        },
        {
          "output_type": "execute_result",
          "data": {
            "text/plain": [
              "Text(0.5, 1.0, 'frequency histogram - [plot]')"
            ]
          },
          "metadata": {},
          "execution_count": 152
        },
        {
          "output_type": "display_data",
          "data": {
            "text/plain": [
              "<Figure size 640x480 with 1 Axes>"
            ],
            "image/png": "[encoded data removed]"
          },
          "metadata": {}
        }
      ]
    },
    {
      "cell_type": "markdown",
      "source": [
        "## пункт b\n",
        " Вычислить выборочные аналоги следующих числовых характеристик: математическое ожидание, дисперсия, медианы, асимметрии, эксцесса вероятности $P(X\\in[a;b])$"
      ],
      "metadata": {
        "id": "1iAI8wfMLGRu"
      }
    },
    {
      "cell_type": "code",
      "source": [
        "print(\"Task 1.b\")\n",
        "E = stat.mean(sample)\n",
        "print(f\"E \\t\\t = {E}\")\n",
        "variance = stat.pvariance(sample)\n",
        "print(f\"Variance \\t = {rou(variance)}\")\n",
        "standard_deviation = stat.stdev(sample)\n",
        "print(f\"Std deviation \\t = {rou(standard_deviation)}\")\n",
        "median = stat.median(sample)\n",
        "print(f\"Median \\t\\t = {median} \")\n",
        "skewness = scistat.skew(sample)\n",
        "print(f\"Skewness \\t = {rou(skewness)} \")\n",
        "kurtosis = scistat.kurtosis(sample)\n",
        "print(f\"Kurtosis \\t = {rou(kurtosis)} \")\n",
        "nums_from_diapason = [val for val in sample if a_left <= val and b_right >= val]\n",
        "probability = len(nums_from_diapason) / len(sample)\n",
        "print(f\"Probability take value from [{a_left}; {int(b_right)}] = {probability}\")"
      ],
      "metadata": {
        "colab": {
          "base_uri": "https://localhost:8080/"
        },
        "id": "sHsh7V6HyNpX",
        "outputId": "91d354a7-447a-4800-dbc6-2768fe641147"
      },
      "execution_count": null,
      "outputs": [
        {
          "output_type": "stream",
          "name": "stdout",
          "text": [
            "Task 1.b\n",
            "E \t\t = 3.96\n",
            "Variance \t = 4.558\n",
            "Std deviation \t = 2.157\n",
            "Median \t\t = 4.0 \n",
            "Skewness \t = 0.459 \n",
            "Kurtosis \t = -0.357 \n",
            "Probability take value from [2.4; 6] = 0.58\n"
          ]
        }
      ]
    },
    {
      "cell_type": "markdown",
      "source": [
        "## пункт c\n",
        " В предположении, что исходные наблюдения являются выборкой из распределения Пуассона, построить оценку максимального правдоподобия парамаетра  $\\lambda$, а также оценку  $\\lambda$ по мутоду моментов. Найти смещение оценок."
      ],
      "metadata": {
        "id": "EwmXdwMHKkLF"
      }
    },
    {
      "cell_type": "markdown",
      "source": [
        "$P_{\\lambda}(X=k)=\\frac{\\lambda^{k}}{k!} exp(-\\lambda)$\n",
        "\n",
        "Функция правдоподобия:\n",
        "$\n",
        "L(\\overrightarrow{X};\\lambda)=\n",
        "\\prod_{i=1}^{n}P_{\\lambda}(x_{i})=\n",
        "\\prod_{i=1}^{n}[\\frac{\\lambda^{x_{i}}}{x_{i}!}\\cdot exp(-\\lambda)]\n",
        "=exp(-n \\lambda) \\frac{\\lambda^{\\sum_{i=1}^{n}x_{i}}} {\\prod_{i=1}^{n}(x_{i}!)}\n",
        "$\n",
        "\n",
        "Логарифмическая функция правдоподобия\n",
        "$\n",
        "LL(\\overrightarrow{X};\\lambda)\n",
        "=-n \\lambda  + \\ln(\\lambda)\\sum_{i=1}^{n}x_{i} -\\ln[\\prod_{i=1}^{n}(x_{i}!)]\n",
        "$\n",
        "\n",
        "Чтобы найти максимум функции правдоподобия (логарифмической) найдем ее экстремум путем решения уравнения $\\frac{\\partial LL(\\overrightarrow{X};\\lambda)}{\\partial \\lambda} = 0 $.\n",
        "\n",
        " $\n",
        " \\frac{\\partial LL(\\overrightarrow{X};\\lambda)}{\\partial \\lambda}\n",
        " = -n + \\frac{\\sum_{i=1}^{n}x_{i}}{\\lambda} = 0 \\\\\n",
        " \\widehat{\\lambda} = \\frac{\\sum_{i=1}^{n}x_{i}}{n} = \\widehat{x} = 3.96\n",
        " $\n",
        "\n",
        " Убедимся, что найденная ОМП является максимальной, для этого найдем вторую производную по параметру:\n",
        " $-\\frac{\\sum_{i=1}^{n}x_{i}}{\\lambda^2} < 0 \\\\ $ =>   Найденная точка - экстремум функции правдоподобия\n",
        "\n",
        "Поскольку $\\lambda$ одномерный параметр $\\widetilde{\\lambda}=\\overline{X}=3.96$\n",
        "\n",
        "Найдем смещение оценки:\n",
        "$g(T(\\overrightarrow{X}))=\\lambda^{\\sum_{i=1}^{n}x_{i}}\\cdot exp(-n \\lambda)$\n",
        "\n",
        "МДС: $T=\\sum_{i=1}^{n}x_{i}=196$.\n",
        "\n",
        "$h(\\overrightarrow{X})=\\frac{1}{\\prod_{i=1}^{n}x_{i}!}$\n",
        "\n",
        "Распределение Пуассона принадлежит семейству экспоненциальных потому, МДС будет являться ПДС.\n",
        "\n",
        "$E_{\\lambda}\\overline{X} =\n",
        "\\frac{1}{n} E_{\\lambda}\\sum_{i=1}^{n}x_{i}=\n",
        "\\frac{n}{n} E_{\\lambda}x_{i}=\\lambda=3.96 \\ (\\forall{i} \\in \\mathbb{N} : i < n) \\\\ $\n",
        "\n",
        "=> оценка является несмещенной\n"
      ],
      "metadata": {
        "id": "uosQ_vMaMm0A"
      }
    },
    {
      "cell_type": "markdown",
      "source": [
        "## пункт d\n",
        "Построить асимптотический доверительный интервал уровня значимости $\\alpha_1 ( = 0.02)$ для параметра $\\lambda$ на базе оценки максимального павдоподобия.\n"
      ],
      "metadata": {
        "id": "2Q85Jz9qbJd5"
      }
    },
    {
      "cell_type": "markdown",
      "source": [
        "\n",
        "$\\sqrt{n}( \\widehat{\\lambda}(\\overrightarrow{X})-\\lambda )\\sim N (0, \\frac{1}{I(\\lambda)} )$\n",
        "\n",
        "$\\widehat{\\lambda}=\\overline{X}$\n",
        "\n",
        "Информация Фишера: $\n",
        "I(\\lambda)\n",
        "=-E(\\frac{\\partial^{2} LL}{\\partial \\lambda^{2}} )\n",
        "=\\frac{n}{\\lambda^{2}}\n",
        "$\n",
        "\n",
        "\n",
        "$\n",
        "\\sqrt{n I (\\widehat{\\lambda}(\\overrightarrow{X}))}\n",
        "(\\widehat{\\lambda}(\\overrightarrow{X})-\\lambda) \\sim N(0,1)\n",
        "$\n",
        "\n",
        "Пусть $X_{\\alpha}$ такое, что: $\\mathrm{Ф}(X_{\\alpha})=1-\\frac{\\alpha_{1}}{2}=1-\\frac{0.02}{2} = 0.99 ;\\ X_{\\alpha}=2.33$\n",
        "\n",
        "Вычислим доверительный интервал:\n",
        "\n",
        "$[ \\overline{X}-\\frac{X_{\\alpha}}{\\sqrt{196\\frac{196}{3.96}}};\n",
        " \\overline{X}+\\frac{X_{\\alpha}}{\\sqrt{196\\frac{196}{3.96}}}]\n",
        " \\\\ 3.96 - \\frac{2.33}{98.494}\\le \\lambda\\le 3.96 + \\frac{2.33}{98.494}$\n",
        "\n",
        "$3.936\\le \\lambda\\le 3.984$ - Асимптотический доверительный интервал параметра $\\lambda$."
      ],
      "metadata": {
        "id": "aT1ID77-bo9n"
      }
    },
    {
      "cell_type": "markdown",
      "source": [
        "## пункт е\n",
        "\n",
        "Используя гистограмму частот, построить критерий значимости $\\chi^2$ проверки простой гипотезы согласия с распределением Пуассона с параметром $\\lambda_0 = 7$. Проверить гипотезу на уровне значимости $\\alpha_1 = 0.02$. Вычислить наибольшее значение уровня значимости, на котором ещё нет оснований отвергнуть данную гипотезу.\n",
        "\n"
      ],
      "metadata": {
        "id": "U1dOvW_wseBh"
      }
    },
    {
      "cell_type": "code",
      "source": [
        "bins =  [[0, 1], [2, 3], [4, 5], [6, 7], [8, 9]]\n",
        "watch_f = [0] * len(bins)\n",
        "lam = 7\n",
        "a_1 = .02\n",
        "pois_f = [0] * len(bins)\n",
        "key = cli_man(\"частот\")\n",
        "for i in range(len(bins)):\n",
        "  for elem in bins[i]:\n",
        "    watch_f[i] += sample.count(elem)\n",
        "    pois_f[i] += len(sample) * scistat.poisson.pmf(elem, lam)\n",
        "    if key:\n",
        "      print(f'{watch_f[i]} from {elem}; pois: {pois_f[i]}')\n",
        "\n",
        "chi_list = (np.array(watch_f) - np.array(pois_f)) ** 2 / np.array(pois_f)\n",
        "chi_stat = np.sum(chi_list)\n",
        "print(f\"Статистика Xи квадрат: {rou(chi_stat)} \")\n",
        "hip = scistat.chi2.ppf(1 - a_1, df=(len(watch_f) - 1))\n",
        "print(\"H_a :\", rou(hip))\n",
        "\n",
        "if hip < chi_stat:\n",
        "  print(f\"Отвергаем гипотезу, т.к. {rou(hip)} < {rou(chi_stat)}\")\n",
        "else:\n",
        "  print(f\"Принимаем гиптезу, т.к. {rou(hip)} > {rou(chi_stat)}\")\n",
        "\n",
        "\n",
        "p_value = scistat.chi2.sf(chi_stat, (len(watch_f) - 1))\n",
        "print(f\"p_value : {p_value}\")\n"
      ],
      "metadata": {
        "colab": {
          "base_uri": "https://localhost:8080/"
        },
        "id": "IAgJzbUO8hQY",
        "outputId": "080ef589-5501-4fad-8bd8-8f41924cb0e4"
      },
      "execution_count": null,
      "outputs": [
        {
          "output_type": "stream",
          "name": "stdout",
          "text": [
            "Введите Д (или д), если хотите видеть расчет частот: l\n",
            "Введено  l\n",
            "1 from 0; pois: 0.045594098277725814\n",
            "6 from 1; pois: 0.3647527862218065\n",
            "8 from 2; pois: 1.117055407804282\n",
            "16 from 3; pois: 3.723518026014272\n",
            "11 from 4; pois: 4.561309581867482\n",
            "16 from 5; pois: 10.947142996481958\n",
            "5 from 6; pois: 7.4501389837168865\n",
            "9 from 7; pois: 14.900277967433773\n",
            "1 from 8; pois: 6.518871610752274\n",
            "3 from 9; pois: 11.589105085781828\n",
            "Статистика Xи квадрат: 138.572 \n",
            "H_a : 11.668\n",
            "Отвергаем гипотезу, т.к. 11.668 < 138.572\n",
            "p_value : 5.706703541532174e-29\n"
          ]
        }
      ]
    },
    {
      "cell_type": "markdown",
      "source": [
        "## пункт f\n",
        "Построить критерий значимости $\\chi^2$ проверки сложной гипотезы согласия с распределением Пуассона. Проверить гипотезу на уровне значимости $\\alpha_1 = 0.02$. Вычислить наибольшее значение значение уровня значимости, на котором ещё нет оснований отвергнуть данную гипотезу."
      ],
      "metadata": {
        "id": "TDYUfj7jshzO"
      }
    },
    {
      "cell_type": "code",
      "source": [
        "bins =  [[0, 1], [2, 3], [4, 5], [6, 7], [8, 9]]\n",
        "watch_f = [0] * len(bins)\n",
        "lam = E\n",
        "a_1 = .02\n",
        "pois_f = [0] * len(bins)\n",
        "key = cli_man(\"частот\")\n",
        "for i in range(len(bins)):\n",
        "  for elem in bins[i]:\n",
        "    watch_f[i] += sample.count(elem)\n",
        "    pois_f[i] += len(sample) * scistat.poisson.pmf(elem, lam)\n",
        "    if key:\n",
        "      print(f'{watch_f[i]} from {elem}; pois: {pois_f[i]}')\n",
        "\n",
        "chi_list = (np.array(watch_f) - np.array(pois_f)) ** 2 / np.array(pois_f)\n",
        "chi_stat = np.sum(chi_list)\n",
        "print(f\"Статистика Xи квадрат: {rou(chi_stat)} \")\n",
        "hip = scistat.chi2.ppf(1 - a_1, df=(len(watch_f) - 1))\n",
        "print(\"H_a :\", rou(hip))\n",
        "\n",
        "if hip < chi_stat:\n",
        "  print(f\"Отвергаем гипотезу, т.к. {rou(hip)} < {rou(chi_stat)}\")\n",
        "else:\n",
        "  print(f\"Принимаем гиптезу, т.к. {rou(hip)} > {rou(chi_stat)}\")\n",
        "\n",
        "p_value = scistat.chi2.sf(chi_stat, (len(watch_f) - 1))\n",
        "print(f\"p_value : {p_value}\")\n"
      ],
      "metadata": {
        "colab": {
          "base_uri": "https://localhost:8080/"
        },
        "id": "3ZIeNw-JScEo",
        "outputId": "a36197ab-6c27-41c3-e3ec-a5e59674c3e0"
      },
      "execution_count": null,
      "outputs": [
        {
          "output_type": "stream",
          "name": "stdout",
          "text": [
            "Введите Д (или д), если хотите видеть расчет частот: l\n",
            "Введено  l\n",
            "1 from 0; pois: 0.9531557145805818\n",
            "6 from 1; pois: 4.727652344319686\n",
            "8 from 2; pois: 7.473503326883425\n",
            "16 from 3; pois: 17.338527718369544\n",
            "11 from 4; pois: 9.766374147571263\n",
            "16 from 5; pois: 17.50134247244771\n",
            "5 from 6; pois: 5.105079094418445\n",
            "9 from 7; pois: 7.9930952678323095\n",
            "1 from 8; pois: 1.4295680058398632\n",
            "3 from 9; pois: 2.058577928409404\n",
            "Статистика Xи квадрат: 1.132 \n",
            "H_a : 11.668\n",
            "Принимаем гиптезу, т.к. 11.668 > 1.132\n",
            "p_value : 0.8891751182789179\n"
          ]
        }
      ]
    },
    {
      "cell_type": "markdown",
      "source": [
        "## пункт g\n",
        "Построить наиболее мощный критерий проверки простой гипотезы пуассоновости с параметром $\\lambda = \\lambda_0 = 7$ при альтернативе пуассоновости с параметром $\\lambda = \\lambda_1 = 4$. Проверить гипотезу на уровне значимости $\\alpha_1 = 0.05$ . Что получится, если поменять местами основную и альтернативную гипотезы?\n",
        "\n",
        "\n"
      ],
      "metadata": {
        "id": "0hEX7AUNsiTr"
      }
    },
    {
      "cell_type": "code",
      "source": [
        "lambda_0 = 7\n",
        "lambda_1 = 4\n",
        "alpha_1 = .05\n",
        "\n",
        "print(f'lambda_0 = {lambda_0}')\n",
        "print(f'lambda_1 = {lambda_1}')\n",
        "print(f'alpha_1  = {alpha_1}')\n",
        "\n",
        "print(\"Расчет статистики отношения правдоподобия:\")\n",
        "L_O = np.prod(scistat.poisson.pmf(var_series, lambda_0))\n",
        "# print(f\"Основная: {L_O}\")\n",
        "L_A = np.prod(scistat.norm.pdf(var_series, lambda_1))\n",
        "# print(f\"Альтернативная: {L_A}\")\n",
        "OA =  L_O/L_A\n",
        "AO = L_A/L_O\n",
        "print(f\"Отношение L_O/L_A = {OA}\")\n",
        "print(f\"Отношение L_A/L_O = {AO}\")\n",
        "print(f'Принимаем альтернативную гипетозу, т.к. {AO} > {OA}') if AO > OA else print(f\"Принимаем основную гипотезу, т.к. {OA} >= {AO}\")"
      ],
      "metadata": {
        "colab": {
          "base_uri": "https://localhost:8080/"
        },
        "id": "Jm1gnT4keneK",
        "outputId": "832195a4-a72e-444f-c75d-d077a079a06e"
      },
      "execution_count": null,
      "outputs": [
        {
          "output_type": "stream",
          "name": "stdout",
          "text": [
            "lambda_0 = 7\n",
            "lambda_1 = 4\n",
            "alpha_1  = 0.05\n",
            "Расчет статистики отношения правдоподобия:\n",
            "Отношение L_O/L_A = 571873.3100613902\n",
            "Отношение L_A/L_O = 1.7486390471565297e-06\n",
            "Принимаем основную гипотезу, т.к. 571873.3100613902 >= 1.7486390471565297e-06\n"
          ]
        }
      ]
    },
    {
      "cell_type": "markdown",
      "source": [
        "## пункт h"
      ],
      "metadata": {
        "id": "A393HWj2QkV0"
      }
    },
    {
      "cell_type": "markdown",
      "source": [
        "\n",
        "В пунктах (c)-(f) заменить семейство распределение Пуассона на семейство геометрических распредленией $\\mathbb{P}_{\\lambda}(X=k)=\\frac{\\lambda^{k}}{(\\lambda+1)^{k+1}}, k\\in \\mathbb{Z_{+}}$\n",
        "Функция правдоподобия:\n",
        "$\n",
        "L(\\overrightarrow{X};\\lambda)=\n",
        "\\prod_{i=1}^{n}P_{\\lambda}(x_{i})=\n",
        "\\prod_{i=1}^{n}[\\frac{\\lambda^{x_i}}{(\\lambda+1)^{x+1}}]\n",
        "=\\lambda^{\\sum_{i=1}^{n}x_{i}} \\cdot (\\lambda+1)^{-\\sum_{i=1}^{n}x_{i} + n}\n",
        "$\n",
        "\n",
        "Логарифмическая функция правдоподобия\n",
        "$\n",
        "LL(\\overrightarrow{X};\\lambda)\n",
        "=\\ln(\\lambda)\\sum_{i=1}^{n}x_{i} - \\ln(\\lambda+1)[\\sum_{i=1}^{n}x_{i} + n]\n",
        "$\n",
        "\n",
        "Чтобы найти максимум функции правдоподобия (логарифмической) найдем ее экстремум путем решения уравнения $\\frac{\\partial LL(\\overrightarrow{X};\\lambda)}{\\partial \\lambda} = 0 $.\n",
        "\n",
        " $\n",
        " \\frac{\\partial LL(\\overrightarrow{X};\\lambda)}{\\partial \\lambda}\n",
        " = \\frac{\\sum_{i=1}^{n}x_{i}}{\\lambda} - \\frac{\\sum_{i=1}^{n}x_{i}}{\\lambda+1} - \\frac{n}{\\lambda+1} = 0 \\\\\n",
        " \\lambda\\sum_{i=1}^{n}x_{i} + \\sum_{i=1}^{n}x_{i} - \\lambda\\sum_{i=1}^{n}x_{i}-n\\lambda = 0 \\\\\n",
        " \\widehat{\\lambda} = \\overline{X} = 3.96\n",
        " $\n",
        "\n",
        "\n",
        "$ E_{\\lambda}\\overline{X} = E_{\\theta}\\frac{1}{n}\\sum \\limits_{i=1}^{n}x_i = \\frac{n}{n}\\lambda = \\lambda $\n",
        "\n",
        "Оценка является несмещённой.\n",
        "\n",
        "\n",
        "\n",
        "$\\widehat{\\lambda}=\\overline{X}$\n",
        "\n",
        "Информация Фишера:\n",
        "\n",
        "\n",
        "$I(\\lambda)=-E( \\frac{\\partial^{2} LL}{\\partial \\lambda^{2}} )=\n",
        "\\frac{n}{\\lambda^{2}}-\\frac{n}{(\\lambda+1)^{2}}-\\frac{n}{(\\lambda+1)^{2}}=\n",
        "\\frac{n(\\lambda^{2}+1)}{(\\lambda+1)^{2}\\cdot \\lambda^{2}}$\n",
        "\n",
        "$\\sqrt{n I(  \\widehat{\\lambda}(\\overrightarrow{x}))}( \\widehat{\\lambda}(\\overrightarrow{x})-\\theta )\\sim N(0,1)$\n",
        "\n",
        "\n",
        "\n",
        "\n",
        "Пусть $X_{\\alpha}$ такое, что: $\\mathrm{Ф}(X_{\\alpha})=1-\\frac{\\alpha_{1}}{2}=1-\\frac{0.02}{2} = 0.99 ;\\ X_{\\alpha}=2.33$\n",
        "\n",
        "Вычислим доверительный интервал:\n",
        "\n",
        "\n",
        " $ [\\overline{X}-\\frac{X_{\\alpha}}{\\sqrt{n\\frac{n(\\widehat{\\lambda^{2}}+1)}{(\\widehat{\\lambda}+1)^{2}\\cdot \\widehat{\\lambda^{2}}}}};\n",
        " \\frac{1}{\\overline{X}}+\\frac{X_{0.95}}{\\sqrt{n\\cdot \\frac{n(\\widehat{\\lambda^{2}}+1)}{(\\widehat{\\lambda}+1)^{2}\\cdot \\widehat{\\lambda^{2}}}}}]  =\n",
        " [3.96-0.224 ; 3.96 + 0.224] = [3.736; 4.184]\n",
        " $\n",
        "\n"
      ],
      "metadata": {
        "id": "X_u5jdxGHHZ_"
      }
    },
    {
      "cell_type": "code",
      "source": [
        "print(\"task h.e\")\n",
        "bins =  [[0, 1], [2, 3], [4, 5], [6, 7], [8, 9]]\n",
        "watch_f = [0] * len(bins)\n",
        "lam = 7\n",
        "a_1 = .02\n",
        "geom_f = [0] * len(bins)\n",
        "key = cli_man(\"частот\")\n",
        "for i in range(len(bins)):\n",
        "  for elem in bins[i]:\n",
        "    watch_f[i] += sample.count(elem)\n",
        "    geom_f[i] += len(sample) * lam ** elem / (1 + lam) ** (elem + 1)\n",
        "\n",
        "    if key:\n",
        "      print(f'{watch_f[i]} from {elem}; geom: {rou(geom_f[i])}')\n",
        "\n",
        "chi_list = (np.array(watch_f) - np.array(geom_f)) ** 2 / np.array(geom_f)\n",
        "chi_stat = np.sum(chi_list)\n",
        "print(f\"Статистика Xи квадрат: {rou(chi_stat)} \")\n",
        "hip = scistat.chi2.ppf(1 - a_1, df=(len(watch_f) - 1))\n",
        "print(\"H_a :\", rou(hip))\n",
        "\n",
        "if hip < chi_stat:\n",
        "  print(f\"Отвергаем гипотезу, т.к. {rou(hip)} < {rou(chi_stat)}\")\n",
        "else:\n",
        "  print(f\"Принимаем гиптезу, т.к. {rou(hip)} > {rou(chi_stat)}\")\n",
        "\n",
        "p_value = scistat.chi2.sf(chi_stat, (len(watch_f) - 1))\n",
        "print(f\"p_value : {p_value}\")"
      ],
      "metadata": {
        "colab": {
          "base_uri": "https://localhost:8080/"
        },
        "id": "7_FsqRPwgZfi",
        "outputId": "33bdf6e7-ab2e-457d-a32c-be09e4edb82e"
      },
      "execution_count": null,
      "outputs": [
        {
          "output_type": "stream",
          "name": "stdout",
          "text": [
            "task h.e\n",
            "Введите Д (или д), если хотите видеть расчет частот: l\n",
            "Введено  l\n",
            "1 from 0; geom: 6.25\n",
            "6 from 1; geom: 11.719\n",
            "8 from 2; geom: 4.785\n",
            "16 from 3; geom: 8.972\n",
            "11 from 4; geom: 3.664\n",
            "16 from 5; geom: 6.869\n",
            "5 from 6; geom: 2.805\n",
            "9 from 7; geom: 5.259\n",
            "1 from 8; geom: 2.148\n",
            "3 from 9; geom: 4.027\n",
            "Статистика Xи квадрат: 23.354 \n",
            "H_a : 11.668\n",
            "Отвергаем гипотезу, т.к. 11.668 < 23.354\n",
            "p_value : 0.00010756693952811257\n"
          ]
        }
      ]
    },
    {
      "cell_type": "code",
      "source": [
        "print(\"task h.f\")\n",
        "bins =  [[0, 1], [2, 3], [4, 5], [6, 7], [8, 9]]\n",
        "watch_f = [0] * len(bins)\n",
        "lam = E\n",
        "a_1 = .02\n",
        "geom_f = [0] * len(bins)\n",
        "key = cli_man(\"частот\")\n",
        "for i in range(len(bins)):\n",
        "  for elem in bins[i]:\n",
        "    watch_f[i] += sample.count(elem)\n",
        "    geom_f[i] += len(sample) * lam ** elem / (1 + lam) ** (elem + 1)\n",
        "\n",
        "    if key:\n",
        "      print(f'{watch_f[i]} from {elem}; geom: {rou(geom_f[i])}')\n",
        "\n",
        "chi_list = (np.array(watch_f) - np.array(geom_f)) ** 2 / np.array(geom_f)\n",
        "chi_stat = np.sum(chi_list)\n",
        "print(f\"Статистика Xи квадрат: {rou(chi_stat)} \")\n",
        "hip = scistat.chi2.ppf(1 - a_1, df=(len(watch_f) - 1))\n",
        "print(\"H_a :\", rou(hip))\n",
        "\n",
        "if hip < chi_stat:\n",
        "  print(f\"Отвергаем гипотезу, т.к. {rou(hip)} < {rou(chi_stat)}\")\n",
        "else:\n",
        "  print(f\"Принимаем гиптезу, т.к. {rou(hip)} > {rou(chi_stat)}\")\n",
        "\n",
        "p_value = scistat.chi2.sf(chi_stat, (len(watch_f) - 1))\n",
        "print(f\"p_value : {p_value}\")"
      ],
      "metadata": {
        "colab": {
          "base_uri": "https://localhost:8080/"
        },
        "id": "WzwGW8mQin2f",
        "outputId": "1c51013f-0719-4956-c7e8-c88e5aff6ce3"
      },
      "execution_count": null,
      "outputs": [
        {
          "output_type": "stream",
          "name": "stdout",
          "text": [
            "task h.f\n",
            "Введите Д (или д), если хотите видеть расчет частот: l\n",
            "Введено  l\n",
            "1 from 0; geom: 10.081\n",
            "6 from 1; geom: 18.129\n",
            "8 from 2; geom: 6.426\n",
            "16 from 3; geom: 11.556\n",
            "11 from 4; geom: 4.096\n",
            "16 from 5; geom: 7.366\n",
            "5 from 6; geom: 2.611\n",
            "9 from 7; geom: 4.695\n",
            "1 from 8; geom: 1.664\n",
            "3 from 9; geom: 2.993\n",
            "Статистика Xи квадрат: 23.891 \n",
            "H_a : 11.668\n",
            "Отвергаем гипотезу, т.к. 11.668 < 23.891\n",
            "p_value : 8.397637486853737e-05\n"
          ]
        }
      ]
    },
    {
      "cell_type": "markdown",
      "source": [
        "# Задание 2\n",
        "Выборка:\n",
        "\n",
        "[0.639 0.848 0.083 −0.464 0.204 −0.021 −0.299 0.324 −0.270 −0.471 0.700 −0.624 0.383 0.785 −0.377 −0.901 −0.390 −0.013\n",
        "0.225 −0.770 0.544 −0.523 0.299 0.121 0.053 −0.678 0.700 0.072 0.022 0.022 0.574 0.481 0.068 0.194 −0.910 −0.222 −0.650\n",
        "0.235 −0.042 −0.172 −0.107 −0.637 0.831 −0.085 −0.109 −0.209 0.411 1.088 −0.694 −0.570]"
      ],
      "metadata": {
        "id": "BK-fIJ-GHGjC"
      }
    },
    {
      "cell_type": "markdown",
      "source": [
        "## Init task 2"
      ],
      "metadata": {
        "id": "RpIajTVPjrRR"
      }
    },
    {
      "cell_type": "code",
      "source": [
        "string_data = '0.639 0.848 0.083 -0.464 0.204 -0.021 -0.299 0.324 -0.270 -0.471 0.700 -0.624 0.383 0.785 -0.377 -0.901 -0.390 -0.013 0.225 -0.770 0.544 -0.523 0.299 0.121 0.053 -0.678 0.700 0.072 0.022 0.022 0.574 0.481 0.068 0.194 -0.910 -0.222 -0.650 0.235 -0.042 -0.172 -0.107 -0.637 0.831 -0.085 -0.109 -0.209 0.411 1.088 -0.694 -0.570'\n",
        "\n",
        "\n",
        "# init [c; d]\n",
        "c_left = -.2\n",
        "d_right = .3\n",
        "h = .2\n",
        "\n",
        "# init params\n",
        "a_2 = .2\n",
        "a_0 = 1.\n",
        "sigma_0 = .5\n",
        "a_1 = .0\n",
        "sigma_1 = .5\n",
        "\n",
        "print(f'init params: \\n \\t[c; d] = [{c_left}; {d_right}] \\n\\th = {h} \\n\\ta_2 = {a_2} \\n\\ta_0 = {a_0} \\n\\tsigma_0 = {sigma_0} \\n\\ta_1 = {a_1} \\n\\tsigma_1 = {sigma_1}')\n",
        "\n",
        "# init sample\n",
        "sample_str =  string_data.split()\n",
        "\n",
        "sample = [float(val) for val in sample_str]\n",
        "mds = sum(sample)\n",
        "print(f'sum = {mds}')\n",
        "\n",
        "# print(f\"sample: {sample}\")"
      ],
      "metadata": {
        "colab": {
          "base_uri": "https://localhost:8080/"
        },
        "id": "EMYsQSGAHOEF",
        "outputId": "3751645d-8d15-43f8-e96a-342879ef6efa"
      },
      "execution_count": null,
      "outputs": [
        {
          "output_type": "stream",
          "name": "stdout",
          "text": [
            "init params: \n",
            " \t[c; d] = [-0.2; 0.3] \n",
            "\th = 0.2 \n",
            "\ta_2 = 0.2 \n",
            "\ta_0 = 1.0 \n",
            "\tsigma_0 = 0.5 \n",
            "\ta_1 = 0.0 \n",
            "\tsigma_1 = 0.5\n",
            "sum = -0.30199999999999994\n"
          ]
        }
      ]
    },
    {
      "cell_type": "markdown",
      "source": [
        "## Пункт а"
      ],
      "metadata": {
        "id": "dV8RrzDijymj"
      }
    },
    {
      "cell_type": "markdown",
      "source": [
        "Построить вариационный ряд, эмпирическую функцию распределения, гистограмму и полигон частот с шагом h."
      ],
      "metadata": {
        "id": "th5N2n0I9a5a"
      }
    },
    {
      "cell_type": "code",
      "source": [
        "# task 2.a\n",
        "print(\"Task 2.a\")\n",
        "print(f\"Sample: {sample}\")\n",
        "var_series = dc(sample)\n",
        "var_series.sort()\n",
        "print(f\"Variational series: {var_series}\")\n",
        "\n",
        "\n",
        "emp_distr_func =  np.arange(1, len(sample) + 1) / len(sample)\n",
        "print(f\"empirical distribution function: {emp_distr_func}\")\n",
        "\n",
        "num_dif = len(set(sample))\n",
        "unique_values = np.unique(var_series)\n",
        "\n",
        "plt.step(range(len(sample)), emp_distr_func, color='green')\n",
        "plt.title('Empirical distribution function - [plot]')\n",
        "plt.show()\n",
        "\n",
        "\n",
        "column = np.arange(var_series[0], var_series[len(var_series)-1] + h, h)\n",
        "plt.hist(sample, bins=column, edgecolor='blue', color=\"pink\")\n",
        "hist, none = np.histogram(sample, bins=column)\n",
        "column_mid = (column[1:] + column[:-1])/2\n",
        "plt.title(\"Histogram\")\n",
        "plt.plot(column_mid, hist, color='fuchsia', marker='8', linestyle='dotted')\n",
        "plt.show()"
      ],
      "metadata": {
        "colab": {
          "base_uri": "https://localhost:8080/",
          "height": 1000
        },
        "id": "jWhM9ACxJ2jS",
        "outputId": "8652742c-b8e7-4420-9fd6-481850400c43"
      },
      "execution_count": null,
      "outputs": [
        {
          "output_type": "stream",
          "name": "stdout",
          "text": [
            "Task 2.a\n",
            "Sample: [0.639, 0.848, 0.083, -0.464, 0.204, -0.021, -0.299, 0.324, -0.27, -0.471, 0.7, -0.624, 0.383, 0.785, -0.377, -0.901, -0.39, -0.013, 0.225, -0.77, 0.544, -0.523, 0.299, 0.121, 0.053, -0.678, 0.7, 0.072, 0.022, 0.022, 0.574, 0.481, 0.068, 0.194, -0.91, -0.222, -0.65, 0.235, -0.042, -0.172, -0.107, -0.637, 0.831, -0.085, -0.109, -0.209, 0.411, 1.088, -0.694, -0.57]\n",
            "Variational series: [-0.91, -0.901, -0.77, -0.694, -0.678, -0.65, -0.637, -0.624, -0.57, -0.523, -0.471, -0.464, -0.39, -0.377, -0.299, -0.27, -0.222, -0.209, -0.172, -0.109, -0.107, -0.085, -0.042, -0.021, -0.013, 0.022, 0.022, 0.053, 0.068, 0.072, 0.083, 0.121, 0.194, 0.204, 0.225, 0.235, 0.299, 0.324, 0.383, 0.411, 0.481, 0.544, 0.574, 0.639, 0.7, 0.7, 0.785, 0.831, 0.848, 1.088]\n",
            "empirical distribution function: [0.02 0.04 0.06 0.08 0.1  0.12 0.14 0.16 0.18 0.2  0.22 0.24 0.26 0.28\n",
            " 0.3  0.32 0.34 0.36 0.38 0.4  0.42 0.44 0.46 0.48 0.5  0.52 0.54 0.56\n",
            " 0.58 0.6  0.62 0.64 0.66 0.68 0.7  0.72 0.74 0.76 0.78 0.8  0.82 0.84\n",
            " 0.86 0.88 0.9  0.92 0.94 0.96 0.98 1.  ]\n"
          ]
        },
        {
          "output_type": "display_data",
          "data": {
            "text/plain": [
              "<Figure size 640x480 with 1 Axes>"
            ],
            "image/png": "[encoded data removed]"
          },
          "metadata": {}
        },
        {
          "output_type": "display_data",
          "data": {
            "text/plain": [
              "<Figure size 640x480 with 1 Axes>"
            ],
            "image/png": "[encoded data removed]"
          },
          "metadata": {}
        }
      ]
    },
    {
      "cell_type": "markdown",
      "source": [
        "## Пункт b\n",
        "Вычислить выборочные аналоги следующих числовых характеристик:математического ожидания; дисперсии; СКО;  медианы; асимметрии; эксцесса;  вероятности P($X \\in [с, d]$)."
      ],
      "metadata": {
        "id": "1DH_r7rfj6pe"
      }
    },
    {
      "cell_type": "code",
      "source": [
        "# task 2.b\n",
        "print(\"Task 2.b\")\n",
        "\n",
        "E = stat.mean(sample)\n",
        "print(f\"E \\t\\t = {rou(E)}\")\n",
        "variance = stat.pvariance(sample)\n",
        "print(f\"Variance \\t = {rou(variance)}\")\n",
        "standard_deviation = stat.stdev(sample)\n",
        "print(f\"Std deviation \\t = {rou(standard_deviation)}\")\n",
        "median = stat.median(sample)\n",
        "print(f\"Median \\t\\t = {median} \")\n",
        "skewness = scistat.skew(sample)\n",
        "print(f\"Skewness \\t = {rou(skewness)} \")\n",
        "kurtosis = scistat.kurtosis(sample)\n",
        "print(f\"Kurtosis \\t = {rou(kurtosis)} \")\n",
        "nums_from_diapason = [val for val in sample if c_left <= val and d_right >= val]\n",
        "# print(nums_from_diapason)\n",
        "probability = len(nums_from_diapason) / len(sample)\n",
        "print(f\"Probability take value from [{c_left}; {d_right}] = {probability}\")"
      ],
      "metadata": {
        "colab": {
          "base_uri": "https://localhost:8080/"
        },
        "id": "1bTJOQEiY6q3",
        "outputId": "95f4aefb-fa02-43f1-cc3e-a0fdc6a90460"
      },
      "execution_count": null,
      "outputs": [
        {
          "output_type": "stream",
          "name": "stdout",
          "text": [
            "Task 2.b\n",
            "E \t\t = -0.006\n",
            "Variance \t = 0.244\n",
            "Std deviation \t = 0.499\n",
            "Median \t\t = 0.0045 \n",
            "Skewness \t = 0.121 \n",
            "Kurtosis \t = -0.745 \n",
            "Probability take value from [-0.2; 0.3] = 0.38\n"
          ]
        }
      ]
    },
    {
      "cell_type": "markdown",
      "source": [
        "## Пункт c\n",
        " В предположении, что исходные наблюдения являются выборкой из распределения Пуассона, построить оценку максимального правдоподобия парамаетра  $\\lambda$, а также оценку  $\\lambda$ по мeтоду моментов. Найти смещение оценок."
      ],
      "metadata": {
        "id": "A_oCZi_E9XRt"
      }
    },
    {
      "cell_type": "markdown",
      "source": [
        "\n",
        "\n",
        "Оценка максимального правдоподобия параметров а и $\\sigma^2$:  \n",
        "$L(\\overrightarrow{X};\\theta) =\n",
        "(2\\pi)^{-\\frac{n}{2}}\\sigma^{-n}exp(-\\frac{1}{2\\sigma^2}\\sum_{i=1}^{n}x_i^2+\\frac{a}{\\sigma^2}\\sum_{i=1}^{n}x_i-\\frac{n a^2}{2\\sigma^2}) \\\\  \n",
        "LL(\\overrightarrow{X};\\theta)=-\\frac{n}{2}\\ln2 \\pi - n \\ln \\sigma-(\\frac{1}{2\\sigma^2}\\sum_{i=1}^{n}x_i^2+\\frac{a}{\\sigma^2}\\sum_{i=1}^{n}x_i-\\frac{n a^2}{2\\sigma^2}) \\\\\n",
        "Фиксируем \\ \\sigma \\\\\n",
        "\\frac{\\partial LL(\\overrightarrow{X};\\lambda)}{\\partial a}=\\frac{1}{\\sigma^2}\\sum_{i=1}^{n}(x_i-na)=0 \\\\   \n",
        "\\widehat{a}=\\bar{x}= -0.006 \\\\\n",
        "Фиксируем \\ a \\\\\n",
        "\\frac{\\partial LL(\\overrightarrow{X};\\lambda)}{\\partial\\sigma}=\\frac{n}{\\sigma}+\\frac{1}{\\sigma^3}\\sum_{i=1}^{n}(x_i-na)^2=0 \\\\    \n",
        "\\widehat{\\sigma^2}=\\frac{1}{n}\\sum_{i=1}^{n}(x_i-na)^2 = variance =0.2441$  \n",
        "\n",
        "Мат ожидание из распределения: a  \n",
        "Мат ожидание наблюдаемое : $\\frac{1}{n}\\sum_{i=1}^nx_i$  \n",
        "Дисперсия из распределения: ${E}(X_2)=a^2+\\sigma^2$  \n",
        "Дисперсия наблюдаемая: $M_2=\\bar x^2=\\cfrac{1}{n}\\sum_{i=1}^{n}(x_i-na)^2 $\n",
        "$\\widehat\\theta=(\\bar{x},S^2)=(-0.006,0.2441)\n",
        "\\\\ T=(\\sum_{i=1}^nx_i,\\sum_{i=1}^nx_i^2)$\n",
        "\n",
        "Нормальное респределение принадлежит симуейству экспоненциальных, потому МДС будет являться ПДС\n",
        "\n",
        "$E_\\theta(\\bar x)=E_\\theta\\frac{1}{n}\\sum_{i=1}^nx_i=\\frac{n}{n}a = a \\\\\n",
        "bias_{\\theta}(\\sigma^2)=-\\frac{\\sigma^2}{n}$"
      ],
      "metadata": {
        "id": "jD7KaeEAaF2Q"
      }
    },
    {
      "cell_type": "markdown",
      "source": [
        "## Пункт d\n",
        "Построить доверительные интервалы уровня значимости $\\alpha_2 = 0.2$ для параметров $(a, \\sigma^2)$.\n"
      ],
      "metadata": {
        "id": "6keou9WJkOLe"
      }
    },
    {
      "cell_type": "markdown",
      "source": [
        "Параметр а\n",
        "\n",
        "$ P_a ( \\sqrt{n - 1} \\frac{\\bar{X} - a}{S} \\in [-x_{\\alpha_2}, x_{\\alpha_2}]) $\n",
        "\n",
        "Возьмем\n",
        "$ x_\\alpha \\ такое \\ что: S_{n - 1}(x_\\alpha) =  1 - \\frac{\\alpha_2}{2} = 0.9  $\n",
        "\n",
        "$ x_{\\alpha_{2}} = 1.3$\n",
        "\n",
        "$  [  \\bar{X} - \\frac{x_{\\alpha_{2}} S}{\\sqrt{n-  1}}; \\bar{X} + \\frac{x_{\\alpha_{2}} S}{\\sqrt{n-  1}} ] $\n",
        "\n",
        "$ \\alpha \\in [-0.006 - \\frac{1.3 \\cdot 0.49}{\\sqrt{49}}; -0.006 + \\frac{1.3 \\cdot 0.49}{\\sqrt{49}} ] \\ni a $\n",
        "\n",
        "$ \\alpha \\in [-0.097; 0.085]  $\n",
        "\n",
        "Ответ: **[-0.097; 0.085]**"
      ],
      "metadata": {
        "id": "xWebrSRM83Xp"
      }
    },
    {
      "cell_type": "markdown",
      "source": [
        "Параметр $\\sigma$\n",
        "\n",
        "$ P_{\\sigma^2} ( \\frac{nS^2}{\\sigma^2} \\in [-x_{1_{\\alpha_2}}; x_{2_{\\alpha_2}}] ) \\\\\n",
        "x_{1\\alpha} : K_{n - 1}(x_{1\\alpha}) = \\mathcal{K}_{49}(x_{1\\alpha_2}) = \\frac{\\alpha}{2} = 0.1  \\\\\n",
        "x_{2\\alpha_2} : K_{n - 1}(x_{2\\alpha}) = \\mathcal{K}_{49}(x_{2\\alpha_2}) = 1 - \\frac{\\alpha_2}{2} = 0.9\n",
        "\\\\\n",
        "x_{1\\alpha} = 36.82\\\\\n",
        "x_{2\\alpha} = 62.04$\n",
        "\n",
        "$  Промежуток: [  \\frac{n S^2}{x_{2\\alpha}}; \\frac{n S^2}{x_{1\\alpha}}]    $\n",
        "\n",
        "$ \\sigma^2 \\in [\\frac{50 \\cdot 0.244}{62.04}; \\frac{50 \\cdot 0.244}{36.82}]$\n",
        "\n",
        "$ \\sigma^2 \\in [0.195; 0.331] $"
      ],
      "metadata": {
        "id": "8zLfwUePB43H"
      }
    },
    {
      "cell_type": "markdown",
      "source": [
        "## Пункт e\n",
        "\n",
        "С использованием теоремы Колмогорова построить критерий значимости проверки простой гипотезы согласия с нормальным распределением с параметрами $(a_0, \\sigma_0^2)$. Проверить гипотезу на уровне значимости $\\alpha_2$. Вычислить наибольшее значения уровня значимости, на котором ещё нет оснований отвергнуть гипотезу."
      ],
      "metadata": {
        "id": "yEjKi24WkGo4"
      }
    },
    {
      "cell_type": "markdown",
      "source": [
        "Критерий Колмогорова показывает, что расхождение между выборкой и нормальным распределением значимо"
      ],
      "metadata": {
        "id": "0SmIXjUxymiR"
      }
    },
    {
      "cell_type": "code",
      "source": [
        "statistic, p_value = scistat.kstest(sample, 'norm', args=(a_0, sigma_0))\n",
        "print(f\"Статистика: {statistic}, p_value: {p_value}\")\n",
        "print(\"Гипотезу принимаем\") if p_value > a_2 else print(\"Гипотезу отклоняем\")\n",
        "print(f\"Наибольшее значение: {1 - p_value}\")"
      ],
      "metadata": {
        "colab": {
          "base_uri": "https://localhost:8080/"
        },
        "id": "03LS-FcbynSN",
        "outputId": "ddd13609-33d9-45a0-82a1-f21451c30244"
      },
      "execution_count": null,
      "outputs": [
        {
          "output_type": "stream",
          "name": "stdout",
          "text": [
            "Статистика: 0.6806016968852695, p_value: 1.6881188862940147e-23\n",
            "Гипотезу отклоняем\n",
            "Наибольшее значение: 1.0\n"
          ]
        }
      ]
    },
    {
      "cell_type": "markdown",
      "source": [
        "## Пункт f\n",
        "\n",
        "Используя гистограмму частот, построить критерий значимости $\\mathcal{X^{2}}$ проверки простой гипотезы согласия с нормальным распределением с параметрами $(a_0, \\sigma_0^2)$. Проверить гипотезу на уровень значимости $\\alpha_2$. Вычислить наибольшее значение уровня значимости, на котором ещё нет оснований отвергнуть данную гипотезу."
      ],
      "metadata": {
        "id": "RLicQs3ekHyK"
      }
    },
    {
      "cell_type": "code",
      "source": [
        "bins_l = np.sqrt(len(sample)).astype(int)\n",
        "obs_freq, bin_edges = np.histogram(sample, bins=bins_l)\n",
        "# print(obs_freq)\n",
        "exp_freq = len(sample) * (scistat.norm.cdf(bin_edges[1:], a_0, sigma_0) - scistat.norm.cdf(bin_edges[:-1], a_0, sigma_0))\n",
        "chi_list = (np.array(obs_freq) - np.array(exp_freq)) ** 2 / np.array(exp_freq)\n",
        "chi_stat = np.sum(chi_list)\n",
        "p_value = scistat.chi2.sf(chi_stat, bins_l - 3)\n",
        "print(f\"p_value : {p_value}\")\n",
        "print(\"Гипотезу принимаем\") if p_value > a_2 else print(\"Гипотезу отклоняем\")\n",
        "print(f\"Наибольшее значение: {1 - p_value}\")\n"
      ],
      "metadata": {
        "colab": {
          "base_uri": "https://localhost:8080/"
        },
        "id": "cU-7NwRN7d8Y",
        "outputId": "ee39606f-d042-400a-9fed-8594eb66ff8e"
      },
      "execution_count": null,
      "outputs": [
        {
          "output_type": "stream",
          "name": "stdout",
          "text": [
            "p_value : 0.0\n",
            "Гипотезу отклоняем\n",
            "Наибольшее значение: 1.0\n"
          ]
        }
      ]
    },
    {
      "cell_type": "markdown",
      "source": [
        "## Пункт g\n",
        "\n",
        "Построить критерий значимости $\\chi^2$ проверки сложной гипотезы согласия с нормальным распределением. Проверить гипотезу на уровне значимости $\\alpha_2\n",
        "$. Вычислить наибольшее значение уровня значимости, на котором еще нет оснований отвергнуть данную гипотезу."
      ],
      "metadata": {
        "id": "Z47YmBrpkMjr"
      }
    },
    {
      "cell_type": "code",
      "source": [
        "bins_l = np.sqrt(len(sample)).astype(int)\n",
        "obs_freq, bin_edges = np.histogram(sample, bins=bins_l)\n",
        "# print(obs_freq)\n",
        "exp_freq = len(sample) * (scistat.norm.cdf(bin_edges[1:], E, sigma_0) - scistat.norm.cdf(bin_edges[:-1], E, sigma_0))\n",
        "chi_list = (np.array(obs_freq) - np.array(exp_freq)) ** 2 / np.array(exp_freq)\n",
        "chi_stat = np.sum(chi_list)\n",
        "p_value = scistat.chi2.sf(chi_stat, bins_l - 3)\n",
        "print(f\"p_value : {p_value}\")\n",
        "print(\"Гипотезу принимаем\") if p_value > a_1 else print(\"Гипотезу отклоняем\")\n",
        "print(f\"Наибольшее значение: {1 - p_value}\")\n"
      ],
      "metadata": {
        "colab": {
          "base_uri": "https://localhost:8080/"
        },
        "id": "jBYFb1rDL80C",
        "outputId": "88a66a73-f4cc-4578-84dd-daaa530e2169"
      },
      "execution_count": null,
      "outputs": [
        {
          "output_type": "stream",
          "name": "stdout",
          "text": [
            "p_value : 0.222427817383917\n",
            "Гипотезу принимаем\n",
            "Наибольшее значение: 0.777572182616083\n"
          ]
        }
      ]
    },
    {
      "cell_type": "markdown",
      "source": [
        "## Пункт h\n",
        "\n",
        " Построить наиболее мощный критерий проверки простой гипотезы о нормальности с параметром $(a, \\sigma ^2) = (a_0, \\sigma_0^2)$ при альтернативе нормальности с параметром  $(a, \\sigma ^2) = (a_1, \\sigma_1^2)$. Проверить гипотезу на уровне значимости $\\alpha_{2}$. Что получится, если поменять местами основную и альтернативную гипотезы?"
      ],
      "metadata": {
        "id": "M5koFyrjkQ8h"
      }
    },
    {
      "cell_type": "code",
      "source": [
        "print(f'(a_0; sigma_0) = ({a_0}; {sigma_0})')\n",
        "print(f'(a_1; sigma_1) = ({a_1}; {sigma_1})')\n",
        "\n",
        "print(\"Расчет статистики отношения правдоподобия:\")\n",
        "L_O = np.prod(scistat.norm.pdf(var_series, a_0, sigma_0))\n",
        "# print(f\"Основная: {L_O}\")\n",
        "L_A = np.prod(scistat.norm.pdf(var_series, a_1, sigma_1))\n",
        "# print(f\"Альтернативная: {L_A}\")\n",
        "OA =  L_O/L_A\n",
        "AO = L_A/L_O\n",
        "print(f\"Отношение L_O/L_A = {OA}\")\n",
        "print(f\"Отношение L_A/L_O = {AO}\")\n",
        "print(f'Принимаем альтернативную гипетозу, т.к. {AO} > {OA}') if AO > OA else print(f\"Принимаем основную гипотезу, т.к. {OA} >= {AO}\")"
      ],
      "metadata": {
        "colab": {
          "base_uri": "https://localhost:8080/"
        },
        "id": "GR_l0cpAORQz",
        "outputId": "5b96c2f2-3723-4077-a41c-859d4350be61"
      },
      "execution_count": null,
      "outputs": [
        {
          "output_type": "stream",
          "name": "stdout",
          "text": [
            "(a_0; sigma_0) = (1.0; 0.5)\n",
            "(a_1; sigma_1) = (0.0; 0.5)\n",
            "Расчет статистики отношения правдоподобия:\n",
            "Отношение L_O/L_A = 1.1115373885054375e-44\n",
            "Отношение L_A/L_O = 8.996548477281455e+43\n",
            "Принимаем альтернативную гипетозу, т.к. 8.996548477281455e+43 > 1.1115373885054375e-44\n"
          ]
        }
      ]
    },
    {
      "cell_type": "markdown",
      "source": [
        "## Пункт i\n",
        "\n",
        "В пунктах с-g заменить семейство нормальных распределений на двухпараметрическое семейство распределений Лапласса с плотностью:\n",
        "\n",
        "$p_{\\alpha, \\ \\sigma}(x) = \\frac{1}{\\sigma\\sqrt{2}}\\exp(-\\frac{\\sqrt{2}}{\\sigma}|x-1|) $\n",
        "\n",
        "****\n",
        "**Построить ОМП и найдем смещение**\n",
        "\n",
        "\n",
        "ОМП параметра $\\alpha$\n",
        "\n",
        "$L(\\vec{x}, \\theta) =\n",
        "\\prod_{i=1}^n \\frac{1}{\\sqrt{2}\\sigma} exp(-\\frac{\\sqrt{2}}{\\sigma}|x_i - \\alpha|) =\n",
        "\\frac{1}{(\\sqrt{2}\\sigma)^n} exp(-\\frac{\\sqrt{2}}{\\sigma} \\sum_{i=1}^n |x_i - \\alpha|) \\\\\n",
        "LL(\\vec{x}, \\theta) = -n\\ln{(\\sqrt{2} \\sigma)} - \\frac{\\sqrt{2}}{\\sigma} \\sum_{i=1}^n |x_i - a| \\\\\n",
        "\\frac{\\partial LL}{\\partial \\alpha} = - \\frac{\\sqrt{2}}{\\sigma} \\sum_{i=1}^n {\\frac{x_i - \\alpha}{|x_i - \\alpha|}} = 0 \\\\\n",
        "\\frac{\\sum^n_{i = 1}{x_i}}{n} = \\widehat{a} \\\\\n",
        "\\widehat{a} = \\overline{x}$\n",
        "\n",
        "ОМП параметра $\\sigma^@$\n",
        "\n",
        "$LL(\\vec{x}, \\theta) = -n\\ln{(\\sqrt{2} \\sigma)} - \\frac{\\sqrt{2}}{\\sigma} \\sum_{i=1}^n |x_i - a| \\\\\n",
        "\\frac{\\partial LL}{\\partial\\sigma} = -\\frac{n}{\\sigma} + \\frac{\\sqrt{2}}{\\sigma^2} \\sum_{i=1}^n |x_i - a| = 0 \\\\\n",
        "\\widehat{\\sigma} = \\frac{\\sqrt{2}}{n} \\sum_{i=1}^n |x_i - a| \\\\\n",
        "\\widehat{\\sigma^2} = \\frac{2}{n^2} (\\sum_{i=1}^n |x_i - \\overline{X}|)^2$\n",
        "\n",
        "Рассмотрим смешение по $\\alpha: \\ E(\\widehat{\\alpha}) = E(\\overline{X})) = \\overline{X} \\to оценка \\ не \\ смещена  $\n",
        "\n",
        "Рассмотрим смешение по $\\sigma^2: \\ E(\\widehat{\\sigma^2}) = E(\\frac{2}{n^2} (\\sum_{i=1}^n |x_i - \\overline{X}|)^2) = 2\\frac{n^2}{n^2}\\widehat{\\sigma^2} = 2 \\widehat{\\sigma^2}  $\n",
        "\n",
        "Устраним смещение: $ \\tilde{\\sigma^2} = \\frac{\\widehat{\\sigma^2}}{2} = \\frac{(\\sum_{i=1}^n |x_i - \\overline{X}|)^2}{n^2} $\n",
        "\n",
        "****\n",
        "**Построим асимптотический доверительный интервал**\n",
        "\n",
        "Уровень значимости 0.2\n",
        "\n",
        "$\\frac{\\partial^2LL}{\\partial\\sigma^2} = \\frac{n}{\\sigma^2} - \\frac{2\\sqrt{2}}{\\sigma^3} \\sum_{i=1}^n \\left|x_i - \\overline{X}\\right|$\n",
        "\n",
        "Информация Фишера: $I_n(\\lambda) = -E( \\frac{n}{\\sigma^2} - \\frac{2\\sqrt{2}}{\\sigma^3} \\sum_{i=1}^n |x_i - \\overline{X}|) = \\frac{n}{\\sigma^2}\n",
        "\\\\ I(\\lambda) =  \\frac{1}{\\sigma^2}$\n",
        "\n",
        "Пусть $X_\\alpha \\ такое, \\ что: Ф(X_\\alpha) = 1 - \\frac{\\alpha_2}{2} = 0.9 \\to X_\\alpha = 1.28$\n",
        "\n",
        "$\\lambda \\in [ \\sigma^2 - x_{\\alpha}\\sqrt{\\frac{1}{I(λ)}};   \\sigma^2 + x_{\\alpha} \\sqrt {\\frac{1}{I(λ)}}] \\\\\n",
        "\\lambda \\in [-2.348; \\ 2.836]\n",
        "$\n",
        "\n",
        "****\n",
        "С использованием **теоремы Колмогорова** построить критерий значимости простой гипотезы согласия с лапласовым распределением с параметрами $(\\alpha_0; \\ \\sigma_0^2)$ Проверить гипотезу на уровне значимости $\\alpha_2$. Вычислить наибольшее знчение уровня значимости, на котором еще нет оснований отвергнуть данную гипотезу."
      ],
      "metadata": {
        "id": "crj5QETEkR-r"
      }
    },
    {
      "cell_type": "code",
      "source": [
        "statistic, p_value = scistat.kstest(sample, 'laplace', args=(a_0, sigma_0))\n",
        "print(f\"Статистика: {statistic}, p_value: {p_value}\")\n",
        "print(\"Гипотезу принимаем\") if p_value > a_2 else print(\"Гипотезу отклоняем\")\n",
        "print(f\"Наибольшее значение: {1 - p_value}\")"
      ],
      "metadata": {
        "colab": {
          "base_uri": "https://localhost:8080/"
        },
        "id": "XzFQ9v3mxgoJ",
        "outputId": "26154799-b53b-4eeb-e026-42539f6c1d0c"
      },
      "execution_count": null,
      "outputs": [
        {
          "output_type": "stream",
          "name": "stdout",
          "text": [
            "Статистика: 0.6467195218274543, p_value: 6.27729338306734e-21\n",
            "Гипотезу отклоняем\n",
            "Наибольшее значение: 1.0\n"
          ]
        }
      ]
    },
    {
      "cell_type": "markdown",
      "source": [
        "****\n",
        "Используя гистограмму частот, построить критерий значимости $\\chi^2$ проверки простой гипотезы согласия с распределением Лапласа с параметрами $(\\alpha_0,\\sigma_0^2)$. Проверить гипотезу на уровне значимости $\\alpha_2$. Вычислить наибольшее значинеие уровня значимости, на котором еще нет оснований отвергнуть данную гипотезу."
      ],
      "metadata": {
        "id": "vaW-XAs11myV"
      }
    },
    {
      "cell_type": "code",
      "source": [
        "bins_l = np.sqrt(len(sample)).astype(int)\n",
        "obs_freq, bin_edges = np.histogram(sample, bins=bins_l)\n",
        "# print(obs_freq)\n",
        "exp_freq = len(sample) * (scistat.laplace.cdf(bin_edges[1:], a_0, sigma_0) - scistat.laplace.cdf(bin_edges[:-1], a_0, sigma_0))\n",
        "chi_list = (np.array(obs_freq) - np.array(exp_freq)) ** 2 / np.array(exp_freq)\n",
        "chi_stat = np.sum(chi_list)\n",
        "p_value = scistat.chi2.sf(chi_stat, bins_l - 3)\n",
        "print(f\"p_value : {p_value}\")\n",
        "print(\"Гипотезу принимаем\") if p_value > a_2 else print(\"Гипотезу отклоняем\")\n",
        "print(f\"Наибольшее значение: {1 - p_value}\")"
      ],
      "metadata": {
        "colab": {
          "base_uri": "https://localhost:8080/"
        },
        "id": "ibtKY4ao2KVe",
        "outputId": "ea5e5bde-5b10-40b0-e8db-7cf966f18780"
      },
      "execution_count": null,
      "outputs": [
        {
          "output_type": "stream",
          "name": "stdout",
          "text": [
            "p_value : 6.937035820073724e-52\n",
            "Гипотезу отклоняем\n",
            "Наибольшее значение: 1.0\n"
          ]
        }
      ]
    },
    {
      "cell_type": "markdown",
      "source": [
        "****\n",
        "Построить критерий проверки значимости $\\chi^2$ сложной гипотезы согласия с лапласовым распределением. Проверить гипотезу на уровне значимости $\\alpha_2$. Вычислить наибольщее значение уровня значимости, на котором еще нет оснований отвергнуть данную гипотезу.\n"
      ],
      "metadata": {
        "id": "n2tRe3LO2jjp"
      }
    },
    {
      "cell_type": "code",
      "source": [
        "bins_l = np.sqrt(len(sample)).astype(int)\n",
        "obs_freq, bin_edges = np.histogram(sample, bins=bins_l)\n",
        "# print(obs_freq)\n",
        "exp_freq = len(sample) * (scistat.laplace.cdf(bin_edges[1:], E, sigma_0) - scistat.laplace.cdf(bin_edges[:-1], E, sigma_0))\n",
        "chi_list = (np.array(obs_freq) - np.array(exp_freq)) ** 2 / np.array(exp_freq)\n",
        "chi_stat = np.sum(chi_list)\n",
        "p_value = scistat.chi2.sf(chi_stat, bins_l - 3)\n",
        "print(f\"p_value : {p_value}\")\n",
        "print(\"Гипотезу принимаем\") if p_value > a_1 else print(\"Гипотезу отклоняем\")\n",
        "print(f\"Наибольшее значение: {1 - p_value}\")\n"
      ],
      "metadata": {
        "colab": {
          "base_uri": "https://localhost:8080/"
        },
        "id": "LG4YLz1l29Hp",
        "outputId": "60ca953c-6236-4677-8fba-d78fd60afe1a"
      },
      "execution_count": null,
      "outputs": [
        {
          "output_type": "stream",
          "name": "stdout",
          "text": [
            "p_value : 0.12591528221379197\n",
            "Гипотезу принимаем\n",
            "Наибольшее значение: 0.874084717786208\n"
          ]
        }
      ]
    },
    {
      "cell_type": "markdown",
      "source": [
        "## Выводы"
      ],
      "metadata": {
        "id": "NTv29dxXCRQi"
      }
    },
    {
      "cell_type": "markdown",
      "source": [
        "\n",
        "В ходе выполнения лабораторной работы были изучены и на практике применены классические методы математической статисктики: оценка максимального правдоподобия (ОМП), оценка метода моментов, построение асимптотического доверительного интервала (АДИ), НРМД-оценка, оценка гипотез с критерием $\\chi^2$ , оценка гипотез по критерию Калмагорова, оценка гипотез с кретерием отношения правдоподобия на примере распределений Пуаллона и Лапласа, а также нормального и геометрических распределений."
      ],
      "metadata": {
        "id": "SfMKw12GEyKQ"
      }
    }
  ]
}