{
  "nbformat": 4,
  "nbformat_minor": 0,
  "metadata": {
    "colab": {
      "provenance": []
    },
    "kernelspec": {
      "name": "python3",
      "display_name": "Python 3"
    },
    "language_info": {
      "name": "python"
    }
  },
  "cells": [
    {
      "cell_type": "markdown",
      "source": [
        "# Лабораторная работа №3: Регрессионный анализ\n",
        "Выполнил студент гр. 1384 Корякин Айсен. Вариант №7"
      ],
      "metadata": {
        "id": "ZnGazt4uTlfw"
      }
    },
    {
      "cell_type": "markdown",
      "source": [
        "## Цель работы\n",
        "Ознакомление с основными положениями метода наименьших квадратов (МНК), со статистическими свойствами МНК-оценок, с понятием функции регрессии и роли МНК в регрессионном анализе."
      ],
      "metadata": {
        "id": "nysAPk2jTlrQ"
      }
    },
    {
      "cell_type": "markdown",
      "source": [
        "## Основные теоретические положения\n",
        "##### Линейная регрессионная модель\n",
        "\n",
        "Линейная регрессия некоторой зависимой переменной y на набор независимых переменных  x = (x_1, …, x_n), где n – это число наблюдений, предполагает, что линейное отношение между y и x: $y =\\beta_0 + \\beta_1 x_1 + ⋯ + \\beta_nx_n + \\epsilon$ - уравнение регрессии. $\\beta_0, \\beta_1, …, \\beta_n$ – коэффициенты регрессии (параметры), и $\\epsilon$ – случайная ошибка.\n",
        "\n",
        "##### МНК (Метод Наименьших Квадратов)\n",
        "\n",
        "$RSS(\\beta)=\\left\\| Y-X^{\\intercal}\\beta \\right\\|^2 \\to min\\beta$\n",
        "    \n",
        "Решение системы нормальных уравнений в регулярном случае: $\\hat\\beta = (XX^{\\intercal})^{-1} XY$ - есть МНК-оценка\n",
        "\n",
        "##### Несмещённая оценка дисперсии\n",
        "\n",
        "$s^{2} = \\frac{RSS(\\hat\\beta)}{n-r}$, где $SS_{e}=RSS(\\hat\\beta)$, r-ранг матрицы X\n",
        "\n",
        "##### Доверительный интервал\n",
        "\n",
        "ДНО функции: $\\psi=C^{\\intercal}\\beta$\n",
        "\n",
        "МНК-оценка: $\\hat\\psi=C^{\\intercal}\\beta$\n",
        "\n",
        "$\\frac{\\hat\\psi-\\psi}{S\\sqrt{b}}\\sim \\mathcal{S}_{n-r}$, где $b = C^\\intercal (XX^\\intercal)^{-1} C$\n",
        "\n",
        "Тогда Доверительный Интервал уровня доверия $1-\\alpha$ будет выглядеть следующим образом: $\\left[ \\hat\\psi - x_{\\alpha} s \\sqrt{b};\\hat\\psi + x_{\\alpha} s \\sqrt{b} \\right]$, где $x_{\\alpha} = \\mathcal{S}_{n-r}^{-1} \\left( 1-\\frac{\\alpha}{2} \\right)$\n",
        "\n",
        "##### Доверительный эллипсоид\n",
        "\n",
        "Множество $\\left\\{ \\psi:(\\psi-\\hat\\psi)^{\\intercal}B^{-1}(\\psi-\\hat\\psi)\\le q s^{2}x_{\\alpha} \\right\\}$ представляет доверительный эллипсоид уровня доверия $1 - \\alpha$, где $x_{\\alpha}$ - квантиль уровня $1-\\alpha$ функции распределения хи-квадрат с $(n-r)$ степенями свободы, $B = C^\\intercal(XX^\\intercal)^{-1} C$, $q$ - размерность $\\psi$"
      ],
      "metadata": {
        "id": "iOlgqAlWTl94"
      }
    },
    {
      "cell_type": "markdown",
      "source": [
        "## Постановка задачи\n",
        "Результаты статистического эксперимента представлены в виде двух переменных. Требуется оценить характер (случайной) зависимости переменной Y от переменной X. Полученные результаты содержательно проинтерпретировать."
      ],
      "metadata": {
        "id": "MfWF8fmlOrsi"
      }
    },
    {
      "cell_type": "markdown",
      "source": [
        "## Выполнение работы\n",
        "При выполнении работы будет использоваться язык Python."
      ],
      "metadata": {
        "id": "RsnGRpm6Owcz"
      }
    },
    {
      "cell_type": "markdown",
      "source": [
        "#### Задание 1.\n",
        "Построить графически результаты эксперимента. Сформулировать линейную регрессионную модель переменной Y по переменной X. Построить МНК оценки параметром сдвига $\\beta_0$ и масштаба $\\beta_1$. Построить полученную линию регрессии. Оценить визуально соответствие полученных данных и построенной оценки."
      ],
      "metadata": {
        "id": "x-iEHxqMTmHd"
      }
    },
    {
      "cell_type": "markdown",
      "source": [
        "Построим графически результаты эксперимента"
      ],
      "metadata": {
        "id": "9iSHSLj0Tn_e"
      }
    },
    {
      "cell_type": "code",
      "source": [
        "import matplotlib.pyplot as plt\n",
        "\n",
        "Y_0 = [7.94, 17.12, 10.93, 8.22, 15.85, 20.74, 11.65, 15.79, 19.85, 7.77, 11.49, 9.93, 12.54, 10.11, 7.92, 5.99, 6.22,\n",
        "    5.51, 9.48, 5.16, 18.05, 13.86, 6.81, 18.91, 18.27, 10.52, 11.18, 9.15, 8.92, 19.51, 12.00, 20.33, 11.08, 8.48,\n",
        "    10.31, 12.65, 14.45, 4.04, 8.98, 14.55, 10.69, 9.26, 11.19, 26.33, 13.25, 16.97, 9.85, 13.99, 10.49, 20.43]\n",
        "\n",
        "X_0 = [3, 2, 1, 5, 1, 4, 5, 4, 3, 3, 4, 3, 4, 1, 2, 2, 2, 3, 4, 4, 2, 3, 4, 3, 5, 4, 3, 3, 5, 3, 0, 4, 5, 4, 4, 3,\n",
        "     4, 1, 2, 4, 2, 4, 3, 1, 3, 2, 3, 5, 2, 4]\n",
        "\n",
        "n = len(Y_0)\n",
        "\n",
        "plt.scatter(X_0, Y_0)\n",
        "plt.xlabel('X')\n",
        "plt.ylabel('Y')\n",
        "plt.title('Результаты эксперимента')\n",
        "plt.show()"
      ],
      "metadata": {
        "colab": {
          "base_uri": "https://localhost:8080/",
          "height": 472
        },
        "id": "Fd_kuQRATsE0",
        "outputId": "285117dd-4268-4c72-a9fb-7fa7f45474d0"
      },
      "execution_count": 1,
      "outputs": [
        {
          "output_type": "display_data",
          "data": {
            "text/plain": [
              "<Figure size 640x480 with 1 Axes>"
            ],
            "image/png": "[encoded data removed]"
          },
          "metadata": {}
        }
      ]
    },
    {
      "cell_type": "markdown",
      "source": [
        "Линейная регрессионная модель:\n",
        "\n",
        "$ Y = X^T β + \\varepsilon , \\quad  \\varepsilon $ - вектор ошибок\n",
        "\n",
        "$ \\mathbb{E}_\\theta \\varepsilon = 0 , \\quad Var_\\theta \\varepsilon = \\sigma^2 E $\n",
        "\n",
        "$ \\mathbb{E}(Y|X) = \\beta_0 + \\beta_1X, \\quad \\beta = (\\beta_0, \\beta_1) $\n",
        "\n",
        "МНК оценка:\n",
        "\n",
        "$ \\widehat \\beta = (XX^T)^{-1}XY $\n"
      ],
      "metadata": {
        "id": "JkdbAU6mT3be"
      }
    },
    {
      "cell_type": "code",
      "source": [
        "import numpy as np\n",
        "\n",
        "X = np.array([[1 for i in range(50)], X_0])\n",
        "Y = np.array(Y_0)\n",
        "XX_T = np.dot(X, X.T)\n",
        "XX_T_inv = np.linalg.inv(XX_T)\n",
        "beta = np.dot(np.dot(XX_T_inv, X), Y)\n",
        "print('beta_0 =', round(beta[0], 6))\n",
        "print('beta_1 =', round(beta[1], 6))"
      ],
      "metadata": {
        "colab": {
          "base_uri": "https://localhost:8080/"
        },
        "id": "bqCKHaIeU6Df",
        "outputId": "0eb9fd26-cf32-4fe8-e2b4-70920f2e95f5"
      },
      "execution_count": 2,
      "outputs": [
        {
          "output_type": "stream",
          "name": "stdout",
          "text": [
            "beta_0 = 12.286946\n",
            "beta_1 = 0.00234\n"
          ]
        }
      ]
    },
    {
      "cell_type": "code",
      "source": [
        "plt.plot(X_0, Y_0, 'o', label='Data')\n",
        "\n",
        "Y_predicted = np.dot(X.T, beta)\n",
        "plt.plot(X_0, Y_predicted, color='red', label='Model')\n",
        "plt.xlabel('X')\n",
        "plt.ylabel('Y')\n",
        "plt.show()"
      ],
      "metadata": {
        "colab": {
          "base_uri": "https://localhost:8080/",
          "height": 449
        },
        "id": "3xM2SeWLWKNu",
        "outputId": "72c5ce6c-ef9e-4434-bbe3-d29baa25149a"
      },
      "execution_count": 3,
      "outputs": [
        {
          "output_type": "display_data",
          "data": {
            "text/plain": [
              "<Figure size 640x480 with 1 Axes>"
            ],
            "image/png": "[encoded data removed]"
          },
          "metadata": {}
        }
      ]
    },
    {
      "cell_type": "markdown",
      "source": [
        "$\\beta_0 = 12.286946 \\quad \\beta_1 = 0.00234$"
      ],
      "metadata": {
        "id": "0rrbeyGlWfwq"
      }
    },
    {
      "cell_type": "markdown",
      "source": [
        "#### Задача 2.\n",
        "Построить и интерпретировать несмещенную оценку дисперсии. На базе ошибок построить гистограмму с шагом $h = 2.30$. Проверить гипотезу нормальности ошибок на уровне значимости $\\alpha = 0.05$ по $\\chi^2$. Оценить расстояние полученной оценки до класса нормальных распределений по Колмогорову. Визуально оценить данный факт."
      ],
      "metadata": {
        "id": "F-SnuNITXN4w"
      }
    },
    {
      "cell_type": "markdown",
      "source": [
        "Несмещенная оценка дисперсии:\n",
        "\n",
        "$ s^2 = \\frac{1}{n-r} \\cdot  (Y - X^T \\widehat \\beta)^T (Y - X^T \\widehat \\beta) $\n",
        "\n",
        "$ r = 2$ - ранг X"
      ],
      "metadata": {
        "id": "hB-l0LS7aCMW"
      }
    },
    {
      "cell_type": "code",
      "source": [
        "s_2 = np.dot((Y - np.dot(X.T, beta)).T, (Y - np.dot(X.T, beta)))/(n-2)\n",
        "print(\"s^2:\", round(s_2, 6))"
      ],
      "metadata": {
        "colab": {
          "base_uri": "https://localhost:8080/"
        },
        "id": "bEJ1tvszatnc",
        "outputId": "4398dc1d-dc95-49df-8496-b2f57dd4edcc"
      },
      "execution_count": 4,
      "outputs": [
        {
          "output_type": "stream",
          "name": "stdout",
          "text": [
            "s^2: 24.043687\n"
          ]
        }
      ]
    },
    {
      "cell_type": "markdown",
      "source": [
        "$s^2 = 24.043687$\n",
        "\n",
        "Построим гисторгамму с шагом h = 2.30 на базе ошибок"
      ],
      "metadata": {
        "id": "S0UB_beVd85o"
      }
    },
    {
      "cell_type": "code",
      "source": [
        "h = 2.3\n",
        "errors = Y - Y_predicted\n",
        "hist, bin_edges, _ = plt.hist(errors, bins=np.arange(min(errors), max(errors) + h, h))\n",
        "plt.title('Гистограмма ошибок')\n",
        "plt.xlabel('Значение')\n",
        "plt.ylabel('Частота')\n",
        "plt.grid()\n",
        "\n",
        "plt.show()"
      ],
      "metadata": {
        "colab": {
          "base_uri": "https://localhost:8080/",
          "height": 472
        },
        "id": "QJCR4haueNYc",
        "outputId": "240a090a-a7d3-41a2-e91e-8888ee67139e"
      },
      "execution_count": 5,
      "outputs": [
        {
          "output_type": "display_data",
          "data": {
            "text/plain": [
              "<Figure size 640x480 with 1 Axes>"
            ],
            "image/png": "[encoded data removed]"
          },
          "metadata": {}
        }
      ]
    },
    {
      "cell_type": "markdown",
      "source": [
        "Основная гипотеза: $H_0: \\vec{\\varepsilon} \\sim \\mathcal{N}(0, \\sigma^2)$<br>\n",
        "Статистика критерия: $X^2 = \\sum_{j=1}^{k}\\frac{ (\\nu_j - np_{jo})^2 }{ np_{j0} }$, где k - количество интервалов, $\\nu_i$ - абсолютная частота, а $p_{j0} = \\mathbb{P}(\\xi \\in I_i) = F_0(b_i) - F_0(a_i)$ - вероятность попадания в интервал, где a, b - границы интервала\n",
        "\n",
        "Асимптотическое распределение при основной гипотезе: $X^2 ⇒ \\chi^2_\\mathrm{k-d-1}$\n",
        "\n",
        "Асимптотический критерий уровня значимости $α:\\\\ \\phi(X) = \\begin{cases}\n",
        "0, X^2≤x_α \\\\\n",
        "1, X^2>x_α\n",
        " \\end{cases} $  \n",
        "\n",
        "где $x_α: K_\\mathrm{k-d-1}(x_α) = 1-α,\\space K_\\mathrm{k-d-1}$ - функция распределения $\\chi^2_\\mathrm{k-d-1}$\n",
        "\n",
        "В нашем случае $α  = 0.05$\n",
        "\n",
        "Интервалы берем с шагом h = 2.30"
      ],
      "metadata": {
        "id": "nvDe6cEzj5UY"
      }
    },
    {
      "cell_type": "code",
      "source": [
        "from scipy.stats import chi2\n",
        "from scipy.stats import norm\n",
        "\n",
        "alpha = 0.05\n",
        "\n",
        "# проверка гипотезы нормальности ошибок на уровне значимости alpha=0.05\n",
        "def get_expected_freq(n, bins, s_2):\n",
        "  k = len(bins)\n",
        "  probabilities = norm.cdf(bins[1:k], 0, np.sqrt(s_2)) - norm.cdf(bins[0:k-1], 0, np.sqrt(s_2))\n",
        "  return n*probabilities\n",
        "\n",
        "expected_freq = get_expected_freq(n, bin_edges, s_2)\n",
        "\n",
        "chi_stats = np.sum((hist - expected_freq)**2 / expected_freq)\n",
        "print('Статистика критерия chi^2:', round(chi_stats, 6))\n",
        "print('Значение х альфа:', round(chi2.ppf(1 - alpha, len(bin_edges) - 1 - 1), 4))"
      ],
      "metadata": {
        "colab": {
          "base_uri": "https://localhost:8080/"
        },
        "id": "XUIBGmPQmx9G",
        "outputId": "4502f718-3a86-41e8-b2b4-80c367d90401"
      },
      "execution_count": 6,
      "outputs": [
        {
          "output_type": "stream",
          "name": "stdout",
          "text": [
            "Статистика критерия chi^2: 11.047728\n",
            "Значение х альфа: 16.919\n"
          ]
        }
      ]
    },
    {
      "cell_type": "markdown",
      "source": [
        "Так как $X^2 < x_\\alpha$ - гипотеза принимается\n",
        "\n",
        "Оценим расстояние до класса нормальных распределений по Колмогорову:\n",
        " $D_n = sup_{x \\in \\mathbb{R}}|F_n(x) - F(x)|$, где $F_n$ - выборочная функция распределения\n",
        "\n",
        " По теореме Колмогорова: $P_{F_0}(\\sqrt{n} \\cdot D_n) \\rightarrow K(x), x \\in \\mathbb{R}$, где $K(x)$ - функция распределения Колмогорова"
      ],
      "metadata": {
        "id": "cj3ZfdHLBBFv"
      }
    },
    {
      "cell_type": "code",
      "source": [
        "from scipy.stats import ksone\n",
        "\n",
        "errors_intervals = np.arange(min(errors) - h, max(errors) + h, h)\n",
        "F_n = np.array([np.sum(errors < x)/n for x in errors_intervals])\n",
        "F = np.array([norm.cdf(x, 0, np.sqrt(s_2)) for x in errors_intervals])\n",
        "diff = abs(F_n - F)\n",
        "D_n = max(diff)\n",
        "print('Значение статистики критерия:', round(D_n*np.sqrt(n), 6))\n",
        "print('Значение х альфа:', round(ksone.ppf(1 - alpha, n), 4))"
      ],
      "metadata": {
        "colab": {
          "base_uri": "https://localhost:8080/"
        },
        "id": "3spw9AwKGwHO",
        "outputId": "856a403c-1849-43a7-eec8-5101077464c9"
      },
      "execution_count": 7,
      "outputs": [
        {
          "output_type": "stream",
          "name": "stdout",
          "text": [
            "Значение статистики критерия: 0.625137\n",
            "Значение х альфа: 0.1696\n"
          ]
        }
      ]
    },
    {
      "cell_type": "markdown",
      "source": [
        "Так как $\\sqrt{n}D_n > x_\\alpha \\Longrightarrow$ гипотеза о нормальности отвергается"
      ],
      "metadata": {
        "id": "Xas_qxobJmNN"
      }
    },
    {
      "cell_type": "code",
      "source": [
        "plt.title('Выборочная функция распределения ошибки и функция нормального распределения')\n",
        "plt.xlabel('x')\n",
        "plt.ylabel('y')\n",
        "plt.plot(errors_intervals, F)\n",
        "plt.plot(errors_intervals, F_n, '--r')\n",
        "plt.show()"
      ],
      "metadata": {
        "colab": {
          "base_uri": "https://localhost:8080/",
          "height": 472
        },
        "id": "gs6m0R0xPf53",
        "outputId": "e5e7264f-2ccc-4789-9c12-d3ba4c9a6eff"
      },
      "execution_count": 8,
      "outputs": [
        {
          "output_type": "display_data",
          "data": {
            "text/plain": [
              "<Figure size 640x480 with 1 Axes>"
            ],
            "image/png": "[encoded data removed]"
          },
          "metadata": {}
        }
      ]
    },
    {
      "cell_type": "markdown",
      "source": [
        "#### Задание 3.\n",
        "В предположении нормальности ошибок построить доверительные интервалы для параметров $\\beta_0$ и $\\beta_1$ уровня доверия 1 − $\\alpha$. Построить доверительный эллипс уровня доверия 1 − $\\alpha$ для $(\\beta_0, \\beta_1)$. (вычислить его полуоси)"
      ],
      "metadata": {
        "id": "EU_qtFhDsaRb"
      }
    },
    {
      "cell_type": "markdown",
      "source": [
        "$\\psi = C^T \\beta $\n",
        "\n",
        "$ b_\\psi = C^T (XX^T)^{-1}C$ - элемент дисперсии оценки\n",
        "\n",
        "$ \\cfrac{\\widehat \\psi - \\psi}{s\\sqrt{b}} \\sim S_{n-r} $\n",
        "\n",
        "$ x_\\alpha : S_{n-r}(x_\\alpha) = 1 -\\frac{\\alpha}{2} $\n",
        "\n",
        "$ P_\\theta(-x_\\alpha \\le \\cfrac{\\widehat \\psi - \\psi}{s\\sqrt{b}} \\le x_\\alpha) = 1 -\\alpha $\n",
        "\n",
        "$ \\widehat \\psi -x_{\\alpha}s\\sqrt{b} \\le \\psi \\le \\widehat \\psi +x_{\\alpha}s\\sqrt{b} $ - доверительный интервал для $\\psi$\n",
        "\n",
        "Для $\\beta_0:$\n",
        "\n",
        "$ C = \\begin{pmatrix}\n",
        "    1 \\\\\n",
        "    0\n",
        "\\end{pmatrix} $, $\\widehat \\psi = \\widehat \\beta_0 $, $b$ - элемент в матрице $ (XX^T)^{-1}$ на позиции $(1,1) $\n",
        "\n",
        "Для $\\beta_1:$\n",
        "\n",
        "$ C = \\begin{pmatrix}\n",
        "    0 \\\\\n",
        "    1\n",
        "\\end{pmatrix} $, $\\widehat \\psi = \\widehat \\beta_1 $, $b$ - элемент в матрице $ (XX^T)^{-1}$ на позиции $(2,2) $\n"
      ],
      "metadata": {
        "id": "sOzctwQJskdm"
      }
    },
    {
      "cell_type": "code",
      "source": [
        "from scipy.stats import t\n",
        "x_a = t.ppf(1 - alpha/2, n-2)\n",
        "print(\"Квантиль x_a =\", x_a)\n",
        "\n",
        "C_0 = np.array([1, 0])\n",
        "b_0 = np.dot(np.dot(C_0.T, np.linalg.inv(np.dot(X, X.T))), C_0)\n",
        "C_1 = np.array([0, 1])\n",
        "b_1 = np.dot(np.dot(C_1.T, np.linalg.inv(np.dot(X, X.T))), C_1)\n",
        "\n",
        "print(\"b_0:\", round(b_0, 4))\n",
        "print(\"b_1:\", round(b_1, 4))\n",
        "\n",
        "left_0 = beta[0] - x_a * np.sqrt(s_2) * np.sqrt(b_0)\n",
        "right_0 = beta[0] + x_a * np.sqrt(s_2) * np.sqrt(b_0)\n",
        "print(\"Доверительный интервал для beta_0: [{}; {}]\".format(round(left_0, 4), round(right_0, 4)))\n",
        "\n",
        "left_1 = beta[1] - x_a * np.sqrt(s_2) * np.sqrt(b_1)\n",
        "right_1 = beta[1] + x_a * np.sqrt(s_2) * np.sqrt(b_1)\n",
        "print(\"Доверительный интервал для beta_1: [{}; {}]\".format(round(left_1, 4), round(right_1, 4)))"
      ],
      "metadata": {
        "colab": {
          "base_uri": "https://localhost:8080/"
        },
        "id": "ydg8KRoDtKZ_",
        "outputId": "05f89e39-aafe-41d5-fd4a-171860b2745b"
      },
      "execution_count": 9,
      "outputs": [
        {
          "output_type": "stream",
          "name": "stdout",
          "text": [
            "Квантиль x_a = 2.0106347546964454\n",
            "b_0: 0.1456\n",
            "b_1: 0.0131\n",
            "Доверительный интервал для beta_0: [8.5247; 16.0492]\n",
            "Доверительный интервал для beta_1: [-1.1249; 1.1295]\n"
          ]
        }
      ]
    },
    {
      "cell_type": "markdown",
      "source": [
        "Построим доверительный эллипсоид уровня доверия $1-\\alpha$:\n",
        "\n",
        " $A_{\\alpha} = \\{ \\vec{x}: (\\vec{x} - \\hat{\\psi})^t B^{-1} (\\vec{x} - \\hat{\\psi}) \\leq q s^2 x_{\\alpha} \\}$, где $ x_{\\alpha}: F_{q,n-r}(x_{\\alpha}) = 1 - \\alpha$ - квантиль распределения Фишера-Снедекора\n",
        "\n",
        "$ B = C^t (XX^t)^{-1} C $\n",
        "\n",
        "В качестве вектора возьмем $ \\vec{x}= P(\\hat{\\psi} - \\psi) $, где P - матрица собственных векторов $XX^t$\n",
        "\n",
        "$⇒$ уравнение эллипсоида: $ \\lambda_1 x^2 + \\lambda_2 y^2 \\leq q s^2 x_{\\alpha} $, где $ \\lambda_1, \\lambda_2$ - собственные числа матрицы $XX^t $\n",
        "\n",
        "$ \\frac{\\lambda_1}{q s^2 x_{\\alpha}} x^2 + \\frac{\\lambda_2}{q s^2 x_{\\alpha}} y^2 \\leq 1 $\n",
        "\n",
        "Большая и малая полуоси вычисляются как $ \\frac{q s^2 x_{\\alpha}}{\\lambda_1} $ и $ \\frac{q s^2 x_{\\alpha}}{\\lambda_2} $ соответственно."
      ],
      "metadata": {
        "id": "ySGBtfDoivh4"
      }
    },
    {
      "cell_type": "code",
      "source": [
        "from scipy.stats import f\n",
        "\n",
        "r = 2\n",
        "eigenvalues, eigenvectors = np.linalg.eig(XX_T)\n",
        "x_alpha = f.ppf(1-alpha, 2, n-r)\n",
        "a_2 = 2 * s_2 * x_alpha / eigenvalues[0]\n",
        "b_2 = 2 * s_2 * x_alpha / eigenvalues[1]\n",
        "\n",
        "print(\"Значение x альфа:\", round(x_alpha, 4))\n",
        "print(\"Собственные числа\", eigenvalues)\n",
        "print(\"Собственные вектора:\", eigenvectors, sep='\\n')\n",
        "print(\"Большая полуось:\", round(a_2, 4))\n",
        "print(\"Малая полуось:\",  round(b_2, 4))\n",
        "print(\"beta0:\", round(beta[0], 4))\n",
        "print(\"beta1:\", round(beta[1], 4))"
      ],
      "metadata": {
        "colab": {
          "base_uri": "https://localhost:8080/"
        },
        "id": "eSzh-1rKi-D0",
        "outputId": "24826850-8c75-45d0-a726-c07907407619"
      },
      "execution_count": 10,
      "outputs": [
        {
          "output_type": "stream",
          "name": "stdout",
          "text": [
            "Значение x альфа: 3.1907\n",
            "Собственные числа [  6.3682952 600.6317048]\n",
            "Собственные вектора:\n",
            "[[-0.96258948 -0.270964  ]\n",
            " [ 0.270964   -0.96258948]]\n",
            "Большая полуось: 24.0934\n",
            "Малая полуось: 0.2555\n",
            "beta0: 12.2869\n",
            "beta1: 0.0023\n"
          ]
        }
      ]
    },
    {
      "cell_type": "markdown",
      "source": [
        "$ \\vec{x}= P(\\hat{\\psi} - \\psi) = \\pmatrix{ -0.963 & -0.271 \\\\ 0.271 & -0.963 } \\cdot \\pmatrix{ 12.287 - \\beta_0 \\\\ 0.002 - \\beta_1 } = \\pmatrix{ -11.833 + 0.963\\beta_0 + 0.271\\beta_1 \\\\ 3.328 - 0.271\\beta_0 + 0.963\\beta_1 }$\n",
        "\n",
        "$\\Rightarrow$ область эллипса имеет вид: $ \\frac{( -11.833 + 0.963\\beta_0 + 0.271)^2}{24.093} + \\frac{(3.328 - 0.271\\beta_0 + 0.963\\beta_1)^2}{0.256} \\leq 1 $"
      ],
      "metadata": {
        "id": "CJKE4Y3eu8Nv"
      }
    },
    {
      "cell_type": "code",
      "source": [
        "def func_ellipse(b0, b1):\n",
        "  return (-11.833 + 0.963 * b0 + 0.271 * b1)**2 / a_2 + (3.328 - 0.271 * b0 + 0.963 * b1)**2 / b_2\n",
        "\n",
        "beta0_values, beta1_values = np.meshgrid(np.linspace(5, 20, 300), np.linspace(-2, 2, 300))\n",
        "ellipse = func_ellipse(beta0_values, beta1_values)\n",
        "\n",
        "plt.contour(beta0_values, beta1_values, ellipse, levels=[1])\n",
        "plt.title('Доверительный эллипс')\n",
        "plt.xlabel('beta0')\n",
        "plt.ylabel('beta1')\n",
        "plt.grid()\n",
        "\n",
        "plt.show()"
      ],
      "metadata": {
        "colab": {
          "base_uri": "https://localhost:8080/",
          "height": 472
        },
        "id": "iTO1k9r-xw-V",
        "outputId": "b69ead3f-481e-401b-a33b-468890871504"
      },
      "execution_count": 11,
      "outputs": [
        {
          "output_type": "display_data",
          "data": {
            "text/plain": [
              "<Figure size 640x480 with 1 Axes>"
            ],
            "image/png": "[encoded data removed]"
          },
          "metadata": {}
        }
      ]
    },
    {
      "cell_type": "markdown",
      "source": [
        "#### Задание 4.\n",
        "Сформулировать гипотезу независимости переменной Y от переменной X. Провести проверку значимости."
      ],
      "metadata": {
        "id": "qVi39m4kzASL"
      }
    },
    {
      "cell_type": "markdown",
      "source": [
        "Основная гипотеза о независимости переменной Y от переменной X: $H_0: \\beta_1 = 0$\n",
        "\n",
        "F-статистика: $ \\mathbb{F} = \\frac{\\hat{\\psi} B^{-1} \\psi }{qs^2} \\sim F_{q,n-r}$\n",
        "\n",
        "$B = C^t (XX^t)^{-1} C $\n",
        "\n",
        "$ x_{\\alpha}: F_{q,n-r}(x_{\\alpha}) = 1 - \\alpha $\n",
        "\n",
        "При основной гипотезе $ C = \\pmatrix{0 \\\\ 1}, \\hat{\\psi} = \\beta_1, q=1$"
      ],
      "metadata": {
        "id": "5YBHd4kJzMbR"
      }
    },
    {
      "cell_type": "code",
      "source": [
        "alpha = 0.05\n",
        "q = 1\n",
        "x_alpha = f.ppf(1-alpha, 1, n-2)\n",
        "C = np.array([0,1])\n",
        "B = np.dot(np.dot(C.T, np.linalg.inv(XX_T)), C)\n",
        "F = (beta[1] * 1 * beta[1]) / (B * q * s_2)\n",
        "\n",
        "print(\"Значение статистики F:\", F)\n",
        "print(\"Значение x альфа:\", round(x_alpha, 4))"
      ],
      "metadata": {
        "colab": {
          "base_uri": "https://localhost:8080/"
        },
        "id": "sUuEycxK70tm",
        "outputId": "9b8c395a-1861-4428-c097-d8cb20b3be54"
      },
      "execution_count": 12,
      "outputs": [
        {
          "output_type": "stream",
          "name": "stdout",
          "text": [
            "Значение статистики F: 1.741981555908659e-05\n",
            "Значение x альфа: 4.0427\n"
          ]
        }
      ]
    },
    {
      "cell_type": "markdown",
      "source": [
        "Так как $ F = 0.0000174 < x_{\\alpha} = 4.043 ⟹$ гипотеза принимается"
      ],
      "metadata": {
        "id": "btBaP-o68xBy"
      }
    },
    {
      "cell_type": "markdown",
      "source": [
        "### 5. Сформулировать модель, включающую дополнительный член с $X^2$. Построить МНК оценки параметров $\\beta_0, \\beta_1, \\beta_2$ в данной модели. Изобразить графически полученную регрессионную зависимость."
      ],
      "metadata": {
        "id": "3uekPqes9HZw"
      }
    },
    {
      "cell_type": "markdown",
      "source": [
        "Квадратичная регрессионная модель:\n",
        "\n",
        "$ Y = X^T \\beta + \\varepsilon , \\quad  \\varepsilon $ - вектор ошибок\n",
        "\n",
        "$ E_\\theta \\varepsilon = 0 , \\quad Var_\\theta \\varepsilon = \\sigma^2 E $\n",
        "\n",
        "$ E(Y|X) = \\beta_0 + \\beta_1X + \\beta_1X^2, \\quad \\beta = (\\beta_0, \\beta_1, \\beta_2) $\n",
        "\n",
        "МНК оценка:\n",
        "\n",
        "$ \\widehat \\beta = (XX^T)^{-1}XY $"
      ],
      "metadata": {
        "id": "4zcy7q719M_T"
      }
    },
    {
      "cell_type": "code",
      "source": [
        "X = np.array([[1 for i in range(50)], X_0, [i**2 for i in X_0]])\n",
        "Y = np.array(Y_0)\n",
        "XX_T = np.dot(X, X.T)\n",
        "XX_T_inv = np.linalg.inv(XX_T)\n",
        "beta = np.dot(np.dot(XX_T_inv, X), Y)\n",
        "print('beta_0:', round(beta[0], 6))\n",
        "print('beta_1:', round(beta[1], 6))\n",
        "print('beta_2:', round(beta[2], 6))"
      ],
      "metadata": {
        "colab": {
          "base_uri": "https://localhost:8080/"
        },
        "id": "RbtGpxhA_052",
        "outputId": "d8b4c530-3667-4252-a688-9dd55b11e794"
      },
      "execution_count": 13,
      "outputs": [
        {
          "output_type": "stream",
          "name": "stdout",
          "text": [
            "beta_0: 12.781999\n",
            "beta_1: -0.426037\n",
            "beta_2: 0.074768\n"
          ]
        }
      ]
    },
    {
      "cell_type": "markdown",
      "source": [
        "$\\beta_0 = 12.781999$\n",
        "\n",
        "$\\beta_1 = -0.426037$\n",
        "\n",
        "$\\beta_2 = 0.074768$"
      ],
      "metadata": {
        "id": "3eHZDiReAAQZ"
      }
    },
    {
      "cell_type": "code",
      "source": [
        "plt.plot(X_0, Y_0, 'o')\n",
        "\n",
        "X_2 = np.array([[1 for i in range(50)], sorted(X_0), [i**2 for i in sorted(X_0)]])\n",
        "\n",
        "# Строим линию\n",
        "Y_predicted = np.dot(X_2.T, beta)\n",
        "plt.plot(sorted(X_0), Y_predicted, 'o-', color='red')\n",
        "plt.xlabel('X')\n",
        "plt.ylabel('Y')\n",
        "plt.show()"
      ],
      "metadata": {
        "colab": {
          "base_uri": "https://localhost:8080/",
          "height": 449
        },
        "id": "CUrCZBGvALeV",
        "outputId": "4de0d61a-c583-417d-99e2-bbdf2201a3e7"
      },
      "execution_count": 15,
      "outputs": [
        {
          "output_type": "display_data",
          "data": {
            "text/plain": [
              "<Figure size 640x480 with 1 Axes>"
            ],
            "image/png": "[encoded data removed]"
          },
          "metadata": {}
        }
      ]
    },
    {
      "cell_type": "markdown",
      "source": [
        "#### Задание 6\n",
        "Построить несмещенную оценку дисперсии. Провести исследование нормальности ошибок как в пункте 2."
      ],
      "metadata": {
        "id": "GEk5Kar5ASre"
      }
    },
    {
      "cell_type": "markdown",
      "source": [
        "Построим несмещенную оценку дисперсии\n",
        "\n",
        "$ s^2 = \\frac{1}{n-r} \\cdot  (Y - X^T \\widehat \\beta)^T (Y - X^T \\widehat \\beta) $\n",
        "\n",
        "$ r = 3$ - ранг X"
      ],
      "metadata": {
        "id": "CbX3BFCpATu3"
      }
    },
    {
      "cell_type": "code",
      "source": [
        "res = np.dot((Y - np.dot(X.T, beta)).T, (Y - np.dot(X.T, beta)))\n",
        "s_2 = res/(n-3)\n",
        "print(\"s^2:\", round(s_2, 4))"
      ],
      "metadata": {
        "colab": {
          "base_uri": "https://localhost:8080/"
        },
        "id": "jyWEEISdAYcw",
        "outputId": "2c2e67b2-d435-45d1-cb91-44dd00891472"
      },
      "execution_count": 16,
      "outputs": [
        {
          "output_type": "stream",
          "name": "stdout",
          "text": [
            "s^2: 24.5366\n"
          ]
        }
      ]
    },
    {
      "cell_type": "markdown",
      "source": [
        "$ s^2 = 24.5366$\n",
        "\n",
        "Построим гистограмму ошибок с шагом h=2.30"
      ],
      "metadata": {
        "id": "3nsRyhKzAzyu"
      }
    },
    {
      "cell_type": "code",
      "source": [
        "h = 2.3\n",
        "errors = Y - Y_predicted\n",
        "hist, bin_edges, _ = plt.hist(errors, bins=np.arange(min(errors), max(errors) + h, h))\n",
        "plt.title('Гистограмма ошибок')\n",
        "plt.xlabel('Значение')\n",
        "plt.ylabel('Частота')\n",
        "plt.grid()\n",
        "\n",
        "plt.show()"
      ],
      "metadata": {
        "colab": {
          "base_uri": "https://localhost:8080/",
          "height": 472
        },
        "id": "muFzyWriA5di",
        "outputId": "e362ac2f-0fc4-47bf-d5e6-3074fa815bb1"
      },
      "execution_count": 17,
      "outputs": [
        {
          "output_type": "display_data",
          "data": {
            "text/plain": [
              "<Figure size 640x480 with 1 Axes>"
            ],
            "image/png": "[encoded data removed]"
          },
          "metadata": {}
        }
      ]
    },
    {
      "cell_type": "markdown",
      "source": [
        "Основная гипотеза: $H_0: \\vec{\\varepsilon} \\sim \\mathcal{N}(0, \\sigma^2)$<br>\n",
        "Статистика критерия: $X^2 = \\sum_{j=1}^{k}\\frac{ (\\nu_j - np_{jo})^2 }{ np_{j0} }$, где k - количество интервалов, $\\nu_i$ - абсолютная частота, а $p_{j0} = \\mathbb{P}(\\xi \\in I_i) = F_0(b_i) - F_0(a_i)$ - вероятность попадания в интервал, где a, b - границы интервала\n",
        "\n",
        "Асимптотическое распределение при основной гипотезе: $X^2 ⇒ \\chi^2_\\mathrm{k-d-1}$\n",
        "\n",
        "Асимптотический критерий уровня значимости $α:\\\\ \\phi(X) = \\begin{cases}\n",
        "0, X^2≤x_α \\\\\n",
        "1, X^2>x_α\n",
        " \\end{cases} $  \n",
        "\n",
        "где $x_α: K_\\mathrm{k-d-1}(x_α) = 1-α,\\space K_\\mathrm{k-d-1}$ - функция распределения $\\chi^2_\\mathrm{k-d-1}$\n",
        "\n",
        "В нашем случае $α  = 0.05$\n",
        "\n",
        "Интервалы берем с шагом h = 2.30"
      ],
      "metadata": {
        "id": "ypyGgj8LFji2"
      }
    },
    {
      "cell_type": "code",
      "source": [
        "expected_freq = get_expected_freq(n, bin_edges, s_2)\n",
        "\n",
        "chi_stats = np.sum((hist - expected_freq)**2 / expected_freq)\n",
        "print('Статистика критерия chi^2:', round(chi_stats, 6))\n",
        "print('Значение х альфа:', round(chi2.ppf(1 - alpha, len(bin_edges) - 1 - 1), 4))"
      ],
      "metadata": {
        "colab": {
          "base_uri": "https://localhost:8080/"
        },
        "id": "e0Z-GVBTF4v0",
        "outputId": "5991f15e-6b31-4323-e9cc-af93374d2654"
      },
      "execution_count": 18,
      "outputs": [
        {
          "output_type": "stream",
          "name": "stdout",
          "text": [
            "Статистика критерия chi^2: 11.459979\n",
            "Значение х альфа: 16.919\n"
          ]
        }
      ]
    },
    {
      "cell_type": "markdown",
      "source": [
        "Так как $X^2 < x_\\alpha$ - гипотеза принимается\n",
        "\n",
        "Оценим расстояние до класса нормальных распределений по Колмогорову:\n",
        " $D_n = sup_{x \\in \\mathbb{R}}|F_n(x) - F(x)|$, где $F_n$ - выборочная функция распределения\n",
        "\n",
        " По теореме Колмогорова: $P_{F_0}(\\sqrt{n} \\cdot D_n) \\rightarrow K(x), x \\in \\mathbb{R}$, где $K(x)$ - функция распределения Колмогорова"
      ],
      "metadata": {
        "id": "NhLxTfgyGLy7"
      }
    },
    {
      "cell_type": "code",
      "source": [
        "values = np.arange(min(errors) - h, max(errors) + h, h)\n",
        "F_n = np.array([np.sum(errors < x)/n for x in values])\n",
        "F = np.array([norm.cdf(x, 0, np.sqrt(s_2)) for x in values])\n",
        "diff = abs(F_n - F)\n",
        "D_n = max(diff)\n",
        "print('Значение статистики критерия:', round(D_n*np.sqrt(50), 6))\n",
        "print('Значение х альфа:', round(ksone.ppf(1 - alpha, 50), 4))"
      ],
      "metadata": {
        "colab": {
          "base_uri": "https://localhost:8080/"
        },
        "id": "sWKpeKtxGTni",
        "outputId": "5185cef4-7036-4338-b8a2-c954252adbfb"
      },
      "execution_count": 19,
      "outputs": [
        {
          "output_type": "stream",
          "name": "stdout",
          "text": [
            "Значение статистики критерия: 0.609274\n",
            "Значение х альфа: 0.1696\n"
          ]
        }
      ]
    },
    {
      "cell_type": "markdown",
      "source": [
        "Так как $\\sqrt{n}D_n > x_\\alpha \\Longrightarrow$ гипотеза о нормальности отвергается"
      ],
      "metadata": {
        "id": "ijEpaxBWHE4L"
      }
    },
    {
      "cell_type": "code",
      "source": [
        "plt.title('Выборочная функция распределения ошибки и функция нормального распределения')\n",
        "plt.xlabel('x')\n",
        "plt.ylabel('y')\n",
        "plt.plot(values, F)\n",
        "plt.plot(values, F_n, '--r')\n",
        "plt.show()"
      ],
      "metadata": {
        "colab": {
          "base_uri": "https://localhost:8080/",
          "height": 472
        },
        "id": "iA7MqRVyHLkk",
        "outputId": "b1d695cc-56c9-46ab-e186-2f9d3f55834d"
      },
      "execution_count": 20,
      "outputs": [
        {
          "output_type": "display_data",
          "data": {
            "text/plain": [
              "<Figure size 640x480 with 1 Axes>"
            ],
            "image/png": "[encoded data removed]"
          },
          "metadata": {}
        }
      ]
    },
    {
      "cell_type": "markdown",
      "source": [
        "#### Задание 7.\n",
        " В предположении нормальности ошибок построить доверительные интервалы для параметров $\\beta_0, \\beta_1, \\beta_2$ уровня доверия $1-\\alpha$. Написать уравнение доверительного эллипсоида уровня доверия $1-\\alpha$."
      ],
      "metadata": {
        "id": "FLipd9m2HZG4"
      }
    },
    {
      "cell_type": "markdown",
      "source": [
        "$\\psi = C^T \\beta $\n",
        "\n",
        "$ b_\\psi = C^T (XX^T)^{-1}C$ - элемент дисперсии оценки\n",
        "\n",
        "$ \\cfrac{\\widehat \\psi - \\psi}{s\\sqrt{b}} \\sim S_{n-r} $\n",
        "\n",
        "$ x_\\alpha : S_{n-r}(x_\\alpha) = 1 -\\frac{\\alpha}{2} $\n",
        "\n",
        "$ P_\\theta(-x_\\alpha \\le \\cfrac{\\widehat \\psi - \\psi}{s\\sqrt{b}} \\le x_\\alpha) = 1 -\\alpha $\n",
        "\n",
        "$ \\widehat \\psi -x_{\\alpha}s\\sqrt{b} \\le \\psi \\le \\widehat \\psi +x_{\\alpha}s\\sqrt{b} $ - доверительный интервал для $\\psi$\n",
        "\n",
        "Для $\\beta_0:$\n",
        "\n",
        "$ C = \\begin{pmatrix}\n",
        "    1 \\\\\n",
        "    0 \\\\\n",
        "    0\n",
        "\\end{pmatrix} $, $\\widehat \\psi = \\widehat \\beta_0 $, $b$ - элемент в матрице $ (XX^T)^{-1}$ на позиции $(1,1) $\n",
        "\n",
        "Для $\\beta_1:$\n",
        "\n",
        "$ C = \\begin{pmatrix}\n",
        "    0 \\\\\n",
        "    1 \\\\\n",
        "    0\n",
        "\\end{pmatrix} $, $\\widehat \\psi = \\widehat \\beta_1 $, $b$ - элемент в матрице $ (XX^T)^{-1}$ на позиции $(2,2) $\n",
        "\n",
        "Для $\\beta_2:$\n",
        "\n",
        "$ C = \\begin{pmatrix}\n",
        "    0 \\\\\n",
        "    0 \\\\\n",
        "    1\n",
        "\\end{pmatrix} $, $\\widehat \\psi = \\widehat \\beta_2 $, $b$ - элемент в матрице $ (XX^T)^{-1}$ на позиции $(3,3) $\n",
        "\n"
      ],
      "metadata": {
        "id": "I0ch9kgKKSyS"
      }
    },
    {
      "cell_type": "code",
      "source": [
        "x_alpha = t.ppf(1 - alpha/2, n-2)\n",
        "print(\"Значение x альфа:\", round(x_alpha, 4))\n",
        "\n",
        "C_0 = np.array([1, 0, 0])\n",
        "b_0 = np.dot(np.dot(C_0.T, np.linalg.inv(np.dot(X, X.T))), C_0)\n",
        "C_1 = np.array([0, 1, 0])\n",
        "b_1 = np.dot(np.dot(C_1.T, np.linalg.inv(np.dot(X, X.T))), C_1)\n",
        "C_2 = np.array([0, 0, 1])\n",
        "b_2 = np.dot(np.dot(C_2.T, np.linalg.inv(np.dot(X, X.T))), C_2)\n",
        "print(\"Матрица XX_T.inv:\")\n",
        "print(np.linalg.inv(np.dot(X, X.T)))\n",
        "print(\"b_0:\", round(b_0, 4))\n",
        "print(\"b_1:\", round(b_1, 4))\n",
        "print(\"b_2:\", round(b_2, 4))\n",
        "\n",
        "left_0 = beta[0] - x_alpha * np.sqrt(s_2) * np.sqrt(b_0)\n",
        "right_0 = beta[0] + x_alpha * np.sqrt(s_2) * np.sqrt(b_0)\n",
        "print(\"Доверительный интервал для beta_0: [{}; {}]\".format(round(left_0, 4), round(right_0, 4)))\n",
        "\n",
        "left_1 = beta[1] - x_alpha * np.sqrt(s_2) * np.sqrt(b_1)\n",
        "right_1 = beta[1] + x_alpha * np.sqrt(s_2) * np.sqrt(b_1)\n",
        "print(\"Доверительный интервал для beta_1: [{}; {}]\".format(round(left_1, 4), round(right_1, 4)))\n",
        "\n",
        "left_2 = beta[2] - x_alpha * np.sqrt(s_2) * np.sqrt(b_2)\n",
        "right_2 = beta[2] + x_alpha * np.sqrt(s_2) * np.sqrt(b_2)\n",
        "print(\"Доверительный интервал для beta_2: [{}; {}]\".format(round(left_2, 4), round(right_2, 4)))"
      ],
      "metadata": {
        "colab": {
          "base_uri": "https://localhost:8080/"
        },
        "id": "POrKAg-aK1QD",
        "outputId": "647bb987-ce94-444e-e667-ff3b19ed579a"
      },
      "execution_count": 21,
      "outputs": [
        {
          "output_type": "stream",
          "name": "stdout",
          "text": [
            "Значение x альфа: 2.0106\n",
            "Матрица XX_T.inv:\n",
            "[[ 0.42517905 -0.28242908  0.04222182]\n",
            " [-0.28242908  0.22239727 -0.03653523]\n",
            " [ 0.04222182 -0.03653523  0.00637679]]\n",
            "b_0: 0.4252\n",
            "b_1: 0.2224\n",
            "b_2: 0.0064\n",
            "Доверительный интервал для beta_0: [6.2878; 19.2762]\n",
            "Доверительный интервал для beta_1: [-5.1229; 4.2708]\n",
            "Доверительный интервал для beta_2: [-0.7206; 0.8701]\n"
          ]
        }
      ]
    },
    {
      "cell_type": "markdown",
      "source": [
        "Построим доверительный эллипсоид уровня доверия $1-\\alpha$:\n",
        "\n",
        " $A_{\\alpha} = \\{ \\vec{x}: (\\vec{x} - \\hat{\\psi})^t B^{-1} (\\vec{x} - \\hat{\\psi}) \\leq q s^2 x_{\\alpha} \\}$, где $ x_{\\alpha}: F_{q,n-r}(x_{\\alpha}) = 1 - \\alpha$ - квантиль распределения Фишера-Снедекора\n",
        "\n",
        "$B = C^t (XX^t)^{-1} C $\n",
        "\n",
        "В качестве вектора возьмем $ \\vec{x}= P(\\hat{\\psi} - \\psi) $, где P - матрица собственных векторов $XX^t$\n",
        "\n",
        "$⇒$ уравнение эллипсоида: $ \\lambda_1 x^2 + \\lambda_2 y^2 + \\lambda_3 z^2 \\leq q s^2 x_{\\alpha} $, где $ \\lambda_1, \\lambda_2, \\lambda_3$ - собственные числа матрицы $XX^t $\n",
        "\n",
        "$ \\frac{\\lambda_1}{q s^2 x_{\\alpha}} x^2 + \\frac{\\lambda_2}{q s^2 x_{\\alpha}} y^2 + \\frac{\\lambda_3}{q s^2 x_\\alpha}z^2 \\leq 1 $\n",
        "\n",
        "Большая и малая полуоси вычисляются как $ \\frac{q s^2 x_{\\alpha}}{\\lambda_1}, \\frac{q s^2 x_{\\alpha}}{\\lambda_2} $ и $\\frac{q s^2 x_\\alpha}{\\lambda_3}$ соответственно."
      ],
      "metadata": {
        "id": "v1bfUPAoQeUx"
      }
    },
    {
      "cell_type": "code",
      "source": [
        "eigenvalues, eigenvectors = np.linalg.eig(XX_T)\n",
        "r = 3\n",
        "x_alpha = f.ppf(1-alpha, 3, n-r)\n",
        "\n",
        "print(\"Значение x альфа:\", round(x_alpha, 4))\n",
        "print(\"Собственные числа:\", eigenvalues)\n",
        "print(\"Собственные вектора:\", eigenvectors.T, sep='\\n')\n",
        "print(\"Полуось x:\", round(3 * s_2 * x_alpha / eigenvalues[0], 4))\n",
        "print(\"Полуось y:\", round(3 * s_2 * x_alpha / eigenvalues[1], 4))\n",
        "print(\"Полуось z:\", round(3 * s_2 * x_alpha / eigenvalues[2], 4))\n",
        "\n",
        "print(\"beta0:\", round(beta[0], 4))\n",
        "print(\"beta1:\", round(beta[1], 4))\n",
        "print(\"beta2:\", round(beta[2], 4))"
      ],
      "metadata": {
        "colab": {
          "base_uri": "https://localhost:8080/"
        },
        "id": "G4JXrQX-Qdq5",
        "outputId": "28ec3407-13aa-4a07-f48f-f129518c8359"
      },
      "execution_count": 23,
      "outputs": [
        {
          "output_type": "stream",
          "name": "stdout",
          "text": [
            "Значение x альфа: 2.8024\n",
            "Собственные числа: [9.43844672e+03 1.59027004e+00 3.99630130e+01]\n",
            "Собственные вектора:\n",
            "[[-0.06143617 -0.23739616 -0.96946824]\n",
            " [-0.8141769   0.57376984 -0.08890528]\n",
            " [-0.5773574  -0.78385664  0.22853269]]\n",
            "Полуось x: 0.0219\n",
            "Полуось y: 129.7143\n",
            "Полуось z: 5.1618\n",
            "beta0: 12.782\n",
            "beta1: -0.426\n",
            "beta2: 0.0748\n"
          ]
        }
      ]
    },
    {
      "cell_type": "markdown",
      "source": [
        "$ \\vec{x}= P(\\hat{\\psi} - \\psi) = \\pmatrix\n",
        "{ -0.061 & -0.237 & -0.969\n",
        "\\\\ -0.814 & 0.574 & - 0.089\n",
        "\\\\ -0.577 & -0.784 & 0.229 } \\cdot \\pmatrix\n",
        "{ 12.782 - \\beta_0 \\\\ 0.426 - \\beta_1 \\\\ 0.075 - \\beta_2 } = \\pmatrix\n",
        "{ -0.953 + 0.061\\beta_0 + 0.237\\beta_1 + 0.969\\beta_2\n",
        "\\\\ -10.167 + 0.814\\beta_0 - 0.574\\beta_1 + 0.089\\beta_2\n",
        "\\\\ -7.692 + 0.577\\beta_0 + 0.784\\beta_1 - 0.2296\\beta_2}$\n",
        "\n",
        "$⇒$область эллипса:\n",
        "\n",
        " $ \\frac{( -0.953 + 0.061\\beta_0 + 0.237\\beta_1 + 0.969\\beta_2 )^2}{12.782} + \\frac{(-10.167 + 0.814\\beta_0 - 0.574\\beta_1 + 0.089\\beta_2)^2}{0.426} + \\frac{(-7.692 + 0.577\\beta_0 + 0.784\\beta_1 - 0.2296\\beta_2)^2}{0.075} \\leq 1 $"
      ],
      "metadata": {
        "id": "XnoL-6bJmVrf"
      }
    },
    {
      "cell_type": "markdown",
      "source": [
        "### 8. Сформулировать гипотезу линейной регрессионной зависимости переменной Y от переменной X и проверить ее значимость на уровне $\\alpha$"
      ],
      "metadata": {
        "id": "mA_DjjpDp3iB"
      }
    },
    {
      "cell_type": "markdown",
      "source": [
        "Основная гипотеза о линейной зависимости переменной Y от переменной X: $H_0: \\beta_2 = 0$\n",
        "\n",
        "F-статистика: $ \\mathbb{F} = \\frac{\\hat{\\psi} B^{-1} \\psi }{qs^2} \\sim F_{q,n-r}$\n",
        "\n",
        "$B = C^t (XX^t)^{-1} C $\n",
        "\n",
        "$ x_{\\alpha}: F_{q,n-r}(x_{\\alpha}) = 1 - \\alpha $\n",
        "\n",
        "При основной гипотезе $ C = \\pmatrix{0 \\\\ 0 \\\\ 1}, \\hat{\\psi} = \\beta_2, q=1$"
      ],
      "metadata": {
        "id": "0BFHQq9up6Hp"
      }
    },
    {
      "cell_type": "code",
      "source": [
        "alpha = 0.05\n",
        "q = 1\n",
        "x_alpha = f.ppf(1-alpha, q, n-3)\n",
        "print(\"Значение x альфа:\", round(x_alpha, 4))\n",
        "\n",
        "\n",
        "C = np.array([0,0,1])\n",
        "B = np.dot(np.dot(C.T, np.linalg.inv(XX_T)), C)\n",
        "F = (beta[2] * 1 * beta[2]) / (B * q * s_2)\n",
        "print(\"Значение статистики F:\", round(F, 4))"
      ],
      "metadata": {
        "colab": {
          "base_uri": "https://localhost:8080/"
        },
        "id": "vmQ0OXRAtM6x",
        "outputId": "44ad92a1-3095-4a75-8f82-7533e0df8b25"
      },
      "execution_count": 24,
      "outputs": [
        {
          "output_type": "stream",
          "name": "stdout",
          "text": [
            "Значение x альфа: 4.0471\n",
            "Значение статистики F: 0.0357\n"
          ]
        }
      ]
    },
    {
      "cell_type": "markdown",
      "source": [
        "Т.к $ \\mathbb{F}  \\le x_{\\alpha} = 4.047 \\Longrightarrow$ гипотеза принимается"
      ],
      "metadata": {
        "id": "Hl4sIDiYt50Y"
      }
    },
    {
      "cell_type": "markdown",
      "source": [
        "## Выводы\n",
        "\n",
        "В ходе данной лабораторной работы были изучены основные теоретические положения, связанные с линейной регрессией и методом наименьших квадратов (МНК),используя которую были получены оценки параметров.\n",
        "\n",
        "Построены несмещенные оценки дисперсии, проверена гипотеза о нормальности ошибок на уровне значимости хи-квадрат и оценено расстояние до класса нормальных распределений по Колмогорову. Также проверена гипотеза независимости Y от переменной X.\n",
        "\n",
        "Для параметров построены доверительные интервалы с уровнем доверия $1-\\alpha$ и доверительные эллипсоиды.\n",
        "\n",
        "Был введён дополнительный параметр регрессии, с учётом которого была проделана вся та же работа, но уже с проверкой гипотезы о линейной зависимости Y от X."
      ],
      "metadata": {
        "id": "ugJIgFs0O7V3"
      }
    }
  ]
}