{
  "cells": [
    {
      "cell_type": "markdown",
      "metadata": {
        "id": "HCDLtTDx9atF"
      },
      "source": [
        "# Лабораторная работа №2: Классические методы математической статистики\n",
        "Выполнил студент гр. 1384 Корякин Айсен. Вариант №7"
      ]
    },
    {
      "cell_type": "markdown",
      "metadata": {
        "id": "O8nB6YhA9atK"
      },
      "source": [
        "## Цель работы\n",
        "\n",
        "Научится применять методы математической статистики для визуализации и анализа полученных данных; сформировать навыки реализации методов с помощью прикладных программных пакетов."
      ]
    },
    {
      "cell_type": "markdown",
      "metadata": {
        "id": "658yAQT49atL"
      },
      "source": [
        "## Основные теоретические положения\n",
        "##### Выборочные числовые характеристики:\n",
        "\n",
        "Мат.ожидание $\\overline{X}=\\frac{1}{n}\\sum_{i=1}^{n}X_{i}$\n",
        "\n",
        "Дисперсия $S^{2}=\\frac{1}{n}\\sum_{i=1}^{n}\\left( X_{i}-\\overline{X} \\right)^{2}=\\overline{X^{2}}-\\overline{X}^{2}$\n",
        "\n",
        "Коэф. асимметрии $\\widehat{S_{kew}}X=\\frac{\\left(\\frac{1}{n}\\sum_{i=1}^{n}\\left( X_{i}-\\overline{X} \\right)^{3} \\right)}{S^{3}}$\n",
        "\n",
        "Коэф. эксцесса $\\widehat{K_{urt}}X=\\frac{\\frac{1}{n}\\sum_{i=1}^{n}\\left( X_{i}-\\overline{X}^{4} \\right)}{S^{4}}-3$\n",
        "\n",
        "##### Оценка Максимального Правдоподобия (ОМП):\n",
        "\n",
        "Если $X_{1},...,X_{n}$-выборка из распределения с плотностью распределения $P_{\\theta}, \\theta\\in \\Theta$, то\n",
        "\n",
        "Функция правдоподобия $L(\\overrightarrow{X},\\theta)=\\prod_{i=1}^{n}P_{\\theta}(X_{i})$\n",
        "\n",
        "Логарифм функции правдоподобия представляется в виде $LL(\\overrightarrow{X},\\theta)=\\ln L(\\overrightarrow{X},\\theta)=\\sum_{i=1}^{n}\\ln P_{\\theta}(X_{i})$\n",
        "\n",
        "В силу монотонности логарифма задача максимизации функции правдоподобия сводится к задаче максимизации ее логарифма по всем $\\theta\\in \\Theta$\n",
        "\n",
        "Если $\\theta$ - d-мерный параметр и $P_{\\theta}$ дифференцируема по $\\theta$, то для нахождения максимума надо найти решения системы уравнений: $\\frac{\\partial }{\\partial \\theta}LL(\\overrightarrow{X},\\theta)=0, i=\\overline{1,d}$\n",
        "\n",
        "##### Оценка метода моментов (ОММ)\n",
        "\n",
        "Пусть $X_{1},...,X_{n}$-выбока из распределения $P_{\\theta}, \\theta=(\\theta_{1},...,\\theta_{d})$\n",
        "\n",
        "$\\exists \\mu_{k}(\\theta)=\\mathbb{E}X^{k}_{1}, k=\\overline{1,d}$\n",
        "\n",
        "Если $\\exists$ ! решение $\\widetilde{\\theta}(X)$ системы уравнений: $\\widehat{\\mu^{k}}(\\widetilde{\\theta})=\\mu_{k}(\\theta), k=\\overline{1,d}$, где $\\widetilde{\\theta}(X)=\\frac{1}{n}\\sum_{i=1}^{n}X^{k}_{i}$-выборочный момент k-го порядка, то $\\widetilde{\\theta}(X)$ называется оценкой по методу моментов\n",
        "\n",
        "##### Асимптотический доверительный интервал\n",
        "\n",
        "На базе Асимптотической нормальности оценки $\\widehat{\\theta}$\n",
        "\n",
        "Асимптотическая нормальность $\\sqrt{n}\\left( \\widehat{\\theta}(\\overrightarrow{X})-\\theta)\\right)\\sim \\mathcal{N}\\left(0,\\sigma^{2}(\\theta)\\right)$\n",
        "\n",
        "Тогда $\\sqrt{n}\\frac{\\widehat{\\theta}(\\overrightarrow{X})-\\theta}{\\sigma\\left(\\widehat{\\theta}(\\overrightarrow{X})\\right)}$    \n",
        "\n",
        "Выбираем $X_{\\alpha}: \\Phi(X_{\\alpha})=1-\\frac{\\alpha}{2}$\n",
        "\n",
        "Асимптотический доверительный интервал  $\\left[ \\widehat{\\theta}(\\overrightarrow{X})-\\frac{X_{\\alpha}\\cdot \\sigma\\left( \\widehat{\\theta}(\\overrightarrow{X}) \\right)}{\\sqrt{n}}; \\widehat{\\theta}(\\overrightarrow{X})+\\frac{X_{\\alpha}\\cdot \\sigma\\left( \\widehat{\\theta}(\\overrightarrow{X}) \\right)}{\\sqrt{n}}\\right]$\n",
        "\n",
        "На базе ОМП. Пусть $\\widehat{\\theta}(\\overrightarrow{X})$-ОМП\n",
        "\n",
        "При выполнении опр.условий регулярности: $\\sqrt{n}\\left( \\widehat{\\theta}(\\overrightarrow{X})-\\theta)\\right)\\sim \\mathcal{N}\\left(0,\\frac{1}{I(\\theta)}\\right), I(\\theta)=-\\mathbb{E}\\left( \\frac{\\partial^{2} LL}{\\partial \\theta^{2}} \\right)$-информация Фишера\n",
        "\n",
        "Тогда $\\sqrt{n\\cdot I\\left( \\widehat{\\theta}(\\overrightarrow{X}) \\right)}\\cdot \\left( \\widehat{\\theta}(\\overrightarrow{X})-\\theta \\right)\\sim \\mathcal{N}(0,1)$\n",
        "\n",
        "Выбираем $X_{\\alpha}: \\Phi(X_{\\alpha})=1-\\frac{\\alpha}{2}$\n",
        "\n",
        "Асимптотический доверительный интервал  $\\left[ \\widehat{\\theta}(\\overrightarrow{X})-\\frac{X_{\\alpha}}{\\sqrt{n\\cdot I\\left( \\widehat{\\theta}(\\overrightarrow{X}) \\right)}};\\widehat{\\theta}(\\overrightarrow{X})+\\frac{X_{\\alpha}}{\\sqrt{n\\cdot I\\left( \\widehat{\\theta}(\\overrightarrow{X}) \\right)}} \\right]$\n",
        "\n",
        "##### Критерий $\\chi^2$ для проверки гипотез\n",
        "\n",
        "Основан на справнении теоритической плотности распределения и гистограммы, либо теоритической вероятностной меры и полигона частот.\n",
        "\n",
        "Разобъем множество значений сл. вел. X на $N$ интервалов $I_{1}, ..., I_{N}:$ $I_{i} = (a_{i-1}, a_i], i = \\overline {1,N}$. данные интервалы не пересекаются и покрывают всё множество возможных значений сл. вел. X.\n",
        "\n",
        "Обозначим через $p_{i}$ теоритическую вероятность попадания сл. вел. X в интервал $I_{i}$, при условии, что справедлива $H_{0}$.\n",
        "\n",
        "$p_{i} = P(X \\in I_{i}|H_{0})$\n",
        "\n",
        "Через $n_{i}$ обозначим число наблюдений нашей выборки, попавших в соответветствующий интервал $I_{i}$.\n",
        "\n",
        "$n_{i} = \\nu(x_{j} \\in I_{i})$\n",
        "\n",
        "Статистика критерия основана на сравнении относительной частоты и теоритической.\n",
        "\n",
        "$\\chi^{2} = \\sum \\limits_{i=1}^{N} \\frac{n}{p_{i}} \\bigg ( \\frac{n_{i}}{n} - p_{i} \\bigg )^{2} = \\sum \\limits_{i=1}^{N} \\frac{(n_{i} - p_{i} n)^{2}}{n p_{i}} \\sim \\chi^{2}_{N-1}$\n",
        "\n",
        "##### Теорема Колмогорова\n",
        "\n",
        "$D_{n}(\\overrightarrow{X}) = \\overset{}{\\underset{X \\in \\mathbb R}{sup}} |F_{0}(X_{i}) - F_{n}(X_{i})|$\n",
        "\n",
        "Если гипотеза $H_{0}$ верна, и $F_{0}(X)$ - непрерывная ф-я на $\\mathbb R$, тогда имеет место сходимость\n",
        "\n",
        "$P(\\sqrt{n} D_{n}(\\overrightarrow{X}) < z) \\xrightarrow[n \\rightarrow \\infty]{} K(z)$, где\n",
        "\n",
        "$K(z)=1-\\alpha$ - ф-я распределения Колмогорова.\n",
        "\n",
        "Если $D_{n} \\lt z$, то гипотезу принимаем.\n",
        "\n",
        "Если $D_{n} \\gt z$, то гипотезу отвергаем.\n",
        "\n",
        "##### Наиболее мощный критерий простой гипотезы.\n",
        "\n",
        "Для основной гипотезы $H_{0}: \\theta=\\theta_{0}$ и альтернативной гипотезы $H_{1}: \\theta=\\theta_{1}$, где $\\theta_{0}$ и $\\theta_{1}$ - фиксированные параметры, мы можем построить статистику правдоподобия:\n",
        "\n",
        "$LR(\\overrightarrow{X},\\theta_{1},\\theta_{0})=\\frac{L(\\overrightarrow{X},\\theta_{1})}{L(\\overrightarrow{X},\\theta_{0})} $- статистика отношений правдоподобия\n",
        "\n",
        "где $L(\\overrightarrow{X},\\theta_{1})$ - функция правдоподобия для альтернативной гипотезы, а $L(\\overrightarrow{X}\\theta_{0})$ - функция правдоподобия для основной гипотезы.\n",
        "\n",
        "Наиболее мощный критерий:\n",
        "\n",
        "$\\phi(\\overrightarrow X) = \\begin{cases}\n",
        "  0, LR(\\overrightarrow{X},\\theta_{1},\\theta_{0}) < C \\\\\n",
        "  p, LR(\\overrightarrow{X},\\theta_{1},\\theta_{0}) = C \\\\\n",
        "  1, LR(\\overrightarrow{X},\\theta_{1},\\theta_{0}) > C\n",
        "\\end{cases} $"
      ]
    },
    {
      "cell_type": "markdown",
      "metadata": {
        "id": "JkP6I1ez9atM"
      },
      "source": [
        "## Постановка задачи\n",
        "Для заданного двумерного нормального вектора необходимо вычислить числовые характеристики и выполнить заданные преобразования. Полученные результаты содержательно проинтерпретировать.\n",
        "\n",
        "### Плотность двумерного нормального распределения имеет вид:\n",
        "### $p_{\\xi, \\eta}(x,y) = C \\cdot \\exp \\left( -\\frac{1}{2}(3x^2 + 4xy + 6y^2 +10x +16y +13) \\right)$\n"
      ]
    },
    {
      "cell_type": "markdown",
      "metadata": {
        "id": "4mEBvFCq9atM"
      },
      "source": [
        "## Выполнение работы\n",
        "\n",
        "При выполнении работы будет использоваться язык Python."
      ]
    },
    {
      "cell_type": "markdown",
      "metadata": {
        "id": "pUERH_RN9atM"
      },
      "source": [
        "###Задание 1.\n",
        "В результате эксперимента получены данные, приведённые в таблице 1.\n",
        "\n",
        "a) Построить вариационный ряд, эмпирическую функцию распределения и гистограмму частот.\n",
        "\n",
        "b) Вычислить выборочные аналоги следующих числовых характеристик:\n",
        "\n",
        "(i) математического ожидания; (ii) дисперсии; (iii) СКО; (iv) медианы; (v) асимметрии; (vi) эксцесса; (vii) вероятности $ℙ(X \\in [a, b])$.\n",
        "\n",
        "c) В предположении, что исходные наблюдения являются выборкой из распределения Пуассона, построить оценку максимального правдоподобия параметра $λ$, а также оценку $\\lambda$ по методу моментов. Найти смещение оценок.\n",
        "\n",
        "d) Построить асимптотический доверительный интервал уровня значимости $α_1$ для параметра $λ$ на базе оценки максимального правдоподобия.\n",
        "\n",
        "e) Используя гистограмму частот, построить критерий значимости $\\chi^2$ проверки простой гипотезы согласия с распределением Пуассона с параметром $\\lambda_0$. Проверить гипотезу на уровне значимости $α_1$. Вычислить наибольшее значение уровня значимости, на котором ещё нет оснований отвергнуть данную гипотезу.\n",
        "\n",
        "f) Построить критерий значимости $\\chi^2$ проверки сложной гипотезы согласия с распределением Пуассона. Проверить гипотезу на уровне значимости $α_1$. Вычислить наибольшее значение уровня значимости, на котором ещё нет оснований отвергнуть данную гипотезу.\n",
        "\n",
        "g) Построить наиболее мощный критерий проверки простой гипотезы пуассоновости с параметром $λ = λ_0$ при альтернативе пуассоновости с параметром $λ = λ_1$. Проверить гипотезу на уровне значимости $α_1$. Что получится, если поменять местами основную и альтернативную гипотезы?\n",
        "\n",
        "h) В пунктах (c)-(f) заменить семейство распределений Пуассона на семейство геометрических распределений$:\\\\ ℙ_λ(X = k) = \\displaystyle\\frac{λ^k}{(λ + 1)^\\mathrm{k+1}},\\quad k \\in ℤ$\n",
        "\n",
        "**Таблица 1.** $\\quad \\alpha_1=0.05;\\space a=0.00;\\space b=7.58;\\space λ_0=4.00;\\space λ_1=5.00$\n",
        "\n",
        "4 1 5 1 6 0 0 6 0 0 1 7 0 9 1 3 2 6 2 7 2 0 0 0 2 2 11 2 0 10 7 15 2 0 0 0 1 1 3 4 1 24 3 8 8 7 1 15 1 8\n"
      ]
    },
    {
      "cell_type": "markdown",
      "source": [
        "Пункты a и b сделаны с помощью кода на python. Код представлен ниже"
      ],
      "metadata": {
        "id": "fvb8ueRQEfTJ"
      }
    },
    {
      "cell_type": "code",
      "execution_count": 1,
      "metadata": {
        "colab": {
          "base_uri": "https://localhost:8080/",
          "height": 730
        },
        "id": "GwiCfPwT9atN",
        "outputId": "3d4f47b9-1b21-44bb-c784-c2f5571eb4a4"
      },
      "outputs": [
        {
          "output_type": "display_data",
          "data": {
            "text/plain": [
              "<Figure size 640x480 with 2 Axes>"
            ],
            "image/png": "[encoded data removed]"
          },
          "metadata": {}
        },
        {
          "output_type": "stream",
          "name": "stdout",
          "text": [
            "\n",
            "Вариационный ряд: 0 0 0 0 0 0 0 0 0 0 0 0 1 1 1 1 1 1 1 1 1 2 2 2 2 2 2 2 3 3 3 4 4 5 6 6 6 7 7 7 7 8 8 8 9 10 11 15 15 24\n",
            "\n",
            "Выборочное математическое ожидание: 3.98\n",
            "\n",
            "Выборочная дисперсия: 23.0596\n",
            "\n",
            "Выборочное СКО: 4.802\n",
            "\n",
            "Выборочная медиана: 2.0\n",
            "\n",
            "Выборочный коэффициент асимметрии: 1.9272\n",
            "\n",
            "Выборочный коэффициент эксцесса: 4.504\n",
            "\n",
            "Вероятность попадания случайной величины в [a, b]: 0.82\n"
          ]
        }
      ],
      "source": [
        "from math import sqrt\n",
        "import matplotlib.pyplot as plt\n",
        "import numpy as np\n",
        "from scipy import stats\n",
        "\n",
        "DATA = [4, 1, 5, 1, 6, 0, 0, 6, 0, 0, 1, 7, 0, 9, 1, 3, 2, 6, 2, 7, 2, 0, 0, 0, 2, 2,\n",
        "        11, 2, 0, 10, 7, 15, 2, 0, 0, 0, 1, 1, 3, 4, 1, 24, 3, 8, 8, 7, 1, 15, 1, 8]\n",
        "DATA_LEN = len(DATA)\n",
        "A = 0.00\n",
        "B = 7.58\n",
        "\n",
        "def get_variational_series():\n",
        "    return sorted(DATA)\n",
        "\n",
        "def get_expectation():\n",
        "    return sum(DATA)/DATA_LEN\n",
        "\n",
        "def get_dispersion(expectation):\n",
        "    sum = 0\n",
        "    for i in range(DATA_LEN):\n",
        "        sum += (DATA[i] - expectation)**2\n",
        "    return sum/DATA_LEN\n",
        "\n",
        "def get_standard_deviation(dispersion):\n",
        "    return sqrt(dispersion)\n",
        "\n",
        "def get_median(variational_series):\n",
        "    if DATA_LEN % 2 == 1:\n",
        "        return variational_series[DATA_LEN//2]\n",
        "    else:\n",
        "        return (variational_series[DATA_LEN//2] + variational_series[DATA_LEN//2 - 1])/2\n",
        "\n",
        "def get_asymmetry_coef(expectation, standart_deviation):\n",
        "    sum = 0\n",
        "    for i in range(DATA_LEN):\n",
        "        sum += (DATA[i] - expectation)**3\n",
        "    return sum/(DATA_LEN*(standart_deviation**3))\n",
        "\n",
        "def get_kurtosis(expectation, standart_deviation):\n",
        "    sum = 0\n",
        "    for i in range(DATA_LEN):\n",
        "        sum += (DATA[i] - expectation)**4\n",
        "    return sum/(DATA_LEN*(standart_deviation**4)) - 3\n",
        "\n",
        "def get_probability_for_emperical_function(variational_series):\n",
        "    count = 0\n",
        "    for i in range(DATA_LEN):\n",
        "        if A <= variational_series[i] <= B:\n",
        "            count += 1\n",
        "        elif DATA[i] > B:\n",
        "            break\n",
        "    return count/DATA_LEN\n",
        "\n",
        "def draw_emperical_function_and_freq_diagram():\n",
        "    res = stats.ecdf(DATA)\n",
        "    ax = plt.subplot(1, 2, 1)\n",
        "    res.cdf.plot(ax)\n",
        "    ax.set_xlabel('Эмпирическая функция')\n",
        "\n",
        "    bx = plt.subplot(1, 2, 2)\n",
        "    bx.hist(DATA, bins=range(min(DATA), max(DATA) + 1), density=True, color=\"blue\", edgecolor='black')\n",
        "    bx.set_xlabel('Диаграмма частот')\n",
        "    plt.show()\n",
        "\n",
        "\n",
        "def points_a_b():\n",
        "    variational_series = sorted(DATA)\n",
        "    expectation = get_expectation()\n",
        "    dispersion = get_dispersion(expectation)\n",
        "    standard_deviation = get_standard_deviation(dispersion)\n",
        "    median = get_median(variational_series)\n",
        "    asymmetry_coef = get_asymmetry_coef(expectation, standard_deviation)\n",
        "    kurtosis = get_kurtosis(expectation, standard_deviation)\n",
        "    probability = get_probability_for_emperical_function(variational_series)\n",
        "    draw_emperical_function_and_freq_diagram()\n",
        "    print('\\nВариационный ряд:', ' '.join(map(str, variational_series)))\n",
        "    print('\\nВыборочное математическое ожидание:', expectation)\n",
        "    print('\\nВыборочная дисперсия:', dispersion)\n",
        "    print('\\nВыборочное СКО:', round(standard_deviation, 4))\n",
        "    print('\\nВыборочная медиана:', median)\n",
        "    print('\\nВыборочный коэффициент асимметрии:', round(asymmetry_coef, 4))\n",
        "    print('\\nВыборочный коэффициент эксцесса:', round(kurtosis, 4))\n",
        "    print('\\nВероятность попадания случайной величины в [a, b]:', round(probability, 4))\n",
        "\n",
        "points_a_b()\n",
        "\n"
      ]
    },
    {
      "cell_type": "markdown",
      "source": [
        "с) Распределение Пуассона$:\\\\ℙ(k) = \\displaystyle\\frac{λ^k}{k!}e^\\mathrm{-λ}; \\quad θ = λ$\n",
        "\n",
        "Найдем сначала ОМП:\n",
        "\n",
        "Функция правдоподобия: $L(X, θ) = \\displaystyle\\prod_{i=1}^{n}\\frac{λ^\\mathrm{x_i}}{x_i!}e^\\mathrm{-λ}$\n",
        "\n",
        "Логарифмическая функция правдоподобия: $LL(X, θ) = ln\\begin{pmatrix}\\displaystyle\\prod_{i=1}^{n}\\frac{λ^\\mathrm{x_i}}{x_i!}e^\\mathrm{-λ}\\end{pmatrix} = ln\\begin{pmatrix}e^\\mathrm{-λn}\\end{pmatrix} + ln\\begin{pmatrix}\\displaystyle\\prod_{i=1}^{n}\\frac{λ^\\mathrm{x_i}}{x_i!}\\end{pmatrix} = -λn + \\displaystyle\\sum_{i=1}^n ln\\begin{pmatrix}\\displaystyle\\frac{λ^\\mathrm{x_i}}{x_i!}\\end{pmatrix} = -λn + \\displaystyle\\sum_{i=1}^n[x_i ⋅ ln(λ) - ln(x_i!)]$\n",
        "\n",
        "Условие экстремума: $\\displaystyle\\frac{\\partial{LL}}{\\partial{λ}} = -n + \\displaystyle\\sum_{i=1}^n\\begin{bmatrix}x_i ⋅ \\frac{1}{λ} - 0\\end{bmatrix} = 0 \\quad \\Longrightarrow \\quad \\frac{1}{λ} \\sum_{i=1}^{n}x_i = n \\quad \\Longrightarrow \\quad \\overline{λ} = \\frac{1}{n} \\sum_{i=1}^{n}x_i = \\overline{X}$\n",
        "\n",
        "\n",
        "Найдем теперь оценку по методу моментов:\n",
        "\n",
        "Как известно, математическое ожидание случайной величины в распределении Пуассона это и есть $λ \\quad ⟹ \\quad 𝔼X_1=λ,\\space M_1 = \\overline{X} \\quad ⟹ \\quad \\overline{λ} = \\overline{X}$\n",
        "\n",
        "Очевидно, что смещения нет, так как известно, что $\\overline{X}$ является несмещённой оценкой математического ожидания, что в нашем случае равняется $λ$\n",
        "\n",
        "d) $\\theta = λ \\quad \\widehat{\\theta} = \\overline{X} -$ ОМП\n",
        "\n",
        " Информация Фишера: $Ι_n(λ) = -𝔼\\begin{pmatrix}\\frac{\\partial^2{LL}}{\\partial{λ}^2}\\end{pmatrix}$\n",
        "\n",
        " Из предыдущего пункта знаем, что  $\\displaystyle\\frac{\\partial{LL}}{\\partial{λ}} = -n + \\displaystyle\\sum_{i=1}^n\\begin{bmatrix}x_i ⋅ \\frac{1}{λ} - 0\\end{bmatrix} ⟹ \\frac{\\partial^2{LL}}{\\partial{λ^2}} = -\\frac{1}{λ^2}\\sum_{i=1}^{n}x_i ⟹ Ι_n(λ)=𝔼\\begin{pmatrix}\\displaystyle\\frac{1}{λ^2}\\sum_{i=1}^{n}x_i\\end{pmatrix} = \\frac{1}{λ^2} ⋅ nλ = \\frac{n}{λ}$\n",
        "\n",
        " $Ι(λ) = \\displaystyle \\frac{1}{λ} ⇒ Ι(\\widehat θ) = \\frac{1}{\\overline{X}}$\n",
        "\n",
        "$\\sqrt{n \\cdot Ι(\\widehat \\theta)} \\left(\\widehat{\\theta}(X) - \\theta \\right) \\sim \\mathcal{N}(0, 1)$\n",
        "\n",
        " Выбираем $x_{\\alpha} : \\Phi(x_{\\alpha}) = 1 - \\frac{\\alpha}{2} = 1 - \\frac{0.05}{2} = 0.975$\n",
        "\n",
        " $x_\\alpha = 1.96$\n",
        "\n",
        " Асимптотический доверительный интервал: $ \\left[\\widehat{\\theta}(X) - \\cfrac{x_{\\alpha}}{\\sqrt{n \\cdot Ι(\\widehat \\theta)}}; \\widehat{\\theta}(X) + \\cfrac{x_{\\alpha}}{\\sqrt{n \\cdot Ι(\\widehat \\theta)}} \\right] $\n",
        "\n",
        " $ \\left[\\overline X - \\cfrac{x_{\\alpha}}{\\sqrt{n \\cdot \\cfrac{1 }{\\overline X}}} ; \\overline X + \\cfrac{x_{\\alpha}}{\\sqrt{n \\cdot \\cfrac{1 }{\\overline X}}}\\right] \\ni \\lambda$\n",
        "\n",
        " $\\left[3.98 - \\cfrac{1.96}{\\sqrt{50 \\cdot \\cfrac{1}{3.98}}}; 3.98 + \\cfrac{1.96}{\\sqrt{50 \\cdot \\cfrac{1}{3.98}}}\\right] \\ni \\lambda$\n",
        "\n",
        " $[3.4270; 4.5330]\\ni \\lambda$\n",
        "\n",
        "e) Построим основную гипотезу согласия с распределением Пуассона с параметром $λ_0$\n",
        "\n",
        "$H_0: p_0 = p_\\mathrm{0_0}, ... ,p_r=p_\\mathrm{r_0}$\n",
        "\n",
        "где $p_\\mathrm{i_0} = \\displaystyle\\frac{λ_0^i}{i!}e^\\mathrm{-λ_0}; i \\in {0,...,r}$\n",
        "\n",
        "Абсолютные частоты находим по гистограмме частот;: $ν_i = \\displaystyle\\sum_{j=1}^n1_\\mathrm{\\{x_j = i\\}},\\space i={1,...,r}$\n",
        "\n",
        "Статистика критерия: $X^2 = \\displaystyle\\sum_{i=0}^r\\frac{(ν_i - np_\\mathrm{i_0})^2}{np_\\mathrm{i_0}}$\n",
        "\n",
        "Асимптотическое распределение при основной гипотезе: $X^2 ⇒ \\chi^2_\\mathrm{r-1}$\n",
        "\n",
        "Асимптотический критерий уровня значимости $α:\\\\ \\phi(X) = \\begin{cases}\n",
        "0, X^2≤x_α \\\\\n",
        "1, X^2>x_α\n",
        " \\end{cases} $  \n",
        "\n",
        "где $x_α: K_\\mathrm{r-1}(x_α) = 1-α,\\space K_\\mathrm{r-1}$ - функция распределения $\\chi^2_\\mathrm{r-1}$\n",
        "\n",
        "В нашем случае $α = α_0 = 0.05$\n",
        "\n",
        "Все вычисления сделаем с помощью кода, который представлен ниже"
      ],
      "metadata": {
        "id": "s8Ytv3kcHwko"
      }
    },
    {
      "cell_type": "code",
      "source": [
        "from scipy.stats import poisson\n",
        "from scipy.stats import chi2\n",
        "\n",
        "lambda_0 = 4.00\n",
        "alpha_1 = 0.05\n",
        "\n",
        "def get_number_of_identical_elems(elem):\n",
        "    counter = 0\n",
        "    for i in range(len(DATA)):\n",
        "      if elem == DATA[i]:\n",
        "        counter += 1\n",
        "    return counter\n",
        "\n",
        "def get_probabilities_poisson(lambda_val):\n",
        "    probabilities = []\n",
        "    for i in range(min(DATA), max(DATA)+1):\n",
        "        if i not in DATA:\n",
        "            continue\n",
        "        probabilities.append(poisson.pmf(k=i, mu=lambda_val))\n",
        "    return probabilities\n",
        "\n",
        "def get_absolute_frequencies():\n",
        "    absolute_frequencies = []\n",
        "    for i in range(min(DATA), max(DATA)+1):\n",
        "        if i not in DATA:\n",
        "            continue\n",
        "        absolute_frequencies.append(get_number_of_identical_elems(i))\n",
        "    return absolute_frequencies\n",
        "\n",
        "def get_criterion_statistics(absolute_frequencies, probabilities):\n",
        "    criterion_statistics = 0\n",
        "    for i in range(len(probabilities)):\n",
        "        criterion_statistics += ((absolute_frequencies[i] - DATA_LEN*probabilities[i])**2)/(DATA_LEN*probabilities[i])\n",
        "    return criterion_statistics\n",
        "\n",
        "def point_e():\n",
        "    probabilities = get_probabilities_poisson(lambda_0)\n",
        "    absolute_frequencies = get_absolute_frequencies()\n",
        "    criterion_statistics = get_criterion_statistics(absolute_frequencies, probabilities)\n",
        "    print('Значение критерия статистики:', round(criterion_statistics, 4))\n",
        "    print('Значение х альфа:', round(chi2.ppf(alpha_1, len(probabilities) - 1), 4))\n",
        "    print('При каком наибольшем уровне значимости еще нет оснований отвергнуть гипотезу:',\n",
        "          1 - chi2.cdf(criterion_statistics, len(probabilities) - 1))\n",
        "\n",
        "point_e()"
      ],
      "metadata": {
        "colab": {
          "base_uri": "https://localhost:8080/"
        },
        "id": "xuovP-3Mjh3P",
        "outputId": "8e7aa4a0-548f-4171-e0b6-840466060877"
      },
      "execution_count": 2,
      "outputs": [
        {
          "output_type": "stream",
          "name": "stdout",
          "text": [
            "Значение критерия статистики: 2406992801.0358\n",
            "Значение х альфа: 5.8919\n",
            "При каком наибольшем уровне значимости еще нет оснований отвергнуть гипотезу: 0.0\n"
          ]
        }
      ]
    },
    {
      "cell_type": "markdown",
      "source": [
        " Так как $X^2 > x_\\alpha$ - гипотеза отвергается\n",
        "\n",
        "f) В случае сложной гипотезы так же находятся абсолютные частоты, вероятности, статистика критерия, но в этом случае вероятность и статистика критерия зависят от параметра, точнее являются функциями от параметра, то есть зафиксировать $λ$ мы не можем,  а должны найти его такое значение, что значение $X^2$ минимально.\n",
        "\n",
        "Таким образом: $X^2(θ) = \\displaystyle\\sum_{i=0}^r\\frac{(ν_i - np_\\mathrm{i_0}(θ))^2}{np_\\mathrm{i_0}(θ)}$\n",
        "\n",
        "Статистика критерия: $\\widetilde{X^2} = \\underset{θ \\in 𝚯_0}{min}X^2(θ)$\n",
        "\n",
        "Для того, чтобы найти минимальный $λ$ воспользуемся графическим способом. Заранее графическим способом уже было выявлено, что $X^2(θ)$ имеет один минимум, где-то в районе 8.14 и 8.20, найдем значение минимума с точностью 0.0001 перебрав все значения в этой области. Код представлен ниже"
      ],
      "metadata": {
        "id": "MIOxHdki1-hQ"
      }
    },
    {
      "cell_type": "code",
      "source": [
        "alpha_1 = 0.05\n",
        "\n",
        "\n",
        "def draw_graphic_poisson(ax, absolute_freq):\n",
        "    x = np.arange(8.14, 8.20, 0.0001)\n",
        "    y = []\n",
        "    min_y = 20000\n",
        "    min_x = 0\n",
        "    for i in x:\n",
        "        probabilities = get_probabilities_poisson(i)\n",
        "        val = get_criterion_statistics(absolute_freq, probabilities)\n",
        "        y.append(val)\n",
        "        if val < min_y:\n",
        "            min_y = val\n",
        "            min_x = i\n",
        "    ax.plot(x, y)\n",
        "    print('Используемый параметр:', round(min_x, 4))\n",
        "    return min_y\n",
        "\n",
        "def point_f():\n",
        "    fig = plt.figure()\n",
        "    ax = fig.add_subplot(111)\n",
        "    absolute_freq = get_absolute_frequencies()\n",
        "    criterion_statistics = draw_graphic_poisson(ax, absolute_freq)\n",
        "    print('Значение критерия статистики:', round(criterion_statistics, 4))\n",
        "    print('Значение х альфа:', round(chi2.ppf(alpha_1, len(absolute_freq) - 1), 4))\n",
        "    print('При каком наибольшем уровне значимости еще нет оснований отвергнуть гипотезу:',\n",
        "          1- chi2.cdf(criterion_statistics, len(absolute_freq) - 1))\n",
        "    plt.show()\n",
        "\n",
        "\n",
        "point_f()\n"
      ],
      "metadata": {
        "colab": {
          "base_uri": "https://localhost:8080/",
          "height": 501
        },
        "id": "WbNkfzcSHjAR",
        "outputId": "e3a3061c-7a62-4c24-c4bf-7a7654d48f58"
      },
      "execution_count": 3,
      "outputs": [
        {
          "output_type": "stream",
          "name": "stdout",
          "text": [
            "Используемый параметр: 8.1699\n",
            "Значение критерия статистики: 16552.1101\n",
            "Значение х альфа: 5.8919\n",
            "При каком наибольшем уровне значимости еще нет оснований отвергнуть гипотезу: 0.0\n"
          ]
        },
        {
          "output_type": "display_data",
          "data": {
            "text/plain": [
              "<Figure size 640x480 with 1 Axes>"
            ],
            "image/png": "[encoded data removed]"
          },
          "metadata": {}
        }
      ]
    },
    {
      "cell_type": "markdown",
      "source": [
        " Так как $X^2 > x_\\alpha$ - гипотеза отвергается\n",
        "\n",
        "g) $\\lambda_0 = 4.0, \\; \\lambda_1 = 5.0, \\; \\alpha_1 = 0.05$\n",
        "\n",
        "$ H_0 : X \\sim Pois(\\lambda_0), \\\\\n",
        "H_A : X \\sim Pois(\\lambda_1)$\n",
        "\n",
        "Наиболее мощный критерий проверки гипотезы $H_0$ при альтернативе $H_A$ имеет вид:\n",
        "\n",
        "$\\phi(X) = \\begin{cases}\n",
        "  0, LR(X, \\lambda_1, \\lambda_0) < C \\\\\n",
        "  p, LR(X, \\lambda_1, \\lambda_0) = C \\\\\n",
        "  1, LR(X, \\lambda_1, \\lambda_0) > C\n",
        "\\end{cases} $\n",
        "\n",
        "$LR(X,\\lambda_1,\\lambda_0) = \\cfrac{L\\left(X,\\lambda_1 \\right)}{L\\left( X,\\lambda_0 \\right)}= \\cfrac{\\lambda_1^{\\sum_{i=1}^{n}X_i}\\cdot exp(-n \\lambda_1)}{\\lambda_0^{\\sum_{i=1}^{n}X_i}\\cdot exp(-n \\lambda_0)} = \\begin{pmatrix}\\cfrac{λ1}{\\lambda_0}\\end{pmatrix}^{\\sum_{i=1}^{n}X_i}\\cdot exp(-n(\\lambda_1 - \\lambda_0))$\n",
        "\n",
        "$LR(X, 5.0, 4.0) = 1.25^{n\\overline{X}}\\cdot e^{-n}$\n",
        "\n",
        "⟹ Наиболее мощный критерий:\n",
        "\n",
        "$\\phi(X) = \\begin{cases}\n",
        "  0, 1.25^{n\\overline{X}}\\cdot e^{-n} < C \\\\\n",
        "  p, 1.25^{n\\overline{X}}\\cdot e^{-n} = C \\\\\n",
        "  1, 1.25^{n\\overline{X}}\\cdot e^{-n} > C\n",
        "\\end{cases} $\n",
        "\n",
        "$T = \\overline X - МДС $\n",
        "\n",
        "$ 1.25^{n\\overline{X}}\\cdot e^{-n} > C $\n",
        "\n",
        "$ n \\overline X \\cdot ln(1.25) - n > ln(C) $\n",
        "\n",
        "$ \\overline X >  \\cfrac{ln(C) + n}{n \\cdot ln(1.25)}$\n",
        "\n",
        "Пусть $ C^* = \\cfrac{ln(C) + n}{n \\cdot ln(1.25)}$\n",
        "\n",
        "Критерий:\n",
        "\n",
        "$\\phi(\\overrightarrow X) = \\begin{cases}\n",
        "  0, \\overline X < C^* \\\\\n",
        "  p, \\overline X = C^* \\\\\n",
        "  1, \\overline X > C^*\n",
        "\\end{cases} $\n",
        "\n",
        "Находим $C^*$ и $p$:\n",
        "\n",
        "$P_{\\lambda_0}(\\overline X > C^*) + p P_{\\lambda_0}(\\overline X = C^*) = \\alpha_1$\n",
        "\n",
        "$ P_{\\lambda_0}(\\overline X > C^*) = 1 - P_{n\\lambda_0}(n\\overline X \\le nC^*) = 1 - \\displaystyle \\sum_{0}^{[nC^{*}]} \\cfrac{{(n \\lambda_0)} ^i}{i!} e^{-n\\lambda_0} < \\alpha_1$\n",
        "\n",
        "$ p = \\cfrac{\\alpha_1 - 1 + \\displaystyle \\sum_{0}^{[nC^{*}] - 1} \\cfrac{{(n\\lambda_0)} ^i}{i!} e^{-n\\lambda_0}}{\\cfrac{(n\\lambda_0) ^{[nC^{*}]}}{[nC^{*}]!} e^{-n\\lambda_0}} $\n",
        "\n"
      ],
      "metadata": {
        "id": "Zx5rO33rHprv"
      }
    },
    {
      "cell_type": "code",
      "source": [
        "def point_g():\n",
        "  pois = stats.poisson(50 * 4.0)\n",
        "  a = 0.05\n",
        "  c = 1\n",
        "  while True:\n",
        "      if 1 - pois.cdf(c) < a:\n",
        "          break\n",
        "      c += 1\n",
        "  p = (a - 1 + pois.cdf(c))/(pois.cdf(c) - pois.cdf(c - 1))\n",
        "\n",
        "  print(\"C* n =\", c)\n",
        "  print(\"p =\", p)\n",
        "  print(\"Sum =\", np.sum(DATA))\n",
        "\n",
        "point_g()"
      ],
      "metadata": {
        "colab": {
          "base_uri": "https://localhost:8080/"
        },
        "id": "usP_RF9CXo8x",
        "outputId": "126c8a0e-9833-4e31-c14f-9bcacc09840d"
      },
      "execution_count": 4,
      "outputs": [
        {
          "output_type": "stream",
          "name": "stdout",
          "text": [
            "C* n = 224\n",
            "p = 0.9592817680756431\n",
            "Sum = 199\n"
          ]
        }
      ]
    },
    {
      "cell_type": "markdown",
      "source": [
        "$\\displaystyle \\sum_{i=1}^{n}X_{i} = 199 < C^* \\cdot n = 224 \\quad \\Longrightarrow$ принимаем гипотезу $H_0$\n",
        "\n",
        "Критерий\n",
        " $\\phi(X) = \\begin{cases}\n",
        "  0, \\overline X < 4.48 \\\\\n",
        "  0.959, \\overline X = 4.48 \\\\\n",
        "  1, \\overline X > 4.48\n",
        "\\end{cases}$\n",
        "\n",
        "Теперь попробуем поменять местами основную и альтернативную гипотезу:\n",
        "\n",
        "Наиболее мощный критерий имеет вид:\n",
        "\n",
        "$\\phi(X) = \\begin{cases}\n",
        "  0, LR(X, \\lambda_0, \\lambda_1) < C \\\\\n",
        "  p, LR(X, \\lambda_0, \\lambda_1) = C \\\\\n",
        "  1, LR(X, \\lambda_0, \\lambda_1) > C\n",
        "\\end{cases} $\n",
        "\n",
        "$LR(X,\\lambda_0,\\lambda_1) = \\cfrac{L\\left(X,\\lambda_0 \\right)}{L\\left( X,\\lambda_1 \\right)}= \\cfrac{\\lambda_0^{\\sum_{i=1}^{n}X_i}\\cdot exp(-n \\lambda_0)}{\\lambda_1^{\\sum_{i=1}^{n}X_i}\\cdot exp(-n \\lambda_1)} = \\begin{pmatrix}\\cfrac{λ0}{\\lambda_1}\\end{pmatrix}^{\\sum_{i=1}^{n}X_i}\\cdot exp(-n(\\lambda_0 - \\lambda_1))$\n",
        "\n",
        "$LR(X, 4.0, 5.0) = 0.8^{n\\overline{X}}\\cdot e^{n}$\n",
        "\n",
        "⟹ Наиболее мощный критерий:\n",
        "\n",
        "$\\phi(X) = \\begin{cases}\n",
        "  0, 0.8^{n\\overline{X}}\\cdot e^{n} < C \\\\\n",
        "  p, 0.8^{n\\overline{X}}\\cdot e^{n} = C \\\\\n",
        "  1, 0.8^{n\\overline{X}}\\cdot e^{n} > C\n",
        "\\end{cases} $\n",
        "\n",
        "$T = \\overline X - МДС $\n",
        "\n",
        "$ 0.8^{n\\overline{X}}\\cdot e^{n} > C $\n",
        "\n",
        "$ n \\overline X \\cdot ln(0.8) + n > ln(C) $\n",
        "\n",
        "$ \\overline X >  \\cfrac{ln(C) - n}{n \\cdot ln(0.8)}$\n",
        "\n",
        "Пусть $ C^* = \\cfrac{ln(C) - n}{n \\cdot ln(0.8)}$\n",
        "\n",
        "Критерий:\n",
        "\n",
        "$\\phi(X) = \\begin{cases}\n",
        "  0, \\overline X < C^* \\\\\n",
        "  p, \\overline X = C^* \\\\\n",
        "  1, \\overline X > C^*\n",
        "\\end{cases} $\n",
        "\n",
        "Находим $C^*$ и $p$:\n",
        "\n",
        "$P_{\\lambda_0}(\\overline X > C^*) + p P_{\\lambda_0}(\\overline X = C^*) = \\alpha_1$\n",
        "\n",
        "$ P_{\\lambda_0}(\\overline X > C^*) = 1 - P_{n\\lambda_0}(n\\overline X \\le nC^*) = 1 - \\displaystyle \\sum_{0}^{[nC^{*}]} \\cfrac{{(n \\lambda_0)} ^i}{i!} e^{-n\\lambda_0} < \\alpha_1$\n",
        "\n",
        "$ p = \\cfrac{\\alpha_1 - 1 + \\displaystyle \\sum_{0}^{[nC^{*}] - 1} \\cfrac{{(n\\lambda_0)} ^i}{i!} e^{-n\\lambda_0}}{\\cfrac{(n\\lambda_0) ^{[nC^{*}]}}{[nC^{*}]!} e^{-n\\lambda_0}} $"
      ],
      "metadata": {
        "id": "FbIilJeRa5UZ"
      }
    },
    {
      "cell_type": "code",
      "source": [
        "def point_g_():\n",
        "  pois = stats.poisson(50 * 5.0)\n",
        "  a = 0.05\n",
        "  c = 1\n",
        "  while True:\n",
        "      if 1 - pois.cdf(c) < a:\n",
        "          break\n",
        "      c += 1\n",
        "  p = (a - 1 + pois.cdf(c))/(pois.cdf(c) - pois.cdf(c - 1))\n",
        "\n",
        "  print(\"C* n =\", c)\n",
        "  print(\"p =\", p)\n",
        "  print(\"Sum =\", np.sum(DATA))\n",
        "\n",
        "point_g_()"
      ],
      "metadata": {
        "colab": {
          "base_uri": "https://localhost:8080/"
        },
        "id": "FG96TfRre4pi",
        "outputId": "14021406-1709-4f03-d181-41e83e757d26"
      },
      "execution_count": 5,
      "outputs": [
        {
          "output_type": "stream",
          "name": "stdout",
          "text": [
            "C* n = 276\n",
            "p = 0.2065504639943925\n",
            "Sum = 199\n"
          ]
        }
      ]
    },
    {
      "cell_type": "markdown",
      "source": [
        "$\\displaystyle \\sum_{i=1}^{n}X_{i} = 199 < C^* \\cdot n = 276 \\quad \\Longrightarrow$ гипотеза $H_A$ принимается\n",
        "\n",
        "Критерий\n",
        " $\\phi(X) = \\begin{cases}\n",
        "  0, \\overline X < 5.52 \\\\\n",
        "  0.207, \\overline X = 5.52 \\\\\n",
        "  1, \\overline X > 5.52\n",
        "\\end{cases}$"
      ],
      "metadata": {
        "id": "s1RoT3U2f68W"
      }
    },
    {
      "cell_type": "markdown",
      "source": [
        "c*) Геометрическое распределение:$\\\\ℙ_λ(X = k) = \\displaystyle\\frac{λ^k}{(λ + 1)^\\mathrm{k+1}},\\quad k \\in ℤ;\\quad \\theta=λ$\n",
        "\n",
        "Найдем сначала ОМП:\n",
        "\n",
        "Функция правдоподобия: $L(X, θ) = \\displaystyle\\prod_{i=1}^{n}\\frac{λ^\\mathrm{x_i}}{(λ+1)^\\mathrm{x_i+1}} = \\frac{λ^\\mathrm{\\sum x_i}}{(λ+1)^\\mathrm{\\sum x_i + n}}$\n",
        "\n",
        "Логарифмическая функция правдоподобия(суммы от 1 до n): $LL(X, θ) = ln\\begin{pmatrix}\\displaystyle\\frac{λ^\\mathrm{\\sum x_i}}{(λ+1)^\\mathrm{\\sum x_i + n}}\\end{pmatrix} = \\sum x_i ⋅ ln(λ) - (\\sum x_i + n)⋅ln(λ+1)$\n",
        "\n",
        "Условие экстремума: $\\displaystyle\\frac{\\partial{LL}}{\\partial{λ}} = \\frac{\\sum x_i}{λ} - \\frac{\\sum x_i + n}{λ+1} = 0 \\quad \\Longrightarrow \\quad \\sum x_i \\cdot λ  + \\sum x_i =  \\sum x_i \\cdot λ + nλ \\quad ⟹ \\quad \\frac{1}{λ} \\sum_{i=1}^{n}x_i = n \\quad \\Longrightarrow \\quad \\overline{λ} = \\frac{1}{n} \\sum_{i=1}^{n}x_i = \\overline{X}$\n",
        "\n",
        "Найдем теперь оценку по методу моментов:\n",
        "\n",
        "Как известно, формула вероятности геометрического распределения имеет вид $ℙ(k)= q^kp$ и мат ожидание такого равняется $\\frac{q}{p}$, а нашу формулу можем представить в виде $ℙ(k) = (\\frac{λ}{λ+1})^k\\frac{1}{λ+1}$ отсюда получаем математическое ожидания это и есть $λ \\quad ⟹ \\quad 𝔼X_1=λ,\\space M_1 = \\overline{X} \\quad ⟹ \\quad \\overline{λ} = \\overline{X}$\n",
        "\n",
        "Очевидно, что смещения нет, так как известно, что $\\overline{X}$ является несмещённой оценкой математического ожидания, что в нашем случае равняется $λ$\n",
        "\n",
        "d*) $\\theta = λ \\quad \\widehat{\\theta} = \\overline{X} -$ ОМП\n",
        "\n",
        " Информация Фишера: $Ι_n(λ) = -𝔼\\begin{pmatrix}\\frac{\\partial^2{LL}}{\\partial{λ}^2}\\end{pmatrix}$\n",
        "\n",
        " Из предыдущего пункта знаем, что  $\\cfrac{\\partial{LL}}{\\partial{λ}} = \\cfrac{\\sum_{i=1}^{n} x_i}{λ} - \\cfrac{\\sum_{i=1}^{n} x_i + n}{λ+1} ⟹ \\cfrac{\\partial^2{LL}}{\\partial{λ^2}} = -\\cfrac{\\sum_{i=1}^{n}x_i}{λ^2} + \\cfrac{\\sum_{i=1}^{n}x_i + n}{(λ + 1)^2} ⟹ Ι_n(λ)= 𝔼\\begin{pmatrix}\\cfrac{\\sum_{i=1}^{n}x_i}{λ^2} - \\cfrac{\\sum_{i=1}^{n}x_i + n}{(λ + 1)^2}\\end{pmatrix} = \\cfrac{n λ}{\\lambda^2} - \\cfrac{n\\lambda}{(\\lambda+1)^2} - \\cfrac{n}{(λ + 1)^2}$\n",
        "\n",
        " $Ι(λ) = \\cfrac{1}{λ} - \\cfrac{\\lambda + 1}{(\\lambda + 1)^2} = \\cfrac{1}{λ} - \\cfrac{1}{λ + 1}⇒ Ι(\\widehat θ) = \\cfrac{1}{\\overline{X}} - \\cfrac{1}{\\overline X + 1} = \\cfrac{1}{3.98} - \\cfrac{1}{4.98} = 0.0505$\n",
        "\n",
        "$\\sqrt{n \\cdot Ι(\\widehat \\theta)} \\left(\\widehat{\\theta}(X) - \\theta \\right) \\sim \\mathcal{N}(0, 1)$\n",
        "\n",
        " Выбираем $x_{\\alpha} : \\Phi(x_{\\alpha}) = 1 - \\frac{\\alpha}{2} = 1 - \\frac{0.05}{2} = 0.975$\n",
        "\n",
        " $x_\\alpha = 1.96$\n",
        "\n",
        " Асимптотический доверительный интервал: $ \\left[\\widehat{\\theta}(X) - \\cfrac{x_{\\alpha}}{\\sqrt{n \\cdot Ι(\\widehat \\theta)}}; \\widehat{\\theta}(X) + \\cfrac{x_{\\alpha}}{\\sqrt{n \\cdot Ι(\\widehat \\theta)}} \\right] $\n",
        "\n",
        " $\\left[3.98 - \\cfrac{1.96}{\\sqrt{50 \\cdot 0.0505}}; 3.98 + \\cfrac{1.96}{\\sqrt{50 \\cdot 0.0505}}\\right] \\ni \\lambda$\n",
        "\n",
        " $[2.7465; 5.2135]\\ni \\lambda$\n",
        "\n",
        "e*)  Построим основную гипотезу согласия с геометрическим распределением с параметром $λ_0$\n",
        "\n",
        "$H_0: p_0 = p_\\mathrm{0_0}, ... ,p_r=p_\\mathrm{r_0}$\n",
        "\n",
        "где $p_\\mathrm{i_0} = \\cfrac{λ^i}{(λ + 1)^\\mathrm{i+1}}; i \\in {0,...,r}$\n",
        "\n",
        "Абсолютные частоты находим по гистограмме частот;: $ν_i = \\displaystyle\\sum_{j=1}^n1_\\mathrm{\\{x_j = i\\}},\\space i={1,...,r}$\n",
        "\n",
        "Статистика критерия: $X^2 = \\displaystyle\\sum_{i=0}^r\\frac{(ν_i - np_\\mathrm{i_0})^2}{np_\\mathrm{i_0}}$\n",
        "\n",
        "Асимптотическое распределение при основной гипотезе: $X^2 ⇒ \\chi^2_\\mathrm{r-1}$\n",
        "\n",
        "Асимптотический критерий уровня значимости $α:\\\\ \\phi(X) = \\mathrm{0\\quad X^2≤x_α \\overwithdelims\\{. 1 \\quad X^2>x_α} $  \n",
        "\n",
        "где $x_α: K_\\mathrm{r-1}(x_α) = 1-α,\\space K_\\mathrm{r-1}$ - функция распределения $\\chi^2_\\mathrm{r-1}$\n",
        "\n",
        "В нашем случае $α = α_0 = 0.05$\n",
        "\n",
        "Все вычисления сделаем с помощью кода, который представлен ниже"
      ],
      "metadata": {
        "id": "QYTUQNNMJNz3"
      }
    },
    {
      "cell_type": "code",
      "source": [
        "def get_probabilities_geometric(lambda_val):\n",
        "  probabilities = []\n",
        "  for i in range(min(DATA), max(DATA)+1):\n",
        "      if i not in DATA:\n",
        "          continue\n",
        "      probabilities.append((lambda_val**i)/((lambda_val + 1)**(i+1)))\n",
        "  return probabilities\n",
        "\n",
        "def point_e_():\n",
        "    probabilities = get_probabilities_geometric(lambda_0)\n",
        "    absolute_frequencies = get_absolute_frequencies()\n",
        "    criterion_statistics = get_criterion_statistics(absolute_frequencies, probabilities)\n",
        "    print('Значение критерия статистики:', round(criterion_statistics, 4))\n",
        "    print('Значение х альфа:', round(chi2.ppf(1 - alpha_1, len(probabilities) - 1), 4))\n",
        "    print('При каком наибольшем уровне значимости еще нет оснований отвергнуть гипотезу:',\n",
        "          1 - chi2.cdf(criterion_statistics, len(probabilities) - 1))\n",
        "\n",
        "point_e_()"
      ],
      "metadata": {
        "colab": {
          "base_uri": "https://localhost:8080/"
        },
        "id": "1084MSNxiEvY",
        "outputId": "28929122-0009-4f36-cdb6-193d495f03d7"
      },
      "execution_count": 6,
      "outputs": [
        {
          "output_type": "stream",
          "name": "stdout",
          "text": [
            "Значение критерия статистики: 33.996\n",
            "Значение х альфа: 22.362\n",
            "При каком наибольшем уровне значимости еще нет оснований отвергнуть гипотезу: 0.001205252886347985\n"
          ]
        }
      ]
    },
    {
      "cell_type": "markdown",
      "source": [
        " Так как $X^2 > x_\\alpha$ - гипотеза отвергается\n",
        "\n",
        "f*) В случае сложной гипотезы так же находятся абсолютные частоты, вероятности, статистика критерия, но в этом случае вероятность и статистика критерия зависят от параметра, точнее являются функциями от параметра, то есть зафиксировать $λ$ мы не можем,  а должны найти его такое значение, что значение $X^2$ минимально.\n",
        "\n",
        "Таким образом: $X^2(θ) = \\displaystyle\\sum_{i=0}^r\\frac{(ν_i - np_\\mathrm{i_0}(θ))^2}{np_\\mathrm{i_0}(θ)}$\n",
        "\n",
        "Статистика критерия: $\\widetilde{X^2} = \\underset{θ \\in 𝚯_0}{min}X^2(θ)$\n",
        "\n",
        "Для того, чтобы найти минимальный $λ$ воспользуемся графическим способом. Заранее графическим способом уже было выявлено, что $X^2(θ)$ имеет один минимум, где-то в районе 6.1 и 6.4, найдем значение минимума с точностью 0.0001 перебрав все значения в этой области. Код представлен ниже"
      ],
      "metadata": {
        "id": "Hi9laIkolgVk"
      }
    },
    {
      "cell_type": "code",
      "source": [
        "def draw_graphic_geometric(ax, absolute_freq):\n",
        "    x = np.arange(6.1, 6.4, 0.0001)\n",
        "    y = []\n",
        "    min_y = 20000\n",
        "    min_x = 0\n",
        "    for i in x:\n",
        "        probabilities = get_probabilities_geometric(i)\n",
        "        val = get_criterion_statistics(absolute_freq, probabilities)\n",
        "        y.append(val)\n",
        "        if val < min_y:\n",
        "            min_y = val\n",
        "            min_x = i\n",
        "    ax.plot(x, y)\n",
        "    print('Используемый параметр:', round(min_x, 4))\n",
        "    return min_y\n",
        "\n",
        "def point_f_():\n",
        "    fig = plt.figure()\n",
        "    ax = fig.add_subplot(111)\n",
        "    absolute_freq = get_absolute_frequencies()\n",
        "    criterion_statistics = draw_graphic_geometric(ax, absolute_freq)\n",
        "    print('Значение критерия статистики:', round(criterion_statistics, 4))\n",
        "    print('Значение х альфа:', round(chi2.ppf(1 - alpha_1, len(absolute_freq) - 1), 4))\n",
        "    print('При каком наибольшем уровне значимости еще нет оснований отвергнуть гипотезу:',\n",
        "          1 - chi2.cdf(criterion_statistics, len(absolute_freq) - 1))\n",
        "    plt.show()\n",
        "\n",
        "\n",
        "point_f_()"
      ],
      "metadata": {
        "colab": {
          "base_uri": "https://localhost:8080/",
          "height": 499
        },
        "id": "e9ztnQwmli6V",
        "outputId": "056d4f1e-c8ad-4292-db7d-30ea89c4c198"
      },
      "execution_count": 7,
      "outputs": [
        {
          "output_type": "stream",
          "name": "stdout",
          "text": [
            "Используемый параметр: 6.2168\n",
            "Значение критерия статистики: 16.4028\n",
            "Значение х альфа: 22.362\n",
            "При каком наибольшем уровне значимости еще нет оснований отвергнуть гипотезу: 0.22806215961017684\n"
          ]
        },
        {
          "output_type": "display_data",
          "data": {
            "text/plain": [
              "<Figure size 640x480 with 1 Axes>"
            ],
            "image/png": "[encoded data removed]"
          },
          "metadata": {}
        }
      ]
    },
    {
      "cell_type": "markdown",
      "metadata": {
        "id": "-4t8RfQZ9atP"
      },
      "source": [
        " Так как $X^2 < x_\\alpha$ - гипотеза принимается\n",
        "\n",
        "### Задание 2\n",
        "В результате эксперимента получены данные, приведённые в таблице 2.\n",
        "\n",
        "a) Построить вариационный ряд, эмпирическую функцию распределения, гистограмму и полигон частот с шагом h.\n",
        "\n",
        "b) Вычислить выборочные аналоги следующих числовых характеристик:\n",
        "\n",
        "(i) математического ожидания; (ii) дисперсии; (iii) СКО; (iv) медианы; (v) асимметрии; (vi) эксцесса; (vii) вероятности $ℙ(X \\in [c, d])$.\n",
        "\n",
        "c) В предположении, что исходные наблюдения являются выборкой из показательного распределения, построить оценку максимального правдоподобия параметра $λ$, а также оценку $\\lambda$ по методу моментов. Найти смещение оценок.\n",
        "\n",
        "d) Построить асимптотический доверительный интервал уровня значимости $α_2$ для параметра $λ$ на базе оценки максимального правдоподобия.\n",
        "\n",
        "e) С использованием теоремы Колмогорова построить критерий значимости проверки простой гипотезы согласия с показательным распределением с параметром $λ_0$. Проверить гипотезу на уровне значимости $\\alpha_2$. Вычислить наибольшее значение уровня значимости,  на котором еще нет оснований отвергнуть данную гипотезу.\n",
        "\n",
        "f) Используя гистограмму частот, построить критерий значимости $\\chi^2$ проверки простой гипотезы согласия с показательным распределением с параметром $\\lambda_0$. Проверить гипотезу на уровне значимости $α_2$. Вычислить наибольшее значение уровня значимости, на котором ещё нет оснований отвергнуть данную гипотезу.\n",
        "\n",
        "g) Построить критерий значимости $\\chi^2$ проверки сложной гипотезы согласия с показательным распределением. Проверить гипотезу на уровне значимости $α_2$. Вычислить наибольшее значение уровня значимости, на котором ещё нет оснований отвергнуть данную гипотезу.\n",
        "\n",
        "h) Построить наиболее мощный критерий проверки простой гипотезы пуассоновости с параметром $λ = λ_0$ при альтернативе показательности с параметром $λ = λ_1$. Проверить гипотезу на уровне значимости $α_2$. Что получится, если поменять местами основную и альтернативную гипотезы?\n",
        "\n",
        "i) В пунктах (c)-(h) заменить семейство показательных распределений Пуассона на семейство гамма-распределений распределений с плотностями:\n",
        "\n",
        "$p_λ(x) = \\cfrac{\\sqrt{λ}⋅exp(-\\lambda x/2)}{\\sqrt{2πx}}$ (использовать таблицу распределений $\\chi_1^2$)\n",
        "\n",
        "**Таблица 2.** $\\quad \\alpha_2=0.05;\\space c=0.00;\\space d=3.70;\\space h=1.10 \\space λ_0=0.26;\\space λ_1=0.36$\n",
        "\n",
        "5.39 2.15 7.05 12.10 0.24 5.04 3.76 0.21 0.64 0.01 0.06 1.09 0.24 0.23 0.06 0.02 1.09 0.11 0.00 0.25 0.28 0.34 2.88 2.39 0.00 0.15 0.84 0.16 7.86 0.46 0.06 3.57 1.30 6.81 6.90 4.96 0.41 0.19 0.90 0.07 0.35 0.41 0.04 0.37 8.69 5.32 0.08 0.05 4.46 0.14"
      ]
    },
    {
      "cell_type": "markdown",
      "source": [
        "Пункты a и b сделаны с помощью кода на python. Код представлен ниже"
      ],
      "metadata": {
        "id": "QU4pnpLMHuI1"
      }
    },
    {
      "cell_type": "code",
      "source": [
        "DATA = [5.39, 2.15, 7.05, 12.10, 0.24, 5.04, 3.76, 0.21, 0.64, 0.01, 0.06, 1.09, 0.24, 0.23, 0.06, 0.02,\n",
        "        1.09, 0.11, 0.00, 0.25, 0.28, 0.34, 2.88, 2.39, 0.00, 0.15, 0.84, 0.16, 7.86, 0.46, 0.06, 3.57,\n",
        "        1.30, 6.81, 6.90, 4.96, 0.41, 0.19, 0.90, 0.07, 0.35, 0.41, 0.04, 0.37, 8.69, 5.32, 0.08, 0.05, 4.46, 0.14]\n",
        "DATA_LEN = len(DATA)\n",
        "C = 0.00\n",
        "D = 3.70\n",
        "h = 1.10\n",
        "\n",
        "\n",
        "def get_probability_for_emperical_function_2(variational_series):\n",
        "    count = 0\n",
        "    for i in range(DATA_LEN):\n",
        "        if C <= variational_series[i] <= D:\n",
        "            count += 1\n",
        "        elif DATA[i] > B:\n",
        "            break\n",
        "    return count/DATA_LEN\n",
        "\n",
        "def draw_emperical_function_and_freq_diagram_2():\n",
        "    res = stats.ecdf(DATA)\n",
        "    ax = plt.subplot(1, 2, 1)\n",
        "    res.cdf.plot(ax)\n",
        "    ax.set_xlabel('Эмпирическая функция')\n",
        "\n",
        "    bx = plt.subplot(1, 2, 2)\n",
        "    bins = np.arange(min(DATA), max(DATA) + h, h)\n",
        "    plt.hist(DATA, bins=bins, edgecolor='black', color='blue')\n",
        "    bx.set_xlabel('Гистограмма и полигон частот')\n",
        "    hist, _ = np.histogram(DATA, bins=bins)\n",
        "    bin_centers = 0.5 * (bins[1:] + bins[:-1])\n",
        "    bx.plot(bin_centers, hist, color='red', marker='o', linestyle='-')\n",
        "    plt.show()\n",
        "\n",
        "\n",
        "def points_a_b_2():\n",
        "    variational_series = sorted(DATA)\n",
        "    expectation = get_expectation()\n",
        "    dispersion = get_dispersion(expectation)\n",
        "    standard_deviation = get_standard_deviation(dispersion)\n",
        "    median = get_median(variational_series)\n",
        "    asymmetry_coef = get_asymmetry_coef(expectation, standard_deviation)\n",
        "    kurtosis = get_kurtosis(expectation, standard_deviation)\n",
        "    probability = get_probability_for_emperical_function_2(variational_series)\n",
        "    draw_emperical_function_and_freq_diagram_2()\n",
        "    print('\\nВариационный ряд:', ' '.join(map(str, variational_series)))\n",
        "    print('\\nВыборочное математическое ожидание:', expectation)\n",
        "    print('\\nВыборочная дисперсия:', dispersion)\n",
        "    print('\\nВыборочное СКО:', round(standard_deviation, 4))\n",
        "    print('\\nВыборочная медиана:', median)\n",
        "    print('\\nВыборочный коэффициент асимметрии:', round(asymmetry_coef, 4))\n",
        "    print('\\nВыборочный коэффициент эксцесса:', round(kurtosis, 4))\n",
        "    print('\\nВероятность попадания случайной величины в [c, d]:', round(probability, 4))\n",
        "\n",
        "points_a_b_2()\n"
      ],
      "metadata": {
        "colab": {
          "base_uri": "https://localhost:8080/",
          "height": 747
        },
        "id": "iUHPe-49Gt0J",
        "outputId": "3050e644-80c1-4eb4-f744-40b369ad1483"
      },
      "execution_count": 8,
      "outputs": [
        {
          "output_type": "display_data",
          "data": {
            "text/plain": [
              "<Figure size 640x480 with 2 Axes>"
            ],
            "image/png": "[encoded data removed]"
          },
          "metadata": {}
        },
        {
          "output_type": "stream",
          "name": "stdout",
          "text": [
            "\n",
            "Вариационный ряд: 0.0 0.0 0.01 0.02 0.04 0.05 0.06 0.06 0.06 0.07 0.08 0.11 0.14 0.15 0.16 0.19 0.21 0.23 0.24 0.24 0.25 0.28 0.34 0.35 0.37 0.41 0.41 0.46 0.64 0.84 0.9 1.09 1.09 1.3 2.15 2.39 2.88 3.57 3.76 4.46 4.96 5.04 5.32 5.39 6.81 6.9 7.05 7.86 8.69 12.1\n",
            "\n",
            "Выборочное математическое ожидание: 2.0036\n",
            "\n",
            "Выборочная дисперсия: 8.136887039999998\n",
            "\n",
            "Выборочное СКО: 2.8525\n",
            "\n",
            "Выборочная медиана: 0.39\n",
            "\n",
            "Выборочный коэффициент асимметрии: 1.6022\n",
            "\n",
            "Выборочный коэффициент эксцесса: 1.8692\n",
            "\n",
            "Вероятность попадания случайной величины в [c, d]: 0.76\n"
          ]
        }
      ]
    },
    {
      "cell_type": "markdown",
      "source": [
        "с) Плотность показательного распределения:\n",
        "\n",
        "$p_\\theta(x) = \\begin{cases}\n",
        "\\lambda e^{-\\lambda x}, x \\ge 0\\\\\n",
        "0, x < 0\n",
        "\\end{cases}$\n",
        "\n",
        "Найдем оценку $\\lambda$ по методу максимального правдоподобия:\n",
        "\n",
        "$L(X, \\theta) = \\displaystyle \\prod_{i = 1}^{n} \\lambda e^{-\\lambda x} \\mathbb{I}_{\\{x_i \\ge 0\\}}$\n",
        "\n",
        "Так как в выборке все $x \\ge 0$, то можем опустить индикаторную функцию\n",
        "\n",
        "$ L(X;\\theta) = \\displaystyle \\prod_{i=1}^{n}\\lambda\\exp(-\\lambda x) = \\lambda^n \\exp(-\\lambda \\sum_{i=1}^{n}x_i ) $\n",
        "\n",
        "$ LL(X;\\theta) = n \\ln(\\lambda) - \\lambda \\sum_{i=1}^{n}x_i $\n",
        "\n",
        "$ \\cfrac{\\partial LL(X;\\theta) }{\\partial \\lambda } = \\cfrac{n}{\\lambda} - \\sum_{i=1}^{n}x_i = 0\n",
        "\\Longrightarrow \\hat{\\lambda} = \\cfrac{n}{\\sum_{i=1}^{n}x_i} = \\cfrac{1}{\\overline{X}} $\n",
        "\n",
        "$ \\hat{\\theta} = \\hat{\\lambda} $\n",
        "\n",
        "Таким образом: $\\hat{\\lambda} = \\cfrac{1}{2.0036} = 0.499 $\n",
        "\n",
        "Найдем оценку по ОММ:\n",
        "\n",
        "Первый момент $\\mathbb{E}X_1 = \\cfrac{1}{\\lambda}$\n",
        "\n",
        "Приравниваем к эмпирическому моменту выборки $M = \\overline X \\Longrightarrow \\hat \\theta = \\hat \\lambda = \\cfrac{1}{\\overline X} = 0.499$\n",
        "\n",
        "Найдем теперь смещение оценки:\n",
        "\n",
        "$\\mathbb{E}_\\lambda \\cfrac{n}{\\sum_{i=1}^{n} x_i} = n \\mathbb{E}_\\lambda (\\sum_{i=1}^{n} x_i)^{-1} = \\left[ x_i \\sim \\mathop{\\mathrm{Gamma}}\\nolimits(1, \\frac{1}{\\lambda}) \\rightarrow \\sum_{i=1}^{n}x_i \\sim \\mathop{\\mathrm{Gamma}}\\nolimits(n, \\frac{1}{\\lambda}) \\right] = \\left[ \\alpha = n, \\gamma = -1, \\beta = \\frac{1}{\\lambda} \\right] = n \\lambda \\frac{Г(n-1)}{Г(n)} = n\\lambda \\frac{Г(n-1)}{Г(n-1) \\cdot (n-1) } = \\lambda \\cfrac{n}{n-1} $\n",
        "\n",
        "Получаем НРМД оценку: $\\tilde \\lambda = \\hat \\lambda \\cdot \\cfrac{n-1}{n} $\n",
        "\n",
        "d) $\\theta = λ \\quad \\hat{\\lambda} = \\cfrac{1}{\\overline{X}} -$ ОМП\n",
        "\n",
        " Информация Фишера: $Ι_n(λ) = -𝔼\\begin{pmatrix}\\frac{\\partial^2{LL}}{\\partial{λ}^2}\\end{pmatrix}$\n",
        "\n",
        " Из предыдущего пункта знаем, что  $\\displaystyle\\frac{\\partial{LL}}{\\partial{λ}} = \\cfrac{n}{\\lambda} - \\sum_{i=1}^{n}x_i ⟹ \\frac{\\partial^2{LL}}{\\partial{λ^2}} = -\\frac{n}{λ^2} ⟹ Ι_n(λ)=𝔼\\begin{pmatrix}\\cfrac{n}{λ^2}\\end{pmatrix} = \\cfrac{n}{λ^2}$\n",
        "\n",
        " $Ι(λ) = \\cfrac{1}{λ^2} ⇒ Ι(\\widehat θ) = \\cfrac{1}{\\overline{X}^2} = \\cfrac{1}{2.0036^2} = 0.2491$\n",
        "\n",
        "$\\sqrt{n \\cdot Ι(\\widehat \\theta)} \\left(\\widehat{\\theta}(X) - \\theta \\right) \\sim \\mathcal{N}(0, 1)$\n",
        "\n",
        " Выбираем $x_{\\alpha} : \\Phi(x_{\\alpha}) = 1 - \\frac{\\alpha}{2} = 1 - \\frac{0.05}{2} = 0.975$\n",
        "\n",
        " $x_\\alpha = 1.96$\n",
        "\n",
        " Асимптотический доверительный интервал: $ \\left[\\widehat{\\theta}(X) - \\cfrac{x_{\\alpha}}{\\sqrt{n \\cdot Ι(\\widehat \\theta)}}; \\widehat{\\theta}(X) + \\cfrac{x_{\\alpha}}{\\sqrt{n \\cdot Ι(\\widehat \\theta)}} \\right] $\n",
        "\n",
        " $\\left[0.499 - \\cfrac{1.96}{\\sqrt{50 \\cdot 0.2491}}; 0.499 + \\cfrac{1.96}{\\sqrt{50 \\cdot 0.2491}}\\right] \\ni \\lambda$\n",
        "\n",
        " $[-0.0564; 1.0544]\\ni \\lambda$\n",
        "\n",
        " e) Статистика критерия Колмогорова:\n",
        "\n",
        " $D_n = sup_{x \\in \\mathbb{R}}|F_n(x) - F(x)|$, где $F_n$ - выборочная функция распределения\n",
        "\n",
        " По теореме Колмогорова: $P_{F_0}(\\sqrt{n} \\cdot D_n) \\rightarrow K(x), x \\in \\mathbb{R}$, где $K(x)$ - функция распределения Колмогорова\n",
        "\n",
        " Критерий уровня значимости $\\alpha$:\n",
        "\n",
        " $\\tilde \\phi = \\begin{cases}\n",
        " 0, \\hat D_n \\le x_\\alpha;\\\\\n",
        " 1, \\hat D_n > x_\\alpha;   \n",
        " \\end{cases}$\n",
        "\n",
        " $x_\\alpha: K_n(x_\\alpha) = 1 - \\alpha_2 = 1 - 0.05 = 0.95$"
      ],
      "metadata": {
        "id": "fRhBXn32KxXI"
      }
    },
    {
      "cell_type": "code",
      "source": [
        "from scipy.stats import ksone\n",
        "from scipy.stats import gamma\n",
        "\n",
        "\n",
        "def point_e2():\n",
        "  x_alpha = ksone.ppf(0.95, DATA_LEN)\n",
        "  print('Значение x_alpha:', round(x_alpha, 4))\n",
        "  lambda_0 = 0.26\n",
        "  X = np.arange(0, 14)\n",
        "  #эмпирическая функция распределения\n",
        "  F_n = np.array([np.sum(DATA < x)/DATA_LEN for x in X])\n",
        "  #функция распределения показательного распределения\n",
        "  F_0 = np.array([gamma.cdf(x, a=1, scale=1/lambda_0) for x in X])\n",
        "  diff = np.abs(F_n - F_0)\n",
        "  D_n = max(diff)\n",
        "  print('Значение статистики критерия Колмогорова:', round(D_n, 4))\n",
        "  a_max = 1 - ksone.cdf(D_n, DATA_LEN)\n",
        "  print('Наибольший уровень значимости, при котором еще нет оснований отвергнуть гипотезу:', round(a_max, 4))\n",
        "\n",
        "\n",
        "point_e2()\n",
        "\n",
        "\n"
      ],
      "metadata": {
        "colab": {
          "base_uri": "https://localhost:8080/"
        },
        "id": "ItWo9Nn53pMz",
        "outputId": "ea219ada-9bcf-4717-83d3-0589a4d15064"
      },
      "execution_count": 9,
      "outputs": [
        {
          "output_type": "stream",
          "name": "stdout",
          "text": [
            "Значение x_alpha: 0.1696\n",
            "Значение статистики критерия Колмогорова: 0.3911\n",
            "Наибольший уровень значимости, при котором еще нет оснований отвергнуть гипотезу: 0.0\n"
          ]
        }
      ]
    },
    {
      "cell_type": "markdown",
      "metadata": {
        "id": "1jKSqNVn9atQ"
      },
      "source": [
        "Так как $ \\hat{D_n} > x_{\\alpha} $, то гипотеза $H_0$ отвергается\n",
        "\n",
        "f) Статистика критерия: $X^2 = \\displaystyle\\sum_{i=0}^r\\frac{(ν_i - np_\\mathrm{i_0})^2}{np_\\mathrm{i_0}}$\n",
        "\n",
        "Асимптотическое распределение при основной гипотезе: $X^2 ⇒ \\chi^2_\\mathrm{r-1}$\n",
        "\n",
        "Асимптотический критерий уровня значимости $α:\\\\ \\phi(X) = \\begin{cases}\n",
        "0, X^2≤x_α \\\\\n",
        "1, X^2>x_α\n",
        " \\end{cases} $  \n",
        "\n",
        "где $x_α: K_\\mathrm{r-1}(x_α) = 1-α,\\space K_\\mathrm{r-1}$ - функция распределения $\\chi^2_\\mathrm{r-1}$\n",
        "\n",
        "В нашем случае $α = α_2 = 0.05$\n",
        "\n",
        "Интервалы берем с шагом h = 1.10\n",
        "\n"
      ]
    },
    {
      "cell_type": "code",
      "source": [
        "lambda_0 = 0.26\n",
        "alpha_2 = 0.05\n",
        "\n",
        "def get_probabilities_exp(bins, lmbda):\n",
        "  probabilities = []\n",
        "  for i in range(1, len(bins)):\n",
        "    probabilities.append(gamma.cdf(bins[i], a=1, scale=1/lmbda) - gamma.cdf(bins[i-1], a=1, scale=1/lmbda))\n",
        "  return probabilities\n",
        "\n",
        "bins = np.arange(min(DATA), max(DATA) + h, h)\n",
        "print('Интервалы:', bins)\n",
        "frequencies = np.array([np.sum(DATA < bins[i]) for i in range(1, len(bins))])\n",
        "for i in range(len(frequencies)-1, 0, -1):\n",
        "  frequencies[i] -= frequencies[i-1]\n",
        "print('Абсолютные частоты:', frequencies)\n",
        "probabilities = get_probabilities_exp(bins, lambda_0)\n",
        "print('Вероятности:', [round(p, 4) for p in probabilities])\n",
        "criterion_statistics = get_criterion_statistics(frequencies, probabilities)\n",
        "print('Значение критерия статистики:', round(criterion_statistics, 4))\n",
        "print('Значение х альфа:', round(chi2.ppf(1 - alpha_2, len(probabilities)), 4))\n",
        "print('При каком наибольшем уровне значимости еще нет оснований отвергнуть гипотезу:',\n",
        "        1 - chi2.cdf(criterion_statistics, len(probabilities)))"
      ],
      "metadata": {
        "colab": {
          "base_uri": "https://localhost:8080/"
        },
        "id": "GiL18ZwYVvPz",
        "outputId": "ca7a98aa-25ae-471e-8b13-dae29c0b10b3"
      },
      "execution_count": 10,
      "outputs": [
        {
          "output_type": "stream",
          "name": "stdout",
          "text": [
            "Интервалы: [ 0.   1.1  2.2  3.3  4.4  5.5  6.6  7.7  8.8  9.9 11.  12.1]\n",
            "Абсолютные частоты: [33  2  2  2  5  0  3  2  0  0  1]\n",
            "Вероятности: [0.2487, 0.1869, 0.1404, 0.1055, 0.0792, 0.0595, 0.0447, 0.0336, 0.0252, 0.019, 0.0142]\n",
            "Значение критерия статистики: 51.2884\n",
            "Значение х альфа: 19.6751\n",
            "При каком наибольшем уровне значимости еще нет оснований отвергнуть гипотезу: 3.6671274461497205e-07\n"
          ]
        }
      ]
    },
    {
      "cell_type": "markdown",
      "source": [
        " Так как $X^2 > x_\\alpha$ - гипотеза отвергается\n",
        "\n",
        " g) В случае сложной гипотезы так же находятся абсолютные частоты, вероятности, статистика критерия, но в этом случае вероятность и статистика критерия зависят от параметра, точнее являются функциями от параметра, то есть зафиксировать $λ$ мы не можем,  а должны найти его такое значение, что значение $X^2$ минимально.\n",
        "\n",
        "Таким образом: $X^2(θ) = \\displaystyle\\sum_{i=0}^r\\frac{(ν_i - np_\\mathrm{i_0}(θ))^2}{np_\\mathrm{i_0}(θ)}$\n",
        "\n",
        "Статистика критерия: $\\widetilde{X^2} = \\underset{θ \\in 𝚯_0}{min}X^2(θ)$\n",
        "\n",
        "Для того, чтобы найти минимальный $λ$ воспользуемся графическим способом. Заранее графическим способом уже было выявлено, что $X^2(θ)$ имеет один минимум, где-то в районе 0.35 и 0.45, найдем значение минимума с точностью 0.0001 перебрав все значения в этой области. Код представлен ниже"
      ],
      "metadata": {
        "id": "Oo8zQ3n-ho36"
      }
    },
    {
      "cell_type": "code",
      "source": [
        "def draw_graphic_exp(ax, freq):\n",
        "    bins = np.arange(min(DATA), max(DATA) + h, h)\n",
        "    x = np.arange(0.35, 0.45, 0.0001)\n",
        "    y = []\n",
        "    min_y = 20000\n",
        "    min_x = 0\n",
        "    for i in x:\n",
        "        probabilities = get_probabilities_exp(bins, i)\n",
        "        val = get_criterion_statistics(freq, probabilities)\n",
        "        y.append(val)\n",
        "        if val < min_y:\n",
        "            min_y = val\n",
        "            min_x = i\n",
        "    ax.plot(x, y)\n",
        "    print('Используемый параметр:', round(min_x, 4))\n",
        "    return min_y\n",
        "\n",
        "fig = plt.figure()\n",
        "ax = fig.add_subplot(111)\n",
        "criterion_statistics = draw_graphic_exp(ax, frequencies)\n",
        "print('Значение критерия статистики:', round(criterion_statistics, 4))\n",
        "print('Значение х альфа:', round(chi2.ppf(1 - alpha_1, len(frequencies) - 1), 4))\n",
        "print('При каком наибольшем уровне значимости еще нет оснований отвергнуть гипотезу:',\n",
        "        1- chi2.cdf(criterion_statistics, len(frequencies) - 1))\n",
        "plt.show()\n"
      ],
      "metadata": {
        "colab": {
          "base_uri": "https://localhost:8080/",
          "height": 502
        },
        "id": "YQr6Mv4wjKH4",
        "outputId": "73132ed4-e6e7-4150-aae9-b54b1ce6adc8"
      },
      "execution_count": 11,
      "outputs": [
        {
          "output_type": "stream",
          "name": "stdout",
          "text": [
            "Используемый параметр: 0.3963\n",
            "Значение критерия статистики: 37.2295\n",
            "Значение х альфа: 18.307\n",
            "При каком наибольшем уровне значимости еще нет оснований отвергнуть гипотезу: 5.164579598704311e-05\n"
          ]
        },
        {
          "output_type": "display_data",
          "data": {
            "text/plain": [
              "<Figure size 640x480 with 1 Axes>"
            ],
            "image/png": "[encoded data removed]"
          },
          "metadata": {}
        }
      ]
    },
    {
      "cell_type": "markdown",
      "source": [
        " Так как $X^2 > x_\\alpha$ - гипотеза отвергается\n",
        "\n",
        "h) $\\lambda_0 = 0.26, \\; \\lambda_1 = 0.36, \\; \\alpha_2 = 0.05$\n",
        "\n",
        "$ H_0 : X \\sim Exp(\\lambda_0), \\\\\n",
        "H_A : X \\sim Exp(\\lambda_1)$\n",
        "\n",
        "Наиболее мощный критерий проверки гипотезы $H_0$ при альтернативе $H_A$ имеет вид:\n",
        "\n",
        "$\\phi(X) = \\begin{cases}\n",
        "  0, LR(X, \\lambda_1, \\lambda_0) < C \\\\\n",
        "  p, LR(X, \\lambda_1, \\lambda_0) = C \\\\\n",
        "  1, LR(X, \\lambda_1, \\lambda_0) > C\n",
        "\\end{cases} $\n",
        "\n",
        "$LR(X,\\lambda_1,\\lambda_0) = \\cfrac{L\\left(X,\\lambda_1 \\right)}{L\\left( X,\\lambda_0 \\right)}= \\cfrac{\\lambda_1^n \\exp(-\\lambda_1 \\sum_{i=1}^{n}X_i )}{\\lambda_0^n \\exp(-\\lambda_0 \\sum_{i=1}^{n}X_i )} = \\begin{pmatrix}\\cfrac{λ_1}{\\lambda_0}\\end{pmatrix}^{n}\\cdot exp(-(\\lambda_1 - \\lambda_0)\\sum_{i=1}^{n}X_i)$\n",
        "\n",
        "$LR(X, 0.36, 0.26) = 1.385^n \\cdot e^{-0.1 \\sum_{i=1}^{n}X_i}$\n",
        "\n",
        "⟹ Наиболее мощный критерий:\n",
        "\n",
        "$\\phi(X) = \\begin{cases}\n",
        "  0, 1.385^n \\cdot e^{-0.1 \\sum_{i=1}^{n} X_i} < C \\\\\n",
        "  p, 1.385^n \\cdot e^{-0.1 \\sum_{i=1}^{n} X_i} = C \\\\\n",
        "  1, 1.385^n \\cdot e^{-0.1 \\sum_{i=1}^{n} X_i} > C\n",
        "\\end{cases} $\n",
        "\n",
        "$T = \\sum_{i=1}^{n}X_i - МДС $\n",
        "\n",
        "$ 1.385^n \\cdot e^{-0.1 \\sum_{i=1}^{n}X_i} > C $\n",
        "\n",
        "$ n \\cdot ln(1.385) - 0.1 \\cdot \\sum_{i=1}^{n}X_i > ln(C) $\n",
        "\n",
        "$ \\sum_{i=1}^{n}X_i < \\cfrac{ -ln(C) + n \\cdot ln(1.385)}{0.1}$\n",
        "\n",
        "Пусть $ C^* = \\cfrac{ -ln(C) + n \\cdot ln(1.385)}{0.1}$\n",
        "\n",
        "Критерий:\n",
        "\n",
        "$\\phi(\\overrightarrow X) = \\begin{cases}\n",
        "  0, \\sum_{i=1}^{n} X_i > C^* \\\\\n",
        "  p, \\sum_{i=1}^{n} X_i = C^* \\\\\n",
        "  1, \\sum_{i=1}^{n} X_i < C^*\n",
        "\\end{cases} $\n",
        "\n",
        "Находим $C^*$ и $p$:\n",
        "\n",
        "$[X_i \\sim Gamma(1, \\frac{1}{\\lambda}) → \\sum_{i=1}^{n} X_i \\sim Gamma(n, \\frac{1}{\\lambda})]$\n",
        "\n",
        "$P_{\\lambda_0}(\\sum_{i=1}^{n} X_i < C^*) + p P_{\\lambda_0}(\\sum_{i=1}^{n} X_i= C^*) = \\alpha_2$\n",
        "\n",
        "$ P_{\\lambda_0}(\\sum_{i=1}^{n} X_i = C^*) = F_{n, \\frac{1}{\\lambda}}(x_\\alpha + 0.01) - F_{n, \\frac{1}{\\lambda}}(x_\\alpha)$\n",
        "\n",
        "$ P_{\\lambda_0}(\\sum_{i=1}^{n} X_i < C^*) = F_{n, \\frac{1}{\\lambda}}(x_\\alpha)$\n",
        "\n",
        "$ p = \\cfrac{\\alpha_2 - F_{n, \\frac{1}{\\lambda}}(x_\\alpha)}{F_{n, \\frac{1}{\\lambda}}(x_\\alpha + 0.01) - F_{n, \\frac{1}{\\lambda}}(x_\\alpha)} $"
      ],
      "metadata": {
        "id": "sq_4EdBiptlo"
      }
    },
    {
      "cell_type": "code",
      "source": [
        "alpha = 0.05\n",
        "c_critical = 149\n",
        "lambda_0 = 0.26\n",
        "while stats.gamma.cdf(c_critical, a=DATA_LEN, scale=1.0/lambda_0) <= alpha:\n",
        "    c_critical += 0.01\n",
        "c_critical -= 0.01\n",
        "p_eq = (stats.gamma.cdf(c_critical + 0.01, a=DATA_LEN, scale=1.0/lambda_0) - stats.gamma.cdf(c_critical, a=DATA_LEN, scale=1.0/lambda_0))\n",
        "p = (alpha - stats.gamma.cdf(c_critical, a=DATA_LEN, scale=1.0/lambda_0)) / p_eq\n",
        "\n",
        "print(\"p:\", round(p, 3))\n",
        "print(\"c*:\", round(c_critical, 2))\n",
        "print(\"∑xi:\", sum(DATA))"
      ],
      "metadata": {
        "colab": {
          "base_uri": "https://localhost:8080/"
        },
        "id": "9wJg-Dqcb1GO",
        "outputId": "b7fbd0e6-3a41-4457-ab49-d72a679cabf9"
      },
      "execution_count": 12,
      "outputs": [
        {
          "output_type": "stream",
          "name": "stdout",
          "text": [
            "p: 0.436\n",
            "c*: 149.86\n",
            "∑xi: 100.18\n"
          ]
        }
      ]
    },
    {
      "cell_type": "markdown",
      "source": [
        "$\\displaystyle \\sum_{i=1}^{n}X_{i} = 100.18 < C^* = 149.86 \\quad \\Longrightarrow$ отвергаем гипотезу $H_0$\n",
        "\n",
        "$\\phi(\\overrightarrow X) = \\begin{cases}\n",
        "  0, \\sum_{i=1}^{n} X_i > 149.86 \\\\\n",
        "  0.436, \\sum_{i=1}^{n} X_i = 149.86 \\\\\n",
        "  1, \\sum_{i=1}^{n} X_i < 149.86\n",
        "\\end{cases} $\n",
        "\n",
        "Теперь попробуем поменять местами основную и альтернативную гипотезу:\n",
        "\n",
        "Наиболее мощный критерий имеет вид:\n",
        "\n",
        "$\\phi(X) = \\begin{cases}\n",
        "  0, LR(X, \\lambda_0, \\lambda_1) < C \\\\\n",
        "  p, LR(X, \\lambda_0, \\lambda_1) = C \\\\\n",
        "  1, LR(X, \\lambda_0, \\lambda_1) > C\n",
        "\\end{cases} $\n",
        "\n",
        "$LR(X,\\lambda_0,\\lambda_1) = \\cfrac{L\\left(X,\\lambda_0 \\right)}{L\\left( X,\\lambda_1 \\right)}= \\cfrac{\\lambda_0^n \\exp(-\\lambda_0 \\sum_{i=1}^{n}X_i )}{\\lambda_1^n \\exp(-\\lambda_1 \\sum_{i=1}^{n}X_i )} = \\begin{pmatrix}\\cfrac{λ_0}{\\lambda_1}\\end{pmatrix}^{n}\\cdot exp(-(\\lambda_0 - \\lambda_1)\\sum_{i=1}^{n}X_i)$\n",
        "\n",
        "$LR(X, 0.26, 0.36) = 0.722^n \\cdot e^{0.1 \\sum_{i=1}^{n}X_i}$\n",
        "\n",
        "⟹ Наиболее мощный критерий:\n",
        "\n",
        "$\\phi(X) = \\begin{cases}\n",
        "  0, 0.722^n \\cdot e^{0.1 \\sum_{i=1}^{n} X_i} < C \\\\\n",
        "  p, 0.722^n \\cdot e^{0.1 \\sum_{i=1}^{n} X_i} = C \\\\\n",
        "  1, 0.722^n \\cdot e^{0.1 \\sum_{i=1}^{n} X_i} > C\n",
        "\\end{cases} $\n",
        "\n",
        "$T = \\sum_{i=1}^{n}X_i - МДС $\n",
        "\n",
        "$ 0.722^n \\cdot e^{0.1 \\sum_{i=1}^{n}X_i} > C $\n",
        "\n",
        "$ n \\cdot ln(0.722) + 0.1 \\cdot \\sum_{i=1}^{n}X_i > ln(C) $\n",
        "\n",
        "$ \\sum_{i=1}^{n}X_i > \\cfrac{ln(C) - n \\cdot ln(0.722)}{0.1}$\n",
        "\n",
        "Пусть $ C^* = \\cfrac{ ln(C) - n \\cdot ln(0.722)}{0.1}$\n",
        "\n",
        "Критерий:\n",
        "\n",
        "$\\phi(\\overrightarrow X) = \\begin{cases}\n",
        "  0, \\sum_{i=1}^{n} X_i < C^* \\\\\n",
        "  p, \\sum_{i=1}^{n} X_i = C^* \\\\\n",
        "  1, \\sum_{i=1}^{n} X_i > C^*\n",
        "\\end{cases} $\n",
        "\n",
        "Находим $C^*$ и $p$:\n",
        "\n",
        "$P_{\\lambda_0}(\\sum_{i=1}^{n} X_i > C^*) + p P_{\\lambda_0}(\\sum_{i=1}^{n} X_i= C^*) = \\alpha_2$\n",
        "\n",
        "$ P_{\\lambda_0}(\\sum_{i=1}^{n} X_i > C^*) = 1 -P_{\\lambda_0}(\\sum_{i=1}^{n} X_i \\le C^*) = [X_i \\sim Gamma(1, \\frac{1}{\\lambda}) → \\sum_{i=1}^{n} X_i \\sim Gamma(n, \\frac{1}{\\lambda})] = 1 - F_{n, \\frac{1}{\\lambda}}(x_\\alpha) < \\alpha_2$\n",
        "\n",
        "$ P_{\\lambda_0}(\\sum_{i=1}^{n} X_i = C^*) = F_{n, \\frac{1}{\\lambda}}(x_\\alpha) - F_{n, \\frac{1}{\\lambda}}(x_\\alpha - 0.01)$\n",
        "\n",
        "$ p = \\cfrac{\\alpha_2 - 1 + F_{n, \\frac{1}{\\lambda}}(x_\\alpha)}{F_{n, \\frac{1}{\\lambda}}(x_\\alpha) - F_{n, \\frac{1}{\\lambda}}(x_\\alpha - 0.01)} $"
      ],
      "metadata": {
        "id": "JtTN0Zrk4GHt"
      }
    },
    {
      "cell_type": "code",
      "source": [
        "alpha = 0.05\n",
        "c_critical = 172\n",
        "lambda_1 = 0.36\n",
        "\n",
        "while 1 - stats.gamma.cdf(c_critical, a=DATA_LEN, scale=1.0/lambda_1) >= alpha:\n",
        "    c_critical += 0.01\n",
        "\n",
        "p_eq = stats.gamma.cdf(c_critical, a=DATA_LEN, scale=1.0/lambda_1) - stats.gamma.cdf(c_critical - 0.01, a=DATA_LEN, scale=1.0/lambda_1)\n",
        "\n",
        "p = (alpha - 1 + stats.gamma.cdf(c_critical, a=DATA_LEN, scale=1.0/lambda_1)) / p_eq\n",
        "\n",
        "print(\"p:\", round(p, 3))\n",
        "print(\"c*:\", round(c_critical, 2))\n",
        "print(\"∑xi:\", sum(DATA))"
      ],
      "metadata": {
        "colab": {
          "base_uri": "https://localhost:8080/"
        },
        "id": "LEHzDbLl52Fs",
        "outputId": "7f11cf81-f95c-450b-d7ab-56871311a20b"
      },
      "execution_count": 13,
      "outputs": [
        {
          "output_type": "stream",
          "name": "stdout",
          "text": [
            "p: 0.262\n",
            "c*: 172.7\n",
            "∑xi: 100.18\n"
          ]
        }
      ]
    },
    {
      "cell_type": "markdown",
      "source": [
        "$\\displaystyle \\sum_{i=1}^{n}X_{i} = 100.18 < C^* = 172.70 \\quad \\Longrightarrow$ принимаем гипотезу $H_1$\n",
        "\n",
        "$\\phi(\\overrightarrow X) = \\begin{cases}\n",
        "  0, \\sum_{i=1}^{n} X_i < 172.70 \\\\\n",
        "  0.262, \\sum_{i=1}^{n} X_i = 172.70 \\\\\n",
        "  1, \\sum_{i=1}^{n} X_i > 172.70\n",
        "\\end{cases} $\n",
        "\n",
        "c*) Плотность гамма распределения:\n",
        "$p_λ(x) = \\cfrac{\\sqrt{λ}⋅exp(-\\lambda x/2)}{\\sqrt{2πx}}$\n",
        "\n",
        "Найдем оценку $\\lambda$ по методу максимального правдоподобия:\n",
        "\n",
        "$L(X, \\theta) = \\displaystyle \\prod_{i = 1}^{n} \\cfrac{ \\sqrt{\\lambda}e^{-\\lambda x_i /2}}{\\sqrt{2 \\pi x_i}} \\mathbb{I}_{\\{x_i \\ge 0\\}}$\n",
        "\n",
        "Так как в выборке все $x \\ge 0$, то можем опустить индикаторную функцию\n",
        "\n",
        "$ L(X;\\theta) = \\displaystyle \\prod_{i = 1}^{n} \\cfrac{ \\sqrt{\\lambda}e^{-\\lambda x /2}}{\\sqrt{2 \\pi x}} = \\cfrac{\\lambda^{n/2}}{(2 \\pi)^{n/2} \\prod_{i=1}^{n} \\sqrt{x_i}} \\exp(-\\frac{\\lambda}{2} \\sum_{i=1}^{n}x_i ) $\n",
        "\n",
        "$ LL(X;\\theta) = \\cfrac{n}{2} \\cdot \\ln(\\lambda) - \\cfrac{n}{2} \\cdot ln(2 \\pi) - \\cfrac{1}{2} \\cdot ln(\\displaystyle \\prod_{i=1}^{n} x_i) - \\cfrac{\\lambda}{2} \\displaystyle\\sum_{i=1}^{n}x_I$\n",
        "\n",
        "$ \\cfrac{\\partial LL(X;\\theta) }{\\partial \\lambda } = \\cfrac{n}{2 \\lambda} - \\cfrac{1}{2} \\displaystyle \\sum_{i=1}^{n}x_i = 0\n",
        "\\Longrightarrow \\hat{\\lambda} = \\cfrac{n}{\\sum_{i=1}^{n}x_i} = \\cfrac{1}{\\overline{X}} $\n",
        "\n",
        "$ \\hat{\\theta} = \\hat{\\lambda} $\n",
        "\n",
        "Таким образом: $\\hat{\\lambda} = \\cfrac{1}{2.0036} = 0.499 $\n",
        "\n",
        "Найдем оценку по ОММ:\n",
        "\n",
        "Первый момент $\\mathbb{E}X_1 = \\left[ \\alpha = \\frac{1}{2}, \\beta = \\frac{2}{\\lambda} \\right] = \\cfrac{1}{2} \\cdot \\cfrac{2}{\\lambda} = \\cfrac{1}{\\lambda}$\n",
        "\n",
        "Приравниваем к эмпирическому моменту выборки $M = \\overline X \\Longrightarrow \\hat \\theta = \\hat \\lambda = \\cfrac{1}{\\overline X} = 0.499$\n",
        "\n",
        "Найдем теперь смещение оценки:\n",
        "\n",
        "$\\mathbb{E}_\\lambda \\cfrac{n}{\\sum_{i=1}^{n} x_i} = n \\mathbb{E}_\\lambda (\\sum_{i=1}^{n} x_i)^{-1} = \\left[ x_i \\sim \\mathop{\\mathrm{Gamma}}\\nolimits(\\frac{1}{2}, \\frac{2}{\\lambda}) \\rightarrow \\sum_{i=1}^{n}x_i \\sim \\mathop{\\mathrm{Gamma}}\\nolimits(\\frac{n}{2}, \\frac{2}{\\lambda}) \\right] = \\left[ \\alpha = \\frac{n}{2}, \\gamma = -1, \\beta = \\frac{2}{\\lambda} \\right] = n \\frac{\\lambda}{2} \\frac{Г(\\frac{n}{2}-1)}{Г(\\frac{n}{2})} = \\lambda \\cfrac{n}{n-2} $\n",
        "\n",
        "Получаем НРМД оценку: $\\tilde \\lambda = \\hat \\lambda \\cdot \\cfrac{n-2}{n} $\n",
        "\n",
        "d*) $\\theta = λ \\quad \\hat{\\lambda} = \\cfrac{1}{\\overline{X}} -$ ОМП\n",
        "\n",
        " Информация Фишера: $Ι_n(λ) = -𝔼\\begin{pmatrix}\\frac{\\partial^2{LL}}{\\partial{λ}^2}\\end{pmatrix}$\n",
        "\n",
        " Из предыдущего пункта знаем, что  $\\displaystyle\\frac{\\partial{LL}}{\\partial{λ}} = \\cfrac{n}{2 \\lambda} - \\cfrac{1}{2} \\displaystyle \\sum_{i=1}^{n}x_i ⟹ \\frac{\\partial^2{LL}}{\\partial{λ^2}} = -\\frac{n}{2λ^2} ⟹ Ι_n(λ)=𝔼\\begin{pmatrix}\\cfrac{n}{2λ^2}\\end{pmatrix} = \\cfrac{n}{2λ^2}$\n",
        "\n",
        " $Ι(λ) = \\cfrac{1}{2λ^2} ⇒ Ι(\\widehat θ) = \\cfrac{1}{2\\overline{X}^2} = \\cfrac{1}{2 \\cdot 2.0036^2} = 0.1246$\n",
        "\n",
        "$\\sqrt{n \\cdot Ι(\\widehat \\theta)} \\left(\\widehat{\\theta}(X) - \\theta \\right) \\sim \\mathcal{N}(0, 1)$\n",
        "\n",
        " Выбираем $x_{\\alpha} : \\Phi(x_{\\alpha}) = 1 - \\frac{\\alpha}{2} = 1 - \\frac{0.05}{2} = 0.975$\n",
        "\n",
        " $x_\\alpha = 1.96$\n",
        "\n",
        " Асимптотический доверительный интервал: $ \\left[\\widehat{\\theta}(X) - \\cfrac{x_{\\alpha}}{\\sqrt{n \\cdot Ι(\\widehat \\theta)}}; \\widehat{\\theta}(X) + \\cfrac{x_{\\alpha}}{\\sqrt{n \\cdot Ι(\\widehat \\theta)}} \\right] $\n",
        "\n",
        " $\\left[0.499 - \\cfrac{1.96}{\\sqrt{50 \\cdot 0.1246}}; 0.499 + \\cfrac{1.96}{\\sqrt{50 \\cdot 0.1246}}\\right] \\ni \\lambda$\n",
        "\n",
        " $[-0.2863; 1.2843]\\ni \\lambda$\n",
        "\n",
        "e*) Статистика критерия Колмогорова:\n",
        "\n",
        " $D_n = sup_{x \\in \\mathbb{R}}|F_n(x) - F(x)|$, где $F_n$ - выборочная функция распределения\n",
        "\n",
        " По теореме Колмогорова: $P_{F_0}(\\sqrt{n} \\cdot D_n) \\rightarrow K(x), x \\in \\mathbb{R}$, где $K(x)$ - функция распределения Колмогорова\n",
        "\n",
        " Критерий уровня значимости $\\alpha$:\n",
        "\n",
        " $\\tilde \\phi = \\begin{cases}\n",
        " 0, \\hat D_n \\le x_\\alpha;\\\\\n",
        " 1, \\hat D_n > x_\\alpha;   \n",
        " \\end{cases}$\n",
        "\n",
        " $x_\\alpha: K_n(x_\\alpha) = 1 - \\alpha_2 = 1 - 0.05 = 0.95$"
      ],
      "metadata": {
        "id": "wSPDxoip4FLm"
      }
    },
    {
      "cell_type": "code",
      "source": [
        "def point_e2_():\n",
        "  x_alpha = ksone.ppf(0.95, DATA_LEN)\n",
        "  print('Значение x_alpha:', round(x_alpha, 4))\n",
        "  lambda_0 = 0.26\n",
        "  X = np.arange(0, 14)\n",
        "  #эмпирическая функция распределения\n",
        "  F_n = np.array([np.sum(DATA < x)/DATA_LEN for x in X])\n",
        "  #функция распределения гамма распределения\n",
        "  F_0 = np.array([gamma.cdf(x, a=0.5, scale=2/lambda_0) for x in X])\n",
        "  diff = np.abs(F_n - F_0)\n",
        "  D_n = max(diff)\n",
        "  print('Значение статистики критерия Колмогорова:', round(D_n, 4))\n",
        "  a_max = 1 - ksone.cdf(D_n, DATA_LEN)\n",
        "  print('Наибольший уровень значимости, при котором еще нет оснований отвергнуть гипотезу:', round(a_max, 4))\n",
        "\n",
        "\n",
        "point_e2_()"
      ],
      "metadata": {
        "colab": {
          "base_uri": "https://localhost:8080/"
        },
        "id": "OAt1KiFnfbNq",
        "outputId": "8c73eecc-023f-405c-995a-416e2c733603"
      },
      "execution_count": 14,
      "outputs": [
        {
          "output_type": "stream",
          "name": "stdout",
          "text": [
            "Значение x_alpha: 0.1696\n",
            "Значение статистики критерия Колмогорова: 0.2301\n",
            "Наибольший уровень значимости, при котором еще нет оснований отвергнуть гипотезу: 0.0041\n"
          ]
        }
      ]
    },
    {
      "cell_type": "markdown",
      "source": [
        "Так как $ \\hat{D_n} > x_{\\alpha} $, то гипотеза $H_0$ отвергается\n",
        "\n",
        "f*) Статистика критерия: $X^2 = \\displaystyle\\sum_{i=0}^r\\frac{(ν_i - np_\\mathrm{i_0})^2}{np_\\mathrm{i_0}}$\n",
        "\n",
        "Асимптотическое распределение при основной гипотезе: $X^2 ⇒ \\chi^2_\\mathrm{r-1}$\n",
        "\n",
        "Асимптотический критерий уровня значимости $α:\\\\ \\phi(X) = \\begin{cases}\n",
        "0, X^2≤x_α \\\\\n",
        "1, X^2>x_α\n",
        " \\end{cases} $  \n",
        "\n",
        "где $x_α: K_\\mathrm{r-1}(x_α) = 1-α,\\space K_\\mathrm{r-1}$ - функция распределения $\\chi^2_\\mathrm{r-1}$\n",
        "\n",
        "В нашем случае $α = α_2 = 0.05$\n",
        "\n",
        "Интервалы берем с шагом h = 1.10"
      ],
      "metadata": {
        "id": "a8Tycy-HgbuS"
      }
    },
    {
      "cell_type": "code",
      "source": [
        "lambda_0 = 0.26\n",
        "alpha_2 = 0.05\n",
        "\n",
        "def get_probabilities_gamma(bins, lmbda):\n",
        "  probabilities = []\n",
        "  for i in range(1, len(bins)):\n",
        "    probabilities.append(gamma.cdf(bins[i], a=0.5, scale=2/lmbda) - gamma.cdf(bins[i-1], a=0.5, scale=2/lmbda))\n",
        "  return probabilities\n",
        "\n",
        "bins = np.arange(min(DATA), max(DATA) + h, h)\n",
        "print('Интервалы:', bins)\n",
        "frequencies = np.array([np.sum(DATA < bins[i]) for i in range(1, len(bins))])\n",
        "for i in range(len(frequencies)-1, 0, -1):\n",
        "  frequencies[i] -= frequencies[i-1]\n",
        "print('Абсолютные частоты:', frequencies)\n",
        "probabilities = get_probabilities_gamma(bins, lambda_0)\n",
        "print('Вероятности:', [round(p, 4) for p in probabilities])\n",
        "criterion_statistics = get_criterion_statistics(frequencies, probabilities)\n",
        "print('Значение критерия статистики:', round(criterion_statistics, 4))\n",
        "print('Значение х альфа:', round(chi2.ppf(1 - alpha_2, len(probabilities) - 1), 4))\n",
        "print('При каком наибольшем уровне значимости еще нет оснований отвергнуть гипотезу:',\n",
        "        1 - chi2.cdf(criterion_statistics, len(probabilities) - 1))"
      ],
      "metadata": {
        "colab": {
          "base_uri": "https://localhost:8080/"
        },
        "id": "pa6Vv4mCgiLW",
        "outputId": "cd690498-1b2d-4687-9ebb-5444d52f416a"
      },
      "execution_count": 15,
      "outputs": [
        {
          "output_type": "stream",
          "name": "stdout",
          "text": [
            "Интервалы: [ 0.   1.1  2.2  3.3  4.4  5.5  6.6  7.7  8.8  9.9 11.  12.1]\n",
            "Абсолютные частоты: [33  2  2  2  5  0  3  2  0  0  1]\n",
            "Вероятности: [0.4072, 0.1433, 0.0952, 0.0695, 0.053, 0.0416, 0.0331, 0.0267, 0.0217, 0.0178, 0.0147]\n",
            "Значение критерия статистики: 21.4481\n",
            "Значение х альфа: 18.307\n",
            "При каком наибольшем уровне значимости еще нет оснований отвергнуть гипотезу: 0.018176666953291676\n"
          ]
        }
      ]
    },
    {
      "cell_type": "markdown",
      "source": [
        "Так как $X^2 > x_\\alpha$ - гипотеза отвергается\n",
        "\n",
        " g*) В случае сложной гипотезы так же находятся абсолютные частоты, вероятности, статистика критерия, но в этом случае вероятность и статистика критерия зависят от параметра, точнее являются функциями от параметра, то есть зафиксировать $λ$ мы не можем,  а должны найти его такое значение, что значение $X^2$ минимально.\n",
        "\n",
        "Таким образом: $X^2(θ) = \\displaystyle\\sum_{i=0}^r\\frac{(ν_i - np_\\mathrm{i_0}(θ))^2}{np_\\mathrm{i_0}(θ)}$\n",
        "\n",
        "Статистика критерия: $\\widetilde{X^2} = \\underset{θ \\in 𝚯_0}{min}X^2(θ)$\n",
        "\n",
        "Для того, чтобы найти минимальный $λ$ воспользуемся графическим способом. Заранее графическим способом уже было выявлено, что $X^2(θ)$ имеет один минимум, где-то в районе 0.35 и 0.45, найдем значение минимума с точностью 0.0001 перебрав все значения в этой области. Код представлен ниже"
      ],
      "metadata": {
        "id": "tn4HjwrmhY5d"
      }
    },
    {
      "cell_type": "code",
      "source": [
        "def draw_graphic_gamma(ax, freq):\n",
        "    bins = np.arange(min(DATA), max(DATA) + h, h)\n",
        "    x = np.arange(0.25, 0.45, 0.0001)\n",
        "    y = []\n",
        "    min_y = 20000\n",
        "    min_x = 0\n",
        "    for i in x:\n",
        "        probabilities = get_probabilities_gamma(bins, i)\n",
        "        val = get_criterion_statistics(freq, probabilities)\n",
        "        y.append(val)\n",
        "        if val < min_y:\n",
        "            min_y = val\n",
        "            min_x = i\n",
        "    ax.plot(x, y)\n",
        "    print('Используемый параметр:', round(min_x, 4))\n",
        "    return min_y\n",
        "\n",
        "fig = plt.figure()\n",
        "ax = fig.add_subplot(111)\n",
        "criterion_statistics = draw_graphic_gamma(ax, frequencies)\n",
        "print('Значение критерия статистики:', round(criterion_statistics, 4))\n",
        "print('Значение х альфа:', round(chi2.ppf(alpha_1, len(frequencies)), 4))\n",
        "print('При каком наибольшем уровне значимости еще нет оснований отвергнуть гипотезу:',\n",
        "        1- chi2.cdf(criterion_statistics, len(frequencies)))\n",
        "plt.show()\n"
      ],
      "metadata": {
        "colab": {
          "base_uri": "https://localhost:8080/",
          "height": 499
        },
        "id": "-FqQOcX5hfYh",
        "outputId": "9204b763-19cd-4ef0-88b9-4ad65690bf49"
      },
      "execution_count": 16,
      "outputs": [
        {
          "output_type": "stream",
          "name": "stdout",
          "text": [
            "Используемый параметр: 0.3545\n",
            "Значение критерия статистики: 19.6678\n",
            "Значение х альфа: 4.5748\n",
            "При каком наибольшем уровне значимости еще нет оснований отвергнуть гипотезу: 0.05011061267913686\n"
          ]
        },
        {
          "output_type": "display_data",
          "data": {
            "text/plain": [
              "<Figure size 640x480 with 1 Axes>"
            ],
            "image/png": "[encoded data removed]"
          },
          "metadata": {}
        }
      ]
    },
    {
      "cell_type": "markdown",
      "source": [
        "h*) $\\lambda_0 = 0.26, \\; \\lambda_1 = 0.36, \\; \\alpha_2 = 0.05$\n",
        "\n",
        "$ H_0 : X \\sim Gamma(\\frac{1}{2}; \\frac{2}{\\lambda_0}), \\\\\n",
        "H_A : X \\sim Gamma(\\frac{1}{2}; \\frac{2}{\\lambda_1})$\n",
        "\n",
        "Наиболее мощный критерий проверки гипотезы $H_0$ при альтернативе $H_A$ имеет вид:\n",
        "\n",
        "$\\phi(X) = \\begin{cases}\n",
        "  0, LR(X, \\lambda_1, \\lambda_0) < C \\\\\n",
        "  p, LR(X, \\lambda_1, \\lambda_0) = C \\\\\n",
        "  1, LR(X, \\lambda_1, \\lambda_0) > C\n",
        "\\end{cases} $\n",
        "\n",
        "$LR(X,\\lambda_1,\\lambda_0) = \\cfrac{L\\left(X,\\lambda_1 \\right)}{L\\left( X,\\lambda_0 \\right)}= \\cfrac{\\cfrac{\\lambda_1^{n/2}}{(2 \\pi)^{n/2} \\prod_{i=1}^{n} \\sqrt{x_i}} \\exp(-\\frac{\\lambda_1}{2} \\sum_{i=1}^{n}x_i )}{\\cfrac{\\lambda_0^{n/2}}{(2 \\pi)^{n/2} \\prod_{i=1}^{n} \\sqrt{x_i}} \\exp(-\\frac{\\lambda_0}{2} \\sum_{i=1}^{n}x_i )} = \\begin{pmatrix}\\cfrac{λ_1}{\\lambda_0}\\end{pmatrix}^{n/2}\\cdot exp(-\\frac{1}{2}(\\lambda_1 - \\lambda_0)\\sum_{i=1}^{n}x_i)$\n",
        "\n",
        "$LR(X, 0.36, 0.26) = 1.385^{n/2} \\cdot e^{-0.05 \\sum_{i=1}^{n}x_i}$\n",
        "\n",
        "⟹ Наиболее мощный критерий:\n",
        "\n",
        "$\\phi(X) = \\begin{cases}\n",
        "  0, 1.385^{n/2} \\cdot e^{-0.05 \\sum_{i=1}^{n}x_i} < C \\\\\n",
        "  p, 1.385^{n/2} \\cdot e^{-0.05 \\sum_{i=1}^{n}x_i} = C \\\\\n",
        "  1, 1.385^{n/2} \\cdot e^{-0.05 \\sum_{i=1}^{n}x_i} > C\n",
        "\\end{cases} $\n",
        "\n",
        "$T = \\sum_{i=1}^{n}x_i - МДС $\n",
        "\n",
        "$ 1.385^{n/2} \\cdot e^{-0.05 \\sum_{i=1}^{n}x_i} > C $\n",
        "\n",
        "$ \\frac{n}{2} \\cdot ln(1.385) - 0.05 \\cdot \\sum_{i=1}^{n}x_i > ln(C) $\n",
        "\n",
        "$ \\sum_{i=1}^{n}x_i <  \\cfrac{ -ln(C) + \\frac{n}{2} \\cdot ln(1.385)}{0.05}$\n",
        "\n",
        "Пусть $ C^* = \\cfrac{ -ln(C) + \\frac{n}{2} \\cdot ln(1.385)}{0.05}$\n",
        "\n",
        "Критерий:\n",
        "\n",
        "$\\phi(\\overrightarrow X) = \\begin{cases}\n",
        "  0, \\sum_{i=1}^{n}x_i > C^* \\\\\n",
        "  p, \\sum_{i=1}^{n}x_i = C^* \\\\\n",
        "  1, \\sum_{i=1}^{n}x_i < C^*\n",
        "\\end{cases} $\n",
        "\n",
        "Находим $C^*$ и $p$:\n",
        "\n",
        "$P_{\\lambda_0}(\\sum_{i=1}^{n}x_i < C^*) + p P_{\\lambda_0}(\\overline X = C^*) = \\alpha_2$\n",
        "\n",
        "$P_{\\lambda_0}(\\sum_{i=1}^{n}x_i = C^*) = $\n",
        "\n",
        "$ P_{\\lambda_0}(\\sum_{i=1}^{n}x_i < C^*) = F_{\\frac{n}{2}, \\frac{2}{\\lambda_0}}(x_\\alpha) < \\alpha_2$\n",
        "\n",
        "$P_{\\lambda_0}(\\sum_{i=1}^{n}x_i = C^*) = F_{\\frac{n}{2}, \\frac{2}{\\lambda_0}}(x_\\alpha + 0.01) - F_{\\frac{n}{2}, \\frac{2}{\\lambda_0}}(x_\\alpha)$\n",
        "\n",
        "$ p = \\cfrac{\\alpha_2 - F_{\\frac{n}{2}, \\frac{2}{\\lambda_0}}(x_\\alpha)}{F_{\\frac{n}{2}, \\frac{2}{\\lambda_0}}(x_\\alpha + 0.01) - F_{\\frac{n}{2}, \\frac{2}{\\lambda_0}}(x_\\alpha)} $"
      ],
      "metadata": {
        "id": "ZJRkjGilistU"
      }
    },
    {
      "cell_type": "code",
      "source": [
        "alpha = 0.05\n",
        "c_critical = 0\n",
        "lambda_0 = 0.26\n",
        "\n",
        "while stats.gamma.cdf(c_critical, a=DATA_LEN/2, scale=2.0/lambda_0) < alpha:\n",
        "    c_critical += 0.01\n",
        "c_critical -= 0.01\n",
        "\n",
        "p_eq = stats.gamma.cdf(c_critical + 0.01, a=DATA_LEN/2, scale=2.0/lambda_0) - stats.gamma.cdf(c_critical, a=DATA_LEN/2, scale=2.0/lambda_0)\n",
        "\n",
        "p = (alpha - stats.gamma.cdf(c_critical, a=DATA_LEN/2, scale=2.0/lambda_0)) / p_eq\n",
        "\n",
        "print(\"p:\", round(p, 3))\n",
        "print(\"c*:\", round(c_critical, 2))\n",
        "print(\"∑xi:\", sum(DATA))"
      ],
      "metadata": {
        "colab": {
          "base_uri": "https://localhost:8080/"
        },
        "id": "TrsgY7nyJon0",
        "outputId": "32e1128a-d6dd-4f0e-92f3-ddbcd346ad60"
      },
      "execution_count": 18,
      "outputs": [
        {
          "output_type": "stream",
          "name": "stdout",
          "text": [
            "p: 0.866\n",
            "c*: 133.7\n",
            "∑xi: 100.18\n"
          ]
        }
      ]
    },
    {
      "cell_type": "markdown",
      "source": [
        "$\\displaystyle \\sum_{i=1}^{n}X_{i} = 100.18 < C^* = 133.70 \\quad \\Longrightarrow$ отвергаем гипотезу $H_0$\n",
        "\n",
        "$\\phi(\\overrightarrow X) = \\begin{cases}\n",
        "  0, \\sum_{i=1}^{n} X_i > 133.70 \\\\\n",
        "  0.866, \\sum_{i=1}^{n} X_i = 133.70 \\\\\n",
        "  1, \\sum_{i=1}^{n} X_i < 133.70\n",
        "\\end{cases} $\n",
        "\n",
        "Поменяем местами основную и альтернативную гипотезу\n",
        "\n",
        "$\\phi(X) = \\begin{cases}\n",
        "  0, LR(X, \\lambda_0, \\lambda_1) < C \\\\\n",
        "  p, LR(X, \\lambda_0, \\lambda_1) = C \\\\\n",
        "  1, LR(X, \\lambda_0, \\lambda_1) > C\n",
        "\\end{cases} $\n",
        "\n",
        "$LR(X,\\lambda_0,\\lambda_1) = \\cfrac{L\\left(X,\\lambda_0 \\right)}{L\\left( X,\\lambda_1 \\right)}= \\cfrac{\\cfrac{\\lambda_0^{n/2}}{(2 \\pi)^{n/2} \\prod_{i=1}^{n} \\sqrt{x_i}} \\exp(-\\frac{\\lambda_0}{2} \\sum_{i=1}^{n}x_i )}{\\cfrac{\\lambda_1^{n/2}}{(2 \\pi)^{n/2} \\prod_{i=1}^{n} \\sqrt{x_i}} \\exp(-\\frac{\\lambda_1}{2} \\sum_{i=1}^{n}x_i )} = \\begin{pmatrix}\\cfrac{λ_0}{\\lambda_1}\\end{pmatrix}^{n/2}\\cdot exp(-\\frac{1}{2}(\\lambda_0 - \\lambda_1)\\sum_{i=1}^{n}x_i)$\n",
        "\n",
        "$LR(X, 0.26, 0.36) = 0.722^{n/2} \\cdot e^{0.05 \\sum_{i=1}^{n}x_i}$\n",
        "\n",
        "⟹ Наиболее мощный критерий:\n",
        "\n",
        "$\\phi(X) = \\begin{cases}\n",
        "  0, 0.722^{n/2} \\cdot e^{0.05 \\sum_{i=1}^{n}x_i} < C \\\\\n",
        "  p, 0.722^{n/2} \\cdot e^{0.05 \\sum_{i=1}^{n}x_i} = C \\\\\n",
        "  1, 0.722^{n/2} \\cdot e^{0.05 \\sum_{i=1}^{n}x_i} > C\n",
        "\\end{cases} $\n",
        "\n",
        "$T = \\sum_{i=1}^{n}x_i - МДС $\n",
        "\n",
        "$ 0.722^{n/2} \\cdot e^{0.05 \\sum_{i=1}^{n}x_i} > C $\n",
        "\n",
        "$ \\frac{n}{2} \\cdot ln(0.722) + 0.05 \\cdot \\sum_{i=1}^{n}x_i > ln(C) $\n",
        "\n",
        "$ \\sum_{i=1}^{n}x_i > \\cfrac{ ln(C) - \\frac{n}{2} \\cdot ln(0.722)}{0.05}$\n",
        "\n",
        "Пусть $ C^* = \\cfrac{ln(C) - \\frac{n}{2} \\cdot ln(0.722)}{0.05}$\n",
        "\n",
        "Критерий:\n",
        "\n",
        "$\\phi(\\overrightarrow X) = \\begin{cases}\n",
        "  0, \\sum_{i=1}^{n}x_i < C^* \\\\\n",
        "  p, \\sum_{i=1}^{n}x_i = C^* \\\\\n",
        "  1, \\sum_{i=1}^{n}x_i > C^*\n",
        "\\end{cases} $\n",
        "\n",
        "Находим $C^*$ и $p$:\n",
        "\n",
        "$P_{\\lambda_1}(\\sum_{i=1}^{n}x_i > C^*) + p P_{\\lambda_1}(\\sum_{i=1}^{n}x_i = C^*) = \\alpha_2$\n",
        "\n",
        "$ P_{\\lambda_0}(\\sum_{i=1}^{n}x_i > C^*) = 1 - F_{\\frac{n}{2}, \\frac{2}{\\lambda_0}}(x_\\alpha) < \\alpha_2$\n",
        "\n",
        "$P_{\\lambda_0}(\\sum_{i=1}^{n}x_i = C^*) = F_{\\frac{n}{2}, \\frac{2}{\\lambda_0}}(x_\\alpha + 0.01) - F_{\\frac{n}{2}, \\frac{2}{\\lambda_0}}(x_\\alpha)$\n",
        "\n",
        "$ p = \\cfrac{\\alpha_2 - 1 + F_{\\frac{n}{2}, \\frac{2}{\\lambda_0}}(x_\\alpha)}{F_{\\frac{n}{2}, \\frac{2}{\\lambda_0}}(x_\\alpha + 0.01) - F_{\\frac{n}{2}, \\frac{2}{\\lambda_0}}(x_\\alpha)} $"
      ],
      "metadata": {
        "id": "Mmbzc5z8Knr2"
      }
    },
    {
      "cell_type": "code",
      "source": [
        "alpha = 0.05\n",
        "c_critical = 0\n",
        "lambda_1 = 0.36\n",
        "\n",
        "while 1 - stats.gamma.cdf(c_critical, a=DATA_LEN/2, scale=2.0/lambda_1) >= alpha:\n",
        "    c_critical += 0.01\n",
        "\n",
        "p_eq = stats.gamma.cdf(c_critical, a=DATA_LEN/2, scale=2.0/lambda_1) - stats.gamma.cdf(c_critical - 0.01, a=DATA_LEN/2, scale=2.0/lambda_1)\n",
        "\n",
        "p = (alpha - 1 + stats.gamma.cdf(c_critical, a=DATA_LEN/2, scale=2.0/lambda_1)) / p_eq\n",
        "\n",
        "print(\"p:\", round(p, 3))\n",
        "print(\"c*:\", round(c_critical, 2))\n",
        "print(\"∑xi:\", sum(DATA))"
      ],
      "metadata": {
        "colab": {
          "base_uri": "https://localhost:8080/"
        },
        "id": "VZOe7NFoVkPb",
        "outputId": "be250df9-99e7-4734-f1bc-20889135a6b3"
      },
      "execution_count": 19,
      "outputs": [
        {
          "output_type": "stream",
          "name": "stdout",
          "text": [
            "p: 0.665\n",
            "c*: 187.52\n",
            "∑xi: 100.18\n"
          ]
        }
      ]
    },
    {
      "cell_type": "markdown",
      "source": [
        "$\\displaystyle \\sum_{i=1}^{n}X_{i} = 100.18 < C^* = 187.52 \\quad \\Longrightarrow$ принимаем гипотезу $H_A$\n",
        "\n",
        "$\\phi(\\overrightarrow X) = \\begin{cases}\n",
        "  0, \\sum_{i=1}^{n} X_i < 187.52 \\\\\n",
        "  0.665, \\sum_{i=1}^{n} X_i = 187.52 \\\\\n",
        "  1, \\sum_{i=1}^{n} X_i < 187.52\n",
        "\\end{cases} $\n"
      ],
      "metadata": {
        "id": "jfrBkDmAXTr6"
      }
    },
    {
      "cell_type": "markdown",
      "metadata": {
        "id": "mvrKNNIL9atS"
      },
      "source": [
        "## Выводы\n",
        "\n",
        "В результате данной лабораторной работы были освоены основные теоретические положения статистического анализа данных. Было изучено применение различных выборочных числовых характеристик. Была проделана работа с оценкой максимального правдоподобия (ОМП) и оценкой метода моментов (ОММ).\n",
        "Также изучены асимптотические доверительные интервалы, основанные на асимптотической нормальности оценок и информации Фишера. Были изучены критерии  Хи-квадрат и Колмогорова для проверки гипотез о распределении данных. Также изучен принцип построения наиболее мощного критерия для простых гипотез на основе статистики отношения функций правдоподобия.\n"
      ]
    }
  ],
  "metadata": {
    "kernelspec": {
      "display_name": "Python 3",
      "language": "python",
      "name": "python3"
    },
    "language_info": {
      "codemirror_mode": {
        "name": "ipython",
        "version": 3
      },
      "file_extension": ".py",
      "mimetype": "text/x-python",
      "name": "python",
      "nbconvert_exporter": "python",
      "pygments_lexer": "ipython3",
      "version": "3.8.10"
    },
    "colab": {
      "provenance": []
    }
  },
  "nbformat": 4,
  "nbformat_minor": 0
}