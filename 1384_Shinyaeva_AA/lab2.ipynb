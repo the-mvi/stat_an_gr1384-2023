{
  "nbformat": 4,
  "nbformat_minor": 0,
  "metadata": {
    "colab": {
      "provenance": [],
      "collapsed_sections": [
        "pJZSBptzuis4",
        "jQrcTYsBVGY2",
        "ibAEuZiwWo03",
        "-KioELLFU2ao",
        "7oGd1e5tclza",
        "dZJR9y7R8VWM",
        "dMQRKyj-yUNE"
      ]
    },
    "kernelspec": {
      "name": "python",
      "display_name": "python"
    },
    "language_info": {
      "name": "python"
    }
  },
  "cells": [
    {
      "cell_type": "markdown",
      "source": [
        "# Лабораторная работа №2: Классические методы мат. статистики\n",
        "### Выполнила студентка гр. 1384 Шиняева Анастасия. Вариант №22"
      ],
      "metadata": {
        "id": "RUfxQaE_1qID"
      }
    },
    {
      "cell_type": "markdown",
      "source": [
        "## Цель работы\n",
        "### Научиться применять методы математической статистики для решения задач статистического анализа. Сформировать навыки реализации методов с помощью прикладных программных пакетов."
      ],
      "metadata": {
        "id": "UkwwkLxOVsww"
      }
    },
    {
      "cell_type": "markdown",
      "source": [
        "## Основные теоретические положения\n",
        "### Вариационный ряд – ранжированный в порядке возрастания ряд\n",
        "\n",
        "### Эмпирическая функция распределения - это функция, которая определяет для каждого значения x частоту событий X<x и предназначена для оценки теоретической функции распределения генеральной совокупности.\n",
        "\n",
        "### Гистограмма частот – это фигура, состоящая из прямоугольников, ширина которых равна длинам частичных интервалов, а высота – соответствующим плотностям частот.\n",
        "\n",
        "### Выборочный аналог математического ожидания - выборочное среднее:\n",
        "### $\\overline{X} =\\frac{1}{n}\\sum_{i=1}^{n}x_i$\n",
        "\n",
        "### Выборочный аналог дисперсии и СКО - выборочная дисперсия и выборочное СКО:\n",
        "\n",
        "### $S^2 =\\frac{1}{n}\\sum_{i=1}^{n}\\left(x_i-\\overline{X}\\right)$\n",
        "\n",
        "### $S=\\sqrt{S^2}$\n",
        "\n",
        "### Выборочный коэффициент асимметрии:\n",
        "### $\\widehat{\\mathrm{Skew}}X=\\frac{1}{n}\\frac{\\sum \\limits_{i=1}^{n}\\left(x_i-\\overline{X}\\right)^3}{S^3}$\n",
        "\n",
        "### Выборочный коэффициент эксцесса:\n",
        "### $\\widehat{\\mathrm{Kurt}}X=\\frac{1}{n}\\frac{\\sum \\limits_{i=1}^{n}\\left(x_i-\\overline{X}\\right)^4}{S^4}-3$\n",
        "\n",
        "### Метод максимального правдоподобия - это метод оценивания неизвестного параметра путём максимизации функции правдоподобия $L(\\overrightarrow{X},\\theta)=\\prod_{i=1}^{n}P_{\\theta}(X_{i})$\n",
        "\n",
        "### Метод моментов — метод оценки неизвестных параметров распределений, идея метода заключается в замене истинных соотношений выборочными аналогами.\n",
        "\n",
        "### Асиптотический доверительный интервал:\n",
        "### $\\left[ \\widehat{\\theta}(\\overrightarrow{X})-\\frac{X_{\\alpha}}{\\sqrt{n\\cdot I\\left( \\widehat{\\theta}(\\overrightarrow{X}) \\right)}};\\widehat{\\theta}(\\overrightarrow{X})+\\frac{X_{\\alpha}}{\\sqrt{n\\cdot I\\left( \\widehat{\\theta}(\\overrightarrow{X}) \\right)}} \\right]$\n",
        "\n",
        "### Статисктика Хи-квадрат:  $\\chi^{2} = \\sum \\limits_{i=1}^{N} \\frac{(n_{i} - p_{i} n)^{2}}{n p_{i}} $\n",
        "\n",
        "### Статистика критерия Колмогорова: $D_n = sup_{x \\in \\mathbb{R}}|F_n(x) - F_0(x)|$\n",
        "\n",
        "### Теорема Колмогорова: $\\sqrt{n}D_n \\rightarrow K, при \\, основной \\, гипотезе$\n",
        "\n",
        "### Статистика отношений правдоподобия:\n",
        "### $LR(\\overrightarrow{X},\\theta_{1},\\theta_{0})=\\frac{L(\\overrightarrow{X},\\theta_{1})}{L(\\overrightarrow{X},\\theta_{0})}$\n",
        "\n",
        "### $LR(\\overrightarrow{X},\\theta_{1},\\theta_{0}) > c=> принимаем\\, основную\\, гипотезу$\n",
        "\n",
        "### $LR(\\overrightarrow{X},\\theta_{1},\\theta_{0}) < c=> отвергаем\\, основную\\, гипотезу$"
      ],
      "metadata": {
        "id": "qJet-vzWWrh4"
      }
    },
    {
      "cell_type": "markdown",
      "source": [
        "## Постановка задачи\n",
        "### Для полученных в результате эксперимента наборов данных выполнить статистическую обработку. Полученные результаты содержательно проинтерпретировать."
      ],
      "metadata": {
        "id": "kRjVofC_fbqK"
      }
    },
    {
      "cell_type": "markdown",
      "source": [
        "## Выполнение работы"
      ],
      "metadata": {
        "id": "U6UUzyVAHJJ1"
      }
    },
    {
      "cell_type": "code",
      "execution_count": null,
      "metadata": {
        "id": "QMEMOonIxmb6"
      },
      "outputs": [],
      "source": [
        "import numpy as np\n",
        "import matplotlib.pyplot as plt\n",
        "from scipy import stats\n",
        "from scipy import optimize as opt\n",
        "import seaborn as sns"
      ]
    },
    {
      "cell_type": "markdown",
      "source": [
        "### **Задание 1**"
      ],
      "metadata": {
        "id": "HPnFcbFJCgPP"
      }
    },
    {
      "cell_type": "markdown",
      "source": [
        "### Загруженная выборка:"
      ],
      "metadata": {
        "id": "EVlwty47CCdW"
      }
    },
    {
      "cell_type": "code",
      "source": [
        "dataset = np.array([0, 0, 1, 0, 2, 0, 0, 2, 0, 2, 1, 1, 0, 2, 1, 0, 2, 0, 0, 0, 1, 1, 2, 1, 1, 2, 0, 0, 0, 2, 1, 0, 2, 0, 2, 0, 0, 0, 0, 1, 0, 2, 0, 1, 0, 0, 0, 1, 1, 0])\n",
        "dataset"
      ],
      "metadata": {
        "id": "_OpZow8ZBM9a",
        "colab": {
          "base_uri": "https://localhost:8080/"
        },
        "outputId": "2ee55655-2b5b-46a4-c837-3ea3cfb43a64"
      },
      "execution_count": null,
      "outputs": [
        {
          "output_type": "execute_result",
          "data": {
            "text/plain": [
              "array([0, 0, 1, 0, 2, 0, 0, 2, 0, 2, 1, 1, 0, 2, 1, 0, 2, 0, 0, 0, 1, 1,\n",
              "       2, 1, 1, 2, 0, 0, 0, 2, 1, 0, 2, 0, 2, 0, 0, 0, 0, 1, 0, 2, 0, 1,\n",
              "       0, 0, 0, 1, 1, 0])"
            ]
          },
          "metadata": {},
          "execution_count": 51
        }
      ]
    },
    {
      "cell_type": "markdown",
      "source": [
        "### a) Построить вариационный ряд, эмпирическую функцию распределения и гистограмму частот."
      ],
      "metadata": {
        "id": "UJjI-DpMfXnO"
      }
    },
    {
      "cell_type": "markdown",
      "source": [
        "### a.1) Вариационный ряд"
      ],
      "metadata": {
        "id": "C-T2j-7HCSGN"
      }
    },
    {
      "cell_type": "code",
      "source": [
        "variational_series = np.sort(dataset)\n",
        "print(variational_series)"
      ],
      "metadata": {
        "colab": {
          "base_uri": "https://localhost:8080/"
        },
        "id": "WXUeGwchCQdt",
        "outputId": "21cee9c0-3038-4c9e-efc1-72a4780b04c7"
      },
      "execution_count": null,
      "outputs": [
        {
          "output_type": "stream",
          "name": "stdout",
          "text": [
            "[0 0 0 0 0 0 0 0 0 0 0 0 0 0 0 0 0 0 0 0 0 0 0 0 0 0 1 1 1 1 1 1 1 1 1 1 1\n",
            " 1 1 2 2 2 2 2 2 2 2 2 2 2]\n"
          ]
        }
      ]
    },
    {
      "cell_type": "markdown",
      "source": [
        "### a.2) Эмпирическая функция распределения"
      ],
      "metadata": {
        "id": "FmdlKhEaDnx4"
      }
    },
    {
      "cell_type": "code",
      "source": [
        "ECDF = lambda dataset, x: len(dataset[dataset < x])/len(dataset)\n",
        "sns.ecdfplot(data=variational_series)\n",
        "None"
      ],
      "metadata": {
        "colab": {
          "base_uri": "https://localhost:8080/",
          "height": 435
        },
        "id": "FVb8gRkh8BuW",
        "outputId": "48cdd171-cd19-4acb-c133-f653859a4da4"
      },
      "execution_count": null,
      "outputs": [
        {
          "output_type": "display_data",
          "data": {
            "text/plain": [
              "<Figure size 640x480 with 1 Axes>"
            ],
            "image/png": "[encoded data removed]"
          },
          "metadata": {}
        }
      ]
    },
    {
      "cell_type": "markdown",
      "source": [
        "### a.3) Гистограмма частот"
      ],
      "metadata": {
        "id": "NziZaWvhNUT8"
      }
    },
    {
      "cell_type": "code",
      "source": [
        "values, counts = np.unique(dataset, return_counts=True)\n",
        "print(counts)\n",
        "counts = [x/len(dataset) for x in counts]\n",
        "counts"
      ],
      "metadata": {
        "colab": {
          "base_uri": "https://localhost:8080/"
        },
        "id": "Lu9lCiQs2pf3",
        "outputId": "5f177029-9049-4d58-d12a-2c26c71a2213"
      },
      "execution_count": null,
      "outputs": [
        {
          "output_type": "stream",
          "name": "stdout",
          "text": [
            "[26 13 11]\n"
          ]
        },
        {
          "output_type": "execute_result",
          "data": {
            "text/plain": [
              "[0.52, 0.26, 0.22]"
            ]
          },
          "metadata": {},
          "execution_count": 54
        }
      ]
    },
    {
      "cell_type": "code",
      "source": [
        "plt.bar(values, counts, align='center', edgecolor='b')\n",
        "None"
      ],
      "metadata": {
        "colab": {
          "base_uri": "https://localhost:8080/",
          "height": 430
        },
        "id": "J1Zd3RFpPe4T",
        "outputId": "358cd699-ce4c-44e9-dfdc-86724b0adbf7"
      },
      "execution_count": null,
      "outputs": [
        {
          "output_type": "display_data",
          "data": {
            "text/plain": [
              "<Figure size 640x480 with 1 Axes>"
            ],
            "image/png": "[encoded data removed]"
          },
          "metadata": {}
        }
      ]
    },
    {
      "cell_type": "markdown",
      "source": [
        "### b) Вычислить аналоги выборочных числовых характеристик"
      ],
      "metadata": {
        "id": "USWl1L19fCtI"
      }
    },
    {
      "cell_type": "markdown",
      "source": [
        "### Mean $= \\frac{1}{n}\\sum_{i=1}^{n}X_i$\n",
        "\n",
        "### Variance [unbiased] $=\\frac{1}{n-1}\\sum_{i=1}^{n}(X_i- \\bar{X})^2$\n",
        "\n",
        "### std $= \\sqrt{\\frac{1}{n}\\sum_{i=1}^{n}(X_i- \\bar{X})^2}$\n",
        "\n",
        "### Variance [biased] $=\\frac{1}{n}\\sum_{i=1}^{n}(X_i- \\bar{X})^2$\n",
        "\n",
        "### Empirical Probability $= EPr(X \\in [a, b]) = ECDF(b) -ECDF(a)$\n",
        "\n",
        "### Median  $\\begin{cases} if \\text{ n is odd}, {\\displaystyle \\mathrm {median} (x)=x_{(n+1)/2}} \\\\ if \\text{ n  is even}, {\\displaystyle \\mathrm {median} (x)={\\frac {x_{(n/2)}+x_{((n/2)+1)}}{2}}}{\\displaystyle} \\end{cases}$\n",
        "\n",
        "### Skewness [Fisher-Pearson] = ${\\displaystyle \\frac{\\frac{1}{N} \\sum\\limits^{N}_{n=1}(x[n]-\\bar{x})^3}{(\\sqrt{\\frac{1}{N} \\sum\\limits^{N}_{n=1}(x[n]-\\bar{x})^2})^3}}$\n",
        "\n",
        "### Kurtosis = ${\\displaystyle \\frac{\\hat \\mu_4}{\\hat \\sigma^4}}$"
      ],
      "metadata": {
        "id": "gH0VGJarQdK_"
      }
    },
    {
      "cell_type": "code",
      "source": [
        "print(\"Мат. ожидание: \", np.mean(dataset))\n",
        "print(\"СКО: \", np.std(dataset))\n",
        "print(\"Дисперсия [biased]: \", np.std(dataset) ** 2)\n",
        "print(\"Дисперсия [unbiased]: \", 1/(len(dataset)-1)*sum([(dataset[i] - dataset.mean())**2 for i in range(len(dataset))]))\n",
        "print(\"Медиана: \", np.median(dataset))\n",
        "print(\"Ассиметрия: \", stats.skew(dataset))\n",
        "print(\"Эксцесса: \", stats.kurtosis(dataset))"
      ],
      "metadata": {
        "colab": {
          "base_uri": "https://localhost:8080/"
        },
        "id": "o3d45EK4aVlv",
        "outputId": "49ce1924-f73b-42b0-ed88-60402c7b6520"
      },
      "execution_count": null,
      "outputs": [
        {
          "output_type": "stream",
          "name": "stdout",
          "text": [
            "Мат. ожидание:  0.7\n",
            "СКО:  0.806225774829855\n",
            "Дисперсия [biased]:  0.6500000000000001\n",
            "Дисперсия [unbiased]:  0.6632653061224486\n",
            "Медиана:  0.0\n",
            "Ассиметрия:  0.5953667260282006\n",
            "Эксцесса:  -1.212307692307693\n"
          ]
        }
      ]
    },
    {
      "cell_type": "markdown",
      "source": [
        "### $P(X \\in [0, 0.87]) = P(0 \\le X \\le 0.87) = \\hat{F}(0.87^+) - \\hat{F}(0) = \\hat{F}(0.87) - \\hat{F}(0) = 0.52$"
      ],
      "metadata": {
        "id": "fII3EE49wS0E"
      }
    },
    {
      "cell_type": "markdown",
      "source": [
        "### с) Посчитать оценки для лямбды, методом моментов, ОМП, найти смещение оценки"
      ],
      "metadata": {
        "id": "jdysCr2dTp-K"
      }
    },
    {
      "cell_type": "markdown",
      "source": [
        "### ОМП для $\\lambda$\n",
        "### <center> $f(k, \\lambda) = \\frac{\\lambda^k e^{-\\lambda}}{k!}$\n",
        "\n",
        "\n",
        "### <center> $L(\\overrightarrow{k}, \\lambda) = \\prod_{i=1}^{n}\\frac{\\lambda^{k_i} e^{-\\lambda}}{{k_i}!} = \\frac{\\prod_{i=1}^{n}(\\lambda^{k_i} e^{-\\lambda})}{\\prod_{i=1}^{n}{k_i}!} = \\frac{\\lambda^{\\sum_{i=1}^{n}k_i} e^{-\\lambda n}}{\\prod_{i=1}^{n}{k_i}!} $\n",
        "\n",
        "### <center> $LL(\\overrightarrow{k}, \\lambda) = log(\\lambda)\\sum_{i=1}^{n}k_i - \\lambda n - \\sum_{i=1}^{n}log({k_i}!) $\n",
        "\n",
        "### <center> $\\frac{\\partial LL}{\\partial \\lambda} = \\sum_{i=1}^{n}k_i\\frac{1}{\\lambda} - n = 0 $\n",
        "\n",
        "\n",
        "### <center>$\\hat{\\lambda} = \\frac{\\sum_{i=1}^{n}k_i}{n} = \\bar{X}$"
      ],
      "metadata": {
        "id": "4g7-l2gsajwx"
      }
    },
    {
      "cell_type": "markdown",
      "source": [
        "### Оценка через метод моментов для $\\lambda$\n",
        "### <center> 1 параметр - 1 уравнение.\n",
        "### <center> $M_1 = g_1 \\Rightarrow \\begin{cases} M_1 = E[X] = \\lambda \\\\ g_1 = \\bar{X} \\end{cases} \\Rightarrow \\hat{\\lambda} = \\bar{X}$"
      ],
      "metadata": {
        "id": "IUsJWyNUiC7J"
      }
    },
    {
      "cell_type": "markdown",
      "source": [
        "### Проверка на смещенность\n",
        "### <center> $E[\\hat{\\lambda}]= E[\\bar{X}] = E[\\frac{\\sum_{i=1}^{n}k_i}{n}] = \\frac{1}{n}\\sum_{i=1}^{n}E[k_i]= \\frac{1}{n}\\sum_{i=1}^{n} \\lambda =  \\frac{n \\lambda}{n} = \\lambda$\n",
        "\n",
        "### <center> $bias(\\hat{\\lambda}, \\lambda) = 0$"
      ],
      "metadata": {
        "id": "ptOdEIhH7uZ5"
      }
    },
    {
      "cell_type": "markdown",
      "source": [
        "### d) Построить асимптотический довверительный интервал уровня значимости $\\alpha_1[=0.1]$ для параметра $\\lambda$ на базе ОМП"
      ],
      "metadata": {
        "id": "pJZSBptzuis4"
      }
    },
    {
      "cell_type": "markdown",
      "source": [
        "### Наша ОМП оценка:\n",
        "### <center> $\\hat{\\lambda} = \\bar{X}$\n",
        "### Оценки ОМП асимптотически нормальны, что значит:\n",
        "### <center> $\\sqrt{n}(\\hat{\\lambda}-\\lambda) \\stackrel{d}{\\rightarrow} \\mathcal{N}(0, \\sigma^2(\\lambda))$\n",
        "### В нашем случае:\n",
        "### <center> $\\sqrt{n}(\\bar{X}-\\lambda) \\stackrel{d}{\\rightarrow} \\mathcal{N}(0, \\lambda)$\n",
        "### Перейдем к стандартному нормальному:\n",
        "### <center> $\\frac{\\sqrt{n}}{\\sqrt{\\lambda}}(\\bar{X}- \\lambda) \\stackrel{d}{\\rightarrow} \\mathcal{N}(0, 1)$\n",
        "### Интервал асимптотический, значит имеем право использовать состоятельную оценку дисперсии.\n",
        "### <center> $\\frac{\\sqrt{n}}{S}(\\bar{X}- \\lambda) \\stackrel{d}{\\rightarrow} \\mathcal{N}(0, 1)$\n",
        "### Значения квантилей получим из:\n",
        "### <center> $z_{\\alpha} : CDF(z_{\\alpha}) = 1 - \\frac{\\alpha}{2}$\n",
        "### В нашем случае:\n",
        "### <center> $z_{\\alpha} : CDF(z_{\\alpha}) = 0.95$\n",
        "### Построим доверительный интервал\n",
        "### <center> $P(-z_{\\alpha} \\leq \\frac{\\sqrt{n}}{S}(\\bar{X} - \\lambda) \\leq z_{\\alpha}) = 1 - \\alpha$\n",
        "### Решим его относительно параметра:\n",
        "### <center> $P(\\bar{X} - \\frac{z_{\\alpha}{S}}{\\sqrt{n}} \\geq  \\lambda \\geq \\bar{X} + \\frac{z_{\\alpha}{S}}{\\sqrt{n}}) = 1 - \\alpha$\n",
        "### Полученный АДИ:\n",
        "### <center> $[\\bar{X} - \\frac{z_{\\alpha}{S}}{\\sqrt{n}}, \\bar{X} + \\frac{z_{\\alpha}{S}}{\\sqrt{n}}]$\n",
        "### Подстави чиселки:\n",
        "### <center> $[0.7 - \\frac{1.64 \\cdot 0.65}{7.07}, 0.7 + \\frac{1.64 \\cdot 0.65}{7.07}]$\n",
        "### Получим:\n",
        "### <center> $[0.56, 0.84]$\n"
      ],
      "metadata": {
        "id": "OYskos_m4Pop"
      }
    },
    {
      "cell_type": "markdown",
      "source": [
        "### e) Используя гистограмму частот, построить критерий значимости $\\chi^2$ проверки простой гипотезы согласия с распределением $Pois(\\lambda_0)$;\n",
        "### Проверить гипотезу на уровне значимости $\\alpha_1$;\n",
        "### Вычислить наибольшее значение уровня значимости, на котором еще нет оснований отвергнуть данную гипотезу."
      ],
      "metadata": {
        "id": "QQgQF9P2yyLh"
      }
    },
    {
      "cell_type": "code",
      "source": [
        "emp_values = (([0], 0.52), ([1], 0.26), ([2, \"inf\"], 0.22))\n",
        "emp_values"
      ],
      "metadata": {
        "colab": {
          "base_uri": "https://localhost:8080/"
        },
        "id": "etplF0OLAMOc",
        "outputId": "cff8a478-86a6-4886-aaf7-32a76771382f"
      },
      "execution_count": null,
      "outputs": [
        {
          "output_type": "execute_result",
          "data": {
            "text/plain": [
              "(([0], 0.52), ([1], 0.26), ([2, 'inf'], 0.22))"
            ]
          },
          "metadata": {},
          "execution_count": 57
        }
      ]
    },
    {
      "cell_type": "code",
      "source": [
        "# Теоретические значения:\n",
        "x = [[0],[1],[2, \"inf\"]]\n",
        "y = [stats.poisson.pmf(k=0,loc=0,mu=0.7), stats.poisson.pmf(k=1,loc=0,mu=0.7)]\n",
        "y.append(1 - sum(y))\n",
        "theor_values = tuple(zip(x,y))\n",
        "theor_values[2][1] * 50\n",
        "theor_values"
      ],
      "metadata": {
        "colab": {
          "base_uri": "https://localhost:8080/"
        },
        "id": "GCG__aUX-92s",
        "outputId": "6d9271b6-7d43-4baf-eb2e-9dd08e3e5441"
      },
      "execution_count": null,
      "outputs": [
        {
          "output_type": "execute_result",
          "data": {
            "text/plain": [
              "(([0], 0.4965853037914095),\n",
              " ([1], 0.34760971265398666),\n",
              " ([2, 'inf'], 0.15580498355460382))"
            ]
          },
          "metadata": {},
          "execution_count": 58
        }
      ]
    },
    {
      "cell_type": "code",
      "source": [
        "tmp = [ (pow(emp_values[i][1] - theor_values[i][1], 2))  / theor_values[i][1] for i in range(3)]\n",
        "chi_squared = 50 * sum(tmp)\n",
        "chi_squared, tmp"
      ],
      "metadata": {
        "colab": {
          "base_uri": "https://localhost:8080/"
        },
        "id": "O2msDw5rEumD",
        "outputId": "bc72d14b-5a99-4a9b-b2e3-101da902be61"
      },
      "execution_count": null,
      "outputs": [
        {
          "output_type": "execute_result",
          "data": {
            "text/plain": [
              "(2.481722839526581,\n",
              " [0.0011040358914263667, 0.022080688403992674, 0.026449732495112583])"
            ]
          },
          "metadata": {},
          "execution_count": 59
        }
      ]
    },
    {
      "cell_type": "markdown",
      "source": [
        "### По заданию нам надо проверить следующую гипотезу:\n",
        "### <center> $H_0:\\lambda=0.7 [Poisson]$\n",
        "### <center> $H_A:\\lambda \\neq 0.7 [Poisson]$"
      ],
      "metadata": {
        "id": "M3aXghHV8iaP"
      }
    },
    {
      "cell_type": "markdown",
      "source": [
        "### Разбитие образа СВ на k непересекающихся интервалов\n",
        "### <center> $\\Delta = \\{0\\} \\cup \\{1\\} \\cup \\{2, ...\\}$"
      ],
      "metadata": {
        "id": "hxVBqxUMp2L-"
      }
    },
    {
      "cell_type": "markdown",
      "source": [
        "### Наш критерий $\\chi^2$ :\n",
        "### <center> $\\chi^2 = N \\cdot \\sum\\limits_{i=1}^{k}\\frac{(p_i^* - p_i)^2}{p_i}$\n",
        "### В нашем случае:\n",
        "### <center> $\\chi^2 = N \\cdot \\sum\\limits_{i=1}^{3}\\frac{(p_i^* - p_i)^2}{p_i} = \\frac{(0.52-0.49)^2}{0.49}  + \\frac{(0.26-0.34)^2}{0.34} + \\frac{(0.22-0.15)^2}{0.15} \\approx 2.481 $\n",
        "### Число степеней свободы:\n",
        "### <center> r = k - 1 = 3 - 1 = 2\n",
        "### Критическая область, исходя из таблицы, при $\\alpha_1 = 0.1$ и $r = 2$ начинается с 4.605\n",
        "### <center> $2.481 < 4.605$ основную гипотезу стоит принять"
      ],
      "metadata": {
        "id": "vxjFgjxZ42DI"
      }
    },
    {
      "cell_type": "markdown",
      "source": [
        "### Из таблички наибольшее значение уровня значимости, на котором еще нет оснований отвергнуть данную гипотезу:\n",
        "### <center> p-value = 0.2892"
      ],
      "metadata": {
        "id": "bxxf4wIeUani"
      }
    },
    {
      "cell_type": "markdown",
      "source": [
        "### f) Построить критерий значимости $\\chi^2$ проверки сложной гипотезы согласия с распределением Пуассона;\n",
        "### Проверить гипотезу на уровне значимости  $\\alpha_1$;\n",
        "### Вычислить наибольшее значение уровня значимости, на ктором еще нет оснований отвергнуть данную гипотезу;"
      ],
      "metadata": {
        "id": "jQrcTYsBVGY2"
      }
    },
    {
      "cell_type": "markdown",
      "source": [
        "### Разбитие образа СВ на k непересекающихся интервалов\n",
        "### <center> $\\Delta = \\{0\\} \\cup \\{1\\} \\cup \\{2, ...\\}$"
      ],
      "metadata": {
        "id": "VWt1mZjVPJoi"
      }
    },
    {
      "cell_type": "markdown",
      "source": [
        "### Минимизирование $\\chi^2$\n",
        "### <center> $\\underset{\\lambda}{argmin} \\sum\\limits_{i=1}^r \\frac{(\\nu_i - np_i(\\lambda))}{np_i(\\lambda)}$"
      ],
      "metadata": {
        "id": "awRsOqV2Pej7"
      }
    },
    {
      "cell_type": "code",
      "source": [
        "def chi2(lmbda):\n",
        "    p1 = stats.poisson.pmf(0, loc=0, mu=lmbda)\n",
        "    p2 = stats.poisson.pmf(1, loc=0, mu=lmbda)\n",
        "    p3 = 1 - p1 -p2\n",
        "    obs = [26, 13, 11]\n",
        "    n = 50\n",
        "    chi2 = 0\n",
        "    chi2 += (obs[0] - n * p1)**2/(n * p1)\n",
        "    chi2 += (obs[1] - n * p2)**2/(n * p2)\n",
        "    chi2 += (obs[2] - n * p3)**2/(n * p3)\n",
        "    return chi2\n"
      ],
      "metadata": {
        "id": "IUlOJ1oIGJir"
      },
      "execution_count": null,
      "outputs": []
    },
    {
      "cell_type": "code",
      "source": [
        "opt.minimize(x0=2, fun=chi2, bounds=[(0, None)])"
      ],
      "metadata": {
        "id": "HLTUB3WpFe6N",
        "colab": {
          "base_uri": "https://localhost:8080/"
        },
        "outputId": "edac2f97-822f-4a57-fda4-95adbc20aa9a"
      },
      "execution_count": null,
      "outputs": [
        {
          "output_type": "execute_result",
          "data": {
            "text/plain": [
              "  message: CONVERGENCE: NORM_OF_PROJECTED_GRADIENT_<=_PGTOL\n",
              "  success: True\n",
              "   status: 0\n",
              "      fun: 2.090182527033611\n",
              "        x: [ 7.709e-01]\n",
              "      nit: 7\n",
              "      jac: [ 5.773e-07]\n",
              "     nfev: 16\n",
              "     njev: 8\n",
              " hess_inv: <1x1 LbfgsInvHessProduct with dtype=float64>"
            ]
          },
          "metadata": {},
          "execution_count": 61
        }
      ]
    },
    {
      "cell_type": "markdown",
      "source": [
        "### df = 3 - 1 - 1 = 1"
      ],
      "metadata": {
        "id": "_Vk33JcUfhU_"
      }
    },
    {
      "cell_type": "markdown",
      "source": [
        "### <center> $\\chi^2_{est} \\approx 2.09 < \\chi^2_{crit}= 2.706$ основную гипотезу принимаем"
      ],
      "metadata": {
        "id": "jJ7WUGJyNmRb"
      }
    },
    {
      "cell_type": "markdown",
      "source": [
        "### <center> $p-value = 0.1483$"
      ],
      "metadata": {
        "id": "ad02Pn4jQpD1"
      }
    },
    {
      "cell_type": "markdown",
      "source": [
        "### g) РНМ для пуассона с параметрами:\n",
        "### $\\lambda_0 = 0.7$\n",
        "### $\\lambda_1 = 1.4$\n",
        "### $\\alpha_1 = 0.1$"
      ],
      "metadata": {
        "id": "ibAEuZiwWo03"
      }
    },
    {
      "cell_type": "markdown",
      "source": [
        "### <center> $L(\\overrightarrow{k}, \\lambda_0) = \\prod_{i=1}^{n}\\frac{\\lambda_0^{k_i} e^{-\\lambda_0}}{{k_i}!} = \\frac{\\prod_{i=1}^{n}(\\lambda_0^{k_i} e^{-\\lambda_0})}{\\prod_{i=1}^{n}{k_i}!} = \\frac{\\lambda_0^{\\sum_{i=1}^{n}k_i} e^{-\\lambda_0 n}}{\\prod_{i=1}^{n}{k_i}!}$\n",
        "\n",
        "### <center> $\\frac{L(\\overrightarrow{k}, \\lambda_0)}{L(\\overrightarrow{k}, \\lambda_1)} = \\frac{\\frac{\\lambda_0^{\\sum_{i=1}^{n}k_i} e^{-\\lambda_0 n}}{\\prod_{i=1}^{n}{k_i}!}}{\\frac{\\lambda_1^{\\sum_{i=1}^{n}k_i} e^{-\\lambda_1 n}}{\\prod_{i=1}^{n}{k_i}!}} = \\frac{\\lambda_0^{\\sum_{i=1}^{n}k_i} e^{-\\lambda_0n}}{\\lambda_1^{\\sum_{i=1}^{n}k_i} e^{-\\lambda_1n}} \\ge D'$\n",
        "\n",
        "### <center> $\\sum\\limits_{i=1}^nk_i \\cdot log(\\frac{\\lambda_0}{\\lambda_1} ) + n(\\lambda_1 - \\lambda_0)\\ge D''$\n",
        "\n",
        "### <center> $ \\sum\\limits_{i=1}^nk_i \\cdot log(\\frac{\\lambda_0}{\\lambda_1} ) \\ge D'''$\n",
        "\n",
        "### <center> $\\sum\\limits_{i=1}^nk_i \\le D$ $[\\text{при } \\lambda_0 = 0.7 \\text{ и } \\lambda_1 =  1.4]$\n",
        "\n",
        "### <center> $\\sum\\limits_{i=1}^nk_i \\ge D$ $[\\text{при } \\lambda_0 = 1.4 \\text{ и } \\lambda_1 =  0.7]$\n",
        "\n",
        "\n",
        "\n",
        "\n"
      ],
      "metadata": {
        "id": "Rn3HHBOeXL-a"
      }
    },
    {
      "cell_type": "markdown",
      "source": [
        "### Вычисление квантилей приближенно, по ЦПТ\n",
        "\n",
        "### $\\frac{\\sqrt n (\\bar X - \\lambda_0)}{\\sqrt \\lambda_0} → N(0, 1) [по расп.]$\n",
        "### $\\alpha = P_{\\lambda_0}(\\sum\\limits_{i=1}^n k_i \\ge D) = P_{\\lambda_0}(\\frac{\\sqrt{n} (\\bar{X} - \\lambda_0)}{\\sqrt \\lambda_0} \\ge \\frac{\\sqrt{n} (D/n - \\lambda_0)}{\\sqrt \\lambda_0})$\n",
        "### $\\frac{\\sqrt n}{\\sqrt \\lambda_0}(\\frac{D}{n} - \\lambda_0) \\approx z_{1-\\alpha} \\Rightarrow D \\approx n \\cdot \\lambda_0 + \\sqrt{n\\lambda_0}\\cdot z_{1-\\alpha}$\n"
      ],
      "metadata": {
        "id": "LaotXtB4tTSY"
      }
    },
    {
      "cell_type": "markdown",
      "source": [
        "### Для $$\\sum\\limits_{i=1}^n k_i  \\le D$$\n",
        "###$D \\approx n \\cdot \\lambda_0 + \\sqrt{n\\lambda_0}\\cdot z_{\\alpha}$"
      ],
      "metadata": {
        "id": "qgySg4KvxXDl"
      }
    },
    {
      "cell_type": "markdown",
      "source": [
        "$[\\text{при } \\lambda_0 = 0.7 \\text{ и } \\lambda_1 =  1.4]$"
      ],
      "metadata": {
        "id": "RfeANW4loNx0"
      }
    },
    {
      "cell_type": "code",
      "source": [
        "D = 50 * 1.4 + 7.07 * 1.18 * stats.norm.ppf(0.1)\n",
        "D"
      ],
      "metadata": {
        "colab": {
          "base_uri": "https://localhost:8080/"
        },
        "id": "dPcQIDpvxSeI",
        "outputId": "b070e3fb-038b-4c5c-ea11-d45acf4e9de1"
      },
      "execution_count": null,
      "outputs": [
        {
          "output_type": "execute_result",
          "data": {
            "text/plain": [
              "59.30852790928762"
            ]
          },
          "metadata": {},
          "execution_count": 62
        }
      ]
    },
    {
      "cell_type": "markdown",
      "source": [
        "### Основную гипотезу стоит принять"
      ],
      "metadata": {
        "id": "iXZTWS9HyLdl"
      }
    },
    {
      "cell_type": "markdown",
      "source": [
        "$[\\text{при } \\lambda_0 = 1.4 \\text{ и } \\lambda_1 =  0.7]$"
      ],
      "metadata": {
        "id": "HcjUTfCYpIW7"
      }
    },
    {
      "cell_type": "code",
      "source": [
        "D = 50 * 1.4 + 7.07 * 1.18 * stats.norm.ppf(0.9)\n",
        "D"
      ],
      "metadata": {
        "id": "caz1LKrcsVgR",
        "colab": {
          "base_uri": "https://localhost:8080/"
        },
        "outputId": "e6403cc3-0b9a-4226-8ff8-1c67f55b477d"
      },
      "execution_count": null,
      "outputs": [
        {
          "output_type": "execute_result",
          "data": {
            "text/plain": [
              "80.69147209071238"
            ]
          },
          "metadata": {},
          "execution_count": 63
        }
      ]
    },
    {
      "cell_type": "markdown",
      "source": [
        "### Основную гипотезу стоит отклонить"
      ],
      "metadata": {
        "id": "DIazi3FEyXpe"
      }
    },
    {
      "cell_type": "markdown",
      "source": [
        "### h[c]) Посчитать оценки для лямбды, методом моментов, ОМП, найти смещение оценки, но для геометрического"
      ],
      "metadata": {
        "id": "-KioELLFU2ao"
      }
    },
    {
      "cell_type": "markdown",
      "source": [
        "### Нужно  показать, что $λ$ на деле является теоретическим средним $[\\frac{1-p}{p}]$\n",
        "\n",
        "### Дана следующая формула: <center> $Pr(X=k) = \\frac{\\lambda ^ k}{(\\lambda + 1)^{k+1}}, k = 0, 1, ... $\n",
        "\n",
        "### Посмотрев на индексацию k, можно понять, что это случай вероятности количества неудач до первого успеха в схеме Бернулли. Функция распределения без $\\lambda$:\n",
        "\n",
        "### <center> $Pr(X=k)=(1-p)^k p, k = 0, 1, ...$\n",
        "\n",
        "### Пусть $\\lambda = \\frac{1-p}{p}$, тогда:\n",
        "\n",
        "### <center> $\\lambda = \\frac{1-p}{p} = \\frac{1}{p} - 1 \\Rightarrow p = \\frac{1}{\\lambda + 1}$\n",
        "\n",
        "### <center> $(1-p)^k p = (1 - \\frac{1}{\\lambda + 1})^k \\cdot \\frac{1}{\\lambda + 1} = (\\frac{\\lambda +1 -1}{\\lambda + 1})^k \\cdot \\frac{1}{\\lambda + 1} = \\frac{\\lambda^k}{(\\lambda + 1)^k} \\cdot \\frac{1}{\\lambda + 1} = \\frac{\\lambda^k}{(\\lambda + 1)^{k+1}}$\n",
        "\n",
        "### <center> $Q.E.D.$"
      ],
      "metadata": {
        "id": "XuuFYrarWrEH"
      }
    },
    {
      "cell_type": "markdown",
      "source": [
        "### ОМП для $λ$\n",
        "### <center> $Pr(X=k) = \\frac{\\lambda ^ k}{(\\lambda + 1)^{k+1}}, k = 0, 1, ... $\n",
        "\n",
        "\n",
        "### <center> $ L(\\overrightarrow{k}, \\lambda) = \\prod_{i=0}^{n}\\frac{\\lambda ^ {k_i}}{(\\lambda + 1)^{k_i+1}} = \\frac{\\lambda ^ {\\sum_{i=0}^{n}{k_i}}}{(\\lambda + 1)^{{\\sum_{i=0}^{n}{k_i}}+n}} $\n",
        "\n",
        "### <center> $ LL(\\overrightarrow{k}, \\lambda) = log(\\lambda)\\sum_{i=0}^{n}{k_i} - log(\\lambda + 1)(\\sum_{i=0}^{n}{k_i} + n) $\n",
        "### <center> $\\frac{\\partial LL}{\\partial \\lambda} = \\frac{\\sum_{i=0}^{n}{k_i}}{\\lambda} - \\frac{\\sum_{i=0}^{n}{k_i} + n}{\\lambda + 1} = 0 $\n",
        "\n",
        "### <center> $ \\hat{\\lambda} = \\frac{\\sum_{i=0}^{n}{k_i}}{n} = \\bar{X} $"
      ],
      "metadata": {
        "id": "eSpZtktayrbL"
      }
    },
    {
      "cell_type": "markdown",
      "source": [
        "### Оценка через метод моментов для $\\lambda$\n",
        "### <center> 1 параметр - 1 уравнение.\n",
        "### <center> $M_1 = g_1 \\Rightarrow \\begin{cases} M_1 = E[X] = \\frac{1-p}{p} = \\lambda \\\\ g_1 = \\bar{X} \\end{cases} \\Rightarrow \\hat{\\lambda} = \\bar{X}$"
      ],
      "metadata": {
        "id": "lp27CuDNSlh_"
      }
    },
    {
      "cell_type": "markdown",
      "source": [
        "### Проверка на смещенность\n",
        "### <center> $E[\\hat{\\lambda}]= E[\\bar{X}] = E[\\frac{\\sum_{i=0}^{n}k_i}{n}] = \\frac{1}{n}\\sum_{i=0}^{n}E[k_i]= \\frac{1}{n}\\sum_{i=0}^{n} [\\frac{1-p}{p}] = \\frac{1}{n} \\cdot \\frac{n-np}{p} = \\frac{1-p}{p} = \\lambda$\n",
        "### <center> $bias(\\hat{\\lambda}, \\lambda) = 0$"
      ],
      "metadata": {
        "id": "-hLUps0wKKgj"
      }
    },
    {
      "cell_type": "markdown",
      "source": [
        "### h[d]) Построить асимптотический довверительный интервал уровня значимости $\\alpha_1[=0.1]$ для параметра $\\lambda$ на базе ОМП"
      ],
      "metadata": {
        "id": "7oGd1e5tclza"
      }
    },
    {
      "cell_type": "markdown",
      "source": [
        "### Наша ОМП оценка:\n",
        "### <center> $\\hat{\\lambda} = \\bar{X}$\n",
        "### Оценки ОМП асимптотически нормальны, что значит:\n",
        "### <center> $\\sqrt{n}(\\hat{\\lambda}-\\lambda) \\stackrel{d}{\\rightarrow} \\mathcal{N}(0, \\sigma^2(\\lambda))$\n",
        "### В нашем случае:\n",
        "### <center> $\\sqrt{n}(\\bar{X}-\\lambda) \\stackrel{d}{\\rightarrow} \\mathcal{N}(0, \\lambda)$\n",
        "### Стандартное нормальное:\n",
        "### <center> $\\frac{\\sqrt{n}}{\\sqrt{\\lambda}}(\\bar{X}- \\lambda) \\stackrel{d}{\\rightarrow} \\mathcal{N}(0, 1)$\n",
        "### Интервал асимптоитческий, значит есть право использовать состоятельную оценку дисперсии.\n",
        "### <center> $\\frac{\\sqrt{n}}{S}(\\bar{X}- \\lambda) \\stackrel{d}{\\rightarrow} \\mathcal{N}(0, 1)$\n",
        "### Значения квантилей:\n",
        "### <center> $z_{\\alpha} : CDF(z_{\\alpha}) = 1 - \\frac{\\alpha}{2}$\n",
        "### В нашем случае:\n",
        "### <center> $z_{\\alpha} : CDF(z_{\\alpha}) = 0.95$\n",
        "### Построение доверительного интервала:\n",
        "### <center> $P(-z_{\\alpha} \\leq \\frac{\\sqrt{n}}{S}(\\bar{X} - \\lambda) \\leq z_{\\alpha}) = 1 - \\alpha$\n",
        "### Решение относительно параметра:\n",
        "### <center> $P(\\bar{X} - \\frac{z_{\\alpha}{S}}{\\sqrt{n}} \\geq  \\lambda \\geq \\bar{X} + \\frac{z_{\\alpha}{S}}{\\sqrt{n}}) = 1 - \\alpha$\n",
        "### Полученный АДИ:\n",
        "### <center> $[\\bar{X} - \\frac{z_{\\alpha}{S}}{\\sqrt{n}}, \\bar{X} + \\frac{z_{\\alpha}{S}}{\\sqrt{n}}]$\n",
        "### Подставление чисел:\n",
        "### <center> $[0.7 - \\frac{1.64 \\cdot 0.65}{7.07}, 0.7 + \\frac{1.64 \\cdot 0.65}{7.07}]$\n",
        "### Итог:\n",
        "### <center> $[0.56, 0.84]$"
      ],
      "metadata": {
        "id": "p3ILzA9XDUwY"
      }
    },
    {
      "cell_type": "markdown",
      "source": [
        "### h[e]) Используя гистограмму частот, построить критерий значимости  $\\chi^2$  проверки простой гипотезы согласия с распределением  $Geometric(λ_0)$ ;\n",
        "### Проверить гипотезу на уровне значимости $\\alpha_1$;\n",
        "### Вычислить наибольшее значение уровня значимости, на котором еще нет оснований отвергнуть данную гипотезу."
      ],
      "metadata": {
        "id": "dZJR9y7R8VWM"
      }
    },
    {
      "cell_type": "markdown",
      "source": [
        "### По заданию надо проверить следующую гипотезу:\n",
        "### Исходя из того, что $\\lambda_0 = 0.7$ и доказанного выше тождества, $p=\\frac{1}{1.7}$\n",
        "### <center> $H_0:p=\\frac{1}{1.7} [Geometric]$\n",
        "### <center> $H_A:p \\neq \\frac{1}{1.7} [Geometric]$\n"
      ],
      "metadata": {
        "id": "Lz6y275h9DYn"
      }
    },
    {
      "cell_type": "markdown",
      "source": [
        "### Разбиение останется таким же, как и вычисления"
      ],
      "metadata": {
        "id": "O1DijeeVV0V8"
      }
    },
    {
      "cell_type": "code",
      "source": [
        "emp_values = (([0], 0.52), ([1], 0.26), ([2, \"inf\"], 0.22))\n",
        "emp_values"
      ],
      "metadata": {
        "id": "QQ9gZMI9WNol",
        "colab": {
          "base_uri": "https://localhost:8080/"
        },
        "outputId": "8be36c54-4bb5-4c2d-da79-d3df439d949e"
      },
      "execution_count": null,
      "outputs": [
        {
          "output_type": "execute_result",
          "data": {
            "text/plain": [
              "(([0], 0.52), ([1], 0.26), ([2, 'inf'], 0.22))"
            ]
          },
          "metadata": {},
          "execution_count": 64
        }
      ]
    },
    {
      "cell_type": "code",
      "source": [
        "# Теоретические значения:\n",
        "x = [[0],[1],[2, \"inf\"]]\n",
        "y = [stats.geom.pmf(k=0,loc=-1,p=(1/1.7)), stats.geom.pmf(k=1,loc=-1,p=(1/1.7))]\n",
        "y.append(1 - sum(y))\n",
        "theor_values = tuple(zip(x,y))\n",
        "theor_values[2][1] * 50\n",
        "theor_values"
      ],
      "metadata": {
        "id": "n0UzlUfIWOhS",
        "colab": {
          "base_uri": "https://localhost:8080/"
        },
        "outputId": "b8f2f36e-1f6a-48a5-f71d-432e9bcf8a18"
      },
      "execution_count": null,
      "outputs": [
        {
          "output_type": "execute_result",
          "data": {
            "text/plain": [
              "(([0], 0.5882352941176471),\n",
              " ([1], 0.2422145328719723),\n",
              " ([2, 'inf'], 0.16955017301038056))"
            ]
          },
          "metadata": {},
          "execution_count": 65
        }
      ]
    },
    {
      "cell_type": "code",
      "source": [
        "tmp = [ (pow(emp_values[i][1] - theor_values[i][1], 2))  / theor_values[i][1] for i in range(3)]\n",
        "chi_squared = 50 * sum(tmp)\n",
        "chi_squared, tmp"
      ],
      "metadata": {
        "id": "PyQDxZMfWOck",
        "colab": {
          "base_uri": "https://localhost:8080/"
        },
        "outputId": "ef769792-b959-477d-d3f7-706f9f385fd4"
      },
      "execution_count": null,
      "outputs": [
        {
          "output_type": "execute_result",
          "data": {
            "text/plain": [
              "(1.211632653061227,\n",
              " [0.007915294117647059, 0.0013059614434008922, 0.015011397500176587])"
            ]
          },
          "metadata": {},
          "execution_count": 66
        }
      ]
    },
    {
      "cell_type": "markdown",
      "source": [
        "\n",
        "### <center> 1.21 < 4.605 основную гипотезу стоит принять"
      ],
      "metadata": {
        "id": "B13DHqWnYn_c"
      }
    },
    {
      "cell_type": "markdown",
      "source": [
        "### Из таблички наибольшее значение уровня значимости, на котором еще нет оснований отвергнуть данную гипотезу:\n",
        "### <center>  p-value = 0.5461"
      ],
      "metadata": {
        "id": "9qswkVaIYjJF"
      }
    },
    {
      "cell_type": "markdown",
      "source": [
        "### h[f]) построить критерий значимости $\\chi^2$ проверки сложной гипотезы согласия с распределением Пуассона;\n",
        "### Проверитьгипотезу на уровне значимости  $\\alpha_1$;\n",
        "### Вычислить наибольшее значение уровня значимости, на ктором еще нет оснований отвергнуть данную гипотезу;"
      ],
      "metadata": {
        "id": "G24STqGXVVXb"
      }
    },
    {
      "cell_type": "code",
      "source": [
        "def chi2(lmbda):\n",
        "    p1 = stats.geom.pmf(0, loc=-1, p=lmbda)\n",
        "    p2 = stats.geom.pmf(1, loc=-1, p=lmbda)\n",
        "    p3 = 1 - p1 -p2\n",
        "    obs = [26, 13, 11]\n",
        "    n = 50\n",
        "    chi2 = 0\n",
        "    chi2 += (obs[0] - n * p1)**2/(n * p1+1)\n",
        "    chi2 += (obs[1] - n * p2)**2/(n * p2+1)\n",
        "    chi2 += (obs[2] - n * p3)**2/(n * p3+1)\n",
        "    return chi2\n"
      ],
      "metadata": {
        "id": "IqnR2UrjViPa"
      },
      "execution_count": null,
      "outputs": []
    },
    {
      "cell_type": "code",
      "source": [
        "opt.minimize(x0=0.5, fun=chi2, bounds=[(0, 1)])\n"
      ],
      "metadata": {
        "id": "t8_bDRwDXIaO",
        "colab": {
          "base_uri": "https://localhost:8080/"
        },
        "outputId": "306cdf14-9ca8-4a7d-dffb-5f2c66b284d0"
      },
      "execution_count": null,
      "outputs": [
        {
          "output_type": "execute_result",
          "data": {
            "text/plain": [
              "  message: CONVERGENCE: NORM_OF_PROJECTED_GRADIENT_<=_PGTOL\n",
              "  success: True\n",
              "   status: 0\n",
              "      fun: 0.028703529717375525\n",
              "        x: [ 5.269e-01]\n",
              "      nit: 3\n",
              "      jac: [-2.178e-06]\n",
              "     nfev: 12\n",
              "     njev: 6\n",
              " hess_inv: <1x1 LbfgsInvHessProduct with dtype=float64>"
            ]
          },
          "metadata": {},
          "execution_count": 68
        }
      ]
    },
    {
      "cell_type": "markdown",
      "source": [
        "### <center> $\\chi^2_{est} \\approx 0.0287 < \\chi^2_{crit}= 2.706$\n",
        "### <center> Основную гипотезу принимаем"
      ],
      "metadata": {
        "id": "aE2S_ho7XXMN"
      }
    },
    {
      "cell_type": "code",
      "source": [
        "2 * min([stats.chi2.cdf(x=9.27, df=2), 1 - stats.chi2.cdf(x=9.27, df=2)])"
      ],
      "metadata": {
        "id": "95N8eXLtXfSB",
        "colab": {
          "base_uri": "https://localhost:8080/"
        },
        "outputId": "7c5196d3-2996-4bc2-8277-5639fabf63d4"
      },
      "execution_count": null,
      "outputs": [
        {
          "output_type": "execute_result",
          "data": {
            "text/plain": [
              "0.01941221407669924"
            ]
          },
          "metadata": {},
          "execution_count": 69
        }
      ]
    },
    {
      "cell_type": "markdown",
      "source": [
        "### <center> $p-value = 0.8655$"
      ],
      "metadata": {
        "id": "BYlt8k86Xf1w"
      }
    },
    {
      "cell_type": "markdown",
      "source": [
        "### **Задание 2**"
      ],
      "metadata": {
        "id": "AR3Z_dZzLpCM"
      }
    },
    {
      "cell_type": "code",
      "source": [
        "dataset2 = np.array([7.36,2.28,6.62,-9.80,9.97,3.90,-0.19,10.71,-7.41,-0.74,-8.36,20.73,5.12,-11.37,-2.92,-1.98,5.00,-18.58,4.30,-11.40,\n",
        "                     -8.13,0.16,-6.13,-6.64,4.13,-14.67,18.98,-22.03,-11.47,-11.09,-12.77,12.84,4.01,3.74,5.98,-1.78,-18.40,-0.14,18.88,\n",
        "                     -10.30,7.08,0.12,1.02,4.13,12.04,6.19,7.67,-19.68,-8.16,-9.04])"
      ],
      "metadata": {
        "id": "udgkoxWPLny3"
      },
      "execution_count": null,
      "outputs": []
    },
    {
      "cell_type": "code",
      "source": [
        "len(dataset2)"
      ],
      "metadata": {
        "colab": {
          "base_uri": "https://localhost:8080/"
        },
        "id": "UqsTwj0F3rIQ",
        "outputId": "a9129d20-8452-44fd-bf18-040b28fbc1a1"
      },
      "execution_count": null,
      "outputs": [
        {
          "output_type": "execute_result",
          "data": {
            "text/plain": [
              "50"
            ]
          },
          "metadata": {},
          "execution_count": 71
        }
      ]
    },
    {
      "cell_type": "markdown",
      "source": [
        "### a) Построить вариационный ряд, эмпирическую функцию распределения, гистограмму и полигон частот с шагом h [h = 0.2]."
      ],
      "metadata": {
        "id": "fd4ZNxpiVI2R"
      }
    },
    {
      "cell_type": "code",
      "source": [
        "variational_series2 = np.sort(dataset2) # variational series\n",
        "variational_series2"
      ],
      "metadata": {
        "id": "PBRg2pBvNKqQ",
        "colab": {
          "base_uri": "https://localhost:8080/"
        },
        "outputId": "89a9fbc2-d152-4159-b438-1a999b83cbc6"
      },
      "execution_count": null,
      "outputs": [
        {
          "output_type": "execute_result",
          "data": {
            "text/plain": [
              "array([-22.03, -19.68, -18.58, -18.4 , -14.67, -12.77, -11.47, -11.4 ,\n",
              "       -11.37, -11.09, -10.3 ,  -9.8 ,  -9.04,  -8.36,  -8.16,  -8.13,\n",
              "        -7.41,  -6.64,  -6.13,  -2.92,  -1.98,  -1.78,  -0.74,  -0.19,\n",
              "        -0.14,   0.12,   0.16,   1.02,   2.28,   3.74,   3.9 ,   4.01,\n",
              "         4.13,   4.13,   4.3 ,   5.  ,   5.12,   5.98,   6.19,   6.62,\n",
              "         7.08,   7.36,   7.67,   9.97,  10.71,  12.04,  12.84,  18.88,\n",
              "        18.98,  20.73])"
            ]
          },
          "metadata": {},
          "execution_count": 72
        }
      ]
    },
    {
      "cell_type": "code",
      "source": [
        "sns.ecdfplot(data=variational_series2) # ECDF\n",
        "None"
      ],
      "metadata": {
        "id": "itfGcM7OhuNT",
        "colab": {
          "base_uri": "https://localhost:8080/",
          "height": 435
        },
        "outputId": "33fb16f0-11ce-454c-baa0-1d34cc01b36d"
      },
      "execution_count": null,
      "outputs": [
        {
          "output_type": "display_data",
          "data": {
            "text/plain": [
              "<Figure size 640x480 with 1 Axes>"
            ],
            "image/png": "[encoded data removed]"
          },
          "metadata": {}
        }
      ]
    },
    {
      "cell_type": "code",
      "source": [
        "\n",
        "splits = [x for x in np.arange(-23.02, 26.03, 4)]\n",
        "distributed_values = []\n",
        "for i in range(1, len(splits) - 1):\n",
        "    iclass = []\n",
        "    for value in variational_series2:\n",
        "        if splits[i-1] < value and value < splits[i]:\n",
        "            iclass.append(value)\n",
        "    distributed_values.append(iclass)\n"
      ],
      "metadata": {
        "id": "4ZgMOCRvjN7t"
      },
      "execution_count": null,
      "outputs": []
    },
    {
      "cell_type": "code",
      "source": [
        "len(splits), len([len(x) for x in distributed_values])"
      ],
      "metadata": {
        "id": "QcdCYNRLot5G",
        "colab": {
          "base_uri": "https://localhost:8080/"
        },
        "outputId": "01a76f2e-67c8-4d31-ab0a-841fce35a7c6"
      },
      "execution_count": null,
      "outputs": [
        {
          "output_type": "execute_result",
          "data": {
            "text/plain": [
              "(13, 11)"
            ]
          },
          "metadata": {},
          "execution_count": 75
        }
      ]
    },
    {
      "cell_type": "code",
      "source": [
        "mid_points = []\n",
        "for x in distributed_values:\n",
        "    if x:\n",
        "        mid_points.append((max(x) + min(x))/2)\n",
        "    else:\n",
        "        mid_points.append(0)"
      ],
      "metadata": {
        "id": "aLPiiNyEqmZP"
      },
      "execution_count": null,
      "outputs": []
    },
    {
      "cell_type": "code",
      "source": [
        "print(distributed_values)"
      ],
      "metadata": {
        "colab": {
          "base_uri": "https://localhost:8080/"
        },
        "id": "otA_FVdHIWFO",
        "outputId": "c2f33ac0-a2f4-4582-cd26-b0387ae5cc72"
      },
      "execution_count": null,
      "outputs": [
        {
          "output_type": "stream",
          "name": "stdout",
          "text": [
            "[[-22.03, -19.68], [-18.58, -18.4], [-14.67, -12.77, -11.47, -11.4, -11.37, -11.09], [-10.3, -9.8, -9.04, -8.36, -8.16, -8.13, -7.41], [-6.64, -6.13], [-2.92, -1.98, -1.78, -0.74, -0.19, -0.14, 0.12, 0.16], [1.02, 2.28, 3.74, 3.9, 4.01, 4.13, 4.13, 4.3], [5.0, 5.12, 5.98, 6.19, 6.62, 7.08, 7.36, 7.67], [9.97, 10.71, 12.04, 12.84], [], [18.88, 18.98, 20.73]]\n"
          ]
        }
      ]
    },
    {
      "cell_type": "code",
      "source": [
        "plt.bar(splits, [0]+[len(x) for x in distributed_values]+[0], align='center', edgecolor='b', width=4)\n",
        "plt.plot(splits, [0]+[len(x) for x in distributed_values]+[0], color=\"r\", marker=\"*\", markeredgecolor=\"g\")\n",
        "None"
      ],
      "metadata": {
        "id": "HjJX1wQ-oAjR",
        "colab": {
          "base_uri": "https://localhost:8080/",
          "height": 430
        },
        "outputId": "219a2d53-ef1e-46b5-c68d-1850213abbc6"
      },
      "execution_count": null,
      "outputs": [
        {
          "output_type": "display_data",
          "data": {
            "text/plain": [
              "<Figure size 640x480 with 1 Axes>"
            ],
            "image/png": "[encoded data removed]"
          },
          "metadata": {}
        }
      ]
    },
    {
      "cell_type": "markdown",
      "source": [
        "### b) Вычислить аналоги выборочных числовых характеристик"
      ],
      "metadata": {
        "id": "i4FlDteOxlKG"
      }
    },
    {
      "cell_type": "code",
      "source": [
        "print(\"Мат. ожидание: \", np.mean(dataset2))\n",
        "print(\"СКО: \", np.std(dataset2) ** 2)\n",
        "print(\"Дисперсия: \", np.std(dataset2) ** 2)\n",
        "print(\"Медиана: \", np.median(dataset2))\n",
        "print(\"Ассиметрия: \", stats.skew(dataset2))\n",
        "print(\"Эксцесса: \", stats.kurtosis(dataset2))\n",
        "sv = np.std(dataset2) ** 2\n",
        "sm = np.mean(dataset2)"
      ],
      "metadata": {
        "id": "8AQm6Aq8yEsl",
        "colab": {
          "base_uri": "https://localhost:8080/"
        },
        "outputId": "ea5df950-5448-442a-abbe-1be2eb43170a"
      },
      "execution_count": null,
      "outputs": [
        {
          "output_type": "stream",
          "name": "stdout",
          "text": [
            "Мат. ожидание:  -1.0043999999999997\n",
            "СКО:  102.88007264000002\n",
            "Дисперсия:  102.88007264000002\n",
            "Медиана:  -0.010000000000000009\n",
            "Ассиметрия:  -0.013515056460204664\n",
            "Эксцесса:  -0.5419568368832932\n"
          ]
        }
      ]
    },
    {
      "cell_type": "code",
      "source": [
        "# Эмпирическая вероятность\n",
        "ECDF(dataset2, 3) - ECDF(dataset2, -11)"
      ],
      "metadata": {
        "colab": {
          "base_uri": "https://localhost:8080/"
        },
        "id": "LORxAHcO_grX",
        "outputId": "0c63ca39-7950-4f11-ec25-c37dd5996a4e"
      },
      "execution_count": null,
      "outputs": [
        {
          "output_type": "execute_result",
          "data": {
            "text/plain": [
              "0.37999999999999995"
            ]
          },
          "metadata": {},
          "execution_count": 80
        }
      ]
    },
    {
      "cell_type": "markdown",
      "source": [
        "### c) ОМП в предположении, что $X_i$ ~ $\\mathcal{N}(a, \\sigma^2)$"
      ],
      "metadata": {
        "id": "dMQRKyj-yUNE"
      }
    },
    {
      "cell_type": "markdown",
      "source": [
        "### ОМП для $\\mu$ и $\\sigma^2$, пусть а = $\\mu$\n",
        "### <center> $p(x) = {\\displaystyle \\frac{1}{\\sigma \\sqrt{2 \\pi}}e^{{\\displaystyle -\\frac{1}{2}(\\frac{x-\\mu}{\\sigma})^2}}}$\n",
        "\n",
        "### <center>$L(\\mu, \\sigma ^{2};\\overrightarrow{x})=(2\\pi\\sigma ^{2})^{-\\frac{n}{2}}e^{-\\frac{1}{2\\sigma^2}\\sum\\limits^{n}_{i=1}(x_i - \\mu)^2}$\n",
        "\n",
        "### <center>$LL(\\mu, \\sigma ^{2};\\overrightarrow{x})= -\\frac{n}{2}log(2\\pi)- \\frac{n}{2} log(\\sigma ^{2})-\\frac{1}{2\\sigma ^{2}}\\sum\\limits_{i=1}^{n}(x_{i}-\\mu )^{2}$\n",
        "\n",
        "### <center> $\\frac{\\partial LL}{\\partial \\mu} = \\frac{1}{2\\sigma ^{2}}\\sum\\limits_{i=1}^{n}((x_{i}-\\mu )^{2})' = 0$\n",
        "### <center> $\\frac{1}{2\\sigma ^{2}}\\sum\\limits_{i=1}^{n}-2(x_{i}-\\mu ) = 0$\n",
        "### <center> $\\sum\\limits_{i=1}^{n}(x_{i}-\\mu ) = 0 $\n",
        "### <center> ${\\displaystyle \\hat{\\mu} = \\frac{1}{n}\\sum\\limits_{i=1}^{n}} x_i$\n",
        "\n",
        "### <center> $\\frac{\\partial LL}{\\partial \\sigma} = - \\frac{n}{2} (log(\\sigma ^{2}))'-(\\frac{1}{2\\sigma ^{2}})'\\sum\\limits_{i=1}^{n}(x_{i}-\\mu )^{2} = 0 $\n",
        "### <center> $ - \\frac{n}{2} \\frac{2}{\\sigma}  + \\frac{2}{2} \\sigma^{-3} \\sum\\limits_{i=1}^{n}(x_{i}-\\mu )^{2}$\n",
        "### <center> $ -n\\sigma^2 = -\\sum\\limits_{i=1}^{n}(x_{i}-\\mu )^{2}$\n",
        "### <center> ${\\displaystyle \\hat{\\sigma}^2 = \\frac{1}{n}\\sum\\limits_{i=1}^{n}(x_{i}-\\bar{x} )^{2}}$"
      ],
      "metadata": {
        "id": "aU7cysNqUeOc"
      }
    },
    {
      "cell_type": "markdown",
      "source": [
        "### Оценка через метод моментов для $\\mu$ и $\\sigma$\n",
        "### <center> 2 параметра - 2 уравнения.\n",
        "\n",
        "### <center> $M_1 = g_1 \\Rightarrow \\begin{cases} M_1 = E[X] = \\mu \\\\ M_2 = E[(X - E[X])^2] = \\sigma^2 \\\\ g_1 = \\bar{X} \\\\ g_2 = {\\displaystyle \\frac{1}{n}\\sum\\limits_{i=1}^{n}(X_i - \\bar{X}) ^2} \\end{cases} \\Rightarrow \\begin{cases}\\hat{\\mu} = \\bar{X} \\\\ \\hat{\\sigma}^2 = \\frac{1}{n}\\sum\\limits_{i=1}^{n}(X_i - \\bar{X}) ^2\\end{cases}$"
      ],
      "metadata": {
        "id": "fFC2B501UjPz"
      }
    },
    {
      "cell_type": "markdown",
      "source": [
        "### Проверим на смещенность:\n",
        "### <center> $E[\\hat{\\mu}] = E[\\frac{\\sum_{i=1}^{n}x_i}{n}] = \\frac{1}{n}\\sum_{i=1}^{n}E[x_i]= \\frac{1}{n}\\sum_{i=1}^{n} \\mu =  \\frac{n \\mu}{n} = \\mu$\n",
        "### <center> $E[\\hat{\\sigma}^2] = E[\\frac{1}{n}\\sum\\limits_{i=1}^{n}(x_{i}-\\bar{x} )^{2}]= E[\\frac{1}{n}\\sum\\limits_{i=1}^{n}(x_i^2 -2x_i\\bar{x}+\\bar{x}^2)] = E[\\frac{1}{n}\\sum\\limits_{i=1}^{n}x^2_i -\\frac{2}{n}\\sum\\limits_{i=1}^{n}x_i\\bar{x}+\\frac{1}{n}\\sum\\limits_{i=1}^{n}\\bar{x}^2] = \\\\ =E[\\frac{1}{n}\\sum\\limits_{i=1}^{n}x^2_i - 2\\bar{x}^2 +\\bar{x}^2] = E[\\frac{1}{n}\\sum\\limits_{i=1}^{n}x^2_i - \\bar{x}^2] = \\frac{1}{n}\\sum\\limits_{i=1}^{n}E[x^2_i] - E[\\bar{x}^2] = [\\text{as } \\sigma^2 = E[x^2] - \\mu^2] = \\\\ = \\frac{1}{n}\\sum\\limits_{i=1}^{n}(\\sigma^2 + \\mu^2) - E[\\bar{x}^2] = [\\text{as }  \\frac{\\sigma^2}{n} = E[\\bar{x}^2] - \\mu^2] = (\\sigma^2 + \\mu^2) - (\\frac{\\sigma^2}{n} + \\mu^2) = \\sigma^2 - \\frac{\\sigma^2}{n} = \\frac{n-1}{n}\\sigma^2$\n",
        "\n",
        "### <center> $bias(\\hat{\\mu}, \\mu) = 0$\n",
        "### <center> $bias(\\hat{\\sigma}^2, \\sigma^2) = -\\frac{1}{n}\\sigma^2$"
      ],
      "metadata": {
        "id": "VjFT5O5m-BGB"
      }
    },
    {
      "cell_type": "markdown",
      "source": [
        "### d) ДИ для параметров $\\sigma^2$ и $\\mu$ для $\\alpha_2=0.1$"
      ],
      "metadata": {
        "id": "XV1AgVDzUYO7"
      }
    },
    {
      "cell_type": "markdown",
      "source": [
        "### В предположении, что все СВ являются выборкой из нормального"
      ],
      "metadata": {
        "id": "nkFa0_vzNcsz"
      }
    },
    {
      "cell_type": "markdown",
      "source": [
        "\n",
        "\n",
        "### <center>$  T = \\frac {\\bar X - \\mu}{\\frac{S}{\\sqrt{n}}} \\sim t_{n-1} $\n",
        "### <center> $P\\left(-t_{{1 -\\frac{\\alpha}{2}},n-1} \\leq T \\leq t_{{1 -\\frac{\\alpha}{2}},n-1} \\right)= 1-\\alpha$\n",
        "### <center> $P\\left(-t_{{1 -\\frac{\\alpha}{2}},n-1} \\leq \\frac{\\overline{X}-\\mu}{S / \\sqrt{n}} \\leq t_{{1 -\\frac{\\alpha}{2}},n-1} \\right)= 1-\\alpha$\n",
        "### <center> $P\\left(\\overline{X}- t_{{1 -\\frac{\\alpha}{2}},n-1}\\frac{S}{\\sqrt{n}} \\leq \\mu \\leq \\overline{X}+ t_{{1 -\\frac{\\alpha}{2}},n-1} \\frac{S}{\\sqrt{n}} \\right)= 1-\\alpha$\n",
        "### <center> $\\left[\\overline{X}- t_{{1 -\\frac{\\alpha}{2}},n-1}\\frac{S}{\\sqrt{n}} , \\overline{X}+ t_{{1 -\\frac{\\alpha}{2}},n-1} \\frac{S}{\\sqrt{n}}\\right]$"
      ],
      "metadata": {
        "id": "TJUSVkFsa2wg"
      }
    },
    {
      "cell_type": "markdown",
      "source": [
        "### <center> $\\mu \\in [-3.4093, 1.4005]$\n"
      ],
      "metadata": {
        "id": "SPmQCCPoSmW9"
      }
    },
    {
      "cell_type": "code",
      "source": [
        "n = len(dataset2)\n",
        "mulb = sm - (sv**0.5 * stats.t.ppf(0.95, df=49))/((n)**0.5)\n",
        "murb = sm + (sv**0.5 * stats.t.ppf(0.95, df=49))/(n)**0.5\n",
        "[mulb, murb]"
      ],
      "metadata": {
        "id": "FebAxD7IeELN",
        "colab": {
          "base_uri": "https://localhost:8080/"
        },
        "outputId": "e8b23de0-6b4d-481e-d5f9-cb808a855d23"
      },
      "execution_count": null,
      "outputs": [
        {
          "output_type": "execute_result",
          "data": {
            "text/plain": [
              "[-3.409301924937398, 1.4005019249373982]"
            ]
          },
          "metadata": {},
          "execution_count": 81
        }
      ]
    },
    {
      "cell_type": "markdown",
      "source": [
        "### <center> $Y=\\frac{(n-1)S^2}{\\sigma^2}=\\frac{1}{\\sigma^2}\\sum_{i=1}^{n} (X_i-\\overline{X})^2 \\sim \\chi^2_{n-1}$\n",
        "### <center> $P\\left(\\chi^2_{1-\\frac{\\alpha}{2},n-1} \\leq Y \\leq \\chi^2_{\\frac{\\alpha}{2},n-1} \\right)= 1-\\alpha$\n",
        "### <center> $P\\left(\\chi^2_{1-\\frac{\\alpha}{2},n-1} \\leq \\frac{(n-1)S^2}{\\sigma^2} \\leq \\chi^2_{\\frac{\\alpha}{2},n-1} \\right)= 1-\\alpha$\n",
        "### <center> $P\\left(\\frac{(n-1)S^2}{\\chi^2_{1-\\frac{\\alpha}{2},n-1}} \\leq \\sigma^2 \\leq \\frac{(n-1)S^2}{\\chi^2_{\\frac{\\alpha}{2},n-1}} \\right)= 1-\\alpha$\n",
        "### <center> $\\left[\\frac{(n-1)S^2}{\\chi^2_{1-\\frac{\\alpha}{2},n-1}} , \\frac{(n-1)S^2}{\\chi^2_{\\frac{\\alpha}{2},n-1}} \\right]$"
      ],
      "metadata": {
        "id": "e10j6EArNI9o"
      }
    },
    {
      "cell_type": "markdown",
      "source": [
        "### <center> $\\sigma^2 \\in [75.99 ,148.57]$"
      ],
      "metadata": {
        "id": "_sJD98xuPcNm"
      }
    },
    {
      "cell_type": "code",
      "source": [
        "stats.chi2.ppf(0.95, df=49)"
      ],
      "metadata": {
        "colab": {
          "base_uri": "https://localhost:8080/"
        },
        "id": "TRFzHQL161mz",
        "outputId": "3e3a9155-85be-414d-b640-1893a058e7da"
      },
      "execution_count": null,
      "outputs": [
        {
          "output_type": "execute_result",
          "data": {
            "text/plain": [
              "66.3386488629688"
            ]
          },
          "metadata": {},
          "execution_count": 82
        }
      ]
    },
    {
      "cell_type": "code",
      "source": [
        "n = len(dataset2)\n",
        "sigmalb =  (sv *(n-1))/ stats.chi2.ppf(0.95, df=49)\n",
        "sigmarb = (sv *(n-1))/ stats.chi2.ppf(0.05, df=49)\n",
        "[sigmalb, sigmarb]"
      ],
      "metadata": {
        "id": "KCYFGgBJPiSF",
        "colab": {
          "base_uri": "https://localhost:8080/"
        },
        "outputId": "5a7b9c51-155d-48b8-fb1c-bb54f724671f"
      },
      "execution_count": null,
      "outputs": [
        {
          "output_type": "execute_result",
          "data": {
            "text/plain": [
              "[75.99074816511721, 148.57288985358466]"
            ]
          },
          "metadata": {},
          "execution_count": 83
        }
      ]
    },
    {
      "cell_type": "markdown",
      "source": [
        "### e) Простая гипотеза Колмогорова для нормального с параметрами:\n",
        "### $\\mu_0 = 32;$\n",
        "### $\\sigma_0 = 10;$\n",
        "### $\\alpha_2 = 0.1$"
      ],
      "metadata": {
        "id": "8BD3qqrv92HC"
      }
    },
    {
      "cell_type": "markdown",
      "source": [
        "### Критерий Колмогорова:\n",
        "\n",
        "### $$D_n = sup_x|F_n(x)-F(x)|$$\n",
        "\n",
        "### Основную гипотезу отклоняем, если: $\\sqrt n D_n > K_\\alpha$, где $K_\\alpha$\n",
        "\n",
        "### Квантиль уровня $1-\\alpha$ распределения Колмогорова.\n",
        "### $$  K_{\\alpha_2} = 0.172 $$\n",
        "### $$  D_n(X) = 0.912$$\n",
        "### $$ \\sqrt{n}D = 6.447 > 0.172  $$\n",
        "### Вывод:  основную гипотезу стоит отклонить\n",
        "### $$ p-value = 2.8014745924891474e-53 \\approx 0 $$"
      ],
      "metadata": {
        "id": "z7L6TBsI-Cc1"
      }
    },
    {
      "cell_type": "code",
      "source": [
        "stats.kstest(rvs=dataset2, cdf=lambda x: stats.norm.cdf(x, loc=32, scale=10.0), N=50)"
      ],
      "metadata": {
        "colab": {
          "base_uri": "https://localhost:8080/"
        },
        "id": "F5mFH8jMZYVC",
        "outputId": "1c7b4731-3c5d-468a-8b83-492c1d97c9b5"
      },
      "execution_count": null,
      "outputs": [
        {
          "output_type": "execute_result",
          "data": {
            "text/plain": [
              "KstestResult(statistic=0.9123174521550068, pvalue=2.8014745924891474e-53, statistic_location=12.84, statistic_sign=1)"
            ]
          },
          "metadata": {},
          "execution_count": 84
        }
      ]
    },
    {
      "cell_type": "markdown",
      "source": [
        "### f) Простая гипотеза $\\chi^2$ для нормального с параметрами:\n",
        "### $\\mu_0 = 32;$\n",
        "### $\\sigma_0 = 10;$\n",
        "### $\\alpha_2 = 0.1$"
      ],
      "metadata": {
        "id": "QKJOIegFUf6K"
      }
    },
    {
      "cell_type": "markdown",
      "source": [
        "### Разбиение Образа СВ:\n",
        "\n",
        "### <center> $\\Delta = (-\\infty, -11.2) \\cup [-11.02, -3.02) \\cup [-3.02, 0.98) \\cup [0.98, 4.98)\\cup [4.98, 8.98) \\cup [8.98, \\infty)$"
      ],
      "metadata": {
        "id": "zjzrVx36ZMch"
      }
    },
    {
      "cell_type": "code",
      "source": [
        "intervals = [[[\"-inf\", -11.02], 10],\n",
        "            [[-11.02, -3.02], 9],\n",
        "            [[-3.02, 0.98], 8],\n",
        "            [[0.98, 4.98], 8],\n",
        "            [[4.98, 8.98], 8],\n",
        "            [[8.98, \"inf\"], 7]]\n",
        "intervals"
      ],
      "metadata": {
        "id": "D1QB3JzRWmH4",
        "colab": {
          "base_uri": "https://localhost:8080/"
        },
        "outputId": "d033c6be-374d-444b-dfff-6593f15eb2c3"
      },
      "execution_count": null,
      "outputs": [
        {
          "output_type": "execute_result",
          "data": {
            "text/plain": [
              "[[['-inf', -11.02], 10],\n",
              " [[-11.02, -3.02], 9],\n",
              " [[-3.02, 0.98], 8],\n",
              " [[0.98, 4.98], 8],\n",
              " [[4.98, 8.98], 8],\n",
              " [[8.98, 'inf'], 7]]"
            ]
          },
          "metadata": {},
          "execution_count": 85
        }
      ]
    },
    {
      "cell_type": "code",
      "source": [
        "empirical_values=[[[\"-inf\", -11.02], 10/50],\n",
        "            [[-11.02, -3.02], 9/50],\n",
        "            [[-3.02, 0.98], 8/50],\n",
        "            [[0.98, 4.98], 8/50],\n",
        "            [[4.98, 8.98], 8/50],\n",
        "            [[8.98, \"inf\"], 7/50]]\n",
        "empirical_values"
      ],
      "metadata": {
        "id": "SFo4N78la3cI",
        "colab": {
          "base_uri": "https://localhost:8080/"
        },
        "outputId": "c91f8998-3075-45ed-c704-2258b908439c"
      },
      "execution_count": null,
      "outputs": [
        {
          "output_type": "execute_result",
          "data": {
            "text/plain": [
              "[[['-inf', -11.02], 0.2],\n",
              " [[-11.02, -3.02], 0.18],\n",
              " [[-3.02, 0.98], 0.16],\n",
              " [[0.98, 4.98], 0.16],\n",
              " [[4.98, 8.98], 0.16],\n",
              " [[8.98, 'inf'], 0.14]]"
            ]
          },
          "metadata": {},
          "execution_count": 86
        }
      ]
    },
    {
      "cell_type": "code",
      "source": [
        "theoretical_values = [[[\"-inf\", -11.02]],\n",
        "            [[-11.02, -3.02]],\n",
        "            [[-3.02, 0.98]],\n",
        "            [[0.98, 4.98]],\n",
        "            [[4.98, 8.98]],\n",
        "            [[8.98, \"inf\"]]]\n",
        "for i in range(1, len(theoretical_values)-1):\n",
        "    theoretical_values[i].append(stats.norm.cdf(theoretical_values[i][0][1], loc=32, scale=10) - stats.norm.cdf(theoretical_values[i][0][0], loc=32, scale=10))\n",
        "theoretical_values[-1].append(1 - stats.norm.cdf(x=8.98, loc=32, scale=10))\n",
        "theoretical_values[0].append(stats.norm.cdf(x=-11.02, loc=32, scale=10))\n",
        "theoretical_values"
      ],
      "metadata": {
        "id": "idWxV-Wubl82",
        "colab": {
          "base_uri": "https://localhost:8080/"
        },
        "outputId": "4c9fab4d-e917-4845-8b34-c903a48e5d1f"
      },
      "execution_count": null,
      "outputs": [
        {
          "output_type": "execute_result",
          "data": {
            "text/plain": [
              "[[['-inf', -11.02], 8.463165583267577e-06],\n",
              " [[-11.02, -3.02], 0.00022242664376960703],\n",
              " [[-3.02, 0.98], 0.0007301999825727414],\n",
              " [[0.98, 4.98], 0.0024850983272177345],\n",
              " [[4.98, 8.98], 0.007221397969491672],\n",
              " [[8.98, 'inf'], 0.989332413911365]]"
            ]
          },
          "metadata": {},
          "execution_count": 87
        }
      ]
    },
    {
      "cell_type": "code",
      "source": [
        "tmp = [(pow(empirical_values[i][1] - theoretical_values[i][1], 2))  / theoretical_values[i][1] for i in range(len(empirical_values))]\n",
        "chi_squared = 50 * sum(tmp)\n",
        "chi_squared, tmp"
      ],
      "metadata": {
        "id": "o4mk3Pv7iP4o",
        "colab": {
          "base_uri": "https://localhost:8080/"
        },
        "outputId": "eeda2b8a-13d0-4352-f359-dd44cf8f692f"
      },
      "execution_count": null,
      "outputs": [
        {
          "output_type": "execute_result",
          "data": {
            "text/plain": [
              "(245997.74955520284,\n",
              " [4725.963873904192,\n",
              "  145.30622471349398,\n",
              "  34.739619012609694,\n",
              "  9.983888354536093,\n",
              "  3.2322413661463782,\n",
              "  0.7291437530774503])"
            ]
          },
          "metadata": {},
          "execution_count": 88
        }
      ]
    },
    {
      "cell_type": "markdown",
      "source": [
        "### Основную гипотезу стоит отклонить"
      ],
      "metadata": {
        "id": "VFoyw9zTjSim"
      }
    },
    {
      "cell_type": "markdown",
      "source": [
        "### Из таблички наибольшее значение уровня значимости, на котором еще нет оснований отвергнуть данную гипотезу:\n",
        "### <center>  $p-value = 0$\n"
      ],
      "metadata": {
        "id": "oh_HyrfalvLX"
      }
    },
    {
      "cell_type": "markdown",
      "source": [
        "### g) Сложная гипотеза $\\chi^2$ для нормального с параметрами:\n",
        "### $\\alpha_2 = 0.1$"
      ],
      "metadata": {
        "id": "_yV6G3Ekviik"
      }
    },
    {
      "cell_type": "code",
      "source": [
        "def chi24expon(params):\n",
        "    theoretical_values = [[[\"-inf\", -11.02]],\n",
        "            [[-11.02, -3.02]],\n",
        "            [[-3.02, 0.98]],\n",
        "            [[0.98, 4.98]],\n",
        "            [[4.98, 8.98]],\n",
        "            [[8.98, \"inf\"]]]\n",
        "    for i in range(1, len(theoretical_values)-1):\n",
        "        theoretical_values[i].append(stats.norm.cdf(theoretical_values[i][0][1], loc=params[0], scale=params[1]) - stats.norm.cdf(theoretical_values[i][0][0], loc=params[0], scale=params[1]))\n",
        "    theoretical_values[-1].append(1 - stats.norm.cdf(x=8.98, loc=params[0], scale=params[1]))\n",
        "    theoretical_values[0].append(stats.norm.cdf(x=-11.02, loc=params[0], scale=params[1]))\n",
        "\n",
        "\n",
        "    obs = [10, 9, 8, 8, 8, 7]\n",
        "    n = 50\n",
        "    chi2 = 0\n",
        "    for i in range(len(theoretical_values)):\n",
        "        chi2 += (obs[i] - n * theoretical_values[i][1])**2/(n*theoretical_values[i][1])\n",
        "    return chi2"
      ],
      "metadata": {
        "id": "bOajZeYYvtDt"
      },
      "execution_count": null,
      "outputs": []
    },
    {
      "cell_type": "code",
      "source": [
        "opt.minimize(x0=(0, 10), fun=chi24expon,  bounds=[(None, None), (0, None)])"
      ],
      "metadata": {
        "id": "6WhWDwX0xc6Z",
        "colab": {
          "base_uri": "https://localhost:8080/"
        },
        "outputId": "51ed0681-816f-4875-8b8c-17d5857f0449"
      },
      "execution_count": null,
      "outputs": [
        {
          "output_type": "execute_result",
          "data": {
            "text/plain": [
              "  message: CONVERGENCE: NORM_OF_PROJECTED_GRADIENT_<=_PGTOL\n",
              "  success: True\n",
              "   status: 0\n",
              "      fun: 2.7224052194688584\n",
              "        x: [-1.072e+00  1.047e+01]\n",
              "      nit: 5\n",
              "      jac: [ 4.796e-06  3.642e-06]\n",
              "     nfev: 18\n",
              "     njev: 6\n",
              " hess_inv: <2x2 LbfgsInvHessProduct with dtype=float64>"
            ]
          },
          "metadata": {},
          "execution_count": 90
        }
      ]
    },
    {
      "cell_type": "markdown",
      "source": [
        "### Число степеней свободы: 6 - 2 - 1 = 3\n",
        "### <center> $\\chi^2_{est} \\approx 2.72 < \\chi^2_{crit}= 6.215$\n",
        "### <center> Основную гипотезу принимаем"
      ],
      "metadata": {
        "id": "RIMhVThr0NbG"
      }
    },
    {
      "cell_type": "markdown",
      "source": [
        "### <center> p-value = 0.4368"
      ],
      "metadata": {
        "id": "a6zSAWXf3JkR"
      }
    },
    {
      "cell_type": "markdown",
      "source": [
        "### h) РНМ Критерий для нормального"
      ],
      "metadata": {
        "id": "XiB3493NpPkp"
      }
    },
    {
      "cell_type": "markdown",
      "source": [
        "\n",
        "### $\\alpha_2 = 0.1$\n",
        "### $\\mu_0 = 32$\n",
        "### $\\mu_1 = -1$\n",
        "### $\\sigma = \\sigma_0 = \\sigma_1 = 10$\n"
      ],
      "metadata": {
        "id": "4tEi706eHwhu"
      }
    },
    {
      "cell_type": "markdown",
      "source": [
        "### $\\theta  = (\\mu, \\sigma)$\n"
      ],
      "metadata": {
        "id": "9-qi0b8qES7L"
      }
    },
    {
      "cell_type": "markdown",
      "source": [
        "### <center> $L(X, \\theta) = (\\frac{1}{\\sqrt{2\\pi}\\sigma})^nexp(-\\frac{1}{2\\sigma^2}\\sum\\limits_{i=1}^n(X_i - \\mu)^2)$\n",
        "\n",
        "### <center> $\\frac{L(X, \\theta_1)}{L(X, \\theta_0)} = exp(-\\frac{1}{2\\sigma^2}\\sum\\limits_{i=1}^n((X_i - \\mu_1)^2 - (X_i - \\mu_0)^2)) \\ge D'$\n",
        "\n",
        "### <center> $\\frac{L(X, \\theta_1)}{L(X, \\theta_0)} = exp(-\\frac{1}{2\\sigma^2}\\sum\\limits_{i=1}^n((X_i - \\mu_1)^2 - (X_i - \\mu_0)^2)) \\ge D'$\n",
        "\n",
        "### <center> $ (\\mu_1 - \\mu_0) \\sum\\limits_{i=0}^n (X_i - \\frac{\\mu_0 + \\mu_1}{2}) \\ge D''$\n",
        "\n",
        "### <center> $ \\bar{X} \\le D$ (при $\\mu_1 = -1, \\mu_0 = 32$)\n",
        "### <center> $ \\bar{X} \\ge D$ (при $\\mu_1 = 32, \\mu_0 = -1$)\n",
        "\n"
      ],
      "metadata": {
        "id": "Z9WPqCwiDJxl"
      }
    },
    {
      "cell_type": "markdown",
      "source": [
        "### Аналогично заданию 1 нужно преобразоввать выражение, чтобы перейти к квантилям стандартного распределения, только теперь вычисления буду точными, т.к. находимся в нормальном распределении."
      ],
      "metadata": {
        "id": "-y_NiuuWO4Ti"
      }
    },
    {
      "cell_type": "code",
      "source": [
        "dataset2.mean()"
      ],
      "metadata": {
        "colab": {
          "base_uri": "https://localhost:8080/"
        },
        "id": "WO9sPEXHQoHC",
        "outputId": "b9df03fb-9aa9-41a9-ff21-fc0a7f0d7dcb"
      },
      "execution_count": null,
      "outputs": [
        {
          "output_type": "execute_result",
          "data": {
            "text/plain": [
              "-1.0043999999999997"
            ]
          },
          "metadata": {},
          "execution_count": 91
        }
      ]
    },
    {
      "cell_type": "markdown",
      "source": [
        "### При $$\\mu_1 = -1, \\mu_0 = 32$$"
      ],
      "metadata": {
        "id": "wJtsDgjDPhnB"
      }
    },
    {
      "cell_type": "code",
      "source": [
        "D = -1 + (dataset2.std())/7.07 * stats.norm.ppf(0.1)\n",
        "D"
      ],
      "metadata": {
        "colab": {
          "base_uri": "https://localhost:8080/"
        },
        "id": "obg5KoAiPNVx",
        "outputId": "51d2c1a2-6eb9-4653-a9cf-f40305cc6083"
      },
      "execution_count": null,
      "outputs": [
        {
          "output_type": "execute_result",
          "data": {
            "text/plain": [
              "-2.838579031550208"
            ]
          },
          "metadata": {},
          "execution_count": 92
        }
      ]
    },
    {
      "cell_type": "markdown",
      "source": [
        "### Основную гипотезу стоит отвергнуть"
      ],
      "metadata": {
        "id": "LhL6TkwXTBrj"
      }
    },
    {
      "cell_type": "markdown",
      "source": [
        "### При $$\\mu_1 = 32, \\mu_0 = -1$$"
      ],
      "metadata": {
        "id": "VXMpW7vpPtNA"
      }
    },
    {
      "cell_type": "code",
      "source": [
        "D = -3 - (dataset2.std())/7.07 * stats.norm.ppf(0.1)\n",
        "D"
      ],
      "metadata": {
        "colab": {
          "base_uri": "https://localhost:8080/"
        },
        "id": "IIT4VmZOPvGr",
        "outputId": "1b9eae93-6360-48f1-d04e-12623f92c09b"
      },
      "execution_count": null,
      "outputs": [
        {
          "output_type": "execute_result",
          "data": {
            "text/plain": [
              "-1.1614209684497923"
            ]
          },
          "metadata": {},
          "execution_count": 93
        }
      ]
    },
    {
      "cell_type": "markdown",
      "source": [
        "### Основную гипотезу стоит принять"
      ],
      "metadata": {
        "id": "_fvxrkjyS63W"
      }
    },
    {
      "cell_type": "markdown",
      "source": [
        "### i[c]) ОМП в предположении, что $X_i$ ~ ${Laplace}(\\mu, b)$"
      ],
      "metadata": {
        "id": "QBP47wwYp7zd"
      }
    },
    {
      "cell_type": "markdown",
      "source": [
        "### $\\mu = a, b=\\frac{\\sigma}{\\sqrt{2}}$\n",
        "### <center> $p(x) = \\frac{1}{2b}e^{(-\\frac{|x-\\mu|}{b})}$\n",
        "### <center> $L(\\mu,b;\\overrightarrow{x})=\\prod\\limits_{i=1}^{n}\\frac{1}{2b}e^{(-\\frac{|x_i-\\mu|}{b})} = ({\\frac{1}{2b}})^ne^{-\\frac{1}{b}\\sum\\limits_{i=1}^{n}({|x_i-\\mu|})}$\n",
        "### <center> $LL(\\mu,b;\\overrightarrow{x}) = -nlog(2b)-\\frac{1}{b}\\sum\\limits_{i=1}^{n}({|x_i-\\mu|})$\n",
        "### <center> [H.M.] $\\frac{\\partial |x|}{\\partial x} = \\frac{\\partial \\sqrt{x^2}}{\\partial x} = \\frac{\\partial (x^2)^{\\frac{1}{2}}}{\\partial x} = x(x^2)^{-\\frac{1}{2}}= \\frac{x}{\\sqrt{x^2}} = \\frac{x}{|x|} = sign(x)$\n",
        "### <center> $\\frac{\\partial LL}{\\partial \\mu} = \\frac{1}{b}\\sum\\limits^n_{i=1}sign(x_i - \\mu)=0$\n",
        "### <center> Если выбрать как оценку ${\\mu}$ медиану, то в том случае, когда наблюдений нечетное количество. она будет удовлетворять уравнению выше (т.к. $\\frac{N-1}{2}$ наблюдений > медианы и $\\frac{N-1}{2}$ < медианы -> сумма обратится в 0), если их четное количество, то уравнение выше в общем случае решить нельзя, но все еще можем минимизировать его, опять-таки, взяв медиану, как оценку $\\mu$.\n",
        "### <center> $\\hat{\\mu} = median(x) = x_{0.5}$\n",
        "### <center> $\\frac{\\partial LL}{\\partial b} = -\\frac{n}{b} +\\frac{1}{b^2}\\sum\\limits_{i=1}^{n}({|x_i-\\mu|}) = 0$\n",
        "### <center> $ \\hat{b} = \\frac{1}{n}\\sum\\limits_{i=1}^{n}({|x_i-\\mu|)}$\n",
        "Или $\\sigma$\n",
        "### <center> $$ \\hat{\\sigma}^2 = \\frac{2}{n^2}(\\sum\\limits_{i=1}^{n}{|x_i-\\mu|})^2$$\n"
      ],
      "metadata": {
        "id": "QBMqgDrLp7ze"
      }
    },
    {
      "cell_type": "markdown",
      "source": [
        "### Оценки для $\\mu$ и $b$ по методу моментов\n",
        "\n",
        "### <center> 2 параметра - 2 уравнения.\n",
        "\n",
        "### <center> $M_1 = g_1 \\Rightarrow \\begin{cases} M_1 = E[X] = \\mu \\\\ M_2 = E[(X - E[X])^2] = 2b^2 \\\\ g_1 = \\bar{X} \\\\ g_2 = {\\displaystyle \\frac{1}{n}\\sum\\limits_{i=1}^{n}(X_i - \\bar{X}) ^2} \\end{cases} \\Rightarrow \\\\  \\Rightarrow \\begin{cases}\\hat{\\mu} = \\bar{X} \\\\ \\hat{b} = \\sqrt{(\\frac{1}{2n}\\sum\\limits_{i=1}^{n}(X_i - \\bar{X}) ^2)}\\end{cases} \\text{ or } \\begin{cases}\\hat{\\mu} = \\bar{X} \\\\ \\hat{\\sigma}^2 = {(\\frac{1}{n}\\sum\\limits_{i=1}^{n}(X_i - \\bar{X}) ^2)}\\end{cases}$"
      ],
      "metadata": {
        "id": "38VTUAh_p7zf"
      }
    },
    {
      "cell_type": "markdown",
      "source": [
        "### Вычисление смещения\n",
        "\n",
        "### $E[\\hat{\\mu}_{MLE}] = E[x_{0.5}] = x_{0.5} \\Rightarrow bias(\\hat{\\mu}_{MLE}, \\mu) =  x_{0.5} - \\mu$\n",
        "\n",
        "### $E[\\hat{\\mu}_{MM}] = E[\\bar{X}] = E[\\frac{1}{n}\\sum\\limits_{i=1}^{n}X_i] = \\frac{1}{n}\\sum\\limits_{i=1}^{n}E[X_i] = \\frac{n}{n}\\mu = \\mu = a \\Rightarrow bias(\\hat{\\mu}_{MM}, \\mu)$\n",
        "\n",
        "### $E[\\hat{\\sigma}_{MM}^2] = E[ {(\\frac{1}{n}\\sum\\limits_{i=1}^{n}(X_i - \\bar{X}) ^2)}] = (\\frac{1}{n}\\sum\\limits_{i=1}^{n}E[(X_i - \\mu )^2] = Var[X_i] = \\sigma^2 \\Rightarrow bias(\\hat{\\sigma}_{MM}^2, \\sigma^2) = 0$\n",
        "\n",
        "\n",
        "\n",
        "\n",
        "\n"
      ],
      "metadata": {
        "id": "cGDc9dNap7zf"
      }
    },
    {
      "cell_type": "markdown",
      "source": [
        "### $X_n = \\{1, ..., n\\}$ - не пустое, конечное множество\n",
        "### $\\hat{X}_{n} = \\{x_i, x_j \\in X_n|x_i < x_j\\}$\n",
        "### <center> $\\hat{X}_{n+1} = \\hat{X}_{n} \\cup K_{n+1}: \\hat{X}_{n} \\cap K_{n+1} = \\emptyset$ \\{не пересекающиеся\\}\n",
        "### <center> следствие: $|X_{n+1}|-|X_n|=|K_{n+1}|$\n",
        "### <center> важно заметить: $X_n \\subset X_{n+1}$\n",
        "\n",
        "### <center> Мое утверждение : $|\\hat{X}_{n}| = C^2_n, n > 1$\n",
        "### Док-во по мат. индукции n = 2:\n",
        "### <center> $|\\hat{X}_2| = C_2^2$\n",
        "### <center> $|\\{\\{1,2\\}\\}| = 1$\n",
        "### <center> $1 = 1$\n",
        "###  n = k:\n",
        "### <center> $|\\hat{X}_k| = C_k^2$\n",
        "###  n = k + 1:\n",
        "### <center> $|\\hat{X}_{k+1}| = C_{k+1}^2$\n",
        "### <center> $|\\hat{X}_{k} \\cup K_{k+1}| = C_{k+1}^2$\n",
        "### <center> $|\\hat{X}_{k}| + |K_{k+1}| = C_{k+1}^2 \\text{ }$ [$\\hat{X}_{k} \\cap K_{k+1} = \\emptyset$ ]\n",
        "### <center> $C_{k}^2 + |K_{k+1}| = C_{k+1}^2$\n",
        "### <center> $|K_{k+1}| =  \\frac{(k+1)!}{2!(k-1)!} -  \\frac{k!}{2!(k-2)!}$\n",
        "### <center> $|K_{k+1}| =  \\frac{k(k+1)}{2} -  \\frac{k(k-1)}{2}$\n",
        "### <center> $|K_{k+1}| =  \\frac{2k}{2}$\n",
        "### <center> $|K_{k+1}| =  k$\n",
        "### <center> $Q.E.D.$\n"
      ],
      "metadata": {
        "id": "FNVFGl69p7zg"
      }
    },
    {
      "cell_type": "markdown",
      "source": [
        "### $E[\\hat{\\sigma}_{MLE}^2] = E[\\frac{2}{n^2}(\\sum\\limits_{i=1}^{n}{|X_i-\\mu|)^2}] = \\frac{2}{n^2}E[(\\sum\\limits_{i=1}^{n}\\sqrt{(X_i - \\mu)^2})^2] = \\\\ = \\frac{2}{n^2}E[\\sum\\limits_{i=1}^{n}(\\sqrt{(X_i - \\mu)^2})^2 + 2\\sum\\limits {i<j}(\\sqrt{(X_i - \\mu)^2} \\cdot \\sqrt{(X_j - \\mu)^2})]  =\\\\ = \\frac{2}{n^2}(\\sum\\limits_{i=1}^{n}E[{(X_i - \\mu)^2}] + 2\\sum\\limits_{i<j}E[\\sqrt{(X_i - \\mu)^2} \\cdot \\sqrt{(X_j - \\mu)^2}]) = \\{ I.I.D\\} = \\\\ = \\frac{2}{n^2}(\\sum\\limits_{i=1}^{n}E[{(X_i - \\mu)^2}] + 2\\sum\\limits_{i<j}(E[\\sqrt{(X_i - \\mu)^2}] \\cdot E[\\sqrt{(X_j - \\mu)^2}])) = \\\\ = \\frac{2}{n^2}(\\sum\\limits_{i=1}^{n}E[{(X_i - \\mu)^2}] + 2\\sum\\limits_{i<j}(\\sqrt{E[(X_i - \\mu)^2]} \\cdot \\sqrt{E[(X_j - \\mu)^2]})) = \\\\ = \\frac{2}{n^2}(\\sum\\limits_{i=1}^{n}Var[X_i] + 2\\sum\\limits_{i<j}(\\sqrt{Var[X_i]} \\cdot \\sqrt{Var[X_j]})) = \\{ I.I.D\\} = \\\\ = \\frac{2}{n^2}(\\sum\\limits_{i=1}^{n}Var[X_i] + 2\\sum\\limits_{i<j}{Var[X_i]}) = \\{Var[X_i] \\sim Laplace(\\mu, b) = 2b^2 = \\sigma^2\\} = \\\\ = \\frac{2}{n^2}(\\sum\\limits_{i=1}^{n}\\sigma^2+ 2\\sum\\limits_{i<j}{\\sigma^2}) = \\text{Доказано выше} =\\frac{2}{n}\\sigma^2+ \\frac{4}{n^2}C^2_n{\\sigma^2} = \\frac{2}{n}\\sigma^2+ \\frac{2}{n}(n-1){\\sigma^2} = 2\\sigma^2$\n",
        "\n",
        "\n",
        "\n"
      ],
      "metadata": {
        "id": "VDZH1icqp7zg"
      }
    },
    {
      "cell_type": "markdown",
      "source": [
        "### <center> $bias(\\hat{\\sigma}_{MLE}^2, \\sigma^2) = 2\\sigma^2-\\sigma^2=\\sigma^2$"
      ],
      "metadata": {
        "id": "ia0yR30xp7zg"
      }
    },
    {
      "cell_type": "markdown",
      "source": [
        "### $E[\\hat{\\sigma}_{MM}^2] = E[ {(\\frac{1}{n}\\sum\\limits_{i=1}^{n}(X_i - \\bar{X}) ^2)}] = (\\frac{1}{n}\\sum\\limits_{i=1}^{n}E[(X_i - \\mu )^2] = \\{H.M.\\} = Var[X_i] = \\sigma^2$"
      ],
      "metadata": {
        "id": "lJDDuErLp7zh"
      }
    },
    {
      "cell_type": "markdown",
      "source": [
        "### i[e]) простая гипотеза Колмогорова для лапласа с параметрами:\n",
        "### $\\mu_0 = 32;$\n",
        "### $\\sigma_0 = 10;$\n",
        "### $\\alpha_2 = 0.1$"
      ],
      "metadata": {
        "id": "JExRX5OQIbxa"
      }
    },
    {
      "cell_type": "markdown",
      "source": [
        "### Критерий Колмогорова:\n",
        "\n",
        "### $$D_n = sup_x|F_n(x)-F(x)|$$\n",
        "\n",
        "### Основную гипотезу отклоняем, если: $\\sqrt n D_n > K_\\alpha$, где $K_\\alpha$\n",
        "\n",
        "### Квантиль уровня $1-\\alpha$ распределения Колмогорова.\n",
        "### $$  K_{\\alpha_2} = 0.172 $$\n",
        "### $$  D_n(X) = 0.906$$\n",
        "### $$ \\sqrt{n}D = 6.405 > 0.172  $$\n",
        "### Вывод:  основную гипотезу стоит отклонить\n",
        "### $$ p-value = 6.196431849369758e-52 \\approx 0 $$"
      ],
      "metadata": {
        "id": "s6gvsLl3Irr_"
      }
    },
    {
      "cell_type": "code",
      "source": [
        "stats.kstest(rvs=dataset2, cdf=lambda x: stats.laplace.cdf(x, loc=32, scale=10.0/np.sqrt(2)), N=50)"
      ],
      "metadata": {
        "id": "s8gFji56IyWN",
        "colab": {
          "base_uri": "https://localhost:8080/"
        },
        "outputId": "5d8ec551-6089-4675-d0cc-561a87c809bf"
      },
      "execution_count": null,
      "outputs": [
        {
          "output_type": "execute_result",
          "data": {
            "text/plain": [
              "KstestResult(statistic=0.9067193910715228, pvalue=6.196431849369758e-52, statistic_location=12.84, statistic_sign=1)"
            ]
          },
          "metadata": {},
          "execution_count": 94
        }
      ]
    },
    {
      "cell_type": "markdown",
      "source": [
        "### i[f]) Простая гипотеза $\\chi^2$ для лапласа с параметрами:\n",
        "### $\\mu_0 = 32;$\n",
        "### $\\sigma^2_0 = 10;$\n",
        "### $\\alpha_2 = 0.1$"
      ],
      "metadata": {
        "id": "QZJ0kH-SmQ8L"
      }
    },
    {
      "cell_type": "markdown",
      "source": [
        "### Разбиение и вычисления - аналогичны"
      ],
      "metadata": {
        "id": "Sgmiu9YdR6NC"
      }
    },
    {
      "cell_type": "code",
      "source": [
        "theoretical_values = [[[\"-inf\", -11.02]],\n",
        "            [[-11.02, -3.02]],\n",
        "            [[-3.02, 0.98]],\n",
        "            [[0.98, 4.98]],\n",
        "            [[4.98, 8.98]],\n",
        "            [[8.98, \"inf\"]]]\n",
        "for i in range(1, len(theoretical_values)-1):\n",
        "    theoretical_values[i].append(stats.laplace.cdf(theoretical_values[i][0][1], loc=32, scale=10) - stats.laplace.cdf(theoretical_values[i][0][0], loc=32, scale=10))\n",
        "theoretical_values[-1].append(1 - stats.laplace.cdf(x=8.98, loc=32, scale=10))\n",
        "theoretical_values[0].append(stats.laplace.cdf(x=-11.02, loc=32, scale=10))\n",
        "theoretical_values"
      ],
      "metadata": {
        "colab": {
          "base_uri": "https://localhost:8080/"
        },
        "id": "dEE684hKQpyv",
        "outputId": "75df7f00-be7d-4109-e5f7-dbfb1a58a5af"
      },
      "execution_count": null,
      "outputs": [
        {
          "output_type": "execute_result",
          "data": {
            "text/plain": [
              "[[['-inf', -11.02], 0.006770724506606095],\n",
              " [[-11.02, -3.02], 0.008297799998392728],\n",
              " [[-3.02, 0.98], 0.007411072508571127],\n",
              " [[0.98, 4.98], 0.011056021004296642],\n",
              " [[4.98, 8.98], 0.01649364519185037],\n",
              " [[8.98, 'inf'], 0.949970736790283]]"
            ]
          },
          "metadata": {},
          "execution_count": 95
        }
      ]
    },
    {
      "cell_type": "code",
      "source": [
        "tmp = [(pow(empirical_values[i][1] - theoretical_values[i][1], 2))  / theoretical_values[i][1] for i in range(len(empirical_values))]\n",
        "chi_squared = 50 * sum(tmp)\n",
        "chi_squared, tmp"
      ],
      "metadata": {
        "id": "yvRxewzPnJPM",
        "colab": {
          "base_uri": "https://localhost:8080/"
        },
        "outputId": "43f7bac6-d183-4a8b-c4b5-5c829d1599b8"
      },
      "execution_count": null,
      "outputs": [
        {
          "output_type": "execute_result",
          "data": {
            "text/plain": [
              "(807.7476548513418,\n",
              " [5.5145579872984385,\n",
              "  3.5529472259035524,\n",
              "  3.1417019285746584,\n",
              "  2.006536426663006,\n",
              "  1.2486065773076174,\n",
              "  0.6906029512795666])"
            ]
          },
          "metadata": {},
          "execution_count": 96
        }
      ]
    },
    {
      "cell_type": "markdown",
      "source": [
        "### Основную гипотезу стоит отвергнуть"
      ],
      "metadata": {
        "id": "ofmpo9WmSG1v"
      }
    },
    {
      "cell_type": "markdown",
      "source": [
        "### Из таблички наибольшее значение уровня значимости, на котором еще нет оснований отвергнуть данную гипотезу:\n",
        "### <center>  $p-value =$ 0"
      ],
      "metadata": {
        "id": "-lx03vPMsyZN"
      }
    },
    {
      "cell_type": "markdown",
      "source": [
        "### i[g]) Сложная гипотеза $\\chi^2$ для лапласа с параметрами:\n",
        "### $\\alpha_2 = 0.02$"
      ],
      "metadata": {
        "id": "2L7Npq4c3T-5"
      }
    },
    {
      "cell_type": "code",
      "source": [
        "def chi24laplace(params):\n",
        "    theoretical_values = [[[\"-inf\", -11.02]],\n",
        "            [[-11.02, -3.02]],\n",
        "            [[-3.02, 0.98]],\n",
        "            [[0.98, 4.98]],\n",
        "            [[4.98, 8.98]],\n",
        "            [[8.98, \"inf\"]]]\n",
        "    for i in range(1, len(theoretical_values)-1):\n",
        "        theoretical_values[i].append(stats.laplace.cdf(theoretical_values[i][0][1], loc=params[0], scale=params[1]) - stats.laplace.cdf(theoretical_values[i][0][0], loc=params[0], scale=params[1]))\n",
        "    theoretical_values[-1].append(1 - stats.laplace.cdf(x=-2, loc=params[0], scale=params[1]))\n",
        "    theoretical_values[0].append(stats.laplace.cdf(x=-3.8, loc=params[0], scale=params[1]))\n",
        "\n",
        "    obs = [10, 9, 8, 8, 8, 7]\n",
        "    n = 50\n",
        "    chi2 = 0\n",
        "    for i in range(len(theoretical_values)):\n",
        "        chi2 += (obs[i] - n * theoretical_values[i][1])**2/(n*theoretical_values[i][1])\n",
        "    return chi2"
      ],
      "metadata": {
        "id": "V3-BTjHa3bbR"
      },
      "execution_count": null,
      "outputs": []
    },
    {
      "cell_type": "code",
      "source": [
        "opt.minimize(x0=[-3, 0.5], fun=chi24laplace, bounds=[(None, None),(0, None)])"
      ],
      "metadata": {
        "id": "IcKUmCqc3h2G",
        "colab": {
          "base_uri": "https://localhost:8080/"
        },
        "outputId": "78b3c922-a1cd-486e-c755-e7c8e686649e"
      },
      "execution_count": null,
      "outputs": [
        {
          "output_type": "execute_result",
          "data": {
            "text/plain": [
              "  message: CONVERGENCE: NORM_OF_PROJECTED_GRADIENT_<=_PGTOL\n",
              "  success: True\n",
              "   status: 0\n",
              "      fun: 22.033716574923137\n",
              "        x: [ 6.191e-01  9.684e+00]\n",
              "      nit: 20\n",
              "      jac: [ 2.842e-06  1.066e-06]\n",
              "     nfev: 84\n",
              "     njev: 28\n",
              " hess_inv: <2x2 LbfgsInvHessProduct with dtype=float64>"
            ]
          },
          "metadata": {},
          "execution_count": 98
        }
      ]
    },
    {
      "cell_type": "markdown",
      "source": [
        "### <center> $\\chi^2_{est} \\approx 22.03 < \\chi^2_{crit}= 6.251$\n",
        "### <center> Основную гипотезу отклоняем"
      ],
      "metadata": {
        "id": "TrMUG2sQ3puj"
      }
    },
    {
      "cell_type": "markdown",
      "source": [
        "### <center> p-value = 0"
      ],
      "metadata": {
        "id": "hZKAlOjP3ukQ"
      }
    },
    {
      "cell_type": "markdown",
      "source": [
        "## Выводы"
      ],
      "metadata": {
        "id": "QLw1SCGuscB2"
      }
    },
    {
      "cell_type": "markdown",
      "source": [
        "### В ходе практической работы было изучено и реализовано применение методов математической статистики для решения задач статистического анализа, сформировались навыки реализации методов с помощью прикладных программных пакетов. Были изучены основные методы и приобретены навыки проведения статистических тестов, анализа выборочных данных, построения доверительных интервалов, проверки гипотез и т.д. Были построены оценки и асимптотические интервалы, проверены и доказаны гипотезы."
      ],
      "metadata": {
        "id": "Cesmd4Tgr9OE"
      }
    }
  ]
}