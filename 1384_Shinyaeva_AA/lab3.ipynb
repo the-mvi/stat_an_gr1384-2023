{
  "nbformat": 4,
  "nbformat_minor": 0,
  "metadata": {
    "colab": {
      "provenance": [],
      "collapsed_sections": [
        "TWSU7f1WCEMj",
        "b42-_fSaglip",
        "dVrErIc0mwuN",
        "PIHYMRkJr8iK",
        "Zc2zpb1KtR2R",
        "7Z0Rf-WCvV8Y",
        "vVSSwySstZ-V",
        "WAcrhXahtzxD",
        "LExCVOwauVaj"
      ]
    },
    "kernelspec": {
      "name": "python",
      "display_name": "python"
    },
    "language_info": {
      "name": "python"
    }
  },
  "cells": [
    {
      "cell_type": "markdown",
      "source": [
        "# Лабораторная работа №3: Регрессионный анализ\n",
        "### Выполнила студентка гр. 1384 Шиняева Анастасия. Вариант №22"
      ],
      "metadata": {
        "id": "RUfxQaE_1qID"
      }
    },
    {
      "cell_type": "markdown",
      "source": [
        "## Цель работы\n",
        "### Ознакомиться с основными положениями метода наименьших квадратов (МНК), со статистическими свойствами МНК-оценок, с понятием функции регрессии и роли МНК в регрессионном анализе."
      ],
      "metadata": {
        "id": "UkwwkLxOVsww"
      }
    },
    {
      "cell_type": "markdown",
      "source": [
        "## Основные теоретические положения\n",
        "### Регрессионная модель:\n",
        "\n",
        "### $\\mathbb{E}(Y|z)=f_{\\theta}(z)$\n",
        "\n",
        "### Метод наименьших квадратов:\n",
        "\n",
        "### $RSS(\\beta)=\\left\\| Y-X^\\intercal\\beta \\right\\|^2=(Y-X^\\intercal\\beta)^\\intercal(Y-X^\\intercal\\beta)\\to \\min_\\beta$\n",
        "\n",
        "### Нормальные уравнения:\n",
        "\n",
        "### $XX^\\intercal\\beta=XY$\n",
        "\n",
        "### Решение системы нормальных уравнений в регулярном случае:\n",
        "\n",
        "### $\\hat{\\beta}=(XX^\\intercal)^{-1}XY$\n",
        "\n",
        "### Оценка параметра $\\sigma^2$\n",
        "\n",
        "### $s^2 \\frac{RSS(\\widehat\\beta)}{n-r}=\\frac{SSe}{n-r}$\n",
        "\n",
        "### Доверительный эллипс для параметра $(\\beta_0, \\beta_1)$:\n",
        "\n",
        "### ДНО-функция:\n",
        "\n",
        "### $\\psi = C^\\intercal \\beta = (\\beta_0, \\beta_1)^\\intercal$\n",
        "\n",
        "### МНК оценка:\n",
        "\n",
        "### $\\hat{\\psi} = (\\hat{\\beta}_0, \\hat{\\beta}_1)^\\intercal$\n",
        "\n",
        "### Доверительный эллипс:$\\left\\{\\overrightarrow{x} : \\left(\\overrightarrow{x} - \\hat{\\psi}\\right)^\\intercal b_\\psi^{-1} \\left(\\overrightarrow{x} - \\hat{\\psi}\\right) \\le q S^2 x_\\alpha\\right\\}$\n",
        "\n",
        "### $x_\\alpha: \\mathcal{F}_{q, n-r}(x_\\alpha) = 1 - \\alpha$, $b_\\psi = C^\\intercal(XX^\\intercal)^{-1}C$\n",
        "\n",
        "### F - статистика:\n",
        "\n",
        "### $\\mathbb{F} = \\frac{{SS_H}}{S^2*rank(X)} $"
      ],
      "metadata": {
        "id": "2jN86_E7_nKx"
      }
    },
    {
      "cell_type": "markdown",
      "source": [
        "## Постановка задачи\n",
        "### Результаты статистического эксперимента представлены в виде двух переменных. Требуется оценить характер (случайной) зависимости переменной $Y$ от переменной $X$. Полученные результаты содержательно проинтерпретировать."
      ],
      "metadata": {
        "id": "kRjVofC_fbqK"
      }
    },
    {
      "cell_type": "markdown",
      "source": [
        "## Выполнение работы"
      ],
      "metadata": {
        "id": "90_0IydECPkF"
      }
    },
    {
      "cell_type": "code",
      "execution_count": null,
      "metadata": {
        "id": "IXNTyUotBwQ0"
      },
      "outputs": [],
      "source": [
        "import numpy as np\n",
        "from numpy import linalg as LA\n",
        "import seaborn as sns\n",
        "from scipy import stats\n",
        "from scipy import optimize as opt\n",
        "import matplotlib.pyplot as plt"
      ]
    },
    {
      "cell_type": "code",
      "source": [
        "N = np.array([x for x in range(50)])\n",
        "Y = np.array([22.06, 20.00, 21.08, 18.80, 9.74, 7.90, 14.16, 9.11, 23.14, 28.09, 13.46, 22.07, 10.43, 19.74, 23.41, 9.20, 9.79,\n",
        "              3.91, 0.78, 3.68, 5.53, 1.67, 13.19, 11.03, 29.36, 24.56, 18.02, 9.29, 15.77, 12.41, 2.45, 8.77, 8.98, 5.32,\n",
        "              31.24, 4.40, 13.64, 21.16, 11.66, 20.79, 11.64, 12.98, 7.25, 16.59, 8.97, 33.08, 15.01, 14.14, 12.75, 16.51])\n",
        "raw_X = np.array([3, 9, 7, 7, 2, 7, 6, 9, 2, 8, 2, 8, 1, 9, 5, 0, 0,\n",
        "                  6, 8, 2, 3, 2, 5, 4, 4, 4, 3, 3, 3, 4, 1, 0, 6, 6,\n",
        "                  2, 3, 6, 6, 9, 0, 8, 7, 5, 4, 7, 5, 7, 9, 3, 8])"
      ],
      "metadata": {
        "id": "N7dnv_uCDbSB"
      },
      "execution_count": null,
      "outputs": []
    },
    {
      "cell_type": "markdown",
      "source": [
        "### 1. Построить графически результаты эксперимента. Сформулировать линейную регрессионную модель переменной $Y$ по переменной $X$. Построить МНК оценки параметров сдвига $\\beta_0$ и масштаба $\\beta_1$. Построить полученную линию регрессии. Оценить визуально соответствие полученных данных и построенной оценки."
      ],
      "metadata": {
        "id": "b42-_fSaglip"
      }
    },
    {
      "cell_type": "code",
      "source": [
        "sns.scatterplot(x=raw_X, y=Y)\n",
        "None"
      ],
      "metadata": {
        "colab": {
          "base_uri": "https://localhost:8080/"
        },
        "id": "PIFnuoIwF-gZ",
        "outputId": "cf301b97-13c6-4f2e-fd46-7c5bc9fc887c"
      },
      "execution_count": null,
      "outputs": [
        {
          "output_type": "display_data",
          "data": {
            "text/plain": [
              "<Figure size 640x480 with 1 Axes>"
            ],
            "image/png": "[encoded data removed]"
          },
          "metadata": {}
        }
      ]
    },
    {
      "cell_type": "markdown",
      "source": [
        "### Формулировка Модели\n",
        "### $Y = X\\beta +\\varepsilon$\n",
        "### или\n",
        "### $\\begin{pmatrix} y_{1}\\\\ y_{2}\\\\ \\vdots\\\\ y_{50} \\end{pmatrix} = \\begin{pmatrix} 1 & x_{1}\\\\ 1 & x_{2}\\\\ \\vdots  & \\vdots\\\\ 1 & x_{50} \\end{pmatrix}  \\begin{pmatrix} \\beta_0\\\\ \\beta_1 \\end{pmatrix} + \\begin{pmatrix} \\varepsilon_{1}\\\\ \\varepsilon_{2}\\\\ \\vdots\\\\ \\varepsilon_{50} \\end{pmatrix}$"
      ],
      "metadata": {
        "id": "2wRtFIodHWgX"
      }
    },
    {
      "cell_type": "markdown",
      "source": [
        "### Чтобы оценить параметры по МНК, воспользуемся следующей формулой:\n",
        "### $\\hat{\\beta}=(X^TX)^{-1}X^TY$"
      ],
      "metadata": {
        "id": "X5A3i74aIjWn"
      }
    },
    {
      "cell_type": "code",
      "source": [
        "X = np.array([[1, x] for x in raw_X])\n",
        "X[:5]"
      ],
      "metadata": {
        "colab": {
          "base_uri": "https://localhost:8080/"
        },
        "id": "NV7H4PoFI8Sf",
        "outputId": "aefb7b63-bc7a-4484-ab21-dc49214a1e20"
      },
      "execution_count": null,
      "outputs": [
        {
          "output_type": "execute_result",
          "data": {
            "text/plain": [
              "array([[1, 3],\n",
              "       [1, 9],\n",
              "       [1, 7],\n",
              "       [1, 7],\n",
              "       [1, 2]])"
            ]
          },
          "metadata": {},
          "execution_count": 559
        }
      ]
    },
    {
      "cell_type": "code",
      "source": [
        "est_beta = LA.inv(X.T @ X) @ X.T @ Y\n",
        "est_bias = est_beta[0]\n",
        "est_scale = est_beta[1]\n",
        "est_beta"
      ],
      "metadata": {
        "colab": {
          "base_uri": "https://localhost:8080/"
        },
        "id": "MZ9BZoYpKVBI",
        "outputId": "0e661007-fc13-4c5c-b2ab-fbbdd2ba8a55"
      },
      "execution_count": null,
      "outputs": [
        {
          "output_type": "execute_result",
          "data": {
            "text/plain": [
              "array([12.5073227 ,  0.35018431])"
            ]
          },
          "metadata": {},
          "execution_count": 560
        }
      ]
    },
    {
      "cell_type": "code",
      "source": [
        "sns.scatterplot(x=raw_X, y=Y)\n",
        "sns.lineplot(x=[x for x in range(10)], y=[est_scale * x + est_bias for x in range(10)], color=\"orange\")\n",
        "None"
      ],
      "metadata": {
        "colab": {
          "base_uri": "https://localhost:8080/"
        },
        "id": "5KElAJVXOKsp",
        "outputId": "3245d994-d153-41f1-94f7-3cc6f0e040e0"
      },
      "execution_count": null,
      "outputs": [
        {
          "output_type": "display_data",
          "data": {
            "text/plain": [
              "<Figure size 640x480 with 1 Axes>"
            ],
            "image/png": "[encoded data removed]"
          },
          "metadata": {}
        }
      ]
    },
    {
      "cell_type": "markdown",
      "source": [
        "### Визуально, данные не соответствуют оценке, такие данные вообще нельзя оценивать линейной регрессией, в надежде получить хорошую оценку"
      ],
      "metadata": {
        "id": "TQd6plBiRHCk"
      }
    },
    {
      "cell_type": "markdown",
      "source": [
        "### 2. Построить и интерпретировать несмещённую оценку дисперсии. На базе ошибок построить гистограмму с шагом $h = 1.1$. Проверить гипотезу нормальности ошибок на уровне значимости $\\alpha = 0.05$ по $\\chi^2$. Оценить расстояние полученной оценки до класса нормальных распределений по Колмогорову. Визуально оценить данный факт."
      ],
      "metadata": {
        "id": "s4DfTGW5iDjh"
      }
    },
    {
      "cell_type": "markdown",
      "source": [
        "### Чтобы построить несмещенную оценку дисперсии воспользуемся следующей формулой:\n",
        "### $\\hat{S^2} = \\frac{||Y-X^T\\beta||}{n-r} $"
      ],
      "metadata": {
        "id": "z4UO_EXfR5sd"
      }
    },
    {
      "cell_type": "code",
      "source": [
        "n = 50\n",
        "r = 2 # regressors"
      ],
      "metadata": {
        "id": "E9jnUoL_UqNJ"
      },
      "execution_count": null,
      "outputs": []
    },
    {
      "cell_type": "code",
      "source": [
        "unbiased_var_est = LA.norm(Y - X @ est_beta)**2/(n-r)\n",
        "unbiased_var_est"
      ],
      "metadata": {
        "colab": {
          "base_uri": "https://localhost:8080/"
        },
        "id": "IlMxj4kVTqc3",
        "outputId": "555dd8e0-707a-4f89-eeaf-78de6b567d27"
      },
      "execution_count": null,
      "outputs": [
        {
          "output_type": "execute_result",
          "data": {
            "text/plain": [
              "61.405044279029234"
            ]
          },
          "metadata": {},
          "execution_count": 563
        }
      ]
    },
    {
      "cell_type": "markdown",
      "source": [
        "### Интерпретация: Дисперсия ошибок велика, что может свидетельствовать о том, что модель плохо подходит под данные"
      ],
      "metadata": {
        "id": "CqcmjOMYU_WA"
      }
    },
    {
      "cell_type": "markdown",
      "source": [
        "### Вектор ошибок"
      ],
      "metadata": {
        "id": "4bDPHGAjViJD"
      }
    },
    {
      "cell_type": "code",
      "source": [
        "errs = Y - X @ est_beta\n",
        "errs"
      ],
      "metadata": {
        "colab": {
          "base_uri": "https://localhost:8080/"
        },
        "id": "ltLd_4W-Vm69",
        "outputId": "fa794cb8-0bbd-49ff-d013-db2c60134273"
      },
      "execution_count": null,
      "outputs": [
        {
          "output_type": "execute_result",
          "data": {
            "text/plain": [
              "array([  8.50212438,   4.34101854,   6.12138715,   3.84138715,\n",
              "        -3.46769131,  -7.05861285,  -0.44842854,  -6.54898146,\n",
              "         9.93230869,  12.78120285,   0.25230869,   6.76120285,\n",
              "        -2.42750701,   4.08101854,   9.15175577,  -3.3073227 ,\n",
              "        -2.7173227 , -10.69842854, -14.52879715,  -9.52769131,\n",
              "        -8.02787562, -11.53769131,  -1.06824423,  -2.87805993,\n",
              "        15.45194007,  10.65194007,   4.46212438,  -4.26787562,\n",
              "         2.21212438,  -1.49805993, -10.40750701,  -3.7373227 ,\n",
              "        -5.62842854,  -9.28842854,  18.03230869,  -9.15787562,\n",
              "        -0.96842854,   6.55157146,  -3.99898146,   8.2826773 ,\n",
              "        -3.66879715,  -1.97861285,  -7.00824423,   2.68194007,\n",
              "        -5.98861285,  18.82175577,   0.05138715,  -1.51898146,\n",
              "        -0.80787562,   1.20120285])"
            ]
          },
          "metadata": {},
          "execution_count": 564
        }
      ]
    },
    {
      "cell_type": "code",
      "source": [
        "variational_series = errs\n",
        "variational_series.sort()\n",
        "variational_series"
      ],
      "metadata": {
        "colab": {
          "base_uri": "https://localhost:8080/"
        },
        "id": "zRQo1tIzV9VI",
        "outputId": "bd81bb07-ca10-4a1b-a686-da6c5b4cdbe9"
      },
      "execution_count": null,
      "outputs": [
        {
          "output_type": "execute_result",
          "data": {
            "text/plain": [
              "array([-14.52879715, -11.53769131, -10.69842854, -10.40750701,\n",
              "        -9.52769131,  -9.28842854,  -9.15787562,  -8.02787562,\n",
              "        -7.05861285,  -7.00824423,  -6.54898146,  -5.98861285,\n",
              "        -5.62842854,  -4.26787562,  -3.99898146,  -3.7373227 ,\n",
              "        -3.66879715,  -3.46769131,  -3.3073227 ,  -2.87805993,\n",
              "        -2.7173227 ,  -2.42750701,  -1.97861285,  -1.51898146,\n",
              "        -1.49805993,  -1.06824423,  -0.96842854,  -0.80787562,\n",
              "        -0.44842854,   0.05138715,   0.25230869,   1.20120285,\n",
              "         2.21212438,   2.68194007,   3.84138715,   4.08101854,\n",
              "         4.34101854,   4.46212438,   6.12138715,   6.55157146,\n",
              "         6.76120285,   8.2826773 ,   8.50212438,   9.15175577,\n",
              "         9.93230869,  10.65194007,  12.78120285,  15.45194007,\n",
              "        18.03230869,  18.82175577])"
            ]
          },
          "metadata": {},
          "execution_count": 565
        }
      ]
    },
    {
      "cell_type": "code",
      "source": [
        "sns.set(style='dark',)\n",
        "sns.displot(variational_series, binwidth=2.8, color='purple')\n",
        "None"
      ],
      "metadata": {
        "colab": {
          "base_uri": "https://localhost:8080/",
          "height": 501
        },
        "id": "AEBkGmKTXGB5",
        "outputId": "f78d28b0-0254-467e-972c-6fbd34743996"
      },
      "execution_count": null,
      "outputs": [
        {
          "output_type": "display_data",
          "data": {
            "text/plain": [
              "<Figure size 500x500 with 1 Axes>"
            ],
            "image/png": "[encoded data removed]"
          },
          "metadata": {}
        }
      ]
    },
    {
      "cell_type": "code",
      "source": [
        "intervals = [[[\"-inf\", -9.4], 7],\n",
        "            [[-9.4, -3.8], 11],\n",
        "            [[-3.8, -1], 10],\n",
        "            [[-1, 1.8], 5],\n",
        "            [[1.8, 7.4], 8],\n",
        "            [[7.4, \"inf\"], 9]]\n",
        "intervals"
      ],
      "metadata": {
        "colab": {
          "base_uri": "https://localhost:8080/"
        },
        "id": "MJp5r2N3YrdW",
        "outputId": "5137d783-915b-4060-b1ec-3050ee5b7120"
      },
      "execution_count": null,
      "outputs": [
        {
          "output_type": "execute_result",
          "data": {
            "text/plain": [
              "[[['-inf', -9.4], 7],\n",
              " [[-9.4, -3.8], 11],\n",
              " [[-3.8, -1], 10],\n",
              " [[-1, 1.8], 5],\n",
              " [[1.8, 7.4], 8],\n",
              " [[7.4, 'inf'], 9]]"
            ]
          },
          "metadata": {},
          "execution_count": 567
        }
      ]
    },
    {
      "cell_type": "code",
      "source": [
        "def chi24norm(params):\n",
        "    theoretical_values=[[[\"-inf\", -9.4], 7],\n",
        "            [[-9.4, -3.8], 11],\n",
        "            [[-3.8, -1], 10],\n",
        "            [[-1, 1.8], 5],\n",
        "            [[1.8, 7.4], 8],\n",
        "            [[7.4, \"inf\"], 9]]\n",
        "    for i in range(1, len(theoretical_values)-1):\n",
        "        theoretical_values[i].append(stats.norm.cdf(theoretical_values[i][0][1], loc=params[0], scale=params[1]) - stats.norm.cdf(theoretical_values[i][0][0], loc=params[0], scale=params[1]))\n",
        "    theoretical_values[-1].append(1 - stats.norm.cdf(x=7.4, loc=params[0], scale=params[1]))\n",
        "    theoretical_values[0].append(stats.norm.cdf(x=-9.4, loc=params[0], scale=params[1]))\n",
        "\n",
        "    obs = [7, 11, 10, 5, 8, 9]\n",
        "    n = 50\n",
        "    chi2 = 0\n",
        "    for i in range(len(theoretical_values)):\n",
        "        chi2 += (obs[i] - n * theoretical_values[i][1])**2/(n*theoretical_values[i][1])\n",
        "    return chi2"
      ],
      "metadata": {
        "id": "LgE9Nt34aqyZ"
      },
      "execution_count": null,
      "outputs": []
    },
    {
      "cell_type": "code",
      "source": [
        "opt.minimize(x0=[1, 10], fun=chi24norm, bounds=[(None, None),(0, None)])"
      ],
      "metadata": {
        "colab": {
          "base_uri": "https://localhost:8080/"
        },
        "id": "42rQIjBRb0D0",
        "outputId": "d0216ecd-a9f7-434a-d51b-81287760630a"
      },
      "execution_count": null,
      "outputs": [
        {
          "output_type": "execute_result",
          "data": {
            "text/plain": [
              "  message: CONVERGENCE: NORM_OF_PROJECTED_GRADIENT_<=_PGTOL\n",
              "  success: True\n",
              "   status: 0\n",
              "      fun: 8.64365267514633\n",
              "        x: [-1.341e+00  7.587e+00]\n",
              "      nit: 7\n",
              "      jac: [-2.665e-06 -1.776e-07]\n",
              "     nfev: 30\n",
              "     njev: 10\n",
              " hess_inv: <2x2 LbfgsInvHessProduct with dtype=float64>"
            ]
          },
          "metadata": {},
          "execution_count": 607
        }
      ]
    },
    {
      "cell_type": "markdown",
      "source": [
        "### $\\chi^2_{est} \\approx 8.64 > \\chi^2_{crit} = \\chi^2_{3} \\approx 4.642$\n",
        "### Гипотезу нормальности стоит отклонить"
      ],
      "metadata": {
        "id": "VqggD4k_dbIG"
      }
    },
    {
      "cell_type": "markdown",
      "source": [
        "###Колмогоров"
      ],
      "metadata": {
        "id": "G-qOiYY3dF-M"
      }
    },
    {
      "cell_type": "code",
      "source": [
        "ECDF = lambda x: len(errs[errs <= x])/len(errs)\n",
        "def KS(params):\n",
        "    D = max([abs(stats.norm.cdf(x, loc=params[0], scale=params[1]) - ECDF(x)) for x in errs])\n",
        "    return D * pow(n, 0.5)"
      ],
      "metadata": {
        "id": "rVr3YGVldJhY"
      },
      "execution_count": null,
      "outputs": []
    },
    {
      "cell_type": "code",
      "source": [
        "opt.minimize(x0=[1, 10], fun=KS, bounds=[(None, None),(0, None)])"
      ],
      "metadata": {
        "colab": {
          "base_uri": "https://localhost:8080/"
        },
        "id": "BJhSqTsec8c3",
        "outputId": "95b1d3c1-55e2-4b0c-e52d-2507b2d869c8"
      },
      "execution_count": null,
      "outputs": [
        {
          "output_type": "stream",
          "name": "stderr",
          "text": [
            "/usr/local/lib/python3.10/dist-packages/scipy/stats/_distn_infrastructure.py:2066: RuntimeWarning: divide by zero encountered in divide\n",
            "  x = np.asarray((x - loc)/scale, dtype=dtyp)\n"
          ]
        },
        {
          "output_type": "execute_result",
          "data": {
            "text/plain": [
              "  message: CONVERGENCE: REL_REDUCTION_OF_F_<=_FACTR*EPSMCH\n",
              "  success: True\n",
              "   status: 0\n",
              "      fun: 0.37180244291356906\n",
              "        x: [-1.021e+00  7.501e+00]\n",
              "      nit: 25\n",
              "      jac: [-3.549e-02 -7.030e-02]\n",
              "     nfev: 438\n",
              "     njev: 146\n",
              " hess_inv: <2x2 LbfgsInvHessProduct with dtype=float64>"
            ]
          },
          "metadata": {},
          "execution_count": 571
        }
      ]
    },
    {
      "cell_type": "markdown",
      "source": [
        "Оценка расстояния: 0.37"
      ],
      "metadata": {
        "id": "BdLeVhZO49jS"
      }
    },
    {
      "cell_type": "markdown",
      "source": [
        "### $D(X) = sup|F_n(x)-F(x)|$\n",
        "### $\\sqrt{n}D(X) \\overset{d}{\\rightarrow} Y \\sim K$\n",
        "\n",
        "### $  K(C_{\\alpha_2})=1-\\alpha_2=1-0.2=0.8$\n",
        "### $C_{\\alpha_2}=C_{0.2}= 0.1489$\n",
        "### $ \\sqrt{n}D = 2.61 > 0.1489  $\n",
        "### Гипотезу о нормальности стоит отклонить"
      ],
      "metadata": {
        "id": "joROOXXCkKaY"
      }
    },
    {
      "cell_type": "code",
      "source": [
        "errs.sort()\n",
        "errs"
      ],
      "metadata": {
        "colab": {
          "base_uri": "https://localhost:8080/"
        },
        "id": "pl2ExYRC6YrK",
        "outputId": "1152cdb1-01d2-4b1b-d131-b8c57edeb800"
      },
      "execution_count": null,
      "outputs": [
        {
          "output_type": "execute_result",
          "data": {
            "text/plain": [
              "array([-14.52879715, -11.53769131, -10.69842854, -10.40750701,\n",
              "        -9.52769131,  -9.28842854,  -9.15787562,  -8.02787562,\n",
              "        -7.05861285,  -7.00824423,  -6.54898146,  -5.98861285,\n",
              "        -5.62842854,  -4.26787562,  -3.99898146,  -3.7373227 ,\n",
              "        -3.66879715,  -3.46769131,  -3.3073227 ,  -2.87805993,\n",
              "        -2.7173227 ,  -2.42750701,  -1.97861285,  -1.51898146,\n",
              "        -1.49805993,  -1.06824423,  -0.96842854,  -0.80787562,\n",
              "        -0.44842854,   0.05138715,   0.25230869,   1.20120285,\n",
              "         2.21212438,   2.68194007,   3.84138715,   4.08101854,\n",
              "         4.34101854,   4.46212438,   6.12138715,   6.55157146,\n",
              "         6.76120285,   8.2826773 ,   8.50212438,   9.15175577,\n",
              "         9.93230869,  10.65194007,  12.78120285,  15.45194007,\n",
              "        18.03230869,  18.82175577])"
            ]
          },
          "metadata": {},
          "execution_count": 572
        }
      ]
    },
    {
      "cell_type": "code",
      "source": [
        "px = np.linspace(-15, 20, 1000)\n",
        "plt.plot(np.linspace(-15, 20, 1000), stats.norm.cdf(px, loc=-1.021, scale=7.501))\n",
        "plt.plot(errs, [ECDF(err) for err in errs])"
      ],
      "metadata": {
        "colab": {
          "base_uri": "https://localhost:8080/",
          "height": 451
        },
        "id": "Gdgblw9A58eg",
        "outputId": "e60ca50b-6477-4b0f-de93-a125a433faca"
      },
      "execution_count": null,
      "outputs": [
        {
          "output_type": "execute_result",
          "data": {
            "text/plain": [
              "[<matplotlib.lines.Line2D at 0x7976caf43c40>]"
            ]
          },
          "metadata": {},
          "execution_count": 573
        },
        {
          "output_type": "display_data",
          "data": {
            "text/plain": [
              "<Figure size 640x480 with 1 Axes>"
            ],
            "image/png": "[encoded data removed]"
          },
          "metadata": {}
        }
      ]
    },
    {
      "cell_type": "markdown",
      "source": [
        "### Если оценивать расстояние визуально, то вывод совпадает с рассчетным"
      ],
      "metadata": {
        "id": "h5hUMdTQ482X"
      }
    },
    {
      "cell_type": "markdown",
      "source": [
        "### 3. В предположении нормальности ошибок построить доверительные интервалы для параметров $\\beta_0$ и $\\beta_1$ уровня доверия $1 - \\alpha$. Построить доверительный эллипс уровня доверия $1 - \\alpha$ для $(\\beta_0, \\beta_1)$ (вычислить его полуоси)."
      ],
      "metadata": {
        "id": "dVrErIc0mwuN"
      }
    },
    {
      "cell_type": "markdown",
      "source": [
        "### Найдем доверительный интервал для $\\beta_0$.\n",
        "### ${\\displaystyle \\operatorname {Var} ({\\hat {\\beta }}_{j})=\\sigma ^{2}\\left(\\left[X^{\\mathsf {T}}X\\right]^{-1}\\right)_{jj}\\approx {\\hat {\\sigma }}^{2}C_{jj},}$\n",
        "### $C=(X^TX)^{-1}$\n",
        "### $\\hat{\\beta}\\sim \\mathcal{N}(\\beta, C\\cdotσ^2)$\n",
        "### $\\hat{\\beta_0}\\sim \\mathcal{N}(\\beta_0, C_{[1,1]}\\cdotσ^2)$\n",
        "### $Z =\\frac{\\hat{\\beta_0}-\\beta_0}{\\sqrt{C_{[1,1]}\\cdotσ^2}}\\sim \\mathcal{N}(0, 1)$\n",
        "### $ U = \\frac{(n-r)\\cdot \\hat{\\sigma}^2}{σ^2}= \\frac{(n-r)\\cdot S^2}{σ^2}\\sim χ^2_{n-r}$\n",
        "### $T=\\dfrac{Z}{\\sqrt{U/r}} = \\frac{\\frac{\\hat{\\beta_0}-\\beta_0}{\\sqrt{C_{[1,1]}\\cdotσ^2}}}{\\sqrt{\\frac{1}{n-r}\\cdot \\frac{(n-r)⋅ S^2}{σ^2}}}\\sim t_{n-r}$\n",
        "### <center> $\\frac{\\hat{\\beta_0}-\\beta_0}{\\sqrt{C_{[1,1]}\\cdot S^2}}\\sim t_{n-r}$\n",
        "\n"
      ],
      "metadata": {
        "id": "ehQIQz-cojnB"
      }
    },
    {
      "cell_type": "markdown",
      "source": [
        "### $P(-t_{α/2}<\\frac{\\hat{\\beta_0}-\\beta_0}{\\sqrt{C_{[1,1]}\\cdot S^2}}<t_{α/2})=1-α$\n",
        "### $P(\\hat{\\beta_0}-t_{1 -α/2}\\sqrt{C_{[1,1]}\\cdot S^2}<\\beta_0<\\hat{\\beta_0}+t_{α/2}\\sqrt{C_{[1,1]}\\cdot S^2})=1-α$\n",
        "### $P(9.61<\\beta_0< 15.41)=0.80$\n",
        "\n",
        "\n",
        "\n"
      ],
      "metadata": {
        "id": "imR8uat4KUDx"
      }
    },
    {
      "cell_type": "code",
      "source": [
        "sl = 0.2\n",
        "n = 50\n",
        "r = 2"
      ],
      "metadata": {
        "id": "HUV9xJFxRhnR"
      },
      "execution_count": null,
      "outputs": []
    },
    {
      "cell_type": "code",
      "source": [
        "[est_beta[0] - stats.t.ppf(1-sl/2 , df=(n-r)) * pow(LA.inv(X.T @ X)[0][0] * unbiased_var_est, 0.5),\n",
        " est_beta[0] + stats.t.ppf(1-sl/2, df=(n-r)) * pow(LA.inv(X.T @ X)[0][0] * unbiased_var_est, 0.5)]\n"
      ],
      "metadata": {
        "colab": {
          "base_uri": "https://localhost:8080/"
        },
        "id": "NUJx_YkXOrrx",
        "outputId": "3265e8ea-9072-416a-9a53-994b88968c2b"
      },
      "execution_count": null,
      "outputs": [
        {
          "output_type": "execute_result",
          "data": {
            "text/plain": [
              "[9.60838009340932, 15.406265304305709]"
            ]
          },
          "metadata": {},
          "execution_count": 575
        }
      ]
    },
    {
      "cell_type": "markdown",
      "source": [
        "### $P(-t_{α/2}<\\frac{\\hat{\\beta_1}-\\beta_1}{\\sqrt{C_{[2,2]}\\cdot S^2}}<t_{α/2})=1-α$\n",
        "### $P(\\hat{\\beta_1}-t_{α/2}\\sqrt{C_{[2,2]}\\cdot S^2}<\\beta_1<\\hat{\\beta_1}+t_{α/2}\\sqrt{C_{[2,2]}\\cdot S^2})=1-α$\n",
        "### $P(-0.18<\\beta_1< 0.88)=0.80$"
      ],
      "metadata": {
        "id": "FNDZHG46OsgS"
      }
    },
    {
      "cell_type": "code",
      "source": [
        "[est_beta[1] - stats.t.ppf(1-sl/2, df=(n-r)) * pow(LA.inv(X.T @ X)[1][1] * unbiased_var_est, 0.5),\n",
        " est_beta[1] + stats.t.ppf(1-sl/2, df=(n-r)) * pow(LA.inv(X.T @ X)[1][1] * unbiased_var_est, 0.5)]\n"
      ],
      "metadata": {
        "colab": {
          "base_uri": "https://localhost:8080/"
        },
        "id": "Vz9idvf9OtTg",
        "outputId": "0e9668bd-cc08-4082-fb49-d86c7ab104a8"
      },
      "execution_count": null,
      "outputs": [
        {
          "output_type": "execute_result",
          "data": {
            "text/plain": [
              "[-0.17838349115802427, 0.878752105083439]"
            ]
          },
          "metadata": {},
          "execution_count": 576
        }
      ]
    },
    {
      "cell_type": "code",
      "source": [
        "C = np.array([[1,0],[0,1]])\n",
        "C"
      ],
      "metadata": {
        "colab": {
          "base_uri": "https://localhost:8080/"
        },
        "id": "NJnVArd10aKW",
        "outputId": "39b08c65-4a0b-4d34-d348-4d42ffbc044f"
      },
      "execution_count": null,
      "outputs": [
        {
          "output_type": "execute_result",
          "data": {
            "text/plain": [
              "array([[1, 0],\n",
              "       [0, 1]])"
            ]
          },
          "metadata": {},
          "execution_count": 577
        }
      ]
    },
    {
      "cell_type": "markdown",
      "source": [
        "### $\\Psi = C^T\\beta$\n",
        "### $C = \\begin{pmatrix} 1 & 0 \\\\ 0 & 1 \\end{pmatrix}$\n",
        "### $\\hat{\\Psi} = C^T\\hat{\\beta} \\sim \\mathcal{N}(\\Psi, \\sigma^2C^T(XX^T)^{-1}C)$\n",
        "\n",
        "### $(\\widehat{Ψ}-Ψ)^T(C^T(XX^T)^{-1}C)^{-1}(\\widehat{Ψ}-Ψ)\\leq qS^2x_{α} $\n",
        "### $(\\widehat{Ψ}-Ψ)^T(C^T(XX^T)^{-1}C)^{-1}(\\widehat{Ψ}-Ψ) = \\lambda_1x^2 + \\lambda_2y^2$\n",
        "### $\\frac{\\lambda_1x^2 + \\lambda_2y^2}{qS^2} < x_\\alpha$\n",
        "### $ x^2\\frac{\\lambda_1}{qS^2x_\\alpha} + y^2\\frac{\\lambda_2}{qS^2x_\\alpha}< 1$\n",
        "### $ 0.26 \\cdot x^2 + 9.37 \\cdot y^2< 1$\n"
      ],
      "metadata": {
        "id": "lNCpg22Xoqgy"
      }
    },
    {
      "cell_type": "markdown",
      "source": [
        "### Полуоси: 1.96 и 0.32"
      ],
      "metadata": {
        "id": "bTvK4YGMQjUc"
      }
    },
    {
      "cell_type": "code",
      "source": [
        "pow(1/0.26, 0.5)"
      ],
      "metadata": {
        "colab": {
          "base_uri": "https://localhost:8080/"
        },
        "id": "3k47U2bRPziZ",
        "outputId": "37cd0529-11c4-4cb1-a077-1b82dac20db0"
      },
      "execution_count": null,
      "outputs": [
        {
          "output_type": "execute_result",
          "data": {
            "text/plain": [
              "1.9611613513818402"
            ]
          },
          "metadata": {},
          "execution_count": 578
        }
      ]
    },
    {
      "cell_type": "code",
      "source": [
        "pow(1/9.37, 0.5)"
      ],
      "metadata": {
        "colab": {
          "base_uri": "https://localhost:8080/"
        },
        "id": "L1lSpdlgQES4",
        "outputId": "3758a989-7b5a-43eb-eaa3-65694beacbe0"
      },
      "execution_count": null,
      "outputs": [
        {
          "output_type": "execute_result",
          "data": {
            "text/plain": [
              "0.3266857601924006"
            ]
          },
          "metadata": {},
          "execution_count": 579
        }
      ]
    },
    {
      "cell_type": "code",
      "source": [
        "LA.eig(X.T @ X)"
      ],
      "metadata": {
        "colab": {
          "base_uri": "https://localhost:8080/"
        },
        "id": "ur-_eX1CM6bk",
        "outputId": "24b3ac35-367e-4861-812e-450b5008d8ed"
      },
      "execution_count": null,
      "outputs": [
        {
          "output_type": "execute_result",
          "data": {
            "text/plain": [
              "(array([  12.03398768, 1541.96601232]),\n",
              " array([[-0.98751431, -0.15752933],\n",
              "        [ 0.15752933, -0.98751431]]))"
            ]
          },
          "metadata": {},
          "execution_count": 580
        }
      ]
    },
    {
      "cell_type": "code",
      "source": [
        "[ 11.91347953 /(LA.norm(Y - X @ est_beta)* stats.norm.ppf(0.8)), 428.08652047 /(LA.norm(Y - X @ est_beta) * stats.norm.ppf(0.8))]"
      ],
      "metadata": {
        "colab": {
          "base_uri": "https://localhost:8080/"
        },
        "id": "m3Xe9oBJNhsU",
        "outputId": "f831e5db-caac-4ded-e28a-7cca0ba5c473"
      },
      "execution_count": null,
      "outputs": [
        {
          "output_type": "execute_result",
          "data": {
            "text/plain": [
              "[0.2607349777258155, 9.368978147685397]"
            ]
          },
          "metadata": {},
          "execution_count": 581
        }
      ]
    },
    {
      "cell_type": "markdown",
      "source": [
        "### 4. Сформулировать гипотезу независимой переменной Y от переменной X. Провести проверку зависимости."
      ],
      "metadata": {
        "id": "PIHYMRkJr8iK"
      }
    },
    {
      "cell_type": "markdown",
      "source": [
        "### Проверим гипотезу о независимости"
      ],
      "metadata": {
        "id": "anePhLeqp5Ez"
      }
    },
    {
      "cell_type": "markdown",
      "source": [
        "### $H_0: \\beta_1 = 0$\n",
        "### $H_A: \\beta_1 \\neq 0$\n",
        "\n",
        "### $F = \\frac{\\widehat{Ψ}^T(C^T(XX^T)^{-1}C)^{-1}\\widehat{Ψ}}{qS^2}$"
      ],
      "metadata": {
        "id": "z30vLlh8pswF"
      }
    },
    {
      "cell_type": "code",
      "source": [
        "q = 1\n",
        "C = np.array([[0], [1]]).T\n",
        "print(((est_beta[1] * LA.inv(C @ LA.inv(X.T @ X) @ C.T) * est_beta[1]) / (q * LA.norm(Y - X @ est_beta)**2)) < stats.f.ppf(0.8, 1, 49))\n"
      ],
      "metadata": {
        "id": "tg3stCcG2ekj",
        "colab": {
          "base_uri": "https://localhost:8080/"
        },
        "outputId": "59c65eba-f8a5-48bd-9a04-4b51d66398b1"
      },
      "execution_count": null,
      "outputs": [
        {
          "output_type": "stream",
          "name": "stdout",
          "text": [
            "[[ True]]\n"
          ]
        }
      ]
    },
    {
      "cell_type": "markdown",
      "source": [
        "### Гипотезу о независимости стоит принять"
      ],
      "metadata": {
        "id": "rH-D26io8agG"
      }
    },
    {
      "cell_type": "markdown",
      "source": [
        "### 5. Сформулировать модель, включающую дополнительный член с $X^2$. Построить МНК оценки параметров сдвига $\\beta_0$, $\\beta_1$, $\\beta_2$ в данной модели. Изобразить графически полученную регрессионную зависимость."
      ],
      "metadata": {
        "id": "Zc2zpb1KtR2R"
      }
    },
    {
      "cell_type": "markdown",
      "source": [
        "### Обновленная модель:\n",
        "### $\\begin{pmatrix} y_{1}\\\\ y_{2}\\\\ \\vdots\\\\ y_{50} \\end{pmatrix} = \\begin{pmatrix} 1 & x_{1} & x^2_{1}\\\\ 1 & x_{2} & x^2_{2}\\\\ \\vdots  & \\vdots & \\vdots\\\\ 1 & x_{50} & x^2_{50} \\end{pmatrix} \\begin{pmatrix} \\beta_0\\\\ \\beta_1\\\\ \\beta_2 \\end{pmatrix} + \\begin{pmatrix} \\varepsilon_{1}\\\\ \\varepsilon_{2}\\\\ \\vdots\\\\ \\varepsilon_{50} \\end{pmatrix}$"
      ],
      "metadata": {
        "id": "7Z0Rf-WCvV8Y"
      }
    },
    {
      "cell_type": "code",
      "source": [
        "X = np.array([[1, x,  x**2] for x in raw_X])\n",
        "X[:5]"
      ],
      "metadata": {
        "id": "F8SekAA6wF99",
        "colab": {
          "base_uri": "https://localhost:8080/"
        },
        "outputId": "0c3ebefb-9df5-4b2c-a843-b584fbddc5de"
      },
      "execution_count": null,
      "outputs": [
        {
          "output_type": "execute_result",
          "data": {
            "text/plain": [
              "array([[ 1,  3,  9],\n",
              "       [ 1,  9, 81],\n",
              "       [ 1,  7, 49],\n",
              "       [ 1,  7, 49],\n",
              "       [ 1,  2,  4]])"
            ]
          },
          "metadata": {},
          "execution_count": 583
        }
      ]
    },
    {
      "cell_type": "code",
      "source": [
        "est_beta = LA.inv(X.T @ X) @ X.T @ Y\n",
        "est_bias = est_beta[0]\n",
        "est_scale = est_beta[1]\n",
        "est_scale2 = est_beta[2]\n",
        "est_beta"
      ],
      "metadata": {
        "id": "eoL88qeMwpoj",
        "colab": {
          "base_uri": "https://localhost:8080/"
        },
        "outputId": "0607714e-ffbc-4a98-f93e-d344178151e4"
      },
      "execution_count": null,
      "outputs": [
        {
          "output_type": "execute_result",
          "data": {
            "text/plain": [
              "array([10.81026258,  1.45745924, -0.11880215])"
            ]
          },
          "metadata": {},
          "execution_count": 584
        }
      ]
    },
    {
      "cell_type": "code",
      "source": [
        "sns.scatterplot(x=raw_X, y=Y)\n",
        "sns.lineplot(x=[x for x in range(10)], y=[(x**2) * est_scale2 + est_scale * x + est_bias for x in range(10)], color=\"orange\")\n",
        "None"
      ],
      "metadata": {
        "id": "hPFHXIgDxIKK",
        "colab": {
          "base_uri": "https://localhost:8080/",
          "height": 434
        },
        "outputId": "067f2d66-14cd-45b1-8755-60a7e94e57ec"
      },
      "execution_count": null,
      "outputs": [
        {
          "output_type": "display_data",
          "data": {
            "text/plain": [
              "<Figure size 640x480 with 1 Axes>"
            ],
            "image/png": "[encoded data removed]"
          },
          "metadata": {}
        }
      ]
    },
    {
      "cell_type": "markdown",
      "source": [
        "### 6. Построить несмещенную оценку дисперсии. Провести исследование нормальности ошибок как в пункте 2."
      ],
      "metadata": {
        "id": "vVSSwySstZ-V"
      }
    },
    {
      "cell_type": "markdown",
      "source": [
        "### Оценка дисперсии"
      ],
      "metadata": {
        "id": "ze8Kl6-G1lKT"
      }
    },
    {
      "cell_type": "code",
      "source": [
        "n = 50\n",
        "r = 3 # regressors\n",
        "unbiased_var_est = LA.norm(Y - X @ est_beta)**2/(n-r)\n",
        "unbiased_var_est"
      ],
      "metadata": {
        "id": "oG6hYnHjx6Az",
        "colab": {
          "base_uri": "https://localhost:8080/"
        },
        "outputId": "cb64d000-f790-40bd-d91d-6f230ae87ff1"
      },
      "execution_count": null,
      "outputs": [
        {
          "output_type": "execute_result",
          "data": {
            "text/plain": [
              "61.98090059356504"
            ]
          },
          "metadata": {},
          "execution_count": 586
        }
      ]
    },
    {
      "cell_type": "markdown",
      "source": [
        "### Интерпретация: Дисперсия стала еще больше, что может свидетельствовать о том, что модель еще хуже подходит под данные"
      ],
      "metadata": {
        "id": "YAwbpk6tzCMc"
      }
    },
    {
      "cell_type": "code",
      "source": [
        "errs = Y - X @ est_beta\n",
        "variational_series = errs.copy()\n",
        "variational_series.sort()\n",
        "variational_series"
      ],
      "metadata": {
        "id": "pxMK0TZ71oxl",
        "colab": {
          "base_uri": "https://localhost:8080/"
        },
        "outputId": "1f015c75-e27e-496a-d536-a657eb251315"
      },
      "execution_count": null,
      "outputs": [
        {
          "output_type": "execute_result",
          "data": {
            "text/plain": [
              "array([-14.08659912, -11.57997248, -11.36814075,  -9.95814075,\n",
              "        -9.71342099,  -9.69891968,  -9.56997248,  -8.58342099,\n",
              "        -7.87750513,  -7.29117208,  -6.29814075,  -6.22117208,\n",
              "        -5.19442187,  -4.82342099,  -3.70926521,  -3.50997248,\n",
              "        -3.22659912,  -2.64442187,  -2.32926521,  -2.21117208,\n",
              "        -2.04026258,  -1.93750513,  -1.71891968,  -1.63814075,\n",
              "        -1.61026258,  -1.36342099,  -1.11814075,  -1.02026258,\n",
              "        -0.18117208,  -0.16442187,   0.21002752,   1.64340088,\n",
              "         1.65657901,   1.85073479,   3.60882792,   3.90657901,\n",
              "         5.43557813,   5.69557813,   5.88185925,   5.88882792,\n",
              "         7.20340088,   7.94657901,   8.28249487,   9.82073479,\n",
              "         9.89002752,   9.97973742,  13.22340088,  14.62073479,\n",
              "        17.95249487,  17.99002752])"
            ]
          },
          "metadata": {},
          "execution_count": 587
        }
      ]
    },
    {
      "cell_type": "code",
      "source": [
        "sns.set(style='dark',)\n",
        "sns.displot(variational_series, binwidth=2.8, color='purple')\n",
        "None"
      ],
      "metadata": {
        "id": "Gce9PIMf1_tC",
        "colab": {
          "base_uri": "https://localhost:8080/",
          "height": 501
        },
        "outputId": "932c0ae4-4fc5-4fdf-d65b-80f2d26c475e"
      },
      "execution_count": null,
      "outputs": [
        {
          "output_type": "display_data",
          "data": {
            "text/plain": [
              "<Figure size 500x500 with 1 Axes>"
            ],
            "image/png": "[encoded data removed]"
          },
          "metadata": {}
        }
      ]
    },
    {
      "cell_type": "code",
      "source": [
        "intervals = [[[\"-inf\", -9.4], 8],\n",
        "            [[-9.4, -3.8], 9],\n",
        "            [[-3.8, -1], 13],\n",
        "            [[-1, 4.6], 7],\n",
        "             [[4.6, 7.4], 6],\n",
        "            [[7.4, \"inf\"], 7]]\n",
        "intervals"
      ],
      "metadata": {
        "id": "eizgbmcv2JJE",
        "colab": {
          "base_uri": "https://localhost:8080/"
        },
        "outputId": "d4392d85-3c25-4af3-81ee-03182cb90531"
      },
      "execution_count": null,
      "outputs": [
        {
          "output_type": "execute_result",
          "data": {
            "text/plain": [
              "[[['-inf', -9.4], 8],\n",
              " [[-9.4, -3.8], 9],\n",
              " [[-3.8, -1], 13],\n",
              " [[-1, 4.6], 7],\n",
              " [[4.6, 7.4], 6],\n",
              " [[7.4, 'inf'], 7]]"
            ]
          },
          "metadata": {},
          "execution_count": 589
        }
      ]
    },
    {
      "cell_type": "code",
      "source": [
        "def chi24norm(params):\n",
        "    theoretical_values= [[[\"-inf\", -9.4]],\n",
        "            [[-9.4, -3.8]],\n",
        "            [[-3.8, -1]],\n",
        "            [[-1, 4.6]],\n",
        "             [[4.6, 7.4]],\n",
        "            [[7.4, \"inf\"]]]\n",
        "    for i in range(1, len(theoretical_values)-1):\n",
        "        theoretical_values[i].append(stats.norm.cdf(theoretical_values[i][0][1], loc=params[0], scale=params[1]) - stats.norm.cdf(theoretical_values[i][0][0], loc=params[0], scale=params[1]))\n",
        "    theoretical_values[-1].append(1 - stats.norm.cdf(x=7.4, loc=params[0], scale=params[1]))\n",
        "    theoretical_values[0].append(stats.norm.cdf(x=-9.4, loc=params[0], scale=params[1]))\n",
        "\n",
        "    obs = [8, 9, 13, 7, 6, 7]\n",
        "    n = 50\n",
        "    chi2 = 0\n",
        "    for i in range(len(theoretical_values)):\n",
        "        chi2 += (obs[i] - n * theoretical_values[i][1])**2/(n*theoretical_values[i][1])\n",
        "    return chi2"
      ],
      "metadata": {
        "id": "HFWUCemB4BQb"
      },
      "execution_count": null,
      "outputs": []
    },
    {
      "cell_type": "code",
      "source": [
        "opt.minimize(x0=[1, 10], fun=chi24norm, bounds=[(None, None),(0, None)])"
      ],
      "metadata": {
        "id": "muvqMfhv4ZDp",
        "colab": {
          "base_uri": "https://localhost:8080/"
        },
        "outputId": "ed66448f-40ef-4e76-ffa6-bb7e9490f8c0"
      },
      "execution_count": null,
      "outputs": [
        {
          "output_type": "execute_result",
          "data": {
            "text/plain": [
              "  message: CONVERGENCE: NORM_OF_PROJECTED_GRADIENT_<=_PGTOL\n",
              "  success: True\n",
              "   status: 0\n",
              "      fun: 8.64365267514633\n",
              "        x: [-1.341e+00  7.587e+00]\n",
              "      nit: 7\n",
              "      jac: [-2.665e-06 -1.776e-07]\n",
              "     nfev: 30\n",
              "     njev: 10\n",
              " hess_inv: <2x2 LbfgsInvHessProduct with dtype=float64>"
            ]
          },
          "metadata": {},
          "execution_count": 591
        }
      ]
    },
    {
      "cell_type": "markdown",
      "source": [
        "### $\\chi^2_{est} \\approx 8.64 < \\chi^2_{crit} = \\chi^2_{3} \\approx 4.642$\n",
        "### Гипотезу нормальности стоит отклонить"
      ],
      "metadata": {
        "id": "m8o1jF6U-6hG"
      }
    },
    {
      "cell_type": "markdown",
      "source": [
        "### Гипотезу стоит отклонить"
      ],
      "metadata": {
        "id": "csE89osfgolL"
      }
    },
    {
      "cell_type": "markdown",
      "source": [
        "### Колмогоров"
      ],
      "metadata": {
        "id": "XeP8JeU8eUNp"
      }
    },
    {
      "cell_type": "code",
      "source": [
        "ECDF = lambda x: len(errs[errs <= x])/len(errs)\n",
        "def KS(params):\n",
        "    D = max([abs(stats.norm.cdf(x, loc=params[0], scale=params[1]) - ECDF(x)) for x in errs])\n",
        "    return D * pow(n, 0.5)"
      ],
      "metadata": {
        "id": "gFh6D1RSeXjU"
      },
      "execution_count": null,
      "outputs": []
    },
    {
      "cell_type": "code",
      "source": [
        "opt.minimize(x0=[0, 0.33], fun=KS, bounds=[(None, None),(0, None)])"
      ],
      "metadata": {
        "colab": {
          "base_uri": "https://localhost:8080/"
        },
        "id": "OrNePCI_ehFH",
        "outputId": "41a7fade-2e3e-49d5-fc77-94ccc846adac"
      },
      "execution_count": null,
      "outputs": [
        {
          "output_type": "execute_result",
          "data": {
            "text/plain": [
              "  message: CONVERGENCE: REL_REDUCTION_OF_F_<=_FACTR*EPSMCH\n",
              "  success: True\n",
              "   status: 0\n",
              "      fun: 0.439404590886105\n",
              "        x: [-1.026e+00  7.608e+00]\n",
              "      nit: 14\n",
              "      jac: [-2.585e-01  7.742e-02]\n",
              "     nfev: 222\n",
              "     njev: 74\n",
              " hess_inv: <2x2 LbfgsInvHessProduct with dtype=float64>"
            ]
          },
          "metadata": {},
          "execution_count": 593
        }
      ]
    },
    {
      "cell_type": "markdown",
      "source": [
        "### Оценка расстояния: 0.43"
      ],
      "metadata": {
        "id": "dpLlYuvl_NCM"
      }
    },
    {
      "cell_type": "markdown",
      "source": [
        "### $D(X) = sup|F_n(x)-F_0(x)|$\n",
        "### $\\sqrt{n}D(X) \\overset{d}{\\rightarrow} Y \\sim K$\n",
        "\n",
        "### $  K(C_{\\alpha_2})=1-\\alpha_2=1-0.2=0.8$\n",
        "### $C_{\\alpha_2}=C_{0.1}= 0.1489\t$\n",
        "### $ \\sqrt{n}D = 3.041 > 0.1489  $"
      ],
      "metadata": {
        "id": "NH2I3Kp7gjGv"
      }
    },
    {
      "cell_type": "markdown",
      "source": [
        "### Гипотезу нормальности стоит отклонить"
      ],
      "metadata": {
        "id": "GbFm7Y2Y7vCp"
      }
    },
    {
      "cell_type": "code",
      "source": [
        "errs.sort()"
      ],
      "metadata": {
        "id": "yJ09w39n71Vy"
      },
      "execution_count": null,
      "outputs": []
    },
    {
      "cell_type": "code",
      "source": [
        "px = np.linspace(-15, 20, 1000)\n",
        "plt.plot(np.linspace(-15, 20, 1000), stats.norm.cdf(px, loc=-1.026, scale=7.608))\n",
        "plt.plot(errs, [ECDF(err) for err in errs])"
      ],
      "metadata": {
        "colab": {
          "base_uri": "https://localhost:8080/",
          "height": 451
        },
        "id": "w2Y-5fV07VPO",
        "outputId": "2f31a71d-bd77-4733-848b-c1820b007639"
      },
      "execution_count": null,
      "outputs": [
        {
          "output_type": "execute_result",
          "data": {
            "text/plain": [
              "[<matplotlib.lines.Line2D at 0x7976cadc1270>]"
            ]
          },
          "metadata": {},
          "execution_count": 604
        },
        {
          "output_type": "display_data",
          "data": {
            "text/plain": [
              "<Figure size 640x480 with 1 Axes>"
            ],
            "image/png": "[encoded data removed]"
          },
          "metadata": {}
        }
      ]
    },
    {
      "cell_type": "markdown",
      "source": [
        "### Если оценивать расстояние визуально, то вывод совпадает с рассчетным"
      ],
      "metadata": {
        "id": "8bmyCX_p7Udh"
      }
    },
    {
      "cell_type": "markdown",
      "source": [
        "### 7. В предположении нормальности ошибок построить доверительные интервалы для параметров $\\beta_0$, $\\beta_1$, $\\beta_2$ уровня доверия $1 - \\alpha$. Построить доверительный эллипс уровня доверия $1 - \\alpha$."
      ],
      "metadata": {
        "id": "WAcrhXahtzxD"
      }
    },
    {
      "cell_type": "markdown",
      "source": [
        "###$P(-t_{α/2}<\\frac{\\hat{\\beta_0}-\\beta_0}{\\sqrt{C_{[1,1]}\\cdot S^2}}<t_{α/2})=1-α$\n",
        "###$P(\\hat{\\beta_0}-t_{α/2}\\sqrt{C_{[1,1]}\\cdot S^2}<\\beta_0<\\hat{\\beta_0}+t_{α/2}\\sqrt{C_{[1,1]}\\cdot S^2})=1-α$\n",
        "###$P(10.24<\\beta_0< 11.37)=0.80$"
      ],
      "metadata": {
        "id": "TVZW72gWVFlB"
      }
    },
    {
      "cell_type": "code",
      "source": [
        "sl = 0.2\n",
        "n = 50\n",
        "r = 3"
      ],
      "metadata": {
        "id": "rRO8C_ntVGhI"
      },
      "execution_count": null,
      "outputs": []
    },
    {
      "cell_type": "code",
      "source": [
        "[est_beta[0] - stats.t.ppf(1-sl/2, df=(n-r)) * pow(LA.inv(X.T @ X)[0][0] * unbiased_var_est, 0.5),\n",
        " est_beta[0] + stats.t.ppf(1-sl/2, df=(n-r)) * pow(LA.inv(X.T @ X)[0][0] * unbiased_var_est, 0.5)]"
      ],
      "metadata": {
        "colab": {
          "base_uri": "https://localhost:8080/"
        },
        "id": "K7XDeDF2Vicn",
        "outputId": "69230bbf-2f3f-4d30-c236-a6287ab6d8fe"
      },
      "execution_count": null,
      "outputs": [
        {
          "output_type": "execute_result",
          "data": {
            "text/plain": [
              "[6.654502006059439, 14.96602315813589]"
            ]
          },
          "metadata": {},
          "execution_count": 597
        }
      ]
    },
    {
      "cell_type": "markdown",
      "source": [
        "### $P(-t_{α/2}<\\frac{\\hat{\\beta_1}-\\beta_1}{\\sqrt{C_{[2,2]}\\cdot S^2}}<t_{α/2})=1-α$\n",
        "### $P(\\hat{\\beta_1}-t_{α/2}\\sqrt{C_{[2,2]}\\cdot S^2}<\\beta_1<\\hat{\\beta_1}+t_{α/2}\\sqrt{C_{[2,2]}\\cdot S^2})=1-α$\n",
        "### $P(1.18<\\beta_1< 1.73)=0.80$"
      ],
      "metadata": {
        "id": "JCIe6b3GVHJV"
      }
    },
    {
      "cell_type": "code",
      "source": [
        "[est_beta[1] - stats.t.ppf(1-sl/2, df=(n-r)) * pow(LA.inv(X.T @ X)[1][1] * unbiased_var_est, 0.5),\n",
        " est_beta[1] + stats.t.ppf(1-sl/2, df=(n-r)) * pow(LA.inv(X.T @ X)[1][1] * unbiased_var_est, 0.5)]"
      ],
      "metadata": {
        "colab": {
          "base_uri": "https://localhost:8080/"
        },
        "id": "wG3U3kFRVjWI",
        "outputId": "55931e90-0e54-4829-9ab3-ec9d604275f8"
      },
      "execution_count": null,
      "outputs": [
        {
          "output_type": "execute_result",
          "data": {
            "text/plain": [
              "[-0.5477952436484053, 3.462713732122146]"
            ]
          },
          "metadata": {},
          "execution_count": 598
        }
      ]
    },
    {
      "cell_type": "markdown",
      "source": [
        "### $P(-t_{α/2}<\\frac{\\hat{\\beta_2}-\\beta_2}{\\sqrt{C_{[3,3]}\\cdot S^2}}<t_{α/2})=1-α$\n",
        "### $P(\\hat{\\beta_2}-t_{α/2}\\sqrt{C_{[3,3]}\\cdot S^2}<\\beta_2<\\hat{\\beta_2}+t_{α/2}\\sqrt{C_{[3,3]}\\cdot S^2})=1-α$\n",
        "### $P(-0.15<\\beta_2< -0.09)=0.80$"
      ],
      "metadata": {
        "id": "wYvxlz8DVMJ7"
      }
    },
    {
      "cell_type": "code",
      "source": [
        "[est_beta[2] - stats.t.ppf(1-sl/2, df=(n-r)) * pow(LA.inv(X.T @ X)[2][2] * unbiased_var_est, 0.5),\n",
        " est_beta[2] + stats.t.ppf(1-sl/2, df=(n-r)) * pow(LA.inv(X.T @ X)[2][2] * unbiased_var_est, 0.5)]"
      ],
      "metadata": {
        "colab": {
          "base_uri": "https://localhost:8080/"
        },
        "id": "m2W82sXVVlPv",
        "outputId": "b1117312-7e43-4e09-d3af-99ea92547426"
      },
      "execution_count": null,
      "outputs": [
        {
          "output_type": "execute_result",
          "data": {
            "text/plain": [
              "[-0.3262644688645945, 0.0886601746714318]"
            ]
          },
          "metadata": {},
          "execution_count": 599
        }
      ]
    },
    {
      "cell_type": "markdown",
      "source": [
        "### Элипсоид"
      ],
      "metadata": {
        "id": "dL0667nQ9Ds8"
      }
    },
    {
      "cell_type": "markdown",
      "source": [
        "### $ x^2\\frac{\\lambda_1}{qS^2x_\\alpha} + y^2\\frac{\\lambda_2}{qS^2x_\\alpha} + z^2\\frac{\\lambda_3}{qS^2x_\\alpha} = 1$"
      ],
      "metadata": {
        "id": "Qn-Zcx7587M9"
      }
    },
    {
      "cell_type": "markdown",
      "source": [
        "### $ 1790.93 \\cdot x^2 + 0.11 \\cdot y^2 + 107.91 \\cdot z^2= 1$"
      ],
      "metadata": {
        "id": "og-Kt5D_9uCB"
      }
    },
    {
      "cell_type": "code",
      "source": [
        "LA.eig(X.T @ X)"
      ],
      "metadata": {
        "colab": {
          "base_uri": "https://localhost:8080/"
        },
        "id": "ZF1XE94r9RtQ",
        "outputId": "1e48202c-aca1-41b9-e1d8-2d081543909b"
      },
      "execution_count": null,
      "outputs": [
        {
          "output_type": "execute_result",
          "data": {
            "text/plain": [
              "(array([8.13529456e+04, 5.14270594e+00, 1.07911701e+02]),\n",
              " array([[-0.01871991, -0.9168169 , -0.39886882],\n",
              "        [-0.13184749,  0.39771842, -0.90798474],\n",
              "        [-0.99109324, -0.03559246,  0.12832526]]))"
            ]
          },
          "metadata": {},
          "execution_count": 605
        }
      ]
    },
    {
      "cell_type": "code",
      "source": [
        "[ 81352.9456 /(LA.norm(Y - X @ est_beta)* stats.norm.ppf(0.8)), 5.14270594 /(LA.norm(Y - X @ est_beta) * stats.norm.ppf(0.8)),\n",
        " 107.911701 /(LA.norm(Y - X @ est_beta)* stats.norm.ppf(0.8))]"
      ],
      "metadata": {
        "colab": {
          "base_uri": "https://localhost:8080/"
        },
        "id": "5AmHjwMs9Pfu",
        "outputId": "7558fe0a-3ac8-4614-cb29-6be6486f9b87"
      },
      "execution_count": null,
      "outputs": [
        {
          "output_type": "execute_result",
          "data": {
            "text/plain": [
              "[1790.9304819624313, 0.11321321876899879, 2.375603652159778]"
            ]
          },
          "metadata": {},
          "execution_count": 606
        }
      ]
    },
    {
      "cell_type": "markdown",
      "source": [
        "### 8. Сформулировать гипотезу линейной регрессионной зависимости переменной Y от переменной X и проверить её значимость на уровне $\\alpha$."
      ],
      "metadata": {
        "id": "LExCVOwauVaj"
      }
    },
    {
      "cell_type": "markdown",
      "source": [
        "### $H_0: \\beta_1 = \\beta_2 = 0$\n",
        "### $H_A: \\exists \\beta_i \\neq 0$\n",
        "\n",
        "### $F = \\frac{\\widehat{Ψ}^T(C^T(XX^T)^{-1}C)^{-1}\\widehat{Ψ}}{qS^2}$"
      ],
      "metadata": {
        "id": "G0lJxdVM_lB_"
      }
    },
    {
      "cell_type": "code",
      "source": [
        "q = 3\n",
        "C = np.array([[0],[0],[1]])\n",
        "print(((est_beta[2] * LA.inv(C.T @ LA.inv(X.T @ X) @ C) * est_beta[2]) / (q * LA.norm(Y - X @ est_beta))) < stats.f.ppf(0.8, 1, 48))\n",
        "stats.f.ppf(0.9, 1, 48)"
      ],
      "metadata": {
        "id": "PI-oA-ru_RRs",
        "colab": {
          "base_uri": "https://localhost:8080/"
        },
        "outputId": "98c56362-5752-4844-a827-4904166d28eb"
      },
      "execution_count": null,
      "outputs": [
        {
          "output_type": "stream",
          "name": "stdout",
          "text": [
            "[[ True]]\n"
          ]
        },
        {
          "output_type": "execute_result",
          "data": {
            "text/plain": [
              "2.8130810040649394"
            ]
          },
          "metadata": {},
          "execution_count": 600
        }
      ]
    },
    {
      "cell_type": "markdown",
      "source": [
        "### Гипотезу о независимости стоит принять"
      ],
      "metadata": {
        "id": "anl0GEbRCKH5"
      }
    },
    {
      "cell_type": "markdown",
      "source": [
        "## Выводы\n",
        "### Было построено 2 модели линейной регрессии, однако при проверке гипотез о независимости выяснилось, что обе модели плохо подходят под данные, скорее всего, потому что на таких данных нельзя использовать модель линейной регрессии. Также для обеих моделей были проверены гипотезы нормальности ошибок с помощью двух критериев, все из них указали, что на уровне значимости 0.2 гипотезы о нормальности ошибок стоит отклонить."
      ],
      "metadata": {
        "id": "MRavxKWB-SvB"
      }
    }
  ]
}