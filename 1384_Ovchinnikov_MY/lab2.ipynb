{
 "cells": [
  {
   "cell_type": "markdown",
   "source": [
    "# Лабораторная работа №2: Классические методы математической статистики\n",
    "Выполнил студент гр. 1384 Овчинников Максим. Вариант №11"
   ],
   "metadata": {
    "collapsed": false
   },
   "id": "fcc0d0e1c586aa9d"
  },
  {
   "cell_type": "markdown",
   "source": [
    "## Цель работы\n",
    "Научится применять методы математической статистики для визуализации и анализа полученных данных; сформировать навыки реализации методов с помощью прикладных программных пакетов."
   ],
   "metadata": {
    "collapsed": false
   },
   "id": "f976bdfb4b58ee75"
  },
  {
   "cell_type": "markdown",
   "source": [
    "## Основные теоретические положения\n",
    "\n",
    "1. Выборочный аналог математического ожидания\n",
    "$\\overline{X} =\\frac{1}{n}\\sum_{i=1}^{n}x_i$\n",
    "\n",
    "2. Выборочный аналог дисперсии и СКО\n",
    "$S^2 =\\frac{1}{n}\\sum_{i=1}^{n}\\left(x_i-\\overline{X}\\right)$\n",
    "\n",
    "$S=\\sqrt{S^2}$\n",
    "\n",
    "\n",
    "\n",
    "3. Выборочный коэффициент асимметрии\n",
    "$\\widehat{\\mathrm{Skew}}X=\\frac{1}{n}\\frac{\\sum \\limits_{i=1}^{n}\\left(x_i-\\overline{X}\\right)^3}{S^3}$\n",
    "\n",
    "4. Выборочный коэффициент эксцесса:\n",
    "$\\widehat{\\mathrm{Kurt}}X=\\frac{1}{n}\\frac{\\sum \\limits_{i=1}^{n}\\left(x_i-\\overline{X}\\right)^4}{S^4}-3$\n",
    "\n",
    "5. Метод максимального правдоподобия - это метод оценивания неизвестного параметра путём максимизации функции правдоподобия\n",
    "$L(\\overrightarrow{X},\\theta)=\\prod_{i=1}^{n}P_{\\theta}(X_{i})$\n",
    "\n",
    "6. Метод моментов — метод оценки неизвестных параметров распределений, идея метода заключается в замене истинных соотношений выборочными аналогами.\n",
    "\n",
    "7. Статистика критерия Колмагорова\n",
    "$D_n = sup_{x \\in \\mathbb{R}}|F_n(x) - F_0(x)|$\n",
    "\n",
    "8. Теорема Колмагорова\n",
    "\n",
    "$\\sqrt{n}D_n \\rightarrow K$, при основной гипотезе\n",
    "\n",
    "9. Критерий $\\chi^2$ для проверки гипотез\n",
    "\n",
    "Разбиваем множество значений случайной величины на r непересекающихся интервалов, которые покроют все возможные значения СВ.\n",
    "\n",
    "$p_{i}$ - теоретическая вероятность попадания СВ в i-ый интервал при нулевой гипотезе.\n",
    "\n",
    "$n_{i}$ - количество значений выборки, попавших в i-ый интервал\n",
    "\n",
    "Сравниваем относительную и теоретическую частоты.\n",
    "\n",
    "$\\chi^{2}_в = \\sum_{i=1}^{N}  \\frac{(n_i-np_i)^2}{np_i}  $\n",
    "\n",
    "Если $\\chi^{2}_в >\\chi^2_{1 - \\alpha, r - 1}$, где\n",
    "\n",
    "$r$ - кол-во интервалов, то гипотезу отвергаем. Если $\\chi^{2}_в <\\chi^2_{1 - \\alpha, r - 1}$ - не отвергаем.\n",
    "\n",
    "\n",
    "10. Наиболее мощный критерий простой гипотезы\n",
    "\n",
    "Для нулевой гипотезы $H_{0}: \\theta=\\theta_{0}$ и альтернативной гипотезы $H_{А}: \\theta=\\theta_{A}$, где $\\theta_{0}$ и $\\theta_{A}$ - фиксированные параметры, строим статистику правдоподобия:\n",
    "\n",
    "$LR(\\overrightarrow{X},\\theta_{A},\\theta_{0})=\\frac{L(\\overrightarrow{X},\\theta_{A})}{L(\\overrightarrow{X},\\theta_{0})}$ - статистика отношений правдоподобия,$L(\\overrightarrow{X},\\theta)$ - соответствующие функции максимального правдоподобия.\n",
    "\n",
    "Наиболее мощный критерий представляется в виде\n",
    "\n",
    "\n",
    "$ \\phi(x) =\\left\\{\n",
    "  \\begin{array}{l}\n",
    "    1, \\overline{X} < c^{*} \\\\\n",
    "    p, \\overline{X} = c^{*} \\\\\n",
    "    0, \\overline{X} > c^{*} \\\\\n",
    "  \\end{array}\\right.$\n",
    "\n",
    "где константа с и вероятность $ p \\in [0,1) $ находятся из уравнения\n",
    "\n",
    "$  E_{θ_0}ϕ(x)=P_{θ_0}(LR(X)>c)+pP_{θ_0}(LR(X)=c)=α$\n",
    "\n",
    "Причем:\n",
    "\n",
    "- константа с находится однозначно\n",
    "\n",
    "- если $ P_{θ_0}(LR(X)=c)>0 $, то $ p \\in [0,1) $ находится однозначно\n",
    "\n",
    "- в области $ LR(X) \\neq c $ критерий $ϕ$ определен однозначно"
   ],
   "metadata": {
    "collapsed": false
   },
   "id": "b598841e71a6da55"
  },
  {
   "cell_type": "markdown",
   "source": [
    "## Постановка задачи\n",
    "Для полученных в результате эксперимента наборов данных выполнить статистическую обработку. Полученные результаты содержательно проинтерпретировать."
   ],
   "metadata": {
    "collapsed": false
   },
   "id": "23d8bb823debf479"
  },
  {
   "cell_type": "markdown",
   "source": [
    "## Выполнение работы"
   ],
   "metadata": {
    "collapsed": false
   },
   "id": "906d141b22307eb7"
  },
  {
   "cell_type": "markdown",
   "source": [
    "### Задание № 1"
   ],
   "metadata": {
    "collapsed": false
   },
   "id": "692c685c8e8b83bf"
  },
  {
   "cell_type": "markdown",
   "source": [
    "#### а) Построить вариационный ряд, эмпирическую функцию распределения и гистограмму частот."
   ],
   "metadata": {
    "collapsed": false
   },
   "id": "eb3a4d82c0486052"
  },
  {
   "cell_type": "code",
   "execution_count": 521,
   "outputs": [
    {
     "name": "stdout",
     "output_type": "stream",
     "text": [
      "[0, 0, 0, 0, 0, 0, 0, 0, 0, 0, 0, 0, 0, 0, 0, 0, 0, 0, 0, 0, 0, 0, 0, 0, 0, 0, 0, 0, 0, 0, 0, 1, 1, 1, 1, 1, 1, 1, 1, 2, 2, 2, 3, 3, 4, 4, 4, 4, 4, 10]\n"
     ]
    }
   ],
   "source": [
    "import numpy as np\n",
    "import matplotlib.pyplot as plt\n",
    "import math\n",
    "from scipy import stats\n",
    "from collections import Counter\n",
    "data = np.array([0, 0, 0, 4, 0, 1, 4, 10, 4, 0, 3, 2, 0, 0, 0, 4, 0, 1, 0, 0, 1, 0, 0, 0, 0, 0, 1, 0, 4, 0, 0, 2, 0, 0, 0, 0, 1, 0, 2, 0, 0, 0, 3, 1, 0, 0, 1, 1, 0, 0])\n",
    "\n",
    "# Вариационный ряд\n",
    "sorted_data = sorted(data)\n",
    "print(sorted_data)"
   ],
   "metadata": {
    "collapsed": false,
    "ExecuteTime": {
     "end_time": "2023-12-01T20:44:05.233009300Z",
     "start_time": "2023-12-01T20:44:05.220842900Z"
    }
   },
   "id": "f88a590dc00ed951"
  },
  {
   "cell_type": "code",
   "execution_count": 522,
   "outputs": [
    {
     "data": {
      "text/plain": "<Figure size 640x480 with 1 Axes>",
      "image/png": "[encoded data removed]"
     },
     "metadata": {},
     "output_type": "display_data"
    }
   ],
   "source": [
    "# Построение эмпирической функции распределения\n",
    "\n",
    "# variation_series - пары, где ключ - элемент из sorted_data, а значение - количество повторений элемента\n",
    "variation_series = list(Counter(sorted_data).items())\n",
    "\n",
    "x = [item[0] for item in variation_series]\n",
    "y = np.cumsum([item[1] for item in variation_series]) / len(data)\n",
    "\n",
    "for i in range(max(sorted_data) + 1):\n",
    "    if not any(element[0] == i for element in variation_series):\n",
    "        variation_series.append((i, 0))\n",
    "\n",
    "variation_series = sorted(variation_series, key=lambda x: x[0])\n",
    "\n",
    "plt.title('Эмпирическая функция')\n",
    "plt.xlabel('Значения из ВР')\n",
    "plt.ylabel('Вероятность')\n",
    "\n",
    "for i in range(len(x)):\n",
    "    plt.plot(x[i], y[i], marker='o', color='blue')\n",
    "    if i == 0:\n",
    "        plt.hlines(y[i], 0, x[i + 1], linestyle='-', color='blue')\n",
    "    elif i == (len(x) - 1):\n",
    "        plt.hlines(y[i], x[i], x[i] + 1, linestyle='-', color='blue')\n",
    "    else:\n",
    "        plt.hlines(y[i], x[i], x[i+1], linestyle='-', color='blue')\n",
    "\n",
    "\n",
    "\n",
    "plt.show()"
   ],
   "metadata": {
    "collapsed": false,
    "ExecuteTime": {
     "end_time": "2023-12-01T20:44:05.534501400Z",
     "start_time": "2023-12-01T20:44:05.397857900Z"
    }
   },
   "id": "c3ddb4aa0a184c8c"
  },
  {
   "cell_type": "code",
   "execution_count": 523,
   "outputs": [
    {
     "data": {
      "text/plain": "<Figure size 640x480 with 1 Axes>",
      "image/png": "[encoded data removed]"
     },
     "metadata": {},
     "output_type": "display_data"
    }
   ],
   "source": [
    "# Построение гистограммы частот\n",
    "\n",
    "plt.title('Гистограмма частот')\n",
    "plt.xlabel('Значения из ВР')\n",
    "plt.ylabel('Частота')\n",
    "plt.hist(sorted_data, range(min(sorted_data), max(sorted_data) + 1), color='blue', edgecolor='black')\n",
    "plt.show()"
   ],
   "metadata": {
    "collapsed": false,
    "ExecuteTime": {
     "end_time": "2023-12-01T20:44:05.690598800Z",
     "start_time": "2023-12-01T20:44:05.569900900Z"
    }
   },
   "id": "63142fafad10a352"
  },
  {
   "cell_type": "markdown",
   "source": [
    "#### b) Вычислить выборочные аналоги следующих числовых характеристик: (i) математическое ожидание, (ii) дисперсия, (iii) СКО, (iv) медиана, (v) асимметрия, (vi) эксцесса (vii) вероятности $\\mathbb{P}(X\\in \\left[ a, b \\right])$ \n"
   ],
   "metadata": {
    "collapsed": false
   },
   "id": "56b64f115542e177"
  },
  {
   "cell_type": "code",
   "execution_count": 524,
   "outputs": [
    {
     "name": "stdout",
     "output_type": "stream",
     "text": [
      "Математическое ожидание: 1.0\n",
      "Дисперсия: 3.36\n",
      "СКО: 1.833030277982336\n",
      "Медиана: 0.0\n",
      "Асимметрия: 2.766691108349189\n",
      "Эксцесс: 9.45748299319728\n",
      "P(X в [0.0, 1.57]): 0.78\n"
     ]
    }
   ],
   "source": [
    "a = 0.0\n",
    "b = 1.57\n",
    "\n",
    "# (i) Математическое ожидание\n",
    "mean_val = np.mean(data)\n",
    "print(f\"Математическое ожидание: {mean_val}\")\n",
    "\n",
    "# (ii) Дисперсия\n",
    "variance_val = np.var(data)\n",
    "print(f\"Дисперсия: {variance_val}\")\n",
    "\n",
    "# (iii) СКО\n",
    "std_val = np.std(data)\n",
    "print(f\"СКО: {std_val}\")\n",
    "\n",
    "# (iv) Медиана\n",
    "median_val = np.median(data)\n",
    "print(f\"Медиана: {median_val}\")\n",
    "\n",
    "# (v) Асимметрия\n",
    "skewness_val = stats.skew(data)\n",
    "print(f\"Асимметрия: {skewness_val}\")\n",
    "\n",
    "# (vi) Эксцесс\n",
    "kurtosis_val = stats.kurtosis(data)\n",
    "print(f\"Эксцесс: {kurtosis_val}\")\n",
    "\n",
    "# # (vii) P(X в [a, b])\n",
    "probability_val = np.mean((data >= a) & (data <= b))\n",
    "print(f\"P(X в [{a}, {b}]): {probability_val}\")\n",
    "\n"
   ],
   "metadata": {
    "collapsed": false,
    "ExecuteTime": {
     "end_time": "2023-12-01T20:44:05.920116600Z",
     "start_time": "2023-12-01T20:44:05.904492200Z"
    }
   },
   "id": "3ce4f7c9ebfaeb00"
  },
  {
   "cell_type": "markdown",
   "source": [
    "#### c) В предположении, что исходные наблюдения являются выборкой из распределения Пуассона, построить оценку максимального правдоподобия параметра $\\lambda$, а также оценку $\\lambda$ по методу моментов. Найти смещение оценок.\n",
    "\n",
    "Плотность распределения Пуассона: $\\mathbb{P}_{\\lambda}(X=k) = exp(-\\lambda) \\cdot \\frac{\\lambda^{k}}{k!}$\n",
    "\n",
    "a) ОМП\n",
    "\n",
    "Составим функцию правдоподобия\n",
    "$L(\\overrightarrow{X};\\theta)\n",
    "=\\prod_{i=1}^{n}P_{\\lambda}(X_{i})=\n",
    "\\prod_{i=1}^{n}exp(-\\lambda)\\cdot \\frac{\\lambda^{X_{i}}}{X_{i}!}=\n",
    "exp(-n\\cdot \\lambda)\\cdot\\frac{\\lambda^{ \\sum_{i=1}^{n}X_{i}}}{\\prod_{i=1}^{n}X_{i}!}$\n",
    "\n",
    "Прологарифмируем функцию правдоподобия\n",
    "\n",
    "$LL(\\overrightarrow{X};\\theta)=-n\\cdot\\lambda + \\sum_{i=1}^{n}X_{i}\\cdot\\ln(\\lambda) - ln\\left(\\prod_{i=1}^{n}X_{i}!\\right)$\n",
    "\n",
    "Найдем производную логарифма функции правдоподобия по параметру $\\lambda$\n",
    "\n",
    "$\\frac{\\partial}{\\partial\\lambda} LL(\\overrightarrow{X};\\theta) = \\sum_{i=1}^{n}\\left(-1 + \\frac{X_{i}}{\\lambda}\\right)$\n",
    "\n",
    "Приравняем производную к нулю и решим уравнение для нахождения оценки параметра $\\lambda$\n",
    "\n",
    "$\\sum_{i=1}^{n}\\left(-1 + \\frac{X_{i}}{\\lambda}\\right) = 0$\n",
    "\n",
    "$\\widehat{\\lambda} = \\frac{1}{n}\\sum_{i=1}^{n}X_{i} = \\overline{X}$ = 1\n",
    "\n",
    "б) ОММ\n",
    "Математическое ожидание для распределения Пуассона\n",
    "\n",
    "$\\mathbb{E}X = \\lambda$\n",
    "\n",
    "Выберем момент\n",
    "\n",
    "$M_{1}=\\overline{X}$\n",
    "\n",
    "Получаем, что\n",
    "\n",
    "$\\widetilde{\\lambda}=\\overline{X}=\\widetilde{\\theta}=1$\n",
    "\n",
    "Найдем смещение оценок\n",
    "\n",
    "$\\mathbb{E}\\widetilde{\\lambda} = \\mathbb{E}\\widehat{\\lambda} = \\frac{1}{n}\\sum_{i=1}^n\\mathbb{E}X_{i} = \\frac{1}{n}\\sum_{i=1}^n\\lambda = \\frac{1}{n}\\cdot n\\lambda = \\lambda$\n",
    "\n",
    "Получили смещение равное 0, оценка является несмещенной\n"
   ],
   "metadata": {
    "collapsed": false
   },
   "id": "b1dc453d9b608bcf"
  },
  {
   "cell_type": "markdown",
   "source": [
    "#### d) Построить асимптотический  доверительный  интервал  уровня  значимости  $\\alpha_{1}$ для  параметра  $\\lambda$  на  базе  оценки максимального правдоподобия.\n",
    "\n",
    "$\\alpha_{1} = 0.05$\n",
    "\n",
    "ОМП из прошлого пункта\n",
    "\n",
    "$\\widehat{\\theta}=\\overline{X}$\n",
    "\n",
    "$\\sqrt{n}\\left( \\widehat{\\theta}(\\overrightarrow{X})-\\theta \\right)\\sim N\\left( 0, \\frac{1}{I(\\theta)} \\right)$\n",
    "\n",
    "Найдем информацию Фишера: \n",
    "\n",
    "$I_{n}(\\theta)=-\\mathbb{E}\\left( \\frac{\\partial^{2} LL}{\\partial \\lambda^{2}} \\right)=-\\mathbb{E}\\left( -\\frac{\\sum_{i=1}^{n}X_{i}}{\\lambda^{2}} \\right)= \\sum_{i=1}^n\\left(\\frac{1}{\\lambda^{2}}\\mathbb{E}(X_{i})\\right) = \\frac{n}{\\lambda}$\n",
    "\n",
    "$I(\\theta) = \\lim_{n \\to \\infty} \\left(\\frac{I_{n}(\\theta)}{n}\\right) = \\frac{1}{\\lambda}$\n",
    "\n",
    "Тогда \n",
    "\n",
    "$\\sqrt{n\\cdot I\\left(  \\widehat{\\theta}(\\overrightarrow{X})\\right)}\\left( \\widehat{\\theta}(\\overrightarrow{X})-\\theta \\right)\\sim N(0,1)$\n",
    "\n",
    "Выбираем \n",
    "\n",
    "$X_{\\alpha_{1}}$: $\\mathrm{Ф}(X_{\\alpha_{1}})=1-\\frac{\\alpha_{1}}{2}=1-\\frac{0.05}{2}=0.975$ \n",
    "\n",
    "Найдем $X_{0.05}$\n",
    "\n"
   ],
   "metadata": {
    "collapsed": false
   },
   "id": "eac13b02a171145c"
  },
  {
   "cell_type": "code",
   "execution_count": 525,
   "outputs": [
    {
     "name": "stdout",
     "output_type": "stream",
     "text": [
      "X_0.05 = 1.96\n"
     ]
    }
   ],
   "source": [
    "X_alpha = stats.norm.ppf(0.975)\n",
    "\n",
    "print(f'X_{0.05} = {X_alpha:.2f}')"
   ],
   "metadata": {
    "collapsed": false,
    "ExecuteTime": {
     "end_time": "2023-12-01T20:44:06.430343500Z",
     "start_time": "2023-12-01T20:44:06.429839Z"
    }
   },
   "id": "c229ac1ec47dbbca"
  },
  {
   "cell_type": "markdown",
   "source": [
    "Ассимптотический доверительный интервал\n",
    "\n",
    "$\\lambda \\in \\left[ \\widehat{\\theta}(\\overrightarrow{X}) - \\frac{X_{\\alpha}}{\\sqrt{n \\cdot I(\\widehat{\\theta})}} , \\widehat{\\theta}(\\overrightarrow{X}) + \\frac{X_{\\alpha}}{\\sqrt{n \\cdot I(\\widehat{\\theta})}}\\right]$\n",
    "\n",
    "$\\lambda \\in \\left[ 1 - \\frac{1.96}{\\sqrt{50 \\cdot \\frac{1}{1}}} , 1 + \\frac{1.96}{\\sqrt{50 \\cdot \\frac{1}{1}}}\\right]$"
   ],
   "metadata": {
    "collapsed": false
   },
   "id": "2be90c94c9a0d35b"
  },
  {
   "cell_type": "code",
   "execution_count": 526,
   "outputs": [
    {
     "name": "stdout",
     "output_type": "stream",
     "text": [
      "Ассимптотический доверительный интервал параметра λ\n",
      "0.7228141417748735 <= λ <= 1.2771858582251265\n"
     ]
    }
   ],
   "source": [
    "a = 1.96 / np.sqrt(50);\n",
    "\n",
    "print(\"Ассимптотический доверительный интервал параметра λ\")\n",
    "print(f'{1-a} <= λ <= {1+a}')"
   ],
   "metadata": {
    "collapsed": false,
    "ExecuteTime": {
     "end_time": "2023-12-01T20:44:06.773567300Z",
     "start_time": "2023-12-01T20:44:06.747731800Z"
    }
   },
   "id": "93a0aed8a0e22398"
  },
  {
   "cell_type": "markdown",
   "source": [
    "#### e)\tИспользуя гистограмму частот, построить критерий значимости $\\mathcal{X^{2}}$ проверки простой гипотезы согласия с распределением Пуассона с параметром $\\lambda_{0}$.  Проверить  гипотезу  на  уровне  значимости  $\\alpha_{1}$.  Вычислить наибольшее значение уровня значимости, на котором еще нет оснований отвергнуть данную гипотезу."
   ],
   "metadata": {
    "collapsed": false
   },
   "id": "ea2d17d3df063d14"
  },
  {
   "cell_type": "code",
   "execution_count": 527,
   "outputs": [
    {
     "name": "stdout",
     "output_type": "stream",
     "text": [
      "Наблюдаемые частоты: [(0, 31), (1, 8), (2, 3), (3, 2), (4, 5), (5, 0), (6, 0), (7, 0), (8, 0), (9, 0), (10, 1)]\n",
      "Ожидаемые частоты: [0.01831563888873418, 0.07326255555493671, 0.14652511110987343, 0.19536681481316456, 0.19536681481316456, 0.15629345185053165, 0.1041956345670211, 0.059540362609726345, 0.029770181304863173, 0.013231191691050298, 0.00813224279693403]\n",
      "Сумма частот: 1.0\n",
      "Критерий X^2: 1023.5044305797758\n",
      "Критическое значение: 18.307038053275146\n",
      "p value= 0.0\n",
      "98.4548638916761\n",
      "inf\n"
     ]
    }
   ],
   "source": [
    "\n",
    "def hypothesisTest(lambda_0, alpha_1, df):\n",
    "    # Подсчет наблюдаемых частот был произведен ранее и записан в variation_series\n",
    "    print(f\"Наблюдаемые частоты: {variation_series}\")\n",
    "    \n",
    "    \n",
    "    # Подсчет ожидаемых частот для распределения Пуассона\n",
    "    # ожидаемые частоты еденичных интервалов вида [value, value + 1)\n",
    "    expected_freq = [math.exp(-lambda_0) * lambda_0**variation_series[i][0] / math.factorial(variation_series[i][0]) for i in range(len(variation_series) - 1)]\n",
    "    \n",
    "    # ожидаемая частота последнего интервала [max_value, +inf)\n",
    "    expected_freq.append(1 - sum(expected_freq));\n",
    "    \n",
    "    print(f\"Ожидаемые частоты: {expected_freq}\")\n",
    "    print(f\"Сумма частот: {sum(expected_freq)}\")\n",
    "    \n",
    "    # Вычисление критерия chi^2\n",
    "    chi = 0\n",
    "    for i in range(len(variation_series)):\n",
    "        chi += ((variation_series[i][1] - len(data)*expected_freq[i])**2) / (len(data)*expected_freq[i])\n",
    "    \n",
    "    \n",
    "    # Критическое значение chi^2\n",
    "    x_alpha = stats.chi2.ppf(1 - alpha_1, df)\n",
    "    \n",
    "    \n",
    "    print(f\"Критерий X^2: {chi}\")\n",
    "    print(f\"Критическое значение: {x_alpha}\")\n",
    "    \n",
    "    \n",
    "    print(f\"p value= {1 - stats.chi2.cdf(chi, df)}\")\n",
    "    print(stats.chi2.ppf(1-10**(-16), df))\n",
    "    print(stats.chi2.ppf(1-10**(-17), df))\n",
    "\n",
    "hypothesisTest(lambda_0=4, alpha_1=0.05, df=len(variation_series) - 1)\n"
   ],
   "metadata": {
    "collapsed": false,
    "ExecuteTime": {
     "end_time": "2023-12-01T20:44:07.112916600Z",
     "start_time": "2023-12-01T20:44:07.099858300Z"
    }
   },
   "id": "faf2184f9a3ff34"
  },
  {
   "cell_type": "markdown",
   "source": [
    "$\\mathcal{X^{2}} > \\mathcal{X_{0.05, 10}} \\rightarrow$ гипотеза отвергается.\n",
    "\n",
    "Критическое значение не доходит до значения критерия даже при уровне значимости $10^{-16}$, значит наибольший уровень значимости, при котором еще нет оснований отвергнуть гипотезу очень близок к нулю."
   ],
   "metadata": {
    "collapsed": false
   },
   "id": "7a64edd3e91e6081"
  },
  {
   "cell_type": "markdown",
   "source": [
    "#### f) Построить критерий значимости $\\mathcal{X^{2}}$ проверки сложной гипотезы согласия с распределением Пуассона. Проверить гипотезу на уровне значимости $\\alpha_{1}$. Вычислить наибольшее значение уровня значимости, на котором еще нет оснований отвергнуть данную гипотезу.\n",
    "\n",
    "В качестве параметра возьмем оценку ОМП $ \\widehat{λ}= \\overline{X}=1 $"
   ],
   "metadata": {
    "collapsed": false
   },
   "id": "e72f92eefccb741d"
  },
  {
   "cell_type": "code",
   "execution_count": 528,
   "outputs": [
    {
     "name": "stdout",
     "output_type": "stream",
     "text": [
      "Наблюдаемые частоты: [(0, 31), (1, 8), (2, 3), (3, 2), (4, 5), (5, 0), (6, 0), (7, 0), (8, 0), (9, 0), (10, 1)]\n",
      "Ожидаемые частоты: [0.36787944117144233, 0.36787944117144233, 0.18393972058572117, 0.06131324019524039, 0.015328310048810098, 0.0030656620097620196, 0.0005109436682936699, 7.299195261338141e-05, 9.123994076672677e-06, 1.0137771196302974e-06, 1.1142547839959605e-07]\n",
      "Сумма частот: 1.0\n",
      "Критерий X^2: 179532.78933821415\n",
      "Критическое значение: 16.918977604620448\n",
      "p value= 0.0\n",
      "95.79817039503867\n",
      "inf\n"
     ]
    }
   ],
   "source": [
    "hypothesisTest(lambda_0=1, alpha_1=0.05, df=len(variation_series) - 2)"
   ],
   "metadata": {
    "collapsed": false,
    "ExecuteTime": {
     "end_time": "2023-12-01T20:44:07.659421Z",
     "start_time": "2023-12-01T20:44:07.632297100Z"
    }
   },
   "id": "8aa0a9b3d06e0ff7"
  },
  {
   "cell_type": "markdown",
   "source": [
    "Значение критерия получилось еще больше, чем в прошлом пункте, гипотеза отвергается. Наибольший уровень значимости, при котором еще нет оснований отвергнуть гипотезу очень близок к нулю"
   ],
   "metadata": {
    "collapsed": false
   },
   "id": "1d0bb90f881245c1"
  },
  {
   "cell_type": "markdown",
   "source": [
    "#### g) Построить наиболее мощный критерий проверки простой гипотезы пуассоновости с параметром $\\lambda = \\lambda_{0}$ при альтернативе пуассоновости с параметром $\\lambda = \\lambda_{1}$. Проверить гипотезу на уровне значимости $\\alpha_{1}$. Что получится, если поменять местами основную и альтернативную гипотезы?\n",
    "\n",
    "Основная гипотеза\n",
    "$H_{0}: \\lambda = \\lambda_{0} = 4.0$\n",
    "\n",
    "Альтернативная гипотеза\n",
    "$H_{1}: \\lambda = \\lambda_{1} = 1.0$\n",
    "\n",
    "$L(\\overrightarrow{X};\\lambda)=exp(-n\\cdot \\lambda)\\cdot\\frac{\\lambda^{ \\sum_{i=1}^{n}X_{i}}}{\\prod_{i=1}^{n}X_{i}!}$\n",
    "\n",
    "Статическое отношение правдоподобия\n",
    "\n",
    "$LR(\\overrightarrow{X};\\lambda_0, \\lambda_1) = \\left(\\frac{\\lambda_1}{\\lambda_0}\\right)^{\\sum_{i = 1}^{n}X_{i}} \\cdot \\exp(n(\\lambda_0 - \\lambda_1) > c$\n",
    "\n",
    "В силу монотонности статистики LR относительно МДС\n",
    "\n",
    "$LR(\\overrightarrow{X}) > c \\leftrightarrow \\overline{X} < c^{*}$\n",
    "\n",
    "$LR(\\overrightarrow{X}) < c \\leftrightarrow \\overline{X} > c^{*}$\n",
    "\n",
    "$ \\phi(x) =\\left\\{\n",
    "  \\begin{array}{l}\n",
    "    1, \\overline{X} < c^{*} \\\\\n",
    "    p, \\overline{X} = c^{*} \\\\\n",
    "    0, \\overline{X} > c^{*} \\\\\n",
    "  \\end{array}\\right.$\n",
    "  \n",
    "По ЦПТ:\n",
    "\n",
    "$ \\sqrt{n} \\frac{ \\overline{X}-\\mu}{\\sigma} \\sim N(0,1)$\n",
    "\n",
    "$ \\mu=λ_0, \\sigma^{2}=λ_0$\n",
    "\n",
    "$ \\sqrt{n} \\frac{ \\overline{X}-λ_0}{\\sqrt{λ_0}} \\sim N(0,1)$\n",
    "\n",
    "$ P(\\sqrt{n} \\frac{ \\overline{X}-λ_0}{\\sqrt{λ_0}} ≥ \\sqrt{n} \\frac{ c^*-λ_0}{\\sqrt{λ_0}})=1-Ф(\\sqrt{n} \\frac{ c^*-λ_0}{\\sqrt{λ_0}})= α$\n",
    "\n",
    "$\\sqrt{n} \\frac{ c^*-λ_0}{\\sqrt{λ_0}}=x_α$\n",
    "\n",
    "$x_α: Ф(x_α)=1-α $"
   ],
   "metadata": {
    "collapsed": false
   },
   "id": "7c025bd3ad152bd"
  },
  {
   "cell_type": "code",
   "execution_count": 529,
   "outputs": [
    {
     "name": "stdout",
     "output_type": "stream",
     "text": [
      "Квантиль N(0,1) с уровнем доверия 1 - alpha_1: 1.6448536269514722\n"
     ]
    }
   ],
   "source": [
    "print(f'Квантиль N(0,1) с уровнем доверия 1 - alpha_1: {stats.norm.ppf(0.95, loc=0, scale=1)}')"
   ],
   "metadata": {
    "collapsed": false,
    "ExecuteTime": {
     "end_time": "2023-12-01T20:44:08.170241500Z",
     "start_time": "2023-12-01T20:44:08.164809800Z"
    }
   },
   "id": "8eb07182b701f21b"
  },
  {
   "cell_type": "markdown",
   "source": [
    "Найдем $c^{*}$\n",
    "$\\sqrt{50} \\cdot \\frac{c^{*} - 4}{2} = 1.645$\n",
    "\n",
    "$c^{*} = 4.47$\n",
    "\n",
    "$\\overline{X} = 1.0$\n",
    "\n",
    "$\\overline{X} < c^{*} \\leftrightarrow H_{0}$ отвергаем $H_{1}$ принимаем \n",
    "\n",
    "Поменяем гипотезы местами\n",
    "\n",
    "Основная гипотеза\n",
    "$H_{0}: \\lambda = \\lambda_{1} = 1.0$\n",
    "\n",
    "Альтернативная гипотеза\n",
    "$H_{1}: \\lambda = \\lambda_{0} = 4.0$\n",
    "\n",
    "$L(\\overrightarrow{X};\\lambda)=exp(-n\\cdot \\lambda)\\cdot\\frac{\\lambda^{ \\sum_{i=1}^{n}X_{i}}}{\\prod_{i=1}^{n}X_{i}!}$\n",
    "\n",
    "Статическое отношение правдоподобия\n",
    "\n",
    "$LR(\\overrightarrow{X};\\lambda_1, \\lambda_0) = \\left(\\frac{\\lambda_0}{\\lambda_1}\\right)^{\\sum_{i = 1}^{n}X_{i}} \\cdot \\exp(n(\\lambda_0 - \\lambda_1) > c$\n",
    "\n",
    "В силу монотонности статистики LR относительно МДС\n",
    "\n",
    "$LR(\\overrightarrow{X}) > c \\leftrightarrow \\overline{X} < c^{*}$\n",
    "\n",
    "$LR(\\overrightarrow{X}) < c \\leftrightarrow \\overline{X} > c^{*}$\n",
    "\n",
    "$ \\phi(x) =\\left\\{\n",
    "  \\begin{array}{l}\n",
    "    1, \\overline{X} < c^{*} \\\\\n",
    "    p, \\overline{X} = c^{*} \\\\\n",
    "    0, \\overline{X} > c^{*} \\\\\n",
    "  \\end{array}\\right.$\n",
    "  \n",
    "По ЦПТ:\n",
    "\n",
    "$ \\sqrt{n} \\frac{ \\overline{X}-\\mu}{\\sigma} \\sim N(0,1)$\n",
    "\n",
    "$ \\mu=λ_0, \\sigma^{2}=λ_0$\n",
    "\n",
    "$ \\sqrt{n} \\frac{ \\overline{X}-λ_1}{\\sqrt{λ_1}} \\sim N(0,1)$\n",
    "\n",
    "$ P(\\sqrt{n} \\frac{ \\overline{X}-λ_1}{\\sqrt{λ_1}} ≥ \\sqrt{n} \\frac{ c^*-λ_1}{\\sqrt{λ_1}})=1-Ф(\\sqrt{n} \\frac{ c^*-λ_1}{\\sqrt{λ_1}})= α$\n",
    "\n",
    "$\\sqrt{n} \\frac{ c^*-λ_1}{\\sqrt{λ_1}}=x_α$\n",
    "\n",
    "$x_α: Ф(x_α)=1-α $\n",
    "\n",
    "$x_a = 1.645$\n",
    "\n",
    "Найдем $c^{*}$\n",
    "$\\sqrt{50} \\cdot \\frac{c^{*} - 1}{1} = 1.645$\n",
    "\n",
    "$c^{*} = 1.23$\n",
    "\n",
    "$\\overline{X} = 1.0$\n",
    "\n",
    "$\\overline{X} < c^{*} \\leftrightarrow H_{0}$ отвергаем $H_{1}$ принимаем \n"
   ],
   "metadata": {
    "collapsed": false
   },
   "id": "d7d5cc8b63292a55"
  },
  {
   "cell_type": "markdown",
   "source": [
    "#### h) В пунктах (c)–(f) заменить семейство распределений Пуассона на семейство геометрических распределений $\\mathbb{P}_{\\lambda}(X = k) = \\frac{\\lambda^{k}}{(\\lambda + 1)^{k+1}} k \\in \\mathbb{Z}_+$"
   ],
   "metadata": {
    "collapsed": false
   },
   "id": "3a28dff2c5538d62"
  },
  {
   "cell_type": "markdown",
   "source": [
    "#### h.c) \n",
    "\n",
    "a) ОМП\n",
    "\n",
    "Составим функцию правдоподобия\n",
    "$L(\\overrightarrow{X};\\theta)\n",
    "=\\prod_{i=1}^{n}P_{\\lambda}(X_{i})=\n",
    "\\prod_{i=1}^{n}\\frac{\\lambda^{X_{i}}}{(\\lambda + 1)^{X_{i}+1}}=\n",
    "\\frac{\\lambda^{\\sum_{i = 1}^{n}X_{i}}}{(\\lambda + 1)^{\\sum_{i = 1}^{n}X_{i}+n}}$\n",
    "\n",
    "Прологарифмируем функцию правдоподобия\n",
    "\n",
    "$LL(\\overrightarrow{X};\\theta)= \\sum_{i=1}^n X_i \\cdot \\ln(\\lambda) - (\\sum_{i=1}^n X_i+n) \\cdot \\ln(\\lambda+1)$\n",
    "\n",
    "Найдем производную логарифма функции правдоподобия по параметру $\\lambda$\n",
    "\n",
    "$\\frac{\\partial}{\\partial\\lambda} LL(\\overrightarrow{X};\\theta) = \\frac{\\sum_{i=1}^n X_i}{\\lambda} - \\frac{\\left(\\sum_{i=1}^n X_i+n\\right)}{\\lambda+1}$\n",
    "\n",
    "Приравняем производную к нулю и решим уравнение для нахождения оценки параметра $\\lambda$\n",
    "\n",
    "$\\frac{\\sum_{i=1}^n X_i}{\\lambda} - \\frac{\\left(\\sum_{i=1}^n X_i+n\\right)}{\\lambda+1} = 0$\n",
    "\n",
    "$\\sum_{i=1}^n X_i \\cdot (\\lambda + 1) - \\lambda\\sum_{i=1}^n X_i + \\lambda n = 0$\n",
    "\n",
    "$\\widehat{\\lambda} = \\frac{1}{n}\\sum_{i=1}^{n}X_{i} = \\overline{X}$ = 1\n",
    "\n",
    "б) ОММ\n",
    "\n",
    "Математическое ожидание для данного распределения\n",
    "\n",
    "$\\mathbb{E}X = \\frac{1}{\\lambda}$\n",
    "\n",
    "Выберем первый момент\n",
    "\n",
    "$M_{1}=\\frac{1}{\\overline{X}}$\n",
    "\n",
    "Получаем, что\n",
    "\n",
    "$\\widetilde{\\lambda}=\\overline{X}=\\widetilde{\\theta}=1$\n",
    "\n",
    "Найдем смещение оценок\n",
    "\n",
    "$\\mathbb{E}\\widetilde{\\lambda} = \\mathbb{E}\\widehat{\\lambda} = \\frac{1}{n}\\sum_{i=1}^n\\mathbb{E}X_{i} = \\frac{1}{n}\\sum_{i=1}^n\\lambda = \\frac{1}{n}\\cdot n\\lambda = \\lambda$\n",
    "\n",
    "Оценка является несмещенной\n"
   ],
   "metadata": {
    "collapsed": false
   },
   "id": "817f8879c093acf0"
  },
  {
   "cell_type": "markdown",
   "source": [
    "#### h.d) \n",
    "$\\alpha_{1} = 0.05$\n",
    "\n",
    "ОМП из прошлого пункта\n",
    "\n",
    "$\\widehat{\\theta}=\\overline{X}$\n",
    "\n",
    "$\\sqrt{n}\\left( \\widehat{\\theta}(\\overrightarrow{X})-\\theta \\right)\\sim N\\left( 0, \\frac{1}{I(\\theta)} \\right)$\n",
    "\n",
    "Найдем информацию Фишера: \n",
    "\n",
    "$I_{n}(\\theta)=-\\mathbb{E}\\left( \\frac{\\partial^{2} LL}{\\partial \\lambda^{2}} \\right)=-\\mathbb{E}\\left( -\\frac{\\sum_{i=1}^n X_i}{\\lambda^{2}} + \\frac{\\left(\\sum_{i=1}^n X_i+n\\right)}{\\left(\\lambda+1\\right)^2} \\right)= \n",
    "\\frac{1}{\\lambda^{2}}\\sum_{i=1}^{n}\\mathbb{E}X_{i} - \\frac{1}{\\left(\\lambda + 1\\right)^{2}}\\sum_{i=1}^{n}\\mathbb{E}X_{i} - \\frac{n}{\\left(\\lambda + 1\\right)^{2}} = \n",
    "\\frac{n}{\\lambda^{3}} - \\frac{n}{\\left(\\lambda + 1\\right)^{2}\\lambda} - \\frac{n}{\\left(\\lambda + 1\\right)^{2}}$\n",
    "\n",
    "\n",
    "$I(\\theta) = \\lim_{n \\to \\infty} \\left(\\frac{I_{n}(\\theta)}{n}\\right) = \\frac{1}{\\lambda^{3}} - \\frac{1}{\\left(\\lambda + 1\\right)^{2}\\lambda} - \\frac{1}{\\left(\\lambda + 1\\right)^{2}}$\n",
    "\n",
    "Тогда \n",
    "\n",
    "$\\sqrt{n\\cdot I\\left(  \\widehat{\\theta}(\\overrightarrow{X})\\right)}\\left( \\widehat{\\theta}(\\overrightarrow{X})-\\theta \\right)\\sim N(0,1)$\n",
    "\n",
    "Выбираем \n",
    "\n",
    "$X_{\\alpha_{1}}$: $\\mathrm{Ф}(X_{\\alpha_{1}})=1-\\frac{\\alpha_{1}}{2}=1-\\frac{0.05}{2}=0.975$ \n",
    "\n",
    "Найдем $X_{0.05}$\n"
   ],
   "metadata": {
    "collapsed": false
   },
   "id": "764ab8b387f1d991"
  },
  {
   "cell_type": "code",
   "execution_count": 530,
   "outputs": [
    {
     "name": "stdout",
     "output_type": "stream",
     "text": [
      "X_0.05 = 1.96\n"
     ]
    }
   ],
   "source": [
    "X_alpha = stats.norm.ppf(0.975)\n",
    "\n",
    "print(f'X_{0.05} = {X_alpha:.2f}')"
   ],
   "metadata": {
    "collapsed": false,
    "ExecuteTime": {
     "end_time": "2023-12-01T20:44:09.070819700Z",
     "start_time": "2023-12-01T20:44:09.050984700Z"
    }
   },
   "id": "5291b6f6d2e35c1e"
  },
  {
   "cell_type": "markdown",
   "source": [
    "Ассимптотический доверительный интервал\n",
    "\n",
    "$\\lambda \\in \\left[ \\widehat{\\theta}(\\overrightarrow{X}) - \\frac{X_{\\alpha}}{\\sqrt{n \\cdot I(\\widehat{\\theta})}} , \\widehat{\\theta}(\\overrightarrow{X}) + \\frac{X_{\\alpha}}{\\sqrt{n \\cdot I(\\widehat{\\theta})}}\\right]$\n",
    "\n",
    "$\\lambda \\in \\left[ 1 - \\frac{1.96}{\\sqrt{25}} , 1 + \\frac{1.96}{\\sqrt{25}}\\right]$"
   ],
   "metadata": {
    "collapsed": false
   },
   "id": "c644164c9529773"
  },
  {
   "cell_type": "code",
   "execution_count": 531,
   "outputs": [
    {
     "name": "stdout",
     "output_type": "stream",
     "text": [
      "Ассимптотический доверительный интервал параметра λ\n",
      "0.608 <= λ <= 1.392\n"
     ]
    }
   ],
   "source": [
    "a = 1.96 / np.sqrt(25);\n",
    "\n",
    "print(\"Ассимптотический доверительный интервал параметра λ\")\n",
    "print(f'{1-a} <= λ <= {1+a}')"
   ],
   "metadata": {
    "collapsed": false,
    "ExecuteTime": {
     "end_time": "2023-12-01T20:44:09.408948Z",
     "start_time": "2023-12-01T20:44:09.389045400Z"
    }
   },
   "id": "4047f1577e83f477"
  },
  {
   "cell_type": "markdown",
   "source": [
    "#### h.e)"
   ],
   "metadata": {
    "collapsed": false
   },
   "id": "1d329fae5c36251"
  },
  {
   "cell_type": "code",
   "execution_count": 532,
   "outputs": [
    {
     "name": "stdout",
     "output_type": "stream",
     "text": [
      "Наблюдаемые частоты: [(0, 31), (1, 8), (2, 3), (3, 2), (4, 5), (5, 0), (6, 0), (7, 0), (8, 0), (9, 0), (10, 1)]\n",
      "Ожидаемые частоты: [0.2, 0.16, 0.128, 0.1024, 0.08192, 0.065536, 0.0524288, 0.04194304, 0.033554432, 0.0268435456, 0.10737418239999996]\n",
      "Сумма частот: 1.0\n",
      "Критерий X^2: 62.57728013992309\n",
      "Критическое значение: 18.307038053275146\n",
      "p value= 1.1751747353017095e-09\n"
     ]
    }
   ],
   "source": [
    "\n",
    "def hypothesisTestGeom(lambda_0, alpha_1, df):\n",
    "    # Подсчет наблюдаемых частот был произведен ранее и записан в variation_series\n",
    "    print(f\"Наблюдаемые частоты: {variation_series}\")\n",
    "    \n",
    "    \n",
    "    # Подсчет ожидаемых частот для геометрического распределения\n",
    "    # ожидаемые частоты еденичных интервалов вида [value, value + 1)\n",
    "    expected_freq = [lambda_0**variation_series[i][0] / (lambda_0 + 1)**(variation_series[i][0] + 1) for i in range(len(variation_series) - 1)]\n",
    "    \n",
    "    # ожидаемая частота последнего интервала [max_value, +inf)\n",
    "    expected_freq.append(1 - sum(expected_freq));\n",
    "    \n",
    "    print(f\"Ожидаемые частоты: {expected_freq}\")\n",
    "    print(f\"Сумма частот: {sum(expected_freq)}\")\n",
    "    \n",
    "    # Вычисление критерия chi^2\n",
    "    chi = 0\n",
    "    for i in range(len(variation_series)):\n",
    "        chi += ((variation_series[i][1] - len(data)*expected_freq[i])**2) / (len(data)*expected_freq[i])\n",
    "    \n",
    "    \n",
    "    # Критическое значение chi^2\n",
    "    x_alpha = stats.chi2.ppf(1 - alpha_1, df)\n",
    "    \n",
    "    \n",
    "    print(f\"Критерий X^2: {chi}\")\n",
    "    print(f\"Критическое значение: {x_alpha}\")\n",
    "    \n",
    "    \n",
    "    print(f\"p value= {1 - stats.chi2.cdf(chi, df)}\")\n",
    "    #print(stats.chi2.ppf(1-10**(-16), df))\n",
    "    #print(stats.chi2.ppf(1-10**(-17), df))\n",
    "\n",
    "hypothesisTestGeom(lambda_0=4, alpha_1=0.05, df=len(variation_series) - 1)\n"
   ],
   "metadata": {
    "collapsed": false,
    "ExecuteTime": {
     "end_time": "2023-12-01T20:44:09.742635100Z",
     "start_time": "2023-12-01T20:44:09.736059100Z"
    }
   },
   "id": "6891c6075dcd442c"
  },
  {
   "cell_type": "markdown",
   "source": [
    "$\\mathcal{X^{2}} > \\mathcal{X_{0.05, 10}} \\rightarrow$ гипотеза отвергается\n",
    "\n",
    "Наибольший уровень значимости, при котором еще нет оснований отвергнуть гипотезу - 1.1751747353017095e-09."
   ],
   "metadata": {
    "collapsed": false
   },
   "id": "e9ca9a4b1946affe"
  },
  {
   "cell_type": "markdown",
   "source": [
    "#### h.f) \n",
    "\n",
    "В качестве параметра возьмем оценку ОМП $ \\widehat{λ}= \\overline{X}=1 $\n"
   ],
   "metadata": {
    "collapsed": false
   },
   "id": "172dbed87c029ba7"
  },
  {
   "cell_type": "code",
   "execution_count": 533,
   "outputs": [
    {
     "name": "stdout",
     "output_type": "stream",
     "text": [
      "Наблюдаемые частоты: [(0, 31), (1, 8), (2, 3), (3, 2), (4, 5), (5, 0), (6, 0), (7, 0), (8, 0), (9, 0), (10, 1)]\n",
      "Ожидаемые частоты: [0.5, 0.25, 0.125, 0.0625, 0.03125, 0.015625, 0.0078125, 0.00390625, 0.001953125, 0.0009765625, 0.0009765625]\n",
      "Сумма частот: 1.0\n",
      "Критерий X^2: 32.760000000000005\n",
      "Критическое значение: 16.918977604620448\n",
      "p value= 0.00014702772551067333\n"
     ]
    }
   ],
   "source": [
    "hypothesisTestGeom(lambda_0=1, alpha_1=0.05, df=len(variation_series) - 2)"
   ],
   "metadata": {
    "collapsed": false,
    "ExecuteTime": {
     "end_time": "2023-12-01T20:44:10.250002200Z",
     "start_time": "2023-12-01T20:44:10.236905400Z"
    }
   },
   "id": "c673fa5c3ad4e786"
  },
  {
   "cell_type": "markdown",
   "source": [
    "$\\mathcal{X^{2}} > \\mathcal{X_{0.05, 10}} \\rightarrow$ гипотеза отвергается\n",
    "\n",
    "Наибольший уровень значимости, при котором еще нет оснований отвергнуть гипотезу - 0.00014702772551067333."
   ],
   "metadata": {
    "collapsed": false
   },
   "id": "c38f8952a3f538d2"
  },
  {
   "cell_type": "markdown",
   "source": [
    "### Задание № 2"
   ],
   "metadata": {
    "collapsed": false
   },
   "id": "f5f027d9b382201e"
  },
  {
   "cell_type": "markdown",
   "source": [
    "#### a) Построить вариационный ряд, эмпирическую функцию распределения, гистограмму и полигон частот с шагом h."
   ],
   "metadata": {
    "collapsed": false
   },
   "id": "626d9256e2ee8314"
  },
  {
   "cell_type": "code",
   "execution_count": 534,
   "outputs": [
    {
     "name": "stdout",
     "output_type": "stream",
     "text": [
      "[0.0, 0.002, 0.002, 0.005, 0.005, 0.007, 0.009, 0.014, 0.022, 0.023, 0.023, 0.025, 0.026, 0.028, 0.034, 0.035, 0.048, 0.05, 0.051, 0.076, 0.089, 0.098, 0.154, 0.163, 0.171, 0.237, 0.254, 0.271, 0.281, 0.282, 0.295, 0.336, 0.35, 0.38, 0.401, 0.47, 0.472, 0.517, 0.572, 0.944, 1.009, 1.133, 1.19, 1.194, 1.287, 1.408, 1.714, 1.973, 2.488, 2.684]\n"
     ]
    }
   ],
   "source": [
    "data = np.array([0.002, 0.295, 0.048, 0.028, 1.190, 0.350, 1.009, 0.023, 0.050, 0.051, 0.171, 1.714, 0.154, 2.684, 0.517, 0.282, 1.973, 0.089, 0.005, 0.163, 0.022,0.076, 0.401, 0.271, 0.026, 2.488, 0.470, 0.009, 0.237, 0.472, 0.014, 0.005, 0.034, 0.098, 0.035, 0.572, 0.025, 1.194, 1.287, 0.023, 0.380, 0.281,0.944, 1.133, 0.007, 1.408, 0.000, 0.254, 0.002, 0.336])\n",
    "\n",
    "\n",
    "# Вариационный ряд\n",
    "sorted_data = sorted(data)\n",
    "print(sorted_data)"
   ],
   "metadata": {
    "collapsed": false,
    "ExecuteTime": {
     "end_time": "2023-12-01T20:44:10.991235Z",
     "start_time": "2023-12-01T20:44:10.969597700Z"
    }
   },
   "id": "c403d489fbfe4dd5"
  },
  {
   "cell_type": "code",
   "execution_count": 535,
   "outputs": [
    {
     "data": {
      "text/plain": "<Figure size 640x480 with 1 Axes>",
      "image/png": "[encoded data removed]"
     },
     "metadata": {},
     "output_type": "display_data"
    }
   ],
   "source": [
    "# Построение эмпирической функции распределения\n",
    "\n",
    "# variation_series - пары, где ключ - элемент из sorted_data, а значение - количество повторений элемента\n",
    "variation_series = list(Counter(sorted_data).items())\n",
    "\n",
    "x = [item[0] for item in variation_series]\n",
    "y = np.cumsum([item[1] for item in variation_series]) / len(data)\n",
    "\n",
    "\n",
    "plt.title('Эмпирическая функция')\n",
    "plt.xlabel('Значения из ВР')\n",
    "plt.ylabel('Вероятность')\n",
    "\n",
    "for i in range(len(x)):\n",
    "    plt.plot(x[i], y[i], marker='o', color='blue')\n",
    "    if i == 0:\n",
    "        plt.hlines(y[i], 0, x[i + 1], linestyle='-', color='blue')\n",
    "    elif i == (len(x) - 1):\n",
    "        plt.hlines(y[i], x[i], x[i] + 1, linestyle='-', color='blue')\n",
    "    else:\n",
    "        plt.hlines(y[i], x[i], x[i+1], linestyle='-', color='blue')\n",
    "\n",
    "\n",
    "\n",
    "plt.show()"
   ],
   "metadata": {
    "collapsed": false,
    "ExecuteTime": {
     "end_time": "2023-12-01T20:44:11.353540100Z",
     "start_time": "2023-12-01T20:44:11.153709900Z"
    }
   },
   "id": "29827a28761a6da"
  },
  {
   "cell_type": "code",
   "execution_count": 536,
   "outputs": [
    {
     "data": {
      "text/plain": "<Figure size 640x480 with 1 Axes>",
      "image/png": "[encoded data removed]"
     },
     "metadata": {},
     "output_type": "display_data"
    }
   ],
   "source": [
    "# Построение гистограммы и полгона частот с шагом h\n",
    "\n",
    "h = 0.2\n",
    "bins = np.arange(min(sorted_data), max(sorted_data) + h, h)\n",
    "\n",
    "plt.title('Гистограмма и полигон частот')\n",
    "plt.xlabel('Значения из ВР')\n",
    "plt.ylabel('Частота')\n",
    "plt.hist(sorted_data, bins=bins, color='blue', edgecolor='black', label='Гистограмма частот')\n",
    "plt.plot(bins[:-1] + h / 2, np.histogram(sorted_data, bins=bins)[0], marker='.', color='red', linestyle='-',label='Полигон частот')\n",
    "\n",
    "\n",
    "plt.legend()\n",
    "plt.show()"
   ],
   "metadata": {
    "collapsed": false,
    "ExecuteTime": {
     "end_time": "2023-12-01T20:44:11.485794700Z",
     "start_time": "2023-12-01T20:44:11.337886800Z"
    }
   },
   "id": "fd97dcd7fa7e7ea1"
  },
  {
   "cell_type": "markdown",
   "source": [
    "#### b) Вычислить выборочные аналоги следующих числовых характеристик: (i) математическое ожидание, (ii) дисперсия, (iii) СКО, (iv) медиана, (v) асимметрия, (vi) эксцесса (vii) вероятности $\\mathbb{P}(X\\in \\left[ c, d \\right])$ \n"
   ],
   "metadata": {
    "collapsed": false
   },
   "id": "ac1f3ab6c682d7de"
  },
  {
   "cell_type": "code",
   "execution_count": 537,
   "outputs": [
    {
     "name": "stdout",
     "output_type": "stream",
     "text": [
      "Математическое ожидание: 0.4660399999999999\n",
      "Дисперсия: 0.42346699840000007\n",
      "СКО: 0.6507434197900123\n",
      "Медиана: 0.20400000000000001\n",
      "Асимметрия: 1.835576441036888\n",
      "Эксцесс: 2.7410994663055357\n",
      "P(X в [0.0, 0.64]): 0.78\n"
     ]
    }
   ],
   "source": [
    "c = 0.0\n",
    "d = 0.64\n",
    "\n",
    "# (i) Математическое ожидание\n",
    "mean_val = np.mean(data)\n",
    "print(f\"Математическое ожидание: {mean_val}\")\n",
    "\n",
    "# (ii) Дисперсия\n",
    "variance_val = np.var(data)\n",
    "print(f\"Дисперсия: {variance_val}\")\n",
    "\n",
    "# (iii) СКО\n",
    "std_val = np.std(data)\n",
    "print(f\"СКО: {std_val}\")\n",
    "\n",
    "# (iv) Медиана\n",
    "median_val = np.median(data)\n",
    "print(f\"Медиана: {median_val}\")\n",
    "\n",
    "# (v) Асимметрия\n",
    "skewness_val = stats.skew(data)\n",
    "print(f\"Асимметрия: {skewness_val}\")\n",
    "\n",
    "# (vi) Эксцесс\n",
    "kurtosis_val = stats.kurtosis(data)\n",
    "print(f\"Эксцесс: {kurtosis_val}\")\n",
    "\n",
    "# # (vii) P(X в [a, b])\n",
    "probability_val = np.mean((data >= c) & (data <= d))\n",
    "print(f\"P(X в [{c}, {d}]): {probability_val}\")\n",
    "\n"
   ],
   "metadata": {
    "collapsed": false,
    "ExecuteTime": {
     "end_time": "2023-12-01T20:44:11.707003700Z",
     "start_time": "2023-12-01T20:44:11.685599800Z"
    }
   },
   "id": "1b8fee7a98122555"
  },
  {
   "cell_type": "markdown",
   "source": [
    "#### c) В предположении, что исходные наблюдения являются выборкой из показательного распределения, построить оценку максимального правдоподобия параметра $\\lambda$, и соответствующую оценку по методу моментов. Найти смещение оценок.\n",
    "\n",
    "Плотность распределения показательного распределения: $p(X) = \\lambda \\cdot exp(-\\lambda X), X \\ge 0$\n",
    "Условие $X \\ge 0$ выполняется для данной выборки, индикатором можно пренебречь\n",
    "\n",
    "a) ОМП\n",
    "\n",
    "Составим функцию правдоподобия\n",
    "$L(\\overrightarrow{X};\\theta)\n",
    "=\\prod_{i=1}^{n}p(X_{i})=\n",
    "\\prod_{i=1}^{n} \\lambda \\cdot exp(-\\lambda X)=\n",
    "\\lambda^{n} \\cdot exp(-\\lambda \\sum_{i=1}^{n}X_i)$\n",
    "\n",
    "Прологарифмируем функцию правдоподобия\n",
    "\n",
    "$LL(\\overrightarrow{X};\\theta)= n\\ln(\\lambda)-\\lambda \\sum_{i=1}^{n}X_i$\n",
    "\n",
    "Найдем производную логарифма функции правдоподобия по параметру $\\lambda$\n",
    "\n",
    "$\\frac{\\partial}{\\partial\\lambda} LL(\\overrightarrow{X};\\theta) = \\frac{n}{\\lambda} - \\sum_{i=1}^{n}X_i$\n",
    "\n",
    "Приравняем производную к нулю и решим уравнение для нахождения оценки параметра $\\lambda$\n",
    "\n",
    "$\\frac{n}{\\lambda} - \\sum_{i=1}^{n}X_i = 0$\n",
    "\n",
    "$\\widehat{\\lambda} = \\frac{1}{\\overline{X}} = 2.15$\n",
    "\n",
    "б) ОММ\n",
    "Математическое ожидание для показательного распределения\n",
    "\n",
    "$\\mathbb{E}X = \\frac{1}{\\lambda}$\n",
    "\n",
    "Выберем момент\n",
    "\n",
    "$M_{1}=\\overline{X}$\n",
    "\n",
    "Получаем, что\n",
    "\n",
    "$\\widetilde{\\lambda}=\\frac{1}{\\overline{X}}=\\widetilde{\\theta}=2.15$\n",
    "\n",
    "Найдем смещение оценок\n",
    "\n",
    "Показательное распределение принадлежит экспоненциальному семейству распределений, поэтому МДС $\\left( \\sum_{i=1}^n X_i \\right)$ является ПДС \n",
    "\n",
    "\n",
    "$\\mathbb{E}\\widehat{λ} = n\\mathbb{E}\\frac1{\\sum_{i=1}^n X_i} $\n",
    "\n",
    "$ \\sum_{i=1}^n X_i \\sim Gamma(n, \\frac1{\\lambda}) $\n",
    "\n",
    "$ n \\mathbb{E}\\frac{1}{\\sum_{i=1}^n X_i}=n(\\frac1{\\lambda})^{-1} \\frac{Г(-1+n)}{Г(n)}=\\frac{n\\lambda}{n-1} = 0.476$ - оценка смещенная\n",
    "\n",
    "$ \\widehat{\\widehat{λ}}=\\frac{(n-1)\\overline{X}}{n}= 0.457 $\n"
   ],
   "metadata": {
    "collapsed": false
   },
   "id": "ec30d90813f1ddfa"
  },
  {
   "cell_type": "markdown",
   "source": [
    "#### d) Построить асимптотический  доверительный  интервал  уровня  значимости  $\\alpha_{2}$ для  параметра  $\\lambda$  на  базе  оценки максимального правдоподобия.\n",
    "\n",
    "$\\alpha_{2} = 0.1$\n",
    "\n",
    "ОМП из прошлого пункта\n",
    "\n",
    "$\\widehat{\\theta}=\\frac{1}{\\overline{X}}$\n",
    "\n",
    "$\\sqrt{n}\\left( \\widehat{\\theta}(\\overrightarrow{X})-\\theta \\right)\\sim N\\left( 0, \\frac{1}{I(\\theta)} \\right)$\n",
    "\n",
    "Найдем информацию Фишера: \n",
    "\n",
    "$I_{n}(\\theta)=-\\mathbb{E}\\left( \\frac{\\partial^{2} LL}{\\partial \\lambda^{2}} \\right)=-\\mathbb{E}\\left(-\\frac{n}{\\lambda^{2}}\\right)= \\frac{n}{\\lambda^{2}}$\n",
    "\n",
    "$I(\\theta) = \\lim_{n \\to \\infty} \\left(\\frac{I_{n}(\\theta)}{n}\\right) = \\frac{1}{\\lambda^{2}}$\n",
    "\n",
    "Тогда \n",
    "\n",
    "$\\sqrt{n\\cdot I\\left(  \\widehat{\\theta}(\\overrightarrow{X})\\right)}\\left( \\widehat{\\theta}(\\overrightarrow{X})-\\theta \\right)\\sim N(0,1)$\n",
    "\n",
    "Выбираем \n",
    "\n",
    "$X_{\\alpha_{2}}$: $\\mathrm{Ф}(X_{\\alpha_{2}})=1-\\frac{\\alpha_{2}}{2}=1-\\frac{0.1}{2}=0.95$ \n",
    "\n",
    "Найдем $X_{0.1}$\n",
    "\n"
   ],
   "metadata": {
    "collapsed": false
   },
   "id": "9708612eaf0d0837"
  },
  {
   "cell_type": "code",
   "execution_count": 538,
   "outputs": [
    {
     "name": "stdout",
     "output_type": "stream",
     "text": [
      "X_0.1 = 1.64\n"
     ]
    }
   ],
   "source": [
    "X_alpha = stats.norm.ppf(0.95)\n",
    "\n",
    "print(f'X_{0.1} = {X_alpha:.2f}')"
   ],
   "metadata": {
    "collapsed": false,
    "ExecuteTime": {
     "end_time": "2023-12-01T20:44:12.225032600Z",
     "start_time": "2023-12-01T20:44:12.223742Z"
    }
   },
   "id": "a06ae7c86acb5d6e"
  },
  {
   "cell_type": "markdown",
   "source": [
    "Ассимптотический доверительный интервал\n",
    "\n",
    "$\\lambda \\in \\left[ \\widehat{\\theta}(\\overrightarrow{X}) - \\frac{X_{\\alpha}}{\\sqrt{n \\cdot I(\\widehat{\\theta})}} , \\widehat{\\theta}(\\overrightarrow{X}) + \\frac{X_{\\alpha}}{\\sqrt{n \\cdot I(\\widehat{\\theta})}}\\right]$\n",
    "\n",
    "$\\lambda \\in \\left[ 2.15 - \\frac{1.64}{\\sqrt{50 \\cdot \\frac{1}{0.466^2}}} , 2.15 + \\frac{1.64}{\\sqrt{50 \\cdot \\frac{1}{0.466^2}}}\\right]$"
   ],
   "metadata": {
    "collapsed": false
   },
   "id": "770a93287ced4dcf"
  },
  {
   "cell_type": "code",
   "execution_count": 539,
   "outputs": [
    {
     "name": "stdout",
     "output_type": "stream",
     "text": [
      "Ассимптотический доверительный интервал параметра λ\n",
      "2.0419201427091984 <= λ <= 2.2580798572908014\n"
     ]
    }
   ],
   "source": [
    "a = 1.64 / np.sqrt(50 * 1 / 0.466**2);\n",
    "\n",
    "print(\"Ассимптотический доверительный интервал параметра λ\")\n",
    "print(f'{2.15-a} <= λ <= {2.15+a}')"
   ],
   "metadata": {
    "collapsed": false,
    "ExecuteTime": {
     "end_time": "2023-12-01T20:44:12.577967300Z",
     "start_time": "2023-12-01T20:44:12.571413800Z"
    }
   },
   "id": "4b1f6699d30a7aef"
  },
  {
   "cell_type": "markdown",
   "source": [
    "#### e) С использованием теоремы Колмагорова построить критерий значимости проверки простой гипотезы согласия с показательным распределением с параметром $\\lambda_{0}$. Проверить гипотезу на уровне значимости $\\alpha_{2}$. Вычислить наибольшее значение уровня значимости, на котором еще нет оснований отвергнуть данную гипотезу\n",
    "\n",
    "Статистика критерия Колмагорова $D_{n} = \\sup_{x \\in \\mathbb{R}} | F_n(x) - F_0(x)|$\n",
    "\n",
    "Теорема Колмагорова $\\sqrt{n}D_n \\rightarrow K$ при основной гипотезе\n"
   ],
   "metadata": {
    "collapsed": false
   },
   "id": "34eca7891a02c8e5"
  },
  {
   "cell_type": "code",
   "execution_count": 540,
   "outputs": [
    {
     "name": "stdout",
     "output_type": "stream",
     "text": [
      "D: 0.5402350956751844\n",
      "sqrt(n)*D: 3.8200389958688614\n",
      "p-value: 3.456671186585922e-14\n",
      "Квантиль Колмагорова 0.9: 1.2238478702170825\n"
     ]
    }
   ],
   "source": [
    "lambda_0 = 0.48\n",
    "alpha_2 = 0.1\n",
    "\n",
    "\n",
    "\n",
    "D, p_value = stats.kstest(sorted_data, 'expon', args=(0, 1/lambda_0), alternative='two-sided')\n",
    "\n",
    "\n",
    "print(f\"D: {D}\")\n",
    "print(f\"sqrt(n)*D: {np.sqrt(len(sorted_data)) * D}\")\n",
    "print(f\"p-value: {p_value}\")\n",
    "print(f\"Квантиль Колмагорова {1 - alpha_2}: {stats.kstwobign.ppf(1 - alpha_2)}\")\n",
    "\n"
   ],
   "metadata": {
    "collapsed": false,
    "ExecuteTime": {
     "end_time": "2023-12-01T20:44:12.952121Z",
     "start_time": "2023-12-01T20:44:12.924717100Z"
    }
   },
   "id": "8e6f31a52a2e19b9"
  },
  {
   "cell_type": "markdown",
   "source": [
    "Поскольку $\\sqrt{n}D_n > d_{0.9}$, то гипотеза отвергается\n",
    "\n",
    "Наибольший уровень значимости, при котором нет основания отвергнуть гипотезу 3.456671186585922e-14"
   ],
   "metadata": {
    "collapsed": false
   },
   "id": "445805d2d021f736"
  },
  {
   "cell_type": "markdown",
   "source": [
    "#### f) Используя гистограмму частот, построить критерий значимости $\\mathcal{X^{2}}$ проверки простой гипотезы согласия с показательным распределением с параметром $\\lambda_{0}$.  Проверить  гипотезу  на  уровне  значимости  $\\alpha_{2}$.  Вычислить наибольшее значение уровня значимости, на котором еще нет оснований отвергнуть данную гипотезу.\n",
    "\n",
    "Были выбраны интервалы с шагом 0.2\n",
    "\n"
   ],
   "metadata": {
    "collapsed": false
   },
   "id": "937d1f8edfc4d5d"
  },
  {
   "cell_type": "code",
   "execution_count": 541,
   "outputs": [
    {
     "name": "stdout",
     "output_type": "stream",
     "text": [
      "Интервалы [(0.0, 0.2), (0.2, 0.4), (0.4, 0.6000000000000001), (0.6000000000000001, 0.8), (0.8, 1.0), (1.0, 1.2000000000000002), (1.2000000000000002, 1.4000000000000001), (1.4000000000000001, 1.6), (1.6, 1.8), (1.8, 2.0), (2.0, 2.2), (2.2, 2.4000000000000004), (2.4000000000000004, 2.6), (2.6, inf)]\n",
      "Частоты [25  9  5  0  1  4  1  1  1  1  0  0  1  1]\n",
      "Ожидаемые вероятности [0.09153598393129381, 0.08315714757702386, 0.07554527625264107, 0.06863016505949415, 0.062348035373406274, 0.0566409466093184, 0.051456261830634564, 0.04674616227454115, 0.04246720631572909, 0.038579928800805574, 0.03504847705802466, 0.03184028022522495, 0.02892574884616078, 0.2870783798457017]\n",
      "Сумма вероятностей 1.0\n",
      "Критерий X^2: 28.375115367102588\n",
      "Критическое значение: 19.81192930712756\n",
      "p value= 0.008019599253325849\n"
     ]
    }
   ],
   "source": [
    "\n",
    "def hypothesisTestExp(lambda_0, alpha_2, df):\n",
    "    \n",
    "    # Интервалы (правый край включен)\n",
    "    bins = np.arange(min(sorted_data), max(sorted_data) + h  , h)\n",
    "    intervals = [(start, end) for start, end in zip(bins[:-1], bins[1:])]\n",
    "    intervals.pop()\n",
    "    intervals.append((2.6, np.inf))\n",
    "    print(f\"Интервалы {intervals}\")\n",
    "    \n",
    "    # Гистограмма частот\n",
    "    hist = np.histogram(sorted_data, bins=bins)[0]\n",
    "    print(f\"Частоты {hist}\")\n",
    "    \n",
    "    #Ожидаемые вероятности\n",
    "    expected_freq = [( (math.exp(-lambda_0*intervals[i][0])) - ( math.exp(-lambda_0*intervals[i][1]))) for i in range(len(intervals) - 1)]\n",
    "    #Ожидаемая вероятность последнего интервала\n",
    "    expected_freq.append(1 - sum(expected_freq))\n",
    "    print(f\"Ожидаемые вероятности {expected_freq}\")\n",
    "    print(f\"Сумма вероятностей {sum(expected_freq)}\")\n",
    "    \n",
    "    #Вычисление критерия chi^2\n",
    "    chi = 0\n",
    "    for i in range(len(intervals)):\n",
    "        chi += ((bins[i] - len(data)*expected_freq[i])**2) / (len(data)*expected_freq[i])\n",
    "    \n",
    "    x_alpha = stats.chi2.ppf(1 - alpha_2, df)\n",
    "    \n",
    "    print(f\"Критерий X^2: {chi}\")\n",
    "    print(f\"Критическое значение: {x_alpha}\")\n",
    "    \n",
    "    \n",
    "    print(f\"p value= {1 - stats.chi2.cdf(chi, df)}\")\n",
    "\n",
    "    \n",
    "hypothesisTestExp(lambda_0=0.48, alpha_2=0.1, df= 14 - 1)\n"
   ],
   "metadata": {
    "collapsed": false,
    "ExecuteTime": {
     "end_time": "2023-12-01T20:44:13.494315100Z",
     "start_time": "2023-12-01T20:44:13.466967900Z"
    }
   },
   "id": "192c2aaa16926d08"
  },
  {
   "cell_type": "markdown",
   "source": [
    "$\\mathcal{X^{2}} > \\mathcal{X_{0.1, 13}} \\rightarrow$ гипотеза отвергается\n",
    "\n",
    "Наибольший уровень значимости, при котором еще нет оснований отвергнуть гипотезу 0.008019599253325849."
   ],
   "metadata": {
    "collapsed": false
   },
   "id": "a135f494ee005ea6"
  },
  {
   "cell_type": "markdown",
   "source": [
    "#### g) Построить критерий значимости $\\mathcal{X^{2}}$ проверки сложной гипотезы согласия с показательным распределением. Проверить гипотезу на уровне значимости $\\alpha_{1}$. Вычислить наибольшее значение уровня значимости, на котором еще нет оснований отвергнуть данную гипотезу.\n",
    "\n",
    "В качестве параметра возьмем оценку ОМП $ \\widehat{λ}= \\frac{1}{\\overline{X}}=2.15 $"
   ],
   "metadata": {
    "collapsed": false
   },
   "id": "c01875ff3e7558d1"
  },
  {
   "cell_type": "code",
   "execution_count": 542,
   "outputs": [
    {
     "name": "stdout",
     "output_type": "stream",
     "text": [
      "Интервалы [(0.0, 0.2), (0.2, 0.4), (0.4, 0.6000000000000001), (0.6000000000000001, 0.8), (0.8, 1.0), (1.0, 1.2000000000000002), (1.2000000000000002, 1.4000000000000001), (1.4000000000000001, 1.6), (1.6, 1.8), (1.8, 2.0), (2.0, 2.2), (2.2, 2.4000000000000004), (2.4000000000000004, 2.6), (2.6, inf)]\n",
      "Частоты [25  9  5  0  1  4  1  1  1  1  0  0  1  1]\n",
      "Ожидаемые вероятности [0.3494909052766835, 0.2273470124055677, 0.1478912992279965, 0.09620463517825911, 0.06258199013799626, 0.040710153750651484, 0.02648232526238333, 0.01722699343260138, 0.01120631590264605, 0.007289810413013785, 0.004742087972474211, 0.0030847713540725205, 0.0020066718209661347, 0.0037350278646880453]\n",
      "Сумма вероятностей 1.0\n",
      "Критерий X^2: 173.07330648969491\n",
      "Критическое значение: 18.549347786703244\n",
      "p value= 0.0\n"
     ]
    }
   ],
   "source": [
    "hypothesisTestExp(lambda_0=2.15, alpha_2=0.1, df= 14 - 1 - 1)"
   ],
   "metadata": {
    "collapsed": false,
    "ExecuteTime": {
     "end_time": "2023-12-01T20:44:14.015151700Z",
     "start_time": "2023-12-01T20:44:14.010925200Z"
    }
   },
   "id": "39474c508a7163e4"
  },
  {
   "cell_type": "markdown",
   "source": [
    "$\\mathcal{X^{2}} > \\mathcal{X_{0.1, 12}} \\rightarrow$ гипотеза отвергается\n",
    "\n",
    "Наибольший уровень значимости, при котором еще нет оснований отвергнуть гипотезу сильно близок к нулю."
   ],
   "metadata": {
    "collapsed": false
   },
   "id": "635e557c9b2857b4"
  },
  {
   "cell_type": "markdown",
   "source": [
    "#### h) Построить наиболее мощный критерий проверки простой гипотезы показательности с параметром $\\lambda = \\lambda_0$ при альтернативе показательности с параметром $\\lambda = \\lambda_1$.  Проверить гипотезу на уровне значимости $\\alpha_2$. Что получится, если поменять местами  основную и альтернативную гипотезы?\n",
    "\n",
    "Основная гипотеза\n",
    "$H_{0}: \\lambda = \\lambda_{0} = 0.48$\n",
    "\n",
    "Альтернативная гипотеза\n",
    "$H_{1}: \\lambda = \\lambda_{1} = 1.43$\n",
    "\n",
    "$L(\\overrightarrow{X};\\lambda)= \\lambda^{n} \\cdot exp(-\\lambda\\sum_{i = 1}^{n} X_{i} )$\n",
    "\n",
    "Статическое отношение правдоподобия\n",
    "\n",
    "$LR(\\overrightarrow{X};\\lambda_0, \\lambda_1) = \\left(\\frac{\\lambda_1}{\\lambda_0}\\right)^{n} \\cdot exp(\\sum_{i=1}^{n}X_i\\left(\\lambda_0 - \\lambda_1 \\right) > c$\n",
    "\n",
    "В силу монотонности статистики LR относительно МДС\n",
    "\n",
    "$LR(\\overrightarrow{X}) > c \\leftrightarrow \\overline{X} < c^{*}$\n",
    "\n",
    "$LR(\\overrightarrow{X}) < c \\leftrightarrow \\overline{X} > c^{*}$\n",
    "\n",
    "$ \\phi(x) =\\left\\{\n",
    "  \\begin{array}{l}\n",
    "    1, \\overline{X} < c^{*} \\\\\n",
    "    p, \\overline{X} = c^{*} \\\\\n",
    "    0, \\overline{X} > c^{*} \\\\\n",
    "  \\end{array}\\right.$\n",
    "  \n",
    "По ЦПТ:\n",
    "\n",
    "$ \\sqrt{n} \\frac{ \\overline{X}-\\mu}{\\sigma} \\sim N(0,1)$\n",
    "\n",
    "$ \\mu=\\frac{1}{\\lambda_0}, \\sigma^{2}=\\frac{1}{\\lambda_0}$\n",
    "\n",
    "$ \\sqrt{n} \\frac{ \\overline{X}-\\frac{1}{\\lambda_0}}{\\sqrt{\\frac{1}{\\lambda_0}}} \\sim N(0,1)$\n",
    "\n",
    "$ P\\left(\\sqrt{n} \\frac{ \\overline{X}-\\frac{1}{\\lambda_0}}{\\sqrt{\\frac{1}{\\lambda_0}}} ≥ \\sqrt{n} \\frac{ c^*-\\frac{1}{\\lambda_0}}{\\sqrt{\\frac{1}{\\lambda_0}}}\\right)=1-Ф\\left(\\sqrt{n} \\frac{ c^*-\\frac{1}{\\lambda_0}}{\\sqrt{\\frac{1}{\\lambda_0}}}\\right)= α$\n",
    "\n",
    "$\\sqrt{n} \\frac{ c^*-\\frac{1}{\\lambda_0}}{\\sqrt{\\frac{1}{\\lambda_0}}}=x_α$\n",
    "\n",
    "$x_α: Ф(x_α)=1-α $"
   ],
   "metadata": {
    "collapsed": false
   },
   "id": "8160b927b05a2685"
  },
  {
   "cell_type": "code",
   "execution_count": 543,
   "outputs": [
    {
     "name": "stdout",
     "output_type": "stream",
     "text": [
      "Квантиль N(0,1) с уровнем доверия 1 - alpha_2: 1.2815515655446004\n"
     ]
    }
   ],
   "source": [
    "print(f'Квантиль N(0,1) с уровнем доверия 1 - alpha_2: {stats.norm.ppf(0.9, loc=0, scale=1)}')"
   ],
   "metadata": {
    "collapsed": false,
    "ExecuteTime": {
     "end_time": "2023-12-01T20:44:14.574440900Z",
     "start_time": "2023-12-01T20:44:14.542599700Z"
    }
   },
   "id": "7b2be40bbe7abb21"
  },
  {
   "cell_type": "markdown",
   "source": [
    "Найдем $c^{*}$\n",
    "$\\sqrt{50} \\cdot \\frac{c^{*} - \\frac{1}{0.48}}{\\sqrt\\frac{1}{0.48}} = 1.28$\n",
    "\n",
    "$c^{*} = 2.34$\n",
    "\n",
    "$\\overline{X} = 0.466$\n",
    "\n",
    "$\\overline{X} < c^{*} \\leftrightarrow H_{0}$ отвергаем $H_{1}$ принимаем \n",
    "\n",
    "Поменяем гипотезы местами\n",
    "\n",
    "Основная гипотеза\n",
    "$H_{0}: \\lambda = \\lambda_{1} = 1.43$\n",
    "\n",
    "Альтернативная гипотеза\n",
    "$H_{1}: \\lambda = \\lambda_{0} = 0.48$\n",
    "\n",
    "$L(\\overrightarrow{X};\\lambda)= \\lambda^{n} \\cdot exp(-\\lambda\\sum_{i = 1}^{n} X_{i} )$\n",
    "\n",
    "Статическое отношение правдоподобия\n",
    "\n",
    "$LR(\\overrightarrow{X};\\lambda_1, \\lambda_0) = \\left(\\frac{\\lambda_0}{\\lambda_1}\\right)^{n} \\cdot exp(\\sum_{i=1}^{n}X_i\\left(-\\lambda_0 + \\lambda_1 \\right) > c$\n",
    "\n",
    "В силу монотонности статистики LR относительно МДС\n",
    "\n",
    "$LR(\\overrightarrow{X}) > c \\leftrightarrow \\overline{X} < c^{*}$\n",
    "\n",
    "$LR(\\overrightarrow{X}) < c \\leftrightarrow \\overline{X} > c^{*}$\n",
    "\n",
    "$ \\phi(x) =\\left\\{\n",
    "  \\begin{array}{l}\n",
    "    1, \\overline{X} < c^{*} \\\\\n",
    "    p, \\overline{X} = c^{*} \\\\\n",
    "    0, \\overline{X} > c^{*} \\\\\n",
    "  \\end{array}\\right.$\n",
    "  \n",
    "По ЦПТ:\n",
    "\n",
    "$ \\sqrt{n} \\frac{ \\overline{X}-\\mu}{\\sigma} \\sim N(0,1)$\n",
    "\n",
    "$ \\mu=\\frac{1}{\\lambda_1}, \\sigma^{2}=\\frac{1}{\\lambda_1}$\n",
    "\n",
    "$ \\sqrt{n} \\frac{ \\overline{X}-\\frac{1}{\\lambda_1}}{\\sqrt{\\frac{1}{\\lambda_1}}} \\sim N(0,1)$\n",
    "\n",
    "$ P\\left(\\sqrt{n} \\frac{ \\overline{X}-\\frac{1}{\\lambda_1}}{\\sqrt{\\frac{1}{\\lambda_1}}} ≥ \\sqrt{n} \\frac{ c^*-\\frac{1}{\\lambda_1}}{\\sqrt{\\frac{1}{\\lambda_1}}}\\right)=1-Ф\\left(\\sqrt{n} \\frac{ c^*-\\frac{1}{\\lambda_1}}{\\sqrt{\\frac{1}{\\lambda_1}}}\\right)= α$\n",
    "\n",
    "$\\sqrt{n} \\frac{ c^*-\\frac{1}{\\lambda_1}}{\\sqrt{\\frac{1}{\\lambda_1}}}=x_α$\n",
    "\n",
    "$x_α: Ф(x_α)=1-α $\n",
    "\n",
    "$x_a = 1.28$\n",
    "\n",
    "Найдем $c^{*}$\n",
    "$\\sqrt{50} \\cdot \\frac{c^{*} - \\frac{1}{1.43}}{\\sqrt\\frac{1}{1.43}} = 1.28$\n",
    "\n",
    "$c^{*} = 0.85$\n",
    "\n",
    "$\\overline{X} = 0.466$\n",
    "\n",
    "$\\overline{X} < c^{*} \\leftrightarrow H_{0}$ отвергаем $H_{1}$ принимаем "
   ],
   "metadata": {
    "collapsed": false
   },
   "id": "f6775bcc05468ac7"
  },
  {
   "cell_type": "markdown",
   "source": [
    "### i) В пунктах (c)-(h) заменить семейство показательных распределений на семейство гамма-распределений с плотностями $p_{\\lambda}(x) = \\frac{\\sqrt{\\lambda}\\cdot exp\\left( \\frac{-\\lambda x}{2} \\right)}{\\sqrt{2\\pi x}}$"
   ],
   "metadata": {
    "collapsed": false
   },
   "id": "27692a79bc209385"
  },
  {
   "cell_type": "markdown",
   "source": [
    "#### h.c) \n",
    "\n",
    "Плотность распределения показательного распределения: $p(X) = \\lambda \\cdot exp(-\\lambda X), X \\ge 0$\n",
    "Условие $X \\ge 0$ выполняется для данной выборки, индикатором можно пренебречь\n",
    "\n",
    "a) ОМП\n",
    "\n",
    "Составим функцию правдоподобия\n",
    "$L(\\overrightarrow{X};\\theta)\n",
    "=\\prod_{i=1}^{n}p(X_{i})= \\frac{\\lambda^{\\frac{n}{2}} \\cdot \\exp\\left(-\\frac{\\lambda}{2} \\sum_{i = 1}^{n} X_i\\right)}{(2 \\pi )^{\\frac{n}{2}} \\prod_{i=1}^{n} \\sqrt{X_i}}$\n",
    "\n",
    "Прологарифмируем функцию правдоподобия\n",
    "\n",
    "$LL(\\overrightarrow{X};\\theta)= \\frac{n}{2}\\ln{\\lambda} - \\frac{\\lambda}{2}\\sum_{i = 1}^n X_i - \\frac{n}{2}\\ln{2\\pi} - \\frac{1}{2}\\sum_{i = 1}^n \\ln{X_i}$\n",
    "\n",
    "Найдем производную логарифма функции правдоподобия по параметру $\\lambda$\n",
    "\n",
    "$\\frac{\\partial}{\\partial\\lambda} LL(\\overrightarrow{X};\\theta) = \\frac{n}{2\\lambda} - \\frac{1}{2}\\sum_{i = 1}^n X_i$\n",
    "\n",
    "Приравняем производную к нулю и решим уравнение для нахождения оценки параметра $\\lambda$\n",
    "\n",
    "$ \\frac{n}{2\\lambda} - \\frac{1}{2}\\sum_{i = 1}^n X_i = 0$\n",
    "\n",
    "$\\widehat{\\lambda} = \\frac{1}{\\overline{X}} = 2.15$\n",
    "\n",
    "б) ОММ\n",
    "Математическое ожидание для показательного распределения\n",
    "\n",
    "$\\mathbb{E}X = \\frac{1}{\\lambda}$\n",
    "\n",
    "Выберем момент\n",
    "\n",
    "$M_{1}=\\overline{X}$\n",
    "\n",
    "Получаем, что\n",
    "\n",
    "$\\widetilde{\\lambda}=\\frac{1}{\\overline{X}}=\\widetilde{\\theta}=2.15$\n",
    "\n",
    "Найдем смещение оценок\n",
    "\n",
    "Показательное распределение принадлежит экспоненциальному семейству распределений, поэтому МДС $\\left( \\sum_{i=1}^n X_i \\right)$ является ПДС \n",
    "\n",
    "\n",
    "$\\mathbb{E}\\widehat{λ} = n\\mathbb{E}\\frac1{\\sum_{i=1}^n X_i} $\n",
    "\n",
    "$ \\sum_{i=1}^n X_i \\sim Gamma(n, \\frac1{\\lambda}) $\n",
    "\n",
    "$ n \\mathbb{E}\\frac{1}{\\sum_{i=1}^n X_i}=n\\left(\\frac{1}{\\lambda}\\right)^{-1} \\frac{Г(-1+n)}{Г(n)}=\\frac{n\\lambda}{n-1} = 0.476$ - оценка смещенная\n",
    "\n",
    "$ \\widehat{\\widehat{λ}}=\\frac{(n-1)\\overline{X}}{n}= 0.457 $\n"
   ],
   "metadata": {
    "collapsed": false
   },
   "id": "28a6120f4a5c1e7d"
  },
  {
   "cell_type": "markdown",
   "source": [
    "#### h.d)\n",
    "\n",
    "$\\alpha_{2} = 0.1$\n",
    "\n",
    "ОМП из прошлого пункта\n",
    "\n",
    "$\\widehat{\\theta}=\\frac{1}{\\overline{X}}$\n",
    "\n",
    "$\\sqrt{n}\\left( \\widehat{\\theta}(\\overrightarrow{X})-\\theta \\right)\\sim N\\left( 0, \\frac{1}{I(\\theta)} \\right)$\n",
    "\n",
    "Найдем информацию Фишера: \n",
    "\n",
    "$I_{n}(\\theta)=-\\mathbb{E}\\left( \\frac{\\partial^{2} LL}{\\partial \\lambda^{2}} \\right)=-\\mathbb{E}\\left(-\\frac{n}{2\\lambda^{2}}\\right)= \\frac{n}{2\\lambda^{2}}$\n",
    "\n",
    "$I(\\theta) = \\lim_{n \\to \\infty} \\left(\\frac{I_{n}(\\theta)}{n}\\right) = \\frac{1}{2\\lambda^{2}}$\n",
    "\n",
    "Тогда \n",
    "\n",
    "$\\sqrt{n\\cdot I\\left(  \\widehat{\\theta}(\\overrightarrow{X})\\right)}\\left( \\widehat{\\theta}(\\overrightarrow{X})-\\theta \\right)\\sim N(0,1)$\n",
    "\n",
    "Выбираем \n",
    "\n",
    "$X_{\\alpha_{2}}$: $\\mathrm{Ф}(X_{\\alpha_{2}})=1-\\frac{\\alpha_{2}}{2}=1-\\frac{0.1}{2}=0.95$ \n",
    "\n",
    "Найдем $X_{0.1}$\n"
   ],
   "metadata": {
    "collapsed": false
   },
   "id": "68f139b79eee0f08"
  },
  {
   "cell_type": "code",
   "execution_count": 544,
   "outputs": [
    {
     "name": "stdout",
     "output_type": "stream",
     "text": [
      "X_0.1 = 1.64\n"
     ]
    }
   ],
   "source": [
    "X_alpha = stats.norm.ppf(0.95)\n",
    "\n",
    "print(f'X_{0.1} = {X_alpha:.2f}')"
   ],
   "metadata": {
    "collapsed": false,
    "ExecuteTime": {
     "end_time": "2023-12-01T20:44:15.451988Z",
     "start_time": "2023-12-01T20:44:15.427885800Z"
    }
   },
   "id": "7013c25f96d9ebfb"
  },
  {
   "cell_type": "markdown",
   "source": [
    "Ассимптотический доверительный интервал\n",
    "\n",
    "$\\lambda \\in \\left[ \\widehat{\\theta}(\\overrightarrow{X}) - \\frac{X_{\\alpha}}{\\sqrt{n \\cdot I(\\widehat{\\theta})}} , \\widehat{\\theta}(\\overrightarrow{X}) + \\frac{X_{\\alpha}}{\\sqrt{n \\cdot I(\\widehat{\\theta})}}\\right]$\n",
    "\n",
    "$\\lambda \\in \\left[ 2.15 - \\frac{1.64}{\\sqrt{50 \\cdot \\frac{1}{2 \\cdot 0.466^2}}} , 2.15 + \\frac{1.64}{\\sqrt{50 \\cdot \\frac{1}{2 \\cdot0.466^2}}}\\right]$"
   ],
   "metadata": {
    "collapsed": false
   },
   "id": "9d358e8894ba0ee2"
  },
  {
   "cell_type": "code",
   "execution_count": 545,
   "outputs": [
    {
     "name": "stdout",
     "output_type": "stream",
     "text": [
      "Ассимптотический доверительный интервал параметра λ\n",
      "1.9971519999999998 <= λ <= 2.302848\n"
     ]
    }
   ],
   "source": [
    "a = 1.64 / np.sqrt(50 * 1 / (2 * 0.466**2));\n",
    "\n",
    "print(\"Ассимптотический доверительный интервал параметра λ\")\n",
    "print(f'{2.15-a} <= λ <= {2.15+a}')"
   ],
   "metadata": {
    "collapsed": false,
    "ExecuteTime": {
     "end_time": "2023-12-01T20:44:15.832396400Z",
     "start_time": "2023-12-01T20:44:15.829353400Z"
    }
   },
   "id": "21158c80f9e3d131"
  },
  {
   "cell_type": "markdown",
   "source": [
    "#### h.e)\n",
    "\n",
    "Статистика критерия Колмагорова $D_{n} = \\sup_{x \\in \\mathbb{R}} | F_n(x) - F_0(x)|$\n",
    "Теорема Колмагорова $\\sqrt{n}D_n \\rightarrow K$ при основной гипотезе"
   ],
   "metadata": {
    "collapsed": false
   },
   "id": "fdc18afe75a22820"
  },
  {
   "cell_type": "code",
   "execution_count": 546,
   "outputs": [
    {
     "name": "stdout",
     "output_type": "stream",
     "text": [
      "D: 0.2321242096731584\n",
      "sqrt(n)*D: 1.641366027374583\n",
      "p-value: 0.007492996613807534\n",
      "Квантиль Колмагорова 0.9: 1.2238478702170825\n"
     ]
    }
   ],
   "source": [
    "lambda_0 = 0.48\n",
    "alpha_2 = 0.1\n",
    "df = 1\n",
    "\n",
    "\n",
    "\n",
    "D, p_value = stats.kstest(sorted_data, 'chi2', args=(df, ), alternative='two-sided')\n",
    "\n",
    "\n",
    "print(f\"D: {D}\")\n",
    "print(f\"sqrt(n)*D: {np.sqrt(len(sorted_data)) * D}\")\n",
    "print(f\"p-value: {p_value}\")\n",
    "print(f\"Квантиль Колмагорова {1 - alpha_2}: {stats.kstwobign.ppf(1 - alpha_2)}\")\n",
    "\n"
   ],
   "metadata": {
    "collapsed": false,
    "ExecuteTime": {
     "end_time": "2023-12-01T20:44:16.217952400Z",
     "start_time": "2023-12-01T20:44:16.214523700Z"
    }
   },
   "id": "cf566e72907379f8"
  },
  {
   "cell_type": "markdown",
   "source": [
    "Поскольку $\\sqrt{n}D_n > d_{0.9}$, то гипотеза отвергается\n",
    "\n",
    "Наибольший уровень значимости, при котором нет основания отвергнуть гипотезу 0.007492996613807534"
   ],
   "metadata": {
    "collapsed": false
   },
   "id": "6b0b40d8372cf9d8"
  },
  {
   "cell_type": "markdown",
   "source": [
    "#### h.f)\n",
    "Были выбраны интервалы с шагом 0.2"
   ],
   "metadata": {
    "collapsed": false
   },
   "id": "36c407c307ea38b3"
  },
  {
   "cell_type": "code",
   "execution_count": 547,
   "outputs": [
    {
     "name": "stdout",
     "output_type": "stream",
     "text": [
      "Интервалы [(0.0, 0.2), (0.2, 0.4), (0.4, 0.6000000000000001), (0.6000000000000001, 0.8), (0.8, 1.0), (1.0, 1.2000000000000002), (1.2000000000000002, 1.4000000000000001), (1.4000000000000001, 1.6), (1.6, 1.8), (1.8, 2.0), (2.0, 2.2), (2.2, 2.4000000000000004), (2.4000000000000004, 2.6), (2.6, inf)]\n",
      "Частоты [25  9  5  0  1  4  1  1  1  1  0  0  1  1]\n",
      "Ожидаемые вероятности [0.4813949835712746, 0.15729458790254652, 0.09775795124320652, 0.06684687482402552, 0.047790929280185246, 0.03506837517210393, 0.026177502876728376, 0.019779640268100307, 0.015081643445715498, 0.011580678078949691, 0.008942479426397032, 0.006937035233298472, 0.005401915282009284, 0.019945403395459027]\n",
      "Сумма вероятностей 1.0\n",
      "Критерий X^2: 77.66050273253794\n",
      "Критическое значение: 19.81192930712756\n",
      "p value= 3.032318840467951e-11\n"
     ]
    }
   ],
   "source": [
    "\n",
    "def hypothesisTestChi(lambda_0, alpha_2, df):\n",
    "    \n",
    "    # Интервалы (правый край включен)\n",
    "    bins = np.arange(min(sorted_data), max(sorted_data) + h  , h)\n",
    "    intervals = [(start, end) for start, end in zip(bins[:-1], bins[1:])]\n",
    "    intervals.pop()\n",
    "    intervals.append((2.6, np.inf))\n",
    "    print(f\"Интервалы {intervals}\")\n",
    "    \n",
    "    # Гистограмма частот\n",
    "    hist = np.histogram(sorted_data, bins=bins)[0]\n",
    "    print(f\"Частоты {hist}\")\n",
    "    \n",
    "    #Ожидаемые вероятности\n",
    "    expected_freq = [stats.chi2.cdf(intervals[i][1], df=1, scale=lambda_0) - stats.chi2.cdf(intervals[i][0], df=1, scale=lambda_0) for i in range(len(intervals) - 1)]\n",
    "    expected_freq.append(1 - sum(expected_freq))\n",
    "    print(f\"Ожидаемые вероятности {expected_freq}\")\n",
    "    print(f\"Сумма вероятностей {sum(expected_freq)}\")\n",
    "    \n",
    "    #Вычисление критерия chi^2\n",
    "    chi = 0\n",
    "    for i in range(len(intervals)):\n",
    "        chi += ((bins[i] - len(data)*expected_freq[i])**2) / (len(data)*expected_freq[i])\n",
    "    \n",
    "    x_alpha = stats.chi2.ppf(1 - alpha_2, df)\n",
    "    \n",
    "    print(f\"Критерий X^2: {chi}\")\n",
    "    print(f\"Критическое значение: {x_alpha}\")\n",
    "    \n",
    "    \n",
    "    print(f\"p value= {1 - stats.chi2.cdf(chi, df)}\")\n",
    "\n",
    "    \n",
    "hypothesisTestChi(lambda_0=0.48, alpha_2=0.1, df= 14 - 1)\n"
   ],
   "metadata": {
    "collapsed": false,
    "ExecuteTime": {
     "end_time": "2023-12-01T20:44:16.814871700Z",
     "start_time": "2023-12-01T20:44:16.778909500Z"
    }
   },
   "id": "564afa04b7cb9e4e"
  },
  {
   "cell_type": "markdown",
   "source": [
    "$\\mathcal{X^{2}} > \\mathcal{X_{0.1, 13}} \\rightarrow$ гипотеза отвергается\n",
    "\n",
    "Наибольший уровень значимости, при котором еще нет оснований отвергнуть гипотезу 3.032318840467951e-11"
   ],
   "metadata": {
    "collapsed": false
   },
   "id": "efb02e2d562a1ad2"
  },
  {
   "cell_type": "markdown",
   "source": [
    "#### h.g) \n",
    "В качестве параметра возьмем оценку ОМП $ \\widehat{λ}= \\frac{1}{\\overline{X}}=2.15 $\n"
   ],
   "metadata": {
    "collapsed": false
   },
   "id": "7954aab666b6e03e"
  },
  {
   "cell_type": "code",
   "execution_count": 548,
   "outputs": [
    {
     "name": "stdout",
     "output_type": "stream",
     "text": [
      "Интервалы [(0.0, 0.2), (0.2, 0.4), (0.4, 0.6000000000000001), (0.6000000000000001, 0.8), (0.8, 1.0), (1.0, 1.2000000000000002), (1.2000000000000002, 1.4000000000000001), (1.4000000000000001, 1.6), (1.6, 1.8), (1.8, 2.0), (2.0, 2.2), (2.2, 2.4000000000000004), (2.4000000000000004, 2.6), (2.6, inf)]\n",
      "Частоты [25  9  5  0  1  4  1  1  1  1  0  0  1  1]\n",
      "Ожидаемые вероятности [0.23963166994479723, 0.09414068464558423, 0.06891607221534668, 0.055445977407020286, 0.04662306562950558, 0.040231705223472525, 0.03531356682478859, 0.03137402913056009, 0.028127095592922813, 0.02539363110119819, 0.023054538395398727, 0.02102688435870892, 0.01925074097948032, 0.27147033855121583]\n",
      "Сумма вероятностей 1.0\n",
      "Критерий X^2: 35.54944801274168\n",
      "Критическое значение: 18.549347786703244\n",
      "p value= 0.0003826538155790038\n"
     ]
    }
   ],
   "source": [
    " hypothesisTestChi(lambda_0=2.15, alpha_2=0.1, df=14 - 1 - 1)"
   ],
   "metadata": {
    "collapsed": false,
    "ExecuteTime": {
     "end_time": "2023-12-01T20:44:17.363899400Z",
     "start_time": "2023-12-01T20:44:17.331119800Z"
    }
   },
   "id": "2ce918b50a7061f5"
  },
  {
   "cell_type": "markdown",
   "source": [
    "$\\mathcal{X^{2}} > \\mathcal{X_{0.1, 12}} \\rightarrow$ гипотеза отвергается\n",
    "\n",
    "Наибольший уровень значимости, при котором еще нет оснований отвергнуть гипотезу 0.0003826538155790038"
   ],
   "metadata": {
    "collapsed": false
   },
   "id": "87e12d1cb197febd"
  },
  {
   "cell_type": "markdown",
   "source": [
    "#### h.h) \n",
    "\n",
    "Основная гипотеза\n",
    "$H_{0}: \\lambda = \\lambda_{0} = 0.48$\n",
    "\n",
    "Альтернативная гипотеза\n",
    "$H_{1}: \\lambda = \\lambda_{1} = 1.43$\n",
    "\n",
    "$L(\\overrightarrow{X};\\theta)=\\prod_{i=1}^{n}p(X_{i})= \\frac{\\lambda^{\\frac{n}{2}} \\cdot \\exp\\left(-\\frac{\\lambda}{2} \\sum_{i = 1}^{n} X_i\\right)}{(2 \\pi )^{\\frac{n}{2}} \\prod_{i=1}^{n} \\sqrt{X_i}}$\n",
    "\n",
    "Статическое отношение правдоподобия\n",
    "\n",
    "$LR(\\overrightarrow{X};\\lambda_0, \\lambda_1) = \\left(\\frac{\\lambda_1}{\\lambda_0}\\right)^{\\frac{n}{n}} \\cdot exp\\left(\\frac{\\sum_{i=1}^{n}X_i}{2}\\left(\\lambda_0 - \\lambda_1 \\right)\\right) > c$\n",
    "\n",
    "В силу монотонности статистики LR относительно МДС\n",
    "\n",
    "$LR(\\overrightarrow{X}) > c \\leftrightarrow \\overline{X} < c^{*}$\n",
    "\n",
    "$LR(\\overrightarrow{X}) < c \\leftrightarrow \\overline{X} > c^{*}$\n",
    "\n",
    "$ \\phi(x) =\\left\\{\n",
    "  \\begin{array}{l}\n",
    "    1, \\overline{X} < c^{*} \\\\\n",
    "    p, \\overline{X} = c^{*} \\\\\n",
    "    0, \\overline{X} > c^{*} \\\\\n",
    "  \\end{array}\\right.$\n",
    "  \n",
    "По ЦПТ:\n",
    "\n",
    "$ \\sqrt{n} \\frac{ \\overline{X}-\\mu}{\\sigma} \\sim N(0,1)$\n",
    "\n",
    "$ \\mu=ab, \\sigma^{2}=ab^{2}$\n",
    "\n",
    "В данном случае $a = \\frac{1}{2}, b = \\frac{2}{\\lambda}$ \n",
    "\n",
    "$ \\sqrt{n} \\frac{ \\overline{X}-\\frac{1}{\\lambda_0}}{\\sqrt{\\frac{2}{\\lambda_0^{2}}}} \\sim N(0,1)$\n",
    "\n",
    "$ P\\left(\\sqrt{n} \\frac{ \\overline{X}-\\frac{1}{\\lambda_0}}{\\sqrt{\\frac{2}{\\lambda_0^{2}}}} ≥ \\sqrt{n} \\frac{ c^*-\\frac{1}{\\lambda_0}}{\\sqrt{\\frac{2}{\\lambda_0^{2}}}}\\right)=1-Ф\\left(\\sqrt{n} \\frac{ c^*-\\frac{1}{\\lambda_0}}{\\sqrt{\\frac{2}{\\lambda_0^{2}}}}\\right)= α$\n",
    "\n",
    "$\\sqrt{n} \\frac{ c^*-\\frac{1}{\\lambda_0}}{\\sqrt{\\frac{2}{\\lambda_0^{2}}}}=x_α$\n",
    "\n",
    "$x_α: Ф(x_α)=1-α $"
   ],
   "metadata": {
    "collapsed": false
   },
   "id": "8f06bde75f3e45af"
  },
  {
   "cell_type": "code",
   "execution_count": 549,
   "outputs": [
    {
     "name": "stdout",
     "output_type": "stream",
     "text": [
      "Квантиль N(0,1) с уровнем доверия 1 - alpha_2: 1.2815515655446004\n"
     ]
    }
   ],
   "source": [
    "print(f'Квантиль N(0,1) с уровнем доверия 1 - alpha_2: {stats.norm.ppf(0.9, loc=0, scale=1)}')"
   ],
   "metadata": {
    "collapsed": false,
    "ExecuteTime": {
     "end_time": "2023-12-01T20:44:17.920074Z",
     "start_time": "2023-12-01T20:44:17.900230Z"
    }
   },
   "id": "299c4a4a51cc1414"
  },
  {
   "cell_type": "markdown",
   "source": [
    "Найдем $c^{*}$\n",
    "$\\sqrt{50} \\cdot \\frac{c^{*} - \\frac{1}{0.48}}{\\sqrt\\frac{2}{0.48^{2}}} = 1.28$\n",
    "\n",
    "$c^{*} = 2.61$\n",
    "\n",
    "$\\overline{X} = 0.466$\n",
    "\n",
    "$\\overline{X} < c^{*} \\leftrightarrow H_{0}$ отвергаем $H_{1}$ принимаем \n",
    "\n",
    "Поменяем гипотезы местами\n",
    "\n",
    "Основная гипотеза\n",
    "$H_{0}: \\lambda = \\lambda_{1} = 1.43$\n",
    "\n",
    "Альтернативная гипотеза\n",
    "$H_{1}: \\lambda = \\lambda_{0} = 0.48$\n",
    "\n",
    "$L(\\overrightarrow{X};\\theta)=\\prod_{i=1}^{n}p(X_{i})= \\frac{\\lambda^{\\frac{n}{2}} \\cdot \\exp\\left(-\\frac{\\lambda}{2} \\sum_{i = 1}^{n} X_i\\right)}{(2 \\pi )^{\\frac{n}{2}} \\prod_{i=1}^{n} \\sqrt{X_i}}$\n",
    "\n",
    "Статическое отношение правдоподобия\n",
    "\n",
    "$LR(\\overrightarrow{X};\\lambda_1, \\lambda_0) = \\left(\\frac{\\lambda_0}{\\lambda_1}\\right)^{\\frac{n}{n}} \\cdot exp\\left(\\frac{\\sum_{i=1}^{n}X_i}{2}\\left(\\lambda_1 - \\lambda_0 \\right)\\right) > c$\n",
    "\n",
    "В силу монотонности статистики LR относительно МДС\n",
    "\n",
    "$LR(\\overrightarrow{X}) > c \\leftrightarrow \\overline{X} < c^{*}$\n",
    "\n",
    "$LR(\\overrightarrow{X}) < c \\leftrightarrow \\overline{X} > c^{*}$\n",
    "\n",
    "$ \\phi(x) =\\left\\{\n",
    "  \\begin{array}{l}\n",
    "    1, \\overline{X} < c^{*} \\\\\n",
    "    p, \\overline{X} = c^{*} \\\\\n",
    "    0, \\overline{X} > c^{*} \\\\\n",
    "  \\end{array}\\right.$\n",
    "  \n",
    "По ЦПТ:\n",
    "\n",
    "$ \\sqrt{n} \\frac{ \\overline{X}-\\mu}{\\sigma} \\sim N(0,1)$\n",
    "\n",
    "$ \\mu=ab, \\sigma^{2}=ab^{2}$\n",
    "\n",
    "В данном случае $a = \\frac{1}{2}, b = \\frac{2}{\\lambda}$ \n",
    "\n",
    "$ \\sqrt{n} \\frac{ \\overline{X}-\\frac{1}{\\lambda_1}}{\\sqrt{\\frac{2}{\\lambda_1^{2}}}} \\sim N(0,1)$\n",
    "\n",
    "$ P\\left(\\sqrt{n} \\frac{ \\overline{X}-\\frac{1}{\\lambda_0}}{\\sqrt{\\frac{2}{\\lambda_1^{2}}}} ≥ \\sqrt{n} \\frac{ c^*-\\frac{1}{\\lambda_1}}{\\sqrt{\\frac{2}{\\lambda_1^{2}}}}\\right)=1-Ф\\left(\\sqrt{n} \\frac{ c^*-\\frac{1}{\\lambda_1}}{\\sqrt{\\frac{2}{\\lambda_1^{2}}}}\\right)= α$\n",
    "\n",
    "$\\sqrt{n} \\frac{ c^*-\\frac{1}{\\lambda_1}}{\\sqrt{\\frac{2}{\\lambda_1^{2}}}}=x_α$\n",
    "\n",
    "$x_{\\alpha}: Ф(x_α)=1-α $\n",
    "$x_{\\alpha} = 1.28$\n",
    "\n",
    "Найдем $c^{*}$\n",
    "$\\sqrt{50} \\cdot \\frac{c^{*} - \\frac{1}{1.43}}{\\sqrt\\frac{2}{1.43^{2}}} = 1.28$\n",
    "\n",
    "$c^{*} = 0.87$\n",
    "\n",
    "$\\overline{X} = 0.466$\n",
    "\n",
    "$\\overline{X} < c^{*} \\leftrightarrow H_{0}$ отвергаем $H_{1}$ принимаем "
   ],
   "metadata": {
    "collapsed": false
   },
   "id": "b085f7dd88efc63d"
  },
  {
   "cell_type": "markdown",
   "source": [
    "## Выводы\n",
    "\n",
    "В ходе лабораторной работы были применены методы математической статистики для визуализации и анализа полученных данных, сформированны навыки реализации методов с помощью прикладных программных пакетов. Были рассчитаны выборочные числовые характеристики, найдены ОМП и ОММ, ассимптотические доверительные интервалы, построены критерии значимости кси-квадрат, проверены простые и сложные гипотезы согласия с разными распредлениями и параметрами, построены наиболее мощные критерии для проверки простых гипотез. Так-же были изучены программные пакеты, помогающие анализировать и визуализировать данные.\n"
   ],
   "metadata": {
    "collapsed": false
   },
   "id": "ee60b646690f52f9"
  }
 ],
 "metadata": {
  "kernelspec": {
   "display_name": "Python 3",
   "language": "python",
   "name": "python3"
  },
  "language_info": {
   "codemirror_mode": {
    "name": "ipython",
    "version": 2
   },
   "file_extension": ".py",
   "mimetype": "text/x-python",
   "name": "python",
   "nbconvert_exporter": "python",
   "pygments_lexer": "ipython2",
   "version": "2.7.6"
  }
 },
 "nbformat": 4,
 "nbformat_minor": 5
}
