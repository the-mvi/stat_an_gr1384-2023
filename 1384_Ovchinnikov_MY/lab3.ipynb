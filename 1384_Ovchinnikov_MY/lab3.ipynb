{
 "cells": [
  {
   "cell_type": "markdown",
   "id": "73488f72dd9960c9",
   "metadata": {
    "collapsed": false
   },
   "source": [
    "# Лабораторная работа № 3: Регрессионный анализ\n",
    "Выполнил студент гр. 1384 Овчинников Макисм. Вариант №11"
   ]
  },
  {
   "cell_type": "markdown",
   "id": "2c21d9614ac9d2f9",
   "metadata": {
    "collapsed": false
   },
   "source": [
    "## Цель работы\n",
    "Ознакомление с основными положениями метода наименьших квадратов (МНК), со статистическими свойствами МНК-оценок, с понятием функции регрессии и роли МНК в регрессионном анализе."
   ]
  },
  {
   "cell_type": "markdown",
   "id": "3dc517cf5cf4d1f7",
   "metadata": {
    "collapsed": false
   },
   "source": [
    "## Основные теоретические положения\n",
    "\n",
    "1. Линейная регрессионная модель\n",
    "\n",
    "    $Y = X^T\\beta + \\varepsilon$ , $\\mathbb{E_{\\theta}\\varepsilon} = 0$ , $Var_{\\theta} \\varepsilon = \\sigma^{2}\\mathbb{E}$\n",
    "    \n",
    "    $X^T$ - регрессоры (факторы модели)\n",
    "   \n",
    "    $\\beta$ - параметры регрессии\n",
    "    \n",
    "    $\\varepsilon$ - случайная ошибка\n",
    "\n",
    "2. МНК\n",
    "    \n",
    "    $RSS(\\beta) = || Y - X^T\\beta ||^2 \\rightarrow min_{\\beta}$\n",
    "    \n",
    "    Нормальные уравнения\n",
    "    \n",
    "    $XX^T\\beta = XY$\n",
    "    \n",
    "    Решение системы нормальных уравнений в регулярном случае\n",
    "    \n",
    "    $\\widehat\\beta = (XX^T)^{-1}XY$ , $\\beta = (\\beta_{0}, \\beta_{1})$\n",
    "\n",
    "3. Несмещенная оценка дисперсии\n",
    "\n",
    "    $s^2 = \\frac{RSS(\\widehat\\beta)}{n-r} = \\frac{(Y-X^T\\widehat\\beta)^T(Y-X^T\\widehat\\beta)}{n-r}$\n",
    "    \n",
    "    $r - rankX$\n",
    "\n",
    "4. Доверительный интервал\n",
    "\n",
    "    ДНО-функция $\\Psi = C^T\\beta$\n",
    "\n",
    "    МНК-оценка $\\widehat{\\Psi} = C^T \\widehat{\\beta}$\n",
    "    \n",
    "    $b_{\\Psi} = C^{T}(XX^T)^{-1}C$\n",
    "    \n",
    "    $\\widehat{\\Psi} \\sim \\mathcal{N}(\\Psi, \\sigma^{2}b)$\n",
    "    \n",
    "    $\\frac{\\widehat{\\Psi} - \\Psi}{s\\sqrt{b}} \\sim S_{n-r}$\n",
    "    \n",
    "    Доверительный интервал уровня доверия 1 - $\\alpha$\n",
    "    \n",
    "    $ \\Psi \\in \\left[ \\widehat{\\Psi} - x_{\\alpha}s\\sqrt{b}, \\widehat{\\Psi} + x_{\\alpha}s\\sqrt{b} \\right]$ \n",
    "    \n",
    "    где $x_{\\alpha}: S_{n-r}(x_{\\alpha}) = 1 - \\frac{\\alpha}{2}$\n",
    "    \n",
    "5. Доверительный эллипсоид уровня доверия $1 - \\alpha$\n",
    "    \n",
    "    $A_{\\alpha} = \\{ \\vec{x}: (\\vec{x} - \\widehat{\\Psi})^{T} b_{\\Psi}^{-1} (\\vec{x} - \\widehat{\\Psi})  \\le qs^{2}x_{\\alpha}\\}$\n",
    "   \n",
    "    $\\widehat{\\Psi}$ - вектор оценок \n",
    "   \n",
    "    $b_{\\Psi}$ - матрица оценок ковариации\n",
    "   \n",
    "    $s^2$ - оценка дисперсии\n",
    "\n",
    "    $q$ - пороговая точка, связанная с распределением $\\mathcal{X}_{n-r}^2$\n",
    "   \n",
    "    $x_{\\alpha}$ - значение функции распредления $\\mathcal{X}_{n-r}^2$ с уровнем доверия $1 - \\alpha$ "
   ]
  },
  {
   "cell_type": "markdown",
   "id": "b297efabe9ec0b12",
   "metadata": {
    "collapsed": false
   },
   "source": [
    "## Постановка задачи\n",
    "Результаты статистического эксперимента представлены в виде двух переменных. Требуется оценить характер (случайной) зависимости переменной $Y$ от переменной $X$. Полученные результаты содержательно проинтерпретировать."
   ]
  },
  {
   "cell_type": "markdown",
   "id": "d90e13f59054a2b5",
   "metadata": {
    "collapsed": false
   },
   "source": [
    "## Выполнение работы"
   ]
  },
  {
   "cell_type": "code",
   "execution_count": 305,
   "id": "3953d0996116a55c",
   "metadata": {
    "collapsed": false,
    "ExecuteTime": {
     "end_time": "2023-12-09T06:34:52.244181200Z",
     "start_time": "2023-12-09T06:34:52.227226500Z"
    }
   },
   "outputs": [],
   "source": [
    "import numpy as np\n",
    "import matplotlib.pyplot as plt\n",
    "import scipy.stats as stats\n",
    "\n",
    "alpha = 0.1\n",
    "h = 2.5\n",
    "size = 50\n",
    "\n",
    "\n",
    "X = np.array([3, 5, 0, 3, 2, 5, 3, 4, 4, 5, 4, 5, 2, 6, 3, 5, 2, 7, 8, 7, 2, 6, 5, 4, 5, 2, 3, 4, 5, 0, 6, 4, 4, 1, 2, 7, 4, 0, 0, 7, 6, 6, 4, 2, 4, 7, 2, 4, 4, 0])\n",
    "Y = np.array([10.30, 8.68, 4.02, 8.07, 16.76, 8.98, 10.78, 13.23, 16.36, 12.46, 15.56, 21.63, 15.71, 10.65, 2.74, 8.84, 14.63, 13.66, 19.29, 18.95, 14.79, 6.98, 11.38, 17.57, 8.00, 19.71, 13.48, 2.73, 14.36, 10.14, 14.13, 4.79, 10.27, 12.19, 14.34, 9.80, 12.30, 23.59, 18.59, 15.79, 14.01, 11.01, 15.12, 11.04, 6.05, 1.22, 5.30, 16.89, 14.84, 22.32])\n"
   ]
  },
  {
   "cell_type": "markdown",
   "id": "564d2711bea49204",
   "metadata": {
    "collapsed": false
   },
   "source": [
    "#### 1. Построить графически результаты эксперимента. Сформулировать линейную регрессионную модель переменной $Y$ по переменной $X$. Построить МНК оценки параметров сдвига $\\beta_{0}$ и масштаба $\\beta_{1}$. Построить полученную линию регрессии. Оценить визуально соответствие полученных данных и построенной оценки. \n",
    "\n",
    "Построим графически результаты эксперимента"
   ]
  },
  {
   "cell_type": "code",
   "execution_count": 306,
   "id": "5ec7aeb0cd442aa3",
   "metadata": {
    "collapsed": false,
    "ExecuteTime": {
     "end_time": "2023-12-09T06:34:52.648858500Z",
     "start_time": "2023-12-09T06:34:52.535308600Z"
    }
   },
   "outputs": [
    {
     "data": {
      "text/plain": "<Figure size 640x480 with 1 Axes>",
      "image/png": "[encoded data removed]"
     },
     "metadata": {},
     "output_type": "display_data"
    }
   ],
   "source": [
    "plt.scatter(X,Y, color='blue')\n",
    "plt.title('Зависимость Y от X')\n",
    "plt.xlabel('X')\n",
    "plt.ylabel('Y')\n",
    "\n",
    "plt.show()"
   ]
  },
  {
   "cell_type": "markdown",
   "id": "3dff3dda6ff0f1a0",
   "metadata": {
    "collapsed": false
   },
   "source": [
    "Сформулируем линейную регрессионную модель\n",
    "\n",
    "$Y = X^T\\beta + \\varepsilon$ , $\\mathbb{E_{\\theta}\\varepsilon} = 0$ , $Var_{\\theta} \\varepsilon = \\sigma^{2}\\mathbb{E}$\n",
    "\n",
    "МНК\n",
    "\n",
    "$RSS(\\beta) = || Y - X^T\\beta ||^2 \\rightarrow min_{\\beta}$\n",
    "\n",
    "Нормальные уравнения\n",
    "\n",
    "$XX^T\\beta = XY$\n",
    "\n",
    "Решение\n",
    "\n",
    "$\\widehat\\beta = (XX^T)^{-1}XY$ , $\\beta = (\\beta_{0}, \\beta_{1})$"
   ]
  },
  {
   "cell_type": "code",
   "execution_count": 307,
   "id": "d148be9b174e05d5",
   "metadata": {
    "collapsed": false,
    "ExecuteTime": {
     "end_time": "2023-12-09T06:34:52.976663600Z",
     "start_time": "2023-12-09T06:34:52.873588600Z"
    }
   },
   "outputs": [
    {
     "name": "stdout",
     "output_type": "stream",
     "text": [
      "beta_0 = 13.751499859826176, beta_1 = -0.3292486683487527\n"
     ]
    },
    {
     "data": {
      "text/plain": "<Figure size 640x480 with 1 Axes>",
      "image/png": "[encoded data removed]"
     },
     "metadata": {},
     "output_type": "display_data"
    }
   ],
   "source": [
    "X_matrix = np.array([[1 for i in range(size)], X])\n",
    "Y_matrix = Y\n",
    "\n",
    "XXT = np.dot(X_matrix, X_matrix.T)\n",
    "XXT_inv = np.linalg.inv(XXT)\n",
    "\n",
    "beta = np.dot(XXT_inv, np.dot(X_matrix, Y_matrix))\n",
    "\n",
    "print(f'beta_0 = {beta[0]}, beta_1 = {beta[1]}')\n",
    "\n",
    "# вычисление координат линии\n",
    "regression_line = np.dot(X_matrix.T, beta);\n",
    "\n",
    "plt.scatter(X, Y, color='blue')\n",
    "plt.plot(X, regression_line, marker='o', linestyle='-', color='red')\n",
    "plt.title('Линия регрессии')\n",
    "plt.xlabel('X')\n",
    "plt.ylabel('Y')\n",
    "\n",
    "plt.show()\n"
   ]
  },
  {
   "cell_type": "markdown",
   "id": "4c409d568ae246e0",
   "metadata": {
    "collapsed": false
   },
   "source": [
    "#### 2. Построить и интерпретировать несмещенную оценку дисперсии. На базе ошибок построить гистограмму с шагом $h$. Проверить гипотезу нормальности ошибок на уровне значимости $\\alpha$ по $\\chi^2$. Оценить расстояние полученной оценки до класса нормальных распределений по Колмогорову. Визуально оценить данный факт.\n",
    "\n",
    "Несмещенная оценка дисперсии\n",
    "\n",
    "$s^2 = \\frac{RSS(\\widehat\\beta)}{n-r} = \\frac{(Y-X^T\\widehat\\beta)^T(Y-X^T\\widehat\\beta)}{n-r}$\n",
    "\n",
    "$r = rank X = 2$"
   ]
  },
  {
   "cell_type": "code",
   "execution_count": 308,
   "id": "8c2e42c243095450",
   "metadata": {
    "collapsed": false,
    "ExecuteTime": {
     "end_time": "2023-12-09T06:34:53.217599700Z",
     "start_time": "2023-12-09T06:34:53.198653Z"
    }
   },
   "outputs": [
    {
     "name": "stdout",
     "output_type": "stream",
     "text": [
      "Оценка дисперсии s^2 = 26.8721148163723\n"
     ]
    }
   ],
   "source": [
    "s = np.dot((Y_matrix - np.dot(X_matrix.T, beta)).T, (Y - np.dot(X_matrix.T, beta))) / (size - 2)\n",
    "print(f'Оценка дисперсии s^2 = {s}')"
   ]
  },
  {
   "cell_type": "markdown",
   "id": "7fc1946b617e026f",
   "metadata": {
    "collapsed": false
   },
   "source": [
    "Построим гистограмму с шагом h на базе ошибок\n"
   ]
  },
  {
   "cell_type": "code",
   "execution_count": 309,
   "id": "803738af62486ffd",
   "metadata": {
    "collapsed": false,
    "ExecuteTime": {
     "end_time": "2023-12-09T06:34:53.675512900Z",
     "start_time": "2023-12-09T06:34:53.542783700Z"
    }
   },
   "outputs": [
    {
     "data": {
      "text/plain": "<Figure size 640x480 with 1 Axes>",
      "image/png": "[encoded data removed]"
     },
     "metadata": {},
     "output_type": "display_data"
    }
   ],
   "source": [
    "errors = Y - np.dot(X_matrix.T, beta)\n",
    "\n",
    "plt.title(f'Гистограмма ошибок с шагом h = {h}')\n",
    "plt.ylabel('Количество чисел')\n",
    "plt.xlabel('Интервалы')\n",
    "\n",
    "hist, bins, _ = plt.hist(errors, bins=np.arange(min(errors), max(errors) + h, h), edgecolor='black', color='blue')"
   ]
  },
  {
   "cell_type": "markdown",
   "id": "d632413880ad83d",
   "metadata": {
    "collapsed": false
   },
   "source": [
    "Проверим гипотезу нормальности ошибок на уровне значимости $\\alpha = 0.1$ по $\\chi^2$ с помощью критерия согласия Пирсона\n",
    "\n",
    "$H_0: \\vec{\\varepsilon} \\sim \\mathcal{N}(0, \\sigma^{2})$\n",
    "\n",
    "Разобъем ошибки на интервалы\n",
    "\n",
    "$I_1 = (-\\infty, -5.2], n_1 = 7$\n",
    "\n",
    "$I_2 = (-5.2, -2.7], n_2 = 7$\n",
    "\n",
    "$I_3 = (-2.7, -0.2], n_3 = 9$\n",
    "\n",
    "$I_4 = (-0.2, 2.3], n_4 = 10$\n",
    "\n",
    "$I_5 = (2.3, 4.7], n_5 = 9$\n",
    "\n",
    "$I_6 = (4.7, +\\infty], n_6 = 8$"
   ]
  },
  {
   "cell_type": "code",
   "execution_count": 310,
   "id": "7511a825755f0f68",
   "metadata": {
    "collapsed": false,
    "ExecuteTime": {
     "end_time": "2023-12-09T06:34:53.891763100Z",
     "start_time": "2023-12-09T06:34:53.883327600Z"
    }
   },
   "outputs": [
    {
     "name": "stdout",
     "output_type": "stream",
     "text": [
      "X^2 = 125.53276067380395\n",
      "x_a = 9.236356899781123\n",
      "p-value = 0.0\n"
     ]
    }
   ],
   "source": [
    "right_endpoints = [-5.2, -2.7, -0.2, 2.3, 4.7]\n",
    "n_i = [7, 7, 9, 10, 9, 8]\n",
    "\n",
    "p = [0] * (len(right_endpoints) + 1)\n",
    "\n",
    "p[0] = stats.norm.cdf(right_endpoints[0], 0, s)\n",
    "\n",
    "for i in range(1, len(right_endpoints)):\n",
    "    p[i] = stats.norm.cdf(right_endpoints[i], 0, s) - stats.norm.cdf(right_endpoints[i - 1], 0, s)\n",
    "    \n",
    "p[len(right_endpoints)] = 1 - stats.norm.cdf(right_endpoints[-1], 0, s)\n",
    "\n",
    "\n",
    "X2 = 0\n",
    "\n",
    "for i in range(len(p)):\n",
    "    X2 += (n_i[i] - size * p[i])**2 / (size * p[i])\n",
    "\n",
    "\n",
    "x_a = stats.chi2(6 - 1).ppf(1 - alpha)\n",
    "print(f'X^2 = {X2}')\n",
    "print(f'x_a = {x_a}')\n",
    "\n",
    "print(f'p-value = {1 - stats.chi2.cdf(X2, 5)}')"
   ]
  },
  {
   "cell_type": "markdown",
   "id": "cf84b0b3ca0ec4dc",
   "metadata": {
    "collapsed": false
   },
   "source": [
    "$\\mathcal{X^2} > x_\\alpha \\rightarrow$ отвергаем гипотезу $H_0$\n",
    "\n",
    "Наибольшие уровень значимости, при котором нет основания отвергнуть гипотезу очень близок к 0\n",
    "\n",
    "Оценим расстояние полученной оценки до класса нормальных распределений по Колмогорову\n"
   ]
  },
  {
   "cell_type": "code",
   "execution_count": 311,
   "id": "2fdcef5cb1494ee4",
   "metadata": {
    "collapsed": false,
    "ExecuteTime": {
     "end_time": "2023-12-09T06:34:54.242561900Z",
     "start_time": "2023-12-09T06:34:54.224501400Z"
    }
   },
   "outputs": [
    {
     "name": "stdout",
     "output_type": "stream",
     "text": [
      "D = 0.06529238830466799\n",
      "p-value=0.9739964800800018\n"
     ]
    }
   ],
   "source": [
    "D, p_value = stats.kstest(errors, 'norm', args=(np.mean(errors), np.sqrt(s)))\n",
    "\n",
    "print(f'D = {D}')\n",
    "print(f'p-value={ p_value}')\n",
    "\n"
   ]
  },
  {
   "cell_type": "markdown",
   "id": "cb5648c7140d09f0",
   "metadata": {
    "collapsed": false
   },
   "source": [
    "Поскольку p-value (0.974) больше уровня значимости $\\alpha = 0.1 \\rightarrow$ принимаем гипотезу $H_0$ \n",
    "\n",
    "Визуально можно заметить, что график широкий и низкий, что соответствует полученному ско, однако левый и правый хвосты распределения сильно различны. Критерий согласия Пирсона отклонил гипотезу о нормальности распределения ошибок на уровне $\\alpha$, тест Колмогорова принял гипотезу"
   ]
  },
  {
   "cell_type": "markdown",
   "id": "eb2e6910667ac544",
   "metadata": {
    "collapsed": false
   },
   "source": [
    "#### 3. В предположении нормальности ошибок построить доверительные интервалы для параметров $\\beta_0$ и $\\beta_1$ уровня доверия 1 − $\\alpha$. Построить доверительный эллипс уровня доверия 1 − $\\alpha$ для $(\\beta_0, \\beta_1)$. (вычислить его полуоси)\n",
    "\n",
    "ДНО-функция $\\Psi = C^T\\beta$\n",
    "\n",
    "МНК-оценка $\\widehat{\\Psi} = C^T \\widehat{\\beta}$\n",
    "\n",
    "$b_{\\Psi} = C^{T}(XX^T)^{-1}C$\n",
    "\n",
    "$\\widehat{\\Psi} \\sim \\mathcal{N}(\\Psi, \\sigma^{2}b)$\n",
    "\n",
    "$\\frac{\\widehat{\\Psi} - \\Psi}{s\\sqrt{b}} \\sim S_{n-r}$\n",
    "\n",
    "Доверительный интервал уровня доверия 1 - $\\alpha$\n",
    "\n",
    "$ \\Psi \\in \\left[ \\widehat{\\Psi} - x_{\\alpha}s\\sqrt{b}, \\widehat{\\Psi} + x_{\\alpha}s\\sqrt{b} \\right]$ \n",
    "\n",
    "где $x_{\\alpha}: S_{n-r}(x_{\\alpha}) = 1 - \\frac{\\alpha}{2}$\n",
    "\n",
    "Построим доверительные интервалы для параметров $\\beta_0$ и $\\beta_1$ уровня доверия 1 − $\\alpha$"
   ]
  },
  {
   "cell_type": "code",
   "execution_count": 312,
   "id": "34c0cc5eed2e8f9",
   "metadata": {
    "collapsed": false,
    "ExecuteTime": {
     "end_time": "2023-12-09T06:34:54.795470600Z",
     "start_time": "2023-12-09T06:34:54.766872600Z"
    }
   },
   "outputs": [
    {
     "name": "stdout",
     "output_type": "stream",
     "text": [
      "Доверительный интервал для beta_0 [11.148709655336509, 16.354290064315844]\n",
      "Доверительный интервал для beta_1 [-0.9235611648633544, 0.265063828165849]\n"
     ]
    }
   ],
   "source": [
    "C_0 = np.array([1,0])\n",
    "C_1 = np.array([0,1])\n",
    "\n",
    "XXT_inv = np.linalg.inv(np.dot(X_matrix, X_matrix.T))\n",
    "\n",
    "b_0 = np.dot(np.dot(C_0.T, XXT_inv), C_0)\n",
    "b_1 = np.dot(np.dot(C_1.T, XXT_inv), C_1)\n",
    "\n",
    "x_alpha = stats.t(size-2).ppf(1 - alpha / 2)\n",
    "\n",
    "product_0 = x_alpha * np.sqrt(s) * np.sqrt(b_0) \n",
    "product_1 = x_alpha * np.sqrt(s) * np.sqrt(b_1)\n",
    "print(f'Доверительный интервал для beta_0 [{beta[0] - product_0}, {beta[0] + product_0}]')\n",
    "print(f'Доверительный интервал для beta_1 [{beta[1] - product_1}, {beta[1] + product_1}]')"
   ]
  },
  {
   "cell_type": "markdown",
   "id": "b0dc832ca0700947",
   "metadata": {
    "collapsed": false
   },
   "source": [
    "Построим доверительный эллипс уровня доверия 1 − $\\alpha$ для $(\\beta_0, \\beta_1)$ и вычислим его полуоси\n",
    "\n",
    "Доверительный эллипсоид уровня доверия 1 - $\\alpha$\n",
    "\n",
    "Функция параметра $\\Psi$\n",
    "\n",
    "$A_{\\alpha} = \\{ \\vec{x}: (\\vec{x} - \\widehat{\\Psi})^{T} b_{\\Psi}^{-1} (\\vec{x} - \\widehat{\\Psi})  \\le qs^{2}x_{\\alpha}\\}$\n",
    "\n",
    "где $x_{\\alpha}: F_{q, n - r} (x_{\\alpha}) = 1 - \\alpha$ \n",
    "\n",
    "$C = \\begin{pmatrix}\n",
    "    1 & 0\\\\\n",
    "    0 & 1\n",
    "\\end{pmatrix} $\n",
    "\n",
    "Пусть $ \\begin{pmatrix}\n",
    "    x\\\\\n",
    "    y\n",
    "\\end{pmatrix}  = P(\\widehat \\psi - \\psi)$, где P - матрица собственных векторов.\n",
    "\n",
    "Тогда уравнение доверительного эллипсоида\n",
    "\n",
    "$(\\widehat \\psi -  \\psi)^T (C^T (XX^T)^{-1}C)^{-1}(\\widehat \\psi -  \\psi) = \\lambda_1 x^2 + \\lambda_2 y^2 \\le qs^2x_\\alpha$\n",
    "\n",
    "$\\frac{\\lambda_1}{qs^2x_\\alpha}x^2 + \\frac{\\lambda_2}{qs^2x_\\alpha}y^2 \\le 1$, где $\\lambda_1$ и $\\lambda_2$ - собственные числа матрицы $XX^T$\n",
    "\n",
    "Найдем собственные числа, собственные векторы и полуоси эллипса"
   ]
  },
  {
   "cell_type": "code",
   "execution_count": 313,
   "id": "a5ace8bbf6f089fe",
   "metadata": {
    "collapsed": false,
    "ExecuteTime": {
     "end_time": "2023-12-09T06:34:55.106373600Z",
     "start_time": "2023-12-09T06:34:55.088690900Z"
    }
   },
   "outputs": [
    {
     "name": "stdout",
     "output_type": "stream",
     "text": [
      "Собственные числа:\n",
      "[ 10.71943133 998.28056867]\n",
      "Собственные векторы:\n",
      "[[-0.97991054 -0.19943753]\n",
      " [ 0.19943753 -0.97991054]]\n",
      "beta=[13.75149986 -0.32924867]\n",
      "Большая полуось: 3.480870245950278\n",
      "Малая полуось: 0.36070104370427875\n"
     ]
    }
   ],
   "source": [
    "eigenvalues, eigenvectors = np.linalg.eig(XXT)\n",
    "q = 2\n",
    "print(f'Собственные числа:\\n{eigenvalues}')\n",
    "print(f'Собственные векторы:\\n{eigenvectors}')\n",
    "print(f'beta={beta}')\n",
    "\n",
    "x_alpha = stats.f(2, size - 2).ppf(1 - alpha)\n",
    "\n",
    "a = np.sqrt((q * s * x_alpha) / eigenvalues[0])\n",
    "b = np.sqrt((q * s * x_alpha) / eigenvalues[1])\n",
    "\n",
    "print(f'Большая полуось: {a}')\n",
    "print(f'Малая полуось: {b}')"
   ]
  },
  {
   "cell_type": "markdown",
   "id": "607d4157e88d4966",
   "metadata": {
    "collapsed": false
   },
   "source": [
    "$ \n",
    "\\begin{pmatrix} x\\\\ y \\end{pmatrix} = \\begin{pmatrix} -0.97991054  && -0.19943753 \\\\ 0.19943753 && -0.97991054 \\end{pmatrix} \\cdot \\begin{pmatrix} 13.75149986 - \\beta_0 \\\\  -0.32924867 - \\beta_1 \\end{pmatrix} = \\begin{pmatrix} -13.409574 + 0.979910\\beta_0 + 0.199437\\beta_1 \\\\ 2.419930 - 0.199437\\beta_0 - 0.979910\\beta_1 \\end{pmatrix}\n",
    "$"
   ]
  },
  {
   "cell_type": "code",
   "execution_count": 314,
   "id": "a2c5493d0fbaa2f7",
   "metadata": {
    "collapsed": false,
    "ExecuteTime": {
     "end_time": "2023-12-09T06:34:55.547684300Z",
     "start_time": "2023-12-09T06:34:55.432950800Z"
    }
   },
   "outputs": [
    {
     "data": {
      "text/plain": "<Figure size 640x480 with 1 Axes>",
      "image/png": "[encoded data removed]"
     },
     "metadata": {},
     "output_type": "display_data"
    }
   ],
   "source": [
    "def ellipse_equation(beta_0, beta_1):\n",
    "    return ((-13.409574 + 0.979910 * beta_0 + 0.199437 * beta_1)**2 / a**2) + ((2.419930 - 0.199437 * beta_0 - 0.979910 * beta_1)**2 / b**2)\n",
    "\n",
    "\n",
    "x = np.linspace(7.5, 20, 200)\n",
    "y = np.linspace(-2.5, 2.5, 200)\n",
    "X_, Y_ = np.meshgrid(x,y)\n",
    "\n",
    "plt.contour(X_,Y_, ellipse_equation(X_,Y_), levels=[1], colors='blue')\n",
    "plt.title(\"Эллипс\")\n",
    "plt.xlabel('X')\n",
    "plt.ylabel('Y')\n",
    "plt.grid(True)\n",
    "\n",
    "plt.show()"
   ]
  },
  {
   "cell_type": "markdown",
   "id": "db4fc0d0528da6cb",
   "metadata": {
    "collapsed": false
   },
   "source": [
    "#### 4. Сформулировать гипотезу независимости переменной $Y$ от переменной $X$. Провести проверку значимости\n",
    "\n",
    "$H_0$: $\\beta_1 = 0$ - переменные не зависимы\n",
    "\n",
    "$H_1$: $\\beta_1 \\ne 0, $ - переменные зависимы\n",
    "\n",
    "ДНО-функция: $\\Psi = C^T\\beta$\n",
    "\n",
    "$C^T = \\begin{pmatrix} 0 && 1 \\end{pmatrix}$\n",
    "\n",
    "МНК-оценка:  $\\widehat{\\Psi} = C^T\\widehat{\\beta} = \\begin{pmatrix} 0 && 1  \\end{pmatrix} \\begin{pmatrix} 13.75149986 \\\\-0.32924867 \\end{pmatrix} = -0.32924867$\n",
    "\n",
    "Статистика: $F = \\frac{\\widehat{\\Psi}^TB^{-1}\\widehat{\\Psi}}{qs^2} \\sim \\mathcal{F}_{q, n-r}$\n",
    "\n",
    "$x_{\\alpha}: \\mathcal{F}_{q, n - r } = 1 - \\alpha$"
   ]
  },
  {
   "cell_type": "code",
   "execution_count": 315,
   "id": "a9092145a4f0e2d6",
   "metadata": {
    "collapsed": false,
    "ExecuteTime": {
     "end_time": "2023-12-09T06:34:55.807074900Z",
     "start_time": "2023-12-09T06:34:55.790701700Z"
    }
   },
   "outputs": [
    {
     "name": "stdout",
     "output_type": "stream",
     "text": [
      "x-alpha = 2.813081004064934\n",
      "F = 0.004537057576470173\n",
      "Наибольший уровень значимости, при котором еще нельзя отвергнуть гипотезу = 0.9465767520635953\n"
     ]
    }
   ],
   "source": [
    "\n",
    "x_alpha = stats.f(1, size - 2).ppf(1 - alpha)\n",
    "print(f'x-alpha = {x_alpha}')\n",
    "\n",
    "C = np.array([0, 1])\n",
    "Psi = -0.32924867\n",
    "\n",
    "B_int = np.dot(np.dot(C.T, XXT_inv), C)\n",
    "F = np.dot(np.dot(Psi, B_int), Psi) / 3 * s\n",
    "print(f'F = {F}')\n",
    "print(f'Наибольший уровень значимости, при котором еще нельзя отвергнуть гипотезу = {1 - stats.f.cdf(F, 1, size - 2)}')"
   ]
  },
  {
   "cell_type": "markdown",
   "id": "68e6d903c69330c8",
   "metadata": {
    "collapsed": false
   },
   "source": [
    "Поскольку $F < x_{\\alpha} \\rightarrow$ гипотеза $H_0$ принимается"
   ]
  },
  {
   "cell_type": "markdown",
   "id": "e67010472662a670",
   "metadata": {
    "collapsed": false
   },
   "source": [
    "#### 5. Сформулировать модель, включающую дополнительный член с $X^2$. Построить МНК оценки параметров $\\beta_0$, $\\beta_1$, $\\beta_2$ в данной модели. Изобразить графически полученную регрессионную зависимость."
   ]
  },
  {
   "cell_type": "markdown",
   "id": "d4dbf7d790d3fd5b",
   "metadata": {
    "collapsed": false
   },
   "source": [
    "Сформулируем линейную регрессионную модель\n",
    "\n",
    "$Y = X^T\\beta + \\varepsilon$ , $\\mathbb{E_{\\theta}\\varepsilon} = 0$ , $Var_{\\theta} \\varepsilon = \\sigma^{2}\\mathbb{E}$\n",
    "\n",
    "МНК\n",
    "\n",
    "$RSS(\\beta) = || Y - X^T\\beta ||^2 \\rightarrow min_{\\beta}$\n",
    "\n",
    "Нормальные уравнения\n",
    "\n",
    "$XX^T\\beta = XY$\n",
    "\n",
    "Решение\n",
    "\n",
    "$\\widehat\\beta = (XX^T)^{-1}XY$ , $\\beta = (\\beta_{0}, \\beta_{1}, \\beta_{2})$"
   ]
  },
  {
   "cell_type": "code",
   "execution_count": 316,
   "id": "6fce2cbd9988219c",
   "metadata": {
    "collapsed": false,
    "ExecuteTime": {
     "end_time": "2023-12-09T06:34:56.621131500Z",
     "start_time": "2023-12-09T06:34:56.492157500Z"
    }
   },
   "outputs": [
    {
     "name": "stdout",
     "output_type": "stream",
     "text": [
      "[15.98643415 -2.11601043  0.24306393]\n",
      "beta_0 = 15.986434154597848, beta_1 = -2.116010426480604, beta_2=0.24306392552749004\n"
     ]
    },
    {
     "data": {
      "text/plain": "<Figure size 640x480 with 1 Axes>",
      "image/png": "[encoded data removed]"
     },
     "metadata": {},
     "output_type": "display_data"
    }
   ],
   "source": [
    "X_matrix = np.array([[1 for i in range(size)], X, [i*i for i in X]])\n",
    "Y_matrix = Y\n",
    "\n",
    "XXT = np.dot(X_matrix, X_matrix.T)\n",
    "XXT_inv = np.linalg.inv(XXT)\n",
    "\n",
    "beta = np.dot(XXT_inv, np.dot(X_matrix, Y_matrix))\n",
    "print(beta)\n",
    "print(f'beta_0 = {beta[0]}, beta_1 = {beta[1]}, beta_2={beta[2]}')\n",
    "\n",
    "# вычисление координат линии\n",
    "X_matrix_sorted = np.array([[1 for i in range(size)], sorted(X), [i*i for i in sorted(X)]])\n",
    "\n",
    "regression_line = np.dot(X_matrix_sorted.T, beta);\n",
    "\n",
    "\n",
    "plt.scatter(X, Y, color='blue')\n",
    "plt.plot(sorted(X), regression_line, marker='o', linestyle='-', color='red')\n",
    "plt.title('Линия регрессии')\n",
    "plt.xlabel('X')\n",
    "plt.ylabel('Y')\n",
    "\n",
    "plt.show()\n"
   ]
  },
  {
   "cell_type": "markdown",
   "id": "5e71ba38be4b005d",
   "metadata": {
    "collapsed": false
   },
   "source": [
    "#### 6. Построить несмещенную оценку оценку дисперсии. Провести исследование нормальности ошибок как в пункте 2\n",
    "\n",
    "Несмещенная оценка дисперсии\n",
    "\n",
    "$s^2 = \\frac{RSS(\\widehat\\beta)}{n-r} = \\frac{(Y-X^T\\widehat\\beta)^T(Y-X^T\\widehat\\beta)}{n-r}$\n",
    "\n",
    "$r = rank X = 3$\n"
   ]
  },
  {
   "cell_type": "code",
   "execution_count": 317,
   "id": "6189c6fd13f7353f",
   "metadata": {
    "collapsed": false,
    "ExecuteTime": {
     "end_time": "2023-12-09T06:34:56.869073800Z",
     "start_time": "2023-12-09T06:34:56.849617100Z"
    }
   },
   "outputs": [
    {
     "name": "stdout",
     "output_type": "stream",
     "text": [
      "Оценка дисперсии s^2 = 25.89979390583285\n"
     ]
    }
   ],
   "source": [
    "s = np.dot((Y_matrix - np.dot(X_matrix.T, beta)).T, (Y - np.dot(X_matrix.T, beta))) / (size - 3)\n",
    "print(f'Оценка дисперсии s^2 = {s}')"
   ]
  },
  {
   "cell_type": "markdown",
   "id": "16bcf0adc1ec6bb2",
   "metadata": {
    "collapsed": false
   },
   "source": [
    "Построим гистограмму с шагом h на базе ошибок\n"
   ]
  },
  {
   "cell_type": "code",
   "execution_count": 318,
   "id": "c27a43984326daaa",
   "metadata": {
    "collapsed": false,
    "ExecuteTime": {
     "end_time": "2023-12-09T06:34:57.435147600Z",
     "start_time": "2023-12-09T06:34:57.297808400Z"
    }
   },
   "outputs": [
    {
     "data": {
      "text/plain": "<Figure size 640x480 with 1 Axes>",
      "image/png": "[encoded data removed]"
     },
     "metadata": {},
     "output_type": "display_data"
    }
   ],
   "source": [
    "errors = Y - np.dot(X_matrix.T, beta)\n",
    "\n",
    "plt.title(f'Гистограмма ошибок с шагом h = {h}')\n",
    "plt.ylabel('Количество чисел')\n",
    "plt.xlabel('Интервалы')\n",
    "\n",
    "hist, bins, _ = plt.hist(errors, bins=np.arange(min(errors), max(errors) + h, h), edgecolor='black', color='blue')\n"
   ]
  },
  {
   "cell_type": "markdown",
   "id": "7b1b49dfcf408c4a",
   "metadata": {
    "collapsed": false
   },
   "source": [
    "Проверим гипотезу нормальности ошибок на уровне значимости $\\alpha = 0.1$ по $\\chi^2$ с помощью критерия согласия Пирсона\n",
    "\n",
    "$H_0: \\vec{\\varepsilon} \\sim \\mathcal{N}(0, \\sigma^{2})$\n",
    "\n",
    "Разобъем ошибки на интервалы\n",
    "\n",
    "$I_1 = (-\\infty, -4.6], n_1 = 9$\n",
    "\n",
    "$I_2 = (-4.6, -2], n_2 = 6$\n",
    "\n",
    "$I_3 = (-2, 0.5], n_3 = 8$\n",
    "\n",
    "$I_4 = (0.5, 3], n_4 = 14$\n",
    "\n",
    "$I_5 = (3, 5.5], n_5 = 7$\n",
    "\n",
    "$I_6 = (5.5, +\\infty], n_6 = 6$"
   ]
  },
  {
   "cell_type": "code",
   "execution_count": 319,
   "id": "55c0177cd18680f8",
   "metadata": {
    "collapsed": false,
    "ExecuteTime": {
     "end_time": "2023-12-09T06:34:57.937291300Z",
     "start_time": "2023-12-09T06:34:57.917023Z"
    }
   },
   "outputs": [
    {
     "name": "stdout",
     "output_type": "stream",
     "text": [
      "X^2 = 134.77369362153487\n",
      "x_a = 9.236356899781123\n",
      "p-value = 0.0\n"
     ]
    }
   ],
   "source": [
    "right_endpoints = [-4.6, -2.0, 0.5, 3, 5.5]\n",
    "n_i = [9, 6, 8, 14, 7, 6]\n",
    "\n",
    "p = [0] * (len(right_endpoints) + 1)\n",
    "\n",
    "p[0] = stats.norm.cdf(right_endpoints[0], 0, s)\n",
    "\n",
    "for i in range(1, len(right_endpoints)):\n",
    "    p[i] = stats.norm.cdf(right_endpoints[i], 0, s) - stats.norm.cdf(right_endpoints[i - 1], 0, s)\n",
    "    \n",
    "p[len(right_endpoints)] = 1 - stats.norm.cdf(right_endpoints[-1], 0, s)\n",
    "\n",
    "\n",
    "X2 = 0\n",
    "\n",
    "for i in range(len(p)):\n",
    "    X2 += (n_i[i] - size * p[i])**2 / (size * p[i])\n",
    "\n",
    "\n",
    "x_a = stats.chi2(6 - 1).ppf(1 - alpha)\n",
    "print(f'X^2 = {X2}')\n",
    "print(f'x_a = {x_a}')\n",
    "\n",
    "print(f'p-value = {1 - stats.chi2.cdf(X2, 5)}')"
   ]
  },
  {
   "cell_type": "markdown",
   "id": "5a679bd68afdd74e",
   "metadata": {
    "collapsed": false
   },
   "source": [
    "$\\mathcal{X^2} > x_\\alpha \\rightarrow$ отвергаем гипотезу $H_0$\n",
    "\n",
    "Наибольшие уровень значимости, при котором нет основания отвергнуть гипотезу очень близок к 0\n",
    "\n",
    "Оценим расстояние полученной оценки до класса нормальных распределений по Колмогорову"
   ]
  },
  {
   "cell_type": "code",
   "execution_count": 320,
   "id": "63de55a41a4115d8",
   "metadata": {
    "collapsed": false,
    "ExecuteTime": {
     "end_time": "2023-12-09T06:34:58.662016900Z",
     "start_time": "2023-12-09T06:34:58.642808600Z"
    }
   },
   "outputs": [
    {
     "name": "stdout",
     "output_type": "stream",
     "text": [
      "D = 0.10438264678646902\n",
      "p-value=0.6099090676932604\n"
     ]
    }
   ],
   "source": [
    "D, p_value = stats.kstest(errors, 'norm', args=(np.mean(errors), np.sqrt(s)))\n",
    "\n",
    "print(f'D = {D}')\n",
    "print(f'p-value={ p_value}')"
   ]
  },
  {
   "cell_type": "markdown",
   "id": "27af8c9866dca424",
   "metadata": {
    "collapsed": false
   },
   "source": [
    "Поскольку p-value (0.974) больше уровня значимости $\\alpha = 0.1 \\rightarrow$ принимаем гипотезу $H_0$ \n",
    "\n",
    "Визуально можно заметить, что высота графика немного больше, чем у реального нормального распределения, так-же можно заметить, что график немного сдвинут вправо от мат. ожидания = 0,. Критерий согласия Пирсона отклонил гипотезу о нормальности распределения ошибок на уровне $\\alpha$, тест Колмогорова принял гипотезу"
   ]
  },
  {
   "cell_type": "markdown",
   "id": "60cd1645898ef18f",
   "metadata": {
    "collapsed": false
   },
   "source": [
    "#### 7. В предположении нормальности ошибок построить доверительные интервалы для параметров $\\beta_0$, $\\beta_1$, $\\beta_2$ уровня доверия $1 − \\alpha$. Написать уравнение доверительного эллипсоида уровня доверия 1 − $\\alpha$\n"
   ]
  },
  {
   "cell_type": "markdown",
   "id": "30befbc914d3c5e1",
   "metadata": {
    "collapsed": false
   },
   "source": [
    "ДНО-функция $\\Psi = C^T\\beta$\n",
    "\n",
    "МНК-оценка $\\widehat{\\Psi} = C^T \\widehat{\\beta}$\n",
    "\n",
    "$b_{\\Psi} = C^{T}(XX^T)^{-1}C$\n",
    "\n",
    "$\\widehat{\\Psi} \\sim \\mathcal{N}(\\Psi, \\sigma^{2}b)$\n",
    "\n",
    "$\\frac{\\widehat{\\Psi} - \\Psi}{s\\sqrt{b}} \\sim S_{n-r}$\n",
    "\n",
    "Доверительный интервал уровня доверия 1 - $\\alpha$\n",
    "\n",
    "$ \\Psi \\in \\left[ \\widehat{\\Psi} - x_{\\alpha}s\\sqrt{b}, \\widehat{\\Psi} + x_{\\alpha}s\\sqrt{b} \\right]$ \n",
    "\n",
    "где $x_{\\alpha}: S_{n-r}(x_{\\alpha}) = 1 - \\frac{\\alpha}{2}$\n",
    "\n",
    "Построим доверительные интервалы для параметров $\\beta_0$, $\\beta_1$, $\\beta_2$ уровня доверия 1 − $\\alpha$"
   ]
  },
  {
   "cell_type": "code",
   "execution_count": 321,
   "id": "f548c12116657095",
   "metadata": {
    "collapsed": false,
    "ExecuteTime": {
     "end_time": "2023-12-09T06:35:00.030787100Z",
     "start_time": "2023-12-09T06:35:00.021013600Z"
    }
   },
   "outputs": [
    {
     "name": "stdout",
     "output_type": "stream",
     "text": [
      "Доверительный интервал для beta_0 [12.58735312744365, 19.385515181752048]\n",
      "Доверительный интервал для beta_1 [-3.9997678504085377, -0.2322530025526699]\n",
      "Доверительный интервал для beta_3 [-0.0005821984386185086, 0.4867100494935986]\n"
     ]
    }
   ],
   "source": [
    "C_0 = np.array([1,0,0])\n",
    "C_1 = np.array([0,1,0])\n",
    "C_2 = np.array([0,0,1])\n",
    "XXT_inv = np.linalg.inv(np.dot(X_matrix, X_matrix.T))\n",
    "\n",
    "b_0 = np.dot(np.dot(C_0.T, XXT_inv), C_0)\n",
    "b_1 = np.dot(np.dot(C_1.T, XXT_inv), C_1)\n",
    "b_2 = np.dot(np.dot(C_2.T, XXT_inv), C_2)\n",
    "\n",
    "x_alpha = stats.t(size-3).ppf(1 - alpha / 2)\n",
    "\n",
    "product_0 = x_alpha * np.sqrt(s) * np.sqrt(b_0) \n",
    "product_1 = x_alpha * np.sqrt(s) * np.sqrt(b_1)\n",
    "product_2 = x_alpha * np.sqrt(s) * np.sqrt(b_2)\n",
    "print(f'Доверительный интервал для beta_0 [{beta[0] - product_0}, {beta[0] + product_0}]')\n",
    "print(f'Доверительный интервал для beta_1 [{beta[1] - product_1}, {beta[1] + product_1}]')\n",
    "print(f'Доверительный интервал для beta_3 [{beta[2] - product_2}, {beta[2] + product_2}]')"
   ]
  },
  {
   "cell_type": "markdown",
   "id": "348ce5fd2636e8f1",
   "metadata": {
    "collapsed": false
   },
   "source": [
    "Напишем уравнение доверительного эллипсоида уровня доверия $1 - \\alpha$\n",
    "\n",
    "Функция параметра $\\Psi$\n",
    "\n",
    "$A_{\\alpha} = \\{ \\vec{x}: (\\vec{x} - \\widehat{\\Psi})^{T} B_{\\Psi}^{-1} (\\vec{x} - \\widehat{\\Psi})  \\le qs^{2}x_{\\alpha}\\}$\n",
    "\n",
    "где $x_{\\alpha}: F_{q, n - r} (x_{\\alpha}) = 1 - \\alpha$ \n",
    "\n",
    "$C = \\begin{pmatrix}\n",
    "    1 & 0 & 0\\\\\n",
    "    0 & 1 & 0 \\\\\n",
    "    0 & 0 & 1\n",
    "\\end{pmatrix} $\n",
    "\n",
    "Пусть $ \\begin{pmatrix}\n",
    "    x\\\\\n",
    "    y\\\\\n",
    "    z\n",
    "\\end{pmatrix}  = P(\\widehat \\psi - \\psi)$, где P - матрица собственных векторов.\n",
    "\n",
    "Тогда уравнение доверительного эллипсоида\n",
    "\n",
    "$(\\widehat \\psi -  \\psi)^T (C^T (XX^T)^{-1}C)^{-1}(\\widehat \\psi -  \\psi) = \\lambda_1 x^2 + \\lambda_2 y^2 + \\lambda_3 z^2\\le qs^2x_\\alpha$\n",
    "\n",
    "$\\frac{\\lambda_1}{qs^2x_\\alpha}x^2 + \\frac{\\lambda_2}{qs^2x_\\alpha}y^2 + \\frac{\\lambda_3}{qs^2x_\\alpha}z^2\\le 1$, где $\\lambda_1$, $\\lambda_2$, $\\lambda_3$ - собственные числа матрицы $XX^T$\n",
    "\n",
    "Найдем собственные числа и собственные векторы "
   ]
  },
  {
   "cell_type": "code",
   "execution_count": 322,
   "id": "7f32b7ac1a7b0119",
   "metadata": {
    "collapsed": false,
    "ExecuteTime": {
     "end_time": "2023-12-09T06:35:01.500474700Z",
     "start_time": "2023-12-09T06:35:01.472863500Z"
    }
   },
   "outputs": [
    {
     "name": "stdout",
     "output_type": "stream",
     "text": [
      "Собственные числа:\n",
      "[3.21108990e+04 5.11796685e+00 7.99830030e+01]\n",
      "Собственные векторы:\n",
      "[[-0.03048303 -0.89334079 -0.44834475]\n",
      " [-0.16706093  0.44679717 -0.87889871]\n",
      " [-0.98547523 -0.04810939  0.16286207]]\n",
      "beta=[15.98643415 -2.11601043  0.24306393]\n",
      "x_alpha = 2.2041823911022664\n"
     ]
    }
   ],
   "source": [
    "eigenvalues, eigenvectors = np.linalg.eig(XXT)\n",
    "q = 3\n",
    "print(f'Собственные числа:\\n{eigenvalues}')\n",
    "print(f'Собственные векторы:\\n{eigenvectors}')\n",
    "print(f'beta={beta}')\n",
    "\n",
    "x_alpha = stats.f(3, size - 3).ppf(1 - alpha)\n",
    "\n",
    "print(f'x_alpha = {x_alpha}')"
   ]
  },
  {
   "cell_type": "markdown",
   "id": "1837a61da795b090",
   "metadata": {
    "collapsed": false
   },
   "source": [
    "Напишем уравнение эллипсоида\n",
    "\n",
    "$ \\begin{pmatrix} x\\\\ y \\\\ z \\end{pmatrix} = \\begin{pmatrix} -0.03048303 && -0.89334079 && -0.44834475 \\\\ -0.16706093  && 0.44679717 && -0.87889871 \\\\ -0.98547523 && -0.04810939 && 0.16286207 \\end{pmatrix} \\cdot \\begin{pmatrix} 15.98643415 - \\beta_0 \\\\  \n",
    " -2.11601043 - \\beta_1 \\\\ 0.24306393 -\\beta_2 \\end{pmatrix}$\n",
    " \n",
    "\n",
    "$\\frac{3211.08990}{3 \\cdot 25.89979390583285 \\cdot 2.2041823911022664}x^2 + \\frac{5.11796685}{3 \\cdot 25.89979390583285 \\cdot 2.2041823911022664}y^2 + \\frac{79.9830030}{3 \\cdot 25.89979390583285 \\cdot 2.2041823911022664}z^2 \\le 1$\n",
    "\n"
   ]
  },
  {
   "cell_type": "markdown",
   "id": "9ed58b59a0f40977",
   "metadata": {
    "collapsed": false
   },
   "source": [
    "#### 8. Сформулировать гипотезу линейной регрессионной зависимости переменной $Y$ от переменной $X$ и проверить ее значимость на уровне $\\alpha$\n",
    "\n",
    "$H_0$: $\\beta_1 = 0, \\beta_2 = 0$ - переменные не зависимы\n",
    "\n",
    "$H_1$: $\\beta_1 \\ne 0, \\beta_2 \\ne 0$ - переменные зависимы\n",
    "\n",
    "ДНО-функция: $\\Psi = C^T\\beta$\n",
    "\n",
    "$C^T = \\begin{pmatrix} 0 && 1 && 0 \\\\ 0 && 0 && 1 \\end{pmatrix}$\n",
    "\n",
    "МНК-оценка:  $\\widehat{\\Psi} = C^T\\widehat{\\beta} = \\begin{pmatrix} 0 && 1 && 0 \\\\ 0 && 0 && 1 \\end{pmatrix} \\begin{pmatrix} 15.98643415 \\\\ -2.11601043 \\\\ 0.24306393\\end{pmatrix} = \\begin{pmatrix} -2.11601043 \\\\ 0.24306393 \\end{pmatrix}$\n",
    "\n",
    "Статистика: $F = \\frac{\\widehat{\\Psi}^TB^{-1}\\widehat{\\Psi}}{qs^2} \\sim \\mathcal{F}_{q, n-r}$\n",
    "\n",
    "$x_{\\alpha}: \\mathcal{F}_{q, n - r } = 1 - \\alpha$"
   ]
  },
  {
   "cell_type": "code",
   "execution_count": 323,
   "id": "69a93fec06508e11",
   "metadata": {
    "collapsed": false,
    "ExecuteTime": {
     "end_time": "2023-12-09T06:35:03.257806600Z",
     "start_time": "2023-12-09T06:35:03.238734400Z"
    }
   },
   "outputs": [
    {
     "name": "stdout",
     "output_type": "stream",
     "text": [
      "x-alpha = 2.419167827102904\n",
      "F = 1.934688610665429\n",
      "Наибольший уровень значимости, при котором еще нельзя отвергнуть гипотезу = 0.1558022676656745\n"
     ]
    }
   ],
   "source": [
    "\n",
    "x_alpha = stats.f(2, size - 3).ppf(1 - alpha)\n",
    "print(f'x-alpha = {x_alpha}')\n",
    "\n",
    "C = np.array([[0, 0], [1, 0], [0, 1]])\n",
    "Psi = np.array([-2.11601043, 0.24306393])\n",
    "\n",
    "B_int = np.dot(np.dot(C.T, XXT_inv), C)\n",
    "F = np.dot(np.dot(Psi.T, B_int), Psi) / 3 * s\n",
    "print(f'F = {F}')\n",
    "print(f'Наибольший уровень значимости, при котором еще нельзя отвергнуть гипотезу = {1 - stats.f.cdf(F, 2, size - 3)}')\n"
   ]
  },
  {
   "cell_type": "markdown",
   "id": "c9c2973bc4c17450",
   "metadata": {
    "collapsed": false
   },
   "source": [
    "Поскольку $F < x_{\\alpha} \\rightarrow$ гипотеза $H_0$ принимается"
   ]
  },
  {
   "cell_type": "markdown",
   "id": "8d36bdef26fa1641",
   "metadata": {
    "collapsed": false
   },
   "source": [
    "## Выводы\n",
    "В ходе лабораторной работы были освоены основные положения метода наименьших квадратов (МНК), статистические свойства МНК-оценок, понятия функции регрессии и роли МНК в регрессионном анализе. Были сформулированны линейные регрессионные модели, построены линии регрессии, несмещенные оценки дисперсии, гистограммы с шагом $h = 2.5$, проверены гипотезы нормальности ошибок с помощью критерия Пирсона и критерия Колмогорова, построены доверительные интервалы для параметров уровня доверия $1 - \\alpha$, доверительный эллипс уровня доверия $1-\\alpha$, сформулирована и проверена гипотеза независимой переменной $Y$ от переменной $X$.\n",
    "\n",
    "\n"
   ]
  }
 ],
 "metadata": {
  "kernelspec": {
   "display_name": "Python 3 (ipykernel)",
   "language": "python",
   "name": "python3"
  },
  "language_info": {
   "codemirror_mode": {
    "name": "ipython",
    "version": 3
   },
   "file_extension": ".py",
   "mimetype": "text/x-python",
   "name": "python",
   "nbconvert_exporter": "python",
   "pygments_lexer": "ipython3",
   "version": "3.12.0"
  }
 },
 "nbformat": 4,
 "nbformat_minor": 5
}
